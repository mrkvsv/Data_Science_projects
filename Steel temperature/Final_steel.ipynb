{
  "cells": [
    {
      "cell_type": "markdown",
      "metadata": {
        "id": "4FeldG1BYSGW"
      },
      "source": [
        "# Оптимизация производственных расходов"
      ]
    },
    {
      "cell_type": "markdown",
      "metadata": {
        "toc": true,
        "id": "CQAhflKaX7tc"
      },
      "source": [
        "<h1>Содержание<span class=\"tocSkip\"></span></h1>\n",
        "<div class=\"toc\"><ul class=\"toc-item\"><li><span><a href=\"#Знакомство-с-данными\" data-toc-modified-id=\"Знакомство-с-данными-1\"><span class=\"toc-item-num\">1&nbsp;&nbsp;</span>Знакомство с данными</a></span></li><li><span><a href=\"#Исследовательский-анализ-данных\" data-toc-modified-id=\"Исследовательский-анализ-данных-2\"><span class=\"toc-item-num\">2&nbsp;&nbsp;</span>Исследовательский анализ данных</a></span><ul class=\"toc-item\"><li><span><a href=\"#Электроды\" data-toc-modified-id=\"Электроды-2.1\"><span class=\"toc-item-num\">2.1&nbsp;&nbsp;</span>Электроды</a></span></li><li><span><a href=\"#Сыпучие-материалы\" data-toc-modified-id=\"Сыпучие-материалы-2.2\"><span class=\"toc-item-num\">2.2&nbsp;&nbsp;</span>Сыпучие материалы</a></span></li><li><span><a href=\"#Газ\" data-toc-modified-id=\"Газ-2.3\"><span class=\"toc-item-num\">2.3&nbsp;&nbsp;</span>Газ</a></span></li><li><span><a href=\"#Проволочные-материалы\" data-toc-modified-id=\"Проволочные-материалы-2.4\"><span class=\"toc-item-num\">2.4&nbsp;&nbsp;</span>Проволочные материалы</a></span></li><li><span><a href=\"#Температура\" data-toc-modified-id=\"Температура-2.5\"><span class=\"toc-item-num\">2.5&nbsp;&nbsp;</span>Температура</a></span></li></ul></li><li><span><a href=\"#Подготовка-данных\" data-toc-modified-id=\"Подготовка-данных-3\"><span class=\"toc-item-num\">3&nbsp;&nbsp;</span>Подготовка данных</a></span><ul class=\"toc-item\"><li><span><a href=\"#Электроды\" data-toc-modified-id=\"Электроды-3.1\"><span class=\"toc-item-num\">3.1&nbsp;&nbsp;</span>Электроды</a></span></li><li><span><a href=\"#Температура\" data-toc-modified-id=\"Температура-3.2\"><span class=\"toc-item-num\">3.2&nbsp;&nbsp;</span>Температура</a></span></li><li><span><a href=\"#Объединение-таблиц\" data-toc-modified-id=\"Объединение-таблиц-3.3\"><span class=\"toc-item-num\">3.3&nbsp;&nbsp;</span>Объединение таблиц</a></span></li><li><span><a href=\"#Подготовка-к-обучению-моделей\" data-toc-modified-id=\"Подготовка-к-обучению-моделей-3.4\"><span class=\"toc-item-num\">3.4&nbsp;&nbsp;</span>Подготовка к обучению моделей</a></span></li></ul></li><li><span><a href=\"#Обучение-модели\" data-toc-modified-id=\"Обучение-модели-4\"><span class=\"toc-item-num\">4&nbsp;&nbsp;</span>Обучение модели</a></span><ul class=\"toc-item\"><li><span><a href=\"#LinearRegression\" data-toc-modified-id=\"LinearRegression-4.1\"><span class=\"toc-item-num\">4.1&nbsp;&nbsp;</span>LinearRegression</a></span></li><li><span><a href=\"#Ridge\" data-toc-modified-id=\"Ridge-4.2\"><span class=\"toc-item-num\">4.2&nbsp;&nbsp;</span>Ridge</a></span></li><li><span><a href=\"#Lasso\" data-toc-modified-id=\"Lasso-4.3\"><span class=\"toc-item-num\">4.3&nbsp;&nbsp;</span>Lasso</a></span></li><li><span><a href=\"#ElasticNet\" data-toc-modified-id=\"ElasticNet-4.4\"><span class=\"toc-item-num\">4.4&nbsp;&nbsp;</span>ElasticNet</a></span></li><li><span><a href=\"#CatBoost\" data-toc-modified-id=\"CatBoost-4.5\"><span class=\"toc-item-num\">4.5&nbsp;&nbsp;</span>CatBoost</a></span></li><li><span><a href=\"#LightGBM\" data-toc-modified-id=\"LightGBM-4.6\"><span class=\"toc-item-num\">4.6&nbsp;&nbsp;</span>LightGBM</a></span></li><li><span><a href=\"#XGBoost\" data-toc-modified-id=\"XGBoost-4.7\"><span class=\"toc-item-num\">4.7&nbsp;&nbsp;</span>XGBoost</a></span></li><li><span><a href=\"#Result\" data-toc-modified-id=\"Result-4.8\"><span class=\"toc-item-num\">4.8&nbsp;&nbsp;</span>Result</a></span></li></ul></li><li><span><a href=\"#Тестирование-результатов\" data-toc-modified-id=\"Тестирование-результатов-5\"><span class=\"toc-item-num\">5&nbsp;&nbsp;</span>Тестирование результатов</a></span></li><li><span><a href=\"#Вывод\" data-toc-modified-id=\"Вывод-6\"><span class=\"toc-item-num\">6&nbsp;&nbsp;</span>Вывод</a></span></li></ul></div>"
      ]
    },
    {
      "cell_type": "markdown",
      "metadata": {
        "id": "KA7jw-bfYnEk"
      },
      "source": [
        "Чтобы оптимизировать производственные расходы, металлургический комбинат ООО «Так закаляем сталь» решил уменьшить потребление электроэнергии на этапе обработки стали. \n",
        "\n",
        "**Задача** - построить модель, которая предскажет финальную температуру стали."
      ]
    },
    {
      "cell_type": "markdown",
      "metadata": {
        "id": "1cI9V3AEZMCa"
      },
      "source": [
        "**Описание этапа обработки**\n",
        "\n",
        "Сталь обрабатывают в металлическом ковше вместимостью около 100 тонн. Чтобы ковш выдерживал высокие температуры, изнутри его облицовывают огнеупорным кирпичом. Расплавленную сталь заливают в ковш и подогревают до нужной температуры графитовыми электродами. Они установлены в крышке ковша. \n",
        "\n",
        "Из сплава выводится сера (десульфурация), добавлением примесей корректируется химический состав и отбираются пробы. Сталь легируют — изменяют её состав — подавая куски сплава из бункера для сыпучих материалов или проволоку через специальный трайб-аппарат (англ. tribe, «масса»).\n",
        "\n",
        "Перед тем как первый раз ввести легирующие добавки, измеряют температуру стали и производят её химический анализ. Потом температуру на несколько минут повышают, добавляют легирующие материалы и продувают сплав инертным газом. Затем его перемешивают и снова проводят измерения. Такой цикл повторяется до достижения целевого химического состава и оптимальной температуры плавки.\n",
        "\n",
        "Тогда расплавленная сталь отправляется на доводку металла или поступает в машину непрерывной разливки. Оттуда готовый продукт выходит в виде заготовок-слябов (англ. *slab*, «плита»)."
      ]
    },
    {
      "cell_type": "markdown",
      "metadata": {
        "id": "NP36PiZTRxRi"
      },
      "source": [
        "**Описание данных**\n",
        "\n",
        "Данные состоят из файлов, полученных из разных источников:\n",
        "\n",
        "- `data_arc.csv` — данные об электродах;\n",
        "- `data_bulk.csv` — данные о подаче сыпучих материалов (объём);\n",
        "- `data_bulk_time.csv` *—* данные о подаче сыпучих материалов (время);\n",
        "- `data_gas.csv` — данные о продувке сплава газом;\n",
        "- `data_temp.csv` — результаты измерения температуры;\n",
        "- `data_wire.csv` — данные о проволочных материалах (объём);\n",
        "- `data_wire_time.csv` — данные о проволочных материалах (время)."
      ]
    },
    {
      "cell_type": "code",
      "execution_count": null,
      "metadata": {
        "id": "RrHNkD7M36LF"
      },
      "outputs": [],
      "source": [
        "!pip install catboost --q\n",
        "!pip install optuna --q"
      ]
    },
    {
      "cell_type": "code",
      "execution_count": null,
      "metadata": {
        "id": "vnuyElu-QUj6"
      },
      "outputs": [],
      "source": [
        "import pandas as pd\n",
        "import seaborn as sns\n",
        "import numpy as np\n",
        "import matplotlib.pyplot as plt \n",
        "import catboost as cb\n",
        "import lightgbm as lgb\n",
        "import xgboost as xgb\n",
        "import optuna\n",
        "from catboost import CatBoostRegressor\n",
        "from catboost import Pool\n",
        "from sklearn.model_selection import train_test_split, cross_val_score\n",
        "from sklearn.pipeline import Pipeline\n",
        "from sklearn.preprocessing import StandardScaler\n",
        "from sklearn.model_selection import GridSearchCV, RandomizedSearchCV\n",
        "from sklearn.metrics import mean_absolute_error\n",
        "from sklearn.linear_model import LinearRegression, Lasso, Ridge, ElasticNet\n",
        "from sklearn.pipeline import Pipeline\n",
        "from sklearn.preprocessing import StandardScaler\n",
        "from scipy.stats import randint as sp_randint\n",
        "from scipy.stats import uniform as sp_randfloat"
      ]
    },
    {
      "cell_type": "code",
      "execution_count": null,
      "metadata": {
        "id": "3MJXYlkPxzA9"
      },
      "outputs": [],
      "source": [
        "plt.style.use('seaborn')"
      ]
    },
    {
      "cell_type": "code",
      "execution_count": null,
      "metadata": {
        "id": "RXv71i_qRJku"
      },
      "outputs": [],
      "source": [
        "try:\n",
        "    arc = pd.read_csv(\"/content/data_arc.csv\")\n",
        "    bulk = pd.read_csv(\"/content/data_bulk.csv\")\n",
        "    bulk_time = pd.read_csv(\"/content/data_bulk_time.csv\")\n",
        "    gas = pd.read_csv(\"/content/data_gas.csv\")\n",
        "    temp = pd.read_csv(\"/content/data_temp.csv\")\n",
        "    wire = pd.read_csv(\"/content/data_wire.csv\")\n",
        "    wire_time = pd.read_csv(\"/content/data_wire_time.csv\")\n",
        "    \n",
        "except:\n",
        "    arc = pd.read_csv(\"/datasets/final_steel/data_arc.csv\")\n",
        "    bulk = pd.read_csv(\"/datasets/final_steel/data_bulk.csv\")\n",
        "    bulk_time = pd.read_csv(\"/datasets/final_steel/data_bulk_time.csv\")\n",
        "    gas = pd.read_csv(\"/datasets/final_steel/data_gas.csv\")\n",
        "    temp = pd.read_csv(\"/datasets/final_steel/data_temp.csv\")\n",
        "    wire = pd.read_csv(\"/datasets/final_steel/data_wire.csv\")\n",
        "    wire_time = pd.read_csv(\"/datasets/final_steel/data_wire_time.csv\")"
      ]
    },
    {
      "cell_type": "markdown",
      "metadata": {
        "id": "rDnIgnVC9YaZ"
      },
      "source": [
        "## Знакомство с данными"
      ]
    },
    {
      "cell_type": "code",
      "execution_count": null,
      "metadata": {
        "colab": {
          "base_uri": "https://localhost:8080/",
          "height": 206
        },
        "id": "K100mvIzRokB",
        "outputId": "cfecec0d-bcfd-4a90-baef-f4fcb5a94c34"
      },
      "outputs": [
        {
          "data": {
            "text/html": [
              "<div>\n",
              "<style scoped>\n",
              "    .dataframe tbody tr th:only-of-type {\n",
              "        vertical-align: middle;\n",
              "    }\n",
              "\n",
              "    .dataframe tbody tr th {\n",
              "        vertical-align: top;\n",
              "    }\n",
              "\n",
              "    .dataframe thead th {\n",
              "        text-align: right;\n",
              "    }\n",
              "</style>\n",
              "<table border=\"1\" class=\"dataframe\">\n",
              "  <thead>\n",
              "    <tr style=\"text-align: right;\">\n",
              "      <th></th>\n",
              "      <th>key</th>\n",
              "      <th>Начало нагрева дугой</th>\n",
              "      <th>Конец нагрева дугой</th>\n",
              "      <th>Активная мощность</th>\n",
              "      <th>Реактивная мощность</th>\n",
              "    </tr>\n",
              "  </thead>\n",
              "  <tbody>\n",
              "    <tr>\n",
              "      <th>0</th>\n",
              "      <td>1</td>\n",
              "      <td>2019-05-03 11:02:14</td>\n",
              "      <td>2019-05-03 11:06:02</td>\n",
              "      <td>0.976059</td>\n",
              "      <td>0.687084</td>\n",
              "    </tr>\n",
              "    <tr>\n",
              "      <th>1</th>\n",
              "      <td>1</td>\n",
              "      <td>2019-05-03 11:07:28</td>\n",
              "      <td>2019-05-03 11:10:33</td>\n",
              "      <td>0.805607</td>\n",
              "      <td>0.520285</td>\n",
              "    </tr>\n",
              "    <tr>\n",
              "      <th>2</th>\n",
              "      <td>1</td>\n",
              "      <td>2019-05-03 11:11:44</td>\n",
              "      <td>2019-05-03 11:14:36</td>\n",
              "      <td>0.744363</td>\n",
              "      <td>0.498805</td>\n",
              "    </tr>\n",
              "    <tr>\n",
              "      <th>3</th>\n",
              "      <td>1</td>\n",
              "      <td>2019-05-03 11:18:14</td>\n",
              "      <td>2019-05-03 11:24:19</td>\n",
              "      <td>1.659363</td>\n",
              "      <td>1.062669</td>\n",
              "    </tr>\n",
              "    <tr>\n",
              "      <th>4</th>\n",
              "      <td>1</td>\n",
              "      <td>2019-05-03 11:26:09</td>\n",
              "      <td>2019-05-03 11:28:37</td>\n",
              "      <td>0.692755</td>\n",
              "      <td>0.414397</td>\n",
              "    </tr>\n",
              "  </tbody>\n",
              "</table>\n",
              "</div>"
            ],
            "text/plain": [
              "   key Начало нагрева дугой  Конец нагрева дугой  Активная мощность  \\\n",
              "0    1  2019-05-03 11:02:14  2019-05-03 11:06:02           0.976059   \n",
              "1    1  2019-05-03 11:07:28  2019-05-03 11:10:33           0.805607   \n",
              "2    1  2019-05-03 11:11:44  2019-05-03 11:14:36           0.744363   \n",
              "3    1  2019-05-03 11:18:14  2019-05-03 11:24:19           1.659363   \n",
              "4    1  2019-05-03 11:26:09  2019-05-03 11:28:37           0.692755   \n",
              "\n",
              "   Реактивная мощность  \n",
              "0             0.687084  \n",
              "1             0.520285  \n",
              "2             0.498805  \n",
              "3             1.062669  \n",
              "4             0.414397  "
            ]
          },
          "execution_count": 10,
          "metadata": {},
          "output_type": "execute_result"
        }
      ],
      "source": [
        "arc.head()"
      ]
    },
    {
      "cell_type": "code",
      "execution_count": null,
      "metadata": {
        "id": "2Vxnty-yFQaR"
      },
      "outputs": [],
      "source": [
        "arc.columns = ['key', 'start_arc', 'end_arc', 'active_power', 'reactive_power']"
      ]
    },
    {
      "cell_type": "code",
      "execution_count": null,
      "metadata": {
        "colab": {
          "base_uri": "https://localhost:8080/"
        },
        "id": "copo7WckRpTa",
        "outputId": "57634b1b-f940-41ca-9862-58fc304618ac"
      },
      "outputs": [
        {
          "name": "stdout",
          "output_type": "stream",
          "text": [
            "<class 'pandas.core.frame.DataFrame'>\n",
            "RangeIndex: 14876 entries, 0 to 14875\n",
            "Data columns (total 5 columns):\n",
            " #   Column          Non-Null Count  Dtype  \n",
            "---  ------          --------------  -----  \n",
            " 0   key             14876 non-null  int64  \n",
            " 1   start_arc       14876 non-null  object \n",
            " 2   end_arc         14876 non-null  object \n",
            " 3   active_power    14876 non-null  float64\n",
            " 4   reactive_power  14876 non-null  float64\n",
            "dtypes: float64(2), int64(1), object(2)\n",
            "memory usage: 581.2+ KB\n"
          ]
        }
      ],
      "source": [
        "arc.info()"
      ]
    },
    {
      "cell_type": "code",
      "execution_count": null,
      "metadata": {
        "colab": {
          "base_uri": "https://localhost:8080/"
        },
        "id": "--kdiiHnaMvK",
        "outputId": "b6b54ba3-4866-46bd-dc37-31d874e6f30a"
      },
      "outputs": [
        {
          "data": {
            "text/plain": [
              "0"
            ]
          },
          "execution_count": 13,
          "metadata": {},
          "output_type": "execute_result"
        }
      ],
      "source": [
        "arc.duplicated().sum()"
      ]
    },
    {
      "cell_type": "markdown",
      "metadata": {
        "id": "cfPAo_heZrkq"
      },
      "source": [
        "Приведем дату к формату времени."
      ]
    },
    {
      "cell_type": "code",
      "execution_count": null,
      "metadata": {
        "id": "LVKmRa1iu_wk"
      },
      "outputs": [],
      "source": [
        "arc['start_arc'] = pd.to_datetime(arc['start_arc'])\n",
        "arc['end_arc'] = pd.to_datetime(arc['end_arc'])"
      ]
    },
    {
      "cell_type": "markdown",
      "metadata": {
        "id": "N-DxBG8kaTCG"
      },
      "source": [
        "Таблица `arc` содержит данные об электродах. Активная мощность характеризует процесс преобразования электрической энергии в тепловую (полезная, реальная мощность), реактивная - величина, характеризующая нагрузки, создаваемые в электротехнических устройствах колебаниями энергии электромагнитного поля в цепи (побочный эффект, потери). Полная мощность определяется по формуле:\n",
        "$$\n",
        "S = \\sqrt{P^2+Q^2}, \n",
        "$$\n",
        "где P — активная мощность, Q — реактивная мощность\n",
        "\n",
        "Пропусков и дупликатов нет."
      ]
    },
    {
      "cell_type": "code",
      "execution_count": null,
      "metadata": {
        "colab": {
          "base_uri": "https://localhost:8080/",
          "height": 206
        },
        "id": "bkhqH9WBRqdJ",
        "outputId": "cd099e24-c9be-4d0c-ed7d-fd0d94002b03"
      },
      "outputs": [
        {
          "data": {
            "text/html": [
              "<div>\n",
              "<style scoped>\n",
              "    .dataframe tbody tr th:only-of-type {\n",
              "        vertical-align: middle;\n",
              "    }\n",
              "\n",
              "    .dataframe tbody tr th {\n",
              "        vertical-align: top;\n",
              "    }\n",
              "\n",
              "    .dataframe thead th {\n",
              "        text-align: right;\n",
              "    }\n",
              "</style>\n",
              "<table border=\"1\" class=\"dataframe\">\n",
              "  <thead>\n",
              "    <tr style=\"text-align: right;\">\n",
              "      <th></th>\n",
              "      <th>key</th>\n",
              "      <th>Bulk 1</th>\n",
              "      <th>Bulk 2</th>\n",
              "      <th>Bulk 3</th>\n",
              "      <th>Bulk 4</th>\n",
              "      <th>Bulk 5</th>\n",
              "      <th>Bulk 6</th>\n",
              "      <th>Bulk 7</th>\n",
              "      <th>Bulk 8</th>\n",
              "      <th>Bulk 9</th>\n",
              "      <th>Bulk 10</th>\n",
              "      <th>Bulk 11</th>\n",
              "      <th>Bulk 12</th>\n",
              "      <th>Bulk 13</th>\n",
              "      <th>Bulk 14</th>\n",
              "      <th>Bulk 15</th>\n",
              "    </tr>\n",
              "  </thead>\n",
              "  <tbody>\n",
              "    <tr>\n",
              "      <th>0</th>\n",
              "      <td>1</td>\n",
              "      <td>NaN</td>\n",
              "      <td>NaN</td>\n",
              "      <td>NaN</td>\n",
              "      <td>43.0</td>\n",
              "      <td>NaN</td>\n",
              "      <td>NaN</td>\n",
              "      <td>NaN</td>\n",
              "      <td>NaN</td>\n",
              "      <td>NaN</td>\n",
              "      <td>NaN</td>\n",
              "      <td>NaN</td>\n",
              "      <td>206.0</td>\n",
              "      <td>NaN</td>\n",
              "      <td>150.0</td>\n",
              "      <td>154.0</td>\n",
              "    </tr>\n",
              "    <tr>\n",
              "      <th>1</th>\n",
              "      <td>2</td>\n",
              "      <td>NaN</td>\n",
              "      <td>NaN</td>\n",
              "      <td>NaN</td>\n",
              "      <td>73.0</td>\n",
              "      <td>NaN</td>\n",
              "      <td>NaN</td>\n",
              "      <td>NaN</td>\n",
              "      <td>NaN</td>\n",
              "      <td>NaN</td>\n",
              "      <td>NaN</td>\n",
              "      <td>NaN</td>\n",
              "      <td>206.0</td>\n",
              "      <td>NaN</td>\n",
              "      <td>149.0</td>\n",
              "      <td>154.0</td>\n",
              "    </tr>\n",
              "    <tr>\n",
              "      <th>2</th>\n",
              "      <td>3</td>\n",
              "      <td>NaN</td>\n",
              "      <td>NaN</td>\n",
              "      <td>NaN</td>\n",
              "      <td>34.0</td>\n",
              "      <td>NaN</td>\n",
              "      <td>NaN</td>\n",
              "      <td>NaN</td>\n",
              "      <td>NaN</td>\n",
              "      <td>NaN</td>\n",
              "      <td>NaN</td>\n",
              "      <td>NaN</td>\n",
              "      <td>205.0</td>\n",
              "      <td>NaN</td>\n",
              "      <td>152.0</td>\n",
              "      <td>153.0</td>\n",
              "    </tr>\n",
              "    <tr>\n",
              "      <th>3</th>\n",
              "      <td>4</td>\n",
              "      <td>NaN</td>\n",
              "      <td>NaN</td>\n",
              "      <td>NaN</td>\n",
              "      <td>81.0</td>\n",
              "      <td>NaN</td>\n",
              "      <td>NaN</td>\n",
              "      <td>NaN</td>\n",
              "      <td>NaN</td>\n",
              "      <td>NaN</td>\n",
              "      <td>NaN</td>\n",
              "      <td>NaN</td>\n",
              "      <td>207.0</td>\n",
              "      <td>NaN</td>\n",
              "      <td>153.0</td>\n",
              "      <td>154.0</td>\n",
              "    </tr>\n",
              "    <tr>\n",
              "      <th>4</th>\n",
              "      <td>5</td>\n",
              "      <td>NaN</td>\n",
              "      <td>NaN</td>\n",
              "      <td>NaN</td>\n",
              "      <td>78.0</td>\n",
              "      <td>NaN</td>\n",
              "      <td>NaN</td>\n",
              "      <td>NaN</td>\n",
              "      <td>NaN</td>\n",
              "      <td>NaN</td>\n",
              "      <td>NaN</td>\n",
              "      <td>NaN</td>\n",
              "      <td>203.0</td>\n",
              "      <td>NaN</td>\n",
              "      <td>151.0</td>\n",
              "      <td>152.0</td>\n",
              "    </tr>\n",
              "  </tbody>\n",
              "</table>\n",
              "</div>"
            ],
            "text/plain": [
              "   key  Bulk 1  Bulk 2  Bulk 3  Bulk 4  Bulk 5  Bulk 6  Bulk 7  Bulk 8  \\\n",
              "0    1     NaN     NaN     NaN    43.0     NaN     NaN     NaN     NaN   \n",
              "1    2     NaN     NaN     NaN    73.0     NaN     NaN     NaN     NaN   \n",
              "2    3     NaN     NaN     NaN    34.0     NaN     NaN     NaN     NaN   \n",
              "3    4     NaN     NaN     NaN    81.0     NaN     NaN     NaN     NaN   \n",
              "4    5     NaN     NaN     NaN    78.0     NaN     NaN     NaN     NaN   \n",
              "\n",
              "   Bulk 9  Bulk 10  Bulk 11  Bulk 12  Bulk 13  Bulk 14  Bulk 15  \n",
              "0     NaN      NaN      NaN    206.0      NaN    150.0    154.0  \n",
              "1     NaN      NaN      NaN    206.0      NaN    149.0    154.0  \n",
              "2     NaN      NaN      NaN    205.0      NaN    152.0    153.0  \n",
              "3     NaN      NaN      NaN    207.0      NaN    153.0    154.0  \n",
              "4     NaN      NaN      NaN    203.0      NaN    151.0    152.0  "
            ]
          },
          "execution_count": 15,
          "metadata": {},
          "output_type": "execute_result"
        }
      ],
      "source": [
        "bulk.head()"
      ]
    },
    {
      "cell_type": "code",
      "execution_count": null,
      "metadata": {
        "colab": {
          "base_uri": "https://localhost:8080/"
        },
        "id": "isCBLQyWRrHm",
        "outputId": "88af21ab-3d94-4ce5-bcc6-147e6554ea5c"
      },
      "outputs": [
        {
          "name": "stdout",
          "output_type": "stream",
          "text": [
            "<class 'pandas.core.frame.DataFrame'>\n",
            "RangeIndex: 3129 entries, 0 to 3128\n",
            "Data columns (total 16 columns):\n",
            " #   Column   Non-Null Count  Dtype  \n",
            "---  ------   --------------  -----  \n",
            " 0   key      3129 non-null   int64  \n",
            " 1   Bulk 1   252 non-null    float64\n",
            " 2   Bulk 2   22 non-null     float64\n",
            " 3   Bulk 3   1298 non-null   float64\n",
            " 4   Bulk 4   1014 non-null   float64\n",
            " 5   Bulk 5   77 non-null     float64\n",
            " 6   Bulk 6   576 non-null    float64\n",
            " 7   Bulk 7   25 non-null     float64\n",
            " 8   Bulk 8   1 non-null      float64\n",
            " 9   Bulk 9   19 non-null     float64\n",
            " 10  Bulk 10  176 non-null    float64\n",
            " 11  Bulk 11  177 non-null    float64\n",
            " 12  Bulk 12  2450 non-null   float64\n",
            " 13  Bulk 13  18 non-null     float64\n",
            " 14  Bulk 14  2806 non-null   float64\n",
            " 15  Bulk 15  2248 non-null   float64\n",
            "dtypes: float64(15), int64(1)\n",
            "memory usage: 391.2 KB\n"
          ]
        }
      ],
      "source": [
        "bulk.info()"
      ]
    },
    {
      "cell_type": "code",
      "execution_count": null,
      "metadata": {
        "colab": {
          "base_uri": "https://localhost:8080/"
        },
        "id": "S7ao2YgOaxCx",
        "outputId": "897014ce-8cac-4193-f344-83840b8bb038"
      },
      "outputs": [
        {
          "data": {
            "text/plain": [
              "0"
            ]
          },
          "execution_count": 17,
          "metadata": {},
          "output_type": "execute_result"
        }
      ],
      "source": [
        "bulk.duplicated().sum()"
      ]
    },
    {
      "cell_type": "markdown",
      "metadata": {
        "id": "51HlMBZCaiKd"
      },
      "source": [
        "Таблица `bulk` хранит данные об объеме подаче сыпучих материалов. Всего представлено 15 сыпучих материалов. При плавке металла определяют каких веществ не хватает, чтобы получить определенную марку стали, поэтому добавляют сыпучие вещества.\n",
        "В данных много пропусков, так как для определенной партии добавляют только некоторые, недостающие вещества."
      ]
    },
    {
      "cell_type": "code",
      "execution_count": null,
      "metadata": {
        "colab": {
          "base_uri": "https://localhost:8080/",
          "height": 354
        },
        "id": "O5SbtU3xRsUi",
        "outputId": "03084b88-d8c4-47e9-f970-53f674645a74"
      },
      "outputs": [
        {
          "data": {
            "text/html": [
              "<div>\n",
              "<style scoped>\n",
              "    .dataframe tbody tr th:only-of-type {\n",
              "        vertical-align: middle;\n",
              "    }\n",
              "\n",
              "    .dataframe tbody tr th {\n",
              "        vertical-align: top;\n",
              "    }\n",
              "\n",
              "    .dataframe thead th {\n",
              "        text-align: right;\n",
              "    }\n",
              "</style>\n",
              "<table border=\"1\" class=\"dataframe\">\n",
              "  <thead>\n",
              "    <tr style=\"text-align: right;\">\n",
              "      <th></th>\n",
              "      <th>key</th>\n",
              "      <th>Bulk 1</th>\n",
              "      <th>Bulk 2</th>\n",
              "      <th>Bulk 3</th>\n",
              "      <th>Bulk 4</th>\n",
              "      <th>Bulk 5</th>\n",
              "      <th>Bulk 6</th>\n",
              "      <th>Bulk 7</th>\n",
              "      <th>Bulk 8</th>\n",
              "      <th>Bulk 9</th>\n",
              "      <th>Bulk 10</th>\n",
              "      <th>Bulk 11</th>\n",
              "      <th>Bulk 12</th>\n",
              "      <th>Bulk 13</th>\n",
              "      <th>Bulk 14</th>\n",
              "      <th>Bulk 15</th>\n",
              "    </tr>\n",
              "  </thead>\n",
              "  <tbody>\n",
              "    <tr>\n",
              "      <th>0</th>\n",
              "      <td>1</td>\n",
              "      <td>NaN</td>\n",
              "      <td>NaN</td>\n",
              "      <td>NaN</td>\n",
              "      <td>2019-05-03 11:21:30</td>\n",
              "      <td>NaN</td>\n",
              "      <td>NaN</td>\n",
              "      <td>NaN</td>\n",
              "      <td>NaN</td>\n",
              "      <td>NaN</td>\n",
              "      <td>NaN</td>\n",
              "      <td>NaN</td>\n",
              "      <td>2019-05-03 11:03:52</td>\n",
              "      <td>NaN</td>\n",
              "      <td>2019-05-03 11:03:52</td>\n",
              "      <td>2019-05-03 11:03:52</td>\n",
              "    </tr>\n",
              "    <tr>\n",
              "      <th>1</th>\n",
              "      <td>2</td>\n",
              "      <td>NaN</td>\n",
              "      <td>NaN</td>\n",
              "      <td>NaN</td>\n",
              "      <td>2019-05-03 11:46:38</td>\n",
              "      <td>NaN</td>\n",
              "      <td>NaN</td>\n",
              "      <td>NaN</td>\n",
              "      <td>NaN</td>\n",
              "      <td>NaN</td>\n",
              "      <td>NaN</td>\n",
              "      <td>NaN</td>\n",
              "      <td>2019-05-03 11:40:20</td>\n",
              "      <td>NaN</td>\n",
              "      <td>2019-05-03 11:40:20</td>\n",
              "      <td>2019-05-03 11:40:20</td>\n",
              "    </tr>\n",
              "    <tr>\n",
              "      <th>2</th>\n",
              "      <td>3</td>\n",
              "      <td>NaN</td>\n",
              "      <td>NaN</td>\n",
              "      <td>NaN</td>\n",
              "      <td>2019-05-03 12:31:06</td>\n",
              "      <td>NaN</td>\n",
              "      <td>NaN</td>\n",
              "      <td>NaN</td>\n",
              "      <td>NaN</td>\n",
              "      <td>NaN</td>\n",
              "      <td>NaN</td>\n",
              "      <td>NaN</td>\n",
              "      <td>2019-05-03 12:09:40</td>\n",
              "      <td>NaN</td>\n",
              "      <td>2019-05-03 12:09:40</td>\n",
              "      <td>2019-05-03 12:09:40</td>\n",
              "    </tr>\n",
              "    <tr>\n",
              "      <th>3</th>\n",
              "      <td>4</td>\n",
              "      <td>NaN</td>\n",
              "      <td>NaN</td>\n",
              "      <td>NaN</td>\n",
              "      <td>2019-05-03 12:48:43</td>\n",
              "      <td>NaN</td>\n",
              "      <td>NaN</td>\n",
              "      <td>NaN</td>\n",
              "      <td>NaN</td>\n",
              "      <td>NaN</td>\n",
              "      <td>NaN</td>\n",
              "      <td>NaN</td>\n",
              "      <td>2019-05-03 12:41:24</td>\n",
              "      <td>NaN</td>\n",
              "      <td>2019-05-03 12:41:24</td>\n",
              "      <td>2019-05-03 12:41:24</td>\n",
              "    </tr>\n",
              "    <tr>\n",
              "      <th>4</th>\n",
              "      <td>5</td>\n",
              "      <td>NaN</td>\n",
              "      <td>NaN</td>\n",
              "      <td>NaN</td>\n",
              "      <td>2019-05-03 13:18:50</td>\n",
              "      <td>NaN</td>\n",
              "      <td>NaN</td>\n",
              "      <td>NaN</td>\n",
              "      <td>NaN</td>\n",
              "      <td>NaN</td>\n",
              "      <td>NaN</td>\n",
              "      <td>NaN</td>\n",
              "      <td>2019-05-03 13:12:56</td>\n",
              "      <td>NaN</td>\n",
              "      <td>2019-05-03 13:12:56</td>\n",
              "      <td>2019-05-03 13:12:56</td>\n",
              "    </tr>\n",
              "  </tbody>\n",
              "</table>\n",
              "</div>"
            ],
            "text/plain": [
              "   key Bulk 1 Bulk 2 Bulk 3               Bulk 4 Bulk 5 Bulk 6 Bulk 7 Bulk 8  \\\n",
              "0    1    NaN    NaN    NaN  2019-05-03 11:21:30    NaN    NaN    NaN    NaN   \n",
              "1    2    NaN    NaN    NaN  2019-05-03 11:46:38    NaN    NaN    NaN    NaN   \n",
              "2    3    NaN    NaN    NaN  2019-05-03 12:31:06    NaN    NaN    NaN    NaN   \n",
              "3    4    NaN    NaN    NaN  2019-05-03 12:48:43    NaN    NaN    NaN    NaN   \n",
              "4    5    NaN    NaN    NaN  2019-05-03 13:18:50    NaN    NaN    NaN    NaN   \n",
              "\n",
              "  Bulk 9 Bulk 10 Bulk 11              Bulk 12 Bulk 13              Bulk 14  \\\n",
              "0    NaN     NaN     NaN  2019-05-03 11:03:52     NaN  2019-05-03 11:03:52   \n",
              "1    NaN     NaN     NaN  2019-05-03 11:40:20     NaN  2019-05-03 11:40:20   \n",
              "2    NaN     NaN     NaN  2019-05-03 12:09:40     NaN  2019-05-03 12:09:40   \n",
              "3    NaN     NaN     NaN  2019-05-03 12:41:24     NaN  2019-05-03 12:41:24   \n",
              "4    NaN     NaN     NaN  2019-05-03 13:12:56     NaN  2019-05-03 13:12:56   \n",
              "\n",
              "               Bulk 15  \n",
              "0  2019-05-03 11:03:52  \n",
              "1  2019-05-03 11:40:20  \n",
              "2  2019-05-03 12:09:40  \n",
              "3  2019-05-03 12:41:24  \n",
              "4  2019-05-03 13:12:56  "
            ]
          },
          "execution_count": 18,
          "metadata": {},
          "output_type": "execute_result"
        }
      ],
      "source": [
        "bulk_time.head()"
      ]
    },
    {
      "cell_type": "code",
      "execution_count": null,
      "metadata": {
        "colab": {
          "base_uri": "https://localhost:8080/"
        },
        "id": "SaNVqh2HR9OZ",
        "outputId": "f26e9572-fd03-4be9-a943-c49c75531d0a"
      },
      "outputs": [
        {
          "name": "stdout",
          "output_type": "stream",
          "text": [
            "<class 'pandas.core.frame.DataFrame'>\n",
            "RangeIndex: 3129 entries, 0 to 3128\n",
            "Data columns (total 16 columns):\n",
            " #   Column   Non-Null Count  Dtype \n",
            "---  ------   --------------  ----- \n",
            " 0   key      3129 non-null   int64 \n",
            " 1   Bulk 1   252 non-null    object\n",
            " 2   Bulk 2   22 non-null     object\n",
            " 3   Bulk 3   1298 non-null   object\n",
            " 4   Bulk 4   1014 non-null   object\n",
            " 5   Bulk 5   77 non-null     object\n",
            " 6   Bulk 6   576 non-null    object\n",
            " 7   Bulk 7   25 non-null     object\n",
            " 8   Bulk 8   1 non-null      object\n",
            " 9   Bulk 9   19 non-null     object\n",
            " 10  Bulk 10  176 non-null    object\n",
            " 11  Bulk 11  177 non-null    object\n",
            " 12  Bulk 12  2450 non-null   object\n",
            " 13  Bulk 13  18 non-null     object\n",
            " 14  Bulk 14  2806 non-null   object\n",
            " 15  Bulk 15  2248 non-null   object\n",
            "dtypes: int64(1), object(15)\n",
            "memory usage: 391.2+ KB\n"
          ]
        }
      ],
      "source": [
        "bulk_time.info()"
      ]
    },
    {
      "cell_type": "code",
      "execution_count": null,
      "metadata": {
        "id": "DQHr9K6uvejo"
      },
      "outputs": [],
      "source": [
        "for col in bulk_time.columns:\n",
        "    if col != 'key':\n",
        "        bulk_time[col] = pd.to_datetime(bulk_time[col])"
      ]
    },
    {
      "cell_type": "code",
      "execution_count": null,
      "metadata": {
        "colab": {
          "base_uri": "https://localhost:8080/"
        },
        "id": "e59onuBwgtUD",
        "outputId": "b3ba7498-679f-4bb7-b27a-87c599bd54d1"
      },
      "outputs": [
        {
          "data": {
            "text/plain": [
              "0"
            ]
          },
          "execution_count": 21,
          "metadata": {},
          "output_type": "execute_result"
        }
      ],
      "source": [
        "bulk_time.duplicated().sum()"
      ]
    },
    {
      "cell_type": "markdown",
      "metadata": {
        "id": "9_yW86Zzf7OL"
      },
      "source": [
        "Таблица `bulk_time` содержит данные о времени подачи сыпучих материалов. Количество пропусков идентично пропускам в таблице с объемом материалов, и обусловлено теми же причинами. "
      ]
    },
    {
      "cell_type": "code",
      "execution_count": null,
      "metadata": {
        "colab": {
          "base_uri": "https://localhost:8080/",
          "height": 206
        },
        "id": "IB_R2zi1R__J",
        "outputId": "e82a26c8-1d32-49f4-9365-bd8644d5d527"
      },
      "outputs": [
        {
          "data": {
            "text/html": [
              "<div>\n",
              "<style scoped>\n",
              "    .dataframe tbody tr th:only-of-type {\n",
              "        vertical-align: middle;\n",
              "    }\n",
              "\n",
              "    .dataframe tbody tr th {\n",
              "        vertical-align: top;\n",
              "    }\n",
              "\n",
              "    .dataframe thead th {\n",
              "        text-align: right;\n",
              "    }\n",
              "</style>\n",
              "<table border=\"1\" class=\"dataframe\">\n",
              "  <thead>\n",
              "    <tr style=\"text-align: right;\">\n",
              "      <th></th>\n",
              "      <th>key</th>\n",
              "      <th>Газ 1</th>\n",
              "    </tr>\n",
              "  </thead>\n",
              "  <tbody>\n",
              "    <tr>\n",
              "      <th>0</th>\n",
              "      <td>1</td>\n",
              "      <td>29.749986</td>\n",
              "    </tr>\n",
              "    <tr>\n",
              "      <th>1</th>\n",
              "      <td>2</td>\n",
              "      <td>12.555561</td>\n",
              "    </tr>\n",
              "    <tr>\n",
              "      <th>2</th>\n",
              "      <td>3</td>\n",
              "      <td>28.554793</td>\n",
              "    </tr>\n",
              "    <tr>\n",
              "      <th>3</th>\n",
              "      <td>4</td>\n",
              "      <td>18.841219</td>\n",
              "    </tr>\n",
              "    <tr>\n",
              "      <th>4</th>\n",
              "      <td>5</td>\n",
              "      <td>5.413692</td>\n",
              "    </tr>\n",
              "  </tbody>\n",
              "</table>\n",
              "</div>"
            ],
            "text/plain": [
              "   key      Газ 1\n",
              "0    1  29.749986\n",
              "1    2  12.555561\n",
              "2    3  28.554793\n",
              "3    4  18.841219\n",
              "4    5   5.413692"
            ]
          },
          "execution_count": 22,
          "metadata": {},
          "output_type": "execute_result"
        }
      ],
      "source": [
        "gas.head()"
      ]
    },
    {
      "cell_type": "code",
      "execution_count": null,
      "metadata": {
        "id": "zN_MOr3zGCeq"
      },
      "outputs": [],
      "source": [
        "gas.columns = ['key', 'gas']"
      ]
    },
    {
      "cell_type": "code",
      "execution_count": null,
      "metadata": {
        "colab": {
          "base_uri": "https://localhost:8080/"
        },
        "id": "BoVv7G0USA9p",
        "outputId": "91793c5f-e981-445c-f779-2fd4a527c8bf"
      },
      "outputs": [
        {
          "name": "stdout",
          "output_type": "stream",
          "text": [
            "<class 'pandas.core.frame.DataFrame'>\n",
            "RangeIndex: 3239 entries, 0 to 3238\n",
            "Data columns (total 2 columns):\n",
            " #   Column  Non-Null Count  Dtype  \n",
            "---  ------  --------------  -----  \n",
            " 0   key     3239 non-null   int64  \n",
            " 1   gas     3239 non-null   float64\n",
            "dtypes: float64(1), int64(1)\n",
            "memory usage: 50.7 KB\n"
          ]
        }
      ],
      "source": [
        "gas.info()"
      ]
    },
    {
      "cell_type": "code",
      "execution_count": null,
      "metadata": {
        "colab": {
          "base_uri": "https://localhost:8080/"
        },
        "id": "cfku7JXgg9nC",
        "outputId": "ba964c20-dc79-4bd5-8ebe-6c38651559c0"
      },
      "outputs": [
        {
          "data": {
            "text/plain": [
              "0"
            ]
          },
          "execution_count": 25,
          "metadata": {},
          "output_type": "execute_result"
        }
      ],
      "source": [
        "gas.duplicated().sum()"
      ]
    },
    {
      "cell_type": "markdown",
      "metadata": {
        "id": "pyPaCTy-gxzg"
      },
      "source": [
        "Таблица `gas` хранит информацию о продувке сплава газом. Пропуски и дупликаты строк отсутсвуют."
      ]
    },
    {
      "cell_type": "code",
      "execution_count": null,
      "metadata": {
        "colab": {
          "base_uri": "https://localhost:8080/",
          "height": 206
        },
        "id": "De_AYRP8SDrI",
        "outputId": "56360e44-56c2-4853-bc45-c91214766a58"
      },
      "outputs": [
        {
          "data": {
            "text/html": [
              "<div>\n",
              "<style scoped>\n",
              "    .dataframe tbody tr th:only-of-type {\n",
              "        vertical-align: middle;\n",
              "    }\n",
              "\n",
              "    .dataframe tbody tr th {\n",
              "        vertical-align: top;\n",
              "    }\n",
              "\n",
              "    .dataframe thead th {\n",
              "        text-align: right;\n",
              "    }\n",
              "</style>\n",
              "<table border=\"1\" class=\"dataframe\">\n",
              "  <thead>\n",
              "    <tr style=\"text-align: right;\">\n",
              "      <th></th>\n",
              "      <th>key</th>\n",
              "      <th>Время замера</th>\n",
              "      <th>Температура</th>\n",
              "    </tr>\n",
              "  </thead>\n",
              "  <tbody>\n",
              "    <tr>\n",
              "      <th>0</th>\n",
              "      <td>1</td>\n",
              "      <td>2019-05-03 11:16:18</td>\n",
              "      <td>1571.0</td>\n",
              "    </tr>\n",
              "    <tr>\n",
              "      <th>1</th>\n",
              "      <td>1</td>\n",
              "      <td>2019-05-03 11:25:53</td>\n",
              "      <td>1604.0</td>\n",
              "    </tr>\n",
              "    <tr>\n",
              "      <th>2</th>\n",
              "      <td>1</td>\n",
              "      <td>2019-05-03 11:29:11</td>\n",
              "      <td>1618.0</td>\n",
              "    </tr>\n",
              "    <tr>\n",
              "      <th>3</th>\n",
              "      <td>1</td>\n",
              "      <td>2019-05-03 11:30:01</td>\n",
              "      <td>1601.0</td>\n",
              "    </tr>\n",
              "    <tr>\n",
              "      <th>4</th>\n",
              "      <td>1</td>\n",
              "      <td>2019-05-03 11:30:39</td>\n",
              "      <td>1613.0</td>\n",
              "    </tr>\n",
              "  </tbody>\n",
              "</table>\n",
              "</div>"
            ],
            "text/plain": [
              "   key         Время замера  Температура\n",
              "0    1  2019-05-03 11:16:18       1571.0\n",
              "1    1  2019-05-03 11:25:53       1604.0\n",
              "2    1  2019-05-03 11:29:11       1618.0\n",
              "3    1  2019-05-03 11:30:01       1601.0\n",
              "4    1  2019-05-03 11:30:39       1613.0"
            ]
          },
          "execution_count": 26,
          "metadata": {},
          "output_type": "execute_result"
        }
      ],
      "source": [
        "temp.head()"
      ]
    },
    {
      "cell_type": "code",
      "execution_count": null,
      "metadata": {
        "id": "jXJkwm9QGI61"
      },
      "outputs": [],
      "source": [
        "temp.columns = ['key', 'time_sample', 'temp']"
      ]
    },
    {
      "cell_type": "code",
      "execution_count": null,
      "metadata": {
        "colab": {
          "base_uri": "https://localhost:8080/"
        },
        "id": "YX-ehz0wSGFO",
        "outputId": "d18ac044-1929-4058-8c25-fbef28805540"
      },
      "outputs": [
        {
          "name": "stdout",
          "output_type": "stream",
          "text": [
            "<class 'pandas.core.frame.DataFrame'>\n",
            "RangeIndex: 15907 entries, 0 to 15906\n",
            "Data columns (total 3 columns):\n",
            " #   Column       Non-Null Count  Dtype  \n",
            "---  ------       --------------  -----  \n",
            " 0   key          15907 non-null  int64  \n",
            " 1   time_sample  15907 non-null  object \n",
            " 2   temp         13006 non-null  float64\n",
            "dtypes: float64(1), int64(1), object(1)\n",
            "memory usage: 372.9+ KB\n"
          ]
        }
      ],
      "source": [
        "temp.info()"
      ]
    },
    {
      "cell_type": "code",
      "execution_count": null,
      "metadata": {
        "colab": {
          "base_uri": "https://localhost:8080/"
        },
        "id": "RbimGm1GhMRa",
        "outputId": "43438a84-ba44-4017-c6e9-93e2e8318ef8"
      },
      "outputs": [
        {
          "data": {
            "text/plain": [
              "0"
            ]
          },
          "execution_count": 29,
          "metadata": {},
          "output_type": "execute_result"
        }
      ],
      "source": [
        "temp.duplicated().sum()"
      ]
    },
    {
      "cell_type": "code",
      "execution_count": null,
      "metadata": {
        "id": "xdrQpSG9xZ-Z"
      },
      "outputs": [],
      "source": [
        "temp['time_sample'] = pd.to_datetime(temp['time_sample'])"
      ]
    },
    {
      "cell_type": "markdown",
      "metadata": {
        "id": "P5SL1d4RhKZ-"
      },
      "source": [
        "Таблица `temp` отражает температуру стали на различных этапах плавки.  \n",
        "В столбце `Температура` присутсвуют пропуски."
      ]
    },
    {
      "cell_type": "code",
      "execution_count": null,
      "metadata": {
        "colab": {
          "base_uri": "https://localhost:8080/",
          "height": 269
        },
        "id": "u9zC5dyeSHzw",
        "outputId": "9d1615c4-22c8-40d3-f879-0140634696c7"
      },
      "outputs": [
        {
          "data": {
            "text/html": [
              "<div>\n",
              "<style scoped>\n",
              "    .dataframe tbody tr th:only-of-type {\n",
              "        vertical-align: middle;\n",
              "    }\n",
              "\n",
              "    .dataframe tbody tr th {\n",
              "        vertical-align: top;\n",
              "    }\n",
              "\n",
              "    .dataframe thead th {\n",
              "        text-align: right;\n",
              "    }\n",
              "</style>\n",
              "<table border=\"1\" class=\"dataframe\">\n",
              "  <thead>\n",
              "    <tr style=\"text-align: right;\">\n",
              "      <th></th>\n",
              "      <th>key</th>\n",
              "      <th>Wire 1</th>\n",
              "      <th>Wire 2</th>\n",
              "      <th>Wire 3</th>\n",
              "      <th>Wire 4</th>\n",
              "      <th>Wire 5</th>\n",
              "      <th>Wire 6</th>\n",
              "      <th>Wire 7</th>\n",
              "      <th>Wire 8</th>\n",
              "      <th>Wire 9</th>\n",
              "    </tr>\n",
              "  </thead>\n",
              "  <tbody>\n",
              "    <tr>\n",
              "      <th>0</th>\n",
              "      <td>1</td>\n",
              "      <td>60.059998</td>\n",
              "      <td>NaN</td>\n",
              "      <td>NaN</td>\n",
              "      <td>NaN</td>\n",
              "      <td>NaN</td>\n",
              "      <td>NaN</td>\n",
              "      <td>NaN</td>\n",
              "      <td>NaN</td>\n",
              "      <td>NaN</td>\n",
              "    </tr>\n",
              "    <tr>\n",
              "      <th>1</th>\n",
              "      <td>2</td>\n",
              "      <td>96.052315</td>\n",
              "      <td>NaN</td>\n",
              "      <td>NaN</td>\n",
              "      <td>NaN</td>\n",
              "      <td>NaN</td>\n",
              "      <td>NaN</td>\n",
              "      <td>NaN</td>\n",
              "      <td>NaN</td>\n",
              "      <td>NaN</td>\n",
              "    </tr>\n",
              "    <tr>\n",
              "      <th>2</th>\n",
              "      <td>3</td>\n",
              "      <td>91.160157</td>\n",
              "      <td>NaN</td>\n",
              "      <td>NaN</td>\n",
              "      <td>NaN</td>\n",
              "      <td>NaN</td>\n",
              "      <td>NaN</td>\n",
              "      <td>NaN</td>\n",
              "      <td>NaN</td>\n",
              "      <td>NaN</td>\n",
              "    </tr>\n",
              "    <tr>\n",
              "      <th>3</th>\n",
              "      <td>4</td>\n",
              "      <td>89.063515</td>\n",
              "      <td>NaN</td>\n",
              "      <td>NaN</td>\n",
              "      <td>NaN</td>\n",
              "      <td>NaN</td>\n",
              "      <td>NaN</td>\n",
              "      <td>NaN</td>\n",
              "      <td>NaN</td>\n",
              "      <td>NaN</td>\n",
              "    </tr>\n",
              "    <tr>\n",
              "      <th>4</th>\n",
              "      <td>5</td>\n",
              "      <td>89.238236</td>\n",
              "      <td>9.11456</td>\n",
              "      <td>NaN</td>\n",
              "      <td>NaN</td>\n",
              "      <td>NaN</td>\n",
              "      <td>NaN</td>\n",
              "      <td>NaN</td>\n",
              "      <td>NaN</td>\n",
              "      <td>NaN</td>\n",
              "    </tr>\n",
              "    <tr>\n",
              "      <th>5</th>\n",
              "      <td>6</td>\n",
              "      <td>99.109917</td>\n",
              "      <td>9.11456</td>\n",
              "      <td>NaN</td>\n",
              "      <td>NaN</td>\n",
              "      <td>NaN</td>\n",
              "      <td>NaN</td>\n",
              "      <td>NaN</td>\n",
              "      <td>NaN</td>\n",
              "      <td>NaN</td>\n",
              "    </tr>\n",
              "    <tr>\n",
              "      <th>6</th>\n",
              "      <td>7</td>\n",
              "      <td>98.061600</td>\n",
              "      <td>NaN</td>\n",
              "      <td>NaN</td>\n",
              "      <td>NaN</td>\n",
              "      <td>NaN</td>\n",
              "      <td>NaN</td>\n",
              "      <td>NaN</td>\n",
              "      <td>NaN</td>\n",
              "      <td>NaN</td>\n",
              "    </tr>\n",
              "  </tbody>\n",
              "</table>\n",
              "</div>"
            ],
            "text/plain": [
              "   key     Wire 1   Wire 2  Wire 3  Wire 4  Wire 5  Wire 6  Wire 7  Wire 8  \\\n",
              "0    1  60.059998      NaN     NaN     NaN     NaN     NaN     NaN     NaN   \n",
              "1    2  96.052315      NaN     NaN     NaN     NaN     NaN     NaN     NaN   \n",
              "2    3  91.160157      NaN     NaN     NaN     NaN     NaN     NaN     NaN   \n",
              "3    4  89.063515      NaN     NaN     NaN     NaN     NaN     NaN     NaN   \n",
              "4    5  89.238236  9.11456     NaN     NaN     NaN     NaN     NaN     NaN   \n",
              "5    6  99.109917  9.11456     NaN     NaN     NaN     NaN     NaN     NaN   \n",
              "6    7  98.061600      NaN     NaN     NaN     NaN     NaN     NaN     NaN   \n",
              "\n",
              "   Wire 9  \n",
              "0     NaN  \n",
              "1     NaN  \n",
              "2     NaN  \n",
              "3     NaN  \n",
              "4     NaN  \n",
              "5     NaN  \n",
              "6     NaN  "
            ]
          },
          "execution_count": 31,
          "metadata": {},
          "output_type": "execute_result"
        }
      ],
      "source": [
        "wire.head(7)"
      ]
    },
    {
      "cell_type": "code",
      "execution_count": null,
      "metadata": {
        "colab": {
          "base_uri": "https://localhost:8080/"
        },
        "id": "1auiRZ-gSIhT",
        "outputId": "146ea74f-01c8-4d8e-e24b-2fac241afd74"
      },
      "outputs": [
        {
          "name": "stdout",
          "output_type": "stream",
          "text": [
            "<class 'pandas.core.frame.DataFrame'>\n",
            "RangeIndex: 3081 entries, 0 to 3080\n",
            "Data columns (total 10 columns):\n",
            " #   Column  Non-Null Count  Dtype  \n",
            "---  ------  --------------  -----  \n",
            " 0   key     3081 non-null   int64  \n",
            " 1   Wire 1  3055 non-null   float64\n",
            " 2   Wire 2  1079 non-null   float64\n",
            " 3   Wire 3  63 non-null     float64\n",
            " 4   Wire 4  14 non-null     float64\n",
            " 5   Wire 5  1 non-null      float64\n",
            " 6   Wire 6  73 non-null     float64\n",
            " 7   Wire 7  11 non-null     float64\n",
            " 8   Wire 8  19 non-null     float64\n",
            " 9   Wire 9  29 non-null     float64\n",
            "dtypes: float64(9), int64(1)\n",
            "memory usage: 240.8 KB\n"
          ]
        }
      ],
      "source": [
        "wire.info()"
      ]
    },
    {
      "cell_type": "code",
      "execution_count": null,
      "metadata": {
        "colab": {
          "base_uri": "https://localhost:8080/"
        },
        "id": "7VYrI-IUhzUM",
        "outputId": "b2bcf474-8fd5-4318-c125-ed9973f55952"
      },
      "outputs": [
        {
          "data": {
            "text/plain": [
              "0"
            ]
          },
          "execution_count": 33,
          "metadata": {},
          "output_type": "execute_result"
        }
      ],
      "source": [
        "wire.duplicated().sum()"
      ]
    },
    {
      "cell_type": "markdown",
      "metadata": {
        "id": "0eV_KQW1hyt1"
      },
      "source": [
        "Таблица `wire` содержит данные об объеме проволочных материалах. Всего представлено 9 видов проволочных материалов. Как и с сыпучими материалами, проволочные добавляют, чтобы получить определенную марку стали, в зависимости от исходного материала."
      ]
    },
    {
      "cell_type": "code",
      "execution_count": null,
      "metadata": {
        "colab": {
          "base_uri": "https://localhost:8080/",
          "height": 269
        },
        "id": "u__mV6EQSKk1",
        "outputId": "fc3d4502-a053-4856-875b-32a264a2cf4f"
      },
      "outputs": [
        {
          "data": {
            "text/html": [
              "<div>\n",
              "<style scoped>\n",
              "    .dataframe tbody tr th:only-of-type {\n",
              "        vertical-align: middle;\n",
              "    }\n",
              "\n",
              "    .dataframe tbody tr th {\n",
              "        vertical-align: top;\n",
              "    }\n",
              "\n",
              "    .dataframe thead th {\n",
              "        text-align: right;\n",
              "    }\n",
              "</style>\n",
              "<table border=\"1\" class=\"dataframe\">\n",
              "  <thead>\n",
              "    <tr style=\"text-align: right;\">\n",
              "      <th></th>\n",
              "      <th>key</th>\n",
              "      <th>Wire 1</th>\n",
              "      <th>Wire 2</th>\n",
              "      <th>Wire 3</th>\n",
              "      <th>Wire 4</th>\n",
              "      <th>Wire 5</th>\n",
              "      <th>Wire 6</th>\n",
              "      <th>Wire 7</th>\n",
              "      <th>Wire 8</th>\n",
              "      <th>Wire 9</th>\n",
              "    </tr>\n",
              "  </thead>\n",
              "  <tbody>\n",
              "    <tr>\n",
              "      <th>0</th>\n",
              "      <td>1</td>\n",
              "      <td>2019-05-03 11:11:41</td>\n",
              "      <td>NaN</td>\n",
              "      <td>NaN</td>\n",
              "      <td>NaN</td>\n",
              "      <td>NaN</td>\n",
              "      <td>NaN</td>\n",
              "      <td>NaN</td>\n",
              "      <td>NaN</td>\n",
              "      <td>NaN</td>\n",
              "    </tr>\n",
              "    <tr>\n",
              "      <th>1</th>\n",
              "      <td>2</td>\n",
              "      <td>2019-05-03 11:46:10</td>\n",
              "      <td>NaN</td>\n",
              "      <td>NaN</td>\n",
              "      <td>NaN</td>\n",
              "      <td>NaN</td>\n",
              "      <td>NaN</td>\n",
              "      <td>NaN</td>\n",
              "      <td>NaN</td>\n",
              "      <td>NaN</td>\n",
              "    </tr>\n",
              "    <tr>\n",
              "      <th>2</th>\n",
              "      <td>3</td>\n",
              "      <td>2019-05-03 12:13:47</td>\n",
              "      <td>NaN</td>\n",
              "      <td>NaN</td>\n",
              "      <td>NaN</td>\n",
              "      <td>NaN</td>\n",
              "      <td>NaN</td>\n",
              "      <td>NaN</td>\n",
              "      <td>NaN</td>\n",
              "      <td>NaN</td>\n",
              "    </tr>\n",
              "    <tr>\n",
              "      <th>3</th>\n",
              "      <td>4</td>\n",
              "      <td>2019-05-03 12:48:05</td>\n",
              "      <td>NaN</td>\n",
              "      <td>NaN</td>\n",
              "      <td>NaN</td>\n",
              "      <td>NaN</td>\n",
              "      <td>NaN</td>\n",
              "      <td>NaN</td>\n",
              "      <td>NaN</td>\n",
              "      <td>NaN</td>\n",
              "    </tr>\n",
              "    <tr>\n",
              "      <th>4</th>\n",
              "      <td>5</td>\n",
              "      <td>2019-05-03 13:18:15</td>\n",
              "      <td>2019-05-03 13:32:06</td>\n",
              "      <td>NaN</td>\n",
              "      <td>NaN</td>\n",
              "      <td>NaN</td>\n",
              "      <td>NaN</td>\n",
              "      <td>NaN</td>\n",
              "      <td>NaN</td>\n",
              "      <td>NaN</td>\n",
              "    </tr>\n",
              "    <tr>\n",
              "      <th>5</th>\n",
              "      <td>6</td>\n",
              "      <td>2019-05-03 13:59:02</td>\n",
              "      <td>2019-05-03 13:59:54</td>\n",
              "      <td>NaN</td>\n",
              "      <td>NaN</td>\n",
              "      <td>NaN</td>\n",
              "      <td>NaN</td>\n",
              "      <td>NaN</td>\n",
              "      <td>NaN</td>\n",
              "      <td>NaN</td>\n",
              "    </tr>\n",
              "    <tr>\n",
              "      <th>6</th>\n",
              "      <td>7</td>\n",
              "      <td>2019-05-03 14:28:46</td>\n",
              "      <td>NaN</td>\n",
              "      <td>NaN</td>\n",
              "      <td>NaN</td>\n",
              "      <td>NaN</td>\n",
              "      <td>NaN</td>\n",
              "      <td>NaN</td>\n",
              "      <td>NaN</td>\n",
              "      <td>NaN</td>\n",
              "    </tr>\n",
              "  </tbody>\n",
              "</table>\n",
              "</div>"
            ],
            "text/plain": [
              "   key               Wire 1               Wire 2 Wire 3 Wire 4 Wire 5 Wire 6  \\\n",
              "0    1  2019-05-03 11:11:41                  NaN    NaN    NaN    NaN    NaN   \n",
              "1    2  2019-05-03 11:46:10                  NaN    NaN    NaN    NaN    NaN   \n",
              "2    3  2019-05-03 12:13:47                  NaN    NaN    NaN    NaN    NaN   \n",
              "3    4  2019-05-03 12:48:05                  NaN    NaN    NaN    NaN    NaN   \n",
              "4    5  2019-05-03 13:18:15  2019-05-03 13:32:06    NaN    NaN    NaN    NaN   \n",
              "5    6  2019-05-03 13:59:02  2019-05-03 13:59:54    NaN    NaN    NaN    NaN   \n",
              "6    7  2019-05-03 14:28:46                  NaN    NaN    NaN    NaN    NaN   \n",
              "\n",
              "  Wire 7 Wire 8 Wire 9  \n",
              "0    NaN    NaN    NaN  \n",
              "1    NaN    NaN    NaN  \n",
              "2    NaN    NaN    NaN  \n",
              "3    NaN    NaN    NaN  \n",
              "4    NaN    NaN    NaN  \n",
              "5    NaN    NaN    NaN  \n",
              "6    NaN    NaN    NaN  "
            ]
          },
          "execution_count": 34,
          "metadata": {},
          "output_type": "execute_result"
        }
      ],
      "source": [
        "wire_time.head(7)"
      ]
    },
    {
      "cell_type": "code",
      "execution_count": null,
      "metadata": {
        "colab": {
          "base_uri": "https://localhost:8080/"
        },
        "id": "aKn0_k62SLwa",
        "outputId": "b22b7aed-db14-4bc9-9d57-b8593bd66d69"
      },
      "outputs": [
        {
          "name": "stdout",
          "output_type": "stream",
          "text": [
            "<class 'pandas.core.frame.DataFrame'>\n",
            "RangeIndex: 3081 entries, 0 to 3080\n",
            "Data columns (total 10 columns):\n",
            " #   Column  Non-Null Count  Dtype \n",
            "---  ------  --------------  ----- \n",
            " 0   key     3081 non-null   int64 \n",
            " 1   Wire 1  3055 non-null   object\n",
            " 2   Wire 2  1079 non-null   object\n",
            " 3   Wire 3  63 non-null     object\n",
            " 4   Wire 4  14 non-null     object\n",
            " 5   Wire 5  1 non-null      object\n",
            " 6   Wire 6  73 non-null     object\n",
            " 7   Wire 7  11 non-null     object\n",
            " 8   Wire 8  19 non-null     object\n",
            " 9   Wire 9  29 non-null     object\n",
            "dtypes: int64(1), object(9)\n",
            "memory usage: 240.8+ KB\n"
          ]
        }
      ],
      "source": [
        "wire_time.info()"
      ]
    },
    {
      "cell_type": "code",
      "execution_count": null,
      "metadata": {
        "colab": {
          "base_uri": "https://localhost:8080/"
        },
        "id": "duTR2yIPjCrq",
        "outputId": "679db6dc-ba09-4989-d58e-cf4717a06e5a"
      },
      "outputs": [
        {
          "data": {
            "text/plain": [
              "0"
            ]
          },
          "execution_count": 36,
          "metadata": {},
          "output_type": "execute_result"
        }
      ],
      "source": [
        "wire_time.duplicated().sum()"
      ]
    },
    {
      "cell_type": "code",
      "execution_count": null,
      "metadata": {
        "id": "deUpeBaGxnEP"
      },
      "outputs": [],
      "source": [
        "for col in wire_time.columns:\n",
        "    if col != 'key':\n",
        "        wire_time[col] = pd.to_datetime(wire_time[col])"
      ]
    },
    {
      "cell_type": "markdown",
      "metadata": {
        "id": "-Ixvbpn0i222"
      },
      "source": [
        "Таблица `wire_time` содержит информацию о времени добавления проволочных материалов."
      ]
    },
    {
      "cell_type": "markdown",
      "metadata": {
        "id": "Z99PhWwm9d0v"
      },
      "source": [
        "Таким образом, в нашем распоряжении 7 таблиц, содержащие информацию об электродах, сыпучих материалах (объем и время подачи),  о продувке сплава газом,  о проволочных материалах (объем и время), а также результаты измерения температуры стали.\n",
        "Проведем предобработку и анализ данных."
      ]
    },
    {
      "cell_type": "markdown",
      "metadata": {
        "id": "IeDP6FiZ9uQU"
      },
      "source": [
        "## Исследовательский анализ данных"
      ]
    },
    {
      "cell_type": "markdown",
      "metadata": {
        "id": "h3M6XPXR5u1v"
      },
      "source": [
        "### Электроды"
      ]
    },
    {
      "cell_type": "code",
      "execution_count": null,
      "metadata": {
        "colab": {
          "base_uri": "https://localhost:8080/",
          "height": 300
        },
        "id": "qQVcrvrY60rT",
        "outputId": "a3f816f0-f49e-4d24-aae9-3ad7d0b531e3"
      },
      "outputs": [
        {
          "data": {
            "text/html": [
              "<div>\n",
              "<style scoped>\n",
              "    .dataframe tbody tr th:only-of-type {\n",
              "        vertical-align: middle;\n",
              "    }\n",
              "\n",
              "    .dataframe tbody tr th {\n",
              "        vertical-align: top;\n",
              "    }\n",
              "\n",
              "    .dataframe thead th {\n",
              "        text-align: right;\n",
              "    }\n",
              "</style>\n",
              "<table border=\"1\" class=\"dataframe\">\n",
              "  <thead>\n",
              "    <tr style=\"text-align: right;\">\n",
              "      <th></th>\n",
              "      <th>key</th>\n",
              "      <th>active_power</th>\n",
              "      <th>reactive_power</th>\n",
              "    </tr>\n",
              "  </thead>\n",
              "  <tbody>\n",
              "    <tr>\n",
              "      <th>count</th>\n",
              "      <td>14876.000000</td>\n",
              "      <td>14876.000000</td>\n",
              "      <td>14876.000000</td>\n",
              "    </tr>\n",
              "    <tr>\n",
              "      <th>mean</th>\n",
              "      <td>1615.220422</td>\n",
              "      <td>0.670441</td>\n",
              "      <td>0.452592</td>\n",
              "    </tr>\n",
              "    <tr>\n",
              "      <th>std</th>\n",
              "      <td>934.571502</td>\n",
              "      <td>0.408159</td>\n",
              "      <td>5.878702</td>\n",
              "    </tr>\n",
              "    <tr>\n",
              "      <th>min</th>\n",
              "      <td>1.000000</td>\n",
              "      <td>0.030002</td>\n",
              "      <td>-715.504924</td>\n",
              "    </tr>\n",
              "    <tr>\n",
              "      <th>25%</th>\n",
              "      <td>806.000000</td>\n",
              "      <td>0.395297</td>\n",
              "      <td>0.290991</td>\n",
              "    </tr>\n",
              "    <tr>\n",
              "      <th>50%</th>\n",
              "      <td>1617.000000</td>\n",
              "      <td>0.555517</td>\n",
              "      <td>0.415962</td>\n",
              "    </tr>\n",
              "    <tr>\n",
              "      <th>75%</th>\n",
              "      <td>2429.000000</td>\n",
              "      <td>0.857034</td>\n",
              "      <td>0.637371</td>\n",
              "    </tr>\n",
              "    <tr>\n",
              "      <th>max</th>\n",
              "      <td>3241.000000</td>\n",
              "      <td>3.731596</td>\n",
              "      <td>2.676388</td>\n",
              "    </tr>\n",
              "  </tbody>\n",
              "</table>\n",
              "</div>"
            ],
            "text/plain": [
              "                key  active_power  reactive_power\n",
              "count  14876.000000  14876.000000    14876.000000\n",
              "mean    1615.220422      0.670441        0.452592\n",
              "std      934.571502      0.408159        5.878702\n",
              "min        1.000000      0.030002     -715.504924\n",
              "25%      806.000000      0.395297        0.290991\n",
              "50%     1617.000000      0.555517        0.415962\n",
              "75%     2429.000000      0.857034        0.637371\n",
              "max     3241.000000      3.731596        2.676388"
            ]
          },
          "execution_count": 38,
          "metadata": {},
          "output_type": "execute_result"
        }
      ],
      "source": [
        "arc.describe()"
      ]
    },
    {
      "cell_type": "code",
      "execution_count": null,
      "metadata": {
        "colab": {
          "base_uri": "https://localhost:8080/",
          "height": 606
        },
        "id": "Q9jLSmfX5ruI",
        "outputId": "054bead2-b433-4c47-8e6d-bab224b39096"
      },
      "outputs": [
        {
          "data": {
            "image/png": "[encoded data removed]",
            "text/plain": [
              "<Figure size 1080x720 with 2 Axes>"
            ]
          },
          "metadata": {},
          "output_type": "display_data"
        }
      ],
      "source": [
        "f, (ax_hist, ax_box) = plt.subplots(2, figsize=(15, 10), sharex=True, gridspec_kw={\"height_ratios\": (.85, .15)})\n",
        "\n",
        "sns.histplot(data=arc, x=\"active_power\", kde=True, ax=ax_hist)\n",
        "sns.boxplot(x=arc['active_power'], ax=ax_box)\n",
        "\n",
        "plt.show()"
      ]
    },
    {
      "cell_type": "code",
      "execution_count": null,
      "metadata": {
        "colab": {
          "base_uri": "https://localhost:8080/"
        },
        "id": "PpJE3YtT7IUH",
        "outputId": "b4a074f4-ed7e-446a-fa49-96a2efc627e9"
      },
      "outputs": [
        {
          "data": {
            "text/plain": [
              "1.4480887598499999"
            ]
          },
          "execution_count": 40,
          "metadata": {},
          "output_type": "execute_result"
        }
      ],
      "source": [
        "arc['active_power'].quantile(0.95)"
      ]
    },
    {
      "cell_type": "markdown",
      "metadata": {
        "id": "m5pC_Wcg6SbO"
      },
      "source": [
        "Как видим, присутсвует большой разброс. Активная мощность электродов принимает значения от 0.67 до 3.73. При этом 95% данных находиться в диапозоне до 1.45. При этом, стоит отметить, что активная мощность может принимать значение 3.73 (например, для нагрева стали с добавлением большого количества материалов), поэтому не будем принимать такие значения за выбросы.   "
      ]
    },
    {
      "cell_type": "code",
      "execution_count": null,
      "metadata": {
        "colab": {
          "base_uri": "https://localhost:8080/"
        },
        "id": "BpLgzMA67r-Q",
        "outputId": "1b489ec8-cb51-4375-a4ae-a0f95dfb20ca"
      },
      "outputs": [
        {
          "data": {
            "text/plain": [
              "1"
            ]
          },
          "execution_count": 41,
          "metadata": {},
          "output_type": "execute_result"
        }
      ],
      "source": [
        "(arc['reactive_power'] < 0).sum()"
      ]
    },
    {
      "cell_type": "markdown",
      "metadata": {
        "id": "b1kpO41079BS"
      },
      "source": [
        "Минимальная реактивная мощность составляет -715.5, при этом это единственное отрицательное значение. Реактивная мощность может принимать отрицательные значения.Когда устройство имеет положительную реактивную мощность, то принято говорить, что оно её потребляет, а когда отрицательную — то производит.  \n",
        "\n",
        "Однако столь большое отрицательное значение свидетельсвует о выбросе (к примеру, максимальное значение реактивной мощности составляет всего 2.68). \n",
        "\n",
        "Исходя из задачи (прогнозирование финальной температуры стали) удалим не одну строку с отрицательным значением реактивной мощности, а все данные по этой партии стали."
      ]
    },
    {
      "cell_type": "code",
      "execution_count": null,
      "metadata": {
        "colab": {
          "base_uri": "https://localhost:8080/",
          "height": 81
        },
        "id": "iqG56PXjquMv",
        "outputId": "f0620554-f441-4da6-c3c9-eefbd7afdcd8"
      },
      "outputs": [
        {
          "data": {
            "text/html": [
              "<div>\n",
              "<style scoped>\n",
              "    .dataframe tbody tr th:only-of-type {\n",
              "        vertical-align: middle;\n",
              "    }\n",
              "\n",
              "    .dataframe tbody tr th {\n",
              "        vertical-align: top;\n",
              "    }\n",
              "\n",
              "    .dataframe thead th {\n",
              "        text-align: right;\n",
              "    }\n",
              "</style>\n",
              "<table border=\"1\" class=\"dataframe\">\n",
              "  <thead>\n",
              "    <tr style=\"text-align: right;\">\n",
              "      <th></th>\n",
              "      <th>key</th>\n",
              "      <th>start_arc</th>\n",
              "      <th>end_arc</th>\n",
              "      <th>active_power</th>\n",
              "      <th>reactive_power</th>\n",
              "    </tr>\n",
              "  </thead>\n",
              "  <tbody>\n",
              "    <tr>\n",
              "      <th>9780</th>\n",
              "      <td>2116</td>\n",
              "      <td>2019-07-24 00:44:48</td>\n",
              "      <td>2019-07-24 00:46:37</td>\n",
              "      <td>0.495782</td>\n",
              "      <td>-715.504924</td>\n",
              "    </tr>\n",
              "  </tbody>\n",
              "</table>\n",
              "</div>"
            ],
            "text/plain": [
              "       key           start_arc             end_arc  active_power  \\\n",
              "9780  2116 2019-07-24 00:44:48 2019-07-24 00:46:37      0.495782   \n",
              "\n",
              "      reactive_power  \n",
              "9780     -715.504924  "
            ]
          },
          "execution_count": 42,
          "metadata": {},
          "output_type": "execute_result"
        }
      ],
      "source": [
        "arc[arc['reactive_power']<0]"
      ]
    },
    {
      "cell_type": "code",
      "execution_count": null,
      "metadata": {
        "colab": {
          "base_uri": "https://localhost:8080/",
          "height": 175
        },
        "id": "z0pDM-P6rcRq",
        "outputId": "0cbd37dc-561f-4ce7-cead-76c3a72bda3d"
      },
      "outputs": [
        {
          "data": {
            "text/html": [
              "<div>\n",
              "<style scoped>\n",
              "    .dataframe tbody tr th:only-of-type {\n",
              "        vertical-align: middle;\n",
              "    }\n",
              "\n",
              "    .dataframe tbody tr th {\n",
              "        vertical-align: top;\n",
              "    }\n",
              "\n",
              "    .dataframe thead th {\n",
              "        text-align: right;\n",
              "    }\n",
              "</style>\n",
              "<table border=\"1\" class=\"dataframe\">\n",
              "  <thead>\n",
              "    <tr style=\"text-align: right;\">\n",
              "      <th></th>\n",
              "      <th>key</th>\n",
              "      <th>start_arc</th>\n",
              "      <th>end_arc</th>\n",
              "      <th>active_power</th>\n",
              "      <th>reactive_power</th>\n",
              "    </tr>\n",
              "  </thead>\n",
              "  <tbody>\n",
              "    <tr>\n",
              "      <th>9778</th>\n",
              "      <td>2116</td>\n",
              "      <td>2019-07-24 00:29:52</td>\n",
              "      <td>2019-07-24 00:31:54</td>\n",
              "      <td>0.433266</td>\n",
              "      <td>0.306141</td>\n",
              "    </tr>\n",
              "    <tr>\n",
              "      <th>9779</th>\n",
              "      <td>2116</td>\n",
              "      <td>2019-07-24 00:35:50</td>\n",
              "      <td>2019-07-24 00:38:05</td>\n",
              "      <td>0.620265</td>\n",
              "      <td>0.408352</td>\n",
              "    </tr>\n",
              "    <tr>\n",
              "      <th>9780</th>\n",
              "      <td>2116</td>\n",
              "      <td>2019-07-24 00:44:48</td>\n",
              "      <td>2019-07-24 00:46:37</td>\n",
              "      <td>0.495782</td>\n",
              "      <td>-715.504924</td>\n",
              "    </tr>\n",
              "    <tr>\n",
              "      <th>9781</th>\n",
              "      <td>2116</td>\n",
              "      <td>2019-07-24 00:51:51</td>\n",
              "      <td>2019-07-24 00:52:58</td>\n",
              "      <td>0.299368</td>\n",
              "      <td>0.198796</td>\n",
              "    </tr>\n",
              "  </tbody>\n",
              "</table>\n",
              "</div>"
            ],
            "text/plain": [
              "       key           start_arc             end_arc  active_power  \\\n",
              "9778  2116 2019-07-24 00:29:52 2019-07-24 00:31:54      0.433266   \n",
              "9779  2116 2019-07-24 00:35:50 2019-07-24 00:38:05      0.620265   \n",
              "9780  2116 2019-07-24 00:44:48 2019-07-24 00:46:37      0.495782   \n",
              "9781  2116 2019-07-24 00:51:51 2019-07-24 00:52:58      0.299368   \n",
              "\n",
              "      reactive_power  \n",
              "9778        0.306141  \n",
              "9779        0.408352  \n",
              "9780     -715.504924  \n",
              "9781        0.198796  "
            ]
          },
          "execution_count": 43,
          "metadata": {},
          "output_type": "execute_result"
        }
      ],
      "source": [
        "arc.query('key == 2116')"
      ]
    },
    {
      "cell_type": "markdown",
      "metadata": {
        "id": "TbL-M21oIlz7"
      },
      "source": [
        "Как видим, отрицательная реактивная мощность относиться к 2116 партии стали, удали ее."
      ]
    },
    {
      "cell_type": "code",
      "execution_count": null,
      "metadata": {
        "id": "ASf6pLxs78dS"
      },
      "outputs": [],
      "source": [
        "arc = arc.query('key != 2116')"
      ]
    },
    {
      "cell_type": "code",
      "execution_count": null,
      "metadata": {
        "colab": {
          "base_uri": "https://localhost:8080/",
          "height": 606
        },
        "id": "epNPOpff60tx",
        "outputId": "ed723280-6a37-4bc0-ebb1-77ad5c7f532f"
      },
      "outputs": [
        {
          "data": {
            "image/png": "[encoded data removed]",
            "text/plain": [
              "<Figure size 1080x720 with 2 Axes>"
            ]
          },
          "metadata": {},
          "output_type": "display_data"
        }
      ],
      "source": [
        "f, (ax_hist, ax_box) = plt.subplots(2, figsize=(15, 10), sharex=True, gridspec_kw={\"height_ratios\": (.85, .15)})\n",
        "\n",
        "sns.histplot(data=arc, x=\"reactive_power\", kde=True, ax=ax_hist)\n",
        "sns.boxplot(x=arc['reactive_power'], ax=ax_box)\n",
        "\n",
        "plt.show()"
      ]
    },
    {
      "cell_type": "markdown",
      "metadata": {
        "id": "hZg3g3A_8vgI"
      },
      "source": [
        "В данных реактивной мощности также присутвуют выбивающиеся значения, однако они допустимы."
      ]
    },
    {
      "cell_type": "markdown",
      "metadata": {
        "id": "ZeP2iYEO9Q7f"
      },
      "source": [
        "### Сыпучие материалы"
      ]
    },
    {
      "cell_type": "code",
      "execution_count": null,
      "metadata": {
        "colab": {
          "base_uri": "https://localhost:8080/",
          "height": 381
        },
        "id": "Lfl6fOxc_GHP",
        "outputId": "2b62718f-e3ca-43c3-cd02-c3e6b99df5de"
      },
      "outputs": [
        {
          "data": {
            "text/html": [
              "<div>\n",
              "<style scoped>\n",
              "    .dataframe tbody tr th:only-of-type {\n",
              "        vertical-align: middle;\n",
              "    }\n",
              "\n",
              "    .dataframe tbody tr th {\n",
              "        vertical-align: top;\n",
              "    }\n",
              "\n",
              "    .dataframe thead th {\n",
              "        text-align: right;\n",
              "    }\n",
              "</style>\n",
              "<table border=\"1\" class=\"dataframe\">\n",
              "  <thead>\n",
              "    <tr style=\"text-align: right;\">\n",
              "      <th></th>\n",
              "      <th>key</th>\n",
              "      <th>Bulk 1</th>\n",
              "      <th>Bulk 2</th>\n",
              "      <th>Bulk 3</th>\n",
              "      <th>Bulk 4</th>\n",
              "      <th>Bulk 5</th>\n",
              "      <th>Bulk 6</th>\n",
              "      <th>Bulk 7</th>\n",
              "      <th>Bulk 8</th>\n",
              "      <th>Bulk 9</th>\n",
              "      <th>Bulk 10</th>\n",
              "      <th>Bulk 11</th>\n",
              "      <th>Bulk 12</th>\n",
              "      <th>Bulk 13</th>\n",
              "      <th>Bulk 14</th>\n",
              "      <th>Bulk 15</th>\n",
              "    </tr>\n",
              "  </thead>\n",
              "  <tbody>\n",
              "    <tr>\n",
              "      <th>count</th>\n",
              "      <td>3129.000000</td>\n",
              "      <td>252.000000</td>\n",
              "      <td>22.000000</td>\n",
              "      <td>1298.000000</td>\n",
              "      <td>1014.000000</td>\n",
              "      <td>77.000000</td>\n",
              "      <td>576.000000</td>\n",
              "      <td>25.000000</td>\n",
              "      <td>1.0</td>\n",
              "      <td>19.000000</td>\n",
              "      <td>176.000000</td>\n",
              "      <td>177.000000</td>\n",
              "      <td>2450.000000</td>\n",
              "      <td>18.000000</td>\n",
              "      <td>2806.000000</td>\n",
              "      <td>2248.000000</td>\n",
              "    </tr>\n",
              "    <tr>\n",
              "      <th>mean</th>\n",
              "      <td>1624.383509</td>\n",
              "      <td>39.242063</td>\n",
              "      <td>253.045455</td>\n",
              "      <td>113.879045</td>\n",
              "      <td>104.394477</td>\n",
              "      <td>107.025974</td>\n",
              "      <td>118.925347</td>\n",
              "      <td>305.600000</td>\n",
              "      <td>49.0</td>\n",
              "      <td>76.315789</td>\n",
              "      <td>83.284091</td>\n",
              "      <td>76.819209</td>\n",
              "      <td>260.471020</td>\n",
              "      <td>181.111111</td>\n",
              "      <td>170.284747</td>\n",
              "      <td>160.513345</td>\n",
              "    </tr>\n",
              "    <tr>\n",
              "      <th>std</th>\n",
              "      <td>933.337642</td>\n",
              "      <td>18.277654</td>\n",
              "      <td>21.180578</td>\n",
              "      <td>75.483494</td>\n",
              "      <td>48.184126</td>\n",
              "      <td>81.790646</td>\n",
              "      <td>72.057776</td>\n",
              "      <td>191.022904</td>\n",
              "      <td>NaN</td>\n",
              "      <td>21.720581</td>\n",
              "      <td>26.060347</td>\n",
              "      <td>59.655365</td>\n",
              "      <td>120.649269</td>\n",
              "      <td>46.088009</td>\n",
              "      <td>65.868652</td>\n",
              "      <td>51.765319</td>\n",
              "    </tr>\n",
              "    <tr>\n",
              "      <th>min</th>\n",
              "      <td>1.000000</td>\n",
              "      <td>10.000000</td>\n",
              "      <td>228.000000</td>\n",
              "      <td>6.000000</td>\n",
              "      <td>12.000000</td>\n",
              "      <td>11.000000</td>\n",
              "      <td>17.000000</td>\n",
              "      <td>47.000000</td>\n",
              "      <td>49.0</td>\n",
              "      <td>63.000000</td>\n",
              "      <td>24.000000</td>\n",
              "      <td>8.000000</td>\n",
              "      <td>53.000000</td>\n",
              "      <td>151.000000</td>\n",
              "      <td>16.000000</td>\n",
              "      <td>1.000000</td>\n",
              "    </tr>\n",
              "    <tr>\n",
              "      <th>25%</th>\n",
              "      <td>816.000000</td>\n",
              "      <td>27.000000</td>\n",
              "      <td>242.000000</td>\n",
              "      <td>58.000000</td>\n",
              "      <td>72.000000</td>\n",
              "      <td>70.000000</td>\n",
              "      <td>69.750000</td>\n",
              "      <td>155.000000</td>\n",
              "      <td>49.0</td>\n",
              "      <td>66.000000</td>\n",
              "      <td>64.000000</td>\n",
              "      <td>25.000000</td>\n",
              "      <td>204.000000</td>\n",
              "      <td>153.250000</td>\n",
              "      <td>119.000000</td>\n",
              "      <td>105.000000</td>\n",
              "    </tr>\n",
              "    <tr>\n",
              "      <th>50%</th>\n",
              "      <td>1622.000000</td>\n",
              "      <td>31.000000</td>\n",
              "      <td>251.500000</td>\n",
              "      <td>97.500000</td>\n",
              "      <td>102.000000</td>\n",
              "      <td>86.000000</td>\n",
              "      <td>100.000000</td>\n",
              "      <td>298.000000</td>\n",
              "      <td>49.0</td>\n",
              "      <td>68.000000</td>\n",
              "      <td>86.500000</td>\n",
              "      <td>64.000000</td>\n",
              "      <td>208.000000</td>\n",
              "      <td>155.500000</td>\n",
              "      <td>151.000000</td>\n",
              "      <td>160.000000</td>\n",
              "    </tr>\n",
              "    <tr>\n",
              "      <th>75%</th>\n",
              "      <td>2431.000000</td>\n",
              "      <td>46.000000</td>\n",
              "      <td>257.750000</td>\n",
              "      <td>152.000000</td>\n",
              "      <td>133.000000</td>\n",
              "      <td>132.000000</td>\n",
              "      <td>157.000000</td>\n",
              "      <td>406.000000</td>\n",
              "      <td>49.0</td>\n",
              "      <td>70.500000</td>\n",
              "      <td>102.000000</td>\n",
              "      <td>106.000000</td>\n",
              "      <td>316.000000</td>\n",
              "      <td>203.500000</td>\n",
              "      <td>205.750000</td>\n",
              "      <td>205.000000</td>\n",
              "    </tr>\n",
              "    <tr>\n",
              "      <th>max</th>\n",
              "      <td>3241.000000</td>\n",
              "      <td>185.000000</td>\n",
              "      <td>325.000000</td>\n",
              "      <td>454.000000</td>\n",
              "      <td>281.000000</td>\n",
              "      <td>603.000000</td>\n",
              "      <td>503.000000</td>\n",
              "      <td>772.000000</td>\n",
              "      <td>49.0</td>\n",
              "      <td>147.000000</td>\n",
              "      <td>159.000000</td>\n",
              "      <td>313.000000</td>\n",
              "      <td>1849.000000</td>\n",
              "      <td>305.000000</td>\n",
              "      <td>636.000000</td>\n",
              "      <td>405.000000</td>\n",
              "    </tr>\n",
              "  </tbody>\n",
              "</table>\n",
              "</div>"
            ],
            "text/plain": [
              "               key      Bulk 1      Bulk 2       Bulk 3       Bulk 4  \\\n",
              "count  3129.000000  252.000000   22.000000  1298.000000  1014.000000   \n",
              "mean   1624.383509   39.242063  253.045455   113.879045   104.394477   \n",
              "std     933.337642   18.277654   21.180578    75.483494    48.184126   \n",
              "min       1.000000   10.000000  228.000000     6.000000    12.000000   \n",
              "25%     816.000000   27.000000  242.000000    58.000000    72.000000   \n",
              "50%    1622.000000   31.000000  251.500000    97.500000   102.000000   \n",
              "75%    2431.000000   46.000000  257.750000   152.000000   133.000000   \n",
              "max    3241.000000  185.000000  325.000000   454.000000   281.000000   \n",
              "\n",
              "           Bulk 5      Bulk 6      Bulk 7  Bulk 8      Bulk 9     Bulk 10  \\\n",
              "count   77.000000  576.000000   25.000000     1.0   19.000000  176.000000   \n",
              "mean   107.025974  118.925347  305.600000    49.0   76.315789   83.284091   \n",
              "std     81.790646   72.057776  191.022904     NaN   21.720581   26.060347   \n",
              "min     11.000000   17.000000   47.000000    49.0   63.000000   24.000000   \n",
              "25%     70.000000   69.750000  155.000000    49.0   66.000000   64.000000   \n",
              "50%     86.000000  100.000000  298.000000    49.0   68.000000   86.500000   \n",
              "75%    132.000000  157.000000  406.000000    49.0   70.500000  102.000000   \n",
              "max    603.000000  503.000000  772.000000    49.0  147.000000  159.000000   \n",
              "\n",
              "          Bulk 11      Bulk 12     Bulk 13      Bulk 14      Bulk 15  \n",
              "count  177.000000  2450.000000   18.000000  2806.000000  2248.000000  \n",
              "mean    76.819209   260.471020  181.111111   170.284747   160.513345  \n",
              "std     59.655365   120.649269   46.088009    65.868652    51.765319  \n",
              "min      8.000000    53.000000  151.000000    16.000000     1.000000  \n",
              "25%     25.000000   204.000000  153.250000   119.000000   105.000000  \n",
              "50%     64.000000   208.000000  155.500000   151.000000   160.000000  \n",
              "75%    106.000000   316.000000  203.500000   205.750000   205.000000  \n",
              "max    313.000000  1849.000000  305.000000   636.000000   405.000000  "
            ]
          },
          "execution_count": 46,
          "metadata": {},
          "output_type": "execute_result"
        }
      ],
      "source": [
        "bulk.describe()"
      ]
    },
    {
      "cell_type": "code",
      "execution_count": null,
      "metadata": {
        "id": "udZWZ5v55ZoA"
      },
      "outputs": [],
      "source": [
        "def plot(data):\n",
        "    for col in data.columns:\n",
        "        if col != 'key' and col in data.select_dtypes(include=np.number).columns.tolist():\n",
        "            f, (ax_hist, ax_box) = plt.subplots(2, figsize=(12, 5), sharex=True, gridspec_kw={\"height_ratios\": (.85, .15)})\n",
        "            sns.histplot(data=data, x=col, kde=True, ax=ax_hist)\n",
        "            sns.boxplot(x=data[col], ax=ax_box)\n",
        "            plt.show()"
      ]
    },
    {
      "cell_type": "code",
      "execution_count": null,
      "metadata": {
        "colab": {
          "base_uri": "https://localhost:8080/",
          "height": 1000
        },
        "id": "IHYNU9xs5bBq",
        "outputId": "41bdb3a7-5f07-41c7-a3fd-6a241028ef47"
      },
      "outputs": [
        {
          "data": {
            "image/png": "[encoded data removed]",
            "text/plain": [
              "<Figure size 864x360 with 2 Axes>"
            ]
          },
          "metadata": {},
          "output_type": "display_data"
        },
        {
          "data": {
            "image/png": "[encoded data removed]",
            "text/plain": [
              "<Figure size 864x360 with 2 Axes>"
            ]
          },
          "metadata": {},
          "output_type": "display_data"
        },
        {
          "data": {
            "image/png": "[encoded data removed]",
            "text/plain": [
              "<Figure size 864x360 with 2 Axes>"
            ]
          },
          "metadata": {},
          "output_type": "display_data"
        },
        {
          "data": {
            "image/png": "[encoded data removed]",
            "text/plain": [
              "<Figure size 864x360 with 2 Axes>"
            ]
          },
          "metadata": {},
          "output_type": "display_data"
        },
        {
          "data": {
            "image/png": "[encoded data removed]",
            "text/plain": [
              "<Figure size 864x360 with 2 Axes>"
            ]
          },
          "metadata": {},
          "output_type": "display_data"
        },
        {
          "data": {
            "image/png": "[encoded data removed]",
            "text/plain": [
              "<Figure size 864x360 with 2 Axes>"
            ]
          },
          "metadata": {},
          "output_type": "display_data"
        },
        {
          "data": {
            "image/png": "[encoded data removed]",
            "text/plain": [
              "<Figure size 864x360 with 2 Axes>"
            ]
          },
          "metadata": {},
          "output_type": "display_data"
        },
        {
          "name": "stderr",
          "output_type": "stream",
          "text": [
            "/opt/conda/lib/python3.9/site-packages/seaborn/distributions.py:306: UserWarning: Dataset has 0 variance; skipping density estimate.\n",
            "  warnings.warn(msg, UserWarning)\n"
          ]
        },
        {
          "data": {
            "image/png": "[encoded data removed]",
            "text/plain": [
              "<Figure size 864x360 with 2 Axes>"
            ]
          },
          "metadata": {},
          "output_type": "display_data"
        },
        {
          "data": {
            "image/png": "[encoded data removed]",
            "text/plain": [
              "<Figure size 864x360 with 2 Axes>"
            ]
          },
          "metadata": {},
          "output_type": "display_data"
        },
        {
          "data": {
            "image/png": "[encoded data removed]",
            "text/plain": [
              "<Figure size 864x360 with 2 Axes>"
            ]
          },
          "metadata": {},
          "output_type": "display_data"
        },
        {
          "data": {
            "image/png": "[encoded data removed]",
            "text/plain": [
              "<Figure size 864x360 with 2 Axes>"
            ]
          },
          "metadata": {},
          "output_type": "display_data"
        },
        {
          "data": {
            "image/png": "[encoded data removed]",
            "text/plain": [
              "<Figure size 864x360 with 2 Axes>"
            ]
          },
          "metadata": {},
          "output_type": "display_data"
        },
        {
          "data": {
            "image/png": "[encoded data removed]",
            "text/plain": [
              "<Figure size 864x360 with 2 Axes>"
            ]
          },
          "metadata": {},
          "output_type": "display_data"
        },
        {
          "data": {
            "image/png": "[encoded data removed]",
            "text/plain": [
              "<Figure size 864x360 with 2 Axes>"
            ]
          },
          "metadata": {},
          "output_type": "display_data"
        },
        {
          "data": {
            "image/png": "[encoded data removed]",
            "text/plain": [
              "<Figure size 864x360 with 2 Axes>"
            ]
          },
          "metadata": {},
          "output_type": "display_data"
        }
      ],
      "source": [
        "plot(bulk)"
      ]
    },
    {
      "cell_type": "markdown",
      "metadata": {
        "id": "xAj8uI6jvCsm"
      },
      "source": [
        "- `Bulk 1` принимает значение от 10 до 185, 75% значений находятся в диапозоне до 46, добавлялась 252 раза;\n",
        "- `Bulk 2` принимает значение от 228 до 352, 75% значений находятся в диапозоне до 257, добавлялась 22 раза;\n",
        "- `Bulk 3` принимает значение от 6 до 454, 75% значений находятся в диапозоне до 152, добавлялась 1298 раза;\n",
        "- `Bulk 4` принимает значение от 12 до 281, 75% значений находятся в диапозоне до 133, добавлялась 1014 раз;\n",
        "- `Bulk 5` принимает значение от 11 до 603, 75% значений находятся в диапозоне до 132, добавлялась 77 раза;\n",
        "- `Bulk 6` принимает значение от 17 до 503, 75% значений находятся в диапозоне до 157, добавлялась 576 раз;\n",
        "- `Bulk 7` принимает значение от 47 до 772, 75% значений находятся в диапозоне до 406, добавлялась 25 раз;\n",
        "- `Bulk 8` добавлялась 1 раз с значением 49;\n",
        "- `Bulk 9` принимает значение от 63 до 147, 75% значений находятся в диапозоне до 70.5, добавлялась 19 раз;\n",
        "- `Bulk 10` принимает значение от 24 до 159, 75% значений находятся в диапозоне до 70.5, добавлялась 176 раз;\n",
        "- `Bulk 11` принимает значение от 8 до 313, 75% значений находятся в диапозоне до 106, добавлялась 177 раз;\n",
        "- `Bulk 12` принимает значение от 53 до 1849, 75% значений находятся в диапозоне до 316, добавлялась 2450 раз;\n",
        "- `Bulk 13` принимает значение от 151 до 305, 75% значений находятся в диапозоне до 203, добавлялась 18 раз;\n",
        "- `Bulk 14` принимает значение от 16 до 636, 75% значений находятся в диапозоне до 205.75, добавлялась 2806 раз;\n",
        "- `Bulk 15` принимает значение от 1 до 405, 75% значений находятся в диапозоне до 205, добавлялась 2248 раз."
      ]
    },
    {
      "cell_type": "code",
      "execution_count": null,
      "metadata": {
        "colab": {
          "base_uri": "https://localhost:8080/",
          "height": 338
        },
        "id": "TYoNxrVNrt4w",
        "outputId": "2e01732f-3077-4fc8-f22b-e78aa53f6488"
      },
      "outputs": [
        {
          "data": {
            "text/plain": [
              "<AxesSubplot:>"
            ]
          },
          "execution_count": 49,
          "metadata": {},
          "output_type": "execute_result"
        },
        {
          "data": {
            "image/png": "[encoded data removed]",
            "text/plain": [
              "<Figure size 720x360 with 1 Axes>"
            ]
          },
          "metadata": {},
          "output_type": "display_data"
        }
      ],
      "source": [
        "bulk.loc[:, 'Bulk 1':].notna().sum().sort_values().plot(kind='barh', figsize=(10,5))"
      ]
    },
    {
      "cell_type": "markdown",
      "metadata": {
        "id": "X2RY68xG4WF9"
      },
      "source": [
        "\n",
        "\n",
        "Как можем заметить, некоторые сыпучие вещества добавлялись редко (например, Bulk 2, Bulk 8, Bulk 9 и Bulk 13), а некоторые часто (например, Bulk 12, Bulk 14 и Bulk 15), что обусловлено технологическим процессом (различием сырья, из которого производят сталь). Кроме того, большинство сыпучих материалов имеют большой разброс объема использования, что также зависит от исходного сырья и не являются выбросами. "
      ]
    },
    {
      "cell_type": "markdown",
      "metadata": {
        "id": "HRAUAARmA1kT"
      },
      "source": [
        "### Газ"
      ]
    },
    {
      "cell_type": "code",
      "execution_count": null,
      "metadata": {
        "colab": {
          "base_uri": "https://localhost:8080/",
          "height": 300
        },
        "id": "NU0gnsEv60za",
        "outputId": "66237fc5-eb8a-4062-b5be-af3e14998ed0"
      },
      "outputs": [
        {
          "data": {
            "text/html": [
              "<div>\n",
              "<style scoped>\n",
              "    .dataframe tbody tr th:only-of-type {\n",
              "        vertical-align: middle;\n",
              "    }\n",
              "\n",
              "    .dataframe tbody tr th {\n",
              "        vertical-align: top;\n",
              "    }\n",
              "\n",
              "    .dataframe thead th {\n",
              "        text-align: right;\n",
              "    }\n",
              "</style>\n",
              "<table border=\"1\" class=\"dataframe\">\n",
              "  <thead>\n",
              "    <tr style=\"text-align: right;\">\n",
              "      <th></th>\n",
              "      <th>key</th>\n",
              "      <th>gas</th>\n",
              "    </tr>\n",
              "  </thead>\n",
              "  <tbody>\n",
              "    <tr>\n",
              "      <th>count</th>\n",
              "      <td>3239.000000</td>\n",
              "      <td>3239.000000</td>\n",
              "    </tr>\n",
              "    <tr>\n",
              "      <th>mean</th>\n",
              "      <td>1621.861377</td>\n",
              "      <td>11.002062</td>\n",
              "    </tr>\n",
              "    <tr>\n",
              "      <th>std</th>\n",
              "      <td>935.386334</td>\n",
              "      <td>6.220327</td>\n",
              "    </tr>\n",
              "    <tr>\n",
              "      <th>min</th>\n",
              "      <td>1.000000</td>\n",
              "      <td>0.008399</td>\n",
              "    </tr>\n",
              "    <tr>\n",
              "      <th>25%</th>\n",
              "      <td>812.500000</td>\n",
              "      <td>7.043089</td>\n",
              "    </tr>\n",
              "    <tr>\n",
              "      <th>50%</th>\n",
              "      <td>1622.000000</td>\n",
              "      <td>9.836267</td>\n",
              "    </tr>\n",
              "    <tr>\n",
              "      <th>75%</th>\n",
              "      <td>2431.500000</td>\n",
              "      <td>13.769915</td>\n",
              "    </tr>\n",
              "    <tr>\n",
              "      <th>max</th>\n",
              "      <td>3241.000000</td>\n",
              "      <td>77.995040</td>\n",
              "    </tr>\n",
              "  </tbody>\n",
              "</table>\n",
              "</div>"
            ],
            "text/plain": [
              "               key          gas\n",
              "count  3239.000000  3239.000000\n",
              "mean   1621.861377    11.002062\n",
              "std     935.386334     6.220327\n",
              "min       1.000000     0.008399\n",
              "25%     812.500000     7.043089\n",
              "50%    1622.000000     9.836267\n",
              "75%    2431.500000    13.769915\n",
              "max    3241.000000    77.995040"
            ]
          },
          "execution_count": 50,
          "metadata": {},
          "output_type": "execute_result"
        }
      ],
      "source": [
        "gas.describe()"
      ]
    },
    {
      "cell_type": "code",
      "execution_count": null,
      "metadata": {
        "colab": {
          "base_uri": "https://localhost:8080/",
          "height": 334
        },
        "id": "p1Sw52e08KeY",
        "outputId": "0dcc242c-619b-42aa-eb9c-ba2233a703c3"
      },
      "outputs": [
        {
          "data": {
            "image/png": "[encoded data removed]",
            "text/plain": [
              "<Figure size 864x360 with 2 Axes>"
            ]
          },
          "metadata": {},
          "output_type": "display_data"
        }
      ],
      "source": [
        "plot(gas)"
      ]
    },
    {
      "cell_type": "markdown",
      "metadata": {
        "id": "3yW2Bhe29K0t"
      },
      "source": [
        "Объем использования газа находитс в диапозоне от 0.008 до 77.99.\n",
        "\n",
        "Бльшинство данных принимают значения до 22.  \n",
        "Газ применяют для перемешивания заготовки, при малых добавлениях сыпучих и проволочных материалов используется меншее количество газа, при больших добавлениях - большее, поэтому сильный разброс значений объема газа не является аномалией. "
      ]
    },
    {
      "cell_type": "markdown",
      "metadata": {
        "id": "syLfFpHlBFE_"
      },
      "source": [
        "### Проволочные материалы"
      ]
    },
    {
      "cell_type": "code",
      "execution_count": null,
      "metadata": {
        "colab": {
          "base_uri": "https://localhost:8080/",
          "height": 300
        },
        "id": "b0bRq4RqAwxY",
        "outputId": "24ed90fa-fe11-4496-8fe7-0a98858c9a1f"
      },
      "outputs": [
        {
          "data": {
            "text/html": [
              "<div>\n",
              "<style scoped>\n",
              "    .dataframe tbody tr th:only-of-type {\n",
              "        vertical-align: middle;\n",
              "    }\n",
              "\n",
              "    .dataframe tbody tr th {\n",
              "        vertical-align: top;\n",
              "    }\n",
              "\n",
              "    .dataframe thead th {\n",
              "        text-align: right;\n",
              "    }\n",
              "</style>\n",
              "<table border=\"1\" class=\"dataframe\">\n",
              "  <thead>\n",
              "    <tr style=\"text-align: right;\">\n",
              "      <th></th>\n",
              "      <th>key</th>\n",
              "      <th>Wire 1</th>\n",
              "      <th>Wire 2</th>\n",
              "      <th>Wire 3</th>\n",
              "      <th>Wire 4</th>\n",
              "      <th>Wire 5</th>\n",
              "      <th>Wire 6</th>\n",
              "      <th>Wire 7</th>\n",
              "      <th>Wire 8</th>\n",
              "      <th>Wire 9</th>\n",
              "    </tr>\n",
              "  </thead>\n",
              "  <tbody>\n",
              "    <tr>\n",
              "      <th>count</th>\n",
              "      <td>3081.000000</td>\n",
              "      <td>3055.000000</td>\n",
              "      <td>1079.000000</td>\n",
              "      <td>63.000000</td>\n",
              "      <td>14.000000</td>\n",
              "      <td>1.000</td>\n",
              "      <td>73.000000</td>\n",
              "      <td>11.000000</td>\n",
              "      <td>19.000000</td>\n",
              "      <td>29.000000</td>\n",
              "    </tr>\n",
              "    <tr>\n",
              "      <th>mean</th>\n",
              "      <td>1623.426485</td>\n",
              "      <td>100.895853</td>\n",
              "      <td>50.577323</td>\n",
              "      <td>189.482681</td>\n",
              "      <td>57.442841</td>\n",
              "      <td>15.132</td>\n",
              "      <td>48.016974</td>\n",
              "      <td>10.039007</td>\n",
              "      <td>53.625193</td>\n",
              "      <td>34.155752</td>\n",
              "    </tr>\n",
              "    <tr>\n",
              "      <th>std</th>\n",
              "      <td>932.996726</td>\n",
              "      <td>42.012518</td>\n",
              "      <td>39.320216</td>\n",
              "      <td>99.513444</td>\n",
              "      <td>28.824667</td>\n",
              "      <td>NaN</td>\n",
              "      <td>33.919845</td>\n",
              "      <td>8.610584</td>\n",
              "      <td>16.881728</td>\n",
              "      <td>19.931616</td>\n",
              "    </tr>\n",
              "    <tr>\n",
              "      <th>min</th>\n",
              "      <td>1.000000</td>\n",
              "      <td>1.918800</td>\n",
              "      <td>0.030160</td>\n",
              "      <td>0.144144</td>\n",
              "      <td>24.148801</td>\n",
              "      <td>15.132</td>\n",
              "      <td>0.034320</td>\n",
              "      <td>0.234208</td>\n",
              "      <td>45.076721</td>\n",
              "      <td>4.622800</td>\n",
              "    </tr>\n",
              "    <tr>\n",
              "      <th>25%</th>\n",
              "      <td>823.000000</td>\n",
              "      <td>72.115684</td>\n",
              "      <td>20.193680</td>\n",
              "      <td>95.135044</td>\n",
              "      <td>40.807002</td>\n",
              "      <td>15.132</td>\n",
              "      <td>25.053600</td>\n",
              "      <td>6.762756</td>\n",
              "      <td>46.094879</td>\n",
              "      <td>22.058401</td>\n",
              "    </tr>\n",
              "    <tr>\n",
              "      <th>50%</th>\n",
              "      <td>1619.000000</td>\n",
              "      <td>100.158234</td>\n",
              "      <td>40.142956</td>\n",
              "      <td>235.194977</td>\n",
              "      <td>45.234282</td>\n",
              "      <td>15.132</td>\n",
              "      <td>42.076324</td>\n",
              "      <td>9.017009</td>\n",
              "      <td>46.279999</td>\n",
              "      <td>30.066399</td>\n",
              "    </tr>\n",
              "    <tr>\n",
              "      <th>75%</th>\n",
              "      <td>2434.000000</td>\n",
              "      <td>126.060483</td>\n",
              "      <td>70.227558</td>\n",
              "      <td>276.252014</td>\n",
              "      <td>76.124619</td>\n",
              "      <td>15.132</td>\n",
              "      <td>64.212723</td>\n",
              "      <td>11.886057</td>\n",
              "      <td>48.089603</td>\n",
              "      <td>43.862003</td>\n",
              "    </tr>\n",
              "    <tr>\n",
              "      <th>max</th>\n",
              "      <td>3241.000000</td>\n",
              "      <td>330.314424</td>\n",
              "      <td>282.780152</td>\n",
              "      <td>385.008668</td>\n",
              "      <td>113.231044</td>\n",
              "      <td>15.132</td>\n",
              "      <td>180.454575</td>\n",
              "      <td>32.847674</td>\n",
              "      <td>102.762401</td>\n",
              "      <td>90.053604</td>\n",
              "    </tr>\n",
              "  </tbody>\n",
              "</table>\n",
              "</div>"
            ],
            "text/plain": [
              "               key       Wire 1       Wire 2      Wire 3      Wire 4  Wire 5  \\\n",
              "count  3081.000000  3055.000000  1079.000000   63.000000   14.000000   1.000   \n",
              "mean   1623.426485   100.895853    50.577323  189.482681   57.442841  15.132   \n",
              "std     932.996726    42.012518    39.320216   99.513444   28.824667     NaN   \n",
              "min       1.000000     1.918800     0.030160    0.144144   24.148801  15.132   \n",
              "25%     823.000000    72.115684    20.193680   95.135044   40.807002  15.132   \n",
              "50%    1619.000000   100.158234    40.142956  235.194977   45.234282  15.132   \n",
              "75%    2434.000000   126.060483    70.227558  276.252014   76.124619  15.132   \n",
              "max    3241.000000   330.314424   282.780152  385.008668  113.231044  15.132   \n",
              "\n",
              "           Wire 6     Wire 7      Wire 8     Wire 9  \n",
              "count   73.000000  11.000000   19.000000  29.000000  \n",
              "mean    48.016974  10.039007   53.625193  34.155752  \n",
              "std     33.919845   8.610584   16.881728  19.931616  \n",
              "min      0.034320   0.234208   45.076721   4.622800  \n",
              "25%     25.053600   6.762756   46.094879  22.058401  \n",
              "50%     42.076324   9.017009   46.279999  30.066399  \n",
              "75%     64.212723  11.886057   48.089603  43.862003  \n",
              "max    180.454575  32.847674  102.762401  90.053604  "
            ]
          },
          "execution_count": 52,
          "metadata": {},
          "output_type": "execute_result"
        }
      ],
      "source": [
        "wire.describe()"
      ]
    },
    {
      "cell_type": "code",
      "execution_count": null,
      "metadata": {
        "colab": {
          "base_uri": "https://localhost:8080/",
          "height": 1000
        },
        "id": "kuE65THs5jy5",
        "outputId": "5aca561f-71f0-4ce1-d33a-d6675334cbb2"
      },
      "outputs": [
        {
          "data": {
            "image/png": "[encoded data removed]",
            "text/plain": [
              "<Figure size 864x360 with 2 Axes>"
            ]
          },
          "metadata": {},
          "output_type": "display_data"
        },
        {
          "data": {
            "image/png": "[encoded data removed]",
            "text/plain": [
              "<Figure size 864x360 with 2 Axes>"
            ]
          },
          "metadata": {},
          "output_type": "display_data"
        },
        {
          "data": {
            "image/png": "[encoded data removed]",
            "text/plain": [
              "<Figure size 864x360 with 2 Axes>"
            ]
          },
          "metadata": {},
          "output_type": "display_data"
        },
        {
          "data": {
            "image/png": "[encoded data removed]",
            "text/plain": [
              "<Figure size 864x360 with 2 Axes>"
            ]
          },
          "metadata": {},
          "output_type": "display_data"
        },
        {
          "name": "stderr",
          "output_type": "stream",
          "text": [
            "/opt/conda/lib/python3.9/site-packages/seaborn/distributions.py:306: UserWarning: Dataset has 0 variance; skipping density estimate.\n",
            "  warnings.warn(msg, UserWarning)\n"
          ]
        },
        {
          "data": {
            "image/png": "[encoded data removed]",
            "text/plain": [
              "<Figure size 864x360 with 2 Axes>"
            ]
          },
          "metadata": {},
          "output_type": "display_data"
        },
        {
          "data": {
            "image/png": "[encoded data removed]",
            "text/plain": [
              "<Figure size 864x360 with 2 Axes>"
            ]
          },
          "metadata": {},
          "output_type": "display_data"
        },
        {
          "data": {
            "image/png": "[encoded data removed]",
            "text/plain": [
              "<Figure size 864x360 with 2 Axes>"
            ]
          },
          "metadata": {},
          "output_type": "display_data"
        },
        {
          "data": {
            "image/png": "[encoded data removed]",
            "text/plain": [
              "<Figure size 864x360 with 2 Axes>"
            ]
          },
          "metadata": {},
          "output_type": "display_data"
        },
        {
          "data": {
            "image/png": "[encoded data removed]",
            "text/plain": [
              "<Figure size 864x360 with 2 Axes>"
            ]
          },
          "metadata": {},
          "output_type": "display_data"
        }
      ],
      "source": [
        "plot(wire)"
      ]
    },
    {
      "cell_type": "markdown",
      "metadata": {
        "id": "ZWn8HLfc-Xtl"
      },
      "source": [
        "- `Wire 1` принимает значение от 1.91 до 330.31, 75% значений находятся в диапозоне до 126 добавлялась 3055 раз;\n",
        "- `Wire 2` принимает значение от 0.3 до 282.78, 75% значений находятся в диапозоне до 77.28 добавлялась 1079 раз;\n",
        "- `Wire 3` принимает значение от 0.14 до 385, 75% значений находятся в диапозоне до 276 добавлялась 63 раза;\n",
        "- `Wire 4` принимает значение от 24.14 до 113.23, 75% значений находятся в диапозоне до 76.12 добавлялась 14 раз;\n",
        "- `Wire 5` добавлялась 1 раз с значением 15.132;\n",
        "- `Wire 6` принимает значение от 0.03 до 180.45, 75% значений находятся в диапозоне до 64.21 добавлялась 73 раза;\n",
        "- `Wire 7` принимает значение от 0.23 до 32.84, 75% значений находятся в диапозоне до 11.89 добавлялась 11 раз;\n",
        "- `Wire 8` принимает значение от 45.07 до 102.86, 75% значений находятся в диапозоне до 48.09 добавлялась 19 раз;\n",
        "- `Wire 9` принимает значение от 4.62 до 90.05, 75% значений находятся в диапозоне до 43.86 добавлялась 29 раз."
      ]
    },
    {
      "cell_type": "code",
      "execution_count": null,
      "metadata": {
        "colab": {
          "base_uri": "https://localhost:8080/",
          "height": 338
        },
        "id": "APpUECnMvSI1",
        "outputId": "a4e2d183-82ad-4a0f-cb5b-12355c2917f1"
      },
      "outputs": [
        {
          "data": {
            "text/plain": [
              "<AxesSubplot:>"
            ]
          },
          "execution_count": 54,
          "metadata": {},
          "output_type": "execute_result"
        },
        {
          "data": {
            "image/png": "[encoded data removed]",
            "text/plain": [
              "<Figure size 576x360 with 1 Axes>"
            ]
          },
          "metadata": {},
          "output_type": "display_data"
        }
      ],
      "source": [
        "wire.loc[:, 'Wire 1':].notna().sum().sort_values().plot(kind='barh', figsize=(8,5))"
      ]
    },
    {
      "cell_type": "markdown",
      "metadata": {
        "id": "i_tlc66xvZNk"
      },
      "source": [
        "Большинство проволочных материалов добавлялись редко и имеют большой разброс значений, что, как и с сыпучими материалами, объяснятеся технологическим процессом."
      ]
    },
    {
      "cell_type": "markdown",
      "metadata": {
        "id": "lxEV33FBCds-"
      },
      "source": [
        "### Температура"
      ]
    },
    {
      "cell_type": "code",
      "execution_count": null,
      "metadata": {
        "colab": {
          "base_uri": "https://localhost:8080/",
          "height": 300
        },
        "id": "t9WswHa2Aw3d",
        "outputId": "7ba19a88-c12a-488e-d090-495ed8f0b11a"
      },
      "outputs": [
        {
          "data": {
            "text/html": [
              "<div>\n",
              "<style scoped>\n",
              "    .dataframe tbody tr th:only-of-type {\n",
              "        vertical-align: middle;\n",
              "    }\n",
              "\n",
              "    .dataframe tbody tr th {\n",
              "        vertical-align: top;\n",
              "    }\n",
              "\n",
              "    .dataframe thead th {\n",
              "        text-align: right;\n",
              "    }\n",
              "</style>\n",
              "<table border=\"1\" class=\"dataframe\">\n",
              "  <thead>\n",
              "    <tr style=\"text-align: right;\">\n",
              "      <th></th>\n",
              "      <th>key</th>\n",
              "      <th>temp</th>\n",
              "    </tr>\n",
              "  </thead>\n",
              "  <tbody>\n",
              "    <tr>\n",
              "      <th>count</th>\n",
              "      <td>15907.000000</td>\n",
              "      <td>13006.000000</td>\n",
              "    </tr>\n",
              "    <tr>\n",
              "      <th>mean</th>\n",
              "      <td>1607.880870</td>\n",
              "      <td>1591.840920</td>\n",
              "    </tr>\n",
              "    <tr>\n",
              "      <th>std</th>\n",
              "      <td>942.212073</td>\n",
              "      <td>21.375851</td>\n",
              "    </tr>\n",
              "    <tr>\n",
              "      <th>min</th>\n",
              "      <td>1.000000</td>\n",
              "      <td>1191.000000</td>\n",
              "    </tr>\n",
              "    <tr>\n",
              "      <th>25%</th>\n",
              "      <td>790.000000</td>\n",
              "      <td>1581.000000</td>\n",
              "    </tr>\n",
              "    <tr>\n",
              "      <th>50%</th>\n",
              "      <td>1618.000000</td>\n",
              "      <td>1591.000000</td>\n",
              "    </tr>\n",
              "    <tr>\n",
              "      <th>75%</th>\n",
              "      <td>2427.000000</td>\n",
              "      <td>1601.000000</td>\n",
              "    </tr>\n",
              "    <tr>\n",
              "      <th>max</th>\n",
              "      <td>3241.000000</td>\n",
              "      <td>1705.000000</td>\n",
              "    </tr>\n",
              "  </tbody>\n",
              "</table>\n",
              "</div>"
            ],
            "text/plain": [
              "                key          temp\n",
              "count  15907.000000  13006.000000\n",
              "mean    1607.880870   1591.840920\n",
              "std      942.212073     21.375851\n",
              "min        1.000000   1191.000000\n",
              "25%      790.000000   1581.000000\n",
              "50%     1618.000000   1591.000000\n",
              "75%     2427.000000   1601.000000\n",
              "max     3241.000000   1705.000000"
            ]
          },
          "execution_count": 55,
          "metadata": {},
          "output_type": "execute_result"
        }
      ],
      "source": [
        "temp.describe()"
      ]
    },
    {
      "cell_type": "code",
      "execution_count": null,
      "metadata": {
        "colab": {
          "base_uri": "https://localhost:8080/",
          "height": 334
        },
        "id": "VO_FvOBF5sCy",
        "outputId": "c0b5fb52-04f4-4d79-f0cd-d3acb87b13ae"
      },
      "outputs": [
        {
          "data": {
            "image/png": "[encoded data removed]",
            "text/plain": [
              "<Figure size 864x360 with 2 Axes>"
            ]
          },
          "metadata": {},
          "output_type": "display_data"
        }
      ],
      "source": [
        "plot(temp)"
      ]
    },
    {
      "cell_type": "markdown",
      "metadata": {
        "id": "RJOoHF6cAs-H"
      },
      "source": [
        "Температура стали принимает значения от 1191 до 1705 градусов, при этом большинство партий нагреваюся до температуры 1580 - 1600 градусов."
      ]
    },
    {
      "cell_type": "markdown",
      "metadata": {
        "id": "bkn5ZTJHKygJ"
      },
      "source": [
        "В соответсвии с технологическим процессом, температура стали менее 1500 градусов не является нормой, поэтому исключим партии, которые нагреваеются меньше 1500 градусов."
      ]
    },
    {
      "cell_type": "code",
      "execution_count": null,
      "metadata": {
        "colab": {
          "base_uri": "https://localhost:8080/"
        },
        "id": "JOHY_nZWBUA7",
        "outputId": "d6bbab92-93fb-4d52-daa7-a5ad2ddc50ef"
      },
      "outputs": [
        {
          "data": {
            "text/plain": [
              "6"
            ]
          },
          "execution_count": 57,
          "metadata": {},
          "output_type": "execute_result"
        }
      ],
      "source": [
        "temp[temp['temp'] < 1500]['key'].nunique()"
      ]
    },
    {
      "cell_type": "markdown",
      "metadata": {
        "id": "Sn4L39YpLrjh"
      },
      "source": [
        "Таких партий 6, исключим их."
      ]
    },
    {
      "cell_type": "code",
      "execution_count": null,
      "metadata": {
        "id": "WjtM6LD6L1TZ"
      },
      "outputs": [],
      "source": [
        "low = temp[temp['temp'] < 1500]['key'].unique()"
      ]
    },
    {
      "cell_type": "code",
      "execution_count": null,
      "metadata": {
        "id": "iIKcKbE_LwuI"
      },
      "outputs": [],
      "source": [
        "temp = temp.query('key != list(@low)')"
      ]
    },
    {
      "cell_type": "markdown",
      "metadata": {
        "id": "lF2LVDDLHhtw"
      },
      "source": [
        "Поскольку необходимо предсказать финальную температуру стали, определим партии, в которых она не указана."
      ]
    },
    {
      "cell_type": "code",
      "execution_count": null,
      "metadata": {
        "colab": {
          "base_uri": "https://localhost:8080/"
        },
        "id": "-ICgwF2wAw-C",
        "outputId": "1e5c5b51-1832-40d0-ddd6-bf63dc395ea9"
      },
      "outputs": [
        {
          "data": {
            "text/plain": [
              "738"
            ]
          },
          "execution_count": 60,
          "metadata": {},
          "output_type": "execute_result"
        }
      ],
      "source": [
        "temp[temp['temp'].isna()]['key'].nunique()"
      ]
    },
    {
      "cell_type": "markdown",
      "metadata": {
        "id": "l12ffr3xIB_q"
      },
      "source": [
        "Температура пропущена в 738 партиях, однако для некоторых партий, возможно, пропущена промежуточная температура, а не финальная. Проверим это."
      ]
    },
    {
      "cell_type": "code",
      "execution_count": null,
      "metadata": {
        "id": "fV5MtP_LGz5q"
      },
      "outputs": [],
      "source": [
        "def last(x):\n",
        "    return x.values[-1]\n",
        "def first(x):\n",
        "    return x.values[0]"
      ]
    },
    {
      "cell_type": "code",
      "execution_count": null,
      "metadata": {
        "colab": {
          "base_uri": "https://localhost:8080/"
        },
        "id": "HM6Y4iy7GxHO",
        "outputId": "abda1133-b83f-44d5-ae55-2cd8348a35ce"
      },
      "outputs": [
        {
          "data": {
            "text/plain": [
              "last    738\n",
              "dtype: int64"
            ]
          },
          "execution_count": 62,
          "metadata": {},
          "output_type": "execute_result"
        }
      ],
      "source": [
        "temp.groupby('key')['temp'].agg([last]).isna().sum()"
      ]
    },
    {
      "cell_type": "markdown",
      "metadata": {
        "id": "Eifx5UH-HsLh"
      },
      "source": [
        "Как видим, если какая-либо температура стали не указана, то пропущена и финальная температура. Удалим партии, с такими пропусками."
      ]
    },
    {
      "cell_type": "code",
      "execution_count": null,
      "metadata": {
        "id": "gf7Jl4n1I0Jp"
      },
      "outputs": [],
      "source": [
        "nan = temp[temp['temp'].isna()]['key'].unique()"
      ]
    },
    {
      "cell_type": "code",
      "execution_count": null,
      "metadata": {
        "id": "eO0MTZz1EaS6"
      },
      "outputs": [],
      "source": [
        "temp = temp.query('key != list(@nan)')"
      ]
    },
    {
      "cell_type": "markdown",
      "metadata": {
        "id": "2LU8TRb3SCHU"
      },
      "source": [
        "Проверим, есть ли партии стали, в которых замер температуры проводился всего 1 раз."
      ]
    },
    {
      "cell_type": "code",
      "execution_count": null,
      "metadata": {
        "colab": {
          "base_uri": "https://localhost:8080/",
          "height": 143
        },
        "id": "tF0rL37pQ262",
        "outputId": "2c0439a5-f365-4b3e-9d8a-b6a72111d26d"
      },
      "outputs": [
        {
          "data": {
            "text/html": [
              "<div>\n",
              "<style scoped>\n",
              "    .dataframe tbody tr th:only-of-type {\n",
              "        vertical-align: middle;\n",
              "    }\n",
              "\n",
              "    .dataframe tbody tr th {\n",
              "        vertical-align: top;\n",
              "    }\n",
              "\n",
              "    .dataframe thead th {\n",
              "        text-align: right;\n",
              "    }\n",
              "</style>\n",
              "<table border=\"1\" class=\"dataframe\">\n",
              "  <thead>\n",
              "    <tr style=\"text-align: right;\">\n",
              "      <th></th>\n",
              "      <th>time_sample</th>\n",
              "      <th>temp</th>\n",
              "    </tr>\n",
              "    <tr>\n",
              "      <th>key</th>\n",
              "      <th></th>\n",
              "      <th></th>\n",
              "    </tr>\n",
              "  </thead>\n",
              "  <tbody>\n",
              "    <tr>\n",
              "      <th>195</th>\n",
              "      <td>1</td>\n",
              "      <td>1</td>\n",
              "    </tr>\n",
              "    <tr>\n",
              "      <th>279</th>\n",
              "      <td>1</td>\n",
              "      <td>1</td>\n",
              "    </tr>\n",
              "  </tbody>\n",
              "</table>\n",
              "</div>"
            ],
            "text/plain": [
              "     time_sample  temp\n",
              "key                   \n",
              "195            1     1\n",
              "279            1     1"
            ]
          },
          "execution_count": 65,
          "metadata": {},
          "output_type": "execute_result"
        }
      ],
      "source": [
        "temp.groupby('key').count().query('time_sample == 1')"
      ]
    },
    {
      "cell_type": "code",
      "execution_count": null,
      "metadata": {
        "colab": {
          "base_uri": "https://localhost:8080/",
          "height": 112
        },
        "id": "g6p-E77DOZXS",
        "outputId": "1627d9bc-4263-4022-986b-dfc173a72314"
      },
      "outputs": [
        {
          "data": {
            "text/html": [
              "<div>\n",
              "<style scoped>\n",
              "    .dataframe tbody tr th:only-of-type {\n",
              "        vertical-align: middle;\n",
              "    }\n",
              "\n",
              "    .dataframe tbody tr th {\n",
              "        vertical-align: top;\n",
              "    }\n",
              "\n",
              "    .dataframe thead th {\n",
              "        text-align: right;\n",
              "    }\n",
              "</style>\n",
              "<table border=\"1\" class=\"dataframe\">\n",
              "  <thead>\n",
              "    <tr style=\"text-align: right;\">\n",
              "      <th></th>\n",
              "      <th>key</th>\n",
              "      <th>time_sample</th>\n",
              "      <th>temp</th>\n",
              "    </tr>\n",
              "  </thead>\n",
              "  <tbody>\n",
              "    <tr>\n",
              "      <th>1100</th>\n",
              "      <td>195</td>\n",
              "      <td>2019-05-10 14:10:23</td>\n",
              "      <td>1583.0</td>\n",
              "    </tr>\n",
              "    <tr>\n",
              "      <th>1554</th>\n",
              "      <td>279</td>\n",
              "      <td>2019-05-13 23:07:28</td>\n",
              "      <td>1603.0</td>\n",
              "    </tr>\n",
              "  </tbody>\n",
              "</table>\n",
              "</div>"
            ],
            "text/plain": [
              "      key         time_sample    temp\n",
              "1100  195 2019-05-10 14:10:23  1583.0\n",
              "1554  279 2019-05-13 23:07:28  1603.0"
            ]
          },
          "execution_count": 66,
          "metadata": {},
          "output_type": "execute_result"
        }
      ],
      "source": [
        "temp.query('key==[195, 279]')"
      ]
    },
    {
      "cell_type": "code",
      "execution_count": null,
      "metadata": {
        "colab": {
          "base_uri": "https://localhost:8080/",
          "height": 81
        },
        "id": "tDdfqHHeSQ7C",
        "outputId": "48c48ebd-963e-455c-a4ec-4c1d091ae4f9"
      },
      "outputs": [
        {
          "data": {
            "text/html": [
              "<div>\n",
              "<style scoped>\n",
              "    .dataframe tbody tr th:only-of-type {\n",
              "        vertical-align: middle;\n",
              "    }\n",
              "\n",
              "    .dataframe tbody tr th {\n",
              "        vertical-align: top;\n",
              "    }\n",
              "\n",
              "    .dataframe thead th {\n",
              "        text-align: right;\n",
              "    }\n",
              "</style>\n",
              "<table border=\"1\" class=\"dataframe\">\n",
              "  <thead>\n",
              "    <tr style=\"text-align: right;\">\n",
              "      <th></th>\n",
              "      <th>key</th>\n",
              "      <th>Bulk 1</th>\n",
              "      <th>Bulk 2</th>\n",
              "      <th>Bulk 3</th>\n",
              "      <th>Bulk 4</th>\n",
              "      <th>Bulk 5</th>\n",
              "      <th>Bulk 6</th>\n",
              "      <th>Bulk 7</th>\n",
              "      <th>Bulk 8</th>\n",
              "      <th>Bulk 9</th>\n",
              "      <th>Bulk 10</th>\n",
              "      <th>Bulk 11</th>\n",
              "      <th>Bulk 12</th>\n",
              "      <th>Bulk 13</th>\n",
              "      <th>Bulk 14</th>\n",
              "      <th>Bulk 15</th>\n",
              "    </tr>\n",
              "  </thead>\n",
              "  <tbody>\n",
              "    <tr>\n",
              "      <th>261</th>\n",
              "      <td>279</td>\n",
              "      <td>NaN</td>\n",
              "      <td>NaN</td>\n",
              "      <td>NaN</td>\n",
              "      <td>NaN</td>\n",
              "      <td>NaN</td>\n",
              "      <td>89.0</td>\n",
              "      <td>NaN</td>\n",
              "      <td>NaN</td>\n",
              "      <td>NaN</td>\n",
              "      <td>NaN</td>\n",
              "      <td>NaN</td>\n",
              "      <td>NaN</td>\n",
              "      <td>NaN</td>\n",
              "      <td>NaN</td>\n",
              "      <td>NaN</td>\n",
              "    </tr>\n",
              "  </tbody>\n",
              "</table>\n",
              "</div>"
            ],
            "text/plain": [
              "     key  Bulk 1  Bulk 2  Bulk 3  Bulk 4  Bulk 5  Bulk 6  Bulk 7  Bulk 8  \\\n",
              "261  279     NaN     NaN     NaN     NaN     NaN    89.0     NaN     NaN   \n",
              "\n",
              "     Bulk 9  Bulk 10  Bulk 11  Bulk 12  Bulk 13  Bulk 14  Bulk 15  \n",
              "261     NaN      NaN      NaN      NaN      NaN      NaN      NaN  "
            ]
          },
          "execution_count": 67,
          "metadata": {},
          "output_type": "execute_result"
        }
      ],
      "source": [
        "bulk.query('key==[195, 279]')"
      ]
    },
    {
      "cell_type": "code",
      "execution_count": null,
      "metadata": {
        "colab": {
          "base_uri": "https://localhost:8080/",
          "height": 81
        },
        "id": "wpjFg5h6SXGt",
        "outputId": "bf74dfe7-5a04-411c-a709-c046d387a618"
      },
      "outputs": [
        {
          "data": {
            "text/html": [
              "<div>\n",
              "<style scoped>\n",
              "    .dataframe tbody tr th:only-of-type {\n",
              "        vertical-align: middle;\n",
              "    }\n",
              "\n",
              "    .dataframe tbody tr th {\n",
              "        vertical-align: top;\n",
              "    }\n",
              "\n",
              "    .dataframe thead th {\n",
              "        text-align: right;\n",
              "    }\n",
              "</style>\n",
              "<table border=\"1\" class=\"dataframe\">\n",
              "  <thead>\n",
              "    <tr style=\"text-align: right;\">\n",
              "      <th></th>\n",
              "      <th>key</th>\n",
              "      <th>Wire 1</th>\n",
              "      <th>Wire 2</th>\n",
              "      <th>Wire 3</th>\n",
              "      <th>Wire 4</th>\n",
              "      <th>Wire 5</th>\n",
              "      <th>Wire 6</th>\n",
              "      <th>Wire 7</th>\n",
              "      <th>Wire 8</th>\n",
              "      <th>Wire 9</th>\n",
              "    </tr>\n",
              "  </thead>\n",
              "  <tbody>\n",
              "    <tr>\n",
              "      <th>256</th>\n",
              "      <td>279</td>\n",
              "      <td>99.066236</td>\n",
              "      <td>NaN</td>\n",
              "      <td>NaN</td>\n",
              "      <td>NaN</td>\n",
              "      <td>NaN</td>\n",
              "      <td>NaN</td>\n",
              "      <td>NaN</td>\n",
              "      <td>NaN</td>\n",
              "      <td>NaN</td>\n",
              "    </tr>\n",
              "  </tbody>\n",
              "</table>\n",
              "</div>"
            ],
            "text/plain": [
              "     key     Wire 1  Wire 2  Wire 3  Wire 4  Wire 5  Wire 6  Wire 7  Wire 8  \\\n",
              "256  279  99.066236     NaN     NaN     NaN     NaN     NaN     NaN     NaN   \n",
              "\n",
              "     Wire 9  \n",
              "256     NaN  "
            ]
          },
          "execution_count": 68,
          "metadata": {},
          "output_type": "execute_result"
        }
      ],
      "source": [
        "wire.query('key==[195, 279]')"
      ]
    },
    {
      "cell_type": "code",
      "execution_count": null,
      "metadata": {
        "colab": {
          "base_uri": "https://localhost:8080/",
          "height": 112
        },
        "id": "dUcMLkf-SbGj",
        "outputId": "be69c9fd-7aa8-4976-988d-77b786fc17d4"
      },
      "outputs": [
        {
          "data": {
            "text/html": [
              "<div>\n",
              "<style scoped>\n",
              "    .dataframe tbody tr th:only-of-type {\n",
              "        vertical-align: middle;\n",
              "    }\n",
              "\n",
              "    .dataframe tbody tr th {\n",
              "        vertical-align: top;\n",
              "    }\n",
              "\n",
              "    .dataframe thead th {\n",
              "        text-align: right;\n",
              "    }\n",
              "</style>\n",
              "<table border=\"1\" class=\"dataframe\">\n",
              "  <thead>\n",
              "    <tr style=\"text-align: right;\">\n",
              "      <th></th>\n",
              "      <th>key</th>\n",
              "      <th>gas</th>\n",
              "    </tr>\n",
              "  </thead>\n",
              "  <tbody>\n",
              "    <tr>\n",
              "      <th>193</th>\n",
              "      <td>195</td>\n",
              "      <td>0.374436</td>\n",
              "    </tr>\n",
              "    <tr>\n",
              "      <th>276</th>\n",
              "      <td>279</td>\n",
              "      <td>7.232359</td>\n",
              "    </tr>\n",
              "  </tbody>\n",
              "</table>\n",
              "</div>"
            ],
            "text/plain": [
              "     key       gas\n",
              "193  195  0.374436\n",
              "276  279  7.232359"
            ]
          },
          "execution_count": 69,
          "metadata": {},
          "output_type": "execute_result"
        }
      ],
      "source": [
        "gas.query('key==[195, 279]')"
      ]
    },
    {
      "cell_type": "markdown",
      "metadata": {
        "id": "PNWNJMyOSpqI"
      },
      "source": [
        "В партиях 195 и 279 замер температуры проводился 1 раз, в партию 195 не добавлялась никаких веществ, а в партию 279 добавлялась один проволочный материал. Данные партии не можем использовать в модели, так как начальная температура является и последний, соотвесвенно мы не сможем использовать начальную температуру как признак для обучения модели."
      ]
    },
    {
      "cell_type": "code",
      "execution_count": null,
      "metadata": {
        "id": "WIPdMi8cTlcA"
      },
      "outputs": [],
      "source": [
        "temp = temp.query('key!=[195, 279]')"
      ]
    },
    {
      "cell_type": "markdown",
      "metadata": {
        "id": "_t_pzZN33aqI"
      },
      "source": [
        "Таким образом, в многих предоставленных данных присутствует большой разброс значений, что обусловлено спецификой технологического процесса (различием исходного сырья). Однако эти отклонения не являются аномалиями, за исключением температуры стали и реактивной мощности электродов, которые очищены от выбросов."
      ]
    },
    {
      "cell_type": "markdown",
      "metadata": {
        "id": "cPgWva2y1BNL"
      },
      "source": [
        "## Подготовка данных"
      ]
    },
    {
      "cell_type": "markdown",
      "metadata": {
        "id": "3d92Hks4F-Gt"
      },
      "source": [
        "### Электроды"
      ]
    },
    {
      "cell_type": "markdown",
      "metadata": {
        "id": "WrxZ51pNIAeJ"
      },
      "source": [
        "Выделим время нагрева дугой в минутах."
      ]
    },
    {
      "cell_type": "code",
      "execution_count": null,
      "metadata": {
        "id": "-hhQI9wGGB48"
      },
      "outputs": [],
      "source": [
        "arc['arc_time'] = (arc['end_arc'] - arc['start_arc']).dt.total_seconds()/60"
      ]
    },
    {
      "cell_type": "markdown",
      "metadata": {
        "id": "-WP5ilUrKe90"
      },
      "source": [
        "Сгрупируем таблицу по номеру партии, мощность и время будем использовать среднее, а также добавим количество нагревов электродами партии стали."
      ]
    },
    {
      "cell_type": "code",
      "execution_count": null,
      "metadata": {
        "id": "QH0DjZWXWRMu"
      },
      "outputs": [],
      "source": [
        "arc_final = arc.groupby('key')[['active_power', 'reactive_power', 'arc_time']].agg({'active_power':['mean', 'count'],\n",
        "                                                                                              'reactive_power':'mean', \n",
        "                                                                                              'arc_time':'mean'})\n",
        "arc_final.columns = ['active_power', 'number_arc', 'reactive_power', 'arc_time']"
      ]
    },
    {
      "cell_type": "code",
      "execution_count": null,
      "metadata": {
        "colab": {
          "base_uri": "https://localhost:8080/",
          "height": 237
        },
        "id": "z50HrY_wKJxs",
        "outputId": "c39cb836-7d9c-4670-d7aa-957c4de82e14"
      },
      "outputs": [
        {
          "data": {
            "text/html": [
              "<div>\n",
              "<style scoped>\n",
              "    .dataframe tbody tr th:only-of-type {\n",
              "        vertical-align: middle;\n",
              "    }\n",
              "\n",
              "    .dataframe tbody tr th {\n",
              "        vertical-align: top;\n",
              "    }\n",
              "\n",
              "    .dataframe thead th {\n",
              "        text-align: right;\n",
              "    }\n",
              "</style>\n",
              "<table border=\"1\" class=\"dataframe\">\n",
              "  <thead>\n",
              "    <tr style=\"text-align: right;\">\n",
              "      <th></th>\n",
              "      <th>active_power</th>\n",
              "      <th>number_arc</th>\n",
              "      <th>reactive_power</th>\n",
              "      <th>arc_time</th>\n",
              "    </tr>\n",
              "    <tr>\n",
              "      <th>key</th>\n",
              "      <th></th>\n",
              "      <th></th>\n",
              "      <th></th>\n",
              "      <th></th>\n",
              "    </tr>\n",
              "  </thead>\n",
              "  <tbody>\n",
              "    <tr>\n",
              "      <th>1</th>\n",
              "      <td>0.975629</td>\n",
              "      <td>5</td>\n",
              "      <td>0.636648</td>\n",
              "      <td>3.660000</td>\n",
              "    </tr>\n",
              "    <tr>\n",
              "      <th>2</th>\n",
              "      <td>0.763150</td>\n",
              "      <td>4</td>\n",
              "      <td>0.499528</td>\n",
              "      <td>3.379167</td>\n",
              "    </tr>\n",
              "    <tr>\n",
              "      <th>3</th>\n",
              "      <td>0.505176</td>\n",
              "      <td>5</td>\n",
              "      <td>0.319815</td>\n",
              "      <td>2.183333</td>\n",
              "    </tr>\n",
              "    <tr>\n",
              "      <th>4</th>\n",
              "      <td>0.802313</td>\n",
              "      <td>4</td>\n",
              "      <td>0.515074</td>\n",
              "      <td>3.087500</td>\n",
              "    </tr>\n",
              "    <tr>\n",
              "      <th>5</th>\n",
              "      <td>0.836793</td>\n",
              "      <td>4</td>\n",
              "      <td>0.563161</td>\n",
              "      <td>3.620833</td>\n",
              "    </tr>\n",
              "  </tbody>\n",
              "</table>\n",
              "</div>"
            ],
            "text/plain": [
              "     active_power  number_arc  reactive_power  arc_time\n",
              "key                                                    \n",
              "1        0.975629           5        0.636648  3.660000\n",
              "2        0.763150           4        0.499528  3.379167\n",
              "3        0.505176           5        0.319815  2.183333\n",
              "4        0.802313           4        0.515074  3.087500\n",
              "5        0.836793           4        0.563161  3.620833"
            ]
          },
          "execution_count": 73,
          "metadata": {},
          "output_type": "execute_result"
        }
      ],
      "source": [
        "arc_final.head()"
      ]
    },
    {
      "cell_type": "code",
      "execution_count": null,
      "metadata": {
        "colab": {
          "base_uri": "https://localhost:8080/",
          "height": 365
        },
        "id": "ST1cDnVlK14-",
        "outputId": "777c4d70-f470-4fef-f6a8-affafd1ad00b"
      },
      "outputs": [
        {
          "data": {
            "text/plain": [
              "<AxesSubplot:>"
            ]
          },
          "execution_count": 74,
          "metadata": {},
          "output_type": "execute_result"
        },
        {
          "data": {
            "image/png": "[encoded data removed]",
            "text/plain": [
              "<Figure size 576x396 with 1 Axes>"
            ]
          },
          "metadata": {},
          "output_type": "display_data"
        }
      ],
      "source": [
        "arc_final['arc_time'].hist()"
      ]
    },
    {
      "cell_type": "code",
      "execution_count": null,
      "metadata": {
        "colab": {
          "base_uri": "https://localhost:8080/"
        },
        "id": "lB8zecNFLJT_",
        "outputId": "529765af-0d38-4fcf-f33c-27a8122c1879"
      },
      "outputs": [
        {
          "data": {
            "text/plain": [
              "(0.95, 6.333333333333333)"
            ]
          },
          "execution_count": 75,
          "metadata": {},
          "output_type": "execute_result"
        }
      ],
      "source": [
        "arc_final['arc_time'].min(), arc_final['arc_time'].max()"
      ]
    },
    {
      "cell_type": "markdown",
      "metadata": {
        "id": "DRpTTcxlK_af"
      },
      "source": [
        "Среднее время нагрева дугой у партий различается и находиться в диапозоне от 0.95 до 6.33 минуты."
      ]
    },
    {
      "cell_type": "code",
      "execution_count": null,
      "metadata": {
        "colab": {
          "base_uri": "https://localhost:8080/",
          "height": 365
        },
        "id": "D6ajdpJzZXMc",
        "outputId": "e41e30d1-f167-48fc-9531-09ef6e2f603f"
      },
      "outputs": [
        {
          "data": {
            "text/plain": [
              "<AxesSubplot:>"
            ]
          },
          "execution_count": 76,
          "metadata": {},
          "output_type": "execute_result"
        },
        {
          "data": {
            "image/png": "[encoded data removed]",
            "text/plain": [
              "<Figure size 576x396 with 1 Axes>"
            ]
          },
          "metadata": {},
          "output_type": "display_data"
        }
      ],
      "source": [
        "arc_final['number_arc'].hist()"
      ]
    },
    {
      "cell_type": "code",
      "execution_count": null,
      "metadata": {
        "colab": {
          "base_uri": "https://localhost:8080/"
        },
        "id": "PiEdVhZGZh22",
        "outputId": "80f0b62f-1b83-46d1-c226-828ecce89d10",
        "scrolled": true
      },
      "outputs": [
        {
          "data": {
            "text/plain": [
              "(1, 16)"
            ]
          },
          "execution_count": 77,
          "metadata": {},
          "output_type": "execute_result"
        }
      ],
      "source": [
        "arc_final['number_arc'].min(), arc_final['number_arc'].max()"
      ]
    },
    {
      "cell_type": "markdown",
      "metadata": {
        "id": "wNfF8dlcZmm9"
      },
      "source": [
        "Минимальное количество нагревов партии стали электродами составляет 1, а максимальное - 16."
      ]
    },
    {
      "cell_type": "markdown",
      "metadata": {
        "id": "ImXNYyuCKaDf"
      },
      "source": [
        "### Температура"
      ]
    },
    {
      "cell_type": "markdown",
      "metadata": {
        "id": "9-6KXKF7DB2G"
      },
      "source": [
        "Отсортируем таблицу с температурой стали по номеру партии и времени замера и выделим первую и финальную температуру, а также время замера первой и последней температуры и найдем их разницу в минутах. \n",
        "\n",
        "Также, можно добавить количество замеров температур, однако задача модели определять финальную температуру и свести к минимуму количество замеров, поэтому данный признак будет являться нерелевантным. "
      ]
    },
    {
      "cell_type": "code",
      "execution_count": null,
      "metadata": {
        "id": "q1TsNh3rFFFW"
      },
      "outputs": [],
      "source": [
        "temp_final = temp.sort_values(by=['key', 'time_sample']).groupby('key')[['temp','time_sample']].agg(['first','last'])\n",
        "temp_final.columns = ['first_temp', 'last_temp', 'first_time', 'last_time']\n",
        "temp_final['delta_time'] = (temp_final['last_time'] - temp_final['first_time']).dt.total_seconds()/60\n",
        "temp_final = temp_final.drop(['first_time', 'last_time'], axis=1)"
      ]
    },
    {
      "cell_type": "code",
      "execution_count": null,
      "metadata": {
        "colab": {
          "base_uri": "https://localhost:8080/",
          "height": 237
        },
        "id": "-a9SnatQFw7b",
        "outputId": "47c1a616-aea7-4146-d198-ee3d46d6dda9",
        "scrolled": true
      },
      "outputs": [
        {
          "data": {
            "text/html": [
              "<div>\n",
              "<style scoped>\n",
              "    .dataframe tbody tr th:only-of-type {\n",
              "        vertical-align: middle;\n",
              "    }\n",
              "\n",
              "    .dataframe tbody tr th {\n",
              "        vertical-align: top;\n",
              "    }\n",
              "\n",
              "    .dataframe thead th {\n",
              "        text-align: right;\n",
              "    }\n",
              "</style>\n",
              "<table border=\"1\" class=\"dataframe\">\n",
              "  <thead>\n",
              "    <tr style=\"text-align: right;\">\n",
              "      <th></th>\n",
              "      <th>first_temp</th>\n",
              "      <th>last_temp</th>\n",
              "      <th>delta_time</th>\n",
              "    </tr>\n",
              "    <tr>\n",
              "      <th>key</th>\n",
              "      <th></th>\n",
              "      <th></th>\n",
              "      <th></th>\n",
              "    </tr>\n",
              "  </thead>\n",
              "  <tbody>\n",
              "    <tr>\n",
              "      <th>1</th>\n",
              "      <td>1571.0</td>\n",
              "      <td>1613.0</td>\n",
              "      <td>14.350000</td>\n",
              "    </tr>\n",
              "    <tr>\n",
              "      <th>2</th>\n",
              "      <td>1581.0</td>\n",
              "      <td>1602.0</td>\n",
              "      <td>21.750000</td>\n",
              "    </tr>\n",
              "    <tr>\n",
              "      <th>3</th>\n",
              "      <td>1596.0</td>\n",
              "      <td>1599.0</td>\n",
              "      <td>21.666667</td>\n",
              "    </tr>\n",
              "    <tr>\n",
              "      <th>4</th>\n",
              "      <td>1601.0</td>\n",
              "      <td>1625.0</td>\n",
              "      <td>6.466667</td>\n",
              "    </tr>\n",
              "    <tr>\n",
              "      <th>5</th>\n",
              "      <td>1576.0</td>\n",
              "      <td>1602.0</td>\n",
              "      <td>12.700000</td>\n",
              "    </tr>\n",
              "  </tbody>\n",
              "</table>\n",
              "</div>"
            ],
            "text/plain": [
              "     first_temp  last_temp  delta_time\n",
              "key                                   \n",
              "1        1571.0     1613.0   14.350000\n",
              "2        1581.0     1602.0   21.750000\n",
              "3        1596.0     1599.0   21.666667\n",
              "4        1601.0     1625.0    6.466667\n",
              "5        1576.0     1602.0   12.700000"
            ]
          },
          "execution_count": 79,
          "metadata": {},
          "output_type": "execute_result"
        }
      ],
      "source": [
        "temp_final.head()"
      ]
    },
    {
      "cell_type": "markdown",
      "metadata": {
        "id": "k6R0_BLcKqxF"
      },
      "source": [
        "### Объединение таблиц"
      ]
    },
    {
      "cell_type": "markdown",
      "metadata": {
        "id": "ixqqSsfRPxJ6"
      },
      "source": [
        "Заполним нулями пропуски в таблицах с сыпучими и проволочными материалами, так как если наличие пропуска означает не добавление этого материала при плавке партии стали."
      ]
    },
    {
      "cell_type": "code",
      "execution_count": null,
      "metadata": {
        "id": "MIn02OwxQB2X"
      },
      "outputs": [],
      "source": [
        "bulk =  bulk.fillna(0)\n",
        "wire = wire.fillna(0)"
      ]
    },
    {
      "cell_type": "code",
      "execution_count": null,
      "metadata": {
        "id": "ul_UInzmKPqe"
      },
      "outputs": [],
      "source": [
        "df = temp_final.join(arc_final, how='left')\n",
        "df = df.join(gas.set_index('key'), how='left')\n",
        "df = df.join(bulk.set_index('key'), how='left')\n",
        "df = df.join(wire.set_index('key'), how='left')"
      ]
    },
    {
      "cell_type": "code",
      "execution_count": null,
      "metadata": {
        "colab": {
          "base_uri": "https://localhost:8080/",
          "height": 348
        },
        "id": "XE9UbhpzQhex",
        "outputId": "db3794a4-c47e-4927-9150-3441087d0685"
      },
      "outputs": [
        {
          "data": {
            "text/html": [
              "<div>\n",
              "<style scoped>\n",
              "    .dataframe tbody tr th:only-of-type {\n",
              "        vertical-align: middle;\n",
              "    }\n",
              "\n",
              "    .dataframe tbody tr th {\n",
              "        vertical-align: top;\n",
              "    }\n",
              "\n",
              "    .dataframe thead th {\n",
              "        text-align: right;\n",
              "    }\n",
              "</style>\n",
              "<table border=\"1\" class=\"dataframe\">\n",
              "  <thead>\n",
              "    <tr style=\"text-align: right;\">\n",
              "      <th></th>\n",
              "      <th>first_temp</th>\n",
              "      <th>last_temp</th>\n",
              "      <th>delta_time</th>\n",
              "      <th>active_power</th>\n",
              "      <th>number_arc</th>\n",
              "      <th>reactive_power</th>\n",
              "      <th>arc_time</th>\n",
              "      <th>gas</th>\n",
              "      <th>Bulk 1</th>\n",
              "      <th>Bulk 2</th>\n",
              "      <th>...</th>\n",
              "      <th>Bulk 15</th>\n",
              "      <th>Wire 1</th>\n",
              "      <th>Wire 2</th>\n",
              "      <th>Wire 3</th>\n",
              "      <th>Wire 4</th>\n",
              "      <th>Wire 5</th>\n",
              "      <th>Wire 6</th>\n",
              "      <th>Wire 7</th>\n",
              "      <th>Wire 8</th>\n",
              "      <th>Wire 9</th>\n",
              "    </tr>\n",
              "    <tr>\n",
              "      <th>key</th>\n",
              "      <th></th>\n",
              "      <th></th>\n",
              "      <th></th>\n",
              "      <th></th>\n",
              "      <th></th>\n",
              "      <th></th>\n",
              "      <th></th>\n",
              "      <th></th>\n",
              "      <th></th>\n",
              "      <th></th>\n",
              "      <th></th>\n",
              "      <th></th>\n",
              "      <th></th>\n",
              "      <th></th>\n",
              "      <th></th>\n",
              "      <th></th>\n",
              "      <th></th>\n",
              "      <th></th>\n",
              "      <th></th>\n",
              "      <th></th>\n",
              "      <th></th>\n",
              "    </tr>\n",
              "  </thead>\n",
              "  <tbody>\n",
              "    <tr>\n",
              "      <th>1</th>\n",
              "      <td>1571.0</td>\n",
              "      <td>1613.0</td>\n",
              "      <td>14.350000</td>\n",
              "      <td>0.975629</td>\n",
              "      <td>5.0</td>\n",
              "      <td>0.636648</td>\n",
              "      <td>3.660000</td>\n",
              "      <td>29.749986</td>\n",
              "      <td>0.0</td>\n",
              "      <td>0.0</td>\n",
              "      <td>...</td>\n",
              "      <td>154.0</td>\n",
              "      <td>60.059998</td>\n",
              "      <td>0.00000</td>\n",
              "      <td>0.0</td>\n",
              "      <td>0.0</td>\n",
              "      <td>0.0</td>\n",
              "      <td>0.0</td>\n",
              "      <td>0.0</td>\n",
              "      <td>0.0</td>\n",
              "      <td>0.0</td>\n",
              "    </tr>\n",
              "    <tr>\n",
              "      <th>2</th>\n",
              "      <td>1581.0</td>\n",
              "      <td>1602.0</td>\n",
              "      <td>21.750000</td>\n",
              "      <td>0.763150</td>\n",
              "      <td>4.0</td>\n",
              "      <td>0.499528</td>\n",
              "      <td>3.379167</td>\n",
              "      <td>12.555561</td>\n",
              "      <td>0.0</td>\n",
              "      <td>0.0</td>\n",
              "      <td>...</td>\n",
              "      <td>154.0</td>\n",
              "      <td>96.052315</td>\n",
              "      <td>0.00000</td>\n",
              "      <td>0.0</td>\n",
              "      <td>0.0</td>\n",
              "      <td>0.0</td>\n",
              "      <td>0.0</td>\n",
              "      <td>0.0</td>\n",
              "      <td>0.0</td>\n",
              "      <td>0.0</td>\n",
              "    </tr>\n",
              "    <tr>\n",
              "      <th>3</th>\n",
              "      <td>1596.0</td>\n",
              "      <td>1599.0</td>\n",
              "      <td>21.666667</td>\n",
              "      <td>0.505176</td>\n",
              "      <td>5.0</td>\n",
              "      <td>0.319815</td>\n",
              "      <td>2.183333</td>\n",
              "      <td>28.554793</td>\n",
              "      <td>0.0</td>\n",
              "      <td>0.0</td>\n",
              "      <td>...</td>\n",
              "      <td>153.0</td>\n",
              "      <td>91.160157</td>\n",
              "      <td>0.00000</td>\n",
              "      <td>0.0</td>\n",
              "      <td>0.0</td>\n",
              "      <td>0.0</td>\n",
              "      <td>0.0</td>\n",
              "      <td>0.0</td>\n",
              "      <td>0.0</td>\n",
              "      <td>0.0</td>\n",
              "    </tr>\n",
              "    <tr>\n",
              "      <th>4</th>\n",
              "      <td>1601.0</td>\n",
              "      <td>1625.0</td>\n",
              "      <td>6.466667</td>\n",
              "      <td>0.802313</td>\n",
              "      <td>4.0</td>\n",
              "      <td>0.515074</td>\n",
              "      <td>3.087500</td>\n",
              "      <td>18.841219</td>\n",
              "      <td>0.0</td>\n",
              "      <td>0.0</td>\n",
              "      <td>...</td>\n",
              "      <td>154.0</td>\n",
              "      <td>89.063515</td>\n",
              "      <td>0.00000</td>\n",
              "      <td>0.0</td>\n",
              "      <td>0.0</td>\n",
              "      <td>0.0</td>\n",
              "      <td>0.0</td>\n",
              "      <td>0.0</td>\n",
              "      <td>0.0</td>\n",
              "      <td>0.0</td>\n",
              "    </tr>\n",
              "    <tr>\n",
              "      <th>5</th>\n",
              "      <td>1576.0</td>\n",
              "      <td>1602.0</td>\n",
              "      <td>12.700000</td>\n",
              "      <td>0.836793</td>\n",
              "      <td>4.0</td>\n",
              "      <td>0.563161</td>\n",
              "      <td>3.620833</td>\n",
              "      <td>5.413692</td>\n",
              "      <td>0.0</td>\n",
              "      <td>0.0</td>\n",
              "      <td>...</td>\n",
              "      <td>152.0</td>\n",
              "      <td>89.238236</td>\n",
              "      <td>9.11456</td>\n",
              "      <td>0.0</td>\n",
              "      <td>0.0</td>\n",
              "      <td>0.0</td>\n",
              "      <td>0.0</td>\n",
              "      <td>0.0</td>\n",
              "      <td>0.0</td>\n",
              "      <td>0.0</td>\n",
              "    </tr>\n",
              "  </tbody>\n",
              "</table>\n",
              "<p>5 rows × 32 columns</p>\n",
              "</div>"
            ],
            "text/plain": [
              "     first_temp  last_temp  delta_time  active_power  number_arc  \\\n",
              "key                                                                \n",
              "1        1571.0     1613.0   14.350000      0.975629         5.0   \n",
              "2        1581.0     1602.0   21.750000      0.763150         4.0   \n",
              "3        1596.0     1599.0   21.666667      0.505176         5.0   \n",
              "4        1601.0     1625.0    6.466667      0.802313         4.0   \n",
              "5        1576.0     1602.0   12.700000      0.836793         4.0   \n",
              "\n",
              "     reactive_power  arc_time        gas  Bulk 1  Bulk 2  ...  Bulk 15  \\\n",
              "key                                                       ...            \n",
              "1          0.636648  3.660000  29.749986     0.0     0.0  ...    154.0   \n",
              "2          0.499528  3.379167  12.555561     0.0     0.0  ...    154.0   \n",
              "3          0.319815  2.183333  28.554793     0.0     0.0  ...    153.0   \n",
              "4          0.515074  3.087500  18.841219     0.0     0.0  ...    154.0   \n",
              "5          0.563161  3.620833   5.413692     0.0     0.0  ...    152.0   \n",
              "\n",
              "        Wire 1   Wire 2  Wire 3  Wire 4  Wire 5  Wire 6  Wire 7  Wire 8  \\\n",
              "key                                                                       \n",
              "1    60.059998  0.00000     0.0     0.0     0.0     0.0     0.0     0.0   \n",
              "2    96.052315  0.00000     0.0     0.0     0.0     0.0     0.0     0.0   \n",
              "3    91.160157  0.00000     0.0     0.0     0.0     0.0     0.0     0.0   \n",
              "4    89.063515  0.00000     0.0     0.0     0.0     0.0     0.0     0.0   \n",
              "5    89.238236  9.11456     0.0     0.0     0.0     0.0     0.0     0.0   \n",
              "\n",
              "     Wire 9  \n",
              "key          \n",
              "1       0.0  \n",
              "2       0.0  \n",
              "3       0.0  \n",
              "4       0.0  \n",
              "5       0.0  \n",
              "\n",
              "[5 rows x 32 columns]"
            ]
          },
          "execution_count": 84,
          "metadata": {},
          "output_type": "execute_result"
        }
      ],
      "source": [
        "df.head()"
      ]
    },
    {
      "cell_type": "code",
      "execution_count": null,
      "metadata": {
        "colab": {
          "base_uri": "https://localhost:8080/"
        },
        "id": "ybWKQg_nOPUY",
        "outputId": "b1f6d95c-c5ea-4963-c678-d64ac4bc39df"
      },
      "outputs": [
        {
          "name": "stdout",
          "output_type": "stream",
          "text": [
            "<class 'pandas.core.frame.DataFrame'>\n",
            "Int64Index: 2470 entries, 1 to 2499\n",
            "Data columns (total 32 columns):\n",
            " #   Column          Non-Null Count  Dtype  \n",
            "---  ------          --------------  -----  \n",
            " 0   first_temp      2470 non-null   float64\n",
            " 1   last_temp       2470 non-null   float64\n",
            " 2   delta_time      2470 non-null   float64\n",
            " 3   active_power    2469 non-null   float64\n",
            " 4   number_arc      2469 non-null   float64\n",
            " 5   reactive_power  2469 non-null   float64\n",
            " 6   arc_time        2469 non-null   float64\n",
            " 7   gas             2468 non-null   float64\n",
            " 8   Bulk 1          2403 non-null   float64\n",
            " 9   Bulk 2          2403 non-null   float64\n",
            " 10  Bulk 3          2403 non-null   float64\n",
            " 11  Bulk 4          2403 non-null   float64\n",
            " 12  Bulk 5          2403 non-null   float64\n",
            " 13  Bulk 6          2403 non-null   float64\n",
            " 14  Bulk 7          2403 non-null   float64\n",
            " 15  Bulk 8          2403 non-null   float64\n",
            " 16  Bulk 9          2403 non-null   float64\n",
            " 17  Bulk 10         2403 non-null   float64\n",
            " 18  Bulk 11         2403 non-null   float64\n",
            " 19  Bulk 12         2403 non-null   float64\n",
            " 20  Bulk 13         2403 non-null   float64\n",
            " 21  Bulk 14         2403 non-null   float64\n",
            " 22  Bulk 15         2403 non-null   float64\n",
            " 23  Wire 1          2368 non-null   float64\n",
            " 24  Wire 2          2368 non-null   float64\n",
            " 25  Wire 3          2368 non-null   float64\n",
            " 26  Wire 4          2368 non-null   float64\n",
            " 27  Wire 5          2368 non-null   float64\n",
            " 28  Wire 6          2368 non-null   float64\n",
            " 29  Wire 7          2368 non-null   float64\n",
            " 30  Wire 8          2368 non-null   float64\n",
            " 31  Wire 9          2368 non-null   float64\n",
            "dtypes: float64(32)\n",
            "memory usage: 701.3 KB\n"
          ]
        }
      ],
      "source": [
        "df.info()"
      ]
    },
    {
      "cell_type": "markdown",
      "metadata": {
        "id": "FrisHaJvVhMP"
      },
      "source": [
        "Появились пропуски. При объединении таблиц совпали не все номера партий, в некоторых таблицах по ним не было информации. Удалим строки с пропусками."
      ]
    },
    {
      "cell_type": "code",
      "execution_count": null,
      "metadata": {
        "id": "fVWlXhq7VQt-"
      },
      "outputs": [],
      "source": [
        "df = df.dropna()"
      ]
    },
    {
      "cell_type": "markdown",
      "metadata": {
        "id": "nOz8b0oLiVN7"
      },
      "source": [
        "### Подготовка к обучению моделей"
      ]
    },
    {
      "cell_type": "markdown",
      "metadata": {
        "id": "-7njbmq2L1Ql"
      },
      "source": [
        "Проверим признаки на мультиколлинеарность."
      ]
    },
    {
      "cell_type": "code",
      "execution_count": null,
      "metadata": {
        "colab": {
          "base_uri": "https://localhost:8080/",
          "height": 505
        },
        "id": "gIZn4Lwmau7R",
        "outputId": "a7a03897-d06f-4c0e-b0b0-b6b845f79ad2"
      },
      "outputs": [
        {
          "data": {
            "text/plain": [
              "<matplotlib.axes._subplots.AxesSubplot at 0x7fb8a08a1a90>"
            ]
          },
          "execution_count": 80,
          "metadata": {},
          "output_type": "execute_result"
        },
        {
          "data": {
            "image/png": "[encoded data removed]",
            "text/plain": [
              "<Figure size 1080x576 with 2 Axes>"
            ]
          },
          "metadata": {},
          "output_type": "display_data"
        }
      ],
      "source": [
        "plt.figure(figsize=(15,8))\n",
        "sns.heatmap(df[['first_temp', 'last_temp', 'delta_time', 'active_power', 'number_arc', \n",
        "                'reactive_power', 'arc_time', 'gas']].corr(), vmax = .8, annot = True)"
      ]
    },
    {
      "cell_type": "markdown",
      "metadata": {
        "id": "VnhVmsK3MmIw"
      },
      "source": [
        "Между признаками `Реактивная мощность`, `Время нагрева дугой` и  `Активная мощность` присутсвует сильная функциональня связь, поэтому для модели линейной регрессии исключим признаки `Реактивная мощность` и `Время нагрева дугой`, а для остальных моделей оставим."
      ]
    },
    {
      "cell_type": "markdown",
      "metadata": {
        "id": "6O_ouQ8EWSGU"
      },
      "source": [
        "Выдели признаки и целевой признак."
      ]
    },
    {
      "cell_type": "code",
      "execution_count": null,
      "metadata": {
        "id": "MCLQo0C5WWvT"
      },
      "outputs": [],
      "source": [
        "X = df.drop(['last_temp'], axis = 1)\n",
        "y = df['last_temp']"
      ]
    },
    {
      "cell_type": "code",
      "execution_count": null,
      "metadata": {
        "id": "MUDaOPo2WWzr"
      },
      "outputs": [],
      "source": [
        "X_train, X_test, y_train, y_test = train_test_split(X, y, test_size=0.25, random_state=11122)"
      ]
    },
    {
      "cell_type": "code",
      "execution_count": null,
      "metadata": {
        "colab": {
          "base_uri": "https://localhost:8080/"
        },
        "id": "x2NatgRTWW3N",
        "outputId": "b0dabdbb-0b43-4ffb-c7ad-67fb7c49a5ca"
      },
      "outputs": [
        {
          "data": {
            "text/plain": [
              "((1743, 31), (581, 31), (1743,), (581,))"
            ]
          },
          "execution_count": 83,
          "metadata": {},
          "output_type": "execute_result"
        }
      ],
      "source": [
        "X_train.shape, X_test.shape, y_train.shape, y_test.shape"
      ]
    },
    {
      "cell_type": "markdown",
      "metadata": {
        "id": "C6RYkNzs4wz0"
      },
      "source": [
        "Создадим функцию для добавления результатов работы моделей."
      ]
    },
    {
      "cell_type": "code",
      "execution_count": null,
      "metadata": {
        "id": "VP6c27r74p31"
      },
      "outputs": [],
      "source": [
        "results = {'name': [], 'best_params':[], 'MAE':[]}\n",
        "\n",
        "def add_model_result(results, name, best_params, mae):\n",
        "    results['name'].append(name)\n",
        "    results['best_params'].append(best_params)\n",
        "    results['MAE'].append(mae)"
      ]
    },
    {
      "cell_type": "markdown",
      "metadata": {
        "id": "6Ume-eyh42rg"
      },
      "source": [
        "Таким образом, данные подготовлены, выделены признаки и целевой признак, выборка разделена на тренировочную и тестовую.\n",
        "\n",
        "Приступим к обучению моделей."
      ]
    },
    {
      "cell_type": "markdown",
      "metadata": {
        "id": "1gRuLQ0E18G7"
      },
      "source": [
        "## Обучение модели"
      ]
    },
    {
      "cell_type": "markdown",
      "metadata": {
        "id": "Uzxy7gbw7NQy"
      },
      "source": [
        "### LinearRegression"
      ]
    },
    {
      "cell_type": "code",
      "execution_count": null,
      "metadata": {
        "id": "-uYb3JmedGLR"
      },
      "outputs": [],
      "source": [
        "X_linear = X_train.drop(['reactive_power', 'arc_time'], axis=1)"
      ]
    },
    {
      "cell_type": "code",
      "execution_count": null,
      "metadata": {
        "colab": {
          "base_uri": "https://localhost:8080/"
        },
        "id": "lBHVf3MF7MhF",
        "outputId": "ff0df28b-d2f2-4764-f463-dc14a47f1b7d"
      },
      "outputs": [
        {
          "data": {
            "text/plain": [
              "GridSearchCV(cv=3,\n",
              "             estimator=Pipeline(steps=[('scaler', StandardScaler()),\n",
              "                                       ('clf', LinearRegression())]),\n",
              "             param_grid={'clf__copy_X': [True, False],\n",
              "                         'clf__fit_intercept': [True, False]},\n",
              "             scoring='neg_mean_absolute_error')"
            ]
          },
          "execution_count": 86,
          "metadata": {},
          "output_type": "execute_result"
        }
      ],
      "source": [
        "pipeline = Pipeline([\n",
        "    ('scaler', StandardScaler()),\n",
        "    ('clf', LinearRegression())])\n",
        "\n",
        "parameters = {'clf__fit_intercept':[True,False], \n",
        "              'clf__copy_X':[True, False]\n",
        "              }\n",
        "              \n",
        "grid_lr = GridSearchCV(pipeline, parameters, scoring='neg_mean_absolute_error', cv=3)\n",
        "grid_lr.fit(X_linear, y_train)"
      ]
    },
    {
      "cell_type": "code",
      "execution_count": null,
      "metadata": {
        "colab": {
          "base_uri": "https://localhost:8080/"
        },
        "id": "JMpfEZqF7Y2Q",
        "outputId": "e9645499-05d2-4194-d8b2-7d62767750bc"
      },
      "outputs": [
        {
          "name": "stdout",
          "output_type": "stream",
          "text": [
            "LinearRegression 5.96643448248641 {'clf__copy_X': True, 'clf__fit_intercept': True}\n"
          ]
        }
      ],
      "source": [
        "print('LinearRegression', abs(grid_lr.best_score_), grid_lr.best_params_)"
      ]
    },
    {
      "cell_type": "code",
      "execution_count": null,
      "metadata": {
        "id": "QHNmq9eV7d6p"
      },
      "outputs": [],
      "source": [
        "add_model_result(results, 'LinearRegression', grid_lr.best_params_, abs(grid_lr.best_score_))"
      ]
    },
    {
      "cell_type": "markdown",
      "metadata": {
        "id": "iOkDURCHfQNy"
      },
      "source": [
        "### Ridge"
      ]
    },
    {
      "cell_type": "code",
      "execution_count": null,
      "metadata": {
        "colab": {
          "base_uri": "https://localhost:8080/"
        },
        "id": "6WNEc9fVfRq-",
        "outputId": "f0a34e91-ea1f-42a5-8eeb-1fa1da7e7913"
      },
      "outputs": [
        {
          "data": {
            "text/plain": [
              "GridSearchCV(cv=3,\n",
              "             estimator=Pipeline(steps=[('scaler', StandardScaler()),\n",
              "                                       ('clf', Ridge())]),\n",
              "             param_grid={'clf__alpha': [10, 15, 25, 30, 50, 100, 150, 200, 500,\n",
              "                                        600, 700, 750, 785, 790, 800, 900, 1000,\n",
              "                                        1001]},\n",
              "             scoring='neg_mean_absolute_error')"
            ]
          },
          "execution_count": 89,
          "metadata": {},
          "output_type": "execute_result"
        }
      ],
      "source": [
        "pipeline = Pipeline([\n",
        "    ('scaler', StandardScaler()),\n",
        "    ('clf', Ridge())])\n",
        "\n",
        "parameters = {'clf__alpha':[10,15,25,30,50,100,150,200,500,600,700,750,785,790,800,900,1000,1001]}\n",
        "\n",
        "grid_r = GridSearchCV(pipeline, parameters, scoring='neg_mean_absolute_error', cv=3)\n",
        "grid_r.fit(X_train, y_train)"
      ]
    },
    {
      "cell_type": "code",
      "execution_count": null,
      "metadata": {
        "colab": {
          "base_uri": "https://localhost:8080/"
        },
        "id": "EDT1G3J7fgA8",
        "outputId": "0732b581-6ba6-4561-ea24-5b41ade7ed28"
      },
      "outputs": [
        {
          "name": "stdout",
          "output_type": "stream",
          "text": [
            "Ridge 5.935400424059902 {'clf__alpha': 10}\n"
          ]
        }
      ],
      "source": [
        "print('Ridge', abs(grid_r.best_score_), grid_r.best_params_)\n"
      ]
    },
    {
      "cell_type": "code",
      "execution_count": null,
      "metadata": {
        "id": "c7IkGcbefn3f"
      },
      "outputs": [],
      "source": [
        "add_model_result(results, 'Ridge', grid_r.best_params_, abs(grid_r.best_score_))"
      ]
    },
    {
      "cell_type": "markdown",
      "metadata": {
        "id": "xBbJaqG_fwR8"
      },
      "source": [
        "### Lasso"
      ]
    },
    {
      "cell_type": "code",
      "execution_count": null,
      "metadata": {
        "colab": {
          "base_uri": "https://localhost:8080/"
        },
        "id": "OD5Z3OHjfx1Q",
        "outputId": "bf49cfec-5b37-443a-a3dc-06bfdadbf3cc"
      },
      "outputs": [
        {
          "data": {
            "text/plain": [
              "GridSearchCV(cv=3,\n",
              "             estimator=Pipeline(steps=[('scaler', StandardScaler()),\n",
              "                                       ('clf', Lasso())]),\n",
              "             param_grid={'clf__alpha': [0.0005, 0.0006, 0.06, 0.5, 0.0001, 0.01,\n",
              "                                        1, 2, 3, 4, 4.4, 4]},\n",
              "             scoring='neg_mean_absolute_error')"
            ]
          },
          "execution_count": 92,
          "metadata": {},
          "output_type": "execute_result"
        }
      ],
      "source": [
        "pipeline = Pipeline([\n",
        "    ('scaler', StandardScaler()),\n",
        "    ('clf', Lasso())])\n",
        "\n",
        "parameters = {'clf__alpha':[0.0005,0.0006,0.06,0.5,0.0001,0.01,1,2,3,4,4.4,4]}\n",
        "\n",
        "grid_l = GridSearchCV(pipeline, parameters, scoring='neg_mean_absolute_error', cv=3)\n",
        "grid_l.fit(X_train, y_train)"
      ]
    },
    {
      "cell_type": "code",
      "execution_count": null,
      "metadata": {
        "colab": {
          "base_uri": "https://localhost:8080/"
        },
        "id": "N3cXGZ0zf_Ny",
        "outputId": "d453c114-a136-456a-ecdd-2d47329c09d1"
      },
      "outputs": [
        {
          "name": "stdout",
          "output_type": "stream",
          "text": [
            "Ridge 5.926262491921936 {'clf__alpha': 0.01}\n"
          ]
        }
      ],
      "source": [
        "print('Ridge', abs(grid_l.best_score_), grid_l.best_params_)\n"
      ]
    },
    {
      "cell_type": "code",
      "execution_count": null,
      "metadata": {
        "id": "kJ0nzimJf_Nz"
      },
      "outputs": [],
      "source": [
        "add_model_result(results, 'Lasso', grid_l.best_params_, abs(grid_l.best_score_))"
      ]
    },
    {
      "cell_type": "markdown",
      "metadata": {
        "id": "eRwnjTMn7qFl"
      },
      "source": [
        "### ElasticNet"
      ]
    },
    {
      "cell_type": "code",
      "execution_count": null,
      "metadata": {
        "colab": {
          "base_uri": "https://localhost:8080/"
        },
        "id": "kBhNJpce7uMt",
        "outputId": "20fc8f0e-b637-4a25-ca8d-49b222cc836c"
      },
      "outputs": [
        {
          "data": {
            "text/plain": [
              "GridSearchCV(cv=3,\n",
              "             estimator=Pipeline(steps=[('scaler', StandardScaler()),\n",
              "                                       ('clf', ElasticNet())]),\n",
              "             param_grid={'clf__alpha': [0.0001, 0.001, 0.01, 0.1, 1, 10, 100],\n",
              "                         'clf__max_iter': [1000, 5000, 10000]},\n",
              "             scoring='neg_mean_absolute_error')"
            ]
          },
          "execution_count": 95,
          "metadata": {},
          "output_type": "execute_result"
        }
      ],
      "source": [
        "pipeline = Pipeline([\n",
        "    ('scaler', StandardScaler()),\n",
        "    ('clf', ElasticNet())])\n",
        "\n",
        "parameters = {'clf__max_iter': [1000, 5000, 10000], \n",
        "              'clf__alpha': [0.0001, 0.001, 0.01, 0.1, 1, 10, 100]\n",
        "              }\n",
        "              \n",
        "grid_en = GridSearchCV(pipeline, parameters, scoring='neg_mean_absolute_error', cv=3)\n",
        "grid_en.fit(X_train, y_train)"
      ]
    },
    {
      "cell_type": "code",
      "execution_count": null,
      "metadata": {
        "colab": {
          "base_uri": "https://localhost:8080/"
        },
        "id": "vbgUkrsw757T",
        "outputId": "67784aab-a433-4e39-90e4-d5d6152d82fd"
      },
      "outputs": [
        {
          "name": "stdout",
          "output_type": "stream",
          "text": [
            "ElasticNet 5.928945492243105 {'clf__alpha': 0.001, 'clf__max_iter': 1000}\n"
          ]
        }
      ],
      "source": [
        "print('ElasticNet', abs(grid_en.best_score_), grid_en.best_params_)"
      ]
    },
    {
      "cell_type": "code",
      "execution_count": null,
      "metadata": {
        "id": "IMlWbz_M757U"
      },
      "outputs": [],
      "source": [
        "add_model_result(results, 'ElasticNet', grid_en.best_params_, abs(grid_en.best_score_))"
      ]
    },
    {
      "cell_type": "markdown",
      "metadata": {
        "id": "kw0d0_qfd01F"
      },
      "source": [
        "### CatBoost"
      ]
    },
    {
      "cell_type": "code",
      "execution_count": null,
      "metadata": {
        "colab": {
          "base_uri": "https://localhost:8080/"
        },
        "id": "vMaAlRktVJsz",
        "outputId": "bcf232a5-0d8e-4e91-a596-96ac85e0a272"
      },
      "outputs": [
        {
          "name": "stdout",
          "output_type": "stream",
          "text": [
            "5.568267350590491\n"
          ]
        }
      ],
      "source": [
        "model = CatBoostRegressor(silent=True)\n",
        "score_cat = cross_val_score(model, X_train, y_train, scoring=\"neg_mean_absolute_error\", cv=5).mean()\n",
        "print(abs(score_cat))"
      ]
    },
    {
      "cell_type": "code",
      "execution_count": null,
      "metadata": {
        "id": "DAD27JMUggNu"
      },
      "outputs": [],
      "source": [
        "add_model_result(results, 'CatBoost_default', 'None', abs(score_cat))"
      ]
    },
    {
      "cell_type": "code",
      "execution_count": null,
      "metadata": {
        "id": "Yv7MO3cG_yXo"
      },
      "outputs": [],
      "source": [
        "def objective_cat(trial):\n",
        "    params = {\n",
        "        'depth': trial.suggest_int('depth', 3, 7),\n",
        "        'l2_leaf_reg': trial.suggest_int('l2_leaf_reg', 2, 10),\n",
        "        \"learning_rate\": trial.suggest_float(\"learning_rate\", 0.001, 0.1),\n",
        "        'iterations': trial.suggest_int('iterations', 500, 1700),\n",
        "        'random_strength': trial.suggest_int('random_strength', 0, 10),\n",
        "        'silent' : True\n",
        "    }\n",
        "\n",
        "\n",
        "    model = CatBoostRegressor( **params, random_state=11122)\n",
        "    score = cross_val_score(model, X_train, y_train, scoring='neg_mean_absolute_error', cv=3).mean()\n",
        "    return score"
      ]
    },
    {
      "cell_type": "code",
      "execution_count": null,
      "metadata": {
        "colab": {
          "base_uri": "https://localhost:8080/"
        },
        "id": "kpHeVykH_9c5",
        "outputId": "f3fa75b0-ed3e-4829-9193-fc2e9c327dba"
      },
      "outputs": [
        {
          "name": "stderr",
          "output_type": "stream",
          "text": [
            "\u001b[32m[I 2022-11-05 10:53:55,684]\u001b[0m A new study created in memory with name: no-name-c50ca7b3-defb-4360-af08-fda3d47c7ea5\u001b[0m\n",
            "\u001b[32m[I 2022-11-05 10:54:07,763]\u001b[0m Trial 0 finished with value: -5.568668105659204 and parameters: {'depth': 4, 'l2_leaf_reg': 5, 'learning_rate': 0.03458579701222447, 'iterations': 1285, 'random_strength': 1}. Best is trial 0 with value: -5.568668105659204.\u001b[0m\n",
            "\u001b[32m[I 2022-11-05 10:54:22,084]\u001b[0m Trial 2 finished with value: -5.637836062599031 and parameters: {'depth': 4, 'l2_leaf_reg': 2, 'learning_rate': 0.07879365813196682, 'iterations': 1503, 'random_strength': 1}. Best is trial 0 with value: -5.568668105659204.\u001b[0m\n",
            "\u001b[32m[I 2022-11-05 10:54:26,607]\u001b[0m Trial 1 finished with value: -5.70994926448211 and parameters: {'depth': 7, 'l2_leaf_reg': 7, 'learning_rate': 0.0973752127918374, 'iterations': 822, 'random_strength': 9}. Best is trial 0 with value: -5.568668105659204.\u001b[0m\n",
            "\u001b[32m[I 2022-11-05 10:54:30,997]\u001b[0m Trial 3 finished with value: -5.582463822814348 and parameters: {'depth': 3, 'l2_leaf_reg': 7, 'learning_rate': 0.06123223738363596, 'iterations': 1392, 'random_strength': 7}. Best is trial 0 with value: -5.568668105659204.\u001b[0m\n",
            "\u001b[32m[I 2022-11-05 10:54:42,399]\u001b[0m Trial 5 finished with value: -5.616830703255161 and parameters: {'depth': 3, 'l2_leaf_reg': 6, 'learning_rate': 0.08163332050612981, 'iterations': 1234, 'random_strength': 3}. Best is trial 0 with value: -5.568668105659204.\u001b[0m\n",
            "\u001b[32m[I 2022-11-05 10:54:54,494]\u001b[0m Trial 6 finished with value: -6.264904089473745 and parameters: {'depth': 4, 'l2_leaf_reg': 10, 'learning_rate': 0.006028370597553522, 'iterations': 1236, 'random_strength': 0}. Best is trial 0 with value: -5.568668105659204.\u001b[0m\n",
            "\u001b[32m[I 2022-11-05 10:55:10,506]\u001b[0m Trial 7 finished with value: -6.504660233849619 and parameters: {'depth': 6, 'l2_leaf_reg': 3, 'learning_rate': 0.005400247254580403, 'iterations': 555, 'random_strength': 1}. Best is trial 0 with value: -5.568668105659204.\u001b[0m\n",
            "\u001b[32m[I 2022-11-05 10:55:13,396]\u001b[0m Trial 4 finished with value: -6.089219451707296 and parameters: {'depth': 7, 'l2_leaf_reg': 2, 'learning_rate': 0.00894483622364554, 'iterations': 1154, 'random_strength': 7}. Best is trial 0 with value: -5.568668105659204.\u001b[0m\n",
            "\u001b[32m[I 2022-11-05 10:55:20,648]\u001b[0m Trial 8 finished with value: -5.6162950070068876 and parameters: {'depth': 4, 'l2_leaf_reg': 5, 'learning_rate': 0.09113079544127724, 'iterations': 1077, 'random_strength': 3}. Best is trial 0 with value: -5.568668105659204.\u001b[0m\n",
            "\u001b[32m[I 2022-11-05 10:55:33,273]\u001b[0m Trial 10 finished with value: -5.654688024017035 and parameters: {'depth': 4, 'l2_leaf_reg': 2, 'learning_rate': 0.019177240239438977, 'iterations': 1224, 'random_strength': 2}. Best is trial 0 with value: -5.568668105659204.\u001b[0m\n",
            "\u001b[32m[I 2022-11-05 10:55:41,073]\u001b[0m Trial 9 finished with value: -5.692780819329966 and parameters: {'depth': 7, 'l2_leaf_reg': 9, 'learning_rate': 0.08095709503596508, 'iterations': 660, 'random_strength': 3}. Best is trial 0 with value: -5.568668105659204.\u001b[0m\n",
            "\u001b[32m[I 2022-11-05 10:55:52,283]\u001b[0m Trial 12 finished with value: -5.583121594387644 and parameters: {'depth': 3, 'l2_leaf_reg': 7, 'learning_rate': 0.04816562334919497, 'iterations': 1686, 'random_strength': 6}. Best is trial 0 with value: -5.568668105659204.\u001b[0m\n",
            "\u001b[32m[I 2022-11-05 10:56:00,390]\u001b[0m Trial 11 finished with value: -5.568841207611055 and parameters: {'depth': 5, 'l2_leaf_reg': 10, 'learning_rate': 0.03666187804690613, 'iterations': 1692, 'random_strength': 4}. Best is trial 0 with value: -5.568668105659204.\u001b[0m\n",
            "\u001b[32m[I 2022-11-05 10:56:11,829]\u001b[0m Trial 13 finished with value: -5.593196444849745 and parameters: {'depth': 5, 'l2_leaf_reg': 5, 'learning_rate': 0.045995015017779556, 'iterations': 1435, 'random_strength': 10}. Best is trial 0 with value: -5.568668105659204.\u001b[0m\n",
            "\u001b[32m[I 2022-11-05 10:56:24,709]\u001b[0m Trial 14 finished with value: -5.556720071569433 and parameters: {'depth': 5, 'l2_leaf_reg': 4, 'learning_rate': 0.037996761173874585, 'iterations': 1681, 'random_strength': 5}. Best is trial 14 with value: -5.556720071569433.\u001b[0m\n",
            "\u001b[32m[I 2022-11-05 10:56:36,839]\u001b[0m Trial 15 finished with value: -5.5825470768713155 and parameters: {'depth': 5, 'l2_leaf_reg': 9, 'learning_rate': 0.030191671474667975, 'iterations': 1677, 'random_strength': 5}. Best is trial 14 with value: -5.556720071569433.\u001b[0m\n",
            "\u001b[32m[I 2022-11-05 10:56:48,355]\u001b[0m Trial 16 finished with value: -5.657165843710472 and parameters: {'depth': 6, 'l2_leaf_reg': 4, 'learning_rate': 0.02901036432111994, 'iterations': 996, 'random_strength': 5}. Best is trial 14 with value: -5.556720071569433.\u001b[0m\n",
            "\u001b[32m[I 2022-11-05 10:56:57,299]\u001b[0m Trial 17 finished with value: -5.615276278858119 and parameters: {'depth': 6, 'l2_leaf_reg': 4, 'learning_rate': 0.06182832620207597, 'iterations': 909, 'random_strength': 8}. Best is trial 14 with value: -5.556720071569433.\u001b[0m\n",
            "\u001b[32m[I 2022-11-05 10:57:15,271]\u001b[0m Trial 19 finished with value: -5.642103428556978 and parameters: {'depth': 4, 'l2_leaf_reg': 4, 'learning_rate': 0.06028276561817392, 'iterations': 1500, 'random_strength': 0}. Best is trial 14 with value: -5.556720071569433.\u001b[0m\n",
            "\u001b[32m[I 2022-11-05 10:57:26,749]\u001b[0m Trial 18 finished with value: -5.6296325981913995 and parameters: {'depth': 6, 'l2_leaf_reg': 4, 'learning_rate': 0.060081192474122753, 'iterations': 1527, 'random_strength': 8}. Best is trial 14 with value: -5.556720071569433.\u001b[0m\n",
            "\u001b[32m[I 2022-11-05 10:57:40,552]\u001b[0m Trial 20 finished with value: -5.649814474866468 and parameters: {'depth': 5, 'l2_leaf_reg': 6, 'learning_rate': 0.019666714144689734, 'iterations': 1311, 'random_strength': 4}. Best is trial 14 with value: -5.556720071569433.\u001b[0m\n",
            "\u001b[32m[I 2022-11-05 10:57:52,427]\u001b[0m Trial 21 finished with value: -5.658484353969971 and parameters: {'depth': 5, 'l2_leaf_reg': 6, 'learning_rate': 0.019511175061234388, 'iterations': 1336, 'random_strength': 4}. Best is trial 14 with value: -5.556720071569433.\u001b[0m\n",
            "\u001b[32m[I 2022-11-05 10:58:07,660]\u001b[0m Trial 22 finished with value: -5.585041174072411 and parameters: {'depth': 5, 'l2_leaf_reg': 5, 'learning_rate': 0.037475849478389084, 'iterations': 1606, 'random_strength': 4}. Best is trial 14 with value: -5.556720071569433.\u001b[0m\n",
            "\u001b[32m[I 2022-11-05 10:58:15,518]\u001b[0m Trial 23 finished with value: -5.568428822830708 and parameters: {'depth': 5, 'l2_leaf_reg': 8, 'learning_rate': 0.04014497203522249, 'iterations': 1591, 'random_strength': 6}. Best is trial 14 with value: -5.556720071569433.\u001b[0m\n",
            "\u001b[32m[I 2022-11-05 10:58:33,317]\u001b[0m Trial 24 finished with value: -5.568293751558124 and parameters: {'depth': 5, 'l2_leaf_reg': 8, 'learning_rate': 0.03613202031406505, 'iterations': 1574, 'random_strength': 6}. Best is trial 14 with value: -5.556720071569433.\u001b[0m\n",
            "\u001b[32m[I 2022-11-05 10:58:34,374]\u001b[0m Trial 25 finished with value: -5.5887488185635945 and parameters: {'depth': 4, 'l2_leaf_reg': 8, 'learning_rate': 0.03854728354597806, 'iterations': 1586, 'random_strength': 6}. Best is trial 14 with value: -5.556720071569433.\u001b[0m\n",
            "\u001b[32m[I 2022-11-05 10:59:12,687]\u001b[0m Trial 27 finished with value: -5.5905688479365265 and parameters: {'depth': 6, 'l2_leaf_reg': 8, 'learning_rate': 0.051699368075045896, 'iterations': 1413, 'random_strength': 6}. Best is trial 14 with value: -5.556720071569433.\u001b[0m\n",
            "\u001b[32m[I 2022-11-05 10:59:15,212]\u001b[0m Trial 26 finished with value: -5.601272459597115 and parameters: {'depth': 6, 'l2_leaf_reg': 8, 'learning_rate': 0.04319519444662478, 'iterations': 1576, 'random_strength': 6}. Best is trial 14 with value: -5.556720071569433.\u001b[0m\n",
            "\u001b[32m[I 2022-11-05 10:59:42,346]\u001b[0m Trial 28 finished with value: -5.602420427973247 and parameters: {'depth': 5, 'l2_leaf_reg': 8, 'learning_rate': 0.025360943754295207, 'iterations': 1586, 'random_strength': 7}. Best is trial 14 with value: -5.556720071569433.\u001b[0m\n",
            "\u001b[32m[I 2022-11-05 10:59:46,940]\u001b[0m Trial 29 finished with value: -5.611665819834329 and parameters: {'depth': 5, 'l2_leaf_reg': 9, 'learning_rate': 0.02495540247845463, 'iterations': 1607, 'random_strength': 7}. Best is trial 14 with value: -5.556720071569433.\u001b[0m\n",
            "\u001b[32m[I 2022-11-05 11:00:10,364]\u001b[0m Trial 30 finished with value: -5.5841255541867065 and parameters: {'depth': 5, 'l2_leaf_reg': 9, 'learning_rate': 0.052787141162456946, 'iterations': 1458, 'random_strength': 5}. Best is trial 14 with value: -5.556720071569433.\u001b[0m\n",
            "\u001b[32m[I 2022-11-05 11:00:26,931]\u001b[0m Trial 31 finished with value: -5.648180907112074 and parameters: {'depth': 6, 'l2_leaf_reg': 7, 'learning_rate': 0.053962492460334674, 'iterations': 1463, 'random_strength': 5}. Best is trial 14 with value: -5.556720071569433.\u001b[0m\n",
            "\u001b[32m[I 2022-11-05 11:00:27,549]\u001b[0m Trial 32 finished with value: -5.589531570165161 and parameters: {'depth': 4, 'l2_leaf_reg': 3, 'learning_rate': 0.0335687935861355, 'iterations': 1362, 'random_strength': 9}. Best is trial 14 with value: -5.556720071569433.\u001b[0m\n",
            "\u001b[32m[I 2022-11-05 11:00:42,850]\u001b[0m Trial 33 finished with value: -5.558967234840036 and parameters: {'depth': 4, 'l2_leaf_reg': 3, 'learning_rate': 0.0332752729522453, 'iterations': 1351, 'random_strength': 9}. Best is trial 14 with value: -5.556720071569433.\u001b[0m\n",
            "\u001b[32m[I 2022-11-05 11:00:44,782]\u001b[0m Trial 34 finished with value: -5.589110705303241 and parameters: {'depth': 4, 'l2_leaf_reg': 6, 'learning_rate': 0.042841706390769826, 'iterations': 1523, 'random_strength': 8}. Best is trial 14 with value: -5.556720071569433.\u001b[0m\n",
            "\u001b[32m[I 2022-11-05 11:00:56,586]\u001b[0m Trial 35 finished with value: -5.583931622298336 and parameters: {'depth': 3, 'l2_leaf_reg': 3, 'learning_rate': 0.04192628995069514, 'iterations': 1535, 'random_strength': 8}. Best is trial 14 with value: -5.556720071569433.\u001b[0m\n",
            "\u001b[32m[I 2022-11-05 11:00:58,249]\u001b[0m Trial 36 finished with value: -5.874951506703451 and parameters: {'depth': 3, 'l2_leaf_reg': 3, 'learning_rate': 0.011916441409473927, 'iterations': 1640, 'random_strength': 10}. Best is trial 14 with value: -5.556720071569433.\u001b[0m\n",
            "\u001b[32m[I 2022-11-05 11:01:20,940]\u001b[0m Trial 38 finished with value: -5.821565507116795 and parameters: {'depth': 5, 'l2_leaf_reg': 2, 'learning_rate': 0.013410049810171753, 'iterations': 1157, 'random_strength': 9}. Best is trial 14 with value: -5.556720071569433.\u001b[0m\n",
            "\u001b[32m[I 2022-11-05 11:01:26,636]\u001b[0m Trial 37 finished with value: -5.698781938284914 and parameters: {'depth': 5, 'l2_leaf_reg': 3, 'learning_rate': 0.013588751924228534, 'iterations': 1636, 'random_strength': 10}. Best is trial 14 with value: -5.556720071569433.\u001b[0m\n",
            "\u001b[32m[I 2022-11-05 11:01:42,190]\u001b[0m Trial 39 finished with value: -5.619420535322598 and parameters: {'depth': 5, 'l2_leaf_reg': 7, 'learning_rate': 0.030567070504833534, 'iterations': 1405, 'random_strength': 7}. Best is trial 14 with value: -5.556720071569433.\u001b[0m\n",
            "\u001b[32m[I 2022-11-05 11:01:42,485]\u001b[0m Trial 40 finished with value: -5.611171621668202 and parameters: {'depth': 4, 'l2_leaf_reg': 7, 'learning_rate': 0.0701159973414057, 'iterations': 1419, 'random_strength': 7}. Best is trial 14 with value: -5.556720071569433.\u001b[0m\n",
            "\u001b[32m[I 2022-11-05 11:01:55,043]\u001b[0m Trial 42 finished with value: -5.588021816176312 and parameters: {'depth': 4, 'l2_leaf_reg': 5, 'learning_rate': 0.03475820811545102, 'iterations': 1290, 'random_strength': 2}. Best is trial 14 with value: -5.556720071569433.\u001b[0m\n",
            "\u001b[32m[I 2022-11-05 11:02:06,448]\u001b[0m Trial 43 finished with value: -5.59186229945927 and parameters: {'depth': 4, 'l2_leaf_reg': 4, 'learning_rate': 0.04255429415940121, 'iterations': 1122, 'random_strength': 2}. Best is trial 14 with value: -5.556720071569433.\u001b[0m\n",
            "\u001b[32m[I 2022-11-05 11:02:21,566]\u001b[0m Trial 44 finished with value: -5.640048641749632 and parameters: {'depth': 4, 'l2_leaf_reg': 5, 'learning_rate': 0.025448480644615138, 'iterations': 1243, 'random_strength': 3}. Best is trial 14 with value: -5.556720071569433.\u001b[0m\n",
            "\u001b[32m[I 2022-11-05 11:02:29,599]\u001b[0m Trial 41 finished with value: -5.666561774328699 and parameters: {'depth': 7, 'l2_leaf_reg': 5, 'learning_rate': 0.024020009739459516, 'iterations': 1295, 'random_strength': 6}. Best is trial 14 with value: -5.556720071569433.\u001b[0m\n",
            "\u001b[32m[I 2022-11-05 11:02:39,090]\u001b[0m Trial 46 finished with value: -5.58293332400347 and parameters: {'depth': 4, 'l2_leaf_reg': 10, 'learning_rate': 0.047425314177328336, 'iterations': 1038, 'random_strength': 1}. Best is trial 14 with value: -5.556720071569433.\u001b[0m\n",
            "\u001b[32m[I 2022-11-05 11:02:46,662]\u001b[0m Trial 47 finished with value: -5.646306105140673 and parameters: {'depth': 3, 'l2_leaf_reg': 6, 'learning_rate': 0.09523654924254324, 'iterations': 1206, 'random_strength': 0}. Best is trial 14 with value: -5.556720071569433.\u001b[0m\n",
            "\u001b[32m[I 2022-11-05 11:03:00,334]\u001b[0m Trial 45 finished with value: -5.661914592326539 and parameters: {'depth': 7, 'l2_leaf_reg': 10, 'learning_rate': 0.04789524822231695, 'iterations': 1053, 'random_strength': 0}. Best is trial 14 with value: -5.556720071569433.\u001b[0m\n",
            "\u001b[32m[I 2022-11-05 11:03:08,557]\u001b[0m Trial 48 finished with value: -5.597154166532463 and parameters: {'depth': 5, 'l2_leaf_reg': 2, 'learning_rate': 0.03282751470207449, 'iterations': 1488, 'random_strength': 2}. Best is trial 14 with value: -5.556720071569433.\u001b[0m\n",
            "\u001b[32m[I 2022-11-05 11:03:17,046]\u001b[0m Trial 49 finished with value: -5.588317533076162 and parameters: {'depth': 5, 'l2_leaf_reg': 4, 'learning_rate': 0.03176477271594037, 'iterations': 1689, 'random_strength': 3}. Best is trial 14 with value: -5.556720071569433.\u001b[0m\n"
          ]
        }
      ],
      "source": [
        "study_cat = optuna.create_study(direction = \"maximize\")\n",
        "study_cat.optimize(objective_cat, n_trials = 50, n_jobs=-1, timeout=1500)\n",
        "trial_cat = study_cat.best_trial"
      ]
    },
    {
      "cell_type": "code",
      "execution_count": null,
      "metadata": {
        "colab": {
          "base_uri": "https://localhost:8080/"
        },
        "id": "XABdTbKoAFbl",
        "outputId": "85c48b94-59ab-47fb-d044-aceb70188178"
      },
      "outputs": [
        {
          "name": "stdout",
          "output_type": "stream",
          "text": [
            "Best Score:  5.556720071569433\n",
            "Best Params:  {'depth': 5, 'l2_leaf_reg': 4, 'learning_rate': 0.037996761173874585, 'iterations': 1681, 'random_strength': 5}\n"
          ]
        }
      ],
      "source": [
        "print(\"Best Score: \", abs(trial_cat.value))\n",
        "print(\"Best Params: \", study_cat.best_params)"
      ]
    },
    {
      "cell_type": "code",
      "execution_count": null,
      "metadata": {
        "id": "Q-j6tssxjL7p"
      },
      "outputs": [],
      "source": [
        "add_model_result(results, 'CatBoost', study_cat.best_params, abs(trial_cat.value))"
      ]
    },
    {
      "cell_type": "markdown",
      "metadata": {
        "id": "IzinsHLGrwSj"
      },
      "source": [
        "### LightGBM "
      ]
    },
    {
      "cell_type": "code",
      "execution_count": null,
      "metadata": {
        "colab": {
          "base_uri": "https://localhost:8080/"
        },
        "id": "4USnixeR6RfQ",
        "outputId": "08a76e6b-0e39-4ddd-9376-35715b12c48a"
      },
      "outputs": [
        {
          "name": "stdout",
          "output_type": "stream",
          "text": [
            "5.736301798021274\n"
          ]
        }
      ],
      "source": [
        "model = lgb.LGBMRegressor(silent=True)\n",
        "score_lgb = cross_val_score(model, X_train, y_train, scoring=\"neg_mean_absolute_error\", cv=5).mean()\n",
        "print(abs(score_lgb))"
      ]
    },
    {
      "cell_type": "code",
      "execution_count": null,
      "metadata": {
        "id": "cXHt2hn1hwfy"
      },
      "outputs": [],
      "source": [
        "add_model_result(results, 'LightGBM_default', 'None', abs(score_lgb))"
      ]
    },
    {
      "cell_type": "code",
      "execution_count": null,
      "metadata": {
        "colab": {
          "base_uri": "https://localhost:8080/"
        },
        "id": "Bz40pEjLr5yp",
        "outputId": "56c7fc77-a5a0-4cac-b7b8-5d59f8514f8e"
      },
      "outputs": [
        {
          "name": "stdout",
          "output_type": "stream",
          "text": [
            "CPU times: user 8.36 s, sys: 680 ms, total: 9.04 s\n",
            "Wall time: 4.69 s\n"
          ]
        },
        {
          "data": {
            "text/plain": [
              "RandomizedSearchCV(cv=3, estimator=LGBMRegressor(),\n",
              "                   param_distributions={'learning_rate': <scipy.stats._distn_infrastructure.rv_frozen object at 0x7fb8a0bf7fd0>,\n",
              "                                        'max_depth': <scipy.stats._distn_infrastructure.rv_frozen object at 0x7fb8a0bf7dd0>,\n",
              "                                        'num_leaves': <scipy.stats._distn_infrastructure.rv_frozen object at 0x7fb8a0bf7450>,\n",
              "                                        'reg_alpha': [0, 0.01, 0.03]},\n",
              "                   scoring='neg_mean_absolute_error')"
            ]
          },
          "execution_count": 106,
          "metadata": {},
          "output_type": "execute_result"
        }
      ],
      "source": [
        "%%time\n",
        "model = lgb.LGBMRegressor()\n",
        "parameters = {'num_leaves' : sp_randint(100, 2000),\n",
        "              'max_depth' : sp_randint(1, 15),\n",
        "              'reg_alpha':[0,0.01,0.03],\n",
        "             'learning_rate':sp_randfloat(0.001, 0.1)\n",
        "              }\n",
        "\n",
        "grid_lgb = RandomizedSearchCV(model,parameters, scoring='neg_mean_absolute_error', cv=3)\n",
        "grid_lgb.fit(X_train, y_train)"
      ]
    },
    {
      "cell_type": "code",
      "execution_count": null,
      "metadata": {
        "colab": {
          "base_uri": "https://localhost:8080/"
        },
        "id": "ZXiTfHN7toLx",
        "outputId": "2757b60d-6d96-4650-f4ff-401f567041f6"
      },
      "outputs": [
        {
          "name": "stdout",
          "output_type": "stream",
          "text": [
            "LightGBM 5.886533029612394 {'learning_rate': 0.08152287903577327, 'max_depth': 6, 'num_leaves': 314, 'reg_alpha': 0.03}\n"
          ]
        }
      ],
      "source": [
        "print('LightGBM', abs(grid_lgb.best_score_), grid_lgb.best_params_)"
      ]
    },
    {
      "cell_type": "code",
      "execution_count": null,
      "metadata": {
        "id": "HjSooQemeq9J"
      },
      "outputs": [],
      "source": [
        "add_model_result(results, 'LightGBM', grid_lgb.best_params_, abs(grid_lgb.best_score_))"
      ]
    },
    {
      "cell_type": "markdown",
      "metadata": {
        "id": "DsOPb-nb3tr2"
      },
      "source": [
        "### XGBoost"
      ]
    },
    {
      "cell_type": "code",
      "execution_count": null,
      "metadata": {
        "colab": {
          "base_uri": "https://localhost:8080/"
        },
        "id": "-Bhz7pRZqBZE",
        "outputId": "a8721573-97ed-4264-bfac-083fe9e681cf"
      },
      "outputs": [
        {
          "name": "stdout",
          "output_type": "stream",
          "text": [
            "5.931655867808116\n"
          ]
        }
      ],
      "source": [
        "model = xgb.XGBRegressor(objective='reg:squarederror')\n",
        "score_xgb = cross_val_score(model, X_train, y_train, scoring=\"neg_mean_absolute_error\", cv=5).mean()\n",
        "print(abs(score_xgb))"
      ]
    },
    {
      "cell_type": "code",
      "execution_count": null,
      "metadata": {
        "id": "6rxV2Lv7qwJv"
      },
      "outputs": [],
      "source": [
        "add_model_result(results, 'XGBRegressor_default', 'None', abs(score_xgb))"
      ]
    },
    {
      "cell_type": "code",
      "execution_count": null,
      "metadata": {
        "id": "ncdKZWH53wGB"
      },
      "outputs": [],
      "source": [
        "def objective_xgb(trial):\n",
        "\n",
        "\n",
        "    params = {\n",
        "        'n_estimators': trial.suggest_int(\"n_estimators\", 1000, 10000),\n",
        "        'reg_alpha': trial.suggest_float(\"reg_alpha\", 1e-8, 100.0),\n",
        "        'reg_lambda': trial.suggest_float(\"reg_lambda\", 1e-8, 100.0),\n",
        "        \"subsample\": trial.suggest_float(\"subsample\", 0.5, 1.0, step=0.1),\n",
        "        \"learning_rate\": trial.suggest_float(\"learning_rate\", 0.001, 0.1, log=True),\n",
        "        'max_depth': trial.suggest_int(\"max_depth\", 2, 9),\n",
        "        'colsample_bytree': trial.suggest_float('colsample_bytree', 0.1, 1.0),\n",
        "    }\n",
        "\n",
        "    model = xgb.XGBRegressor(\n",
        "        booster=\"gbtree\",\n",
        "        objective='reg:squarederror',\n",
        "        **params\n",
        "    )\n",
        "    score = cross_val_score(model, X_train, y_train, scoring='neg_mean_absolute_error', cv=3).mean()\n",
        "    return score"
      ]
    },
    {
      "cell_type": "code",
      "execution_count": null,
      "metadata": {
        "colab": {
          "base_uri": "https://localhost:8080/"
        },
        "id": "0AJWShvC37dA",
        "outputId": "1a3cb2a6-c9c6-4ffc-e356-d5d3d2be73c4"
      },
      "outputs": [
        {
          "name": "stderr",
          "output_type": "stream",
          "text": [
            "\u001b[32m[I 2022-11-05 11:03:23,963]\u001b[0m A new study created in memory with name: no-name-440788e3-dcd7-4a37-935c-01a404bda7d0\u001b[0m\n",
            "\u001b[32m[I 2022-11-05 11:04:35,591]\u001b[0m Trial 1 finished with value: -6.310132410221242 and parameters: {'n_estimators': 9536, 'reg_alpha': 50.99498579884047, 'reg_lambda': 77.07149708839103, 'subsample': 0.5, 'learning_rate': 0.0012285635516758446, 'max_depth': 4, 'colsample_bytree': 0.6799406686995801}. Best is trial 1 with value: -6.310132410221242.\u001b[0m\n",
            "\u001b[32m[I 2022-11-05 11:05:10,722]\u001b[0m Trial 0 finished with value: -5.793236562320711 and parameters: {'n_estimators': 9877, 'reg_alpha': 98.60061587730094, 'reg_lambda': 59.40484051751386, 'subsample': 0.9, 'learning_rate': 0.007766409726141467, 'max_depth': 8, 'colsample_bytree': 0.5274417839415456}. Best is trial 0 with value: -5.793236562320711.\u001b[0m\n",
            "\u001b[32m[I 2022-11-05 11:05:12,707]\u001b[0m Trial 2 finished with value: -5.9069474045736525 and parameters: {'n_estimators': 5859, 'reg_alpha': 57.695661273689744, 'reg_lambda': 70.97544109085995, 'subsample': 0.7, 'learning_rate': 0.012611626248319624, 'max_depth': 6, 'colsample_bytree': 0.2417513784665508}. Best is trial 0 with value: -5.793236562320711.\u001b[0m\n",
            "\u001b[32m[I 2022-11-05 11:05:14,751]\u001b[0m Trial 4 finished with value: -420.3920217701162 and parameters: {'n_estimators': 1111, 'reg_alpha': 63.33579488839708, 'reg_lambda': 43.19244220708719, 'subsample': 1.0, 'learning_rate': 0.0012430476707488492, 'max_depth': 8, 'colsample_bytree': 0.2834329279633968}. Best is trial 0 with value: -5.793236562320711.\u001b[0m\n",
            "\u001b[32m[I 2022-11-05 11:05:21,346]\u001b[0m Trial 3 finished with value: -6.3571519616412075 and parameters: {'n_estimators': 2731, 'reg_alpha': 3.3968752298467253, 'reg_lambda': 85.14434534391637, 'subsample': 0.6, 'learning_rate': 0.004958306457160794, 'max_depth': 3, 'colsample_bytree': 0.3572365453358969}. Best is trial 0 with value: -5.793236562320711.\u001b[0m\n",
            "\u001b[32m[I 2022-11-05 11:05:35,184]\u001b[0m Trial 5 finished with value: -6.210034543867434 and parameters: {'n_estimators': 1535, 'reg_alpha': 36.60013658645994, 'reg_lambda': 30.07117133378289, 'subsample': 0.7, 'learning_rate': 0.005560828002735356, 'max_depth': 9, 'colsample_bytree': 0.8893386371942024}. Best is trial 0 with value: -5.793236562320711.\u001b[0m\n",
            "\u001b[32m[I 2022-11-05 11:05:44,596]\u001b[0m Trial 7 finished with value: -7.560846132857322 and parameters: {'n_estimators': 2829, 'reg_alpha': 52.07817777326522, 'reg_lambda': 1.4742810937189852, 'subsample': 0.8, 'learning_rate': 0.0020985128852551195, 'max_depth': 2, 'colsample_bytree': 0.3945617412710667}. Best is trial 0 with value: -5.793236562320711.\u001b[0m\n",
            "\u001b[32m[I 2022-11-05 11:05:48,294]\u001b[0m Trial 6 finished with value: -5.8176247120177145 and parameters: {'n_estimators': 2360, 'reg_alpha': 25.09458635587987, 'reg_lambda': 70.7102940218707, 'subsample': 0.9, 'learning_rate': 0.008265722351075483, 'max_depth': 6, 'colsample_bytree': 0.6631768168939275}. Best is trial 0 with value: -5.793236562320711.\u001b[0m\n",
            "\u001b[32m[I 2022-11-05 11:07:10,304]\u001b[0m Trial 8 finished with value: -5.740803476181512 and parameters: {'n_estimators': 7179, 'reg_alpha': 76.03929077771026, 'reg_lambda': 43.39745510152215, 'subsample': 0.5, 'learning_rate': 0.01982720649364031, 'max_depth': 6, 'colsample_bytree': 0.8201118136469617}. Best is trial 8 with value: -5.740803476181512.\u001b[0m\n",
            "\u001b[32m[I 2022-11-05 11:07:20,438]\u001b[0m Trial 9 finished with value: -5.913219563521945 and parameters: {'n_estimators': 9662, 'reg_alpha': 63.0807242485813, 'reg_lambda': 68.52887083953476, 'subsample': 0.8, 'learning_rate': 0.0020731748228138727, 'max_depth': 6, 'colsample_bytree': 0.48695265571332835}. Best is trial 8 with value: -5.740803476181512.\u001b[0m\n",
            "\u001b[32m[I 2022-11-05 11:07:43,077]\u001b[0m Trial 10 finished with value: -5.919632982263877 and parameters: {'n_estimators': 5568, 'reg_alpha': 63.62026411050778, 'reg_lambda': 35.818243833269214, 'subsample': 0.7, 'learning_rate': 0.06076571594208197, 'max_depth': 6, 'colsample_bytree': 0.23095426956468398}. Best is trial 8 with value: -5.740803476181512.\u001b[0m\n",
            "\u001b[32m[I 2022-11-05 11:08:27,703]\u001b[0m Trial 12 finished with value: -5.915033949974003 and parameters: {'n_estimators': 7688, 'reg_alpha': 98.83949961894353, 'reg_lambda': 54.60339137817319, 'subsample': 1.0, 'learning_rate': 0.02874400983688812, 'max_depth': 8, 'colsample_bytree': 0.9839926049555735}. Best is trial 8 with value: -5.740803476181512.\u001b[0m\n",
            "\u001b[32m[I 2022-11-05 11:08:28,237]\u001b[0m Trial 11 finished with value: -5.733643488574835 and parameters: {'n_estimators': 6975, 'reg_alpha': 89.57809947391411, 'reg_lambda': 97.9012500874629, 'subsample': 0.5, 'learning_rate': 0.05730898347971409, 'max_depth': 4, 'colsample_bytree': 0.9712479075152358}. Best is trial 11 with value: -5.733643488574835.\u001b[0m\n",
            "\u001b[32m[I 2022-11-05 11:09:27,513]\u001b[0m Trial 14 finished with value: -5.809435285786001 and parameters: {'n_estimators': 7377, 'reg_alpha': 82.30614332236497, 'reg_lambda': 95.84039018578245, 'subsample': 0.5, 'learning_rate': 0.08768032643892973, 'max_depth': 4, 'colsample_bytree': 0.8142433536152911}. Best is trial 11 with value: -5.733643488574835.\u001b[0m\n",
            "\u001b[32m[I 2022-11-05 11:09:59,837]\u001b[0m Trial 13 finished with value: -5.781975768587745 and parameters: {'n_estimators': 7969, 'reg_alpha': 96.02737314958655, 'reg_lambda': 23.409918247763187, 'subsample': 0.5, 'learning_rate': 0.021322699353169713, 'max_depth': 8, 'colsample_bytree': 0.7483181513501013}. Best is trial 11 with value: -5.733643488574835.\u001b[0m\n",
            "\u001b[32m[I 2022-11-05 11:10:40,433]\u001b[0m Trial 15 finished with value: -5.702733716674735 and parameters: {'n_estimators': 7429, 'reg_alpha': 81.64896995816238, 'reg_lambda': 19.79151465832807, 'subsample': 0.6, 'learning_rate': 0.02810440799292941, 'max_depth': 4, 'colsample_bytree': 0.9894939206465357}. Best is trial 15 with value: -5.702733716674735.\u001b[0m\n",
            "\u001b[32m[I 2022-11-05 11:10:40,839]\u001b[0m Trial 16 finished with value: -5.68428772287812 and parameters: {'n_estimators': 4222, 'reg_alpha': 76.92870064169745, 'reg_lambda': 14.682558031292842, 'subsample': 0.6, 'learning_rate': 0.03453444398736586, 'max_depth': 4, 'colsample_bytree': 0.988614576779171}. Best is trial 16 with value: -5.68428772287812.\u001b[0m\n",
            "\u001b[32m[I 2022-11-05 11:11:02,222]\u001b[0m Trial 18 finished with value: -5.657350103539156 and parameters: {'n_estimators': 4212, 'reg_alpha': 74.84288795517527, 'reg_lambda': 10.892516647289222, 'subsample': 0.6, 'learning_rate': 0.03417368542112593, 'max_depth': 2, 'colsample_bytree': 0.8932336488201612}. Best is trial 18 with value: -5.657350103539156.\u001b[0m\n",
            "\u001b[32m[I 2022-11-05 11:11:20,692]\u001b[0m Trial 17 finished with value: -5.747267599975796 and parameters: {'n_estimators': 4641, 'reg_alpha': 82.10293128685936, 'reg_lambda': 13.844782384499908, 'subsample': 0.6, 'learning_rate': 0.044356989339108366, 'max_depth': 4, 'colsample_bytree': 0.997184151743453}. Best is trial 18 with value: -5.657350103539156.\u001b[0m\n",
            "\u001b[32m[I 2022-11-05 11:11:25,669]\u001b[0m Trial 19 finished with value: -5.656470328860084 and parameters: {'n_estimators': 4196, 'reg_alpha': 70.64099367085893, 'reg_lambda': 1.3161160776701237, 'subsample': 0.6, 'learning_rate': 0.04464649063896492, 'max_depth': 2, 'colsample_bytree': 0.8729439997591323}. Best is trial 19 with value: -5.656470328860084.\u001b[0m\n",
            "\u001b[32m[I 2022-11-05 11:11:33,116]\u001b[0m Trial 20 finished with value: -5.793269828756993 and parameters: {'n_estimators': 4149, 'reg_alpha': 72.54614028613308, 'reg_lambda': 0.8640736744880453, 'subsample': 0.6, 'learning_rate': 0.08903570792500778, 'max_depth': 2, 'colsample_bytree': 0.1365442964330859}. Best is trial 19 with value: -5.656470328860084.\u001b[0m\n",
            "\u001b[32m[I 2022-11-05 11:11:48,516]\u001b[0m Trial 21 finished with value: -5.781879681112844 and parameters: {'n_estimators': 3983, 'reg_alpha': 36.664223082012526, 'reg_lambda': 1.4593337109593463, 'subsample': 0.6, 'learning_rate': 0.09386797068865971, 'max_depth': 2, 'colsample_bytree': 0.6464866638198933}. Best is trial 19 with value: -5.656470328860084.\u001b[0m\n",
            "\u001b[32m[I 2022-11-05 11:12:11,118]\u001b[0m Trial 22 finished with value: -5.738273266055292 and parameters: {'n_estimators': 4071, 'reg_alpha': 37.381945415646584, 'reg_lambda': 11.563694772038685, 'subsample': 0.6, 'learning_rate': 0.039095329045091186, 'max_depth': 3, 'colsample_bytree': 0.8713749518670504}. Best is trial 19 with value: -5.656470328860084.\u001b[0m\n",
            "\u001b[32m[I 2022-11-05 11:12:28,849]\u001b[0m Trial 23 finished with value: -5.717422984348107 and parameters: {'n_estimators': 4605, 'reg_alpha': 70.52646595858404, 'reg_lambda': 8.642658686887085, 'subsample': 0.7, 'learning_rate': 0.038921732912346955, 'max_depth': 3, 'colsample_bytree': 0.8934332104585374}. Best is trial 19 with value: -5.656470328860084.\u001b[0m\n",
            "\u001b[32m[I 2022-11-05 11:12:55,251]\u001b[0m Trial 24 finished with value: -5.642814982026319 and parameters: {'n_estimators': 5086, 'reg_alpha': 72.19195550265506, 'reg_lambda': 12.803103946568497, 'subsample': 0.7, 'learning_rate': 0.015398354550310696, 'max_depth': 3, 'colsample_bytree': 0.892016972154765}. Best is trial 24 with value: -5.642814982026319.\u001b[0m\n",
            "\u001b[32m[I 2022-11-05 11:13:06,691]\u001b[0m Trial 25 finished with value: -5.689674154206109 and parameters: {'n_estimators': 3259, 'reg_alpha': 85.92548734983987, 'reg_lambda': 26.286066712229538, 'subsample': 0.7, 'learning_rate': 0.014278143707900696, 'max_depth': 5, 'colsample_bytree': 0.7429695952623192}. Best is trial 24 with value: -5.642814982026319.\u001b[0m\n",
            "\u001b[32m[I 2022-11-05 11:13:30,823]\u001b[0m Trial 26 finished with value: -5.632207260963496 and parameters: {'n_estimators': 6368, 'reg_alpha': 88.31254299086632, 'reg_lambda': 29.342745637553925, 'subsample': 0.8, 'learning_rate': 0.0147131736262767, 'max_depth': 2, 'colsample_bytree': 0.7643041596986544}. Best is trial 26 with value: -5.632207260963496.\u001b[0m\n",
            "\u001b[32m[I 2022-11-05 11:13:35,529]\u001b[0m Trial 27 finished with value: -5.611988551303429 and parameters: {'n_estimators': 5995, 'reg_alpha': 69.55046289875928, 'reg_lambda': 7.615156407233444, 'subsample': 0.8, 'learning_rate': 0.01808848701343177, 'max_depth': 2, 'colsample_bytree': 0.5939688474511763}. Best is trial 27 with value: -5.611988551303429.\u001b[0m\n",
            "\u001b[32m[I 2022-11-05 11:14:12,967]\u001b[0m Trial 29 finished with value: -5.654761484554288 and parameters: {'n_estimators': 6332, 'reg_alpha': 92.2455377959759, 'reg_lambda': 34.697996822134996, 'subsample': 0.8, 'learning_rate': 0.01445656455357975, 'max_depth': 3, 'colsample_bytree': 0.5965381905503937}. Best is trial 27 with value: -5.611988551303429.\u001b[0m\n",
            "\u001b[32m[I 2022-11-05 11:14:15,323]\u001b[0m Trial 28 finished with value: -5.637535633605853 and parameters: {'n_estimators': 6223, 'reg_alpha': 91.18007225961935, 'reg_lambda': 32.42806417499782, 'subsample': 0.8, 'learning_rate': 0.013740678888538846, 'max_depth': 3, 'colsample_bytree': 0.7753990636810518}. Best is trial 27 with value: -5.611988551303429.\u001b[0m\n",
            "\u001b[32m[I 2022-11-05 11:14:56,215]\u001b[0m Trial 30 finished with value: -5.758868201601047 and parameters: {'n_estimators': 6227, 'reg_alpha': 89.62367382836035, 'reg_lambda': 20.00241297223765, 'subsample': 0.9, 'learning_rate': 0.005649197082727661, 'max_depth': 5, 'colsample_bytree': 0.5106689046188533}. Best is trial 27 with value: -5.611988551303429.\u001b[0m\n",
            "\u001b[32m[I 2022-11-05 11:15:22,846]\u001b[0m Trial 31 finished with value: -5.732970876250538 and parameters: {'n_estimators': 8614, 'reg_alpha': 90.84224400948618, 'reg_lambda': 46.77099161306471, 'subsample': 0.9, 'learning_rate': 0.005585862075652064, 'max_depth': 5, 'colsample_bytree': 0.48900942261710245}. Best is trial 27 with value: -5.611988551303429.\u001b[0m\n",
            "\u001b[32m[I 2022-11-05 11:15:32,589]\u001b[0m Trial 32 finished with value: -5.642058468247992 and parameters: {'n_estimators': 5099, 'reg_alpha': 97.4650922700006, 'reg_lambda': 42.05171449220166, 'subsample': 0.8, 'learning_rate': 0.010549852557627044, 'max_depth': 3, 'colsample_bytree': 0.7448347245693231}. Best is trial 27 with value: -5.611988551303429.\u001b[0m\n"
          ]
        }
      ],
      "source": [
        "study_xgb = optuna.create_study(direction=\"maximize\")\n",
        "study_xgb.optimize(objective_xgb, n_trials=50, n_jobs=-1, timeout=700)\n",
        "trial_xgb = study_xgb.best_trial"
      ]
    },
    {
      "cell_type": "code",
      "execution_count": null,
      "metadata": {
        "colab": {
          "base_uri": "https://localhost:8080/"
        },
        "id": "JZkDQteI4TCZ",
        "outputId": "6682d12f-f739-4ad6-d2f5-4c951eddb193"
      },
      "outputs": [
        {
          "name": "stdout",
          "output_type": "stream",
          "text": [
            "Best Score:  5.611988551303429\n",
            "Best Params:  {'n_estimators': 5995, 'reg_alpha': 69.55046289875928, 'reg_lambda': 7.615156407233444, 'subsample': 0.8, 'learning_rate': 0.01808848701343177, 'max_depth': 2, 'colsample_bytree': 0.5939688474511763}\n"
          ]
        }
      ],
      "source": [
        "print(\"Best Score: \", abs(trial_xgb.value))\n",
        "print(\"Best Params: \", study_xgb.best_params)"
      ]
    },
    {
      "cell_type": "code",
      "execution_count": null,
      "metadata": {
        "id": "MlVFcVLkq4FX"
      },
      "outputs": [],
      "source": [
        "add_model_result(results, 'XGBRegressor', study_xgb.best_params, abs(trial_xgb.value))"
      ]
    },
    {
      "cell_type": "markdown",
      "metadata": {
        "id": "QQgsSZY7gDGb"
      },
      "source": [
        "### Result"
      ]
    },
    {
      "cell_type": "code",
      "execution_count": null,
      "metadata": {
        "colab": {
          "base_uri": "https://localhost:8080/",
          "height": 363
        },
        "id": "sLedBNokgNMV",
        "outputId": "be345cdf-7343-4d6a-f43d-e08d713e4ef6"
      },
      "outputs": [
        {
          "data": {
            "text/html": [
              "\n",
              "  <div id=\"df-38ee9ce2-13a1-4d59-9a41-4de558ba0b66\">\n",
              "    <div class=\"colab-df-container\">\n",
              "      <div>\n",
              "<style scoped>\n",
              "    .dataframe tbody tr th:only-of-type {\n",
              "        vertical-align: middle;\n",
              "    }\n",
              "\n",
              "    .dataframe tbody tr th {\n",
              "        vertical-align: top;\n",
              "    }\n",
              "\n",
              "    .dataframe thead th {\n",
              "        text-align: right;\n",
              "    }\n",
              "</style>\n",
              "<table border=\"1\" class=\"dataframe\">\n",
              "  <thead>\n",
              "    <tr style=\"text-align: right;\">\n",
              "      <th></th>\n",
              "      <th>name</th>\n",
              "      <th>best_params</th>\n",
              "      <th>MAE</th>\n",
              "    </tr>\n",
              "  </thead>\n",
              "  <tbody>\n",
              "    <tr>\n",
              "      <th>5</th>\n",
              "      <td>CatBoost</td>\n",
              "      <td>{'depth': 5, 'l2_leaf_reg': 4, 'learning_rate'...</td>\n",
              "      <td>5.556720</td>\n",
              "    </tr>\n",
              "    <tr>\n",
              "      <th>4</th>\n",
              "      <td>CatBoost_default</td>\n",
              "      <td>None</td>\n",
              "      <td>5.568267</td>\n",
              "    </tr>\n",
              "    <tr>\n",
              "      <th>9</th>\n",
              "      <td>XGBRegressor</td>\n",
              "      <td>{'n_estimators': 5995, 'reg_alpha': 69.5504628...</td>\n",
              "      <td>5.611989</td>\n",
              "    </tr>\n",
              "    <tr>\n",
              "      <th>6</th>\n",
              "      <td>LightGBM_default</td>\n",
              "      <td>None</td>\n",
              "      <td>5.736302</td>\n",
              "    </tr>\n",
              "    <tr>\n",
              "      <th>7</th>\n",
              "      <td>LightGBM</td>\n",
              "      <td>{'learning_rate': 0.08152287903577327, 'max_de...</td>\n",
              "      <td>5.886533</td>\n",
              "    </tr>\n",
              "    <tr>\n",
              "      <th>2</th>\n",
              "      <td>Lasso</td>\n",
              "      <td>{'clf__alpha': 0.01}</td>\n",
              "      <td>5.926262</td>\n",
              "    </tr>\n",
              "    <tr>\n",
              "      <th>3</th>\n",
              "      <td>ElasticNet</td>\n",
              "      <td>{'clf__alpha': 0.001, 'clf__max_iter': 1000}</td>\n",
              "      <td>5.928945</td>\n",
              "    </tr>\n",
              "    <tr>\n",
              "      <th>8</th>\n",
              "      <td>XGBRegressor_default</td>\n",
              "      <td>None</td>\n",
              "      <td>5.931656</td>\n",
              "    </tr>\n",
              "    <tr>\n",
              "      <th>1</th>\n",
              "      <td>Ridge</td>\n",
              "      <td>{'clf__alpha': 10}</td>\n",
              "      <td>5.935400</td>\n",
              "    </tr>\n",
              "    <tr>\n",
              "      <th>0</th>\n",
              "      <td>LinearRegression</td>\n",
              "      <td>{'clf__copy_X': True, 'clf__fit_intercept': True}</td>\n",
              "      <td>5.966434</td>\n",
              "    </tr>\n",
              "  </tbody>\n",
              "</table>\n",
              "</div>\n",
              "      <button class=\"colab-df-convert\" onclick=\"convertToInteractive('df-38ee9ce2-13a1-4d59-9a41-4de558ba0b66')\"\n",
              "              title=\"Convert this dataframe to an interactive table.\"\n",
              "              style=\"display:none;\">\n",
              "        \n",
              "  <svg xmlns=\"http://www.w3.org/2000/svg\" height=\"24px\"viewBox=\"0 0 24 24\"\n",
              "       width=\"24px\">\n",
              "    <path d=\"M0 0h24v24H0V0z\" fill=\"none\"/>\n",
              "    <path d=\"M18.56 5.44l.94 2.06.94-2.06 2.06-.94-2.06-.94-.94-2.06-.94 2.06-2.06.94zm-11 1L8.5 8.5l.94-2.06 2.06-.94-2.06-.94L8.5 2.5l-.94 2.06-2.06.94zm10 10l.94 2.06.94-2.06 2.06-.94-2.06-.94-.94-2.06-.94 2.06-2.06.94z\"/><path d=\"M17.41 7.96l-1.37-1.37c-.4-.4-.92-.59-1.43-.59-.52 0-1.04.2-1.43.59L10.3 9.45l-7.72 7.72c-.78.78-.78 2.05 0 2.83L4 21.41c.39.39.9.59 1.41.59.51 0 1.02-.2 1.41-.59l7.78-7.78 2.81-2.81c.8-.78.8-2.07 0-2.86zM5.41 20L4 18.59l7.72-7.72 1.47 1.35L5.41 20z\"/>\n",
              "  </svg>\n",
              "      </button>\n",
              "      \n",
              "  <style>\n",
              "    .colab-df-container {\n",
              "      display:flex;\n",
              "      flex-wrap:wrap;\n",
              "      gap: 12px;\n",
              "    }\n",
              "\n",
              "    .colab-df-convert {\n",
              "      background-color: #E8F0FE;\n",
              "      border: none;\n",
              "      border-radius: 50%;\n",
              "      cursor: pointer;\n",
              "      display: none;\n",
              "      fill: #1967D2;\n",
              "      height: 32px;\n",
              "      padding: 0 0 0 0;\n",
              "      width: 32px;\n",
              "    }\n",
              "\n",
              "    .colab-df-convert:hover {\n",
              "      background-color: #E2EBFA;\n",
              "      box-shadow: 0px 1px 2px rgba(60, 64, 67, 0.3), 0px 1px 3px 1px rgba(60, 64, 67, 0.15);\n",
              "      fill: #174EA6;\n",
              "    }\n",
              "\n",
              "    [theme=dark] .colab-df-convert {\n",
              "      background-color: #3B4455;\n",
              "      fill: #D2E3FC;\n",
              "    }\n",
              "\n",
              "    [theme=dark] .colab-df-convert:hover {\n",
              "      background-color: #434B5C;\n",
              "      box-shadow: 0px 1px 3px 1px rgba(0, 0, 0, 0.15);\n",
              "      filter: drop-shadow(0px 1px 2px rgba(0, 0, 0, 0.3));\n",
              "      fill: #FFFFFF;\n",
              "    }\n",
              "  </style>\n",
              "\n",
              "      <script>\n",
              "        const buttonEl =\n",
              "          document.querySelector('#df-38ee9ce2-13a1-4d59-9a41-4de558ba0b66 button.colab-df-convert');\n",
              "        buttonEl.style.display =\n",
              "          google.colab.kernel.accessAllowed ? 'block' : 'none';\n",
              "\n",
              "        async function convertToInteractive(key) {\n",
              "          const element = document.querySelector('#df-38ee9ce2-13a1-4d59-9a41-4de558ba0b66');\n",
              "          const dataTable =\n",
              "            await google.colab.kernel.invokeFunction('convertToInteractive',\n",
              "                                                     [key], {});\n",
              "          if (!dataTable) return;\n",
              "\n",
              "          const docLinkHtml = 'Like what you see? Visit the ' +\n",
              "            '<a target=\"_blank\" href=https://colab.research.google.com/notebooks/data_table.ipynb>data table notebook</a>'\n",
              "            + ' to learn more about interactive tables.';\n",
              "          element.innerHTML = '';\n",
              "          dataTable['output_type'] = 'display_data';\n",
              "          await google.colab.output.renderOutput(dataTable, element);\n",
              "          const docLink = document.createElement('div');\n",
              "          docLink.innerHTML = docLinkHtml;\n",
              "          element.appendChild(docLink);\n",
              "        }\n",
              "      </script>\n",
              "    </div>\n",
              "  </div>\n",
              "  "
            ],
            "text/plain": [
              "                   name                                        best_params  \\\n",
              "5              CatBoost  {'depth': 5, 'l2_leaf_reg': 4, 'learning_rate'...   \n",
              "4      CatBoost_default                                               None   \n",
              "9          XGBRegressor  {'n_estimators': 5995, 'reg_alpha': 69.5504628...   \n",
              "6      LightGBM_default                                               None   \n",
              "7              LightGBM  {'learning_rate': 0.08152287903577327, 'max_de...   \n",
              "2                 Lasso                               {'clf__alpha': 0.01}   \n",
              "3            ElasticNet       {'clf__alpha': 0.001, 'clf__max_iter': 1000}   \n",
              "8  XGBRegressor_default                                               None   \n",
              "1                 Ridge                                 {'clf__alpha': 10}   \n",
              "0      LinearRegression  {'clf__copy_X': True, 'clf__fit_intercept': True}   \n",
              "\n",
              "        MAE  \n",
              "5  5.556720  \n",
              "4  5.568267  \n",
              "9  5.611989  \n",
              "6  5.736302  \n",
              "7  5.886533  \n",
              "2  5.926262  \n",
              "3  5.928945  \n",
              "8  5.931656  \n",
              "1  5.935400  \n",
              "0  5.966434  "
            ]
          },
          "execution_count": 115,
          "metadata": {},
          "output_type": "execute_result"
        }
      ],
      "source": [
        "pd.DataFrame(results).sort_values('MAE')"
      ]
    },
    {
      "cell_type": "markdown",
      "metadata": {
        "id": "OnF0UvnsCl--"
      },
      "source": [
        "Таким образом, лучшей моделью является CatBoost с гиперпарамерами: `depth = 5, l2_leaf_reg = 4, learning_rate = 0.038, iterations = 1681, random_strength = 5`, показавшая значение MAE на кросвалидаци 5.56."
      ]
    },
    {
      "cell_type": "markdown",
      "metadata": {
        "id": "Vs2KnwqWDJXY"
      },
      "source": [
        "## Тестирование результатов"
      ]
    },
    {
      "cell_type": "code",
      "execution_count": null,
      "metadata": {
        "colab": {
          "base_uri": "https://localhost:8080/"
        },
        "id": "DtNkjDsLfBUt",
        "outputId": "1855e0ff-c181-478a-a0df-2de08dfd2390"
      },
      "outputs": [
        {
          "data": {
            "text/plain": [
              "5.763241447507286"
            ]
          },
          "execution_count": 116,
          "metadata": {},
          "output_type": "execute_result"
        }
      ],
      "source": [
        "cat = CatBoostRegressor(**study_cat.best_params, silent=True)\n",
        "cat.fit(X_train, y_train)\n",
        "predictions = cat.predict(X_test)\n",
        "mean_absolute_error(y_test, predictions)"
      ]
    },
    {
      "cell_type": "code",
      "execution_count": null,
      "metadata": {
        "colab": {
          "base_uri": "https://localhost:8080/",
          "height": 501
        },
        "id": "0jJCZnsYL7Ie",
        "outputId": "a55b0f02-a683-4af3-d36b-80217e9ce531"
      },
      "outputs": [
        {
          "data": {
            "text/plain": [
              "<matplotlib.axes._subplots.AxesSubplot at 0x7fb8a10e0050>"
            ]
          },
          "execution_count": 117,
          "metadata": {},
          "output_type": "execute_result"
        },
        {
          "data": {
            "image/png": "[encoded data removed]",
            "text/plain": [
              "<Figure size 720x576 with 1 Axes>"
            ]
          },
          "metadata": {},
          "output_type": "display_data"
        }
      ],
      "source": [
        "pd.Series(cat.get_feature_importance(Pool(X_train, y_train, feature_names=list(X_train.columns))), \n",
        "          index = X_train.columns).sort_values().plot(kind='barh', figsize=(10,8))"
      ]
    },
    {
      "cell_type": "markdown",
      "metadata": {
        "id": "KRszf9aLY7Ps"
      },
      "source": [
        "На тестовой выборке модель показала срднее абсолютное отклонение от целевой переменной 5.76 градусов.\n",
        "\n",
        "Стоит отметить, что наиболее значимыми признаками для выбранной модели являюся: первоначальная температура стали, активная мощность, количество нагревов дугой. Такие признаки, как добавление сыпучих и проволочных материалов (а именно  Wire 4, Wire 5, Wire 7, Wire 8, Wire 9, Bulk 8, Bulk 9), не используются моделью. Это обстоятельство прежде всего связано с тем, что данные материалы добавляются при плавки стали крайне редко. "
      ]
    },
    {
      "cell_type": "markdown",
      "metadata": {
        "id": "6XvuGlTZ3PO6"
      },
      "source": [
        "## Вывод"
      ]
    },
    {
      "cell_type": "markdown",
      "metadata": {
        "id": "UlbOGZI-Z7Er"
      },
      "source": [
        "Нами проведен анализ процесса плавки стали, а именно сведений, содержащих информацию об электродах, сыпучих материалах (объем и время подачи),  о продувке сплава газом,  о проволочных материалах (объем и время), а также результаты измерения температуры стали.\n",
        "\n",
        "При плавке металла нагревают ковш с помощью электродов, мощность нагрева определяется мощностью электродов, которые характеризуются активной мощностью, отражающей процесс преобразования электрической энергии в тепловую (полезная, реальная мощность) и реактивной - величина, характеризующая нагрузки, создаваемые в электротехнических устройствах колебаниями энергии электромагнитного поля в цепи (побочный эффект, потери).\n",
        "\n",
        "Также в процессе плавки определяют каких веществ не хватает, чтобы получить определенную марку стали, поэтому добавляют сыпучие и проволочные вещества, которые размешивают с помощью газа. Всего присутвует 15 сыпучих материалов и 9 проволочных. В данных много пропусков, так как для определенной партии добавляют только некоторые, недостающие вещества. Чаще всего добавляют Bulk 12, Bulk 14, Bulk 15, Wire 1 и Wire 2, а реже всего - Bulk 2, Bulk 8, Bulk 9, Bulk 13, Wire 4, Wire 5 и Wire 7, что обусловлено технологическим процессом (различием сырья, из которого производят сталь. \n",
        "\n",
        "Для обучения модели были подготовлены данные, в которые вошли первоначальный замер температуры стали,\tфинальная температура стали, промежуток времени между первоначальным и финальным замером температуры,\tактивная и реактивная мощность электродов, количество нагревов электродов, \tвремя нагрева дугой, объем газа, а также объемы различных сыпучих и проволочных веществ.\n",
        "\n",
        "Лучшей моделью для определения финальной температуры партии стали при плавке является CatBoost с гиперпарамерами: `depth = 5, l2_leaf_reg = 4, learning_rate = 0.038, iterations = 1681, random_strength = 5`, которая показала среднее абсолютное отклонение на тестовой выборке 5.77 градусов, что является хорошим результатом."
      ]
    }
  ],
  "metadata": {
    "ExecuteTimeLog": [
      {
        "duration": 88,
        "start_time": "2022-11-03T08:12:07.161Z"
      },
      {
        "duration": 4502,
        "start_time": "2022-11-06T08:53:28.451Z"
      },
      {
        "duration": 2122,
        "start_time": "2022-11-06T08:53:32.956Z"
      },
      {
        "duration": 3,
        "start_time": "2022-11-06T08:53:35.080Z"
      },
      {
        "duration": 141,
        "start_time": "2022-11-06T08:53:35.086Z"
      },
      {
        "duration": 0,
        "start_time": "2022-11-06T08:53:35.229Z"
      },
      {
        "duration": 0,
        "start_time": "2022-11-06T08:53:35.233Z"
      },
      {
        "duration": 0,
        "start_time": "2022-11-06T08:53:35.234Z"
      },
      {
        "duration": 0,
        "start_time": "2022-11-06T08:53:35.235Z"
      },
      {
        "duration": 0,
        "start_time": "2022-11-06T08:53:35.236Z"
      },
      {
        "duration": 0,
        "start_time": "2022-11-06T08:53:35.239Z"
      },
      {
        "duration": 0,
        "start_time": "2022-11-06T08:53:35.240Z"
      },
      {
        "duration": 0,
        "start_time": "2022-11-06T08:53:35.241Z"
      },
      {
        "duration": 0,
        "start_time": "2022-11-06T08:53:35.243Z"
      },
      {
        "duration": 0,
        "start_time": "2022-11-06T08:53:35.244Z"
      },
      {
        "duration": 0,
        "start_time": "2022-11-06T08:53:35.245Z"
      },
      {
        "duration": 0,
        "start_time": "2022-11-06T08:53:35.246Z"
      },
      {
        "duration": 0,
        "start_time": "2022-11-06T08:53:35.247Z"
      },
      {
        "duration": 0,
        "start_time": "2022-11-06T08:53:35.249Z"
      },
      {
        "duration": 0,
        "start_time": "2022-11-06T08:53:35.250Z"
      },
      {
        "duration": 0,
        "start_time": "2022-11-06T08:53:35.252Z"
      },
      {
        "duration": 0,
        "start_time": "2022-11-06T08:53:35.252Z"
      },
      {
        "duration": 0,
        "start_time": "2022-11-06T08:53:35.253Z"
      },
      {
        "duration": 0,
        "start_time": "2022-11-06T08:53:35.255Z"
      },
      {
        "duration": 0,
        "start_time": "2022-11-06T08:53:35.256Z"
      },
      {
        "duration": 0,
        "start_time": "2022-11-06T08:53:35.257Z"
      },
      {
        "duration": 0,
        "start_time": "2022-11-06T08:53:35.258Z"
      },
      {
        "duration": 0,
        "start_time": "2022-11-06T08:53:35.259Z"
      },
      {
        "duration": 0,
        "start_time": "2022-11-06T08:53:35.260Z"
      },
      {
        "duration": 60,
        "start_time": "2022-11-06T08:53:35.275Z"
      },
      {
        "duration": 9,
        "start_time": "2022-11-06T08:53:35.475Z"
      },
      {
        "duration": 10,
        "start_time": "2022-11-06T08:53:35.686Z"
      },
      {
        "duration": 10,
        "start_time": "2022-11-06T08:53:35.891Z"
      },
      {
        "duration": 193,
        "start_time": "2022-11-06T08:58:28.184Z"
      },
      {
        "duration": 18,
        "start_time": "2022-11-06T08:58:29.870Z"
      },
      {
        "duration": 3,
        "start_time": "2022-11-06T08:58:30.206Z"
      },
      {
        "duration": 16,
        "start_time": "2022-11-06T08:58:30.561Z"
      },
      {
        "duration": 18,
        "start_time": "2022-11-06T08:58:30.870Z"
      },
      {
        "duration": 11,
        "start_time": "2022-11-06T08:58:31.607Z"
      },
      {
        "duration": 21,
        "start_time": "2022-11-06T08:58:32.275Z"
      },
      {
        "duration": 16,
        "start_time": "2022-11-06T08:58:32.552Z"
      },
      {
        "duration": 11,
        "start_time": "2022-11-06T08:58:32.838Z"
      },
      {
        "duration": 22,
        "start_time": "2022-11-06T08:58:33.365Z"
      },
      {
        "duration": 14,
        "start_time": "2022-11-06T08:58:33.586Z"
      },
      {
        "duration": 32,
        "start_time": "2022-11-06T08:58:33.860Z"
      },
      {
        "duration": 13,
        "start_time": "2022-11-06T08:58:34.101Z"
      },
      {
        "duration": 8,
        "start_time": "2022-11-06T08:58:34.587Z"
      },
      {
        "duration": 3,
        "start_time": "2022-11-06T08:58:34.777Z"
      },
      {
        "duration": 13,
        "start_time": "2022-11-06T08:58:34.947Z"
      },
      {
        "duration": 6,
        "start_time": "2022-11-06T08:58:35.100Z"
      },
      {
        "duration": 12,
        "start_time": "2022-11-06T08:58:35.400Z"
      },
      {
        "duration": 4,
        "start_time": "2022-11-06T08:58:35.563Z"
      },
      {
        "duration": 17,
        "start_time": "2022-11-06T08:58:35.721Z"
      },
      {
        "duration": 13,
        "start_time": "2022-11-06T08:58:35.872Z"
      },
      {
        "duration": 10,
        "start_time": "2022-11-06T08:58:36.025Z"
      },
      {
        "duration": 16,
        "start_time": "2022-11-06T08:58:36.354Z"
      },
      {
        "duration": 16,
        "start_time": "2022-11-06T08:58:36.525Z"
      },
      {
        "duration": 9,
        "start_time": "2022-11-06T08:58:36.689Z"
      },
      {
        "duration": 15,
        "start_time": "2022-11-06T08:58:37.009Z"
      },
      {
        "duration": 16,
        "start_time": "2022-11-06T08:58:37.161Z"
      },
      {
        "duration": 12,
        "start_time": "2022-11-06T08:58:37.324Z"
      },
      {
        "duration": 19,
        "start_time": "2022-11-06T08:58:37.526Z"
      },
      {
        "duration": 20,
        "start_time": "2022-11-06T08:58:38.509Z"
      },
      {
        "duration": 634,
        "start_time": "2022-11-06T08:58:38.671Z"
      },
      {
        "duration": 8,
        "start_time": "2022-11-06T08:58:39.307Z"
      },
      {
        "duration": 21,
        "start_time": "2022-11-06T08:58:39.317Z"
      },
      {
        "duration": 12,
        "start_time": "2022-11-06T08:58:39.470Z"
      },
      {
        "duration": 18,
        "start_time": "2022-11-06T08:58:39.616Z"
      },
      {
        "duration": 8,
        "start_time": "2022-11-06T08:58:39.944Z"
      },
      {
        "duration": 649,
        "start_time": "2022-11-06T08:58:40.247Z"
      },
      {
        "duration": 92,
        "start_time": "2022-11-06T08:58:40.899Z"
      },
      {
        "duration": 5,
        "start_time": "2022-11-06T08:58:40.994Z"
      },
      {
        "duration": 3996,
        "start_time": "2022-11-06T08:58:41.039Z"
      },
      {
        "duration": 195,
        "start_time": "2022-11-06T08:58:45.038Z"
      },
      {
        "duration": 18,
        "start_time": "2022-11-06T08:58:45.235Z"
      },
      {
        "duration": 355,
        "start_time": "2022-11-06T08:58:45.255Z"
      },
      {
        "duration": 64,
        "start_time": "2022-11-06T08:58:45.612Z"
      },
      {
        "duration": 2458,
        "start_time": "2022-11-06T08:58:45.678Z"
      },
      {
        "duration": 307,
        "start_time": "2022-11-06T08:58:48.138Z"
      },
      {
        "duration": 18,
        "start_time": "2022-11-06T08:58:48.447Z"
      },
      {
        "duration": 858,
        "start_time": "2022-11-06T08:58:48.467Z"
      },
      {
        "duration": 10,
        "start_time": "2022-11-06T08:58:49.328Z"
      },
      {
        "duration": 7,
        "start_time": "2022-11-06T08:58:49.340Z"
      },
      {
        "duration": 12,
        "start_time": "2022-11-06T08:58:49.350Z"
      },
      {
        "duration": 7,
        "start_time": "2022-11-06T08:59:37.175Z"
      },
      {
        "duration": 4,
        "start_time": "2022-11-06T08:59:38.144Z"
      },
      {
        "duration": 40,
        "start_time": "2022-11-06T08:59:38.350Z"
      },
      {
        "duration": 6,
        "start_time": "2022-11-06T08:59:45.753Z"
      },
      {
        "duration": 9,
        "start_time": "2022-11-06T08:59:46.784Z"
      },
      {
        "duration": 15,
        "start_time": "2022-11-06T08:59:47.542Z"
      },
      {
        "duration": 14,
        "start_time": "2022-11-06T08:59:47.938Z"
      },
      {
        "duration": 24,
        "start_time": "2022-11-06T08:59:48.352Z"
      },
      {
        "duration": 16,
        "start_time": "2022-11-06T08:59:48.715Z"
      },
      {
        "duration": 12,
        "start_time": "2022-11-06T08:59:49.068Z"
      },
      {
        "duration": 7,
        "start_time": "2022-11-06T08:59:49.844Z"
      },
      {
        "duration": 6,
        "start_time": "2022-11-06T08:59:52.016Z"
      },
      {
        "duration": 20,
        "start_time": "2022-11-06T08:59:53.661Z"
      },
      {
        "duration": 13,
        "start_time": "2022-11-06T08:59:54.099Z"
      },
      {
        "duration": 131,
        "start_time": "2022-11-06T08:59:54.556Z"
      },
      {
        "duration": 5,
        "start_time": "2022-11-06T08:59:55.251Z"
      },
      {
        "duration": 227,
        "start_time": "2022-11-06T08:59:55.999Z"
      },
      {
        "duration": 10,
        "start_time": "2022-11-06T08:59:56.344Z"
      },
      {
        "duration": 26,
        "start_time": "2022-11-06T09:00:00.541Z"
      },
      {
        "duration": 14,
        "start_time": "2022-11-06T09:00:00.878Z"
      },
      {
        "duration": 23,
        "start_time": "2022-11-06T09:00:01.271Z"
      },
      {
        "duration": 26,
        "start_time": "2022-11-06T09:00:39.154Z"
      },
      {
        "duration": 4,
        "start_time": "2022-11-06T09:04:33.120Z"
      },
      {
        "duration": 15,
        "start_time": "2022-11-06T09:04:33.592Z"
      },
      {
        "duration": 32,
        "start_time": "2022-11-06T09:04:34.042Z"
      },
      {
        "duration": 18,
        "start_time": "2022-11-06T09:04:34.499Z"
      },
      {
        "duration": 8,
        "start_time": "2022-11-06T09:04:41.189Z"
      },
      {
        "duration": 16,
        "start_time": "2022-11-06T09:04:41.524Z"
      }
    ],
    "colab": {
      "provenance": [],
      "toc_visible": true
    },
    "kernelspec": {
      "display_name": "Python 3 (ipykernel)",
      "language": "python",
      "name": "python3"
    },
    "language_info": {
      "codemirror_mode": {
        "name": "ipython",
        "version": 3
      },
      "file_extension": ".py",
      "mimetype": "text/x-python",
      "name": "python",
      "nbconvert_exporter": "python",
      "pygments_lexer": "ipython3",
      "version": "3.9.5"
    },
    "toc": {
      "base_numbering": 1,
      "nav_menu": {},
      "number_sections": true,
      "sideBar": true,
      "skip_h1_title": true,
      "title_cell": "Содержание",
      "title_sidebar": "Contents",
      "toc_cell": true,
      "toc_position": {},
      "toc_section_display": true,
      "toc_window_display": true
    }
  },
  "nbformat": 4,
  "nbformat_minor": 0
}