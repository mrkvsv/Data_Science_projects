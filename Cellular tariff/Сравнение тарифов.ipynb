{
  "metadata": {
    "ExecuteTimeLog": [
      {
        "duration": 480,
        "start_time": "2022-05-11T07:56:32.111Z"
      },
      {
        "duration": 8,
        "start_time": "2022-05-11T07:56:51.947Z"
      },
      {
        "duration": 9,
        "start_time": "2022-05-11T07:57:17.130Z"
      },
      {
        "duration": 1438,
        "start_time": "2022-05-11T07:57:39.197Z"
      },
      {
        "duration": 144,
        "start_time": "2022-05-11T07:58:20.959Z"
      },
      {
        "duration": 172,
        "start_time": "2022-05-11T07:58:26.998Z"
      },
      {
        "duration": 414,
        "start_time": "2022-05-11T08:00:19.751Z"
      },
      {
        "duration": 406,
        "start_time": "2022-05-11T08:00:28.357Z"
      },
      {
        "duration": 10,
        "start_time": "2022-05-11T08:00:33.814Z"
      },
      {
        "duration": 18,
        "start_time": "2022-05-11T08:00:53.574Z"
      },
      {
        "duration": 14,
        "start_time": "2022-05-11T08:01:06.105Z"
      },
      {
        "duration": 10,
        "start_time": "2022-05-11T08:01:09.895Z"
      },
      {
        "duration": 8,
        "start_time": "2022-05-11T08:01:17.292Z"
      },
      {
        "duration": 18,
        "start_time": "2022-05-11T08:01:30.516Z"
      },
      {
        "duration": 42,
        "start_time": "2022-05-11T08:07:45.888Z"
      },
      {
        "duration": 1175,
        "start_time": "2022-05-11T08:10:12.420Z"
      },
      {
        "duration": 413,
        "start_time": "2022-05-11T08:10:13.597Z"
      },
      {
        "duration": 14,
        "start_time": "2022-05-11T08:10:14.013Z"
      },
      {
        "duration": 11,
        "start_time": "2022-05-11T08:10:14.029Z"
      },
      {
        "duration": 10,
        "start_time": "2022-05-11T08:10:14.042Z"
      },
      {
        "duration": 8,
        "start_time": "2022-05-11T08:10:14.053Z"
      },
      {
        "duration": 12,
        "start_time": "2022-05-11T08:10:14.062Z"
      },
      {
        "duration": 140,
        "start_time": "2022-05-11T08:10:14.075Z"
      },
      {
        "duration": 28,
        "start_time": "2022-05-11T08:10:24.651Z"
      },
      {
        "duration": 50,
        "start_time": "2022-05-11T08:11:19.387Z"
      },
      {
        "duration": 55,
        "start_time": "2022-05-11T08:13:44.718Z"
      },
      {
        "duration": 54,
        "start_time": "2022-05-11T08:14:10.625Z"
      },
      {
        "duration": 65,
        "start_time": "2022-05-11T08:14:15.973Z"
      },
      {
        "duration": 65,
        "start_time": "2022-05-11T08:14:24.816Z"
      },
      {
        "duration": 3,
        "start_time": "2022-05-11T08:14:28.524Z"
      },
      {
        "duration": 393,
        "start_time": "2022-05-11T08:14:28.529Z"
      },
      {
        "duration": 11,
        "start_time": "2022-05-11T08:14:28.924Z"
      },
      {
        "duration": 17,
        "start_time": "2022-05-11T08:14:28.937Z"
      },
      {
        "duration": 11,
        "start_time": "2022-05-11T08:14:28.955Z"
      },
      {
        "duration": 11,
        "start_time": "2022-05-11T08:14:28.967Z"
      },
      {
        "duration": 13,
        "start_time": "2022-05-11T08:14:28.979Z"
      },
      {
        "duration": 57,
        "start_time": "2022-05-11T08:14:28.993Z"
      },
      {
        "duration": 32,
        "start_time": "2022-05-11T08:16:39.237Z"
      },
      {
        "duration": 52,
        "start_time": "2022-05-11T08:16:51.435Z"
      },
      {
        "duration": 67,
        "start_time": "2022-05-11T08:18:43.212Z"
      },
      {
        "duration": 66,
        "start_time": "2022-05-11T08:23:05.509Z"
      },
      {
        "duration": 1217,
        "start_time": "2022-05-11T08:23:11.115Z"
      },
      {
        "duration": 397,
        "start_time": "2022-05-11T08:23:12.334Z"
      },
      {
        "duration": 14,
        "start_time": "2022-05-11T08:23:12.732Z"
      },
      {
        "duration": 11,
        "start_time": "2022-05-11T08:23:12.748Z"
      },
      {
        "duration": 8,
        "start_time": "2022-05-11T08:23:12.761Z"
      },
      {
        "duration": 8,
        "start_time": "2022-05-11T08:23:12.771Z"
      },
      {
        "duration": 13,
        "start_time": "2022-05-11T08:23:12.781Z"
      },
      {
        "duration": 58,
        "start_time": "2022-05-11T08:23:12.800Z"
      },
      {
        "duration": 101,
        "start_time": "2022-05-11T13:30:03.301Z"
      },
      {
        "duration": 77,
        "start_time": "2022-05-11T13:31:13.791Z"
      },
      {
        "duration": 9,
        "start_time": "2022-05-11T13:33:55.530Z"
      },
      {
        "duration": 10,
        "start_time": "2022-05-11T13:35:12.417Z"
      },
      {
        "duration": 64,
        "start_time": "2022-05-11T13:35:44.437Z"
      },
      {
        "duration": 33,
        "start_time": "2022-05-11T13:36:03.426Z"
      },
      {
        "duration": 155,
        "start_time": "2022-05-11T13:38:52.913Z"
      },
      {
        "duration": 159,
        "start_time": "2022-05-11T13:38:57.395Z"
      },
      {
        "duration": 26,
        "start_time": "2022-05-11T13:39:37.431Z"
      },
      {
        "duration": 11,
        "start_time": "2022-05-11T13:39:49.121Z"
      },
      {
        "duration": 197,
        "start_time": "2022-05-11T13:40:03.023Z"
      },
      {
        "duration": 183,
        "start_time": "2022-05-11T13:42:11.905Z"
      },
      {
        "duration": 336,
        "start_time": "2022-05-11T13:44:07.919Z"
      },
      {
        "duration": 340,
        "start_time": "2022-05-11T13:44:10.654Z"
      },
      {
        "duration": 344,
        "start_time": "2022-05-11T13:44:57.556Z"
      },
      {
        "duration": 389,
        "start_time": "2022-05-11T13:45:50.877Z"
      },
      {
        "duration": 9,
        "start_time": "2022-05-11T13:47:03.448Z"
      },
      {
        "duration": 44,
        "start_time": "2022-05-11T13:47:29.525Z"
      },
      {
        "duration": 1132,
        "start_time": "2022-05-11T13:47:35.240Z"
      },
      {
        "duration": 439,
        "start_time": "2022-05-11T13:47:36.373Z"
      },
      {
        "duration": 13,
        "start_time": "2022-05-11T13:47:36.814Z"
      },
      {
        "duration": 11,
        "start_time": "2022-05-11T13:47:36.829Z"
      },
      {
        "duration": 8,
        "start_time": "2022-05-11T13:47:36.842Z"
      },
      {
        "duration": 7,
        "start_time": "2022-05-11T13:47:36.852Z"
      },
      {
        "duration": 13,
        "start_time": "2022-05-11T13:47:36.860Z"
      },
      {
        "duration": 60,
        "start_time": "2022-05-11T13:47:36.874Z"
      },
      {
        "duration": 541,
        "start_time": "2022-05-11T13:47:36.936Z"
      },
      {
        "duration": 418,
        "start_time": "2022-05-11T13:48:06.909Z"
      },
      {
        "duration": 402,
        "start_time": "2022-05-11T13:48:17.062Z"
      },
      {
        "duration": 61,
        "start_time": "2022-05-11T13:48:40.202Z"
      },
      {
        "duration": 13,
        "start_time": "2022-05-11T13:49:12.602Z"
      },
      {
        "duration": 13,
        "start_time": "2022-05-11T13:49:31.246Z"
      },
      {
        "duration": 37,
        "start_time": "2022-05-11T13:49:35.067Z"
      },
      {
        "duration": 54,
        "start_time": "2022-05-11T13:50:02.078Z"
      },
      {
        "duration": 30,
        "start_time": "2022-05-11T13:50:11.047Z"
      },
      {
        "duration": 49,
        "start_time": "2022-05-11T13:50:15.805Z"
      },
      {
        "duration": 2,
        "start_time": "2022-05-11T13:52:53.382Z"
      },
      {
        "duration": 386,
        "start_time": "2022-05-11T13:52:55.550Z"
      },
      {
        "duration": 32,
        "start_time": "2022-05-11T13:53:23.437Z"
      },
      {
        "duration": 38,
        "start_time": "2022-05-11T13:53:26.232Z"
      },
      {
        "duration": 46,
        "start_time": "2022-05-11T13:53:31.252Z"
      },
      {
        "duration": 2,
        "start_time": "2022-05-11T13:54:04.959Z"
      },
      {
        "duration": 411,
        "start_time": "2022-05-11T13:54:04.963Z"
      },
      {
        "duration": 10,
        "start_time": "2022-05-11T13:54:05.375Z"
      },
      {
        "duration": 13,
        "start_time": "2022-05-11T13:54:05.387Z"
      },
      {
        "duration": 12,
        "start_time": "2022-05-11T13:54:05.402Z"
      },
      {
        "duration": 13,
        "start_time": "2022-05-11T13:54:05.415Z"
      },
      {
        "duration": 13,
        "start_time": "2022-05-11T13:54:05.429Z"
      },
      {
        "duration": 39,
        "start_time": "2022-05-11T13:54:05.444Z"
      },
      {
        "duration": 12,
        "start_time": "2022-05-11T13:54:38.108Z"
      },
      {
        "duration": 3,
        "start_time": "2022-05-11T13:55:39.476Z"
      },
      {
        "duration": 46,
        "start_time": "2022-05-11T13:55:41.926Z"
      },
      {
        "duration": 200,
        "start_time": "2022-05-11T13:56:12.235Z"
      },
      {
        "duration": 388,
        "start_time": "2022-05-11T13:56:49.019Z"
      },
      {
        "duration": 359,
        "start_time": "2022-05-11T13:56:53.899Z"
      },
      {
        "duration": 24,
        "start_time": "2022-05-11T14:02:23.658Z"
      },
      {
        "duration": 38,
        "start_time": "2022-05-11T14:02:35.936Z"
      },
      {
        "duration": 23,
        "start_time": "2022-05-11T14:02:55.000Z"
      },
      {
        "duration": 21,
        "start_time": "2022-05-11T14:03:01.973Z"
      },
      {
        "duration": 17,
        "start_time": "2022-05-11T14:03:16.548Z"
      },
      {
        "duration": 76,
        "start_time": "2022-05-11T14:04:50.820Z"
      },
      {
        "duration": 59,
        "start_time": "2022-05-11T14:05:03.386Z"
      },
      {
        "duration": 50,
        "start_time": "2022-05-11T14:05:10.777Z"
      },
      {
        "duration": 18,
        "start_time": "2022-05-11T14:05:18.191Z"
      },
      {
        "duration": 71,
        "start_time": "2022-05-11T14:05:25.866Z"
      },
      {
        "duration": 76,
        "start_time": "2022-05-11T14:07:17.420Z"
      },
      {
        "duration": 19,
        "start_time": "2022-05-11T14:08:15.015Z"
      },
      {
        "duration": 10,
        "start_time": "2022-05-11T14:08:23.038Z"
      },
      {
        "duration": 6,
        "start_time": "2022-05-11T14:08:50.413Z"
      },
      {
        "duration": 30,
        "start_time": "2022-05-11T14:15:47.571Z"
      },
      {
        "duration": 15,
        "start_time": "2022-05-11T14:16:35.597Z"
      },
      {
        "duration": 86,
        "start_time": "2022-05-11T14:21:04.259Z"
      },
      {
        "duration": 62,
        "start_time": "2022-05-11T14:21:11.490Z"
      },
      {
        "duration": 148,
        "start_time": "2022-05-11T14:21:27.375Z"
      },
      {
        "duration": 54,
        "start_time": "2022-05-11T14:25:25.898Z"
      },
      {
        "duration": 14,
        "start_time": "2022-05-11T14:25:42.296Z"
      },
      {
        "duration": 12,
        "start_time": "2022-05-11T14:25:53.081Z"
      },
      {
        "duration": 3,
        "start_time": "2022-05-11T14:25:56.295Z"
      },
      {
        "duration": 408,
        "start_time": "2022-05-11T14:25:56.300Z"
      },
      {
        "duration": 10,
        "start_time": "2022-05-11T14:25:56.709Z"
      },
      {
        "duration": 15,
        "start_time": "2022-05-11T14:25:56.721Z"
      },
      {
        "duration": 20,
        "start_time": "2022-05-11T14:25:56.737Z"
      },
      {
        "duration": 15,
        "start_time": "2022-05-11T14:25:56.758Z"
      },
      {
        "duration": 21,
        "start_time": "2022-05-11T14:25:56.775Z"
      },
      {
        "duration": 36,
        "start_time": "2022-05-11T14:25:56.797Z"
      },
      {
        "duration": 79,
        "start_time": "2022-05-11T14:25:56.836Z"
      },
      {
        "duration": 19,
        "start_time": "2022-05-11T14:25:56.916Z"
      },
      {
        "duration": 64,
        "start_time": "2022-05-11T14:25:56.937Z"
      },
      {
        "duration": 17,
        "start_time": "2022-05-11T14:25:57.003Z"
      },
      {
        "duration": 50,
        "start_time": "2022-05-11T14:25:57.021Z"
      },
      {
        "duration": 10,
        "start_time": "2022-05-11T14:25:57.073Z"
      },
      {
        "duration": 31,
        "start_time": "2022-05-11T14:25:57.085Z"
      },
      {
        "duration": 377,
        "start_time": "2022-05-11T14:25:57.118Z"
      },
      {
        "duration": 77,
        "start_time": "2022-05-11T14:25:57.499Z"
      },
      {
        "duration": 161,
        "start_time": "2022-05-11T14:25:57.578Z"
      },
      {
        "duration": 41,
        "start_time": "2022-05-11T14:25:57.741Z"
      },
      {
        "duration": 13,
        "start_time": "2022-05-11T14:28:26.174Z"
      },
      {
        "duration": 3,
        "start_time": "2022-05-11T14:28:33.411Z"
      },
      {
        "duration": 364,
        "start_time": "2022-05-11T14:28:33.415Z"
      },
      {
        "duration": 10,
        "start_time": "2022-05-11T14:28:33.781Z"
      },
      {
        "duration": 15,
        "start_time": "2022-05-11T14:28:33.793Z"
      },
      {
        "duration": 11,
        "start_time": "2022-05-11T14:28:33.810Z"
      },
      {
        "duration": 8,
        "start_time": "2022-05-11T14:28:33.823Z"
      },
      {
        "duration": 12,
        "start_time": "2022-05-11T14:28:33.833Z"
      },
      {
        "duration": 25,
        "start_time": "2022-05-11T14:28:33.846Z"
      },
      {
        "duration": 101,
        "start_time": "2022-05-11T14:28:33.874Z"
      },
      {
        "duration": 32,
        "start_time": "2022-05-11T14:28:33.977Z"
      },
      {
        "duration": 50,
        "start_time": "2022-05-11T14:28:34.010Z"
      },
      {
        "duration": 17,
        "start_time": "2022-05-11T14:28:34.062Z"
      },
      {
        "duration": 57,
        "start_time": "2022-05-11T14:28:34.080Z"
      },
      {
        "duration": 9,
        "start_time": "2022-05-11T14:28:34.139Z"
      },
      {
        "duration": 12,
        "start_time": "2022-05-11T14:28:34.150Z"
      },
      {
        "duration": 379,
        "start_time": "2022-05-11T14:28:34.163Z"
      },
      {
        "duration": 83,
        "start_time": "2022-05-11T14:28:34.544Z"
      },
      {
        "duration": 155,
        "start_time": "2022-05-11T14:28:34.629Z"
      },
      {
        "duration": 45,
        "start_time": "2022-05-11T14:28:34.786Z"
      },
      {
        "duration": 63,
        "start_time": "2022-05-11T14:36:07.501Z"
      },
      {
        "duration": 6,
        "start_time": "2022-05-11T14:36:57.989Z"
      },
      {
        "duration": 5,
        "start_time": "2022-05-11T14:37:14.042Z"
      },
      {
        "duration": 5,
        "start_time": "2022-05-11T14:37:26.709Z"
      },
      {
        "duration": 30,
        "start_time": "2022-05-11T14:40:38.717Z"
      },
      {
        "duration": 41,
        "start_time": "2022-05-11T14:41:41.178Z"
      },
      {
        "duration": 41,
        "start_time": "2022-05-11T14:42:25.902Z"
      },
      {
        "duration": 225,
        "start_time": "2022-05-11T14:42:35.697Z"
      },
      {
        "duration": 40,
        "start_time": "2022-05-11T15:33:29.904Z"
      },
      {
        "duration": 32,
        "start_time": "2022-05-11T15:34:11.025Z"
      },
      {
        "duration": 41,
        "start_time": "2022-05-11T15:34:17.533Z"
      },
      {
        "duration": 5493,
        "start_time": "2022-05-11T15:35:43.633Z"
      },
      {
        "duration": 4545,
        "start_time": "2022-05-11T15:36:09.746Z"
      },
      {
        "duration": 33,
        "start_time": "2022-05-11T15:37:29.204Z"
      },
      {
        "duration": 39,
        "start_time": "2022-05-11T15:37:36.607Z"
      },
      {
        "duration": 130,
        "start_time": "2022-05-11T15:37:41.897Z"
      },
      {
        "duration": 67,
        "start_time": "2022-05-11T15:39:50.655Z"
      },
      {
        "duration": 55,
        "start_time": "2022-05-11T15:39:52.835Z"
      },
      {
        "duration": 40,
        "start_time": "2022-05-11T15:40:13.350Z"
      },
      {
        "duration": 38,
        "start_time": "2022-05-11T15:40:20.391Z"
      },
      {
        "duration": 24,
        "start_time": "2022-05-11T15:42:03.260Z"
      },
      {
        "duration": 40,
        "start_time": "2022-05-11T15:42:28.949Z"
      },
      {
        "duration": 25,
        "start_time": "2022-05-11T15:42:45.565Z"
      },
      {
        "duration": 10,
        "start_time": "2022-05-11T15:43:52.913Z"
      },
      {
        "duration": 25,
        "start_time": "2022-05-11T15:44:02.379Z"
      },
      {
        "duration": 23,
        "start_time": "2022-05-11T15:46:06.274Z"
      },
      {
        "duration": 26,
        "start_time": "2022-05-11T15:46:18.100Z"
      },
      {
        "duration": 26,
        "start_time": "2022-05-11T15:51:37.102Z"
      },
      {
        "duration": 3,
        "start_time": "2022-05-11T15:55:15.071Z"
      },
      {
        "duration": 23,
        "start_time": "2022-05-11T15:55:31.973Z"
      },
      {
        "duration": 28,
        "start_time": "2022-05-11T15:55:57.048Z"
      },
      {
        "duration": 10,
        "start_time": "2022-05-11T15:56:00.735Z"
      },
      {
        "duration": 4,
        "start_time": "2022-05-11T16:01:12.184Z"
      },
      {
        "duration": 16,
        "start_time": "2022-05-11T16:01:23.285Z"
      },
      {
        "duration": 17,
        "start_time": "2022-05-11T16:02:08.618Z"
      },
      {
        "duration": 17,
        "start_time": "2022-05-11T16:02:48.955Z"
      },
      {
        "duration": 13,
        "start_time": "2022-05-11T16:03:03.449Z"
      },
      {
        "duration": 28,
        "start_time": "2022-05-11T16:03:36.816Z"
      },
      {
        "duration": 23,
        "start_time": "2022-05-11T16:04:28.052Z"
      },
      {
        "duration": 42,
        "start_time": "2022-05-11T16:04:33.978Z"
      },
      {
        "duration": 27,
        "start_time": "2022-05-11T16:05:01.802Z"
      },
      {
        "duration": 31,
        "start_time": "2022-05-11T16:08:10.218Z"
      },
      {
        "duration": 27,
        "start_time": "2022-05-11T16:09:37.981Z"
      },
      {
        "duration": 29,
        "start_time": "2022-05-11T16:10:04.908Z"
      },
      {
        "duration": 36,
        "start_time": "2022-05-11T16:10:41.326Z"
      },
      {
        "duration": 29,
        "start_time": "2022-05-11T16:11:51.746Z"
      },
      {
        "duration": 45,
        "start_time": "2022-05-11T16:12:23.188Z"
      },
      {
        "duration": 43,
        "start_time": "2022-05-11T16:12:32.307Z"
      },
      {
        "duration": 40,
        "start_time": "2022-05-11T16:15:19.489Z"
      },
      {
        "duration": 65,
        "start_time": "2022-05-11T16:16:12.150Z"
      },
      {
        "duration": 61,
        "start_time": "2022-05-11T16:16:20.488Z"
      },
      {
        "duration": 68,
        "start_time": "2022-05-11T16:16:27.884Z"
      },
      {
        "duration": 64,
        "start_time": "2022-05-11T16:16:33.214Z"
      },
      {
        "duration": 26,
        "start_time": "2022-05-11T16:16:59.834Z"
      },
      {
        "duration": 197,
        "start_time": "2022-05-11T16:18:23.037Z"
      },
      {
        "duration": 67,
        "start_time": "2022-05-11T16:18:39.145Z"
      },
      {
        "duration": 65,
        "start_time": "2022-05-11T16:19:02.767Z"
      },
      {
        "duration": 67,
        "start_time": "2022-05-11T16:19:21.386Z"
      },
      {
        "duration": 73,
        "start_time": "2022-05-11T16:19:41.465Z"
      },
      {
        "duration": 69,
        "start_time": "2022-05-11T16:20:14.441Z"
      },
      {
        "duration": 70,
        "start_time": "2022-05-11T16:21:28.641Z"
      },
      {
        "duration": 75,
        "start_time": "2022-05-11T16:21:42.292Z"
      },
      {
        "duration": 13,
        "start_time": "2022-05-11T16:27:44.881Z"
      },
      {
        "duration": 13,
        "start_time": "2022-05-11T16:28:46.233Z"
      },
      {
        "duration": 0,
        "start_time": "2022-05-11T16:30:26.419Z"
      },
      {
        "duration": 3899,
        "start_time": "2022-05-11T16:31:03.788Z"
      },
      {
        "duration": 76,
        "start_time": "2022-05-11T16:31:30.459Z"
      },
      {
        "duration": 62,
        "start_time": "2022-05-11T16:33:33.777Z"
      },
      {
        "duration": 40,
        "start_time": "2022-05-11T16:33:53.512Z"
      },
      {
        "duration": 27,
        "start_time": "2022-05-11T16:34:03.264Z"
      },
      {
        "duration": 35,
        "start_time": "2022-05-11T16:34:42.988Z"
      },
      {
        "duration": 9,
        "start_time": "2022-05-11T16:36:00.764Z"
      },
      {
        "duration": 26,
        "start_time": "2022-05-11T16:36:45.227Z"
      },
      {
        "duration": 16,
        "start_time": "2022-05-11T16:36:51.269Z"
      },
      {
        "duration": 188,
        "start_time": "2022-05-11T16:37:29.105Z"
      },
      {
        "duration": 15,
        "start_time": "2022-05-11T16:37:33.868Z"
      },
      {
        "duration": 17,
        "start_time": "2022-05-11T16:37:48.424Z"
      },
      {
        "duration": 30,
        "start_time": "2022-05-11T16:37:55.717Z"
      },
      {
        "duration": 3183,
        "start_time": "2022-05-11T16:39:04.861Z"
      },
      {
        "duration": 65,
        "start_time": "2022-05-11T16:43:43.199Z"
      },
      {
        "duration": 63,
        "start_time": "2022-05-11T16:43:49.603Z"
      },
      {
        "duration": 24,
        "start_time": "2022-05-11T16:44:19.664Z"
      },
      {
        "duration": 33,
        "start_time": "2022-05-11T16:44:27.647Z"
      },
      {
        "duration": 14,
        "start_time": "2022-05-11T16:45:56.457Z"
      },
      {
        "duration": 14,
        "start_time": "2022-05-11T16:46:41.297Z"
      },
      {
        "duration": 13,
        "start_time": "2022-05-11T16:46:49.160Z"
      },
      {
        "duration": 16,
        "start_time": "2022-05-11T16:46:59.326Z"
      },
      {
        "duration": 44,
        "start_time": "2022-05-11T16:48:50.497Z"
      },
      {
        "duration": 47,
        "start_time": "2022-05-11T16:49:28.276Z"
      },
      {
        "duration": 36,
        "start_time": "2022-05-11T16:49:42.692Z"
      },
      {
        "duration": 38,
        "start_time": "2022-05-11T16:49:53.169Z"
      },
      {
        "duration": 45,
        "start_time": "2022-05-11T16:49:56.093Z"
      },
      {
        "duration": 36,
        "start_time": "2022-05-11T16:51:21.826Z"
      },
      {
        "duration": 63,
        "start_time": "2022-05-11T16:52:11.866Z"
      },
      {
        "duration": 31,
        "start_time": "2022-05-11T16:59:38.733Z"
      },
      {
        "duration": 39,
        "start_time": "2022-05-11T17:00:00.535Z"
      },
      {
        "duration": 14,
        "start_time": "2022-05-11T17:00:40.901Z"
      },
      {
        "duration": 21,
        "start_time": "2022-05-11T17:01:03.892Z"
      },
      {
        "duration": 13,
        "start_time": "2022-05-11T17:01:30.793Z"
      },
      {
        "duration": 9,
        "start_time": "2022-05-11T17:05:55.118Z"
      },
      {
        "duration": 3,
        "start_time": "2022-05-11T17:06:16.517Z"
      },
      {
        "duration": 367,
        "start_time": "2022-05-11T17:06:16.522Z"
      },
      {
        "duration": 10,
        "start_time": "2022-05-11T17:06:16.891Z"
      },
      {
        "duration": 18,
        "start_time": "2022-05-11T17:06:16.903Z"
      },
      {
        "duration": 12,
        "start_time": "2022-05-11T17:06:16.923Z"
      },
      {
        "duration": 8,
        "start_time": "2022-05-11T17:06:16.937Z"
      },
      {
        "duration": 20,
        "start_time": "2022-05-11T17:06:16.947Z"
      },
      {
        "duration": 37,
        "start_time": "2022-05-11T17:06:16.969Z"
      },
      {
        "duration": 101,
        "start_time": "2022-05-11T17:06:17.009Z"
      },
      {
        "duration": 24,
        "start_time": "2022-05-11T17:06:17.112Z"
      },
      {
        "duration": 64,
        "start_time": "2022-05-11T17:06:17.137Z"
      },
      {
        "duration": 30,
        "start_time": "2022-05-11T17:06:17.203Z"
      },
      {
        "duration": 85,
        "start_time": "2022-05-11T17:06:17.235Z"
      },
      {
        "duration": 15,
        "start_time": "2022-05-11T17:06:17.322Z"
      },
      {
        "duration": 21,
        "start_time": "2022-05-11T17:06:17.339Z"
      },
      {
        "duration": 706,
        "start_time": "2022-05-11T17:06:17.362Z"
      },
      {
        "duration": 141,
        "start_time": "2022-05-11T17:06:18.070Z"
      },
      {
        "duration": 275,
        "start_time": "2022-05-11T17:06:18.214Z"
      },
      {
        "duration": 64,
        "start_time": "2022-05-11T17:06:18.492Z"
      },
      {
        "duration": 96,
        "start_time": "2022-05-11T17:06:18.558Z"
      },
      {
        "duration": 112,
        "start_time": "2022-05-11T17:06:18.656Z"
      },
      {
        "duration": 17,
        "start_time": "2022-05-11T17:06:18.770Z"
      },
      {
        "duration": 0,
        "start_time": "2022-05-11T17:06:18.790Z"
      },
      {
        "duration": 0,
        "start_time": "2022-05-11T17:06:18.800Z"
      },
      {
        "duration": 0,
        "start_time": "2022-05-11T17:06:18.801Z"
      },
      {
        "duration": 0,
        "start_time": "2022-05-11T17:06:18.803Z"
      },
      {
        "duration": 0,
        "start_time": "2022-05-11T17:06:18.805Z"
      },
      {
        "duration": 0,
        "start_time": "2022-05-11T17:06:18.806Z"
      },
      {
        "duration": 0,
        "start_time": "2022-05-11T17:06:18.808Z"
      },
      {
        "duration": 61,
        "start_time": "2022-05-11T17:06:30.834Z"
      },
      {
        "duration": 11,
        "start_time": "2022-05-11T17:06:36.632Z"
      },
      {
        "duration": 23,
        "start_time": "2022-05-11T17:06:45.528Z"
      },
      {
        "duration": 12,
        "start_time": "2022-05-11T17:07:18.477Z"
      },
      {
        "duration": 251,
        "start_time": "2022-05-11T17:07:35.492Z"
      },
      {
        "duration": 81,
        "start_time": "2022-05-12T08:52:13.905Z"
      },
      {
        "duration": 9,
        "start_time": "2022-05-12T08:52:32.489Z"
      },
      {
        "duration": 1831,
        "start_time": "2022-05-12T08:52:36.568Z"
      },
      {
        "duration": 518,
        "start_time": "2022-05-12T08:52:38.402Z"
      },
      {
        "duration": 22,
        "start_time": "2022-05-12T08:52:38.923Z"
      },
      {
        "duration": 26,
        "start_time": "2022-05-12T08:52:38.948Z"
      },
      {
        "duration": 15,
        "start_time": "2022-05-12T08:52:38.976Z"
      },
      {
        "duration": 37,
        "start_time": "2022-05-12T08:52:38.993Z"
      },
      {
        "duration": 37,
        "start_time": "2022-05-12T08:52:39.032Z"
      },
      {
        "duration": 46,
        "start_time": "2022-05-12T08:52:39.072Z"
      },
      {
        "duration": 176,
        "start_time": "2022-05-12T08:52:39.121Z"
      },
      {
        "duration": 29,
        "start_time": "2022-05-12T08:52:39.301Z"
      },
      {
        "duration": 146,
        "start_time": "2022-05-12T08:52:39.333Z"
      },
      {
        "duration": 25,
        "start_time": "2022-05-12T08:52:39.481Z"
      },
      {
        "duration": 100,
        "start_time": "2022-05-12T08:52:39.508Z"
      },
      {
        "duration": 15,
        "start_time": "2022-05-12T08:52:39.611Z"
      },
      {
        "duration": 30,
        "start_time": "2022-05-12T08:52:39.628Z"
      },
      {
        "duration": 699,
        "start_time": "2022-05-12T08:52:39.661Z"
      },
      {
        "duration": 124,
        "start_time": "2022-05-12T08:52:40.363Z"
      },
      {
        "duration": 245,
        "start_time": "2022-05-12T08:52:40.489Z"
      },
      {
        "duration": 95,
        "start_time": "2022-05-12T08:52:40.736Z"
      },
      {
        "duration": 118,
        "start_time": "2022-05-12T08:52:40.834Z"
      },
      {
        "duration": 127,
        "start_time": "2022-05-12T08:52:40.955Z"
      },
      {
        "duration": 199,
        "start_time": "2022-05-12T08:52:41.085Z"
      },
      {
        "duration": 0,
        "start_time": "2022-05-12T08:52:41.286Z"
      },
      {
        "duration": 0,
        "start_time": "2022-05-12T08:52:41.287Z"
      },
      {
        "duration": 0,
        "start_time": "2022-05-12T08:52:41.289Z"
      },
      {
        "duration": 0,
        "start_time": "2022-05-12T08:52:41.290Z"
      },
      {
        "duration": 0,
        "start_time": "2022-05-12T08:52:41.291Z"
      },
      {
        "duration": 0,
        "start_time": "2022-05-12T08:52:41.293Z"
      },
      {
        "duration": 0,
        "start_time": "2022-05-12T08:52:41.294Z"
      },
      {
        "duration": 62,
        "start_time": "2022-05-12T08:52:50.459Z"
      },
      {
        "duration": 23,
        "start_time": "2022-05-12T08:52:54.208Z"
      },
      {
        "duration": 22,
        "start_time": "2022-05-12T08:52:54.291Z"
      },
      {
        "duration": 26,
        "start_time": "2022-05-12T08:53:09.224Z"
      },
      {
        "duration": 49,
        "start_time": "2022-05-12T08:53:22.832Z"
      },
      {
        "duration": 25,
        "start_time": "2022-05-12T08:53:31.585Z"
      },
      {
        "duration": 50,
        "start_time": "2022-05-12T08:53:53.855Z"
      },
      {
        "duration": 1682,
        "start_time": "2022-05-12T08:55:35.526Z"
      },
      {
        "duration": 47,
        "start_time": "2022-05-12T08:56:28.597Z"
      },
      {
        "duration": 49,
        "start_time": "2022-05-12T08:56:52.533Z"
      },
      {
        "duration": 55,
        "start_time": "2022-05-12T08:56:59.513Z"
      },
      {
        "duration": 23,
        "start_time": "2022-05-12T08:58:23.339Z"
      },
      {
        "duration": 17,
        "start_time": "2022-05-12T08:58:40.065Z"
      },
      {
        "duration": 75,
        "start_time": "2022-05-12T08:59:24.568Z"
      },
      {
        "duration": 1668,
        "start_time": "2022-05-12T08:59:32.353Z"
      },
      {
        "duration": 554,
        "start_time": "2022-05-12T08:59:34.024Z"
      },
      {
        "duration": 22,
        "start_time": "2022-05-12T08:59:34.580Z"
      },
      {
        "duration": 22,
        "start_time": "2022-05-12T08:59:34.606Z"
      },
      {
        "duration": 42,
        "start_time": "2022-05-12T08:59:34.630Z"
      },
      {
        "duration": 27,
        "start_time": "2022-05-12T08:59:34.675Z"
      },
      {
        "duration": 51,
        "start_time": "2022-05-12T08:59:34.704Z"
      },
      {
        "duration": 79,
        "start_time": "2022-05-12T08:59:34.763Z"
      },
      {
        "duration": 153,
        "start_time": "2022-05-12T08:59:34.845Z"
      },
      {
        "duration": 29,
        "start_time": "2022-05-12T08:59:35.002Z"
      },
      {
        "duration": 144,
        "start_time": "2022-05-12T08:59:35.033Z"
      },
      {
        "duration": 24,
        "start_time": "2022-05-12T08:59:35.179Z"
      },
      {
        "duration": 93,
        "start_time": "2022-05-12T08:59:35.206Z"
      },
      {
        "duration": 16,
        "start_time": "2022-05-12T08:59:35.301Z"
      },
      {
        "duration": 21,
        "start_time": "2022-05-12T08:59:35.319Z"
      },
      {
        "duration": 694,
        "start_time": "2022-05-12T08:59:35.357Z"
      },
      {
        "duration": 127,
        "start_time": "2022-05-12T08:59:36.054Z"
      },
      {
        "duration": 245,
        "start_time": "2022-05-12T08:59:36.183Z"
      },
      {
        "duration": 77,
        "start_time": "2022-05-12T08:59:36.430Z"
      },
      {
        "duration": 112,
        "start_time": "2022-05-12T08:59:36.509Z"
      },
      {
        "duration": 139,
        "start_time": "2022-05-12T08:59:36.623Z"
      },
      {
        "duration": 96,
        "start_time": "2022-05-12T08:59:36.765Z"
      },
      {
        "duration": 0,
        "start_time": "2022-05-12T08:59:36.864Z"
      },
      {
        "duration": 0,
        "start_time": "2022-05-12T08:59:36.867Z"
      },
      {
        "duration": 0,
        "start_time": "2022-05-12T08:59:36.869Z"
      },
      {
        "duration": 0,
        "start_time": "2022-05-12T08:59:36.871Z"
      },
      {
        "duration": 0,
        "start_time": "2022-05-12T08:59:36.874Z"
      },
      {
        "duration": 0,
        "start_time": "2022-05-12T08:59:36.876Z"
      },
      {
        "duration": 0,
        "start_time": "2022-05-12T08:59:36.878Z"
      },
      {
        "duration": 0,
        "start_time": "2022-05-12T08:59:36.881Z"
      },
      {
        "duration": 74,
        "start_time": "2022-05-12T08:59:47.617Z"
      },
      {
        "duration": 24,
        "start_time": "2022-05-12T08:59:48.093Z"
      },
      {
        "duration": 33,
        "start_time": "2022-05-12T08:59:48.533Z"
      },
      {
        "duration": 58,
        "start_time": "2022-05-12T08:59:48.733Z"
      },
      {
        "duration": 59,
        "start_time": "2022-05-12T08:59:49.096Z"
      },
      {
        "duration": 116,
        "start_time": "2022-05-12T08:59:50.112Z"
      },
      {
        "duration": 98,
        "start_time": "2022-05-12T09:00:15.698Z"
      },
      {
        "duration": 1488,
        "start_time": "2022-05-12T09:00:19.811Z"
      },
      {
        "duration": 519,
        "start_time": "2022-05-12T09:00:21.302Z"
      },
      {
        "duration": 21,
        "start_time": "2022-05-12T09:00:21.823Z"
      },
      {
        "duration": 24,
        "start_time": "2022-05-12T09:00:21.850Z"
      },
      {
        "duration": 18,
        "start_time": "2022-05-12T09:00:21.878Z"
      },
      {
        "duration": 14,
        "start_time": "2022-05-12T09:00:21.898Z"
      },
      {
        "duration": 47,
        "start_time": "2022-05-12T09:00:21.914Z"
      },
      {
        "duration": 45,
        "start_time": "2022-05-12T09:00:21.965Z"
      },
      {
        "duration": 168,
        "start_time": "2022-05-12T09:00:22.012Z"
      },
      {
        "duration": 29,
        "start_time": "2022-05-12T09:00:22.183Z"
      },
      {
        "duration": 143,
        "start_time": "2022-05-12T09:00:22.215Z"
      },
      {
        "duration": 31,
        "start_time": "2022-05-12T09:00:22.361Z"
      },
      {
        "duration": 112,
        "start_time": "2022-05-12T09:00:22.395Z"
      },
      {
        "duration": 15,
        "start_time": "2022-05-12T09:00:22.510Z"
      },
      {
        "duration": 26,
        "start_time": "2022-05-12T09:00:22.527Z"
      },
      {
        "duration": 719,
        "start_time": "2022-05-12T09:00:22.556Z"
      },
      {
        "duration": 133,
        "start_time": "2022-05-12T09:00:23.277Z"
      },
      {
        "duration": 232,
        "start_time": "2022-05-12T09:00:23.413Z"
      },
      {
        "duration": 73,
        "start_time": "2022-05-12T09:00:23.652Z"
      },
      {
        "duration": 129,
        "start_time": "2022-05-12T09:00:23.727Z"
      },
      {
        "duration": 132,
        "start_time": "2022-05-12T09:00:23.858Z"
      },
      {
        "duration": 129,
        "start_time": "2022-05-12T09:00:23.992Z"
      },
      {
        "duration": 0,
        "start_time": "2022-05-12T09:00:24.124Z"
      },
      {
        "duration": 0,
        "start_time": "2022-05-12T09:00:24.125Z"
      },
      {
        "duration": 0,
        "start_time": "2022-05-12T09:00:24.127Z"
      },
      {
        "duration": 0,
        "start_time": "2022-05-12T09:00:24.129Z"
      },
      {
        "duration": 0,
        "start_time": "2022-05-12T09:00:24.130Z"
      },
      {
        "duration": 0,
        "start_time": "2022-05-12T09:00:24.131Z"
      },
      {
        "duration": 0,
        "start_time": "2022-05-12T09:00:24.133Z"
      },
      {
        "duration": 0,
        "start_time": "2022-05-12T09:00:24.134Z"
      },
      {
        "duration": 62,
        "start_time": "2022-05-12T09:00:30.166Z"
      },
      {
        "duration": 36,
        "start_time": "2022-05-12T09:00:30.232Z"
      },
      {
        "duration": 28,
        "start_time": "2022-05-12T09:00:30.414Z"
      },
      {
        "duration": 55,
        "start_time": "2022-05-12T09:00:30.623Z"
      },
      {
        "duration": 50,
        "start_time": "2022-05-12T09:00:30.965Z"
      },
      {
        "duration": 83,
        "start_time": "2022-05-12T09:00:42.197Z"
      },
      {
        "duration": 1507,
        "start_time": "2022-05-12T09:00:45.593Z"
      },
      {
        "duration": 512,
        "start_time": "2022-05-12T09:00:47.102Z"
      },
      {
        "duration": 23,
        "start_time": "2022-05-12T09:00:47.616Z"
      },
      {
        "duration": 23,
        "start_time": "2022-05-12T09:00:47.642Z"
      },
      {
        "duration": 17,
        "start_time": "2022-05-12T09:00:47.668Z"
      },
      {
        "duration": 17,
        "start_time": "2022-05-12T09:00:47.687Z"
      },
      {
        "duration": 48,
        "start_time": "2022-05-12T09:00:47.707Z"
      },
      {
        "duration": 59,
        "start_time": "2022-05-12T09:00:47.758Z"
      },
      {
        "duration": 148,
        "start_time": "2022-05-12T09:00:47.820Z"
      },
      {
        "duration": 33,
        "start_time": "2022-05-12T09:00:47.972Z"
      },
      {
        "duration": 148,
        "start_time": "2022-05-12T09:00:48.007Z"
      },
      {
        "duration": 26,
        "start_time": "2022-05-12T09:00:48.157Z"
      },
      {
        "duration": 91,
        "start_time": "2022-05-12T09:00:48.186Z"
      },
      {
        "duration": 18,
        "start_time": "2022-05-12T09:00:48.280Z"
      },
      {
        "duration": 13,
        "start_time": "2022-05-12T09:00:48.300Z"
      },
      {
        "duration": 732,
        "start_time": "2022-05-12T09:00:48.315Z"
      },
      {
        "duration": 135,
        "start_time": "2022-05-12T09:00:49.052Z"
      },
      {
        "duration": 253,
        "start_time": "2022-05-12T09:00:49.189Z"
      },
      {
        "duration": 84,
        "start_time": "2022-05-12T09:00:49.445Z"
      },
      {
        "duration": 124,
        "start_time": "2022-05-12T09:00:49.532Z"
      },
      {
        "duration": 134,
        "start_time": "2022-05-12T09:00:49.658Z"
      },
      {
        "duration": 126,
        "start_time": "2022-05-12T09:00:49.795Z"
      },
      {
        "duration": 0,
        "start_time": "2022-05-12T09:00:49.924Z"
      },
      {
        "duration": 0,
        "start_time": "2022-05-12T09:00:49.925Z"
      },
      {
        "duration": 0,
        "start_time": "2022-05-12T09:00:49.927Z"
      },
      {
        "duration": 0,
        "start_time": "2022-05-12T09:00:49.928Z"
      },
      {
        "duration": 0,
        "start_time": "2022-05-12T09:00:49.930Z"
      },
      {
        "duration": 0,
        "start_time": "2022-05-12T09:00:49.932Z"
      },
      {
        "duration": 0,
        "start_time": "2022-05-12T09:00:49.933Z"
      },
      {
        "duration": 0,
        "start_time": "2022-05-12T09:00:49.934Z"
      },
      {
        "duration": 65,
        "start_time": "2022-05-12T09:00:58.796Z"
      },
      {
        "duration": 23,
        "start_time": "2022-05-12T09:00:59.680Z"
      },
      {
        "duration": 32,
        "start_time": "2022-05-12T09:01:00.549Z"
      },
      {
        "duration": 52,
        "start_time": "2022-05-12T09:01:02.806Z"
      },
      {
        "duration": 59,
        "start_time": "2022-05-12T09:01:06.505Z"
      },
      {
        "duration": 116,
        "start_time": "2022-05-12T09:08:24.976Z"
      },
      {
        "duration": 167,
        "start_time": "2022-05-12T09:08:42.074Z"
      },
      {
        "duration": 145,
        "start_time": "2022-05-12T09:10:52.920Z"
      },
      {
        "duration": 3334,
        "start_time": "2022-05-12T09:14:04.872Z"
      },
      {
        "duration": 711,
        "start_time": "2022-05-12T09:14:08.210Z"
      },
      {
        "duration": 45,
        "start_time": "2022-05-12T09:14:08.924Z"
      },
      {
        "duration": 27,
        "start_time": "2022-05-12T09:14:08.973Z"
      },
      {
        "duration": 19,
        "start_time": "2022-05-12T09:14:09.003Z"
      },
      {
        "duration": 41,
        "start_time": "2022-05-12T09:14:09.028Z"
      },
      {
        "duration": 28,
        "start_time": "2022-05-12T09:14:09.075Z"
      },
      {
        "duration": 59,
        "start_time": "2022-05-12T09:14:09.106Z"
      },
      {
        "duration": 206,
        "start_time": "2022-05-12T09:14:09.168Z"
      },
      {
        "duration": 30,
        "start_time": "2022-05-12T09:14:09.378Z"
      },
      {
        "duration": 152,
        "start_time": "2022-05-12T09:14:09.411Z"
      },
      {
        "duration": 34,
        "start_time": "2022-05-12T09:14:09.566Z"
      },
      {
        "duration": 111,
        "start_time": "2022-05-12T09:14:09.603Z"
      },
      {
        "duration": 16,
        "start_time": "2022-05-12T09:14:09.717Z"
      },
      {
        "duration": 27,
        "start_time": "2022-05-12T09:14:09.736Z"
      },
      {
        "duration": 788,
        "start_time": "2022-05-12T09:14:09.766Z"
      },
      {
        "duration": 146,
        "start_time": "2022-05-12T09:14:10.558Z"
      },
      {
        "duration": 273,
        "start_time": "2022-05-12T09:14:10.706Z"
      },
      {
        "duration": 105,
        "start_time": "2022-05-12T09:14:10.981Z"
      },
      {
        "duration": 116,
        "start_time": "2022-05-12T09:14:11.089Z"
      },
      {
        "duration": 142,
        "start_time": "2022-05-12T09:14:11.207Z"
      },
      {
        "duration": 141,
        "start_time": "2022-05-12T09:14:11.352Z"
      },
      {
        "duration": 0,
        "start_time": "2022-05-12T09:14:11.497Z"
      },
      {
        "duration": 0,
        "start_time": "2022-05-12T09:14:11.499Z"
      },
      {
        "duration": 0,
        "start_time": "2022-05-12T09:14:11.502Z"
      },
      {
        "duration": 0,
        "start_time": "2022-05-12T09:14:11.504Z"
      },
      {
        "duration": 0,
        "start_time": "2022-05-12T09:14:11.507Z"
      },
      {
        "duration": 0,
        "start_time": "2022-05-12T09:14:11.510Z"
      },
      {
        "duration": 0,
        "start_time": "2022-05-12T09:14:11.512Z"
      },
      {
        "duration": 0,
        "start_time": "2022-05-12T09:14:11.514Z"
      },
      {
        "duration": 62,
        "start_time": "2022-05-12T09:14:24.573Z"
      },
      {
        "duration": 69,
        "start_time": "2022-05-12T09:14:30.152Z"
      },
      {
        "duration": 119,
        "start_time": "2022-05-12T09:14:33.370Z"
      },
      {
        "duration": 207,
        "start_time": "2022-05-12T09:14:39.024Z"
      },
      {
        "duration": 50,
        "start_time": "2022-05-12T09:15:45.094Z"
      },
      {
        "duration": 145,
        "start_time": "2022-05-12T09:16:16.702Z"
      },
      {
        "duration": 134,
        "start_time": "2022-05-12T09:16:38.175Z"
      },
      {
        "duration": 243,
        "start_time": "2022-05-12T09:16:42.538Z"
      },
      {
        "duration": 113,
        "start_time": "2022-05-12T09:16:57.164Z"
      },
      {
        "duration": 168,
        "start_time": "2022-05-12T09:17:04.708Z"
      },
      {
        "duration": 111,
        "start_time": "2022-05-12T09:17:09.363Z"
      },
      {
        "duration": 48,
        "start_time": "2022-05-12T09:17:16.514Z"
      },
      {
        "duration": 59,
        "start_time": "2022-05-12T09:29:27.893Z"
      },
      {
        "duration": 70,
        "start_time": "2022-05-12T09:29:32.445Z"
      },
      {
        "duration": 63,
        "start_time": "2022-05-12T09:29:40.232Z"
      },
      {
        "duration": 67,
        "start_time": "2022-05-12T09:29:49.242Z"
      },
      {
        "duration": 38,
        "start_time": "2022-05-12T09:34:39.196Z"
      },
      {
        "duration": 49,
        "start_time": "2022-05-12T09:34:47.579Z"
      },
      {
        "duration": 50,
        "start_time": "2022-05-12T09:35:04.999Z"
      },
      {
        "duration": 56,
        "start_time": "2022-05-12T09:35:11.055Z"
      },
      {
        "duration": 72,
        "start_time": "2022-05-12T09:35:23.046Z"
      },
      {
        "duration": 59,
        "start_time": "2022-05-12T09:35:35.769Z"
      },
      {
        "duration": 122,
        "start_time": "2022-05-12T09:36:08.849Z"
      },
      {
        "duration": 154,
        "start_time": "2022-05-12T09:36:13.208Z"
      },
      {
        "duration": 122,
        "start_time": "2022-05-12T09:36:17.892Z"
      },
      {
        "duration": 5,
        "start_time": "2022-05-12T09:37:29.170Z"
      },
      {
        "duration": 113,
        "start_time": "2022-05-12T09:37:35.501Z"
      },
      {
        "duration": 146,
        "start_time": "2022-05-12T09:37:55.025Z"
      },
      {
        "duration": 133,
        "start_time": "2022-05-12T09:38:00.738Z"
      },
      {
        "duration": 75,
        "start_time": "2022-05-12T09:38:19.290Z"
      },
      {
        "duration": 62,
        "start_time": "2022-05-12T09:38:29.637Z"
      },
      {
        "duration": 82,
        "start_time": "2022-05-12T09:38:40.656Z"
      },
      {
        "duration": 52,
        "start_time": "2022-05-12T09:39:29.952Z"
      },
      {
        "duration": 77,
        "start_time": "2022-05-12T09:39:34.601Z"
      },
      {
        "duration": 86,
        "start_time": "2022-05-12T09:40:03.906Z"
      },
      {
        "duration": 77,
        "start_time": "2022-05-12T09:42:08.018Z"
      },
      {
        "duration": 78,
        "start_time": "2022-05-12T09:42:11.706Z"
      },
      {
        "duration": 87,
        "start_time": "2022-05-12T09:42:43.120Z"
      },
      {
        "duration": 124,
        "start_time": "2022-05-12T09:43:34.736Z"
      },
      {
        "duration": 113,
        "start_time": "2022-05-12T09:43:45.897Z"
      },
      {
        "duration": 109,
        "start_time": "2022-05-12T09:43:53.068Z"
      },
      {
        "duration": 33,
        "start_time": "2022-05-12T09:44:03.308Z"
      },
      {
        "duration": 30,
        "start_time": "2022-05-12T09:44:28.505Z"
      },
      {
        "duration": 31,
        "start_time": "2022-05-12T09:44:43.789Z"
      },
      {
        "duration": 30,
        "start_time": "2022-05-12T09:45:06.013Z"
      },
      {
        "duration": 33,
        "start_time": "2022-05-12T09:45:55.476Z"
      },
      {
        "duration": 12,
        "start_time": "2022-05-12T09:46:12.142Z"
      },
      {
        "duration": 35,
        "start_time": "2022-05-12T09:46:25.989Z"
      },
      {
        "duration": 19,
        "start_time": "2022-05-12T09:46:53.822Z"
      },
      {
        "duration": 12,
        "start_time": "2022-05-12T09:47:22.768Z"
      },
      {
        "duration": 11,
        "start_time": "2022-05-12T09:47:28.179Z"
      },
      {
        "duration": 27,
        "start_time": "2022-05-12T09:47:58.487Z"
      },
      {
        "duration": 32,
        "start_time": "2022-05-12T09:49:50.202Z"
      },
      {
        "duration": 33,
        "start_time": "2022-05-12T09:51:43.549Z"
      },
      {
        "duration": 29,
        "start_time": "2022-05-12T09:52:12.364Z"
      },
      {
        "duration": 39,
        "start_time": "2022-05-12T09:52:28.038Z"
      },
      {
        "duration": 62,
        "start_time": "2022-05-12T09:52:33.060Z"
      },
      {
        "duration": 16,
        "start_time": "2022-05-12T09:55:08.431Z"
      },
      {
        "duration": 100,
        "start_time": "2022-05-12T09:57:07.292Z"
      },
      {
        "duration": 90,
        "start_time": "2022-05-12T09:57:36.905Z"
      },
      {
        "duration": 46,
        "start_time": "2022-05-12T10:00:36.838Z"
      },
      {
        "duration": 18060,
        "start_time": "2022-05-12T10:01:15.532Z"
      },
      {
        "duration": 26,
        "start_time": "2022-05-12T10:02:31.748Z"
      },
      {
        "duration": 32,
        "start_time": "2022-05-12T10:03:01.105Z"
      },
      {
        "duration": 112,
        "start_time": "2022-05-12T10:04:44.524Z"
      },
      {
        "duration": 55,
        "start_time": "2022-05-12T10:04:52.864Z"
      },
      {
        "duration": 50,
        "start_time": "2022-05-12T10:05:05.961Z"
      },
      {
        "duration": 49,
        "start_time": "2022-05-12T10:05:12.200Z"
      },
      {
        "duration": 25,
        "start_time": "2022-05-12T10:05:23.184Z"
      },
      {
        "duration": 25,
        "start_time": "2022-05-12T10:05:39.180Z"
      },
      {
        "duration": 25,
        "start_time": "2022-05-12T10:05:56.381Z"
      },
      {
        "duration": 123,
        "start_time": "2022-05-12T10:07:15.903Z"
      },
      {
        "duration": 111,
        "start_time": "2022-05-12T10:07:52.926Z"
      },
      {
        "duration": 51,
        "start_time": "2022-05-12T10:08:14.193Z"
      },
      {
        "duration": 50,
        "start_time": "2022-05-12T10:08:20.690Z"
      },
      {
        "duration": 26,
        "start_time": "2022-05-12T10:08:27.172Z"
      },
      {
        "duration": 53,
        "start_time": "2022-05-12T10:08:47.380Z"
      },
      {
        "duration": 133,
        "start_time": "2022-05-12T10:09:03.709Z"
      },
      {
        "duration": 26,
        "start_time": "2022-05-12T10:09:29.603Z"
      },
      {
        "duration": 49,
        "start_time": "2022-05-12T10:09:52.872Z"
      },
      {
        "duration": 58,
        "start_time": "2022-05-12T10:10:23.641Z"
      },
      {
        "duration": 37,
        "start_time": "2022-05-12T10:11:28.569Z"
      },
      {
        "duration": 11,
        "start_time": "2022-05-12T10:46:51.917Z"
      },
      {
        "duration": 18,
        "start_time": "2022-05-12T10:46:58.473Z"
      },
      {
        "duration": 14,
        "start_time": "2022-05-12T10:49:57.576Z"
      },
      {
        "duration": 9,
        "start_time": "2022-05-12T10:50:45.025Z"
      },
      {
        "duration": 44,
        "start_time": "2022-05-12T10:50:52.849Z"
      },
      {
        "duration": 40,
        "start_time": "2022-05-12T10:51:00.827Z"
      },
      {
        "duration": 53,
        "start_time": "2022-05-12T10:51:58.408Z"
      },
      {
        "duration": 25,
        "start_time": "2022-05-12T10:52:17.773Z"
      },
      {
        "duration": 25,
        "start_time": "2022-05-12T10:53:22.283Z"
      },
      {
        "duration": 15,
        "start_time": "2022-05-12T10:53:39.857Z"
      },
      {
        "duration": 28,
        "start_time": "2022-05-12T10:53:46.866Z"
      },
      {
        "duration": 21,
        "start_time": "2022-05-12T11:01:53.144Z"
      },
      {
        "duration": 40,
        "start_time": "2022-05-12T11:02:49.778Z"
      },
      {
        "duration": 9,
        "start_time": "2022-05-12T11:06:33.065Z"
      },
      {
        "duration": 53,
        "start_time": "2022-05-12T11:06:44.925Z"
      },
      {
        "duration": 20,
        "start_time": "2022-05-12T11:18:23.689Z"
      },
      {
        "duration": 1029,
        "start_time": "2022-05-12T11:18:34.589Z"
      },
      {
        "duration": 20,
        "start_time": "2022-05-12T11:19:17.129Z"
      },
      {
        "duration": 17,
        "start_time": "2022-05-12T11:20:57.993Z"
      },
      {
        "duration": 14,
        "start_time": "2022-05-12T11:21:07.532Z"
      },
      {
        "duration": 15,
        "start_time": "2022-05-12T11:21:34.148Z"
      },
      {
        "duration": 137,
        "start_time": "2022-05-12T11:31:04.085Z"
      },
      {
        "duration": 15,
        "start_time": "2022-05-12T11:33:04.790Z"
      },
      {
        "duration": 14,
        "start_time": "2022-05-12T11:34:06.569Z"
      },
      {
        "duration": 25,
        "start_time": "2022-05-12T11:37:46.548Z"
      },
      {
        "duration": 11,
        "start_time": "2022-05-12T11:41:04.336Z"
      },
      {
        "duration": 5,
        "start_time": "2022-05-12T11:41:20.163Z"
      },
      {
        "duration": 519,
        "start_time": "2022-05-12T11:41:20.170Z"
      },
      {
        "duration": 18,
        "start_time": "2022-05-12T11:41:20.692Z"
      },
      {
        "duration": 23,
        "start_time": "2022-05-12T11:41:20.712Z"
      },
      {
        "duration": 29,
        "start_time": "2022-05-12T11:41:20.738Z"
      },
      {
        "duration": 17,
        "start_time": "2022-05-12T11:41:20.769Z"
      },
      {
        "duration": 22,
        "start_time": "2022-05-12T11:41:20.788Z"
      },
      {
        "duration": 57,
        "start_time": "2022-05-12T11:41:20.812Z"
      },
      {
        "duration": 156,
        "start_time": "2022-05-12T11:41:20.873Z"
      },
      {
        "duration": 37,
        "start_time": "2022-05-12T11:41:21.031Z"
      },
      {
        "duration": 132,
        "start_time": "2022-05-12T11:41:21.071Z"
      },
      {
        "duration": 26,
        "start_time": "2022-05-12T11:41:21.205Z"
      },
      {
        "duration": 86,
        "start_time": "2022-05-12T11:41:21.235Z"
      },
      {
        "duration": 31,
        "start_time": "2022-05-12T11:41:21.324Z"
      },
      {
        "duration": 16,
        "start_time": "2022-05-12T11:41:21.358Z"
      },
      {
        "duration": 732,
        "start_time": "2022-05-12T11:41:21.376Z"
      },
      {
        "duration": 122,
        "start_time": "2022-05-12T11:41:22.111Z"
      },
      {
        "duration": 257,
        "start_time": "2022-05-12T11:41:22.236Z"
      },
      {
        "duration": 74,
        "start_time": "2022-05-12T11:41:22.495Z"
      },
      {
        "duration": 116,
        "start_time": "2022-05-12T11:41:22.571Z"
      },
      {
        "duration": 130,
        "start_time": "2022-05-12T11:41:22.689Z"
      },
      {
        "duration": 113,
        "start_time": "2022-05-12T11:41:22.822Z"
      },
      {
        "duration": 0,
        "start_time": "2022-05-12T11:41:22.937Z"
      },
      {
        "duration": 0,
        "start_time": "2022-05-12T11:41:22.938Z"
      },
      {
        "duration": 0,
        "start_time": "2022-05-12T11:41:22.939Z"
      },
      {
        "duration": 0,
        "start_time": "2022-05-12T11:41:22.941Z"
      },
      {
        "duration": 0,
        "start_time": "2022-05-12T11:41:22.942Z"
      },
      {
        "duration": 0,
        "start_time": "2022-05-12T11:41:22.944Z"
      },
      {
        "duration": 44,
        "start_time": "2022-05-12T11:41:41.417Z"
      },
      {
        "duration": 22,
        "start_time": "2022-05-12T11:41:45.046Z"
      },
      {
        "duration": 14,
        "start_time": "2022-05-12T11:41:57.196Z"
      },
      {
        "duration": 55,
        "start_time": "2022-05-12T11:42:05.814Z"
      },
      {
        "duration": 40,
        "start_time": "2022-05-12T11:42:10.298Z"
      },
      {
        "duration": 12,
        "start_time": "2022-05-12T11:42:22.718Z"
      },
      {
        "duration": 26,
        "start_time": "2022-05-12T11:42:43.121Z"
      },
      {
        "duration": 34,
        "start_time": "2022-05-12T11:42:58.042Z"
      },
      {
        "duration": 32,
        "start_time": "2022-05-12T11:43:07.161Z"
      },
      {
        "duration": 16,
        "start_time": "2022-05-12T11:46:26.900Z"
      },
      {
        "duration": 14,
        "start_time": "2022-05-12T11:46:47.124Z"
      },
      {
        "duration": 14,
        "start_time": "2022-05-12T11:48:02.570Z"
      },
      {
        "duration": 22,
        "start_time": "2022-05-12T11:48:06.144Z"
      },
      {
        "duration": 6,
        "start_time": "2022-05-12T11:48:22.603Z"
      },
      {
        "duration": 19,
        "start_time": "2022-05-12T11:48:30.341Z"
      },
      {
        "duration": 14,
        "start_time": "2022-05-12T11:48:43.665Z"
      },
      {
        "duration": 15,
        "start_time": "2022-05-12T11:49:09.497Z"
      },
      {
        "duration": 21,
        "start_time": "2022-05-12T11:49:22.240Z"
      },
      {
        "duration": 15,
        "start_time": "2022-05-12T11:49:25.782Z"
      },
      {
        "duration": 16,
        "start_time": "2022-05-12T11:49:37.488Z"
      },
      {
        "duration": 16,
        "start_time": "2022-05-12T11:49:41.740Z"
      },
      {
        "duration": 15,
        "start_time": "2022-05-12T11:50:26.290Z"
      },
      {
        "duration": 1948,
        "start_time": "2022-05-12T11:52:59.365Z"
      },
      {
        "duration": 11,
        "start_time": "2022-05-12T11:53:43.045Z"
      },
      {
        "duration": 11,
        "start_time": "2022-05-12T11:54:09.545Z"
      },
      {
        "duration": 9,
        "start_time": "2022-05-12T11:54:10.031Z"
      },
      {
        "duration": 10,
        "start_time": "2022-05-12T11:54:10.334Z"
      },
      {
        "duration": 9,
        "start_time": "2022-05-12T11:54:10.570Z"
      },
      {
        "duration": 17,
        "start_time": "2022-05-12T11:54:10.749Z"
      },
      {
        "duration": 11,
        "start_time": "2022-05-12T11:54:10.971Z"
      },
      {
        "duration": 17,
        "start_time": "2022-05-12T11:54:28.389Z"
      },
      {
        "duration": 10,
        "start_time": "2022-05-12T11:55:34.605Z"
      },
      {
        "duration": 11,
        "start_time": "2022-05-12T11:55:59.765Z"
      },
      {
        "duration": 15,
        "start_time": "2022-05-12T13:07:34.415Z"
      },
      {
        "duration": 149,
        "start_time": "2022-05-12T13:08:00.049Z"
      },
      {
        "duration": 5,
        "start_time": "2022-05-12T13:08:12.271Z"
      },
      {
        "duration": 552,
        "start_time": "2022-05-12T13:08:12.278Z"
      },
      {
        "duration": 17,
        "start_time": "2022-05-12T13:08:12.833Z"
      },
      {
        "duration": 32,
        "start_time": "2022-05-12T13:08:12.853Z"
      },
      {
        "duration": 16,
        "start_time": "2022-05-12T13:08:12.888Z"
      },
      {
        "duration": 15,
        "start_time": "2022-05-12T13:08:12.906Z"
      },
      {
        "duration": 37,
        "start_time": "2022-05-12T13:08:12.924Z"
      },
      {
        "duration": 38,
        "start_time": "2022-05-12T13:08:12.964Z"
      },
      {
        "duration": 158,
        "start_time": "2022-05-12T13:08:13.005Z"
      },
      {
        "duration": 31,
        "start_time": "2022-05-12T13:08:13.165Z"
      },
      {
        "duration": 128,
        "start_time": "2022-05-12T13:08:13.198Z"
      },
      {
        "duration": 33,
        "start_time": "2022-05-12T13:08:13.329Z"
      },
      {
        "duration": 65,
        "start_time": "2022-05-12T13:08:13.365Z"
      },
      {
        "duration": 32,
        "start_time": "2022-05-12T13:08:13.433Z"
      },
      {
        "duration": 41,
        "start_time": "2022-05-12T13:08:13.467Z"
      },
      {
        "duration": 613,
        "start_time": "2022-05-12T13:08:13.511Z"
      },
      {
        "duration": 112,
        "start_time": "2022-05-12T13:08:14.126Z"
      },
      {
        "duration": 256,
        "start_time": "2022-05-12T13:08:14.240Z"
      },
      {
        "duration": 71,
        "start_time": "2022-05-12T13:08:14.499Z"
      },
      {
        "duration": 123,
        "start_time": "2022-05-12T13:08:14.572Z"
      },
      {
        "duration": 134,
        "start_time": "2022-05-12T13:08:14.697Z"
      },
      {
        "duration": 39,
        "start_time": "2022-05-12T13:08:14.834Z"
      },
      {
        "duration": 48,
        "start_time": "2022-05-12T13:08:14.875Z"
      },
      {
        "duration": 51,
        "start_time": "2022-05-12T13:08:24.730Z"
      },
      {
        "duration": 14,
        "start_time": "2022-05-12T13:08:30.829Z"
      },
      {
        "duration": 13,
        "start_time": "2022-05-12T13:12:50.273Z"
      },
      {
        "duration": 30,
        "start_time": "2022-05-12T13:14:05.566Z"
      },
      {
        "duration": 117,
        "start_time": "2022-05-12T13:16:25.438Z"
      },
      {
        "duration": 105,
        "start_time": "2022-05-12T13:16:37.712Z"
      },
      {
        "duration": 132,
        "start_time": "2022-05-12T13:16:40.248Z"
      },
      {
        "duration": 130,
        "start_time": "2022-05-12T13:16:44.494Z"
      },
      {
        "duration": 2782,
        "start_time": "2022-05-12T13:18:15.822Z"
      },
      {
        "duration": 17,
        "start_time": "2022-05-12T13:19:29.473Z"
      },
      {
        "duration": 34,
        "start_time": "2022-05-12T13:20:34.925Z"
      },
      {
        "duration": 43,
        "start_time": "2022-05-12T13:20:55.314Z"
      },
      {
        "duration": 2724,
        "start_time": "2022-05-12T13:21:12.566Z"
      },
      {
        "duration": 36,
        "start_time": "2022-05-12T13:21:17.444Z"
      },
      {
        "duration": 10,
        "start_time": "2022-05-12T13:24:43.905Z"
      },
      {
        "duration": 40,
        "start_time": "2022-05-12T13:24:51.498Z"
      },
      {
        "duration": 45,
        "start_time": "2022-05-12T13:25:08.713Z"
      },
      {
        "duration": 18,
        "start_time": "2022-05-12T13:25:48.297Z"
      },
      {
        "duration": 14,
        "start_time": "2022-05-12T13:26:46.403Z"
      },
      {
        "duration": 24,
        "start_time": "2022-05-12T13:26:58.574Z"
      },
      {
        "duration": 85,
        "start_time": "2022-05-12T13:45:48.417Z"
      },
      {
        "duration": 32,
        "start_time": "2022-05-12T13:46:00.802Z"
      },
      {
        "duration": 22,
        "start_time": "2022-05-12T13:46:43.546Z"
      },
      {
        "duration": 34,
        "start_time": "2022-05-12T13:47:33.599Z"
      },
      {
        "duration": 34,
        "start_time": "2022-05-12T13:48:59.850Z"
      },
      {
        "duration": 31,
        "start_time": "2022-05-12T13:49:11.997Z"
      },
      {
        "duration": 126,
        "start_time": "2022-05-12T14:09:15.851Z"
      },
      {
        "duration": 147,
        "start_time": "2022-05-12T14:09:54.178Z"
      },
      {
        "duration": 34,
        "start_time": "2022-05-12T14:10:05.366Z"
      },
      {
        "duration": 87,
        "start_time": "2022-05-12T14:18:04.421Z"
      },
      {
        "duration": 31,
        "start_time": "2022-05-12T14:18:15.768Z"
      },
      {
        "duration": 50,
        "start_time": "2022-05-12T14:20:38.031Z"
      },
      {
        "duration": 15,
        "start_time": "2022-05-12T14:21:51.575Z"
      },
      {
        "duration": 5,
        "start_time": "2022-05-12T14:21:58.515Z"
      },
      {
        "duration": 638,
        "start_time": "2022-05-12T14:21:58.522Z"
      },
      {
        "duration": 23,
        "start_time": "2022-05-12T14:21:59.164Z"
      },
      {
        "duration": 19,
        "start_time": "2022-05-12T14:21:59.191Z"
      },
      {
        "duration": 45,
        "start_time": "2022-05-12T14:21:59.213Z"
      },
      {
        "duration": 26,
        "start_time": "2022-05-12T14:21:59.261Z"
      },
      {
        "duration": 12,
        "start_time": "2022-05-12T14:21:59.289Z"
      },
      {
        "duration": 0,
        "start_time": "2022-05-12T14:21:59.304Z"
      },
      {
        "duration": 0,
        "start_time": "2022-05-12T14:21:59.306Z"
      },
      {
        "duration": 0,
        "start_time": "2022-05-12T14:21:59.308Z"
      },
      {
        "duration": 0,
        "start_time": "2022-05-12T14:21:59.309Z"
      },
      {
        "duration": 0,
        "start_time": "2022-05-12T14:21:59.310Z"
      },
      {
        "duration": 0,
        "start_time": "2022-05-12T14:21:59.312Z"
      },
      {
        "duration": 0,
        "start_time": "2022-05-12T14:21:59.313Z"
      },
      {
        "duration": 0,
        "start_time": "2022-05-12T14:21:59.315Z"
      },
      {
        "duration": 0,
        "start_time": "2022-05-12T14:21:59.316Z"
      },
      {
        "duration": 0,
        "start_time": "2022-05-12T14:21:59.318Z"
      },
      {
        "duration": 0,
        "start_time": "2022-05-12T14:21:59.353Z"
      },
      {
        "duration": 0,
        "start_time": "2022-05-12T14:21:59.355Z"
      },
      {
        "duration": 0,
        "start_time": "2022-05-12T14:21:59.358Z"
      },
      {
        "duration": 0,
        "start_time": "2022-05-12T14:21:59.360Z"
      },
      {
        "duration": 0,
        "start_time": "2022-05-12T14:21:59.363Z"
      },
      {
        "duration": 0,
        "start_time": "2022-05-12T14:21:59.366Z"
      },
      {
        "duration": 0,
        "start_time": "2022-05-12T14:21:59.368Z"
      },
      {
        "duration": 0,
        "start_time": "2022-05-12T14:21:59.372Z"
      },
      {
        "duration": 0,
        "start_time": "2022-05-12T14:21:59.374Z"
      },
      {
        "duration": 0,
        "start_time": "2022-05-12T14:21:59.376Z"
      },
      {
        "duration": 0,
        "start_time": "2022-05-12T14:21:59.377Z"
      },
      {
        "duration": 5,
        "start_time": "2022-05-12T14:22:26.971Z"
      },
      {
        "duration": 14,
        "start_time": "2022-05-12T14:22:39.150Z"
      },
      {
        "duration": 4,
        "start_time": "2022-05-12T14:22:53.338Z"
      },
      {
        "duration": 475,
        "start_time": "2022-05-12T14:22:53.345Z"
      },
      {
        "duration": 15,
        "start_time": "2022-05-12T14:22:53.822Z"
      },
      {
        "duration": 18,
        "start_time": "2022-05-12T14:22:53.840Z"
      },
      {
        "duration": 14,
        "start_time": "2022-05-12T14:22:53.860Z"
      },
      {
        "duration": 12,
        "start_time": "2022-05-12T14:22:53.876Z"
      },
      {
        "duration": 19,
        "start_time": "2022-05-12T14:22:53.890Z"
      },
      {
        "duration": 72,
        "start_time": "2022-05-12T14:22:53.911Z"
      },
      {
        "duration": 155,
        "start_time": "2022-05-12T14:22:53.987Z"
      },
      {
        "duration": 33,
        "start_time": "2022-05-12T14:22:54.144Z"
      },
      {
        "duration": 129,
        "start_time": "2022-05-12T14:22:54.180Z"
      },
      {
        "duration": 25,
        "start_time": "2022-05-12T14:22:54.311Z"
      },
      {
        "duration": 62,
        "start_time": "2022-05-12T14:22:54.351Z"
      },
      {
        "duration": 37,
        "start_time": "2022-05-12T14:22:54.415Z"
      },
      {
        "duration": 11,
        "start_time": "2022-05-12T14:22:54.454Z"
      },
      {
        "duration": 635,
        "start_time": "2022-05-12T14:22:54.468Z"
      },
      {
        "duration": 117,
        "start_time": "2022-05-12T14:22:55.105Z"
      },
      {
        "duration": 243,
        "start_time": "2022-05-12T14:22:55.225Z"
      },
      {
        "duration": 85,
        "start_time": "2022-05-12T14:22:55.471Z"
      },
      {
        "duration": 154,
        "start_time": "2022-05-12T14:22:55.559Z"
      },
      {
        "duration": 185,
        "start_time": "2022-05-12T14:22:55.716Z"
      },
      {
        "duration": 65,
        "start_time": "2022-05-12T14:22:55.904Z"
      },
      {
        "duration": 50,
        "start_time": "2022-05-12T14:22:55.971Z"
      },
      {
        "duration": 63,
        "start_time": "2022-05-12T14:22:56.025Z"
      },
      {
        "duration": 87,
        "start_time": "2022-05-12T14:22:56.090Z"
      },
      {
        "duration": 0,
        "start_time": "2022-05-12T14:22:56.180Z"
      },
      {
        "duration": 0,
        "start_time": "2022-05-12T14:22:56.181Z"
      },
      {
        "duration": 91,
        "start_time": "2022-05-12T14:23:13.455Z"
      },
      {
        "duration": 33,
        "start_time": "2022-05-12T14:23:14.077Z"
      },
      {
        "duration": 61,
        "start_time": "2022-05-12T14:25:56.516Z"
      },
      {
        "duration": 12,
        "start_time": "2022-05-12T15:50:09.199Z"
      },
      {
        "duration": 5,
        "start_time": "2022-05-12T15:50:15.340Z"
      },
      {
        "duration": 650,
        "start_time": "2022-05-12T15:50:15.347Z"
      },
      {
        "duration": 16,
        "start_time": "2022-05-12T15:50:16.000Z"
      },
      {
        "duration": 26,
        "start_time": "2022-05-12T15:50:16.018Z"
      },
      {
        "duration": 16,
        "start_time": "2022-05-12T15:50:16.047Z"
      },
      {
        "duration": 13,
        "start_time": "2022-05-12T15:50:16.066Z"
      },
      {
        "duration": 21,
        "start_time": "2022-05-12T15:50:16.082Z"
      },
      {
        "duration": 77,
        "start_time": "2022-05-12T15:50:16.106Z"
      },
      {
        "duration": 155,
        "start_time": "2022-05-12T15:50:16.186Z"
      },
      {
        "duration": 36,
        "start_time": "2022-05-12T15:50:16.344Z"
      },
      {
        "duration": 127,
        "start_time": "2022-05-12T15:50:16.386Z"
      },
      {
        "duration": 37,
        "start_time": "2022-05-12T15:50:16.517Z"
      },
      {
        "duration": 66,
        "start_time": "2022-05-12T15:50:16.558Z"
      },
      {
        "duration": 37,
        "start_time": "2022-05-12T15:50:16.627Z"
      },
      {
        "duration": 10,
        "start_time": "2022-05-12T15:50:16.668Z"
      },
      {
        "duration": 649,
        "start_time": "2022-05-12T15:50:16.681Z"
      },
      {
        "duration": 122,
        "start_time": "2022-05-12T15:50:17.333Z"
      },
      {
        "duration": 238,
        "start_time": "2022-05-12T15:50:17.457Z"
      },
      {
        "duration": 82,
        "start_time": "2022-05-12T15:50:17.697Z"
      },
      {
        "duration": 112,
        "start_time": "2022-05-12T15:50:17.781Z"
      },
      {
        "duration": 164,
        "start_time": "2022-05-12T15:50:17.895Z"
      },
      {
        "duration": 46,
        "start_time": "2022-05-12T15:50:18.062Z"
      },
      {
        "duration": 85,
        "start_time": "2022-05-12T15:50:18.110Z"
      },
      {
        "duration": 72,
        "start_time": "2022-05-12T15:50:18.197Z"
      },
      {
        "duration": 139,
        "start_time": "2022-05-12T15:50:18.272Z"
      },
      {
        "duration": 59,
        "start_time": "2022-05-12T15:50:18.414Z"
      },
      {
        "duration": 14,
        "start_time": "2022-05-12T15:50:18.476Z"
      },
      {
        "duration": 12,
        "start_time": "2022-05-12T15:50:29.741Z"
      },
      {
        "duration": 16,
        "start_time": "2022-05-12T15:50:37.196Z"
      },
      {
        "duration": 23,
        "start_time": "2022-05-12T15:51:45.317Z"
      },
      {
        "duration": 29,
        "start_time": "2022-05-12T15:52:00.966Z"
      },
      {
        "duration": 28,
        "start_time": "2022-05-12T15:52:20.933Z"
      },
      {
        "duration": 51,
        "start_time": "2022-05-12T15:54:30.153Z"
      },
      {
        "duration": 11,
        "start_time": "2022-05-12T15:55:29.047Z"
      },
      {
        "duration": 17,
        "start_time": "2022-05-12T15:55:48.342Z"
      },
      {
        "duration": 9,
        "start_time": "2022-05-12T15:56:08.111Z"
      },
      {
        "duration": 7,
        "start_time": "2022-05-12T15:56:20.626Z"
      },
      {
        "duration": 51,
        "start_time": "2022-05-12T15:56:39.642Z"
      },
      {
        "duration": 735,
        "start_time": "2022-05-12T16:01:37.711Z"
      },
      {
        "duration": 717,
        "start_time": "2022-05-12T16:01:47.038Z"
      },
      {
        "duration": 465,
        "start_time": "2022-05-12T16:02:15.500Z"
      },
      {
        "duration": 53,
        "start_time": "2022-05-12T16:02:20.540Z"
      },
      {
        "duration": 658,
        "start_time": "2022-05-12T16:02:45.647Z"
      },
      {
        "duration": 102,
        "start_time": "2022-05-12T16:02:49.621Z"
      },
      {
        "duration": 634,
        "start_time": "2022-05-12T16:08:36.754Z"
      },
      {
        "duration": 104,
        "start_time": "2022-05-12T16:09:32.872Z"
      },
      {
        "duration": 126,
        "start_time": "2022-05-12T16:09:38.143Z"
      },
      {
        "duration": 674,
        "start_time": "2022-05-12T16:10:56.256Z"
      },
      {
        "duration": 4,
        "start_time": "2022-05-12T16:10:59.386Z"
      },
      {
        "duration": 456,
        "start_time": "2022-05-12T16:10:59.392Z"
      },
      {
        "duration": 16,
        "start_time": "2022-05-12T16:10:59.851Z"
      },
      {
        "duration": 22,
        "start_time": "2022-05-12T16:10:59.869Z"
      },
      {
        "duration": 13,
        "start_time": "2022-05-12T16:10:59.894Z"
      },
      {
        "duration": 44,
        "start_time": "2022-05-12T16:10:59.909Z"
      },
      {
        "duration": 21,
        "start_time": "2022-05-12T16:10:59.955Z"
      },
      {
        "duration": 37,
        "start_time": "2022-05-12T16:10:59.978Z"
      },
      {
        "duration": 159,
        "start_time": "2022-05-12T16:11:00.018Z"
      },
      {
        "duration": 28,
        "start_time": "2022-05-12T16:11:00.179Z"
      },
      {
        "duration": 133,
        "start_time": "2022-05-12T16:11:00.213Z"
      },
      {
        "duration": 25,
        "start_time": "2022-05-12T16:11:00.348Z"
      },
      {
        "duration": 83,
        "start_time": "2022-05-12T16:11:00.376Z"
      },
      {
        "duration": 15,
        "start_time": "2022-05-12T16:11:00.462Z"
      },
      {
        "duration": 23,
        "start_time": "2022-05-12T16:11:00.480Z"
      },
      {
        "duration": 781,
        "start_time": "2022-05-12T16:11:00.505Z"
      },
      {
        "duration": 144,
        "start_time": "2022-05-12T16:11:01.288Z"
      },
      {
        "duration": 129,
        "start_time": "2022-05-12T16:11:01.434Z"
      },
      {
        "duration": 64,
        "start_time": "2022-05-12T16:11:01.565Z"
      },
      {
        "duration": 130,
        "start_time": "2022-05-12T16:11:01.631Z"
      },
      {
        "duration": 0,
        "start_time": "2022-05-12T16:11:01.764Z"
      },
      {
        "duration": 0,
        "start_time": "2022-05-12T16:11:01.765Z"
      },
      {
        "duration": 0,
        "start_time": "2022-05-12T16:11:01.767Z"
      },
      {
        "duration": 0,
        "start_time": "2022-05-12T16:11:01.768Z"
      },
      {
        "duration": 0,
        "start_time": "2022-05-12T16:11:01.770Z"
      },
      {
        "duration": 0,
        "start_time": "2022-05-12T16:11:01.771Z"
      },
      {
        "duration": 0,
        "start_time": "2022-05-12T16:11:01.772Z"
      },
      {
        "duration": 0,
        "start_time": "2022-05-12T16:11:01.773Z"
      },
      {
        "duration": 0,
        "start_time": "2022-05-12T16:11:01.774Z"
      },
      {
        "duration": 267,
        "start_time": "2022-05-12T16:12:33.797Z"
      },
      {
        "duration": 144,
        "start_time": "2022-05-12T16:12:47.698Z"
      },
      {
        "duration": 211,
        "start_time": "2022-05-12T16:12:51.688Z"
      },
      {
        "duration": 34,
        "start_time": "2022-05-12T16:12:51.902Z"
      },
      {
        "duration": 121,
        "start_time": "2022-05-12T16:12:51.951Z"
      },
      {
        "duration": 144,
        "start_time": "2022-05-12T16:12:52.076Z"
      },
      {
        "duration": 54,
        "start_time": "2022-05-12T16:12:52.223Z"
      },
      {
        "duration": 54,
        "start_time": "2022-05-12T16:12:52.279Z"
      },
      {
        "duration": 42,
        "start_time": "2022-05-12T16:12:52.352Z"
      },
      {
        "duration": 108,
        "start_time": "2022-05-12T16:12:52.396Z"
      },
      {
        "duration": 34,
        "start_time": "2022-05-12T16:12:52.507Z"
      },
      {
        "duration": 30,
        "start_time": "2022-05-12T16:12:52.551Z"
      },
      {
        "duration": 41,
        "start_time": "2022-05-12T16:13:49.803Z"
      },
      {
        "duration": 40,
        "start_time": "2022-05-12T16:14:34.399Z"
      },
      {
        "duration": 145,
        "start_time": "2022-05-12T16:18:27.394Z"
      },
      {
        "duration": 46,
        "start_time": "2022-05-12T16:25:56.258Z"
      },
      {
        "duration": 90,
        "start_time": "2022-05-12T16:26:22.783Z"
      },
      {
        "duration": 7,
        "start_time": "2022-05-12T16:26:28.487Z"
      },
      {
        "duration": 47,
        "start_time": "2022-05-12T16:30:02.619Z"
      },
      {
        "duration": 30,
        "start_time": "2022-05-12T16:31:32.487Z"
      },
      {
        "duration": 19,
        "start_time": "2022-05-12T16:31:41.666Z"
      },
      {
        "duration": 20,
        "start_time": "2022-05-12T16:31:50.674Z"
      },
      {
        "duration": 5,
        "start_time": "2022-05-12T16:31:54.259Z"
      },
      {
        "duration": 476,
        "start_time": "2022-05-12T16:31:54.268Z"
      },
      {
        "duration": 16,
        "start_time": "2022-05-12T16:31:54.746Z"
      },
      {
        "duration": 36,
        "start_time": "2022-05-12T16:31:54.764Z"
      },
      {
        "duration": 13,
        "start_time": "2022-05-12T16:31:54.803Z"
      },
      {
        "duration": 14,
        "start_time": "2022-05-12T16:31:54.818Z"
      },
      {
        "duration": 20,
        "start_time": "2022-05-12T16:31:54.851Z"
      },
      {
        "duration": 49,
        "start_time": "2022-05-12T16:31:54.873Z"
      },
      {
        "duration": 144,
        "start_time": "2022-05-12T16:31:54.926Z"
      },
      {
        "duration": 29,
        "start_time": "2022-05-12T16:31:55.072Z"
      },
      {
        "duration": 122,
        "start_time": "2022-05-12T16:31:55.103Z"
      },
      {
        "duration": 32,
        "start_time": "2022-05-12T16:31:55.228Z"
      },
      {
        "duration": 66,
        "start_time": "2022-05-12T16:31:55.262Z"
      },
      {
        "duration": 33,
        "start_time": "2022-05-12T16:31:55.331Z"
      },
      {
        "duration": 12,
        "start_time": "2022-05-12T16:31:55.366Z"
      },
      {
        "duration": 735,
        "start_time": "2022-05-12T16:31:55.380Z"
      },
      {
        "duration": 128,
        "start_time": "2022-05-12T16:31:56.117Z"
      },
      {
        "duration": 284,
        "start_time": "2022-05-12T16:31:56.252Z"
      },
      {
        "duration": 83,
        "start_time": "2022-05-12T16:31:56.538Z"
      },
      {
        "duration": 124,
        "start_time": "2022-05-12T16:31:56.623Z"
      },
      {
        "duration": 143,
        "start_time": "2022-05-12T16:31:56.751Z"
      },
      {
        "duration": 57,
        "start_time": "2022-05-12T16:31:56.897Z"
      },
      {
        "duration": 50,
        "start_time": "2022-05-12T16:31:56.956Z"
      },
      {
        "duration": 59,
        "start_time": "2022-05-12T16:31:57.010Z"
      },
      {
        "duration": 105,
        "start_time": "2022-05-12T16:31:57.071Z"
      },
      {
        "duration": 31,
        "start_time": "2022-05-12T16:31:57.178Z"
      },
      {
        "duration": 59,
        "start_time": "2022-05-12T16:31:57.211Z"
      },
      {
        "duration": 24,
        "start_time": "2022-05-12T16:33:16.538Z"
      },
      {
        "duration": 5,
        "start_time": "2022-05-12T16:33:25.049Z"
      },
      {
        "duration": 459,
        "start_time": "2022-05-12T16:33:25.057Z"
      },
      {
        "duration": 17,
        "start_time": "2022-05-12T16:33:25.519Z"
      },
      {
        "duration": 27,
        "start_time": "2022-05-12T16:33:25.538Z"
      },
      {
        "duration": 17,
        "start_time": "2022-05-12T16:33:25.569Z"
      },
      {
        "duration": 18,
        "start_time": "2022-05-12T16:33:25.588Z"
      },
      {
        "duration": 48,
        "start_time": "2022-05-12T16:33:25.608Z"
      },
      {
        "duration": 41,
        "start_time": "2022-05-12T16:33:25.658Z"
      },
      {
        "duration": 154,
        "start_time": "2022-05-12T16:33:25.702Z"
      },
      {
        "duration": 32,
        "start_time": "2022-05-12T16:33:25.859Z"
      },
      {
        "duration": 135,
        "start_time": "2022-05-12T16:33:25.894Z"
      },
      {
        "duration": 36,
        "start_time": "2022-05-12T16:33:26.031Z"
      },
      {
        "duration": 83,
        "start_time": "2022-05-12T16:33:26.069Z"
      },
      {
        "duration": 15,
        "start_time": "2022-05-12T16:33:26.156Z"
      },
      {
        "duration": 12,
        "start_time": "2022-05-12T16:33:26.173Z"
      },
      {
        "duration": 702,
        "start_time": "2022-05-12T16:33:26.187Z"
      },
      {
        "duration": 134,
        "start_time": "2022-05-12T16:33:26.891Z"
      },
      {
        "duration": 275,
        "start_time": "2022-05-12T16:33:27.028Z"
      },
      {
        "duration": 89,
        "start_time": "2022-05-12T16:33:27.306Z"
      },
      {
        "duration": 121,
        "start_time": "2022-05-12T16:33:27.397Z"
      },
      {
        "duration": 153,
        "start_time": "2022-05-12T16:33:27.521Z"
      },
      {
        "duration": 42,
        "start_time": "2022-05-12T16:33:27.677Z"
      },
      {
        "duration": 72,
        "start_time": "2022-05-12T16:33:27.721Z"
      },
      {
        "duration": 58,
        "start_time": "2022-05-12T16:33:27.795Z"
      },
      {
        "duration": 102,
        "start_time": "2022-05-12T16:33:27.856Z"
      },
      {
        "duration": 32,
        "start_time": "2022-05-12T16:33:27.960Z"
      },
      {
        "duration": 66,
        "start_time": "2022-05-12T16:33:27.995Z"
      },
      {
        "duration": 35,
        "start_time": "2022-05-12T16:34:26.934Z"
      },
      {
        "duration": 1508,
        "start_time": "2022-05-12T16:34:55.733Z"
      },
      {
        "duration": 4,
        "start_time": "2022-05-12T16:35:54.307Z"
      },
      {
        "duration": 438,
        "start_time": "2022-05-12T16:35:54.313Z"
      },
      {
        "duration": 17,
        "start_time": "2022-05-12T16:35:54.753Z"
      },
      {
        "duration": 25,
        "start_time": "2022-05-12T16:35:54.772Z"
      },
      {
        "duration": 14,
        "start_time": "2022-05-12T16:35:54.800Z"
      },
      {
        "duration": 41,
        "start_time": "2022-05-12T16:35:54.815Z"
      },
      {
        "duration": 19,
        "start_time": "2022-05-12T16:35:54.858Z"
      },
      {
        "duration": 36,
        "start_time": "2022-05-12T16:35:54.879Z"
      },
      {
        "duration": 144,
        "start_time": "2022-05-12T16:35:54.917Z"
      },
      {
        "duration": 28,
        "start_time": "2022-05-12T16:35:55.064Z"
      },
      {
        "duration": 121,
        "start_time": "2022-05-12T16:35:55.096Z"
      },
      {
        "duration": 33,
        "start_time": "2022-05-12T16:35:55.219Z"
      },
      {
        "duration": 61,
        "start_time": "2022-05-12T16:35:55.255Z"
      },
      {
        "duration": 36,
        "start_time": "2022-05-12T16:35:55.318Z"
      },
      {
        "duration": 10,
        "start_time": "2022-05-12T16:35:55.356Z"
      },
      {
        "duration": 696,
        "start_time": "2022-05-12T16:35:55.368Z"
      },
      {
        "duration": 127,
        "start_time": "2022-05-12T16:35:56.067Z"
      },
      {
        "duration": 270,
        "start_time": "2022-05-12T16:35:56.196Z"
      },
      {
        "duration": 64,
        "start_time": "2022-05-12T16:35:56.468Z"
      },
      {
        "duration": 125,
        "start_time": "2022-05-12T16:35:56.534Z"
      },
      {
        "duration": 143,
        "start_time": "2022-05-12T16:35:56.662Z"
      },
      {
        "duration": 56,
        "start_time": "2022-05-12T16:35:56.807Z"
      },
      {
        "duration": 52,
        "start_time": "2022-05-12T16:35:56.865Z"
      },
      {
        "duration": 61,
        "start_time": "2022-05-12T16:35:56.919Z"
      },
      {
        "duration": 104,
        "start_time": "2022-05-12T16:35:56.983Z"
      },
      {
        "duration": 31,
        "start_time": "2022-05-12T16:35:57.090Z"
      },
      {
        "duration": 63,
        "start_time": "2022-05-12T16:35:57.124Z"
      },
      {
        "duration": 37,
        "start_time": "2022-05-12T16:39:46.427Z"
      },
      {
        "duration": 20,
        "start_time": "2022-05-12T16:42:00.990Z"
      },
      {
        "duration": 28,
        "start_time": "2022-05-12T16:42:11.204Z"
      },
      {
        "duration": 20,
        "start_time": "2022-05-12T16:42:28.624Z"
      },
      {
        "duration": 27,
        "start_time": "2022-05-12T16:42:31.711Z"
      },
      {
        "duration": 25,
        "start_time": "2022-05-12T16:43:26.636Z"
      },
      {
        "duration": 29,
        "start_time": "2022-05-12T16:43:36.881Z"
      },
      {
        "duration": 5,
        "start_time": "2022-05-12T16:45:59.940Z"
      },
      {
        "duration": 12,
        "start_time": "2022-05-12T16:46:09.156Z"
      },
      {
        "duration": 29,
        "start_time": "2022-05-12T16:46:46.175Z"
      },
      {
        "duration": 28,
        "start_time": "2022-05-12T16:47:13.517Z"
      },
      {
        "duration": 37,
        "start_time": "2022-05-12T16:48:04.583Z"
      },
      {
        "duration": 25,
        "start_time": "2022-05-12T16:48:14.547Z"
      },
      {
        "duration": 27,
        "start_time": "2022-05-12T16:48:51.659Z"
      },
      {
        "duration": 34,
        "start_time": "2022-05-12T16:52:23.200Z"
      },
      {
        "duration": 31,
        "start_time": "2022-05-12T16:53:09.639Z"
      },
      {
        "duration": 32,
        "start_time": "2022-05-12T16:53:36.883Z"
      },
      {
        "duration": 32,
        "start_time": "2022-05-12T16:54:44.626Z"
      },
      {
        "duration": 44,
        "start_time": "2022-05-12T16:58:57.658Z"
      },
      {
        "duration": 39,
        "start_time": "2022-05-12T16:59:10.508Z"
      },
      {
        "duration": 47,
        "start_time": "2022-05-12T16:59:16.308Z"
      },
      {
        "duration": 1457,
        "start_time": "2022-05-13T08:16:29.339Z"
      },
      {
        "duration": 396,
        "start_time": "2022-05-13T08:16:30.799Z"
      },
      {
        "duration": 20,
        "start_time": "2022-05-13T08:16:31.196Z"
      },
      {
        "duration": 26,
        "start_time": "2022-05-13T08:16:31.219Z"
      },
      {
        "duration": 16,
        "start_time": "2022-05-13T08:16:31.247Z"
      },
      {
        "duration": 15,
        "start_time": "2022-05-13T08:16:31.265Z"
      },
      {
        "duration": 36,
        "start_time": "2022-05-13T08:16:31.281Z"
      },
      {
        "duration": 34,
        "start_time": "2022-05-13T08:16:31.318Z"
      },
      {
        "duration": 116,
        "start_time": "2022-05-13T08:16:31.354Z"
      },
      {
        "duration": 23,
        "start_time": "2022-05-13T08:16:31.473Z"
      },
      {
        "duration": 83,
        "start_time": "2022-05-13T08:16:31.498Z"
      },
      {
        "duration": 19,
        "start_time": "2022-05-13T08:16:31.583Z"
      },
      {
        "duration": 71,
        "start_time": "2022-05-13T08:16:31.604Z"
      },
      {
        "duration": 11,
        "start_time": "2022-05-13T08:16:31.677Z"
      },
      {
        "duration": 12,
        "start_time": "2022-05-13T08:16:31.690Z"
      },
      {
        "duration": 599,
        "start_time": "2022-05-13T08:16:31.704Z"
      },
      {
        "duration": 112,
        "start_time": "2022-05-13T08:16:32.305Z"
      },
      {
        "duration": 216,
        "start_time": "2022-05-13T08:16:32.419Z"
      },
      {
        "duration": 76,
        "start_time": "2022-05-13T08:16:32.637Z"
      },
      {
        "duration": 83,
        "start_time": "2022-05-13T08:16:32.715Z"
      },
      {
        "duration": 106,
        "start_time": "2022-05-13T08:16:32.800Z"
      },
      {
        "duration": 29,
        "start_time": "2022-05-13T08:16:32.908Z"
      },
      {
        "duration": 48,
        "start_time": "2022-05-13T08:16:32.939Z"
      },
      {
        "duration": 27,
        "start_time": "2022-05-13T08:16:32.988Z"
      },
      {
        "duration": 77,
        "start_time": "2022-05-13T08:16:33.017Z"
      },
      {
        "duration": 21,
        "start_time": "2022-05-13T08:16:33.096Z"
      },
      {
        "duration": 23,
        "start_time": "2022-05-13T08:16:33.119Z"
      },
      {
        "duration": 51,
        "start_time": "2022-05-13T08:16:33.145Z"
      },
      {
        "duration": 26,
        "start_time": "2022-05-13T08:17:31.339Z"
      },
      {
        "duration": 191,
        "start_time": "2022-05-13T08:17:41.219Z"
      },
      {
        "duration": 272,
        "start_time": "2022-05-13T08:19:12.852Z"
      },
      {
        "duration": 274,
        "start_time": "2022-05-13T08:20:34.430Z"
      },
      {
        "duration": 18,
        "start_time": "2022-05-13T08:20:44.020Z"
      },
      {
        "duration": 267,
        "start_time": "2022-05-13T08:21:42.606Z"
      },
      {
        "duration": 113,
        "start_time": "2022-05-13T08:23:12.875Z"
      },
      {
        "duration": 16,
        "start_time": "2022-05-13T08:23:41.532Z"
      },
      {
        "duration": 16,
        "start_time": "2022-05-13T08:23:56.581Z"
      },
      {
        "duration": 18,
        "start_time": "2022-05-13T08:24:16.867Z"
      },
      {
        "duration": 22,
        "start_time": "2022-05-13T08:24:50.375Z"
      },
      {
        "duration": 22,
        "start_time": "2022-05-13T08:24:59.283Z"
      },
      {
        "duration": 176,
        "start_time": "2022-05-13T08:25:02.638Z"
      },
      {
        "duration": 15,
        "start_time": "2022-05-13T08:25:20.103Z"
      },
      {
        "duration": 119,
        "start_time": "2022-05-13T08:26:11.072Z"
      },
      {
        "duration": 107,
        "start_time": "2022-05-13T08:26:30.920Z"
      },
      {
        "duration": 18,
        "start_time": "2022-05-13T08:26:58.095Z"
      },
      {
        "duration": 35,
        "start_time": "2022-05-13T08:28:13.431Z"
      },
      {
        "duration": 25,
        "start_time": "2022-05-13T08:28:28.252Z"
      },
      {
        "duration": 3956,
        "start_time": "2022-05-13T08:30:22.855Z"
      },
      {
        "duration": 18,
        "start_time": "2022-05-13T08:31:32.491Z"
      },
      {
        "duration": 10,
        "start_time": "2022-05-13T08:31:41.706Z"
      },
      {
        "duration": 12,
        "start_time": "2022-05-13T08:31:45.679Z"
      },
      {
        "duration": 17,
        "start_time": "2022-05-13T08:32:36.462Z"
      },
      {
        "duration": 19,
        "start_time": "2022-05-13T08:33:10.997Z"
      },
      {
        "duration": 21,
        "start_time": "2022-05-13T08:33:48.471Z"
      },
      {
        "duration": 22,
        "start_time": "2022-05-13T08:34:18.282Z"
      },
      {
        "duration": 152,
        "start_time": "2022-05-13T08:35:32.981Z"
      },
      {
        "duration": 260,
        "start_time": "2022-05-13T08:35:47.257Z"
      },
      {
        "duration": 185,
        "start_time": "2022-05-13T08:37:26.240Z"
      },
      {
        "duration": 21,
        "start_time": "2022-05-13T08:37:37.122Z"
      },
      {
        "duration": 118,
        "start_time": "2022-05-13T08:37:42.193Z"
      },
      {
        "duration": 113,
        "start_time": "2022-05-13T08:37:53.276Z"
      },
      {
        "duration": 122,
        "start_time": "2022-05-13T08:38:05.665Z"
      },
      {
        "duration": 119,
        "start_time": "2022-05-13T08:38:30.207Z"
      },
      {
        "duration": 112,
        "start_time": "2022-05-13T08:38:53.120Z"
      },
      {
        "duration": 123,
        "start_time": "2022-05-13T08:39:07.037Z"
      },
      {
        "duration": 140,
        "start_time": "2022-05-13T08:40:29.059Z"
      },
      {
        "duration": 152,
        "start_time": "2022-05-13T08:40:51.718Z"
      },
      {
        "duration": 263,
        "start_time": "2022-05-13T08:42:15.862Z"
      },
      {
        "duration": 200,
        "start_time": "2022-05-13T08:42:20.248Z"
      },
      {
        "duration": 187,
        "start_time": "2022-05-13T08:42:42.151Z"
      },
      {
        "duration": 284,
        "start_time": "2022-05-13T08:45:44.756Z"
      },
      {
        "duration": 200,
        "start_time": "2022-05-13T08:46:37.570Z"
      },
      {
        "duration": 258,
        "start_time": "2022-05-13T08:46:43.379Z"
      },
      {
        "duration": 271,
        "start_time": "2022-05-13T08:47:02.819Z"
      },
      {
        "duration": 254,
        "start_time": "2022-05-13T08:47:34.869Z"
      },
      {
        "duration": 281,
        "start_time": "2022-05-13T08:47:59.824Z"
      },
      {
        "duration": 188,
        "start_time": "2022-05-13T08:48:17.568Z"
      },
      {
        "duration": 288,
        "start_time": "2022-05-13T08:50:29.899Z"
      },
      {
        "duration": 144,
        "start_time": "2022-05-13T08:54:11.897Z"
      },
      {
        "duration": 231,
        "start_time": "2022-05-13T08:54:30.792Z"
      },
      {
        "duration": 150,
        "start_time": "2022-05-13T08:54:40.815Z"
      },
      {
        "duration": 160,
        "start_time": "2022-05-13T08:58:12.213Z"
      },
      {
        "duration": 18,
        "start_time": "2022-05-13T08:59:46.681Z"
      },
      {
        "duration": 18,
        "start_time": "2022-05-13T09:00:02.567Z"
      },
      {
        "duration": 182,
        "start_time": "2022-05-13T09:01:05.824Z"
      },
      {
        "duration": 290,
        "start_time": "2022-05-13T09:03:17.311Z"
      },
      {
        "duration": 214,
        "start_time": "2022-05-13T09:04:48.455Z"
      },
      {
        "duration": 218,
        "start_time": "2022-05-13T09:05:01.246Z"
      },
      {
        "duration": 218,
        "start_time": "2022-05-13T09:05:06.041Z"
      },
      {
        "duration": 214,
        "start_time": "2022-05-13T09:05:33.870Z"
      },
      {
        "duration": 211,
        "start_time": "2022-05-13T09:05:49.845Z"
      },
      {
        "duration": 312,
        "start_time": "2022-05-13T09:06:08.345Z"
      },
      {
        "duration": 226,
        "start_time": "2022-05-13T09:07:51.796Z"
      },
      {
        "duration": 200,
        "start_time": "2022-05-13T09:07:57.912Z"
      },
      {
        "duration": 199,
        "start_time": "2022-05-13T09:08:04.382Z"
      },
      {
        "duration": 240,
        "start_time": "2022-05-13T09:08:39.787Z"
      },
      {
        "duration": 244,
        "start_time": "2022-05-13T09:09:02.353Z"
      },
      {
        "duration": 252,
        "start_time": "2022-05-13T09:09:14.241Z"
      },
      {
        "duration": 201,
        "start_time": "2022-05-13T09:09:25.348Z"
      },
      {
        "duration": 19,
        "start_time": "2022-05-13T09:12:14.888Z"
      },
      {
        "duration": 9,
        "start_time": "2022-05-13T09:14:21.423Z"
      },
      {
        "duration": 23,
        "start_time": "2022-05-13T09:14:26.828Z"
      },
      {
        "duration": 24,
        "start_time": "2022-05-13T09:14:32.608Z"
      },
      {
        "duration": 7,
        "start_time": "2022-05-13T09:14:38.964Z"
      },
      {
        "duration": 30,
        "start_time": "2022-05-13T09:14:49.108Z"
      },
      {
        "duration": 28,
        "start_time": "2022-05-13T09:14:56.863Z"
      },
      {
        "duration": 32,
        "start_time": "2022-05-13T09:15:02.359Z"
      },
      {
        "duration": 8,
        "start_time": "2022-05-13T09:18:40.237Z"
      },
      {
        "duration": 8,
        "start_time": "2022-05-13T09:19:01.045Z"
      },
      {
        "duration": 8,
        "start_time": "2022-05-13T09:19:05.642Z"
      },
      {
        "duration": 8,
        "start_time": "2022-05-13T09:19:10.515Z"
      },
      {
        "duration": 9,
        "start_time": "2022-05-13T09:20:02.361Z"
      },
      {
        "duration": 7,
        "start_time": "2022-05-13T09:20:10.520Z"
      },
      {
        "duration": 708,
        "start_time": "2022-05-13T09:21:39.376Z"
      },
      {
        "duration": 735,
        "start_time": "2022-05-13T09:22:11.101Z"
      },
      {
        "duration": 798,
        "start_time": "2022-05-13T09:22:18.377Z"
      },
      {
        "duration": 784,
        "start_time": "2022-05-13T09:22:24.575Z"
      },
      {
        "duration": 690,
        "start_time": "2022-05-13T09:22:36.164Z"
      },
      {
        "duration": 1521,
        "start_time": "2022-05-13T09:22:55.681Z"
      },
      {
        "duration": 8,
        "start_time": "2022-05-13T09:26:18.956Z"
      },
      {
        "duration": 579,
        "start_time": "2022-05-13T09:35:34.623Z"
      },
      {
        "duration": 1077,
        "start_time": "2022-05-13T09:36:38.380Z"
      },
      {
        "duration": 760,
        "start_time": "2022-05-13T09:37:24.145Z"
      },
      {
        "duration": 1452,
        "start_time": "2022-05-13T09:37:33.144Z"
      },
      {
        "duration": 26,
        "start_time": "2022-05-13T10:04:22.820Z"
      },
      {
        "duration": 28,
        "start_time": "2022-05-13T10:06:24.338Z"
      },
      {
        "duration": 15,
        "start_time": "2022-05-13T10:07:04.939Z"
      },
      {
        "duration": 27,
        "start_time": "2022-05-13T10:07:13.842Z"
      },
      {
        "duration": 26,
        "start_time": "2022-05-13T10:08:14.193Z"
      },
      {
        "duration": 29,
        "start_time": "2022-05-13T10:10:05.088Z"
      },
      {
        "duration": 33,
        "start_time": "2022-05-13T10:12:12.676Z"
      },
      {
        "duration": 9,
        "start_time": "2022-05-13T10:43:59.455Z"
      },
      {
        "duration": 227,
        "start_time": "2022-05-13T10:44:05.489Z"
      },
      {
        "duration": 3,
        "start_time": "2022-05-13T10:44:48.637Z"
      },
      {
        "duration": 418,
        "start_time": "2022-05-13T10:44:48.642Z"
      },
      {
        "duration": 12,
        "start_time": "2022-05-13T10:44:49.063Z"
      },
      {
        "duration": 21,
        "start_time": "2022-05-13T10:44:49.076Z"
      },
      {
        "duration": 12,
        "start_time": "2022-05-13T10:44:49.099Z"
      },
      {
        "duration": 16,
        "start_time": "2022-05-13T10:44:49.112Z"
      },
      {
        "duration": 14,
        "start_time": "2022-05-13T10:44:49.130Z"
      },
      {
        "duration": 40,
        "start_time": "2022-05-13T10:44:49.146Z"
      },
      {
        "duration": 107,
        "start_time": "2022-05-13T10:44:49.188Z"
      },
      {
        "duration": 22,
        "start_time": "2022-05-13T10:44:49.297Z"
      },
      {
        "duration": 70,
        "start_time": "2022-05-13T10:44:49.322Z"
      },
      {
        "duration": 19,
        "start_time": "2022-05-13T10:44:49.394Z"
      },
      {
        "duration": 62,
        "start_time": "2022-05-13T10:44:49.415Z"
      },
      {
        "duration": 10,
        "start_time": "2022-05-13T10:44:49.479Z"
      },
      {
        "duration": 11,
        "start_time": "2022-05-13T10:44:49.491Z"
      },
      {
        "duration": 548,
        "start_time": "2022-05-13T10:44:49.504Z"
      },
      {
        "duration": 97,
        "start_time": "2022-05-13T10:44:50.054Z"
      },
      {
        "duration": 221,
        "start_time": "2022-05-13T10:44:50.152Z"
      },
      {
        "duration": 69,
        "start_time": "2022-05-13T10:44:50.375Z"
      },
      {
        "duration": 83,
        "start_time": "2022-05-13T10:44:50.446Z"
      },
      {
        "duration": 101,
        "start_time": "2022-05-13T10:44:50.531Z"
      },
      {
        "duration": 38,
        "start_time": "2022-05-13T10:44:50.634Z"
      },
      {
        "duration": 36,
        "start_time": "2022-05-13T10:44:50.673Z"
      },
      {
        "duration": 26,
        "start_time": "2022-05-13T10:44:50.711Z"
      },
      {
        "duration": 80,
        "start_time": "2022-05-13T10:44:50.739Z"
      },
      {
        "duration": 23,
        "start_time": "2022-05-13T10:44:50.820Z"
      },
      {
        "duration": 46,
        "start_time": "2022-05-13T10:44:50.845Z"
      },
      {
        "duration": 220,
        "start_time": "2022-05-13T10:44:50.893Z"
      },
      {
        "duration": 8,
        "start_time": "2022-05-13T10:44:51.117Z"
      },
      {
        "duration": 43,
        "start_time": "2022-05-13T10:44:51.127Z"
      },
      {
        "duration": 30,
        "start_time": "2022-05-13T10:44:51.172Z"
      },
      {
        "duration": 8,
        "start_time": "2022-05-13T10:44:51.203Z"
      },
      {
        "duration": 7,
        "start_time": "2022-05-13T10:44:51.212Z"
      },
      {
        "duration": 1614,
        "start_time": "2022-05-13T10:44:51.221Z"
      },
      {
        "duration": 183,
        "start_time": "2022-05-13T10:44:52.837Z"
      },
      {
        "duration": 5,
        "start_time": "2022-05-13T10:45:49.329Z"
      },
      {
        "duration": 188,
        "start_time": "2022-05-13T10:47:05.641Z"
      },
      {
        "duration": 5,
        "start_time": "2022-05-13T10:47:17.498Z"
      },
      {
        "duration": 5,
        "start_time": "2022-05-13T10:50:15.809Z"
      },
      {
        "duration": 5,
        "start_time": "2022-05-13T10:50:50.163Z"
      },
      {
        "duration": 6,
        "start_time": "2022-05-13T10:50:57.821Z"
      },
      {
        "duration": 176,
        "start_time": "2022-05-13T10:51:34.776Z"
      },
      {
        "duration": 6,
        "start_time": "2022-05-13T10:53:38.265Z"
      },
      {
        "duration": 1230,
        "start_time": "2022-05-13T20:04:22.349Z"
      },
      {
        "duration": 431,
        "start_time": "2022-05-13T20:04:23.581Z"
      },
      {
        "duration": 15,
        "start_time": "2022-05-13T20:04:24.014Z"
      },
      {
        "duration": 13,
        "start_time": "2022-05-13T20:04:24.031Z"
      },
      {
        "duration": 9,
        "start_time": "2022-05-13T20:04:24.046Z"
      },
      {
        "duration": 14,
        "start_time": "2022-05-13T20:04:24.057Z"
      },
      {
        "duration": 14,
        "start_time": "2022-05-13T20:04:24.073Z"
      },
      {
        "duration": 46,
        "start_time": "2022-05-13T20:04:24.088Z"
      },
      {
        "duration": 119,
        "start_time": "2022-05-13T20:04:24.135Z"
      },
      {
        "duration": 23,
        "start_time": "2022-05-13T20:04:24.257Z"
      },
      {
        "duration": 84,
        "start_time": "2022-05-13T20:04:24.282Z"
      },
      {
        "duration": 19,
        "start_time": "2022-05-13T20:04:24.368Z"
      },
      {
        "duration": 69,
        "start_time": "2022-05-13T20:04:24.389Z"
      },
      {
        "duration": 11,
        "start_time": "2022-05-13T20:04:24.459Z"
      },
      {
        "duration": 11,
        "start_time": "2022-05-13T20:04:24.472Z"
      },
      {
        "duration": 576,
        "start_time": "2022-05-13T20:04:24.484Z"
      },
      {
        "duration": 107,
        "start_time": "2022-05-13T20:04:25.062Z"
      },
      {
        "duration": 155,
        "start_time": "2022-05-13T20:04:25.171Z"
      },
      {
        "duration": 74,
        "start_time": "2022-05-13T20:04:25.328Z"
      },
      {
        "duration": 94,
        "start_time": "2022-05-13T20:04:25.403Z"
      },
      {
        "duration": 110,
        "start_time": "2022-05-13T20:04:25.498Z"
      },
      {
        "duration": 40,
        "start_time": "2022-05-13T20:04:25.609Z"
      },
      {
        "duration": 37,
        "start_time": "2022-05-13T20:04:25.651Z"
      },
      {
        "duration": 47,
        "start_time": "2022-05-13T20:04:25.690Z"
      },
      {
        "duration": 14,
        "start_time": "2022-05-13T20:04:25.739Z"
      },
      {
        "duration": 10,
        "start_time": "2022-05-13T20:04:25.754Z"
      },
      {
        "duration": 79,
        "start_time": "2022-05-13T20:04:25.766Z"
      },
      {
        "duration": 23,
        "start_time": "2022-05-13T20:04:25.849Z"
      },
      {
        "duration": 30,
        "start_time": "2022-05-13T20:04:25.874Z"
      },
      {
        "duration": 34,
        "start_time": "2022-05-13T20:04:25.906Z"
      },
      {
        "duration": 9,
        "start_time": "2022-05-13T20:04:25.941Z"
      },
      {
        "duration": 7,
        "start_time": "2022-05-13T20:04:25.951Z"
      },
      {
        "duration": 267,
        "start_time": "2022-05-13T20:04:25.960Z"
      },
      {
        "duration": 217,
        "start_time": "2022-05-13T20:04:26.229Z"
      },
      {
        "duration": 32,
        "start_time": "2022-05-13T20:04:26.448Z"
      },
      {
        "duration": 31,
        "start_time": "2022-05-13T20:04:26.482Z"
      },
      {
        "duration": 8,
        "start_time": "2022-05-13T20:04:26.534Z"
      },
      {
        "duration": 8,
        "start_time": "2022-05-13T20:04:26.544Z"
      },
      {
        "duration": 21,
        "start_time": "2022-05-13T20:04:26.554Z"
      },
      {
        "duration": 1612,
        "start_time": "2022-05-13T20:04:26.576Z"
      },
      {
        "duration": 6,
        "start_time": "2022-05-13T20:04:28.190Z"
      },
      {
        "duration": 24,
        "start_time": "2022-05-13T20:04:28.198Z"
      },
      {
        "duration": 17,
        "start_time": "2022-05-13T20:04:28.223Z"
      },
      {
        "duration": 4,
        "start_time": "2022-05-13T21:06:26.275Z"
      },
      {
        "duration": 159,
        "start_time": "2022-05-13T21:45:57.679Z"
      },
      {
        "duration": 147,
        "start_time": "2022-05-13T21:46:05.104Z"
      },
      {
        "duration": 152,
        "start_time": "2022-05-13T21:46:34.730Z"
      },
      {
        "duration": 162,
        "start_time": "2022-05-13T21:48:09.808Z"
      },
      {
        "duration": 193,
        "start_time": "2022-05-13T21:48:19.857Z"
      },
      {
        "duration": 1250,
        "start_time": "2022-05-13T22:09:56.445Z"
      },
      {
        "duration": 446,
        "start_time": "2022-05-13T22:09:57.697Z"
      },
      {
        "duration": 17,
        "start_time": "2022-05-13T22:09:58.144Z"
      },
      {
        "duration": 16,
        "start_time": "2022-05-13T22:09:58.162Z"
      },
      {
        "duration": 13,
        "start_time": "2022-05-13T22:09:58.181Z"
      },
      {
        "duration": 12,
        "start_time": "2022-05-13T22:09:58.196Z"
      },
      {
        "duration": 30,
        "start_time": "2022-05-13T22:09:58.209Z"
      },
      {
        "duration": 29,
        "start_time": "2022-05-13T22:09:58.241Z"
      },
      {
        "duration": 135,
        "start_time": "2022-05-13T22:09:58.271Z"
      },
      {
        "duration": 32,
        "start_time": "2022-05-13T22:09:58.407Z"
      },
      {
        "duration": 93,
        "start_time": "2022-05-13T22:09:58.441Z"
      },
      {
        "duration": 21,
        "start_time": "2022-05-13T22:09:58.536Z"
      },
      {
        "duration": 53,
        "start_time": "2022-05-13T22:09:58.558Z"
      },
      {
        "duration": 12,
        "start_time": "2022-05-13T22:09:58.632Z"
      },
      {
        "duration": 10,
        "start_time": "2022-05-13T22:09:58.646Z"
      },
      {
        "duration": 618,
        "start_time": "2022-05-13T22:09:58.657Z"
      },
      {
        "duration": 101,
        "start_time": "2022-05-13T22:09:59.277Z"
      },
      {
        "duration": 156,
        "start_time": "2022-05-13T22:09:59.379Z"
      },
      {
        "duration": 76,
        "start_time": "2022-05-13T22:09:59.537Z"
      },
      {
        "duration": 90,
        "start_time": "2022-05-13T22:09:59.614Z"
      },
      {
        "duration": 106,
        "start_time": "2022-05-13T22:09:59.705Z"
      },
      {
        "duration": 39,
        "start_time": "2022-05-13T22:09:59.812Z"
      },
      {
        "duration": 36,
        "start_time": "2022-05-13T22:09:59.853Z"
      },
      {
        "duration": 50,
        "start_time": "2022-05-13T22:09:59.890Z"
      },
      {
        "duration": 12,
        "start_time": "2022-05-13T22:09:59.942Z"
      },
      {
        "duration": 4,
        "start_time": "2022-05-13T22:09:59.956Z"
      },
      {
        "duration": 87,
        "start_time": "2022-05-13T22:09:59.961Z"
      },
      {
        "duration": 22,
        "start_time": "2022-05-13T22:10:00.050Z"
      },
      {
        "duration": 30,
        "start_time": "2022-05-13T22:10:00.073Z"
      },
      {
        "duration": 29,
        "start_time": "2022-05-13T22:10:00.105Z"
      },
      {
        "duration": 5,
        "start_time": "2022-05-13T22:10:00.136Z"
      },
      {
        "duration": 11,
        "start_time": "2022-05-13T22:10:00.143Z"
      },
      {
        "duration": 256,
        "start_time": "2022-05-13T22:10:00.155Z"
      },
      {
        "duration": 210,
        "start_time": "2022-05-13T22:10:00.412Z"
      },
      {
        "duration": 37,
        "start_time": "2022-05-13T22:10:00.624Z"
      },
      {
        "duration": 32,
        "start_time": "2022-05-13T22:10:00.662Z"
      },
      {
        "duration": 8,
        "start_time": "2022-05-13T22:10:00.695Z"
      },
      {
        "duration": 33,
        "start_time": "2022-05-13T22:10:00.705Z"
      },
      {
        "duration": 21,
        "start_time": "2022-05-13T22:10:00.740Z"
      },
      {
        "duration": 1704,
        "start_time": "2022-05-13T22:10:00.763Z"
      },
      {
        "duration": 6,
        "start_time": "2022-05-13T22:10:02.471Z"
      },
      {
        "duration": 39,
        "start_time": "2022-05-13T22:10:02.478Z"
      },
      {
        "duration": 6,
        "start_time": "2022-05-13T22:10:02.519Z"
      },
      {
        "duration": 1541,
        "start_time": "2022-05-15T11:42:28.239Z"
      },
      {
        "duration": 424,
        "start_time": "2022-05-15T11:42:29.782Z"
      },
      {
        "duration": 19,
        "start_time": "2022-05-15T11:42:30.208Z"
      },
      {
        "duration": 37,
        "start_time": "2022-05-15T11:42:30.229Z"
      },
      {
        "duration": 49,
        "start_time": "2022-05-15T11:42:30.268Z"
      },
      {
        "duration": 102,
        "start_time": "2022-05-15T11:42:30.319Z"
      },
      {
        "duration": 55,
        "start_time": "2022-05-15T11:42:30.423Z"
      },
      {
        "duration": 87,
        "start_time": "2022-05-15T11:42:30.480Z"
      },
      {
        "duration": 125,
        "start_time": "2022-05-15T11:42:30.570Z"
      },
      {
        "duration": 45,
        "start_time": "2022-05-15T11:42:30.698Z"
      },
      {
        "duration": 98,
        "start_time": "2022-05-15T11:42:30.745Z"
      },
      {
        "duration": 22,
        "start_time": "2022-05-15T11:42:30.845Z"
      },
      {
        "duration": 105,
        "start_time": "2022-05-15T11:42:30.870Z"
      },
      {
        "duration": 12,
        "start_time": "2022-05-15T11:42:30.977Z"
      },
      {
        "duration": 32,
        "start_time": "2022-05-15T11:42:30.990Z"
      },
      {
        "duration": 25,
        "start_time": "2022-05-15T11:42:31.023Z"
      },
      {
        "duration": 123,
        "start_time": "2022-05-15T11:42:31.051Z"
      },
      {
        "duration": 10,
        "start_time": "2022-05-15T11:42:31.176Z"
      },
      {
        "duration": 84,
        "start_time": "2022-05-15T11:42:31.187Z"
      },
      {
        "duration": 14,
        "start_time": "2022-05-15T11:42:31.273Z"
      },
      {
        "duration": 92,
        "start_time": "2022-05-15T11:42:31.289Z"
      },
      {
        "duration": 27,
        "start_time": "2022-05-15T11:42:31.383Z"
      },
      {
        "duration": 55,
        "start_time": "2022-05-15T11:42:31.412Z"
      },
      {
        "duration": 11,
        "start_time": "2022-05-15T11:42:31.468Z"
      },
      {
        "duration": 59,
        "start_time": "2022-05-15T11:42:31.481Z"
      },
      {
        "duration": 5,
        "start_time": "2022-05-15T11:42:31.542Z"
      },
      {
        "duration": 28,
        "start_time": "2022-05-15T11:42:31.548Z"
      },
      {
        "duration": 34,
        "start_time": "2022-05-15T11:42:31.580Z"
      },
      {
        "duration": 46,
        "start_time": "2022-05-15T11:42:31.615Z"
      },
      {
        "duration": 45,
        "start_time": "2022-05-15T11:42:31.663Z"
      },
      {
        "duration": 22,
        "start_time": "2022-05-15T11:42:31.710Z"
      },
      {
        "duration": 25,
        "start_time": "2022-05-15T11:42:31.734Z"
      },
      {
        "duration": 30,
        "start_time": "2022-05-15T11:42:31.761Z"
      },
      {
        "duration": 35,
        "start_time": "2022-05-15T11:42:31.793Z"
      },
      {
        "duration": 73,
        "start_time": "2022-05-15T11:42:31.831Z"
      },
      {
        "duration": 20,
        "start_time": "2022-05-15T11:42:31.906Z"
      },
      {
        "duration": 36,
        "start_time": "2022-05-15T11:42:31.928Z"
      },
      {
        "duration": 9,
        "start_time": "2022-05-15T11:42:31.966Z"
      },
      {
        "duration": 36,
        "start_time": "2022-05-15T11:42:31.977Z"
      },
      {
        "duration": 33,
        "start_time": "2022-05-15T11:42:32.015Z"
      },
      {
        "duration": 312,
        "start_time": "2022-05-15T11:42:32.050Z"
      },
      {
        "duration": 192,
        "start_time": "2022-05-15T11:42:32.364Z"
      },
      {
        "duration": 36,
        "start_time": "2022-05-15T11:42:32.558Z"
      },
      {
        "duration": 209,
        "start_time": "2022-05-15T11:42:32.596Z"
      },
      {
        "duration": 205,
        "start_time": "2022-05-15T11:42:32.807Z"
      },
      {
        "duration": 201,
        "start_time": "2022-05-15T11:42:33.014Z"
      },
      {
        "duration": 189,
        "start_time": "2022-05-15T11:42:33.217Z"
      },
      {
        "duration": 5,
        "start_time": "2022-05-15T11:42:33.408Z"
      },
      {
        "duration": 27,
        "start_time": "2022-05-15T11:42:33.415Z"
      },
      {
        "duration": 38,
        "start_time": "2022-05-15T11:42:33.445Z"
      },
      {
        "duration": 34,
        "start_time": "2022-05-15T11:42:33.485Z"
      },
      {
        "duration": 29,
        "start_time": "2022-05-15T11:42:33.521Z"
      },
      {
        "duration": 36,
        "start_time": "2022-05-15T11:42:33.552Z"
      },
      {
        "duration": 5,
        "start_time": "2022-05-15T11:43:53.205Z"
      },
      {
        "duration": 14,
        "start_time": "2022-05-15T11:59:58.764Z"
      },
      {
        "duration": 4,
        "start_time": "2022-05-15T12:23:22.531Z"
      },
      {
        "duration": 1339,
        "start_time": "2022-05-15T12:33:58.969Z"
      },
      {
        "duration": 386,
        "start_time": "2022-05-15T12:34:00.310Z"
      },
      {
        "duration": 16,
        "start_time": "2022-05-15T12:34:00.697Z"
      },
      {
        "duration": 19,
        "start_time": "2022-05-15T12:34:00.715Z"
      },
      {
        "duration": 20,
        "start_time": "2022-05-15T12:34:00.736Z"
      },
      {
        "duration": 23,
        "start_time": "2022-05-15T12:34:00.758Z"
      },
      {
        "duration": 28,
        "start_time": "2022-05-15T12:34:00.783Z"
      },
      {
        "duration": 45,
        "start_time": "2022-05-15T12:34:00.812Z"
      },
      {
        "duration": 132,
        "start_time": "2022-05-15T12:34:00.858Z"
      },
      {
        "duration": 24,
        "start_time": "2022-05-15T12:34:00.992Z"
      },
      {
        "duration": 96,
        "start_time": "2022-05-15T12:34:01.018Z"
      },
      {
        "duration": 28,
        "start_time": "2022-05-15T12:34:01.116Z"
      },
      {
        "duration": 58,
        "start_time": "2022-05-15T12:34:01.145Z"
      },
      {
        "duration": 15,
        "start_time": "2022-05-15T12:34:01.207Z"
      },
      {
        "duration": 9,
        "start_time": "2022-05-15T12:34:01.242Z"
      },
      {
        "duration": 9,
        "start_time": "2022-05-15T12:34:01.252Z"
      },
      {
        "duration": 133,
        "start_time": "2022-05-15T12:34:01.263Z"
      },
      {
        "duration": 11,
        "start_time": "2022-05-15T12:34:01.398Z"
      },
      {
        "duration": 106,
        "start_time": "2022-05-15T12:34:01.411Z"
      },
      {
        "duration": 18,
        "start_time": "2022-05-15T12:34:01.519Z"
      },
      {
        "duration": 113,
        "start_time": "2022-05-15T12:34:01.539Z"
      },
      {
        "duration": 39,
        "start_time": "2022-05-15T12:34:01.654Z"
      },
      {
        "duration": 68,
        "start_time": "2022-05-15T12:34:01.696Z"
      },
      {
        "duration": 3,
        "start_time": "2022-05-15T12:34:01.766Z"
      },
      {
        "duration": 123,
        "start_time": "2022-05-15T12:34:01.771Z"
      },
      {
        "duration": 6,
        "start_time": "2022-05-15T12:34:01.896Z"
      },
      {
        "duration": 44,
        "start_time": "2022-05-15T12:34:01.904Z"
      },
      {
        "duration": 57,
        "start_time": "2022-05-15T12:34:01.950Z"
      },
      {
        "duration": 62,
        "start_time": "2022-05-15T12:34:02.010Z"
      },
      {
        "duration": 47,
        "start_time": "2022-05-15T12:34:02.075Z"
      },
      {
        "duration": 24,
        "start_time": "2022-05-15T12:34:02.124Z"
      },
      {
        "duration": 24,
        "start_time": "2022-05-15T12:34:02.150Z"
      },
      {
        "duration": 31,
        "start_time": "2022-05-15T12:34:02.177Z"
      },
      {
        "duration": 6,
        "start_time": "2022-05-15T12:34:02.210Z"
      },
      {
        "duration": 83,
        "start_time": "2022-05-15T12:34:02.218Z"
      },
      {
        "duration": 23,
        "start_time": "2022-05-15T12:34:02.303Z"
      },
      {
        "duration": 64,
        "start_time": "2022-05-15T12:34:02.328Z"
      },
      {
        "duration": 16,
        "start_time": "2022-05-15T12:34:02.394Z"
      },
      {
        "duration": 27,
        "start_time": "2022-05-15T12:34:02.411Z"
      },
      {
        "duration": 20,
        "start_time": "2022-05-15T12:34:02.440Z"
      },
      {
        "duration": 196,
        "start_time": "2022-05-15T12:34:02.463Z"
      },
      {
        "duration": 184,
        "start_time": "2022-05-15T12:34:02.660Z"
      },
      {
        "duration": 34,
        "start_time": "2022-05-15T12:34:02.846Z"
      },
      {
        "duration": 194,
        "start_time": "2022-05-15T12:34:02.882Z"
      },
      {
        "duration": 175,
        "start_time": "2022-05-15T12:34:03.078Z"
      },
      {
        "duration": 190,
        "start_time": "2022-05-15T12:34:03.255Z"
      },
      {
        "duration": 184,
        "start_time": "2022-05-15T12:34:03.447Z"
      },
      {
        "duration": 11,
        "start_time": "2022-05-15T12:34:03.633Z"
      },
      {
        "duration": 10,
        "start_time": "2022-05-15T12:34:03.646Z"
      },
      {
        "duration": 22,
        "start_time": "2022-05-15T12:34:03.658Z"
      },
      {
        "duration": 11,
        "start_time": "2022-05-15T12:34:03.682Z"
      },
      {
        "duration": 7,
        "start_time": "2022-05-15T12:34:03.695Z"
      },
      {
        "duration": 20,
        "start_time": "2022-05-15T12:34:03.703Z"
      },
      {
        "duration": 1164,
        "start_time": "2022-05-15T14:28:37.094Z"
      },
      {
        "duration": 382,
        "start_time": "2022-05-15T14:28:38.260Z"
      },
      {
        "duration": 8,
        "start_time": "2022-05-15T14:28:38.647Z"
      },
      {
        "duration": 18,
        "start_time": "2022-05-15T14:28:38.656Z"
      },
      {
        "duration": 4,
        "start_time": "2022-05-15T14:28:38.676Z"
      },
      {
        "duration": 12,
        "start_time": "2022-05-15T14:28:38.681Z"
      },
      {
        "duration": 5,
        "start_time": "2022-05-15T14:28:38.695Z"
      },
      {
        "duration": 11,
        "start_time": "2022-05-15T14:28:38.702Z"
      },
      {
        "duration": 4,
        "start_time": "2022-05-15T14:28:38.715Z"
      },
      {
        "duration": 33,
        "start_time": "2022-05-15T14:28:38.720Z"
      },
      {
        "duration": 4,
        "start_time": "2022-05-15T14:28:38.755Z"
      },
      {
        "duration": 15,
        "start_time": "2022-05-15T14:28:38.760Z"
      },
      {
        "duration": 28,
        "start_time": "2022-05-15T14:28:38.776Z"
      },
      {
        "duration": 124,
        "start_time": "2022-05-15T14:28:38.807Z"
      },
      {
        "duration": 35,
        "start_time": "2022-05-15T14:28:38.933Z"
      },
      {
        "duration": 62,
        "start_time": "2022-05-15T14:28:38.970Z"
      },
      {
        "duration": 35,
        "start_time": "2022-05-15T14:28:39.033Z"
      },
      {
        "duration": 50,
        "start_time": "2022-05-15T14:28:39.070Z"
      },
      {
        "duration": 26,
        "start_time": "2022-05-15T14:28:39.121Z"
      },
      {
        "duration": 20,
        "start_time": "2022-05-15T14:28:39.149Z"
      },
      {
        "duration": 2,
        "start_time": "2022-05-15T14:28:39.171Z"
      },
      {
        "duration": 92,
        "start_time": "2022-05-15T14:28:39.175Z"
      },
      {
        "duration": 8,
        "start_time": "2022-05-15T14:28:39.269Z"
      },
      {
        "duration": 54,
        "start_time": "2022-05-15T14:28:39.279Z"
      },
      {
        "duration": 25,
        "start_time": "2022-05-15T14:28:39.335Z"
      },
      {
        "duration": 49,
        "start_time": "2022-05-15T14:28:39.362Z"
      },
      {
        "duration": 37,
        "start_time": "2022-05-15T14:28:39.413Z"
      },
      {
        "duration": 26,
        "start_time": "2022-05-15T14:28:39.452Z"
      },
      {
        "duration": 2,
        "start_time": "2022-05-15T14:28:39.480Z"
      },
      {
        "duration": 27,
        "start_time": "2022-05-15T14:28:39.484Z"
      },
      {
        "duration": 5,
        "start_time": "2022-05-15T14:28:39.513Z"
      },
      {
        "duration": 5,
        "start_time": "2022-05-15T14:28:39.552Z"
      },
      {
        "duration": 16,
        "start_time": "2022-05-15T14:28:39.559Z"
      },
      {
        "duration": 7,
        "start_time": "2022-05-15T14:28:39.577Z"
      },
      {
        "duration": 9,
        "start_time": "2022-05-15T14:28:39.586Z"
      },
      {
        "duration": 12,
        "start_time": "2022-05-15T14:28:39.596Z"
      },
      {
        "duration": 6,
        "start_time": "2022-05-15T14:28:39.609Z"
      },
      {
        "duration": 15,
        "start_time": "2022-05-15T14:28:39.616Z"
      },
      {
        "duration": 4,
        "start_time": "2022-05-15T14:28:39.633Z"
      },
      {
        "duration": 18,
        "start_time": "2022-05-15T14:28:39.638Z"
      },
      {
        "duration": 8239,
        "start_time": "2022-05-15T14:28:39.661Z"
      },
      {
        "duration": 17,
        "start_time": "2022-05-15T14:28:47.902Z"
      },
      {
        "duration": 41,
        "start_time": "2022-05-15T14:28:47.921Z"
      },
      {
        "duration": 8,
        "start_time": "2022-05-15T14:28:47.964Z"
      },
      {
        "duration": 10,
        "start_time": "2022-05-15T14:28:47.974Z"
      },
      {
        "duration": 8,
        "start_time": "2022-05-15T14:28:47.986Z"
      },
      {
        "duration": 234,
        "start_time": "2022-05-15T14:28:47.996Z"
      },
      {
        "duration": 187,
        "start_time": "2022-05-15T14:28:48.231Z"
      },
      {
        "duration": 44,
        "start_time": "2022-05-15T14:28:48.420Z"
      },
      {
        "duration": 201,
        "start_time": "2022-05-15T14:28:48.466Z"
      },
      {
        "duration": 188,
        "start_time": "2022-05-15T14:28:48.668Z"
      },
      {
        "duration": 203,
        "start_time": "2022-05-15T14:28:48.858Z"
      },
      {
        "duration": 182,
        "start_time": "2022-05-15T14:28:49.063Z"
      },
      {
        "duration": 7,
        "start_time": "2022-05-15T14:28:49.248Z"
      },
      {
        "duration": 25,
        "start_time": "2022-05-15T14:28:49.257Z"
      },
      {
        "duration": 23,
        "start_time": "2022-05-15T14:28:49.283Z"
      },
      {
        "duration": 24,
        "start_time": "2022-05-15T14:28:49.308Z"
      },
      {
        "duration": 29,
        "start_time": "2022-05-15T14:28:49.333Z"
      },
      {
        "duration": 15,
        "start_time": "2022-05-15T14:31:37.356Z"
      },
      {
        "duration": 1237,
        "start_time": "2022-05-15T14:36:37.090Z"
      },
      {
        "duration": 400,
        "start_time": "2022-05-15T14:36:38.328Z"
      },
      {
        "duration": 6,
        "start_time": "2022-05-15T14:36:38.730Z"
      },
      {
        "duration": 30,
        "start_time": "2022-05-15T14:36:38.738Z"
      },
      {
        "duration": 9,
        "start_time": "2022-05-15T14:36:38.770Z"
      },
      {
        "duration": 18,
        "start_time": "2022-05-15T14:36:38.781Z"
      },
      {
        "duration": 20,
        "start_time": "2022-05-15T14:36:38.801Z"
      },
      {
        "duration": 16,
        "start_time": "2022-05-15T14:36:38.823Z"
      },
      {
        "duration": 31,
        "start_time": "2022-05-15T14:36:38.841Z"
      },
      {
        "duration": 18,
        "start_time": "2022-05-15T14:36:38.875Z"
      },
      {
        "duration": 5,
        "start_time": "2022-05-15T14:36:38.895Z"
      },
      {
        "duration": 27,
        "start_time": "2022-05-15T14:36:38.902Z"
      },
      {
        "duration": 49,
        "start_time": "2022-05-15T14:36:38.931Z"
      },
      {
        "duration": 119,
        "start_time": "2022-05-15T14:36:38.982Z"
      },
      {
        "duration": 21,
        "start_time": "2022-05-15T14:36:39.103Z"
      },
      {
        "duration": 98,
        "start_time": "2022-05-15T14:36:39.126Z"
      },
      {
        "duration": 29,
        "start_time": "2022-05-15T14:36:39.226Z"
      },
      {
        "duration": 73,
        "start_time": "2022-05-15T14:36:39.257Z"
      },
      {
        "duration": 14,
        "start_time": "2022-05-15T14:36:39.332Z"
      },
      {
        "duration": 25,
        "start_time": "2022-05-15T14:36:39.348Z"
      },
      {
        "duration": 20,
        "start_time": "2022-05-15T14:36:39.374Z"
      },
      {
        "duration": 104,
        "start_time": "2022-05-15T14:36:39.396Z"
      },
      {
        "duration": 9,
        "start_time": "2022-05-15T14:36:39.502Z"
      },
      {
        "duration": 102,
        "start_time": "2022-05-15T14:36:39.513Z"
      },
      {
        "duration": 19,
        "start_time": "2022-05-15T14:36:39.617Z"
      },
      {
        "duration": 66,
        "start_time": "2022-05-15T14:36:39.638Z"
      },
      {
        "duration": 22,
        "start_time": "2022-05-15T14:36:39.706Z"
      },
      {
        "duration": 42,
        "start_time": "2022-05-15T14:36:39.746Z"
      },
      {
        "duration": 2,
        "start_time": "2022-05-15T14:36:39.791Z"
      },
      {
        "duration": 65,
        "start_time": "2022-05-15T14:36:39.795Z"
      },
      {
        "duration": 5,
        "start_time": "2022-05-15T14:36:39.862Z"
      },
      {
        "duration": 26,
        "start_time": "2022-05-15T14:36:39.868Z"
      },
      {
        "duration": 20,
        "start_time": "2022-05-15T14:36:39.895Z"
      },
      {
        "duration": 22,
        "start_time": "2022-05-15T14:36:39.916Z"
      },
      {
        "duration": 30,
        "start_time": "2022-05-15T14:36:39.940Z"
      },
      {
        "duration": 20,
        "start_time": "2022-05-15T14:36:39.972Z"
      },
      {
        "duration": 34,
        "start_time": "2022-05-15T14:36:39.994Z"
      },
      {
        "duration": 42,
        "start_time": "2022-05-15T14:36:40.030Z"
      },
      {
        "duration": 18,
        "start_time": "2022-05-15T14:36:40.073Z"
      },
      {
        "duration": 27,
        "start_time": "2022-05-15T14:36:40.093Z"
      },
      {
        "duration": 10177,
        "start_time": "2022-05-15T14:36:40.122Z"
      },
      {
        "duration": 22,
        "start_time": "2022-05-15T14:36:50.301Z"
      },
      {
        "duration": 47,
        "start_time": "2022-05-15T14:36:50.325Z"
      },
      {
        "duration": 7,
        "start_time": "2022-05-15T14:36:50.374Z"
      },
      {
        "duration": 7,
        "start_time": "2022-05-15T14:36:50.383Z"
      },
      {
        "duration": 6,
        "start_time": "2022-05-15T14:36:50.392Z"
      },
      {
        "duration": 236,
        "start_time": "2022-05-15T14:36:50.400Z"
      },
      {
        "duration": 190,
        "start_time": "2022-05-15T14:36:50.638Z"
      },
      {
        "duration": 44,
        "start_time": "2022-05-15T14:36:50.830Z"
      },
      {
        "duration": 237,
        "start_time": "2022-05-15T14:36:50.876Z"
      },
      {
        "duration": 179,
        "start_time": "2022-05-15T14:36:51.115Z"
      },
      {
        "duration": 198,
        "start_time": "2022-05-15T14:36:51.296Z"
      },
      {
        "duration": 188,
        "start_time": "2022-05-15T14:36:51.496Z"
      },
      {
        "duration": 5,
        "start_time": "2022-05-15T14:36:51.685Z"
      },
      {
        "duration": 22,
        "start_time": "2022-05-15T14:36:51.692Z"
      },
      {
        "duration": 22,
        "start_time": "2022-05-15T14:36:51.716Z"
      },
      {
        "duration": 21,
        "start_time": "2022-05-15T14:36:51.740Z"
      },
      {
        "duration": 21,
        "start_time": "2022-05-15T14:36:51.763Z"
      }
    ],
    "kernelspec": {
      "name": "python",
      "display_name": "Pyolite",
      "language": "python"
    },
    "language_info": {
      "codemirror_mode": {
        "name": "python",
        "version": 3
      },
      "file_extension": ".py",
      "mimetype": "text/x-python",
      "name": "python",
      "nbconvert_exporter": "python",
      "pygments_lexer": "ipython3",
      "version": "3.8"
    },
    "toc": {
      "base_numbering": 1,
      "nav_menu": {},
      "number_sections": true,
      "sideBar": true,
      "skip_h1_title": true,
      "title_cell": "Table of Contents",
      "title_sidebar": "Contents",
      "toc_cell": true,
      "toc_position": {},
      "toc_section_display": true,
      "toc_window_display": false
    }
  },
  "nbformat_minor": 4,
  "nbformat": 4,
  "cells": [
    {
      "cell_type": "markdown",
      "source": "# Определение перспективного тарифа для телеком-компании",
      "metadata": {}
    },
    {
      "cell_type": "markdown",
      "source": "Компания «Мегалайн» предлагает клиентам два тарифных плана: «Смарт» и «Ультра». Чтобы скорректировать рекламный бюджет, коммерческий департамент хочет понять, какой тариф приносит больше денег.\n\nВ нашем распоряжении данные 500 пользователей «Мегалайна»: кто они, откуда, каким тарифом пользуются, сколько звонков и сообщений каждый отправил за 2018 год. Нужно проанализировать поведение клиентов и сделать вывод — какой тариф лучше.",
      "metadata": {}
    },
    {
      "cell_type": "markdown",
      "source": "### Описание тарифов\n\nТариф «Смарт»:\n- Ежемесячная плата: 550 рублей\n- Включено 500 минут разговора, 50 сообщений и 15 Гб интернет-трафика\nСтоимость услуг сверх тарифного пакета:\n- минута разговора: 3 рубля\n- сообщение: 3 рубля\n- 1 Гб интернет-трафика: 200 рублей\n\nТариф «Ультра»:\n- Ежемесячная плата: 1950 рублей\n- Включено 3000 минут разговора, 1000 сообщений и 30 Гб интернет-трафика\nСтоимость услуг сверх тарифного пакета:\n- минута разговора: 1 рубль\n- сообщение: 1 рубль\n- 1 Гб интернет-трафика: 150 рублей",
      "metadata": {}
    },
    {
      "cell_type": "markdown",
      "source": "### Описание данных:\n\nТаблица users (информация о пользователях):\n- user_id — уникальный идентификатор пользователя\n- first_name — имя пользователя\n- last_name — фамилия пользователя\n- age — возраст пользователя (годы)\n- reg_date — дата подключения тарифа (день, месяц, год)\n- churn_date — дата прекращения пользования тарифом (если значение пропущено, то тариф ещё действовал на момент выгрузки данных)\n- city — город проживания пользователя\n- tariff — название тарифного плана\n\nТаблица calls (информация о звонках):\n- id — уникальный номер звонка\n- call_date — дата звонка\n- duration — длительность звонка в минутах\n- user_id — идентификатор пользователя, сделавшего звонок\n\nТаблица messages (информация о сообщениях):\n- id — уникальный номер сообщения\n- message_date — дата сообщения\n- user_id — идентификатор пользователя, отправившего сообщение\n\nТаблица internet (информация об интернет-сессиях):\n- id — уникальный номер сессии\n- mb_used — объём потраченного за сессию интернет-трафика (в мегабайтах)\n- session_date — дата интернет-сессии\n- user_id — идентификатор пользователя\n\nТаблица tariffs (информация о тарифах):\n- tariff_name — название тарифа\n- rub_monthly_fee — ежемесячная абонентская плата в рублях\n- minutes_included — количество минут разговора в месяц, включённых в абонентскую плату\n- messages_included — количество сообщений в месяц, включённых в абонентскую плату\n- mb_per_month_included — объём интернет-трафика, включённого в абонентскую плату (в мегабайтах)\n- rub_per_minute — стоимость минуты разговора сверх тарифного пакета (например, если в тарифе 100 минут разговора в месяц, то со 101 минуты будет взиматься плата)\n- rub_per_message — стоимость отправки сообщения сверх тарифного пакета\n- rub_per_gb — стоимость дополнительного гигабайта интернет-трафика сверх тарифного пакета (1 гигабайт = 1024 мегабайта)\n\nТаблица revenue (информация об ежемесячной выручки с каждого пользователя): \n- user_id — идентификатор пользователя\t\n- month — месяц\n- internet_mb — объем интернет-трафика в мегабайтах\t\n- internet_gb —\tбъем интернет-трафика в гигабайтах\n- messages_count —\tколичество сообщений\n- tariff — тариф\t\n- calls_count —\tколичество звонков\n- calls_sum — продолжительность звонков\t\n- calls_min — продолжительность звонков, округленная до целых чисел в большую сторону (в соотвествии с тарифом)\t\n- revenue — выручка",
      "metadata": {}
    },
    {
      "cell_type": "markdown",
      "source": "<h1>Table of Contents<span class=\"tocSkip\"></span></h1>\n<div class=\"toc\"><ul class=\"toc-item\"><li><ul class=\"toc-item\"><li><span><a href=\"#Описание-тарифов\" data-toc-modified-id=\"Описание-тарифов-0.1\"><span class=\"toc-item-num\">0.1&nbsp;&nbsp;</span>Описание тарифов</a></span></li><li><span><a href=\"#Описание-данных:\" data-toc-modified-id=\"Описание-данных:-0.2\"><span class=\"toc-item-num\">0.2&nbsp;&nbsp;</span>Описание данных:</a></span></li></ul></li><li><span><a href=\"#Знакомство-с-данными\" data-toc-modified-id=\"Знакомство-с-данными-1\"><span class=\"toc-item-num\">1&nbsp;&nbsp;</span>Знакомство с данными</a></span></li><li><span><a href=\"#Подгтовка-данных\" data-toc-modified-id=\"Подгтовка-данных-2\"><span class=\"toc-item-num\">2&nbsp;&nbsp;</span>Подгтовка данных</a></span></li><li><span><a href=\"#Анализ-данных\" data-toc-modified-id=\"Анализ-данных-3\"><span class=\"toc-item-num\">3&nbsp;&nbsp;</span>Анализ данных</a></span></li><li><span><a href=\"#Проверка-гипотез\" data-toc-modified-id=\"Проверка-гипотез-4\"><span class=\"toc-item-num\">4&nbsp;&nbsp;</span>Проверка гипотез</a></span><ul class=\"toc-item\"><li><span><a href=\"#Гипотеза:-средняя-выручка-пользователей-тарифов-«Ультра»-и-«Смарт»-различаются\" data-toc-modified-id=\"Гипотеза:-средняя-выручка-пользователей-тарифов-«Ультра»-и-«Смарт»-различаются-4.1\"><span class=\"toc-item-num\">4.1&nbsp;&nbsp;</span>Гипотеза: средняя выручка пользователей тарифов «Ультра» и «Смарт» различаются</a></span></li><li><span><a href=\"#Гипотеза:-средняя-выручка-пользователей-из-Москвы-отличается-от-выручки-пользователей-из-других-регионов\" data-toc-modified-id=\"Гипотеза:-средняя-выручка-пользователей-из-Москвы-отличается-от-выручки-пользователей-из-других-регионов-4.2\"><span class=\"toc-item-num\">4.2&nbsp;&nbsp;</span>Гипотеза: средняя выручка пользователей из Москвы отличается от выручки пользователей из других регионов</a></span></li></ul></li><li><span><a href=\"#Вывод\" data-toc-modified-id=\"Вывод-5\"><span class=\"toc-item-num\">5&nbsp;&nbsp;</span>Вывод</a></span></li></ul></div>",
      "metadata": {
        "toc": true
      }
    },
    {
      "cell_type": "markdown",
      "source": "## Знакомство с данными",
      "metadata": {}
    },
    {
      "cell_type": "code",
      "source": "import pandas as pd\nimport numpy as np\nimport matplotlib.pyplot as plt\nimport seaborn as sns \nfrom scipy import stats as st\nimport math",
      "metadata": {},
      "execution_count": 1,
      "outputs": []
    },
    {
      "cell_type": "code",
      "source": "calls = pd.read_csv('/datasets/calls.csv')\ninternet = pd.read_csv('/datasets/internet.csv')\nmessages = pd.read_csv('/datasets/messages.csv')\ntariffs = pd.read_csv('/datasets/tariffs.csv')\nusers = pd.read_csv('/datasets/users.csv')",
      "metadata": {},
      "execution_count": 2,
      "outputs": []
    },
    {
      "cell_type": "code",
      "source": "calls.shape",
      "metadata": {},
      "execution_count": 3,
      "outputs": [
        {
          "execution_count": 3,
          "output_type": "execute_result",
          "data": {
            "text/plain": [
              "(202607, 4)"
            ]
          },
          "metadata": {}
        }
      ]
    },
    {
      "cell_type": "code",
      "source": "calls",
      "metadata": {},
      "execution_count": 4,
      "outputs": [
        {
          "execution_count": 4,
          "output_type": "execute_result",
          "data": {
            "text/html": [
              "<div>\n",
              "<style scoped>\n",
              "    .dataframe tbody tr th:only-of-type {\n",
              "        vertical-align: middle;\n",
              "    }\n",
              "\n",
              "    .dataframe tbody tr th {\n",
              "        vertical-align: top;\n",
              "    }\n",
              "\n",
              "    .dataframe thead th {\n",
              "        text-align: right;\n",
              "    }\n",
              "</style>\n",
              "<table border=\"1\" class=\"dataframe\">\n",
              "  <thead>\n",
              "    <tr style=\"text-align: right;\">\n",
              "      <th></th>\n",
              "      <th>id</th>\n",
              "      <th>call_date</th>\n",
              "      <th>duration</th>\n",
              "      <th>user_id</th>\n",
              "    </tr>\n",
              "  </thead>\n",
              "  <tbody>\n",
              "    <tr>\n",
              "      <th>0</th>\n",
              "      <td>1000_0</td>\n",
              "      <td>2018-07-25</td>\n",
              "      <td>0.00</td>\n",
              "      <td>1000</td>\n",
              "    </tr>\n",
              "    <tr>\n",
              "      <th>1</th>\n",
              "      <td>1000_1</td>\n",
              "      <td>2018-08-17</td>\n",
              "      <td>0.00</td>\n",
              "      <td>1000</td>\n",
              "    </tr>\n",
              "    <tr>\n",
              "      <th>2</th>\n",
              "      <td>1000_2</td>\n",
              "      <td>2018-06-11</td>\n",
              "      <td>2.85</td>\n",
              "      <td>1000</td>\n",
              "    </tr>\n",
              "    <tr>\n",
              "      <th>3</th>\n",
              "      <td>1000_3</td>\n",
              "      <td>2018-09-21</td>\n",
              "      <td>13.80</td>\n",
              "      <td>1000</td>\n",
              "    </tr>\n",
              "    <tr>\n",
              "      <th>4</th>\n",
              "      <td>1000_4</td>\n",
              "      <td>2018-12-15</td>\n",
              "      <td>5.18</td>\n",
              "      <td>1000</td>\n",
              "    </tr>\n",
              "    <tr>\n",
              "      <th>...</th>\n",
              "      <td>...</td>\n",
              "      <td>...</td>\n",
              "      <td>...</td>\n",
              "      <td>...</td>\n",
              "    </tr>\n",
              "    <tr>\n",
              "      <th>202602</th>\n",
              "      <td>1499_215</td>\n",
              "      <td>2018-12-26</td>\n",
              "      <td>0.76</td>\n",
              "      <td>1499</td>\n",
              "    </tr>\n",
              "    <tr>\n",
              "      <th>202603</th>\n",
              "      <td>1499_216</td>\n",
              "      <td>2018-10-18</td>\n",
              "      <td>18.83</td>\n",
              "      <td>1499</td>\n",
              "    </tr>\n",
              "    <tr>\n",
              "      <th>202604</th>\n",
              "      <td>1499_217</td>\n",
              "      <td>2018-11-10</td>\n",
              "      <td>10.81</td>\n",
              "      <td>1499</td>\n",
              "    </tr>\n",
              "    <tr>\n",
              "      <th>202605</th>\n",
              "      <td>1499_218</td>\n",
              "      <td>2018-10-06</td>\n",
              "      <td>4.27</td>\n",
              "      <td>1499</td>\n",
              "    </tr>\n",
              "    <tr>\n",
              "      <th>202606</th>\n",
              "      <td>1499_219</td>\n",
              "      <td>2018-12-14</td>\n",
              "      <td>19.62</td>\n",
              "      <td>1499</td>\n",
              "    </tr>\n",
              "  </tbody>\n",
              "</table>\n",
              "<p>202607 rows × 4 columns</p>\n",
              "</div>"
            ],
            "text/plain": [
              "              id   call_date  duration  user_id\n",
              "0         1000_0  2018-07-25      0.00     1000\n",
              "1         1000_1  2018-08-17      0.00     1000\n",
              "2         1000_2  2018-06-11      2.85     1000\n",
              "3         1000_3  2018-09-21     13.80     1000\n",
              "4         1000_4  2018-12-15      5.18     1000\n",
              "...          ...         ...       ...      ...\n",
              "202602  1499_215  2018-12-26      0.76     1499\n",
              "202603  1499_216  2018-10-18     18.83     1499\n",
              "202604  1499_217  2018-11-10     10.81     1499\n",
              "202605  1499_218  2018-10-06      4.27     1499\n",
              "202606  1499_219  2018-12-14     19.62     1499\n",
              "\n",
              "[202607 rows x 4 columns]"
            ]
          },
          "metadata": {}
        }
      ]
    },
    {
      "cell_type": "code",
      "source": "internet.shape",
      "metadata": {},
      "execution_count": 5,
      "outputs": [
        {
          "execution_count": 5,
          "output_type": "execute_result",
          "data": {
            "text/plain": [
              "(149396, 5)"
            ]
          },
          "metadata": {}
        }
      ]
    },
    {
      "cell_type": "code",
      "source": "internet",
      "metadata": {},
      "execution_count": 6,
      "outputs": [
        {
          "execution_count": 6,
          "output_type": "execute_result",
          "data": {
            "text/html": [
              "<div>\n",
              "<style scoped>\n",
              "    .dataframe tbody tr th:only-of-type {\n",
              "        vertical-align: middle;\n",
              "    }\n",
              "\n",
              "    .dataframe tbody tr th {\n",
              "        vertical-align: top;\n",
              "    }\n",
              "\n",
              "    .dataframe thead th {\n",
              "        text-align: right;\n",
              "    }\n",
              "</style>\n",
              "<table border=\"1\" class=\"dataframe\">\n",
              "  <thead>\n",
              "    <tr style=\"text-align: right;\">\n",
              "      <th></th>\n",
              "      <th>Unnamed: 0</th>\n",
              "      <th>id</th>\n",
              "      <th>mb_used</th>\n",
              "      <th>session_date</th>\n",
              "      <th>user_id</th>\n",
              "    </tr>\n",
              "  </thead>\n",
              "  <tbody>\n",
              "    <tr>\n",
              "      <th>0</th>\n",
              "      <td>0</td>\n",
              "      <td>1000_0</td>\n",
              "      <td>112.95</td>\n",
              "      <td>2018-11-25</td>\n",
              "      <td>1000</td>\n",
              "    </tr>\n",
              "    <tr>\n",
              "      <th>1</th>\n",
              "      <td>1</td>\n",
              "      <td>1000_1</td>\n",
              "      <td>1052.81</td>\n",
              "      <td>2018-09-07</td>\n",
              "      <td>1000</td>\n",
              "    </tr>\n",
              "    <tr>\n",
              "      <th>2</th>\n",
              "      <td>2</td>\n",
              "      <td>1000_2</td>\n",
              "      <td>1197.26</td>\n",
              "      <td>2018-06-25</td>\n",
              "      <td>1000</td>\n",
              "    </tr>\n",
              "    <tr>\n",
              "      <th>3</th>\n",
              "      <td>3</td>\n",
              "      <td>1000_3</td>\n",
              "      <td>550.27</td>\n",
              "      <td>2018-08-22</td>\n",
              "      <td>1000</td>\n",
              "    </tr>\n",
              "    <tr>\n",
              "      <th>4</th>\n",
              "      <td>4</td>\n",
              "      <td>1000_4</td>\n",
              "      <td>302.56</td>\n",
              "      <td>2018-09-24</td>\n",
              "      <td>1000</td>\n",
              "    </tr>\n",
              "    <tr>\n",
              "      <th>...</th>\n",
              "      <td>...</td>\n",
              "      <td>...</td>\n",
              "      <td>...</td>\n",
              "      <td>...</td>\n",
              "      <td>...</td>\n",
              "    </tr>\n",
              "    <tr>\n",
              "      <th>149391</th>\n",
              "      <td>149391</td>\n",
              "      <td>1499_152</td>\n",
              "      <td>318.90</td>\n",
              "      <td>2018-10-03</td>\n",
              "      <td>1499</td>\n",
              "    </tr>\n",
              "    <tr>\n",
              "      <th>149392</th>\n",
              "      <td>149392</td>\n",
              "      <td>1499_153</td>\n",
              "      <td>490.13</td>\n",
              "      <td>2018-12-14</td>\n",
              "      <td>1499</td>\n",
              "    </tr>\n",
              "    <tr>\n",
              "      <th>149393</th>\n",
              "      <td>149393</td>\n",
              "      <td>1499_154</td>\n",
              "      <td>0.00</td>\n",
              "      <td>2018-10-27</td>\n",
              "      <td>1499</td>\n",
              "    </tr>\n",
              "    <tr>\n",
              "      <th>149394</th>\n",
              "      <td>149394</td>\n",
              "      <td>1499_155</td>\n",
              "      <td>1246.32</td>\n",
              "      <td>2018-11-26</td>\n",
              "      <td>1499</td>\n",
              "    </tr>\n",
              "    <tr>\n",
              "      <th>149395</th>\n",
              "      <td>149395</td>\n",
              "      <td>1499_156</td>\n",
              "      <td>544.37</td>\n",
              "      <td>2018-10-26</td>\n",
              "      <td>1499</td>\n",
              "    </tr>\n",
              "  </tbody>\n",
              "</table>\n",
              "<p>149396 rows × 5 columns</p>\n",
              "</div>"
            ],
            "text/plain": [
              "        Unnamed: 0        id  mb_used session_date  user_id\n",
              "0                0    1000_0   112.95   2018-11-25     1000\n",
              "1                1    1000_1  1052.81   2018-09-07     1000\n",
              "2                2    1000_2  1197.26   2018-06-25     1000\n",
              "3                3    1000_3   550.27   2018-08-22     1000\n",
              "4                4    1000_4   302.56   2018-09-24     1000\n",
              "...            ...       ...      ...          ...      ...\n",
              "149391      149391  1499_152   318.90   2018-10-03     1499\n",
              "149392      149392  1499_153   490.13   2018-12-14     1499\n",
              "149393      149393  1499_154     0.00   2018-10-27     1499\n",
              "149394      149394  1499_155  1246.32   2018-11-26     1499\n",
              "149395      149395  1499_156   544.37   2018-10-26     1499\n",
              "\n",
              "[149396 rows x 5 columns]"
            ]
          },
          "metadata": {}
        }
      ]
    },
    {
      "cell_type": "code",
      "source": "messages.shape",
      "metadata": {},
      "execution_count": 7,
      "outputs": [
        {
          "execution_count": 7,
          "output_type": "execute_result",
          "data": {
            "text/plain": [
              "(123036, 3)"
            ]
          },
          "metadata": {}
        }
      ]
    },
    {
      "cell_type": "code",
      "source": "messages",
      "metadata": {
        "scrolled": true
      },
      "execution_count": 8,
      "outputs": [
        {
          "execution_count": 8,
          "output_type": "execute_result",
          "data": {
            "text/html": [
              "<div>\n",
              "<style scoped>\n",
              "    .dataframe tbody tr th:only-of-type {\n",
              "        vertical-align: middle;\n",
              "    }\n",
              "\n",
              "    .dataframe tbody tr th {\n",
              "        vertical-align: top;\n",
              "    }\n",
              "\n",
              "    .dataframe thead th {\n",
              "        text-align: right;\n",
              "    }\n",
              "</style>\n",
              "<table border=\"1\" class=\"dataframe\">\n",
              "  <thead>\n",
              "    <tr style=\"text-align: right;\">\n",
              "      <th></th>\n",
              "      <th>id</th>\n",
              "      <th>message_date</th>\n",
              "      <th>user_id</th>\n",
              "    </tr>\n",
              "  </thead>\n",
              "  <tbody>\n",
              "    <tr>\n",
              "      <th>0</th>\n",
              "      <td>1000_0</td>\n",
              "      <td>2018-06-27</td>\n",
              "      <td>1000</td>\n",
              "    </tr>\n",
              "    <tr>\n",
              "      <th>1</th>\n",
              "      <td>1000_1</td>\n",
              "      <td>2018-10-08</td>\n",
              "      <td>1000</td>\n",
              "    </tr>\n",
              "    <tr>\n",
              "      <th>2</th>\n",
              "      <td>1000_2</td>\n",
              "      <td>2018-08-04</td>\n",
              "      <td>1000</td>\n",
              "    </tr>\n",
              "    <tr>\n",
              "      <th>3</th>\n",
              "      <td>1000_3</td>\n",
              "      <td>2018-06-16</td>\n",
              "      <td>1000</td>\n",
              "    </tr>\n",
              "    <tr>\n",
              "      <th>4</th>\n",
              "      <td>1000_4</td>\n",
              "      <td>2018-12-05</td>\n",
              "      <td>1000</td>\n",
              "    </tr>\n",
              "    <tr>\n",
              "      <th>...</th>\n",
              "      <td>...</td>\n",
              "      <td>...</td>\n",
              "      <td>...</td>\n",
              "    </tr>\n",
              "    <tr>\n",
              "      <th>123031</th>\n",
              "      <td>1499_179</td>\n",
              "      <td>2018-12-12</td>\n",
              "      <td>1499</td>\n",
              "    </tr>\n",
              "    <tr>\n",
              "      <th>123032</th>\n",
              "      <td>1499_180</td>\n",
              "      <td>2018-09-28</td>\n",
              "      <td>1499</td>\n",
              "    </tr>\n",
              "    <tr>\n",
              "      <th>123033</th>\n",
              "      <td>1499_181</td>\n",
              "      <td>2018-09-27</td>\n",
              "      <td>1499</td>\n",
              "    </tr>\n",
              "    <tr>\n",
              "      <th>123034</th>\n",
              "      <td>1499_182</td>\n",
              "      <td>2018-11-15</td>\n",
              "      <td>1499</td>\n",
              "    </tr>\n",
              "    <tr>\n",
              "      <th>123035</th>\n",
              "      <td>1499_183</td>\n",
              "      <td>2018-11-16</td>\n",
              "      <td>1499</td>\n",
              "    </tr>\n",
              "  </tbody>\n",
              "</table>\n",
              "<p>123036 rows × 3 columns</p>\n",
              "</div>"
            ],
            "text/plain": [
              "              id message_date  user_id\n",
              "0         1000_0   2018-06-27     1000\n",
              "1         1000_1   2018-10-08     1000\n",
              "2         1000_2   2018-08-04     1000\n",
              "3         1000_3   2018-06-16     1000\n",
              "4         1000_4   2018-12-05     1000\n",
              "...          ...          ...      ...\n",
              "123031  1499_179   2018-12-12     1499\n",
              "123032  1499_180   2018-09-28     1499\n",
              "123033  1499_181   2018-09-27     1499\n",
              "123034  1499_182   2018-11-15     1499\n",
              "123035  1499_183   2018-11-16     1499\n",
              "\n",
              "[123036 rows x 3 columns]"
            ]
          },
          "metadata": {}
        }
      ]
    },
    {
      "cell_type": "code",
      "source": "tariffs.shape",
      "metadata": {},
      "execution_count": 9,
      "outputs": [
        {
          "execution_count": 9,
          "output_type": "execute_result",
          "data": {
            "text/plain": [
              "(2, 8)"
            ]
          },
          "metadata": {}
        }
      ]
    },
    {
      "cell_type": "code",
      "source": "tariffs",
      "metadata": {
        "scrolled": true
      },
      "execution_count": 10,
      "outputs": [
        {
          "execution_count": 10,
          "output_type": "execute_result",
          "data": {
            "text/html": [
              "<div>\n",
              "<style scoped>\n",
              "    .dataframe tbody tr th:only-of-type {\n",
              "        vertical-align: middle;\n",
              "    }\n",
              "\n",
              "    .dataframe tbody tr th {\n",
              "        vertical-align: top;\n",
              "    }\n",
              "\n",
              "    .dataframe thead th {\n",
              "        text-align: right;\n",
              "    }\n",
              "</style>\n",
              "<table border=\"1\" class=\"dataframe\">\n",
              "  <thead>\n",
              "    <tr style=\"text-align: right;\">\n",
              "      <th></th>\n",
              "      <th>messages_included</th>\n",
              "      <th>mb_per_month_included</th>\n",
              "      <th>minutes_included</th>\n",
              "      <th>rub_monthly_fee</th>\n",
              "      <th>rub_per_gb</th>\n",
              "      <th>rub_per_message</th>\n",
              "      <th>rub_per_minute</th>\n",
              "      <th>tariff_name</th>\n",
              "    </tr>\n",
              "  </thead>\n",
              "  <tbody>\n",
              "    <tr>\n",
              "      <th>0</th>\n",
              "      <td>50</td>\n",
              "      <td>15360</td>\n",
              "      <td>500</td>\n",
              "      <td>550</td>\n",
              "      <td>200</td>\n",
              "      <td>3</td>\n",
              "      <td>3</td>\n",
              "      <td>smart</td>\n",
              "    </tr>\n",
              "    <tr>\n",
              "      <th>1</th>\n",
              "      <td>1000</td>\n",
              "      <td>30720</td>\n",
              "      <td>3000</td>\n",
              "      <td>1950</td>\n",
              "      <td>150</td>\n",
              "      <td>1</td>\n",
              "      <td>1</td>\n",
              "      <td>ultra</td>\n",
              "    </tr>\n",
              "  </tbody>\n",
              "</table>\n",
              "</div>"
            ],
            "text/plain": [
              "   messages_included  mb_per_month_included  minutes_included  \\\n",
              "0                 50                  15360               500   \n",
              "1               1000                  30720              3000   \n",
              "\n",
              "   rub_monthly_fee  rub_per_gb  rub_per_message  rub_per_minute tariff_name  \n",
              "0              550         200                3               3       smart  \n",
              "1             1950         150                1               1       ultra  "
            ]
          },
          "metadata": {}
        }
      ]
    },
    {
      "cell_type": "code",
      "source": "users.shape",
      "metadata": {},
      "execution_count": 11,
      "outputs": [
        {
          "execution_count": 11,
          "output_type": "execute_result",
          "data": {
            "text/plain": [
              "(500, 8)"
            ]
          },
          "metadata": {}
        }
      ]
    },
    {
      "cell_type": "code",
      "source": "users",
      "metadata": {
        "scrolled": true
      },
      "execution_count": 12,
      "outputs": [
        {
          "execution_count": 12,
          "output_type": "execute_result",
          "data": {
            "text/html": [
              "<div>\n",
              "<style scoped>\n",
              "    .dataframe tbody tr th:only-of-type {\n",
              "        vertical-align: middle;\n",
              "    }\n",
              "\n",
              "    .dataframe tbody tr th {\n",
              "        vertical-align: top;\n",
              "    }\n",
              "\n",
              "    .dataframe thead th {\n",
              "        text-align: right;\n",
              "    }\n",
              "</style>\n",
              "<table border=\"1\" class=\"dataframe\">\n",
              "  <thead>\n",
              "    <tr style=\"text-align: right;\">\n",
              "      <th></th>\n",
              "      <th>user_id</th>\n",
              "      <th>age</th>\n",
              "      <th>churn_date</th>\n",
              "      <th>city</th>\n",
              "      <th>first_name</th>\n",
              "      <th>last_name</th>\n",
              "      <th>reg_date</th>\n",
              "      <th>tariff</th>\n",
              "    </tr>\n",
              "  </thead>\n",
              "  <tbody>\n",
              "    <tr>\n",
              "      <th>0</th>\n",
              "      <td>1000</td>\n",
              "      <td>52</td>\n",
              "      <td>NaN</td>\n",
              "      <td>Краснодар</td>\n",
              "      <td>Рафаил</td>\n",
              "      <td>Верещагин</td>\n",
              "      <td>2018-05-25</td>\n",
              "      <td>ultra</td>\n",
              "    </tr>\n",
              "    <tr>\n",
              "      <th>1</th>\n",
              "      <td>1001</td>\n",
              "      <td>41</td>\n",
              "      <td>NaN</td>\n",
              "      <td>Москва</td>\n",
              "      <td>Иван</td>\n",
              "      <td>Ежов</td>\n",
              "      <td>2018-11-01</td>\n",
              "      <td>smart</td>\n",
              "    </tr>\n",
              "    <tr>\n",
              "      <th>2</th>\n",
              "      <td>1002</td>\n",
              "      <td>59</td>\n",
              "      <td>NaN</td>\n",
              "      <td>Стерлитамак</td>\n",
              "      <td>Евгений</td>\n",
              "      <td>Абрамович</td>\n",
              "      <td>2018-06-17</td>\n",
              "      <td>smart</td>\n",
              "    </tr>\n",
              "    <tr>\n",
              "      <th>3</th>\n",
              "      <td>1003</td>\n",
              "      <td>23</td>\n",
              "      <td>NaN</td>\n",
              "      <td>Москва</td>\n",
              "      <td>Белла</td>\n",
              "      <td>Белякова</td>\n",
              "      <td>2018-08-17</td>\n",
              "      <td>ultra</td>\n",
              "    </tr>\n",
              "    <tr>\n",
              "      <th>4</th>\n",
              "      <td>1004</td>\n",
              "      <td>68</td>\n",
              "      <td>NaN</td>\n",
              "      <td>Новокузнецк</td>\n",
              "      <td>Татьяна</td>\n",
              "      <td>Авдеенко</td>\n",
              "      <td>2018-05-14</td>\n",
              "      <td>ultra</td>\n",
              "    </tr>\n",
              "    <tr>\n",
              "      <th>...</th>\n",
              "      <td>...</td>\n",
              "      <td>...</td>\n",
              "      <td>...</td>\n",
              "      <td>...</td>\n",
              "      <td>...</td>\n",
              "      <td>...</td>\n",
              "      <td>...</td>\n",
              "      <td>...</td>\n",
              "    </tr>\n",
              "    <tr>\n",
              "      <th>495</th>\n",
              "      <td>1495</td>\n",
              "      <td>65</td>\n",
              "      <td>NaN</td>\n",
              "      <td>Иркутск</td>\n",
              "      <td>Авксентий</td>\n",
              "      <td>Фокин</td>\n",
              "      <td>2018-08-28</td>\n",
              "      <td>ultra</td>\n",
              "    </tr>\n",
              "    <tr>\n",
              "      <th>496</th>\n",
              "      <td>1496</td>\n",
              "      <td>36</td>\n",
              "      <td>NaN</td>\n",
              "      <td>Вологда</td>\n",
              "      <td>Трифон</td>\n",
              "      <td>Блохин</td>\n",
              "      <td>2018-01-27</td>\n",
              "      <td>smart</td>\n",
              "    </tr>\n",
              "    <tr>\n",
              "      <th>497</th>\n",
              "      <td>1497</td>\n",
              "      <td>32</td>\n",
              "      <td>NaN</td>\n",
              "      <td>Челябинск</td>\n",
              "      <td>Каролина</td>\n",
              "      <td>Агеева</td>\n",
              "      <td>2018-10-09</td>\n",
              "      <td>smart</td>\n",
              "    </tr>\n",
              "    <tr>\n",
              "      <th>498</th>\n",
              "      <td>1498</td>\n",
              "      <td>68</td>\n",
              "      <td>2018-10-25</td>\n",
              "      <td>Владикавказ</td>\n",
              "      <td>Всеволод</td>\n",
              "      <td>Акимчин</td>\n",
              "      <td>2018-07-19</td>\n",
              "      <td>smart</td>\n",
              "    </tr>\n",
              "    <tr>\n",
              "      <th>499</th>\n",
              "      <td>1499</td>\n",
              "      <td>35</td>\n",
              "      <td>NaN</td>\n",
              "      <td>Пермь</td>\n",
              "      <td>Гектор</td>\n",
              "      <td>Корнилов</td>\n",
              "      <td>2018-09-27</td>\n",
              "      <td>smart</td>\n",
              "    </tr>\n",
              "  </tbody>\n",
              "</table>\n",
              "<p>500 rows × 8 columns</p>\n",
              "</div>"
            ],
            "text/plain": [
              "     user_id  age  churn_date         city first_name  last_name    reg_date  \\\n",
              "0       1000   52         NaN    Краснодар     Рафаил  Верещагин  2018-05-25   \n",
              "1       1001   41         NaN       Москва       Иван       Ежов  2018-11-01   \n",
              "2       1002   59         NaN  Стерлитамак    Евгений  Абрамович  2018-06-17   \n",
              "3       1003   23         NaN       Москва      Белла   Белякова  2018-08-17   \n",
              "4       1004   68         NaN  Новокузнецк    Татьяна   Авдеенко  2018-05-14   \n",
              "..       ...  ...         ...          ...        ...        ...         ...   \n",
              "495     1495   65         NaN      Иркутск  Авксентий      Фокин  2018-08-28   \n",
              "496     1496   36         NaN      Вологда     Трифон     Блохин  2018-01-27   \n",
              "497     1497   32         NaN    Челябинск   Каролина     Агеева  2018-10-09   \n",
              "498     1498   68  2018-10-25  Владикавказ   Всеволод    Акимчин  2018-07-19   \n",
              "499     1499   35         NaN        Пермь     Гектор   Корнилов  2018-09-27   \n",
              "\n",
              "    tariff  \n",
              "0    ultra  \n",
              "1    smart  \n",
              "2    smart  \n",
              "3    ultra  \n",
              "4    ultra  \n",
              "..     ...  \n",
              "495  ultra  \n",
              "496  smart  \n",
              "497  smart  \n",
              "498  smart  \n",
              "499  smart  \n",
              "\n",
              "[500 rows x 8 columns]"
            ]
          },
          "metadata": {}
        }
      ]
    },
    {
      "cell_type": "markdown",
      "source": "В каждой таблице, кроме `tariffs` присутствует одинаковый стобец `user_id` с идентификатором пользователя. По нему можем объединить таблицы. Наименование столбцов записано верно (кроме ` Unnamed: 0`).",
      "metadata": {}
    },
    {
      "cell_type": "markdown",
      "source": "## Подгтовка данных",
      "metadata": {}
    },
    {
      "cell_type": "code",
      "source": "calls.info()",
      "metadata": {},
      "execution_count": 13,
      "outputs": [
        {
          "name": "stdout",
          "output_type": "stream",
          "text": "<class 'pandas.core.frame.DataFrame'>\n\nRangeIndex: 202607 entries, 0 to 202606\n\nData columns (total 4 columns):\n\n #   Column     Non-Null Count   Dtype  \n\n---  ------     --------------   -----  \n\n 0   id         202607 non-null  object \n\n 1   call_date  202607 non-null  object \n\n 2   duration   202607 non-null  float64\n\n 3   user_id    202607 non-null  int64  \n\ndtypes: float64(1), int64(1), object(2)\n\nmemory usage: 6.2+ MB\n"
        }
      ]
    },
    {
      "cell_type": "code",
      "source": "calls.duplicated().sum()",
      "metadata": {},
      "execution_count": 14,
      "outputs": [
        {
          "execution_count": 14,
          "output_type": "execute_result",
          "data": {
            "text/plain": [
              "0"
            ]
          },
          "metadata": {}
        }
      ]
    },
    {
      "cell_type": "code",
      "source": "internet.info()",
      "metadata": {},
      "execution_count": 15,
      "outputs": [
        {
          "name": "stdout",
          "output_type": "stream",
          "text": "<class 'pandas.core.frame.DataFrame'>\n\nRangeIndex: 149396 entries, 0 to 149395\n\nData columns (total 5 columns):\n\n #   Column        Non-Null Count   Dtype  \n\n---  ------        --------------   -----  \n\n 0   Unnamed: 0    149396 non-null  int64  \n\n 1   id            149396 non-null  object \n\n 2   mb_used       149396 non-null  float64\n\n 3   session_date  149396 non-null  object \n\n 4   user_id       149396 non-null  int64  \n\ndtypes: float64(1), int64(2), object(2)\n\nmemory usage: 5.7+ MB\n"
        }
      ]
    },
    {
      "cell_type": "code",
      "source": "internet.duplicated().sum()",
      "metadata": {},
      "execution_count": 16,
      "outputs": [
        {
          "execution_count": 16,
          "output_type": "execute_result",
          "data": {
            "text/plain": [
              "0"
            ]
          },
          "metadata": {}
        }
      ]
    },
    {
      "cell_type": "code",
      "source": "messages.info()",
      "metadata": {},
      "execution_count": 17,
      "outputs": [
        {
          "name": "stdout",
          "output_type": "stream",
          "text": "<class 'pandas.core.frame.DataFrame'>\n\nRangeIndex: 123036 entries, 0 to 123035\n\nData columns (total 3 columns):\n\n #   Column        Non-Null Count   Dtype \n\n---  ------        --------------   ----- \n\n 0   id            123036 non-null  object\n\n 1   message_date  123036 non-null  object\n\n 2   user_id       123036 non-null  int64 \n\ndtypes: int64(1), object(2)\n\nmemory usage: 2.8+ MB\n"
        }
      ]
    },
    {
      "cell_type": "code",
      "source": "messages.duplicated().sum()",
      "metadata": {},
      "execution_count": 18,
      "outputs": [
        {
          "execution_count": 18,
          "output_type": "execute_result",
          "data": {
            "text/plain": [
              "0"
            ]
          },
          "metadata": {}
        }
      ]
    },
    {
      "cell_type": "code",
      "source": "users.info()",
      "metadata": {},
      "execution_count": 19,
      "outputs": [
        {
          "name": "stdout",
          "output_type": "stream",
          "text": "<class 'pandas.core.frame.DataFrame'>\n\nRangeIndex: 500 entries, 0 to 499\n\nData columns (total 8 columns):\n\n #   Column      Non-Null Count  Dtype \n\n---  ------      --------------  ----- \n\n 0   user_id     500 non-null    int64 \n\n 1   age         500 non-null    int64 \n\n 2   churn_date  38 non-null     object\n\n 3   city        500 non-null    object\n\n 4   first_name  500 non-null    object\n\n 5   last_name   500 non-null    object\n\n 6   reg_date    500 non-null    object\n\n 7   tariff      500 non-null    object\n\ndtypes: int64(2), object(6)\n\nmemory usage: 31.4+ KB\n"
        }
      ]
    },
    {
      "cell_type": "code",
      "source": "users.duplicated().sum()",
      "metadata": {},
      "execution_count": 20,
      "outputs": [
        {
          "execution_count": 20,
          "output_type": "execute_result",
          "data": {
            "text/plain": [
              "0"
            ]
          },
          "metadata": {}
        }
      ]
    },
    {
      "cell_type": "markdown",
      "source": "Пропусков и дубликатов в таблицах нет (пропуски в стобце `churn_date` означают, что пользователь продолжает пользоваться тарифом).",
      "metadata": {}
    },
    {
      "cell_type": "markdown",
      "source": "Объединили таблицы. Использовали метод `outer`, чтобы объединить все значения. Образовались пропуски ввиду отсутвия схожих данных в таблицах.",
      "metadata": {}
    },
    {
      "cell_type": "markdown",
      "source": "У некоторых столбцов некорректен тип данных.",
      "metadata": {}
    },
    {
      "cell_type": "code",
      "source": "calls['call_date'] = pd.to_datetime(calls['call_date'], format = '%Y-%m-%d')\ncalls['duration'] = calls['duration'].astype('float32')\ncalls['user_id'] = calls['user_id'].astype('int16')\nusers['user_id'] = users['user_id'].astype('int16')\ninternet['user_id'] = internet['user_id'].astype('int16')\nmessages['user_id'] = messages['user_id'].astype('int16')\nusers['reg_date'] = pd.to_datetime(users['reg_date'], format = '%Y-%m-%d')\ninternet['session_date'] = pd.to_datetime(internet['session_date'], format = '%Y-%m-%d')\nmessages['message_date'] = pd.to_datetime(messages['message_date'], format = '%Y-%m-%d')",
      "metadata": {},
      "execution_count": 22,
      "outputs": []
    },
    {
      "cell_type": "markdown",
      "source": "Столбцы `age` и `churn_date` преобразовать не удалось, так как в них содержаться пропуски. Если в дальнейшем анализе они понадобиться, пропуски удалим или заполним значениями.\n\nСтолбец ` Unnamed: 0` содержит порядковые индексы строки, его стоит удалить.",
      "metadata": {}
    },
    {
      "cell_type": "code",
      "source": "internet.drop('Unnamed: 0', inplace=True, axis=1)",
      "metadata": {
        "scrolled": true
      },
      "execution_count": 23,
      "outputs": []
    },
    {
      "cell_type": "code",
      "source": "calls['call_month'] = calls['call_date'].dt.month\nmessages['messages_month'] = messages['message_date'].dt.month\ninternet['session_month'] = internet['session_date'].dt.month",
      "metadata": {},
      "execution_count": 24,
      "outputs": []
    },
    {
      "cell_type": "code",
      "source": "calls['duration'] = np.ceil(calls['duration']).astype('int')\ncalls",
      "metadata": {},
      "execution_count": 25,
      "outputs": [
        {
          "execution_count": 25,
          "output_type": "execute_result",
          "data": {
            "text/html": [
              "<div>\n",
              "<style scoped>\n",
              "    .dataframe tbody tr th:only-of-type {\n",
              "        vertical-align: middle;\n",
              "    }\n",
              "\n",
              "    .dataframe tbody tr th {\n",
              "        vertical-align: top;\n",
              "    }\n",
              "\n",
              "    .dataframe thead th {\n",
              "        text-align: right;\n",
              "    }\n",
              "</style>\n",
              "<table border=\"1\" class=\"dataframe\">\n",
              "  <thead>\n",
              "    <tr style=\"text-align: right;\">\n",
              "      <th></th>\n",
              "      <th>id</th>\n",
              "      <th>call_date</th>\n",
              "      <th>duration</th>\n",
              "      <th>user_id</th>\n",
              "      <th>call_month</th>\n",
              "    </tr>\n",
              "  </thead>\n",
              "  <tbody>\n",
              "    <tr>\n",
              "      <th>0</th>\n",
              "      <td>1000_0</td>\n",
              "      <td>2018-07-25</td>\n",
              "      <td>0</td>\n",
              "      <td>1000</td>\n",
              "      <td>7</td>\n",
              "    </tr>\n",
              "    <tr>\n",
              "      <th>1</th>\n",
              "      <td>1000_1</td>\n",
              "      <td>2018-08-17</td>\n",
              "      <td>0</td>\n",
              "      <td>1000</td>\n",
              "      <td>8</td>\n",
              "    </tr>\n",
              "    <tr>\n",
              "      <th>2</th>\n",
              "      <td>1000_2</td>\n",
              "      <td>2018-06-11</td>\n",
              "      <td>3</td>\n",
              "      <td>1000</td>\n",
              "      <td>6</td>\n",
              "    </tr>\n",
              "    <tr>\n",
              "      <th>3</th>\n",
              "      <td>1000_3</td>\n",
              "      <td>2018-09-21</td>\n",
              "      <td>14</td>\n",
              "      <td>1000</td>\n",
              "      <td>9</td>\n",
              "    </tr>\n",
              "    <tr>\n",
              "      <th>4</th>\n",
              "      <td>1000_4</td>\n",
              "      <td>2018-12-15</td>\n",
              "      <td>6</td>\n",
              "      <td>1000</td>\n",
              "      <td>12</td>\n",
              "    </tr>\n",
              "    <tr>\n",
              "      <th>...</th>\n",
              "      <td>...</td>\n",
              "      <td>...</td>\n",
              "      <td>...</td>\n",
              "      <td>...</td>\n",
              "      <td>...</td>\n",
              "    </tr>\n",
              "    <tr>\n",
              "      <th>202602</th>\n",
              "      <td>1499_215</td>\n",
              "      <td>2018-12-26</td>\n",
              "      <td>1</td>\n",
              "      <td>1499</td>\n",
              "      <td>12</td>\n",
              "    </tr>\n",
              "    <tr>\n",
              "      <th>202603</th>\n",
              "      <td>1499_216</td>\n",
              "      <td>2018-10-18</td>\n",
              "      <td>19</td>\n",
              "      <td>1499</td>\n",
              "      <td>10</td>\n",
              "    </tr>\n",
              "    <tr>\n",
              "      <th>202604</th>\n",
              "      <td>1499_217</td>\n",
              "      <td>2018-11-10</td>\n",
              "      <td>11</td>\n",
              "      <td>1499</td>\n",
              "      <td>11</td>\n",
              "    </tr>\n",
              "    <tr>\n",
              "      <th>202605</th>\n",
              "      <td>1499_218</td>\n",
              "      <td>2018-10-06</td>\n",
              "      <td>5</td>\n",
              "      <td>1499</td>\n",
              "      <td>10</td>\n",
              "    </tr>\n",
              "    <tr>\n",
              "      <th>202606</th>\n",
              "      <td>1499_219</td>\n",
              "      <td>2018-12-14</td>\n",
              "      <td>20</td>\n",
              "      <td>1499</td>\n",
              "      <td>12</td>\n",
              "    </tr>\n",
              "  </tbody>\n",
              "</table>\n",
              "<p>202607 rows × 5 columns</p>\n",
              "</div>"
            ],
            "text/plain": [
              "              id  call_date  duration  user_id  call_month\n",
              "0         1000_0 2018-07-25         0     1000           7\n",
              "1         1000_1 2018-08-17         0     1000           8\n",
              "2         1000_2 2018-06-11         3     1000           6\n",
              "3         1000_3 2018-09-21        14     1000           9\n",
              "4         1000_4 2018-12-15         6     1000          12\n",
              "...          ...        ...       ...      ...         ...\n",
              "202602  1499_215 2018-12-26         1     1499          12\n",
              "202603  1499_216 2018-10-18        19     1499          10\n",
              "202604  1499_217 2018-11-10        11     1499          11\n",
              "202605  1499_218 2018-10-06         5     1499          10\n",
              "202606  1499_219 2018-12-14        20     1499          12\n",
              "\n",
              "[202607 rows x 5 columns]"
            ]
          },
          "metadata": {}
        }
      ]
    },
    {
      "cell_type": "code",
      "source": "id_calls = calls.pivot_table(index=['user_id', 'call_month'], values='duration', aggfunc=['count', 'sum'])\nid_calls.columns = ['calls_count', 'calls_sum']\nid_calls.reset_index(inplace = True)\nid_calls = id_calls.rename (columns = {'call_month': 'month'})\nid_calls",
      "metadata": {},
      "execution_count": 26,
      "outputs": [
        {
          "execution_count": 26,
          "output_type": "execute_result",
          "data": {
            "text/html": [
              "<div>\n",
              "<style scoped>\n",
              "    .dataframe tbody tr th:only-of-type {\n",
              "        vertical-align: middle;\n",
              "    }\n",
              "\n",
              "    .dataframe tbody tr th {\n",
              "        vertical-align: top;\n",
              "    }\n",
              "\n",
              "    .dataframe thead th {\n",
              "        text-align: right;\n",
              "    }\n",
              "</style>\n",
              "<table border=\"1\" class=\"dataframe\">\n",
              "  <thead>\n",
              "    <tr style=\"text-align: right;\">\n",
              "      <th></th>\n",
              "      <th>user_id</th>\n",
              "      <th>month</th>\n",
              "      <th>calls_count</th>\n",
              "      <th>calls_sum</th>\n",
              "    </tr>\n",
              "  </thead>\n",
              "  <tbody>\n",
              "    <tr>\n",
              "      <th>0</th>\n",
              "      <td>1000</td>\n",
              "      <td>5</td>\n",
              "      <td>22</td>\n",
              "      <td>159</td>\n",
              "    </tr>\n",
              "    <tr>\n",
              "      <th>1</th>\n",
              "      <td>1000</td>\n",
              "      <td>6</td>\n",
              "      <td>43</td>\n",
              "      <td>172</td>\n",
              "    </tr>\n",
              "    <tr>\n",
              "      <th>2</th>\n",
              "      <td>1000</td>\n",
              "      <td>7</td>\n",
              "      <td>47</td>\n",
              "      <td>340</td>\n",
              "    </tr>\n",
              "    <tr>\n",
              "      <th>3</th>\n",
              "      <td>1000</td>\n",
              "      <td>8</td>\n",
              "      <td>52</td>\n",
              "      <td>408</td>\n",
              "    </tr>\n",
              "    <tr>\n",
              "      <th>4</th>\n",
              "      <td>1000</td>\n",
              "      <td>9</td>\n",
              "      <td>58</td>\n",
              "      <td>466</td>\n",
              "    </tr>\n",
              "    <tr>\n",
              "      <th>...</th>\n",
              "      <td>...</td>\n",
              "      <td>...</td>\n",
              "      <td>...</td>\n",
              "      <td>...</td>\n",
              "    </tr>\n",
              "    <tr>\n",
              "      <th>3169</th>\n",
              "      <td>1498</td>\n",
              "      <td>10</td>\n",
              "      <td>41</td>\n",
              "      <td>247</td>\n",
              "    </tr>\n",
              "    <tr>\n",
              "      <th>3170</th>\n",
              "      <td>1499</td>\n",
              "      <td>9</td>\n",
              "      <td>9</td>\n",
              "      <td>70</td>\n",
              "    </tr>\n",
              "    <tr>\n",
              "      <th>3171</th>\n",
              "      <td>1499</td>\n",
              "      <td>10</td>\n",
              "      <td>68</td>\n",
              "      <td>449</td>\n",
              "    </tr>\n",
              "    <tr>\n",
              "      <th>3172</th>\n",
              "      <td>1499</td>\n",
              "      <td>11</td>\n",
              "      <td>74</td>\n",
              "      <td>612</td>\n",
              "    </tr>\n",
              "    <tr>\n",
              "      <th>3173</th>\n",
              "      <td>1499</td>\n",
              "      <td>12</td>\n",
              "      <td>69</td>\n",
              "      <td>492</td>\n",
              "    </tr>\n",
              "  </tbody>\n",
              "</table>\n",
              "<p>3174 rows × 4 columns</p>\n",
              "</div>"
            ],
            "text/plain": [
              "      user_id  month  calls_count  calls_sum\n",
              "0        1000      5           22        159\n",
              "1        1000      6           43        172\n",
              "2        1000      7           47        340\n",
              "3        1000      8           52        408\n",
              "4        1000      9           58        466\n",
              "...       ...    ...          ...        ...\n",
              "3169     1498     10           41        247\n",
              "3170     1499      9            9         70\n",
              "3171     1499     10           68        449\n",
              "3172     1499     11           74        612\n",
              "3173     1499     12           69        492\n",
              "\n",
              "[3174 rows x 4 columns]"
            ]
          },
          "metadata": {}
        }
      ]
    },
    {
      "cell_type": "markdown",
      "source": "Создали таблицу с суммой минут звонков. Столбец `calls_min` - минуты звоков в месяц, округленные в большую сторону, в соотвествии с правилами тарифов.",
      "metadata": {}
    },
    {
      "cell_type": "code",
      "source": "id_messages = messages.pivot_table(index=['user_id', 'messages_month'], values='message_date', aggfunc='count')\nid_messages.columns = ['messages_count']\nid_messages.reset_index(inplace = True)\nid_messages = id_messages.rename (columns = {'messages_month': 'month'})\nid_messages",
      "metadata": {},
      "execution_count": 27,
      "outputs": [
        {
          "execution_count": 27,
          "output_type": "execute_result",
          "data": {
            "text/html": [
              "<div>\n",
              "<style scoped>\n",
              "    .dataframe tbody tr th:only-of-type {\n",
              "        vertical-align: middle;\n",
              "    }\n",
              "\n",
              "    .dataframe tbody tr th {\n",
              "        vertical-align: top;\n",
              "    }\n",
              "\n",
              "    .dataframe thead th {\n",
              "        text-align: right;\n",
              "    }\n",
              "</style>\n",
              "<table border=\"1\" class=\"dataframe\">\n",
              "  <thead>\n",
              "    <tr style=\"text-align: right;\">\n",
              "      <th></th>\n",
              "      <th>user_id</th>\n",
              "      <th>month</th>\n",
              "      <th>messages_count</th>\n",
              "    </tr>\n",
              "  </thead>\n",
              "  <tbody>\n",
              "    <tr>\n",
              "      <th>0</th>\n",
              "      <td>1000</td>\n",
              "      <td>5</td>\n",
              "      <td>22</td>\n",
              "    </tr>\n",
              "    <tr>\n",
              "      <th>1</th>\n",
              "      <td>1000</td>\n",
              "      <td>6</td>\n",
              "      <td>60</td>\n",
              "    </tr>\n",
              "    <tr>\n",
              "      <th>2</th>\n",
              "      <td>1000</td>\n",
              "      <td>7</td>\n",
              "      <td>75</td>\n",
              "    </tr>\n",
              "    <tr>\n",
              "      <th>3</th>\n",
              "      <td>1000</td>\n",
              "      <td>8</td>\n",
              "      <td>81</td>\n",
              "    </tr>\n",
              "    <tr>\n",
              "      <th>4</th>\n",
              "      <td>1000</td>\n",
              "      <td>9</td>\n",
              "      <td>57</td>\n",
              "    </tr>\n",
              "    <tr>\n",
              "      <th>...</th>\n",
              "      <td>...</td>\n",
              "      <td>...</td>\n",
              "      <td>...</td>\n",
              "    </tr>\n",
              "    <tr>\n",
              "      <th>2712</th>\n",
              "      <td>1498</td>\n",
              "      <td>10</td>\n",
              "      <td>42</td>\n",
              "    </tr>\n",
              "    <tr>\n",
              "      <th>2713</th>\n",
              "      <td>1499</td>\n",
              "      <td>9</td>\n",
              "      <td>11</td>\n",
              "    </tr>\n",
              "    <tr>\n",
              "      <th>2714</th>\n",
              "      <td>1499</td>\n",
              "      <td>10</td>\n",
              "      <td>48</td>\n",
              "    </tr>\n",
              "    <tr>\n",
              "      <th>2715</th>\n",
              "      <td>1499</td>\n",
              "      <td>11</td>\n",
              "      <td>59</td>\n",
              "    </tr>\n",
              "    <tr>\n",
              "      <th>2716</th>\n",
              "      <td>1499</td>\n",
              "      <td>12</td>\n",
              "      <td>66</td>\n",
              "    </tr>\n",
              "  </tbody>\n",
              "</table>\n",
              "<p>2717 rows × 3 columns</p>\n",
              "</div>"
            ],
            "text/plain": [
              "      user_id  month  messages_count\n",
              "0        1000      5              22\n",
              "1        1000      6              60\n",
              "2        1000      7              75\n",
              "3        1000      8              81\n",
              "4        1000      9              57\n",
              "...       ...    ...             ...\n",
              "2712     1498     10              42\n",
              "2713     1499      9              11\n",
              "2714     1499     10              48\n",
              "2715     1499     11              59\n",
              "2716     1499     12              66\n",
              "\n",
              "[2717 rows x 3 columns]"
            ]
          },
          "metadata": {}
        }
      ]
    },
    {
      "cell_type": "markdown",
      "source": "Таблица количества сообщений каждого пользователя по месяцам.",
      "metadata": {}
    },
    {
      "cell_type": "code",
      "source": "id_internet = internet.pivot_table(index=['user_id', 'session_month'], values=['mb_used'], aggfunc='sum')\nid_internet.columns = ['internet_mb']\nid_internet['internet_gb'] = np.ceil(id_internet['internet_mb']/1024).astype('int32')\nid_internet.reset_index(inplace = True)\nid_internet = id_internet.rename (columns = {'session_month': 'month'})\nid_internet",
      "metadata": {},
      "execution_count": 28,
      "outputs": [
        {
          "execution_count": 28,
          "output_type": "execute_result",
          "data": {
            "text/html": [
              "<div>\n",
              "<style scoped>\n",
              "    .dataframe tbody tr th:only-of-type {\n",
              "        vertical-align: middle;\n",
              "    }\n",
              "\n",
              "    .dataframe tbody tr th {\n",
              "        vertical-align: top;\n",
              "    }\n",
              "\n",
              "    .dataframe thead th {\n",
              "        text-align: right;\n",
              "    }\n",
              "</style>\n",
              "<table border=\"1\" class=\"dataframe\">\n",
              "  <thead>\n",
              "    <tr style=\"text-align: right;\">\n",
              "      <th></th>\n",
              "      <th>user_id</th>\n",
              "      <th>month</th>\n",
              "      <th>internet_mb</th>\n",
              "      <th>internet_gb</th>\n",
              "    </tr>\n",
              "  </thead>\n",
              "  <tbody>\n",
              "    <tr>\n",
              "      <th>0</th>\n",
              "      <td>1000</td>\n",
              "      <td>5</td>\n",
              "      <td>2253.49</td>\n",
              "      <td>3</td>\n",
              "    </tr>\n",
              "    <tr>\n",
              "      <th>1</th>\n",
              "      <td>1000</td>\n",
              "      <td>6</td>\n",
              "      <td>23233.77</td>\n",
              "      <td>23</td>\n",
              "    </tr>\n",
              "    <tr>\n",
              "      <th>2</th>\n",
              "      <td>1000</td>\n",
              "      <td>7</td>\n",
              "      <td>14003.64</td>\n",
              "      <td>14</td>\n",
              "    </tr>\n",
              "    <tr>\n",
              "      <th>3</th>\n",
              "      <td>1000</td>\n",
              "      <td>8</td>\n",
              "      <td>14055.93</td>\n",
              "      <td>14</td>\n",
              "    </tr>\n",
              "    <tr>\n",
              "      <th>4</th>\n",
              "      <td>1000</td>\n",
              "      <td>9</td>\n",
              "      <td>14568.91</td>\n",
              "      <td>15</td>\n",
              "    </tr>\n",
              "    <tr>\n",
              "      <th>...</th>\n",
              "      <td>...</td>\n",
              "      <td>...</td>\n",
              "      <td>...</td>\n",
              "      <td>...</td>\n",
              "    </tr>\n",
              "    <tr>\n",
              "      <th>3198</th>\n",
              "      <td>1498</td>\n",
              "      <td>10</td>\n",
              "      <td>20579.36</td>\n",
              "      <td>21</td>\n",
              "    </tr>\n",
              "    <tr>\n",
              "      <th>3199</th>\n",
              "      <td>1499</td>\n",
              "      <td>9</td>\n",
              "      <td>1845.75</td>\n",
              "      <td>2</td>\n",
              "    </tr>\n",
              "    <tr>\n",
              "      <th>3200</th>\n",
              "      <td>1499</td>\n",
              "      <td>10</td>\n",
              "      <td>17788.51</td>\n",
              "      <td>18</td>\n",
              "    </tr>\n",
              "    <tr>\n",
              "      <th>3201</th>\n",
              "      <td>1499</td>\n",
              "      <td>11</td>\n",
              "      <td>17963.31</td>\n",
              "      <td>18</td>\n",
              "    </tr>\n",
              "    <tr>\n",
              "      <th>3202</th>\n",
              "      <td>1499</td>\n",
              "      <td>12</td>\n",
              "      <td>13055.58</td>\n",
              "      <td>13</td>\n",
              "    </tr>\n",
              "  </tbody>\n",
              "</table>\n",
              "<p>3203 rows × 4 columns</p>\n",
              "</div>"
            ],
            "text/plain": [
              "      user_id  month  internet_mb  internet_gb\n",
              "0        1000      5      2253.49            3\n",
              "1        1000      6     23233.77           23\n",
              "2        1000      7     14003.64           14\n",
              "3        1000      8     14055.93           14\n",
              "4        1000      9     14568.91           15\n",
              "...       ...    ...          ...          ...\n",
              "3198     1498     10     20579.36           21\n",
              "3199     1499      9      1845.75            2\n",
              "3200     1499     10     17788.51           18\n",
              "3201     1499     11     17963.31           18\n",
              "3202     1499     12     13055.58           13\n",
              "\n",
              "[3203 rows x 4 columns]"
            ]
          },
          "metadata": {}
        }
      ]
    },
    {
      "cell_type": "markdown",
      "source": "Таблица отражает использованный интернет-трафик каждого пользователя в месяц. Добавили столбец `internet_gb` с данными интерент-трафика по месяцам в Гигабайтах (округлили в большую сторону, в соотвествии с правилами тарифов).",
      "metadata": {}
    },
    {
      "cell_type": "code",
      "source": "revenue = id_internet.merge(id_messages, on = ['user_id', 'month'], how='outer')\nrevenue = revenue.merge(id_calls, on = ['user_id', 'month'], how=\"outer\")\nrevenue = revenue.merge(users[['user_id', 'city', 'tariff']], on = ['user_id'], how=\"outer\")\n#revenue.drop(['age', 'first_name', 'churn_date', 'last_name', 'reg_date'], inplace=True, axis=1)\nrevenue",
      "metadata": {
        "scrolled": true
      },
      "execution_count": 30,
      "outputs": [
        {
          "execution_count": 30,
          "output_type": "execute_result",
          "data": {
            "text/html": [
              "<div>\n",
              "<style scoped>\n",
              "    .dataframe tbody tr th:only-of-type {\n",
              "        vertical-align: middle;\n",
              "    }\n",
              "\n",
              "    .dataframe tbody tr th {\n",
              "        vertical-align: top;\n",
              "    }\n",
              "\n",
              "    .dataframe thead th {\n",
              "        text-align: right;\n",
              "    }\n",
              "</style>\n",
              "<table border=\"1\" class=\"dataframe\">\n",
              "  <thead>\n",
              "    <tr style=\"text-align: right;\">\n",
              "      <th></th>\n",
              "      <th>user_id</th>\n",
              "      <th>month</th>\n",
              "      <th>internet_mb</th>\n",
              "      <th>internet_gb</th>\n",
              "      <th>messages_count</th>\n",
              "      <th>calls_count</th>\n",
              "      <th>calls_sum</th>\n",
              "      <th>city</th>\n",
              "      <th>tariff</th>\n",
              "    </tr>\n",
              "  </thead>\n",
              "  <tbody>\n",
              "    <tr>\n",
              "      <th>0</th>\n",
              "      <td>1000</td>\n",
              "      <td>5.0</td>\n",
              "      <td>2253.49</td>\n",
              "      <td>3.0</td>\n",
              "      <td>22.0</td>\n",
              "      <td>22.0</td>\n",
              "      <td>159.0</td>\n",
              "      <td>Краснодар</td>\n",
              "      <td>ultra</td>\n",
              "    </tr>\n",
              "    <tr>\n",
              "      <th>1</th>\n",
              "      <td>1000</td>\n",
              "      <td>6.0</td>\n",
              "      <td>23233.77</td>\n",
              "      <td>23.0</td>\n",
              "      <td>60.0</td>\n",
              "      <td>43.0</td>\n",
              "      <td>172.0</td>\n",
              "      <td>Краснодар</td>\n",
              "      <td>ultra</td>\n",
              "    </tr>\n",
              "    <tr>\n",
              "      <th>2</th>\n",
              "      <td>1000</td>\n",
              "      <td>7.0</td>\n",
              "      <td>14003.64</td>\n",
              "      <td>14.0</td>\n",
              "      <td>75.0</td>\n",
              "      <td>47.0</td>\n",
              "      <td>340.0</td>\n",
              "      <td>Краснодар</td>\n",
              "      <td>ultra</td>\n",
              "    </tr>\n",
              "    <tr>\n",
              "      <th>3</th>\n",
              "      <td>1000</td>\n",
              "      <td>8.0</td>\n",
              "      <td>14055.93</td>\n",
              "      <td>14.0</td>\n",
              "      <td>81.0</td>\n",
              "      <td>52.0</td>\n",
              "      <td>408.0</td>\n",
              "      <td>Краснодар</td>\n",
              "      <td>ultra</td>\n",
              "    </tr>\n",
              "    <tr>\n",
              "      <th>4</th>\n",
              "      <td>1000</td>\n",
              "      <td>9.0</td>\n",
              "      <td>14568.91</td>\n",
              "      <td>15.0</td>\n",
              "      <td>57.0</td>\n",
              "      <td>58.0</td>\n",
              "      <td>466.0</td>\n",
              "      <td>Краснодар</td>\n",
              "      <td>ultra</td>\n",
              "    </tr>\n",
              "    <tr>\n",
              "      <th>...</th>\n",
              "      <td>...</td>\n",
              "      <td>...</td>\n",
              "      <td>...</td>\n",
              "      <td>...</td>\n",
              "      <td>...</td>\n",
              "      <td>...</td>\n",
              "      <td>...</td>\n",
              "      <td>...</td>\n",
              "      <td>...</td>\n",
              "    </tr>\n",
              "    <tr>\n",
              "      <th>3211</th>\n",
              "      <td>1273</td>\n",
              "      <td>10.0</td>\n",
              "      <td>NaN</td>\n",
              "      <td>NaN</td>\n",
              "      <td>35.0</td>\n",
              "      <td>40.0</td>\n",
              "      <td>315.0</td>\n",
              "      <td>Курган</td>\n",
              "      <td>ultra</td>\n",
              "    </tr>\n",
              "    <tr>\n",
              "      <th>3212</th>\n",
              "      <td>1273</td>\n",
              "      <td>11.0</td>\n",
              "      <td>NaN</td>\n",
              "      <td>NaN</td>\n",
              "      <td>29.0</td>\n",
              "      <td>45.0</td>\n",
              "      <td>272.0</td>\n",
              "      <td>Курган</td>\n",
              "      <td>ultra</td>\n",
              "    </tr>\n",
              "    <tr>\n",
              "      <th>3213</th>\n",
              "      <td>1273</td>\n",
              "      <td>12.0</td>\n",
              "      <td>NaN</td>\n",
              "      <td>NaN</td>\n",
              "      <td>39.0</td>\n",
              "      <td>41.0</td>\n",
              "      <td>260.0</td>\n",
              "      <td>Курган</td>\n",
              "      <td>ultra</td>\n",
              "    </tr>\n",
              "    <tr>\n",
              "      <th>3214</th>\n",
              "      <td>1128</td>\n",
              "      <td>NaN</td>\n",
              "      <td>NaN</td>\n",
              "      <td>NaN</td>\n",
              "      <td>NaN</td>\n",
              "      <td>NaN</td>\n",
              "      <td>NaN</td>\n",
              "      <td>Волжский</td>\n",
              "      <td>ultra</td>\n",
              "    </tr>\n",
              "    <tr>\n",
              "      <th>3215</th>\n",
              "      <td>1371</td>\n",
              "      <td>NaN</td>\n",
              "      <td>NaN</td>\n",
              "      <td>NaN</td>\n",
              "      <td>NaN</td>\n",
              "      <td>NaN</td>\n",
              "      <td>NaN</td>\n",
              "      <td>Омск</td>\n",
              "      <td>smart</td>\n",
              "    </tr>\n",
              "  </tbody>\n",
              "</table>\n",
              "<p>3216 rows × 9 columns</p>\n",
              "</div>"
            ],
            "text/plain": [
              "      user_id  month  internet_mb  internet_gb  messages_count  calls_count  \\\n",
              "0        1000    5.0      2253.49          3.0            22.0         22.0   \n",
              "1        1000    6.0     23233.77         23.0            60.0         43.0   \n",
              "2        1000    7.0     14003.64         14.0            75.0         47.0   \n",
              "3        1000    8.0     14055.93         14.0            81.0         52.0   \n",
              "4        1000    9.0     14568.91         15.0            57.0         58.0   \n",
              "...       ...    ...          ...          ...             ...          ...   \n",
              "3211     1273   10.0          NaN          NaN            35.0         40.0   \n",
              "3212     1273   11.0          NaN          NaN            29.0         45.0   \n",
              "3213     1273   12.0          NaN          NaN            39.0         41.0   \n",
              "3214     1128    NaN          NaN          NaN             NaN          NaN   \n",
              "3215     1371    NaN          NaN          NaN             NaN          NaN   \n",
              "\n",
              "      calls_sum       city tariff  \n",
              "0         159.0  Краснодар  ultra  \n",
              "1         172.0  Краснодар  ultra  \n",
              "2         340.0  Краснодар  ultra  \n",
              "3         408.0  Краснодар  ultra  \n",
              "4         466.0  Краснодар  ultra  \n",
              "...         ...        ...    ...  \n",
              "3211      315.0     Курган  ultra  \n",
              "3212      272.0     Курган  ultra  \n",
              "3213      260.0     Курган  ultra  \n",
              "3214        NaN   Волжский  ultra  \n",
              "3215        NaN       Омск  smart  \n",
              "\n",
              "[3216 rows x 9 columns]"
            ]
          },
          "metadata": {}
        }
      ]
    },
    {
      "cell_type": "code",
      "source": "len(revenue['user_id'].unique())",
      "metadata": {},
      "execution_count": 31,
      "outputs": [
        {
          "execution_count": 31,
          "output_type": "execute_result",
          "data": {
            "text/plain": [
              "500"
            ]
          },
          "metadata": {}
        }
      ]
    },
    {
      "cell_type": "code",
      "source": "revenue['internet_gb'].sum()",
      "metadata": {},
      "execution_count": 32,
      "outputs": [
        {
          "execution_count": 32,
          "output_type": "execute_result",
          "data": {
            "text/plain": [
              "55599.0"
            ]
          },
          "metadata": {}
        }
      ]
    },
    {
      "cell_type": "code",
      "source": "id_internet['internet_gb'].sum()",
      "metadata": {},
      "execution_count": 33,
      "outputs": [
        {
          "execution_count": 33,
          "output_type": "execute_result",
          "data": {
            "text/plain": [
              "55599"
            ]
          },
          "metadata": {}
        }
      ]
    },
    {
      "cell_type": "code",
      "source": "revenue['messages_count'].sum()",
      "metadata": {},
      "execution_count": 34,
      "outputs": [
        {
          "execution_count": 34,
          "output_type": "execute_result",
          "data": {
            "text/plain": [
              "123036.0"
            ]
          },
          "metadata": {}
        }
      ]
    },
    {
      "cell_type": "code",
      "source": "id_messages['messages_count'].sum()",
      "metadata": {},
      "execution_count": 35,
      "outputs": [
        {
          "execution_count": 35,
          "output_type": "execute_result",
          "data": {
            "text/plain": [
              "123036"
            ]
          },
          "metadata": {}
        }
      ]
    },
    {
      "cell_type": "code",
      "source": "revenue['calls_sum'].sum()",
      "metadata": {},
      "execution_count": 36,
      "outputs": [
        {
          "execution_count": 36,
          "output_type": "execute_result",
          "data": {
            "text/plain": [
              "1450301.0"
            ]
          },
          "metadata": {}
        }
      ]
    },
    {
      "cell_type": "code",
      "source": "id_calls['calls_sum'].sum()",
      "metadata": {},
      "execution_count": 37,
      "outputs": [
        {
          "execution_count": 37,
          "output_type": "execute_result",
          "data": {
            "text/plain": [
              "1450301"
            ]
          },
          "metadata": {}
        }
      ]
    },
    {
      "cell_type": "markdown",
      "source": "Создали таблицу, отражающую продолжительность звонков, количество сообщений и интернет-трафика каждого пользователя по месяцам.",
      "metadata": {}
    },
    {
      "cell_type": "code",
      "source": "revenue.info()",
      "metadata": {},
      "execution_count": 38,
      "outputs": [
        {
          "name": "stdout",
          "output_type": "stream",
          "text": "<class 'pandas.core.frame.DataFrame'>\n\nInt64Index: 3216 entries, 0 to 3215\n\nData columns (total 9 columns):\n\n #   Column          Non-Null Count  Dtype  \n\n---  ------          --------------  -----  \n\n 0   user_id         3216 non-null   int64  \n\n 1   month           3214 non-null   float64\n\n 2   internet_mb     3203 non-null   float64\n\n 3   internet_gb     3203 non-null   float64\n\n 4   messages_count  2717 non-null   float64\n\n 5   calls_count     3174 non-null   float64\n\n 6   calls_sum       3174 non-null   float64\n\n 7   city            3216 non-null   object \n\n 8   tariff          3216 non-null   object \n\ndtypes: float64(6), int64(1), object(2)\n\nmemory usage: 251.2+ KB\n"
        }
      ]
    },
    {
      "cell_type": "markdown",
      "source": "В столбце `messages_count` остались пропуски. Их стоит заполнить, чтобы выполнить дальнейший анализ (медианным значением для корректности данных).",
      "metadata": {}
    },
    {
      "cell_type": "code",
      "source": "revenue = revenue.fillna(0)",
      "metadata": {
        "scrolled": true
      },
      "execution_count": 39,
      "outputs": []
    },
    {
      "cell_type": "code",
      "source": "tariffs",
      "metadata": {
        "scrolled": true
      },
      "execution_count": 40,
      "outputs": [
        {
          "execution_count": 40,
          "output_type": "execute_result",
          "data": {
            "text/html": [
              "<div>\n",
              "<style scoped>\n",
              "    .dataframe tbody tr th:only-of-type {\n",
              "        vertical-align: middle;\n",
              "    }\n",
              "\n",
              "    .dataframe tbody tr th {\n",
              "        vertical-align: top;\n",
              "    }\n",
              "\n",
              "    .dataframe thead th {\n",
              "        text-align: right;\n",
              "    }\n",
              "</style>\n",
              "<table border=\"1\" class=\"dataframe\">\n",
              "  <thead>\n",
              "    <tr style=\"text-align: right;\">\n",
              "      <th></th>\n",
              "      <th>messages_included</th>\n",
              "      <th>mb_per_month_included</th>\n",
              "      <th>minutes_included</th>\n",
              "      <th>rub_monthly_fee</th>\n",
              "      <th>rub_per_gb</th>\n",
              "      <th>rub_per_message</th>\n",
              "      <th>rub_per_minute</th>\n",
              "      <th>tariff_name</th>\n",
              "    </tr>\n",
              "  </thead>\n",
              "  <tbody>\n",
              "    <tr>\n",
              "      <th>0</th>\n",
              "      <td>50</td>\n",
              "      <td>15360</td>\n",
              "      <td>500</td>\n",
              "      <td>550</td>\n",
              "      <td>200</td>\n",
              "      <td>3</td>\n",
              "      <td>3</td>\n",
              "      <td>smart</td>\n",
              "    </tr>\n",
              "    <tr>\n",
              "      <th>1</th>\n",
              "      <td>1000</td>\n",
              "      <td>30720</td>\n",
              "      <td>3000</td>\n",
              "      <td>1950</td>\n",
              "      <td>150</td>\n",
              "      <td>1</td>\n",
              "      <td>1</td>\n",
              "      <td>ultra</td>\n",
              "    </tr>\n",
              "  </tbody>\n",
              "</table>\n",
              "</div>"
            ],
            "text/plain": [
              "   messages_included  mb_per_month_included  minutes_included  \\\n",
              "0                 50                  15360               500   \n",
              "1               1000                  30720              3000   \n",
              "\n",
              "   rub_monthly_fee  rub_per_gb  rub_per_message  rub_per_minute tariff_name  \n",
              "0              550         200                3               3       smart  \n",
              "1             1950         150                1               1       ultra  "
            ]
          },
          "metadata": {}
        }
      ]
    },
    {
      "cell_type": "code",
      "source": "def revenue_sum(row):\n    tariff = row['tariff']\n    calls = row['calls_sum']\n    messages = row['messages_count']\n    internet = row['internet_gb']\n    sum_calls = calls - int(tariffs[tariffs['tariff_name'] == tariff]['minutes_included'])\n    sum_internet = internet - int(tariffs[tariffs['tariff_name'] == tariff]['mb_per_month_included'])/1024\n    sum_messages = messages - int(tariffs[tariffs['tariff_name'] == tariff]['messages_included'])\n    if sum_calls < 0:\n        sum_calls = 0\n    if sum_internet < 0:\n        sum_internet = 0\n    if sum_messages < 0:\n        sum_messages = 0\n    return (\n        sum_calls*int(tariffs[tariffs['tariff_name'] == tariff]['rub_per_minute'])\n        +sum_internet*int(tariffs[tariffs['tariff_name'] == tariff]['rub_per_gb'])\n        +sum_messages*int(tariffs[tariffs['tariff_name'] == tariff]['rub_per_message'])\n        +int(tariffs[tariffs['tariff_name'] == tariff]['rub_monthly_fee'])\n    )\nrevenue['revenue'] = revenue.apply(revenue_sum, axis=1)",
      "metadata": {},
      "execution_count": 41,
      "outputs": []
    },
    {
      "cell_type": "code",
      "source": "revenue.head(10)",
      "metadata": {
        "scrolled": true
      },
      "execution_count": 42,
      "outputs": [
        {
          "execution_count": 42,
          "output_type": "execute_result",
          "data": {
            "text/html": [
              "<div>\n",
              "<style scoped>\n",
              "    .dataframe tbody tr th:only-of-type {\n",
              "        vertical-align: middle;\n",
              "    }\n",
              "\n",
              "    .dataframe tbody tr th {\n",
              "        vertical-align: top;\n",
              "    }\n",
              "\n",
              "    .dataframe thead th {\n",
              "        text-align: right;\n",
              "    }\n",
              "</style>\n",
              "<table border=\"1\" class=\"dataframe\">\n",
              "  <thead>\n",
              "    <tr style=\"text-align: right;\">\n",
              "      <th></th>\n",
              "      <th>user_id</th>\n",
              "      <th>month</th>\n",
              "      <th>internet_mb</th>\n",
              "      <th>internet_gb</th>\n",
              "      <th>messages_count</th>\n",
              "      <th>calls_count</th>\n",
              "      <th>calls_sum</th>\n",
              "      <th>city</th>\n",
              "      <th>tariff</th>\n",
              "      <th>revenue</th>\n",
              "    </tr>\n",
              "  </thead>\n",
              "  <tbody>\n",
              "    <tr>\n",
              "      <th>0</th>\n",
              "      <td>1000</td>\n",
              "      <td>5.0</td>\n",
              "      <td>2253.49</td>\n",
              "      <td>3.0</td>\n",
              "      <td>22.0</td>\n",
              "      <td>22.0</td>\n",
              "      <td>159.0</td>\n",
              "      <td>Краснодар</td>\n",
              "      <td>ultra</td>\n",
              "      <td>1950.0</td>\n",
              "    </tr>\n",
              "    <tr>\n",
              "      <th>1</th>\n",
              "      <td>1000</td>\n",
              "      <td>6.0</td>\n",
              "      <td>23233.77</td>\n",
              "      <td>23.0</td>\n",
              "      <td>60.0</td>\n",
              "      <td>43.0</td>\n",
              "      <td>172.0</td>\n",
              "      <td>Краснодар</td>\n",
              "      <td>ultra</td>\n",
              "      <td>1950.0</td>\n",
              "    </tr>\n",
              "    <tr>\n",
              "      <th>2</th>\n",
              "      <td>1000</td>\n",
              "      <td>7.0</td>\n",
              "      <td>14003.64</td>\n",
              "      <td>14.0</td>\n",
              "      <td>75.0</td>\n",
              "      <td>47.0</td>\n",
              "      <td>340.0</td>\n",
              "      <td>Краснодар</td>\n",
              "      <td>ultra</td>\n",
              "      <td>1950.0</td>\n",
              "    </tr>\n",
              "    <tr>\n",
              "      <th>3</th>\n",
              "      <td>1000</td>\n",
              "      <td>8.0</td>\n",
              "      <td>14055.93</td>\n",
              "      <td>14.0</td>\n",
              "      <td>81.0</td>\n",
              "      <td>52.0</td>\n",
              "      <td>408.0</td>\n",
              "      <td>Краснодар</td>\n",
              "      <td>ultra</td>\n",
              "      <td>1950.0</td>\n",
              "    </tr>\n",
              "    <tr>\n",
              "      <th>4</th>\n",
              "      <td>1000</td>\n",
              "      <td>9.0</td>\n",
              "      <td>14568.91</td>\n",
              "      <td>15.0</td>\n",
              "      <td>57.0</td>\n",
              "      <td>58.0</td>\n",
              "      <td>466.0</td>\n",
              "      <td>Краснодар</td>\n",
              "      <td>ultra</td>\n",
              "      <td>1950.0</td>\n",
              "    </tr>\n",
              "    <tr>\n",
              "      <th>5</th>\n",
              "      <td>1000</td>\n",
              "      <td>10.0</td>\n",
              "      <td>14702.49</td>\n",
              "      <td>15.0</td>\n",
              "      <td>73.0</td>\n",
              "      <td>57.0</td>\n",
              "      <td>350.0</td>\n",
              "      <td>Краснодар</td>\n",
              "      <td>ultra</td>\n",
              "      <td>1950.0</td>\n",
              "    </tr>\n",
              "    <tr>\n",
              "      <th>6</th>\n",
              "      <td>1000</td>\n",
              "      <td>11.0</td>\n",
              "      <td>14756.47</td>\n",
              "      <td>15.0</td>\n",
              "      <td>58.0</td>\n",
              "      <td>43.0</td>\n",
              "      <td>338.0</td>\n",
              "      <td>Краснодар</td>\n",
              "      <td>ultra</td>\n",
              "      <td>1950.0</td>\n",
              "    </tr>\n",
              "    <tr>\n",
              "      <th>7</th>\n",
              "      <td>1000</td>\n",
              "      <td>12.0</td>\n",
              "      <td>9817.61</td>\n",
              "      <td>10.0</td>\n",
              "      <td>70.0</td>\n",
              "      <td>46.0</td>\n",
              "      <td>333.0</td>\n",
              "      <td>Краснодар</td>\n",
              "      <td>ultra</td>\n",
              "      <td>1950.0</td>\n",
              "    </tr>\n",
              "    <tr>\n",
              "      <th>8</th>\n",
              "      <td>1001</td>\n",
              "      <td>11.0</td>\n",
              "      <td>18429.34</td>\n",
              "      <td>18.0</td>\n",
              "      <td>0.0</td>\n",
              "      <td>59.0</td>\n",
              "      <td>430.0</td>\n",
              "      <td>Москва</td>\n",
              "      <td>smart</td>\n",
              "      <td>1150.0</td>\n",
              "    </tr>\n",
              "    <tr>\n",
              "      <th>9</th>\n",
              "      <td>1001</td>\n",
              "      <td>12.0</td>\n",
              "      <td>14036.66</td>\n",
              "      <td>14.0</td>\n",
              "      <td>0.0</td>\n",
              "      <td>63.0</td>\n",
              "      <td>414.0</td>\n",
              "      <td>Москва</td>\n",
              "      <td>smart</td>\n",
              "      <td>550.0</td>\n",
              "    </tr>\n",
              "  </tbody>\n",
              "</table>\n",
              "</div>"
            ],
            "text/plain": [
              "   user_id  month  internet_mb  internet_gb  messages_count  calls_count  \\\n",
              "0     1000    5.0      2253.49          3.0            22.0         22.0   \n",
              "1     1000    6.0     23233.77         23.0            60.0         43.0   \n",
              "2     1000    7.0     14003.64         14.0            75.0         47.0   \n",
              "3     1000    8.0     14055.93         14.0            81.0         52.0   \n",
              "4     1000    9.0     14568.91         15.0            57.0         58.0   \n",
              "5     1000   10.0     14702.49         15.0            73.0         57.0   \n",
              "6     1000   11.0     14756.47         15.0            58.0         43.0   \n",
              "7     1000   12.0      9817.61         10.0            70.0         46.0   \n",
              "8     1001   11.0     18429.34         18.0             0.0         59.0   \n",
              "9     1001   12.0     14036.66         14.0             0.0         63.0   \n",
              "\n",
              "   calls_sum       city tariff  revenue  \n",
              "0      159.0  Краснодар  ultra   1950.0  \n",
              "1      172.0  Краснодар  ultra   1950.0  \n",
              "2      340.0  Краснодар  ultra   1950.0  \n",
              "3      408.0  Краснодар  ultra   1950.0  \n",
              "4      466.0  Краснодар  ultra   1950.0  \n",
              "5      350.0  Краснодар  ultra   1950.0  \n",
              "6      338.0  Краснодар  ultra   1950.0  \n",
              "7      333.0  Краснодар  ultra   1950.0  \n",
              "8      430.0     Москва  smart   1150.0  \n",
              "9      414.0     Москва  smart    550.0  "
            ]
          },
          "metadata": {}
        }
      ]
    },
    {
      "cell_type": "markdown",
      "source": "Вывод:\n\nОсуществлена проверка на пропуски и дубликаты, данные объеденены в одну таблицу, преведены к нужным типам, удален столбец, не отражающий полезной информации. Добавлена колонка, отражающая ежемесячную выручку с каждого пользователя.\nДанные подготовлены к анализу.",
      "metadata": {}
    },
    {
      "cell_type": "markdown",
      "source": "## Анализ данных",
      "metadata": {}
    },
    {
      "cell_type": "code",
      "source": "mean_month = revenue.pivot_table(index=['tariff', 'month'], values=['internet_mb', 'internet_gb', 'messages_count', 'calls_sum', 'revenue'], aggfunc='mean')\nmean = mean_month.pivot_table(index=['tariff'], values=['internet_mb', 'internet_gb', 'messages_count', 'calls_sum', 'revenue'], aggfunc='mean')\nmean.loc['difference'] = mean.loc['ultra'] - mean.loc['smart']\nmean\n# Сначало нашли средние значения по тарифам в каждом месяце, затем среднее средних ежемесячных значений.",
      "metadata": {},
      "execution_count": 43,
      "outputs": [
        {
          "execution_count": 43,
          "output_type": "execute_result",
          "data": {
            "text/html": [
              "<div>\n",
              "<style scoped>\n",
              "    .dataframe tbody tr th:only-of-type {\n",
              "        vertical-align: middle;\n",
              "    }\n",
              "\n",
              "    .dataframe tbody tr th {\n",
              "        vertical-align: top;\n",
              "    }\n",
              "\n",
              "    .dataframe thead th {\n",
              "        text-align: right;\n",
              "    }\n",
              "</style>\n",
              "<table border=\"1\" class=\"dataframe\">\n",
              "  <thead>\n",
              "    <tr style=\"text-align: right;\">\n",
              "      <th></th>\n",
              "      <th>calls_sum</th>\n",
              "      <th>internet_gb</th>\n",
              "      <th>internet_mb</th>\n",
              "      <th>messages_count</th>\n",
              "      <th>revenue</th>\n",
              "    </tr>\n",
              "    <tr>\n",
              "      <th>tariff</th>\n",
              "      <th></th>\n",
              "      <th></th>\n",
              "      <th></th>\n",
              "      <th></th>\n",
              "      <th></th>\n",
              "    </tr>\n",
              "  </thead>\n",
              "  <tbody>\n",
              "    <tr>\n",
              "      <th>smart</th>\n",
              "      <td>357.009691</td>\n",
              "      <td>14.029595</td>\n",
              "      <td>13900.067293</td>\n",
              "      <td>28.996810</td>\n",
              "      <td>1131.468699</td>\n",
              "    </tr>\n",
              "    <tr>\n",
              "      <th>ultra</th>\n",
              "      <td>457.785517</td>\n",
              "      <td>16.854403</td>\n",
              "      <td>16805.362681</td>\n",
              "      <td>40.352292</td>\n",
              "      <td>2039.476483</td>\n",
              "    </tr>\n",
              "    <tr>\n",
              "      <th>difference</th>\n",
              "      <td>100.775826</td>\n",
              "      <td>2.824808</td>\n",
              "      <td>2905.295388</td>\n",
              "      <td>11.355482</td>\n",
              "      <td>908.007784</td>\n",
              "    </tr>\n",
              "  </tbody>\n",
              "</table>\n",
              "</div>"
            ],
            "text/plain": [
              "             calls_sum  internet_gb   internet_mb  messages_count      revenue\n",
              "tariff                                                                        \n",
              "smart       357.009691    14.029595  13900.067293       28.996810  1131.468699\n",
              "ultra       457.785517    16.854403  16805.362681       40.352292  2039.476483\n",
              "difference  100.775826     2.824808   2905.295388       11.355482   908.007784"
            ]
          },
          "metadata": {}
        }
      ]
    },
    {
      "cell_type": "code",
      "source": "smart = revenue.query('tariff == \"smart\"')\nultra = revenue.query('tariff == \"ultra\"')",
      "metadata": {},
      "execution_count": 44,
      "outputs": []
    },
    {
      "cell_type": "markdown",
      "source": "Создали таблицы с средней ежемесячной выручкой для каждого тарифа.",
      "metadata": {}
    },
    {
      "cell_type": "code",
      "source": "error_smart = 1.96*np.std(smart['revenue'])/np.sqrt(len(smart))\nerror_smart",
      "metadata": {},
      "execution_count": 45,
      "outputs": [
        {
          "execution_count": 45,
          "output_type": "execute_result",
          "data": {
            "text/plain": [
              "33.95911524738016"
            ]
          },
          "metadata": {}
        }
      ]
    },
    {
      "cell_type": "markdown",
      "source": "Доверительный интервал для средней ежемесячной выручки с тарифа \"Смарт\" при доверительном уровне 95%.",
      "metadata": {}
    },
    {
      "cell_type": "code",
      "source": "error_ultra = 1.96*np.std(ultra['revenue'])/np.sqrt(len(ultra))\nerror_ultra",
      "metadata": {},
      "execution_count": 46,
      "outputs": [
        {
          "execution_count": 46,
          "output_type": "execute_result",
          "data": {
            "text/plain": [
              "23.458655054874747"
            ]
          },
          "metadata": {}
        }
      ]
    },
    {
      "cell_type": "markdown",
      "source": "Доверительный интервал для средней ежемесячной выручки с тарифа \"Ультра\" при доверительном уровне 95%.",
      "metadata": {}
    },
    {
      "cell_type": "markdown",
      "source": "Таблица `mean` отражает ежемесячные средние значения по расходование минут тарифа, интернет-трафика и количества сообщений по разным тарифам месяц, а также разницу показателей тарифаов Ultra и Smart. \n\nКак видим, среднее необходимое количество минут разговора, интернет-трафика и количества сообщений пользователям тарифа Ultra превышает показатели для пользователей тарифа Smart. \n\nСредня ежемесячная выручка с тарифа \"Смарт\" составляет 1099.32 руб. (или от 1066.51 руб. до 1132.43 руб.)\n\nСредня ежемесячная выручка с тарифа \"Ультра\" составляет 2039.48 руб. (или от 2016.02 руб. до 2062.94 руб.)\n\nКроме того, средняя ежемесячная выручка сотового оператора с одного пользователя тарифа Ultra больше на 897.14 руб.",
      "metadata": {}
    },
    {
      "cell_type": "code",
      "source": "a = revenue.pivot_table(index=['tariff', 'month'], values='revenue', aggfunc='mean').reset_index()\nb = revenue.pivot_table(index=['tariff', 'month'], values='user_id', aggfunc='count').reset_index()\nsmart_plot = a.query('tariff == \"smart\"')\nultra_plot = a.query('tariff == \"ultra\"')\nuser_smart = b.query('tariff == \"smart\"')\n#user_ultra = b.query('tariff == \"ultra\"')\nplt.figure(figsize=(12, 6))\nplt.title('Сравнение средней ежемесячной выручки тарифов Smart и Ultra')\nplt.plot(ultra_plot['month'], ultra_plot['revenue'], label=\"выручка с ultra\")\nplt.plot(smart_plot['month'], smart_plot['revenue'], label=\"выручка с smart\")\n#plt.plot(user_ultra['month'], user_ultra['user_id'], label=\"количество пользователей ultra\")\n#plt.plot(user_smart['month'], user_smart['user_id'], label=\"количество пользователей smart\")\nplt.xlabel('Месяц')\nplt.ylabel('Выручка')\nplt.legend()\nplt.grid(True)",
      "metadata": {},
      "execution_count": 47,
      "outputs": [
        {
          "output_type": "display_data",
          "data": {
            "image/png": "[encoded data removed]",
            "text/plain": [
              "<Figure size 864x432 with 1 Axes>"
            ]
          },
          "metadata": {
            "needs_background": "light"
          }
        }
      ]
    },
    {
      "cell_type": "markdown",
      "source": "Можем заметить, что средняя ежемесячная выручка сотового оператора с тарифа Smart существенно увеличивается, в отличии от выручки с тарифа Ultra. Однако это объясняется сильным приростом пользователей тарифа Smart, ввиду чего разрыв среденей ежемесячной выручки по тарифам сокращается.",
      "metadata": {}
    },
    {
      "cell_type": "code",
      "source": "revenue_user = revenue.groupby(['tariff', 'month']).agg({'revenue':['mean', 'sum']}).reset_index()\nc = revenue.groupby(['tariff', 'month']).agg({'revenue':['mean', 'sum']}).reset_index()\nc.columns = ['tariff', 'month', 'revenue_mean', 'revenue_sum']\nsmart_c = c.query('tariff == \"smart\"')\nultra_c = c.query('tariff == \"ultra\"')\nplt.figure(figsize=(12, 6))\nplt.title('Сравнение ежемесячной выручки тарифов Smart и Ultra')\nplt.plot(ultra_c['month'], ultra_c['revenue_sum'], label=\"выручка с ultra\")\nplt.plot(smart_c['month'], smart_c['revenue_sum'], label=\"выручка с smart\")\nplt.xlabel('Месяц')\nplt.ylabel('Выручка')\nplt.legend()\nplt.grid(True)",
      "metadata": {},
      "execution_count": 48,
      "outputs": [
        {
          "output_type": "display_data",
          "data": {
            "image/png": "[encoded data removed]",
            "text/plain": [
              "<Figure size 864x432 with 1 Axes>"
            ]
          },
          "metadata": {
            "needs_background": "light"
          }
        }
      ]
    },
    {
      "cell_type": "markdown",
      "source": "При большей средней ежемесячной выруски с тарифа \"Ultra\", общая ежемесячная выручка с тарифа \"Smart\" заметно больше. Число пользователей тарифа \"Smart\" превышает число пользователей другого тарифа (как и темп роста пользователей), чем можно объяснить такую разницу.",
      "metadata": {}
    },
    {
      "cell_type": "code",
      "source": "revenue.pivot_table(\n    index = 'tariff',\n    values = ['calls_sum', 'messages_count', 'internet_mb', 'revenue'],\n    aggfunc= ['mean', 'var','std'])",
      "metadata": {},
      "execution_count": 49,
      "outputs": [
        {
          "execution_count": 49,
          "output_type": "execute_result",
          "data": {
            "text/html": [
              "<div>\n",
              "<style scoped>\n",
              "    .dataframe tbody tr th:only-of-type {\n",
              "        vertical-align: middle;\n",
              "    }\n",
              "\n",
              "    .dataframe tbody tr th {\n",
              "        vertical-align: top;\n",
              "    }\n",
              "\n",
              "    .dataframe thead tr th {\n",
              "        text-align: left;\n",
              "    }\n",
              "\n",
              "    .dataframe thead tr:last-of-type th {\n",
              "        text-align: right;\n",
              "    }\n",
              "</style>\n",
              "<table border=\"1\" class=\"dataframe\">\n",
              "  <thead>\n",
              "    <tr>\n",
              "      <th></th>\n",
              "      <th colspan=\"4\" halign=\"left\">mean</th>\n",
              "      <th colspan=\"4\" halign=\"left\">var</th>\n",
              "      <th colspan=\"4\" halign=\"left\">std</th>\n",
              "    </tr>\n",
              "    <tr>\n",
              "      <th></th>\n",
              "      <th>calls_sum</th>\n",
              "      <th>internet_mb</th>\n",
              "      <th>messages_count</th>\n",
              "      <th>revenue</th>\n",
              "      <th>calls_sum</th>\n",
              "      <th>internet_mb</th>\n",
              "      <th>messages_count</th>\n",
              "      <th>revenue</th>\n",
              "      <th>calls_sum</th>\n",
              "      <th>internet_mb</th>\n",
              "      <th>messages_count</th>\n",
              "      <th>revenue</th>\n",
              "    </tr>\n",
              "    <tr>\n",
              "      <th>tariff</th>\n",
              "      <th></th>\n",
              "      <th></th>\n",
              "      <th></th>\n",
              "      <th></th>\n",
              "      <th></th>\n",
              "      <th></th>\n",
              "      <th></th>\n",
              "      <th></th>\n",
              "      <th></th>\n",
              "      <th></th>\n",
              "      <th></th>\n",
              "      <th></th>\n",
              "    </tr>\n",
              "  </thead>\n",
              "  <tbody>\n",
              "    <tr>\n",
              "      <th>smart</th>\n",
              "      <td>417.747534</td>\n",
              "      <td>16201.118655</td>\n",
              "      <td>33.369058</td>\n",
              "      <td>1289.641704</td>\n",
              "      <td>36281.393836</td>\n",
              "      <td>3.456484e+07</td>\n",
              "      <td>796.955256</td>\n",
              "      <td>669730.763895</td>\n",
              "      <td>190.476754</td>\n",
              "      <td>5879.187315</td>\n",
              "      <td>28.230396</td>\n",
              "      <td>818.370799</td>\n",
              "    </tr>\n",
              "    <tr>\n",
              "      <th>ultra</th>\n",
              "      <td>526.089249</td>\n",
              "      <td>19449.059970</td>\n",
              "      <td>49.313387</td>\n",
              "      <td>2070.030426</td>\n",
              "      <td>101052.493549</td>\n",
              "      <td>1.020321e+08</td>\n",
              "      <td>2285.417425</td>\n",
              "      <td>141387.714809</td>\n",
              "      <td>317.887549</td>\n",
              "      <td>10101.095459</td>\n",
              "      <td>47.806040</td>\n",
              "      <td>376.015578</td>\n",
              "    </tr>\n",
              "  </tbody>\n",
              "</table>\n",
              "</div>"
            ],
            "text/plain": [
              "              mean                                                      var  \\\n",
              "         calls_sum   internet_mb messages_count      revenue      calls_sum   \n",
              "tariff                                                                        \n",
              "smart   417.747534  16201.118655      33.369058  1289.641704   36281.393836   \n",
              "ultra   526.089249  19449.059970      49.313387  2070.030426  101052.493549   \n",
              "\n",
              "                                                           std                \\\n",
              "         internet_mb messages_count        revenue   calls_sum   internet_mb   \n",
              "tariff                                                                         \n",
              "smart   3.456484e+07     796.955256  669730.763895  190.476754   5879.187315   \n",
              "ultra   1.020321e+08    2285.417425  141387.714809  317.887549  10101.095459   \n",
              "\n",
              "                                   \n",
              "       messages_count     revenue  \n",
              "tariff                             \n",
              "smart       28.230396  818.370799  \n",
              "ultra       47.806040  376.015578  "
            ]
          },
          "metadata": {}
        }
      ]
    },
    {
      "cell_type": "markdown",
      "source": "Дисперсия и стандартное отклонение по таким показателя, как использование интрнет-трафика, количество сообщений, звонков и израсходованных минут у пользователей тарифа Ultra существенно выше. Данный факт свидетельствует о большем разбросе анализируемых показателей вокруг среднего значения.",
      "metadata": {}
    },
    {
      "cell_type": "code",
      "source": "smart['revenue'].hist(alpha=0.5)\nultra['revenue'].hist(alpha=0.5)\nplt.title('Гистограмма распределения выручки по двум тарифам')\nplt.xlabel('Выручка')\nplt.ylabel('Частотность')\nplt.legend(['smart', 'ultra'])",
      "metadata": {},
      "execution_count": 50,
      "outputs": [
        {
          "execution_count": 50,
          "output_type": "execute_result",
          "data": {
            "text/plain": [
              "<matplotlib.legend.Legend at 0x7ffabd298250>"
            ]
          },
          "metadata": {}
        },
        {
          "output_type": "display_data",
          "data": {
            "image/png": "[encoded data removed]",
            "text/plain": [
              "<Figure size 432x288 with 1 Axes>"
            ]
          },
          "metadata": {
            "needs_background": "light"
          }
        }
      ]
    },
    {
      "cell_type": "code",
      "source": "smart['internet_gb'].hist(alpha=0.5)\nultra['internet_gb'].hist(alpha=0.5)\nplt.title('Гистограмма распределения использования интернет-трафика по двум тарифам')\nplt.xlabel('Интернет-трафик')\nplt.ylabel('Частотность')\nplt.legend(['smart', 'ultra'])",
      "metadata": {
        "scrolled": true
      },
      "execution_count": 51,
      "outputs": [
        {
          "execution_count": 51,
          "output_type": "execute_result",
          "data": {
            "text/plain": [
              "<matplotlib.legend.Legend at 0x7ffabd1e3af0>"
            ]
          },
          "metadata": {}
        },
        {
          "output_type": "display_data",
          "data": {
            "image/png": "[encoded data removed]",
            "text/plain": [
              "<Figure size 432x288 with 1 Axes>"
            ]
          },
          "metadata": {
            "needs_background": "light"
          }
        }
      ]
    },
    {
      "cell_type": "code",
      "source": "smart['calls_sum'].hist(alpha=0.5)\nultra['calls_sum'].hist(alpha=0.5)\nplt.title('Гистограмма распределения минут звонков по двум тарифам')\nplt.xlabel('Использование минут')\nplt.ylabel('Частотность')\nplt.legend(['smart', 'ultra'])",
      "metadata": {
        "scrolled": true
      },
      "execution_count": 52,
      "outputs": [
        {
          "execution_count": 52,
          "output_type": "execute_result",
          "data": {
            "text/plain": [
              "<matplotlib.legend.Legend at 0x7ffabce30340>"
            ]
          },
          "metadata": {}
        },
        {
          "output_type": "display_data",
          "data": {
            "image/png": "[encoded data removed]",
            "text/plain": [
              "<Figure size 432x288 with 1 Axes>"
            ]
          },
          "metadata": {
            "needs_background": "light"
          }
        }
      ]
    },
    {
      "cell_type": "code",
      "source": "smart['messages_count'].hist(alpha=0.5)\nultra['messages_count'].hist(alpha=0.5)\nplt.title('Гистограмма распределения количества сообщений по двум тарифам')\nplt.xlabel('Количество сообщений')\nplt.ylabel('Частотность')\nplt.legend(['smart', 'ultra'])",
      "metadata": {},
      "execution_count": 53,
      "outputs": [
        {
          "execution_count": 53,
          "output_type": "execute_result",
          "data": {
            "text/plain": [
              "<matplotlib.legend.Legend at 0x7ffabccbc430>"
            ]
          },
          "metadata": {}
        },
        {
          "output_type": "display_data",
          "data": {
            "image/png": "[encoded data removed]",
            "text/plain": [
              "<Figure size 432x288 with 1 Axes>"
            ]
          },
          "metadata": {
            "needs_background": "light"
          }
        }
      ]
    },
    {
      "cell_type": "markdown",
      "source": "Гисторграммы распределения изучаемых показателей по каждому тарифу не имеют нормального распределения. Можем отметить, что показатели использование интернет-трафика тарифа Smart стремятся к нормальному распределению, в отличии от данного показателя тарифа Ultra. Помимо этого, частота показателя использованных минут разговора тарифа Ultra имеет большее смещение влево (асимметрия влево), чем у тарифа Smart, что свидетельствует о больщем количестве данного показателя, стремящихся к нулю.\n",
      "metadata": {}
    },
    {
      "cell_type": "markdown",
      "source": "Среднее ежемесячное количество звонков, сообщений, использованных минут разговора и интернет-трафика у пользователей тарифа Ultra существенно выше, чем у пользователей тарифа Smart. Однако разброс значений анализируемых показателей вокруг среднего  также выше, что говорит о наличии пользователей тарифа Ultra, которые используют услуги сотового оператора как более активно, так и менее активно, чем среднестатистический пользователь.\n\nКроме того, выручка сотового оператора с тарифа Ultra существенно выше, чем с тарифа Smart. Однако количество пользователей тарифа Smart растет быстрее, чем пользователей тарифа Ultra, и разница в средней ежемесячной выручке сокращается.",
      "metadata": {}
    },
    {
      "cell_type": "markdown",
      "source": "## Проверка гипотез",
      "metadata": {}
    },
    {
      "cell_type": "markdown",
      "source": "### Гипотеза: средняя выручка пользователей тарифов «Ультра» и «Смарт» различаются",
      "metadata": {}
    },
    {
      "cell_type": "markdown",
      "source": "Нулевая гипотеза: средние выручки пользователей тарифов «Ультра» и «Смарт» равны\n\nАльтернативная гипотеза: средняя выручка пользователей тарифа \"Ультра\" не равна выручки пользователей тарифа \"Смарт\"\n\nВ задании необходимо выяснить отличаются ли среднии выручки представленных тарифов. Соотвесвенно, нулевая гипотеза гласит, что равны. \nПоскольку мы проводим двусторонний тест, то альтернативная гипотеза является обратной нулевой.",
      "metadata": {}
    },
    {
      "cell_type": "code",
      "source": "result = st.ttest_ind(smart['revenue'], ultra['revenue'], equal_var = False)\nalpha = 0.01\nprint('p-значение:', result.pvalue)\nif result.pvalue < alpha:\n    print(\"Нулевая гипотеза маловероятна\")\nelse:\n    print(\"Нулевая гипотеза вероятна\") ",
      "metadata": {
        "scrolled": true
      },
      "execution_count": 54,
      "outputs": [
        {
          "name": "stdout",
          "output_type": "stream",
          "text": "p-значение: 1.927011394420941e-250\n\nНулевая гипотеза маловероятна\n"
        }
      ]
    },
    {
      "cell_type": "code",
      "source": "print('Средняя выручка с тарифа \"Смарт\"', smart['revenue'].mean())\nprint('Средняя выручка с тарифа \"Ультра\"', ultra['revenue'].mean())\n",
      "metadata": {},
      "execution_count": 55,
      "outputs": [
        {
          "name": "stdout",
          "output_type": "stream",
          "text": "Средняя выручка с тарифа \"Смарт\" 1289.6417040358745\n\nСредняя выручка с тарифа \"Ультра\" 2070.030425963489\n"
        }
      ]
    },
    {
      "cell_type": "markdown",
      "source": "Для проверки гипотезы использовали критический уровень статистической значимости, равный 0.01. Такое значение принято для более точного установления подтверждения гипотезы.\n\nПо результатм теста данные показывают очень маловероятные результаты, что нулевая гипотеза верна, поэтому мы принимаем альтернативную гипотезу, соотвесвенно средние выручки пользователей тарифов «Ультра» и «Смарт» не равны.\n\nКак было отмечено ранее, средняя выручка с тарифа \"Ультра\" превышаеет среднюю выручку с тарифа \"Смарт\".",
      "metadata": {}
    },
    {
      "cell_type": "markdown",
      "source": "### Гипотеза: средняя выручка пользователей из Москвы отличается от выручки пользователей из других регионов",
      "metadata": {}
    },
    {
      "cell_type": "markdown",
      "source": "Нулевая гипотеза: средняя выручка пользователей из Москвы равна выручки пользователей из других регионов\n\nАльтернативная гипотеза: средняя выручка пользователей из Москвы не равна выручки пользователей из других регионов\n\nНеобходимо установить есть ли отличия выручки от пользователей в Москве и от других регионов. ",
      "metadata": {}
    },
    {
      "cell_type": "code",
      "source": "moscow = revenue.query('city == \"Москва\"')\nregion = revenue.query('city != \"Москва\"')",
      "metadata": {},
      "execution_count": 56,
      "outputs": []
    },
    {
      "cell_type": "code",
      "source": "res = st.ttest_ind(moscow['revenue'], region['revenue'], equal_var = False)\nalpha = 0.01\nprint('p-значение:', res.pvalue)\nif res.pvalue < alpha:\n    print(\"Нулевая гипотеза маловероятна\")\nelse:\n    print(\"Нулевая гипотеза вероятна\") ",
      "metadata": {
        "scrolled": true
      },
      "execution_count": 57,
      "outputs": [
        {
          "name": "stdout",
          "output_type": "stream",
          "text": "p-значение: 0.5216952110000278\n\nНулевая гипотеза вероятна\n"
        }
      ]
    },
    {
      "cell_type": "code",
      "source": "print('Средняя выручка с  Москвы', moscow['revenue'].mean())\nprint('Средняя выручка с тдругих регионов', region['revenue'].mean())",
      "metadata": {},
      "execution_count": 58,
      "outputs": [
        {
          "name": "stdout",
          "output_type": "stream",
          "text": "Средняя выручка с  Москвы 1546.7135842880523\n\nСредняя выручка с тдругих регионов 1524.7251439539348\n"
        }
      ]
    },
    {
      "cell_type": "markdown",
      "source": "Как и для проверки первой гипотезы использовали критический уровень статистической значимости, равный 0.01. \n\nНулевая гипотеза оказалась достаточно вероятной, поэтому можем предположить, что средняя выручка пользователей из Москвы равна выручки из других регионов.",
      "metadata": {}
    },
    {
      "cell_type": "markdown",
      "source": "## Вывод",
      "metadata": {}
    },
    {
      "cell_type": "markdown",
      "source": "Проведенный анализ свидетельствует о том, что за 2018 год средняя ежемесячна выручка сотового оператора \"Мегалайн\" с тарифа \"Ультра\" превышает выручку с тарифа \"Смарт\". \n\nСтоит отметить, что общая ежемесячная выручка с тарифа \"Смарт\" существенно выше, чем выручка с тарифа \"Ультра\". Однако цель анализа - установить, с какого тарифа больше выручка на одного пользователя, чтобы скорректировать рекламный бюджет. Выручка с одного пользователя выше с тарифа \"Ультра\".\n\nПо результатам анализа средняя выручка с тарифа \"Ультра\" составила 2070.03 руб., средняя выручка с тарифа \"Смарт\" - 1289.64 руб.\n\nПри этом, средняя выручка пользователей из Москвы больше, чем из других регионов.",
      "metadata": {}
    }
  ]
}