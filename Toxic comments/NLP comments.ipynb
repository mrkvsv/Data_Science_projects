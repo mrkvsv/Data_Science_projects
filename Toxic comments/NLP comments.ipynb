{
  "metadata": {
    "kernelspec": {
      "language": "python",
      "display_name": "Python 3",
      "name": "python3"
    },
    "language_info": {
      "name": "python",
      "version": "3.7.12",
      "mimetype": "text/x-python",
      "codemirror_mode": {
        "name": "ipython",
        "version": 3
      },
      "pygments_lexer": "ipython3",
      "nbconvert_exporter": "python",
      "file_extension": ".py"
    },
    "colab": {
      "provenance": [],
      "collapsed_sections": [
        "LXrjDgY8_qpJ",
        "IzinsHLGrwSj"
      ]
    },
    "gpuClass": "standard",
    "widgets": {
      "application/vnd.jupyter.widget-state+json": {
        "fc5ee135b0984e679e61225837bd574b": {
          "model_module": "@jupyter-widgets/controls",
          "model_name": "HBoxModel",
          "model_module_version": "1.5.0",
          "state": {
            "_dom_classes": [],
            "_model_module": "@jupyter-widgets/controls",
            "_model_module_version": "1.5.0",
            "_model_name": "HBoxModel",
            "_view_count": null,
            "_view_module": "@jupyter-widgets/controls",
            "_view_module_version": "1.5.0",
            "_view_name": "HBoxView",
            "box_style": "",
            "children": [
              "IPY_MODEL_8aed51f2d6ff4801915188e471b13c5d",
              "IPY_MODEL_ef35f0903af44ac3911913def1c4f8e0",
              "IPY_MODEL_c8181e2df2a94f9e92660ee0cd24eebb"
            ],
            "layout": "IPY_MODEL_214ab206357a44498df8afc804f854f3"
          }
        },
        "8aed51f2d6ff4801915188e471b13c5d": {
          "model_module": "@jupyter-widgets/controls",
          "model_name": "HTMLModel",
          "model_module_version": "1.5.0",
          "state": {
            "_dom_classes": [],
            "_model_module": "@jupyter-widgets/controls",
            "_model_module_version": "1.5.0",
            "_model_name": "HTMLModel",
            "_view_count": null,
            "_view_module": "@jupyter-widgets/controls",
            "_view_module_version": "1.5.0",
            "_view_name": "HTMLView",
            "description": "",
            "description_tooltip": null,
            "layout": "IPY_MODEL_7def5de627ce4657a8e2e02d76b8dcce",
            "placeholder": "​",
            "style": "IPY_MODEL_0a936b73f8994d0e94d316a456675960",
            "value": "Downloading config.json: 100%"
          }
        },
        "ef35f0903af44ac3911913def1c4f8e0": {
          "model_module": "@jupyter-widgets/controls",
          "model_name": "FloatProgressModel",
          "model_module_version": "1.5.0",
          "state": {
            "_dom_classes": [],
            "_model_module": "@jupyter-widgets/controls",
            "_model_module_version": "1.5.0",
            "_model_name": "FloatProgressModel",
            "_view_count": null,
            "_view_module": "@jupyter-widgets/controls",
            "_view_module_version": "1.5.0",
            "_view_name": "ProgressView",
            "bar_style": "success",
            "description": "",
            "description_tooltip": null,
            "layout": "IPY_MODEL_404946cc9ad34ab897ef5e53a4ec2e81",
            "max": 811,
            "min": 0,
            "orientation": "horizontal",
            "style": "IPY_MODEL_328befaefd9047198a8d5e3f34382c1e",
            "value": 811
          }
        },
        "c8181e2df2a94f9e92660ee0cd24eebb": {
          "model_module": "@jupyter-widgets/controls",
          "model_name": "HTMLModel",
          "model_module_version": "1.5.0",
          "state": {
            "_dom_classes": [],
            "_model_module": "@jupyter-widgets/controls",
            "_model_module_version": "1.5.0",
            "_model_name": "HTMLModel",
            "_view_count": null,
            "_view_module": "@jupyter-widgets/controls",
            "_view_module_version": "1.5.0",
            "_view_name": "HTMLView",
            "description": "",
            "description_tooltip": null,
            "layout": "IPY_MODEL_80c676bfe90347e68025d139534dc777",
            "placeholder": "​",
            "style": "IPY_MODEL_ae83ebc4bbd94c2d87c781c5d5ef47eb",
            "value": " 811/811 [00:00&lt;00:00, 23.3kB/s]"
          }
        },
        "214ab206357a44498df8afc804f854f3": {
          "model_module": "@jupyter-widgets/base",
          "model_name": "LayoutModel",
          "model_module_version": "1.2.0",
          "state": {
            "_model_module": "@jupyter-widgets/base",
            "_model_module_version": "1.2.0",
            "_model_name": "LayoutModel",
            "_view_count": null,
            "_view_module": "@jupyter-widgets/base",
            "_view_module_version": "1.2.0",
            "_view_name": "LayoutView",
            "align_content": null,
            "align_items": null,
            "align_self": null,
            "border": null,
            "bottom": null,
            "display": null,
            "flex": null,
            "flex_flow": null,
            "grid_area": null,
            "grid_auto_columns": null,
            "grid_auto_flow": null,
            "grid_auto_rows": null,
            "grid_column": null,
            "grid_gap": null,
            "grid_row": null,
            "grid_template_areas": null,
            "grid_template_columns": null,
            "grid_template_rows": null,
            "height": null,
            "justify_content": null,
            "justify_items": null,
            "left": null,
            "margin": null,
            "max_height": null,
            "max_width": null,
            "min_height": null,
            "min_width": null,
            "object_fit": null,
            "object_position": null,
            "order": null,
            "overflow": null,
            "overflow_x": null,
            "overflow_y": null,
            "padding": null,
            "right": null,
            "top": null,
            "visibility": null,
            "width": null
          }
        },
        "7def5de627ce4657a8e2e02d76b8dcce": {
          "model_module": "@jupyter-widgets/base",
          "model_name": "LayoutModel",
          "model_module_version": "1.2.0",
          "state": {
            "_model_module": "@jupyter-widgets/base",
            "_model_module_version": "1.2.0",
            "_model_name": "LayoutModel",
            "_view_count": null,
            "_view_module": "@jupyter-widgets/base",
            "_view_module_version": "1.2.0",
            "_view_name": "LayoutView",
            "align_content": null,
            "align_items": null,
            "align_self": null,
            "border": null,
            "bottom": null,
            "display": null,
            "flex": null,
            "flex_flow": null,
            "grid_area": null,
            "grid_auto_columns": null,
            "grid_auto_flow": null,
            "grid_auto_rows": null,
            "grid_column": null,
            "grid_gap": null,
            "grid_row": null,
            "grid_template_areas": null,
            "grid_template_columns": null,
            "grid_template_rows": null,
            "height": null,
            "justify_content": null,
            "justify_items": null,
            "left": null,
            "margin": null,
            "max_height": null,
            "max_width": null,
            "min_height": null,
            "min_width": null,
            "object_fit": null,
            "object_position": null,
            "order": null,
            "overflow": null,
            "overflow_x": null,
            "overflow_y": null,
            "padding": null,
            "right": null,
            "top": null,
            "visibility": null,
            "width": null
          }
        },
        "0a936b73f8994d0e94d316a456675960": {
          "model_module": "@jupyter-widgets/controls",
          "model_name": "DescriptionStyleModel",
          "model_module_version": "1.5.0",
          "state": {
            "_model_module": "@jupyter-widgets/controls",
            "_model_module_version": "1.5.0",
            "_model_name": "DescriptionStyleModel",
            "_view_count": null,
            "_view_module": "@jupyter-widgets/base",
            "_view_module_version": "1.2.0",
            "_view_name": "StyleView",
            "description_width": ""
          }
        },
        "404946cc9ad34ab897ef5e53a4ec2e81": {
          "model_module": "@jupyter-widgets/base",
          "model_name": "LayoutModel",
          "model_module_version": "1.2.0",
          "state": {
            "_model_module": "@jupyter-widgets/base",
            "_model_module_version": "1.2.0",
            "_model_name": "LayoutModel",
            "_view_count": null,
            "_view_module": "@jupyter-widgets/base",
            "_view_module_version": "1.2.0",
            "_view_name": "LayoutView",
            "align_content": null,
            "align_items": null,
            "align_self": null,
            "border": null,
            "bottom": null,
            "display": null,
            "flex": null,
            "flex_flow": null,
            "grid_area": null,
            "grid_auto_columns": null,
            "grid_auto_flow": null,
            "grid_auto_rows": null,
            "grid_column": null,
            "grid_gap": null,
            "grid_row": null,
            "grid_template_areas": null,
            "grid_template_columns": null,
            "grid_template_rows": null,
            "height": null,
            "justify_content": null,
            "justify_items": null,
            "left": null,
            "margin": null,
            "max_height": null,
            "max_width": null,
            "min_height": null,
            "min_width": null,
            "object_fit": null,
            "object_position": null,
            "order": null,
            "overflow": null,
            "overflow_x": null,
            "overflow_y": null,
            "padding": null,
            "right": null,
            "top": null,
            "visibility": null,
            "width": null
          }
        },
        "328befaefd9047198a8d5e3f34382c1e": {
          "model_module": "@jupyter-widgets/controls",
          "model_name": "ProgressStyleModel",
          "model_module_version": "1.5.0",
          "state": {
            "_model_module": "@jupyter-widgets/controls",
            "_model_module_version": "1.5.0",
            "_model_name": "ProgressStyleModel",
            "_view_count": null,
            "_view_module": "@jupyter-widgets/base",
            "_view_module_version": "1.2.0",
            "_view_name": "StyleView",
            "bar_color": null,
            "description_width": ""
          }
        },
        "80c676bfe90347e68025d139534dc777": {
          "model_module": "@jupyter-widgets/base",
          "model_name": "LayoutModel",
          "model_module_version": "1.2.0",
          "state": {
            "_model_module": "@jupyter-widgets/base",
            "_model_module_version": "1.2.0",
            "_model_name": "LayoutModel",
            "_view_count": null,
            "_view_module": "@jupyter-widgets/base",
            "_view_module_version": "1.2.0",
            "_view_name": "LayoutView",
            "align_content": null,
            "align_items": null,
            "align_self": null,
            "border": null,
            "bottom": null,
            "display": null,
            "flex": null,
            "flex_flow": null,
            "grid_area": null,
            "grid_auto_columns": null,
            "grid_auto_flow": null,
            "grid_auto_rows": null,
            "grid_column": null,
            "grid_gap": null,
            "grid_row": null,
            "grid_template_areas": null,
            "grid_template_columns": null,
            "grid_template_rows": null,
            "height": null,
            "justify_content": null,
            "justify_items": null,
            "left": null,
            "margin": null,
            "max_height": null,
            "max_width": null,
            "min_height": null,
            "min_width": null,
            "object_fit": null,
            "object_position": null,
            "order": null,
            "overflow": null,
            "overflow_x": null,
            "overflow_y": null,
            "padding": null,
            "right": null,
            "top": null,
            "visibility": null,
            "width": null
          }
        },
        "ae83ebc4bbd94c2d87c781c5d5ef47eb": {
          "model_module": "@jupyter-widgets/controls",
          "model_name": "DescriptionStyleModel",
          "model_module_version": "1.5.0",
          "state": {
            "_model_module": "@jupyter-widgets/controls",
            "_model_module_version": "1.5.0",
            "_model_name": "DescriptionStyleModel",
            "_view_count": null,
            "_view_module": "@jupyter-widgets/base",
            "_view_module_version": "1.2.0",
            "_view_name": "StyleView",
            "description_width": ""
          }
        },
        "ace8621f1caa48d8b8d0c861a1ab2a59": {
          "model_module": "@jupyter-widgets/controls",
          "model_name": "HBoxModel",
          "model_module_version": "1.5.0",
          "state": {
            "_dom_classes": [],
            "_model_module": "@jupyter-widgets/controls",
            "_model_module_version": "1.5.0",
            "_model_name": "HBoxModel",
            "_view_count": null,
            "_view_module": "@jupyter-widgets/controls",
            "_view_module_version": "1.5.0",
            "_view_name": "HBoxView",
            "box_style": "",
            "children": [
              "IPY_MODEL_ecb4bcd3e1f74842b68055af56de31a9",
              "IPY_MODEL_86aac1b8160747a888f48bf6ae0e1212",
              "IPY_MODEL_207077ecdd4a418ea583ff62b0e2e27f"
            ],
            "layout": "IPY_MODEL_43a86a50fd7148aa8e5a100eb45d2117"
          }
        },
        "ecb4bcd3e1f74842b68055af56de31a9": {
          "model_module": "@jupyter-widgets/controls",
          "model_name": "HTMLModel",
          "model_module_version": "1.5.0",
          "state": {
            "_dom_classes": [],
            "_model_module": "@jupyter-widgets/controls",
            "_model_module_version": "1.5.0",
            "_model_name": "HTMLModel",
            "_view_count": null,
            "_view_module": "@jupyter-widgets/controls",
            "_view_module_version": "1.5.0",
            "_view_name": "HTMLView",
            "description": "",
            "description_tooltip": null,
            "layout": "IPY_MODEL_98a4e053e6c8433cb74d4801f4ba1115",
            "placeholder": "​",
            "style": "IPY_MODEL_a64265d89b3a4280be40d5d350114667",
            "value": "Downloading pytorch_model.bin: 100%"
          }
        },
        "86aac1b8160747a888f48bf6ae0e1212": {
          "model_module": "@jupyter-widgets/controls",
          "model_name": "FloatProgressModel",
          "model_module_version": "1.5.0",
          "state": {
            "_dom_classes": [],
            "_model_module": "@jupyter-widgets/controls",
            "_model_module_version": "1.5.0",
            "_model_name": "FloatProgressModel",
            "_view_count": null,
            "_view_module": "@jupyter-widgets/controls",
            "_view_module_version": "1.5.0",
            "_view_name": "ProgressView",
            "bar_style": "success",
            "description": "",
            "description_tooltip": null,
            "layout": "IPY_MODEL_319afc4334f648638224a354b331b3f5",
            "max": 438033929,
            "min": 0,
            "orientation": "horizontal",
            "style": "IPY_MODEL_ccfffc15b67a47d0be544282d9a1176c",
            "value": 438033929
          }
        },
        "207077ecdd4a418ea583ff62b0e2e27f": {
          "model_module": "@jupyter-widgets/controls",
          "model_name": "HTMLModel",
          "model_module_version": "1.5.0",
          "state": {
            "_dom_classes": [],
            "_model_module": "@jupyter-widgets/controls",
            "_model_module_version": "1.5.0",
            "_model_name": "HTMLModel",
            "_view_count": null,
            "_view_module": "@jupyter-widgets/controls",
            "_view_module_version": "1.5.0",
            "_view_name": "HTMLView",
            "description": "",
            "description_tooltip": null,
            "layout": "IPY_MODEL_5bd1457e1d7a427aa079fa63ff5a80f1",
            "placeholder": "​",
            "style": "IPY_MODEL_798c09333b4d470f8cb2922f547d10c2",
            "value": " 418M/418M [00:07&lt;00:00, 57.6MB/s]"
          }
        },
        "43a86a50fd7148aa8e5a100eb45d2117": {
          "model_module": "@jupyter-widgets/base",
          "model_name": "LayoutModel",
          "model_module_version": "1.2.0",
          "state": {
            "_model_module": "@jupyter-widgets/base",
            "_model_module_version": "1.2.0",
            "_model_name": "LayoutModel",
            "_view_count": null,
            "_view_module": "@jupyter-widgets/base",
            "_view_module_version": "1.2.0",
            "_view_name": "LayoutView",
            "align_content": null,
            "align_items": null,
            "align_self": null,
            "border": null,
            "bottom": null,
            "display": null,
            "flex": null,
            "flex_flow": null,
            "grid_area": null,
            "grid_auto_columns": null,
            "grid_auto_flow": null,
            "grid_auto_rows": null,
            "grid_column": null,
            "grid_gap": null,
            "grid_row": null,
            "grid_template_areas": null,
            "grid_template_columns": null,
            "grid_template_rows": null,
            "height": null,
            "justify_content": null,
            "justify_items": null,
            "left": null,
            "margin": null,
            "max_height": null,
            "max_width": null,
            "min_height": null,
            "min_width": null,
            "object_fit": null,
            "object_position": null,
            "order": null,
            "overflow": null,
            "overflow_x": null,
            "overflow_y": null,
            "padding": null,
            "right": null,
            "top": null,
            "visibility": null,
            "width": null
          }
        },
        "98a4e053e6c8433cb74d4801f4ba1115": {
          "model_module": "@jupyter-widgets/base",
          "model_name": "LayoutModel",
          "model_module_version": "1.2.0",
          "state": {
            "_model_module": "@jupyter-widgets/base",
            "_model_module_version": "1.2.0",
            "_model_name": "LayoutModel",
            "_view_count": null,
            "_view_module": "@jupyter-widgets/base",
            "_view_module_version": "1.2.0",
            "_view_name": "LayoutView",
            "align_content": null,
            "align_items": null,
            "align_self": null,
            "border": null,
            "bottom": null,
            "display": null,
            "flex": null,
            "flex_flow": null,
            "grid_area": null,
            "grid_auto_columns": null,
            "grid_auto_flow": null,
            "grid_auto_rows": null,
            "grid_column": null,
            "grid_gap": null,
            "grid_row": null,
            "grid_template_areas": null,
            "grid_template_columns": null,
            "grid_template_rows": null,
            "height": null,
            "justify_content": null,
            "justify_items": null,
            "left": null,
            "margin": null,
            "max_height": null,
            "max_width": null,
            "min_height": null,
            "min_width": null,
            "object_fit": null,
            "object_position": null,
            "order": null,
            "overflow": null,
            "overflow_x": null,
            "overflow_y": null,
            "padding": null,
            "right": null,
            "top": null,
            "visibility": null,
            "width": null
          }
        },
        "a64265d89b3a4280be40d5d350114667": {
          "model_module": "@jupyter-widgets/controls",
          "model_name": "DescriptionStyleModel",
          "model_module_version": "1.5.0",
          "state": {
            "_model_module": "@jupyter-widgets/controls",
            "_model_module_version": "1.5.0",
            "_model_name": "DescriptionStyleModel",
            "_view_count": null,
            "_view_module": "@jupyter-widgets/base",
            "_view_module_version": "1.2.0",
            "_view_name": "StyleView",
            "description_width": ""
          }
        },
        "319afc4334f648638224a354b331b3f5": {
          "model_module": "@jupyter-widgets/base",
          "model_name": "LayoutModel",
          "model_module_version": "1.2.0",
          "state": {
            "_model_module": "@jupyter-widgets/base",
            "_model_module_version": "1.2.0",
            "_model_name": "LayoutModel",
            "_view_count": null,
            "_view_module": "@jupyter-widgets/base",
            "_view_module_version": "1.2.0",
            "_view_name": "LayoutView",
            "align_content": null,
            "align_items": null,
            "align_self": null,
            "border": null,
            "bottom": null,
            "display": null,
            "flex": null,
            "flex_flow": null,
            "grid_area": null,
            "grid_auto_columns": null,
            "grid_auto_flow": null,
            "grid_auto_rows": null,
            "grid_column": null,
            "grid_gap": null,
            "grid_row": null,
            "grid_template_areas": null,
            "grid_template_columns": null,
            "grid_template_rows": null,
            "height": null,
            "justify_content": null,
            "justify_items": null,
            "left": null,
            "margin": null,
            "max_height": null,
            "max_width": null,
            "min_height": null,
            "min_width": null,
            "object_fit": null,
            "object_position": null,
            "order": null,
            "overflow": null,
            "overflow_x": null,
            "overflow_y": null,
            "padding": null,
            "right": null,
            "top": null,
            "visibility": null,
            "width": null
          }
        },
        "ccfffc15b67a47d0be544282d9a1176c": {
          "model_module": "@jupyter-widgets/controls",
          "model_name": "ProgressStyleModel",
          "model_module_version": "1.5.0",
          "state": {
            "_model_module": "@jupyter-widgets/controls",
            "_model_module_version": "1.5.0",
            "_model_name": "ProgressStyleModel",
            "_view_count": null,
            "_view_module": "@jupyter-widgets/base",
            "_view_module_version": "1.2.0",
            "_view_name": "StyleView",
            "bar_color": null,
            "description_width": ""
          }
        },
        "5bd1457e1d7a427aa079fa63ff5a80f1": {
          "model_module": "@jupyter-widgets/base",
          "model_name": "LayoutModel",
          "model_module_version": "1.2.0",
          "state": {
            "_model_module": "@jupyter-widgets/base",
            "_model_module_version": "1.2.0",
            "_model_name": "LayoutModel",
            "_view_count": null,
            "_view_module": "@jupyter-widgets/base",
            "_view_module_version": "1.2.0",
            "_view_name": "LayoutView",
            "align_content": null,
            "align_items": null,
            "align_self": null,
            "border": null,
            "bottom": null,
            "display": null,
            "flex": null,
            "flex_flow": null,
            "grid_area": null,
            "grid_auto_columns": null,
            "grid_auto_flow": null,
            "grid_auto_rows": null,
            "grid_column": null,
            "grid_gap": null,
            "grid_row": null,
            "grid_template_areas": null,
            "grid_template_columns": null,
            "grid_template_rows": null,
            "height": null,
            "justify_content": null,
            "justify_items": null,
            "left": null,
            "margin": null,
            "max_height": null,
            "max_width": null,
            "min_height": null,
            "min_width": null,
            "object_fit": null,
            "object_position": null,
            "order": null,
            "overflow": null,
            "overflow_x": null,
            "overflow_y": null,
            "padding": null,
            "right": null,
            "top": null,
            "visibility": null,
            "width": null
          }
        },
        "798c09333b4d470f8cb2922f547d10c2": {
          "model_module": "@jupyter-widgets/controls",
          "model_name": "DescriptionStyleModel",
          "model_module_version": "1.5.0",
          "state": {
            "_model_module": "@jupyter-widgets/controls",
            "_model_module_version": "1.5.0",
            "_model_name": "DescriptionStyleModel",
            "_view_count": null,
            "_view_module": "@jupyter-widgets/base",
            "_view_module_version": "1.2.0",
            "_view_name": "StyleView",
            "description_width": ""
          }
        },
        "e8626824d1304fe1a5ec9864b8ab4a63": {
          "model_module": "@jupyter-widgets/controls",
          "model_name": "HBoxModel",
          "model_module_version": "1.5.0",
          "state": {
            "_dom_classes": [],
            "_model_module": "@jupyter-widgets/controls",
            "_model_module_version": "1.5.0",
            "_model_name": "HBoxModel",
            "_view_count": null,
            "_view_module": "@jupyter-widgets/controls",
            "_view_module_version": "1.5.0",
            "_view_name": "HBoxView",
            "box_style": "",
            "children": [
              "IPY_MODEL_71dda9a4bdf34248b973e0724d672d00",
              "IPY_MODEL_71003319e6624c58a584f0bf8605989f",
              "IPY_MODEL_965899ad794640529652c1a44fc5bb4c"
            ],
            "layout": "IPY_MODEL_5dbc42f5c2fe4381aaba1a6a3e462160"
          }
        },
        "71dda9a4bdf34248b973e0724d672d00": {
          "model_module": "@jupyter-widgets/controls",
          "model_name": "HTMLModel",
          "model_module_version": "1.5.0",
          "state": {
            "_dom_classes": [],
            "_model_module": "@jupyter-widgets/controls",
            "_model_module_version": "1.5.0",
            "_model_name": "HTMLModel",
            "_view_count": null,
            "_view_module": "@jupyter-widgets/controls",
            "_view_module_version": "1.5.0",
            "_view_name": "HTMLView",
            "description": "",
            "description_tooltip": null,
            "layout": "IPY_MODEL_f3c6eb0a2d284d3d832edbae647ac42e",
            "placeholder": "​",
            "style": "IPY_MODEL_6464b5b2ea5a42e7ada73b7901e7e78d",
            "value": "Downloading tokenizer_config.json: 100%"
          }
        },
        "71003319e6624c58a584f0bf8605989f": {
          "model_module": "@jupyter-widgets/controls",
          "model_name": "FloatProgressModel",
          "model_module_version": "1.5.0",
          "state": {
            "_dom_classes": [],
            "_model_module": "@jupyter-widgets/controls",
            "_model_module_version": "1.5.0",
            "_model_name": "FloatProgressModel",
            "_view_count": null,
            "_view_module": "@jupyter-widgets/controls",
            "_view_module_version": "1.5.0",
            "_view_name": "ProgressView",
            "bar_style": "success",
            "description": "",
            "description_tooltip": null,
            "layout": "IPY_MODEL_4b15f358c471456d983bc31df8c87c88",
            "max": 174,
            "min": 0,
            "orientation": "horizontal",
            "style": "IPY_MODEL_8b3981c8f3b244288ce7f1662d69d8dc",
            "value": 174
          }
        },
        "965899ad794640529652c1a44fc5bb4c": {
          "model_module": "@jupyter-widgets/controls",
          "model_name": "HTMLModel",
          "model_module_version": "1.5.0",
          "state": {
            "_dom_classes": [],
            "_model_module": "@jupyter-widgets/controls",
            "_model_module_version": "1.5.0",
            "_model_name": "HTMLModel",
            "_view_count": null,
            "_view_module": "@jupyter-widgets/controls",
            "_view_module_version": "1.5.0",
            "_view_name": "HTMLView",
            "description": "",
            "description_tooltip": null,
            "layout": "IPY_MODEL_15221716058942af898e9fd9b6c72d02",
            "placeholder": "​",
            "style": "IPY_MODEL_4c8a82b1a30b4ff388f8cb2515a98673",
            "value": " 174/174 [00:00&lt;00:00, 6.02kB/s]"
          }
        },
        "5dbc42f5c2fe4381aaba1a6a3e462160": {
          "model_module": "@jupyter-widgets/base",
          "model_name": "LayoutModel",
          "model_module_version": "1.2.0",
          "state": {
            "_model_module": "@jupyter-widgets/base",
            "_model_module_version": "1.2.0",
            "_model_name": "LayoutModel",
            "_view_count": null,
            "_view_module": "@jupyter-widgets/base",
            "_view_module_version": "1.2.0",
            "_view_name": "LayoutView",
            "align_content": null,
            "align_items": null,
            "align_self": null,
            "border": null,
            "bottom": null,
            "display": null,
            "flex": null,
            "flex_flow": null,
            "grid_area": null,
            "grid_auto_columns": null,
            "grid_auto_flow": null,
            "grid_auto_rows": null,
            "grid_column": null,
            "grid_gap": null,
            "grid_row": null,
            "grid_template_areas": null,
            "grid_template_columns": null,
            "grid_template_rows": null,
            "height": null,
            "justify_content": null,
            "justify_items": null,
            "left": null,
            "margin": null,
            "max_height": null,
            "max_width": null,
            "min_height": null,
            "min_width": null,
            "object_fit": null,
            "object_position": null,
            "order": null,
            "overflow": null,
            "overflow_x": null,
            "overflow_y": null,
            "padding": null,
            "right": null,
            "top": null,
            "visibility": null,
            "width": null
          }
        },
        "f3c6eb0a2d284d3d832edbae647ac42e": {
          "model_module": "@jupyter-widgets/base",
          "model_name": "LayoutModel",
          "model_module_version": "1.2.0",
          "state": {
            "_model_module": "@jupyter-widgets/base",
            "_model_module_version": "1.2.0",
            "_model_name": "LayoutModel",
            "_view_count": null,
            "_view_module": "@jupyter-widgets/base",
            "_view_module_version": "1.2.0",
            "_view_name": "LayoutView",
            "align_content": null,
            "align_items": null,
            "align_self": null,
            "border": null,
            "bottom": null,
            "display": null,
            "flex": null,
            "flex_flow": null,
            "grid_area": null,
            "grid_auto_columns": null,
            "grid_auto_flow": null,
            "grid_auto_rows": null,
            "grid_column": null,
            "grid_gap": null,
            "grid_row": null,
            "grid_template_areas": null,
            "grid_template_columns": null,
            "grid_template_rows": null,
            "height": null,
            "justify_content": null,
            "justify_items": null,
            "left": null,
            "margin": null,
            "max_height": null,
            "max_width": null,
            "min_height": null,
            "min_width": null,
            "object_fit": null,
            "object_position": null,
            "order": null,
            "overflow": null,
            "overflow_x": null,
            "overflow_y": null,
            "padding": null,
            "right": null,
            "top": null,
            "visibility": null,
            "width": null
          }
        },
        "6464b5b2ea5a42e7ada73b7901e7e78d": {
          "model_module": "@jupyter-widgets/controls",
          "model_name": "DescriptionStyleModel",
          "model_module_version": "1.5.0",
          "state": {
            "_model_module": "@jupyter-widgets/controls",
            "_model_module_version": "1.5.0",
            "_model_name": "DescriptionStyleModel",
            "_view_count": null,
            "_view_module": "@jupyter-widgets/base",
            "_view_module_version": "1.2.0",
            "_view_name": "StyleView",
            "description_width": ""
          }
        },
        "4b15f358c471456d983bc31df8c87c88": {
          "model_module": "@jupyter-widgets/base",
          "model_name": "LayoutModel",
          "model_module_version": "1.2.0",
          "state": {
            "_model_module": "@jupyter-widgets/base",
            "_model_module_version": "1.2.0",
            "_model_name": "LayoutModel",
            "_view_count": null,
            "_view_module": "@jupyter-widgets/base",
            "_view_module_version": "1.2.0",
            "_view_name": "LayoutView",
            "align_content": null,
            "align_items": null,
            "align_self": null,
            "border": null,
            "bottom": null,
            "display": null,
            "flex": null,
            "flex_flow": null,
            "grid_area": null,
            "grid_auto_columns": null,
            "grid_auto_flow": null,
            "grid_auto_rows": null,
            "grid_column": null,
            "grid_gap": null,
            "grid_row": null,
            "grid_template_areas": null,
            "grid_template_columns": null,
            "grid_template_rows": null,
            "height": null,
            "justify_content": null,
            "justify_items": null,
            "left": null,
            "margin": null,
            "max_height": null,
            "max_width": null,
            "min_height": null,
            "min_width": null,
            "object_fit": null,
            "object_position": null,
            "order": null,
            "overflow": null,
            "overflow_x": null,
            "overflow_y": null,
            "padding": null,
            "right": null,
            "top": null,
            "visibility": null,
            "width": null
          }
        },
        "8b3981c8f3b244288ce7f1662d69d8dc": {
          "model_module": "@jupyter-widgets/controls",
          "model_name": "ProgressStyleModel",
          "model_module_version": "1.5.0",
          "state": {
            "_model_module": "@jupyter-widgets/controls",
            "_model_module_version": "1.5.0",
            "_model_name": "ProgressStyleModel",
            "_view_count": null,
            "_view_module": "@jupyter-widgets/base",
            "_view_module_version": "1.2.0",
            "_view_name": "StyleView",
            "bar_color": null,
            "description_width": ""
          }
        },
        "15221716058942af898e9fd9b6c72d02": {
          "model_module": "@jupyter-widgets/base",
          "model_name": "LayoutModel",
          "model_module_version": "1.2.0",
          "state": {
            "_model_module": "@jupyter-widgets/base",
            "_model_module_version": "1.2.0",
            "_model_name": "LayoutModel",
            "_view_count": null,
            "_view_module": "@jupyter-widgets/base",
            "_view_module_version": "1.2.0",
            "_view_name": "LayoutView",
            "align_content": null,
            "align_items": null,
            "align_self": null,
            "border": null,
            "bottom": null,
            "display": null,
            "flex": null,
            "flex_flow": null,
            "grid_area": null,
            "grid_auto_columns": null,
            "grid_auto_flow": null,
            "grid_auto_rows": null,
            "grid_column": null,
            "grid_gap": null,
            "grid_row": null,
            "grid_template_areas": null,
            "grid_template_columns": null,
            "grid_template_rows": null,
            "height": null,
            "justify_content": null,
            "justify_items": null,
            "left": null,
            "margin": null,
            "max_height": null,
            "max_width": null,
            "min_height": null,
            "min_width": null,
            "object_fit": null,
            "object_position": null,
            "order": null,
            "overflow": null,
            "overflow_x": null,
            "overflow_y": null,
            "padding": null,
            "right": null,
            "top": null,
            "visibility": null,
            "width": null
          }
        },
        "4c8a82b1a30b4ff388f8cb2515a98673": {
          "model_module": "@jupyter-widgets/controls",
          "model_name": "DescriptionStyleModel",
          "model_module_version": "1.5.0",
          "state": {
            "_model_module": "@jupyter-widgets/controls",
            "_model_module_version": "1.5.0",
            "_model_name": "DescriptionStyleModel",
            "_view_count": null,
            "_view_module": "@jupyter-widgets/base",
            "_view_module_version": "1.2.0",
            "_view_name": "StyleView",
            "description_width": ""
          }
        },
        "49064c2f11ec4cc99b7b751ae1a70a83": {
          "model_module": "@jupyter-widgets/controls",
          "model_name": "HBoxModel",
          "model_module_version": "1.5.0",
          "state": {
            "_dom_classes": [],
            "_model_module": "@jupyter-widgets/controls",
            "_model_module_version": "1.5.0",
            "_model_name": "HBoxModel",
            "_view_count": null,
            "_view_module": "@jupyter-widgets/controls",
            "_view_module_version": "1.5.0",
            "_view_name": "HBoxView",
            "box_style": "",
            "children": [
              "IPY_MODEL_251804dfdadb4141b63f14d2ba2aed12",
              "IPY_MODEL_25b57ba631f54d688ebdb1d61ce62cf0",
              "IPY_MODEL_85fc25b7bd004e0995faa945634fa9bb"
            ],
            "layout": "IPY_MODEL_020c724bd91b45b9a052d1764f14676d"
          }
        },
        "251804dfdadb4141b63f14d2ba2aed12": {
          "model_module": "@jupyter-widgets/controls",
          "model_name": "HTMLModel",
          "model_module_version": "1.5.0",
          "state": {
            "_dom_classes": [],
            "_model_module": "@jupyter-widgets/controls",
            "_model_module_version": "1.5.0",
            "_model_name": "HTMLModel",
            "_view_count": null,
            "_view_module": "@jupyter-widgets/controls",
            "_view_module_version": "1.5.0",
            "_view_name": "HTMLView",
            "description": "",
            "description_tooltip": null,
            "layout": "IPY_MODEL_730260d492ce44ac9db8a59dfb10d4f1",
            "placeholder": "​",
            "style": "IPY_MODEL_72967910d5f44cc0b28f1acb3642dde7",
            "value": "Downloading vocab.txt: 100%"
          }
        },
        "25b57ba631f54d688ebdb1d61ce62cf0": {
          "model_module": "@jupyter-widgets/controls",
          "model_name": "FloatProgressModel",
          "model_module_version": "1.5.0",
          "state": {
            "_dom_classes": [],
            "_model_module": "@jupyter-widgets/controls",
            "_model_module_version": "1.5.0",
            "_model_name": "FloatProgressModel",
            "_view_count": null,
            "_view_module": "@jupyter-widgets/controls",
            "_view_module_version": "1.5.0",
            "_view_name": "ProgressView",
            "bar_style": "success",
            "description": "",
            "description_tooltip": null,
            "layout": "IPY_MODEL_1b8a8fc1966e4847994766da41edcd5a",
            "max": 231508,
            "min": 0,
            "orientation": "horizontal",
            "style": "IPY_MODEL_6867b2b973284004a005e1c33f2161da",
            "value": 231508
          }
        },
        "85fc25b7bd004e0995faa945634fa9bb": {
          "model_module": "@jupyter-widgets/controls",
          "model_name": "HTMLModel",
          "model_module_version": "1.5.0",
          "state": {
            "_dom_classes": [],
            "_model_module": "@jupyter-widgets/controls",
            "_model_module_version": "1.5.0",
            "_model_name": "HTMLModel",
            "_view_count": null,
            "_view_module": "@jupyter-widgets/controls",
            "_view_module_version": "1.5.0",
            "_view_name": "HTMLView",
            "description": "",
            "description_tooltip": null,
            "layout": "IPY_MODEL_d47e7e1914d643cb8022d1859ad817fd",
            "placeholder": "​",
            "style": "IPY_MODEL_e9ebd8727df14fc5908624628e01bbb1",
            "value": " 226k/226k [00:00&lt;00:00, 5.43MB/s]"
          }
        },
        "020c724bd91b45b9a052d1764f14676d": {
          "model_module": "@jupyter-widgets/base",
          "model_name": "LayoutModel",
          "model_module_version": "1.2.0",
          "state": {
            "_model_module": "@jupyter-widgets/base",
            "_model_module_version": "1.2.0",
            "_model_name": "LayoutModel",
            "_view_count": null,
            "_view_module": "@jupyter-widgets/base",
            "_view_module_version": "1.2.0",
            "_view_name": "LayoutView",
            "align_content": null,
            "align_items": null,
            "align_self": null,
            "border": null,
            "bottom": null,
            "display": null,
            "flex": null,
            "flex_flow": null,
            "grid_area": null,
            "grid_auto_columns": null,
            "grid_auto_flow": null,
            "grid_auto_rows": null,
            "grid_column": null,
            "grid_gap": null,
            "grid_row": null,
            "grid_template_areas": null,
            "grid_template_columns": null,
            "grid_template_rows": null,
            "height": null,
            "justify_content": null,
            "justify_items": null,
            "left": null,
            "margin": null,
            "max_height": null,
            "max_width": null,
            "min_height": null,
            "min_width": null,
            "object_fit": null,
            "object_position": null,
            "order": null,
            "overflow": null,
            "overflow_x": null,
            "overflow_y": null,
            "padding": null,
            "right": null,
            "top": null,
            "visibility": null,
            "width": null
          }
        },
        "730260d492ce44ac9db8a59dfb10d4f1": {
          "model_module": "@jupyter-widgets/base",
          "model_name": "LayoutModel",
          "model_module_version": "1.2.0",
          "state": {
            "_model_module": "@jupyter-widgets/base",
            "_model_module_version": "1.2.0",
            "_model_name": "LayoutModel",
            "_view_count": null,
            "_view_module": "@jupyter-widgets/base",
            "_view_module_version": "1.2.0",
            "_view_name": "LayoutView",
            "align_content": null,
            "align_items": null,
            "align_self": null,
            "border": null,
            "bottom": null,
            "display": null,
            "flex": null,
            "flex_flow": null,
            "grid_area": null,
            "grid_auto_columns": null,
            "grid_auto_flow": null,
            "grid_auto_rows": null,
            "grid_column": null,
            "grid_gap": null,
            "grid_row": null,
            "grid_template_areas": null,
            "grid_template_columns": null,
            "grid_template_rows": null,
            "height": null,
            "justify_content": null,
            "justify_items": null,
            "left": null,
            "margin": null,
            "max_height": null,
            "max_width": null,
            "min_height": null,
            "min_width": null,
            "object_fit": null,
            "object_position": null,
            "order": null,
            "overflow": null,
            "overflow_x": null,
            "overflow_y": null,
            "padding": null,
            "right": null,
            "top": null,
            "visibility": null,
            "width": null
          }
        },
        "72967910d5f44cc0b28f1acb3642dde7": {
          "model_module": "@jupyter-widgets/controls",
          "model_name": "DescriptionStyleModel",
          "model_module_version": "1.5.0",
          "state": {
            "_model_module": "@jupyter-widgets/controls",
            "_model_module_version": "1.5.0",
            "_model_name": "DescriptionStyleModel",
            "_view_count": null,
            "_view_module": "@jupyter-widgets/base",
            "_view_module_version": "1.2.0",
            "_view_name": "StyleView",
            "description_width": ""
          }
        },
        "1b8a8fc1966e4847994766da41edcd5a": {
          "model_module": "@jupyter-widgets/base",
          "model_name": "LayoutModel",
          "model_module_version": "1.2.0",
          "state": {
            "_model_module": "@jupyter-widgets/base",
            "_model_module_version": "1.2.0",
            "_model_name": "LayoutModel",
            "_view_count": null,
            "_view_module": "@jupyter-widgets/base",
            "_view_module_version": "1.2.0",
            "_view_name": "LayoutView",
            "align_content": null,
            "align_items": null,
            "align_self": null,
            "border": null,
            "bottom": null,
            "display": null,
            "flex": null,
            "flex_flow": null,
            "grid_area": null,
            "grid_auto_columns": null,
            "grid_auto_flow": null,
            "grid_auto_rows": null,
            "grid_column": null,
            "grid_gap": null,
            "grid_row": null,
            "grid_template_areas": null,
            "grid_template_columns": null,
            "grid_template_rows": null,
            "height": null,
            "justify_content": null,
            "justify_items": null,
            "left": null,
            "margin": null,
            "max_height": null,
            "max_width": null,
            "min_height": null,
            "min_width": null,
            "object_fit": null,
            "object_position": null,
            "order": null,
            "overflow": null,
            "overflow_x": null,
            "overflow_y": null,
            "padding": null,
            "right": null,
            "top": null,
            "visibility": null,
            "width": null
          }
        },
        "6867b2b973284004a005e1c33f2161da": {
          "model_module": "@jupyter-widgets/controls",
          "model_name": "ProgressStyleModel",
          "model_module_version": "1.5.0",
          "state": {
            "_model_module": "@jupyter-widgets/controls",
            "_model_module_version": "1.5.0",
            "_model_name": "ProgressStyleModel",
            "_view_count": null,
            "_view_module": "@jupyter-widgets/base",
            "_view_module_version": "1.2.0",
            "_view_name": "StyleView",
            "bar_color": null,
            "description_width": ""
          }
        },
        "d47e7e1914d643cb8022d1859ad817fd": {
          "model_module": "@jupyter-widgets/base",
          "model_name": "LayoutModel",
          "model_module_version": "1.2.0",
          "state": {
            "_model_module": "@jupyter-widgets/base",
            "_model_module_version": "1.2.0",
            "_model_name": "LayoutModel",
            "_view_count": null,
            "_view_module": "@jupyter-widgets/base",
            "_view_module_version": "1.2.0",
            "_view_name": "LayoutView",
            "align_content": null,
            "align_items": null,
            "align_self": null,
            "border": null,
            "bottom": null,
            "display": null,
            "flex": null,
            "flex_flow": null,
            "grid_area": null,
            "grid_auto_columns": null,
            "grid_auto_flow": null,
            "grid_auto_rows": null,
            "grid_column": null,
            "grid_gap": null,
            "grid_row": null,
            "grid_template_areas": null,
            "grid_template_columns": null,
            "grid_template_rows": null,
            "height": null,
            "justify_content": null,
            "justify_items": null,
            "left": null,
            "margin": null,
            "max_height": null,
            "max_width": null,
            "min_height": null,
            "min_width": null,
            "object_fit": null,
            "object_position": null,
            "order": null,
            "overflow": null,
            "overflow_x": null,
            "overflow_y": null,
            "padding": null,
            "right": null,
            "top": null,
            "visibility": null,
            "width": null
          }
        },
        "e9ebd8727df14fc5908624628e01bbb1": {
          "model_module": "@jupyter-widgets/controls",
          "model_name": "DescriptionStyleModel",
          "model_module_version": "1.5.0",
          "state": {
            "_model_module": "@jupyter-widgets/controls",
            "_model_module_version": "1.5.0",
            "_model_name": "DescriptionStyleModel",
            "_view_count": null,
            "_view_module": "@jupyter-widgets/base",
            "_view_module_version": "1.2.0",
            "_view_name": "StyleView",
            "description_width": ""
          }
        },
        "a5ac4cf4094645d7b10ea87b78394f29": {
          "model_module": "@jupyter-widgets/controls",
          "model_name": "HBoxModel",
          "model_module_version": "1.5.0",
          "state": {
            "_dom_classes": [],
            "_model_module": "@jupyter-widgets/controls",
            "_model_module_version": "1.5.0",
            "_model_name": "HBoxModel",
            "_view_count": null,
            "_view_module": "@jupyter-widgets/controls",
            "_view_module_version": "1.5.0",
            "_view_name": "HBoxView",
            "box_style": "",
            "children": [
              "IPY_MODEL_100e4a6c2079488a821ab0b18fcf3f04",
              "IPY_MODEL_503dda1c1e034e4389c56df78663a28e",
              "IPY_MODEL_75dd3783476142948678f56a6c477bf2"
            ],
            "layout": "IPY_MODEL_ad772d7b57854e569454d74f8d2ed762"
          }
        },
        "100e4a6c2079488a821ab0b18fcf3f04": {
          "model_module": "@jupyter-widgets/controls",
          "model_name": "HTMLModel",
          "model_module_version": "1.5.0",
          "state": {
            "_dom_classes": [],
            "_model_module": "@jupyter-widgets/controls",
            "_model_module_version": "1.5.0",
            "_model_name": "HTMLModel",
            "_view_count": null,
            "_view_module": "@jupyter-widgets/controls",
            "_view_module_version": "1.5.0",
            "_view_name": "HTMLView",
            "description": "",
            "description_tooltip": null,
            "layout": "IPY_MODEL_5037bee0cc004268866974596a4b9dd7",
            "placeholder": "​",
            "style": "IPY_MODEL_327932d7d6b649408618f802dba26054",
            "value": "Downloading special_tokens_map.json: 100%"
          }
        },
        "503dda1c1e034e4389c56df78663a28e": {
          "model_module": "@jupyter-widgets/controls",
          "model_name": "FloatProgressModel",
          "model_module_version": "1.5.0",
          "state": {
            "_dom_classes": [],
            "_model_module": "@jupyter-widgets/controls",
            "_model_module_version": "1.5.0",
            "_model_name": "FloatProgressModel",
            "_view_count": null,
            "_view_module": "@jupyter-widgets/controls",
            "_view_module_version": "1.5.0",
            "_view_name": "ProgressView",
            "bar_style": "success",
            "description": "",
            "description_tooltip": null,
            "layout": "IPY_MODEL_ccd243a21f0f47c2b619c0f649204a8b",
            "max": 112,
            "min": 0,
            "orientation": "horizontal",
            "style": "IPY_MODEL_0aec5d9a22534ff496afa53b751d77a4",
            "value": 112
          }
        },
        "75dd3783476142948678f56a6c477bf2": {
          "model_module": "@jupyter-widgets/controls",
          "model_name": "HTMLModel",
          "model_module_version": "1.5.0",
          "state": {
            "_dom_classes": [],
            "_model_module": "@jupyter-widgets/controls",
            "_model_module_version": "1.5.0",
            "_model_name": "HTMLModel",
            "_view_count": null,
            "_view_module": "@jupyter-widgets/controls",
            "_view_module_version": "1.5.0",
            "_view_name": "HTMLView",
            "description": "",
            "description_tooltip": null,
            "layout": "IPY_MODEL_62c4c1db08f746a4acb9f3e179de69f6",
            "placeholder": "​",
            "style": "IPY_MODEL_34f69a7ffefe4eb5ab5b410a6043dff6",
            "value": " 112/112 [00:00&lt;00:00, 3.38kB/s]"
          }
        },
        "ad772d7b57854e569454d74f8d2ed762": {
          "model_module": "@jupyter-widgets/base",
          "model_name": "LayoutModel",
          "model_module_version": "1.2.0",
          "state": {
            "_model_module": "@jupyter-widgets/base",
            "_model_module_version": "1.2.0",
            "_model_name": "LayoutModel",
            "_view_count": null,
            "_view_module": "@jupyter-widgets/base",
            "_view_module_version": "1.2.0",
            "_view_name": "LayoutView",
            "align_content": null,
            "align_items": null,
            "align_self": null,
            "border": null,
            "bottom": null,
            "display": null,
            "flex": null,
            "flex_flow": null,
            "grid_area": null,
            "grid_auto_columns": null,
            "grid_auto_flow": null,
            "grid_auto_rows": null,
            "grid_column": null,
            "grid_gap": null,
            "grid_row": null,
            "grid_template_areas": null,
            "grid_template_columns": null,
            "grid_template_rows": null,
            "height": null,
            "justify_content": null,
            "justify_items": null,
            "left": null,
            "margin": null,
            "max_height": null,
            "max_width": null,
            "min_height": null,
            "min_width": null,
            "object_fit": null,
            "object_position": null,
            "order": null,
            "overflow": null,
            "overflow_x": null,
            "overflow_y": null,
            "padding": null,
            "right": null,
            "top": null,
            "visibility": null,
            "width": null
          }
        },
        "5037bee0cc004268866974596a4b9dd7": {
          "model_module": "@jupyter-widgets/base",
          "model_name": "LayoutModel",
          "model_module_version": "1.2.0",
          "state": {
            "_model_module": "@jupyter-widgets/base",
            "_model_module_version": "1.2.0",
            "_model_name": "LayoutModel",
            "_view_count": null,
            "_view_module": "@jupyter-widgets/base",
            "_view_module_version": "1.2.0",
            "_view_name": "LayoutView",
            "align_content": null,
            "align_items": null,
            "align_self": null,
            "border": null,
            "bottom": null,
            "display": null,
            "flex": null,
            "flex_flow": null,
            "grid_area": null,
            "grid_auto_columns": null,
            "grid_auto_flow": null,
            "grid_auto_rows": null,
            "grid_column": null,
            "grid_gap": null,
            "grid_row": null,
            "grid_template_areas": null,
            "grid_template_columns": null,
            "grid_template_rows": null,
            "height": null,
            "justify_content": null,
            "justify_items": null,
            "left": null,
            "margin": null,
            "max_height": null,
            "max_width": null,
            "min_height": null,
            "min_width": null,
            "object_fit": null,
            "object_position": null,
            "order": null,
            "overflow": null,
            "overflow_x": null,
            "overflow_y": null,
            "padding": null,
            "right": null,
            "top": null,
            "visibility": null,
            "width": null
          }
        },
        "327932d7d6b649408618f802dba26054": {
          "model_module": "@jupyter-widgets/controls",
          "model_name": "DescriptionStyleModel",
          "model_module_version": "1.5.0",
          "state": {
            "_model_module": "@jupyter-widgets/controls",
            "_model_module_version": "1.5.0",
            "_model_name": "DescriptionStyleModel",
            "_view_count": null,
            "_view_module": "@jupyter-widgets/base",
            "_view_module_version": "1.2.0",
            "_view_name": "StyleView",
            "description_width": ""
          }
        },
        "ccd243a21f0f47c2b619c0f649204a8b": {
          "model_module": "@jupyter-widgets/base",
          "model_name": "LayoutModel",
          "model_module_version": "1.2.0",
          "state": {
            "_model_module": "@jupyter-widgets/base",
            "_model_module_version": "1.2.0",
            "_model_name": "LayoutModel",
            "_view_count": null,
            "_view_module": "@jupyter-widgets/base",
            "_view_module_version": "1.2.0",
            "_view_name": "LayoutView",
            "align_content": null,
            "align_items": null,
            "align_self": null,
            "border": null,
            "bottom": null,
            "display": null,
            "flex": null,
            "flex_flow": null,
            "grid_area": null,
            "grid_auto_columns": null,
            "grid_auto_flow": null,
            "grid_auto_rows": null,
            "grid_column": null,
            "grid_gap": null,
            "grid_row": null,
            "grid_template_areas": null,
            "grid_template_columns": null,
            "grid_template_rows": null,
            "height": null,
            "justify_content": null,
            "justify_items": null,
            "left": null,
            "margin": null,
            "max_height": null,
            "max_width": null,
            "min_height": null,
            "min_width": null,
            "object_fit": null,
            "object_position": null,
            "order": null,
            "overflow": null,
            "overflow_x": null,
            "overflow_y": null,
            "padding": null,
            "right": null,
            "top": null,
            "visibility": null,
            "width": null
          }
        },
        "0aec5d9a22534ff496afa53b751d77a4": {
          "model_module": "@jupyter-widgets/controls",
          "model_name": "ProgressStyleModel",
          "model_module_version": "1.5.0",
          "state": {
            "_model_module": "@jupyter-widgets/controls",
            "_model_module_version": "1.5.0",
            "_model_name": "ProgressStyleModel",
            "_view_count": null,
            "_view_module": "@jupyter-widgets/base",
            "_view_module_version": "1.2.0",
            "_view_name": "StyleView",
            "bar_color": null,
            "description_width": ""
          }
        },
        "62c4c1db08f746a4acb9f3e179de69f6": {
          "model_module": "@jupyter-widgets/base",
          "model_name": "LayoutModel",
          "model_module_version": "1.2.0",
          "state": {
            "_model_module": "@jupyter-widgets/base",
            "_model_module_version": "1.2.0",
            "_model_name": "LayoutModel",
            "_view_count": null,
            "_view_module": "@jupyter-widgets/base",
            "_view_module_version": "1.2.0",
            "_view_name": "LayoutView",
            "align_content": null,
            "align_items": null,
            "align_self": null,
            "border": null,
            "bottom": null,
            "display": null,
            "flex": null,
            "flex_flow": null,
            "grid_area": null,
            "grid_auto_columns": null,
            "grid_auto_flow": null,
            "grid_auto_rows": null,
            "grid_column": null,
            "grid_gap": null,
            "grid_row": null,
            "grid_template_areas": null,
            "grid_template_columns": null,
            "grid_template_rows": null,
            "height": null,
            "justify_content": null,
            "justify_items": null,
            "left": null,
            "margin": null,
            "max_height": null,
            "max_width": null,
            "min_height": null,
            "min_width": null,
            "object_fit": null,
            "object_position": null,
            "order": null,
            "overflow": null,
            "overflow_x": null,
            "overflow_y": null,
            "padding": null,
            "right": null,
            "top": null,
            "visibility": null,
            "width": null
          }
        },
        "34f69a7ffefe4eb5ab5b410a6043dff6": {
          "model_module": "@jupyter-widgets/controls",
          "model_name": "DescriptionStyleModel",
          "model_module_version": "1.5.0",
          "state": {
            "_model_module": "@jupyter-widgets/controls",
            "_model_module_version": "1.5.0",
            "_model_name": "DescriptionStyleModel",
            "_view_count": null,
            "_view_module": "@jupyter-widgets/base",
            "_view_module_version": "1.2.0",
            "_view_name": "StyleView",
            "description_width": ""
          }
        },
        "ca60b309eb5c4ffa8045c98182177cec": {
          "model_module": "@jupyter-widgets/controls",
          "model_name": "HBoxModel",
          "model_module_version": "1.5.0",
          "state": {
            "_dom_classes": [],
            "_model_module": "@jupyter-widgets/controls",
            "_model_module_version": "1.5.0",
            "_model_name": "HBoxModel",
            "_view_count": null,
            "_view_module": "@jupyter-widgets/controls",
            "_view_module_version": "1.5.0",
            "_view_name": "HBoxView",
            "box_style": "",
            "children": [
              "IPY_MODEL_766c381611f2493b9aa703f947e41c44",
              "IPY_MODEL_e41ce08e256246f88791881e67485530",
              "IPY_MODEL_8642cc72ea6c4017a1624df6cf23f6e9"
            ],
            "layout": "IPY_MODEL_1535ecb14c224a64a09fb80271ea09c0"
          }
        },
        "766c381611f2493b9aa703f947e41c44": {
          "model_module": "@jupyter-widgets/controls",
          "model_name": "HTMLModel",
          "model_module_version": "1.5.0",
          "state": {
            "_dom_classes": [],
            "_model_module": "@jupyter-widgets/controls",
            "_model_module_version": "1.5.0",
            "_model_name": "HTMLModel",
            "_view_count": null,
            "_view_module": "@jupyter-widgets/controls",
            "_view_module_version": "1.5.0",
            "_view_name": "HTMLView",
            "description": "",
            "description_tooltip": null,
            "layout": "IPY_MODEL_19fef1a4d9c84536bc0e1afc205b9dbe",
            "placeholder": "​",
            "style": "IPY_MODEL_4f3d0fa397c84e988dcd6a46538c02d1",
            "value": "100%"
          }
        },
        "e41ce08e256246f88791881e67485530": {
          "model_module": "@jupyter-widgets/controls",
          "model_name": "FloatProgressModel",
          "model_module_version": "1.5.0",
          "state": {
            "_dom_classes": [],
            "_model_module": "@jupyter-widgets/controls",
            "_model_module_version": "1.5.0",
            "_model_name": "FloatProgressModel",
            "_view_count": null,
            "_view_module": "@jupyter-widgets/controls",
            "_view_module_version": "1.5.0",
            "_view_name": "ProgressView",
            "bar_style": "success",
            "description": "",
            "description_tooltip": null,
            "layout": "IPY_MODEL_04575df755f340d2bf628bf527f53020",
            "max": 1592,
            "min": 0,
            "orientation": "horizontal",
            "style": "IPY_MODEL_e0728c8625d94f42b1564e2d49fd68e7",
            "value": 1592
          }
        },
        "8642cc72ea6c4017a1624df6cf23f6e9": {
          "model_module": "@jupyter-widgets/controls",
          "model_name": "HTMLModel",
          "model_module_version": "1.5.0",
          "state": {
            "_dom_classes": [],
            "_model_module": "@jupyter-widgets/controls",
            "_model_module_version": "1.5.0",
            "_model_name": "HTMLModel",
            "_view_count": null,
            "_view_module": "@jupyter-widgets/controls",
            "_view_module_version": "1.5.0",
            "_view_name": "HTMLView",
            "description": "",
            "description_tooltip": null,
            "layout": "IPY_MODEL_a3cf8948d9564e2f9dd302457782aa7b",
            "placeholder": "​",
            "style": "IPY_MODEL_a74dd3e2b193461ca52716fc1358a6bb",
            "value": " 1592/1592 [1:37:39&lt;00:00,  3.69s/it]"
          }
        },
        "1535ecb14c224a64a09fb80271ea09c0": {
          "model_module": "@jupyter-widgets/base",
          "model_name": "LayoutModel",
          "model_module_version": "1.2.0",
          "state": {
            "_model_module": "@jupyter-widgets/base",
            "_model_module_version": "1.2.0",
            "_model_name": "LayoutModel",
            "_view_count": null,
            "_view_module": "@jupyter-widgets/base",
            "_view_module_version": "1.2.0",
            "_view_name": "LayoutView",
            "align_content": null,
            "align_items": null,
            "align_self": null,
            "border": null,
            "bottom": null,
            "display": null,
            "flex": null,
            "flex_flow": null,
            "grid_area": null,
            "grid_auto_columns": null,
            "grid_auto_flow": null,
            "grid_auto_rows": null,
            "grid_column": null,
            "grid_gap": null,
            "grid_row": null,
            "grid_template_areas": null,
            "grid_template_columns": null,
            "grid_template_rows": null,
            "height": null,
            "justify_content": null,
            "justify_items": null,
            "left": null,
            "margin": null,
            "max_height": null,
            "max_width": null,
            "min_height": null,
            "min_width": null,
            "object_fit": null,
            "object_position": null,
            "order": null,
            "overflow": null,
            "overflow_x": null,
            "overflow_y": null,
            "padding": null,
            "right": null,
            "top": null,
            "visibility": null,
            "width": null
          }
        },
        "19fef1a4d9c84536bc0e1afc205b9dbe": {
          "model_module": "@jupyter-widgets/base",
          "model_name": "LayoutModel",
          "model_module_version": "1.2.0",
          "state": {
            "_model_module": "@jupyter-widgets/base",
            "_model_module_version": "1.2.0",
            "_model_name": "LayoutModel",
            "_view_count": null,
            "_view_module": "@jupyter-widgets/base",
            "_view_module_version": "1.2.0",
            "_view_name": "LayoutView",
            "align_content": null,
            "align_items": null,
            "align_self": null,
            "border": null,
            "bottom": null,
            "display": null,
            "flex": null,
            "flex_flow": null,
            "grid_area": null,
            "grid_auto_columns": null,
            "grid_auto_flow": null,
            "grid_auto_rows": null,
            "grid_column": null,
            "grid_gap": null,
            "grid_row": null,
            "grid_template_areas": null,
            "grid_template_columns": null,
            "grid_template_rows": null,
            "height": null,
            "justify_content": null,
            "justify_items": null,
            "left": null,
            "margin": null,
            "max_height": null,
            "max_width": null,
            "min_height": null,
            "min_width": null,
            "object_fit": null,
            "object_position": null,
            "order": null,
            "overflow": null,
            "overflow_x": null,
            "overflow_y": null,
            "padding": null,
            "right": null,
            "top": null,
            "visibility": null,
            "width": null
          }
        },
        "4f3d0fa397c84e988dcd6a46538c02d1": {
          "model_module": "@jupyter-widgets/controls",
          "model_name": "DescriptionStyleModel",
          "model_module_version": "1.5.0",
          "state": {
            "_model_module": "@jupyter-widgets/controls",
            "_model_module_version": "1.5.0",
            "_model_name": "DescriptionStyleModel",
            "_view_count": null,
            "_view_module": "@jupyter-widgets/base",
            "_view_module_version": "1.2.0",
            "_view_name": "StyleView",
            "description_width": ""
          }
        },
        "04575df755f340d2bf628bf527f53020": {
          "model_module": "@jupyter-widgets/base",
          "model_name": "LayoutModel",
          "model_module_version": "1.2.0",
          "state": {
            "_model_module": "@jupyter-widgets/base",
            "_model_module_version": "1.2.0",
            "_model_name": "LayoutModel",
            "_view_count": null,
            "_view_module": "@jupyter-widgets/base",
            "_view_module_version": "1.2.0",
            "_view_name": "LayoutView",
            "align_content": null,
            "align_items": null,
            "align_self": null,
            "border": null,
            "bottom": null,
            "display": null,
            "flex": null,
            "flex_flow": null,
            "grid_area": null,
            "grid_auto_columns": null,
            "grid_auto_flow": null,
            "grid_auto_rows": null,
            "grid_column": null,
            "grid_gap": null,
            "grid_row": null,
            "grid_template_areas": null,
            "grid_template_columns": null,
            "grid_template_rows": null,
            "height": null,
            "justify_content": null,
            "justify_items": null,
            "left": null,
            "margin": null,
            "max_height": null,
            "max_width": null,
            "min_height": null,
            "min_width": null,
            "object_fit": null,
            "object_position": null,
            "order": null,
            "overflow": null,
            "overflow_x": null,
            "overflow_y": null,
            "padding": null,
            "right": null,
            "top": null,
            "visibility": null,
            "width": null
          }
        },
        "e0728c8625d94f42b1564e2d49fd68e7": {
          "model_module": "@jupyter-widgets/controls",
          "model_name": "ProgressStyleModel",
          "model_module_version": "1.5.0",
          "state": {
            "_model_module": "@jupyter-widgets/controls",
            "_model_module_version": "1.5.0",
            "_model_name": "ProgressStyleModel",
            "_view_count": null,
            "_view_module": "@jupyter-widgets/base",
            "_view_module_version": "1.2.0",
            "_view_name": "StyleView",
            "bar_color": null,
            "description_width": ""
          }
        },
        "a3cf8948d9564e2f9dd302457782aa7b": {
          "model_module": "@jupyter-widgets/base",
          "model_name": "LayoutModel",
          "model_module_version": "1.2.0",
          "state": {
            "_model_module": "@jupyter-widgets/base",
            "_model_module_version": "1.2.0",
            "_model_name": "LayoutModel",
            "_view_count": null,
            "_view_module": "@jupyter-widgets/base",
            "_view_module_version": "1.2.0",
            "_view_name": "LayoutView",
            "align_content": null,
            "align_items": null,
            "align_self": null,
            "border": null,
            "bottom": null,
            "display": null,
            "flex": null,
            "flex_flow": null,
            "grid_area": null,
            "grid_auto_columns": null,
            "grid_auto_flow": null,
            "grid_auto_rows": null,
            "grid_column": null,
            "grid_gap": null,
            "grid_row": null,
            "grid_template_areas": null,
            "grid_template_columns": null,
            "grid_template_rows": null,
            "height": null,
            "justify_content": null,
            "justify_items": null,
            "left": null,
            "margin": null,
            "max_height": null,
            "max_width": null,
            "min_height": null,
            "min_width": null,
            "object_fit": null,
            "object_position": null,
            "order": null,
            "overflow": null,
            "overflow_x": null,
            "overflow_y": null,
            "padding": null,
            "right": null,
            "top": null,
            "visibility": null,
            "width": null
          }
        },
        "a74dd3e2b193461ca52716fc1358a6bb": {
          "model_module": "@jupyter-widgets/controls",
          "model_name": "DescriptionStyleModel",
          "model_module_version": "1.5.0",
          "state": {
            "_model_module": "@jupyter-widgets/controls",
            "_model_module_version": "1.5.0",
            "_model_name": "DescriptionStyleModel",
            "_view_count": null,
            "_view_module": "@jupyter-widgets/base",
            "_view_module_version": "1.2.0",
            "_view_name": "StyleView",
            "description_width": ""
          }
        }
      }
    },
    "accelerator": "GPU"
  },
  "nbformat_minor": 0,
  "nbformat": 4,
  "cells": [
    {
      "cell_type": "markdown",
      "source": [
        "# Проект для «Викишоп» с BERT"
      ],
      "metadata": {
        "id": "ppyeD9qU22c5"
      }
    },
    {
      "cell_type": "markdown",
      "source": [
        "Интернет-магазин «Викишоп» запускает новый сервис. Теперь пользователи могут редактировать и дополнять описания товаров, как в вики-сообществах. То есть клиенты предлагают свои правки и комментируют изменения других.  \n",
        "Магазину нужен инструмент, который будет искать токсичные комментарии и отправлять их на модерацию. \n",
        "\n",
        "Необходимо обучить модель классифицировать комментарии на позитивные и негативные (*F1* не меньше 0.75). \n",
        "\n",
        "\n",
        "**Описание данных:**\n",
        "\n",
        "- *text* — текст комментария; \n",
        "- *toxic* — целевой признак (комментарий позитивный или негативный)."
      ],
      "metadata": {
        "id": "a5cxT8NO22c9"
      }
    },
    {
      "cell_type": "markdown",
      "source": [
        "<h1>Содержание<span class=\"tocSkip\"></span></h1>\n",
        "<div class=\"toc\"><ul class=\"toc-item\"><li><span><a href=\"#Подготовка\" data-toc-modified-id=\"Подготовка-1\"><span class=\"toc-item-num\">1&nbsp;&nbsp;</span>Подготовка</a></span></li><li><span><a href=\"#Обучение\" data-toc-modified-id=\"Обучение-2\"><span class=\"toc-item-num\">2&nbsp;&nbsp;</span>Обучение</a></span><ul class=\"toc-item\"><li><span><a href=\"#Линейная-регрессия\" data-toc-modified-id=\"Линейная-регрессия-2.1\"><span class=\"toc-item-num\">2.1&nbsp;&nbsp;</span>Линейная регрессия</a></span></li><li><span><a href=\"#LightGBM\" data-toc-modified-id=\"LightGBM-2.2\"><span class=\"toc-item-num\">2.2&nbsp;&nbsp;</span>LightGBM</a></span></li><li><span><a href=\"#CatBoost\" data-toc-modified-id=\"CatBoost-2.3\"><span class=\"toc-item-num\">2.3&nbsp;&nbsp;</span>CatBoost</a></span></li><li><span><a href=\"#BERT\" data-toc-modified-id=\"BERT 2.4\"><span class=\"toc-item-num\">2.4&nbsp;&nbsp;</span>BERT</a></span></li><li><span><a href=\"#Результаты-моделей\" data-toc-modified-id=\"Результаты-моделей-2.5\"><span class=\"toc-item-num\">2.5&nbsp;&nbsp;</span>Результаты моделей</a></span></li></ul></li><li><span><a href=\"#Тестирование-модели\" data-toc-modified-id=\"Тестирование-модели-3\"><span class=\"toc-item-num\">3&nbsp;&nbsp;</span>Тестирование модели</a></span><ul class=\"toc-item\"><li><span><a href=\"#Проверка-на-адекватность.\" data-toc-modified-id=\"Проверка-на-адекватность.-3.1\"><span class=\"toc-item-num\">3.1&nbsp;&nbsp;</span>Проверка на адекватность.</a></span></li></ul></li><li><span><a href=\"#Выводы\" data-toc-modified-id=\"Выводы-4\"><span class=\"toc-item-num\">4&nbsp;&nbsp;</span>Выводы</a></span></li><li><span><a href=\"#Чек-лист-проверки\" data-toc-modified-id=\"Чек-лист-проверки-5\"><span class=\"toc-item-num\">5&nbsp;&nbsp;</span>Чек-лист проверки</a></span></li></ul></div>"
      ],
      "metadata": {
        "toc": true,
        "id": "O3oSdpfo5csA"
      }
    },
    {
      "cell_type": "markdown",
      "source": [
        "## Подготовка"
      ],
      "metadata": {
        "id": "WMkF-Yk922c_"
      }
    },
    {
      "cell_type": "code",
      "source": [
        "!pip install transformers -q\n",
        "!pip install catboost -q\n",
        "import sys\n",
        "!{sys.executable} -m pip install spacy -q\n",
        "!{sys.executable} -m spacy download en_core_web_sm -q"
      ],
      "metadata": {
        "id": "XfYcIh1P5iOO",
        "outputId": "6b6fb27a-6b62-4e75-f3a2-f6923a49f472",
        "execution": {
          "iopub.status.busy": "2022-09-07T08:20:30.456279Z",
          "iopub.execute_input": "2022-09-07T08:20:30.457085Z",
          "iopub.status.idle": "2022-09-07T08:21:43.731648Z",
          "shell.execute_reply.started": "2022-09-07T08:20:30.456612Z",
          "shell.execute_reply": "2022-09-07T08:21:43.730438Z"
        },
        "trusted": true,
        "colab": {
          "base_uri": "https://localhost:8080/"
        }
      },
      "execution_count": 1,
      "outputs": [
        {
          "output_type": "stream",
          "name": "stdout",
          "text": [
            "\u001b[K     |████████████████████████████████| 12.8 MB 25.4 MB/s \n",
            "\u001b[?25h\u001b[38;5;2m✔ Download and installation successful\u001b[0m\n",
            "You can now load the package via spacy.load('en_core_web_sm')\n"
          ]
        }
      ]
    },
    {
      "cell_type": "code",
      "source": [
        "import pandas as pd\n",
        "import seaborn as sns\n",
        "import numpy as np\n",
        "import matplotlib.pyplot as plt \n",
        "from sklearn.utils import shuffle\n",
        "import warnings\n",
        "import re\n",
        "import lightgbm as lgb\n",
        "import nltk\n",
        "import torch\n",
        "import spacy\n",
        "from numpy import sqrt\n",
        "from numpy import argmax\n",
        "from numpy import arange\n",
        "from sklearn.dummy import DummyClassifier\n",
        "from scipy.stats import randint as sp_randint\n",
        "from scipy.stats import uniform as sp_randfloat\n",
        "from sklearn.pipeline import Pipeline\n",
        "from sklearn.metrics import f1_score, roc_curve\n",
        "from matplotlib import pyplot\n",
        "from sklearn.model_selection import GridSearchCV, RandomizedSearchCV\n",
        "from sklearn.model_selection import train_test_split, cross_val_score\n",
        "from sklearn.linear_model import LogisticRegression\n",
        "from sklearn.metrics import accuracy_score\n",
        "from nltk.corpus import stopwords\n",
        "from sklearn.feature_extraction.text import TfidfVectorizer \n",
        "from tqdm import notebook\n",
        "from tqdm import tqdm\n",
        "from nltk.stem import WordNetLemmatizer\n",
        "import transformers\n",
        "import catboost\n",
        "from catboost import CatBoostClassifier\n",
        "nltk.download('punkt')\n",
        "nltk.download('wordnet')\n",
        "nltk.download('stopwords')\n",
        "warnings.filterwarnings(\"ignore\")"
      ],
      "metadata": {
        "id": "G2Bfv-sj22dA",
        "outputId": "29d5bf61-4e0d-485f-8a23-956f85183255",
        "execution": {
          "iopub.status.busy": "2022-09-07T08:21:43.734176Z",
          "iopub.execute_input": "2022-09-07T08:21:43.734563Z",
          "iopub.status.idle": "2022-09-07T08:21:49.916218Z",
          "shell.execute_reply.started": "2022-09-07T08:21:43.734517Z",
          "shell.execute_reply": "2022-09-07T08:21:49.915167Z"
        },
        "trusted": true,
        "colab": {
          "base_uri": "https://localhost:8080/"
        }
      },
      "execution_count": 2,
      "outputs": [
        {
          "output_type": "stream",
          "name": "stderr",
          "text": [
            "[nltk_data] Downloading package punkt to /root/nltk_data...\n",
            "[nltk_data]   Package punkt is already up-to-date!\n",
            "[nltk_data] Downloading package wordnet to /root/nltk_data...\n",
            "[nltk_data]   Package wordnet is already up-to-date!\n",
            "[nltk_data] Downloading package stopwords to /root/nltk_data...\n",
            "[nltk_data]   Package stopwords is already up-to-date!\n"
          ]
        }
      ]
    },
    {
      "cell_type": "code",
      "source": [
        "df = pd.read_csv('https://code.s3.yandex.net/datasets/toxic_comments.csv', index_col=0)"
      ],
      "metadata": {
        "id": "4wHh5MlL3PZq",
        "execution": {
          "iopub.status.busy": "2022-09-07T08:21:49.917875Z",
          "iopub.execute_input": "2022-09-07T08:21:49.918928Z",
          "iopub.status.idle": "2022-09-07T08:22:00.683304Z",
          "shell.execute_reply.started": "2022-09-07T08:21:49.918887Z",
          "shell.execute_reply": "2022-09-07T08:22:00.682320Z"
        },
        "trusted": true
      },
      "execution_count": 3,
      "outputs": []
    },
    {
      "cell_type": "code",
      "source": [
        "df.head()"
      ],
      "metadata": {
        "id": "PCZrY1m83WXN",
        "outputId": "1133cc24-40fb-491c-9f13-2c2ca1c14a7e",
        "execution": {
          "iopub.status.busy": "2022-09-07T08:22:00.686136Z",
          "iopub.execute_input": "2022-09-07T08:22:00.686506Z",
          "iopub.status.idle": "2022-09-07T08:22:00.701117Z",
          "shell.execute_reply.started": "2022-09-07T08:22:00.686470Z",
          "shell.execute_reply": "2022-09-07T08:22:00.700106Z"
        },
        "trusted": true,
        "colab": {
          "base_uri": "https://localhost:8080/",
          "height": 206
        }
      },
      "execution_count": 4,
      "outputs": [
        {
          "output_type": "execute_result",
          "data": {
            "text/plain": [
              "                                                text  toxic\n",
              "0  Explanation\\nWhy the edits made under my usern...      0\n",
              "1  D'aww! He matches this background colour I'm s...      0\n",
              "2  Hey man, I'm really not trying to edit war. It...      0\n",
              "3  \"\\nMore\\nI can't make any real suggestions on ...      0\n",
              "4  You, sir, are my hero. Any chance you remember...      0"
            ],
            "text/html": [
              "\n",
              "  <div id=\"df-f56804ab-9090-423d-a66e-b725ae47dd46\">\n",
              "    <div class=\"colab-df-container\">\n",
              "      <div>\n",
              "<style scoped>\n",
              "    .dataframe tbody tr th:only-of-type {\n",
              "        vertical-align: middle;\n",
              "    }\n",
              "\n",
              "    .dataframe tbody tr th {\n",
              "        vertical-align: top;\n",
              "    }\n",
              "\n",
              "    .dataframe thead th {\n",
              "        text-align: right;\n",
              "    }\n",
              "</style>\n",
              "<table border=\"1\" class=\"dataframe\">\n",
              "  <thead>\n",
              "    <tr style=\"text-align: right;\">\n",
              "      <th></th>\n",
              "      <th>text</th>\n",
              "      <th>toxic</th>\n",
              "    </tr>\n",
              "  </thead>\n",
              "  <tbody>\n",
              "    <tr>\n",
              "      <th>0</th>\n",
              "      <td>Explanation\\nWhy the edits made under my usern...</td>\n",
              "      <td>0</td>\n",
              "    </tr>\n",
              "    <tr>\n",
              "      <th>1</th>\n",
              "      <td>D'aww! He matches this background colour I'm s...</td>\n",
              "      <td>0</td>\n",
              "    </tr>\n",
              "    <tr>\n",
              "      <th>2</th>\n",
              "      <td>Hey man, I'm really not trying to edit war. It...</td>\n",
              "      <td>0</td>\n",
              "    </tr>\n",
              "    <tr>\n",
              "      <th>3</th>\n",
              "      <td>\"\\nMore\\nI can't make any real suggestions on ...</td>\n",
              "      <td>0</td>\n",
              "    </tr>\n",
              "    <tr>\n",
              "      <th>4</th>\n",
              "      <td>You, sir, are my hero. Any chance you remember...</td>\n",
              "      <td>0</td>\n",
              "    </tr>\n",
              "  </tbody>\n",
              "</table>\n",
              "</div>\n",
              "      <button class=\"colab-df-convert\" onclick=\"convertToInteractive('df-f56804ab-9090-423d-a66e-b725ae47dd46')\"\n",
              "              title=\"Convert this dataframe to an interactive table.\"\n",
              "              style=\"display:none;\">\n",
              "        \n",
              "  <svg xmlns=\"http://www.w3.org/2000/svg\" height=\"24px\"viewBox=\"0 0 24 24\"\n",
              "       width=\"24px\">\n",
              "    <path d=\"M0 0h24v24H0V0z\" fill=\"none\"/>\n",
              "    <path d=\"M18.56 5.44l.94 2.06.94-2.06 2.06-.94-2.06-.94-.94-2.06-.94 2.06-2.06.94zm-11 1L8.5 8.5l.94-2.06 2.06-.94-2.06-.94L8.5 2.5l-.94 2.06-2.06.94zm10 10l.94 2.06.94-2.06 2.06-.94-2.06-.94-.94-2.06-.94 2.06-2.06.94z\"/><path d=\"M17.41 7.96l-1.37-1.37c-.4-.4-.92-.59-1.43-.59-.52 0-1.04.2-1.43.59L10.3 9.45l-7.72 7.72c-.78.78-.78 2.05 0 2.83L4 21.41c.39.39.9.59 1.41.59.51 0 1.02-.2 1.41-.59l7.78-7.78 2.81-2.81c.8-.78.8-2.07 0-2.86zM5.41 20L4 18.59l7.72-7.72 1.47 1.35L5.41 20z\"/>\n",
              "  </svg>\n",
              "      </button>\n",
              "      \n",
              "  <style>\n",
              "    .colab-df-container {\n",
              "      display:flex;\n",
              "      flex-wrap:wrap;\n",
              "      gap: 12px;\n",
              "    }\n",
              "\n",
              "    .colab-df-convert {\n",
              "      background-color: #E8F0FE;\n",
              "      border: none;\n",
              "      border-radius: 50%;\n",
              "      cursor: pointer;\n",
              "      display: none;\n",
              "      fill: #1967D2;\n",
              "      height: 32px;\n",
              "      padding: 0 0 0 0;\n",
              "      width: 32px;\n",
              "    }\n",
              "\n",
              "    .colab-df-convert:hover {\n",
              "      background-color: #E2EBFA;\n",
              "      box-shadow: 0px 1px 2px rgba(60, 64, 67, 0.3), 0px 1px 3px 1px rgba(60, 64, 67, 0.15);\n",
              "      fill: #174EA6;\n",
              "    }\n",
              "\n",
              "    [theme=dark] .colab-df-convert {\n",
              "      background-color: #3B4455;\n",
              "      fill: #D2E3FC;\n",
              "    }\n",
              "\n",
              "    [theme=dark] .colab-df-convert:hover {\n",
              "      background-color: #434B5C;\n",
              "      box-shadow: 0px 1px 3px 1px rgba(0, 0, 0, 0.15);\n",
              "      filter: drop-shadow(0px 1px 2px rgba(0, 0, 0, 0.3));\n",
              "      fill: #FFFFFF;\n",
              "    }\n",
              "  </style>\n",
              "\n",
              "      <script>\n",
              "        const buttonEl =\n",
              "          document.querySelector('#df-f56804ab-9090-423d-a66e-b725ae47dd46 button.colab-df-convert');\n",
              "        buttonEl.style.display =\n",
              "          google.colab.kernel.accessAllowed ? 'block' : 'none';\n",
              "\n",
              "        async function convertToInteractive(key) {\n",
              "          const element = document.querySelector('#df-f56804ab-9090-423d-a66e-b725ae47dd46');\n",
              "          const dataTable =\n",
              "            await google.colab.kernel.invokeFunction('convertToInteractive',\n",
              "                                                     [key], {});\n",
              "          if (!dataTable) return;\n",
              "\n",
              "          const docLinkHtml = 'Like what you see? Visit the ' +\n",
              "            '<a target=\"_blank\" href=https://colab.research.google.com/notebooks/data_table.ipynb>data table notebook</a>'\n",
              "            + ' to learn more about interactive tables.';\n",
              "          element.innerHTML = '';\n",
              "          dataTable['output_type'] = 'display_data';\n",
              "          await google.colab.output.renderOutput(dataTable, element);\n",
              "          const docLink = document.createElement('div');\n",
              "          docLink.innerHTML = docLinkHtml;\n",
              "          element.appendChild(docLink);\n",
              "        }\n",
              "      </script>\n",
              "    </div>\n",
              "  </div>\n",
              "  "
            ]
          },
          "metadata": {},
          "execution_count": 4
        }
      ]
    },
    {
      "cell_type": "code",
      "source": [
        "df.info()"
      ],
      "metadata": {
        "id": "n_cboC0z4rlv",
        "outputId": "3edbb4b9-d0c5-49b0-8016-9924d5953efd",
        "execution": {
          "iopub.status.busy": "2022-09-07T08:22:00.702825Z",
          "iopub.execute_input": "2022-09-07T08:22:00.703228Z",
          "iopub.status.idle": "2022-09-07T08:22:00.736200Z",
          "shell.execute_reply.started": "2022-09-07T08:22:00.703193Z",
          "shell.execute_reply": "2022-09-07T08:22:00.735251Z"
        },
        "trusted": true,
        "colab": {
          "base_uri": "https://localhost:8080/"
        }
      },
      "execution_count": 5,
      "outputs": [
        {
          "output_type": "stream",
          "name": "stdout",
          "text": [
            "<class 'pandas.core.frame.DataFrame'>\n",
            "Int64Index: 159292 entries, 0 to 159450\n",
            "Data columns (total 2 columns):\n",
            " #   Column  Non-Null Count   Dtype \n",
            "---  ------  --------------   ----- \n",
            " 0   text    159292 non-null  object\n",
            " 1   toxic   159292 non-null  int64 \n",
            "dtypes: int64(1), object(1)\n",
            "memory usage: 3.6+ MB\n"
          ]
        }
      ]
    },
    {
      "cell_type": "markdown",
      "source": [
        "Данные состоят из 159292 строк и двух столбцов. Пропусков нет, текст комментариев на английском языке.\n",
        "Подготовим данные для обучения моделей."
      ],
      "metadata": {
        "id": "Mq8XJ1J649Ad"
      }
    },
    {
      "cell_type": "markdown",
      "source": [
        "Лемматизируем текст."
      ],
      "metadata": {
        "id": "UbTC_7D6IDZh"
      }
    },
    {
      "cell_type": "code",
      "source": [
        "nlp = spacy.load('en_core_web_sm', disable=['parser', 'ner'])\n",
        "def text_preprocessing(text):\n",
        "    doc = nlp(text)\n",
        "    doc=\" \".join([token.lemma_ for token in doc])\n",
        "    doc=re.sub(r'[^a-zA-Z ]',' ',doc)\n",
        "  \n",
        "    return \" \".join(doc.split())"
      ],
      "metadata": {
        "id": "XhcWZmV0LFbE",
        "execution": {
          "iopub.status.busy": "2022-09-07T08:22:00.737981Z",
          "iopub.execute_input": "2022-09-07T08:22:00.738782Z",
          "iopub.status.idle": "2022-09-07T08:22:01.671650Z",
          "shell.execute_reply.started": "2022-09-07T08:22:00.738742Z",
          "shell.execute_reply": "2022-09-07T08:22:01.670693Z"
        },
        "trusted": true
      },
      "execution_count": 6,
      "outputs": []
    },
    {
      "cell_type": "code",
      "source": [
        "tqdm.pandas() \n",
        "df['lemm_text']=df['text'].progress_apply(text_preprocessing).str.lower()"
      ],
      "metadata": {
        "id": "zLmjK9qCLcX5",
        "outputId": "a12dcc8c-2d15-48f9-da37-3f3c07bd2eb0",
        "execution": {
          "iopub.status.busy": "2022-09-07T08:22:01.673323Z",
          "iopub.execute_input": "2022-09-07T08:22:01.673706Z",
          "iopub.status.idle": "2022-09-07T08:40:15.889130Z",
          "shell.execute_reply.started": "2022-09-07T08:22:01.673668Z",
          "shell.execute_reply": "2022-09-07T08:40:15.887885Z"
        },
        "trusted": true,
        "colab": {
          "base_uri": "https://localhost:8080/"
        }
      },
      "execution_count": 7,
      "outputs": [
        {
          "output_type": "stream",
          "name": "stderr",
          "text": [
            "100%|██████████| 159292/159292 [18:04<00:00, 146.89it/s]\n"
          ]
        }
      ]
    },
    {
      "cell_type": "code",
      "source": [
        "df.head()"
      ],
      "metadata": {
        "id": "A48LzQuFHGWf",
        "outputId": "85be9f0e-4190-4146-ddec-1849ace83185",
        "execution": {
          "iopub.status.busy": "2022-09-07T08:40:15.890608Z",
          "iopub.execute_input": "2022-09-07T08:40:15.891655Z",
          "iopub.status.idle": "2022-09-07T08:40:15.903666Z",
          "shell.execute_reply.started": "2022-09-07T08:40:15.891614Z",
          "shell.execute_reply": "2022-09-07T08:40:15.902511Z"
        },
        "trusted": true,
        "colab": {
          "base_uri": "https://localhost:8080/",
          "height": 206
        }
      },
      "execution_count": 8,
      "outputs": [
        {
          "output_type": "execute_result",
          "data": {
            "text/plain": [
              "                                                text  toxic  \\\n",
              "0  Explanation\\nWhy the edits made under my usern...      0   \n",
              "1  D'aww! He matches this background colour I'm s...      0   \n",
              "2  Hey man, I'm really not trying to edit war. It...      0   \n",
              "3  \"\\nMore\\nI can't make any real suggestions on ...      0   \n",
              "4  You, sir, are my hero. Any chance you remember...      0   \n",
              "\n",
              "                                           lemm_text  \n",
              "0  explanation why the edit make under my usernam...  \n",
              "1  d aww he match this background colour i be see...  \n",
              "2  hey man i be really not try to edit war it be ...  \n",
              "3  more i can not make any real suggestion on imp...  \n",
              "4  you sir be my hero any chance you remember wha...  "
            ],
            "text/html": [
              "\n",
              "  <div id=\"df-3bc4c470-a1f1-448f-ab2f-13b5afa46e9a\">\n",
              "    <div class=\"colab-df-container\">\n",
              "      <div>\n",
              "<style scoped>\n",
              "    .dataframe tbody tr th:only-of-type {\n",
              "        vertical-align: middle;\n",
              "    }\n",
              "\n",
              "    .dataframe tbody tr th {\n",
              "        vertical-align: top;\n",
              "    }\n",
              "\n",
              "    .dataframe thead th {\n",
              "        text-align: right;\n",
              "    }\n",
              "</style>\n",
              "<table border=\"1\" class=\"dataframe\">\n",
              "  <thead>\n",
              "    <tr style=\"text-align: right;\">\n",
              "      <th></th>\n",
              "      <th>text</th>\n",
              "      <th>toxic</th>\n",
              "      <th>lemm_text</th>\n",
              "    </tr>\n",
              "  </thead>\n",
              "  <tbody>\n",
              "    <tr>\n",
              "      <th>0</th>\n",
              "      <td>Explanation\\nWhy the edits made under my usern...</td>\n",
              "      <td>0</td>\n",
              "      <td>explanation why the edit make under my usernam...</td>\n",
              "    </tr>\n",
              "    <tr>\n",
              "      <th>1</th>\n",
              "      <td>D'aww! He matches this background colour I'm s...</td>\n",
              "      <td>0</td>\n",
              "      <td>d aww he match this background colour i be see...</td>\n",
              "    </tr>\n",
              "    <tr>\n",
              "      <th>2</th>\n",
              "      <td>Hey man, I'm really not trying to edit war. It...</td>\n",
              "      <td>0</td>\n",
              "      <td>hey man i be really not try to edit war it be ...</td>\n",
              "    </tr>\n",
              "    <tr>\n",
              "      <th>3</th>\n",
              "      <td>\"\\nMore\\nI can't make any real suggestions on ...</td>\n",
              "      <td>0</td>\n",
              "      <td>more i can not make any real suggestion on imp...</td>\n",
              "    </tr>\n",
              "    <tr>\n",
              "      <th>4</th>\n",
              "      <td>You, sir, are my hero. Any chance you remember...</td>\n",
              "      <td>0</td>\n",
              "      <td>you sir be my hero any chance you remember wha...</td>\n",
              "    </tr>\n",
              "  </tbody>\n",
              "</table>\n",
              "</div>\n",
              "      <button class=\"colab-df-convert\" onclick=\"convertToInteractive('df-3bc4c470-a1f1-448f-ab2f-13b5afa46e9a')\"\n",
              "              title=\"Convert this dataframe to an interactive table.\"\n",
              "              style=\"display:none;\">\n",
              "        \n",
              "  <svg xmlns=\"http://www.w3.org/2000/svg\" height=\"24px\"viewBox=\"0 0 24 24\"\n",
              "       width=\"24px\">\n",
              "    <path d=\"M0 0h24v24H0V0z\" fill=\"none\"/>\n",
              "    <path d=\"M18.56 5.44l.94 2.06.94-2.06 2.06-.94-2.06-.94-.94-2.06-.94 2.06-2.06.94zm-11 1L8.5 8.5l.94-2.06 2.06-.94-2.06-.94L8.5 2.5l-.94 2.06-2.06.94zm10 10l.94 2.06.94-2.06 2.06-.94-2.06-.94-.94-2.06-.94 2.06-2.06.94z\"/><path d=\"M17.41 7.96l-1.37-1.37c-.4-.4-.92-.59-1.43-.59-.52 0-1.04.2-1.43.59L10.3 9.45l-7.72 7.72c-.78.78-.78 2.05 0 2.83L4 21.41c.39.39.9.59 1.41.59.51 0 1.02-.2 1.41-.59l7.78-7.78 2.81-2.81c.8-.78.8-2.07 0-2.86zM5.41 20L4 18.59l7.72-7.72 1.47 1.35L5.41 20z\"/>\n",
              "  </svg>\n",
              "      </button>\n",
              "      \n",
              "  <style>\n",
              "    .colab-df-container {\n",
              "      display:flex;\n",
              "      flex-wrap:wrap;\n",
              "      gap: 12px;\n",
              "    }\n",
              "\n",
              "    .colab-df-convert {\n",
              "      background-color: #E8F0FE;\n",
              "      border: none;\n",
              "      border-radius: 50%;\n",
              "      cursor: pointer;\n",
              "      display: none;\n",
              "      fill: #1967D2;\n",
              "      height: 32px;\n",
              "      padding: 0 0 0 0;\n",
              "      width: 32px;\n",
              "    }\n",
              "\n",
              "    .colab-df-convert:hover {\n",
              "      background-color: #E2EBFA;\n",
              "      box-shadow: 0px 1px 2px rgba(60, 64, 67, 0.3), 0px 1px 3px 1px rgba(60, 64, 67, 0.15);\n",
              "      fill: #174EA6;\n",
              "    }\n",
              "\n",
              "    [theme=dark] .colab-df-convert {\n",
              "      background-color: #3B4455;\n",
              "      fill: #D2E3FC;\n",
              "    }\n",
              "\n",
              "    [theme=dark] .colab-df-convert:hover {\n",
              "      background-color: #434B5C;\n",
              "      box-shadow: 0px 1px 3px 1px rgba(0, 0, 0, 0.15);\n",
              "      filter: drop-shadow(0px 1px 2px rgba(0, 0, 0, 0.3));\n",
              "      fill: #FFFFFF;\n",
              "    }\n",
              "  </style>\n",
              "\n",
              "      <script>\n",
              "        const buttonEl =\n",
              "          document.querySelector('#df-3bc4c470-a1f1-448f-ab2f-13b5afa46e9a button.colab-df-convert');\n",
              "        buttonEl.style.display =\n",
              "          google.colab.kernel.accessAllowed ? 'block' : 'none';\n",
              "\n",
              "        async function convertToInteractive(key) {\n",
              "          const element = document.querySelector('#df-3bc4c470-a1f1-448f-ab2f-13b5afa46e9a');\n",
              "          const dataTable =\n",
              "            await google.colab.kernel.invokeFunction('convertToInteractive',\n",
              "                                                     [key], {});\n",
              "          if (!dataTable) return;\n",
              "\n",
              "          const docLinkHtml = 'Like what you see? Visit the ' +\n",
              "            '<a target=\"_blank\" href=https://colab.research.google.com/notebooks/data_table.ipynb>data table notebook</a>'\n",
              "            + ' to learn more about interactive tables.';\n",
              "          element.innerHTML = '';\n",
              "          dataTable['output_type'] = 'display_data';\n",
              "          await google.colab.output.renderOutput(dataTable, element);\n",
              "          const docLink = document.createElement('div');\n",
              "          docLink.innerHTML = docLinkHtml;\n",
              "          element.appendChild(docLink);\n",
              "        }\n",
              "      </script>\n",
              "    </div>\n",
              "  </div>\n",
              "  "
            ]
          },
          "metadata": {},
          "execution_count": 8
        }
      ]
    },
    {
      "cell_type": "markdown",
      "source": [
        "Разделим исходные данные на обучающую, валидационную и тестовые выборки.\n"
      ],
      "metadata": {
        "id": "JESH7ibqi-ia"
      }
    },
    {
      "cell_type": "code",
      "source": [
        "features = df['lemm_text']\n",
        "target = df['toxic']"
      ],
      "metadata": {
        "id": "Q1tR5OnljGO9",
        "execution": {
          "iopub.status.busy": "2022-09-07T08:40:15.905783Z",
          "iopub.execute_input": "2022-09-07T08:40:15.906281Z",
          "iopub.status.idle": "2022-09-07T08:40:15.911417Z",
          "shell.execute_reply.started": "2022-09-07T08:40:15.906245Z",
          "shell.execute_reply": "2022-09-07T08:40:15.910207Z"
        },
        "trusted": true
      },
      "execution_count": 9,
      "outputs": []
    },
    {
      "cell_type": "code",
      "source": [
        "features_train, features_valid, target_train, target_valid = train_test_split(\n",
        "    features, target, test_size=0.4, random_state=12345)\n",
        "features_valid, features_test, target_valid, target_test = train_test_split(\n",
        "    features_valid, target_valid, test_size=0.5, random_state=12345)"
      ],
      "metadata": {
        "id": "C9xB0GHwjJfE",
        "execution": {
          "iopub.status.busy": "2022-09-07T08:40:15.917313Z",
          "iopub.execute_input": "2022-09-07T08:40:15.917892Z",
          "iopub.status.idle": "2022-09-07T08:40:15.954573Z",
          "shell.execute_reply.started": "2022-09-07T08:40:15.917865Z",
          "shell.execute_reply": "2022-09-07T08:40:15.953679Z"
        },
        "trusted": true
      },
      "execution_count": 10,
      "outputs": []
    },
    {
      "cell_type": "markdown",
      "source": [
        "Установим стоп-слова."
      ],
      "metadata": {
        "id": "vvYISRzHW0yn"
      }
    },
    {
      "cell_type": "code",
      "source": [
        "stopwords = set(stopwords.words('english'))"
      ],
      "metadata": {
        "id": "q-MREUWeXaoG",
        "execution": {
          "iopub.status.busy": "2022-09-07T08:40:15.957457Z",
          "iopub.execute_input": "2022-09-07T08:40:15.957708Z",
          "iopub.status.idle": "2022-09-07T08:40:15.967742Z",
          "shell.execute_reply.started": "2022-09-07T08:40:15.957684Z",
          "shell.execute_reply": "2022-09-07T08:40:15.966740Z"
        },
        "trusted": true
      },
      "execution_count": 11,
      "outputs": []
    },
    {
      "cell_type": "markdown",
      "source": [
        "## Обучение"
      ],
      "metadata": {
        "id": "mKf2UCmW22dD"
      }
    },
    {
      "cell_type": "markdown",
      "source": [
        "Создадим функцию для добавления результатов работы моделей."
      ],
      "metadata": {
        "id": "pScVPxr8VNws"
      }
    },
    {
      "cell_type": "code",
      "source": [
        "results = {'name': [], 'best_params':[], 'F1':[]}\n",
        "\n",
        "def add_model_result(results, name, best_params, f1):\n",
        "    results['name'].append(name)\n",
        "    results['best_params'].append(best_params)\n",
        "    results['F1'].append(f1)"
      ],
      "metadata": {
        "id": "xGOcgKgfRG29",
        "execution": {
          "iopub.status.busy": "2022-09-07T08:40:15.976833Z",
          "iopub.execute_input": "2022-09-07T08:40:15.977594Z",
          "iopub.status.idle": "2022-09-07T08:40:15.986725Z",
          "shell.execute_reply.started": "2022-09-07T08:40:15.977559Z",
          "shell.execute_reply": "2022-09-07T08:40:15.985578Z"
        },
        "trusted": true
      },
      "execution_count": 12,
      "outputs": []
    },
    {
      "cell_type": "markdown",
      "source": [
        "Приступим к подбору гиперпараметров моделей."
      ],
      "metadata": {
        "id": "C3LAh64IK2j4"
      }
    },
    {
      "cell_type": "markdown",
      "source": [
        "### Линейная регрессия "
      ],
      "metadata": {
        "id": "LXrjDgY8_qpJ"
      }
    },
    {
      "cell_type": "code",
      "source": [
        "pipeline = Pipeline(\n",
        "    [\n",
        "        (\"tfidf\", TfidfVectorizer(stop_words=stopwords)),\n",
        "        (\"clf\", LogisticRegression()),\n",
        "    ]\n",
        ")\n",
        "parameters = {\"clf__C\":[1, 10, 100, 1000],  \"clf__penalty\":[\"l1\",\"l2\"]}\n",
        "grid_lr = GridSearchCV(pipeline, parameters, scoring=\"f1\", cv=3)\n",
        "grid_lr.fit(features_train, target_train)"
      ],
      "metadata": {
        "id": "0ye40dYEDjX_",
        "outputId": "f1aa48c2-0f63-4427-e6d6-5fca45b8138e",
        "execution": {
          "iopub.status.busy": "2022-09-07T08:40:15.988097Z",
          "iopub.execute_input": "2022-09-07T08:40:15.989051Z",
          "iopub.status.idle": "2022-09-07T08:43:14.802334Z",
          "shell.execute_reply.started": "2022-09-07T08:40:15.989015Z",
          "shell.execute_reply": "2022-09-07T08:43:14.801211Z"
        },
        "trusted": true,
        "colab": {
          "base_uri": "https://localhost:8080/"
        }
      },
      "execution_count": 13,
      "outputs": [
        {
          "output_type": "execute_result",
          "data": {
            "text/plain": [
              "GridSearchCV(cv=3,\n",
              "             estimator=Pipeline(steps=[('tfidf',\n",
              "                                        TfidfVectorizer(stop_words={'a',\n",
              "                                                                    'about',\n",
              "                                                                    'above',\n",
              "                                                                    'after',\n",
              "                                                                    'again',\n",
              "                                                                    'against',\n",
              "                                                                    'ain',\n",
              "                                                                    'all', 'am',\n",
              "                                                                    'an', 'and',\n",
              "                                                                    'any',\n",
              "                                                                    'are',\n",
              "                                                                    'aren',\n",
              "                                                                    \"aren't\",\n",
              "                                                                    'as', 'at',\n",
              "                                                                    'be',\n",
              "                                                                    'because',\n",
              "                                                                    'been',\n",
              "                                                                    'before',\n",
              "                                                                    'being',\n",
              "                                                                    'below',\n",
              "                                                                    'between',\n",
              "                                                                    'both',\n",
              "                                                                    'but', 'by',\n",
              "                                                                    'can',\n",
              "                                                                    'couldn',\n",
              "                                                                    \"couldn't\", ...})),\n",
              "                                       ('clf', LogisticRegression())]),\n",
              "             param_grid={'clf__C': [1, 10, 100, 1000],\n",
              "                         'clf__penalty': ['l1', 'l2']},\n",
              "             scoring='f1')"
            ]
          },
          "metadata": {},
          "execution_count": 13
        }
      ]
    },
    {
      "cell_type": "code",
      "source": [
        "print('LogisticRegression', grid_lr.best_score_, grid_lr.best_params_)"
      ],
      "metadata": {
        "id": "RSu_JfR1SYPx",
        "outputId": "47667cfe-415f-4e29-e9e4-8a9fc13071a9",
        "execution": {
          "iopub.status.busy": "2022-09-07T08:43:14.804433Z",
          "iopub.execute_input": "2022-09-07T08:43:14.806367Z",
          "iopub.status.idle": "2022-09-07T08:43:14.818027Z",
          "shell.execute_reply.started": "2022-09-07T08:43:14.806320Z",
          "shell.execute_reply": "2022-09-07T08:43:14.816317Z"
        },
        "trusted": true,
        "colab": {
          "base_uri": "https://localhost:8080/"
        }
      },
      "execution_count": 14,
      "outputs": [
        {
          "output_type": "stream",
          "name": "stdout",
          "text": [
            "LogisticRegression 0.7653882922788018 {'clf__C': 10, 'clf__penalty': 'l2'}\n"
          ]
        }
      ]
    },
    {
      "cell_type": "code",
      "source": [
        "add_model_result(results, 'LogisticRegression', grid_lr.best_params_, grid_lr.best_score_)"
      ],
      "metadata": {
        "id": "2Gx97yLvjE77",
        "execution": {
          "iopub.status.busy": "2022-09-07T08:43:14.821373Z",
          "iopub.execute_input": "2022-09-07T08:43:14.823358Z",
          "iopub.status.idle": "2022-09-07T08:43:14.831721Z",
          "shell.execute_reply.started": "2022-09-07T08:43:14.823307Z",
          "shell.execute_reply": "2022-09-07T08:43:14.829926Z"
        },
        "trusted": true
      },
      "execution_count": 15,
      "outputs": []
    },
    {
      "cell_type": "markdown",
      "source": [
        "Попробуем изменить порог классификации."
      ],
      "metadata": {
        "id": "_aW5myNdifY-"
      }
    },
    {
      "cell_type": "code",
      "source": [
        "def to_labels(predictions, threshold):\n",
        "\treturn (predictions >= threshold).astype('int')"
      ],
      "metadata": {
        "id": "HJy8Voqbjp2C",
        "execution": {
          "iopub.status.busy": "2022-09-07T08:43:14.835326Z",
          "iopub.execute_input": "2022-09-07T08:43:14.836338Z",
          "iopub.status.idle": "2022-09-07T08:43:14.846520Z",
          "shell.execute_reply.started": "2022-09-07T08:43:14.836274Z",
          "shell.execute_reply": "2022-09-07T08:43:14.844744Z"
        },
        "trusted": true
      },
      "execution_count": 16,
      "outputs": []
    },
    {
      "cell_type": "code",
      "source": [
        "predict = grid_lr.best_estimator_.predict_proba(features_valid)[:, 1]\n",
        "thresholds = arange(0, 1, 0.001)\n",
        "scores = [f1_score(target_valid, to_labels(predict, t)) for t in thresholds]\n",
        "ix = argmax(scores)\n",
        "print('Threshold=%.3f, F-Score=%.5f' % (thresholds[ix], scores[ix]))"
      ],
      "metadata": {
        "id": "3JjTZ9gITE0_",
        "outputId": "0074bb4d-d555-4ca9-c2a4-c0e5964f83f5",
        "execution": {
          "iopub.status.busy": "2022-09-07T08:43:14.848453Z",
          "iopub.execute_input": "2022-09-07T08:43:14.849545Z",
          "iopub.status.idle": "2022-09-07T08:43:26.590072Z",
          "shell.execute_reply.started": "2022-09-07T08:43:14.849510Z",
          "shell.execute_reply": "2022-09-07T08:43:26.588919Z"
        },
        "trusted": true,
        "colab": {
          "base_uri": "https://localhost:8080/"
        }
      },
      "execution_count": 17,
      "outputs": [
        {
          "output_type": "stream",
          "name": "stdout",
          "text": [
            "Threshold=0.367, F-Score=0.79098\n"
          ]
        }
      ]
    },
    {
      "cell_type": "code",
      "source": [
        "add_model_result(results, 'LogisticRegression_trsh', thresholds[ix], scores[ix])"
      ],
      "metadata": {
        "id": "PI696LHSRUhr",
        "execution": {
          "iopub.status.busy": "2022-09-07T08:43:26.592542Z",
          "iopub.execute_input": "2022-09-07T08:43:26.593162Z",
          "iopub.status.idle": "2022-09-07T08:43:26.598580Z",
          "shell.execute_reply.started": "2022-09-07T08:43:26.593121Z",
          "shell.execute_reply": "2022-09-07T08:43:26.597309Z"
        },
        "trusted": true
      },
      "execution_count": 18,
      "outputs": []
    },
    {
      "cell_type": "markdown",
      "source": [
        "### LightGBM "
      ],
      "metadata": {
        "id": "IzinsHLGrwSj"
      }
    },
    {
      "cell_type": "code",
      "source": [
        "pipeline = Pipeline(\n",
        "    [\n",
        "        (\"tfidf\", TfidfVectorizer(stop_words=stopwords)),\n",
        "        (\"clf\", lgb.LGBMClassifier()),\n",
        "    ]\n",
        ")\n",
        "f1 = (cross_val_score(pipeline, features_train, target_train,scoring='f1', cv=3)).mean()\n",
        "print('F1 = ', f1)"
      ],
      "metadata": {
        "id": "fp3fdTayHzLl",
        "outputId": "c1c0fa38-4d3e-444e-ff65-78db803f4aa4",
        "execution": {
          "iopub.status.busy": "2022-09-07T08:43:26.600799Z",
          "iopub.execute_input": "2022-09-07T08:43:26.602258Z",
          "iopub.status.idle": "2022-09-07T08:44:58.270227Z",
          "shell.execute_reply.started": "2022-09-07T08:43:26.602231Z",
          "shell.execute_reply": "2022-09-07T08:44:58.269105Z"
        },
        "trusted": true,
        "colab": {
          "base_uri": "https://localhost:8080/"
        }
      },
      "execution_count": 19,
      "outputs": [
        {
          "output_type": "stream",
          "name": "stdout",
          "text": [
            "F1 =  0.7477460390446508\n"
          ]
        }
      ]
    },
    {
      "cell_type": "code",
      "source": [
        "add_model_result(results, 'LightGBM', 'None', f1)"
      ],
      "metadata": {
        "id": "PypSVUZctoLy",
        "execution": {
          "iopub.status.busy": "2022-09-07T08:44:58.271789Z",
          "iopub.execute_input": "2022-09-07T08:44:58.272174Z",
          "iopub.status.idle": "2022-09-07T08:44:58.277077Z",
          "shell.execute_reply.started": "2022-09-07T08:44:58.272136Z",
          "shell.execute_reply": "2022-09-07T08:44:58.276052Z"
        },
        "trusted": true
      },
      "execution_count": 20,
      "outputs": []
    },
    {
      "cell_type": "markdown",
      "source": [
        "Изменим порог классификации."
      ],
      "metadata": {
        "id": "JJ3gVJ2xkomY"
      }
    },
    {
      "cell_type": "code",
      "source": [
        "pipeline.fit(features_train, target_train)\n",
        "predict = pipeline.predict_proba(features_valid)[:, 1]\n",
        "thresholds = arange(0, 1, 0.001)\n",
        "scores = [f1_score(target_valid, to_labels(predict, t)) for t in thresholds]\n",
        "ix = argmax(scores)\n",
        "print('Threshold=%.3f, F-Score=%.5f' % (thresholds[ix], scores[ix]))"
      ],
      "metadata": {
        "id": "wo5GEI-WUOn5",
        "outputId": "5a9d5ccc-d322-48e6-bef8-f0bbc956f7e0",
        "execution": {
          "iopub.status.busy": "2022-09-07T08:44:58.278607Z",
          "iopub.execute_input": "2022-09-07T08:44:58.279353Z",
          "iopub.status.idle": "2022-09-07T08:46:00.050670Z",
          "shell.execute_reply.started": "2022-09-07T08:44:58.279314Z",
          "shell.execute_reply": "2022-09-07T08:46:00.049612Z"
        },
        "trusted": true,
        "colab": {
          "base_uri": "https://localhost:8080/"
        }
      },
      "execution_count": 21,
      "outputs": [
        {
          "output_type": "stream",
          "name": "stdout",
          "text": [
            "Threshold=0.277, F-Score=0.78777\n"
          ]
        }
      ]
    },
    {
      "cell_type": "code",
      "source": [
        "add_model_result(results, 'LightGBM_trsh', thresholds[ix], scores[ix])"
      ],
      "metadata": {
        "id": "1FVuS80Skuos",
        "execution": {
          "iopub.status.busy": "2022-09-07T08:46:00.052357Z",
          "iopub.execute_input": "2022-09-07T08:46:00.052752Z",
          "iopub.status.idle": "2022-09-07T08:46:00.059725Z",
          "shell.execute_reply.started": "2022-09-07T08:46:00.052714Z",
          "shell.execute_reply": "2022-09-07T08:46:00.058770Z"
        },
        "trusted": true
      },
      "execution_count": 22,
      "outputs": []
    },
    {
      "cell_type": "markdown",
      "source": [
        "### CatBoost"
      ],
      "metadata": {
        "id": "Q-dSo57QQ4cI"
      }
    },
    {
      "cell_type": "markdown",
      "source": [
        "Выделим из исходной выборки (лемматизированной) валидационную и тестовую."
      ],
      "metadata": {
        "id": "_w2IKPwIu3S-"
      }
    },
    {
      "cell_type": "code",
      "source": [
        "train = df.sample(frac=0.6).copy()\n",
        "validation = df[~df.index.isin(train.index)].copy()\n",
        "test = validation.sample(frac=0.5).copy()\n",
        "val = validation[~validation.index.isin(test.index)].copy()"
      ],
      "metadata": {
        "id": "WIl8MSG9gZl4",
        "execution": {
          "iopub.status.busy": "2022-09-07T08:46:00.061114Z",
          "iopub.execute_input": "2022-09-07T08:46:00.062153Z",
          "iopub.status.idle": "2022-09-07T08:46:00.130625Z",
          "shell.execute_reply.started": "2022-09-07T08:46:00.062107Z",
          "shell.execute_reply": "2022-09-07T08:46:00.129495Z"
        },
        "trusted": true
      },
      "execution_count": 23,
      "outputs": []
    },
    {
      "cell_type": "code",
      "source": [
        "X_col = ['lemm_text']\n",
        "y_col = ['toxic']\n",
        "text_features = ['lemm_text']"
      ],
      "metadata": {
        "id": "yjMykj7iSVMp",
        "execution": {
          "iopub.status.busy": "2022-09-07T08:46:00.132435Z",
          "iopub.execute_input": "2022-09-07T08:46:00.132816Z",
          "iopub.status.idle": "2022-09-07T08:46:00.139023Z",
          "shell.execute_reply.started": "2022-09-07T08:46:00.132780Z",
          "shell.execute_reply": "2022-09-07T08:46:00.136764Z"
        },
        "trusted": true
      },
      "execution_count": 24,
      "outputs": []
    },
    {
      "cell_type": "code",
      "source": [
        "%%time\n",
        "model = CatBoostClassifier(text_features=text_features, silent=True, task_type=\"GPU\")\n",
        "\n",
        "parameters = {'depth' : sp_randint(4, 10),\n",
        "              'learning_rate': sp_randfloat(0.01, 0.06),\n",
        "              'iterations' : sp_randint(500, 1000)}\n",
        "\n",
        "grid_cat = RandomizedSearchCV(model,parameters, scoring='f1', cv=3)\n",
        "grid_cat.fit(train[X_col],train[y_col])"
      ],
      "metadata": {
        "id": "IyeuMducVHKQ",
        "outputId": "40889117-f5c5-49c5-e5e9-2dee9d957276",
        "execution": {
          "iopub.status.busy": "2022-09-07T08:46:00.140330Z",
          "iopub.execute_input": "2022-09-07T08:46:00.140914Z",
          "iopub.status.idle": "2022-09-07T09:11:19.255748Z",
          "shell.execute_reply.started": "2022-09-07T08:46:00.140856Z",
          "shell.execute_reply": "2022-09-07T09:11:19.254989Z"
        },
        "trusted": true,
        "colab": {
          "base_uri": "https://localhost:8080/"
        }
      },
      "execution_count": 25,
      "outputs": [
        {
          "output_type": "stream",
          "name": "stdout",
          "text": [
            "CPU times: user 16min 29s, sys: 2min 19s, total: 18min 48s\n",
            "Wall time: 12min 5s\n"
          ]
        },
        {
          "output_type": "execute_result",
          "data": {
            "text/plain": [
              "RandomizedSearchCV(cv=3,\n",
              "                   estimator=<catboost.core.CatBoostClassifier object at 0x7f752c6f1710>,\n",
              "                   param_distributions={'depth': <scipy.stats._distn_infrastructure.rv_frozen object at 0x7f752c6f1110>,\n",
              "                                        'iterations': <scipy.stats._distn_infrastructure.rv_frozen object at 0x7f752c6f1b50>,\n",
              "                                        'learning_rate': <scipy.stats._distn_infrastructure.rv_frozen object at 0x7f752c6f1d90>},\n",
              "                   scoring='f1')"
            ]
          },
          "metadata": {},
          "execution_count": 25
        }
      ]
    },
    {
      "cell_type": "code",
      "source": [
        "print('CatBoost', grid_cat.best_score_, grid_cat.best_params_)"
      ],
      "metadata": {
        "id": "XMO-7k-1mOw4",
        "outputId": "432a2eb1-1db4-42e0-aee9-d02815ec168f",
        "execution": {
          "iopub.status.busy": "2022-09-07T09:11:19.259450Z",
          "iopub.execute_input": "2022-09-07T09:11:19.261595Z",
          "iopub.status.idle": "2022-09-07T09:11:19.269832Z",
          "shell.execute_reply.started": "2022-09-07T09:11:19.261553Z",
          "shell.execute_reply": "2022-09-07T09:11:19.268952Z"
        },
        "trusted": true,
        "colab": {
          "base_uri": "https://localhost:8080/"
        }
      },
      "execution_count": 26,
      "outputs": [
        {
          "output_type": "stream",
          "name": "stdout",
          "text": [
            "CatBoost 0.7830470888340056 {'depth': 9, 'iterations': 629, 'learning_rate': 0.06785217697316344}\n"
          ]
        }
      ]
    },
    {
      "cell_type": "code",
      "source": [
        "add_model_result(results, 'CatBoost', grid_cat.best_params_, grid_cat.best_score_)"
      ],
      "metadata": {
        "id": "Cz9SIomobS11",
        "execution": {
          "iopub.status.busy": "2022-09-07T09:11:19.279323Z",
          "iopub.execute_input": "2022-09-07T09:11:19.279852Z",
          "iopub.status.idle": "2022-09-07T09:11:19.286101Z",
          "shell.execute_reply.started": "2022-09-07T09:11:19.279820Z",
          "shell.execute_reply": "2022-09-07T09:11:19.285278Z"
        },
        "trusted": true
      },
      "execution_count": 27,
      "outputs": []
    },
    {
      "cell_type": "markdown",
      "source": [
        "Изменим порог классификации."
      ],
      "metadata": {
        "id": "hwaFK1gadKhr"
      }
    },
    {
      "cell_type": "code",
      "source": [
        "predict = grid_cat.best_estimator_.predict_proba(val[X_col])[:, 1]\n",
        "thresholds = arange(0, 1, 0.001)\n",
        "scores = [f1_score(val[y_col], to_labels(predict, t)) for t in thresholds]\n",
        "ix = argmax(scores)\n",
        "print('Threshold=%.3f, F-Score=%.5f' % (thresholds[ix], scores[ix]))"
      ],
      "metadata": {
        "id": "vhC9B43fbeCm",
        "outputId": "4a79b5f0-9a5c-48d1-b9f9-8cf6c8d71c09",
        "execution": {
          "iopub.status.busy": "2022-09-07T09:11:19.290208Z",
          "iopub.execute_input": "2022-09-07T09:11:19.292236Z",
          "iopub.status.idle": "2022-09-07T09:11:33.980589Z",
          "shell.execute_reply.started": "2022-09-07T09:11:19.292202Z",
          "shell.execute_reply": "2022-09-07T09:11:33.978447Z"
        },
        "trusted": true,
        "colab": {
          "base_uri": "https://localhost:8080/"
        }
      },
      "execution_count": 28,
      "outputs": [
        {
          "output_type": "stream",
          "name": "stdout",
          "text": [
            "Threshold=0.292, F-Score=0.78657\n"
          ]
        }
      ]
    },
    {
      "cell_type": "code",
      "source": [
        "add_model_result(results, 'CatBoost_trsh', thresholds[ix], scores[ix])"
      ],
      "metadata": {
        "id": "0OlAd8R0beCn",
        "execution": {
          "iopub.status.busy": "2022-09-07T09:11:33.982443Z",
          "iopub.execute_input": "2022-09-07T09:11:33.982763Z",
          "iopub.status.idle": "2022-09-07T09:11:33.988897Z",
          "shell.execute_reply.started": "2022-09-07T09:11:33.982734Z",
          "shell.execute_reply": "2022-09-07T09:11:33.987601Z"
        },
        "trusted": true
      },
      "execution_count": 29,
      "outputs": []
    },
    {
      "cell_type": "markdown",
      "source": [
        "### BERT "
      ],
      "metadata": {
        "id": "QVxkcHg-meUi"
      }
    },
    {
      "cell_type": "code",
      "source": [
        "model = transformers.AutoModel.from_pretrained('unitary/toxic-bert')\n",
        "tokenizer = transformers.AutoTokenizer.from_pretrained('unitary/toxic-bert')"
      ],
      "metadata": {
        "id": "b8M7nmJqm3La",
        "outputId": "9a850236-6b6a-4625-e2a0-bfa6b1e5e098",
        "execution": {
          "iopub.status.busy": "2022-09-07T09:11:33.990832Z",
          "iopub.execute_input": "2022-09-07T09:11:33.992280Z",
          "iopub.status.idle": "2022-09-07T09:12:07.923697Z",
          "shell.execute_reply.started": "2022-09-07T09:11:33.992197Z",
          "shell.execute_reply": "2022-09-07T09:12:07.922643Z"
        },
        "trusted": true,
        "colab": {
          "base_uri": "https://localhost:8080/",
          "height": 252,
          "referenced_widgets": [
            "fc5ee135b0984e679e61225837bd574b",
            "8aed51f2d6ff4801915188e471b13c5d",
            "ef35f0903af44ac3911913def1c4f8e0",
            "c8181e2df2a94f9e92660ee0cd24eebb",
            "214ab206357a44498df8afc804f854f3",
            "7def5de627ce4657a8e2e02d76b8dcce",
            "0a936b73f8994d0e94d316a456675960",
            "404946cc9ad34ab897ef5e53a4ec2e81",
            "328befaefd9047198a8d5e3f34382c1e",
            "80c676bfe90347e68025d139534dc777",
            "ae83ebc4bbd94c2d87c781c5d5ef47eb",
            "ace8621f1caa48d8b8d0c861a1ab2a59",
            "ecb4bcd3e1f74842b68055af56de31a9",
            "86aac1b8160747a888f48bf6ae0e1212",
            "207077ecdd4a418ea583ff62b0e2e27f",
            "43a86a50fd7148aa8e5a100eb45d2117",
            "98a4e053e6c8433cb74d4801f4ba1115",
            "a64265d89b3a4280be40d5d350114667",
            "319afc4334f648638224a354b331b3f5",
            "ccfffc15b67a47d0be544282d9a1176c",
            "5bd1457e1d7a427aa079fa63ff5a80f1",
            "798c09333b4d470f8cb2922f547d10c2",
            "e8626824d1304fe1a5ec9864b8ab4a63",
            "71dda9a4bdf34248b973e0724d672d00",
            "71003319e6624c58a584f0bf8605989f",
            "965899ad794640529652c1a44fc5bb4c",
            "5dbc42f5c2fe4381aaba1a6a3e462160",
            "f3c6eb0a2d284d3d832edbae647ac42e",
            "6464b5b2ea5a42e7ada73b7901e7e78d",
            "4b15f358c471456d983bc31df8c87c88",
            "8b3981c8f3b244288ce7f1662d69d8dc",
            "15221716058942af898e9fd9b6c72d02",
            "4c8a82b1a30b4ff388f8cb2515a98673",
            "49064c2f11ec4cc99b7b751ae1a70a83",
            "251804dfdadb4141b63f14d2ba2aed12",
            "25b57ba631f54d688ebdb1d61ce62cf0",
            "85fc25b7bd004e0995faa945634fa9bb",
            "020c724bd91b45b9a052d1764f14676d",
            "730260d492ce44ac9db8a59dfb10d4f1",
            "72967910d5f44cc0b28f1acb3642dde7",
            "1b8a8fc1966e4847994766da41edcd5a",
            "6867b2b973284004a005e1c33f2161da",
            "d47e7e1914d643cb8022d1859ad817fd",
            "e9ebd8727df14fc5908624628e01bbb1",
            "a5ac4cf4094645d7b10ea87b78394f29",
            "100e4a6c2079488a821ab0b18fcf3f04",
            "503dda1c1e034e4389c56df78663a28e",
            "75dd3783476142948678f56a6c477bf2",
            "ad772d7b57854e569454d74f8d2ed762",
            "5037bee0cc004268866974596a4b9dd7",
            "327932d7d6b649408618f802dba26054",
            "ccd243a21f0f47c2b619c0f649204a8b",
            "0aec5d9a22534ff496afa53b751d77a4",
            "62c4c1db08f746a4acb9f3e179de69f6",
            "34f69a7ffefe4eb5ab5b410a6043dff6"
          ]
        }
      },
      "execution_count": 30,
      "outputs": [
        {
          "output_type": "display_data",
          "data": {
            "text/plain": [
              "Downloading config.json:   0%|          | 0.00/811 [00:00<?, ?B/s]"
            ],
            "application/vnd.jupyter.widget-view+json": {
              "version_major": 2,
              "version_minor": 0,
              "model_id": "fc5ee135b0984e679e61225837bd574b"
            }
          },
          "metadata": {}
        },
        {
          "output_type": "display_data",
          "data": {
            "text/plain": [
              "Downloading pytorch_model.bin:   0%|          | 0.00/418M [00:00<?, ?B/s]"
            ],
            "application/vnd.jupyter.widget-view+json": {
              "version_major": 2,
              "version_minor": 0,
              "model_id": "ace8621f1caa48d8b8d0c861a1ab2a59"
            }
          },
          "metadata": {}
        },
        {
          "output_type": "stream",
          "name": "stderr",
          "text": [
            "Some weights of the model checkpoint at unitary/toxic-bert were not used when initializing BertModel: ['classifier.bias', 'classifier.weight']\n",
            "- This IS expected if you are initializing BertModel from the checkpoint of a model trained on another task or with another architecture (e.g. initializing a BertForSequenceClassification model from a BertForPreTraining model).\n",
            "- This IS NOT expected if you are initializing BertModel from the checkpoint of a model that you expect to be exactly identical (initializing a BertForSequenceClassification model from a BertForSequenceClassification model).\n"
          ]
        },
        {
          "output_type": "display_data",
          "data": {
            "text/plain": [
              "Downloading tokenizer_config.json:   0%|          | 0.00/174 [00:00<?, ?B/s]"
            ],
            "application/vnd.jupyter.widget-view+json": {
              "version_major": 2,
              "version_minor": 0,
              "model_id": "e8626824d1304fe1a5ec9864b8ab4a63"
            }
          },
          "metadata": {}
        },
        {
          "output_type": "display_data",
          "data": {
            "text/plain": [
              "Downloading vocab.txt:   0%|          | 0.00/226k [00:00<?, ?B/s]"
            ],
            "application/vnd.jupyter.widget-view+json": {
              "version_major": 2,
              "version_minor": 0,
              "model_id": "49064c2f11ec4cc99b7b751ae1a70a83"
            }
          },
          "metadata": {}
        },
        {
          "output_type": "display_data",
          "data": {
            "text/plain": [
              "Downloading special_tokens_map.json:   0%|          | 0.00/112 [00:00<?, ?B/s]"
            ],
            "application/vnd.jupyter.widget-view+json": {
              "version_major": 2,
              "version_minor": 0,
              "model_id": "a5ac4cf4094645d7b10ea87b78394f29"
            }
          },
          "metadata": {}
        }
      ]
    },
    {
      "cell_type": "markdown",
      "source": [
        "BERT обучается батчами, мы установим `batch_size = 100`, поэтому количество элементов в выборке должно быть кратным 100, обрежем исходную выборку."
      ],
      "metadata": {
        "id": "iIK_IemUc6RT"
      }
    },
    {
      "cell_type": "code",
      "source": [
        "df.shape"
      ],
      "metadata": {
        "id": "Q-1nEDQ3dD4A",
        "outputId": "e82499d0-577d-4d6e-80ba-4795f00f1c6b",
        "execution": {
          "iopub.status.busy": "2022-09-07T09:12:07.925404Z",
          "iopub.execute_input": "2022-09-07T09:12:07.925796Z",
          "iopub.status.idle": "2022-09-07T09:12:07.936465Z",
          "shell.execute_reply.started": "2022-09-07T09:12:07.925754Z",
          "shell.execute_reply": "2022-09-07T09:12:07.935603Z"
        },
        "trusted": true,
        "colab": {
          "base_uri": "https://localhost:8080/"
        }
      },
      "execution_count": 31,
      "outputs": [
        {
          "output_type": "execute_result",
          "data": {
            "text/plain": [
              "(159292, 3)"
            ]
          },
          "metadata": {},
          "execution_count": 31
        }
      ]
    },
    {
      "cell_type": "code",
      "source": [
        "df_bert = df[:159200].copy()"
      ],
      "metadata": {
        "id": "jxVj0_qFc5ym",
        "execution": {
          "iopub.status.busy": "2022-09-07T09:12:07.937645Z",
          "iopub.execute_input": "2022-09-07T09:12:07.938643Z",
          "iopub.status.idle": "2022-09-07T09:12:08.000867Z",
          "shell.execute_reply.started": "2022-09-07T09:12:07.938579Z",
          "shell.execute_reply": "2022-09-07T09:12:07.999967Z"
        },
        "trusted": true
      },
      "execution_count": 32,
      "outputs": []
    },
    {
      "cell_type": "markdown",
      "source": [
        "Модель имеет ограничение в 512 словотокенов, поэтому укажем токенайзеру, что он должен обрезать все последовательности токенов, которые выходят за данный лимит."
      ],
      "metadata": {
        "id": "0oXqfhvrozvt"
      }
    },
    {
      "cell_type": "code",
      "source": [
        "tokenized = df_bert['text'].apply(\n",
        "    lambda x: tokenizer.encode(x, add_special_tokens=True, max_length=512, truncation=True))\n",
        "n = max(len(x) for x in tokenized)\n",
        "padded = np.array([i + [0]*(n - len(i)) for i in tokenized.values])\n",
        "\n",
        "attention_mask = np.where(padded != 0, 1, 0)"
      ],
      "metadata": {
        "id": "topwKLbUnzcy",
        "execution": {
          "iopub.status.busy": "2022-09-07T09:12:08.002594Z",
          "iopub.execute_input": "2022-09-07T09:12:08.003003Z",
          "iopub.status.idle": "2022-09-07T09:13:11.336211Z",
          "shell.execute_reply.started": "2022-09-07T09:12:08.002964Z",
          "shell.execute_reply": "2022-09-07T09:13:11.335198Z"
        },
        "trusted": true
      },
      "execution_count": 33,
      "outputs": []
    },
    {
      "cell_type": "code",
      "source": [
        "batch_size = 100\n",
        "embeddings = []\n",
        "device = torch.device(\"cuda:0\") if torch.cuda.is_available() else torch.device(\"cpu\")\n",
        "for i in notebook.tqdm(range(padded.shape[0] // batch_size)):\n",
        "    batch = torch.LongTensor(padded[batch_size*i:batch_size*(i+1)]).to(device)\n",
        "    attention_mask_batch = torch.LongTensor(attention_mask[batch_size*i:batch_size*(i+1)]).to(device)\n",
        "        \n",
        "    with torch.no_grad():\n",
        "        model.to(device)\n",
        "        batch_embeddings = model(batch, attention_mask=attention_mask_batch)\n",
        "        \n",
        "        \n",
        "    embeddings.append(batch_embeddings[0][:,0,:].cpu().numpy())"
      ],
      "metadata": {
        "id": "0gSv8mc6q1_L",
        "outputId": "8629463f-07c4-4daf-b2b8-78041d6dabb2",
        "execution": {
          "iopub.status.busy": "2022-09-07T09:13:11.337734Z",
          "iopub.execute_input": "2022-09-07T09:13:11.338159Z",
          "iopub.status.idle": "2022-09-07T09:34:27.333726Z",
          "shell.execute_reply.started": "2022-09-07T09:13:11.338122Z",
          "shell.execute_reply": "2022-09-07T09:34:27.332718Z"
        },
        "trusted": true,
        "colab": {
          "base_uri": "https://localhost:8080/",
          "height": 49,
          "referenced_widgets": [
            "ca60b309eb5c4ffa8045c98182177cec",
            "766c381611f2493b9aa703f947e41c44",
            "e41ce08e256246f88791881e67485530",
            "8642cc72ea6c4017a1624df6cf23f6e9",
            "1535ecb14c224a64a09fb80271ea09c0",
            "19fef1a4d9c84536bc0e1afc205b9dbe",
            "4f3d0fa397c84e988dcd6a46538c02d1",
            "04575df755f340d2bf628bf527f53020",
            "e0728c8625d94f42b1564e2d49fd68e7",
            "a3cf8948d9564e2f9dd302457782aa7b",
            "a74dd3e2b193461ca52716fc1358a6bb"
          ]
        }
      },
      "execution_count": 34,
      "outputs": [
        {
          "output_type": "display_data",
          "data": {
            "text/plain": [
              "  0%|          | 0/1592 [00:00<?, ?it/s]"
            ],
            "application/vnd.jupyter.widget-view+json": {
              "version_major": 2,
              "version_minor": 0,
              "model_id": "ca60b309eb5c4ffa8045c98182177cec"
            }
          },
          "metadata": {}
        }
      ]
    },
    {
      "cell_type": "markdown",
      "source": [
        "Выделим признаки и целевой признак, а также обучающую, валидационную и тестовую выборки.  \n"
      ],
      "metadata": {
        "id": "IDxgrHlQ7Ker"
      }
    },
    {
      "cell_type": "code",
      "source": [
        "features_bert = np.concatenate(embeddings)\n",
        "target_bert = df_bert['toxic']\n",
        "features_bert_train, features_bert_valid, target_bert_train, target_bert_valid = train_test_split(\n",
        "    features_bert, target_bert, test_size=0.4, random_state=12345)\n",
        "features_bert_valid, features_bert_test, target_bert_valid, target_bert_test = train_test_split(\n",
        "    features_bert_valid, target_bert_valid, test_size=0.5, random_state=12345)"
      ],
      "metadata": {
        "id": "KYW6x6_tfyus",
        "execution": {
          "iopub.status.busy": "2022-09-07T09:34:27.335296Z",
          "iopub.execute_input": "2022-09-07T09:34:27.335904Z",
          "iopub.status.idle": "2022-09-07T09:34:27.927578Z",
          "shell.execute_reply.started": "2022-09-07T09:34:27.335864Z",
          "shell.execute_reply": "2022-09-07T09:34:27.926572Z"
        },
        "trusted": true
      },
      "execution_count": 35,
      "outputs": []
    },
    {
      "cell_type": "code",
      "source": [
        "model = LogisticRegression()\n",
        "parameters = {\"C\":[1, 10, 100, 1000], \"penalty\":[\"l1\",\"l2\"]}\n",
        "\n",
        "grid_lr_bert = GridSearchCV(model,parameters, scoring=\"f1\", cv=3)\n",
        "grid_lr_bert.fit(features_bert_train, target_bert_train)"
      ],
      "metadata": {
        "id": "1KmEzNiAhFIm",
        "outputId": "33c319cd-42e4-4bc5-c4e1-80ff255ab3cc",
        "execution": {
          "iopub.status.busy": "2022-09-07T09:34:27.929141Z",
          "iopub.execute_input": "2022-09-07T09:34:27.929489Z",
          "iopub.status.idle": "2022-09-07T09:36:26.437808Z",
          "shell.execute_reply.started": "2022-09-07T09:34:27.929455Z",
          "shell.execute_reply": "2022-09-07T09:36:26.436433Z"
        },
        "trusted": true,
        "colab": {
          "base_uri": "https://localhost:8080/"
        }
      },
      "execution_count": 36,
      "outputs": [
        {
          "output_type": "execute_result",
          "data": {
            "text/plain": [
              "GridSearchCV(cv=3, estimator=LogisticRegression(),\n",
              "             param_grid={'C': [1, 10, 100, 1000], 'penalty': ['l1', 'l2']},\n",
              "             scoring='f1')"
            ]
          },
          "metadata": {},
          "execution_count": 36
        }
      ]
    },
    {
      "cell_type": "code",
      "source": [
        "print('BERT', grid_lr_bert.best_score_, grid_lr_bert.best_params_)"
      ],
      "metadata": {
        "id": "Nnql5E7br90F",
        "outputId": "9847696e-a2ec-442f-eb5c-1cc43c12c9e1",
        "execution": {
          "iopub.status.busy": "2022-09-07T09:36:26.439248Z",
          "iopub.execute_input": "2022-09-07T09:36:26.439605Z",
          "iopub.status.idle": "2022-09-07T09:36:26.450747Z",
          "shell.execute_reply.started": "2022-09-07T09:36:26.439569Z",
          "shell.execute_reply": "2022-09-07T09:36:26.449138Z"
        },
        "trusted": true,
        "colab": {
          "base_uri": "https://localhost:8080/"
        }
      },
      "execution_count": 37,
      "outputs": [
        {
          "output_type": "stream",
          "name": "stdout",
          "text": [
            "BERT 0.9416481207229989 {'C': 1, 'penalty': 'l2'}\n"
          ]
        }
      ]
    },
    {
      "cell_type": "code",
      "source": [
        "add_model_result(results, 'BERT', grid_lr_bert.best_params_, grid_lr_bert.best_score_)"
      ],
      "metadata": {
        "id": "WaMgmF8ur90R",
        "execution": {
          "iopub.status.busy": "2022-09-07T09:36:26.456052Z",
          "iopub.execute_input": "2022-09-07T09:36:26.456920Z",
          "iopub.status.idle": "2022-09-07T09:36:26.468277Z",
          "shell.execute_reply.started": "2022-09-07T09:36:26.456857Z",
          "shell.execute_reply": "2022-09-07T09:36:26.466843Z"
        },
        "trusted": true
      },
      "execution_count": 38,
      "outputs": []
    },
    {
      "cell_type": "markdown",
      "source": [
        "Изменим порог классификации."
      ],
      "metadata": {
        "id": "bu8MOO-dQntg"
      }
    },
    {
      "cell_type": "code",
      "source": [
        "predict = grid_lr_bert.best_estimator_.predict_proba(features_bert_valid)[:, 1]\n",
        "thresholds = arange(0, 1, 0.001)\n",
        "scores = [f1_score(target_bert_valid, to_labels(predict, t)) for t in thresholds]\n",
        "ix = argmax(scores)\n",
        "print('Threshold=%.3f, F-Score=%.5f' % (thresholds[ix], scores[ix]))"
      ],
      "metadata": {
        "id": "zGvoL9OHQnth",
        "outputId": "a10fee34-4bb2-4a26-a95f-33eac65d2d52",
        "execution": {
          "iopub.status.busy": "2022-09-07T09:36:26.470713Z",
          "iopub.execute_input": "2022-09-07T09:36:26.471754Z",
          "iopub.status.idle": "2022-09-07T09:36:37.146765Z",
          "shell.execute_reply.started": "2022-09-07T09:36:26.471703Z",
          "shell.execute_reply": "2022-09-07T09:36:37.145606Z"
        },
        "trusted": true,
        "colab": {
          "base_uri": "https://localhost:8080/"
        }
      },
      "execution_count": 39,
      "outputs": [
        {
          "output_type": "stream",
          "name": "stdout",
          "text": [
            "Threshold=0.489, F-Score=0.94944\n"
          ]
        }
      ]
    },
    {
      "cell_type": "code",
      "source": [
        "add_model_result(results, 'BERT_trsh', thresholds[ix], scores[ix])"
      ],
      "metadata": {
        "id": "PfAgFFHvQnth",
        "execution": {
          "iopub.status.busy": "2022-09-07T09:36:37.148472Z",
          "iopub.execute_input": "2022-09-07T09:36:37.149120Z",
          "iopub.status.idle": "2022-09-07T09:36:37.154809Z",
          "shell.execute_reply.started": "2022-09-07T09:36:37.149079Z",
          "shell.execute_reply": "2022-09-07T09:36:37.153451Z"
        },
        "trusted": true
      },
      "execution_count": 40,
      "outputs": []
    },
    {
      "cell_type": "markdown",
      "source": [
        "### Результаты моделей"
      ],
      "metadata": {
        "id": "QQgsSZY7gDGb"
      }
    },
    {
      "cell_type": "code",
      "source": [
        "pd.DataFrame(results).sort_values('F1', ascending=False)\n"
      ],
      "metadata": {
        "id": "sLedBNokgNMV",
        "outputId": "ce941c08-a8e9-4254-ad3f-7832acb52285",
        "execution": {
          "iopub.status.busy": "2022-09-07T09:43:06.740397Z",
          "iopub.execute_input": "2022-09-07T09:43:06.740872Z",
          "iopub.status.idle": "2022-09-07T09:43:06.766625Z",
          "shell.execute_reply.started": "2022-09-07T09:43:06.740834Z",
          "shell.execute_reply": "2022-09-07T09:43:06.765638Z"
        },
        "trusted": true,
        "colab": {
          "base_uri": "https://localhost:8080/",
          "height": 300
        }
      },
      "execution_count": 41,
      "outputs": [
        {
          "output_type": "execute_result",
          "data": {
            "text/plain": [
              "                      name                                        best_params  \\\n",
              "7                BERT_trsh                                              0.489   \n",
              "6                     BERT                          {'C': 1, 'penalty': 'l2'}   \n",
              "1  LogisticRegression_trsh                                              0.367   \n",
              "3            LightGBM_trsh                                              0.277   \n",
              "5            CatBoost_trsh                                              0.292   \n",
              "4                 CatBoost  {'depth': 9, 'iterations': 629, 'learning_rate...   \n",
              "0       LogisticRegression               {'clf__C': 10, 'clf__penalty': 'l2'}   \n",
              "2                 LightGBM                                               None   \n",
              "\n",
              "         F1  \n",
              "7  0.949442  \n",
              "6  0.941648  \n",
              "1  0.790980  \n",
              "3  0.787773  \n",
              "5  0.786571  \n",
              "4  0.783047  \n",
              "0  0.765388  \n",
              "2  0.747746  "
            ],
            "text/html": [
              "\n",
              "  <div id=\"df-8736accd-d4cf-414e-a580-ea3a988b46b0\">\n",
              "    <div class=\"colab-df-container\">\n",
              "      <div>\n",
              "<style scoped>\n",
              "    .dataframe tbody tr th:only-of-type {\n",
              "        vertical-align: middle;\n",
              "    }\n",
              "\n",
              "    .dataframe tbody tr th {\n",
              "        vertical-align: top;\n",
              "    }\n",
              "\n",
              "    .dataframe thead th {\n",
              "        text-align: right;\n",
              "    }\n",
              "</style>\n",
              "<table border=\"1\" class=\"dataframe\">\n",
              "  <thead>\n",
              "    <tr style=\"text-align: right;\">\n",
              "      <th></th>\n",
              "      <th>name</th>\n",
              "      <th>best_params</th>\n",
              "      <th>F1</th>\n",
              "    </tr>\n",
              "  </thead>\n",
              "  <tbody>\n",
              "    <tr>\n",
              "      <th>7</th>\n",
              "      <td>BERT_trsh</td>\n",
              "      <td>0.489</td>\n",
              "      <td>0.949442</td>\n",
              "    </tr>\n",
              "    <tr>\n",
              "      <th>6</th>\n",
              "      <td>BERT</td>\n",
              "      <td>{'C': 1, 'penalty': 'l2'}</td>\n",
              "      <td>0.941648</td>\n",
              "    </tr>\n",
              "    <tr>\n",
              "      <th>1</th>\n",
              "      <td>LogisticRegression_trsh</td>\n",
              "      <td>0.367</td>\n",
              "      <td>0.790980</td>\n",
              "    </tr>\n",
              "    <tr>\n",
              "      <th>3</th>\n",
              "      <td>LightGBM_trsh</td>\n",
              "      <td>0.277</td>\n",
              "      <td>0.787773</td>\n",
              "    </tr>\n",
              "    <tr>\n",
              "      <th>5</th>\n",
              "      <td>CatBoost_trsh</td>\n",
              "      <td>0.292</td>\n",
              "      <td>0.786571</td>\n",
              "    </tr>\n",
              "    <tr>\n",
              "      <th>4</th>\n",
              "      <td>CatBoost</td>\n",
              "      <td>{'depth': 9, 'iterations': 629, 'learning_rate...</td>\n",
              "      <td>0.783047</td>\n",
              "    </tr>\n",
              "    <tr>\n",
              "      <th>0</th>\n",
              "      <td>LogisticRegression</td>\n",
              "      <td>{'clf__C': 10, 'clf__penalty': 'l2'}</td>\n",
              "      <td>0.765388</td>\n",
              "    </tr>\n",
              "    <tr>\n",
              "      <th>2</th>\n",
              "      <td>LightGBM</td>\n",
              "      <td>None</td>\n",
              "      <td>0.747746</td>\n",
              "    </tr>\n",
              "  </tbody>\n",
              "</table>\n",
              "</div>\n",
              "      <button class=\"colab-df-convert\" onclick=\"convertToInteractive('df-8736accd-d4cf-414e-a580-ea3a988b46b0')\"\n",
              "              title=\"Convert this dataframe to an interactive table.\"\n",
              "              style=\"display:none;\">\n",
              "        \n",
              "  <svg xmlns=\"http://www.w3.org/2000/svg\" height=\"24px\"viewBox=\"0 0 24 24\"\n",
              "       width=\"24px\">\n",
              "    <path d=\"M0 0h24v24H0V0z\" fill=\"none\"/>\n",
              "    <path d=\"M18.56 5.44l.94 2.06.94-2.06 2.06-.94-2.06-.94-.94-2.06-.94 2.06-2.06.94zm-11 1L8.5 8.5l.94-2.06 2.06-.94-2.06-.94L8.5 2.5l-.94 2.06-2.06.94zm10 10l.94 2.06.94-2.06 2.06-.94-2.06-.94-.94-2.06-.94 2.06-2.06.94z\"/><path d=\"M17.41 7.96l-1.37-1.37c-.4-.4-.92-.59-1.43-.59-.52 0-1.04.2-1.43.59L10.3 9.45l-7.72 7.72c-.78.78-.78 2.05 0 2.83L4 21.41c.39.39.9.59 1.41.59.51 0 1.02-.2 1.41-.59l7.78-7.78 2.81-2.81c.8-.78.8-2.07 0-2.86zM5.41 20L4 18.59l7.72-7.72 1.47 1.35L5.41 20z\"/>\n",
              "  </svg>\n",
              "      </button>\n",
              "      \n",
              "  <style>\n",
              "    .colab-df-container {\n",
              "      display:flex;\n",
              "      flex-wrap:wrap;\n",
              "      gap: 12px;\n",
              "    }\n",
              "\n",
              "    .colab-df-convert {\n",
              "      background-color: #E8F0FE;\n",
              "      border: none;\n",
              "      border-radius: 50%;\n",
              "      cursor: pointer;\n",
              "      display: none;\n",
              "      fill: #1967D2;\n",
              "      height: 32px;\n",
              "      padding: 0 0 0 0;\n",
              "      width: 32px;\n",
              "    }\n",
              "\n",
              "    .colab-df-convert:hover {\n",
              "      background-color: #E2EBFA;\n",
              "      box-shadow: 0px 1px 2px rgba(60, 64, 67, 0.3), 0px 1px 3px 1px rgba(60, 64, 67, 0.15);\n",
              "      fill: #174EA6;\n",
              "    }\n",
              "\n",
              "    [theme=dark] .colab-df-convert {\n",
              "      background-color: #3B4455;\n",
              "      fill: #D2E3FC;\n",
              "    }\n",
              "\n",
              "    [theme=dark] .colab-df-convert:hover {\n",
              "      background-color: #434B5C;\n",
              "      box-shadow: 0px 1px 3px 1px rgba(0, 0, 0, 0.15);\n",
              "      filter: drop-shadow(0px 1px 2px rgba(0, 0, 0, 0.3));\n",
              "      fill: #FFFFFF;\n",
              "    }\n",
              "  </style>\n",
              "\n",
              "      <script>\n",
              "        const buttonEl =\n",
              "          document.querySelector('#df-8736accd-d4cf-414e-a580-ea3a988b46b0 button.colab-df-convert');\n",
              "        buttonEl.style.display =\n",
              "          google.colab.kernel.accessAllowed ? 'block' : 'none';\n",
              "\n",
              "        async function convertToInteractive(key) {\n",
              "          const element = document.querySelector('#df-8736accd-d4cf-414e-a580-ea3a988b46b0');\n",
              "          const dataTable =\n",
              "            await google.colab.kernel.invokeFunction('convertToInteractive',\n",
              "                                                     [key], {});\n",
              "          if (!dataTable) return;\n",
              "\n",
              "          const docLinkHtml = 'Like what you see? Visit the ' +\n",
              "            '<a target=\"_blank\" href=https://colab.research.google.com/notebooks/data_table.ipynb>data table notebook</a>'\n",
              "            + ' to learn more about interactive tables.';\n",
              "          element.innerHTML = '';\n",
              "          dataTable['output_type'] = 'display_data';\n",
              "          await google.colab.output.renderOutput(dataTable, element);\n",
              "          const docLink = document.createElement('div');\n",
              "          docLink.innerHTML = docLinkHtml;\n",
              "          element.appendChild(docLink);\n",
              "        }\n",
              "      </script>\n",
              "    </div>\n",
              "  </div>\n",
              "  "
            ]
          },
          "metadata": {},
          "execution_count": 41
        }
      ]
    },
    {
      "cell_type": "markdown",
      "source": [
        "Таким образом, лучшей моделью является LogisticRegression обученная на признаках, подготовленных BERT (unitary/toxic-bert), с параметрами: `C = 1, penalty = 'l2'`, и порогом классификации 0.489,  показавщая F1 = 0.949."
      ],
      "metadata": {
        "id": "rAaPe5ivi4eu"
      }
    },
    {
      "cell_type": "markdown",
      "source": [
        "## Тестирование модели"
      ],
      "metadata": {
        "id": "zMmp_vCKdXl5"
      }
    },
    {
      "cell_type": "code",
      "source": [
        "features_bert_train = np.concatenate([features_bert_train, features_bert_valid])\n",
        "target_bert_train = np.concatenate([target_bert_train, target_bert_valid])"
      ],
      "metadata": {
        "id": "pMYsv_ibuKLl"
      },
      "execution_count": 43,
      "outputs": []
    },
    {
      "cell_type": "code",
      "source": [
        "model = grid_lr_bert.best_estimator_\n",
        "model.fit(features_bert_train, target_bert_train)\n",
        "threshold = 0.489\n",
        "predictions = np.where(model.predict_proba(features_bert_test)[:,1] > threshold, 1, 0)\n",
        "print('F1 тестовой выборке =', f1_score(target_bert_test, predictions))"
      ],
      "metadata": {
        "colab": {
          "base_uri": "https://localhost:8080/"
        },
        "id": "1MTlNLBsvG71",
        "outputId": "1e35f30c-e7ba-4ba7-b8f1-8b01ae9a85ab"
      },
      "execution_count": 44,
      "outputs": [
        {
          "output_type": "stream",
          "name": "stdout",
          "text": [
            "F1 тестовой выборке = 0.9525378050606378\n"
          ]
        }
      ]
    },
    {
      "cell_type": "markdown",
      "source": [
        "### Проверка на адекватность."
      ],
      "metadata": {
        "id": "-cX_Yf4N-Kdd"
      }
    },
    {
      "cell_type": "markdown",
      "source": [
        "Сравним с случайной моделью."
      ],
      "metadata": {
        "id": "m_CdY0oarfRM"
      }
    },
    {
      "cell_type": "code",
      "source": [
        "dummy = DummyClassifier(strategy=\"uniform\")\n",
        "dummy.fit(features_bert_train, target_bert_train)\n",
        "pred = dummy.predict(features_bert_test)\n",
        "print('F1 dummy =', f1_score(target_bert_test, pred))"
      ],
      "metadata": {
        "id": "D0ffh3SH-Jkc",
        "outputId": "50f4c7a0-5e21-4f01-95ef-45081f152a9b",
        "execution": {
          "iopub.status.busy": "2022-09-07T09:51:11.120195Z",
          "iopub.execute_input": "2022-09-07T09:51:11.120796Z",
          "iopub.status.idle": "2022-09-07T09:51:11.146351Z",
          "shell.execute_reply.started": "2022-09-07T09:51:11.120760Z",
          "shell.execute_reply": "2022-09-07T09:51:11.145307Z"
        },
        "trusted": true,
        "colab": {
          "base_uri": "https://localhost:8080/"
        }
      },
      "execution_count": 45,
      "outputs": [
        {
          "output_type": "stream",
          "name": "stdout",
          "text": [
            "F1 dummy = 0.172559669922181\n"
          ]
        }
      ]
    },
    {
      "cell_type": "markdown",
      "source": [
        "На тестовой выборке модель показала значение метрики F1 равное 0.95, что соотвествует требованию - более 0.75."
      ],
      "metadata": {
        "id": "g5rSwuZLRK7W"
      }
    },
    {
      "cell_type": "markdown",
      "source": [
        "## Выводы"
      ],
      "metadata": {
        "id": "1BNP2ZC622dG"
      }
    },
    {
      "cell_type": "markdown",
      "source": [
        "Таким образом, нами подготовлены данные и обучены различные модели. Лучшей моделью по качеству метрики F1 стала LogisticRegression, обученная на признаках, подготовленных BERT (unitary/toxic-bert), с параметрами: `C = 1, penalty = 'l2'`, и порогом классификации 0.489, показавшая на тестовой выборке значение F1 равное 0.95."
      ],
      "metadata": {
        "id": "DrQrBpyPRMgU"
      }
    }
  ]
}