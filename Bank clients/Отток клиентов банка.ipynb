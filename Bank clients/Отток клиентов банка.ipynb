{
  "metadata": {
    "ExecuteTimeLog": [
      {
        "duration": 1444,
        "start_time": "2022-06-16T08:29:06.193Z"
      },
      {
        "duration": 75,
        "start_time": "2022-06-16T08:29:37.362Z"
      },
      {
        "duration": 57,
        "start_time": "2022-06-16T08:29:41.258Z"
      },
      {
        "duration": 16,
        "start_time": "2022-06-16T14:07:53.867Z"
      },
      {
        "duration": 5,
        "start_time": "2022-06-16T14:15:31.251Z"
      },
      {
        "duration": 11,
        "start_time": "2022-06-16T14:15:33.752Z"
      },
      {
        "duration": 6,
        "start_time": "2022-06-16T14:17:13.345Z"
      },
      {
        "duration": 32,
        "start_time": "2022-06-16T14:17:22.807Z"
      },
      {
        "duration": 100,
        "start_time": "2022-06-16T14:20:45.896Z"
      },
      {
        "duration": 226,
        "start_time": "2022-06-16T14:20:57.614Z"
      },
      {
        "duration": 510,
        "start_time": "2022-06-16T14:21:52.695Z"
      },
      {
        "duration": 15,
        "start_time": "2022-06-16T14:22:23.643Z"
      },
      {
        "duration": 82,
        "start_time": "2022-06-16T14:23:12.644Z"
      },
      {
        "duration": 15,
        "start_time": "2022-06-16T14:23:25.310Z"
      },
      {
        "duration": 16,
        "start_time": "2022-06-16T14:27:29.025Z"
      },
      {
        "duration": 9,
        "start_time": "2022-06-16T14:27:38.326Z"
      },
      {
        "duration": 10,
        "start_time": "2022-06-16T14:27:57.375Z"
      },
      {
        "duration": 375,
        "start_time": "2022-06-16T14:28:29.185Z"
      },
      {
        "duration": 22,
        "start_time": "2022-06-16T14:28:35.612Z"
      },
      {
        "duration": 20,
        "start_time": "2022-06-16T14:28:39.040Z"
      },
      {
        "duration": 32,
        "start_time": "2022-06-16T14:29:00.802Z"
      },
      {
        "duration": 23,
        "start_time": "2022-06-16T14:30:06.823Z"
      },
      {
        "duration": 44,
        "start_time": "2022-06-16T14:31:05.311Z"
      },
      {
        "duration": 30,
        "start_time": "2022-06-16T14:31:44.910Z"
      },
      {
        "duration": 36,
        "start_time": "2022-06-16T14:31:55.095Z"
      },
      {
        "duration": 51,
        "start_time": "2022-06-17T10:29:45.661Z"
      },
      {
        "duration": 1728,
        "start_time": "2022-06-17T10:29:50.024Z"
      },
      {
        "duration": 124,
        "start_time": "2022-06-17T10:29:51.754Z"
      },
      {
        "duration": 18,
        "start_time": "2022-06-17T10:29:51.880Z"
      },
      {
        "duration": 6,
        "start_time": "2022-06-17T10:29:51.900Z"
      },
      {
        "duration": 36,
        "start_time": "2022-06-17T10:29:51.908Z"
      },
      {
        "duration": 36,
        "start_time": "2022-06-17T10:29:51.946Z"
      },
      {
        "duration": 114,
        "start_time": "2022-06-17T10:29:51.984Z"
      },
      {
        "duration": 0,
        "start_time": "2022-06-17T10:29:52.099Z"
      },
      {
        "duration": 14,
        "start_time": "2022-06-17T10:30:14.761Z"
      },
      {
        "duration": 13,
        "start_time": "2022-06-17T10:31:12.210Z"
      },
      {
        "duration": 5,
        "start_time": "2022-06-17T10:31:26.719Z"
      },
      {
        "duration": 23,
        "start_time": "2022-06-17T10:31:33.289Z"
      },
      {
        "duration": 20,
        "start_time": "2022-06-17T10:32:07.127Z"
      },
      {
        "duration": 17,
        "start_time": "2022-06-17T10:32:30.787Z"
      },
      {
        "duration": 8,
        "start_time": "2022-06-17T10:32:35.636Z"
      },
      {
        "duration": 5,
        "start_time": "2022-06-17T10:32:39.786Z"
      },
      {
        "duration": 10,
        "start_time": "2022-06-17T10:34:03.442Z"
      },
      {
        "duration": 4,
        "start_time": "2022-06-17T10:34:30.887Z"
      },
      {
        "duration": 4,
        "start_time": "2022-06-17T10:34:45.421Z"
      },
      {
        "duration": 8,
        "start_time": "2022-06-17T10:34:53.689Z"
      },
      {
        "duration": 9,
        "start_time": "2022-06-17T10:34:54.791Z"
      },
      {
        "duration": 4,
        "start_time": "2022-06-17T10:34:55.253Z"
      },
      {
        "duration": 4,
        "start_time": "2022-06-17T10:34:55.730Z"
      },
      {
        "duration": 8,
        "start_time": "2022-06-17T10:36:50.820Z"
      },
      {
        "duration": 7,
        "start_time": "2022-06-17T10:36:53.910Z"
      },
      {
        "duration": 4,
        "start_time": "2022-06-17T10:36:54.771Z"
      },
      {
        "duration": 4,
        "start_time": "2022-06-17T10:36:55.310Z"
      },
      {
        "duration": 5,
        "start_time": "2022-06-17T10:37:19.832Z"
      },
      {
        "duration": 26,
        "start_time": "2022-06-17T10:37:46.704Z"
      },
      {
        "duration": 13,
        "start_time": "2022-06-17T10:39:02.489Z"
      },
      {
        "duration": 3,
        "start_time": "2022-06-17T10:39:08.898Z"
      },
      {
        "duration": 18,
        "start_time": "2022-06-17T10:41:04.097Z"
      },
      {
        "duration": 15,
        "start_time": "2022-06-17T10:41:09.661Z"
      },
      {
        "duration": 25,
        "start_time": "2022-06-17T10:41:32.747Z"
      },
      {
        "duration": 17,
        "start_time": "2022-06-17T10:41:41.707Z"
      },
      {
        "duration": 19,
        "start_time": "2022-06-17T10:41:48.281Z"
      },
      {
        "duration": 16,
        "start_time": "2022-06-17T10:41:55.372Z"
      },
      {
        "duration": 14,
        "start_time": "2022-06-17T10:42:00.675Z"
      },
      {
        "duration": 7,
        "start_time": "2022-06-17T10:43:46.922Z"
      },
      {
        "duration": 26,
        "start_time": "2022-06-17T10:43:59.628Z"
      },
      {
        "duration": 4,
        "start_time": "2022-06-17T10:48:21.176Z"
      },
      {
        "duration": 25,
        "start_time": "2022-06-17T10:49:08.295Z"
      },
      {
        "duration": 5,
        "start_time": "2022-06-17T10:55:29.611Z"
      },
      {
        "duration": 79,
        "start_time": "2022-06-17T10:55:29.618Z"
      },
      {
        "duration": 14,
        "start_time": "2022-06-17T10:55:29.700Z"
      },
      {
        "duration": 10,
        "start_time": "2022-06-17T10:55:29.716Z"
      },
      {
        "duration": 35,
        "start_time": "2022-06-17T10:55:29.728Z"
      },
      {
        "duration": 36,
        "start_time": "2022-06-17T10:55:29.765Z"
      },
      {
        "duration": 4,
        "start_time": "2022-06-17T10:55:29.803Z"
      },
      {
        "duration": 25,
        "start_time": "2022-06-17T10:55:29.810Z"
      },
      {
        "duration": 9,
        "start_time": "2022-06-17T10:55:29.837Z"
      },
      {
        "duration": 4,
        "start_time": "2022-06-17T10:55:29.848Z"
      },
      {
        "duration": 7,
        "start_time": "2022-06-17T10:55:29.854Z"
      },
      {
        "duration": 8,
        "start_time": "2022-06-17T10:55:29.864Z"
      },
      {
        "duration": 21,
        "start_time": "2022-06-17T10:55:29.874Z"
      },
      {
        "duration": 31,
        "start_time": "2022-06-17T10:55:29.897Z"
      },
      {
        "duration": 29,
        "start_time": "2022-06-17T10:55:29.930Z"
      },
      {
        "duration": 5,
        "start_time": "2022-06-17T10:56:10.712Z"
      },
      {
        "duration": 4,
        "start_time": "2022-06-17T10:56:15.066Z"
      },
      {
        "duration": 73,
        "start_time": "2022-06-17T10:56:15.073Z"
      },
      {
        "duration": 15,
        "start_time": "2022-06-17T10:56:15.148Z"
      },
      {
        "duration": 6,
        "start_time": "2022-06-17T10:56:15.165Z"
      },
      {
        "duration": 35,
        "start_time": "2022-06-17T10:56:15.173Z"
      },
      {
        "duration": 23,
        "start_time": "2022-06-17T10:56:15.210Z"
      },
      {
        "duration": 47,
        "start_time": "2022-06-17T10:56:15.236Z"
      },
      {
        "duration": 14,
        "start_time": "2022-06-17T10:56:15.286Z"
      },
      {
        "duration": 31,
        "start_time": "2022-06-17T10:56:15.302Z"
      },
      {
        "duration": 19,
        "start_time": "2022-06-17T10:56:15.336Z"
      },
      {
        "duration": 38,
        "start_time": "2022-06-17T10:56:15.359Z"
      },
      {
        "duration": 8,
        "start_time": "2022-06-17T10:56:15.400Z"
      },
      {
        "duration": 13,
        "start_time": "2022-06-17T10:56:15.410Z"
      },
      {
        "duration": 21,
        "start_time": "2022-06-17T10:56:15.425Z"
      },
      {
        "duration": 20,
        "start_time": "2022-06-17T10:56:15.449Z"
      },
      {
        "duration": 3305,
        "start_time": "2022-06-17T10:56:15.471Z"
      },
      {
        "duration": 3404,
        "start_time": "2022-06-17T10:57:23.194Z"
      },
      {
        "duration": 3694,
        "start_time": "2022-06-17T11:00:08.365Z"
      },
      {
        "duration": 3540,
        "start_time": "2022-06-17T11:03:12.663Z"
      },
      {
        "duration": 3435,
        "start_time": "2022-06-17T11:04:38.491Z"
      },
      {
        "duration": 3645,
        "start_time": "2022-06-17T11:05:04.569Z"
      },
      {
        "duration": 56802,
        "start_time": "2022-06-17T11:08:48.091Z"
      },
      {
        "duration": 60846,
        "start_time": "2022-06-17T11:11:17.338Z"
      },
      {
        "duration": 1553,
        "start_time": "2022-06-17T11:13:29.574Z"
      },
      {
        "duration": 2148,
        "start_time": "2022-06-17T11:13:50.492Z"
      },
      {
        "duration": 3238,
        "start_time": "2022-06-17T11:14:36.166Z"
      },
      {
        "duration": 59436,
        "start_time": "2022-06-17T11:15:17.266Z"
      },
      {
        "duration": 3,
        "start_time": "2022-06-17T11:19:47.589Z"
      },
      {
        "duration": 13,
        "start_time": "2022-06-17T13:27:32.322Z"
      },
      {
        "duration": 11,
        "start_time": "2022-06-17T13:27:49.506Z"
      },
      {
        "duration": 13,
        "start_time": "2022-06-17T13:28:35.939Z"
      },
      {
        "duration": 25,
        "start_time": "2022-06-17T13:28:45.297Z"
      },
      {
        "duration": 25,
        "start_time": "2022-06-17T13:33:17.215Z"
      },
      {
        "duration": 29,
        "start_time": "2022-06-17T13:33:51.877Z"
      },
      {
        "duration": 42,
        "start_time": "2022-06-17T13:34:56.408Z"
      },
      {
        "duration": 39,
        "start_time": "2022-06-17T13:35:08.672Z"
      },
      {
        "duration": 25,
        "start_time": "2022-06-17T13:36:05.666Z"
      },
      {
        "duration": 26,
        "start_time": "2022-06-17T13:36:11.755Z"
      },
      {
        "duration": 38,
        "start_time": "2022-06-17T13:37:10.322Z"
      },
      {
        "duration": 38,
        "start_time": "2022-06-17T13:42:47.278Z"
      },
      {
        "duration": 3,
        "start_time": "2022-06-17T13:42:58.197Z"
      },
      {
        "duration": 47,
        "start_time": "2022-06-17T13:43:00.257Z"
      },
      {
        "duration": 42,
        "start_time": "2022-06-17T13:45:49.928Z"
      },
      {
        "duration": 39,
        "start_time": "2022-06-17T13:47:39.886Z"
      },
      {
        "duration": 41,
        "start_time": "2022-06-17T13:47:47.685Z"
      },
      {
        "duration": 27,
        "start_time": "2022-06-17T13:48:03.815Z"
      },
      {
        "duration": 3043,
        "start_time": "2022-06-17T13:48:14.624Z"
      },
      {
        "duration": 43,
        "start_time": "2022-06-17T13:49:49.589Z"
      },
      {
        "duration": 54222,
        "start_time": "2022-06-17T13:49:51.998Z"
      },
      {
        "duration": 3327,
        "start_time": "2022-06-17T13:51:47.236Z"
      },
      {
        "duration": 215,
        "start_time": "2022-06-17T13:52:27.012Z"
      },
      {
        "duration": 54306,
        "start_time": "2022-06-17T13:53:17.287Z"
      },
      {
        "duration": 17,
        "start_time": "2022-06-17T13:57:01.299Z"
      },
      {
        "duration": 17,
        "start_time": "2022-06-17T13:57:10.639Z"
      },
      {
        "duration": 4,
        "start_time": "2022-06-17T13:57:31.152Z"
      },
      {
        "duration": 104,
        "start_time": "2022-06-17T13:57:31.158Z"
      },
      {
        "duration": 13,
        "start_time": "2022-06-17T13:57:31.264Z"
      },
      {
        "duration": 97,
        "start_time": "2022-06-17T13:57:31.278Z"
      },
      {
        "duration": 60,
        "start_time": "2022-06-17T13:57:31.377Z"
      },
      {
        "duration": 24,
        "start_time": "2022-06-17T13:57:31.438Z"
      },
      {
        "duration": 40,
        "start_time": "2022-06-17T13:57:31.464Z"
      },
      {
        "duration": 6,
        "start_time": "2022-06-17T13:57:31.505Z"
      },
      {
        "duration": 18,
        "start_time": "2022-06-17T13:57:31.512Z"
      },
      {
        "duration": 11,
        "start_time": "2022-06-17T13:57:31.532Z"
      },
      {
        "duration": 10,
        "start_time": "2022-06-17T13:57:31.545Z"
      },
      {
        "duration": 10,
        "start_time": "2022-06-17T13:57:31.557Z"
      },
      {
        "duration": 13,
        "start_time": "2022-06-17T13:57:31.568Z"
      },
      {
        "duration": 21,
        "start_time": "2022-06-17T13:57:31.583Z"
      },
      {
        "duration": 40,
        "start_time": "2022-06-17T13:57:31.606Z"
      },
      {
        "duration": 3399,
        "start_time": "2022-06-17T13:57:31.647Z"
      },
      {
        "duration": 53933,
        "start_time": "2022-06-17T13:57:35.048Z"
      },
      {
        "duration": 243,
        "start_time": "2022-06-17T13:58:28.983Z"
      },
      {
        "duration": 97,
        "start_time": "2022-06-17T13:58:29.230Z"
      },
      {
        "duration": 16,
        "start_time": "2022-06-17T13:58:59.164Z"
      },
      {
        "duration": 28,
        "start_time": "2022-06-17T14:00:08.819Z"
      },
      {
        "duration": 31,
        "start_time": "2022-06-17T14:00:26.588Z"
      },
      {
        "duration": 30,
        "start_time": "2022-06-17T14:01:12.455Z"
      },
      {
        "duration": 33,
        "start_time": "2022-06-17T14:01:22.419Z"
      },
      {
        "duration": 291,
        "start_time": "2022-06-17T14:03:13.421Z"
      },
      {
        "duration": 304,
        "start_time": "2022-06-17T14:03:43.629Z"
      },
      {
        "duration": 229,
        "start_time": "2022-06-17T14:03:54.096Z"
      },
      {
        "duration": 4,
        "start_time": "2022-06-17T14:06:10.962Z"
      },
      {
        "duration": 28,
        "start_time": "2022-06-17T14:06:26.589Z"
      },
      {
        "duration": 13,
        "start_time": "2022-06-17T14:09:42.783Z"
      },
      {
        "duration": 26,
        "start_time": "2022-06-17T14:10:05.913Z"
      },
      {
        "duration": 41,
        "start_time": "2022-06-17T14:11:03.709Z"
      },
      {
        "duration": 57,
        "start_time": "2022-06-17T14:11:11.793Z"
      },
      {
        "duration": 40,
        "start_time": "2022-06-17T14:11:17.620Z"
      },
      {
        "duration": 32,
        "start_time": "2022-06-17T14:11:31.589Z"
      },
      {
        "duration": 29,
        "start_time": "2022-06-17T14:11:35.611Z"
      },
      {
        "duration": 5455,
        "start_time": "2022-06-17T14:12:04.398Z"
      },
      {
        "duration": 12,
        "start_time": "2022-06-17T14:12:38.735Z"
      },
      {
        "duration": 4190,
        "start_time": "2022-06-17T14:12:43.133Z"
      },
      {
        "duration": 13,
        "start_time": "2022-06-17T14:13:14.695Z"
      },
      {
        "duration": 4030,
        "start_time": "2022-06-17T14:13:17.797Z"
      },
      {
        "duration": 31,
        "start_time": "2022-06-17T14:13:54.820Z"
      },
      {
        "duration": 33,
        "start_time": "2022-06-17T14:14:00.722Z"
      },
      {
        "duration": 278,
        "start_time": "2022-06-17T14:14:55.604Z"
      },
      {
        "duration": 414,
        "start_time": "2022-06-17T14:15:15.970Z"
      },
      {
        "duration": 14,
        "start_time": "2022-06-17T14:15:32.897Z"
      },
      {
        "duration": 586,
        "start_time": "2022-06-17T14:15:34.992Z"
      },
      {
        "duration": 53,
        "start_time": "2022-06-17T14:15:39.792Z"
      },
      {
        "duration": 46,
        "start_time": "2022-06-17T14:15:41.505Z"
      },
      {
        "duration": 2804,
        "start_time": "2022-06-17T14:15:43.404Z"
      },
      {
        "duration": 16,
        "start_time": "2022-06-17T14:15:51.459Z"
      },
      {
        "duration": 41,
        "start_time": "2022-06-17T14:15:56.340Z"
      },
      {
        "duration": 575,
        "start_time": "2022-06-17T14:15:58.459Z"
      },
      {
        "duration": 830,
        "start_time": "2022-06-17T14:16:29.396Z"
      },
      {
        "duration": 667,
        "start_time": "2022-06-17T14:16:32.197Z"
      },
      {
        "duration": 41,
        "start_time": "2022-06-17T14:16:40.499Z"
      },
      {
        "duration": 49,
        "start_time": "2022-06-17T14:16:46.133Z"
      },
      {
        "duration": 3097,
        "start_time": "2022-06-17T14:16:48.424Z"
      },
      {
        "duration": 14,
        "start_time": "2022-06-17T14:16:56.998Z"
      },
      {
        "duration": 407,
        "start_time": "2022-06-17T14:16:58.930Z"
      },
      {
        "duration": 32,
        "start_time": "2022-06-17T14:17:02.401Z"
      },
      {
        "duration": 40,
        "start_time": "2022-06-17T14:17:05.301Z"
      },
      {
        "duration": 395,
        "start_time": "2022-06-17T14:17:06.912Z"
      },
      {
        "duration": 13,
        "start_time": "2022-06-17T15:20:26.275Z"
      },
      {
        "duration": 12,
        "start_time": "2022-06-17T15:20:48.149Z"
      },
      {
        "duration": 29,
        "start_time": "2022-06-17T15:21:29.808Z"
      },
      {
        "duration": 33,
        "start_time": "2022-06-17T15:21:44.131Z"
      },
      {
        "duration": 429,
        "start_time": "2022-06-17T15:21:52.663Z"
      },
      {
        "duration": 29,
        "start_time": "2022-06-17T15:22:00.880Z"
      },
      {
        "duration": 17,
        "start_time": "2022-06-17T15:22:26.938Z"
      },
      {
        "duration": 172,
        "start_time": "2022-06-17T15:22:32.374Z"
      },
      {
        "duration": 15,
        "start_time": "2022-06-17T15:22:42.621Z"
      },
      {
        "duration": 12,
        "start_time": "2022-06-17T15:22:50.400Z"
      },
      {
        "duration": 13,
        "start_time": "2022-06-17T15:22:52.408Z"
      },
      {
        "duration": 17,
        "start_time": "2022-06-17T15:22:53.328Z"
      },
      {
        "duration": 123,
        "start_time": "2022-06-17T15:23:02.062Z"
      },
      {
        "duration": 49,
        "start_time": "2022-06-17T15:23:03.981Z"
      },
      {
        "duration": 13,
        "start_time": "2022-06-17T15:23:09.075Z"
      },
      {
        "duration": 20,
        "start_time": "2022-06-17T15:23:09.820Z"
      },
      {
        "duration": 208,
        "start_time": "2022-06-17T15:23:10.932Z"
      },
      {
        "duration": 21,
        "start_time": "2022-06-17T15:23:12.510Z"
      },
      {
        "duration": 12,
        "start_time": "2022-06-17T15:23:25.258Z"
      },
      {
        "duration": 29,
        "start_time": "2022-06-17T15:23:26.044Z"
      },
      {
        "duration": 341,
        "start_time": "2022-06-17T15:23:27.921Z"
      },
      {
        "duration": 30,
        "start_time": "2022-06-17T15:23:29.755Z"
      },
      {
        "duration": 12,
        "start_time": "2022-06-17T15:23:37.743Z"
      },
      {
        "duration": 43,
        "start_time": "2022-06-17T15:23:38.117Z"
      },
      {
        "duration": 390,
        "start_time": "2022-06-17T15:23:39.055Z"
      },
      {
        "duration": 107,
        "start_time": "2022-06-17T15:23:39.920Z"
      },
      {
        "duration": 14,
        "start_time": "2022-06-17T15:23:52.021Z"
      },
      {
        "duration": 24,
        "start_time": "2022-06-17T15:23:52.662Z"
      },
      {
        "duration": 285,
        "start_time": "2022-06-17T15:23:53.713Z"
      },
      {
        "duration": 19,
        "start_time": "2022-06-17T15:23:54.749Z"
      },
      {
        "duration": 13,
        "start_time": "2022-06-17T15:24:22.908Z"
      },
      {
        "duration": 23,
        "start_time": "2022-06-17T15:24:23.241Z"
      },
      {
        "duration": 214,
        "start_time": "2022-06-17T15:24:23.709Z"
      },
      {
        "duration": 18,
        "start_time": "2022-06-17T15:24:24.928Z"
      },
      {
        "duration": 13,
        "start_time": "2022-06-17T15:24:28.525Z"
      },
      {
        "duration": 22,
        "start_time": "2022-06-17T15:24:29.245Z"
      },
      {
        "duration": 199,
        "start_time": "2022-06-17T15:24:30.220Z"
      },
      {
        "duration": 21,
        "start_time": "2022-06-17T15:24:31.155Z"
      },
      {
        "duration": 13,
        "start_time": "2022-06-17T15:24:34.750Z"
      },
      {
        "duration": 20,
        "start_time": "2022-06-17T15:24:35.203Z"
      },
      {
        "duration": 216,
        "start_time": "2022-06-17T15:24:36.244Z"
      },
      {
        "duration": 18,
        "start_time": "2022-06-17T15:24:37.112Z"
      },
      {
        "duration": 12,
        "start_time": "2022-06-17T15:25:03.417Z"
      },
      {
        "duration": 336,
        "start_time": "2022-06-17T15:25:05.173Z"
      },
      {
        "duration": 12,
        "start_time": "2022-06-17T15:25:09.524Z"
      },
      {
        "duration": 32,
        "start_time": "2022-06-17T15:25:10.135Z"
      },
      {
        "duration": 388,
        "start_time": "2022-06-17T15:25:10.629Z"
      },
      {
        "duration": 28,
        "start_time": "2022-06-17T15:25:11.550Z"
      },
      {
        "duration": 20,
        "start_time": "2022-06-17T15:25:22.651Z"
      },
      {
        "duration": 499,
        "start_time": "2022-06-17T15:27:23.054Z"
      },
      {
        "duration": 508,
        "start_time": "2022-06-17T15:27:44.735Z"
      },
      {
        "duration": 1491,
        "start_time": "2022-06-17T15:27:48.675Z"
      },
      {
        "duration": 369,
        "start_time": "2022-06-17T15:27:55.764Z"
      },
      {
        "duration": 420,
        "start_time": "2022-06-17T15:28:00.732Z"
      },
      {
        "duration": 203,
        "start_time": "2022-06-17T15:28:13.917Z"
      },
      {
        "duration": 3587,
        "start_time": "2022-06-17T15:28:58.362Z"
      },
      {
        "duration": 59370,
        "start_time": "2022-06-17T15:30:55.652Z"
      },
      {
        "duration": 203,
        "start_time": "2022-06-17T15:31:55.025Z"
      },
      {
        "duration": 190,
        "start_time": "2022-06-17T15:34:10.542Z"
      },
      {
        "duration": 289,
        "start_time": "2022-06-17T15:34:17.108Z"
      },
      {
        "duration": 4566,
        "start_time": "2022-06-17T15:35:49.347Z"
      },
      {
        "duration": 4076,
        "start_time": "2022-06-17T15:36:07.739Z"
      },
      {
        "duration": 76765,
        "start_time": "2022-06-17T15:36:49.613Z"
      },
      {
        "duration": 2249,
        "start_time": "2022-06-17T15:38:24.220Z"
      },
      {
        "duration": 41451,
        "start_time": "2022-06-17T15:39:15.166Z"
      },
      {
        "duration": 80,
        "start_time": "2022-06-17T15:40:53.545Z"
      },
      {
        "duration": 22,
        "start_time": "2022-06-17T15:41:10.957Z"
      },
      {
        "duration": 66851,
        "start_time": "2022-06-17T15:44:27.517Z"
      },
      {
        "duration": 42502,
        "start_time": "2022-06-17T15:47:14.610Z"
      },
      {
        "duration": 26,
        "start_time": "2022-06-17T15:48:52.760Z"
      },
      {
        "duration": 492,
        "start_time": "2022-06-17T15:48:57.914Z"
      },
      {
        "duration": 428,
        "start_time": "2022-06-17T15:49:28.875Z"
      },
      {
        "duration": 469,
        "start_time": "2022-06-17T15:49:44.068Z"
      },
      {
        "duration": 447,
        "start_time": "2022-06-17T15:49:49.516Z"
      },
      {
        "duration": 409,
        "start_time": "2022-06-17T15:49:55.634Z"
      },
      {
        "duration": 478,
        "start_time": "2022-06-17T15:50:02.605Z"
      },
      {
        "duration": 464,
        "start_time": "2022-06-17T15:50:35.953Z"
      },
      {
        "duration": 845,
        "start_time": "2022-06-17T15:51:16.535Z"
      },
      {
        "duration": 106,
        "start_time": "2022-06-17T15:51:24.922Z"
      },
      {
        "duration": 465,
        "start_time": "2022-06-17T15:51:29.944Z"
      },
      {
        "duration": 8,
        "start_time": "2022-06-17T15:52:08.401Z"
      },
      {
        "duration": 86,
        "start_time": "2022-06-17T15:52:08.411Z"
      },
      {
        "duration": 17,
        "start_time": "2022-06-17T15:52:08.499Z"
      },
      {
        "duration": 6,
        "start_time": "2022-06-17T15:52:08.518Z"
      },
      {
        "duration": 33,
        "start_time": "2022-06-17T15:52:08.526Z"
      },
      {
        "duration": 4,
        "start_time": "2022-06-17T15:52:08.561Z"
      },
      {
        "duration": 42,
        "start_time": "2022-06-17T15:52:08.567Z"
      },
      {
        "duration": 5,
        "start_time": "2022-06-17T15:52:08.610Z"
      },
      {
        "duration": 29,
        "start_time": "2022-06-17T15:52:08.617Z"
      },
      {
        "duration": 19,
        "start_time": "2022-06-17T15:52:08.648Z"
      },
      {
        "duration": 9,
        "start_time": "2022-06-17T15:52:08.669Z"
      },
      {
        "duration": 10,
        "start_time": "2022-06-17T15:52:08.680Z"
      },
      {
        "duration": 9,
        "start_time": "2022-06-17T15:52:08.693Z"
      },
      {
        "duration": 12,
        "start_time": "2022-06-17T15:52:08.705Z"
      },
      {
        "duration": 39,
        "start_time": "2022-06-17T15:52:08.718Z"
      },
      {
        "duration": 3287,
        "start_time": "2022-06-17T15:52:08.759Z"
      },
      {
        "duration": 57935,
        "start_time": "2022-06-17T15:52:12.048Z"
      },
      {
        "duration": 251,
        "start_time": "2022-06-17T15:53:09.985Z"
      },
      {
        "duration": 99,
        "start_time": "2022-06-17T15:53:10.327Z"
      },
      {
        "duration": 3357,
        "start_time": "2022-06-17T15:53:10.428Z"
      },
      {
        "duration": 56335,
        "start_time": "2022-06-17T15:53:13.787Z"
      },
      {
        "duration": 210,
        "start_time": "2022-06-17T15:54:10.124Z"
      },
      {
        "duration": 190,
        "start_time": "2022-06-17T15:54:10.336Z"
      },
      {
        "duration": 4131,
        "start_time": "2022-06-17T15:54:10.528Z"
      },
      {
        "duration": 74066,
        "start_time": "2022-06-17T15:54:14.661Z"
      },
      {
        "duration": 102,
        "start_time": "2022-06-17T15:55:28.729Z"
      },
      {
        "duration": 101,
        "start_time": "2022-06-17T15:55:28.835Z"
      },
      {
        "duration": 2439,
        "start_time": "2022-06-17T15:55:28.938Z"
      },
      {
        "duration": 40150,
        "start_time": "2022-06-17T15:55:31.379Z"
      },
      {
        "duration": 24,
        "start_time": "2022-06-17T15:56:11.531Z"
      },
      {
        "duration": 553,
        "start_time": "2022-06-17T15:56:11.628Z"
      },
      {
        "duration": 7,
        "start_time": "2022-06-17T15:58:48.132Z"
      },
      {
        "duration": 6,
        "start_time": "2022-06-17T15:59:45.838Z"
      },
      {
        "duration": 4,
        "start_time": "2022-06-17T16:00:03.323Z"
      },
      {
        "duration": 78,
        "start_time": "2022-06-17T16:00:03.330Z"
      },
      {
        "duration": 16,
        "start_time": "2022-06-17T16:00:03.410Z"
      },
      {
        "duration": 36,
        "start_time": "2022-06-17T16:00:03.428Z"
      },
      {
        "duration": 34,
        "start_time": "2022-06-17T16:00:03.466Z"
      },
      {
        "duration": 3,
        "start_time": "2022-06-17T16:00:03.503Z"
      },
      {
        "duration": 6,
        "start_time": "2022-06-17T16:00:06.946Z"
      },
      {
        "duration": 15,
        "start_time": "2022-06-17T16:01:23.227Z"
      },
      {
        "duration": 5,
        "start_time": "2022-06-17T16:01:26.111Z"
      },
      {
        "duration": 38,
        "start_time": "2022-06-17T16:01:36.725Z"
      },
      {
        "duration": 28,
        "start_time": "2022-06-17T16:02:06.698Z"
      },
      {
        "duration": 30,
        "start_time": "2022-06-17T16:03:43.084Z"
      },
      {
        "duration": 14,
        "start_time": "2022-06-17T16:04:37.259Z"
      },
      {
        "duration": 31267,
        "start_time": "2022-06-17T16:10:53.529Z"
      },
      {
        "duration": 442,
        "start_time": "2022-06-17T16:11:56.887Z"
      },
      {
        "duration": 45289,
        "start_time": "2022-06-17T16:12:17.462Z"
      },
      {
        "duration": 57181,
        "start_time": "2022-06-17T16:13:39.922Z"
      },
      {
        "duration": 70384,
        "start_time": "2022-06-17T16:15:43.007Z"
      },
      {
        "duration": 45480,
        "start_time": "2022-06-17T16:17:10.123Z"
      },
      {
        "duration": 403,
        "start_time": "2022-06-17T16:18:36.841Z"
      },
      {
        "duration": 11,
        "start_time": "2022-06-17T16:19:14.653Z"
      },
      {
        "duration": 292,
        "start_time": "2022-06-17T16:20:41.987Z"
      },
      {
        "duration": 295,
        "start_time": "2022-06-17T16:25:19.343Z"
      },
      {
        "duration": 42,
        "start_time": "2022-06-20T07:43:45.027Z"
      },
      {
        "duration": 1279,
        "start_time": "2022-06-20T07:43:50.084Z"
      },
      {
        "duration": 166,
        "start_time": "2022-06-20T07:43:51.365Z"
      },
      {
        "duration": 12,
        "start_time": "2022-06-20T07:43:51.532Z"
      },
      {
        "duration": 4,
        "start_time": "2022-06-20T07:43:51.546Z"
      },
      {
        "duration": 18,
        "start_time": "2022-06-20T07:43:51.551Z"
      },
      {
        "duration": 5,
        "start_time": "2022-06-20T07:43:51.570Z"
      },
      {
        "duration": 14,
        "start_time": "2022-06-20T07:43:51.576Z"
      },
      {
        "duration": 20,
        "start_time": "2022-06-20T07:43:51.592Z"
      },
      {
        "duration": 18,
        "start_time": "2022-06-20T07:43:51.613Z"
      },
      {
        "duration": 8,
        "start_time": "2022-06-20T07:43:51.633Z"
      },
      {
        "duration": 4,
        "start_time": "2022-06-20T07:43:51.642Z"
      },
      {
        "duration": 3,
        "start_time": "2022-06-20T07:43:51.648Z"
      },
      {
        "duration": 5,
        "start_time": "2022-06-20T07:43:51.652Z"
      },
      {
        "duration": 4,
        "start_time": "2022-06-20T07:43:51.658Z"
      },
      {
        "duration": 4,
        "start_time": "2022-06-20T07:43:51.663Z"
      },
      {
        "duration": 26,
        "start_time": "2022-06-20T07:43:51.668Z"
      },
      {
        "duration": 101,
        "start_time": "2022-06-20T07:43:51.695Z"
      },
      {
        "duration": 0,
        "start_time": "2022-06-20T07:43:51.797Z"
      },
      {
        "duration": 0,
        "start_time": "2022-06-20T07:43:51.798Z"
      },
      {
        "duration": 0,
        "start_time": "2022-06-20T07:43:51.799Z"
      },
      {
        "duration": 0,
        "start_time": "2022-06-20T07:43:51.800Z"
      },
      {
        "duration": 0,
        "start_time": "2022-06-20T07:43:51.801Z"
      },
      {
        "duration": 0,
        "start_time": "2022-06-20T07:43:51.802Z"
      },
      {
        "duration": 0,
        "start_time": "2022-06-20T07:43:51.803Z"
      },
      {
        "duration": 0,
        "start_time": "2022-06-20T07:43:51.804Z"
      },
      {
        "duration": 0,
        "start_time": "2022-06-20T07:43:51.805Z"
      },
      {
        "duration": 0,
        "start_time": "2022-06-20T07:43:51.806Z"
      },
      {
        "duration": 0,
        "start_time": "2022-06-20T07:43:51.807Z"
      },
      {
        "duration": 1,
        "start_time": "2022-06-20T07:43:51.808Z"
      },
      {
        "duration": 0,
        "start_time": "2022-06-20T07:43:51.810Z"
      },
      {
        "duration": 0,
        "start_time": "2022-06-20T07:43:51.811Z"
      },
      {
        "duration": 0,
        "start_time": "2022-06-20T07:43:51.828Z"
      },
      {
        "duration": 0,
        "start_time": "2022-06-20T07:43:51.829Z"
      },
      {
        "duration": 4,
        "start_time": "2022-06-20T07:47:31.340Z"
      },
      {
        "duration": 3,
        "start_time": "2022-06-20T07:48:32.554Z"
      },
      {
        "duration": 54,
        "start_time": "2022-06-20T07:48:32.559Z"
      },
      {
        "duration": 10,
        "start_time": "2022-06-20T07:48:32.615Z"
      },
      {
        "duration": 4,
        "start_time": "2022-06-20T07:48:32.626Z"
      },
      {
        "duration": 45,
        "start_time": "2022-06-20T07:48:32.631Z"
      },
      {
        "duration": 11,
        "start_time": "2022-06-20T07:48:32.678Z"
      },
      {
        "duration": 13,
        "start_time": "2022-06-20T07:48:32.690Z"
      },
      {
        "duration": 32,
        "start_time": "2022-06-20T07:48:32.705Z"
      },
      {
        "duration": 22,
        "start_time": "2022-06-20T07:48:32.739Z"
      },
      {
        "duration": 16,
        "start_time": "2022-06-20T07:48:32.762Z"
      },
      {
        "duration": 10,
        "start_time": "2022-06-20T07:48:32.780Z"
      },
      {
        "duration": 21,
        "start_time": "2022-06-20T07:48:32.791Z"
      },
      {
        "duration": 32,
        "start_time": "2022-06-20T07:48:32.813Z"
      },
      {
        "duration": 21,
        "start_time": "2022-06-20T07:48:32.846Z"
      },
      {
        "duration": 21,
        "start_time": "2022-06-20T07:48:32.869Z"
      },
      {
        "duration": 45,
        "start_time": "2022-06-20T07:48:32.891Z"
      },
      {
        "duration": 2805,
        "start_time": "2022-06-20T07:48:32.938Z"
      },
      {
        "duration": 47183,
        "start_time": "2022-06-20T07:48:35.745Z"
      },
      {
        "duration": 204,
        "start_time": "2022-06-20T07:49:22.929Z"
      },
      {
        "duration": 100,
        "start_time": "2022-06-20T07:49:23.134Z"
      },
      {
        "duration": 2818,
        "start_time": "2022-06-20T07:49:23.235Z"
      },
      {
        "duration": 46598,
        "start_time": "2022-06-20T07:49:26.055Z"
      },
      {
        "duration": 180,
        "start_time": "2022-06-20T07:50:12.655Z"
      },
      {
        "duration": 98,
        "start_time": "2022-06-20T07:50:12.840Z"
      },
      {
        "duration": 3536,
        "start_time": "2022-06-20T07:50:12.940Z"
      },
      {
        "duration": 65280,
        "start_time": "2022-06-20T07:50:16.478Z"
      },
      {
        "duration": 72,
        "start_time": "2022-06-20T07:51:21.759Z"
      },
      {
        "duration": 89,
        "start_time": "2022-06-20T07:51:21.840Z"
      },
      {
        "duration": 1366,
        "start_time": "2022-06-20T07:51:21.932Z"
      },
      {
        "duration": 291,
        "start_time": "2022-06-20T07:51:23.300Z"
      },
      {
        "duration": 30986,
        "start_time": "2022-06-20T07:51:23.593Z"
      },
      {
        "duration": 53,
        "start_time": "2022-06-20T07:51:54.581Z"
      },
      {
        "duration": 419,
        "start_time": "2022-06-20T07:51:54.636Z"
      },
      {
        "duration": 403,
        "start_time": "2022-06-20T07:59:51.564Z"
      },
      {
        "duration": 32623,
        "start_time": "2022-06-20T08:00:02.547Z"
      },
      {
        "duration": 294,
        "start_time": "2022-06-20T08:02:58.668Z"
      },
      {
        "duration": 138,
        "start_time": "2022-06-20T08:03:03.313Z"
      },
      {
        "duration": 296,
        "start_time": "2022-06-20T08:03:07.162Z"
      },
      {
        "duration": 315,
        "start_time": "2022-06-20T08:04:08.059Z"
      },
      {
        "duration": 3,
        "start_time": "2022-06-20T08:07:07.080Z"
      },
      {
        "duration": 59,
        "start_time": "2022-06-20T08:07:07.084Z"
      },
      {
        "duration": 17,
        "start_time": "2022-06-20T08:07:07.145Z"
      },
      {
        "duration": 5,
        "start_time": "2022-06-20T08:07:07.164Z"
      },
      {
        "duration": 20,
        "start_time": "2022-06-20T08:07:07.170Z"
      },
      {
        "duration": 6,
        "start_time": "2022-06-20T08:07:07.192Z"
      },
      {
        "duration": 5,
        "start_time": "2022-06-20T08:07:07.199Z"
      },
      {
        "duration": 31,
        "start_time": "2022-06-20T08:07:07.205Z"
      },
      {
        "duration": 4,
        "start_time": "2022-06-20T08:07:07.237Z"
      },
      {
        "duration": 18,
        "start_time": "2022-06-20T08:07:07.242Z"
      },
      {
        "duration": 11,
        "start_time": "2022-06-20T08:07:07.262Z"
      },
      {
        "duration": 3,
        "start_time": "2022-06-20T08:07:07.274Z"
      },
      {
        "duration": 6,
        "start_time": "2022-06-20T08:07:07.278Z"
      },
      {
        "duration": 5,
        "start_time": "2022-06-20T08:07:07.285Z"
      },
      {
        "duration": 5,
        "start_time": "2022-06-20T08:07:07.291Z"
      },
      {
        "duration": 35,
        "start_time": "2022-06-20T08:07:07.297Z"
      },
      {
        "duration": 3039,
        "start_time": "2022-06-20T08:07:07.335Z"
      },
      {
        "duration": 52474,
        "start_time": "2022-06-20T08:07:10.376Z"
      },
      {
        "duration": 394,
        "start_time": "2022-06-20T08:08:02.857Z"
      },
      {
        "duration": 81,
        "start_time": "2022-06-20T08:08:03.266Z"
      },
      {
        "duration": 3229,
        "start_time": "2022-06-20T08:08:03.355Z"
      },
      {
        "duration": 52412,
        "start_time": "2022-06-20T08:08:06.586Z"
      },
      {
        "duration": 260,
        "start_time": "2022-06-20T08:08:58.999Z"
      },
      {
        "duration": 122,
        "start_time": "2022-06-20T08:08:59.333Z"
      },
      {
        "duration": 3717,
        "start_time": "2022-06-20T08:08:59.456Z"
      },
      {
        "duration": 71747,
        "start_time": "2022-06-20T08:09:03.175Z"
      },
      {
        "duration": 108,
        "start_time": "2022-06-20T08:10:14.924Z"
      },
      {
        "duration": 23,
        "start_time": "2022-06-20T08:10:15.035Z"
      },
      {
        "duration": 1711,
        "start_time": "2022-06-20T08:10:15.129Z"
      },
      {
        "duration": 32816,
        "start_time": "2022-06-20T08:10:16.842Z"
      },
      {
        "duration": 74,
        "start_time": "2022-06-20T08:10:49.659Z"
      },
      {
        "duration": 404,
        "start_time": "2022-06-20T08:10:49.735Z"
      },
      {
        "duration": 412,
        "start_time": "2022-06-20T08:15:49.685Z"
      },
      {
        "duration": 424,
        "start_time": "2022-06-20T08:16:38.499Z"
      },
      {
        "duration": 457,
        "start_time": "2022-06-20T08:16:42.752Z"
      },
      {
        "duration": 360,
        "start_time": "2022-06-20T08:16:45.757Z"
      },
      {
        "duration": 402,
        "start_time": "2022-06-20T08:16:53.859Z"
      },
      {
        "duration": 331,
        "start_time": "2022-06-20T08:16:57.985Z"
      },
      {
        "duration": 241,
        "start_time": "2022-06-20T08:17:02.255Z"
      },
      {
        "duration": 348,
        "start_time": "2022-06-20T08:17:05.326Z"
      },
      {
        "duration": 450,
        "start_time": "2022-06-20T08:18:06.122Z"
      },
      {
        "duration": 339,
        "start_time": "2022-06-20T08:18:10.162Z"
      },
      {
        "duration": 429,
        "start_time": "2022-06-20T08:18:20.513Z"
      },
      {
        "duration": 333,
        "start_time": "2022-06-20T08:18:28.553Z"
      },
      {
        "duration": 107871,
        "start_time": "2022-06-20T08:19:10.583Z"
      },
      {
        "duration": 408,
        "start_time": "2022-06-20T08:21:13.560Z"
      },
      {
        "duration": 833,
        "start_time": "2022-06-20T08:21:26.299Z"
      },
      {
        "duration": 351,
        "start_time": "2022-06-20T08:21:32.759Z"
      },
      {
        "duration": 1468,
        "start_time": "2022-06-20T13:44:23.728Z"
      },
      {
        "duration": 98,
        "start_time": "2022-06-20T13:44:25.198Z"
      },
      {
        "duration": 13,
        "start_time": "2022-06-20T13:44:25.298Z"
      },
      {
        "duration": 42,
        "start_time": "2022-06-20T13:44:25.314Z"
      },
      {
        "duration": 40,
        "start_time": "2022-06-20T13:44:25.360Z"
      },
      {
        "duration": 8,
        "start_time": "2022-06-20T13:44:25.402Z"
      },
      {
        "duration": 17,
        "start_time": "2022-06-20T13:44:25.412Z"
      },
      {
        "duration": 51,
        "start_time": "2022-06-20T13:44:25.431Z"
      },
      {
        "duration": 19,
        "start_time": "2022-06-20T13:44:25.485Z"
      },
      {
        "duration": 39,
        "start_time": "2022-06-20T13:44:25.505Z"
      },
      {
        "duration": 26,
        "start_time": "2022-06-20T13:44:25.546Z"
      },
      {
        "duration": 16,
        "start_time": "2022-06-20T13:44:25.574Z"
      },
      {
        "duration": 29,
        "start_time": "2022-06-20T13:44:25.591Z"
      },
      {
        "duration": 21,
        "start_time": "2022-06-20T13:44:25.623Z"
      },
      {
        "duration": 41,
        "start_time": "2022-06-20T13:44:25.646Z"
      },
      {
        "duration": 48,
        "start_time": "2022-06-20T13:44:25.689Z"
      },
      {
        "duration": 3222,
        "start_time": "2022-06-20T13:44:25.739Z"
      },
      {
        "duration": 53196,
        "start_time": "2022-06-20T13:44:28.963Z"
      },
      {
        "duration": 247,
        "start_time": "2022-06-20T13:45:22.161Z"
      },
      {
        "duration": 13,
        "start_time": "2022-06-20T13:45:22.496Z"
      },
      {
        "duration": 3239,
        "start_time": "2022-06-20T13:45:22.595Z"
      },
      {
        "duration": 54755,
        "start_time": "2022-06-20T13:45:25.836Z"
      },
      {
        "duration": 503,
        "start_time": "2022-06-20T13:46:20.594Z"
      },
      {
        "duration": 101,
        "start_time": "2022-06-20T13:46:21.099Z"
      },
      {
        "duration": 4180,
        "start_time": "2022-06-20T13:46:21.202Z"
      },
      {
        "duration": 124550,
        "start_time": "2022-06-20T13:46:25.384Z"
      },
      {
        "duration": 458,
        "start_time": "2022-06-20T13:48:29.936Z"
      },
      {
        "duration": 101,
        "start_time": "2022-06-20T13:48:30.396Z"
      },
      {
        "duration": 100,
        "start_time": "2022-06-20T13:48:30.500Z"
      },
      {
        "duration": 1528,
        "start_time": "2022-06-20T13:48:30.602Z"
      },
      {
        "duration": 35471,
        "start_time": "2022-06-20T13:48:32.132Z"
      },
      {
        "duration": 101,
        "start_time": "2022-06-20T13:49:07.605Z"
      },
      {
        "duration": 458,
        "start_time": "2022-06-20T13:49:07.708Z"
      },
      {
        "duration": 36,
        "start_time": "2022-06-20T13:49:08.169Z"
      },
      {
        "duration": 705,
        "start_time": "2022-06-20T13:49:55.247Z"
      },
      {
        "duration": 909,
        "start_time": "2022-06-20T13:50:00.030Z"
      },
      {
        "duration": 4,
        "start_time": "2022-06-20T13:50:40.657Z"
      },
      {
        "duration": 12,
        "start_time": "2022-06-20T13:51:31.660Z"
      },
      {
        "duration": 18,
        "start_time": "2022-06-20T13:51:44.812Z"
      },
      {
        "duration": 4,
        "start_time": "2022-06-20T13:52:02.333Z"
      },
      {
        "duration": 24,
        "start_time": "2022-06-20T13:52:12.805Z"
      },
      {
        "duration": 9,
        "start_time": "2022-06-20T13:52:20.029Z"
      },
      {
        "duration": 54,
        "start_time": "2022-06-20T13:52:30.012Z"
      },
      {
        "duration": 44,
        "start_time": "2022-06-20T13:52:45.750Z"
      },
      {
        "duration": 27,
        "start_time": "2022-06-20T13:52:55.751Z"
      },
      {
        "duration": 32,
        "start_time": "2022-06-20T13:53:01.302Z"
      },
      {
        "duration": 5,
        "start_time": "2022-06-20T13:53:25.800Z"
      },
      {
        "duration": 6,
        "start_time": "2022-06-20T13:53:28.412Z"
      },
      {
        "duration": 4,
        "start_time": "2022-06-20T13:53:33.917Z"
      },
      {
        "duration": 63,
        "start_time": "2022-06-20T13:53:33.923Z"
      },
      {
        "duration": 13,
        "start_time": "2022-06-20T13:53:33.988Z"
      },
      {
        "duration": 19,
        "start_time": "2022-06-20T13:53:34.002Z"
      },
      {
        "duration": 33,
        "start_time": "2022-06-20T13:53:34.023Z"
      },
      {
        "duration": 11,
        "start_time": "2022-06-20T13:53:34.058Z"
      },
      {
        "duration": 13,
        "start_time": "2022-06-20T13:53:34.071Z"
      },
      {
        "duration": 28,
        "start_time": "2022-06-20T13:53:34.085Z"
      },
      {
        "duration": 5,
        "start_time": "2022-06-20T13:53:34.115Z"
      },
      {
        "duration": 18,
        "start_time": "2022-06-20T13:53:34.121Z"
      },
      {
        "duration": 11,
        "start_time": "2022-06-20T13:53:34.142Z"
      },
      {
        "duration": 10,
        "start_time": "2022-06-20T13:53:34.154Z"
      },
      {
        "duration": 18,
        "start_time": "2022-06-20T13:53:34.166Z"
      },
      {
        "duration": 10,
        "start_time": "2022-06-20T13:53:34.186Z"
      },
      {
        "duration": 9,
        "start_time": "2022-06-20T13:53:34.198Z"
      },
      {
        "duration": 39,
        "start_time": "2022-06-20T13:53:34.209Z"
      },
      {
        "duration": 3319,
        "start_time": "2022-06-20T13:53:34.249Z"
      },
      {
        "duration": 53400,
        "start_time": "2022-06-20T13:53:37.570Z"
      },
      {
        "duration": 232,
        "start_time": "2022-06-20T13:54:30.972Z"
      },
      {
        "duration": 94,
        "start_time": "2022-06-20T13:54:31.206Z"
      },
      {
        "duration": 3458,
        "start_time": "2022-06-20T13:54:31.302Z"
      },
      {
        "duration": 53364,
        "start_time": "2022-06-20T13:54:34.761Z"
      },
      {
        "duration": 269,
        "start_time": "2022-06-20T13:55:28.126Z"
      },
      {
        "duration": 104,
        "start_time": "2022-06-20T13:55:28.397Z"
      },
      {
        "duration": 4042,
        "start_time": "2022-06-20T13:55:28.502Z"
      },
      {
        "duration": 117325,
        "start_time": "2022-06-20T13:55:32.546Z"
      },
      {
        "duration": 435,
        "start_time": "2022-06-20T13:57:29.873Z"
      },
      {
        "duration": 90,
        "start_time": "2022-06-20T13:57:30.310Z"
      },
      {
        "duration": 190,
        "start_time": "2022-06-20T13:57:30.405Z"
      },
      {
        "duration": 1635,
        "start_time": "2022-06-20T13:57:30.597Z"
      },
      {
        "duration": 33390,
        "start_time": "2022-06-20T13:57:32.234Z"
      },
      {
        "duration": 74,
        "start_time": "2022-06-20T13:58:05.627Z"
      },
      {
        "duration": 923,
        "start_time": "2022-06-20T13:58:05.705Z"
      },
      {
        "duration": 3,
        "start_time": "2022-06-20T13:59:47.454Z"
      },
      {
        "duration": 0,
        "start_time": "2022-06-20T14:12:47.005Z"
      },
      {
        "duration": 849617,
        "start_time": "2022-06-20T14:13:01.872Z"
      },
      {
        "duration": 0,
        "start_time": "2022-06-20T14:27:11.491Z"
      },
      {
        "duration": 8,
        "start_time": "2022-06-20T14:29:18.955Z"
      },
      {
        "duration": 8,
        "start_time": "2022-06-20T14:29:19.410Z"
      },
      {
        "duration": 4,
        "start_time": "2022-06-20T14:29:21.397Z"
      },
      {
        "duration": 4,
        "start_time": "2022-06-20T14:29:21.847Z"
      },
      {
        "duration": 4,
        "start_time": "2022-06-20T14:29:22.221Z"
      },
      {
        "duration": 1507,
        "start_time": "2022-06-20T14:29:50.504Z"
      },
      {
        "duration": 1535,
        "start_time": "2022-06-20T14:32:02.499Z"
      },
      {
        "duration": 1464,
        "start_time": "2022-06-20T14:32:16.046Z"
      },
      {
        "duration": 1526,
        "start_time": "2022-06-20T14:32:47.029Z"
      },
      {
        "duration": 1456,
        "start_time": "2022-06-20T14:33:17.402Z"
      },
      {
        "duration": 1581,
        "start_time": "2022-06-20T14:34:03.802Z"
      },
      {
        "duration": 1393,
        "start_time": "2022-06-20T14:34:36.910Z"
      },
      {
        "duration": 52,
        "start_time": "2022-06-20T14:34:38.306Z"
      },
      {
        "duration": 12,
        "start_time": "2022-06-20T14:34:38.359Z"
      },
      {
        "duration": 4,
        "start_time": "2022-06-20T14:34:38.373Z"
      },
      {
        "duration": 32,
        "start_time": "2022-06-20T14:34:38.379Z"
      },
      {
        "duration": 7,
        "start_time": "2022-06-20T14:34:38.412Z"
      },
      {
        "duration": 8,
        "start_time": "2022-06-20T14:34:38.421Z"
      },
      {
        "duration": 17,
        "start_time": "2022-06-20T14:34:38.431Z"
      },
      {
        "duration": 6,
        "start_time": "2022-06-20T14:34:38.450Z"
      },
      {
        "duration": 38,
        "start_time": "2022-06-20T14:34:38.457Z"
      },
      {
        "duration": 13,
        "start_time": "2022-06-20T14:34:38.504Z"
      },
      {
        "duration": 5,
        "start_time": "2022-06-20T14:34:38.520Z"
      },
      {
        "duration": 10,
        "start_time": "2022-06-20T14:34:38.526Z"
      },
      {
        "duration": 8,
        "start_time": "2022-06-20T14:34:38.539Z"
      },
      {
        "duration": 8,
        "start_time": "2022-06-20T14:34:38.549Z"
      },
      {
        "duration": 61,
        "start_time": "2022-06-20T14:34:38.559Z"
      },
      {
        "duration": 1567,
        "start_time": "2022-06-20T14:34:38.622Z"
      },
      {
        "duration": 1563,
        "start_time": "2022-06-20T14:34:40.191Z"
      },
      {
        "duration": 7406,
        "start_time": "2022-06-20T14:34:41.756Z"
      },
      {
        "duration": 336,
        "start_time": "2022-06-20T14:34:49.165Z"
      },
      {
        "duration": 101,
        "start_time": "2022-06-20T14:34:49.503Z"
      },
      {
        "duration": 1653,
        "start_time": "2022-06-20T14:34:49.610Z"
      },
      {
        "duration": 13393,
        "start_time": "2022-06-20T14:34:51.265Z"
      },
      {
        "duration": 347,
        "start_time": "2022-06-20T14:35:04.660Z"
      },
      {
        "duration": 88,
        "start_time": "2022-06-20T14:35:05.010Z"
      },
      {
        "duration": 4142,
        "start_time": "2022-06-20T14:35:05.100Z"
      },
      {
        "duration": 122990,
        "start_time": "2022-06-20T14:35:09.244Z"
      },
      {
        "duration": 475,
        "start_time": "2022-06-20T14:37:12.236Z"
      },
      {
        "duration": 90,
        "start_time": "2022-06-20T14:37:12.713Z"
      },
      {
        "duration": 97,
        "start_time": "2022-06-20T14:37:12.806Z"
      },
      {
        "duration": 1604,
        "start_time": "2022-06-20T14:37:12.905Z"
      },
      {
        "duration": 34335,
        "start_time": "2022-06-20T14:37:14.511Z"
      },
      {
        "duration": 153,
        "start_time": "2022-06-20T14:37:48.847Z"
      },
      {
        "duration": 969,
        "start_time": "2022-06-20T14:37:49.005Z"
      },
      {
        "duration": 4,
        "start_time": "2022-06-20T14:37:49.975Z"
      },
      {
        "duration": 97784,
        "start_time": "2022-06-20T14:37:49.980Z"
      },
      {
        "duration": 704,
        "start_time": "2022-06-20T14:40:09.885Z"
      },
      {
        "duration": 40693,
        "start_time": "2022-06-20T14:40:43.457Z"
      },
      {
        "duration": 378,
        "start_time": "2022-06-20T14:41:24.152Z"
      },
      {
        "duration": 7,
        "start_time": "2022-06-20T14:42:15.030Z"
      },
      {
        "duration": 66,
        "start_time": "2022-06-20T14:42:15.039Z"
      },
      {
        "duration": 21,
        "start_time": "2022-06-20T14:42:15.107Z"
      },
      {
        "duration": 7,
        "start_time": "2022-06-20T14:42:15.130Z"
      },
      {
        "duration": 69,
        "start_time": "2022-06-20T14:42:15.140Z"
      },
      {
        "duration": 10,
        "start_time": "2022-06-20T14:42:15.212Z"
      },
      {
        "duration": 6,
        "start_time": "2022-06-20T14:42:15.225Z"
      },
      {
        "duration": 19,
        "start_time": "2022-06-20T14:42:15.234Z"
      },
      {
        "duration": 5,
        "start_time": "2022-06-20T14:42:15.256Z"
      },
      {
        "duration": 41,
        "start_time": "2022-06-20T14:42:15.263Z"
      },
      {
        "duration": 13,
        "start_time": "2022-06-20T14:42:15.307Z"
      },
      {
        "duration": 14,
        "start_time": "2022-06-20T14:42:15.323Z"
      },
      {
        "duration": 15,
        "start_time": "2022-06-20T14:42:15.339Z"
      },
      {
        "duration": 18,
        "start_time": "2022-06-20T14:42:15.356Z"
      },
      {
        "duration": 6,
        "start_time": "2022-06-20T14:42:15.376Z"
      },
      {
        "duration": 55,
        "start_time": "2022-06-20T14:42:15.384Z"
      },
      {
        "duration": 1671,
        "start_time": "2022-06-20T14:42:15.441Z"
      },
      {
        "duration": 1664,
        "start_time": "2022-06-20T14:42:17.114Z"
      },
      {
        "duration": 8113,
        "start_time": "2022-06-20T14:42:18.780Z"
      },
      {
        "duration": 315,
        "start_time": "2022-06-20T14:42:26.896Z"
      },
      {
        "duration": 98,
        "start_time": "2022-06-20T14:42:27.300Z"
      },
      {
        "duration": 534,
        "start_time": "2022-06-20T14:42:27.401Z"
      },
      {
        "duration": 29309,
        "start_time": "2022-06-20T14:42:27.939Z"
      },
      {
        "duration": 456,
        "start_time": "2022-06-20T14:42:57.250Z"
      },
      {
        "duration": 97,
        "start_time": "2022-06-20T14:42:57.708Z"
      },
      {
        "duration": 773,
        "start_time": "2022-06-20T14:42:57.814Z"
      },
      {
        "duration": 39742,
        "start_time": "2022-06-20T14:42:58.589Z"
      },
      {
        "duration": 422,
        "start_time": "2022-06-20T14:43:38.333Z"
      },
      {
        "duration": 53,
        "start_time": "2022-06-20T14:43:38.757Z"
      },
      {
        "duration": 93,
        "start_time": "2022-06-20T14:43:38.814Z"
      },
      {
        "duration": 415,
        "start_time": "2022-06-20T14:43:38.911Z"
      },
      {
        "duration": 16806,
        "start_time": "2022-06-20T14:43:39.328Z"
      },
      {
        "duration": 60,
        "start_time": "2022-06-20T14:43:56.136Z"
      },
      {
        "duration": 945,
        "start_time": "2022-06-20T14:43:56.198Z"
      },
      {
        "duration": 3,
        "start_time": "2022-06-20T14:43:57.145Z"
      },
      {
        "duration": 0,
        "start_time": "2022-06-20T14:48:03.473Z"
      },
      {
        "duration": 0,
        "start_time": "2022-06-20T14:48:03.474Z"
      },
      {
        "duration": 0,
        "start_time": "2022-06-20T14:48:03.476Z"
      },
      {
        "duration": 0,
        "start_time": "2022-06-20T14:48:03.477Z"
      },
      {
        "duration": 0,
        "start_time": "2022-06-20T14:48:03.478Z"
      },
      {
        "duration": 29621,
        "start_time": "2022-06-20T14:48:16.314Z"
      },
      {
        "duration": 663,
        "start_time": "2022-06-20T14:48:45.937Z"
      },
      {
        "duration": 624,
        "start_time": "2022-06-20T14:48:46.602Z"
      },
      {
        "duration": 29205,
        "start_time": "2022-06-20T14:48:47.423Z"
      },
      {
        "duration": 645,
        "start_time": "2022-06-20T14:49:16.631Z"
      },
      {
        "duration": 4,
        "start_time": "2022-06-20T14:49:55.322Z"
      },
      {
        "duration": 50,
        "start_time": "2022-06-20T14:49:55.328Z"
      },
      {
        "duration": 12,
        "start_time": "2022-06-20T14:49:55.381Z"
      },
      {
        "duration": 15,
        "start_time": "2022-06-20T14:49:55.394Z"
      },
      {
        "duration": 24,
        "start_time": "2022-06-20T14:49:55.411Z"
      },
      {
        "duration": 6,
        "start_time": "2022-06-20T14:49:55.437Z"
      },
      {
        "duration": 7,
        "start_time": "2022-06-20T14:49:55.444Z"
      },
      {
        "duration": 16,
        "start_time": "2022-06-20T14:49:55.452Z"
      },
      {
        "duration": 4,
        "start_time": "2022-06-20T14:49:55.470Z"
      },
      {
        "duration": 21,
        "start_time": "2022-06-20T14:49:55.476Z"
      },
      {
        "duration": 14,
        "start_time": "2022-06-20T14:49:55.499Z"
      },
      {
        "duration": 16,
        "start_time": "2022-06-20T14:49:55.515Z"
      },
      {
        "duration": 7,
        "start_time": "2022-06-20T14:49:55.533Z"
      },
      {
        "duration": 8,
        "start_time": "2022-06-20T14:49:55.541Z"
      },
      {
        "duration": 6,
        "start_time": "2022-06-20T14:49:55.552Z"
      },
      {
        "duration": 42,
        "start_time": "2022-06-20T14:49:55.559Z"
      },
      {
        "duration": 524,
        "start_time": "2022-06-20T14:49:55.603Z"
      },
      {
        "duration": 28694,
        "start_time": "2022-06-20T14:49:56.129Z"
      },
      {
        "duration": 669,
        "start_time": "2022-06-20T14:50:24.825Z"
      },
      {
        "duration": 7,
        "start_time": "2022-06-20T14:50:25.496Z"
      },
      {
        "duration": 550,
        "start_time": "2022-06-20T14:50:25.506Z"
      },
      {
        "duration": 28057,
        "start_time": "2022-06-20T14:50:26.059Z"
      },
      {
        "duration": 675,
        "start_time": "2022-06-20T14:50:54.118Z"
      },
      {
        "duration": 12,
        "start_time": "2022-06-20T14:50:54.795Z"
      },
      {
        "duration": 665,
        "start_time": "2022-06-20T14:50:54.809Z"
      },
      {
        "duration": 37397,
        "start_time": "2022-06-20T14:50:55.476Z"
      },
      {
        "duration": 423,
        "start_time": "2022-06-20T14:51:32.874Z"
      },
      {
        "duration": 96,
        "start_time": "2022-06-20T14:51:33.299Z"
      },
      {
        "duration": 101,
        "start_time": "2022-06-20T14:51:33.397Z"
      },
      {
        "duration": 268,
        "start_time": "2022-06-20T14:51:33.500Z"
      },
      {
        "duration": 16352,
        "start_time": "2022-06-20T14:51:33.770Z"
      },
      {
        "duration": 176,
        "start_time": "2022-06-20T14:51:50.124Z"
      },
      {
        "duration": 503,
        "start_time": "2022-06-20T14:51:50.302Z"
      },
      {
        "duration": 4,
        "start_time": "2022-06-20T14:51:50.807Z"
      },
      {
        "duration": 24,
        "start_time": "2022-06-20T14:51:50.813Z"
      },
      {
        "duration": 441,
        "start_time": "2022-06-20T14:55:32.647Z"
      },
      {
        "duration": 431,
        "start_time": "2022-06-20T14:56:25.515Z"
      },
      {
        "duration": 430,
        "start_time": "2022-06-20T14:57:37.416Z"
      },
      {
        "duration": 409,
        "start_time": "2022-06-20T14:58:24.345Z"
      },
      {
        "duration": 361,
        "start_time": "2022-06-20T14:58:36.014Z"
      },
      {
        "duration": 23028,
        "start_time": "2022-06-20T14:58:56.915Z"
      },
      {
        "duration": 316,
        "start_time": "2022-06-20T14:59:39.529Z"
      },
      {
        "duration": 1469,
        "start_time": "2022-06-20T15:58:20.342Z"
      },
      {
        "duration": 257,
        "start_time": "2022-06-20T15:58:21.814Z"
      },
      {
        "duration": 13,
        "start_time": "2022-06-20T15:58:22.073Z"
      },
      {
        "duration": 4,
        "start_time": "2022-06-20T15:58:22.088Z"
      },
      {
        "duration": 22,
        "start_time": "2022-06-20T15:58:22.094Z"
      },
      {
        "duration": 6,
        "start_time": "2022-06-20T15:58:22.118Z"
      },
      {
        "duration": 6,
        "start_time": "2022-06-20T15:58:22.125Z"
      },
      {
        "duration": 15,
        "start_time": "2022-06-20T15:58:22.132Z"
      },
      {
        "duration": 10,
        "start_time": "2022-06-20T15:58:22.149Z"
      },
      {
        "duration": 26,
        "start_time": "2022-06-20T15:58:22.161Z"
      },
      {
        "duration": 8,
        "start_time": "2022-06-20T15:58:22.189Z"
      },
      {
        "duration": 4,
        "start_time": "2022-06-20T15:58:22.199Z"
      },
      {
        "duration": 23,
        "start_time": "2022-06-20T15:58:22.205Z"
      },
      {
        "duration": 10,
        "start_time": "2022-06-20T15:58:22.231Z"
      },
      {
        "duration": 6,
        "start_time": "2022-06-20T15:58:22.242Z"
      },
      {
        "duration": 33,
        "start_time": "2022-06-20T15:58:22.250Z"
      },
      {
        "duration": 336,
        "start_time": "2022-06-20T15:58:22.285Z"
      },
      {
        "duration": 17299,
        "start_time": "2022-06-20T15:58:22.623Z"
      },
      {
        "duration": 205,
        "start_time": "2022-06-20T15:58:39.925Z"
      },
      {
        "duration": 97,
        "start_time": "2022-06-20T15:58:40.131Z"
      },
      {
        "duration": 395,
        "start_time": "2022-06-20T15:58:40.230Z"
      },
      {
        "duration": 18951,
        "start_time": "2022-06-20T15:58:40.626Z"
      },
      {
        "duration": 249,
        "start_time": "2022-06-20T15:58:59.579Z"
      },
      {
        "duration": 106,
        "start_time": "2022-06-20T15:58:59.831Z"
      },
      {
        "duration": 405,
        "start_time": "2022-06-20T15:58:59.940Z"
      },
      {
        "duration": 23772,
        "start_time": "2022-06-20T15:59:00.346Z"
      },
      {
        "duration": 418,
        "start_time": "2022-06-20T15:59:24.119Z"
      },
      {
        "duration": 206,
        "start_time": "2022-06-20T15:59:24.539Z"
      },
      {
        "duration": 94,
        "start_time": "2022-06-20T15:59:24.747Z"
      },
      {
        "duration": 306,
        "start_time": "2022-06-20T15:59:24.844Z"
      },
      {
        "duration": 10741,
        "start_time": "2022-06-20T15:59:25.153Z"
      },
      {
        "duration": 33,
        "start_time": "2022-06-20T15:59:35.896Z"
      },
      {
        "duration": 481,
        "start_time": "2022-06-20T15:59:35.932Z"
      },
      {
        "duration": 3,
        "start_time": "2022-06-20T15:59:36.414Z"
      },
      {
        "duration": 6,
        "start_time": "2022-06-20T15:59:36.425Z"
      },
      {
        "duration": 11,
        "start_time": "2022-06-20T16:11:06.838Z"
      },
      {
        "duration": 184,
        "start_time": "2022-06-20T16:11:07.360Z"
      },
      {
        "duration": 10693,
        "start_time": "2022-06-20T16:11:08.029Z"
      },
      {
        "duration": 109,
        "start_time": "2022-06-20T16:11:18.726Z"
      },
      {
        "duration": 74,
        "start_time": "2022-06-20T16:13:05.064Z"
      },
      {
        "duration": 12553,
        "start_time": "2022-06-20T16:13:29.867Z"
      },
      {
        "duration": 219,
        "start_time": "2022-06-20T16:13:42.425Z"
      },
      {
        "duration": 442,
        "start_time": "2022-06-20T16:16:22.638Z"
      },
      {
        "duration": 16,
        "start_time": "2022-06-20T16:16:37.478Z"
      },
      {
        "duration": 14591,
        "start_time": "2022-06-20T16:16:40.131Z"
      },
      {
        "duration": 367,
        "start_time": "2022-06-20T16:17:24.251Z"
      },
      {
        "duration": 12,
        "start_time": "2022-06-20T16:17:32.569Z"
      },
      {
        "duration": 1545,
        "start_time": "2022-06-20T16:17:48.550Z"
      },
      {
        "duration": 66,
        "start_time": "2022-06-20T16:17:50.097Z"
      },
      {
        "duration": 17,
        "start_time": "2022-06-20T16:17:50.164Z"
      },
      {
        "duration": 6,
        "start_time": "2022-06-20T16:17:50.184Z"
      },
      {
        "duration": 42,
        "start_time": "2022-06-20T16:17:50.192Z"
      },
      {
        "duration": 6,
        "start_time": "2022-06-20T16:17:50.236Z"
      },
      {
        "duration": 15,
        "start_time": "2022-06-20T16:17:50.244Z"
      },
      {
        "duration": 17,
        "start_time": "2022-06-20T16:17:50.260Z"
      },
      {
        "duration": 5,
        "start_time": "2022-06-20T16:17:50.278Z"
      },
      {
        "duration": 10,
        "start_time": "2022-06-20T16:17:50.285Z"
      },
      {
        "duration": 28,
        "start_time": "2022-06-20T16:17:50.297Z"
      },
      {
        "duration": 8,
        "start_time": "2022-06-20T16:17:50.327Z"
      },
      {
        "duration": 20,
        "start_time": "2022-06-20T16:17:50.337Z"
      },
      {
        "duration": 13,
        "start_time": "2022-06-20T16:17:50.359Z"
      },
      {
        "duration": 7,
        "start_time": "2022-06-20T16:17:50.374Z"
      },
      {
        "duration": 49,
        "start_time": "2022-06-20T16:17:50.383Z"
      },
      {
        "duration": 362,
        "start_time": "2022-06-20T16:17:50.436Z"
      },
      {
        "duration": 18774,
        "start_time": "2022-06-20T16:17:50.800Z"
      },
      {
        "duration": 154,
        "start_time": "2022-06-20T16:18:09.576Z"
      },
      {
        "duration": 102,
        "start_time": "2022-06-20T16:18:09.733Z"
      },
      {
        "duration": 422,
        "start_time": "2022-06-20T16:18:09.838Z"
      },
      {
        "duration": 18485,
        "start_time": "2022-06-20T16:18:10.262Z"
      },
      {
        "duration": 288,
        "start_time": "2022-06-20T16:18:28.756Z"
      },
      {
        "duration": 107,
        "start_time": "2022-06-20T16:18:29.046Z"
      },
      {
        "duration": 454,
        "start_time": "2022-06-20T16:18:29.157Z"
      },
      {
        "duration": 25967,
        "start_time": "2022-06-20T16:18:29.613Z"
      },
      {
        "duration": 165,
        "start_time": "2022-06-20T16:18:55.584Z"
      },
      {
        "duration": 72,
        "start_time": "2022-06-20T16:18:55.758Z"
      },
      {
        "duration": 270,
        "start_time": "2022-06-20T16:18:55.833Z"
      },
      {
        "duration": 13451,
        "start_time": "2022-06-20T16:18:56.106Z"
      },
      {
        "duration": 90,
        "start_time": "2022-06-20T16:19:09.560Z"
      },
      {
        "duration": 485,
        "start_time": "2022-06-20T16:19:09.665Z"
      },
      {
        "duration": 1540,
        "start_time": "2022-06-20T16:59:53.836Z"
      },
      {
        "duration": 177,
        "start_time": "2022-06-20T16:59:55.378Z"
      },
      {
        "duration": 13,
        "start_time": "2022-06-20T16:59:55.557Z"
      },
      {
        "duration": 5,
        "start_time": "2022-06-20T17:00:01.878Z"
      },
      {
        "duration": 30,
        "start_time": "2022-06-20T17:00:02.866Z"
      },
      {
        "duration": 6,
        "start_time": "2022-06-20T17:00:05.075Z"
      },
      {
        "duration": 4,
        "start_time": "2022-06-20T17:00:13.842Z"
      },
      {
        "duration": 14,
        "start_time": "2022-06-20T17:00:47.845Z"
      },
      {
        "duration": 5,
        "start_time": "2022-06-20T17:01:34.156Z"
      },
      {
        "duration": 16,
        "start_time": "2022-06-20T17:01:43.229Z"
      },
      {
        "duration": 11,
        "start_time": "2022-06-20T17:02:14.960Z"
      },
      {
        "duration": 7,
        "start_time": "2022-06-20T17:02:22.580Z"
      },
      {
        "duration": 3,
        "start_time": "2022-06-20T17:02:51.959Z"
      },
      {
        "duration": 4,
        "start_time": "2022-06-20T17:02:52.265Z"
      },
      {
        "duration": 4,
        "start_time": "2022-06-20T17:02:52.648Z"
      },
      {
        "duration": 3,
        "start_time": "2022-06-20T17:02:56.525Z"
      },
      {
        "duration": 32,
        "start_time": "2022-06-20T17:03:09.096Z"
      },
      {
        "duration": 18817,
        "start_time": "2022-06-20T17:17:05.624Z"
      },
      {
        "duration": 28188,
        "start_time": "2022-06-20T17:18:38.942Z"
      },
      {
        "duration": 26134,
        "start_time": "2022-06-20T17:19:18.427Z"
      },
      {
        "duration": 15308,
        "start_time": "2022-06-20T17:20:56.958Z"
      },
      {
        "duration": 7,
        "start_time": "2022-06-20T17:21:53.180Z"
      },
      {
        "duration": 8,
        "start_time": "2022-06-20T17:21:59.575Z"
      },
      {
        "duration": 8,
        "start_time": "2022-06-20T17:22:04.688Z"
      },
      {
        "duration": 8,
        "start_time": "2022-06-20T17:22:26.639Z"
      },
      {
        "duration": 6,
        "start_time": "2022-06-20T17:22:38.050Z"
      },
      {
        "duration": 5,
        "start_time": "2022-06-20T17:22:42.250Z"
      },
      {
        "duration": 5,
        "start_time": "2022-06-20T17:22:52.726Z"
      },
      {
        "duration": 5,
        "start_time": "2022-06-20T17:22:59.350Z"
      },
      {
        "duration": 5,
        "start_time": "2022-06-20T17:23:06.157Z"
      },
      {
        "duration": 4,
        "start_time": "2022-06-20T17:23:15.862Z"
      },
      {
        "duration": 3212,
        "start_time": "2022-06-20T17:23:21.348Z"
      },
      {
        "duration": 67,
        "start_time": "2022-06-20T17:23:30.233Z"
      },
      {
        "duration": 72,
        "start_time": "2022-06-20T17:23:40.447Z"
      },
      {
        "duration": 1514,
        "start_time": "2022-06-21T07:51:45.198Z"
      },
      {
        "duration": 89,
        "start_time": "2022-06-21T07:51:46.714Z"
      },
      {
        "duration": 12,
        "start_time": "2022-06-21T07:51:46.805Z"
      },
      {
        "duration": 4,
        "start_time": "2022-06-21T07:51:46.819Z"
      },
      {
        "duration": 22,
        "start_time": "2022-06-21T07:51:46.825Z"
      },
      {
        "duration": 5,
        "start_time": "2022-06-21T07:51:46.848Z"
      },
      {
        "duration": 8,
        "start_time": "2022-06-21T07:51:46.855Z"
      },
      {
        "duration": 16,
        "start_time": "2022-06-21T07:51:46.864Z"
      },
      {
        "duration": 3,
        "start_time": "2022-06-21T07:51:46.882Z"
      },
      {
        "duration": 10,
        "start_time": "2022-06-21T07:51:46.887Z"
      },
      {
        "duration": 7,
        "start_time": "2022-06-21T07:51:46.899Z"
      },
      {
        "duration": 4,
        "start_time": "2022-06-21T07:51:46.907Z"
      },
      {
        "duration": 5,
        "start_time": "2022-06-21T07:51:46.913Z"
      },
      {
        "duration": 9,
        "start_time": "2022-06-21T07:51:46.920Z"
      },
      {
        "duration": 9,
        "start_time": "2022-06-21T07:51:46.930Z"
      },
      {
        "duration": 34,
        "start_time": "2022-06-21T07:51:46.940Z"
      },
      {
        "duration": 379,
        "start_time": "2022-06-21T07:51:46.976Z"
      },
      {
        "duration": 16888,
        "start_time": "2022-06-21T07:51:47.356Z"
      },
      {
        "duration": 91,
        "start_time": "2022-06-21T07:52:04.246Z"
      },
      {
        "duration": 186,
        "start_time": "2022-06-21T07:52:04.341Z"
      },
      {
        "duration": 338,
        "start_time": "2022-06-21T07:52:04.529Z"
      },
      {
        "duration": 17011,
        "start_time": "2022-06-21T07:52:04.868Z"
      },
      {
        "duration": 346,
        "start_time": "2022-06-21T07:52:21.881Z"
      },
      {
        "duration": 105,
        "start_time": "2022-06-21T07:52:22.230Z"
      },
      {
        "duration": 416,
        "start_time": "2022-06-21T07:52:22.337Z"
      },
      {
        "duration": 21783,
        "start_time": "2022-06-21T07:52:22.755Z"
      },
      {
        "duration": 89,
        "start_time": "2022-06-21T07:52:44.539Z"
      },
      {
        "duration": 102,
        "start_time": "2022-06-21T07:52:44.632Z"
      },
      {
        "duration": 191,
        "start_time": "2022-06-21T07:52:44.736Z"
      },
      {
        "duration": 10961,
        "start_time": "2022-06-21T07:52:44.928Z"
      },
      {
        "duration": 45,
        "start_time": "2022-06-21T07:52:55.890Z"
      },
      {
        "duration": 489,
        "start_time": "2022-06-21T07:52:55.937Z"
      },
      {
        "duration": 28,
        "start_time": "2022-06-21T07:53:13.749Z"
      },
      {
        "duration": 28,
        "start_time": "2022-06-21T07:53:55.725Z"
      },
      {
        "duration": 12,
        "start_time": "2022-06-21T07:53:59.012Z"
      },
      {
        "duration": 24,
        "start_time": "2022-06-21T07:56:22.651Z"
      },
      {
        "duration": 33,
        "start_time": "2022-06-21T07:56:28.078Z"
      },
      {
        "duration": 35,
        "start_time": "2022-06-21T07:56:37.137Z"
      },
      {
        "duration": 33,
        "start_time": "2022-06-21T07:56:54.855Z"
      },
      {
        "duration": 42,
        "start_time": "2022-06-21T08:00:32.325Z"
      },
      {
        "duration": 37,
        "start_time": "2022-06-21T08:00:42.279Z"
      },
      {
        "duration": 25,
        "start_time": "2022-06-21T08:01:54.798Z"
      },
      {
        "duration": 5,
        "start_time": "2022-06-21T08:01:59.917Z"
      },
      {
        "duration": 96,
        "start_time": "2022-06-21T08:01:59.923Z"
      },
      {
        "duration": 22,
        "start_time": "2022-06-21T08:02:00.021Z"
      },
      {
        "duration": 32,
        "start_time": "2022-06-21T08:02:00.045Z"
      },
      {
        "duration": 44,
        "start_time": "2022-06-21T08:02:00.079Z"
      },
      {
        "duration": 34,
        "start_time": "2022-06-21T08:02:00.125Z"
      },
      {
        "duration": 47,
        "start_time": "2022-06-21T08:02:00.161Z"
      },
      {
        "duration": 80,
        "start_time": "2022-06-21T08:02:00.209Z"
      },
      {
        "duration": 69,
        "start_time": "2022-06-21T08:02:00.291Z"
      },
      {
        "duration": 53,
        "start_time": "2022-06-21T08:02:00.361Z"
      },
      {
        "duration": 58,
        "start_time": "2022-06-21T08:02:00.417Z"
      },
      {
        "duration": 65,
        "start_time": "2022-06-21T08:02:00.476Z"
      },
      {
        "duration": 48,
        "start_time": "2022-06-21T08:02:00.543Z"
      },
      {
        "duration": 50,
        "start_time": "2022-06-21T08:02:00.592Z"
      },
      {
        "duration": 40,
        "start_time": "2022-06-21T08:02:00.644Z"
      },
      {
        "duration": 45,
        "start_time": "2022-06-21T08:02:00.686Z"
      },
      {
        "duration": 380,
        "start_time": "2022-06-21T08:02:00.733Z"
      },
      {
        "duration": 19257,
        "start_time": "2022-06-21T08:02:01.114Z"
      },
      {
        "duration": 373,
        "start_time": "2022-06-21T08:02:20.374Z"
      },
      {
        "duration": 12,
        "start_time": "2022-06-21T08:02:20.833Z"
      },
      {
        "duration": 433,
        "start_time": "2022-06-21T08:02:20.847Z"
      },
      {
        "duration": 17877,
        "start_time": "2022-06-21T08:02:21.282Z"
      },
      {
        "duration": 287,
        "start_time": "2022-06-21T08:02:39.161Z"
      },
      {
        "duration": 191,
        "start_time": "2022-06-21T08:02:39.449Z"
      },
      {
        "duration": 399,
        "start_time": "2022-06-21T08:02:39.642Z"
      },
      {
        "duration": 23110,
        "start_time": "2022-06-21T08:02:40.043Z"
      },
      {
        "duration": 83,
        "start_time": "2022-06-21T08:03:03.155Z"
      },
      {
        "duration": 106,
        "start_time": "2022-06-21T08:03:03.241Z"
      },
      {
        "duration": 280,
        "start_time": "2022-06-21T08:03:03.351Z"
      },
      {
        "duration": 11140,
        "start_time": "2022-06-21T08:03:03.641Z"
      },
      {
        "duration": 57,
        "start_time": "2022-06-21T08:03:14.782Z"
      },
      {
        "duration": 490,
        "start_time": "2022-06-21T08:03:14.842Z"
      },
      {
        "duration": 17935,
        "start_time": "2022-06-21T08:04:57.739Z"
      },
      {
        "duration": 18078,
        "start_time": "2022-06-21T08:05:15.676Z"
      },
      {
        "duration": 23682,
        "start_time": "2022-06-21T08:05:33.756Z"
      },
      {
        "duration": 11785,
        "start_time": "2022-06-21T08:05:57.441Z"
      },
      {
        "duration": 17265,
        "start_time": "2022-06-21T08:08:14.839Z"
      },
      {
        "duration": 381,
        "start_time": "2022-06-21T08:09:30.581Z"
      },
      {
        "duration": 4,
        "start_time": "2022-06-21T08:10:04.852Z"
      },
      {
        "duration": 85,
        "start_time": "2022-06-21T08:10:04.858Z"
      },
      {
        "duration": 14,
        "start_time": "2022-06-21T08:10:04.945Z"
      },
      {
        "duration": 6,
        "start_time": "2022-06-21T08:10:04.961Z"
      },
      {
        "duration": 21,
        "start_time": "2022-06-21T08:10:04.968Z"
      },
      {
        "duration": 5,
        "start_time": "2022-06-21T08:10:04.991Z"
      },
      {
        "duration": 5,
        "start_time": "2022-06-21T08:10:04.998Z"
      },
      {
        "duration": 41,
        "start_time": "2022-06-21T08:10:05.004Z"
      },
      {
        "duration": 17,
        "start_time": "2022-06-21T08:10:05.048Z"
      },
      {
        "duration": 16,
        "start_time": "2022-06-21T08:10:05.067Z"
      },
      {
        "duration": 14,
        "start_time": "2022-06-21T08:10:05.085Z"
      },
      {
        "duration": 9,
        "start_time": "2022-06-21T08:10:05.101Z"
      },
      {
        "duration": 9,
        "start_time": "2022-06-21T08:10:05.112Z"
      },
      {
        "duration": 42,
        "start_time": "2022-06-21T08:10:05.123Z"
      },
      {
        "duration": 12,
        "start_time": "2022-06-21T08:10:05.167Z"
      },
      {
        "duration": 32,
        "start_time": "2022-06-21T08:10:05.180Z"
      },
      {
        "duration": 377,
        "start_time": "2022-06-21T08:10:05.214Z"
      },
      {
        "duration": 19443,
        "start_time": "2022-06-21T08:10:05.592Z"
      },
      {
        "duration": 301,
        "start_time": "2022-06-21T08:10:25.038Z"
      },
      {
        "duration": 100,
        "start_time": "2022-06-21T08:10:25.352Z"
      },
      {
        "duration": 445,
        "start_time": "2022-06-21T08:10:25.459Z"
      },
      {
        "duration": 1546,
        "start_time": "2022-06-21T08:10:42.117Z"
      },
      {
        "duration": 54,
        "start_time": "2022-06-21T08:10:43.665Z"
      },
      {
        "duration": 14,
        "start_time": "2022-06-21T08:10:43.720Z"
      },
      {
        "duration": 35,
        "start_time": "2022-06-21T08:10:43.736Z"
      },
      {
        "duration": 24,
        "start_time": "2022-06-21T08:10:43.773Z"
      },
      {
        "duration": 5,
        "start_time": "2022-06-21T08:10:43.799Z"
      },
      {
        "duration": 5,
        "start_time": "2022-06-21T08:10:43.806Z"
      },
      {
        "duration": 20,
        "start_time": "2022-06-21T08:10:43.812Z"
      },
      {
        "duration": 21,
        "start_time": "2022-06-21T08:10:43.834Z"
      },
      {
        "duration": 10,
        "start_time": "2022-06-21T08:10:43.858Z"
      },
      {
        "duration": 8,
        "start_time": "2022-06-21T08:10:43.870Z"
      },
      {
        "duration": 7,
        "start_time": "2022-06-21T08:10:43.880Z"
      },
      {
        "duration": 12,
        "start_time": "2022-06-21T08:10:43.888Z"
      },
      {
        "duration": 5,
        "start_time": "2022-06-21T08:10:43.901Z"
      },
      {
        "duration": 5,
        "start_time": "2022-06-21T08:10:43.908Z"
      },
      {
        "duration": 44,
        "start_time": "2022-06-21T08:10:43.914Z"
      },
      {
        "duration": 358,
        "start_time": "2022-06-21T08:10:43.961Z"
      },
      {
        "duration": 19247,
        "start_time": "2022-06-21T08:10:44.321Z"
      },
      {
        "duration": 268,
        "start_time": "2022-06-21T08:11:03.570Z"
      },
      {
        "duration": 93,
        "start_time": "2022-06-21T08:11:03.842Z"
      },
      {
        "duration": 459,
        "start_time": "2022-06-21T08:11:03.937Z"
      },
      {
        "duration": 19599,
        "start_time": "2022-06-21T08:11:04.398Z"
      },
      {
        "duration": 346,
        "start_time": "2022-06-21T08:11:23.999Z"
      },
      {
        "duration": 106,
        "start_time": "2022-06-21T08:11:24.350Z"
      },
      {
        "duration": 540,
        "start_time": "2022-06-21T08:11:24.458Z"
      },
      {
        "duration": 24986,
        "start_time": "2022-06-21T08:11:25.000Z"
      },
      {
        "duration": 57,
        "start_time": "2022-06-21T08:11:49.988Z"
      },
      {
        "duration": 102,
        "start_time": "2022-06-21T08:11:50.054Z"
      },
      {
        "duration": 277,
        "start_time": "2022-06-21T08:11:50.160Z"
      },
      {
        "duration": 12532,
        "start_time": "2022-06-21T08:11:50.440Z"
      },
      {
        "duration": 55,
        "start_time": "2022-06-21T08:12:02.975Z"
      },
      {
        "duration": 504,
        "start_time": "2022-06-21T08:12:03.032Z"
      },
      {
        "duration": 1762,
        "start_time": "2022-06-21T08:12:57.601Z"
      },
      {
        "duration": 52,
        "start_time": "2022-06-21T08:12:59.365Z"
      },
      {
        "duration": 17,
        "start_time": "2022-06-21T08:12:59.419Z"
      },
      {
        "duration": 32,
        "start_time": "2022-06-21T08:12:59.439Z"
      },
      {
        "duration": 28,
        "start_time": "2022-06-21T08:12:59.473Z"
      },
      {
        "duration": 6,
        "start_time": "2022-06-21T08:12:59.503Z"
      },
      {
        "duration": 19,
        "start_time": "2022-06-21T08:12:59.511Z"
      },
      {
        "duration": 48,
        "start_time": "2022-06-21T08:12:59.533Z"
      },
      {
        "duration": 5,
        "start_time": "2022-06-21T08:12:59.583Z"
      },
      {
        "duration": 9,
        "start_time": "2022-06-21T08:12:59.591Z"
      },
      {
        "duration": 14,
        "start_time": "2022-06-21T08:12:59.602Z"
      },
      {
        "duration": 7,
        "start_time": "2022-06-21T08:12:59.617Z"
      },
      {
        "duration": 33,
        "start_time": "2022-06-21T08:12:59.626Z"
      },
      {
        "duration": 11,
        "start_time": "2022-06-21T08:12:59.661Z"
      },
      {
        "duration": 13,
        "start_time": "2022-06-21T08:12:59.673Z"
      },
      {
        "duration": 33,
        "start_time": "2022-06-21T08:12:59.688Z"
      },
      {
        "duration": 354,
        "start_time": "2022-06-21T08:12:59.723Z"
      },
      {
        "duration": 30846,
        "start_time": "2022-06-21T08:13:00.078Z"
      },
      {
        "duration": 431,
        "start_time": "2022-06-21T08:13:30.926Z"
      },
      {
        "duration": 28,
        "start_time": "2022-06-21T08:13:31.429Z"
      },
      {
        "duration": 691,
        "start_time": "2022-06-21T08:13:31.467Z"
      },
      {
        "duration": 29719,
        "start_time": "2022-06-21T08:13:32.160Z"
      },
      {
        "duration": 447,
        "start_time": "2022-06-21T08:14:01.880Z"
      },
      {
        "duration": 104,
        "start_time": "2022-06-21T08:14:02.328Z"
      },
      {
        "duration": 675,
        "start_time": "2022-06-21T08:14:02.434Z"
      },
      {
        "duration": 37929,
        "start_time": "2022-06-21T08:14:03.111Z"
      },
      {
        "duration": 97,
        "start_time": "2022-06-21T08:14:41.041Z"
      },
      {
        "duration": 91,
        "start_time": "2022-06-21T08:14:41.142Z"
      },
      {
        "duration": 353,
        "start_time": "2022-06-21T08:14:41.235Z"
      },
      {
        "duration": 17189,
        "start_time": "2022-06-21T08:14:41.590Z"
      },
      {
        "duration": 55,
        "start_time": "2022-06-21T08:14:58.781Z"
      },
      {
        "duration": 533,
        "start_time": "2022-06-21T08:14:58.838Z"
      },
      {
        "duration": 375,
        "start_time": "2022-06-21T08:18:53.249Z"
      },
      {
        "duration": 376,
        "start_time": "2022-06-21T08:19:13.207Z"
      },
      {
        "duration": 84,
        "start_time": "2022-06-21T08:19:37.317Z"
      },
      {
        "duration": 71,
        "start_time": "2022-06-21T08:20:25.839Z"
      },
      {
        "duration": 12,
        "start_time": "2022-06-21T08:23:23.092Z"
      },
      {
        "duration": 19,
        "start_time": "2022-06-21T08:23:29.724Z"
      },
      {
        "duration": 13,
        "start_time": "2022-06-21T08:23:38.038Z"
      },
      {
        "duration": 5,
        "start_time": "2022-06-21T08:23:42.541Z"
      },
      {
        "duration": 4,
        "start_time": "2022-06-21T08:23:43.938Z"
      },
      {
        "duration": 6,
        "start_time": "2022-06-21T08:24:08.416Z"
      },
      {
        "duration": 6,
        "start_time": "2022-06-21T08:25:21.378Z"
      },
      {
        "duration": 5,
        "start_time": "2022-06-21T08:25:28.540Z"
      },
      {
        "duration": 4,
        "start_time": "2022-06-21T08:25:32.466Z"
      },
      {
        "duration": 107,
        "start_time": "2022-06-21T08:27:32.462Z"
      },
      {
        "duration": 11,
        "start_time": "2022-06-21T08:27:37.579Z"
      },
      {
        "duration": 18,
        "start_time": "2022-06-21T08:28:06.070Z"
      },
      {
        "duration": 14,
        "start_time": "2022-06-21T08:28:15.794Z"
      },
      {
        "duration": 4,
        "start_time": "2022-06-21T08:28:25.754Z"
      },
      {
        "duration": 4,
        "start_time": "2022-06-21T08:28:26.818Z"
      },
      {
        "duration": 12,
        "start_time": "2022-06-21T08:28:30.281Z"
      },
      {
        "duration": 13,
        "start_time": "2022-06-21T08:28:36.553Z"
      },
      {
        "duration": 11,
        "start_time": "2022-06-21T08:28:54.213Z"
      },
      {
        "duration": 453,
        "start_time": "2022-06-21T08:29:09.649Z"
      },
      {
        "duration": 14,
        "start_time": "2022-06-21T08:29:32.738Z"
      },
      {
        "duration": 450,
        "start_time": "2022-06-21T08:29:35.008Z"
      },
      {
        "duration": 1500,
        "start_time": "2022-06-21T08:32:03.189Z"
      },
      {
        "duration": 59,
        "start_time": "2022-06-21T08:32:04.692Z"
      },
      {
        "duration": 13,
        "start_time": "2022-06-21T08:32:04.752Z"
      },
      {
        "duration": 10,
        "start_time": "2022-06-21T08:32:04.767Z"
      },
      {
        "duration": 21,
        "start_time": "2022-06-21T08:32:04.778Z"
      },
      {
        "duration": 7,
        "start_time": "2022-06-21T08:32:04.801Z"
      },
      {
        "duration": 25,
        "start_time": "2022-06-21T08:32:04.810Z"
      },
      {
        "duration": 22,
        "start_time": "2022-06-21T08:32:04.837Z"
      },
      {
        "duration": 5,
        "start_time": "2022-06-21T08:32:04.861Z"
      },
      {
        "duration": 10,
        "start_time": "2022-06-21T08:32:04.869Z"
      },
      {
        "duration": 5,
        "start_time": "2022-06-21T08:32:04.881Z"
      },
      {
        "duration": 4,
        "start_time": "2022-06-21T08:32:04.888Z"
      },
      {
        "duration": 5,
        "start_time": "2022-06-21T08:32:04.894Z"
      },
      {
        "duration": 6,
        "start_time": "2022-06-21T08:32:04.900Z"
      },
      {
        "duration": 4,
        "start_time": "2022-06-21T08:32:04.908Z"
      },
      {
        "duration": 45,
        "start_time": "2022-06-21T08:32:04.913Z"
      },
      {
        "duration": 330,
        "start_time": "2022-06-21T08:32:04.960Z"
      },
      {
        "duration": 28344,
        "start_time": "2022-06-21T08:32:05.291Z"
      },
      {
        "duration": 606,
        "start_time": "2022-06-21T08:32:33.639Z"
      },
      {
        "duration": 82,
        "start_time": "2022-06-21T08:32:34.250Z"
      },
      {
        "duration": 549,
        "start_time": "2022-06-21T08:32:34.334Z"
      },
      {
        "duration": 28529,
        "start_time": "2022-06-21T08:32:34.885Z"
      },
      {
        "duration": 321,
        "start_time": "2022-06-21T08:33:03.415Z"
      },
      {
        "duration": 112,
        "start_time": "2022-06-21T08:33:03.745Z"
      },
      {
        "duration": 658,
        "start_time": "2022-06-21T08:33:03.858Z"
      },
      {
        "duration": 37682,
        "start_time": "2022-06-21T08:33:04.518Z"
      },
      {
        "duration": 125,
        "start_time": "2022-06-21T08:33:42.201Z"
      },
      {
        "duration": 99,
        "start_time": "2022-06-21T08:33:42.332Z"
      },
      {
        "duration": 285,
        "start_time": "2022-06-21T08:33:42.433Z"
      },
      {
        "duration": 17195,
        "start_time": "2022-06-21T08:33:42.720Z"
      },
      {
        "duration": 36,
        "start_time": "2022-06-21T08:33:59.916Z"
      },
      {
        "duration": 459,
        "start_time": "2022-06-21T08:34:00.034Z"
      },
      {
        "duration": 11,
        "start_time": "2022-06-21T08:34:00.495Z"
      },
      {
        "duration": 497,
        "start_time": "2022-06-21T08:34:00.508Z"
      },
      {
        "duration": 56,
        "start_time": "2022-06-21T16:11:55.887Z"
      },
      {
        "duration": 1724,
        "start_time": "2022-06-21T16:12:00.238Z"
      },
      {
        "duration": 195,
        "start_time": "2022-06-21T16:12:01.966Z"
      },
      {
        "duration": 16,
        "start_time": "2022-06-21T16:12:02.166Z"
      },
      {
        "duration": 6,
        "start_time": "2022-06-21T16:12:02.184Z"
      },
      {
        "duration": 30,
        "start_time": "2022-06-21T16:12:02.192Z"
      },
      {
        "duration": 6,
        "start_time": "2022-06-21T16:12:02.224Z"
      },
      {
        "duration": 27,
        "start_time": "2022-06-21T16:12:02.232Z"
      },
      {
        "duration": 37,
        "start_time": "2022-06-21T16:12:04.211Z"
      },
      {
        "duration": 269,
        "start_time": "2022-06-21T16:12:25.048Z"
      },
      {
        "duration": 209,
        "start_time": "2022-06-21T16:12:43.587Z"
      },
      {
        "duration": 205,
        "start_time": "2022-06-21T16:12:53.617Z"
      },
      {
        "duration": 43,
        "start_time": "2022-06-21T16:13:53.082Z"
      },
      {
        "duration": 12,
        "start_time": "2022-06-21T16:14:34.640Z"
      }
    ],
    "kernelspec": {
      "name": "python",
      "display_name": "Pyolite",
      "language": "python"
    },
    "language_info": {
      "codemirror_mode": {
        "name": "python",
        "version": 3
      },
      "file_extension": ".py",
      "mimetype": "text/x-python",
      "name": "python",
      "nbconvert_exporter": "python",
      "pygments_lexer": "ipython3",
      "version": "3.8"
    },
    "toc": {
      "base_numbering": 1,
      "nav_menu": {},
      "number_sections": true,
      "sideBar": true,
      "skip_h1_title": true,
      "title_cell": "Содержание",
      "title_sidebar": "Contents",
      "toc_cell": true,
      "toc_position": {
        "height": "calc(100% - 180px)",
        "left": "10px",
        "top": "150px",
        "width": "286.4px"
      },
      "toc_section_display": true,
      "toc_window_display": false
    }
  },
  "nbformat_minor": 4,
  "nbformat": 4,
  "cells": [
    {
      "cell_type": "markdown",
      "source": "<h1>Содержание<span class=\"tocSkip\"></span></h1>\n<div class=\"toc\"><ul class=\"toc-item\"><li><span><a href=\"#Подготовка-данных\" data-toc-modified-id=\"Подготовка-данных-1\"><span class=\"toc-item-num\">1&nbsp;&nbsp;</span>Подготовка данных</a></span></li><li><span><a href=\"#Исследование-задачи\" data-toc-modified-id=\"Исследование-задачи-2\"><span class=\"toc-item-num\">2&nbsp;&nbsp;</span>Исследование задачи</a></span></li><li><span><a href=\"#Борьба-с-дисбалансом\" data-toc-modified-id=\"Борьба-с-дисбалансом-3\"><span class=\"toc-item-num\">3&nbsp;&nbsp;</span>Борьба с дисбалансом</a></span><ul class=\"toc-item\"><li><span><a href=\"#Class-weight\" data-toc-modified-id=\"Class-weight-3.1\"><span class=\"toc-item-num\">3.1&nbsp;&nbsp;</span>Class weight</a></span></li><li><span><a href=\"#Upsample\" data-toc-modified-id=\"Upsample-3.2\"><span class=\"toc-item-num\">3.2&nbsp;&nbsp;</span>Upsample</a></span></li><li><span><a href=\"#Downsample\" data-toc-modified-id=\"Downsample-3.3\"><span class=\"toc-item-num\">3.3&nbsp;&nbsp;</span>Downsample</a></span></li></ul></li><li><span><a href=\"#Тестирование-модели\" data-toc-modified-id=\"Тестирование-модели-4\"><span class=\"toc-item-num\">4&nbsp;&nbsp;</span>Тестирование модели</a></span></li><li><span><a href=\"#Чек-лист-готовности-проекта\" data-toc-modified-id=\"Чек-лист-готовности-проекта-5\"><span class=\"toc-item-num\">5&nbsp;&nbsp;</span>Чек-лист готовности проекта</a></span></li></ul></div>",
      "metadata": {
        "toc": true
      }
    },
    {
      "cell_type": "markdown",
      "source": "# Отток клиентов",
      "metadata": {}
    },
    {
      "cell_type": "markdown",
      "source": "Из «Бета-Банка» стали уходить клиенты. Каждый месяц. Немного, но заметно. Банковские маркетологи посчитали: сохранять текущих клиентов дешевле, чем привлекать новых.\n\nНужно спрогнозировать, уйдёт клиент из банка в ближайшее время или нет. Нам предоставлены исторические данные о поведении клиентов и расторжении договоров с банком. \n\nПостройте модель с предельно большим значением *F1*-меры. \n\nИсточник данных: [https://www.kaggle.com/barelydedicated/bank-customer-churn-modeling](https://www.kaggle.com/barelydedicated/bank-customer-churn-modeling)",
      "metadata": {}
    },
    {
      "cell_type": "markdown",
      "source": "Признаки\n- RowNumber — индекс строки в данных\n- CustomerId — уникальный идентификатор клиента\n- Surname — фамилия\n- CreditScore — кредитный рейтинг\n- Geography — страна проживания\n- Gender — пол\n- Age — возраст\n- Tenure — сколько лет человек является клиентом банка\n- Balance — баланс на счёте\n- NumOfProducts — количество продуктов банка, используемых клиентом\n- HasCrCard — наличие кредитной карты\n- IsActiveMember — активность клиента\n- EstimatedSalary — предполагаемая зарплата\n\nЦелевой признак\n- Exited — факт ухода клиента",
      "metadata": {}
    },
    {
      "cell_type": "markdown",
      "source": "## Подготовка данных",
      "metadata": {}
    },
    {
      "cell_type": "code",
      "source": "import pandas as pd\nimport numpy as np\nimport matplotlib.pyplot as plt \nfrom sklearn.tree import DecisionTreeClassifier\nfrom sklearn.ensemble import RandomForestClassifier\nfrom sklearn.linear_model import LogisticRegression\nfrom sklearn.metrics import mean_squared_error, mean_absolute_error, accuracy_score, f1_score, recall_score, precision_score, roc_auc_score\nfrom sklearn.preprocessing import StandardScaler\nfrom sklearn.model_selection import train_test_split\nfrom sklearn.dummy import DummyClassifier\nfrom sklearn.utils import shuffle\nfrom sklearn.model_selection import GridSearchCV",
      "metadata": {},
      "execution_count": 2,
      "outputs": []
    },
    {
      "cell_type": "code",
      "source": "df = pd.read_csv('/datasets/Churn.csv')\ndf.head()",
      "metadata": {
        "scrolled": true
      },
      "execution_count": 3,
      "outputs": [
        {
          "execution_count": 3,
          "output_type": "execute_result",
          "data": {
            "text/html": [
              "<div>\n",
              "<style scoped>\n",
              "    .dataframe tbody tr th:only-of-type {\n",
              "        vertical-align: middle;\n",
              "    }\n",
              "\n",
              "    .dataframe tbody tr th {\n",
              "        vertical-align: top;\n",
              "    }\n",
              "\n",
              "    .dataframe thead th {\n",
              "        text-align: right;\n",
              "    }\n",
              "</style>\n",
              "<table border=\"1\" class=\"dataframe\">\n",
              "  <thead>\n",
              "    <tr style=\"text-align: right;\">\n",
              "      <th></th>\n",
              "      <th>RowNumber</th>\n",
              "      <th>CustomerId</th>\n",
              "      <th>Surname</th>\n",
              "      <th>CreditScore</th>\n",
              "      <th>Geography</th>\n",
              "      <th>Gender</th>\n",
              "      <th>Age</th>\n",
              "      <th>Tenure</th>\n",
              "      <th>Balance</th>\n",
              "      <th>NumOfProducts</th>\n",
              "      <th>HasCrCard</th>\n",
              "      <th>IsActiveMember</th>\n",
              "      <th>EstimatedSalary</th>\n",
              "      <th>Exited</th>\n",
              "    </tr>\n",
              "  </thead>\n",
              "  <tbody>\n",
              "    <tr>\n",
              "      <th>0</th>\n",
              "      <td>1</td>\n",
              "      <td>15634602</td>\n",
              "      <td>Hargrave</td>\n",
              "      <td>619</td>\n",
              "      <td>France</td>\n",
              "      <td>Female</td>\n",
              "      <td>42</td>\n",
              "      <td>2.0</td>\n",
              "      <td>0.00</td>\n",
              "      <td>1</td>\n",
              "      <td>1</td>\n",
              "      <td>1</td>\n",
              "      <td>101348.88</td>\n",
              "      <td>1</td>\n",
              "    </tr>\n",
              "    <tr>\n",
              "      <th>1</th>\n",
              "      <td>2</td>\n",
              "      <td>15647311</td>\n",
              "      <td>Hill</td>\n",
              "      <td>608</td>\n",
              "      <td>Spain</td>\n",
              "      <td>Female</td>\n",
              "      <td>41</td>\n",
              "      <td>1.0</td>\n",
              "      <td>83807.86</td>\n",
              "      <td>1</td>\n",
              "      <td>0</td>\n",
              "      <td>1</td>\n",
              "      <td>112542.58</td>\n",
              "      <td>0</td>\n",
              "    </tr>\n",
              "    <tr>\n",
              "      <th>2</th>\n",
              "      <td>3</td>\n",
              "      <td>15619304</td>\n",
              "      <td>Onio</td>\n",
              "      <td>502</td>\n",
              "      <td>France</td>\n",
              "      <td>Female</td>\n",
              "      <td>42</td>\n",
              "      <td>8.0</td>\n",
              "      <td>159660.80</td>\n",
              "      <td>3</td>\n",
              "      <td>1</td>\n",
              "      <td>0</td>\n",
              "      <td>113931.57</td>\n",
              "      <td>1</td>\n",
              "    </tr>\n",
              "    <tr>\n",
              "      <th>3</th>\n",
              "      <td>4</td>\n",
              "      <td>15701354</td>\n",
              "      <td>Boni</td>\n",
              "      <td>699</td>\n",
              "      <td>France</td>\n",
              "      <td>Female</td>\n",
              "      <td>39</td>\n",
              "      <td>1.0</td>\n",
              "      <td>0.00</td>\n",
              "      <td>2</td>\n",
              "      <td>0</td>\n",
              "      <td>0</td>\n",
              "      <td>93826.63</td>\n",
              "      <td>0</td>\n",
              "    </tr>\n",
              "    <tr>\n",
              "      <th>4</th>\n",
              "      <td>5</td>\n",
              "      <td>15737888</td>\n",
              "      <td>Mitchell</td>\n",
              "      <td>850</td>\n",
              "      <td>Spain</td>\n",
              "      <td>Female</td>\n",
              "      <td>43</td>\n",
              "      <td>2.0</td>\n",
              "      <td>125510.82</td>\n",
              "      <td>1</td>\n",
              "      <td>1</td>\n",
              "      <td>1</td>\n",
              "      <td>79084.10</td>\n",
              "      <td>0</td>\n",
              "    </tr>\n",
              "  </tbody>\n",
              "</table>\n",
              "</div>"
            ],
            "text/plain": [
              "   RowNumber  CustomerId   Surname  CreditScore Geography  Gender  Age  \\\n",
              "0          1    15634602  Hargrave          619    France  Female   42   \n",
              "1          2    15647311      Hill          608     Spain  Female   41   \n",
              "2          3    15619304      Onio          502    France  Female   42   \n",
              "3          4    15701354      Boni          699    France  Female   39   \n",
              "4          5    15737888  Mitchell          850     Spain  Female   43   \n",
              "\n",
              "   Tenure    Balance  NumOfProducts  HasCrCard  IsActiveMember  \\\n",
              "0     2.0       0.00              1          1               1   \n",
              "1     1.0   83807.86              1          0               1   \n",
              "2     8.0  159660.80              3          1               0   \n",
              "3     1.0       0.00              2          0               0   \n",
              "4     2.0  125510.82              1          1               1   \n",
              "\n",
              "   EstimatedSalary  Exited  \n",
              "0        101348.88       1  \n",
              "1        112542.58       0  \n",
              "2        113931.57       1  \n",
              "3         93826.63       0  \n",
              "4         79084.10       0  "
            ]
          },
          "metadata": {}
        }
      ]
    },
    {
      "cell_type": "code",
      "source": "df.info()",
      "metadata": {
        "scrolled": true
      },
      "execution_count": 4,
      "outputs": [
        {
          "name": "stdout",
          "output_type": "stream",
          "text": "<class 'pandas.core.frame.DataFrame'>\n\nRangeIndex: 10000 entries, 0 to 9999\n\nData columns (total 14 columns):\n\n #   Column           Non-Null Count  Dtype  \n\n---  ------           --------------  -----  \n\n 0   RowNumber        10000 non-null  int64  \n\n 1   CustomerId       10000 non-null  int64  \n\n 2   Surname          10000 non-null  object \n\n 3   CreditScore      10000 non-null  int64  \n\n 4   Geography        10000 non-null  object \n\n 5   Gender           10000 non-null  object \n\n 6   Age              10000 non-null  int64  \n\n 7   Tenure           9091 non-null   float64\n\n 8   Balance          10000 non-null  float64\n\n 9   NumOfProducts    10000 non-null  int64  \n\n 10  HasCrCard        10000 non-null  int64  \n\n 11  IsActiveMember   10000 non-null  int64  \n\n 12  EstimatedSalary  10000 non-null  float64\n\n 13  Exited           10000 non-null  int64  \n\ndtypes: float64(3), int64(8), object(3)\n\nmemory usage: 1.1+ MB\n"
        }
      ]
    },
    {
      "cell_type": "markdown",
      "source": "Как видим, столбцы записаны в CamelCase, а в стольбце `Tenure` присутсвуют пропуски.",
      "metadata": {}
    },
    {
      "cell_type": "code",
      "source": "df = df.rename(columns={'RowNumber':'row_number', 'CustomerId':'customer_id', 'CreditScore':'credit_score', \n                        'NumOfProducts':'num_of_products', 'HasCrCard':'has_cr_card', 'IsActiveMember':'is_active_member',\n                       'EstimatedSalary':'estimated_salary'})\ndf.columns = df.columns.str.lower()",
      "metadata": {},
      "execution_count": 5,
      "outputs": []
    },
    {
      "cell_type": "markdown",
      "source": "Привели название столбцов к змениному регистру.",
      "metadata": {}
    },
    {
      "cell_type": "code",
      "source": "df[df['tenure'].isna()]",
      "metadata": {
        "scrolled": true
      },
      "execution_count": 6,
      "outputs": [
        {
          "execution_count": 6,
          "output_type": "execute_result",
          "data": {
            "text/html": [
              "<div>\n",
              "<style scoped>\n",
              "    .dataframe tbody tr th:only-of-type {\n",
              "        vertical-align: middle;\n",
              "    }\n",
              "\n",
              "    .dataframe tbody tr th {\n",
              "        vertical-align: top;\n",
              "    }\n",
              "\n",
              "    .dataframe thead th {\n",
              "        text-align: right;\n",
              "    }\n",
              "</style>\n",
              "<table border=\"1\" class=\"dataframe\">\n",
              "  <thead>\n",
              "    <tr style=\"text-align: right;\">\n",
              "      <th></th>\n",
              "      <th>row_number</th>\n",
              "      <th>customer_id</th>\n",
              "      <th>surname</th>\n",
              "      <th>credit_score</th>\n",
              "      <th>geography</th>\n",
              "      <th>gender</th>\n",
              "      <th>age</th>\n",
              "      <th>tenure</th>\n",
              "      <th>balance</th>\n",
              "      <th>num_of_products</th>\n",
              "      <th>has_cr_card</th>\n",
              "      <th>is_active_member</th>\n",
              "      <th>estimated_salary</th>\n",
              "      <th>exited</th>\n",
              "    </tr>\n",
              "  </thead>\n",
              "  <tbody>\n",
              "    <tr>\n",
              "      <th>30</th>\n",
              "      <td>31</td>\n",
              "      <td>15589475</td>\n",
              "      <td>Azikiwe</td>\n",
              "      <td>591</td>\n",
              "      <td>Spain</td>\n",
              "      <td>Female</td>\n",
              "      <td>39</td>\n",
              "      <td>NaN</td>\n",
              "      <td>0.00</td>\n",
              "      <td>3</td>\n",
              "      <td>1</td>\n",
              "      <td>0</td>\n",
              "      <td>140469.38</td>\n",
              "      <td>1</td>\n",
              "    </tr>\n",
              "    <tr>\n",
              "      <th>48</th>\n",
              "      <td>49</td>\n",
              "      <td>15766205</td>\n",
              "      <td>Yin</td>\n",
              "      <td>550</td>\n",
              "      <td>Germany</td>\n",
              "      <td>Male</td>\n",
              "      <td>38</td>\n",
              "      <td>NaN</td>\n",
              "      <td>103391.38</td>\n",
              "      <td>1</td>\n",
              "      <td>0</td>\n",
              "      <td>1</td>\n",
              "      <td>90878.13</td>\n",
              "      <td>0</td>\n",
              "    </tr>\n",
              "    <tr>\n",
              "      <th>51</th>\n",
              "      <td>52</td>\n",
              "      <td>15768193</td>\n",
              "      <td>Trevisani</td>\n",
              "      <td>585</td>\n",
              "      <td>Germany</td>\n",
              "      <td>Male</td>\n",
              "      <td>36</td>\n",
              "      <td>NaN</td>\n",
              "      <td>146050.97</td>\n",
              "      <td>2</td>\n",
              "      <td>0</td>\n",
              "      <td>0</td>\n",
              "      <td>86424.57</td>\n",
              "      <td>0</td>\n",
              "    </tr>\n",
              "    <tr>\n",
              "      <th>53</th>\n",
              "      <td>54</td>\n",
              "      <td>15702298</td>\n",
              "      <td>Parkhill</td>\n",
              "      <td>655</td>\n",
              "      <td>Germany</td>\n",
              "      <td>Male</td>\n",
              "      <td>41</td>\n",
              "      <td>NaN</td>\n",
              "      <td>125561.97</td>\n",
              "      <td>1</td>\n",
              "      <td>0</td>\n",
              "      <td>0</td>\n",
              "      <td>164040.94</td>\n",
              "      <td>1</td>\n",
              "    </tr>\n",
              "    <tr>\n",
              "      <th>60</th>\n",
              "      <td>61</td>\n",
              "      <td>15651280</td>\n",
              "      <td>Hunter</td>\n",
              "      <td>742</td>\n",
              "      <td>Germany</td>\n",
              "      <td>Male</td>\n",
              "      <td>35</td>\n",
              "      <td>NaN</td>\n",
              "      <td>136857.00</td>\n",
              "      <td>1</td>\n",
              "      <td>0</td>\n",
              "      <td>0</td>\n",
              "      <td>84509.57</td>\n",
              "      <td>0</td>\n",
              "    </tr>\n",
              "    <tr>\n",
              "      <th>...</th>\n",
              "      <td>...</td>\n",
              "      <td>...</td>\n",
              "      <td>...</td>\n",
              "      <td>...</td>\n",
              "      <td>...</td>\n",
              "      <td>...</td>\n",
              "      <td>...</td>\n",
              "      <td>...</td>\n",
              "      <td>...</td>\n",
              "      <td>...</td>\n",
              "      <td>...</td>\n",
              "      <td>...</td>\n",
              "      <td>...</td>\n",
              "      <td>...</td>\n",
              "    </tr>\n",
              "    <tr>\n",
              "      <th>9944</th>\n",
              "      <td>9945</td>\n",
              "      <td>15703923</td>\n",
              "      <td>Cameron</td>\n",
              "      <td>744</td>\n",
              "      <td>Germany</td>\n",
              "      <td>Male</td>\n",
              "      <td>41</td>\n",
              "      <td>NaN</td>\n",
              "      <td>190409.34</td>\n",
              "      <td>2</td>\n",
              "      <td>1</td>\n",
              "      <td>1</td>\n",
              "      <td>138361.48</td>\n",
              "      <td>0</td>\n",
              "    </tr>\n",
              "    <tr>\n",
              "      <th>9956</th>\n",
              "      <td>9957</td>\n",
              "      <td>15707861</td>\n",
              "      <td>Nucci</td>\n",
              "      <td>520</td>\n",
              "      <td>France</td>\n",
              "      <td>Female</td>\n",
              "      <td>46</td>\n",
              "      <td>NaN</td>\n",
              "      <td>85216.61</td>\n",
              "      <td>1</td>\n",
              "      <td>1</td>\n",
              "      <td>0</td>\n",
              "      <td>117369.52</td>\n",
              "      <td>1</td>\n",
              "    </tr>\n",
              "    <tr>\n",
              "      <th>9964</th>\n",
              "      <td>9965</td>\n",
              "      <td>15642785</td>\n",
              "      <td>Douglas</td>\n",
              "      <td>479</td>\n",
              "      <td>France</td>\n",
              "      <td>Male</td>\n",
              "      <td>34</td>\n",
              "      <td>NaN</td>\n",
              "      <td>117593.48</td>\n",
              "      <td>2</td>\n",
              "      <td>0</td>\n",
              "      <td>0</td>\n",
              "      <td>113308.29</td>\n",
              "      <td>0</td>\n",
              "    </tr>\n",
              "    <tr>\n",
              "      <th>9985</th>\n",
              "      <td>9986</td>\n",
              "      <td>15586914</td>\n",
              "      <td>Nepean</td>\n",
              "      <td>659</td>\n",
              "      <td>France</td>\n",
              "      <td>Male</td>\n",
              "      <td>36</td>\n",
              "      <td>NaN</td>\n",
              "      <td>123841.49</td>\n",
              "      <td>2</td>\n",
              "      <td>1</td>\n",
              "      <td>0</td>\n",
              "      <td>96833.00</td>\n",
              "      <td>0</td>\n",
              "    </tr>\n",
              "    <tr>\n",
              "      <th>9999</th>\n",
              "      <td>10000</td>\n",
              "      <td>15628319</td>\n",
              "      <td>Walker</td>\n",
              "      <td>792</td>\n",
              "      <td>France</td>\n",
              "      <td>Female</td>\n",
              "      <td>28</td>\n",
              "      <td>NaN</td>\n",
              "      <td>130142.79</td>\n",
              "      <td>1</td>\n",
              "      <td>1</td>\n",
              "      <td>0</td>\n",
              "      <td>38190.78</td>\n",
              "      <td>0</td>\n",
              "    </tr>\n",
              "  </tbody>\n",
              "</table>\n",
              "<p>909 rows × 14 columns</p>\n",
              "</div>"
            ],
            "text/plain": [
              "      row_number  customer_id    surname  credit_score geography  gender  age  \\\n",
              "30            31     15589475    Azikiwe           591     Spain  Female   39   \n",
              "48            49     15766205        Yin           550   Germany    Male   38   \n",
              "51            52     15768193  Trevisani           585   Germany    Male   36   \n",
              "53            54     15702298   Parkhill           655   Germany    Male   41   \n",
              "60            61     15651280     Hunter           742   Germany    Male   35   \n",
              "...          ...          ...        ...           ...       ...     ...  ...   \n",
              "9944        9945     15703923    Cameron           744   Germany    Male   41   \n",
              "9956        9957     15707861      Nucci           520    France  Female   46   \n",
              "9964        9965     15642785    Douglas           479    France    Male   34   \n",
              "9985        9986     15586914     Nepean           659    France    Male   36   \n",
              "9999       10000     15628319     Walker           792    France  Female   28   \n",
              "\n",
              "      tenure    balance  num_of_products  has_cr_card  is_active_member  \\\n",
              "30       NaN       0.00                3            1                 0   \n",
              "48       NaN  103391.38                1            0                 1   \n",
              "51       NaN  146050.97                2            0                 0   \n",
              "53       NaN  125561.97                1            0                 0   \n",
              "60       NaN  136857.00                1            0                 0   \n",
              "...      ...        ...              ...          ...               ...   \n",
              "9944     NaN  190409.34                2            1                 1   \n",
              "9956     NaN   85216.61                1            1                 0   \n",
              "9964     NaN  117593.48                2            0                 0   \n",
              "9985     NaN  123841.49                2            1                 0   \n",
              "9999     NaN  130142.79                1            1                 0   \n",
              "\n",
              "      estimated_salary  exited  \n",
              "30           140469.38       1  \n",
              "48            90878.13       0  \n",
              "51            86424.57       0  \n",
              "53           164040.94       1  \n",
              "60            84509.57       0  \n",
              "...                ...     ...  \n",
              "9944         138361.48       0  \n",
              "9956         117369.52       1  \n",
              "9964         113308.29       0  \n",
              "9985          96833.00       0  \n",
              "9999          38190.78       0  \n",
              "\n",
              "[909 rows x 14 columns]"
            ]
          },
          "metadata": {}
        }
      ]
    },
    {
      "cell_type": "code",
      "source": "df['tenure'].value_counts()",
      "metadata": {},
      "execution_count": 7,
      "outputs": [
        {
          "execution_count": 7,
          "output_type": "execute_result",
          "data": {
            "text/plain": [
              "1.0     952\n",
              "2.0     950\n",
              "8.0     933\n",
              "3.0     928\n",
              "5.0     927\n",
              "7.0     925\n",
              "4.0     885\n",
              "9.0     882\n",
              "6.0     881\n",
              "10.0    446\n",
              "0.0     382\n",
              "Name: tenure, dtype: int64"
            ]
          },
          "metadata": {}
        }
      ]
    },
    {
      "cell_type": "markdown",
      "source": "Данный столбец отражает количество лет, которые человек является клиентом банка. Данные находятся в диапозоне от 0 до 10. Причины появления пропусков неясны. Для построения модели заполним пропуски нулями.",
      "metadata": {}
    },
    {
      "cell_type": "code",
      "source": "df['tenure'] = df['tenure'].fillna(0)",
      "metadata": {},
      "execution_count": 8,
      "outputs": []
    },
    {
      "cell_type": "markdown",
      "source": "Пропуски в столбце `tenure` заполнены.",
      "metadata": {}
    },
    {
      "cell_type": "code",
      "source": "df_ohe = df.join(pd.get_dummies(df[['geography', 'gender']], drop_first=True))\ndf_ohe = df_ohe.drop(columns = ['geography', 'gender'], axis = 1)",
      "metadata": {},
      "execution_count": 14,
      "outputs": []
    },
    {
      "cell_type": "markdown",
      "source": "Провели прямое кодирование категориальных переменных, чтобы избежать дамми-ловушку, удалили первые столбцы.",
      "metadata": {}
    },
    {
      "cell_type": "code",
      "source": "features = df_ohe.drop(columns = ['exited', 'row_number', 'surname', 'customer_id'], axis = 1)\ntarget = df_ohe['exited']",
      "metadata": {},
      "execution_count": 9,
      "outputs": []
    },
    {
      "cell_type": "markdown",
      "source": "Разделили целевой признак и объясняющие. Столбцы `row_number`, `surname`, `customer_id` исключили, так как они не являются признаками, оказывающими влияние на факт ухода клиента.",
      "metadata": {}
    },
    {
      "cell_type": "code",
      "source": "features_train, features_valid, target_train, target_valid = train_test_split(\n    features, target, test_size=0.4, random_state=12345, stratify=target)",
      "metadata": {},
      "execution_count": 10,
      "outputs": []
    },
    {
      "cell_type": "code",
      "source": "features_valid, features_test, target_valid, target_test = train_test_split(\n    features_valid, target_valid, test_size=0.5, random_state=12345, stratify=target_valid)",
      "metadata": {},
      "execution_count": 11,
      "outputs": []
    },
    {
      "cell_type": "code",
      "source": "features_train.shape",
      "metadata": {},
      "execution_count": 12,
      "outputs": [
        {
          "execution_count": 12,
          "output_type": "execute_result",
          "data": {
            "text/plain": [
              "(6000, 11)"
            ]
          },
          "metadata": {}
        }
      ]
    },
    {
      "cell_type": "code",
      "source": "features_valid.shape",
      "metadata": {},
      "execution_count": 13,
      "outputs": [
        {
          "execution_count": 13,
          "output_type": "execute_result",
          "data": {
            "text/plain": [
              "(2000, 11)"
            ]
          },
          "metadata": {}
        }
      ]
    },
    {
      "cell_type": "code",
      "source": "features_test.shape",
      "metadata": {},
      "execution_count": 14,
      "outputs": [
        {
          "execution_count": 14,
          "output_type": "execute_result",
          "data": {
            "text/plain": [
              "(2000, 11)"
            ]
          },
          "metadata": {}
        }
      ]
    },
    {
      "cell_type": "markdown",
      "source": "Исходные данные разделены на обучающую, валидационную и тестовую выборки в соотношении 3/1/1",
      "metadata": {}
    },
    {
      "cell_type": "code",
      "source": "scaler_columns = ['credit_score', 'age', 'tenure', 'balance', 'num_of_products', 'estimated_salary']",
      "metadata": {},
      "execution_count": 15,
      "outputs": []
    },
    {
      "cell_type": "code",
      "source": "scaler = StandardScaler()\nfeatures_train[scaler_columns] = scaler.fit_transform(features_train[scaler_columns])\nfeatures_valid[scaler_columns] = scaler.transform(features_valid[scaler_columns])\nfeatures_test[scaler_columns] = scaler.transform(features_test[scaler_columns])",
      "metadata": {
        "collapsed": true,
        "jupyter": {
          "outputs_hidden": true
        },
        "tags": []
      },
      "execution_count": 16,
      "outputs": [
        {
          "name": "stderr",
          "output_type": "stream",
          "text": "/tmp/ipykernel_129/3326936502.py:2: SettingWithCopyWarning: \n\nA value is trying to be set on a copy of a slice from a DataFrame.\n\nTry using .loc[row_indexer,col_indexer] = value instead\n\n\n\nSee the caveats in the documentation: https://pandas.pydata.org/pandas-docs/stable/user_guide/indexing.html#returning-a-view-versus-a-copy\n\n  features_train[scaler_columns] = scaler.fit_transform(features_train[scaler_columns])\n\n/opt/conda/lib/python3.9/site-packages/pandas/core/indexing.py:1738: SettingWithCopyWarning: \n\nA value is trying to be set on a copy of a slice from a DataFrame.\n\nTry using .loc[row_indexer,col_indexer] = value instead\n\n\n\nSee the caveats in the documentation: https://pandas.pydata.org/pandas-docs/stable/user_guide/indexing.html#returning-a-view-versus-a-copy\n\n  self._setitem_single_column(loc, value[:, i].tolist(), pi)\n"
        }
      ]
    },
    {
      "cell_type": "markdown",
      "source": "Стандартизировали данные (привели к одному масштабу). Бинарные данные не использовали в стандартизации.",
      "metadata": {}
    },
    {
      "cell_type": "markdown",
      "source": "## Исследование задачи",
      "metadata": {}
    },
    {
      "cell_type": "code",
      "source": "best_model_f1=None\nbest_model_roc_auc=None\nbest_result_f1=0\nbest_result_roc_auc=0\nfor depth in range(1,15):\n    tree = DecisionTreeClassifier(random_state=12345, max_depth=depth)\n    tree.fit(features_train, target_train)\n    predictions_valid=tree.predict(features_valid)\n    result_f1 = f1_score(target_valid, predictions_valid)\n    result_roc_auc = roc_auc_score(target_valid, tree.predict_proba(features_valid)[:, 1])\n    if result_f1 > best_result_f1:\n        best_model_f1=tree\n        best_result_f1=result_f1\n        best_result_roc_auc = result_roc_auc\nprint('Лучшая модель по метрике f1:', best_model_f1)\nprint('F1:', best_result_f1)\nprint('ROC-AUC:', best_result_roc_auc)",
      "metadata": {},
      "execution_count": 17,
      "outputs": [
        {
          "name": "stdout",
          "output_type": "stream",
          "text": "Лучшая модель по метрике f1: DecisionTreeClassifier(max_depth=7, random_state=12345)\n\nF1: 0.5924855491329479\n\nROC-AUC: 0.8247056360232534\n"
        }
      ]
    },
    {
      "cell_type": "markdown",
      "source": "Для модели \"Дерево решений\" наилучший результат на валидационный выборке по метрике F1 составляет 0.592 (лучшее значение параметра max_depth = 7), ROC-AUC = 0.825.",
      "metadata": {}
    },
    {
      "cell_type": "code",
      "source": "best_model_f1=None\nbest_model_roc_auc=None\nbest_result_f1=0\nbest_result_roc_auc=0\nfor est in range(1,51, 5):\n    for depth in range(1,21):\n        forest = RandomForestClassifier(random_state=12345, n_estimators=est, max_depth=depth)\n        forest.fit(features_train, target_train)\n        predictions_valid = forest.predict(features_valid)\n        result_f1 = f1_score(target_valid, predictions_valid)\n        result_roc_auc = roc_auc_score(target_valid, forest.predict_proba(features_valid)[:, 1])\n        if result_f1 > best_result_f1:\n            best_model_f1=forest\n            best_result_f1=result_f1\n            best_result_roc_auc = result_roc_auc\nprint('Лучшая модель по метрике f1:', best_model_f1)\nprint('F1:', best_result_f1)\nprint('ROC-AUC:', best_result_roc_auc)",
      "metadata": {},
      "execution_count": 18,
      "outputs": [
        {
          "name": "stdout",
          "output_type": "stream",
          "text": "Лучшая модель по метрике f1: RandomForestClassifier(max_depth=14, n_estimators=31, random_state=12345)\n\nF1: 0.618978102189781\n\nROC-AUC: 0.8573912762341118\n"
        }
      ]
    },
    {
      "cell_type": "markdown",
      "source": "Для модели \"Случайный лес\" наилучший результат на валидационный выборке по метрике F1 составляет 0.619 (лучшее значение параметра max_depth = 14, n_estimators = 31), ROC-AUC = 0.857. ",
      "metadata": {}
    },
    {
      "cell_type": "code",
      "source": "regression = LogisticRegression(random_state=12345, solver='lbfgs')\nregression.fit(features_train, target_train)\npredictions_valid = regression.predict(features_valid)\nresult_f1 = f1_score(target_valid, predictions_valid)\nresult_roc_auc = roc_auc_score(target_valid, regression.predict_proba(features_valid)[:, 1])\nprint('F1:', result_f1)\nprint('ROC-AUC:', result_roc_auc)",
      "metadata": {},
      "execution_count": 19,
      "outputs": [
        {
          "name": "stdout",
          "output_type": "stream",
          "text": "F1: 0.30458715596330277\n\nROC-AUC: 0.7876468740762637\n"
        }
      ]
    },
    {
      "cell_type": "markdown",
      "source": "Для модели \"Логистическая регрессия\" наилучший результат на валидационный выборке по метрике F1 составляет 0.305, ROC-AUC = 0.788.",
      "metadata": {}
    },
    {
      "cell_type": "markdown",
      "source": "Таким образом, лучшой моделью по показателям F1 и ROC-AUC является \"Случайный лес\" с параметрами max_depth = 14, n_estimators = 31.",
      "metadata": {}
    },
    {
      "cell_type": "markdown",
      "source": "## Борьба с дисбалансом",
      "metadata": {}
    },
    {
      "cell_type": "code",
      "source": "df['exited'].value_counts(normalize=True)",
      "metadata": {},
      "execution_count": 20,
      "outputs": [
        {
          "execution_count": 20,
          "output_type": "execute_result",
          "data": {
            "text/plain": [
              "0    0.7963\n",
              "1    0.2037\n",
              "Name: exited, dtype: float64"
            ]
          },
          "metadata": {}
        }
      ]
    },
    {
      "cell_type": "markdown",
      "source": "Как видим, баланс классов нарушен. Количество положительных ответов (клиент ушел) составляет всего 20% от всех данных. Избавимся от дисбаланса классов разными методами и сравним качество моделей.",
      "metadata": {}
    },
    {
      "cell_type": "markdown",
      "source": "### Class weight",
      "metadata": {}
    },
    {
      "cell_type": "code",
      "source": "best_model_f1=None\nbest_model_roc_auc=None\nbest_result_f1=0\nbest_result_roc_auc=0\nfor depth in range(1,21):\n    tree = DecisionTreeClassifier(random_state=12345, max_depth=depth, class_weight='balanced')\n    tree.fit(features_train, target_train)\n    predictions_valid=tree.predict(features_valid)\n    result_f1 = f1_score(target_valid, predictions_valid)\n    result_roc_auc = roc_auc_score(target_valid, tree.predict_proba(features_valid)[:, 1])\n    if result_f1 > best_result_f1:\n        best_model_f1=tree\n        best_result_f1=result_f1\n        best_result_roc_auc = result_roc_auc\nprint('Лучшая модель по метрике f1:', best_model_f1)\nprint('F1:', best_result_f1)\nprint('ROC-AUC:', best_result_roc_auc)",
      "metadata": {},
      "execution_count": 21,
      "outputs": [
        {
          "name": "stdout",
          "output_type": "stream",
          "text": "Лучшая модель по метрике f1: DecisionTreeClassifier(class_weight='balanced', max_depth=6, random_state=12345)\n\nF1: 0.575925925925926\n\nROC-AUC: 0.8234124051630702\n"
        }
      ]
    },
    {
      "cell_type": "code",
      "source": "best_model_f1=None\nbest_model_roc_auc=None\nbest_result_f1=0\nbest_result_roc_auc=0\nfor est in range(1,51, 5):\n    for depth in range(1,21):\n        forest = RandomForestClassifier(random_state=12345, n_estimators=est, max_depth=depth, class_weight='balanced')\n        forest.fit(features_train, target_train)\n        predictions_valid = forest.predict(features_valid)\n        result_f1 = f1_score(target_valid, predictions_valid)\n        result_roc_auc = roc_auc_score(target_valid, forest.predict_proba(features_valid)[:, 1])\n        if result_f1 > best_result_f1:\n            best_model_f1=forest\n            best_result_f1=result_f1\n            best_result_roc_auc = result_roc_auc\nprint('Лучшая модель по метрике f1:', best_model_f1)\nprint('F1:', best_result_f1)\nprint('ROC-AUC:', best_result_roc_auc)",
      "metadata": {},
      "execution_count": 22,
      "outputs": [
        {
          "name": "stdout",
          "output_type": "stream",
          "text": "Лучшая модель по метрике f1: RandomForestClassifier(class_weight='balanced', max_depth=8, n_estimators=11,\n\n                       random_state=12345)\n\nF1: 0.6457883369330453\n\nROC-AUC: 0.8658018955069463\n"
        }
      ]
    },
    {
      "cell_type": "code",
      "source": "regression = LogisticRegression(random_state=12345, solver='lbfgs', class_weight='balanced')\nregression.fit(features_train, target_train)\npredictions_valid = regression.predict(features_valid)\nresult_f1 = f1_score(target_valid, predictions_valid)\nresult_roc_auc = roc_auc_score(target_valid, regression.predict_proba(features_valid)[:, 1])\nprint('f1:', result_f1)\nprint('roc_auc:', result_roc_auc)",
      "metadata": {},
      "execution_count": 23,
      "outputs": [
        {
          "name": "stdout",
          "output_type": "stream",
          "text": "f1: 0.5302897278314311\n\nroc_auc: 0.7937712459355604\n"
        }
      ]
    },
    {
      "cell_type": "markdown",
      "source": "Качество модели \"Дерево решений\" снизилось, а моделей \"Случайный лес\" и \"Логистическая регрессия\" увеличилось.  \nЛучшой моделью по показателям F1 и ROC-AUC является \"Случайный лес\" с параметрами max_depth = 8, n_estimators = 11.",
      "metadata": {}
    },
    {
      "cell_type": "markdown",
      "source": "### Upsample",
      "metadata": {}
    },
    {
      "cell_type": "code",
      "source": "def upsample(features, target, repeat):\n    features_zeros = features[target == 0]\n    features_ones = features[target == 1]\n    target_zeros = target[target == 0]\n    target_ones = target[target == 1]\n\n    features_upsampled = pd.concat([features_zeros] + [features_ones] * repeat)\n    target_upsampled = pd.concat([target_zeros] + [target_ones] * repeat)\n    \n    features_upsampled, target_upsampled = shuffle(\n        features_upsampled, target_upsampled, random_state=12345)\n    \n    return features_upsampled, target_upsampled\n\nfeatures_upsampled, target_upsampled = upsample(features_train, target_train, 4)",
      "metadata": {},
      "execution_count": 24,
      "outputs": []
    },
    {
      "cell_type": "code",
      "source": "best_model_f1=None\nbest_model_roc_auc=None\nbest_result_f1=0\nbest_result_roc_auc=0\nfor depth in range(1,21):\n    tree = DecisionTreeClassifier(random_state=12345, max_depth=depth)\n    tree.fit(features_upsampled, target_upsampled)\n    predictions_valid=tree.predict(features_valid)\n    result_f1 = f1_score(target_valid, predictions_valid)\n    result_roc_auc = roc_auc_score(target_valid, tree.predict_proba(features_valid)[:, 1])\n    if result_f1 > best_result_f1:\n        best_model_f1=tree\n        best_result_f1=result_f1\n        best_result_roc_auc = result_roc_auc\nprint('Лучшая модель по метрике f1:', best_model_f1)\nprint('F1:', best_result_f1)\nprint('ROC-AUC:', best_result_roc_auc)",
      "metadata": {
        "scrolled": true
      },
      "execution_count": 25,
      "outputs": [
        {
          "name": "stdout",
          "output_type": "stream",
          "text": "Лучшая модель по метрике f1: DecisionTreeClassifier(max_depth=6, random_state=12345)\n\nF1: 0.575925925925926\n\nROC-AUC: 0.8234278007685487\n"
        }
      ]
    },
    {
      "cell_type": "code",
      "source": "best_model_f1=None\nbest_model_roc_auc=None\nbest_result_f1=0\nbest_result_roc_auc=0\nfor est in range(1,51, 5):\n    for depth in range(1,21):\n        forest = RandomForestClassifier(random_state=12345, n_estimators=est, max_depth=depth)\n        forest.fit(features_upsampled, target_upsampled)\n        predictions_valid = forest.predict(features_valid)\n        result_f1 = f1_score(target_valid, predictions_valid)\n        result_roc_auc = roc_auc_score(target_valid, forest.predict_proba(features_valid)[:, 1])\n        if result_f1 > best_result_f1:\n            best_model_f1=forest\n            best_result_f1=result_f1\n            best_result_roc_auc = result_roc_auc\nprint('Лучшая модель по метрике f1:', best_model_f1)\nprint('F1:', best_result_f1)\nprint('ROC-AUC:', best_result_roc_auc)",
      "metadata": {},
      "execution_count": 26,
      "outputs": [
        {
          "name": "stdout",
          "output_type": "stream",
          "text": "Лучшая модель по метрике f1: RandomForestClassifier(max_depth=11, n_estimators=41, random_state=12345)\n\nF1: 0.6469920544835414\n\nROC-AUC: 0.871680707458863\n"
        }
      ]
    },
    {
      "cell_type": "code",
      "source": "regression = LogisticRegression(random_state=12345, solver='liblinear')\nregression.fit(features_upsampled, target_upsampled)\npredictions_valid = regression.predict(features_valid)\nresult_f1 = f1_score(target_valid, predictions_valid)\nresult_roc_auc = roc_auc_score(target_valid, regression.predict_proba(features_valid)[:, 1])\nprint('f1:', result_f1)\nprint('roc_auc:', result_roc_auc)",
      "metadata": {},
      "execution_count": 27,
      "outputs": [
        {
          "name": "stdout",
          "output_type": "stream",
          "text": "f1: 0.5246753246753246\n\nroc_auc: 0.7938220514336388\n"
        }
      ]
    },
    {
      "cell_type": "markdown",
      "source": "Качество моделей \"Логистическая регрессия\" и \"Дерево решений\" почти не изменилось, а модели \"Случайный лес\" выросло (в сравнении с использованием гиперпараметра class_weight='balanced').\n\nМодель \"Случайный лес\" показала наилучший результат (F1 = 0.647) при следующих гиперпараметрах: max_depth=11, n_estimators=41.",
      "metadata": {}
    },
    {
      "cell_type": "markdown",
      "source": "### Downsample",
      "metadata": {}
    },
    {
      "cell_type": "code",
      "source": "def downsample(features, target, fraction):\n    features_zeros = features[target == 0]\n    features_ones = features[target == 1]\n    target_zeros = target[target == 0]\n    target_ones = target[target == 1]\n\n    features_downsampled = pd.concat(\n        [features_zeros.sample(frac=fraction, random_state=12345)] + [features_ones])\n    target_downsampled = pd.concat(\n        [target_zeros.sample(frac=fraction, random_state=12345)] + [target_ones])\n    \n    features_downsampled, target_downsampled = shuffle(\n        features_downsampled, target_downsampled, random_state=12345)\n    \n    return features_downsampled, target_downsampled\n\nfeatures_downsampled, target_downsampled = downsample(features_train, target_train, 0.25)",
      "metadata": {},
      "execution_count": 28,
      "outputs": []
    },
    {
      "cell_type": "code",
      "source": "best_model_f1=None\nbest_model_roc_auc=None\nbest_result_f1=0\nbest_result_roc_auc=0\nfor depth in range(1,21):\n    tree = DecisionTreeClassifier(random_state=12345, max_depth=depth)\n    tree.fit(features_downsampled, target_downsampled)\n    predictions_valid=tree.predict(features_valid)\n    result_f1 = f1_score(target_valid, predictions_valid)\n    result_roc_auc = roc_auc_score(target_valid, tree.predict_proba(features_valid)[:, 1])\n    if result_f1 > best_result_f1:\n        best_model_f1=tree\n        best_result_f1=result_f1\n        best_result_roc_auc = result_roc_auc\nprint('Лучшая модель по метрике f1:', best_model_f1)\nprint('F1:', best_result_f1)\nprint('ROC-AUC:', best_result_roc_auc)",
      "metadata": {},
      "execution_count": 29,
      "outputs": [
        {
          "name": "stdout",
          "output_type": "stream",
          "text": "Лучшая модель по метрике f1: DecisionTreeClassifier(max_depth=6, random_state=12345)\n\nF1: 0.5939278937381405\n\nROC-AUC: 0.8472324859592077\n"
        }
      ]
    },
    {
      "cell_type": "code",
      "source": "best_model_f1=None\nbest_model_roc_auc=None\nbest_result_f1=0\nbest_result_roc_auc=0\nfor est in range(1,51, 5):\n    for depth in range(1,21):\n        forest = RandomForestClassifier(random_state=12345, n_estimators=est, max_depth=depth)\n        forest.fit(features_downsampled, target_downsampled)\n        predictions_valid = forest.predict(features_valid)\n        result_f1 = f1_score(target_valid, predictions_valid)\n        result_roc_auc = roc_auc_score(target_valid, forest.predict_proba(features_valid)[:, 1])\n        if result_f1 > best_result_f1:\n            best_model_f1=forest\n            best_result_f1=result_f1\n            best_result_roc_auc = result_roc_auc\nprint('Лучшая модель по метрике f1:', best_model_f1)\nprint('F1:', best_result_f1)\nprint('ROC-AUC:', best_result_roc_auc)",
      "metadata": {},
      "execution_count": 30,
      "outputs": [
        {
          "name": "stdout",
          "output_type": "stream",
          "text": "Лучшая модель по метрике f1: RandomForestClassifier(max_depth=6, n_estimators=21, random_state=12345)\n\nF1: 0.6320845341018252\n\nROC-AUC: 0.8657903488028378\n"
        }
      ]
    },
    {
      "cell_type": "code",
      "source": "regression = LogisticRegression(random_state=12345, solver='liblinear')\nregression.fit(features_downsampled, target_downsampled)\npredictions_valid = regression.predict(features_valid)\nresult_f1 = f1_score(target_valid, predictions_valid)\nresult_roc_auc = roc_auc_score(target_valid, regression.predict_proba(features_valid)[:, 1])\nprint('F1:', result_f1)\nprint('ROC-AUC:', result_roc_auc)",
      "metadata": {},
      "execution_count": 31,
      "outputs": [
        {
          "name": "stdout",
          "output_type": "stream",
          "text": "F1: 0.5250431778929188\n\nROC-AUC: 0.792741279929057\n"
        }
      ]
    },
    {
      "cell_type": "markdown",
      "source": "Качество моделей \"Дерево решений\", \"Логистическая регрессия\" увеличилось, а качетсво модели \"Случайный лес\" снизилось (в сравнении с увеличением выборки).\n\nТаким образом, лучшее качество показала модель \"Случайный лес\" при устранении дисбаланса классов путем увеличении выборки (F1 = 0.647) с параметрами max_depth=11, n_estimators=41.",
      "metadata": {}
    },
    {
      "cell_type": "markdown",
      "source": "## Тестирование модели",
      "metadata": {}
    },
    {
      "cell_type": "code",
      "source": "features_upsampled, target_upsampled = upsample(pd.concat([features_train, features_valid]), \n                                                pd.concat([target_train, target_valid]), 4)",
      "metadata": {},
      "execution_count": 33,
      "outputs": []
    },
    {
      "cell_type": "code",
      "source": "forest = RandomForestClassifier(random_state=12345, n_estimators=41, max_depth=11)\nforest.fit(features_upsampled, target_upsampled)\npredictions_test = forest.predict(features_test)\nresult_f1 = f1_score(target_test, predictions_test)\nresult_roc_auc = roc_auc_score(target_test, forest.predict_proba(features_test)[:, 1])\nprint('F1:', result_f1)\nprint('ROC-AUC:', result_roc_auc)",
      "metadata": {},
      "execution_count": 34,
      "outputs": [
        {
          "name": "stdout",
          "output_type": "stream",
          "text": "F1: 0.5943502824858756\n\nROC-AUC: 0.8569170094593824\n"
        }
      ]
    },
    {
      "cell_type": "markdown",
      "source": "Таким образом, лучшей моделью для прогноза, уйдёт клиент из банка в ближайшее время или нет, является модель \"Случайный лес\" с параметрами max_depth=11, n_estimators=41, полученная путем увеличения выборки для устранения дисбаланса классов.",
      "metadata": {}
    }
  ]
}