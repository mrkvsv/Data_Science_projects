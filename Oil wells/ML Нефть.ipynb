{
 "cells": [
  {
   "cell_type": "markdown",
   "metadata": {
    "id": "BXx2uP834O-4"
   },
   "source": [
    "# Выбор локации для скважины"
   ]
  },
  {
   "cell_type": "markdown",
   "metadata": {
    "id": "_p1G6adL4O_A"
   },
   "source": [
    "Допустим, вы работаете в добывающей компании «ГлавРосГосНефть». Нужно решить, где бурить новую скважину.\n",
    "\n",
    "Вам предоставлены пробы нефти в трёх регионах: в каждом 10 000 месторождений, где измерили качество нефти и объём её запасов. Постройте модель машинного обучения, которая поможет определить регион, где добыча принесёт наибольшую прибыль. Проанализируйте возможную прибыль и риски техникой *Bootstrap.*\n",
    "\n",
    "Шаги для выбора локации:\n",
    "\n",
    "- В избранном регионе ищут месторождения, для каждого определяют значения признаков;\n",
    "- Строят модель и оценивают объём запасов;\n",
    "- Выбирают месторождения с самым высокими оценками значений. Количество месторождений зависит от бюджета компании и стоимости разработки одной скважины;\n",
    "- Прибыль равна суммарной прибыли отобранных месторождений."
   ]
  },
  {
   "cell_type": "markdown",
   "metadata": {
    "id": "4XO1aNF54O_C"
   },
   "source": [
    "## Загрузка и подготовка данных"
   ]
  },
  {
   "cell_type": "code",
   "execution_count": 1,
   "metadata": {
    "id": "5NZ1Iz8u4aCA"
   },
   "outputs": [],
   "source": [
    "import pandas as pd\n",
    "import numpy as np\n",
    "import matplotlib.pyplot as plt \n",
    "from scipy import stats as st \n",
    "from sklearn.metrics import mean_squared_error, mean_absolute_error, accuracy_score, f1_score, recall_score, precision_score, roc_auc_score, r2_score\n",
    "from sklearn.preprocessing import StandardScaler\n",
    "from sklearn.model_selection import train_test_split, cross_val_score\n",
    "from sklearn.dummy import DummyClassifier\n",
    "from sklearn.utils import shuffle\n",
    "from sklearn.model_selection import GridSearchCV\n",
    "from sklearn.linear_model import LinearRegression"
   ]
  },
  {
   "cell_type": "code",
   "execution_count": 2,
   "metadata": {
    "id": "rsEPpZpw4O_D"
   },
   "outputs": [],
   "source": [
    "df_1 = pd.read_csv('https://code.s3.yandex.net/datasets/geo_data_0.csv')\n",
    "df_2 = pd.read_csv('https://code.s3.yandex.net/datasets/geo_data_1.csv')\n",
    "df_3 = pd.read_csv('https://code.s3.yandex.net/datasets/geo_data_2.csv')"
   ]
  },
  {
   "cell_type": "code",
   "execution_count": 3,
   "metadata": {
    "colab": {
     "base_uri": "https://localhost:8080/",
     "height": 206
    },
    "id": "suqp7o4T55jk",
    "outputId": "b6d356c7-1334-4896-ecfa-ae1bf0d43751"
   },
   "outputs": [
    {
     "data": {
      "text/html": [
       "<div>\n",
       "<style scoped>\n",
       "    .dataframe tbody tr th:only-of-type {\n",
       "        vertical-align: middle;\n",
       "    }\n",
       "\n",
       "    .dataframe tbody tr th {\n",
       "        vertical-align: top;\n",
       "    }\n",
       "\n",
       "    .dataframe thead th {\n",
       "        text-align: right;\n",
       "    }\n",
       "</style>\n",
       "<table border=\"1\" class=\"dataframe\">\n",
       "  <thead>\n",
       "    <tr style=\"text-align: right;\">\n",
       "      <th></th>\n",
       "      <th>id</th>\n",
       "      <th>f0</th>\n",
       "      <th>f1</th>\n",
       "      <th>f2</th>\n",
       "      <th>product</th>\n",
       "    </tr>\n",
       "  </thead>\n",
       "  <tbody>\n",
       "    <tr>\n",
       "      <th>0</th>\n",
       "      <td>txEyH</td>\n",
       "      <td>0.705745</td>\n",
       "      <td>-0.497823</td>\n",
       "      <td>1.221170</td>\n",
       "      <td>105.280062</td>\n",
       "    </tr>\n",
       "    <tr>\n",
       "      <th>1</th>\n",
       "      <td>2acmU</td>\n",
       "      <td>1.334711</td>\n",
       "      <td>-0.340164</td>\n",
       "      <td>4.365080</td>\n",
       "      <td>73.037750</td>\n",
       "    </tr>\n",
       "    <tr>\n",
       "      <th>2</th>\n",
       "      <td>409Wp</td>\n",
       "      <td>1.022732</td>\n",
       "      <td>0.151990</td>\n",
       "      <td>1.419926</td>\n",
       "      <td>85.265647</td>\n",
       "    </tr>\n",
       "    <tr>\n",
       "      <th>3</th>\n",
       "      <td>iJLyR</td>\n",
       "      <td>-0.032172</td>\n",
       "      <td>0.139033</td>\n",
       "      <td>2.978566</td>\n",
       "      <td>168.620776</td>\n",
       "    </tr>\n",
       "    <tr>\n",
       "      <th>4</th>\n",
       "      <td>Xdl7t</td>\n",
       "      <td>1.988431</td>\n",
       "      <td>0.155413</td>\n",
       "      <td>4.751769</td>\n",
       "      <td>154.036647</td>\n",
       "    </tr>\n",
       "  </tbody>\n",
       "</table>\n",
       "</div>"
      ],
      "text/plain": [
       "      id        f0        f1        f2     product\n",
       "0  txEyH  0.705745 -0.497823  1.221170  105.280062\n",
       "1  2acmU  1.334711 -0.340164  4.365080   73.037750\n",
       "2  409Wp  1.022732  0.151990  1.419926   85.265647\n",
       "3  iJLyR -0.032172  0.139033  2.978566  168.620776\n",
       "4  Xdl7t  1.988431  0.155413  4.751769  154.036647"
      ]
     },
     "execution_count": 3,
     "metadata": {},
     "output_type": "execute_result"
    }
   ],
   "source": [
    "df_1.head()"
   ]
  },
  {
   "cell_type": "code",
   "execution_count": 4,
   "metadata": {
    "colab": {
     "base_uri": "https://localhost:8080/"
    },
    "id": "kQpzCaiE6K8h",
    "outputId": "05abc4e9-77a6-4ed3-de63-fda33d4eaad1"
   },
   "outputs": [
    {
     "name": "stdout",
     "output_type": "stream",
     "text": [
      "<class 'pandas.core.frame.DataFrame'>\n",
      "RangeIndex: 100000 entries, 0 to 99999\n",
      "Data columns (total 5 columns):\n",
      " #   Column   Non-Null Count   Dtype  \n",
      "---  ------   --------------   -----  \n",
      " 0   id       100000 non-null  object \n",
      " 1   f0       100000 non-null  float64\n",
      " 2   f1       100000 non-null  float64\n",
      " 3   f2       100000 non-null  float64\n",
      " 4   product  100000 non-null  float64\n",
      "dtypes: float64(4), object(1)\n",
      "memory usage: 3.8+ MB\n"
     ]
    }
   ],
   "source": [
    "df_1.info()"
   ]
  },
  {
   "cell_type": "code",
   "execution_count": 5,
   "metadata": {
    "colab": {
     "base_uri": "https://localhost:8080/",
     "height": 206
    },
    "id": "PVe677HX6Qwb",
    "outputId": "ecf0c67e-9420-4902-f2e2-ed11d5bd3613"
   },
   "outputs": [
    {
     "data": {
      "text/html": [
       "<div>\n",
       "<style scoped>\n",
       "    .dataframe tbody tr th:only-of-type {\n",
       "        vertical-align: middle;\n",
       "    }\n",
       "\n",
       "    .dataframe tbody tr th {\n",
       "        vertical-align: top;\n",
       "    }\n",
       "\n",
       "    .dataframe thead th {\n",
       "        text-align: right;\n",
       "    }\n",
       "</style>\n",
       "<table border=\"1\" class=\"dataframe\">\n",
       "  <thead>\n",
       "    <tr style=\"text-align: right;\">\n",
       "      <th></th>\n",
       "      <th>id</th>\n",
       "      <th>f0</th>\n",
       "      <th>f1</th>\n",
       "      <th>f2</th>\n",
       "      <th>product</th>\n",
       "    </tr>\n",
       "  </thead>\n",
       "  <tbody>\n",
       "    <tr>\n",
       "      <th>0</th>\n",
       "      <td>kBEdx</td>\n",
       "      <td>-15.001348</td>\n",
       "      <td>-8.276000</td>\n",
       "      <td>-0.005876</td>\n",
       "      <td>3.179103</td>\n",
       "    </tr>\n",
       "    <tr>\n",
       "      <th>1</th>\n",
       "      <td>62mP7</td>\n",
       "      <td>14.272088</td>\n",
       "      <td>-3.475083</td>\n",
       "      <td>0.999183</td>\n",
       "      <td>26.953261</td>\n",
       "    </tr>\n",
       "    <tr>\n",
       "      <th>2</th>\n",
       "      <td>vyE1P</td>\n",
       "      <td>6.263187</td>\n",
       "      <td>-5.948386</td>\n",
       "      <td>5.001160</td>\n",
       "      <td>134.766305</td>\n",
       "    </tr>\n",
       "    <tr>\n",
       "      <th>3</th>\n",
       "      <td>KcrkZ</td>\n",
       "      <td>-13.081196</td>\n",
       "      <td>-11.506057</td>\n",
       "      <td>4.999415</td>\n",
       "      <td>137.945408</td>\n",
       "    </tr>\n",
       "    <tr>\n",
       "      <th>4</th>\n",
       "      <td>AHL4O</td>\n",
       "      <td>12.702195</td>\n",
       "      <td>-8.147433</td>\n",
       "      <td>5.004363</td>\n",
       "      <td>134.766305</td>\n",
       "    </tr>\n",
       "  </tbody>\n",
       "</table>\n",
       "</div>"
      ],
      "text/plain": [
       "      id         f0         f1        f2     product\n",
       "0  kBEdx -15.001348  -8.276000 -0.005876    3.179103\n",
       "1  62mP7  14.272088  -3.475083  0.999183   26.953261\n",
       "2  vyE1P   6.263187  -5.948386  5.001160  134.766305\n",
       "3  KcrkZ -13.081196 -11.506057  4.999415  137.945408\n",
       "4  AHL4O  12.702195  -8.147433  5.004363  134.766305"
      ]
     },
     "execution_count": 5,
     "metadata": {},
     "output_type": "execute_result"
    }
   ],
   "source": [
    "df_2.head()"
   ]
  },
  {
   "cell_type": "code",
   "execution_count": 6,
   "metadata": {
    "colab": {
     "base_uri": "https://localhost:8080/"
    },
    "id": "ZpdGHQVo6Va2",
    "outputId": "4f9a53de-1456-42ee-cda5-6884d3808384"
   },
   "outputs": [
    {
     "name": "stdout",
     "output_type": "stream",
     "text": [
      "<class 'pandas.core.frame.DataFrame'>\n",
      "RangeIndex: 100000 entries, 0 to 99999\n",
      "Data columns (total 5 columns):\n",
      " #   Column   Non-Null Count   Dtype  \n",
      "---  ------   --------------   -----  \n",
      " 0   id       100000 non-null  object \n",
      " 1   f0       100000 non-null  float64\n",
      " 2   f1       100000 non-null  float64\n",
      " 3   f2       100000 non-null  float64\n",
      " 4   product  100000 non-null  float64\n",
      "dtypes: float64(4), object(1)\n",
      "memory usage: 3.8+ MB\n"
     ]
    }
   ],
   "source": [
    "df_2.info()"
   ]
  },
  {
   "cell_type": "code",
   "execution_count": 7,
   "metadata": {
    "colab": {
     "base_uri": "https://localhost:8080/",
     "height": 206
    },
    "id": "kyBCMiXZ6YuD",
    "outputId": "a35ab8e2-f507-45aa-9f6a-19236bac054e"
   },
   "outputs": [
    {
     "data": {
      "text/html": [
       "<div>\n",
       "<style scoped>\n",
       "    .dataframe tbody tr th:only-of-type {\n",
       "        vertical-align: middle;\n",
       "    }\n",
       "\n",
       "    .dataframe tbody tr th {\n",
       "        vertical-align: top;\n",
       "    }\n",
       "\n",
       "    .dataframe thead th {\n",
       "        text-align: right;\n",
       "    }\n",
       "</style>\n",
       "<table border=\"1\" class=\"dataframe\">\n",
       "  <thead>\n",
       "    <tr style=\"text-align: right;\">\n",
       "      <th></th>\n",
       "      <th>id</th>\n",
       "      <th>f0</th>\n",
       "      <th>f1</th>\n",
       "      <th>f2</th>\n",
       "      <th>product</th>\n",
       "    </tr>\n",
       "  </thead>\n",
       "  <tbody>\n",
       "    <tr>\n",
       "      <th>0</th>\n",
       "      <td>fwXo0</td>\n",
       "      <td>-1.146987</td>\n",
       "      <td>0.963328</td>\n",
       "      <td>-0.828965</td>\n",
       "      <td>27.758673</td>\n",
       "    </tr>\n",
       "    <tr>\n",
       "      <th>1</th>\n",
       "      <td>WJtFt</td>\n",
       "      <td>0.262778</td>\n",
       "      <td>0.269839</td>\n",
       "      <td>-2.530187</td>\n",
       "      <td>56.069697</td>\n",
       "    </tr>\n",
       "    <tr>\n",
       "      <th>2</th>\n",
       "      <td>ovLUW</td>\n",
       "      <td>0.194587</td>\n",
       "      <td>0.289035</td>\n",
       "      <td>-5.586433</td>\n",
       "      <td>62.871910</td>\n",
       "    </tr>\n",
       "    <tr>\n",
       "      <th>3</th>\n",
       "      <td>q6cA6</td>\n",
       "      <td>2.236060</td>\n",
       "      <td>-0.553760</td>\n",
       "      <td>0.930038</td>\n",
       "      <td>114.572842</td>\n",
       "    </tr>\n",
       "    <tr>\n",
       "      <th>4</th>\n",
       "      <td>WPMUX</td>\n",
       "      <td>-0.515993</td>\n",
       "      <td>1.716266</td>\n",
       "      <td>5.899011</td>\n",
       "      <td>149.600746</td>\n",
       "    </tr>\n",
       "  </tbody>\n",
       "</table>\n",
       "</div>"
      ],
      "text/plain": [
       "      id        f0        f1        f2     product\n",
       "0  fwXo0 -1.146987  0.963328 -0.828965   27.758673\n",
       "1  WJtFt  0.262778  0.269839 -2.530187   56.069697\n",
       "2  ovLUW  0.194587  0.289035 -5.586433   62.871910\n",
       "3  q6cA6  2.236060 -0.553760  0.930038  114.572842\n",
       "4  WPMUX -0.515993  1.716266  5.899011  149.600746"
      ]
     },
     "execution_count": 7,
     "metadata": {},
     "output_type": "execute_result"
    }
   ],
   "source": [
    "df_3.head()"
   ]
  },
  {
   "cell_type": "code",
   "execution_count": 8,
   "metadata": {
    "colab": {
     "base_uri": "https://localhost:8080/"
    },
    "id": "fcouId4R6bCG",
    "outputId": "5cf071cf-a2a2-47a8-dc0c-33db835ef570"
   },
   "outputs": [
    {
     "name": "stdout",
     "output_type": "stream",
     "text": [
      "<class 'pandas.core.frame.DataFrame'>\n",
      "RangeIndex: 100000 entries, 0 to 99999\n",
      "Data columns (total 5 columns):\n",
      " #   Column   Non-Null Count   Dtype  \n",
      "---  ------   --------------   -----  \n",
      " 0   id       100000 non-null  object \n",
      " 1   f0       100000 non-null  float64\n",
      " 2   f1       100000 non-null  float64\n",
      " 3   f2       100000 non-null  float64\n",
      " 4   product  100000 non-null  float64\n",
      "dtypes: float64(4), object(1)\n",
      "memory usage: 3.8+ MB\n"
     ]
    }
   ],
   "source": [
    "df_3.info()"
   ]
  },
  {
   "cell_type": "markdown",
   "metadata": {
    "id": "hpGFcyAi6hDb"
   },
   "source": [
    "Данные содержать информацию о трех признаках и одним целевом признаке для каждого региона.  \n",
    "Пропуски отсутсвуют, тип данных указан верно. Для каждого региона представлена информация о 100 000 скважин."
   ]
  },
  {
   "cell_type": "markdown",
   "metadata": {
    "id": "SPGSHsuF4O_G"
   },
   "source": [
    "## Обучение и проверка модели"
   ]
  },
  {
   "cell_type": "code",
   "execution_count": 9,
   "metadata": {
    "id": "9s2zTggt4O_I"
   },
   "outputs": [],
   "source": [
    "features_1 = df_1.drop(columns = ['product', 'id'], axis = 1)\n",
    "target_1 = df_1['product']\n",
    "features_2 = df_2.drop(columns = ['product', 'id'], axis = 1)\n",
    "target_2 = df_2['product']\n",
    "features_3 = df_3.drop(columns = ['product', 'id'], axis = 1)\n",
    "target_3 = df_3['product']"
   ]
  },
  {
   "cell_type": "markdown",
   "metadata": {
    "id": "6qoiHTwfDV1s"
   },
   "source": [
    "Разделили целевой признак и объясняющие для каждого региона."
   ]
  },
  {
   "cell_type": "code",
   "execution_count": 10,
   "metadata": {
    "id": "jvXMzSbVDZ3e"
   },
   "outputs": [],
   "source": [
    "features_train_1, features_valid_1, target_train_1, target_valid_1 = train_test_split(\n",
    "    features_1, target_1, test_size=0.25, random_state=12345)\n",
    "features_train_2, features_valid_2, target_train_2, target_valid_2 = train_test_split(\n",
    "    features_2, target_2, test_size=0.25, random_state=12345)\n",
    "features_train_3, features_valid_3, target_train_3, target_valid_3 = train_test_split(\n",
    "    features_3, target_3, test_size=0.25, random_state=12345)"
   ]
  },
  {
   "cell_type": "markdown",
   "metadata": {
    "id": "RuXVSwhjD_Ku"
   },
   "source": [
    "Исходные данные разделены на обучающую и валидационную выборки в соотношении 75:25."
   ]
  },
  {
   "cell_type": "code",
   "execution_count": 11,
   "metadata": {},
   "outputs": [],
   "source": [
    "def regression (features_train, target_train, features_valid, target_valid):\n",
    "    lr = LinearRegression()\n",
    "    lr.fit(features_train, target_train)\n",
    "    predictions_valid = lr.predict(features_valid)\n",
    "    rmse = mean_squared_error(target_valid, predictions_valid)**0.5\n",
    "    mae = mean_absolute_error(target_valid, predictions_valid)\n",
    "    r2 = r2_score(target_valid, predictions_valid)\n",
    "    return print('RMSE:', rmse), print('MAE:', mae), print('R^2:', r2), \\\n",
    "    print('Средний запас сырья на валидационной выборке:', target_valid.mean()), \\\n",
    "    print('Средний запас предсказанного сырья:', predictions_valid.mean()), \\\n",
    "    print('Разница:', predictions_valid.mean()-target_valid.mean())"
   ]
  },
  {
   "cell_type": "code",
   "execution_count": 12,
   "metadata": {},
   "outputs": [],
   "source": [
    "def predictions (features_train, target_train, features_valid):\n",
    "    lr = LinearRegression()\n",
    "    lr.fit(features_train, target_train)\n",
    "    predictions_valid = lr.predict(features_valid)\n",
    "    return predictions_valid"
   ]
  },
  {
   "cell_type": "code",
   "execution_count": 13,
   "metadata": {},
   "outputs": [
    {
     "name": "stdout",
     "output_type": "stream",
     "text": [
      "RMSE: 37.5794217150813\n",
      "MAE: 30.919600777151313\n",
      "R^2: 0.27994321524487786\n",
      "Средний запас сырья на валидационной выборке: 92.07859674082927\n",
      "Средний запас предсказанного сырья: 92.59256778438035\n",
      "Разница: 0.5139710435510807\n"
     ]
    },
    {
     "data": {
      "text/plain": [
       "(None, None, None, None, None, None)"
      ]
     },
     "execution_count": 13,
     "metadata": {},
     "output_type": "execute_result"
    }
   ],
   "source": [
    "lr_1 = regression(features_train_1, target_train_1, features_valid_1, target_valid_1)\n",
    "predictions_valid_1 = predictions(features_train_1, target_train_1, features_valid_1)\n",
    "lr_1"
   ]
  },
  {
   "cell_type": "markdown",
   "metadata": {
    "id": "PuZP1QeYMc01"
   },
   "source": [
    "Для первого региона обучена модель линейной регрессии. Показатель RMSE составляет 37.58 тыс. баррелей, MAE - 30.92 тыс. баррелей, средний запас предсказанного сырья - 92.59 тыс. баррелей.  \n",
    "Таким образом, среднее отклонение предсказаний от фактических данных составило 30.92 тыс. баррелей. Стоит отметить, что разница между фактическим средним запасом сырья и предсказанным средним запасом и на валидационной выборке составила 514 баррелей."
   ]
  },
  {
   "cell_type": "code",
   "execution_count": 14,
   "metadata": {},
   "outputs": [
    {
     "name": "stdout",
     "output_type": "stream",
     "text": [
      "RMSE: 0.893099286775617\n",
      "MAE: 0.7187662442124758\n",
      "R^2: 0.9996233978805127\n",
      "Средний запас сырья на валидационной выборке: 68.72313602435997\n",
      "Средний запас предсказанного сырья: 68.728546895446\n",
      "Разница: 0.005410871086027669\n"
     ]
    },
    {
     "data": {
      "text/plain": [
       "(None, None, None, None, None, None)"
      ]
     },
     "execution_count": 14,
     "metadata": {},
     "output_type": "execute_result"
    }
   ],
   "source": [
    "lr_2 = regression(features_train_2, target_train_2, features_valid_2, target_valid_2)\n",
    "predictions_valid_2 = predictions(features_train_2, target_train_2, features_valid_2)\n",
    "lr_2"
   ]
  },
  {
   "cell_type": "markdown",
   "metadata": {
    "id": "K1GMzuzzN9yo"
   },
   "source": [
    "Для второго региона показатель RMSE составил 0.89 тыс. баррелей, MAE - 0.72 тыс. баррелей, средний запас предсказанного сырья - 68.73 тыс. баррелей.  \n",
    "Разница между фактическим средним запасом сырья и предсказанным средним запасом и на валидационной выборке составила 5.41 баррель."
   ]
  },
  {
   "cell_type": "code",
   "execution_count": 15,
   "metadata": {},
   "outputs": [
    {
     "name": "stdout",
     "output_type": "stream",
     "text": [
      "RMSE: 40.02970873393434\n",
      "MAE: 32.792652105481814\n",
      "R^2: 0.20524758386040443\n",
      "Средний запас сырья на валидационной выборке: 94.88423280885438\n",
      "Средний запас предсказанного сырья: 94.96504596800489\n",
      "Разница: 0.0808131591505088\n"
     ]
    },
    {
     "data": {
      "text/plain": [
       "(None, None, None, None, None, None)"
      ]
     },
     "execution_count": 15,
     "metadata": {},
     "output_type": "execute_result"
    }
   ],
   "source": [
    "lr_3 = regression(features_train_3, target_train_3, features_valid_3, target_valid_3)\n",
    "predictions_valid_3 = predictions(features_train_3, target_train_3, features_valid_3)\n",
    "lr_3"
   ]
  },
  {
   "cell_type": "markdown",
   "metadata": {
    "id": "YXVe0SDgOUio"
   },
   "source": [
    "Для третьего региона показатель RMSE составил 40.03 тыс. баррелей, MAE - 32.79 тыс. баррелей, средний запас предсказанного сырья - 94.97 тыс. баррелей.  \n",
    "Разница между фактическим средним запасом сырья и предсказанным средним запасом и на валидационной выборке составила 80.81 баррель."
   ]
  },
  {
   "cell_type": "markdown",
   "metadata": {
    "id": "3PW03wVPOht0"
   },
   "source": [
    "Таким образом, нами построены модели линейной регрессии для каждого региона. Значения отклонений предсказаний объема сырья и фактического объема в регионах различны.\n",
    "Наименьшие отклонения получены во втором регионе, в котором показатель МАЕ (среднее обсолютное отклонение) составляет 718.76 баррелей нефти. В первом регионе МАЕ = 30.92 тыс. баррелей, в третьем - 32.79 тыс. баррелей.\n"
   ]
  },
  {
   "cell_type": "markdown",
   "metadata": {
    "id": "gj-YWY_j4O_J"
   },
   "source": [
    "## Подготовка к расчёту прибыли"
   ]
  },
  {
   "cell_type": "markdown",
   "metadata": {
    "id": "lq_r8m2jugy8"
   },
   "source": [
    "Условия задачи:\n",
    "- При разведке региона исследуют 500 точек, из которых с помощью машинного обучения выбирают 200 лучших для разработки.\n",
    "- Бюджет на разработку скважин в регионе — 10 млрд рублей.\n",
    "- При нынешних ценах один баррель сырья приносит 450 рублей дохода. Доход с каждой единицы продукта составляет 450 тыс. рублей, поскольку объём указан в тысячах баррелей.\n",
    "- После оценки рисков нужно оставить лишь те регионы, в которых вероятность убытков меньше 2.5%. Среди них выбирают регион с наибольшей средней прибылью."
   ]
  },
  {
   "cell_type": "code",
   "execution_count": 16,
   "metadata": {
    "id": "TAS39avR4O_K"
   },
   "outputs": [],
   "source": [
    "BUDGET = 10_000_000_000\n",
    "INCOME = 450_000\n",
    "TOTAL_WELLS = 500\n",
    "BEST_WELLS = 200"
   ]
  },
  {
   "cell_type": "code",
   "execution_count": 17,
   "metadata": {
    "colab": {
     "base_uri": "https://localhost:8080/"
    },
    "id": "oZhrZ4u_xYBU",
    "outputId": "1ee37c1d-97d1-4bb1-a4ec-8b823ec95496"
   },
   "outputs": [
    {
     "data": {
      "text/plain": [
       "111.11111111111111"
      ]
     },
     "execution_count": 17,
     "metadata": {},
     "output_type": "execute_result"
    }
   ],
   "source": [
    "volume = BUDGET/INCOME/BEST_WELLS\n",
    "volume"
   ]
  },
  {
   "cell_type": "markdown",
   "metadata": {
    "id": "ZqhxQ8mLxymI"
   },
   "source": [
    "Для безубыточной разработки новой скважины объем сырья в ней должен составлять 111.12 тыс. баррелей."
   ]
  },
  {
   "cell_type": "code",
   "execution_count": 18,
   "metadata": {
    "colab": {
     "base_uri": "https://localhost:8080/"
    },
    "id": "j1-4rogiyINW",
    "outputId": "b33f91f2-e606-471f-b849-09819294c5ce"
   },
   "outputs": [
    {
     "name": "stdout",
     "output_type": "stream",
     "text": [
      "Средний объем сырья в скважине первого региона 92.50000000000001\n",
      "Средний объем сырья в скважине второго региона 68.82500000000002\n",
      "Средний объем сырья в скважине третьего региона 95.00000000000004\n"
     ]
    }
   ],
   "source": [
    "print('Средний объем сырья в скважине первого региона', df_1['product'].mean())\n",
    "print('Средний объем сырья в скважине второго региона', df_2['product'].mean())\n",
    "print('Средний объем сырья в скважине третьего региона', df_3['product'].mean())"
   ]
  },
  {
   "cell_type": "markdown",
   "metadata": {
    "id": "c0A4Xj_Szt9i"
   },
   "source": [
    "Средний объем сырья в скважинах каждого региона меньше, чем необходимый объем сырья для безубыточной разработки. Наименьший средний объем сырья наблюдается во втором регионе."
   ]
  },
  {
   "cell_type": "markdown",
   "metadata": {
    "id": "VLZlPmNv4O_L"
   },
   "source": [
    "## Расчёт прибыли и рисков "
   ]
  },
  {
   "cell_type": "code",
   "execution_count": 19,
   "metadata": {
    "id": "eday1RwSwxIF"
   },
   "outputs": [],
   "source": [
    "def revenue(target, predictions, count, income):\n",
    "    pred_sorted = predictions.sort_values(ascending=False)\n",
    "    selected = target[pred_sorted.index][:count]\n",
    "    return (INCOME * selected.sum())-BUDGET"
   ]
  },
  {
   "cell_type": "markdown",
   "metadata": {
    "id": "SfFpY89v5Azo"
   },
   "source": [
    "Напиcали функцию для расчёта прибыли по выбранным скважинам и предсказаниям модели."
   ]
  },
  {
   "cell_type": "code",
   "execution_count": 20,
   "metadata": {
    "id": "uj8drUqZSsK6"
   },
   "outputs": [],
   "source": [
    "predictions_valid_1 = pd.Series(predictions_valid_1, index=target_valid_1.index)\n",
    "predictions_valid_2 = pd.Series(predictions_valid_2, index=target_valid_2.index)\n",
    "predictions_valid_3 = pd.Series(predictions_valid_3, index=target_valid_3.index)"
   ]
  },
  {
   "cell_type": "code",
   "execution_count": 21,
   "metadata": {
    "colab": {
     "base_uri": "https://localhost:8080/"
    },
    "id": "mqu2IZSV1j8Q",
    "outputId": "44c77dd4-f058-4800-c4d9-a52fe936f865",
    "scrolled": true
   },
   "outputs": [
    {
     "name": "stdout",
     "output_type": "stream",
     "text": [
      "Прибыль для первого региона: 3320826043.1398506\n",
      "Прибыль для второго региона: 2415086696.681511\n",
      "Прибыль для третьего региона: 2710349963.5998325\n"
     ]
    }
   ],
   "source": [
    "print('Прибыль для первого региона:', revenue(target_valid_1, predictions_valid_1, BEST_WELLS, INCOME))\n",
    "print('Прибыль для второго региона:', revenue(target_valid_2, predictions_valid_2, BEST_WELLS, INCOME))\n",
    "print('Прибыль для третьего региона:', revenue(target_valid_3, predictions_valid_3, BEST_WELLS, INCOME))"
   ]
  },
  {
   "cell_type": "markdown",
   "metadata": {
    "id": "B0R6JBoO2Mj_"
   },
   "source": [
    "Прибыль для 200 скважин, выбранных на основе предсказанных данных составила:\n",
    "\n",
    "\n",
    "1.   Для первого региона: 3.32 млрд.руб.;\n",
    "2.   Для второго региона: 2.42 млрд.руб.;\n",
    "3.   Для третьего региона: 2.71 млрд.руб.\n"
   ]
  },
  {
   "cell_type": "code",
   "execution_count": 22,
   "metadata": {
    "id": "4Bjw8tmwPRRM"
   },
   "outputs": [],
   "source": [
    "state = np.random.RandomState(12345)\n",
    "def bootstrap_revenue(target_valid, predictions_valid):     \n",
    "  values = []\n",
    "  for i in range(1000):\n",
    "    target_subsample = target_valid.sample(TOTAL_WELLS, replace=True, random_state=state)\n",
    "    pred_subsample = predictions_valid[target_subsample.index] \n",
    "    values.append(revenue(target_subsample, pred_subsample, BEST_WELLS, INCOME))\n",
    "  return values"
   ]
  },
  {
   "cell_type": "markdown",
   "metadata": {
    "id": "U5YVPizP5Nro"
   },
   "source": [
    "Создали функцию, в которой применили технику Bootstrap с 1000 выборок, чтобы найти распределение прибыли."
   ]
  },
  {
   "cell_type": "code",
   "execution_count": 23,
   "metadata": {
    "id": "9Zjidcxr1WMP"
   },
   "outputs": [],
   "source": [
    "revenue_1 = pd.Series(bootstrap_revenue(target_valid_1, predictions_valid_1))"
   ]
  },
  {
   "cell_type": "code",
   "execution_count": 24,
   "metadata": {
    "id": "Xu1ndH0Y6DNb"
   },
   "outputs": [],
   "source": [
    "revenue_2 = pd.Series(bootstrap_revenue(target_valid_2, predictions_valid_2))"
   ]
  },
  {
   "cell_type": "code",
   "execution_count": 25,
   "metadata": {
    "id": "py-I71Ks6XpK"
   },
   "outputs": [],
   "source": [
    "revenue_3 = pd.Series(bootstrap_revenue(target_valid_3, predictions_valid_3))"
   ]
  },
  {
   "cell_type": "markdown",
   "metadata": {
    "id": "6aEGqv7S7ahY"
   },
   "source": [
    "Для каждого региона применили функцию."
   ]
  },
  {
   "cell_type": "code",
   "execution_count": 26,
   "metadata": {
    "colab": {
     "base_uri": "https://localhost:8080/"
    },
    "id": "Z4Mbrs2GTAdP",
    "outputId": "3c6f669c-8610-4264-8e2d-2c608d99ebdd"
   },
   "outputs": [
    {
     "name": "stdout",
     "output_type": "stream",
     "text": [
      "Средняя прибыль для первого региона: 425938526.91059244\n",
      "Средняя прибыль для второго региона: 518259493.6973249\n",
      "Средняя прибыль для третьего региона: 420194005.3440501\n"
     ]
    }
   ],
   "source": [
    "print('Средняя прибыль для первого региона:', revenue_1.mean())\n",
    "print('Средняя прибыль для второго региона:',revenue_2.mean())\n",
    "print('Средняя прибыль для третьего региона:',revenue_3.mean())"
   ]
  },
  {
   "cell_type": "markdown",
   "metadata": {
    "id": "-WZ23LKBTY1o"
   },
   "source": [
    "Для первого региона средняя прибыль составляет 425.94 млн. руб., для второго - 518.26 млн. руб., для третьего - 420.19 млн. руб. "
   ]
  },
  {
   "cell_type": "code",
   "execution_count": 27,
   "metadata": {},
   "outputs": [
    {
     "name": "stdout",
     "output_type": "stream",
     "text": [
      "95%-й доверительный интервал прибыли для первого региона: от -102090094.83793654 до 947976353.3583689\n",
      "95%-й доверительный интервал прибыли для второго региона: от 128123231.43308444 до 953612982.0669085\n",
      "95%-й доверительный интервал прибыли для третьего региона: от -115852609.16001143 до 989629939.8445739\n"
     ]
    }
   ],
   "source": [
    "print('95%-й доверительный интервал прибыли для первого региона: от', revenue_1.quantile(0.025),'до', revenue_1.quantile(0.975))\n",
    "print('95%-й доверительный интервал прибыли для второго региона: от',revenue_2.quantile(0.025),'до', revenue_2.quantile(0.975))\n",
    "print('95%-й доверительный интервал прибыли для третьего региона: от',revenue_3.quantile(0.025),'до', revenue_3.quantile(0.975))"
   ]
  },
  {
   "cell_type": "markdown",
   "metadata": {},
   "source": [
    "С 95% вероятностью прибыль для отдельно взятого месторождения составит:\n",
    "\n",
    "\n",
    "1.   Для первого региона: от -102.09 млн. руб. до 947.98 млн. руб.;\n",
    "2.   Для второго региона: от 128.12 млн. руб. до 953.61 млн. руб.;\n",
    "3.   Для третьего региона: от -115.85 млн. руб. до 989.63 млн. руб."
   ]
  },
  {
   "cell_type": "code",
   "execution_count": 28,
   "metadata": {
    "colab": {
     "base_uri": "https://localhost:8080/"
    },
    "id": "oayDjrPgNgAN",
    "outputId": "bc22fa4d-45b8-4c3f-b308-aa49e4d41150"
   },
   "outputs": [
    {
     "name": "stdout",
     "output_type": "stream",
     "text": [
      "95%-й доверительный интервал для первого региона: (408732207.06869864, 443144846.7524862)\n",
      "95%-й доверительный интервал для второго региона: (505249881.5766217, 531269105.81802803)\n",
      "95%-й доверительный интервал для третьего региона: (402528703.65036154, 437859307.0377387)\n"
     ]
    }
   ],
   "source": [
    "print('95%-й доверительный интервал для первого региона:', st.t.interval(0.95, len(revenue_1)-1, revenue_1.mean(), revenue_1.sem()))\n",
    "print('95%-й доверительный интервал для второго региона:', st.t.interval(0.95, len(revenue_2)-1, revenue_2.mean(), revenue_2.sem()))\n",
    "print('95%-й доверительный интервал для третьего региона:', st.t.interval(0.95, len(revenue_3)-1, revenue_3.mean(), revenue_3.sem()))"
   ]
  },
  {
   "cell_type": "markdown",
   "metadata": {
    "id": "pF9E_NI3OTj4"
   },
   "source": [
    "С 95% вероятностью средняя прибыль составляет:\n",
    "\n",
    "\n",
    "1.   Для первого региона: от 408.73 млн. руб. до 443.14 млн. руб.;\n",
    "2.   Для второго региона: от 505.25 млн. руб. до 531.13 млн. руб.;\n",
    "3.   Для третьего региона: от 402.53 млн. руб. до 437.86 млн. руб.\n",
    "\n",
    "\n"
   ]
  },
  {
   "cell_type": "code",
   "execution_count": 29,
   "metadata": {
    "colab": {
     "base_uri": "https://localhost:8080/"
    },
    "id": "kvd6OkxcV5qY",
    "outputId": "2b715f8d-ccb4-41fb-9ff7-9d28cf313625"
   },
   "outputs": [
    {
     "name": "stdout",
     "output_type": "stream",
     "text": [
      "Риск убытков для первого региона: 6.00%\n",
      "Риск убытков для второго региона: 0.30%\n",
      "Риск убытков для третьего региона: 6.20%\n"
     ]
    }
   ],
   "source": [
    "print('Риск убытков для первого региона: {:.2%}'. format((revenue_1 < 0).mean()))\n",
    "print('Риск убытков для второго региона: {:.2%}'. format((revenue_2 < 0).mean()))\n",
    "print('Риск убытков для третьего региона: {:.2%}'. format((revenue_3 < 0).mean()))"
   ]
  },
  {
   "cell_type": "markdown",
   "metadata": {
    "id": "jwuFNHMsJfpq"
   },
   "source": [
    "Риск убытков (соотношение отрицательного показателя прибыли к количеству скважин) составил:\n",
    "\n",
    "\n",
    "1.   Для первого региона 6%\n",
    "2.   Для второго региона 0.3%\n",
    "3.   Для третьего региона 6.2%\n",
    "\n"
   ]
  },
  {
   "cell_type": "markdown",
   "metadata": {
    "id": "_FQkxb3WYED2"
   },
   "source": [
    "## Вывод"
   ]
  },
  {
   "cell_type": "markdown",
   "metadata": {
    "id": "YUJ_73EaYLh2"
   },
   "source": [
    "Таким образом, лучшим регионам для разработки скважин является второй регион, так как с 95% вероятностью полученная прибыль от добычи нефти в нем составит от от 505.25 млн. руб. до 531.13 млн. руб., что является максимальным значением среди всех регионов, при этом риск убытков является минимальным и составляет 0.3%. Кроме того, модель линейной регрессии для второго региона является наилучшей по метрикам RMSE, MAE и R^2."
   ]
  }
 ],
 "metadata": {
  "ExecuteTimeLog": [
   {
    "duration": 1437,
    "start_time": "2022-07-01T08:34:13.176Z"
   },
   {
    "duration": 1767,
    "start_time": "2022-07-01T08:34:14.615Z"
   },
   {
    "duration": 19,
    "start_time": "2022-07-01T08:34:16.383Z"
   },
   {
    "duration": 33,
    "start_time": "2022-07-01T08:34:16.403Z"
   },
   {
    "duration": 9,
    "start_time": "2022-07-01T08:34:16.439Z"
   },
   {
    "duration": 16,
    "start_time": "2022-07-01T08:34:16.450Z"
   },
   {
    "duration": 9,
    "start_time": "2022-07-01T08:34:16.468Z"
   },
   {
    "duration": 16,
    "start_time": "2022-07-01T08:34:16.479Z"
   },
   {
    "duration": 35,
    "start_time": "2022-07-01T08:34:16.498Z"
   },
   {
    "duration": 32,
    "start_time": "2022-07-01T08:34:16.535Z"
   },
   {
    "duration": 70,
    "start_time": "2022-07-01T08:34:16.569Z"
   },
   {
    "duration": 198,
    "start_time": "2022-07-01T08:34:16.644Z"
   },
   {
    "duration": 102,
    "start_time": "2022-07-01T08:34:16.928Z"
   },
   {
    "duration": 4,
    "start_time": "2022-07-01T08:34:17.034Z"
   },
   {
    "duration": 98,
    "start_time": "2022-07-01T08:34:17.041Z"
   },
   {
    "duration": 9,
    "start_time": "2022-07-01T08:34:17.141Z"
   },
   {
    "duration": 8,
    "start_time": "2022-07-01T08:34:17.152Z"
   },
   {
    "duration": 131,
    "start_time": "2022-07-01T08:34:17.162Z"
   },
   {
    "duration": 0,
    "start_time": "2022-07-01T08:34:17.295Z"
   },
   {
    "duration": 0,
    "start_time": "2022-07-01T08:34:17.296Z"
   },
   {
    "duration": 0,
    "start_time": "2022-07-01T08:34:17.297Z"
   },
   {
    "duration": 0,
    "start_time": "2022-07-01T08:34:17.299Z"
   },
   {
    "duration": 0,
    "start_time": "2022-07-01T08:34:17.300Z"
   },
   {
    "duration": 0,
    "start_time": "2022-07-01T08:34:17.301Z"
   },
   {
    "duration": 0,
    "start_time": "2022-07-01T08:34:17.302Z"
   },
   {
    "duration": 0,
    "start_time": "2022-07-01T08:34:17.303Z"
   },
   {
    "duration": 13,
    "start_time": "2022-07-01T08:35:08.397Z"
   },
   {
    "duration": 5,
    "start_time": "2022-07-01T08:35:37.968Z"
   },
   {
    "duration": 24,
    "start_time": "2022-07-01T08:35:39.670Z"
   },
   {
    "duration": 1637,
    "start_time": "2022-07-01T08:35:46.145Z"
   },
   {
    "duration": 1060,
    "start_time": "2022-07-01T08:35:47.784Z"
   },
   {
    "duration": 14,
    "start_time": "2022-07-01T08:35:48.846Z"
   },
   {
    "duration": 18,
    "start_time": "2022-07-01T08:35:48.863Z"
   },
   {
    "duration": 10,
    "start_time": "2022-07-01T08:35:48.882Z"
   },
   {
    "duration": 39,
    "start_time": "2022-07-01T08:35:48.894Z"
   },
   {
    "duration": 10,
    "start_time": "2022-07-01T08:35:48.935Z"
   },
   {
    "duration": 17,
    "start_time": "2022-07-01T08:35:48.946Z"
   },
   {
    "duration": 7,
    "start_time": "2022-07-01T08:35:48.964Z"
   },
   {
    "duration": 60,
    "start_time": "2022-07-01T08:35:48.973Z"
   },
   {
    "duration": 198,
    "start_time": "2022-07-01T08:35:49.035Z"
   },
   {
    "duration": 95,
    "start_time": "2022-07-01T08:35:49.235Z"
   },
   {
    "duration": 115,
    "start_time": "2022-07-01T08:35:49.332Z"
   },
   {
    "duration": 79,
    "start_time": "2022-07-01T08:35:49.451Z"
   },
   {
    "duration": 97,
    "start_time": "2022-07-01T08:35:49.535Z"
   },
   {
    "duration": 8,
    "start_time": "2022-07-01T08:35:49.633Z"
   },
   {
    "duration": 3,
    "start_time": "2022-07-01T08:35:49.643Z"
   },
   {
    "duration": 7,
    "start_time": "2022-07-01T08:35:49.648Z"
   },
   {
    "duration": 21,
    "start_time": "2022-07-01T08:35:49.657Z"
   },
   {
    "duration": 5,
    "start_time": "2022-07-01T08:35:49.680Z"
   },
   {
    "duration": 1333,
    "start_time": "2022-07-01T08:35:49.687Z"
   },
   {
    "duration": 1326,
    "start_time": "2022-07-01T08:35:51.021Z"
   },
   {
    "duration": 1296,
    "start_time": "2022-07-01T08:35:52.349Z"
   },
   {
    "duration": 6,
    "start_time": "2022-07-01T08:35:53.646Z"
   },
   {
    "duration": 22,
    "start_time": "2022-07-01T08:35:53.653Z"
   },
   {
    "duration": 9,
    "start_time": "2022-07-01T08:35:53.677Z"
   },
   {
    "duration": 12,
    "start_time": "2022-07-01T13:32:55.153Z"
   },
   {
    "duration": 1766,
    "start_time": "2022-07-01T13:32:59.891Z"
   },
   {
    "duration": 1111,
    "start_time": "2022-07-01T13:33:01.661Z"
   },
   {
    "duration": 22,
    "start_time": "2022-07-01T13:33:02.774Z"
   },
   {
    "duration": 25,
    "start_time": "2022-07-01T13:33:02.798Z"
   },
   {
    "duration": 8,
    "start_time": "2022-07-01T13:33:02.825Z"
   },
   {
    "duration": 35,
    "start_time": "2022-07-01T13:33:02.835Z"
   },
   {
    "duration": 10,
    "start_time": "2022-07-01T13:33:02.871Z"
   },
   {
    "duration": 36,
    "start_time": "2022-07-01T13:33:02.882Z"
   },
   {
    "duration": 8,
    "start_time": "2022-07-01T13:33:02.919Z"
   },
   {
    "duration": 39,
    "start_time": "2022-07-01T13:33:02.930Z"
   },
   {
    "duration": 6,
    "start_time": "2022-07-01T13:33:02.977Z"
   },
   {
    "duration": 187,
    "start_time": "2022-07-01T13:33:02.984Z"
   },
   {
    "duration": 105,
    "start_time": "2022-07-01T13:33:03.174Z"
   },
   {
    "duration": 184,
    "start_time": "2022-07-01T13:33:03.284Z"
   },
   {
    "duration": 92,
    "start_time": "2022-07-01T13:33:03.474Z"
   },
   {
    "duration": 37,
    "start_time": "2022-07-01T13:33:03.567Z"
   },
   {
    "duration": 8,
    "start_time": "2022-07-01T13:33:03.606Z"
   },
   {
    "duration": 7,
    "start_time": "2022-07-01T13:33:03.616Z"
   },
   {
    "duration": 5,
    "start_time": "2022-07-01T13:33:03.625Z"
   },
   {
    "duration": 40,
    "start_time": "2022-07-01T13:33:03.632Z"
   },
   {
    "duration": 14,
    "start_time": "2022-07-01T13:33:03.674Z"
   },
   {
    "duration": 1439,
    "start_time": "2022-07-01T13:33:03.692Z"
   },
   {
    "duration": 1431,
    "start_time": "2022-07-01T13:33:05.133Z"
   },
   {
    "duration": 1481,
    "start_time": "2022-07-01T13:33:06.567Z"
   },
   {
    "duration": 24,
    "start_time": "2022-07-01T13:33:08.050Z"
   },
   {
    "duration": 17,
    "start_time": "2022-07-01T13:33:08.081Z"
   },
   {
    "duration": 10,
    "start_time": "2022-07-01T13:33:08.101Z"
   },
   {
    "duration": 4,
    "start_time": "2022-07-01T13:33:15.500Z"
   },
   {
    "duration": 146,
    "start_time": "2022-07-01T13:33:25.028Z"
   },
   {
    "duration": 133,
    "start_time": "2022-07-01T13:34:09.049Z"
   },
   {
    "duration": 183,
    "start_time": "2022-07-01T13:34:38.890Z"
   },
   {
    "duration": 3,
    "start_time": "2022-07-01T13:40:07.422Z"
   },
   {
    "duration": 4,
    "start_time": "2022-07-01T13:40:44.435Z"
   },
   {
    "duration": 3,
    "start_time": "2022-07-01T13:40:58.139Z"
   },
   {
    "duration": 120,
    "start_time": "2022-07-01T13:41:09.877Z"
   },
   {
    "duration": 4,
    "start_time": "2022-07-01T13:41:16.237Z"
   },
   {
    "duration": 23,
    "start_time": "2022-07-01T13:41:18.225Z"
   },
   {
    "duration": 4,
    "start_time": "2022-07-01T13:41:23.222Z"
   },
   {
    "duration": 1212,
    "start_time": "2022-07-01T13:41:23.228Z"
   },
   {
    "duration": 9,
    "start_time": "2022-07-01T13:41:24.442Z"
   },
   {
    "duration": 21,
    "start_time": "2022-07-01T13:41:24.468Z"
   },
   {
    "duration": 12,
    "start_time": "2022-07-01T13:41:24.492Z"
   },
   {
    "duration": 16,
    "start_time": "2022-07-01T13:41:24.506Z"
   },
   {
    "duration": 9,
    "start_time": "2022-07-01T13:41:24.524Z"
   },
   {
    "duration": 16,
    "start_time": "2022-07-01T13:41:24.534Z"
   },
   {
    "duration": 17,
    "start_time": "2022-07-01T13:41:24.563Z"
   },
   {
    "duration": 33,
    "start_time": "2022-07-01T13:41:24.584Z"
   },
   {
    "duration": 4,
    "start_time": "2022-07-01T13:41:24.619Z"
   },
   {
    "duration": 8,
    "start_time": "2022-07-01T13:41:24.625Z"
   },
   {
    "duration": 149,
    "start_time": "2022-07-01T13:41:24.634Z"
   },
   {
    "duration": 104,
    "start_time": "2022-07-01T13:41:24.794Z"
   },
   {
    "duration": 198,
    "start_time": "2022-07-01T13:41:24.971Z"
   },
   {
    "duration": 93,
    "start_time": "2022-07-01T13:41:25.171Z"
   },
   {
    "duration": 41,
    "start_time": "2022-07-01T13:41:25.265Z"
   },
   {
    "duration": 57,
    "start_time": "2022-07-01T13:41:25.309Z"
   },
   {
    "duration": 40,
    "start_time": "2022-07-01T13:41:25.371Z"
   },
   {
    "duration": 6,
    "start_time": "2022-07-01T13:41:25.413Z"
   },
   {
    "duration": 20,
    "start_time": "2022-07-01T13:41:25.420Z"
   },
   {
    "duration": 5,
    "start_time": "2022-07-01T13:41:25.443Z"
   },
   {
    "duration": 1356,
    "start_time": "2022-07-01T13:41:25.449Z"
   },
   {
    "duration": 1397,
    "start_time": "2022-07-01T13:41:26.807Z"
   },
   {
    "duration": 1370,
    "start_time": "2022-07-01T13:41:28.206Z"
   },
   {
    "duration": 7,
    "start_time": "2022-07-01T13:41:29.579Z"
   },
   {
    "duration": 10,
    "start_time": "2022-07-01T13:41:29.587Z"
   },
   {
    "duration": 10,
    "start_time": "2022-07-01T13:41:29.599Z"
   },
   {
    "duration": 11,
    "start_time": "2022-07-01T15:42:37.008Z"
   },
   {
    "duration": 1314,
    "start_time": "2022-07-01T15:44:02.895Z"
   },
   {
    "duration": 1260,
    "start_time": "2022-07-01T15:44:04.211Z"
   },
   {
    "duration": 28,
    "start_time": "2022-07-01T15:44:05.475Z"
   },
   {
    "duration": 28,
    "start_time": "2022-07-01T15:44:05.504Z"
   },
   {
    "duration": 12,
    "start_time": "2022-07-01T15:44:05.535Z"
   },
   {
    "duration": 51,
    "start_time": "2022-07-01T15:44:05.548Z"
   },
   {
    "duration": 19,
    "start_time": "2022-07-01T15:44:05.601Z"
   },
   {
    "duration": 34,
    "start_time": "2022-07-01T15:44:05.622Z"
   },
   {
    "duration": 57,
    "start_time": "2022-07-01T15:44:05.658Z"
   },
   {
    "duration": 27,
    "start_time": "2022-07-01T15:44:05.717Z"
   },
   {
    "duration": 4,
    "start_time": "2022-07-01T15:44:05.746Z"
   },
   {
    "duration": 50,
    "start_time": "2022-07-01T15:44:05.752Z"
   },
   {
    "duration": 181,
    "start_time": "2022-07-01T15:44:05.804Z"
   },
   {
    "duration": 274,
    "start_time": "2022-07-01T15:44:05.992Z"
   },
   {
    "duration": 207,
    "start_time": "2022-07-01T15:44:06.270Z"
   },
   {
    "duration": 14,
    "start_time": "2022-07-01T15:44:06.479Z"
   },
   {
    "duration": 68,
    "start_time": "2022-07-01T15:44:06.497Z"
   },
   {
    "duration": 36,
    "start_time": "2022-07-01T15:44:06.570Z"
   },
   {
    "duration": 5,
    "start_time": "2022-07-01T15:44:06.607Z"
   },
   {
    "duration": 8,
    "start_time": "2022-07-01T15:44:06.613Z"
   },
   {
    "duration": 26,
    "start_time": "2022-07-01T15:44:06.622Z"
   },
   {
    "duration": 3,
    "start_time": "2022-07-01T15:44:06.650Z"
   },
   {
    "duration": 151,
    "start_time": "2022-07-01T15:44:06.655Z"
   },
   {
    "duration": 0,
    "start_time": "2022-07-01T15:44:06.808Z"
   },
   {
    "duration": 0,
    "start_time": "2022-07-01T15:44:06.809Z"
   },
   {
    "duration": 0,
    "start_time": "2022-07-01T15:44:06.810Z"
   },
   {
    "duration": 0,
    "start_time": "2022-07-01T15:44:06.811Z"
   },
   {
    "duration": 0,
    "start_time": "2022-07-01T15:44:06.813Z"
   },
   {
    "duration": 0,
    "start_time": "2022-07-01T15:44:06.814Z"
   },
   {
    "duration": 5,
    "start_time": "2022-07-01T15:47:11.878Z"
   },
   {
    "duration": 1413,
    "start_time": "2022-07-01T15:47:13.898Z"
   },
   {
    "duration": 1406,
    "start_time": "2022-07-01T15:47:16.083Z"
   },
   {
    "duration": 1440,
    "start_time": "2022-07-01T15:47:17.490Z"
   },
   {
    "duration": 4,
    "start_time": "2022-07-01T15:47:22.719Z"
   },
   {
    "duration": 1320,
    "start_time": "2022-07-01T15:47:32.514Z"
   },
   {
    "duration": 929,
    "start_time": "2022-07-01T15:47:33.836Z"
   },
   {
    "duration": 18,
    "start_time": "2022-07-01T15:47:34.768Z"
   },
   {
    "duration": 29,
    "start_time": "2022-07-01T15:47:34.792Z"
   },
   {
    "duration": 9,
    "start_time": "2022-07-01T15:47:34.823Z"
   },
   {
    "duration": 16,
    "start_time": "2022-07-01T15:47:34.833Z"
   },
   {
    "duration": 12,
    "start_time": "2022-07-01T15:47:34.851Z"
   },
   {
    "duration": 47,
    "start_time": "2022-07-01T15:47:34.866Z"
   },
   {
    "duration": 7,
    "start_time": "2022-07-01T15:47:34.914Z"
   },
   {
    "duration": 30,
    "start_time": "2022-07-01T15:47:34.922Z"
   },
   {
    "duration": 4,
    "start_time": "2022-07-01T15:47:34.954Z"
   },
   {
    "duration": 46,
    "start_time": "2022-07-01T15:47:34.959Z"
   },
   {
    "duration": 72,
    "start_time": "2022-07-01T15:47:35.007Z"
   },
   {
    "duration": 295,
    "start_time": "2022-07-01T15:47:35.089Z"
   },
   {
    "duration": 206,
    "start_time": "2022-07-01T15:47:35.389Z"
   },
   {
    "duration": 60,
    "start_time": "2022-07-01T15:47:35.603Z"
   },
   {
    "duration": 38,
    "start_time": "2022-07-01T15:47:35.674Z"
   },
   {
    "duration": 88,
    "start_time": "2022-07-01T15:47:35.713Z"
   },
   {
    "duration": 3,
    "start_time": "2022-07-01T15:47:35.803Z"
   },
   {
    "duration": 6,
    "start_time": "2022-07-01T15:47:35.807Z"
   },
   {
    "duration": 20,
    "start_time": "2022-07-01T15:47:35.815Z"
   },
   {
    "duration": 4,
    "start_time": "2022-07-01T15:47:35.836Z"
   },
   {
    "duration": 133,
    "start_time": "2022-07-01T15:47:35.841Z"
   },
   {
    "duration": 0,
    "start_time": "2022-07-01T15:47:35.981Z"
   },
   {
    "duration": 0,
    "start_time": "2022-07-01T15:47:35.982Z"
   },
   {
    "duration": 0,
    "start_time": "2022-07-01T15:47:35.984Z"
   },
   {
    "duration": 0,
    "start_time": "2022-07-01T15:47:35.988Z"
   },
   {
    "duration": 0,
    "start_time": "2022-07-01T15:47:35.989Z"
   },
   {
    "duration": 0,
    "start_time": "2022-07-01T15:47:35.990Z"
   },
   {
    "duration": 5,
    "start_time": "2022-07-01T15:47:55.991Z"
   },
   {
    "duration": 1456,
    "start_time": "2022-07-01T15:48:02.149Z"
   },
   {
    "duration": 821,
    "start_time": "2022-07-01T15:48:03.609Z"
   },
   {
    "duration": 13,
    "start_time": "2022-07-01T15:48:04.431Z"
   },
   {
    "duration": 34,
    "start_time": "2022-07-01T15:48:04.459Z"
   },
   {
    "duration": 12,
    "start_time": "2022-07-01T15:48:04.501Z"
   },
   {
    "duration": 18,
    "start_time": "2022-07-01T15:48:04.515Z"
   },
   {
    "duration": 10,
    "start_time": "2022-07-01T15:48:04.535Z"
   },
   {
    "duration": 24,
    "start_time": "2022-07-01T15:48:04.547Z"
   },
   {
    "duration": 36,
    "start_time": "2022-07-01T15:48:04.573Z"
   },
   {
    "duration": 36,
    "start_time": "2022-07-01T15:48:04.612Z"
   },
   {
    "duration": 4,
    "start_time": "2022-07-01T15:48:04.650Z"
   },
   {
    "duration": 41,
    "start_time": "2022-07-01T15:48:04.655Z"
   },
   {
    "duration": 91,
    "start_time": "2022-07-01T15:48:04.698Z"
   },
   {
    "duration": 293,
    "start_time": "2022-07-01T15:48:04.792Z"
   },
   {
    "duration": 303,
    "start_time": "2022-07-01T15:48:05.091Z"
   },
   {
    "duration": 12,
    "start_time": "2022-07-01T15:48:05.462Z"
   },
   {
    "duration": 31,
    "start_time": "2022-07-01T15:48:05.475Z"
   },
   {
    "duration": 7,
    "start_time": "2022-07-01T15:48:05.508Z"
   },
   {
    "duration": 5,
    "start_time": "2022-07-01T15:48:05.517Z"
   },
   {
    "duration": 6,
    "start_time": "2022-07-01T15:48:05.523Z"
   },
   {
    "duration": 19,
    "start_time": "2022-07-01T15:48:05.530Z"
   },
   {
    "duration": 4,
    "start_time": "2022-07-01T15:48:05.550Z"
   },
   {
    "duration": 1426,
    "start_time": "2022-07-01T15:48:05.555Z"
   },
   {
    "duration": 1471,
    "start_time": "2022-07-01T15:48:06.983Z"
   },
   {
    "duration": 1447,
    "start_time": "2022-07-01T15:48:08.455Z"
   },
   {
    "duration": 6,
    "start_time": "2022-07-01T15:48:09.908Z"
   },
   {
    "duration": 22,
    "start_time": "2022-07-01T15:48:09.915Z"
   },
   {
    "duration": 43,
    "start_time": "2022-07-01T15:48:09.940Z"
   },
   {
    "duration": 70,
    "start_time": "2022-07-01T15:48:09.984Z"
   }
  ],
  "colab": {
   "name": "Нефть.ipynb",
   "provenance": []
  },
  "kernelspec": {
   "display_name": "Python 3 (ipykernel)",
   "language": "python",
   "name": "python3"
  },
  "language_info": {
   "codemirror_mode": {
    "name": "ipython",
    "version": 3
   },
   "file_extension": ".py",
   "mimetype": "text/x-python",
   "name": "python",
   "nbconvert_exporter": "python",
   "pygments_lexer": "ipython3",
   "version": "3.9.5"
  },
  "toc": {
   "base_numbering": 1,
   "nav_menu": {},
   "number_sections": true,
   "sideBar": true,
   "skip_h1_title": true,
   "title_cell": "Table of Contents",
   "title_sidebar": "Contents",
   "toc_cell": false,
   "toc_position": {},
   "toc_section_display": true,
   "toc_window_display": false
  }
 },
 "nbformat": 4,
 "nbformat_minor": 1
}
