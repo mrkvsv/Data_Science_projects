{
  "metadata": {
    "ExecuteTimeLog": [
      {
        "duration": 1343,
        "start_time": "2022-05-18T12:26:08.700Z"
      },
      {
        "duration": 220,
        "start_time": "2022-05-18T12:26:10.045Z"
      },
      {
        "duration": 21,
        "start_time": "2022-05-18T12:26:10.272Z"
      },
      {
        "duration": 3,
        "start_time": "2022-05-18T12:26:10.294Z"
      },
      {
        "duration": 15,
        "start_time": "2022-05-18T12:26:10.299Z"
      },
      {
        "duration": 14,
        "start_time": "2022-05-18T12:26:10.316Z"
      },
      {
        "duration": 29,
        "start_time": "2022-05-18T12:26:10.332Z"
      },
      {
        "duration": 4,
        "start_time": "2022-05-18T12:26:10.363Z"
      },
      {
        "duration": 21,
        "start_time": "2022-05-18T12:26:10.369Z"
      },
      {
        "duration": 2,
        "start_time": "2022-05-18T12:26:10.393Z"
      },
      {
        "duration": 12,
        "start_time": "2022-05-18T12:26:10.397Z"
      },
      {
        "duration": 7,
        "start_time": "2022-05-18T12:26:10.410Z"
      },
      {
        "duration": 24,
        "start_time": "2022-05-18T12:26:10.419Z"
      },
      {
        "duration": 25,
        "start_time": "2022-05-18T12:26:10.444Z"
      },
      {
        "duration": 18,
        "start_time": "2022-05-18T12:26:10.470Z"
      },
      {
        "duration": 8,
        "start_time": "2022-05-18T12:26:10.490Z"
      },
      {
        "duration": 13,
        "start_time": "2022-05-18T12:26:10.499Z"
      },
      {
        "duration": 10,
        "start_time": "2022-05-18T12:26:10.514Z"
      },
      {
        "duration": 4,
        "start_time": "2022-05-18T12:26:10.525Z"
      },
      {
        "duration": 6,
        "start_time": "2022-05-18T12:26:10.531Z"
      },
      {
        "duration": 32,
        "start_time": "2022-05-18T12:26:10.538Z"
      },
      {
        "duration": 5,
        "start_time": "2022-05-18T12:26:10.573Z"
      },
      {
        "duration": 259,
        "start_time": "2022-05-18T12:26:10.580Z"
      },
      {
        "duration": 32,
        "start_time": "2022-05-18T12:26:10.841Z"
      },
      {
        "duration": 10,
        "start_time": "2022-05-18T12:26:10.876Z"
      },
      {
        "duration": 22,
        "start_time": "2022-05-18T12:26:10.887Z"
      },
      {
        "duration": 7,
        "start_time": "2022-05-18T12:26:10.911Z"
      },
      {
        "duration": 8,
        "start_time": "2022-05-18T12:26:10.921Z"
      },
      {
        "duration": 47,
        "start_time": "2022-05-18T12:26:10.931Z"
      },
      {
        "duration": 26,
        "start_time": "2022-05-18T12:26:10.980Z"
      },
      {
        "duration": 345,
        "start_time": "2022-05-18T12:26:11.007Z"
      },
      {
        "duration": 10,
        "start_time": "2022-05-18T12:26:11.354Z"
      },
      {
        "duration": 202,
        "start_time": "2022-05-18T12:26:11.365Z"
      },
      {
        "duration": 277,
        "start_time": "2022-05-18T12:26:11.573Z"
      },
      {
        "duration": 13,
        "start_time": "2022-05-18T12:26:11.852Z"
      },
      {
        "duration": 234,
        "start_time": "2022-05-18T12:26:11.866Z"
      },
      {
        "duration": 5,
        "start_time": "2022-05-18T12:26:12.102Z"
      },
      {
        "duration": 266,
        "start_time": "2022-05-18T12:26:12.109Z"
      },
      {
        "duration": 5,
        "start_time": "2022-05-18T12:26:12.377Z"
      },
      {
        "duration": 6,
        "start_time": "2022-05-18T12:26:12.384Z"
      },
      {
        "duration": 5,
        "start_time": "2022-05-18T12:29:15.418Z"
      },
      {
        "duration": 5,
        "start_time": "2022-05-18T12:29:37.075Z"
      },
      {
        "duration": 125,
        "start_time": "2022-05-18T12:31:16.548Z"
      },
      {
        "duration": 5,
        "start_time": "2022-05-18T12:31:20.416Z"
      },
      {
        "duration": 253,
        "start_time": "2022-05-18T12:31:22.221Z"
      },
      {
        "duration": 4,
        "start_time": "2022-05-18T12:31:28.744Z"
      },
      {
        "duration": 237,
        "start_time": "2022-05-18T12:31:33.153Z"
      },
      {
        "duration": 4,
        "start_time": "2022-05-18T12:31:39.688Z"
      },
      {
        "duration": 5,
        "start_time": "2022-05-18T12:31:51.608Z"
      },
      {
        "duration": 7,
        "start_time": "2022-05-18T12:32:01.386Z"
      },
      {
        "duration": 317,
        "start_time": "2022-05-18T12:35:07.946Z"
      },
      {
        "duration": 345,
        "start_time": "2022-05-18T12:35:22.683Z"
      },
      {
        "duration": 10,
        "start_time": "2022-05-18T12:36:30.090Z"
      },
      {
        "duration": 3,
        "start_time": "2022-05-18T12:36:49.523Z"
      },
      {
        "duration": 9,
        "start_time": "2022-05-18T12:37:04.687Z"
      },
      {
        "duration": 4,
        "start_time": "2022-05-18T12:37:07.035Z"
      },
      {
        "duration": 4,
        "start_time": "2022-05-18T12:37:17.691Z"
      },
      {
        "duration": 4,
        "start_time": "2022-05-18T12:37:22.873Z"
      },
      {
        "duration": 4,
        "start_time": "2022-05-18T12:37:34.310Z"
      },
      {
        "duration": 7,
        "start_time": "2022-05-18T12:37:39.005Z"
      },
      {
        "duration": 8,
        "start_time": "2022-05-18T12:37:53.771Z"
      },
      {
        "duration": 20,
        "start_time": "2022-05-18T12:37:56.970Z"
      },
      {
        "duration": 5,
        "start_time": "2022-05-18T12:38:02.175Z"
      },
      {
        "duration": 455,
        "start_time": "2022-05-18T12:38:50.989Z"
      },
      {
        "duration": 478,
        "start_time": "2022-05-18T12:39:37.514Z"
      },
      {
        "duration": 245,
        "start_time": "2022-05-18T12:41:09.743Z"
      },
      {
        "duration": 469,
        "start_time": "2022-05-18T12:41:24.082Z"
      },
      {
        "duration": 475,
        "start_time": "2022-05-18T12:41:35.307Z"
      },
      {
        "duration": 471,
        "start_time": "2022-05-18T12:42:06.308Z"
      },
      {
        "duration": 490,
        "start_time": "2022-05-18T12:42:43.510Z"
      },
      {
        "duration": 434,
        "start_time": "2022-05-18T12:42:46.722Z"
      },
      {
        "duration": 416,
        "start_time": "2022-05-18T12:42:52.407Z"
      },
      {
        "duration": 532,
        "start_time": "2022-05-18T12:43:02.721Z"
      },
      {
        "duration": 464,
        "start_time": "2022-05-18T12:47:38.942Z"
      },
      {
        "duration": 608,
        "start_time": "2022-05-18T12:47:57.321Z"
      },
      {
        "duration": 496,
        "start_time": "2022-05-18T12:48:36.545Z"
      },
      {
        "duration": 483,
        "start_time": "2022-05-18T12:49:15.892Z"
      },
      {
        "duration": 5,
        "start_time": "2022-05-18T12:50:07.132Z"
      },
      {
        "duration": 5,
        "start_time": "2022-05-18T12:52:03.226Z"
      },
      {
        "duration": 5,
        "start_time": "2022-05-18T12:52:06.569Z"
      },
      {
        "duration": 4,
        "start_time": "2022-05-18T12:52:10.339Z"
      },
      {
        "duration": 5,
        "start_time": "2022-05-18T12:52:15.451Z"
      },
      {
        "duration": 4,
        "start_time": "2022-05-18T12:52:18.497Z"
      },
      {
        "duration": 15,
        "start_time": "2022-05-18T12:59:15.359Z"
      },
      {
        "duration": 3,
        "start_time": "2022-05-18T12:59:20.348Z"
      },
      {
        "duration": 69,
        "start_time": "2022-05-18T12:59:20.352Z"
      },
      {
        "duration": 11,
        "start_time": "2022-05-18T12:59:20.423Z"
      },
      {
        "duration": 16,
        "start_time": "2022-05-18T12:59:20.435Z"
      },
      {
        "duration": 26,
        "start_time": "2022-05-18T12:59:20.453Z"
      },
      {
        "duration": 24,
        "start_time": "2022-05-18T12:59:20.481Z"
      },
      {
        "duration": 29,
        "start_time": "2022-05-18T12:59:20.506Z"
      },
      {
        "duration": 13,
        "start_time": "2022-05-18T12:59:20.536Z"
      },
      {
        "duration": 19,
        "start_time": "2022-05-18T12:59:20.550Z"
      },
      {
        "duration": 8,
        "start_time": "2022-05-18T12:59:20.571Z"
      },
      {
        "duration": 13,
        "start_time": "2022-05-18T12:59:20.581Z"
      },
      {
        "duration": 16,
        "start_time": "2022-05-18T12:59:20.596Z"
      },
      {
        "duration": 25,
        "start_time": "2022-05-18T12:59:20.613Z"
      },
      {
        "duration": 4,
        "start_time": "2022-05-18T12:59:20.639Z"
      },
      {
        "duration": 18,
        "start_time": "2022-05-18T12:59:20.644Z"
      },
      {
        "duration": 31,
        "start_time": "2022-05-18T12:59:20.663Z"
      },
      {
        "duration": 23,
        "start_time": "2022-05-18T12:59:20.696Z"
      },
      {
        "duration": 25,
        "start_time": "2022-05-18T12:59:20.720Z"
      },
      {
        "duration": 9,
        "start_time": "2022-05-18T12:59:20.747Z"
      },
      {
        "duration": 11,
        "start_time": "2022-05-18T12:59:20.757Z"
      },
      {
        "duration": 25,
        "start_time": "2022-05-18T12:59:20.770Z"
      },
      {
        "duration": 12,
        "start_time": "2022-05-18T12:59:20.797Z"
      },
      {
        "duration": 156,
        "start_time": "2022-05-18T12:59:20.810Z"
      },
      {
        "duration": 14,
        "start_time": "2022-05-18T12:59:20.968Z"
      },
      {
        "duration": 7,
        "start_time": "2022-05-18T12:59:20.983Z"
      },
      {
        "duration": 20,
        "start_time": "2022-05-18T12:59:20.991Z"
      },
      {
        "duration": 7,
        "start_time": "2022-05-18T12:59:21.013Z"
      },
      {
        "duration": 9,
        "start_time": "2022-05-18T12:59:21.021Z"
      },
      {
        "duration": 22,
        "start_time": "2022-05-18T12:59:21.059Z"
      },
      {
        "duration": 25,
        "start_time": "2022-05-18T12:59:21.082Z"
      },
      {
        "duration": 279,
        "start_time": "2022-05-18T12:59:21.108Z"
      },
      {
        "duration": 9,
        "start_time": "2022-05-18T12:59:21.388Z"
      },
      {
        "duration": 190,
        "start_time": "2022-05-18T12:59:21.398Z"
      },
      {
        "duration": 252,
        "start_time": "2022-05-18T12:59:21.590Z"
      },
      {
        "duration": 16,
        "start_time": "2022-05-18T12:59:21.843Z"
      },
      {
        "duration": 502,
        "start_time": "2022-05-18T12:59:21.861Z"
      },
      {
        "duration": 5,
        "start_time": "2022-05-18T12:59:22.365Z"
      },
      {
        "duration": 7,
        "start_time": "2022-05-18T12:59:22.371Z"
      },
      {
        "duration": 10,
        "start_time": "2022-05-18T12:59:22.379Z"
      },
      {
        "duration": 457,
        "start_time": "2022-05-18T12:59:22.390Z"
      },
      {
        "duration": 12,
        "start_time": "2022-05-18T12:59:22.848Z"
      },
      {
        "duration": 8,
        "start_time": "2022-05-18T12:59:22.862Z"
      },
      {
        "duration": 6,
        "start_time": "2022-05-18T12:59:22.872Z"
      },
      {
        "duration": 5,
        "start_time": "2022-05-18T12:59:22.880Z"
      },
      {
        "duration": 7,
        "start_time": "2022-05-18T12:59:22.886Z"
      },
      {
        "duration": 14,
        "start_time": "2022-05-18T12:59:22.894Z"
      },
      {
        "duration": 24,
        "start_time": "2022-05-18T13:00:22.622Z"
      },
      {
        "duration": 21,
        "start_time": "2022-05-18T13:00:25.903Z"
      },
      {
        "duration": 16,
        "start_time": "2022-05-18T13:00:55.196Z"
      },
      {
        "duration": 15,
        "start_time": "2022-05-18T13:01:03.216Z"
      },
      {
        "duration": 20,
        "start_time": "2022-05-18T13:01:07.424Z"
      },
      {
        "duration": 86,
        "start_time": "2022-05-18T13:01:26.320Z"
      },
      {
        "duration": 147,
        "start_time": "2022-05-18T13:01:32.819Z"
      },
      {
        "duration": 20,
        "start_time": "2022-05-18T13:01:41.825Z"
      },
      {
        "duration": 22,
        "start_time": "2022-05-18T13:03:45.444Z"
      },
      {
        "duration": 17,
        "start_time": "2022-05-18T13:04:07.600Z"
      },
      {
        "duration": 30,
        "start_time": "2022-05-18T13:04:44.366Z"
      },
      {
        "duration": 21,
        "start_time": "2022-05-18T13:04:52.985Z"
      },
      {
        "duration": 27,
        "start_time": "2022-05-18T13:13:30.212Z"
      },
      {
        "duration": 267,
        "start_time": "2022-05-18T13:14:22.347Z"
      },
      {
        "duration": 274,
        "start_time": "2022-05-18T13:14:54.074Z"
      },
      {
        "duration": 388,
        "start_time": "2022-05-18T13:15:52.057Z"
      },
      {
        "duration": 287,
        "start_time": "2022-05-18T13:17:07.213Z"
      },
      {
        "duration": 227,
        "start_time": "2022-05-18T13:17:14.419Z"
      },
      {
        "duration": 545,
        "start_time": "2022-05-18T13:17:23.377Z"
      },
      {
        "duration": 540,
        "start_time": "2022-05-18T13:17:41.264Z"
      },
      {
        "duration": 548,
        "start_time": "2022-05-18T13:19:22.709Z"
      },
      {
        "duration": 296,
        "start_time": "2022-05-18T13:20:45.002Z"
      },
      {
        "duration": 11,
        "start_time": "2022-05-18T13:25:34.724Z"
      },
      {
        "duration": 11,
        "start_time": "2022-05-18T13:25:47.228Z"
      },
      {
        "duration": 290,
        "start_time": "2022-05-18T13:25:56.723Z"
      },
      {
        "duration": 19,
        "start_time": "2022-05-18T13:26:44.150Z"
      },
      {
        "duration": 275,
        "start_time": "2022-05-18T13:26:50.330Z"
      },
      {
        "duration": 277,
        "start_time": "2022-05-18T13:28:11.732Z"
      },
      {
        "duration": 276,
        "start_time": "2022-05-18T13:28:22.469Z"
      },
      {
        "duration": 263,
        "start_time": "2022-05-18T16:13:30.170Z"
      },
      {
        "duration": 398,
        "start_time": "2022-05-18T16:15:05.918Z"
      },
      {
        "duration": 319,
        "start_time": "2022-05-18T16:16:50.380Z"
      },
      {
        "duration": 312,
        "start_time": "2022-05-18T16:16:57.717Z"
      },
      {
        "duration": 274,
        "start_time": "2022-05-18T16:17:09.141Z"
      },
      {
        "duration": 279,
        "start_time": "2022-05-18T16:17:14.501Z"
      },
      {
        "duration": 270,
        "start_time": "2022-05-18T16:17:22.343Z"
      },
      {
        "duration": 279,
        "start_time": "2022-05-18T16:17:31.012Z"
      },
      {
        "duration": 270,
        "start_time": "2022-05-18T16:17:56.564Z"
      },
      {
        "duration": 285,
        "start_time": "2022-05-18T16:18:13.429Z"
      },
      {
        "duration": 267,
        "start_time": "2022-05-18T16:19:34.077Z"
      },
      {
        "duration": 301,
        "start_time": "2022-05-18T16:21:51.190Z"
      },
      {
        "duration": 277,
        "start_time": "2022-05-18T16:22:14.737Z"
      },
      {
        "duration": 256,
        "start_time": "2022-05-18T16:25:02.296Z"
      },
      {
        "duration": 18,
        "start_time": "2022-05-18T16:27:56.452Z"
      },
      {
        "duration": 14,
        "start_time": "2022-05-18T16:29:33.089Z"
      },
      {
        "duration": 12,
        "start_time": "2022-05-18T16:29:49.392Z"
      },
      {
        "duration": 27,
        "start_time": "2022-05-18T16:30:47.507Z"
      },
      {
        "duration": 17,
        "start_time": "2022-05-18T16:31:27.480Z"
      },
      {
        "duration": 14,
        "start_time": "2022-05-18T16:32:10.169Z"
      },
      {
        "duration": 21,
        "start_time": "2022-05-18T16:32:40.295Z"
      },
      {
        "duration": 12,
        "start_time": "2022-05-18T16:33:25.016Z"
      },
      {
        "duration": 19,
        "start_time": "2022-05-18T16:33:29.833Z"
      },
      {
        "duration": 17,
        "start_time": "2022-05-18T16:34:43.892Z"
      },
      {
        "duration": 26,
        "start_time": "2022-05-18T16:34:52.997Z"
      },
      {
        "duration": 17,
        "start_time": "2022-05-18T16:35:08.130Z"
      },
      {
        "duration": 19,
        "start_time": "2022-05-18T16:35:14.367Z"
      },
      {
        "duration": 18,
        "start_time": "2022-05-18T16:35:52.516Z"
      },
      {
        "duration": 20,
        "start_time": "2022-05-18T16:35:59.819Z"
      },
      {
        "duration": 342,
        "start_time": "2022-05-18T16:37:13.725Z"
      },
      {
        "duration": 18,
        "start_time": "2022-05-18T16:38:04.077Z"
      },
      {
        "duration": 37,
        "start_time": "2022-05-18T16:39:53.044Z"
      },
      {
        "duration": 22,
        "start_time": "2022-05-18T16:39:57.887Z"
      },
      {
        "duration": 221,
        "start_time": "2022-05-18T16:40:08.205Z"
      },
      {
        "duration": 263,
        "start_time": "2022-05-18T16:42:18.893Z"
      },
      {
        "duration": 382,
        "start_time": "2022-05-18T16:42:44.715Z"
      },
      {
        "duration": 251,
        "start_time": "2022-05-18T16:42:53.175Z"
      },
      {
        "duration": 751,
        "start_time": "2022-05-18T16:43:21.952Z"
      },
      {
        "duration": 25,
        "start_time": "2022-05-18T16:43:53.754Z"
      },
      {
        "duration": 977,
        "start_time": "2022-05-18T16:44:10.014Z"
      },
      {
        "duration": 34,
        "start_time": "2022-05-18T16:45:29.515Z"
      },
      {
        "duration": 24,
        "start_time": "2022-05-18T16:45:33.246Z"
      },
      {
        "duration": 32,
        "start_time": "2022-05-18T16:46:17.977Z"
      },
      {
        "duration": 20,
        "start_time": "2022-05-18T16:46:48.183Z"
      },
      {
        "duration": 25,
        "start_time": "2022-05-18T16:46:54.158Z"
      },
      {
        "duration": 24,
        "start_time": "2022-05-18T16:47:02.100Z"
      },
      {
        "duration": 251,
        "start_time": "2022-05-18T16:47:27.306Z"
      },
      {
        "duration": 18,
        "start_time": "2022-05-18T16:47:59.712Z"
      },
      {
        "duration": 57,
        "start_time": "2022-05-19T08:35:52.921Z"
      },
      {
        "duration": 1482,
        "start_time": "2022-05-19T08:35:56.813Z"
      },
      {
        "duration": 439,
        "start_time": "2022-05-19T08:35:58.297Z"
      },
      {
        "duration": 24,
        "start_time": "2022-05-19T08:35:58.738Z"
      },
      {
        "duration": 5,
        "start_time": "2022-05-19T08:35:58.764Z"
      },
      {
        "duration": 16,
        "start_time": "2022-05-19T08:35:58.770Z"
      },
      {
        "duration": 14,
        "start_time": "2022-05-19T08:35:58.788Z"
      },
      {
        "duration": 13,
        "start_time": "2022-05-19T08:35:58.803Z"
      },
      {
        "duration": 34,
        "start_time": "2022-05-19T08:35:58.818Z"
      },
      {
        "duration": 16,
        "start_time": "2022-05-19T08:35:58.856Z"
      },
      {
        "duration": 4,
        "start_time": "2022-05-19T08:35:58.876Z"
      },
      {
        "duration": 7,
        "start_time": "2022-05-19T08:35:58.882Z"
      },
      {
        "duration": 7,
        "start_time": "2022-05-19T08:35:58.891Z"
      },
      {
        "duration": 25,
        "start_time": "2022-05-19T08:35:58.899Z"
      },
      {
        "duration": 31,
        "start_time": "2022-05-19T08:35:58.926Z"
      },
      {
        "duration": 25,
        "start_time": "2022-05-19T08:35:58.963Z"
      },
      {
        "duration": 11,
        "start_time": "2022-05-19T08:35:58.990Z"
      },
      {
        "duration": 12,
        "start_time": "2022-05-19T08:35:59.003Z"
      },
      {
        "duration": 8,
        "start_time": "2022-05-19T08:35:59.017Z"
      },
      {
        "duration": 4,
        "start_time": "2022-05-19T08:35:59.027Z"
      },
      {
        "duration": 12,
        "start_time": "2022-05-19T08:35:59.032Z"
      },
      {
        "duration": 23,
        "start_time": "2022-05-19T08:35:59.047Z"
      },
      {
        "duration": 9,
        "start_time": "2022-05-19T08:35:59.072Z"
      },
      {
        "duration": 221,
        "start_time": "2022-05-19T08:35:59.083Z"
      },
      {
        "duration": 17,
        "start_time": "2022-05-19T08:35:59.306Z"
      },
      {
        "duration": 19,
        "start_time": "2022-05-19T08:35:59.324Z"
      },
      {
        "duration": 87,
        "start_time": "2022-05-19T08:35:59.347Z"
      },
      {
        "duration": 16,
        "start_time": "2022-05-19T08:35:59.443Z"
      },
      {
        "duration": 10,
        "start_time": "2022-05-19T08:35:59.462Z"
      },
      {
        "duration": 24,
        "start_time": "2022-05-19T08:35:59.473Z"
      },
      {
        "duration": 25,
        "start_time": "2022-05-19T08:35:59.499Z"
      },
      {
        "duration": 334,
        "start_time": "2022-05-19T08:35:59.526Z"
      },
      {
        "duration": 9,
        "start_time": "2022-05-19T08:35:59.862Z"
      },
      {
        "duration": 236,
        "start_time": "2022-05-19T08:35:59.873Z"
      },
      {
        "duration": 274,
        "start_time": "2022-05-19T08:36:00.111Z"
      },
      {
        "duration": 9,
        "start_time": "2022-05-19T08:36:00.387Z"
      },
      {
        "duration": 788,
        "start_time": "2022-05-19T08:36:00.397Z"
      },
      {
        "duration": 5,
        "start_time": "2022-05-19T08:36:01.186Z"
      },
      {
        "duration": 8,
        "start_time": "2022-05-19T08:36:01.192Z"
      },
      {
        "duration": 6,
        "start_time": "2022-05-19T08:36:01.201Z"
      },
      {
        "duration": 522,
        "start_time": "2022-05-19T08:36:01.208Z"
      },
      {
        "duration": 23,
        "start_time": "2022-05-19T08:36:01.731Z"
      },
      {
        "duration": 21,
        "start_time": "2022-05-19T08:36:01.756Z"
      },
      {
        "duration": 10,
        "start_time": "2022-05-19T08:36:01.778Z"
      },
      {
        "duration": 9,
        "start_time": "2022-05-19T08:36:01.790Z"
      },
      {
        "duration": 22,
        "start_time": "2022-05-19T08:36:01.800Z"
      },
      {
        "duration": 34,
        "start_time": "2022-05-19T08:36:01.824Z"
      },
      {
        "duration": 323,
        "start_time": "2022-05-19T08:36:01.859Z"
      },
      {
        "duration": 20,
        "start_time": "2022-05-19T08:36:02.184Z"
      },
      {
        "duration": 46,
        "start_time": "2022-05-19T08:36:02.205Z"
      },
      {
        "duration": 289,
        "start_time": "2022-05-19T08:36:02.253Z"
      },
      {
        "duration": 305,
        "start_time": "2022-05-19T08:36:02.545Z"
      },
      {
        "duration": 304,
        "start_time": "2022-05-19T08:36:46.695Z"
      },
      {
        "duration": 395,
        "start_time": "2022-05-19T08:37:48.074Z"
      },
      {
        "duration": 281,
        "start_time": "2022-05-19T08:39:11.896Z"
      },
      {
        "duration": 26,
        "start_time": "2022-05-19T08:39:26.448Z"
      },
      {
        "duration": 20,
        "start_time": "2022-05-19T08:39:45.334Z"
      },
      {
        "duration": 18,
        "start_time": "2022-05-19T08:40:06.456Z"
      },
      {
        "duration": 29,
        "start_time": "2022-05-19T08:40:18.152Z"
      },
      {
        "duration": 31,
        "start_time": "2022-05-19T08:41:07.834Z"
      },
      {
        "duration": 10,
        "start_time": "2022-05-19T08:45:16.199Z"
      },
      {
        "duration": 283,
        "start_time": "2022-05-19T08:46:13.395Z"
      },
      {
        "duration": 25,
        "start_time": "2022-05-19T08:47:09.927Z"
      },
      {
        "duration": 17,
        "start_time": "2022-05-19T08:48:18.037Z"
      },
      {
        "duration": 313,
        "start_time": "2022-05-19T08:50:48.994Z"
      },
      {
        "duration": 299,
        "start_time": "2022-05-19T08:51:05.164Z"
      },
      {
        "duration": 29,
        "start_time": "2022-05-19T09:04:04.111Z"
      },
      {
        "duration": 20,
        "start_time": "2022-05-19T09:04:27.810Z"
      },
      {
        "duration": 21,
        "start_time": "2022-05-19T09:11:48.408Z"
      },
      {
        "duration": 828,
        "start_time": "2022-05-19T09:13:17.459Z"
      },
      {
        "duration": 27,
        "start_time": "2022-05-19T09:13:40.853Z"
      },
      {
        "duration": 25,
        "start_time": "2022-05-19T09:14:31.660Z"
      },
      {
        "duration": 26,
        "start_time": "2022-05-19T09:15:17.907Z"
      },
      {
        "duration": 30,
        "start_time": "2022-05-19T09:16:22.771Z"
      },
      {
        "duration": 326,
        "start_time": "2022-05-19T09:17:08.153Z"
      },
      {
        "duration": 329,
        "start_time": "2022-05-19T09:17:16.378Z"
      },
      {
        "duration": 27,
        "start_time": "2022-05-19T10:29:07.679Z"
      },
      {
        "duration": 16,
        "start_time": "2022-05-19T10:29:20.238Z"
      },
      {
        "duration": 18,
        "start_time": "2022-05-19T10:29:51.133Z"
      },
      {
        "duration": 49,
        "start_time": "2022-05-19T10:30:53.116Z"
      },
      {
        "duration": 24,
        "start_time": "2022-05-19T10:31:06.099Z"
      },
      {
        "duration": 42,
        "start_time": "2022-05-19T10:31:19.121Z"
      },
      {
        "duration": 19,
        "start_time": "2022-05-19T10:31:23.499Z"
      },
      {
        "duration": 17,
        "start_time": "2022-05-19T10:42:23.478Z"
      },
      {
        "duration": 25,
        "start_time": "2022-05-19T10:42:26.911Z"
      },
      {
        "duration": 130,
        "start_time": "2022-05-19T11:34:08.490Z"
      },
      {
        "duration": 13,
        "start_time": "2022-05-19T11:36:19.643Z"
      },
      {
        "duration": 13,
        "start_time": "2022-05-19T11:36:41.918Z"
      },
      {
        "duration": 12,
        "start_time": "2022-05-19T11:37:25.654Z"
      },
      {
        "duration": 12,
        "start_time": "2022-05-19T11:37:33.076Z"
      },
      {
        "duration": 1513,
        "start_time": "2022-05-19T11:37:57.125Z"
      },
      {
        "duration": 1610,
        "start_time": "2022-05-19T11:38:36.681Z"
      },
      {
        "duration": 1496,
        "start_time": "2022-05-19T11:38:51.268Z"
      },
      {
        "duration": 1554,
        "start_time": "2022-05-19T11:39:01.847Z"
      },
      {
        "duration": 1850,
        "start_time": "2022-05-19T11:39:25.908Z"
      },
      {
        "duration": 1613,
        "start_time": "2022-05-19T11:39:36.614Z"
      },
      {
        "duration": 1402,
        "start_time": "2022-05-19T11:39:47.828Z"
      },
      {
        "duration": 416,
        "start_time": "2022-05-19T11:40:08.491Z"
      },
      {
        "duration": 140,
        "start_time": "2022-05-19T11:40:18.364Z"
      },
      {
        "duration": 1716,
        "start_time": "2022-05-19T11:40:46.218Z"
      },
      {
        "duration": 151,
        "start_time": "2022-05-19T11:40:58.314Z"
      },
      {
        "duration": 143,
        "start_time": "2022-05-19T11:42:33.454Z"
      },
      {
        "duration": 135,
        "start_time": "2022-05-19T11:42:39.463Z"
      },
      {
        "duration": 92,
        "start_time": "2022-05-19T11:42:57.726Z"
      },
      {
        "duration": 307,
        "start_time": "2022-05-19T11:43:54.061Z"
      },
      {
        "duration": 11,
        "start_time": "2022-05-19T11:46:10.775Z"
      },
      {
        "duration": 150,
        "start_time": "2022-05-19T11:46:24.576Z"
      },
      {
        "duration": 10,
        "start_time": "2022-05-19T11:46:42.184Z"
      },
      {
        "duration": 990,
        "start_time": "2022-05-19T11:46:51.024Z"
      },
      {
        "duration": 1100,
        "start_time": "2022-05-19T11:47:08.151Z"
      },
      {
        "duration": 1064,
        "start_time": "2022-05-19T11:47:20.157Z"
      },
      {
        "duration": 1017,
        "start_time": "2022-05-19T11:47:25.241Z"
      },
      {
        "duration": 286,
        "start_time": "2022-05-19T11:48:32.510Z"
      },
      {
        "duration": 160,
        "start_time": "2022-05-19T11:48:52.689Z"
      },
      {
        "duration": 21,
        "start_time": "2022-05-19T11:49:12.359Z"
      },
      {
        "duration": 211,
        "start_time": "2022-05-19T11:49:39.704Z"
      },
      {
        "duration": 12,
        "start_time": "2022-05-19T11:49:51.300Z"
      },
      {
        "duration": 156,
        "start_time": "2022-05-19T11:49:54.775Z"
      },
      {
        "duration": 19,
        "start_time": "2022-05-19T11:50:13.268Z"
      },
      {
        "duration": 8,
        "start_time": "2022-05-19T14:01:49.749Z"
      },
      {
        "duration": 3,
        "start_time": "2022-05-19T14:01:53.801Z"
      },
      {
        "duration": 263,
        "start_time": "2022-05-19T14:01:53.807Z"
      },
      {
        "duration": 13,
        "start_time": "2022-05-19T14:01:54.073Z"
      },
      {
        "duration": 3,
        "start_time": "2022-05-19T14:01:54.088Z"
      },
      {
        "duration": 16,
        "start_time": "2022-05-19T14:01:54.093Z"
      },
      {
        "duration": 13,
        "start_time": "2022-05-19T14:01:54.111Z"
      },
      {
        "duration": 23,
        "start_time": "2022-05-19T14:01:54.126Z"
      },
      {
        "duration": 4,
        "start_time": "2022-05-19T14:01:54.151Z"
      },
      {
        "duration": 14,
        "start_time": "2022-05-19T14:01:54.156Z"
      },
      {
        "duration": 4,
        "start_time": "2022-05-19T14:01:54.171Z"
      },
      {
        "duration": 7,
        "start_time": "2022-05-19T14:01:54.177Z"
      },
      {
        "duration": 6,
        "start_time": "2022-05-19T14:01:54.186Z"
      },
      {
        "duration": 47,
        "start_time": "2022-05-19T14:01:54.194Z"
      },
      {
        "duration": 5,
        "start_time": "2022-05-19T14:01:54.243Z"
      },
      {
        "duration": 11,
        "start_time": "2022-05-19T14:01:54.249Z"
      },
      {
        "duration": 7,
        "start_time": "2022-05-19T14:01:54.262Z"
      },
      {
        "duration": 14,
        "start_time": "2022-05-19T14:01:54.271Z"
      },
      {
        "duration": 8,
        "start_time": "2022-05-19T14:01:54.286Z"
      },
      {
        "duration": 3,
        "start_time": "2022-05-19T14:01:54.296Z"
      },
      {
        "duration": 7,
        "start_time": "2022-05-19T14:01:54.301Z"
      },
      {
        "duration": 31,
        "start_time": "2022-05-19T14:01:54.310Z"
      },
      {
        "duration": 4,
        "start_time": "2022-05-19T14:01:54.343Z"
      },
      {
        "duration": 179,
        "start_time": "2022-05-19T14:01:54.349Z"
      },
      {
        "duration": 25,
        "start_time": "2022-05-19T14:01:54.530Z"
      },
      {
        "duration": 7,
        "start_time": "2022-05-19T14:01:54.557Z"
      },
      {
        "duration": 19,
        "start_time": "2022-05-19T14:01:54.566Z"
      },
      {
        "duration": 7,
        "start_time": "2022-05-19T14:01:54.587Z"
      },
      {
        "duration": 12,
        "start_time": "2022-05-19T14:01:54.596Z"
      },
      {
        "duration": 33,
        "start_time": "2022-05-19T14:01:54.611Z"
      },
      {
        "duration": 26,
        "start_time": "2022-05-19T14:01:54.645Z"
      },
      {
        "duration": 319,
        "start_time": "2022-05-19T14:01:54.673Z"
      },
      {
        "duration": 9,
        "start_time": "2022-05-19T14:01:54.994Z"
      },
      {
        "duration": 207,
        "start_time": "2022-05-19T14:01:55.005Z"
      },
      {
        "duration": 255,
        "start_time": "2022-05-19T14:01:55.213Z"
      },
      {
        "duration": 9,
        "start_time": "2022-05-19T14:01:55.470Z"
      },
      {
        "duration": 556,
        "start_time": "2022-05-19T14:01:55.480Z"
      },
      {
        "duration": 7,
        "start_time": "2022-05-19T14:01:56.038Z"
      },
      {
        "duration": 7,
        "start_time": "2022-05-19T14:01:56.046Z"
      },
      {
        "duration": 9,
        "start_time": "2022-05-19T14:01:56.055Z"
      },
      {
        "duration": 524,
        "start_time": "2022-05-19T14:01:56.066Z"
      },
      {
        "duration": 5,
        "start_time": "2022-05-19T14:01:56.591Z"
      },
      {
        "duration": 12,
        "start_time": "2022-05-19T14:01:56.598Z"
      },
      {
        "duration": 6,
        "start_time": "2022-05-19T14:01:56.612Z"
      },
      {
        "duration": 6,
        "start_time": "2022-05-19T14:01:56.619Z"
      },
      {
        "duration": 5,
        "start_time": "2022-05-19T14:01:56.641Z"
      },
      {
        "duration": 23,
        "start_time": "2022-05-19T14:01:56.648Z"
      },
      {
        "duration": 363,
        "start_time": "2022-05-19T14:01:56.673Z"
      },
      {
        "duration": 323,
        "start_time": "2022-05-19T14:01:57.038Z"
      },
      {
        "duration": 290,
        "start_time": "2022-05-19T14:01:57.363Z"
      },
      {
        "duration": 27,
        "start_time": "2022-05-19T14:01:57.655Z"
      },
      {
        "duration": 16,
        "start_time": "2022-05-19T14:01:57.684Z"
      },
      {
        "duration": 45,
        "start_time": "2022-05-19T14:01:57.702Z"
      },
      {
        "duration": 9,
        "start_time": "2022-05-19T14:01:57.748Z"
      },
      {
        "duration": 0,
        "start_time": "2022-05-19T14:01:57.759Z"
      },
      {
        "duration": 6,
        "start_time": "2022-05-19T14:03:10.541Z"
      },
      {
        "duration": 23,
        "start_time": "2022-05-19T14:03:14.778Z"
      },
      {
        "duration": 9,
        "start_time": "2022-05-19T14:03:47.060Z"
      },
      {
        "duration": 23,
        "start_time": "2022-05-19T14:03:53.509Z"
      },
      {
        "duration": 5,
        "start_time": "2022-05-19T14:04:54.984Z"
      },
      {
        "duration": 25,
        "start_time": "2022-05-19T14:05:07.674Z"
      },
      {
        "duration": 8,
        "start_time": "2022-05-19T14:05:12.133Z"
      },
      {
        "duration": 5,
        "start_time": "2022-05-19T14:05:48.873Z"
      },
      {
        "duration": 11,
        "start_time": "2022-05-19T14:06:11.807Z"
      },
      {
        "duration": 14,
        "start_time": "2022-05-19T14:07:35.898Z"
      },
      {
        "duration": 14,
        "start_time": "2022-05-19T14:08:02.253Z"
      },
      {
        "duration": 14,
        "start_time": "2022-05-19T14:08:12.162Z"
      },
      {
        "duration": 16,
        "start_time": "2022-05-19T14:08:30.577Z"
      },
      {
        "duration": 7,
        "start_time": "2022-05-19T14:08:36.101Z"
      },
      {
        "duration": 9,
        "start_time": "2022-05-19T14:08:38.144Z"
      },
      {
        "duration": 12,
        "start_time": "2022-05-19T14:09:04.704Z"
      },
      {
        "duration": 6,
        "start_time": "2022-05-19T14:10:23.772Z"
      },
      {
        "duration": 6,
        "start_time": "2022-05-19T15:28:27.082Z"
      },
      {
        "duration": 6,
        "start_time": "2022-05-19T15:28:36.003Z"
      },
      {
        "duration": 11,
        "start_time": "2022-05-19T15:37:11.988Z"
      },
      {
        "duration": 5,
        "start_time": "2022-05-19T15:37:13.167Z"
      },
      {
        "duration": 10,
        "start_time": "2022-05-19T15:42:04.788Z"
      },
      {
        "duration": 26,
        "start_time": "2022-05-19T15:42:14.163Z"
      },
      {
        "duration": 16,
        "start_time": "2022-05-19T15:42:23.896Z"
      },
      {
        "duration": 23,
        "start_time": "2022-05-19T15:43:11.876Z"
      },
      {
        "duration": 33,
        "start_time": "2022-05-19T15:43:22.082Z"
      },
      {
        "duration": 24,
        "start_time": "2022-05-19T15:43:24.185Z"
      },
      {
        "duration": 19,
        "start_time": "2022-05-19T15:43:36.461Z"
      },
      {
        "duration": 3,
        "start_time": "2022-05-19T15:43:39.392Z"
      },
      {
        "duration": 76,
        "start_time": "2022-05-19T15:43:39.397Z"
      },
      {
        "duration": 15,
        "start_time": "2022-05-19T15:43:39.475Z"
      },
      {
        "duration": 4,
        "start_time": "2022-05-19T15:43:39.493Z"
      },
      {
        "duration": 49,
        "start_time": "2022-05-19T15:43:39.501Z"
      },
      {
        "duration": 32,
        "start_time": "2022-05-19T15:43:39.553Z"
      },
      {
        "duration": 18,
        "start_time": "2022-05-19T15:43:39.588Z"
      },
      {
        "duration": 51,
        "start_time": "2022-05-19T15:43:39.608Z"
      },
      {
        "duration": 18,
        "start_time": "2022-05-19T15:43:39.661Z"
      },
      {
        "duration": 4,
        "start_time": "2022-05-19T15:43:39.682Z"
      },
      {
        "duration": 6,
        "start_time": "2022-05-19T15:43:39.689Z"
      },
      {
        "duration": 9,
        "start_time": "2022-05-19T15:43:39.697Z"
      },
      {
        "duration": 52,
        "start_time": "2022-05-19T15:43:39.707Z"
      },
      {
        "duration": 10,
        "start_time": "2022-05-19T15:43:39.761Z"
      },
      {
        "duration": 6,
        "start_time": "2022-05-19T15:43:39.773Z"
      },
      {
        "duration": 6,
        "start_time": "2022-05-19T15:43:39.781Z"
      },
      {
        "duration": 13,
        "start_time": "2022-05-19T15:43:39.789Z"
      },
      {
        "duration": 45,
        "start_time": "2022-05-19T15:43:39.804Z"
      },
      {
        "duration": 20,
        "start_time": "2022-05-19T15:43:39.856Z"
      },
      {
        "duration": 8,
        "start_time": "2022-05-19T15:43:39.877Z"
      },
      {
        "duration": 22,
        "start_time": "2022-05-19T15:43:39.886Z"
      },
      {
        "duration": 9,
        "start_time": "2022-05-19T15:43:39.911Z"
      },
      {
        "duration": 238,
        "start_time": "2022-05-19T15:43:39.922Z"
      },
      {
        "duration": 30,
        "start_time": "2022-05-19T15:43:40.162Z"
      },
      {
        "duration": 10,
        "start_time": "2022-05-19T15:43:40.194Z"
      },
      {
        "duration": 48,
        "start_time": "2022-05-19T15:43:40.206Z"
      },
      {
        "duration": 11,
        "start_time": "2022-05-19T15:43:40.257Z"
      },
      {
        "duration": 15,
        "start_time": "2022-05-19T15:43:40.270Z"
      },
      {
        "duration": 11,
        "start_time": "2022-05-19T15:43:40.292Z"
      },
      {
        "duration": 292,
        "start_time": "2022-05-19T15:43:40.306Z"
      },
      {
        "duration": 463,
        "start_time": "2022-05-19T15:43:40.600Z"
      },
      {
        "duration": 15,
        "start_time": "2022-05-19T15:43:41.067Z"
      },
      {
        "duration": 353,
        "start_time": "2022-05-19T15:43:41.085Z"
      },
      {
        "duration": 413,
        "start_time": "2022-05-19T15:43:41.442Z"
      },
      {
        "duration": 22,
        "start_time": "2022-05-19T15:43:41.857Z"
      },
      {
        "duration": 690,
        "start_time": "2022-05-19T15:43:41.881Z"
      },
      {
        "duration": 7,
        "start_time": "2022-05-19T15:43:42.580Z"
      },
      {
        "duration": 7,
        "start_time": "2022-05-19T15:43:42.589Z"
      },
      {
        "duration": 6,
        "start_time": "2022-05-19T15:43:42.599Z"
      },
      {
        "duration": 707,
        "start_time": "2022-05-19T15:43:42.608Z"
      },
      {
        "duration": 5,
        "start_time": "2022-05-19T15:43:43.317Z"
      },
      {
        "duration": 20,
        "start_time": "2022-05-19T15:43:43.324Z"
      },
      {
        "duration": 30,
        "start_time": "2022-05-19T15:43:43.348Z"
      },
      {
        "duration": 8,
        "start_time": "2022-05-19T15:43:43.380Z"
      },
      {
        "duration": 11,
        "start_time": "2022-05-19T15:43:43.390Z"
      },
      {
        "duration": 52,
        "start_time": "2022-05-19T15:43:43.404Z"
      },
      {
        "duration": 475,
        "start_time": "2022-05-19T15:43:43.458Z"
      },
      {
        "duration": 387,
        "start_time": "2022-05-19T15:43:43.935Z"
      },
      {
        "duration": 405,
        "start_time": "2022-05-19T15:43:44.324Z"
      },
      {
        "duration": 51,
        "start_time": "2022-05-19T15:43:44.731Z"
      },
      {
        "duration": 20,
        "start_time": "2022-05-19T15:43:44.784Z"
      },
      {
        "duration": 49,
        "start_time": "2022-05-19T15:43:44.806Z"
      },
      {
        "duration": 20,
        "start_time": "2022-05-19T15:43:44.857Z"
      },
      {
        "duration": 9,
        "start_time": "2022-05-19T15:43:44.881Z"
      },
      {
        "duration": 34,
        "start_time": "2022-05-19T15:43:44.892Z"
      },
      {
        "duration": 21,
        "start_time": "2022-05-19T15:44:08.819Z"
      },
      {
        "duration": 22,
        "start_time": "2022-05-19T15:44:18.581Z"
      },
      {
        "duration": 14,
        "start_time": "2022-05-19T15:44:23.988Z"
      },
      {
        "duration": 5,
        "start_time": "2022-05-19T15:44:32.533Z"
      },
      {
        "duration": 10,
        "start_time": "2022-05-19T15:44:49.942Z"
      },
      {
        "duration": 6,
        "start_time": "2022-05-19T15:45:20.208Z"
      },
      {
        "duration": 6,
        "start_time": "2022-05-19T15:45:23.846Z"
      },
      {
        "duration": 73,
        "start_time": "2022-05-19T15:45:23.853Z"
      },
      {
        "duration": 24,
        "start_time": "2022-05-19T15:45:23.928Z"
      },
      {
        "duration": 3,
        "start_time": "2022-05-19T15:45:23.958Z"
      },
      {
        "duration": 23,
        "start_time": "2022-05-19T15:45:23.963Z"
      },
      {
        "duration": 24,
        "start_time": "2022-05-19T15:45:23.988Z"
      },
      {
        "duration": 43,
        "start_time": "2022-05-19T15:45:24.014Z"
      },
      {
        "duration": 11,
        "start_time": "2022-05-19T15:45:24.059Z"
      },
      {
        "duration": 11,
        "start_time": "2022-05-19T15:45:24.073Z"
      },
      {
        "duration": 4,
        "start_time": "2022-05-19T15:45:24.086Z"
      },
      {
        "duration": 12,
        "start_time": "2022-05-19T15:45:24.092Z"
      },
      {
        "duration": 12,
        "start_time": "2022-05-19T15:45:24.106Z"
      },
      {
        "duration": 46,
        "start_time": "2022-05-19T15:45:24.120Z"
      },
      {
        "duration": 5,
        "start_time": "2022-05-19T15:45:24.168Z"
      },
      {
        "duration": 12,
        "start_time": "2022-05-19T15:45:24.175Z"
      },
      {
        "duration": 9,
        "start_time": "2022-05-19T15:45:24.189Z"
      },
      {
        "duration": 13,
        "start_time": "2022-05-19T15:45:24.200Z"
      },
      {
        "duration": 45,
        "start_time": "2022-05-19T15:45:24.215Z"
      },
      {
        "duration": 5,
        "start_time": "2022-05-19T15:45:24.262Z"
      },
      {
        "duration": 10,
        "start_time": "2022-05-19T15:45:24.269Z"
      },
      {
        "duration": 16,
        "start_time": "2022-05-19T15:45:24.281Z"
      },
      {
        "duration": 5,
        "start_time": "2022-05-19T15:45:24.299Z"
      },
      {
        "duration": 210,
        "start_time": "2022-05-19T15:45:24.305Z"
      },
      {
        "duration": 39,
        "start_time": "2022-05-19T15:45:24.518Z"
      },
      {
        "duration": 9,
        "start_time": "2022-05-19T15:45:24.558Z"
      },
      {
        "duration": 24,
        "start_time": "2022-05-19T15:45:24.569Z"
      },
      {
        "duration": 10,
        "start_time": "2022-05-19T15:45:24.594Z"
      },
      {
        "duration": 39,
        "start_time": "2022-05-19T15:45:24.606Z"
      },
      {
        "duration": 9,
        "start_time": "2022-05-19T15:45:24.652Z"
      },
      {
        "duration": 31,
        "start_time": "2022-05-19T15:45:24.663Z"
      },
      {
        "duration": 363,
        "start_time": "2022-05-19T15:45:24.696Z"
      },
      {
        "duration": 12,
        "start_time": "2022-05-19T15:45:25.064Z"
      },
      {
        "duration": 259,
        "start_time": "2022-05-19T15:45:25.078Z"
      },
      {
        "duration": 306,
        "start_time": "2022-05-19T15:45:25.339Z"
      },
      {
        "duration": 14,
        "start_time": "2022-05-19T15:45:25.650Z"
      },
      {
        "duration": 611,
        "start_time": "2022-05-19T15:45:25.666Z"
      },
      {
        "duration": 16,
        "start_time": "2022-05-19T15:45:26.279Z"
      },
      {
        "duration": 10,
        "start_time": "2022-05-19T15:45:26.298Z"
      },
      {
        "duration": 7,
        "start_time": "2022-05-19T15:45:26.309Z"
      },
      {
        "duration": 660,
        "start_time": "2022-05-19T15:45:26.317Z"
      },
      {
        "duration": 7,
        "start_time": "2022-05-19T15:45:26.979Z"
      },
      {
        "duration": 13,
        "start_time": "2022-05-19T15:45:26.988Z"
      },
      {
        "duration": 10,
        "start_time": "2022-05-19T15:45:27.004Z"
      },
      {
        "duration": 11,
        "start_time": "2022-05-19T15:45:27.016Z"
      },
      {
        "duration": 16,
        "start_time": "2022-05-19T15:45:27.047Z"
      },
      {
        "duration": 39,
        "start_time": "2022-05-19T15:45:27.065Z"
      },
      {
        "duration": 396,
        "start_time": "2022-05-19T15:45:27.107Z"
      },
      {
        "duration": 366,
        "start_time": "2022-05-19T15:45:27.505Z"
      },
      {
        "duration": 351,
        "start_time": "2022-05-19T15:45:27.873Z"
      },
      {
        "duration": 40,
        "start_time": "2022-05-19T15:45:28.226Z"
      },
      {
        "duration": 21,
        "start_time": "2022-05-19T15:45:28.268Z"
      },
      {
        "duration": 22,
        "start_time": "2022-05-19T15:45:28.290Z"
      },
      {
        "duration": 16,
        "start_time": "2022-05-19T15:45:28.343Z"
      },
      {
        "duration": 5,
        "start_time": "2022-05-19T15:45:28.361Z"
      },
      {
        "duration": 12,
        "start_time": "2022-05-19T15:45:28.368Z"
      },
      {
        "duration": 6,
        "start_time": "2022-05-19T15:45:28.382Z"
      },
      {
        "duration": 6,
        "start_time": "2022-05-19T15:45:49.026Z"
      },
      {
        "duration": 8,
        "start_time": "2022-05-19T15:45:54.734Z"
      },
      {
        "duration": 12,
        "start_time": "2022-05-19T15:50:15.979Z"
      },
      {
        "duration": 41,
        "start_time": "2022-05-19T15:50:18.439Z"
      },
      {
        "duration": 9,
        "start_time": "2022-05-19T15:50:25.177Z"
      },
      {
        "duration": 9,
        "start_time": "2022-05-19T15:50:28.677Z"
      },
      {
        "duration": 17,
        "start_time": "2022-05-19T15:51:19.567Z"
      },
      {
        "duration": 28,
        "start_time": "2022-05-19T15:51:27.571Z"
      },
      {
        "duration": 3,
        "start_time": "2022-05-19T16:10:10.230Z"
      },
      {
        "duration": 84,
        "start_time": "2022-05-19T16:10:10.235Z"
      },
      {
        "duration": 15,
        "start_time": "2022-05-19T16:10:10.320Z"
      },
      {
        "duration": 3,
        "start_time": "2022-05-19T16:10:10.337Z"
      },
      {
        "duration": 33,
        "start_time": "2022-05-19T16:10:10.342Z"
      },
      {
        "duration": 21,
        "start_time": "2022-05-19T16:10:10.377Z"
      },
      {
        "duration": 16,
        "start_time": "2022-05-19T16:10:10.400Z"
      },
      {
        "duration": 27,
        "start_time": "2022-05-19T16:10:10.417Z"
      },
      {
        "duration": 34,
        "start_time": "2022-05-19T16:10:10.446Z"
      },
      {
        "duration": 5,
        "start_time": "2022-05-19T16:10:10.482Z"
      },
      {
        "duration": 6,
        "start_time": "2022-05-19T16:10:10.489Z"
      },
      {
        "duration": 8,
        "start_time": "2022-05-19T16:10:10.496Z"
      },
      {
        "duration": 23,
        "start_time": "2022-05-19T16:10:10.505Z"
      },
      {
        "duration": 16,
        "start_time": "2022-05-19T16:10:10.529Z"
      },
      {
        "duration": 23,
        "start_time": "2022-05-19T16:10:10.547Z"
      },
      {
        "duration": 9,
        "start_time": "2022-05-19T16:10:10.572Z"
      },
      {
        "duration": 11,
        "start_time": "2022-05-19T16:10:10.584Z"
      },
      {
        "duration": 9,
        "start_time": "2022-05-19T16:10:10.596Z"
      },
      {
        "duration": 4,
        "start_time": "2022-05-19T16:10:10.606Z"
      },
      {
        "duration": 4,
        "start_time": "2022-05-19T16:10:10.612Z"
      },
      {
        "duration": 42,
        "start_time": "2022-05-19T16:10:10.617Z"
      },
      {
        "duration": 5,
        "start_time": "2022-05-19T16:10:10.660Z"
      },
      {
        "duration": 193,
        "start_time": "2022-05-19T16:10:10.666Z"
      },
      {
        "duration": 32,
        "start_time": "2022-05-19T16:10:10.861Z"
      },
      {
        "duration": 9,
        "start_time": "2022-05-19T16:10:10.894Z"
      },
      {
        "duration": 22,
        "start_time": "2022-05-19T16:10:10.904Z"
      },
      {
        "duration": 35,
        "start_time": "2022-05-19T16:10:10.928Z"
      },
      {
        "duration": 16,
        "start_time": "2022-05-19T16:10:10.964Z"
      },
      {
        "duration": 7,
        "start_time": "2022-05-19T16:10:10.984Z"
      },
      {
        "duration": 27,
        "start_time": "2022-05-19T16:10:10.993Z"
      },
      {
        "duration": 346,
        "start_time": "2022-05-19T16:10:11.022Z"
      },
      {
        "duration": 13,
        "start_time": "2022-05-19T16:10:11.370Z"
      },
      {
        "duration": 266,
        "start_time": "2022-05-19T16:10:11.385Z"
      },
      {
        "duration": 283,
        "start_time": "2022-05-19T16:10:11.653Z"
      },
      {
        "duration": 17,
        "start_time": "2022-05-19T16:10:11.937Z"
      },
      {
        "duration": 572,
        "start_time": "2022-05-19T16:10:11.955Z"
      },
      {
        "duration": 5,
        "start_time": "2022-05-19T16:10:12.529Z"
      },
      {
        "duration": 11,
        "start_time": "2022-05-19T16:10:12.544Z"
      },
      {
        "duration": 10,
        "start_time": "2022-05-19T16:10:12.560Z"
      },
      {
        "duration": 826,
        "start_time": "2022-05-19T16:10:12.572Z"
      },
      {
        "duration": 5,
        "start_time": "2022-05-19T16:10:13.399Z"
      },
      {
        "duration": 9,
        "start_time": "2022-05-19T16:10:13.406Z"
      },
      {
        "duration": 11,
        "start_time": "2022-05-19T16:10:13.417Z"
      },
      {
        "duration": 16,
        "start_time": "2022-05-19T16:10:13.430Z"
      },
      {
        "duration": 26,
        "start_time": "2022-05-19T16:10:13.448Z"
      },
      {
        "duration": 28,
        "start_time": "2022-05-19T16:10:13.477Z"
      },
      {
        "duration": 477,
        "start_time": "2022-05-19T16:10:13.506Z"
      },
      {
        "duration": 979,
        "start_time": "2022-05-19T16:10:13.986Z"
      },
      {
        "duration": 692,
        "start_time": "2022-05-19T16:10:14.967Z"
      },
      {
        "duration": 26,
        "start_time": "2022-05-19T16:10:15.662Z"
      },
      {
        "duration": 69,
        "start_time": "2022-05-19T16:10:15.689Z"
      },
      {
        "duration": 33,
        "start_time": "2022-05-19T16:10:15.762Z"
      },
      {
        "duration": 58,
        "start_time": "2022-05-19T16:10:15.797Z"
      },
      {
        "duration": 18,
        "start_time": "2022-05-19T16:10:15.857Z"
      },
      {
        "duration": 19,
        "start_time": "2022-05-19T16:10:15.876Z"
      },
      {
        "duration": 16,
        "start_time": "2022-05-19T16:10:15.896Z"
      },
      {
        "duration": 24,
        "start_time": "2022-05-19T16:17:58.404Z"
      },
      {
        "duration": 8,
        "start_time": "2022-05-19T16:18:06.193Z"
      },
      {
        "duration": 3,
        "start_time": "2022-05-19T16:18:48.911Z"
      },
      {
        "duration": 14,
        "start_time": "2022-05-19T16:19:12.434Z"
      },
      {
        "duration": 31,
        "start_time": "2022-05-19T16:19:14.492Z"
      },
      {
        "duration": 13,
        "start_time": "2022-05-19T16:19:17.915Z"
      },
      {
        "duration": 22,
        "start_time": "2022-05-19T16:19:29.184Z"
      },
      {
        "duration": 8,
        "start_time": "2022-05-19T16:19:35.005Z"
      },
      {
        "duration": 28,
        "start_time": "2022-05-19T16:20:07.006Z"
      },
      {
        "duration": 10,
        "start_time": "2022-05-19T16:20:11.394Z"
      },
      {
        "duration": 22,
        "start_time": "2022-05-19T16:20:34.617Z"
      },
      {
        "duration": 9,
        "start_time": "2022-05-19T16:20:37.483Z"
      },
      {
        "duration": 1397,
        "start_time": "2022-05-20T09:30:37.528Z"
      },
      {
        "duration": 204,
        "start_time": "2022-05-20T09:30:38.927Z"
      },
      {
        "duration": 16,
        "start_time": "2022-05-20T09:30:39.133Z"
      },
      {
        "duration": 3,
        "start_time": "2022-05-20T09:30:39.152Z"
      },
      {
        "duration": 19,
        "start_time": "2022-05-20T09:30:39.157Z"
      },
      {
        "duration": 23,
        "start_time": "2022-05-20T09:30:39.178Z"
      },
      {
        "duration": 5,
        "start_time": "2022-05-20T09:30:39.202Z"
      },
      {
        "duration": 10,
        "start_time": "2022-05-20T09:30:39.209Z"
      },
      {
        "duration": 4,
        "start_time": "2022-05-20T09:30:39.221Z"
      },
      {
        "duration": 7,
        "start_time": "2022-05-20T09:30:39.228Z"
      },
      {
        "duration": 7,
        "start_time": "2022-05-20T09:30:39.237Z"
      },
      {
        "duration": 58,
        "start_time": "2022-05-20T09:30:39.246Z"
      },
      {
        "duration": 5,
        "start_time": "2022-05-20T09:30:39.306Z"
      },
      {
        "duration": 7,
        "start_time": "2022-05-20T09:30:39.312Z"
      },
      {
        "duration": 9,
        "start_time": "2022-05-20T09:30:39.320Z"
      },
      {
        "duration": 12,
        "start_time": "2022-05-20T09:30:39.331Z"
      },
      {
        "duration": 11,
        "start_time": "2022-05-20T09:30:39.345Z"
      },
      {
        "duration": 38,
        "start_time": "2022-05-20T09:30:39.357Z"
      },
      {
        "duration": 5,
        "start_time": "2022-05-20T09:30:39.397Z"
      },
      {
        "duration": 16,
        "start_time": "2022-05-20T09:30:39.403Z"
      },
      {
        "duration": 5,
        "start_time": "2022-05-20T09:30:39.421Z"
      },
      {
        "duration": 225,
        "start_time": "2022-05-20T09:30:39.427Z"
      },
      {
        "duration": 41,
        "start_time": "2022-05-20T09:30:39.654Z"
      },
      {
        "duration": 84,
        "start_time": "2022-05-20T09:30:39.697Z"
      },
      {
        "duration": 36,
        "start_time": "2022-05-20T09:30:39.783Z"
      },
      {
        "duration": 9,
        "start_time": "2022-05-20T09:30:39.821Z"
      },
      {
        "duration": 14,
        "start_time": "2022-05-20T09:30:39.832Z"
      },
      {
        "duration": 12,
        "start_time": "2022-05-20T09:30:39.850Z"
      },
      {
        "duration": 57,
        "start_time": "2022-05-20T09:30:39.863Z"
      },
      {
        "duration": 395,
        "start_time": "2022-05-20T09:30:39.922Z"
      },
      {
        "duration": 12,
        "start_time": "2022-05-20T09:30:40.318Z"
      },
      {
        "duration": 230,
        "start_time": "2022-05-20T09:30:40.332Z"
      },
      {
        "duration": 305,
        "start_time": "2022-05-20T09:30:40.564Z"
      },
      {
        "duration": 11,
        "start_time": "2022-05-20T09:30:40.871Z"
      },
      {
        "duration": 625,
        "start_time": "2022-05-20T09:30:40.884Z"
      },
      {
        "duration": 4,
        "start_time": "2022-05-20T09:30:41.512Z"
      },
      {
        "duration": 10,
        "start_time": "2022-05-20T09:30:41.518Z"
      },
      {
        "duration": 11,
        "start_time": "2022-05-20T09:30:41.530Z"
      },
      {
        "duration": 619,
        "start_time": "2022-05-20T09:30:41.543Z"
      },
      {
        "duration": 6,
        "start_time": "2022-05-20T09:30:42.164Z"
      },
      {
        "duration": 24,
        "start_time": "2022-05-20T09:30:42.173Z"
      },
      {
        "duration": 5,
        "start_time": "2022-05-20T09:30:42.199Z"
      },
      {
        "duration": 8,
        "start_time": "2022-05-20T09:30:42.206Z"
      },
      {
        "duration": 6,
        "start_time": "2022-05-20T09:30:42.216Z"
      },
      {
        "duration": 30,
        "start_time": "2022-05-20T09:30:42.224Z"
      },
      {
        "duration": 364,
        "start_time": "2022-05-20T09:30:42.256Z"
      },
      {
        "duration": 333,
        "start_time": "2022-05-20T09:30:42.622Z"
      },
      {
        "duration": 339,
        "start_time": "2022-05-20T09:30:42.957Z"
      },
      {
        "duration": 28,
        "start_time": "2022-05-20T09:30:43.298Z"
      },
      {
        "duration": 19,
        "start_time": "2022-05-20T09:30:43.328Z"
      },
      {
        "duration": 47,
        "start_time": "2022-05-20T09:30:43.349Z"
      },
      {
        "duration": 12,
        "start_time": "2022-05-20T09:30:43.398Z"
      },
      {
        "duration": 6,
        "start_time": "2022-05-20T09:30:43.413Z"
      },
      {
        "duration": 16,
        "start_time": "2022-05-20T09:30:43.421Z"
      },
      {
        "duration": 6,
        "start_time": "2022-05-20T09:30:43.439Z"
      },
      {
        "duration": 1427,
        "start_time": "2022-05-20T09:47:36.530Z"
      },
      {
        "duration": 3,
        "start_time": "2022-05-20T09:47:42.025Z"
      },
      {
        "duration": 80,
        "start_time": "2022-05-20T09:47:43.504Z"
      },
      {
        "duration": 18,
        "start_time": "2022-05-20T09:47:47.302Z"
      },
      {
        "duration": 3,
        "start_time": "2022-05-20T09:49:45.681Z"
      },
      {
        "duration": 18,
        "start_time": "2022-05-20T09:49:47.187Z"
      },
      {
        "duration": 13,
        "start_time": "2022-05-20T09:49:49.520Z"
      },
      {
        "duration": 5,
        "start_time": "2022-05-20T09:50:05.090Z"
      },
      {
        "duration": 12,
        "start_time": "2022-05-20T09:51:26.452Z"
      },
      {
        "duration": 5,
        "start_time": "2022-05-20T09:53:03.117Z"
      },
      {
        "duration": 8,
        "start_time": "2022-05-20T10:06:07.354Z"
      },
      {
        "duration": 8,
        "start_time": "2022-05-20T10:06:23.446Z"
      },
      {
        "duration": 24,
        "start_time": "2022-05-20T10:06:32.756Z"
      },
      {
        "duration": 5,
        "start_time": "2022-05-20T10:11:28.875Z"
      },
      {
        "duration": 6,
        "start_time": "2022-05-20T10:11:53.138Z"
      },
      {
        "duration": 6,
        "start_time": "2022-05-20T10:12:17.815Z"
      },
      {
        "duration": 154,
        "start_time": "2022-05-20T10:13:31.995Z"
      },
      {
        "duration": 5,
        "start_time": "2022-05-20T10:13:58.106Z"
      },
      {
        "duration": 54,
        "start_time": "2022-05-20T16:08:22.235Z"
      },
      {
        "duration": 1383,
        "start_time": "2022-05-20T16:08:25.633Z"
      },
      {
        "duration": 189,
        "start_time": "2022-05-20T16:08:27.018Z"
      },
      {
        "duration": 15,
        "start_time": "2022-05-20T16:08:27.208Z"
      },
      {
        "duration": 5,
        "start_time": "2022-05-20T16:08:27.225Z"
      },
      {
        "duration": 17,
        "start_time": "2022-05-20T16:08:27.232Z"
      },
      {
        "duration": 12,
        "start_time": "2022-05-20T16:08:27.250Z"
      },
      {
        "duration": 15,
        "start_time": "2022-05-20T16:08:27.263Z"
      },
      {
        "duration": 10,
        "start_time": "2022-05-20T16:08:27.279Z"
      },
      {
        "duration": 5,
        "start_time": "2022-05-20T16:08:27.290Z"
      },
      {
        "duration": 5,
        "start_time": "2022-05-20T16:08:27.297Z"
      },
      {
        "duration": 12,
        "start_time": "2022-05-20T16:08:27.303Z"
      },
      {
        "duration": 21,
        "start_time": "2022-05-20T16:08:27.316Z"
      },
      {
        "duration": 5,
        "start_time": "2022-05-20T16:08:27.338Z"
      },
      {
        "duration": 8,
        "start_time": "2022-05-20T16:08:27.344Z"
      },
      {
        "duration": 5,
        "start_time": "2022-05-20T16:08:27.375Z"
      },
      {
        "duration": 11,
        "start_time": "2022-05-20T16:08:27.381Z"
      },
      {
        "duration": 8,
        "start_time": "2022-05-20T16:08:27.393Z"
      },
      {
        "duration": 4,
        "start_time": "2022-05-20T16:08:27.402Z"
      },
      {
        "duration": 8,
        "start_time": "2022-05-20T16:08:27.407Z"
      },
      {
        "duration": 12,
        "start_time": "2022-05-20T16:08:27.416Z"
      },
      {
        "duration": 3,
        "start_time": "2022-05-20T16:08:27.430Z"
      },
      {
        "duration": 255,
        "start_time": "2022-05-20T16:08:27.435Z"
      },
      {
        "duration": 25,
        "start_time": "2022-05-20T16:08:27.691Z"
      },
      {
        "duration": 8,
        "start_time": "2022-05-20T16:08:27.718Z"
      },
      {
        "duration": 21,
        "start_time": "2022-05-20T16:08:27.728Z"
      },
      {
        "duration": 30,
        "start_time": "2022-05-20T16:08:27.750Z"
      },
      {
        "duration": 12,
        "start_time": "2022-05-20T16:08:27.781Z"
      },
      {
        "duration": 6,
        "start_time": "2022-05-20T16:08:27.796Z"
      },
      {
        "duration": 26,
        "start_time": "2022-05-20T16:08:27.803Z"
      },
      {
        "duration": 326,
        "start_time": "2022-05-20T16:08:27.831Z"
      },
      {
        "duration": 10,
        "start_time": "2022-05-20T16:08:28.158Z"
      },
      {
        "duration": 203,
        "start_time": "2022-05-20T16:08:28.169Z"
      },
      {
        "duration": 256,
        "start_time": "2022-05-20T16:08:28.373Z"
      },
      {
        "duration": 9,
        "start_time": "2022-05-20T16:08:28.630Z"
      },
      {
        "duration": 494,
        "start_time": "2022-05-20T16:08:28.640Z"
      },
      {
        "duration": 4,
        "start_time": "2022-05-20T16:08:29.136Z"
      },
      {
        "duration": 6,
        "start_time": "2022-05-20T16:08:29.141Z"
      },
      {
        "duration": 5,
        "start_time": "2022-05-20T16:08:29.149Z"
      },
      {
        "duration": 517,
        "start_time": "2022-05-20T16:08:29.155Z"
      },
      {
        "duration": 5,
        "start_time": "2022-05-20T16:08:29.675Z"
      },
      {
        "duration": 9,
        "start_time": "2022-05-20T16:08:29.681Z"
      },
      {
        "duration": 7,
        "start_time": "2022-05-20T16:08:29.691Z"
      },
      {
        "duration": 5,
        "start_time": "2022-05-20T16:08:29.699Z"
      },
      {
        "duration": 5,
        "start_time": "2022-05-20T16:08:29.706Z"
      },
      {
        "duration": 21,
        "start_time": "2022-05-20T16:08:29.712Z"
      },
      {
        "duration": 321,
        "start_time": "2022-05-20T16:08:29.734Z"
      },
      {
        "duration": 538,
        "start_time": "2022-05-20T16:08:30.056Z"
      },
      {
        "duration": 586,
        "start_time": "2022-05-20T16:08:30.595Z"
      },
      {
        "duration": 24,
        "start_time": "2022-05-20T16:08:31.183Z"
      },
      {
        "duration": 68,
        "start_time": "2022-05-20T16:08:31.209Z"
      },
      {
        "duration": 203,
        "start_time": "2022-05-20T16:08:31.278Z"
      },
      {
        "duration": 11,
        "start_time": "2022-05-20T16:08:31.482Z"
      },
      {
        "duration": 7,
        "start_time": "2022-05-20T16:08:31.494Z"
      },
      {
        "duration": 22,
        "start_time": "2022-05-20T16:08:31.502Z"
      },
      {
        "duration": 5,
        "start_time": "2022-05-20T16:08:31.575Z"
      },
      {
        "duration": 633,
        "start_time": "2022-05-20T16:09:33.333Z"
      },
      {
        "duration": 8,
        "start_time": "2022-05-20T16:09:46.053Z"
      },
      {
        "duration": 2,
        "start_time": "2022-05-20T16:09:52.156Z"
      },
      {
        "duration": 3,
        "start_time": "2022-05-20T16:09:54.892Z"
      },
      {
        "duration": 67,
        "start_time": "2022-05-20T16:09:54.897Z"
      },
      {
        "duration": 14,
        "start_time": "2022-05-20T16:09:54.965Z"
      },
      {
        "duration": 2,
        "start_time": "2022-05-20T16:09:54.980Z"
      },
      {
        "duration": 19,
        "start_time": "2022-05-20T16:09:54.984Z"
      },
      {
        "duration": 13,
        "start_time": "2022-05-20T16:09:55.004Z"
      },
      {
        "duration": 6,
        "start_time": "2022-05-20T16:09:55.018Z"
      },
      {
        "duration": 24,
        "start_time": "2022-05-20T16:09:55.025Z"
      },
      {
        "duration": 2,
        "start_time": "2022-05-20T16:09:55.051Z"
      },
      {
        "duration": 15,
        "start_time": "2022-05-20T16:09:55.074Z"
      },
      {
        "duration": 0,
        "start_time": "2022-05-20T16:09:55.091Z"
      },
      {
        "duration": 0,
        "start_time": "2022-05-20T16:09:55.092Z"
      },
      {
        "duration": 0,
        "start_time": "2022-05-20T16:09:55.093Z"
      },
      {
        "duration": 0,
        "start_time": "2022-05-20T16:09:55.094Z"
      },
      {
        "duration": 0,
        "start_time": "2022-05-20T16:09:55.095Z"
      },
      {
        "duration": 0,
        "start_time": "2022-05-20T16:09:55.096Z"
      },
      {
        "duration": 0,
        "start_time": "2022-05-20T16:09:55.097Z"
      },
      {
        "duration": 0,
        "start_time": "2022-05-20T16:09:55.098Z"
      },
      {
        "duration": 0,
        "start_time": "2022-05-20T16:09:55.098Z"
      },
      {
        "duration": 0,
        "start_time": "2022-05-20T16:09:55.099Z"
      },
      {
        "duration": 0,
        "start_time": "2022-05-20T16:09:55.100Z"
      },
      {
        "duration": 0,
        "start_time": "2022-05-20T16:09:55.101Z"
      },
      {
        "duration": 0,
        "start_time": "2022-05-20T16:09:55.102Z"
      },
      {
        "duration": 0,
        "start_time": "2022-05-20T16:09:55.103Z"
      },
      {
        "duration": 0,
        "start_time": "2022-05-20T16:09:55.104Z"
      },
      {
        "duration": 0,
        "start_time": "2022-05-20T16:09:55.105Z"
      },
      {
        "duration": 0,
        "start_time": "2022-05-20T16:09:55.106Z"
      },
      {
        "duration": 0,
        "start_time": "2022-05-20T16:09:55.108Z"
      },
      {
        "duration": 0,
        "start_time": "2022-05-20T16:09:55.108Z"
      },
      {
        "duration": 0,
        "start_time": "2022-05-20T16:09:55.109Z"
      },
      {
        "duration": 0,
        "start_time": "2022-05-20T16:09:55.110Z"
      },
      {
        "duration": 0,
        "start_time": "2022-05-20T16:09:55.111Z"
      },
      {
        "duration": 0,
        "start_time": "2022-05-20T16:09:55.112Z"
      },
      {
        "duration": 0,
        "start_time": "2022-05-20T16:09:55.113Z"
      },
      {
        "duration": 0,
        "start_time": "2022-05-20T16:09:55.114Z"
      },
      {
        "duration": 590,
        "start_time": "2022-05-20T16:09:55.116Z"
      },
      {
        "duration": 5,
        "start_time": "2022-05-20T16:09:55.707Z"
      },
      {
        "duration": 7,
        "start_time": "2022-05-20T16:09:55.713Z"
      },
      {
        "duration": 6,
        "start_time": "2022-05-20T16:09:55.722Z"
      },
      {
        "duration": 510,
        "start_time": "2022-05-20T16:09:55.729Z"
      },
      {
        "duration": 5,
        "start_time": "2022-05-20T16:09:56.241Z"
      },
      {
        "duration": 11,
        "start_time": "2022-05-20T16:09:56.247Z"
      },
      {
        "duration": 15,
        "start_time": "2022-05-20T16:09:56.260Z"
      },
      {
        "duration": 4,
        "start_time": "2022-05-20T16:09:56.277Z"
      },
      {
        "duration": 9,
        "start_time": "2022-05-20T16:09:56.283Z"
      },
      {
        "duration": 13,
        "start_time": "2022-05-20T16:09:56.293Z"
      },
      {
        "duration": 0,
        "start_time": "2022-05-20T16:09:56.307Z"
      },
      {
        "duration": 0,
        "start_time": "2022-05-20T16:09:56.309Z"
      },
      {
        "duration": 0,
        "start_time": "2022-05-20T16:09:56.310Z"
      },
      {
        "duration": 0,
        "start_time": "2022-05-20T16:09:56.312Z"
      },
      {
        "duration": 0,
        "start_time": "2022-05-20T16:09:56.313Z"
      },
      {
        "duration": 0,
        "start_time": "2022-05-20T16:09:56.314Z"
      },
      {
        "duration": 0,
        "start_time": "2022-05-20T16:09:56.315Z"
      },
      {
        "duration": 0,
        "start_time": "2022-05-20T16:09:56.316Z"
      },
      {
        "duration": 0,
        "start_time": "2022-05-20T16:09:56.317Z"
      },
      {
        "duration": 0,
        "start_time": "2022-05-20T16:09:56.318Z"
      },
      {
        "duration": 17,
        "start_time": "2022-05-20T16:10:27.961Z"
      },
      {
        "duration": 19,
        "start_time": "2022-05-20T16:18:26.432Z"
      },
      {
        "duration": 8,
        "start_time": "2022-05-20T16:20:16.523Z"
      },
      {
        "duration": 5,
        "start_time": "2022-05-20T16:20:29.169Z"
      },
      {
        "duration": 4,
        "start_time": "2022-05-20T16:20:36.455Z"
      },
      {
        "duration": 14,
        "start_time": "2022-05-20T16:20:45.155Z"
      },
      {
        "duration": 18,
        "start_time": "2022-05-20T16:20:57.524Z"
      },
      {
        "duration": 13,
        "start_time": "2022-05-20T16:21:06.318Z"
      },
      {
        "duration": 151,
        "start_time": "2022-05-20T16:21:20.765Z"
      },
      {
        "duration": 15,
        "start_time": "2022-05-20T16:23:34.404Z"
      },
      {
        "duration": 2,
        "start_time": "2022-05-20T16:23:57.938Z"
      },
      {
        "duration": 2,
        "start_time": "2022-05-20T16:24:00.141Z"
      },
      {
        "duration": 70,
        "start_time": "2022-05-20T16:24:00.147Z"
      },
      {
        "duration": 14,
        "start_time": "2022-05-20T16:24:00.219Z"
      },
      {
        "duration": 15,
        "start_time": "2022-05-20T16:24:00.235Z"
      },
      {
        "duration": 32,
        "start_time": "2022-05-20T16:24:00.253Z"
      },
      {
        "duration": 13,
        "start_time": "2022-05-20T16:24:00.287Z"
      },
      {
        "duration": 8,
        "start_time": "2022-05-20T16:24:00.302Z"
      },
      {
        "duration": 22,
        "start_time": "2022-05-20T16:24:00.312Z"
      },
      {
        "duration": 2,
        "start_time": "2022-05-20T16:24:00.335Z"
      },
      {
        "duration": 36,
        "start_time": "2022-05-20T16:24:00.339Z"
      },
      {
        "duration": 11,
        "start_time": "2022-05-20T16:24:00.378Z"
      },
      {
        "duration": 0,
        "start_time": "2022-05-20T16:24:00.391Z"
      },
      {
        "duration": 0,
        "start_time": "2022-05-20T16:24:00.392Z"
      },
      {
        "duration": 0,
        "start_time": "2022-05-20T16:24:00.393Z"
      },
      {
        "duration": 0,
        "start_time": "2022-05-20T16:24:00.394Z"
      },
      {
        "duration": 0,
        "start_time": "2022-05-20T16:24:00.395Z"
      },
      {
        "duration": 0,
        "start_time": "2022-05-20T16:24:00.396Z"
      },
      {
        "duration": 0,
        "start_time": "2022-05-20T16:24:00.397Z"
      },
      {
        "duration": 0,
        "start_time": "2022-05-20T16:24:00.398Z"
      },
      {
        "duration": 0,
        "start_time": "2022-05-20T16:24:00.399Z"
      },
      {
        "duration": 0,
        "start_time": "2022-05-20T16:24:00.399Z"
      },
      {
        "duration": 0,
        "start_time": "2022-05-20T16:24:00.400Z"
      },
      {
        "duration": 0,
        "start_time": "2022-05-20T16:24:00.401Z"
      },
      {
        "duration": 0,
        "start_time": "2022-05-20T16:24:00.402Z"
      },
      {
        "duration": 0,
        "start_time": "2022-05-20T16:24:00.403Z"
      },
      {
        "duration": 0,
        "start_time": "2022-05-20T16:24:00.404Z"
      },
      {
        "duration": 0,
        "start_time": "2022-05-20T16:24:00.405Z"
      },
      {
        "duration": 0,
        "start_time": "2022-05-20T16:24:00.406Z"
      },
      {
        "duration": 0,
        "start_time": "2022-05-20T16:24:00.407Z"
      },
      {
        "duration": 0,
        "start_time": "2022-05-20T16:24:00.408Z"
      },
      {
        "duration": 0,
        "start_time": "2022-05-20T16:24:00.409Z"
      },
      {
        "duration": 0,
        "start_time": "2022-05-20T16:24:00.410Z"
      },
      {
        "duration": 0,
        "start_time": "2022-05-20T16:24:00.411Z"
      },
      {
        "duration": 0,
        "start_time": "2022-05-20T16:24:00.412Z"
      },
      {
        "duration": 0,
        "start_time": "2022-05-20T16:24:00.413Z"
      },
      {
        "duration": 0,
        "start_time": "2022-05-20T16:24:00.414Z"
      },
      {
        "duration": 0,
        "start_time": "2022-05-20T16:24:00.415Z"
      },
      {
        "duration": 0,
        "start_time": "2022-05-20T16:24:00.416Z"
      },
      {
        "duration": 0,
        "start_time": "2022-05-20T16:24:00.417Z"
      },
      {
        "duration": 0,
        "start_time": "2022-05-20T16:24:00.418Z"
      },
      {
        "duration": 0,
        "start_time": "2022-05-20T16:24:00.419Z"
      },
      {
        "duration": 0,
        "start_time": "2022-05-20T16:24:00.420Z"
      },
      {
        "duration": 0,
        "start_time": "2022-05-20T16:24:00.421Z"
      },
      {
        "duration": 0,
        "start_time": "2022-05-20T16:24:00.422Z"
      },
      {
        "duration": 0,
        "start_time": "2022-05-20T16:24:00.474Z"
      },
      {
        "duration": 0,
        "start_time": "2022-05-20T16:24:00.476Z"
      },
      {
        "duration": 0,
        "start_time": "2022-05-20T16:24:00.477Z"
      },
      {
        "duration": 0,
        "start_time": "2022-05-20T16:24:00.478Z"
      },
      {
        "duration": 0,
        "start_time": "2022-05-20T16:24:00.479Z"
      },
      {
        "duration": 0,
        "start_time": "2022-05-20T16:24:00.480Z"
      },
      {
        "duration": 27,
        "start_time": "2022-05-20T16:24:00.483Z"
      },
      {
        "duration": 83,
        "start_time": "2022-05-20T16:24:00.512Z"
      },
      {
        "duration": 17,
        "start_time": "2022-05-20T16:24:00.597Z"
      },
      {
        "duration": 66,
        "start_time": "2022-05-20T16:24:00.617Z"
      },
      {
        "duration": 11,
        "start_time": "2022-05-20T16:24:00.684Z"
      },
      {
        "duration": 19,
        "start_time": "2022-05-20T16:24:00.697Z"
      },
      {
        "duration": 5,
        "start_time": "2022-05-20T16:24:00.717Z"
      },
      {
        "duration": 17,
        "start_time": "2022-05-20T16:25:05.489Z"
      },
      {
        "duration": 13,
        "start_time": "2022-05-20T16:25:21.621Z"
      },
      {
        "duration": 15,
        "start_time": "2022-05-20T16:26:10.409Z"
      },
      {
        "duration": 19,
        "start_time": "2022-05-20T16:28:04.595Z"
      },
      {
        "duration": 22,
        "start_time": "2022-05-20T16:28:48.356Z"
      },
      {
        "duration": 15,
        "start_time": "2022-05-20T16:31:13.670Z"
      },
      {
        "duration": 6,
        "start_time": "2022-05-20T16:31:55.015Z"
      },
      {
        "duration": 5,
        "start_time": "2022-05-20T16:32:23.829Z"
      },
      {
        "duration": 14,
        "start_time": "2022-05-20T16:34:18.137Z"
      },
      {
        "duration": 3,
        "start_time": "2022-05-20T16:34:26.870Z"
      },
      {
        "duration": 4,
        "start_time": "2022-05-20T16:34:29.366Z"
      },
      {
        "duration": 82,
        "start_time": "2022-05-20T16:34:29.372Z"
      },
      {
        "duration": 14,
        "start_time": "2022-05-20T16:34:29.455Z"
      },
      {
        "duration": 10,
        "start_time": "2022-05-20T16:34:29.472Z"
      },
      {
        "duration": 39,
        "start_time": "2022-05-20T16:34:29.483Z"
      },
      {
        "duration": 20,
        "start_time": "2022-05-20T16:34:29.524Z"
      },
      {
        "duration": 6,
        "start_time": "2022-05-20T16:34:29.546Z"
      },
      {
        "duration": 3,
        "start_time": "2022-05-20T16:34:29.554Z"
      },
      {
        "duration": 34,
        "start_time": "2022-05-20T16:34:29.560Z"
      },
      {
        "duration": 13,
        "start_time": "2022-05-20T16:34:29.595Z"
      },
      {
        "duration": 4,
        "start_time": "2022-05-20T16:34:29.609Z"
      },
      {
        "duration": 8,
        "start_time": "2022-05-20T16:34:29.614Z"
      },
      {
        "duration": 9,
        "start_time": "2022-05-20T16:34:29.624Z"
      },
      {
        "duration": 54,
        "start_time": "2022-05-20T16:34:29.634Z"
      },
      {
        "duration": 7,
        "start_time": "2022-05-20T16:34:29.689Z"
      },
      {
        "duration": 7,
        "start_time": "2022-05-20T16:34:29.698Z"
      },
      {
        "duration": 7,
        "start_time": "2022-05-20T16:34:29.706Z"
      },
      {
        "duration": 20,
        "start_time": "2022-05-20T16:34:29.714Z"
      },
      {
        "duration": 9,
        "start_time": "2022-05-20T16:34:29.735Z"
      },
      {
        "duration": 4,
        "start_time": "2022-05-20T16:34:29.745Z"
      },
      {
        "duration": 7,
        "start_time": "2022-05-20T16:34:29.750Z"
      },
      {
        "duration": 23,
        "start_time": "2022-05-20T16:34:29.778Z"
      },
      {
        "duration": 4,
        "start_time": "2022-05-20T16:34:29.802Z"
      },
      {
        "duration": 195,
        "start_time": "2022-05-20T16:34:29.810Z"
      },
      {
        "duration": 24,
        "start_time": "2022-05-20T16:34:30.007Z"
      },
      {
        "duration": 8,
        "start_time": "2022-05-20T16:34:30.032Z"
      },
      {
        "duration": 42,
        "start_time": "2022-05-20T16:34:30.042Z"
      },
      {
        "duration": 9,
        "start_time": "2022-05-20T16:34:30.085Z"
      },
      {
        "duration": 20,
        "start_time": "2022-05-20T16:34:30.095Z"
      },
      {
        "duration": 8,
        "start_time": "2022-05-20T16:34:30.116Z"
      },
      {
        "duration": 26,
        "start_time": "2022-05-20T16:34:30.125Z"
      },
      {
        "duration": 311,
        "start_time": "2022-05-20T16:34:30.153Z"
      },
      {
        "duration": 17,
        "start_time": "2022-05-20T16:34:30.466Z"
      },
      {
        "duration": 223,
        "start_time": "2022-05-20T16:34:30.487Z"
      },
      {
        "duration": 277,
        "start_time": "2022-05-20T16:34:30.712Z"
      },
      {
        "duration": 10,
        "start_time": "2022-05-20T16:34:30.991Z"
      },
      {
        "duration": 899,
        "start_time": "2022-05-20T16:34:31.002Z"
      },
      {
        "duration": 5,
        "start_time": "2022-05-20T16:34:31.903Z"
      },
      {
        "duration": 14,
        "start_time": "2022-05-20T16:34:31.910Z"
      },
      {
        "duration": 9,
        "start_time": "2022-05-20T16:34:31.926Z"
      },
      {
        "duration": 567,
        "start_time": "2022-05-20T16:34:31.937Z"
      },
      {
        "duration": 5,
        "start_time": "2022-05-20T16:34:32.505Z"
      },
      {
        "duration": 8,
        "start_time": "2022-05-20T16:34:32.511Z"
      },
      {
        "duration": 6,
        "start_time": "2022-05-20T16:34:32.520Z"
      },
      {
        "duration": 5,
        "start_time": "2022-05-20T16:34:32.527Z"
      },
      {
        "duration": 6,
        "start_time": "2022-05-20T16:34:32.534Z"
      },
      {
        "duration": 52,
        "start_time": "2022-05-20T16:34:32.541Z"
      },
      {
        "duration": 328,
        "start_time": "2022-05-20T16:34:32.595Z"
      },
      {
        "duration": 591,
        "start_time": "2022-05-20T16:34:32.925Z"
      },
      {
        "duration": 663,
        "start_time": "2022-05-20T16:34:33.517Z"
      },
      {
        "duration": 32,
        "start_time": "2022-05-20T16:34:34.182Z"
      },
      {
        "duration": 76,
        "start_time": "2022-05-20T16:34:34.216Z"
      },
      {
        "duration": 18,
        "start_time": "2022-05-20T16:34:34.295Z"
      },
      {
        "duration": 68,
        "start_time": "2022-05-20T16:34:34.314Z"
      },
      {
        "duration": 6,
        "start_time": "2022-05-20T16:34:34.383Z"
      },
      {
        "duration": 16,
        "start_time": "2022-05-20T16:34:34.394Z"
      },
      {
        "duration": 4,
        "start_time": "2022-05-20T16:34:34.411Z"
      },
      {
        "duration": 5,
        "start_time": "2022-05-20T16:35:31.105Z"
      },
      {
        "duration": 9,
        "start_time": "2022-05-20T16:35:35.970Z"
      },
      {
        "duration": 6,
        "start_time": "2022-05-20T16:36:06.474Z"
      },
      {
        "duration": 3,
        "start_time": "2022-05-20T16:36:09.366Z"
      },
      {
        "duration": 77,
        "start_time": "2022-05-20T16:36:09.372Z"
      },
      {
        "duration": 13,
        "start_time": "2022-05-20T16:36:09.450Z"
      },
      {
        "duration": 3,
        "start_time": "2022-05-20T16:36:09.464Z"
      },
      {
        "duration": 20,
        "start_time": "2022-05-20T16:36:09.468Z"
      },
      {
        "duration": 13,
        "start_time": "2022-05-20T16:36:09.489Z"
      },
      {
        "duration": 8,
        "start_time": "2022-05-20T16:36:09.504Z"
      },
      {
        "duration": 3,
        "start_time": "2022-05-20T16:36:09.513Z"
      },
      {
        "duration": 28,
        "start_time": "2022-05-20T16:36:09.517Z"
      },
      {
        "duration": 29,
        "start_time": "2022-05-20T16:36:09.547Z"
      },
      {
        "duration": 3,
        "start_time": "2022-05-20T16:36:09.578Z"
      },
      {
        "duration": 10,
        "start_time": "2022-05-20T16:36:09.582Z"
      },
      {
        "duration": 8,
        "start_time": "2022-05-20T16:36:09.593Z"
      },
      {
        "duration": 10,
        "start_time": "2022-05-20T16:36:09.603Z"
      },
      {
        "duration": 4,
        "start_time": "2022-05-20T16:36:09.615Z"
      },
      {
        "duration": 8,
        "start_time": "2022-05-20T16:36:09.621Z"
      },
      {
        "duration": 8,
        "start_time": "2022-05-20T16:36:09.630Z"
      },
      {
        "duration": 42,
        "start_time": "2022-05-20T16:36:09.640Z"
      },
      {
        "duration": 10,
        "start_time": "2022-05-20T16:36:09.684Z"
      },
      {
        "duration": 5,
        "start_time": "2022-05-20T16:36:09.696Z"
      },
      {
        "duration": 13,
        "start_time": "2022-05-20T16:36:09.702Z"
      },
      {
        "duration": 15,
        "start_time": "2022-05-20T16:36:09.716Z"
      },
      {
        "duration": 5,
        "start_time": "2022-05-20T16:36:09.733Z"
      },
      {
        "duration": 226,
        "start_time": "2022-05-20T16:36:09.740Z"
      },
      {
        "duration": 32,
        "start_time": "2022-05-20T16:36:09.968Z"
      },
      {
        "duration": 9,
        "start_time": "2022-05-20T16:36:10.002Z"
      },
      {
        "duration": 29,
        "start_time": "2022-05-20T16:36:10.012Z"
      },
      {
        "duration": 8,
        "start_time": "2022-05-20T16:36:10.042Z"
      },
      {
        "duration": 15,
        "start_time": "2022-05-20T16:36:10.078Z"
      },
      {
        "duration": 14,
        "start_time": "2022-05-20T16:36:10.094Z"
      },
      {
        "duration": 31,
        "start_time": "2022-05-20T16:36:10.110Z"
      },
      {
        "duration": 303,
        "start_time": "2022-05-20T16:36:10.142Z"
      },
      {
        "duration": 10,
        "start_time": "2022-05-20T16:36:10.447Z"
      },
      {
        "duration": 198,
        "start_time": "2022-05-20T16:36:10.458Z"
      },
      {
        "duration": 256,
        "start_time": "2022-05-20T16:36:10.657Z"
      },
      {
        "duration": 12,
        "start_time": "2022-05-20T16:36:10.915Z"
      },
      {
        "duration": 531,
        "start_time": "2022-05-20T16:36:10.929Z"
      },
      {
        "duration": 14,
        "start_time": "2022-05-20T16:36:11.461Z"
      },
      {
        "duration": 7,
        "start_time": "2022-05-20T16:36:11.477Z"
      },
      {
        "duration": 6,
        "start_time": "2022-05-20T16:36:11.486Z"
      },
      {
        "duration": 518,
        "start_time": "2022-05-20T16:36:11.494Z"
      },
      {
        "duration": 4,
        "start_time": "2022-05-20T16:36:12.013Z"
      },
      {
        "duration": 6,
        "start_time": "2022-05-20T16:36:12.019Z"
      },
      {
        "duration": 6,
        "start_time": "2022-05-20T16:36:12.026Z"
      },
      {
        "duration": 5,
        "start_time": "2022-05-20T16:36:12.033Z"
      },
      {
        "duration": 6,
        "start_time": "2022-05-20T16:36:12.040Z"
      },
      {
        "duration": 47,
        "start_time": "2022-05-20T16:36:12.048Z"
      },
      {
        "duration": 312,
        "start_time": "2022-05-20T16:36:12.096Z"
      },
      {
        "duration": 295,
        "start_time": "2022-05-20T16:36:12.410Z"
      },
      {
        "duration": 340,
        "start_time": "2022-05-20T16:36:12.706Z"
      },
      {
        "duration": 30,
        "start_time": "2022-05-20T16:36:13.048Z"
      },
      {
        "duration": 16,
        "start_time": "2022-05-20T16:36:13.080Z"
      },
      {
        "duration": 20,
        "start_time": "2022-05-20T16:36:13.098Z"
      },
      {
        "duration": 15,
        "start_time": "2022-05-20T16:36:13.120Z"
      },
      {
        "duration": 6,
        "start_time": "2022-05-20T16:36:13.136Z"
      },
      {
        "duration": 39,
        "start_time": "2022-05-20T16:36:13.144Z"
      },
      {
        "duration": 5,
        "start_time": "2022-05-20T16:36:13.184Z"
      },
      {
        "duration": 6,
        "start_time": "2022-05-20T16:41:23.247Z"
      },
      {
        "duration": 16,
        "start_time": "2022-05-20T16:41:34.583Z"
      },
      {
        "duration": 6,
        "start_time": "2022-05-20T16:41:39.834Z"
      },
      {
        "duration": 6,
        "start_time": "2022-05-20T16:41:59.610Z"
      },
      {
        "duration": 5,
        "start_time": "2022-05-20T16:43:33.373Z"
      },
      {
        "duration": 6,
        "start_time": "2022-05-20T16:43:37.921Z"
      },
      {
        "duration": 8,
        "start_time": "2022-05-20T16:43:41.902Z"
      },
      {
        "duration": 5,
        "start_time": "2022-05-20T16:45:11.493Z"
      },
      {
        "duration": 6,
        "start_time": "2022-05-20T16:45:26.893Z"
      },
      {
        "duration": 69,
        "start_time": "2022-05-20T16:47:14.635Z"
      },
      {
        "duration": 11,
        "start_time": "2022-05-20T16:47:43.624Z"
      },
      {
        "duration": 3,
        "start_time": "2022-05-20T16:49:07.792Z"
      },
      {
        "duration": 60,
        "start_time": "2022-05-20T16:49:07.798Z"
      },
      {
        "duration": 12,
        "start_time": "2022-05-20T16:49:07.860Z"
      },
      {
        "duration": 3,
        "start_time": "2022-05-20T16:49:07.873Z"
      },
      {
        "duration": 18,
        "start_time": "2022-05-20T16:49:07.877Z"
      },
      {
        "duration": 13,
        "start_time": "2022-05-20T16:49:07.896Z"
      },
      {
        "duration": 6,
        "start_time": "2022-05-20T16:49:07.910Z"
      },
      {
        "duration": 6,
        "start_time": "2022-05-20T16:49:07.917Z"
      },
      {
        "duration": 160,
        "start_time": "2022-05-20T16:49:07.924Z"
      },
      {
        "duration": 7,
        "start_time": "2022-05-20T16:49:08.086Z"
      },
      {
        "duration": 7,
        "start_time": "2022-05-20T16:49:08.095Z"
      },
      {
        "duration": 7,
        "start_time": "2022-05-20T16:49:08.103Z"
      },
      {
        "duration": 6,
        "start_time": "2022-05-20T16:49:08.112Z"
      },
      {
        "duration": 11,
        "start_time": "2022-05-20T16:49:08.119Z"
      },
      {
        "duration": 5,
        "start_time": "2022-05-20T16:49:08.132Z"
      },
      {
        "duration": 37,
        "start_time": "2022-05-20T16:49:08.138Z"
      },
      {
        "duration": 9,
        "start_time": "2022-05-20T16:49:08.176Z"
      },
      {
        "duration": 13,
        "start_time": "2022-05-20T16:49:08.186Z"
      },
      {
        "duration": 10,
        "start_time": "2022-05-20T16:49:08.200Z"
      },
      {
        "duration": 5,
        "start_time": "2022-05-20T16:49:08.212Z"
      },
      {
        "duration": 14,
        "start_time": "2022-05-20T16:49:08.219Z"
      },
      {
        "duration": 13,
        "start_time": "2022-05-20T16:49:08.234Z"
      },
      {
        "duration": 26,
        "start_time": "2022-05-20T16:49:08.249Z"
      },
      {
        "duration": 190,
        "start_time": "2022-05-20T16:49:08.277Z"
      },
      {
        "duration": 35,
        "start_time": "2022-05-20T16:49:08.469Z"
      },
      {
        "duration": 8,
        "start_time": "2022-05-20T16:49:08.505Z"
      },
      {
        "duration": 23,
        "start_time": "2022-05-20T16:49:08.515Z"
      },
      {
        "duration": 6,
        "start_time": "2022-05-20T16:49:08.540Z"
      },
      {
        "duration": 9,
        "start_time": "2022-05-20T16:49:08.577Z"
      },
      {
        "duration": 7,
        "start_time": "2022-05-20T16:49:08.588Z"
      },
      {
        "duration": 27,
        "start_time": "2022-05-20T16:49:08.597Z"
      },
      {
        "duration": 298,
        "start_time": "2022-05-20T16:49:08.626Z"
      },
      {
        "duration": 10,
        "start_time": "2022-05-20T16:49:08.926Z"
      },
      {
        "duration": 197,
        "start_time": "2022-05-20T16:49:08.938Z"
      },
      {
        "duration": 252,
        "start_time": "2022-05-20T16:49:09.136Z"
      },
      {
        "duration": 9,
        "start_time": "2022-05-20T16:49:09.389Z"
      },
      {
        "duration": 501,
        "start_time": "2022-05-20T16:49:09.400Z"
      },
      {
        "duration": 5,
        "start_time": "2022-05-20T16:49:09.904Z"
      },
      {
        "duration": 13,
        "start_time": "2022-05-20T16:49:09.911Z"
      },
      {
        "duration": 8,
        "start_time": "2022-05-20T16:49:09.926Z"
      },
      {
        "duration": 512,
        "start_time": "2022-05-20T16:49:09.936Z"
      },
      {
        "duration": 5,
        "start_time": "2022-05-20T16:49:10.449Z"
      },
      {
        "duration": 8,
        "start_time": "2022-05-20T16:49:10.455Z"
      },
      {
        "duration": 14,
        "start_time": "2022-05-20T16:49:10.464Z"
      },
      {
        "duration": 5,
        "start_time": "2022-05-20T16:49:10.480Z"
      },
      {
        "duration": 8,
        "start_time": "2022-05-20T16:49:10.487Z"
      },
      {
        "duration": 29,
        "start_time": "2022-05-20T16:49:10.496Z"
      },
      {
        "duration": 295,
        "start_time": "2022-05-20T16:49:10.526Z"
      },
      {
        "duration": 395,
        "start_time": "2022-05-20T16:49:10.823Z"
      },
      {
        "duration": 530,
        "start_time": "2022-05-20T16:49:11.220Z"
      },
      {
        "duration": 37,
        "start_time": "2022-05-20T16:49:11.751Z"
      },
      {
        "duration": 16,
        "start_time": "2022-05-20T16:49:11.789Z"
      },
      {
        "duration": 15,
        "start_time": "2022-05-20T16:49:11.807Z"
      },
      {
        "duration": 10,
        "start_time": "2022-05-20T16:49:11.823Z"
      },
      {
        "duration": 4,
        "start_time": "2022-05-20T16:49:11.835Z"
      },
      {
        "duration": 38,
        "start_time": "2022-05-20T16:49:11.841Z"
      },
      {
        "duration": 5,
        "start_time": "2022-05-20T16:49:11.881Z"
      },
      {
        "duration": 61,
        "start_time": "2022-05-20T16:49:26.964Z"
      },
      {
        "duration": 3,
        "start_time": "2022-05-20T16:49:30.071Z"
      },
      {
        "duration": 70,
        "start_time": "2022-05-20T16:49:30.076Z"
      },
      {
        "duration": 11,
        "start_time": "2022-05-20T16:49:30.148Z"
      },
      {
        "duration": 9,
        "start_time": "2022-05-20T16:49:30.161Z"
      },
      {
        "duration": 41,
        "start_time": "2022-05-20T16:49:30.171Z"
      },
      {
        "duration": 14,
        "start_time": "2022-05-20T16:49:30.214Z"
      },
      {
        "duration": 18,
        "start_time": "2022-05-20T16:49:30.230Z"
      },
      {
        "duration": 12,
        "start_time": "2022-05-20T16:49:30.249Z"
      },
      {
        "duration": 27,
        "start_time": "2022-05-20T16:49:30.262Z"
      },
      {
        "duration": 6,
        "start_time": "2022-05-20T16:49:30.291Z"
      },
      {
        "duration": 24,
        "start_time": "2022-05-20T16:49:30.300Z"
      },
      {
        "duration": 11,
        "start_time": "2022-05-20T16:49:30.325Z"
      },
      {
        "duration": 16,
        "start_time": "2022-05-20T16:49:30.338Z"
      },
      {
        "duration": 21,
        "start_time": "2022-05-20T16:49:30.356Z"
      },
      {
        "duration": 4,
        "start_time": "2022-05-20T16:49:30.379Z"
      },
      {
        "duration": 13,
        "start_time": "2022-05-20T16:49:30.385Z"
      },
      {
        "duration": 13,
        "start_time": "2022-05-20T16:49:30.399Z"
      },
      {
        "duration": 20,
        "start_time": "2022-05-20T16:49:30.414Z"
      },
      {
        "duration": 9,
        "start_time": "2022-05-20T16:49:30.436Z"
      },
      {
        "duration": 18,
        "start_time": "2022-05-20T16:49:30.446Z"
      },
      {
        "duration": 19,
        "start_time": "2022-05-20T16:49:30.466Z"
      },
      {
        "duration": 18,
        "start_time": "2022-05-20T16:49:30.487Z"
      },
      {
        "duration": 6,
        "start_time": "2022-05-20T16:49:30.506Z"
      },
      {
        "duration": 168,
        "start_time": "2022-05-20T16:49:30.514Z"
      },
      {
        "duration": 29,
        "start_time": "2022-05-20T16:49:30.684Z"
      },
      {
        "duration": 9,
        "start_time": "2022-05-20T16:49:30.714Z"
      },
      {
        "duration": 23,
        "start_time": "2022-05-20T16:49:30.724Z"
      },
      {
        "duration": 29,
        "start_time": "2022-05-20T16:49:30.749Z"
      },
      {
        "duration": 10,
        "start_time": "2022-05-20T16:49:30.782Z"
      },
      {
        "duration": 21,
        "start_time": "2022-05-20T16:49:30.793Z"
      },
      {
        "duration": 30,
        "start_time": "2022-05-20T16:49:30.815Z"
      },
      {
        "duration": 304,
        "start_time": "2022-05-20T16:49:30.847Z"
      },
      {
        "duration": 11,
        "start_time": "2022-05-20T16:49:31.153Z"
      },
      {
        "duration": 196,
        "start_time": "2022-05-20T16:49:31.175Z"
      },
      {
        "duration": 256,
        "start_time": "2022-05-20T16:49:31.375Z"
      },
      {
        "duration": 9,
        "start_time": "2022-05-20T16:49:31.634Z"
      },
      {
        "duration": 658,
        "start_time": "2022-05-20T16:49:31.645Z"
      },
      {
        "duration": 5,
        "start_time": "2022-05-20T16:49:32.305Z"
      },
      {
        "duration": 6,
        "start_time": "2022-05-20T16:49:32.311Z"
      },
      {
        "duration": 9,
        "start_time": "2022-05-20T16:49:32.318Z"
      },
      {
        "duration": 877,
        "start_time": "2022-05-20T16:49:32.329Z"
      },
      {
        "duration": 5,
        "start_time": "2022-05-20T16:49:33.208Z"
      },
      {
        "duration": 6,
        "start_time": "2022-05-20T16:49:33.215Z"
      },
      {
        "duration": 5,
        "start_time": "2022-05-20T16:49:33.275Z"
      },
      {
        "duration": 5,
        "start_time": "2022-05-20T16:49:33.282Z"
      },
      {
        "duration": 5,
        "start_time": "2022-05-20T16:49:33.289Z"
      },
      {
        "duration": 86,
        "start_time": "2022-05-20T16:49:33.295Z"
      },
      {
        "duration": 705,
        "start_time": "2022-05-20T16:49:33.382Z"
      },
      {
        "duration": 532,
        "start_time": "2022-05-20T16:49:34.088Z"
      },
      {
        "duration": 274,
        "start_time": "2022-05-20T16:49:34.621Z"
      },
      {
        "duration": 23,
        "start_time": "2022-05-20T16:49:34.897Z"
      },
      {
        "duration": 16,
        "start_time": "2022-05-20T16:49:34.921Z"
      },
      {
        "duration": 37,
        "start_time": "2022-05-20T16:49:34.938Z"
      },
      {
        "duration": 10,
        "start_time": "2022-05-20T16:49:34.977Z"
      },
      {
        "duration": 7,
        "start_time": "2022-05-20T16:49:34.988Z"
      },
      {
        "duration": 14,
        "start_time": "2022-05-20T16:49:34.996Z"
      },
      {
        "duration": 4,
        "start_time": "2022-05-20T16:49:35.012Z"
      },
      {
        "duration": 8,
        "start_time": "2022-05-20T16:50:08.226Z"
      },
      {
        "duration": 7,
        "start_time": "2022-05-20T16:53:15.550Z"
      },
      {
        "duration": 3,
        "start_time": "2022-05-20T16:53:19.589Z"
      },
      {
        "duration": 64,
        "start_time": "2022-05-20T16:53:19.595Z"
      },
      {
        "duration": 13,
        "start_time": "2022-05-20T16:53:19.661Z"
      },
      {
        "duration": 3,
        "start_time": "2022-05-20T16:53:19.675Z"
      },
      {
        "duration": 16,
        "start_time": "2022-05-20T16:53:19.679Z"
      },
      {
        "duration": 12,
        "start_time": "2022-05-20T16:53:19.697Z"
      },
      {
        "duration": 5,
        "start_time": "2022-05-20T16:53:19.710Z"
      },
      {
        "duration": 4,
        "start_time": "2022-05-20T16:53:19.716Z"
      },
      {
        "duration": 18,
        "start_time": "2022-05-20T16:53:19.722Z"
      },
      {
        "duration": 4,
        "start_time": "2022-05-20T16:53:19.741Z"
      },
      {
        "duration": 3,
        "start_time": "2022-05-20T16:53:19.776Z"
      },
      {
        "duration": 9,
        "start_time": "2022-05-20T16:53:19.781Z"
      },
      {
        "duration": 10,
        "start_time": "2022-05-20T16:53:19.791Z"
      },
      {
        "duration": 14,
        "start_time": "2022-05-20T16:53:19.802Z"
      },
      {
        "duration": 4,
        "start_time": "2022-05-20T16:53:19.817Z"
      },
      {
        "duration": 6,
        "start_time": "2022-05-20T16:53:19.823Z"
      },
      {
        "duration": 11,
        "start_time": "2022-05-20T16:53:19.831Z"
      },
      {
        "duration": 37,
        "start_time": "2022-05-20T16:53:19.844Z"
      },
      {
        "duration": 9,
        "start_time": "2022-05-20T16:53:19.882Z"
      },
      {
        "duration": 4,
        "start_time": "2022-05-20T16:53:19.893Z"
      },
      {
        "duration": 7,
        "start_time": "2022-05-20T16:53:19.899Z"
      },
      {
        "duration": 22,
        "start_time": "2022-05-20T16:53:19.907Z"
      },
      {
        "duration": 5,
        "start_time": "2022-05-20T16:53:19.931Z"
      },
      {
        "duration": 191,
        "start_time": "2022-05-20T16:53:19.938Z"
      },
      {
        "duration": 28,
        "start_time": "2022-05-20T16:53:20.130Z"
      },
      {
        "duration": 21,
        "start_time": "2022-05-20T16:53:20.159Z"
      },
      {
        "duration": 23,
        "start_time": "2022-05-20T16:53:20.182Z"
      },
      {
        "duration": 10,
        "start_time": "2022-05-20T16:53:20.206Z"
      },
      {
        "duration": 11,
        "start_time": "2022-05-20T16:53:20.219Z"
      },
      {
        "duration": 11,
        "start_time": "2022-05-20T16:53:20.231Z"
      },
      {
        "duration": 46,
        "start_time": "2022-05-20T16:53:20.244Z"
      },
      {
        "duration": 301,
        "start_time": "2022-05-20T16:53:20.291Z"
      },
      {
        "duration": 10,
        "start_time": "2022-05-20T16:53:20.594Z"
      },
      {
        "duration": 204,
        "start_time": "2022-05-20T16:53:20.605Z"
      },
      {
        "duration": 250,
        "start_time": "2022-05-20T16:53:20.810Z"
      },
      {
        "duration": 15,
        "start_time": "2022-05-20T16:53:21.061Z"
      },
      {
        "duration": 509,
        "start_time": "2022-05-20T16:53:21.077Z"
      },
      {
        "duration": 5,
        "start_time": "2022-05-20T16:53:21.588Z"
      },
      {
        "duration": 12,
        "start_time": "2022-05-20T16:53:21.595Z"
      },
      {
        "duration": 9,
        "start_time": "2022-05-20T16:53:21.609Z"
      },
      {
        "duration": 584,
        "start_time": "2022-05-20T16:53:21.620Z"
      },
      {
        "duration": 8,
        "start_time": "2022-05-20T16:53:22.206Z"
      },
      {
        "duration": 14,
        "start_time": "2022-05-20T16:53:22.216Z"
      },
      {
        "duration": 7,
        "start_time": "2022-05-20T16:53:22.232Z"
      },
      {
        "duration": 9,
        "start_time": "2022-05-20T16:53:22.241Z"
      },
      {
        "duration": 6,
        "start_time": "2022-05-20T16:53:22.252Z"
      },
      {
        "duration": 29,
        "start_time": "2022-05-20T16:53:22.274Z"
      },
      {
        "duration": 321,
        "start_time": "2022-05-20T16:53:22.304Z"
      },
      {
        "duration": 387,
        "start_time": "2022-05-20T16:53:22.627Z"
      },
      {
        "duration": 300,
        "start_time": "2022-05-20T16:53:23.016Z"
      },
      {
        "duration": 25,
        "start_time": "2022-05-20T16:53:23.318Z"
      },
      {
        "duration": 32,
        "start_time": "2022-05-20T16:53:23.345Z"
      },
      {
        "duration": 18,
        "start_time": "2022-05-20T16:53:23.378Z"
      },
      {
        "duration": 11,
        "start_time": "2022-05-20T16:53:23.397Z"
      },
      {
        "duration": 6,
        "start_time": "2022-05-20T16:53:23.409Z"
      },
      {
        "duration": 13,
        "start_time": "2022-05-20T16:53:23.417Z"
      },
      {
        "duration": 7,
        "start_time": "2022-05-20T16:53:23.431Z"
      },
      {
        "duration": 23,
        "start_time": "2022-05-20T16:53:58.244Z"
      },
      {
        "duration": 27,
        "start_time": "2022-05-20T16:55:13.830Z"
      },
      {
        "duration": 29,
        "start_time": "2022-05-20T16:55:25.856Z"
      },
      {
        "duration": 52,
        "start_time": "2022-05-22T09:08:03.194Z"
      },
      {
        "duration": 1585,
        "start_time": "2022-05-22T09:08:10.226Z"
      },
      {
        "duration": 203,
        "start_time": "2022-05-22T09:08:11.814Z"
      },
      {
        "duration": 13,
        "start_time": "2022-05-22T09:08:12.019Z"
      },
      {
        "duration": 3,
        "start_time": "2022-05-22T09:08:12.034Z"
      },
      {
        "duration": 25,
        "start_time": "2022-05-22T09:08:12.038Z"
      },
      {
        "duration": 14,
        "start_time": "2022-05-22T09:08:12.064Z"
      },
      {
        "duration": 10,
        "start_time": "2022-05-22T09:08:12.080Z"
      },
      {
        "duration": 27,
        "start_time": "2022-05-22T09:08:12.091Z"
      },
      {
        "duration": 40,
        "start_time": "2022-05-22T09:08:12.120Z"
      },
      {
        "duration": 17,
        "start_time": "2022-05-22T09:08:12.163Z"
      },
      {
        "duration": 18,
        "start_time": "2022-05-22T09:08:12.183Z"
      },
      {
        "duration": 13,
        "start_time": "2022-05-22T09:08:12.203Z"
      },
      {
        "duration": 14,
        "start_time": "2022-05-22T09:08:12.217Z"
      },
      {
        "duration": 17,
        "start_time": "2022-05-22T09:08:12.233Z"
      },
      {
        "duration": 9,
        "start_time": "2022-05-22T09:08:12.252Z"
      },
      {
        "duration": 19,
        "start_time": "2022-05-22T09:08:12.262Z"
      },
      {
        "duration": 15,
        "start_time": "2022-05-22T09:08:12.283Z"
      },
      {
        "duration": 21,
        "start_time": "2022-05-22T09:08:12.300Z"
      },
      {
        "duration": 11,
        "start_time": "2022-05-22T09:08:12.323Z"
      },
      {
        "duration": 25,
        "start_time": "2022-05-22T09:08:12.336Z"
      },
      {
        "duration": 9,
        "start_time": "2022-05-22T09:08:12.362Z"
      },
      {
        "duration": 28,
        "start_time": "2022-05-22T09:08:12.373Z"
      },
      {
        "duration": 6,
        "start_time": "2022-05-22T09:08:12.403Z"
      },
      {
        "duration": 173,
        "start_time": "2022-05-22T09:08:12.410Z"
      },
      {
        "duration": 30,
        "start_time": "2022-05-22T09:08:12.585Z"
      },
      {
        "duration": 89,
        "start_time": "2022-05-22T09:08:12.617Z"
      },
      {
        "duration": 66,
        "start_time": "2022-05-22T09:08:12.708Z"
      },
      {
        "duration": 7,
        "start_time": "2022-05-22T09:08:12.779Z"
      },
      {
        "duration": 14,
        "start_time": "2022-05-22T09:08:12.787Z"
      },
      {
        "duration": 11,
        "start_time": "2022-05-22T09:08:12.802Z"
      },
      {
        "duration": 26,
        "start_time": "2022-05-22T09:08:12.814Z"
      },
      {
        "duration": 350,
        "start_time": "2022-05-22T09:08:12.842Z"
      },
      {
        "duration": 10,
        "start_time": "2022-05-22T09:08:13.194Z"
      },
      {
        "duration": 213,
        "start_time": "2022-05-22T09:08:13.206Z"
      },
      {
        "duration": 243,
        "start_time": "2022-05-22T09:08:13.421Z"
      },
      {
        "duration": 9,
        "start_time": "2022-05-22T09:08:13.665Z"
      },
      {
        "duration": 480,
        "start_time": "2022-05-22T09:08:13.675Z"
      },
      {
        "duration": 5,
        "start_time": "2022-05-22T09:08:14.163Z"
      },
      {
        "duration": 16,
        "start_time": "2022-05-22T09:08:14.169Z"
      },
      {
        "duration": 7,
        "start_time": "2022-05-22T09:08:14.187Z"
      },
      {
        "duration": 462,
        "start_time": "2022-05-22T09:08:14.195Z"
      },
      {
        "duration": 5,
        "start_time": "2022-05-22T09:08:14.658Z"
      },
      {
        "duration": 17,
        "start_time": "2022-05-22T09:08:14.664Z"
      },
      {
        "duration": 10,
        "start_time": "2022-05-22T09:08:14.682Z"
      },
      {
        "duration": 27,
        "start_time": "2022-05-22T09:08:14.693Z"
      },
      {
        "duration": 62,
        "start_time": "2022-05-22T09:08:14.721Z"
      },
      {
        "duration": 0,
        "start_time": "2022-05-22T09:08:14.784Z"
      },
      {
        "duration": 0,
        "start_time": "2022-05-22T09:08:14.786Z"
      },
      {
        "duration": 0,
        "start_time": "2022-05-22T09:08:14.787Z"
      },
      {
        "duration": 0,
        "start_time": "2022-05-22T09:08:14.789Z"
      },
      {
        "duration": 0,
        "start_time": "2022-05-22T09:08:14.789Z"
      },
      {
        "duration": 0,
        "start_time": "2022-05-22T09:08:14.791Z"
      },
      {
        "duration": 0,
        "start_time": "2022-05-22T09:08:14.792Z"
      },
      {
        "duration": 0,
        "start_time": "2022-05-22T09:08:14.793Z"
      },
      {
        "duration": 0,
        "start_time": "2022-05-22T09:08:14.794Z"
      },
      {
        "duration": 0,
        "start_time": "2022-05-22T09:08:14.795Z"
      },
      {
        "duration": 0,
        "start_time": "2022-05-22T09:08:14.796Z"
      },
      {
        "duration": 0,
        "start_time": "2022-05-22T09:08:14.797Z"
      },
      {
        "duration": 26,
        "start_time": "2022-05-22T09:08:39.148Z"
      },
      {
        "duration": 283,
        "start_time": "2022-05-22T09:09:11.910Z"
      },
      {
        "duration": 4,
        "start_time": "2022-05-22T09:09:45.093Z"
      },
      {
        "duration": 209,
        "start_time": "2022-05-22T09:09:53.399Z"
      },
      {
        "duration": 246,
        "start_time": "2022-05-22T09:10:07.658Z"
      },
      {
        "duration": 4,
        "start_time": "2022-05-22T09:10:21.574Z"
      },
      {
        "duration": 76,
        "start_time": "2022-05-22T09:10:21.580Z"
      },
      {
        "duration": 17,
        "start_time": "2022-05-22T09:10:21.659Z"
      },
      {
        "duration": 15,
        "start_time": "2022-05-22T09:10:21.679Z"
      },
      {
        "duration": 24,
        "start_time": "2022-05-22T09:10:21.697Z"
      },
      {
        "duration": 14,
        "start_time": "2022-05-22T09:10:21.723Z"
      },
      {
        "duration": 22,
        "start_time": "2022-05-22T09:10:21.739Z"
      },
      {
        "duration": 10,
        "start_time": "2022-05-22T09:10:21.762Z"
      },
      {
        "duration": 21,
        "start_time": "2022-05-22T09:10:21.773Z"
      },
      {
        "duration": 5,
        "start_time": "2022-05-22T09:10:21.796Z"
      },
      {
        "duration": 4,
        "start_time": "2022-05-22T09:10:21.805Z"
      },
      {
        "duration": 7,
        "start_time": "2022-05-22T09:10:21.810Z"
      },
      {
        "duration": 7,
        "start_time": "2022-05-22T09:10:21.819Z"
      },
      {
        "duration": 10,
        "start_time": "2022-05-22T09:10:21.859Z"
      },
      {
        "duration": 16,
        "start_time": "2022-05-22T09:10:21.871Z"
      },
      {
        "duration": 7,
        "start_time": "2022-05-22T09:10:21.889Z"
      },
      {
        "duration": 13,
        "start_time": "2022-05-22T09:10:21.898Z"
      },
      {
        "duration": 14,
        "start_time": "2022-05-22T09:10:21.913Z"
      },
      {
        "duration": 9,
        "start_time": "2022-05-22T09:10:21.929Z"
      },
      {
        "duration": 24,
        "start_time": "2022-05-22T09:10:21.940Z"
      },
      {
        "duration": 14,
        "start_time": "2022-05-22T09:10:21.966Z"
      },
      {
        "duration": 19,
        "start_time": "2022-05-22T09:10:21.982Z"
      },
      {
        "duration": 6,
        "start_time": "2022-05-22T09:10:22.003Z"
      },
      {
        "duration": 191,
        "start_time": "2022-05-22T09:10:22.011Z"
      },
      {
        "duration": 31,
        "start_time": "2022-05-22T09:10:22.203Z"
      },
      {
        "duration": 24,
        "start_time": "2022-05-22T09:10:22.235Z"
      },
      {
        "duration": 24,
        "start_time": "2022-05-22T09:10:22.261Z"
      },
      {
        "duration": 7,
        "start_time": "2022-05-22T09:10:22.286Z"
      },
      {
        "duration": 12,
        "start_time": "2022-05-22T09:10:22.296Z"
      },
      {
        "duration": 13,
        "start_time": "2022-05-22T09:10:22.310Z"
      },
      {
        "duration": 41,
        "start_time": "2022-05-22T09:10:22.324Z"
      },
      {
        "duration": 299,
        "start_time": "2022-05-22T09:10:22.367Z"
      },
      {
        "duration": 9,
        "start_time": "2022-05-22T09:10:22.668Z"
      },
      {
        "duration": 215,
        "start_time": "2022-05-22T09:10:22.679Z"
      },
      {
        "duration": 344,
        "start_time": "2022-05-22T09:10:22.895Z"
      },
      {
        "duration": 10,
        "start_time": "2022-05-22T09:10:23.241Z"
      },
      {
        "duration": 592,
        "start_time": "2022-05-22T09:10:23.259Z"
      },
      {
        "duration": 9,
        "start_time": "2022-05-22T09:10:23.853Z"
      },
      {
        "duration": 27,
        "start_time": "2022-05-22T09:10:23.864Z"
      },
      {
        "duration": 21,
        "start_time": "2022-05-22T09:10:23.894Z"
      },
      {
        "duration": 507,
        "start_time": "2022-05-22T09:10:23.917Z"
      },
      {
        "duration": 5,
        "start_time": "2022-05-22T09:10:24.426Z"
      },
      {
        "duration": 8,
        "start_time": "2022-05-22T09:10:24.432Z"
      },
      {
        "duration": 17,
        "start_time": "2022-05-22T09:10:24.442Z"
      },
      {
        "duration": 5,
        "start_time": "2022-05-22T09:10:24.461Z"
      },
      {
        "duration": 241,
        "start_time": "2022-05-22T09:10:24.468Z"
      },
      {
        "duration": 0,
        "start_time": "2022-05-22T09:10:24.711Z"
      },
      {
        "duration": 0,
        "start_time": "2022-05-22T09:10:24.712Z"
      },
      {
        "duration": 0,
        "start_time": "2022-05-22T09:10:24.714Z"
      },
      {
        "duration": 0,
        "start_time": "2022-05-22T09:10:24.715Z"
      },
      {
        "duration": 0,
        "start_time": "2022-05-22T09:10:24.717Z"
      },
      {
        "duration": 0,
        "start_time": "2022-05-22T09:10:24.718Z"
      },
      {
        "duration": 0,
        "start_time": "2022-05-22T09:10:24.719Z"
      },
      {
        "duration": 0,
        "start_time": "2022-05-22T09:10:24.720Z"
      },
      {
        "duration": 0,
        "start_time": "2022-05-22T09:10:24.721Z"
      },
      {
        "duration": 0,
        "start_time": "2022-05-22T09:10:24.722Z"
      },
      {
        "duration": 0,
        "start_time": "2022-05-22T09:10:24.723Z"
      },
      {
        "duration": 0,
        "start_time": "2022-05-22T09:10:24.725Z"
      },
      {
        "duration": 227,
        "start_time": "2022-05-22T09:11:04.272Z"
      },
      {
        "duration": 7,
        "start_time": "2022-05-22T09:11:27.162Z"
      },
      {
        "duration": 7,
        "start_time": "2022-05-22T09:11:29.709Z"
      },
      {
        "duration": 7,
        "start_time": "2022-05-22T09:12:08.400Z"
      },
      {
        "duration": 7,
        "start_time": "2022-05-22T09:12:12.638Z"
      },
      {
        "duration": 2,
        "start_time": "2022-05-22T09:15:04.010Z"
      },
      {
        "duration": 80,
        "start_time": "2022-05-22T09:15:04.015Z"
      },
      {
        "duration": 13,
        "start_time": "2022-05-22T09:15:04.097Z"
      },
      {
        "duration": 17,
        "start_time": "2022-05-22T09:15:04.111Z"
      },
      {
        "duration": 39,
        "start_time": "2022-05-22T09:15:04.130Z"
      },
      {
        "duration": 25,
        "start_time": "2022-05-22T09:15:04.170Z"
      },
      {
        "duration": 44,
        "start_time": "2022-05-22T09:15:04.196Z"
      },
      {
        "duration": 23,
        "start_time": "2022-05-22T09:15:04.242Z"
      },
      {
        "duration": 31,
        "start_time": "2022-05-22T09:15:04.267Z"
      },
      {
        "duration": 6,
        "start_time": "2022-05-22T09:15:04.299Z"
      },
      {
        "duration": 5,
        "start_time": "2022-05-22T09:15:04.307Z"
      },
      {
        "duration": 7,
        "start_time": "2022-05-22T09:15:04.313Z"
      },
      {
        "duration": 7,
        "start_time": "2022-05-22T09:15:04.321Z"
      },
      {
        "duration": 11,
        "start_time": "2022-05-22T09:15:04.329Z"
      },
      {
        "duration": 3,
        "start_time": "2022-05-22T09:15:04.341Z"
      },
      {
        "duration": 13,
        "start_time": "2022-05-22T09:15:04.346Z"
      },
      {
        "duration": 4,
        "start_time": "2022-05-22T09:15:04.360Z"
      },
      {
        "duration": 11,
        "start_time": "2022-05-22T09:15:04.365Z"
      },
      {
        "duration": 7,
        "start_time": "2022-05-22T09:15:04.377Z"
      },
      {
        "duration": 4,
        "start_time": "2022-05-22T09:15:04.386Z"
      },
      {
        "duration": 7,
        "start_time": "2022-05-22T09:15:04.391Z"
      },
      {
        "duration": 13,
        "start_time": "2022-05-22T09:15:04.399Z"
      },
      {
        "duration": 3,
        "start_time": "2022-05-22T09:15:04.414Z"
      },
      {
        "duration": 180,
        "start_time": "2022-05-22T09:15:04.418Z"
      },
      {
        "duration": 29,
        "start_time": "2022-05-22T09:15:04.599Z"
      },
      {
        "duration": 7,
        "start_time": "2022-05-22T09:15:04.630Z"
      },
      {
        "duration": 41,
        "start_time": "2022-05-22T09:15:04.639Z"
      },
      {
        "duration": 7,
        "start_time": "2022-05-22T09:15:04.682Z"
      },
      {
        "duration": 17,
        "start_time": "2022-05-22T09:15:04.692Z"
      },
      {
        "duration": 10,
        "start_time": "2022-05-22T09:15:04.710Z"
      },
      {
        "duration": 38,
        "start_time": "2022-05-22T09:15:04.722Z"
      },
      {
        "duration": 301,
        "start_time": "2022-05-22T09:15:04.762Z"
      },
      {
        "duration": 10,
        "start_time": "2022-05-22T09:15:05.064Z"
      },
      {
        "duration": 213,
        "start_time": "2022-05-22T09:15:05.075Z"
      },
      {
        "duration": 252,
        "start_time": "2022-05-22T09:15:05.290Z"
      },
      {
        "duration": 9,
        "start_time": "2022-05-22T09:15:05.544Z"
      },
      {
        "duration": 522,
        "start_time": "2022-05-22T09:15:05.560Z"
      },
      {
        "duration": 4,
        "start_time": "2022-05-22T09:15:06.083Z"
      },
      {
        "duration": 35,
        "start_time": "2022-05-22T09:15:06.089Z"
      },
      {
        "duration": 36,
        "start_time": "2022-05-22T09:15:06.125Z"
      },
      {
        "duration": 1018,
        "start_time": "2022-05-22T09:15:06.163Z"
      },
      {
        "duration": 6,
        "start_time": "2022-05-22T09:15:07.184Z"
      },
      {
        "duration": 69,
        "start_time": "2022-05-22T09:15:07.192Z"
      },
      {
        "duration": 34,
        "start_time": "2022-05-22T09:15:07.263Z"
      },
      {
        "duration": 62,
        "start_time": "2022-05-22T09:15:07.298Z"
      },
      {
        "duration": 9,
        "start_time": "2022-05-22T09:15:07.363Z"
      },
      {
        "duration": 38,
        "start_time": "2022-05-22T09:15:07.374Z"
      },
      {
        "duration": 86,
        "start_time": "2022-05-22T09:15:07.415Z"
      },
      {
        "duration": 547,
        "start_time": "2022-05-22T09:15:07.503Z"
      },
      {
        "duration": 279,
        "start_time": "2022-05-22T09:15:08.060Z"
      },
      {
        "duration": 287,
        "start_time": "2022-05-22T09:15:08.341Z"
      },
      {
        "duration": 36,
        "start_time": "2022-05-22T09:15:08.630Z"
      },
      {
        "duration": 26,
        "start_time": "2022-05-22T09:15:08.668Z"
      },
      {
        "duration": 34,
        "start_time": "2022-05-22T09:15:08.696Z"
      },
      {
        "duration": 38,
        "start_time": "2022-05-22T09:15:08.732Z"
      },
      {
        "duration": 50,
        "start_time": "2022-05-22T09:15:08.772Z"
      },
      {
        "duration": 30,
        "start_time": "2022-05-22T09:15:08.823Z"
      },
      {
        "duration": 53,
        "start_time": "2022-05-22T09:15:08.854Z"
      },
      {
        "duration": 17,
        "start_time": "2022-05-22T09:23:53.442Z"
      },
      {
        "duration": 4,
        "start_time": "2022-05-22T09:24:49.927Z"
      },
      {
        "duration": 4,
        "start_time": "2022-05-22T09:26:27.904Z"
      },
      {
        "duration": 3,
        "start_time": "2022-05-22T09:26:33.546Z"
      },
      {
        "duration": 4,
        "start_time": "2022-05-22T09:27:16.330Z"
      },
      {
        "duration": 3,
        "start_time": "2022-05-22T09:27:21.409Z"
      },
      {
        "duration": 38,
        "start_time": "2022-05-22T09:27:27.931Z"
      },
      {
        "duration": 4,
        "start_time": "2022-05-22T09:27:36.688Z"
      },
      {
        "duration": 5,
        "start_time": "2022-05-22T09:27:42.075Z"
      },
      {
        "duration": 16,
        "start_time": "2022-05-22T09:27:49.179Z"
      },
      {
        "duration": 3,
        "start_time": "2022-05-22T09:28:03.856Z"
      },
      {
        "duration": 88,
        "start_time": "2022-05-22T09:28:03.861Z"
      },
      {
        "duration": 22,
        "start_time": "2022-05-22T09:28:03.951Z"
      },
      {
        "duration": 12,
        "start_time": "2022-05-22T09:28:03.975Z"
      },
      {
        "duration": 43,
        "start_time": "2022-05-22T09:28:03.989Z"
      },
      {
        "duration": 15,
        "start_time": "2022-05-22T09:28:04.033Z"
      },
      {
        "duration": 34,
        "start_time": "2022-05-22T09:28:04.049Z"
      },
      {
        "duration": 5,
        "start_time": "2022-05-22T09:28:04.085Z"
      },
      {
        "duration": 20,
        "start_time": "2022-05-22T09:28:04.091Z"
      },
      {
        "duration": 4,
        "start_time": "2022-05-22T09:28:04.113Z"
      },
      {
        "duration": 12,
        "start_time": "2022-05-22T09:28:04.119Z"
      },
      {
        "duration": 11,
        "start_time": "2022-05-22T09:28:04.132Z"
      },
      {
        "duration": 35,
        "start_time": "2022-05-22T09:28:04.144Z"
      },
      {
        "duration": 10,
        "start_time": "2022-05-22T09:28:04.180Z"
      },
      {
        "duration": 10,
        "start_time": "2022-05-22T09:28:04.192Z"
      },
      {
        "duration": 29,
        "start_time": "2022-05-22T09:28:04.204Z"
      },
      {
        "duration": 11,
        "start_time": "2022-05-22T09:28:04.235Z"
      },
      {
        "duration": 31,
        "start_time": "2022-05-22T09:28:04.248Z"
      },
      {
        "duration": 21,
        "start_time": "2022-05-22T09:28:04.281Z"
      },
      {
        "duration": 19,
        "start_time": "2022-05-22T09:28:04.303Z"
      },
      {
        "duration": 6,
        "start_time": "2022-05-22T09:28:04.323Z"
      },
      {
        "duration": 15,
        "start_time": "2022-05-22T09:28:04.330Z"
      },
      {
        "duration": 6,
        "start_time": "2022-05-22T09:28:04.346Z"
      },
      {
        "duration": 157,
        "start_time": "2022-05-22T09:28:04.356Z"
      },
      {
        "duration": 28,
        "start_time": "2022-05-22T09:28:04.514Z"
      },
      {
        "duration": 23,
        "start_time": "2022-05-22T09:28:04.544Z"
      },
      {
        "duration": 31,
        "start_time": "2022-05-22T09:28:04.571Z"
      },
      {
        "duration": 7,
        "start_time": "2022-05-22T09:28:04.604Z"
      },
      {
        "duration": 17,
        "start_time": "2022-05-22T09:28:04.612Z"
      },
      {
        "duration": 9,
        "start_time": "2022-05-22T09:28:04.631Z"
      },
      {
        "duration": 66,
        "start_time": "2022-05-22T09:28:04.642Z"
      },
      {
        "duration": 303,
        "start_time": "2022-05-22T09:28:04.709Z"
      },
      {
        "duration": 10,
        "start_time": "2022-05-22T09:28:05.014Z"
      },
      {
        "duration": 242,
        "start_time": "2022-05-22T09:28:05.026Z"
      },
      {
        "duration": 239,
        "start_time": "2022-05-22T09:28:05.274Z"
      },
      {
        "duration": 9,
        "start_time": "2022-05-22T09:28:05.514Z"
      },
      {
        "duration": 483,
        "start_time": "2022-05-22T09:28:05.524Z"
      },
      {
        "duration": 4,
        "start_time": "2022-05-22T09:28:06.009Z"
      },
      {
        "duration": 9,
        "start_time": "2022-05-22T09:28:06.014Z"
      },
      {
        "duration": 7,
        "start_time": "2022-05-22T09:28:06.024Z"
      },
      {
        "duration": 487,
        "start_time": "2022-05-22T09:28:06.032Z"
      },
      {
        "duration": 5,
        "start_time": "2022-05-22T09:28:06.520Z"
      },
      {
        "duration": 14,
        "start_time": "2022-05-22T09:28:06.526Z"
      },
      {
        "duration": 26,
        "start_time": "2022-05-22T09:28:06.541Z"
      },
      {
        "duration": 8,
        "start_time": "2022-05-22T09:28:06.571Z"
      },
      {
        "duration": 10,
        "start_time": "2022-05-22T09:28:06.581Z"
      },
      {
        "duration": 7,
        "start_time": "2022-05-22T09:28:06.593Z"
      },
      {
        "duration": 36,
        "start_time": "2022-05-22T09:28:06.601Z"
      },
      {
        "duration": 300,
        "start_time": "2022-05-22T09:28:06.638Z"
      },
      {
        "duration": 290,
        "start_time": "2022-05-22T09:28:06.940Z"
      },
      {
        "duration": 736,
        "start_time": "2022-05-22T09:28:07.231Z"
      },
      {
        "duration": 38,
        "start_time": "2022-05-22T09:28:07.969Z"
      },
      {
        "duration": 9,
        "start_time": "2022-05-22T09:28:08.072Z"
      },
      {
        "duration": 0,
        "start_time": "2022-05-22T09:28:08.087Z"
      },
      {
        "duration": 0,
        "start_time": "2022-05-22T09:28:08.090Z"
      },
      {
        "duration": 0,
        "start_time": "2022-05-22T09:28:08.091Z"
      },
      {
        "duration": 0,
        "start_time": "2022-05-22T09:28:08.092Z"
      },
      {
        "duration": 0,
        "start_time": "2022-05-22T09:28:08.092Z"
      },
      {
        "duration": 3,
        "start_time": "2022-05-22T09:28:29.601Z"
      },
      {
        "duration": 32,
        "start_time": "2022-05-22T09:28:36.012Z"
      },
      {
        "duration": 22,
        "start_time": "2022-05-22T09:34:09.028Z"
      },
      {
        "duration": 12,
        "start_time": "2022-05-22T09:35:17.848Z"
      },
      {
        "duration": 10,
        "start_time": "2022-05-22T09:35:31.252Z"
      },
      {
        "duration": 4,
        "start_time": "2022-05-22T09:35:57.352Z"
      },
      {
        "duration": 18,
        "start_time": "2022-05-22T09:36:02.125Z"
      },
      {
        "duration": 4,
        "start_time": "2022-05-22T09:36:24.802Z"
      },
      {
        "duration": 16,
        "start_time": "2022-05-22T09:36:26.680Z"
      },
      {
        "duration": 16,
        "start_time": "2022-05-22T09:36:28.548Z"
      },
      {
        "duration": 4,
        "start_time": "2022-05-22T09:36:30.956Z"
      },
      {
        "duration": 5,
        "start_time": "2022-05-22T09:36:31.648Z"
      },
      {
        "duration": 16,
        "start_time": "2022-05-22T09:36:33.155Z"
      },
      {
        "duration": 2,
        "start_time": "2022-05-22T09:36:37.182Z"
      },
      {
        "duration": 71,
        "start_time": "2022-05-22T09:36:37.186Z"
      },
      {
        "duration": 11,
        "start_time": "2022-05-22T09:36:37.259Z"
      },
      {
        "duration": 14,
        "start_time": "2022-05-22T09:36:37.271Z"
      },
      {
        "duration": 27,
        "start_time": "2022-05-22T09:36:37.286Z"
      },
      {
        "duration": 27,
        "start_time": "2022-05-22T09:36:37.314Z"
      },
      {
        "duration": 14,
        "start_time": "2022-05-22T09:36:37.343Z"
      },
      {
        "duration": 15,
        "start_time": "2022-05-22T09:36:37.358Z"
      },
      {
        "duration": 24,
        "start_time": "2022-05-22T09:36:37.374Z"
      },
      {
        "duration": 15,
        "start_time": "2022-05-22T09:36:37.399Z"
      },
      {
        "duration": 14,
        "start_time": "2022-05-22T09:36:37.416Z"
      },
      {
        "duration": 13,
        "start_time": "2022-05-22T09:36:37.431Z"
      },
      {
        "duration": 19,
        "start_time": "2022-05-22T09:36:37.445Z"
      },
      {
        "duration": 16,
        "start_time": "2022-05-22T09:36:37.466Z"
      },
      {
        "duration": 20,
        "start_time": "2022-05-22T09:36:37.483Z"
      },
      {
        "duration": 34,
        "start_time": "2022-05-22T09:36:37.505Z"
      },
      {
        "duration": 14,
        "start_time": "2022-05-22T09:36:37.541Z"
      },
      {
        "duration": 31,
        "start_time": "2022-05-22T09:36:37.557Z"
      },
      {
        "duration": 28,
        "start_time": "2022-05-22T09:36:37.589Z"
      },
      {
        "duration": 17,
        "start_time": "2022-05-22T09:36:37.618Z"
      },
      {
        "duration": 25,
        "start_time": "2022-05-22T09:36:37.636Z"
      },
      {
        "duration": 18,
        "start_time": "2022-05-22T09:36:37.663Z"
      },
      {
        "duration": 39,
        "start_time": "2022-05-22T09:36:37.682Z"
      },
      {
        "duration": 232,
        "start_time": "2022-05-22T09:36:37.723Z"
      },
      {
        "duration": 37,
        "start_time": "2022-05-22T09:36:37.958Z"
      },
      {
        "duration": 16,
        "start_time": "2022-05-22T09:36:37.996Z"
      },
      {
        "duration": 22,
        "start_time": "2022-05-22T09:36:38.014Z"
      },
      {
        "duration": 27,
        "start_time": "2022-05-22T09:36:38.037Z"
      },
      {
        "duration": 16,
        "start_time": "2022-05-22T09:36:38.069Z"
      },
      {
        "duration": 12,
        "start_time": "2022-05-22T09:36:38.086Z"
      },
      {
        "duration": 39,
        "start_time": "2022-05-22T09:36:38.100Z"
      },
      {
        "duration": 286,
        "start_time": "2022-05-22T09:36:38.140Z"
      },
      {
        "duration": 9,
        "start_time": "2022-05-22T09:36:38.428Z"
      },
      {
        "duration": 201,
        "start_time": "2022-05-22T09:36:38.439Z"
      },
      {
        "duration": 234,
        "start_time": "2022-05-22T09:36:38.642Z"
      },
      {
        "duration": 8,
        "start_time": "2022-05-22T09:36:38.877Z"
      },
      {
        "duration": 448,
        "start_time": "2022-05-22T09:36:38.887Z"
      },
      {
        "duration": 4,
        "start_time": "2022-05-22T09:36:39.336Z"
      },
      {
        "duration": 24,
        "start_time": "2022-05-22T09:36:39.342Z"
      },
      {
        "duration": 29,
        "start_time": "2022-05-22T09:36:39.368Z"
      },
      {
        "duration": 790,
        "start_time": "2022-05-22T09:36:39.398Z"
      },
      {
        "duration": 4,
        "start_time": "2022-05-22T09:36:40.190Z"
      },
      {
        "duration": 66,
        "start_time": "2022-05-22T09:36:40.196Z"
      },
      {
        "duration": 4,
        "start_time": "2022-05-22T09:36:40.264Z"
      },
      {
        "duration": 14,
        "start_time": "2022-05-22T09:36:40.270Z"
      },
      {
        "duration": 28,
        "start_time": "2022-05-22T09:36:40.285Z"
      },
      {
        "duration": 45,
        "start_time": "2022-05-22T09:36:40.315Z"
      },
      {
        "duration": 98,
        "start_time": "2022-05-22T09:36:40.362Z"
      },
      {
        "duration": 527,
        "start_time": "2022-05-22T09:36:40.463Z"
      },
      {
        "duration": 324,
        "start_time": "2022-05-22T09:36:40.992Z"
      },
      {
        "duration": 273,
        "start_time": "2022-05-22T09:36:41.317Z"
      },
      {
        "duration": 24,
        "start_time": "2022-05-22T09:36:41.592Z"
      },
      {
        "duration": 23,
        "start_time": "2022-05-22T09:36:41.618Z"
      },
      {
        "duration": 11,
        "start_time": "2022-05-22T09:36:41.659Z"
      },
      {
        "duration": 21,
        "start_time": "2022-05-22T09:36:41.671Z"
      },
      {
        "duration": 21,
        "start_time": "2022-05-22T09:36:41.693Z"
      },
      {
        "duration": 10,
        "start_time": "2022-05-22T09:36:41.715Z"
      },
      {
        "duration": 6,
        "start_time": "2022-05-22T09:36:41.726Z"
      },
      {
        "duration": 11,
        "start_time": "2022-05-22T09:36:41.734Z"
      },
      {
        "duration": 14,
        "start_time": "2022-05-22T09:36:41.746Z"
      },
      {
        "duration": 4,
        "start_time": "2022-05-22T09:36:57.986Z"
      },
      {
        "duration": 15,
        "start_time": "2022-05-22T09:37:06.760Z"
      },
      {
        "duration": 4,
        "start_time": "2022-05-22T09:37:48.476Z"
      },
      {
        "duration": 7,
        "start_time": "2022-05-22T09:42:49.524Z"
      },
      {
        "duration": 8,
        "start_time": "2022-05-22T09:43:01.864Z"
      },
      {
        "duration": 14,
        "start_time": "2022-05-22T09:45:25.653Z"
      },
      {
        "duration": 8,
        "start_time": "2022-05-22T09:45:27.281Z"
      },
      {
        "duration": 4,
        "start_time": "2022-05-22T09:45:42.220Z"
      },
      {
        "duration": 5,
        "start_time": "2022-05-22T09:46:43.690Z"
      },
      {
        "duration": 5,
        "start_time": "2022-05-22T09:48:09.379Z"
      },
      {
        "duration": 4,
        "start_time": "2022-05-22T09:48:20.948Z"
      },
      {
        "duration": 6,
        "start_time": "2022-05-22T09:48:37.922Z"
      },
      {
        "duration": 4,
        "start_time": "2022-05-22T09:48:49.099Z"
      },
      {
        "duration": 1323,
        "start_time": "2022-05-22T15:08:02.951Z"
      },
      {
        "duration": 88,
        "start_time": "2022-05-22T15:08:04.276Z"
      },
      {
        "duration": 12,
        "start_time": "2022-05-22T15:08:04.365Z"
      },
      {
        "duration": 3,
        "start_time": "2022-05-22T15:08:04.378Z"
      },
      {
        "duration": 26,
        "start_time": "2022-05-22T15:08:04.383Z"
      },
      {
        "duration": 16,
        "start_time": "2022-05-22T15:08:04.411Z"
      },
      {
        "duration": 7,
        "start_time": "2022-05-22T15:08:04.428Z"
      },
      {
        "duration": 4,
        "start_time": "2022-05-22T15:08:04.437Z"
      },
      {
        "duration": 26,
        "start_time": "2022-05-22T15:08:04.442Z"
      },
      {
        "duration": 8,
        "start_time": "2022-05-22T15:08:04.470Z"
      },
      {
        "duration": 3,
        "start_time": "2022-05-22T15:08:04.495Z"
      },
      {
        "duration": 18,
        "start_time": "2022-05-22T15:08:04.500Z"
      },
      {
        "duration": 7,
        "start_time": "2022-05-22T15:08:04.519Z"
      },
      {
        "duration": 9,
        "start_time": "2022-05-22T15:08:04.529Z"
      },
      {
        "duration": 4,
        "start_time": "2022-05-22T15:08:04.539Z"
      },
      {
        "duration": 5,
        "start_time": "2022-05-22T15:08:04.544Z"
      },
      {
        "duration": 5,
        "start_time": "2022-05-22T15:08:04.551Z"
      },
      {
        "duration": 10,
        "start_time": "2022-05-22T15:08:04.558Z"
      },
      {
        "duration": 13,
        "start_time": "2022-05-22T15:08:04.594Z"
      },
      {
        "duration": 6,
        "start_time": "2022-05-22T15:08:04.610Z"
      },
      {
        "duration": 5,
        "start_time": "2022-05-22T15:08:04.618Z"
      },
      {
        "duration": 13,
        "start_time": "2022-05-22T15:08:04.624Z"
      },
      {
        "duration": 4,
        "start_time": "2022-05-22T15:08:04.638Z"
      },
      {
        "duration": 212,
        "start_time": "2022-05-22T15:08:04.643Z"
      },
      {
        "duration": 26,
        "start_time": "2022-05-22T15:08:04.856Z"
      },
      {
        "duration": 76,
        "start_time": "2022-05-22T15:08:04.895Z"
      },
      {
        "duration": 39,
        "start_time": "2022-05-22T15:08:04.973Z"
      },
      {
        "duration": 7,
        "start_time": "2022-05-22T15:08:05.014Z"
      },
      {
        "duration": 11,
        "start_time": "2022-05-22T15:08:05.023Z"
      },
      {
        "duration": 9,
        "start_time": "2022-05-22T15:08:05.036Z"
      },
      {
        "duration": 22,
        "start_time": "2022-05-22T15:08:05.046Z"
      },
      {
        "duration": 328,
        "start_time": "2022-05-22T15:08:05.069Z"
      },
      {
        "duration": 10,
        "start_time": "2022-05-22T15:08:05.398Z"
      },
      {
        "duration": 208,
        "start_time": "2022-05-22T15:08:05.409Z"
      },
      {
        "duration": 234,
        "start_time": "2022-05-22T15:08:05.619Z"
      },
      {
        "duration": 8,
        "start_time": "2022-05-22T15:08:05.855Z"
      },
      {
        "duration": 451,
        "start_time": "2022-05-22T15:08:05.864Z"
      },
      {
        "duration": 4,
        "start_time": "2022-05-22T15:08:06.317Z"
      },
      {
        "duration": 8,
        "start_time": "2022-05-22T15:08:06.323Z"
      },
      {
        "duration": 5,
        "start_time": "2022-05-22T15:08:06.332Z"
      },
      {
        "duration": 469,
        "start_time": "2022-05-22T15:08:06.340Z"
      },
      {
        "duration": 4,
        "start_time": "2022-05-22T15:08:06.811Z"
      },
      {
        "duration": 8,
        "start_time": "2022-05-22T15:08:06.817Z"
      },
      {
        "duration": 6,
        "start_time": "2022-05-22T15:08:06.826Z"
      },
      {
        "duration": 6,
        "start_time": "2022-05-22T15:08:06.833Z"
      },
      {
        "duration": 10,
        "start_time": "2022-05-22T15:08:06.840Z"
      },
      {
        "duration": 5,
        "start_time": "2022-05-22T15:08:06.851Z"
      },
      {
        "duration": 47,
        "start_time": "2022-05-22T15:08:06.857Z"
      },
      {
        "duration": 273,
        "start_time": "2022-05-22T15:08:06.905Z"
      },
      {
        "duration": 267,
        "start_time": "2022-05-22T15:08:07.180Z"
      },
      {
        "duration": 278,
        "start_time": "2022-05-22T15:08:07.449Z"
      },
      {
        "duration": 25,
        "start_time": "2022-05-22T15:08:07.728Z"
      },
      {
        "duration": 23,
        "start_time": "2022-05-22T15:08:07.754Z"
      },
      {
        "duration": 4,
        "start_time": "2022-05-22T15:08:07.794Z"
      },
      {
        "duration": 19,
        "start_time": "2022-05-22T15:08:07.799Z"
      },
      {
        "duration": 10,
        "start_time": "2022-05-22T15:08:07.819Z"
      },
      {
        "duration": 7,
        "start_time": "2022-05-22T15:08:07.830Z"
      },
      {
        "duration": 5,
        "start_time": "2022-05-22T15:08:07.838Z"
      },
      {
        "duration": 5,
        "start_time": "2022-05-22T15:08:07.845Z"
      },
      {
        "duration": 6,
        "start_time": "2022-05-22T15:08:07.851Z"
      },
      {
        "duration": 10,
        "start_time": "2022-05-22T15:08:07.858Z"
      },
      {
        "duration": 5,
        "start_time": "2022-05-22T15:08:07.893Z"
      },
      {
        "duration": 8,
        "start_time": "2022-05-22T15:08:07.899Z"
      },
      {
        "duration": 7,
        "start_time": "2022-05-22T15:08:07.908Z"
      },
      {
        "duration": 5,
        "start_time": "2022-05-22T15:08:07.916Z"
      },
      {
        "duration": 3,
        "start_time": "2022-05-22T15:21:59.261Z"
      },
      {
        "duration": 50,
        "start_time": "2022-05-22T15:22:07.163Z"
      },
      {
        "duration": 14,
        "start_time": "2022-05-22T15:22:11.854Z"
      },
      {
        "duration": 3,
        "start_time": "2022-05-22T15:22:18.467Z"
      },
      {
        "duration": 15,
        "start_time": "2022-05-22T15:22:20.472Z"
      },
      {
        "duration": 14,
        "start_time": "2022-05-22T15:22:22.310Z"
      },
      {
        "duration": 4,
        "start_time": "2022-05-22T15:22:25.049Z"
      },
      {
        "duration": 4,
        "start_time": "2022-05-22T15:26:25.386Z"
      },
      {
        "duration": 22,
        "start_time": "2022-05-22T15:26:26.970Z"
      },
      {
        "duration": 18,
        "start_time": "2022-05-22T15:26:39.500Z"
      },
      {
        "duration": 5,
        "start_time": "2022-05-22T15:26:43.359Z"
      },
      {
        "duration": 20,
        "start_time": "2022-05-22T15:27:04.899Z"
      },
      {
        "duration": 20,
        "start_time": "2022-05-22T15:27:37.652Z"
      },
      {
        "duration": 19,
        "start_time": "2022-05-22T15:27:56.847Z"
      },
      {
        "duration": 8,
        "start_time": "2022-05-22T15:28:59.159Z"
      },
      {
        "duration": 16,
        "start_time": "2022-05-22T15:29:36.017Z"
      },
      {
        "duration": 5,
        "start_time": "2022-05-22T15:46:10.492Z"
      },
      {
        "duration": 5,
        "start_time": "2022-05-22T15:46:14.916Z"
      },
      {
        "duration": 5,
        "start_time": "2022-05-22T15:46:21.443Z"
      },
      {
        "duration": 8,
        "start_time": "2022-05-22T15:46:22.868Z"
      },
      {
        "duration": 106,
        "start_time": "2022-05-22T15:46:44.835Z"
      },
      {
        "duration": 7,
        "start_time": "2022-05-22T15:46:55.700Z"
      },
      {
        "duration": 5,
        "start_time": "2022-05-22T15:47:15.155Z"
      },
      {
        "duration": 5,
        "start_time": "2022-05-22T15:47:20.300Z"
      },
      {
        "duration": 6,
        "start_time": "2022-05-22T16:04:47.041Z"
      },
      {
        "duration": 10,
        "start_time": "2022-05-22T16:04:49.987Z"
      },
      {
        "duration": 10,
        "start_time": "2022-05-22T16:04:51.185Z"
      },
      {
        "duration": 5,
        "start_time": "2022-05-22T16:04:52.585Z"
      },
      {
        "duration": 5,
        "start_time": "2022-05-22T16:06:38.041Z"
      },
      {
        "duration": 14,
        "start_time": "2022-05-22T16:06:39.997Z"
      },
      {
        "duration": 5,
        "start_time": "2022-05-22T16:38:39.555Z"
      },
      {
        "duration": 174,
        "start_time": "2022-05-22T16:40:16.298Z"
      },
      {
        "duration": 27,
        "start_time": "2022-05-22T16:40:20.045Z"
      },
      {
        "duration": 9,
        "start_time": "2022-05-22T16:41:27.993Z"
      },
      {
        "duration": 23,
        "start_time": "2022-05-22T16:41:34.191Z"
      },
      {
        "duration": 11,
        "start_time": "2022-05-22T16:41:54.306Z"
      },
      {
        "duration": 7,
        "start_time": "2022-05-22T16:43:09.093Z"
      },
      {
        "duration": 4,
        "start_time": "2022-05-22T16:44:15.922Z"
      },
      {
        "duration": 25,
        "start_time": "2022-05-22T16:48:28.501Z"
      },
      {
        "duration": 367,
        "start_time": "2022-05-22T16:49:18.207Z"
      },
      {
        "duration": 9,
        "start_time": "2022-05-22T16:50:31.265Z"
      },
      {
        "duration": 209,
        "start_time": "2022-05-22T16:50:38.486Z"
      },
      {
        "duration": 251,
        "start_time": "2022-05-22T16:50:40.494Z"
      },
      {
        "duration": 9,
        "start_time": "2022-05-22T16:52:01.482Z"
      },
      {
        "duration": 440,
        "start_time": "2022-05-22T16:52:06.272Z"
      },
      {
        "duration": 5,
        "start_time": "2022-05-22T16:52:10.129Z"
      },
      {
        "duration": 5,
        "start_time": "2022-05-22T16:52:11.058Z"
      },
      {
        "duration": 5,
        "start_time": "2022-05-22T16:52:12.223Z"
      },
      {
        "duration": 435,
        "start_time": "2022-05-22T16:52:18.185Z"
      },
      {
        "duration": 4,
        "start_time": "2022-05-22T16:52:22.591Z"
      },
      {
        "duration": 5,
        "start_time": "2022-05-22T16:52:27.494Z"
      },
      {
        "duration": 5,
        "start_time": "2022-05-22T16:52:29.386Z"
      },
      {
        "duration": 5,
        "start_time": "2022-05-22T16:52:30.866Z"
      },
      {
        "duration": 7,
        "start_time": "2022-05-22T16:52:48.705Z"
      },
      {
        "duration": 6,
        "start_time": "2022-05-22T16:55:00.017Z"
      },
      {
        "duration": 27,
        "start_time": "2022-05-22T16:55:06.711Z"
      },
      {
        "duration": 274,
        "start_time": "2022-05-22T17:00:30.987Z"
      },
      {
        "duration": 262,
        "start_time": "2022-05-22T17:02:30.865Z"
      },
      {
        "duration": 291,
        "start_time": "2022-05-22T17:03:09.889Z"
      },
      {
        "duration": 28,
        "start_time": "2022-05-22T17:03:25.696Z"
      },
      {
        "duration": 26,
        "start_time": "2022-05-22T17:04:09.083Z"
      },
      {
        "duration": 15,
        "start_time": "2022-05-22T17:12:24.408Z"
      },
      {
        "duration": 17,
        "start_time": "2022-05-22T17:12:51.654Z"
      },
      {
        "duration": 17,
        "start_time": "2022-05-22T17:13:11.161Z"
      },
      {
        "duration": 22,
        "start_time": "2022-05-22T17:13:21.719Z"
      },
      {
        "duration": 16,
        "start_time": "2022-05-22T17:13:31.073Z"
      },
      {
        "duration": 17,
        "start_time": "2022-05-22T17:13:37.233Z"
      },
      {
        "duration": 17,
        "start_time": "2022-05-22T17:13:40.595Z"
      },
      {
        "duration": 14,
        "start_time": "2022-05-22T17:18:26.676Z"
      },
      {
        "duration": 9,
        "start_time": "2022-05-22T17:19:59.945Z"
      },
      {
        "duration": 4,
        "start_time": "2022-05-22T17:20:04.907Z"
      },
      {
        "duration": 7,
        "start_time": "2022-05-22T17:20:39.756Z"
      },
      {
        "duration": 25,
        "start_time": "2022-05-22T17:21:44.401Z"
      },
      {
        "duration": 22,
        "start_time": "2022-05-22T17:21:56.040Z"
      },
      {
        "duration": 12,
        "start_time": "2022-05-22T17:24:23.885Z"
      },
      {
        "duration": 13,
        "start_time": "2022-05-22T17:24:53.570Z"
      },
      {
        "duration": 22,
        "start_time": "2022-05-22T17:25:35.840Z"
      },
      {
        "duration": 7,
        "start_time": "2022-05-22T17:26:19.609Z"
      },
      {
        "duration": 8,
        "start_time": "2022-05-22T17:26:24.693Z"
      },
      {
        "duration": 11,
        "start_time": "2022-05-22T17:26:40.178Z"
      },
      {
        "duration": 11,
        "start_time": "2022-05-22T17:30:47.995Z"
      },
      {
        "duration": 4,
        "start_time": "2022-05-22T17:31:58.702Z"
      },
      {
        "duration": 17,
        "start_time": "2022-05-22T17:32:01.201Z"
      },
      {
        "duration": 10,
        "start_time": "2022-05-22T17:32:08.413Z"
      },
      {
        "duration": 5,
        "start_time": "2022-05-22T17:32:11.821Z"
      },
      {
        "duration": 4,
        "start_time": "2022-05-22T17:32:13.612Z"
      },
      {
        "duration": 4,
        "start_time": "2022-05-22T17:32:17.850Z"
      },
      {
        "duration": 5,
        "start_time": "2022-05-22T17:32:46.781Z"
      },
      {
        "duration": 11,
        "start_time": "2022-05-22T17:34:39.411Z"
      },
      {
        "duration": 4,
        "start_time": "2022-05-22T17:34:40.188Z"
      },
      {
        "duration": 5,
        "start_time": "2022-05-22T17:34:40.981Z"
      },
      {
        "duration": 5,
        "start_time": "2022-05-22T17:34:43.319Z"
      },
      {
        "duration": 4,
        "start_time": "2022-05-22T17:35:06.049Z"
      },
      {
        "duration": 10,
        "start_time": "2022-05-22T17:35:13.263Z"
      },
      {
        "duration": 4,
        "start_time": "2022-05-22T17:35:17.115Z"
      },
      {
        "duration": 4,
        "start_time": "2022-05-22T17:35:28.127Z"
      },
      {
        "duration": 4,
        "start_time": "2022-05-22T17:35:28.798Z"
      },
      {
        "duration": 5,
        "start_time": "2022-05-22T17:35:45.380Z"
      },
      {
        "duration": 4,
        "start_time": "2022-05-22T17:35:51.876Z"
      },
      {
        "duration": 4,
        "start_time": "2022-05-22T17:36:06.234Z"
      },
      {
        "duration": 4,
        "start_time": "2022-05-22T17:36:07.091Z"
      },
      {
        "duration": 1063,
        "start_time": "2022-05-22T17:47:31.568Z"
      },
      {
        "duration": 54,
        "start_time": "2022-05-22T17:47:36.332Z"
      },
      {
        "duration": 14,
        "start_time": "2022-05-22T17:47:44.014Z"
      },
      {
        "duration": 4,
        "start_time": "2022-05-22T17:47:57.742Z"
      },
      {
        "duration": 16,
        "start_time": "2022-05-22T17:47:59.726Z"
      },
      {
        "duration": 13,
        "start_time": "2022-05-22T17:48:01.505Z"
      },
      {
        "duration": 5,
        "start_time": "2022-05-22T17:48:03.292Z"
      },
      {
        "duration": 20,
        "start_time": "2022-05-22T17:48:18.956Z"
      },
      {
        "duration": 6,
        "start_time": "2022-05-22T17:48:22.740Z"
      },
      {
        "duration": 5,
        "start_time": "2022-05-22T17:53:36.704Z"
      },
      {
        "duration": 5,
        "start_time": "2022-05-22T17:53:38.522Z"
      },
      {
        "duration": 10,
        "start_time": "2022-05-22T17:53:40.630Z"
      },
      {
        "duration": 5,
        "start_time": "2022-05-22T17:53:45.129Z"
      },
      {
        "duration": 5,
        "start_time": "2022-05-22T17:53:48.306Z"
      },
      {
        "duration": 5,
        "start_time": "2022-05-22T17:54:38.529Z"
      },
      {
        "duration": 12,
        "start_time": "2022-05-22T17:54:40.710Z"
      },
      {
        "duration": 9,
        "start_time": "2022-05-22T17:54:42.306Z"
      },
      {
        "duration": 5,
        "start_time": "2022-05-22T17:54:45.359Z"
      },
      {
        "duration": 5,
        "start_time": "2022-05-22T17:54:57.423Z"
      },
      {
        "duration": 12,
        "start_time": "2022-05-22T17:54:59.472Z"
      },
      {
        "duration": 5,
        "start_time": "2022-05-22T17:55:10.764Z"
      },
      {
        "duration": 160,
        "start_time": "2022-05-22T17:55:17.738Z"
      },
      {
        "duration": 38,
        "start_time": "2022-05-22T17:55:39.069Z"
      },
      {
        "duration": 73,
        "start_time": "2022-05-22T17:56:57.073Z"
      },
      {
        "duration": 27,
        "start_time": "2022-05-22T17:57:04.222Z"
      },
      {
        "duration": 11,
        "start_time": "2022-05-22T17:57:25.171Z"
      },
      {
        "duration": 7,
        "start_time": "2022-05-22T17:57:39.436Z"
      },
      {
        "duration": 22,
        "start_time": "2022-05-22T18:00:32.689Z"
      },
      {
        "duration": 311,
        "start_time": "2022-05-22T18:00:57.346Z"
      },
      {
        "duration": 9,
        "start_time": "2022-05-22T18:01:04.134Z"
      },
      {
        "duration": 184,
        "start_time": "2022-05-22T18:01:16.630Z"
      },
      {
        "duration": 251,
        "start_time": "2022-05-22T18:01:30.670Z"
      },
      {
        "duration": 9,
        "start_time": "2022-05-22T18:01:42.599Z"
      },
      {
        "duration": 458,
        "start_time": "2022-05-22T18:01:46.000Z"
      },
      {
        "duration": 5,
        "start_time": "2022-05-22T18:01:49.118Z"
      },
      {
        "duration": 6,
        "start_time": "2022-05-22T18:01:50.132Z"
      },
      {
        "duration": 5,
        "start_time": "2022-05-22T18:01:51.990Z"
      },
      {
        "duration": 447,
        "start_time": "2022-05-22T18:01:54.427Z"
      },
      {
        "duration": 5,
        "start_time": "2022-05-22T18:01:57.084Z"
      },
      {
        "duration": 5,
        "start_time": "2022-05-22T18:01:57.785Z"
      },
      {
        "duration": 4,
        "start_time": "2022-05-22T18:01:59.546Z"
      },
      {
        "duration": 7,
        "start_time": "2022-05-22T18:02:00.980Z"
      },
      {
        "duration": 13,
        "start_time": "2022-05-22T18:02:01.772Z"
      },
      {
        "duration": 5,
        "start_time": "2022-05-22T18:02:05.850Z"
      },
      {
        "duration": 29,
        "start_time": "2022-05-22T18:02:08.795Z"
      },
      {
        "duration": 271,
        "start_time": "2022-05-22T18:02:19.435Z"
      },
      {
        "duration": 264,
        "start_time": "2022-05-22T18:02:27.715Z"
      },
      {
        "duration": 24,
        "start_time": "2022-05-22T18:02:57.543Z"
      },
      {
        "duration": 25,
        "start_time": "2022-05-22T18:03:39.149Z"
      },
      {
        "duration": 14,
        "start_time": "2022-05-22T18:03:55.348Z"
      },
      {
        "duration": 113,
        "start_time": "2022-05-22T18:04:53.763Z"
      },
      {
        "duration": 17,
        "start_time": "2022-05-22T18:05:21.468Z"
      },
      {
        "duration": 8,
        "start_time": "2022-05-22T18:05:27.243Z"
      },
      {
        "duration": 7,
        "start_time": "2022-05-22T18:07:48.833Z"
      },
      {
        "duration": 1496,
        "start_time": "2022-05-23T08:03:15.250Z"
      },
      {
        "duration": 209,
        "start_time": "2022-05-23T08:03:16.748Z"
      },
      {
        "duration": 18,
        "start_time": "2022-05-23T08:03:16.959Z"
      },
      {
        "duration": 4,
        "start_time": "2022-05-23T08:03:16.979Z"
      },
      {
        "duration": 24,
        "start_time": "2022-05-23T08:03:16.985Z"
      },
      {
        "duration": 15,
        "start_time": "2022-05-23T08:03:17.010Z"
      },
      {
        "duration": 16,
        "start_time": "2022-05-23T08:03:17.026Z"
      },
      {
        "duration": 5,
        "start_time": "2022-05-23T08:03:17.044Z"
      },
      {
        "duration": 21,
        "start_time": "2022-05-23T08:03:17.051Z"
      },
      {
        "duration": 5,
        "start_time": "2022-05-23T08:03:17.074Z"
      },
      {
        "duration": 4,
        "start_time": "2022-05-23T08:03:17.081Z"
      },
      {
        "duration": 7,
        "start_time": "2022-05-23T08:03:17.087Z"
      },
      {
        "duration": 8,
        "start_time": "2022-05-23T08:03:17.096Z"
      },
      {
        "duration": 10,
        "start_time": "2022-05-23T08:03:17.105Z"
      },
      {
        "duration": 6,
        "start_time": "2022-05-23T08:03:17.117Z"
      },
      {
        "duration": 8,
        "start_time": "2022-05-23T08:03:17.124Z"
      },
      {
        "duration": 20,
        "start_time": "2022-05-23T08:03:17.133Z"
      },
      {
        "duration": 17,
        "start_time": "2022-05-23T08:03:17.154Z"
      },
      {
        "duration": 14,
        "start_time": "2022-05-23T08:03:17.173Z"
      },
      {
        "duration": 3,
        "start_time": "2022-05-23T08:03:17.189Z"
      },
      {
        "duration": 11,
        "start_time": "2022-05-23T08:03:17.194Z"
      },
      {
        "duration": 14,
        "start_time": "2022-05-23T08:03:17.206Z"
      },
      {
        "duration": 5,
        "start_time": "2022-05-23T08:03:17.222Z"
      },
      {
        "duration": 202,
        "start_time": "2022-05-23T08:03:17.229Z"
      },
      {
        "duration": 33,
        "start_time": "2022-05-23T08:03:17.433Z"
      },
      {
        "duration": 83,
        "start_time": "2022-05-23T08:03:17.483Z"
      },
      {
        "duration": 39,
        "start_time": "2022-05-23T08:03:17.567Z"
      },
      {
        "duration": 7,
        "start_time": "2022-05-23T08:03:17.611Z"
      },
      {
        "duration": 14,
        "start_time": "2022-05-23T08:03:17.619Z"
      },
      {
        "duration": 11,
        "start_time": "2022-05-23T08:03:17.635Z"
      },
      {
        "duration": 37,
        "start_time": "2022-05-23T08:03:17.648Z"
      },
      {
        "duration": 391,
        "start_time": "2022-05-23T08:03:17.687Z"
      },
      {
        "duration": 13,
        "start_time": "2022-05-23T08:03:18.080Z"
      },
      {
        "duration": 264,
        "start_time": "2022-05-23T08:03:18.095Z"
      },
      {
        "duration": 261,
        "start_time": "2022-05-23T08:03:18.361Z"
      },
      {
        "duration": 8,
        "start_time": "2022-05-23T08:03:18.624Z"
      },
      {
        "duration": 578,
        "start_time": "2022-05-23T08:03:18.634Z"
      },
      {
        "duration": 5,
        "start_time": "2022-05-23T08:03:19.213Z"
      },
      {
        "duration": 6,
        "start_time": "2022-05-23T08:03:19.219Z"
      },
      {
        "duration": 57,
        "start_time": "2022-05-23T08:03:19.227Z"
      },
      {
        "duration": 1099,
        "start_time": "2022-05-23T08:03:19.285Z"
      },
      {
        "duration": 6,
        "start_time": "2022-05-23T08:03:20.386Z"
      },
      {
        "duration": 9,
        "start_time": "2022-05-23T08:03:20.393Z"
      },
      {
        "duration": 8,
        "start_time": "2022-05-23T08:03:20.404Z"
      },
      {
        "duration": 17,
        "start_time": "2022-05-23T08:03:20.414Z"
      },
      {
        "duration": 59,
        "start_time": "2022-05-23T08:03:20.433Z"
      },
      {
        "duration": 6,
        "start_time": "2022-05-23T08:03:20.494Z"
      },
      {
        "duration": 97,
        "start_time": "2022-05-23T08:03:20.502Z"
      },
      {
        "duration": 519,
        "start_time": "2022-05-23T08:03:20.602Z"
      },
      {
        "duration": 300,
        "start_time": "2022-05-23T08:03:21.122Z"
      },
      {
        "duration": 305,
        "start_time": "2022-05-23T08:03:21.424Z"
      },
      {
        "duration": 25,
        "start_time": "2022-05-23T08:03:21.731Z"
      },
      {
        "duration": 43,
        "start_time": "2022-05-23T08:03:21.757Z"
      },
      {
        "duration": 3,
        "start_time": "2022-05-23T08:03:21.802Z"
      },
      {
        "duration": 22,
        "start_time": "2022-05-23T08:03:21.806Z"
      },
      {
        "duration": 11,
        "start_time": "2022-05-23T08:03:21.829Z"
      },
      {
        "duration": 9,
        "start_time": "2022-05-23T08:03:21.842Z"
      },
      {
        "duration": 7,
        "start_time": "2022-05-23T08:03:21.852Z"
      },
      {
        "duration": 39,
        "start_time": "2022-05-23T08:03:21.861Z"
      },
      {
        "duration": 24,
        "start_time": "2022-05-23T08:03:21.901Z"
      },
      {
        "duration": 14,
        "start_time": "2022-05-23T08:03:21.927Z"
      },
      {
        "duration": 17,
        "start_time": "2022-05-23T08:03:21.943Z"
      },
      {
        "duration": 8,
        "start_time": "2022-05-23T08:03:21.962Z"
      },
      {
        "duration": 6,
        "start_time": "2022-05-23T08:03:21.971Z"
      },
      {
        "duration": 6,
        "start_time": "2022-05-23T08:03:21.978Z"
      },
      {
        "duration": 119,
        "start_time": "2022-05-23T08:06:44.950Z"
      },
      {
        "duration": 7,
        "start_time": "2022-05-23T08:07:02.088Z"
      },
      {
        "duration": 12,
        "start_time": "2022-05-23T08:07:08.509Z"
      },
      {
        "duration": 17,
        "start_time": "2022-05-23T08:07:12.415Z"
      },
      {
        "duration": 7,
        "start_time": "2022-05-23T08:07:20.325Z"
      },
      {
        "duration": 5,
        "start_time": "2022-05-23T08:09:02.768Z"
      },
      {
        "duration": 4,
        "start_time": "2022-05-23T08:10:08.022Z"
      },
      {
        "duration": 86,
        "start_time": "2022-05-23T08:10:08.031Z"
      },
      {
        "duration": 20,
        "start_time": "2022-05-23T08:10:08.119Z"
      },
      {
        "duration": 20,
        "start_time": "2022-05-23T08:10:08.141Z"
      },
      {
        "duration": 20,
        "start_time": "2022-05-23T08:10:08.182Z"
      },
      {
        "duration": 16,
        "start_time": "2022-05-23T08:10:08.204Z"
      },
      {
        "duration": 6,
        "start_time": "2022-05-23T08:10:08.222Z"
      },
      {
        "duration": 4,
        "start_time": "2022-05-23T08:10:08.230Z"
      },
      {
        "duration": 4,
        "start_time": "2022-05-23T08:10:08.236Z"
      },
      {
        "duration": 8,
        "start_time": "2022-05-23T08:10:08.242Z"
      },
      {
        "duration": 5,
        "start_time": "2022-05-23T08:10:08.286Z"
      },
      {
        "duration": 6,
        "start_time": "2022-05-23T08:10:08.293Z"
      },
      {
        "duration": 6,
        "start_time": "2022-05-23T08:10:08.302Z"
      },
      {
        "duration": 17,
        "start_time": "2022-05-23T08:10:08.310Z"
      },
      {
        "duration": 5,
        "start_time": "2022-05-23T08:10:08.329Z"
      },
      {
        "duration": 7,
        "start_time": "2022-05-23T08:10:08.336Z"
      },
      {
        "duration": 41,
        "start_time": "2022-05-23T08:10:08.344Z"
      },
      {
        "duration": 11,
        "start_time": "2022-05-23T08:10:08.386Z"
      },
      {
        "duration": 8,
        "start_time": "2022-05-23T08:10:08.399Z"
      },
      {
        "duration": 5,
        "start_time": "2022-05-23T08:10:08.409Z"
      },
      {
        "duration": 6,
        "start_time": "2022-05-23T08:10:08.415Z"
      },
      {
        "duration": 17,
        "start_time": "2022-05-23T08:10:08.423Z"
      },
      {
        "duration": 5,
        "start_time": "2022-05-23T08:10:08.441Z"
      },
      {
        "duration": 220,
        "start_time": "2022-05-23T08:10:08.484Z"
      },
      {
        "duration": 49,
        "start_time": "2022-05-23T08:10:08.705Z"
      },
      {
        "duration": 27,
        "start_time": "2022-05-23T08:10:08.756Z"
      },
      {
        "duration": 34,
        "start_time": "2022-05-23T08:10:08.785Z"
      },
      {
        "duration": 10,
        "start_time": "2022-05-23T08:10:08.821Z"
      },
      {
        "duration": 124,
        "start_time": "2022-05-23T08:10:08.836Z"
      },
      {
        "duration": 48,
        "start_time": "2022-05-23T08:10:08.962Z"
      },
      {
        "duration": 49,
        "start_time": "2022-05-23T08:10:09.013Z"
      },
      {
        "duration": 362,
        "start_time": "2022-05-23T08:10:09.064Z"
      },
      {
        "duration": 12,
        "start_time": "2022-05-23T08:10:09.428Z"
      },
      {
        "duration": 242,
        "start_time": "2022-05-23T08:10:09.442Z"
      },
      {
        "duration": 293,
        "start_time": "2022-05-23T08:10:09.687Z"
      },
      {
        "duration": 9,
        "start_time": "2022-05-23T08:10:09.981Z"
      },
      {
        "duration": 516,
        "start_time": "2022-05-23T08:10:09.991Z"
      },
      {
        "duration": 6,
        "start_time": "2022-05-23T08:10:10.508Z"
      },
      {
        "duration": 22,
        "start_time": "2022-05-23T08:10:10.516Z"
      },
      {
        "duration": 18,
        "start_time": "2022-05-23T08:10:10.541Z"
      },
      {
        "duration": 939,
        "start_time": "2022-05-23T08:10:10.561Z"
      },
      {
        "duration": 6,
        "start_time": "2022-05-23T08:10:11.501Z"
      },
      {
        "duration": 7,
        "start_time": "2022-05-23T08:10:11.508Z"
      },
      {
        "duration": 6,
        "start_time": "2022-05-23T08:10:11.517Z"
      },
      {
        "duration": 59,
        "start_time": "2022-05-23T08:10:11.525Z"
      },
      {
        "duration": 9,
        "start_time": "2022-05-23T08:10:11.586Z"
      },
      {
        "duration": 9,
        "start_time": "2022-05-23T08:10:11.596Z"
      },
      {
        "duration": 83,
        "start_time": "2022-05-23T08:10:11.607Z"
      },
      {
        "duration": 733,
        "start_time": "2022-05-23T08:10:11.692Z"
      },
      {
        "duration": 546,
        "start_time": "2022-05-23T08:10:12.427Z"
      },
      {
        "duration": 302,
        "start_time": "2022-05-23T08:10:12.975Z"
      },
      {
        "duration": 29,
        "start_time": "2022-05-23T08:10:13.279Z"
      },
      {
        "duration": 26,
        "start_time": "2022-05-23T08:10:13.310Z"
      },
      {
        "duration": 3,
        "start_time": "2022-05-23T08:10:13.338Z"
      },
      {
        "duration": 53,
        "start_time": "2022-05-23T08:10:13.343Z"
      },
      {
        "duration": 10,
        "start_time": "2022-05-23T08:10:13.398Z"
      },
      {
        "duration": 7,
        "start_time": "2022-05-23T08:10:13.410Z"
      },
      {
        "duration": 6,
        "start_time": "2022-05-23T08:10:13.418Z"
      },
      {
        "duration": 6,
        "start_time": "2022-05-23T08:10:13.426Z"
      },
      {
        "duration": 7,
        "start_time": "2022-05-23T08:10:13.435Z"
      },
      {
        "duration": 51,
        "start_time": "2022-05-23T08:10:13.443Z"
      },
      {
        "duration": 6,
        "start_time": "2022-05-23T08:10:13.496Z"
      },
      {
        "duration": 7,
        "start_time": "2022-05-23T08:10:13.504Z"
      },
      {
        "duration": 13,
        "start_time": "2022-05-23T08:10:13.513Z"
      },
      {
        "duration": 8,
        "start_time": "2022-05-23T08:10:13.528Z"
      },
      {
        "duration": 27,
        "start_time": "2022-05-23T08:10:33.230Z"
      },
      {
        "duration": 28,
        "start_time": "2022-05-23T08:10:37.334Z"
      },
      {
        "duration": 7,
        "start_time": "2022-05-23T08:10:40.013Z"
      },
      {
        "duration": 5,
        "start_time": "2022-05-23T08:10:45.199Z"
      },
      {
        "duration": 77,
        "start_time": "2022-05-23T08:10:45.206Z"
      },
      {
        "duration": 13,
        "start_time": "2022-05-23T08:10:45.286Z"
      },
      {
        "duration": 16,
        "start_time": "2022-05-23T08:10:45.300Z"
      },
      {
        "duration": 44,
        "start_time": "2022-05-23T08:10:45.318Z"
      },
      {
        "duration": 47,
        "start_time": "2022-05-23T08:10:45.364Z"
      },
      {
        "duration": 6,
        "start_time": "2022-05-23T08:10:45.413Z"
      },
      {
        "duration": 4,
        "start_time": "2022-05-23T08:10:45.421Z"
      },
      {
        "duration": 6,
        "start_time": "2022-05-23T08:10:45.427Z"
      },
      {
        "duration": 14,
        "start_time": "2022-05-23T08:10:45.435Z"
      },
      {
        "duration": 5,
        "start_time": "2022-05-23T08:10:45.452Z"
      },
      {
        "duration": 8,
        "start_time": "2022-05-23T08:10:45.458Z"
      },
      {
        "duration": 7,
        "start_time": "2022-05-23T08:10:45.483Z"
      },
      {
        "duration": 8,
        "start_time": "2022-05-23T08:10:45.492Z"
      },
      {
        "duration": 5,
        "start_time": "2022-05-23T08:10:45.502Z"
      },
      {
        "duration": 6,
        "start_time": "2022-05-23T08:10:45.509Z"
      },
      {
        "duration": 13,
        "start_time": "2022-05-23T08:10:45.517Z"
      },
      {
        "duration": 11,
        "start_time": "2022-05-23T08:10:45.531Z"
      },
      {
        "duration": 41,
        "start_time": "2022-05-23T08:10:45.543Z"
      },
      {
        "duration": 5,
        "start_time": "2022-05-23T08:10:45.586Z"
      },
      {
        "duration": 6,
        "start_time": "2022-05-23T08:10:45.592Z"
      },
      {
        "duration": 14,
        "start_time": "2022-05-23T08:10:45.600Z"
      },
      {
        "duration": 4,
        "start_time": "2022-05-23T08:10:45.615Z"
      },
      {
        "duration": 207,
        "start_time": "2022-05-23T08:10:45.621Z"
      },
      {
        "duration": 32,
        "start_time": "2022-05-23T08:10:45.829Z"
      },
      {
        "duration": 21,
        "start_time": "2022-05-23T08:10:45.862Z"
      },
      {
        "duration": 23,
        "start_time": "2022-05-23T08:10:45.885Z"
      },
      {
        "duration": 8,
        "start_time": "2022-05-23T08:10:45.909Z"
      },
      {
        "duration": 157,
        "start_time": "2022-05-23T08:10:45.922Z"
      },
      {
        "duration": 8,
        "start_time": "2022-05-23T08:10:46.084Z"
      },
      {
        "duration": 23,
        "start_time": "2022-05-23T08:10:46.093Z"
      },
      {
        "duration": 326,
        "start_time": "2022-05-23T08:10:46.118Z"
      },
      {
        "duration": 11,
        "start_time": "2022-05-23T08:10:46.446Z"
      },
      {
        "duration": 232,
        "start_time": "2022-05-23T08:10:46.459Z"
      },
      {
        "duration": 277,
        "start_time": "2022-05-23T08:10:46.693Z"
      },
      {
        "duration": 15,
        "start_time": "2022-05-23T08:10:46.973Z"
      },
      {
        "duration": 523,
        "start_time": "2022-05-23T08:10:46.990Z"
      },
      {
        "duration": 6,
        "start_time": "2022-05-23T08:10:47.515Z"
      },
      {
        "duration": 5,
        "start_time": "2022-05-23T08:10:47.523Z"
      },
      {
        "duration": 6,
        "start_time": "2022-05-23T08:10:47.530Z"
      },
      {
        "duration": 620,
        "start_time": "2022-05-23T08:10:47.537Z"
      },
      {
        "duration": 7,
        "start_time": "2022-05-23T08:10:48.159Z"
      },
      {
        "duration": 22,
        "start_time": "2022-05-23T08:10:48.168Z"
      },
      {
        "duration": 9,
        "start_time": "2022-05-23T08:10:48.192Z"
      },
      {
        "duration": 7,
        "start_time": "2022-05-23T08:10:48.203Z"
      },
      {
        "duration": 10,
        "start_time": "2022-05-23T08:10:48.211Z"
      },
      {
        "duration": 7,
        "start_time": "2022-05-23T08:10:48.222Z"
      },
      {
        "duration": 57,
        "start_time": "2022-05-23T08:10:48.230Z"
      },
      {
        "duration": 313,
        "start_time": "2022-05-23T08:10:48.289Z"
      },
      {
        "duration": 316,
        "start_time": "2022-05-23T08:10:48.603Z"
      },
      {
        "duration": 316,
        "start_time": "2022-05-23T08:10:48.921Z"
      },
      {
        "duration": 45,
        "start_time": "2022-05-23T08:10:49.239Z"
      },
      {
        "duration": 27,
        "start_time": "2022-05-23T08:10:49.286Z"
      },
      {
        "duration": 4,
        "start_time": "2022-05-23T08:10:49.315Z"
      },
      {
        "duration": 81,
        "start_time": "2022-05-23T08:10:49.321Z"
      },
      {
        "duration": 18,
        "start_time": "2022-05-23T08:10:49.404Z"
      },
      {
        "duration": 7,
        "start_time": "2022-05-23T08:10:49.423Z"
      },
      {
        "duration": 53,
        "start_time": "2022-05-23T08:10:49.432Z"
      },
      {
        "duration": 6,
        "start_time": "2022-05-23T08:10:49.487Z"
      },
      {
        "duration": 14,
        "start_time": "2022-05-23T08:10:49.495Z"
      },
      {
        "duration": 22,
        "start_time": "2022-05-23T08:10:49.510Z"
      },
      {
        "duration": 5,
        "start_time": "2022-05-23T08:10:49.583Z"
      },
      {
        "duration": 12,
        "start_time": "2022-05-23T08:10:49.590Z"
      },
      {
        "duration": 13,
        "start_time": "2022-05-23T08:10:49.604Z"
      },
      {
        "duration": 8,
        "start_time": "2022-05-23T08:10:49.619Z"
      },
      {
        "duration": 3,
        "start_time": "2022-05-23T08:12:34.516Z"
      },
      {
        "duration": 3,
        "start_time": "2022-05-23T08:12:37.842Z"
      },
      {
        "duration": 2,
        "start_time": "2022-05-23T08:13:13.958Z"
      },
      {
        "duration": 3,
        "start_time": "2022-05-23T08:14:42.795Z"
      },
      {
        "duration": 67,
        "start_time": "2022-05-23T08:14:42.800Z"
      },
      {
        "duration": 13,
        "start_time": "2022-05-23T08:14:42.870Z"
      },
      {
        "duration": 7,
        "start_time": "2022-05-23T08:14:42.884Z"
      },
      {
        "duration": 23,
        "start_time": "2022-05-23T08:14:42.893Z"
      },
      {
        "duration": 13,
        "start_time": "2022-05-23T08:14:42.918Z"
      },
      {
        "duration": 8,
        "start_time": "2022-05-23T08:14:42.933Z"
      },
      {
        "duration": 7,
        "start_time": "2022-05-23T08:14:42.943Z"
      },
      {
        "duration": 12,
        "start_time": "2022-05-23T08:14:42.951Z"
      },
      {
        "duration": 13,
        "start_time": "2022-05-23T08:14:42.964Z"
      },
      {
        "duration": 4,
        "start_time": "2022-05-23T08:14:42.983Z"
      },
      {
        "duration": 25,
        "start_time": "2022-05-23T08:14:42.988Z"
      },
      {
        "duration": 8,
        "start_time": "2022-05-23T08:14:43.015Z"
      },
      {
        "duration": 14,
        "start_time": "2022-05-23T08:14:43.024Z"
      },
      {
        "duration": 12,
        "start_time": "2022-05-23T08:14:43.039Z"
      },
      {
        "duration": 8,
        "start_time": "2022-05-23T08:14:43.052Z"
      },
      {
        "duration": 5,
        "start_time": "2022-05-23T08:14:43.062Z"
      },
      {
        "duration": 3,
        "start_time": "2022-05-23T08:14:43.069Z"
      },
      {
        "duration": 7,
        "start_time": "2022-05-23T08:14:43.073Z"
      },
      {
        "duration": 3,
        "start_time": "2022-05-23T08:14:43.083Z"
      },
      {
        "duration": 5,
        "start_time": "2022-05-23T08:14:43.088Z"
      },
      {
        "duration": 16,
        "start_time": "2022-05-23T08:14:43.095Z"
      },
      {
        "duration": 6,
        "start_time": "2022-05-23T08:14:43.112Z"
      },
      {
        "duration": 206,
        "start_time": "2022-05-23T08:14:43.119Z"
      },
      {
        "duration": 31,
        "start_time": "2022-05-23T08:14:43.327Z"
      },
      {
        "duration": 23,
        "start_time": "2022-05-23T08:14:43.362Z"
      },
      {
        "duration": 31,
        "start_time": "2022-05-23T08:14:43.387Z"
      },
      {
        "duration": 8,
        "start_time": "2022-05-23T08:14:43.420Z"
      },
      {
        "duration": 9,
        "start_time": "2022-05-23T08:14:43.430Z"
      },
      {
        "duration": 12,
        "start_time": "2022-05-23T08:14:43.441Z"
      },
      {
        "duration": 49,
        "start_time": "2022-05-23T08:14:43.454Z"
      },
      {
        "duration": 329,
        "start_time": "2022-05-23T08:14:43.505Z"
      },
      {
        "duration": 10,
        "start_time": "2022-05-23T08:14:43.836Z"
      },
      {
        "duration": 221,
        "start_time": "2022-05-23T08:14:43.848Z"
      },
      {
        "duration": 386,
        "start_time": "2022-05-23T08:14:44.071Z"
      },
      {
        "duration": 10,
        "start_time": "2022-05-23T08:14:44.459Z"
      },
      {
        "duration": 504,
        "start_time": "2022-05-23T08:14:44.471Z"
      },
      {
        "duration": 9,
        "start_time": "2022-05-23T08:14:44.977Z"
      },
      {
        "duration": 9,
        "start_time": "2022-05-23T08:14:44.988Z"
      },
      {
        "duration": 18,
        "start_time": "2022-05-23T08:14:44.998Z"
      },
      {
        "duration": 685,
        "start_time": "2022-05-23T08:14:45.018Z"
      },
      {
        "duration": 6,
        "start_time": "2022-05-23T08:14:45.704Z"
      },
      {
        "duration": 10,
        "start_time": "2022-05-23T08:14:45.712Z"
      },
      {
        "duration": 8,
        "start_time": "2022-05-23T08:14:45.724Z"
      },
      {
        "duration": 5,
        "start_time": "2022-05-23T08:14:45.785Z"
      },
      {
        "duration": 16,
        "start_time": "2022-05-23T08:14:45.791Z"
      },
      {
        "duration": 12,
        "start_time": "2022-05-23T08:14:45.809Z"
      },
      {
        "duration": 78,
        "start_time": "2022-05-23T08:14:45.823Z"
      },
      {
        "duration": 684,
        "start_time": "2022-05-23T08:14:45.903Z"
      },
      {
        "duration": 632,
        "start_time": "2022-05-23T08:14:46.589Z"
      },
      {
        "duration": 356,
        "start_time": "2022-05-23T08:14:47.223Z"
      },
      {
        "duration": 29,
        "start_time": "2022-05-23T08:14:47.581Z"
      },
      {
        "duration": 25,
        "start_time": "2022-05-23T08:14:47.611Z"
      },
      {
        "duration": 4,
        "start_time": "2022-05-23T08:14:47.638Z"
      },
      {
        "duration": 53,
        "start_time": "2022-05-23T08:14:47.644Z"
      },
      {
        "duration": 14,
        "start_time": "2022-05-23T08:14:47.699Z"
      },
      {
        "duration": 8,
        "start_time": "2022-05-23T08:14:47.715Z"
      },
      {
        "duration": 7,
        "start_time": "2022-05-23T08:14:47.725Z"
      },
      {
        "duration": 17,
        "start_time": "2022-05-23T08:14:47.733Z"
      },
      {
        "duration": 15,
        "start_time": "2022-05-23T08:14:47.751Z"
      },
      {
        "duration": 24,
        "start_time": "2022-05-23T08:14:47.768Z"
      },
      {
        "duration": 5,
        "start_time": "2022-05-23T08:14:47.794Z"
      },
      {
        "duration": 6,
        "start_time": "2022-05-23T08:14:47.801Z"
      },
      {
        "duration": 5,
        "start_time": "2022-05-23T08:14:47.809Z"
      },
      {
        "duration": 6,
        "start_time": "2022-05-23T08:14:47.816Z"
      },
      {
        "duration": 6,
        "start_time": "2022-05-23T08:21:35.621Z"
      },
      {
        "duration": 3,
        "start_time": "2022-05-23T08:21:39.607Z"
      },
      {
        "duration": 74,
        "start_time": "2022-05-23T08:21:39.614Z"
      },
      {
        "duration": 20,
        "start_time": "2022-05-23T08:21:39.690Z"
      },
      {
        "duration": 15,
        "start_time": "2022-05-23T08:21:39.713Z"
      },
      {
        "duration": 28,
        "start_time": "2022-05-23T08:21:39.730Z"
      },
      {
        "duration": 25,
        "start_time": "2022-05-23T08:21:39.760Z"
      },
      {
        "duration": 14,
        "start_time": "2022-05-23T08:21:39.786Z"
      },
      {
        "duration": 12,
        "start_time": "2022-05-23T08:21:39.802Z"
      },
      {
        "duration": 16,
        "start_time": "2022-05-23T08:21:39.815Z"
      },
      {
        "duration": 23,
        "start_time": "2022-05-23T08:21:39.833Z"
      },
      {
        "duration": 9,
        "start_time": "2022-05-23T08:21:39.858Z"
      },
      {
        "duration": 22,
        "start_time": "2022-05-23T08:21:39.869Z"
      },
      {
        "duration": 23,
        "start_time": "2022-05-23T08:21:39.892Z"
      },
      {
        "duration": 9,
        "start_time": "2022-05-23T08:21:39.917Z"
      },
      {
        "duration": 12,
        "start_time": "2022-05-23T08:21:39.927Z"
      },
      {
        "duration": 27,
        "start_time": "2022-05-23T08:21:39.941Z"
      },
      {
        "duration": 11,
        "start_time": "2022-05-23T08:21:39.970Z"
      },
      {
        "duration": 27,
        "start_time": "2022-05-23T08:21:39.983Z"
      },
      {
        "duration": 35,
        "start_time": "2022-05-23T08:21:40.012Z"
      },
      {
        "duration": 20,
        "start_time": "2022-05-23T08:21:40.049Z"
      },
      {
        "duration": 22,
        "start_time": "2022-05-23T08:21:40.070Z"
      },
      {
        "duration": 42,
        "start_time": "2022-05-23T08:21:40.094Z"
      },
      {
        "duration": 29,
        "start_time": "2022-05-23T08:21:40.138Z"
      },
      {
        "duration": 185,
        "start_time": "2022-05-23T08:21:40.169Z"
      },
      {
        "duration": 37,
        "start_time": "2022-05-23T08:21:40.355Z"
      },
      {
        "duration": 8,
        "start_time": "2022-05-23T08:21:40.394Z"
      },
      {
        "duration": 35,
        "start_time": "2022-05-23T08:21:40.404Z"
      },
      {
        "duration": 8,
        "start_time": "2022-05-23T08:21:40.440Z"
      },
      {
        "duration": 26,
        "start_time": "2022-05-23T08:21:40.451Z"
      },
      {
        "duration": 25,
        "start_time": "2022-05-23T08:21:40.478Z"
      },
      {
        "duration": 33,
        "start_time": "2022-05-23T08:21:40.505Z"
      },
      {
        "duration": 313,
        "start_time": "2022-05-23T08:21:40.539Z"
      },
      {
        "duration": 10,
        "start_time": "2022-05-23T08:21:40.854Z"
      },
      {
        "duration": 234,
        "start_time": "2022-05-23T08:21:40.865Z"
      },
      {
        "duration": 275,
        "start_time": "2022-05-23T08:21:41.101Z"
      },
      {
        "duration": 15,
        "start_time": "2022-05-23T08:21:41.378Z"
      },
      {
        "duration": 615,
        "start_time": "2022-05-23T08:21:41.395Z"
      },
      {
        "duration": 6,
        "start_time": "2022-05-23T08:21:42.012Z"
      },
      {
        "duration": 14,
        "start_time": "2022-05-23T08:21:42.021Z"
      },
      {
        "duration": 74,
        "start_time": "2022-05-23T08:21:42.038Z"
      },
      {
        "duration": 1104,
        "start_time": "2022-05-23T08:21:42.114Z"
      },
      {
        "duration": 5,
        "start_time": "2022-05-23T08:21:43.220Z"
      },
      {
        "duration": 61,
        "start_time": "2022-05-23T08:21:43.226Z"
      },
      {
        "duration": 41,
        "start_time": "2022-05-23T08:21:43.289Z"
      },
      {
        "duration": 53,
        "start_time": "2022-05-23T08:21:43.332Z"
      },
      {
        "duration": 10,
        "start_time": "2022-05-23T08:21:43.386Z"
      },
      {
        "duration": 7,
        "start_time": "2022-05-23T08:21:43.398Z"
      },
      {
        "duration": 84,
        "start_time": "2022-05-23T08:21:43.406Z"
      },
      {
        "duration": 627,
        "start_time": "2022-05-23T08:21:43.492Z"
      },
      {
        "duration": 834,
        "start_time": "2022-05-23T08:21:44.120Z"
      },
      {
        "duration": 336,
        "start_time": "2022-05-23T08:21:44.955Z"
      },
      {
        "duration": 26,
        "start_time": "2022-05-23T08:21:45.293Z"
      },
      {
        "duration": 27,
        "start_time": "2022-05-23T08:21:45.321Z"
      },
      {
        "duration": 5,
        "start_time": "2022-05-23T08:21:45.350Z"
      },
      {
        "duration": 43,
        "start_time": "2022-05-23T08:21:45.357Z"
      },
      {
        "duration": 13,
        "start_time": "2022-05-23T08:21:45.402Z"
      },
      {
        "duration": 11,
        "start_time": "2022-05-23T08:21:45.416Z"
      },
      {
        "duration": 8,
        "start_time": "2022-05-23T08:21:45.428Z"
      },
      {
        "duration": 6,
        "start_time": "2022-05-23T08:21:45.438Z"
      },
      {
        "duration": 8,
        "start_time": "2022-05-23T08:21:45.446Z"
      },
      {
        "duration": 13,
        "start_time": "2022-05-23T08:21:45.483Z"
      },
      {
        "duration": 7,
        "start_time": "2022-05-23T08:21:45.497Z"
      },
      {
        "duration": 6,
        "start_time": "2022-05-23T08:21:45.506Z"
      },
      {
        "duration": 7,
        "start_time": "2022-05-23T08:21:45.514Z"
      },
      {
        "duration": 6,
        "start_time": "2022-05-23T08:21:45.522Z"
      },
      {
        "duration": 329,
        "start_time": "2022-05-23T08:24:22.276Z"
      },
      {
        "duration": 314,
        "start_time": "2022-05-23T08:25:33.293Z"
      },
      {
        "duration": 534,
        "start_time": "2022-05-23T08:28:11.679Z"
      },
      {
        "duration": 530,
        "start_time": "2022-05-23T08:28:22.147Z"
      },
      {
        "duration": 560,
        "start_time": "2022-05-23T08:28:26.545Z"
      },
      {
        "duration": 541,
        "start_time": "2022-05-23T08:29:31.772Z"
      },
      {
        "duration": 28,
        "start_time": "2022-05-23T08:30:08.914Z"
      },
      {
        "duration": 5,
        "start_time": "2022-05-23T08:40:32.349Z"
      },
      {
        "duration": 4,
        "start_time": "2022-05-23T08:40:54.296Z"
      },
      {
        "duration": 5,
        "start_time": "2022-05-23T08:41:00.778Z"
      },
      {
        "duration": 1235,
        "start_time": "2022-05-23T08:59:14.658Z"
      },
      {
        "duration": 69,
        "start_time": "2022-05-23T08:59:15.895Z"
      },
      {
        "duration": 15,
        "start_time": "2022-05-23T08:59:15.966Z"
      },
      {
        "duration": 17,
        "start_time": "2022-05-23T08:59:15.983Z"
      },
      {
        "duration": 27,
        "start_time": "2022-05-23T08:59:16.002Z"
      },
      {
        "duration": 13,
        "start_time": "2022-05-23T08:59:16.031Z"
      },
      {
        "duration": 33,
        "start_time": "2022-05-23T08:59:16.046Z"
      },
      {
        "duration": 22,
        "start_time": "2022-05-23T08:59:16.081Z"
      },
      {
        "duration": 28,
        "start_time": "2022-05-23T08:59:16.105Z"
      },
      {
        "duration": 13,
        "start_time": "2022-05-23T08:59:16.135Z"
      },
      {
        "duration": 12,
        "start_time": "2022-05-23T08:59:16.150Z"
      },
      {
        "duration": 10,
        "start_time": "2022-05-23T08:59:16.164Z"
      },
      {
        "duration": 15,
        "start_time": "2022-05-23T08:59:16.176Z"
      },
      {
        "duration": 7,
        "start_time": "2022-05-23T08:59:16.193Z"
      },
      {
        "duration": 5,
        "start_time": "2022-05-23T08:59:16.201Z"
      },
      {
        "duration": 9,
        "start_time": "2022-05-23T08:59:16.208Z"
      },
      {
        "duration": 6,
        "start_time": "2022-05-23T08:59:16.218Z"
      },
      {
        "duration": 6,
        "start_time": "2022-05-23T08:59:16.225Z"
      },
      {
        "duration": 5,
        "start_time": "2022-05-23T08:59:16.233Z"
      },
      {
        "duration": 10,
        "start_time": "2022-05-23T08:59:16.239Z"
      },
      {
        "duration": 8,
        "start_time": "2022-05-23T08:59:16.250Z"
      },
      {
        "duration": 25,
        "start_time": "2022-05-23T08:59:16.259Z"
      },
      {
        "duration": 5,
        "start_time": "2022-05-23T08:59:16.286Z"
      },
      {
        "duration": 201,
        "start_time": "2022-05-23T08:59:16.292Z"
      },
      {
        "duration": 30,
        "start_time": "2022-05-23T08:59:16.494Z"
      },
      {
        "duration": 112,
        "start_time": "2022-05-23T08:59:16.526Z"
      },
      {
        "duration": 22,
        "start_time": "2022-05-23T08:59:16.641Z"
      },
      {
        "duration": 29,
        "start_time": "2022-05-23T08:59:16.665Z"
      },
      {
        "duration": 12,
        "start_time": "2022-05-23T08:59:16.696Z"
      },
      {
        "duration": 7,
        "start_time": "2022-05-23T08:59:16.710Z"
      },
      {
        "duration": 27,
        "start_time": "2022-05-23T08:59:16.719Z"
      },
      {
        "duration": 421,
        "start_time": "2022-05-23T08:59:16.749Z"
      },
      {
        "duration": 10,
        "start_time": "2022-05-23T08:59:17.171Z"
      },
      {
        "duration": 239,
        "start_time": "2022-05-23T08:59:17.183Z"
      },
      {
        "duration": 289,
        "start_time": "2022-05-23T08:59:17.423Z"
      },
      {
        "duration": 11,
        "start_time": "2022-05-23T08:59:17.714Z"
      },
      {
        "duration": 610,
        "start_time": "2022-05-23T08:59:17.727Z"
      },
      {
        "duration": 5,
        "start_time": "2022-05-23T08:59:18.339Z"
      },
      {
        "duration": 7,
        "start_time": "2022-05-23T08:59:18.345Z"
      },
      {
        "duration": 8,
        "start_time": "2022-05-23T08:59:18.353Z"
      },
      {
        "duration": 958,
        "start_time": "2022-05-23T08:59:18.365Z"
      },
      {
        "duration": 6,
        "start_time": "2022-05-23T08:59:19.324Z"
      },
      {
        "duration": 5,
        "start_time": "2022-05-23T08:59:19.384Z"
      },
      {
        "duration": 7,
        "start_time": "2022-05-23T08:59:19.391Z"
      },
      {
        "duration": 6,
        "start_time": "2022-05-23T08:59:19.399Z"
      },
      {
        "duration": 8,
        "start_time": "2022-05-23T08:59:19.407Z"
      },
      {
        "duration": 7,
        "start_time": "2022-05-23T08:59:19.416Z"
      },
      {
        "duration": 78,
        "start_time": "2022-05-23T08:59:19.425Z"
      },
      {
        "duration": 695,
        "start_time": "2022-05-23T08:59:19.505Z"
      },
      {
        "duration": 448,
        "start_time": "2022-05-23T08:59:20.202Z"
      },
      {
        "duration": 318,
        "start_time": "2022-05-23T08:59:20.652Z"
      },
      {
        "duration": 28,
        "start_time": "2022-05-23T08:59:20.982Z"
      },
      {
        "duration": 30,
        "start_time": "2022-05-23T08:59:21.012Z"
      },
      {
        "duration": 4,
        "start_time": "2022-05-23T08:59:21.044Z"
      },
      {
        "duration": 39,
        "start_time": "2022-05-23T08:59:21.050Z"
      },
      {
        "duration": 11,
        "start_time": "2022-05-23T08:59:21.091Z"
      },
      {
        "duration": 8,
        "start_time": "2022-05-23T08:59:21.104Z"
      },
      {
        "duration": 8,
        "start_time": "2022-05-23T08:59:21.113Z"
      },
      {
        "duration": 10,
        "start_time": "2022-05-23T08:59:21.123Z"
      },
      {
        "duration": 19,
        "start_time": "2022-05-23T08:59:21.135Z"
      },
      {
        "duration": 21,
        "start_time": "2022-05-23T08:59:21.156Z"
      },
      {
        "duration": 8,
        "start_time": "2022-05-23T08:59:21.178Z"
      },
      {
        "duration": 7,
        "start_time": "2022-05-23T08:59:21.187Z"
      },
      {
        "duration": 6,
        "start_time": "2022-05-23T08:59:21.195Z"
      },
      {
        "duration": 6,
        "start_time": "2022-05-23T08:59:21.202Z"
      },
      {
        "duration": 515,
        "start_time": "2022-05-23T09:00:35.878Z"
      },
      {
        "duration": 648,
        "start_time": "2022-05-23T09:00:59.460Z"
      },
      {
        "duration": 1268,
        "start_time": "2022-05-23T12:45:51.365Z"
      },
      {
        "duration": 83,
        "start_time": "2022-05-23T12:45:52.636Z"
      },
      {
        "duration": 13,
        "start_time": "2022-05-23T12:45:52.720Z"
      },
      {
        "duration": 3,
        "start_time": "2022-05-23T12:45:52.735Z"
      },
      {
        "duration": 17,
        "start_time": "2022-05-23T12:45:52.739Z"
      },
      {
        "duration": 12,
        "start_time": "2022-05-23T12:45:52.758Z"
      },
      {
        "duration": 24,
        "start_time": "2022-05-23T12:45:52.771Z"
      },
      {
        "duration": 2,
        "start_time": "2022-05-23T12:45:52.796Z"
      },
      {
        "duration": 8,
        "start_time": "2022-05-23T12:45:52.800Z"
      },
      {
        "duration": 13,
        "start_time": "2022-05-23T12:45:52.811Z"
      },
      {
        "duration": 5,
        "start_time": "2022-05-23T12:45:52.826Z"
      },
      {
        "duration": 8,
        "start_time": "2022-05-23T12:45:52.833Z"
      },
      {
        "duration": 7,
        "start_time": "2022-05-23T12:45:52.842Z"
      },
      {
        "duration": 9,
        "start_time": "2022-05-23T12:45:52.851Z"
      },
      {
        "duration": 9,
        "start_time": "2022-05-23T12:45:52.861Z"
      },
      {
        "duration": 27,
        "start_time": "2022-05-23T12:45:52.871Z"
      },
      {
        "duration": 10,
        "start_time": "2022-05-23T12:45:52.900Z"
      },
      {
        "duration": 6,
        "start_time": "2022-05-23T12:45:52.912Z"
      },
      {
        "duration": 5,
        "start_time": "2022-05-23T12:45:52.920Z"
      },
      {
        "duration": 5,
        "start_time": "2022-05-23T12:45:52.927Z"
      },
      {
        "duration": 9,
        "start_time": "2022-05-23T12:45:52.934Z"
      },
      {
        "duration": 19,
        "start_time": "2022-05-23T12:45:52.945Z"
      },
      {
        "duration": 5,
        "start_time": "2022-05-23T12:45:52.966Z"
      },
      {
        "duration": 209,
        "start_time": "2022-05-23T12:45:52.972Z"
      },
      {
        "duration": 38,
        "start_time": "2022-05-23T12:45:53.183Z"
      },
      {
        "duration": 88,
        "start_time": "2022-05-23T12:45:53.223Z"
      },
      {
        "duration": 21,
        "start_time": "2022-05-23T12:45:53.313Z"
      },
      {
        "duration": 8,
        "start_time": "2022-05-23T12:45:53.337Z"
      },
      {
        "duration": 20,
        "start_time": "2022-05-23T12:45:53.346Z"
      },
      {
        "duration": 9,
        "start_time": "2022-05-23T12:45:53.368Z"
      },
      {
        "duration": 45,
        "start_time": "2022-05-23T12:45:53.379Z"
      },
      {
        "duration": 363,
        "start_time": "2022-05-23T12:45:53.426Z"
      },
      {
        "duration": 10,
        "start_time": "2022-05-23T12:45:53.791Z"
      },
      {
        "duration": 224,
        "start_time": "2022-05-23T12:45:53.803Z"
      },
      {
        "duration": 260,
        "start_time": "2022-05-23T12:45:54.029Z"
      },
      {
        "duration": 8,
        "start_time": "2022-05-23T12:45:54.291Z"
      },
      {
        "duration": 513,
        "start_time": "2022-05-23T12:45:54.300Z"
      },
      {
        "duration": 5,
        "start_time": "2022-05-23T12:45:54.815Z"
      },
      {
        "duration": 9,
        "start_time": "2022-05-23T12:45:54.822Z"
      },
      {
        "duration": 7,
        "start_time": "2022-05-23T12:45:54.833Z"
      },
      {
        "duration": 507,
        "start_time": "2022-05-23T12:45:54.841Z"
      },
      {
        "duration": 5,
        "start_time": "2022-05-23T12:45:55.350Z"
      },
      {
        "duration": 8,
        "start_time": "2022-05-23T12:45:55.356Z"
      },
      {
        "duration": 8,
        "start_time": "2022-05-23T12:45:55.366Z"
      },
      {
        "duration": 20,
        "start_time": "2022-05-23T12:45:55.375Z"
      },
      {
        "duration": 11,
        "start_time": "2022-05-23T12:45:55.396Z"
      },
      {
        "duration": 8,
        "start_time": "2022-05-23T12:45:55.409Z"
      },
      {
        "duration": 24,
        "start_time": "2022-05-23T12:45:55.418Z"
      },
      {
        "duration": 327,
        "start_time": "2022-05-23T12:45:55.444Z"
      },
      {
        "duration": 329,
        "start_time": "2022-05-23T12:45:55.773Z"
      },
      {
        "duration": 289,
        "start_time": "2022-05-23T12:45:56.103Z"
      },
      {
        "duration": 26,
        "start_time": "2022-05-23T12:45:56.394Z"
      },
      {
        "duration": 29,
        "start_time": "2022-05-23T12:45:56.422Z"
      },
      {
        "duration": 4,
        "start_time": "2022-05-23T12:45:56.453Z"
      },
      {
        "duration": 44,
        "start_time": "2022-05-23T12:45:56.459Z"
      },
      {
        "duration": 10,
        "start_time": "2022-05-23T12:45:56.505Z"
      },
      {
        "duration": 7,
        "start_time": "2022-05-23T12:45:56.516Z"
      },
      {
        "duration": 5,
        "start_time": "2022-05-23T12:45:56.525Z"
      },
      {
        "duration": 6,
        "start_time": "2022-05-23T12:45:56.532Z"
      },
      {
        "duration": 10,
        "start_time": "2022-05-23T12:45:56.540Z"
      },
      {
        "duration": 13,
        "start_time": "2022-05-23T12:45:56.551Z"
      },
      {
        "duration": 35,
        "start_time": "2022-05-23T12:45:56.565Z"
      },
      {
        "duration": 7,
        "start_time": "2022-05-23T12:45:56.601Z"
      },
      {
        "duration": 6,
        "start_time": "2022-05-23T12:45:56.609Z"
      },
      {
        "duration": 7,
        "start_time": "2022-05-23T12:45:56.616Z"
      }
    ],
    "kernelspec": {
      "name": "python",
      "display_name": "Pyolite",
      "language": "python"
    },
    "language_info": {
      "codemirror_mode": {
        "name": "python",
        "version": 3
      },
      "file_extension": ".py",
      "mimetype": "text/x-python",
      "name": "python",
      "nbconvert_exporter": "python",
      "pygments_lexer": "ipython3",
      "version": "3.8"
    },
    "toc": {
      "base_numbering": 1,
      "nav_menu": {},
      "number_sections": true,
      "sideBar": true,
      "skip_h1_title": true,
      "title_cell": "Содержание",
      "title_sidebar": "Contents",
      "toc_cell": true,
      "toc_position": {
        "height": "calc(100% - 180px)",
        "left": "10px",
        "top": "150px",
        "width": "289.6px"
      },
      "toc_section_display": true,
      "toc_window_display": true
    }
  },
  "nbformat_minor": 4,
  "nbformat": 4,
  "cells": [
    {
      "cell_type": "markdown",
      "source": "# Определение фактор, влияющих на успешность продажи игры",
      "metadata": {}
    },
    {
      "cell_type": "markdown",
      "source": "\n\nИз открытых источников доступны исторические данные о продажах игр, оценки пользователей и экспертов, жанры и платформы (например, Xbox или PlayStation). \n\nНеобходимо выявить определяющие успешность игры закономерности. \n\nПредставлены данные до 2016 года.",
      "metadata": {}
    },
    {
      "cell_type": "markdown",
      "source": "Описание данных:\n- name — название игры\n- platform — платформа\n- year_of_release — год выпуска\n- genre — жанр игры\n- na_sales — продажи в Северной Америке (миллионы проданных копий)\n- eu_sales — продажи в Европе (миллионы проданных копий)\n- jp_sales — продажи в Японии (миллионы проданных копий)\n- other_sales — продажи в других странах (миллионы проданных копий)\n- critic_score — оценка критиков (максимум 100)\n- user_score — оценка пользователей (максимум 10)\n- rating — рейтинг от организации ESRB (англ. Entertainment Software Rating Board). Эта ассоциация определяет рейтинг компьютерных игр и присваивает им подходящую возрастную категорию\n- sales — суммарный объем продаж во всех регионах (миллионы проданных копий)",
      "metadata": {}
    },
    {
      "cell_type": "markdown",
      "source": "<h1>Содержание<span class=\"tocSkip\"></span></h1>\n<div class=\"toc\"><ul class=\"toc-item\"><li><span><a href=\"#Знакомство-с-данными\" data-toc-modified-id=\"Знакомство-с-данными-1\"><span class=\"toc-item-num\">1&nbsp;&nbsp;</span>Знакомство с данными</a></span></li><li><span><a href=\"#Подготовка-данных\" data-toc-modified-id=\"Подготовка-данных-2\"><span class=\"toc-item-num\">2&nbsp;&nbsp;</span>Подготовка данных</a></span></li><li><span><a href=\"#Исследовательский-анализ-данных\" data-toc-modified-id=\"Исследовательский-анализ-данных-3\"><span class=\"toc-item-num\">3&nbsp;&nbsp;</span>Исследовательский анализ данных</a></span><ul class=\"toc-item\"><li><span><a href=\"#Определение-актуального-приода-для-анализа\" data-toc-modified-id=\"Определение-актуального-приода-для-анализа-3.1\"><span class=\"toc-item-num\">3.1&nbsp;&nbsp;</span>Определение актуального приода для анализа</a></span></li><li><span><a href=\"#Определение-прибыльных-платформ\" data-toc-modified-id=\"Определение-прибыльных-платформ-3.2\"><span class=\"toc-item-num\">3.2&nbsp;&nbsp;</span>Определение прибыльных платформ</a></span></li><li><span><a href=\"#Проверка-на-наличие-выбросов-по-объему-продаж\" data-toc-modified-id=\"Проверка-на-наличие-выбросов-по-объему-продаж-3.3\"><span class=\"toc-item-num\">3.3&nbsp;&nbsp;</span>Проверка на наличие выбросов по объему продаж</a></span></li><li><span><a href=\"#Определение-влияния-оценок-критиков-и-пользователей-на-объем-продаж-игр\" data-toc-modified-id=\"Определение-влияния-оценок-критиков-и-пользователей-на-объем-продаж-игр-3.4\"><span class=\"toc-item-num\">3.4&nbsp;&nbsp;</span>Определение влияния оценок критиков и пользователей на объем продаж игр</a></span></li><li><span><a href=\"#Определение-самых-прибыльных-жанров-игр\" data-toc-modified-id=\"Определение-самых-прибыльных-жанров-игр-3.5\"><span class=\"toc-item-num\">3.5&nbsp;&nbsp;</span>Определение самых прибыльных жанров игр</a></span></li></ul></li><li><span><a href=\"#Портрет-пользователя-каждого-региона\" data-toc-modified-id=\"Портрет-пользователя-каждого-региона-4\"><span class=\"toc-item-num\">4&nbsp;&nbsp;</span>Портрет пользователя каждого региона</a></span><ul class=\"toc-item\"><li><span><a href=\"#Самые-популярные-платформы-(топ-5)-для-разных-регионов\" data-toc-modified-id=\"Самые-популярные-платформы-(топ-5)-для-разных-регионов-4.1\"><span class=\"toc-item-num\">4.1&nbsp;&nbsp;</span>Самые популярные платформы (топ-5) для разных регионов</a></span></li><li><span><a href=\"#Самые-популярные-жанры-(топ-5)-для-разных-регионов\" data-toc-modified-id=\"Самые-популярные-жанры-(топ-5)-для-разных-регионов-4.2\"><span class=\"toc-item-num\">4.2&nbsp;&nbsp;</span>Самые популярные жанры (топ-5) для разных регионов</a></span></li><li><span><a href=\"#Влияние-рейтинга-ESRB-на-продажи-в-отдельном-регионе\" data-toc-modified-id=\"Влияние-рейтинга-ESRB-на-продажи-в-отдельном-регионе-4.3\"><span class=\"toc-item-num\">4.3&nbsp;&nbsp;</span>Влияние рейтинга ESRB на продажи в отдельном регионе</a></span></li></ul></li><li><span><a href=\"#Проверка-гипотез\" data-toc-modified-id=\"Проверка-гипотез-5\"><span class=\"toc-item-num\">5&nbsp;&nbsp;</span>Проверка гипотез</a></span><ul class=\"toc-item\"><li><span><a href=\"#Средние-пользовательские-рейтинги-платформ-Xbox-One-и-PC-одинаковые\" data-toc-modified-id=\"Средние-пользовательские-рейтинги-платформ-Xbox-One-и-PC-одинаковые-5.1\"><span class=\"toc-item-num\">5.1&nbsp;&nbsp;</span>Средние пользовательские рейтинги платформ Xbox One и PC одинаковые</a></span></li><li><span><a href=\"#Средние-пользовательские-рейтинги-жанров-Action-и-Sports-разные\" data-toc-modified-id=\"Средние-пользовательские-рейтинги-жанров-Action-и-Sports-разные-5.2\"><span class=\"toc-item-num\">5.2&nbsp;&nbsp;</span>Средние пользовательские рейтинги жанров Action и Sports разные</a></span></li></ul></li><li><span><a href=\"#Вывод\" data-toc-modified-id=\"Вывод-6\"><span class=\"toc-item-num\">6&nbsp;&nbsp;</span>Вывод</a></span></li></ul></div>",
      "metadata": {
        "toc": true
      }
    },
    {
      "cell_type": "markdown",
      "source": "## Знакомство с данными",
      "metadata": {}
    },
    {
      "cell_type": "code",
      "source": "import pandas as pd\nimport numpy as np\nimport matplotlib.pyplot as plt\nimport seaborn as sns \nfrom scipy import stats as st\nimport math",
      "metadata": {},
      "execution_count": 1,
      "outputs": []
    },
    {
      "cell_type": "code",
      "source": "df = pd.read_csv('/datasets/games.csv')\npd.options.display.max_columns=50\ndf.head(10)",
      "metadata": {},
      "execution_count": 2,
      "outputs": [
        {
          "execution_count": 2,
          "output_type": "execute_result",
          "data": {
            "text/html": [
              "<div>\n",
              "<style scoped>\n",
              "    .dataframe tbody tr th:only-of-type {\n",
              "        vertical-align: middle;\n",
              "    }\n",
              "\n",
              "    .dataframe tbody tr th {\n",
              "        vertical-align: top;\n",
              "    }\n",
              "\n",
              "    .dataframe thead th {\n",
              "        text-align: right;\n",
              "    }\n",
              "</style>\n",
              "<table border=\"1\" class=\"dataframe\">\n",
              "  <thead>\n",
              "    <tr style=\"text-align: right;\">\n",
              "      <th></th>\n",
              "      <th>Name</th>\n",
              "      <th>Platform</th>\n",
              "      <th>Year_of_Release</th>\n",
              "      <th>Genre</th>\n",
              "      <th>NA_sales</th>\n",
              "      <th>EU_sales</th>\n",
              "      <th>JP_sales</th>\n",
              "      <th>Other_sales</th>\n",
              "      <th>Critic_Score</th>\n",
              "      <th>User_Score</th>\n",
              "      <th>Rating</th>\n",
              "    </tr>\n",
              "  </thead>\n",
              "  <tbody>\n",
              "    <tr>\n",
              "      <th>0</th>\n",
              "      <td>Wii Sports</td>\n",
              "      <td>Wii</td>\n",
              "      <td>2006.0</td>\n",
              "      <td>Sports</td>\n",
              "      <td>41.36</td>\n",
              "      <td>28.96</td>\n",
              "      <td>3.77</td>\n",
              "      <td>8.45</td>\n",
              "      <td>76.0</td>\n",
              "      <td>8</td>\n",
              "      <td>E</td>\n",
              "    </tr>\n",
              "    <tr>\n",
              "      <th>1</th>\n",
              "      <td>Super Mario Bros.</td>\n",
              "      <td>NES</td>\n",
              "      <td>1985.0</td>\n",
              "      <td>Platform</td>\n",
              "      <td>29.08</td>\n",
              "      <td>3.58</td>\n",
              "      <td>6.81</td>\n",
              "      <td>0.77</td>\n",
              "      <td>NaN</td>\n",
              "      <td>NaN</td>\n",
              "      <td>NaN</td>\n",
              "    </tr>\n",
              "    <tr>\n",
              "      <th>2</th>\n",
              "      <td>Mario Kart Wii</td>\n",
              "      <td>Wii</td>\n",
              "      <td>2008.0</td>\n",
              "      <td>Racing</td>\n",
              "      <td>15.68</td>\n",
              "      <td>12.76</td>\n",
              "      <td>3.79</td>\n",
              "      <td>3.29</td>\n",
              "      <td>82.0</td>\n",
              "      <td>8.3</td>\n",
              "      <td>E</td>\n",
              "    </tr>\n",
              "    <tr>\n",
              "      <th>3</th>\n",
              "      <td>Wii Sports Resort</td>\n",
              "      <td>Wii</td>\n",
              "      <td>2009.0</td>\n",
              "      <td>Sports</td>\n",
              "      <td>15.61</td>\n",
              "      <td>10.93</td>\n",
              "      <td>3.28</td>\n",
              "      <td>2.95</td>\n",
              "      <td>80.0</td>\n",
              "      <td>8</td>\n",
              "      <td>E</td>\n",
              "    </tr>\n",
              "    <tr>\n",
              "      <th>4</th>\n",
              "      <td>Pokemon Red/Pokemon Blue</td>\n",
              "      <td>GB</td>\n",
              "      <td>1996.0</td>\n",
              "      <td>Role-Playing</td>\n",
              "      <td>11.27</td>\n",
              "      <td>8.89</td>\n",
              "      <td>10.22</td>\n",
              "      <td>1.00</td>\n",
              "      <td>NaN</td>\n",
              "      <td>NaN</td>\n",
              "      <td>NaN</td>\n",
              "    </tr>\n",
              "    <tr>\n",
              "      <th>5</th>\n",
              "      <td>Tetris</td>\n",
              "      <td>GB</td>\n",
              "      <td>1989.0</td>\n",
              "      <td>Puzzle</td>\n",
              "      <td>23.20</td>\n",
              "      <td>2.26</td>\n",
              "      <td>4.22</td>\n",
              "      <td>0.58</td>\n",
              "      <td>NaN</td>\n",
              "      <td>NaN</td>\n",
              "      <td>NaN</td>\n",
              "    </tr>\n",
              "    <tr>\n",
              "      <th>6</th>\n",
              "      <td>New Super Mario Bros.</td>\n",
              "      <td>DS</td>\n",
              "      <td>2006.0</td>\n",
              "      <td>Platform</td>\n",
              "      <td>11.28</td>\n",
              "      <td>9.14</td>\n",
              "      <td>6.50</td>\n",
              "      <td>2.88</td>\n",
              "      <td>89.0</td>\n",
              "      <td>8.5</td>\n",
              "      <td>E</td>\n",
              "    </tr>\n",
              "    <tr>\n",
              "      <th>7</th>\n",
              "      <td>Wii Play</td>\n",
              "      <td>Wii</td>\n",
              "      <td>2006.0</td>\n",
              "      <td>Misc</td>\n",
              "      <td>13.96</td>\n",
              "      <td>9.18</td>\n",
              "      <td>2.93</td>\n",
              "      <td>2.84</td>\n",
              "      <td>58.0</td>\n",
              "      <td>6.6</td>\n",
              "      <td>E</td>\n",
              "    </tr>\n",
              "    <tr>\n",
              "      <th>8</th>\n",
              "      <td>New Super Mario Bros. Wii</td>\n",
              "      <td>Wii</td>\n",
              "      <td>2009.0</td>\n",
              "      <td>Platform</td>\n",
              "      <td>14.44</td>\n",
              "      <td>6.94</td>\n",
              "      <td>4.70</td>\n",
              "      <td>2.24</td>\n",
              "      <td>87.0</td>\n",
              "      <td>8.4</td>\n",
              "      <td>E</td>\n",
              "    </tr>\n",
              "    <tr>\n",
              "      <th>9</th>\n",
              "      <td>Duck Hunt</td>\n",
              "      <td>NES</td>\n",
              "      <td>1984.0</td>\n",
              "      <td>Shooter</td>\n",
              "      <td>26.93</td>\n",
              "      <td>0.63</td>\n",
              "      <td>0.28</td>\n",
              "      <td>0.47</td>\n",
              "      <td>NaN</td>\n",
              "      <td>NaN</td>\n",
              "      <td>NaN</td>\n",
              "    </tr>\n",
              "  </tbody>\n",
              "</table>\n",
              "</div>"
            ],
            "text/plain": [
              "                        Name Platform  Year_of_Release         Genre  \\\n",
              "0                 Wii Sports      Wii           2006.0        Sports   \n",
              "1          Super Mario Bros.      NES           1985.0      Platform   \n",
              "2             Mario Kart Wii      Wii           2008.0        Racing   \n",
              "3          Wii Sports Resort      Wii           2009.0        Sports   \n",
              "4   Pokemon Red/Pokemon Blue       GB           1996.0  Role-Playing   \n",
              "5                     Tetris       GB           1989.0        Puzzle   \n",
              "6      New Super Mario Bros.       DS           2006.0      Platform   \n",
              "7                   Wii Play      Wii           2006.0          Misc   \n",
              "8  New Super Mario Bros. Wii      Wii           2009.0      Platform   \n",
              "9                  Duck Hunt      NES           1984.0       Shooter   \n",
              "\n",
              "   NA_sales  EU_sales  JP_sales  Other_sales  Critic_Score User_Score Rating  \n",
              "0     41.36     28.96      3.77         8.45          76.0          8      E  \n",
              "1     29.08      3.58      6.81         0.77           NaN        NaN    NaN  \n",
              "2     15.68     12.76      3.79         3.29          82.0        8.3      E  \n",
              "3     15.61     10.93      3.28         2.95          80.0          8      E  \n",
              "4     11.27      8.89     10.22         1.00           NaN        NaN    NaN  \n",
              "5     23.20      2.26      4.22         0.58           NaN        NaN    NaN  \n",
              "6     11.28      9.14      6.50         2.88          89.0        8.5      E  \n",
              "7     13.96      9.18      2.93         2.84          58.0        6.6      E  \n",
              "8     14.44      6.94      4.70         2.24          87.0        8.4      E  \n",
              "9     26.93      0.63      0.28         0.47           NaN        NaN    NaN  "
            ]
          },
          "metadata": {}
        }
      ]
    },
    {
      "cell_type": "code",
      "source": "df.info()",
      "metadata": {},
      "execution_count": 3,
      "outputs": [
        {
          "name": "stdout",
          "output_type": "stream",
          "text": "<class 'pandas.core.frame.DataFrame'>\n\nRangeIndex: 16715 entries, 0 to 16714\n\nData columns (total 11 columns):\n\n #   Column           Non-Null Count  Dtype  \n\n---  ------           --------------  -----  \n\n 0   Name             16713 non-null  object \n\n 1   Platform         16715 non-null  object \n\n 2   Year_of_Release  16446 non-null  float64\n\n 3   Genre            16713 non-null  object \n\n 4   NA_sales         16715 non-null  float64\n\n 5   EU_sales         16715 non-null  float64\n\n 6   JP_sales         16715 non-null  float64\n\n 7   Other_sales      16715 non-null  float64\n\n 8   Critic_Score     8137 non-null   float64\n\n 9   User_Score       10014 non-null  object \n\n 10  Rating           9949 non-null   object \n\ndtypes: float64(6), object(5)\n\nmemory usage: 1.4+ MB\n"
        }
      ]
    },
    {
      "cell_type": "markdown",
      "source": "Название столбцов написано некорректно. Во многих колонках присутвуют пропуски.",
      "metadata": {}
    },
    {
      "cell_type": "markdown",
      "source": "## Подготовка данных",
      "metadata": {}
    },
    {
      "cell_type": "code",
      "source": "df.columns = df.columns.str.lower()",
      "metadata": {},
      "execution_count": 4,
      "outputs": []
    },
    {
      "cell_type": "markdown",
      "source": "Название столбцов приведено к нижнему регистру.",
      "metadata": {}
    },
    {
      "cell_type": "code",
      "source": "df.duplicated().sum()",
      "metadata": {},
      "execution_count": 5,
      "outputs": [
        {
          "execution_count": 5,
          "output_type": "execute_result",
          "data": {
            "text/plain": [
              "0"
            ]
          },
          "metadata": {}
        }
      ]
    },
    {
      "cell_type": "markdown",
      "source": "Дубликатов строк в таблице нет.",
      "metadata": {}
    },
    {
      "cell_type": "code",
      "source": "df[df['name'].isna()]",
      "metadata": {
        "scrolled": true
      },
      "execution_count": 6,
      "outputs": [
        {
          "execution_count": 6,
          "output_type": "execute_result",
          "data": {
            "text/html": [
              "<div>\n",
              "<style scoped>\n",
              "    .dataframe tbody tr th:only-of-type {\n",
              "        vertical-align: middle;\n",
              "    }\n",
              "\n",
              "    .dataframe tbody tr th {\n",
              "        vertical-align: top;\n",
              "    }\n",
              "\n",
              "    .dataframe thead th {\n",
              "        text-align: right;\n",
              "    }\n",
              "</style>\n",
              "<table border=\"1\" class=\"dataframe\">\n",
              "  <thead>\n",
              "    <tr style=\"text-align: right;\">\n",
              "      <th></th>\n",
              "      <th>name</th>\n",
              "      <th>platform</th>\n",
              "      <th>year_of_release</th>\n",
              "      <th>genre</th>\n",
              "      <th>na_sales</th>\n",
              "      <th>eu_sales</th>\n",
              "      <th>jp_sales</th>\n",
              "      <th>other_sales</th>\n",
              "      <th>critic_score</th>\n",
              "      <th>user_score</th>\n",
              "      <th>rating</th>\n",
              "    </tr>\n",
              "  </thead>\n",
              "  <tbody>\n",
              "    <tr>\n",
              "      <th>659</th>\n",
              "      <td>NaN</td>\n",
              "      <td>GEN</td>\n",
              "      <td>1993.0</td>\n",
              "      <td>NaN</td>\n",
              "      <td>1.78</td>\n",
              "      <td>0.53</td>\n",
              "      <td>0.00</td>\n",
              "      <td>0.08</td>\n",
              "      <td>NaN</td>\n",
              "      <td>NaN</td>\n",
              "      <td>NaN</td>\n",
              "    </tr>\n",
              "    <tr>\n",
              "      <th>14244</th>\n",
              "      <td>NaN</td>\n",
              "      <td>GEN</td>\n",
              "      <td>1993.0</td>\n",
              "      <td>NaN</td>\n",
              "      <td>0.00</td>\n",
              "      <td>0.00</td>\n",
              "      <td>0.03</td>\n",
              "      <td>0.00</td>\n",
              "      <td>NaN</td>\n",
              "      <td>NaN</td>\n",
              "      <td>NaN</td>\n",
              "    </tr>\n",
              "  </tbody>\n",
              "</table>\n",
              "</div>"
            ],
            "text/plain": [
              "      name platform  year_of_release genre  na_sales  eu_sales  jp_sales  \\\n",
              "659    NaN      GEN           1993.0   NaN      1.78      0.53      0.00   \n",
              "14244  NaN      GEN           1993.0   NaN      0.00      0.00      0.03   \n",
              "\n",
              "       other_sales  critic_score user_score rating  \n",
              "659           0.08           NaN        NaN    NaN  \n",
              "14244         0.00           NaN        NaN    NaN  "
            ]
          },
          "metadata": {}
        }
      ]
    },
    {
      "cell_type": "markdown",
      "source": "В столбцах `name` и `genre` присутсвует 2 пропуска для игр 1993 года. Заполнить их не представляется возможным, если для дальнейшего анализа эти данные будут мешать, их стоит удалить.",
      "metadata": {}
    },
    {
      "cell_type": "code",
      "source": "df['year_of_release'].unique()",
      "metadata": {},
      "execution_count": 7,
      "outputs": [
        {
          "execution_count": 7,
          "output_type": "execute_result",
          "data": {
            "text/plain": [
              "array([2006., 1985., 2008., 2009., 1996., 1989., 1984., 2005., 1999.,\n",
              "       2007., 2010., 2013., 2004., 1990., 1988., 2002., 2001., 2011.,\n",
              "       1998., 2015., 2012., 2014., 1992., 1997., 1993., 1994., 1982.,\n",
              "       2016., 2003., 1986., 2000.,   nan, 1995., 1991., 1981., 1987.,\n",
              "       1980., 1983.])"
            ]
          },
          "metadata": {}
        }
      ]
    },
    {
      "cell_type": "markdown",
      "source": "В столбце `year_of_release` присутвует 269 пропуска, что составляет менее 2%, поэтому можем удалить строки, содержащие пропуски в данном столбце.",
      "metadata": {}
    },
    {
      "cell_type": "code",
      "source": "df = df.dropna(subset=['year_of_release'])",
      "metadata": {},
      "execution_count": 10,
      "outputs": []
    },
    {
      "cell_type": "code",
      "source": "df['year_of_release'] = df['year_of_release'].astype('int')",
      "metadata": {},
      "execution_count": 11,
      "outputs": []
    },
    {
      "cell_type": "markdown",
      "source": "Пропуски в столбцах `critic_score`, `user_score` и `rating ` заполнять средним или медианным значениями не является корректным, поскольку рейтинг выставляется для каждой игры индивидуально. \n\nПропуски могли появится при объединении, выгрузки данных, а также по причине отсутствия оценок на определенную игру в целом.",
      "metadata": {}
    },
    {
      "cell_type": "code",
      "source": "df['rating'].unique()",
      "metadata": {},
      "execution_count": 12,
      "outputs": [
        {
          "execution_count": 12,
          "output_type": "execute_result",
          "data": {
            "text/plain": [
              "array(['E', nan, 'M', 'T', 'E10+', 'K-A', 'AO', 'EC', 'RP'], dtype=object)"
            ]
          },
          "metadata": {}
        }
      ]
    },
    {
      "cell_type": "code",
      "source": "df['user_score'].unique()",
      "metadata": {},
      "execution_count": 13,
      "outputs": [
        {
          "execution_count": 13,
          "output_type": "execute_result",
          "data": {
            "text/plain": [
              "array(['8', nan, '8.3', '8.5', '6.6', '8.4', '8.6', '7.7', '6.3', '7.4',\n",
              "       '8.2', '9', '7.9', '8.1', '8.7', '7.1', '3.4', '5.3', '4.8', '3.2',\n",
              "       '8.9', '6.4', '7.8', '7.5', '2.6', '7.2', '9.2', '7', '7.3', '4.3',\n",
              "       '7.6', '5.7', '5', '9.1', '6.5', 'tbd', '8.8', '6.9', '9.4', '6.8',\n",
              "       '6.1', '6.7', '5.4', '4', '4.9', '4.5', '9.3', '6.2', '4.2', '6',\n",
              "       '3.7', '4.1', '5.8', '5.6', '5.5', '4.4', '4.6', '5.9', '3.9',\n",
              "       '3.1', '2.9', '5.2', '3.3', '4.7', '5.1', '3.5', '2.5', '1.9', '3',\n",
              "       '2.7', '2.2', '2', '9.5', '2.1', '3.6', '2.8', '1.8', '3.8', '0',\n",
              "       '1.6', '9.6', '2.4', '1.7', '1.1', '0.3', '1.5', '0.7', '1.2',\n",
              "       '2.3', '0.5', '1.3', '0.2', '0.6', '1.4', '0.9', '1', '9.7'],\n",
              "      dtype=object)"
            ]
          },
          "metadata": {}
        }
      ]
    },
    {
      "cell_type": "code",
      "source": "df[df['user_score'] == 'tbd']['user_score'].count()",
      "metadata": {},
      "execution_count": 14,
      "outputs": [
        {
          "execution_count": 14,
          "output_type": "execute_result",
          "data": {
            "text/plain": [
              "2376"
            ]
          },
          "metadata": {}
        }
      ]
    },
    {
      "cell_type": "markdown",
      "source": "В столбце `user_score` присутсвует аббревиатура `tbd`, что означает \"to be determined\", то есть \"подлежит уточнению\", поэтому можем считать, что это также является пропуском.",
      "metadata": {}
    },
    {
      "cell_type": "code",
      "source": "df['user_score'] = df['user_score'].replace('tbd', np.nan)",
      "metadata": {},
      "execution_count": 15,
      "outputs": []
    },
    {
      "cell_type": "code",
      "source": "df['user_score'] = df['user_score'].astype('float')",
      "metadata": {},
      "execution_count": 16,
      "outputs": []
    },
    {
      "cell_type": "markdown",
      "source": "Значения с аббревиатурой `tbd` заменили на пропуски, чтобы перевести тип значений в столбце к численному (до этого - object). \n\nДанные столбца `critic_score` близки по значению данным  `user_score` (только один в 100-бальном значении с целыми числами, а другой в 10-бальном с десятичными числами). Поэтому можно выявить среднюю разницу между рейтингами столбцов и заполнить пропуски в одном столбце скорректироваными значениями другого столбца.",
      "metadata": {}
    },
    {
      "cell_type": "code",
      "source": "df['critic_score'].unique()",
      "metadata": {},
      "execution_count": 17,
      "outputs": [
        {
          "execution_count": 17,
          "output_type": "execute_result",
          "data": {
            "text/plain": [
              "array([76., nan, 82., 80., 89., 58., 87., 91., 61., 97., 95., 77., 88.,\n",
              "       83., 94., 93., 85., 86., 98., 96., 90., 84., 73., 74., 78., 92.,\n",
              "       71., 72., 68., 62., 49., 67., 81., 66., 56., 79., 70., 59., 64.,\n",
              "       75., 60., 63., 69., 50., 25., 42., 44., 55., 48., 57., 29., 47.,\n",
              "       65., 54., 20., 53., 37., 38., 33., 52., 30., 32., 43., 45., 51.,\n",
              "       40., 46., 39., 34., 41., 36., 31., 27., 35., 26., 19., 28., 23.,\n",
              "       24., 21., 17., 13.])"
            ]
          },
          "metadata": {}
        }
      ]
    },
    {
      "cell_type": "code",
      "source": "df.info()",
      "metadata": {},
      "execution_count": 22,
      "outputs": [
        {
          "name": "stdout",
          "output_type": "stream",
          "text": "<class 'pandas.core.frame.DataFrame'>\n\nInt64Index: 16446 entries, 0 to 16714\n\nData columns (total 11 columns):\n\n #   Column           Non-Null Count  Dtype  \n\n---  ------           --------------  -----  \n\n 0   name             16444 non-null  object \n\n 1   platform         16446 non-null  object \n\n 2   year_of_release  16446 non-null  int64  \n\n 3   genre            16444 non-null  object \n\n 4   na_sales         16446 non-null  float64\n\n 5   eu_sales         16446 non-null  float64\n\n 6   jp_sales         16446 non-null  float64\n\n 7   other_sales      16446 non-null  float64\n\n 8   critic_score     7983 non-null   float64\n\n 9   user_score       7463 non-null   float64\n\n 10  rating           9768 non-null   object \n\ndtypes: float64(6), int64(1), object(4)\n\nmemory usage: 1.5+ MB\n"
        }
      ]
    },
    {
      "cell_type": "markdown",
      "source": "Таким образом, остались пропуски в столбцах `critic_score` и `user_score`, так как их не заполнить.\n\nПропуски в столбцах `rating` заполнить не представляется возможным. В этом столбце содержатся данные о возрастной категории игры, поэтому присваивать значения пропускам на основе каких-либо имеющихся данных невозможно.",
      "metadata": {}
    },
    {
      "cell_type": "code",
      "source": "df['sales'] = df['na_sales'] + df['eu_sales'] + df['jp_sales'] + df['other_sales']",
      "metadata": {},
      "execution_count": 23,
      "outputs": []
    },
    {
      "cell_type": "markdown",
      "source": "Создали столбец с суммарным объемом продаж определенной игры во всех регионах (для каждого регионы единицы измерения продаж совпадают)",
      "metadata": {}
    },
    {
      "cell_type": "markdown",
      "source": "В результате подготовки данных к анализу, выявлены и заполнены пропуски в столбцах, в которых это возможно. Заполнение оставшихся пропусков приведет к искажению дальнейших результатов анализа. Добавлен столбец, отражающий суммарный объем продаж во всех регионах.",
      "metadata": {}
    },
    {
      "cell_type": "markdown",
      "source": "## Исследовательский анализ данных",
      "metadata": {}
    },
    {
      "cell_type": "markdown",
      "source": "### Определение актуального приода для анализа",
      "metadata": {}
    },
    {
      "cell_type": "code",
      "source": "df.pivot_table(index='year_of_release', values='name', aggfunc='count').plot(figsize=(10, 5), grid=True)",
      "metadata": {},
      "execution_count": 24,
      "outputs": [
        {
          "execution_count": 24,
          "output_type": "execute_result",
          "data": {
            "text/plain": [
              "<AxesSubplot:xlabel='year_of_release'>"
            ]
          },
          "metadata": {}
        },
        {
          "output_type": "display_data",
          "data": {
            "image/png": "[encoded data removed]",
            "text/plain": [
              "<Figure size 720x360 with 1 Axes>"
            ]
          },
          "metadata": {
            "needs_background": "light"
          }
        }
      ]
    },
    {
      "cell_type": "markdown",
      "source": "В представленных данных игры выпускались в период с 1980 по 2016 годы. Можем заметить, что примерно с 1994 года начался рост выпуска игр, достигнув пика в 2009 году, после чего наступил спад.",
      "metadata": {}
    },
    {
      "cell_type": "code",
      "source": "df.pivot_table(index=['platform'], values='sales', aggfunc='sum').sort_values(by='sales', ascending=False).T",
      "metadata": {
        "scrolled": true
      },
      "execution_count": 25,
      "outputs": [
        {
          "execution_count": 25,
          "output_type": "execute_result",
          "data": {
            "text/html": [
              "<div>\n",
              "<style scoped>\n",
              "    .dataframe tbody tr th:only-of-type {\n",
              "        vertical-align: middle;\n",
              "    }\n",
              "\n",
              "    .dataframe tbody tr th {\n",
              "        vertical-align: top;\n",
              "    }\n",
              "\n",
              "    .dataframe thead th {\n",
              "        text-align: right;\n",
              "    }\n",
              "</style>\n",
              "<table border=\"1\" class=\"dataframe\">\n",
              "  <thead>\n",
              "    <tr style=\"text-align: right;\">\n",
              "      <th>platform</th>\n",
              "      <th>PS2</th>\n",
              "      <th>X360</th>\n",
              "      <th>PS3</th>\n",
              "      <th>Wii</th>\n",
              "      <th>DS</th>\n",
              "      <th>PS</th>\n",
              "      <th>PS4</th>\n",
              "      <th>GBA</th>\n",
              "      <th>PSP</th>\n",
              "      <th>3DS</th>\n",
              "      <th>PC</th>\n",
              "      <th>GB</th>\n",
              "      <th>XB</th>\n",
              "      <th>NES</th>\n",
              "      <th>N64</th>\n",
              "      <th>SNES</th>\n",
              "      <th>GC</th>\n",
              "      <th>XOne</th>\n",
              "      <th>2600</th>\n",
              "      <th>WiiU</th>\n",
              "      <th>PSV</th>\n",
              "      <th>SAT</th>\n",
              "      <th>GEN</th>\n",
              "      <th>DC</th>\n",
              "      <th>SCD</th>\n",
              "      <th>NG</th>\n",
              "      <th>WS</th>\n",
              "      <th>TG16</th>\n",
              "      <th>3DO</th>\n",
              "      <th>GG</th>\n",
              "      <th>PCFX</th>\n",
              "    </tr>\n",
              "  </thead>\n",
              "  <tbody>\n",
              "    <tr>\n",
              "      <th>sales</th>\n",
              "      <td>1233.56</td>\n",
              "      <td>961.24</td>\n",
              "      <td>931.34</td>\n",
              "      <td>891.18</td>\n",
              "      <td>802.78</td>\n",
              "      <td>727.58</td>\n",
              "      <td>314.14</td>\n",
              "      <td>312.88</td>\n",
              "      <td>289.53</td>\n",
              "      <td>257.81</td>\n",
              "      <td>255.76</td>\n",
              "      <td>254.43</td>\n",
              "      <td>251.57</td>\n",
              "      <td>251.05</td>\n",
              "      <td>218.01</td>\n",
              "      <td>200.04</td>\n",
              "      <td>196.73</td>\n",
              "      <td>159.32</td>\n",
              "      <td>86.48</td>\n",
              "      <td>82.19</td>\n",
              "      <td>53.81</td>\n",
              "      <td>33.59</td>\n",
              "      <td>30.77</td>\n",
              "      <td>15.95</td>\n",
              "      <td>1.86</td>\n",
              "      <td>1.44</td>\n",
              "      <td>1.42</td>\n",
              "      <td>0.16</td>\n",
              "      <td>0.1</td>\n",
              "      <td>0.04</td>\n",
              "      <td>0.03</td>\n",
              "    </tr>\n",
              "  </tbody>\n",
              "</table>\n",
              "</div>"
            ],
            "text/plain": [
              "platform      PS2    X360     PS3     Wii      DS      PS     PS4     GBA  \\\n",
              "sales     1233.56  961.24  931.34  891.18  802.78  727.58  314.14  312.88   \n",
              "\n",
              "platform     PSP     3DS      PC      GB      XB     NES     N64    SNES  \\\n",
              "sales     289.53  257.81  255.76  254.43  251.57  251.05  218.01  200.04   \n",
              "\n",
              "platform      GC    XOne   2600   WiiU    PSV    SAT    GEN     DC   SCD  \\\n",
              "sales     196.73  159.32  86.48  82.19  53.81  33.59  30.77  15.95  1.86   \n",
              "\n",
              "platform    NG    WS  TG16  3DO    GG  PCFX  \n",
              "sales     1.44  1.42  0.16  0.1  0.04  0.03  "
            ]
          },
          "metadata": {}
        }
      ]
    },
    {
      "cell_type": "markdown",
      "source": "Как видим, платформами с наибольшими суммарными продажами являются PS2, X360, PS3, Wii,\tDS,\tPS,\tGBA, PS4, PSP, PC и другие.",
      "metadata": {}
    },
    {
      "cell_type": "code",
      "source": "df_top = df.query('platform == [\"PS2\", \"X360\", \"PS3\", \"Wii\", \"DS\", \"PS\", \"GBA\", \"PS4\", \\\n                                \"PSP\", \"PC\", \"3DS\", \"XB\", \"GB\", \"NES\", \"N64\", \"SNES\", \"GC\", \"XOne\"]').copy()",
      "metadata": {},
      "execution_count": 26,
      "outputs": []
    },
    {
      "cell_type": "markdown",
      "source": "Отобрали самые популярные платформы, объем суммарный продаж игр по которым больше 100 миллионов копий.",
      "metadata": {}
    },
    {
      "cell_type": "code",
      "source": "year = df_top.pivot_table(index=['platform'], values='year_of_release', aggfunc=['min','max']).copy()\nyear.columns = ['min_year', 'max_year']\nyear['diference'] = year['max_year'] - year['min_year'] \nyear",
      "metadata": {},
      "execution_count": 27,
      "outputs": [
        {
          "execution_count": 27,
          "output_type": "execute_result",
          "data": {
            "text/html": [
              "<div>\n",
              "<style scoped>\n",
              "    .dataframe tbody tr th:only-of-type {\n",
              "        vertical-align: middle;\n",
              "    }\n",
              "\n",
              "    .dataframe tbody tr th {\n",
              "        vertical-align: top;\n",
              "    }\n",
              "\n",
              "    .dataframe thead th {\n",
              "        text-align: right;\n",
              "    }\n",
              "</style>\n",
              "<table border=\"1\" class=\"dataframe\">\n",
              "  <thead>\n",
              "    <tr style=\"text-align: right;\">\n",
              "      <th></th>\n",
              "      <th>min_year</th>\n",
              "      <th>max_year</th>\n",
              "      <th>diference</th>\n",
              "    </tr>\n",
              "    <tr>\n",
              "      <th>platform</th>\n",
              "      <th></th>\n",
              "      <th></th>\n",
              "      <th></th>\n",
              "    </tr>\n",
              "  </thead>\n",
              "  <tbody>\n",
              "    <tr>\n",
              "      <th>3DS</th>\n",
              "      <td>2011</td>\n",
              "      <td>2016</td>\n",
              "      <td>5</td>\n",
              "    </tr>\n",
              "    <tr>\n",
              "      <th>DS</th>\n",
              "      <td>1985</td>\n",
              "      <td>2013</td>\n",
              "      <td>28</td>\n",
              "    </tr>\n",
              "    <tr>\n",
              "      <th>GB</th>\n",
              "      <td>1988</td>\n",
              "      <td>2001</td>\n",
              "      <td>13</td>\n",
              "    </tr>\n",
              "    <tr>\n",
              "      <th>GBA</th>\n",
              "      <td>2000</td>\n",
              "      <td>2007</td>\n",
              "      <td>7</td>\n",
              "    </tr>\n",
              "    <tr>\n",
              "      <th>GC</th>\n",
              "      <td>2001</td>\n",
              "      <td>2007</td>\n",
              "      <td>6</td>\n",
              "    </tr>\n",
              "    <tr>\n",
              "      <th>N64</th>\n",
              "      <td>1996</td>\n",
              "      <td>2002</td>\n",
              "      <td>6</td>\n",
              "    </tr>\n",
              "    <tr>\n",
              "      <th>NES</th>\n",
              "      <td>1983</td>\n",
              "      <td>1994</td>\n",
              "      <td>11</td>\n",
              "    </tr>\n",
              "    <tr>\n",
              "      <th>PC</th>\n",
              "      <td>1985</td>\n",
              "      <td>2016</td>\n",
              "      <td>31</td>\n",
              "    </tr>\n",
              "    <tr>\n",
              "      <th>PS</th>\n",
              "      <td>1994</td>\n",
              "      <td>2003</td>\n",
              "      <td>9</td>\n",
              "    </tr>\n",
              "    <tr>\n",
              "      <th>PS2</th>\n",
              "      <td>2000</td>\n",
              "      <td>2011</td>\n",
              "      <td>11</td>\n",
              "    </tr>\n",
              "    <tr>\n",
              "      <th>PS3</th>\n",
              "      <td>2006</td>\n",
              "      <td>2016</td>\n",
              "      <td>10</td>\n",
              "    </tr>\n",
              "    <tr>\n",
              "      <th>PS4</th>\n",
              "      <td>2013</td>\n",
              "      <td>2016</td>\n",
              "      <td>3</td>\n",
              "    </tr>\n",
              "    <tr>\n",
              "      <th>PSP</th>\n",
              "      <td>2004</td>\n",
              "      <td>2015</td>\n",
              "      <td>11</td>\n",
              "    </tr>\n",
              "    <tr>\n",
              "      <th>SNES</th>\n",
              "      <td>1990</td>\n",
              "      <td>1999</td>\n",
              "      <td>9</td>\n",
              "    </tr>\n",
              "    <tr>\n",
              "      <th>Wii</th>\n",
              "      <td>2006</td>\n",
              "      <td>2016</td>\n",
              "      <td>10</td>\n",
              "    </tr>\n",
              "    <tr>\n",
              "      <th>X360</th>\n",
              "      <td>2005</td>\n",
              "      <td>2016</td>\n",
              "      <td>11</td>\n",
              "    </tr>\n",
              "    <tr>\n",
              "      <th>XB</th>\n",
              "      <td>2000</td>\n",
              "      <td>2008</td>\n",
              "      <td>8</td>\n",
              "    </tr>\n",
              "    <tr>\n",
              "      <th>XOne</th>\n",
              "      <td>2013</td>\n",
              "      <td>2016</td>\n",
              "      <td>3</td>\n",
              "    </tr>\n",
              "  </tbody>\n",
              "</table>\n",
              "</div>"
            ],
            "text/plain": [
              "          min_year  max_year  diference\n",
              "platform                               \n",
              "3DS           2011      2016          5\n",
              "DS            1985      2013         28\n",
              "GB            1988      2001         13\n",
              "GBA           2000      2007          7\n",
              "GC            2001      2007          6\n",
              "N64           1996      2002          6\n",
              "NES           1983      1994         11\n",
              "PC            1985      2016         31\n",
              "PS            1994      2003          9\n",
              "PS2           2000      2011         11\n",
              "PS3           2006      2016         10\n",
              "PS4           2013      2016          3\n",
              "PSP           2004      2015         11\n",
              "SNES          1990      1999          9\n",
              "Wii           2006      2016         10\n",
              "X360          2005      2016         11\n",
              "XB            2000      2008          8\n",
              "XOne          2013      2016          3"
            ]
          },
          "metadata": {}
        }
      ]
    },
    {
      "cell_type": "code",
      "source": "year.query('max_year != 2016').mean()",
      "metadata": {},
      "execution_count": 28,
      "outputs": [
        {
          "execution_count": 28,
          "output_type": "execute_result",
          "data": {
            "text/plain": [
              "min_year     1994.636364\n",
              "max_year     2005.454545\n",
              "diference      10.818182\n",
              "dtype: float64"
            ]
          },
          "metadata": {}
        }
      ]
    },
    {
      "cell_type": "markdown",
      "source": "Построили распределение по годам выхода игр среди самых популярных платформ.\nПосчитали среднюю разницу между последним годом выхода игры на определенную платформу и первым годом (кроме тех платформ, на которые выходят игры в 2016 году).",
      "metadata": {}
    },
    {
      "cell_type": "markdown",
      "source": "Как видим, характерный \"срок жизни\" платформы составляет примерно 11 лет.",
      "metadata": {}
    },
    {
      "cell_type": "code",
      "source": "year.query('max_year == 2016')",
      "metadata": {},
      "execution_count": 29,
      "outputs": [
        {
          "execution_count": 29,
          "output_type": "execute_result",
          "data": {
            "text/html": [
              "<div>\n",
              "<style scoped>\n",
              "    .dataframe tbody tr th:only-of-type {\n",
              "        vertical-align: middle;\n",
              "    }\n",
              "\n",
              "    .dataframe tbody tr th {\n",
              "        vertical-align: top;\n",
              "    }\n",
              "\n",
              "    .dataframe thead th {\n",
              "        text-align: right;\n",
              "    }\n",
              "</style>\n",
              "<table border=\"1\" class=\"dataframe\">\n",
              "  <thead>\n",
              "    <tr style=\"text-align: right;\">\n",
              "      <th></th>\n",
              "      <th>min_year</th>\n",
              "      <th>max_year</th>\n",
              "      <th>diference</th>\n",
              "    </tr>\n",
              "    <tr>\n",
              "      <th>platform</th>\n",
              "      <th></th>\n",
              "      <th></th>\n",
              "      <th></th>\n",
              "    </tr>\n",
              "  </thead>\n",
              "  <tbody>\n",
              "    <tr>\n",
              "      <th>3DS</th>\n",
              "      <td>2011</td>\n",
              "      <td>2016</td>\n",
              "      <td>5</td>\n",
              "    </tr>\n",
              "    <tr>\n",
              "      <th>PC</th>\n",
              "      <td>1985</td>\n",
              "      <td>2016</td>\n",
              "      <td>31</td>\n",
              "    </tr>\n",
              "    <tr>\n",
              "      <th>PS3</th>\n",
              "      <td>2006</td>\n",
              "      <td>2016</td>\n",
              "      <td>10</td>\n",
              "    </tr>\n",
              "    <tr>\n",
              "      <th>PS4</th>\n",
              "      <td>2013</td>\n",
              "      <td>2016</td>\n",
              "      <td>3</td>\n",
              "    </tr>\n",
              "    <tr>\n",
              "      <th>Wii</th>\n",
              "      <td>2006</td>\n",
              "      <td>2016</td>\n",
              "      <td>10</td>\n",
              "    </tr>\n",
              "    <tr>\n",
              "      <th>X360</th>\n",
              "      <td>2005</td>\n",
              "      <td>2016</td>\n",
              "      <td>11</td>\n",
              "    </tr>\n",
              "    <tr>\n",
              "      <th>XOne</th>\n",
              "      <td>2013</td>\n",
              "      <td>2016</td>\n",
              "      <td>3</td>\n",
              "    </tr>\n",
              "  </tbody>\n",
              "</table>\n",
              "</div>"
            ],
            "text/plain": [
              "          min_year  max_year  diference\n",
              "platform                               \n",
              "3DS           2011      2016          5\n",
              "PC            1985      2016         31\n",
              "PS3           2006      2016         10\n",
              "PS4           2013      2016          3\n",
              "Wii           2006      2016         10\n",
              "X360          2005      2016         11\n",
              "XOne          2013      2016          3"
            ]
          },
          "metadata": {}
        }
      ]
    },
    {
      "cell_type": "markdown",
      "source": "На такие платформы, как 3DS, PC, PS3, PS4, Wii, X360 и XOne, а также PSV (не вошла в таблицу, так как суммарный объем продаж крайне низок)  игры продолжают выходить на период 2016 года (последний год в представленных данных).  \nОднако можем заметить, что \"срок службы\" PS3, Wii и X360 подходит к концу.",
      "metadata": {}
    },
    {
      "cell_type": "code",
      "source": "df_new = df.query('year_of_release >= 2014')",
      "metadata": {
        "scrolled": true
      },
      "execution_count": 30,
      "outputs": []
    },
    {
      "cell_type": "markdown",
      "source": "Таким образом, актуальными являются данные за последние 3 года, так как для достижения цели анализа (определения прогноза на 2017 год) необходимы актуальные данные, отражающие современные тенденции. ",
      "metadata": {}
    },
    {
      "cell_type": "markdown",
      "source": "### Определение прибыльных платформ",
      "metadata": {}
    },
    {
      "cell_type": "code",
      "source": "sales_plarform = df_new.pivot_table(index=['platform', 'year_of_release'], values='sales', aggfunc=['sum','count']).reset_index()\nsales_plarform.columns = ['platform', 'year_of_release', 'sum_sales', 'game_count']\nsales_plarform.head()\n",
      "metadata": {},
      "execution_count": 31,
      "outputs": [
        {
          "execution_count": 31,
          "output_type": "execute_result",
          "data": {
            "text/html": [
              "<div>\n",
              "<style scoped>\n",
              "    .dataframe tbody tr th:only-of-type {\n",
              "        vertical-align: middle;\n",
              "    }\n",
              "\n",
              "    .dataframe tbody tr th {\n",
              "        vertical-align: top;\n",
              "    }\n",
              "\n",
              "    .dataframe thead th {\n",
              "        text-align: right;\n",
              "    }\n",
              "</style>\n",
              "<table border=\"1\" class=\"dataframe\">\n",
              "  <thead>\n",
              "    <tr style=\"text-align: right;\">\n",
              "      <th></th>\n",
              "      <th>platform</th>\n",
              "      <th>year_of_release</th>\n",
              "      <th>sum_sales</th>\n",
              "      <th>game_count</th>\n",
              "    </tr>\n",
              "  </thead>\n",
              "  <tbody>\n",
              "    <tr>\n",
              "      <th>0</th>\n",
              "      <td>3DS</td>\n",
              "      <td>2014</td>\n",
              "      <td>43.76</td>\n",
              "      <td>80</td>\n",
              "    </tr>\n",
              "    <tr>\n",
              "      <th>1</th>\n",
              "      <td>3DS</td>\n",
              "      <td>2015</td>\n",
              "      <td>27.78</td>\n",
              "      <td>86</td>\n",
              "    </tr>\n",
              "    <tr>\n",
              "      <th>2</th>\n",
              "      <td>3DS</td>\n",
              "      <td>2016</td>\n",
              "      <td>15.14</td>\n",
              "      <td>46</td>\n",
              "    </tr>\n",
              "    <tr>\n",
              "      <th>3</th>\n",
              "      <td>PC</td>\n",
              "      <td>2014</td>\n",
              "      <td>13.28</td>\n",
              "      <td>47</td>\n",
              "    </tr>\n",
              "    <tr>\n",
              "      <th>4</th>\n",
              "      <td>PC</td>\n",
              "      <td>2015</td>\n",
              "      <td>8.52</td>\n",
              "      <td>50</td>\n",
              "    </tr>\n",
              "  </tbody>\n",
              "</table>\n",
              "</div>"
            ],
            "text/plain": [
              "  platform  year_of_release  sum_sales  game_count\n",
              "0      3DS             2014      43.76          80\n",
              "1      3DS             2015      27.78          86\n",
              "2      3DS             2016      15.14          46\n",
              "3       PC             2014      13.28          47\n",
              "4       PC             2015       8.52          50"
            ]
          },
          "metadata": {}
        }
      ]
    },
    {
      "cell_type": "code",
      "source": "#df_new.pivot_table(index=['year_of_release', 'platform'], values='sales', aggfunc='mean').unstack().plot(figsize=(15, 10), title='Сравнение среднего объема продаж по каждой платформе')\nDS3 = sales_plarform.query('platform == \"3DS\"')\nPC = sales_plarform.query('platform == \"PC\"')\nPS3 = sales_plarform.query('platform == \"PS3\"')\nPS4 = sales_plarform.query('platform == \"PS4\"')\nPSV = sales_plarform.query('platform == \"PSV\"')\nWii = sales_plarform.query('platform == \"Wii\"')\nWiiU = sales_plarform.query('platform == \"WiiU\"')\nX360 = sales_plarform.query('platform == \"X360\"')\nXOne = sales_plarform.query('platform == \"XOne\"')\nplt.figure(figsize=(15, 10))\nplt.title('Сравнение продаж по каждой платформе')\nplt.plot(DS3['year_of_release'], DS3['sum_sales'], label=\"продажа игр на 3DS\")\nplt.plot(PC['year_of_release'], PC['sum_sales'], label=\"продажа игр на PC\")\nplt.plot(PS3['year_of_release'], PS3['sum_sales'], label=\"продажа игр на PS3\")\nplt.plot(PS4['year_of_release'], PS4['sum_sales'], label=\"продажа игр на PS4\")\nplt.plot(PSV['year_of_release'], PSV['sum_sales'], label=\"продажа игр на PSV\")\nplt.plot(Wii['year_of_release'], Wii['sum_sales'], label=\"продажа игр на Wii\")\nplt.plot(WiiU['year_of_release'], WiiU['sum_sales'], label=\"продажа игр на WiiU\")\nplt.plot(X360['year_of_release'], X360['sum_sales'], label=\"продажа игр на X360\")\nplt.plot(XOne['year_of_release'], XOne['sum_sales'], label=\"продажа игр на XOne\")\nplt.xlabel('Годы')\nplt.ylabel('Объем продаж игр')\nplt.legend()\nplt.grid(True)",
      "metadata": {},
      "execution_count": 32,
      "outputs": [
        {
          "output_type": "display_data",
          "data": {
            "image/png": "[encoded data removed]",
            "text/plain": [
              "<Figure size 1080x720 with 1 Axes>"
            ]
          },
          "metadata": {
            "needs_background": "light"
          }
        }
      ]
    },
    {
      "cell_type": "code",
      "source": "sales_plarform.query('platform == \"Wii\" and year_of_release == 2016')",
      "metadata": {},
      "execution_count": 33,
      "outputs": [
        {
          "execution_count": 33,
          "output_type": "execute_result",
          "data": {
            "text/html": [
              "<div>\n",
              "<style scoped>\n",
              "    .dataframe tbody tr th:only-of-type {\n",
              "        vertical-align: middle;\n",
              "    }\n",
              "\n",
              "    .dataframe tbody tr th {\n",
              "        vertical-align: top;\n",
              "    }\n",
              "\n",
              "    .dataframe thead th {\n",
              "        text-align: right;\n",
              "    }\n",
              "</style>\n",
              "<table border=\"1\" class=\"dataframe\">\n",
              "  <thead>\n",
              "    <tr style=\"text-align: right;\">\n",
              "      <th></th>\n",
              "      <th>platform</th>\n",
              "      <th>year_of_release</th>\n",
              "      <th>sum_sales</th>\n",
              "      <th>game_count</th>\n",
              "    </tr>\n",
              "  </thead>\n",
              "  <tbody>\n",
              "    <tr>\n",
              "      <th>19</th>\n",
              "      <td>Wii</td>\n",
              "      <td>2016</td>\n",
              "      <td>0.18</td>\n",
              "      <td>1</td>\n",
              "    </tr>\n",
              "  </tbody>\n",
              "</table>\n",
              "</div>"
            ],
            "text/plain": [
              "   platform  year_of_release  sum_sales  game_count\n",
              "19      Wii             2016       0.18           1"
            ]
          },
          "metadata": {}
        }
      ]
    },
    {
      "cell_type": "markdown",
      "source": "Как видим, объем продаж игр на все платформы в 2016 году сильно снизился, по сравнению с объемом продаж в 2015 году.\n\nНаибольший объем продаж игр в 2016 году приходится на следующие платформы (от большего к меньшему): PS4, XOne, 3DS. Остальные платформы находятся на сопоставимом уровне, за исключением Wii, у которой в 2016 году была продана лишь одна игра.\n\nТаким образом, самыми прибыльными платформами в период 2015-2016 годов являются PS4, XOne и 3DS.\n",
      "metadata": {}
    },
    {
      "cell_type": "markdown",
      "source": "### Проверка на наличие выбросов по объему продаж",
      "metadata": {}
    },
    {
      "cell_type": "code",
      "source": "sns.boxplot(x=df_new[\"platform\"], y=df_new[\"sales\"] )",
      "metadata": {
        "scrolled": true
      },
      "execution_count": 34,
      "outputs": [
        {
          "execution_count": 34,
          "output_type": "execute_result",
          "data": {
            "text/plain": [
              "<AxesSubplot:xlabel='platform', ylabel='sales'>"
            ]
          },
          "metadata": {}
        },
        {
          "output_type": "display_data",
          "data": {
            "image/png": "[encoded data removed]",
            "text/plain": [
              "<Figure size 432x288 with 1 Axes>"
            ]
          },
          "metadata": {
            "needs_background": "light"
          }
        }
      ]
    },
    {
      "cell_type": "code",
      "source": "plt.figure(figsize=(15, 10))\nplt.ylim((None, 3))\nsns.boxplot(x=df_new[\"platform\"], y=df_new[\"sales\"] )",
      "metadata": {},
      "execution_count": 35,
      "outputs": [
        {
          "execution_count": 35,
          "output_type": "execute_result",
          "data": {
            "text/plain": [
              "<AxesSubplot:xlabel='platform', ylabel='sales'>"
            ]
          },
          "metadata": {}
        },
        {
          "output_type": "display_data",
          "data": {
            "image/png": "[encoded data removed]",
            "text/plain": [
              "<Figure size 1080x720 with 1 Axes>"
            ]
          },
          "metadata": {
            "needs_background": "light"
          }
        }
      ]
    },
    {
      "cell_type": "markdown",
      "source": "График «ящик с усами» по глобальным продажам игр в разбивке по платформам показывает, что по каждой платформе присутсвует большое количесвто выбросов, то есть присутсвуют игры, объем продаж которых сильно превышает уровень продажи большинства игр по платформе.",
      "metadata": {}
    },
    {
      "cell_type": "markdown",
      "source": "### Определение влияния оценок критиков и пользователей на объем продаж игр",
      "metadata": {}
    },
    {
      "cell_type": "code",
      "source": "ps_4 = df_new.query('platform == \"PS4\"')\nx_one = df_new.query('platform == \"XOne\"')\nds_3 =  df_new.query('platform == \"3DS\"')",
      "metadata": {
        "scrolled": true
      },
      "execution_count": 36,
      "outputs": []
    },
    {
      "cell_type": "markdown",
      "source": "Создали таблицы по самым популярным платформам по уровню продаж игр на момент 2016 года.",
      "metadata": {}
    },
    {
      "cell_type": "code",
      "source": "plt.figure(figsize=(10, 7))\nsns.regplot(x=ps_4[\"critic_score\"], y=ps_4[\"sales\"], label=\"PS4\")\nsns.regplot(x=x_one[\"critic_score\"], y=x_one[\"sales\"], label=\"XOne\")\nsns.regplot(x=ds_3[\"critic_score\"], y=ds_3[\"sales\"], label=\"3DS\")\nplt.legend()\nplt.title('Влияние рейтинга критиков на объем продаж игр в период 2014-2016 годов')\nplt.xlabel('Рейтинг критиков')\nplt.ylabel('Объем продаж игр')\nplt.legend()\nplt.grid(True)",
      "metadata": {
        "scrolled": true
      },
      "execution_count": 37,
      "outputs": [
        {
          "output_type": "display_data",
          "data": {
            "image/png": "[encoded data removed]",
            "text/plain": [
              "<Figure size 720x504 with 1 Axes>"
            ]
          },
          "metadata": {
            "needs_background": "light"
          }
        }
      ]
    },
    {
      "cell_type": "markdown",
      "source": "На представленном графике можем заметить, что с ростом рейтинга критиков игры растет и суммарный объем продаж.",
      "metadata": {}
    },
    {
      "cell_type": "code",
      "source": "ps_4['sales'].corr(ps_4['critic_score'])",
      "metadata": {},
      "execution_count": 38,
      "outputs": [
        {
          "execution_count": 38,
          "output_type": "execute_result",
          "data": {
            "text/plain": [
              "0.40266141068104094"
            ]
          },
          "metadata": {}
        }
      ]
    },
    {
      "cell_type": "code",
      "source": "x_one['sales'].corr(x_one['critic_score'])",
      "metadata": {},
      "execution_count": 39,
      "outputs": [
        {
          "execution_count": 39,
          "output_type": "execute_result",
          "data": {
            "text/plain": [
              "0.42867694370333226"
            ]
          },
          "metadata": {}
        }
      ]
    },
    {
      "cell_type": "code",
      "source": "ds_3['sales'].corr(ds_3['critic_score'])",
      "metadata": {
        "scrolled": true
      },
      "execution_count": 40,
      "outputs": [
        {
          "execution_count": 40,
          "output_type": "execute_result",
          "data": {
            "text/plain": [
              "0.31411749286905105"
            ]
          },
          "metadata": {}
        }
      ]
    },
    {
      "cell_type": "markdown",
      "source": "Коэффициент корреляции между объемом продаж игр на платформах PS4 и Xone и оценок критиков составляет примерно 0.4, что свидетельствует об умеренной прямой связи между данными показателями, то есть можем говорить о наличии умеренной связи.\nКоэффициент корреляции для платформы 3DS ниже, однако связь также присутсвует.",
      "metadata": {}
    },
    {
      "cell_type": "code",
      "source": "plt.figure(figsize=(10, 7))\nsns.regplot(x=ps_4[\"user_score\"], y=ps_4[\"sales\"], label=\"PS4\")\nsns.regplot(x=x_one[\"user_score\"], y=x_one[\"sales\"], label=\"XOne\")\nsns.regplot(x=ds_3[\"user_score\"], y=ds_3[\"sales\"], label=\"3DS\")\nplt.title('Влияние рейтинга пользователей на объем продаж игр в период 2014-2016 годов')\nplt.xlabel('Рейтинг пользователей')\nplt.ylabel('Объем продаж игр')\nplt.legend()\nplt.grid(True)",
      "metadata": {},
      "execution_count": 41,
      "outputs": [
        {
          "output_type": "display_data",
          "data": {
            "image/png": "[encoded data removed]",
            "text/plain": [
              "<Figure size 720x504 with 1 Axes>"
            ]
          },
          "metadata": {
            "needs_background": "light"
          }
        }
      ]
    },
    {
      "cell_type": "code",
      "source": "ps_4['sales'].corr(ps_4['user_score'])",
      "metadata": {},
      "execution_count": 42,
      "outputs": [
        {
          "execution_count": 42,
          "output_type": "execute_result",
          "data": {
            "text/plain": [
              "-0.04013158947269733"
            ]
          },
          "metadata": {}
        }
      ]
    },
    {
      "cell_type": "code",
      "source": "x_one['sales'].corr(x_one['user_score'])",
      "metadata": {},
      "execution_count": 43,
      "outputs": [
        {
          "execution_count": 43,
          "output_type": "execute_result",
          "data": {
            "text/plain": [
              "-0.0703839280647581"
            ]
          },
          "metadata": {}
        }
      ]
    },
    {
      "cell_type": "markdown",
      "source": "В отличии от влияние рейтинга критиков, связь между оценками пользователей и объемом продаж игр для платформ PS4 и XOne отсутсвует.",
      "metadata": {}
    },
    {
      "cell_type": "code",
      "source": "ds_3['sales'].corr(ds_3['user_score'])",
      "metadata": {
        "scrolled": true
      },
      "execution_count": 44,
      "outputs": [
        {
          "execution_count": 44,
          "output_type": "execute_result",
          "data": {
            "text/plain": [
              "0.2151932718527028"
            ]
          },
          "metadata": {}
        }
      ]
    },
    {
      "cell_type": "markdown",
      "source": "Для платформы 3DS между оценками пользователей и объемом продаж игр присутсвует слабая корреляционная связь",
      "metadata": {}
    },
    {
      "cell_type": "code",
      "source": "df_new['sales'].corr(df_new['critic_score'])",
      "metadata": {
        "scrolled": true
      },
      "execution_count": 45,
      "outputs": [
        {
          "execution_count": 45,
          "output_type": "execute_result",
          "data": {
            "text/plain": [
              "0.32810508696636304"
            ]
          },
          "metadata": {}
        }
      ]
    },
    {
      "cell_type": "code",
      "source": "df_new.query('platform != [\"PS4\", \"XOne\", \"3DS\"]')['sales'].corr(df_new['critic_score'])\n",
      "metadata": {
        "scrolled": true
      },
      "execution_count": 46,
      "outputs": [
        {
          "execution_count": 46,
          "output_type": "execute_result",
          "data": {
            "text/plain": [
              "0.20566389006331334"
            ]
          },
          "metadata": {}
        }
      ]
    },
    {
      "cell_type": "markdown",
      "source": "По всем платформам вместе взятым влияние оценок критиков на объем продаж существенно ниже, чем на самых популярных платформах, поэтому можем заключить, что влияние оценок критиков по платформам, кроме PS4, XOne и 3DS отсутсвует.",
      "metadata": {}
    },
    {
      "cell_type": "code",
      "source": "df_new['sales'].corr(df_new['user_score'])",
      "metadata": {},
      "execution_count": 47,
      "outputs": [
        {
          "execution_count": 47,
          "output_type": "execute_result",
          "data": {
            "text/plain": [
              "-0.013070305002484557"
            ]
          },
          "metadata": {}
        }
      ]
    },
    {
      "cell_type": "markdown",
      "source": "Оценки пользователей также не оказывают влияния на уровень продаж игр.",
      "metadata": {}
    },
    {
      "cell_type": "markdown",
      "source": "Таким образом, присутсвует умеренная корреляционная связь между оценкой критиков и объемом продаж игр на платформах PS4, XOne и 3DS. \nВлияние оценок пользователей на уровень продаж слабое по платформам, кроме PS4, XOne и 3DS (по остальным платформам отсутствует).",
      "metadata": {}
    },
    {
      "cell_type": "markdown",
      "source": "### Определение самых прибыльных жанров игр",
      "metadata": {}
    },
    {
      "cell_type": "code",
      "source": "df_new.pivot_table(index=['genre'], values='sales', aggfunc=['sum', 'mean', 'median']).sort_values(by=('median', 'sales'), ascending=False)",
      "metadata": {},
      "execution_count": 48,
      "outputs": [
        {
          "execution_count": 48,
          "output_type": "execute_result",
          "data": {
            "text/html": [
              "<div>\n",
              "<style scoped>\n",
              "    .dataframe tbody tr th:only-of-type {\n",
              "        vertical-align: middle;\n",
              "    }\n",
              "\n",
              "    .dataframe tbody tr th {\n",
              "        vertical-align: top;\n",
              "    }\n",
              "\n",
              "    .dataframe thead tr th {\n",
              "        text-align: left;\n",
              "    }\n",
              "\n",
              "    .dataframe thead tr:last-of-type th {\n",
              "        text-align: right;\n",
              "    }\n",
              "</style>\n",
              "<table border=\"1\" class=\"dataframe\">\n",
              "  <thead>\n",
              "    <tr>\n",
              "      <th></th>\n",
              "      <th>sum</th>\n",
              "      <th>mean</th>\n",
              "      <th>median</th>\n",
              "    </tr>\n",
              "    <tr>\n",
              "      <th></th>\n",
              "      <th>sales</th>\n",
              "      <th>sales</th>\n",
              "      <th>sales</th>\n",
              "    </tr>\n",
              "    <tr>\n",
              "      <th>genre</th>\n",
              "      <th></th>\n",
              "      <th></th>\n",
              "      <th></th>\n",
              "    </tr>\n",
              "  </thead>\n",
              "  <tbody>\n",
              "    <tr>\n",
              "      <th>Shooter</th>\n",
              "      <td>170.94</td>\n",
              "      <td>1.335469</td>\n",
              "      <td>0.515</td>\n",
              "    </tr>\n",
              "    <tr>\n",
              "      <th>Sports</th>\n",
              "      <td>109.48</td>\n",
              "      <td>0.680000</td>\n",
              "      <td>0.180</td>\n",
              "    </tr>\n",
              "    <tr>\n",
              "      <th>Platform</th>\n",
              "      <td>18.09</td>\n",
              "      <td>0.476053</td>\n",
              "      <td>0.140</td>\n",
              "    </tr>\n",
              "    <tr>\n",
              "      <th>Fighting</th>\n",
              "      <td>28.22</td>\n",
              "      <td>0.470333</td>\n",
              "      <td>0.125</td>\n",
              "    </tr>\n",
              "    <tr>\n",
              "      <th>Role-Playing</th>\n",
              "      <td>101.44</td>\n",
              "      <td>0.459005</td>\n",
              "      <td>0.110</td>\n",
              "    </tr>\n",
              "    <tr>\n",
              "      <th>Simulation</th>\n",
              "      <td>13.13</td>\n",
              "      <td>0.298409</td>\n",
              "      <td>0.100</td>\n",
              "    </tr>\n",
              "    <tr>\n",
              "      <th>Action</th>\n",
              "      <td>199.36</td>\n",
              "      <td>0.322068</td>\n",
              "      <td>0.090</td>\n",
              "    </tr>\n",
              "    <tr>\n",
              "      <th>Misc</th>\n",
              "      <td>37.55</td>\n",
              "      <td>0.332301</td>\n",
              "      <td>0.090</td>\n",
              "    </tr>\n",
              "    <tr>\n",
              "      <th>Racing</th>\n",
              "      <td>27.52</td>\n",
              "      <td>0.398841</td>\n",
              "      <td>0.090</td>\n",
              "    </tr>\n",
              "    <tr>\n",
              "      <th>Strategy</th>\n",
              "      <td>3.96</td>\n",
              "      <td>0.107027</td>\n",
              "      <td>0.060</td>\n",
              "    </tr>\n",
              "    <tr>\n",
              "      <th>Puzzle</th>\n",
              "      <td>2.21</td>\n",
              "      <td>0.157857</td>\n",
              "      <td>0.045</td>\n",
              "    </tr>\n",
              "    <tr>\n",
              "      <th>Adventure</th>\n",
              "      <td>17.55</td>\n",
              "      <td>0.094865</td>\n",
              "      <td>0.030</td>\n",
              "    </tr>\n",
              "  </tbody>\n",
              "</table>\n",
              "</div>"
            ],
            "text/plain": [
              "                 sum      mean median\n",
              "               sales     sales  sales\n",
              "genre                                \n",
              "Shooter       170.94  1.335469  0.515\n",
              "Sports        109.48  0.680000  0.180\n",
              "Platform       18.09  0.476053  0.140\n",
              "Fighting       28.22  0.470333  0.125\n",
              "Role-Playing  101.44  0.459005  0.110\n",
              "Simulation     13.13  0.298409  0.100\n",
              "Action        199.36  0.322068  0.090\n",
              "Misc           37.55  0.332301  0.090\n",
              "Racing         27.52  0.398841  0.090\n",
              "Strategy        3.96  0.107027  0.060\n",
              "Puzzle          2.21  0.157857  0.045\n",
              "Adventure      17.55  0.094865  0.030"
            ]
          },
          "metadata": {}
        }
      ]
    },
    {
      "cell_type": "markdown",
      "source": "Самыми прибильными жанрами по суммарному объему продаж является Action, затем Shooter и Sports.\n\nОднако по медианному объему продаж на одну игру самыми прибыльными жанрами являются Shooter, Sports и Platform.\n\nСреди самых неприбыльных жанров, как по общему объему продаж, так и по среднему на одну игру, можем отметить Adventure, Strategy и Puzzle.\n\nТаким образом, самыми прибыльными жанрами являются Shooter, Sports и Platform.",
      "metadata": {}
    },
    {
      "cell_type": "markdown",
      "source": "## Портрет пользователя каждого региона",
      "metadata": {}
    },
    {
      "cell_type": "markdown",
      "source": "### Самые популярные платформы (топ-5) для разных регионов",
      "metadata": {}
    },
    {
      "cell_type": "code",
      "source": "df_new.pivot_table(index=['year_of_release', 'platform'], \n    values='na_sales', aggfunc='sum').unstack().plot(figsize=(15, 10), \n    title='Сравнение суммарного объема продаж игр по каждой платформе в Северной Америке', grid=True)",
      "metadata": {},
      "execution_count": 49,
      "outputs": [
        {
          "execution_count": 49,
          "output_type": "execute_result",
          "data": {
            "text/plain": [
              "<AxesSubplot:title={'center':'Сравнение суммарного объема продаж игр по каждой платформе в Северной Америке'}, xlabel='year_of_release'>"
            ]
          },
          "metadata": {}
        },
        {
          "output_type": "display_data",
          "data": {
            "image/png": "[encoded data removed]",
            "text/plain": [
              "<Figure size 1080x720 with 1 Axes>"
            ]
          },
          "metadata": {
            "needs_background": "light"
          }
        }
      ]
    },
    {
      "cell_type": "markdown",
      "source": "Самыми популярными платформами в Северной Америке по суммарному объему продаж игр в 2016 году (наиболее актуальные данные) являются PS4, XOne, 3DS, WiiU и PC.  \nПричем PS4 и XOne сушественно опережают остальные платформы.",
      "metadata": {}
    },
    {
      "cell_type": "code",
      "source": "df_new.pivot_table(index=['year_of_release', 'platform'], \n    values='eu_sales', aggfunc='sum').unstack().plot(figsize=(15, 10), \n    title='Сравнение суммарного объема продаж игр по каждой платформе в Европе', grid=True)",
      "metadata": {},
      "execution_count": 50,
      "outputs": [
        {
          "execution_count": 50,
          "output_type": "execute_result",
          "data": {
            "text/plain": [
              "<AxesSubplot:title={'center':'Сравнение суммарного объема продаж игр по каждой платформе в Европе'}, xlabel='year_of_release'>"
            ]
          },
          "metadata": {}
        },
        {
          "output_type": "display_data",
          "data": {
            "image/png": "[encoded data removed]",
            "text/plain": [
              "<Figure size 1080x720 with 1 Axes>"
            ]
          },
          "metadata": {
            "needs_background": "light"
          }
        }
      ]
    },
    {
      "cell_type": "markdown",
      "source": "Самыми популярными платформами по суммарному объему продаж в Европе на момент 2016 года являются PS4, XOne, PC и 3DS. Причем в 2016 году объем продаж игр на PS4 превышает более чем в 3 раза уровень продаж игр на XOne и 6 раз остальные платформы.",
      "metadata": {}
    },
    {
      "cell_type": "code",
      "source": "df_new.pivot_table(index=['year_of_release', 'platform'], \n    values='jp_sales', aggfunc='sum').unstack().plot(figsize=(15, 10), \n    title='Сравнение суммарного объема продаж игр по каждой платформе в Японии', grid=True)",
      "metadata": {},
      "execution_count": 51,
      "outputs": [
        {
          "execution_count": 51,
          "output_type": "execute_result",
          "data": {
            "text/plain": [
              "<AxesSubplot:title={'center':'Сравнение суммарного объема продаж игр по каждой платформе в Японии'}, xlabel='year_of_release'>"
            ]
          },
          "metadata": {}
        },
        {
          "output_type": "display_data",
          "data": {
            "image/png": "[encoded data removed]",
            "text/plain": [
              "<Figure size 1080x720 with 1 Axes>"
            ]
          },
          "metadata": {
            "needs_background": "light"
          }
        }
      ]
    },
    {
      "cell_type": "markdown",
      "source": "В японии же самыми популярной платформой по общему объему продаж игр является 3DS. Следом идут PS4, PSV, PS3 и WiiU.",
      "metadata": {}
    },
    {
      "cell_type": "code",
      "source": "df_2016 = df_new.query('year_of_release == 2016')\nplatform = df_2016.pivot_table(index='platform', \n    values=['na_sales', 'eu_sales', 'jp_sales'], aggfunc='sum')\nplatform['na_share'] = platform['na_sales']/platform['na_sales'].sum()\nplatform['eu_share'] = platform['eu_sales']/platform['eu_sales'].sum()\nplatform['jp_share'] = platform['jp_sales']/platform['jp_sales'].sum()\nplatform.sort_values(by=['na_share', 'eu_share', 'jp_share'], ascending=False)\n#platform.unstack().plot(y='share', figsize=(15, 10)).set_xticks(range(2014, 2016))",
      "metadata": {
        "scrolled": true
      },
      "execution_count": 52,
      "outputs": [
        {
          "execution_count": 52,
          "output_type": "execute_result",
          "data": {
            "text/html": [
              "<div>\n",
              "<style scoped>\n",
              "    .dataframe tbody tr th:only-of-type {\n",
              "        vertical-align: middle;\n",
              "    }\n",
              "\n",
              "    .dataframe tbody tr th {\n",
              "        vertical-align: top;\n",
              "    }\n",
              "\n",
              "    .dataframe thead th {\n",
              "        text-align: right;\n",
              "    }\n",
              "</style>\n",
              "<table border=\"1\" class=\"dataframe\">\n",
              "  <thead>\n",
              "    <tr style=\"text-align: right;\">\n",
              "      <th></th>\n",
              "      <th>eu_sales</th>\n",
              "      <th>jp_sales</th>\n",
              "      <th>na_sales</th>\n",
              "      <th>na_share</th>\n",
              "      <th>eu_share</th>\n",
              "      <th>jp_share</th>\n",
              "    </tr>\n",
              "    <tr>\n",
              "      <th>platform</th>\n",
              "      <th></th>\n",
              "      <th></th>\n",
              "      <th></th>\n",
              "      <th></th>\n",
              "      <th></th>\n",
              "      <th></th>\n",
              "    </tr>\n",
              "  </thead>\n",
              "  <tbody>\n",
              "    <tr>\n",
              "      <th>PS4</th>\n",
              "      <td>31.78</td>\n",
              "      <td>5.74</td>\n",
              "      <td>21.49</td>\n",
              "      <td>0.478300</td>\n",
              "      <td>0.620461</td>\n",
              "      <td>0.297255</td>\n",
              "    </tr>\n",
              "    <tr>\n",
              "      <th>XOne</th>\n",
              "      <td>9.63</td>\n",
              "      <td>0.01</td>\n",
              "      <td>14.27</td>\n",
              "      <td>0.317605</td>\n",
              "      <td>0.188012</td>\n",
              "      <td>0.000518</td>\n",
              "    </tr>\n",
              "    <tr>\n",
              "      <th>3DS</th>\n",
              "      <td>2.33</td>\n",
              "      <td>8.03</td>\n",
              "      <td>4.14</td>\n",
              "      <td>0.092143</td>\n",
              "      <td>0.045490</td>\n",
              "      <td>0.415847</td>\n",
              "    </tr>\n",
              "    <tr>\n",
              "      <th>WiiU</th>\n",
              "      <td>1.48</td>\n",
              "      <td>0.67</td>\n",
              "      <td>2.10</td>\n",
              "      <td>0.046739</td>\n",
              "      <td>0.028895</td>\n",
              "      <td>0.034697</td>\n",
              "    </tr>\n",
              "    <tr>\n",
              "      <th>PC</th>\n",
              "      <td>3.53</td>\n",
              "      <td>0.00</td>\n",
              "      <td>1.36</td>\n",
              "      <td>0.030269</td>\n",
              "      <td>0.068918</td>\n",
              "      <td>0.000000</td>\n",
              "    </tr>\n",
              "    <tr>\n",
              "      <th>X360</th>\n",
              "      <td>0.71</td>\n",
              "      <td>0.00</td>\n",
              "      <td>0.69</td>\n",
              "      <td>0.015357</td>\n",
              "      <td>0.013862</td>\n",
              "      <td>0.000000</td>\n",
              "    </tr>\n",
              "    <tr>\n",
              "      <th>PS3</th>\n",
              "      <td>1.26</td>\n",
              "      <td>1.30</td>\n",
              "      <td>0.67</td>\n",
              "      <td>0.014912</td>\n",
              "      <td>0.024600</td>\n",
              "      <td>0.067323</td>\n",
              "    </tr>\n",
              "    <tr>\n",
              "      <th>PSV</th>\n",
              "      <td>0.39</td>\n",
              "      <td>3.56</td>\n",
              "      <td>0.15</td>\n",
              "      <td>0.003339</td>\n",
              "      <td>0.007614</td>\n",
              "      <td>0.184360</td>\n",
              "    </tr>\n",
              "    <tr>\n",
              "      <th>Wii</th>\n",
              "      <td>0.11</td>\n",
              "      <td>0.00</td>\n",
              "      <td>0.06</td>\n",
              "      <td>0.001335</td>\n",
              "      <td>0.002148</td>\n",
              "      <td>0.000000</td>\n",
              "    </tr>\n",
              "  </tbody>\n",
              "</table>\n",
              "</div>"
            ],
            "text/plain": [
              "          eu_sales  jp_sales  na_sales  na_share  eu_share  jp_share\n",
              "platform                                                            \n",
              "PS4          31.78      5.74     21.49  0.478300  0.620461  0.297255\n",
              "XOne          9.63      0.01     14.27  0.317605  0.188012  0.000518\n",
              "3DS           2.33      8.03      4.14  0.092143  0.045490  0.415847\n",
              "WiiU          1.48      0.67      2.10  0.046739  0.028895  0.034697\n",
              "PC            3.53      0.00      1.36  0.030269  0.068918  0.000000\n",
              "X360          0.71      0.00      0.69  0.015357  0.013862  0.000000\n",
              "PS3           1.26      1.30      0.67  0.014912  0.024600  0.067323\n",
              "PSV           0.39      3.56      0.15  0.003339  0.007614  0.184360\n",
              "Wii           0.11      0.00      0.06  0.001335  0.002148  0.000000"
            ]
          },
          "metadata": {}
        }
      ]
    },
    {
      "cell_type": "markdown",
      "source": "Доля продаж подтвердила полученные данные.   ",
      "metadata": {}
    },
    {
      "cell_type": "markdown",
      "source": " Таким образом, получили следующие данные:\n1. топ-5 самых популярных актуальных платформ в Северной Америке: \n- PS4 \n- XOne \n- 3DS \n- WiiU\n- PC \n2. топ-5 самых популярных актуальных платформ в Европе: \n- PS4 \n- XOne \n- PC\n- 3DS \n- WiiU\n3. топ-5 самых популярных актуальных платформ в Японии: \n- 3DS \n- PS4 \n- PSV \n- PS3\n- WiiU \n\nНамомним, что \"срок службы\" на такие платформы, как X360, PS3 и Wii подходит к концу (на них игры скоро перстанут выходить), поэтому использовали данные только за 2016 год.",
      "metadata": {}
    },
    {
      "cell_type": "markdown",
      "source": "### Самые популярные жанры (топ-5) для разных регионов",
      "metadata": {}
    },
    {
      "cell_type": "code",
      "source": "df_new.pivot_table(index='genre', values=['na_sales', 'eu_sales', 'jp_sales'], aggfunc=['sum', 'median'])",
      "metadata": {},
      "execution_count": 53,
      "outputs": [
        {
          "execution_count": 53,
          "output_type": "execute_result",
          "data": {
            "text/html": [
              "<div>\n",
              "<style scoped>\n",
              "    .dataframe tbody tr th:only-of-type {\n",
              "        vertical-align: middle;\n",
              "    }\n",
              "\n",
              "    .dataframe tbody tr th {\n",
              "        vertical-align: top;\n",
              "    }\n",
              "\n",
              "    .dataframe thead tr th {\n",
              "        text-align: left;\n",
              "    }\n",
              "\n",
              "    .dataframe thead tr:last-of-type th {\n",
              "        text-align: right;\n",
              "    }\n",
              "</style>\n",
              "<table border=\"1\" class=\"dataframe\">\n",
              "  <thead>\n",
              "    <tr>\n",
              "      <th></th>\n",
              "      <th colspan=\"3\" halign=\"left\">sum</th>\n",
              "      <th colspan=\"3\" halign=\"left\">median</th>\n",
              "    </tr>\n",
              "    <tr>\n",
              "      <th></th>\n",
              "      <th>eu_sales</th>\n",
              "      <th>jp_sales</th>\n",
              "      <th>na_sales</th>\n",
              "      <th>eu_sales</th>\n",
              "      <th>jp_sales</th>\n",
              "      <th>na_sales</th>\n",
              "    </tr>\n",
              "    <tr>\n",
              "      <th>genre</th>\n",
              "      <th></th>\n",
              "      <th></th>\n",
              "      <th></th>\n",
              "      <th></th>\n",
              "      <th></th>\n",
              "      <th></th>\n",
              "    </tr>\n",
              "  </thead>\n",
              "  <tbody>\n",
              "    <tr>\n",
              "      <th>Action</th>\n",
              "      <td>74.68</td>\n",
              "      <td>29.58</td>\n",
              "      <td>72.53</td>\n",
              "      <td>0.020</td>\n",
              "      <td>0.01</td>\n",
              "      <td>0.010</td>\n",
              "    </tr>\n",
              "    <tr>\n",
              "      <th>Adventure</th>\n",
              "      <td>6.49</td>\n",
              "      <td>3.60</td>\n",
              "      <td>5.64</td>\n",
              "      <td>0.000</td>\n",
              "      <td>0.01</td>\n",
              "      <td>0.000</td>\n",
              "    </tr>\n",
              "    <tr>\n",
              "      <th>Fighting</th>\n",
              "      <td>6.69</td>\n",
              "      <td>6.37</td>\n",
              "      <td>12.43</td>\n",
              "      <td>0.020</td>\n",
              "      <td>0.03</td>\n",
              "      <td>0.040</td>\n",
              "    </tr>\n",
              "    <tr>\n",
              "      <th>Misc</th>\n",
              "      <td>12.86</td>\n",
              "      <td>5.61</td>\n",
              "      <td>15.05</td>\n",
              "      <td>0.010</td>\n",
              "      <td>0.01</td>\n",
              "      <td>0.010</td>\n",
              "    </tr>\n",
              "    <tr>\n",
              "      <th>Platform</th>\n",
              "      <td>6.80</td>\n",
              "      <td>2.69</td>\n",
              "      <td>6.79</td>\n",
              "      <td>0.055</td>\n",
              "      <td>0.00</td>\n",
              "      <td>0.075</td>\n",
              "    </tr>\n",
              "    <tr>\n",
              "      <th>Puzzle</th>\n",
              "      <td>0.52</td>\n",
              "      <td>0.93</td>\n",
              "      <td>0.65</td>\n",
              "      <td>0.000</td>\n",
              "      <td>0.03</td>\n",
              "      <td>0.000</td>\n",
              "    </tr>\n",
              "    <tr>\n",
              "      <th>Racing</th>\n",
              "      <td>14.13</td>\n",
              "      <td>1.76</td>\n",
              "      <td>8.74</td>\n",
              "      <td>0.050</td>\n",
              "      <td>0.00</td>\n",
              "      <td>0.030</td>\n",
              "    </tr>\n",
              "    <tr>\n",
              "      <th>Role-Playing</th>\n",
              "      <td>28.17</td>\n",
              "      <td>31.16</td>\n",
              "      <td>33.47</td>\n",
              "      <td>0.010</td>\n",
              "      <td>0.05</td>\n",
              "      <td>0.020</td>\n",
              "    </tr>\n",
              "    <tr>\n",
              "      <th>Shooter</th>\n",
              "      <td>65.52</td>\n",
              "      <td>4.87</td>\n",
              "      <td>79.02</td>\n",
              "      <td>0.220</td>\n",
              "      <td>0.00</td>\n",
              "      <td>0.220</td>\n",
              "    </tr>\n",
              "    <tr>\n",
              "      <th>Simulation</th>\n",
              "      <td>7.30</td>\n",
              "      <td>2.31</td>\n",
              "      <td>2.63</td>\n",
              "      <td>0.030</td>\n",
              "      <td>0.00</td>\n",
              "      <td>0.000</td>\n",
              "    </tr>\n",
              "    <tr>\n",
              "      <th>Sports</th>\n",
              "      <td>45.73</td>\n",
              "      <td>3.26</td>\n",
              "      <td>46.13</td>\n",
              "      <td>0.050</td>\n",
              "      <td>0.00</td>\n",
              "      <td>0.070</td>\n",
              "    </tr>\n",
              "    <tr>\n",
              "      <th>Strategy</th>\n",
              "      <td>1.79</td>\n",
              "      <td>0.95</td>\n",
              "      <td>0.98</td>\n",
              "      <td>0.010</td>\n",
              "      <td>0.00</td>\n",
              "      <td>0.000</td>\n",
              "    </tr>\n",
              "  </tbody>\n",
              "</table>\n",
              "</div>"
            ],
            "text/plain": [
              "                  sum                     median                  \n",
              "             eu_sales jp_sales na_sales eu_sales jp_sales na_sales\n",
              "genre                                                             \n",
              "Action          74.68    29.58    72.53    0.020     0.01    0.010\n",
              "Adventure        6.49     3.60     5.64    0.000     0.01    0.000\n",
              "Fighting         6.69     6.37    12.43    0.020     0.03    0.040\n",
              "Misc            12.86     5.61    15.05    0.010     0.01    0.010\n",
              "Platform         6.80     2.69     6.79    0.055     0.00    0.075\n",
              "Puzzle           0.52     0.93     0.65    0.000     0.03    0.000\n",
              "Racing          14.13     1.76     8.74    0.050     0.00    0.030\n",
              "Role-Playing    28.17    31.16    33.47    0.010     0.05    0.020\n",
              "Shooter         65.52     4.87    79.02    0.220     0.00    0.220\n",
              "Simulation       7.30     2.31     2.63    0.030     0.00    0.000\n",
              "Sports          45.73     3.26    46.13    0.050     0.00    0.070\n",
              "Strategy         1.79     0.95     0.98    0.010     0.00    0.000"
            ]
          },
          "metadata": {}
        }
      ]
    },
    {
      "cell_type": "markdown",
      "source": "Создали таблицу с суммарным объемом продаж по каждому жанру в разных регионах.",
      "metadata": {}
    },
    {
      "cell_type": "markdown",
      "source": "Топ-5 самых популярных жанров:\n1. в Северной Америке:\n- Platform\n- Sports\n- Fighting\n- Racing\n- Shooter\n2. в Европе:\n- Platform\n- Racing\n- Sports\n- Simulation\n- Action, Fighting \t\n3. в Японии:\n- Role-Playing\n- Puzzle\n- Fighting\n- Misc\n- Action, Adventure\n  \nКак видим, популярные жанры игр в разных регионах похожи. В Северной Америке и Европе топ-4 жанров идентичны. В Японии популярные жанры игр немногим отличается.",
      "metadata": {}
    },
    {
      "cell_type": "markdown",
      "source": "### Влияние рейтинга ESRB на продажи в отдельном регионе",
      "metadata": {}
    },
    {
      "cell_type": "code",
      "source": "df_new['rating'] = df_new['rating'].fillna('Not_rating')",
      "metadata": {
        "scrolled": true
      },
      "execution_count": 54,
      "outputs": [
        {
          "name": "stderr",
          "output_type": "stream",
          "text": "/tmp/ipykernel_43/1096716113.py:1: SettingWithCopyWarning: \n\nA value is trying to be set on a copy of a slice from a DataFrame.\n\nTry using .loc[row_indexer,col_indexer] = value instead\n\n\n\nSee the caveats in the documentation: https://pandas.pydata.org/pandas-docs/stable/user_guide/indexing.html#returning-a-view-versus-a-copy\n\n  df_new['rating'] = df_new['rating'].fillna('Not_rating')\n"
        }
      ]
    },
    {
      "cell_type": "code",
      "source": "df_new.pivot_table(index='rating', \n    values=['na_sales', 'eu_sales', 'jp_sales'], aggfunc='sum').sort_values(by=['na_sales', 'eu_sales', 'jp_sales'], ascending=False)",
      "metadata": {},
      "execution_count": 55,
      "outputs": [
        {
          "execution_count": 55,
          "output_type": "execute_result",
          "data": {
            "text/html": [
              "<div>\n",
              "<style scoped>\n",
              "    .dataframe tbody tr th:only-of-type {\n",
              "        vertical-align: middle;\n",
              "    }\n",
              "\n",
              "    .dataframe tbody tr th {\n",
              "        vertical-align: top;\n",
              "    }\n",
              "\n",
              "    .dataframe thead th {\n",
              "        text-align: right;\n",
              "    }\n",
              "</style>\n",
              "<table border=\"1\" class=\"dataframe\">\n",
              "  <thead>\n",
              "    <tr style=\"text-align: right;\">\n",
              "      <th></th>\n",
              "      <th>eu_sales</th>\n",
              "      <th>jp_sales</th>\n",
              "      <th>na_sales</th>\n",
              "    </tr>\n",
              "    <tr>\n",
              "      <th>rating</th>\n",
              "      <th></th>\n",
              "      <th></th>\n",
              "      <th></th>\n",
              "    </tr>\n",
              "  </thead>\n",
              "  <tbody>\n",
              "    <tr>\n",
              "      <th>M</th>\n",
              "      <td>93.44</td>\n",
              "      <td>8.01</td>\n",
              "      <td>96.42</td>\n",
              "    </tr>\n",
              "    <tr>\n",
              "      <th>Not_rating</th>\n",
              "      <td>58.95</td>\n",
              "      <td>56.90</td>\n",
              "      <td>64.72</td>\n",
              "    </tr>\n",
              "    <tr>\n",
              "      <th>E</th>\n",
              "      <td>58.06</td>\n",
              "      <td>8.94</td>\n",
              "      <td>50.74</td>\n",
              "    </tr>\n",
              "    <tr>\n",
              "      <th>T</th>\n",
              "      <td>34.07</td>\n",
              "      <td>14.78</td>\n",
              "      <td>38.95</td>\n",
              "    </tr>\n",
              "    <tr>\n",
              "      <th>E10+</th>\n",
              "      <td>26.16</td>\n",
              "      <td>4.46</td>\n",
              "      <td>33.23</td>\n",
              "    </tr>\n",
              "  </tbody>\n",
              "</table>\n",
              "</div>"
            ],
            "text/plain": [
              "            eu_sales  jp_sales  na_sales\n",
              "rating                                  \n",
              "M              93.44      8.01     96.42\n",
              "Not_rating     58.95     56.90     64.72\n",
              "E              58.06      8.94     50.74\n",
              "T              34.07     14.78     38.95\n",
              "E10+           26.16      4.46     33.23"
            ]
          },
          "metadata": {}
        }
      ]
    },
    {
      "cell_type": "markdown",
      "source": "Рейтинг ESRB присвает игре возрастной рейтинг, то есть определяет для какой возрастной группы подходит та или иная игра.\n\nВ Европе и Северной Америке больше всего игр продано с рейтингом М («Mature» — от 17 лет), затем следует Е («Everyone» — для всех) и Т («Teen» — подросткам).  \nВ Японии же большинство проданных игр имеют рейтинг T, затем E и М.  \nМеньше всего игр во всех регионах продано с рейтингом Е10+ («Everyone 10 and older» — для всех старше 10 лет).\n\nКроме того, существенное количество занимают игры без рейтинга (с пропуском в столбце `rating`). Так, в Европе и Северной Америке по объему продаж они находятся на втором месте, а в Японии и вовсе на первом, поэтому однозначных выводов о рейтинге ESRB с самыми продаваемыми играми сделать не можем. Пропуски могли появится как по причине отсутствия рейтинга от данной организации игры как такового, так и по проичине наличия пропуска в представленных данных.",
      "metadata": {}
    },
    {
      "cell_type": "markdown",
      "source": "## Проверка гипотез",
      "metadata": {}
    },
    {
      "cell_type": "markdown",
      "source": "### Средние пользовательские рейтинги платформ Xbox One и PC одинаковые",
      "metadata": {}
    },
    {
      "cell_type": "markdown",
      "source": "Нулевая гипотеза: средние пользовательские рейтинги платформ Xbox One и PC равны\n\nАльтернативная гипотеза: средние пользовательские рейтинги платформ Xbox One и PC не равны\n\nНеобходимо установить одинаковые ли пользовательские рейтинги игр на двух платформах. Соотвественно, нулевая гипотеза гласит, что одинаковые. Поскольку проводим двухсторонний тест, то альтернативная гипотеза является обратной нулевой (рейтинги на разных платформах не равны).",
      "metadata": {}
    },
    {
      "cell_type": "code",
      "source": "x_one = df_new.query('platform == \"XOne\"')\npc = df_new.query('platform == \"PC\"')\nx_one = x_one.dropna(subset = ['user_score'])\npc = pc.dropna(subset = ['user_score'])",
      "metadata": {},
      "execution_count": 56,
      "outputs": []
    },
    {
      "cell_type": "markdown",
      "source": "В колонке `user_score` остались пропуски, поэтому, чтобы посчитать значение p-value, их необходимо удалить.",
      "metadata": {}
    },
    {
      "cell_type": "code",
      "source": "x_one['user_score'].var()",
      "metadata": {},
      "execution_count": 57,
      "outputs": [
        {
          "execution_count": 57,
          "output_type": "execute_result",
          "data": {
            "text/plain": [
              "1.8910066518847013"
            ]
          },
          "metadata": {}
        }
      ]
    },
    {
      "cell_type": "code",
      "source": "pc['user_score'].var()",
      "metadata": {},
      "execution_count": 58,
      "outputs": [
        {
          "execution_count": 58,
          "output_type": "execute_result",
          "data": {
            "text/plain": [
              "2.901154315133451"
            ]
          },
          "metadata": {}
        }
      ]
    },
    {
      "cell_type": "code",
      "source": "result = st.ttest_ind(x_one['user_score'], pc['user_score'], equal_var = False)\nalpha = 0.05\nprint('p-значение:', result.pvalue)\nif result.pvalue < alpha:\n    print(\"Нулевая гипотеза маловероятна\")\nelse:\n    print(\"Нулевая гипотеза вероятна\") ",
      "metadata": {
        "scrolled": true
      },
      "execution_count": 59,
      "outputs": [
        {
          "name": "stdout",
          "output_type": "stream",
          "text": "p-значение: 0.11601398086668827\n\nНулевая гипотеза вероятна\n"
        }
      ]
    },
    {
      "cell_type": "code",
      "source": "print('Средние пользовательские рейтинги платформы Xbox One', x_one['user_score'].mean())\nprint('Средние пользовательские рейтинги платформы PC', pc['user_score'].mean())",
      "metadata": {},
      "execution_count": 60,
      "outputs": [
        {
          "name": "stdout",
          "output_type": "stream",
          "text": "Средние пользовательские рейтинги платформы Xbox One 6.594545454545456\n\nСредние пользовательские рейтинги платформы PC 6.298360655737705\n"
        }
      ]
    },
    {
      "cell_type": "markdown",
      "source": "Для проверки гипотезы использовали критический уровень статистической значимости, равный 0.05.  \n\nУстановили параметр `equal_var = False`, так как выборки имеют разную дисперсию.\n\nНулевая гипотеза оказалась достаточно вероятной, поэтому можем предположить, что средние пользовательские рейтинги платформ Xbox One и PC являются равными.\nРасчет средних пользовательских рейтингов для платформ Xbox One и PC в представленной выборке показал, что для Xbox One он составляет 6.59, а для PC 6.3, что является достаточно близкими значениями.",
      "metadata": {}
    },
    {
      "cell_type": "markdown",
      "source": "### Средние пользовательские рейтинги жанров Action и Sports разные",
      "metadata": {}
    },
    {
      "cell_type": "markdown",
      "source": "Нулевая гипотеза: средние пользовательские рейтинги жанров Action и Sports равны\n\nАльтернативная гипотеза: средние пользовательские рейтинги жанров Action и Sports не равны  \n\nКак и при проверке первого теста, необходимо установить - являются ли средние пользовательские рейтинги двух жанров равными или нет. Поэтому нулевая гипотеза гласит, что рейтинги равны, а альтернативная, что не равны.",
      "metadata": {}
    },
    {
      "cell_type": "code",
      "source": "action = df_new.query('genre == \"Action\"')\nsports = df_new.query('genre == \"Sports\"')\naction = action.dropna(subset = ['user_score'])\nsports = sports.dropna(subset = ['user_score'])",
      "metadata": {},
      "execution_count": 61,
      "outputs": []
    },
    {
      "cell_type": "code",
      "source": "action['user_score'].var()",
      "metadata": {},
      "execution_count": 62,
      "outputs": [
        {
          "execution_count": 62,
          "output_type": "execute_result",
          "data": {
            "text/plain": [
              "1.8984766584766581"
            ]
          },
          "metadata": {}
        }
      ]
    },
    {
      "cell_type": "code",
      "source": "sports['user_score'].var()",
      "metadata": {},
      "execution_count": 63,
      "outputs": [
        {
          "execution_count": 63,
          "output_type": "execute_result",
          "data": {
            "text/plain": [
              "3.446979127609048"
            ]
          },
          "metadata": {}
        }
      ]
    },
    {
      "cell_type": "code",
      "source": "res = st.ttest_ind(action['user_score'], sports['user_score'], equal_var = False)\nalpha = 0.05\nprint('p-значение:', res.pvalue)\nif res.pvalue < alpha:\n    print(\"Нулевая гипотеза маловероятна\")\nelse:\n    print(\"Нулевая гипотеза вероятна\") ",
      "metadata": {},
      "execution_count": 64,
      "outputs": [
        {
          "name": "stdout",
          "output_type": "stream",
          "text": "p-значение: 1.1825550382644557e-14\n\nНулевая гипотеза маловероятна\n"
        }
      ]
    },
    {
      "cell_type": "code",
      "source": "print('Средние пользовательские рейтинги жанра Action', action['user_score'].mean())\nprint('Средние пользовательские рейтинги жанра Sports', sports['user_score'].mean())",
      "metadata": {},
      "execution_count": 65,
      "outputs": [
        {
          "name": "stdout",
          "output_type": "stream",
          "text": "Средние пользовательские рейтинги жанра Action 6.760606060606061\n\nСредние пользовательские рейтинги жанра Sports 5.2251968503937\n"
        }
      ]
    },
    {
      "cell_type": "markdown",
      "source": "Как и в первом тесте установили критический уровень статистической значимости, равный 0.05 (кроме того, p-значение также меньше 0.01).\n\nУстановили параметр `equal_var = False`, так как выборки имеют разную дисперсию.\n\nПо результатм теста данные показывают очень маловероятные результаты, что нулевая гипотеза верна, поэтому мы принимаем альтернативную гипотезу, соотвесвенно средние пользовательские рейтинги жанров Action и Sports не равны. Расчет среднего пользовательского рейтинга для данных жанров показал, что средний рейтинг для жанра Action составляет 6.76, а для Sports 5.23.",
      "metadata": {}
    },
    {
      "cell_type": "markdown",
      "source": "## Вывод",
      "metadata": {}
    },
    {
      "cell_type": "markdown",
      "source": "Актуальными платформами, на которые продолжают выходить игры являются 3DS, PC, PS3, PS4, Wii, X360, PSV и XOne.\n\nНаибольший объем продаж игр в 2016 году по всему миру приходится на такие платформы, как PS4, XOne, 3DS.  \nПри этом, топ-5 самых популярных актуальных платформ являются:\n- в Северной Америке: PS4, XOne, 3DS, WiiU,PC \n- в Европе: PS4, XOne, PC, 3DS, WiiU; \n- в Японии: 3DS, PS4, PSV, PS3, WiiU.\n\nСамыми прибильными жанрами по суммарному объему продаж в мире является Action, затем Sports и Shooter.  \nОднако по медианному объему продаж на одну игру самыми прибыльными жанрами являются Platform, Shooter и Sports.\nСреди самых неприбыльных жанров, как по общему объему продаж, так и по среднему на одну игру, можем отметить Adventure, Strategy и Puzzle.\nВ разных регионах топ-5 самых популярных жанров являются:\n- в Северной Америке: Platform, Sports, Fighting, Racing, Shooter\n- в Европе: Platform, Racing, Sports, Simulation, Action или Fighting \t\n- в Японии: Role-Playing, Puzzle, Fighting, Misc, Action или Adventure\n\nМежду оценкой критиков и объемом продаж игр на платформах PS4, XOne и 3DS присутсвует умеренная корреляционная связь, по остальным платформам связь отсутсвует.  \nВлияние оценок пользователей на уровень продаж слабое по платформам PS4, XOne и 3DS, а по остальным платформам отсутсвует.\n\nВ Европе и Северной Америке больше всего игр продано с рейтингом М («Mature» — от 17 лет), затем следует Е («Everyone» — для всех) и Т («Teen» — подросткам).  \nВ Японии же большинство проданных игр имеют рейтинг T, затем E и М.  \nМеньше всего игр во всех регионах продано с рейтингом Е10+ («Everyone 10 and older» — для всех старше 10 лет).  \nОднако существенное количество занимают игры без рейтинга. Так, в Европе и Северной Америке по объему продаж они находятся на втором месте, а в Японии и вовсе на первом, поэтому однозначных выводов о рейтинге ESRB с самыми продаваемыми играми сделать не можем, так как нет понимания - это пропуски в данных, или игра не была оценена компанией ESRB.\n\nТаким образом, факторы определяющие успешность игры (по прогнозу на 2017 год):\n- игра выходит на платформе PS4, XOne, PC, 3DS, WiiU (для Японии также PSV);\n- жанр игры: Platform, Shooter или Sports;\n- высокие оценки критиков (только по платформам PS4, XOne или 3DS);\n- возрастной рейтинг от организации ESRB: М, без рейтинга, Е или Т.\n\nИнтернет-магазину «Стримчик» при планировании рекламного бюджета стоит обратить внимание на игры (в каждом регионе все данные представлены от более популярного к менее популярному):\n1. в Северной Америке:\n- платформа: PS4, XOne, 3DS, WiiU, PC\n- жанр: Platform, Sports, Fighting, Racing, Shooter\n- рейтинг ESRB: М, без рейтинга, Е или Т\n- высокие оценки критиков и пользователей на игры по платформам PS4, XOne и 3DS\n2. в Европе:\n- платформа: PS4, XOne, PC, 3DS, WiiU\n- жанр: Platform, Racing, Sports, Simulation, Action или Fighting\n- рейтинг ESRB: М, без рейтинга, Е или Т\n- высокие оценки критиков и пользователей на игры по платформам PS4, XOne и 3DS\n3. в Японии:\n- платформа: 3DS, PS4, PSV, PS3, WiiU\n- жанр: Role-Playing, Puzzle, Fighting, Misc, Action или Adventure\n- рейтинг ESRB: без рейтинга, T, E или М\n- высокие оценки критиков и пользователей на игры по платформам PS4, XOne и 3DS",
      "metadata": {}
    }
  ]
}