{
 "cells": [
  {
   "cell_type": "markdown",
   "metadata": {
    "id": "E0vqbgi9ay0H"
   },
   "source": [
    "# Яндекс.Музыка"
   ]
  },
  {
   "cell_type": "markdown",
   "metadata": {
    "id": "VUC88oWjTJw2"
   },
   "source": [
    "Сравнение Москвы и Петербурга окружено мифами. Например:\n",
    " * Москва — мегаполис, подчинённый жёсткому ритму рабочей недели;\n",
    " * Петербург — культурная столица, со своими вкусами.\n",
    "\n",
    "На данных Яндекс.Музыки вы сравните поведение пользователей двух столиц.\n",
    "\n",
    "**Цель исследования** — проверьте три гипотезы:\n",
    "1. Активность пользователей зависит от дня недели. Причём в Москве и Петербурге это проявляется по-разному.\n",
    "2. В понедельник утром в Москве преобладают одни жанры, а в Петербурге — другие. Так же и вечером пятницы преобладают разные жанры — в зависимости от города. \n",
    "3. Москва и Петербург предпочитают разные жанры музыки. В Москве чаще слушают поп-музыку, в Петербурге — русский рэп.\n",
    "\n",
    "**Ход исследования**\n",
    "\n",
    "Данные о поведении пользователей вы получите из файла `yandex_music_project.csv`. О качестве данных ничего не известно. Поэтому перед проверкой гипотез понадобится обзор данных. \n",
    "\n",
    "Вы проверите данные на ошибки и оцените их влияние на исследование. Затем, на этапе предобработки вы поищете возможность исправить самые критичные ошибки данных.\n",
    " \n",
    "Таким образом, исследование пройдёт в три этапа:\n",
    " 1. Обзор данных.\n",
    " 2. Предобработка данных.\n",
    " 3. Проверка гипотез.\n",
    "\n"
   ]
  },
  {
   "cell_type": "markdown",
   "metadata": {
    "id": "Ml1hmfXC_Zcs"
   },
   "source": [
    "## Обзор данных\n",
    "\n",
    "Составьте первое представление о данных Яндекс.Музыки.\n",
    "\n",
    "\n"
   ]
  },
  {
   "cell_type": "markdown",
   "metadata": {
    "id": "57eAOGIz_Zcs"
   },
   "source": [
    "Основной инструмент аналитика — `pandas`. Импортируйте эту библиотеку."
   ]
  },
  {
   "cell_type": "code",
   "execution_count": 3,
   "metadata": {
    "id": "AXN7PHPN_Zcs"
   },
   "outputs": [],
   "source": [
    "import pandas as pd # импорт библиотеки pandas"
   ]
  },
  {
   "cell_type": "code",
   "execution_count": 4,
   "metadata": {
    "id": "fFVu7vqh_Zct"
   },
   "outputs": [],
   "source": [
    "df = pd.read_csv('/datasets/yandex_music_project.csv') # чтение файла с данными и сохранение в df"
   ]
  },
  {
   "cell_type": "markdown",
   "metadata": {
    "id": "rDoOMd3uTqnZ"
   },
   "source": [
    "Выведем на экран первые десять строк таблицы:"
   ]
  },
  {
   "cell_type": "code",
   "execution_count": 5,
   "metadata": {
    "id": "oWTVX3gW_Zct"
   },
   "outputs": [
    {
     "data": {
      "text/html": [
       "<div>\n",
       "<style scoped>\n",
       "    .dataframe tbody tr th:only-of-type {\n",
       "        vertical-align: middle;\n",
       "    }\n",
       "\n",
       "    .dataframe tbody tr th {\n",
       "        vertical-align: top;\n",
       "    }\n",
       "\n",
       "    .dataframe thead th {\n",
       "        text-align: right;\n",
       "    }\n",
       "</style>\n",
       "<table border=\"1\" class=\"dataframe\">\n",
       "  <thead>\n",
       "    <tr style=\"text-align: right;\">\n",
       "      <th></th>\n",
       "      <th>userID</th>\n",
       "      <th>Track</th>\n",
       "      <th>artist</th>\n",
       "      <th>genre</th>\n",
       "      <th>City</th>\n",
       "      <th>time</th>\n",
       "      <th>Day</th>\n",
       "    </tr>\n",
       "  </thead>\n",
       "  <tbody>\n",
       "    <tr>\n",
       "      <th>0</th>\n",
       "      <td>FFB692EC</td>\n",
       "      <td>Kamigata To Boots</td>\n",
       "      <td>The Mass Missile</td>\n",
       "      <td>rock</td>\n",
       "      <td>Saint-Petersburg</td>\n",
       "      <td>20:28:33</td>\n",
       "      <td>Wednesday</td>\n",
       "    </tr>\n",
       "    <tr>\n",
       "      <th>1</th>\n",
       "      <td>55204538</td>\n",
       "      <td>Delayed Because of Accident</td>\n",
       "      <td>Andreas Rönnberg</td>\n",
       "      <td>rock</td>\n",
       "      <td>Moscow</td>\n",
       "      <td>14:07:09</td>\n",
       "      <td>Friday</td>\n",
       "    </tr>\n",
       "    <tr>\n",
       "      <th>2</th>\n",
       "      <td>20EC38</td>\n",
       "      <td>Funiculì funiculà</td>\n",
       "      <td>Mario Lanza</td>\n",
       "      <td>pop</td>\n",
       "      <td>Saint-Petersburg</td>\n",
       "      <td>20:58:07</td>\n",
       "      <td>Wednesday</td>\n",
       "    </tr>\n",
       "    <tr>\n",
       "      <th>3</th>\n",
       "      <td>A3DD03C9</td>\n",
       "      <td>Dragons in the Sunset</td>\n",
       "      <td>Fire + Ice</td>\n",
       "      <td>folk</td>\n",
       "      <td>Saint-Petersburg</td>\n",
       "      <td>08:37:09</td>\n",
       "      <td>Monday</td>\n",
       "    </tr>\n",
       "    <tr>\n",
       "      <th>4</th>\n",
       "      <td>E2DC1FAE</td>\n",
       "      <td>Soul People</td>\n",
       "      <td>Space Echo</td>\n",
       "      <td>dance</td>\n",
       "      <td>Moscow</td>\n",
       "      <td>08:34:34</td>\n",
       "      <td>Monday</td>\n",
       "    </tr>\n",
       "    <tr>\n",
       "      <th>5</th>\n",
       "      <td>842029A1</td>\n",
       "      <td>Преданная</td>\n",
       "      <td>IMPERVTOR</td>\n",
       "      <td>rusrap</td>\n",
       "      <td>Saint-Petersburg</td>\n",
       "      <td>13:09:41</td>\n",
       "      <td>Friday</td>\n",
       "    </tr>\n",
       "    <tr>\n",
       "      <th>6</th>\n",
       "      <td>4CB90AA5</td>\n",
       "      <td>True</td>\n",
       "      <td>Roman Messer</td>\n",
       "      <td>dance</td>\n",
       "      <td>Moscow</td>\n",
       "      <td>13:00:07</td>\n",
       "      <td>Wednesday</td>\n",
       "    </tr>\n",
       "    <tr>\n",
       "      <th>7</th>\n",
       "      <td>F03E1C1F</td>\n",
       "      <td>Feeling This Way</td>\n",
       "      <td>Polina Griffith</td>\n",
       "      <td>dance</td>\n",
       "      <td>Moscow</td>\n",
       "      <td>20:47:49</td>\n",
       "      <td>Wednesday</td>\n",
       "    </tr>\n",
       "    <tr>\n",
       "      <th>8</th>\n",
       "      <td>8FA1D3BE</td>\n",
       "      <td>И вновь продолжается бой</td>\n",
       "      <td>NaN</td>\n",
       "      <td>ruspop</td>\n",
       "      <td>Moscow</td>\n",
       "      <td>09:17:40</td>\n",
       "      <td>Friday</td>\n",
       "    </tr>\n",
       "    <tr>\n",
       "      <th>9</th>\n",
       "      <td>E772D5C0</td>\n",
       "      <td>Pessimist</td>\n",
       "      <td>NaN</td>\n",
       "      <td>dance</td>\n",
       "      <td>Saint-Petersburg</td>\n",
       "      <td>21:20:49</td>\n",
       "      <td>Wednesday</td>\n",
       "    </tr>\n",
       "  </tbody>\n",
       "</table>\n",
       "</div>"
      ],
      "text/plain": [
       "     userID                        Track            artist   genre  \\\n",
       "0  FFB692EC            Kamigata To Boots  The Mass Missile    rock   \n",
       "1  55204538  Delayed Because of Accident  Andreas Rönnberg    rock   \n",
       "2    20EC38            Funiculì funiculà       Mario Lanza     pop   \n",
       "3  A3DD03C9        Dragons in the Sunset        Fire + Ice    folk   \n",
       "4  E2DC1FAE                  Soul People        Space Echo   dance   \n",
       "5  842029A1                    Преданная         IMPERVTOR  rusrap   \n",
       "6  4CB90AA5                         True      Roman Messer   dance   \n",
       "7  F03E1C1F             Feeling This Way   Polina Griffith   dance   \n",
       "8  8FA1D3BE     И вновь продолжается бой               NaN  ruspop   \n",
       "9  E772D5C0                    Pessimist               NaN   dance   \n",
       "\n",
       "             City        time        Day  \n",
       "0  Saint-Petersburg  20:28:33  Wednesday  \n",
       "1            Moscow  14:07:09     Friday  \n",
       "2  Saint-Petersburg  20:58:07  Wednesday  \n",
       "3  Saint-Petersburg  08:37:09     Monday  \n",
       "4            Moscow  08:34:34     Monday  \n",
       "5  Saint-Petersburg  13:09:41     Friday  \n",
       "6            Moscow  13:00:07  Wednesday  \n",
       "7            Moscow  20:47:49  Wednesday  \n",
       "8            Moscow  09:17:40     Friday  \n",
       "9  Saint-Petersburg  21:20:49  Wednesday  "
      ]
     },
     "execution_count": 5,
     "metadata": {},
     "output_type": "execute_result"
    }
   ],
   "source": [
    "df.head(10) # получение первых 10 строк таблицы df"
   ]
  },
  {
   "cell_type": "markdown",
   "metadata": {
    "id": "EO73Kwic_Zct"
   },
   "source": [
    "Получим общую информацию о таблице:"
   ]
  },
  {
   "cell_type": "code",
   "execution_count": 6,
   "metadata": {
    "id": "DSf2kIb-_Zct"
   },
   "outputs": [
    {
     "name": "stdout",
     "output_type": "stream",
     "text": [
      "<class 'pandas.core.frame.DataFrame'>\n",
      "RangeIndex: 65079 entries, 0 to 65078\n",
      "Data columns (total 7 columns):\n",
      " #   Column    Non-Null Count  Dtype \n",
      "---  ------    --------------  ----- \n",
      " 0     userID  65079 non-null  object\n",
      " 1   Track     63848 non-null  object\n",
      " 2   artist    57876 non-null  object\n",
      " 3   genre     63881 non-null  object\n",
      " 4     City    65079 non-null  object\n",
      " 5   time      65079 non-null  object\n",
      " 6   Day       65079 non-null  object\n",
      "dtypes: object(7)\n",
      "memory usage: 3.5+ MB\n"
     ]
    }
   ],
   "source": [
    "df.info() # получение общей информации о данных в таблице df"
   ]
  },
  {
   "cell_type": "markdown",
   "metadata": {
    "id": "TaQ2Iwbr_Zct"
   },
   "source": [
    "Итак, в таблице семь столбцов. Тип данных во всех столбцах — `object`.\n",
    "\n",
    "Согласно документации к данным:\n",
    "* `userID` — идентификатор пользователя;\n",
    "* `Track` — название трека;  \n",
    "* `artist` — имя исполнителя;\n",
    "* `genre` — название жанра;\n",
    "* `City` — город пользователя;\n",
    "* `time` — время начала прослушивания;\n",
    "* `Day` — день недели.\n",
    "\n",
    "В названиях колонок видны три нарушения стиля:\n",
    "1. Строчные буквы сочетаются с прописными.\n",
    "2. Встречаются пробелы.\n",
    "3. В названии колонки `userID` user и ID написано слитно, лучше использовать змениный регистр\n",
    "\n",
    "\n",
    "\n",
    "Количество значений в столбцах различается. Значит, в данных есть пропущенные значения.\n"
   ]
  },
  {
   "cell_type": "markdown",
   "metadata": {
    "id": "MCB6-dXG_Zct"
   },
   "source": [
    "**Выводы**\n",
    "\n",
    "В каждой строке таблицы — данные о прослушанном треке. Часть колонок описывает саму композицию: название, исполнителя и жанр. Остальные данные рассказывают о пользователе: из какого он города, когда он слушал музыку. \n",
    "\n",
    "Предварительно можно утверждать, что, данных достаточно для проверки гипотез. Но встречаются пропуски в данных, а в названиях колонок — расхождения с хорошим стилем.\n",
    "\n",
    "Чтобы двигаться дальше, нужно устранить проблемы в данных."
   ]
  },
  {
   "cell_type": "markdown",
   "metadata": {
    "id": "SjYF6Ub9_Zct"
   },
   "source": [
    "## Предобработка данных"
   ]
  },
  {
   "cell_type": "markdown",
   "metadata": {
    "id": "dIaKXr29_Zct"
   },
   "source": [
    "### Стиль заголовков"
   ]
  },
  {
   "cell_type": "code",
   "execution_count": 45,
   "metadata": {
    "id": "oKOTdF_Q_Zct"
   },
   "outputs": [
    {
     "data": {
      "text/plain": [
       "Index(['user_id', 'track', 'artist', 'genre', 'city', 'time', 'day'], dtype='object')"
      ]
     },
     "execution_count": 45,
     "metadata": {},
     "output_type": "execute_result"
    }
   ],
   "source": [
    "df.columns# перечень названий столбцов таблицы df"
   ]
  },
  {
   "cell_type": "code",
   "execution_count": 8,
   "metadata": {
    "id": "ISlFqs5y_Zct"
   },
   "outputs": [],
   "source": [
    "df = df.rename(columns={'  userID':'user_id', 'Track':'track', '  City  ':'city', 'Day':'day'})"
   ]
  },
  {
   "cell_type": "code",
   "execution_count": 9,
   "metadata": {
    "id": "d4NOAmTW_Zct"
   },
   "outputs": [
    {
     "data": {
      "text/plain": [
       "Index(['user_id', 'track', 'artist', 'genre', 'city', 'time', 'day'], dtype='object')"
      ]
     },
     "execution_count": 9,
     "metadata": {},
     "output_type": "execute_result"
    }
   ],
   "source": [
    "df.columns # проверка результатов - перечень названий столбцов"
   ]
  },
  {
   "cell_type": "markdown",
   "metadata": {},
   "source": [
    "Название столбцов приведено к змеиному регистру."
   ]
  },
  {
   "cell_type": "markdown",
   "metadata": {
    "id": "5ISfbcfY_Zct"
   },
   "source": [
    "### Пропуски значений"
   ]
  },
  {
   "cell_type": "code",
   "execution_count": 10,
   "metadata": {
    "id": "RskX29qr_Zct"
   },
   "outputs": [
    {
     "data": {
      "text/plain": [
       "user_id       0\n",
       "track      1231\n",
       "artist     7203\n",
       "genre      1198\n",
       "city          0\n",
       "time          0\n",
       "day           0\n",
       "dtype: int64"
      ]
     },
     "execution_count": 10,
     "metadata": {},
     "output_type": "execute_result"
    }
   ],
   "source": [
    "df.isna().sum()# подсчёт пропусков"
   ]
  },
  {
   "cell_type": "markdown",
   "metadata": {
    "id": "qubhgnlO_Zct"
   },
   "source": [
    "Не все пропущенные значения влияют на исследование. Так в `track` и `artist` пропуски не важны. Достаточно заменить их явными обозначениями.\n",
    "\n",
    "Но пропуски в `genre` могут помешать сравнению музыкальных вкусов в Москве и Санкт-Петербурге. На практике было бы правильно установить причину пропусков и восстановить данные. Такой возможности нет в учебном проекте. Придётся:\n",
    "* заполнить и эти пропуски явными обозначениями,\n",
    "* оценить, насколько они повредят расчётам. "
   ]
  },
  {
   "cell_type": "markdown",
   "metadata": {
    "id": "fSv2laPA_Zct"
   },
   "source": [
    "Заменим пропущенные значения в столбцах `track`, `artist` и `genre` на строку `'unknown'`. Для этого создим список `columns_to_replace`, переберем его элементы циклом `for` и для каждого столбца выполним замену пропущенных значений:"
   ]
  },
  {
   "cell_type": "code",
   "execution_count": 41,
   "metadata": {
    "id": "KplB5qWs_Zct"
   },
   "outputs": [],
   "source": [
    "columns_to_replace = ['track', 'artist', 'genre'] # перебор названий столбцов в цикле и замена пропущенных значений на 'unknown'\n",
    "for columns in columns_to_replace:\n",
    "    df[columns] = df[columns].fillna('unknown')"
   ]
  },
  {
   "cell_type": "markdown",
   "metadata": {
    "id": "Ilsm-MZo_Zct"
   },
   "source": [
    "Убедимся, что в таблице не осталось пропусков. Для этого ещё раз посчитаем пропущенные значения."
   ]
  },
  {
   "cell_type": "code",
   "execution_count": 42,
   "metadata": {
    "id": "Tq4nYRX4_Zct"
   },
   "outputs": [
    {
     "data": {
      "text/plain": [
       "user_id    0\n",
       "track      0\n",
       "artist     0\n",
       "genre      0\n",
       "city       0\n",
       "time       0\n",
       "day        0\n",
       "dtype: int64"
      ]
     },
     "execution_count": 42,
     "metadata": {},
     "output_type": "execute_result"
    }
   ],
   "source": [
    "df.isna().sum() # подсчёт пропусков"
   ]
  },
  {
   "cell_type": "markdown",
   "metadata": {
    "id": "BWKRtBJ3_Zct"
   },
   "source": [
    "### Дубликаты"
   ]
  },
  {
   "cell_type": "code",
   "execution_count": 13,
   "metadata": {
    "id": "36eES_S0_Zct"
   },
   "outputs": [
    {
     "data": {
      "text/plain": [
       "3826"
      ]
     },
     "execution_count": 13,
     "metadata": {},
     "output_type": "execute_result"
    }
   ],
   "source": [
    "df.duplicated().sum() # подсчёт явных дубликатов"
   ]
  },
  {
   "cell_type": "markdown",
   "metadata": {
    "id": "Ot25h6XR_Zct"
   },
   "source": [
    "В таблице присутствует 3826 дупликатов строк, удалим их:"
   ]
  },
  {
   "cell_type": "code",
   "execution_count": 14,
   "metadata": {
    "id": "exFHq6tt_Zct"
   },
   "outputs": [],
   "source": [
    "df = df.drop_duplicates().reset_index(drop = True) # удаление явных дубликатов (с удалением старых индексов и формированием новых)"
   ]
  },
  {
   "cell_type": "code",
   "execution_count": 15,
   "metadata": {
    "id": "-8PuNWQ0_Zct"
   },
   "outputs": [
    {
     "data": {
      "text/plain": [
       "0"
      ]
     },
     "execution_count": 15,
     "metadata": {},
     "output_type": "execute_result"
    }
   ],
   "source": [
    "df.duplicated().sum() # проверка на отсутствие дубликатов"
   ]
  },
  {
   "cell_type": "markdown",
   "metadata": {
    "id": "QlFBsxAr_Zct"
   },
   "source": [
    "Теперь избавимся от неявных дубликатов в колонке `genre`. Например, название одного и того же жанра может быть записано немного по-разному. Такие ошибки тоже повлияют на результат исследования."
   ]
  },
  {
   "cell_type": "code",
   "execution_count": 16,
   "metadata": {
    "id": "JIUcqzZN_Zct"
   },
   "outputs": [
    {
     "data": {
      "text/plain": [
       "array(['acid', 'acoustic', 'action', 'adult', 'africa', 'afrikaans',\n",
       "       'alternative', 'alternativepunk', 'ambient', 'americana',\n",
       "       'animated', 'anime', 'arabesk', 'arabic', 'arena',\n",
       "       'argentinetango', 'art', 'audiobook', 'author', 'avantgarde',\n",
       "       'axé', 'baile', 'balkan', 'beats', 'bigroom', 'black', 'bluegrass',\n",
       "       'blues', 'bollywood', 'bossa', 'brazilian', 'breakbeat', 'breaks',\n",
       "       'broadway', 'cantautori', 'cantopop', 'canzone', 'caribbean',\n",
       "       'caucasian', 'celtic', 'chamber', 'chanson', 'children', 'chill',\n",
       "       'chinese', 'choral', 'christian', 'christmas', 'classical',\n",
       "       'classicmetal', 'club', 'colombian', 'comedy', 'conjazz',\n",
       "       'contemporary', 'country', 'cuban', 'dance', 'dancehall',\n",
       "       'dancepop', 'dark', 'death', 'deep', 'deutschrock', 'deutschspr',\n",
       "       'dirty', 'disco', 'dnb', 'documentary', 'downbeat', 'downtempo',\n",
       "       'drum', 'dub', 'dubstep', 'eastern', 'easy', 'electronic',\n",
       "       'electropop', 'emo', 'entehno', 'epicmetal', 'estrada', 'ethnic',\n",
       "       'eurofolk', 'european', 'experimental', 'extrememetal', 'fado',\n",
       "       'fairytail', 'film', 'fitness', 'flamenco', 'folk', 'folklore',\n",
       "       'folkmetal', 'folkrock', 'folktronica', 'forró', 'frankreich',\n",
       "       'französisch', 'french', 'funk', 'future', 'gangsta', 'garage',\n",
       "       'german', 'ghazal', 'gitarre', 'glitch', 'gospel', 'gothic',\n",
       "       'grime', 'grunge', 'gypsy', 'handsup', \"hard'n'heavy\", 'hardcore',\n",
       "       'hardstyle', 'hardtechno', 'hip', 'hip-hop', 'hiphop',\n",
       "       'historisch', 'holiday', 'hop', 'horror', 'house', 'hymn', 'idm',\n",
       "       'independent', 'indian', 'indie', 'indipop', 'industrial',\n",
       "       'inspirational', 'instrumental', 'international', 'irish', 'jam',\n",
       "       'japanese', 'jazz', 'jewish', 'jpop', 'jungle', 'k-pop',\n",
       "       'karadeniz', 'karaoke', 'kayokyoku', 'korean', 'laiko', 'latin',\n",
       "       'latino', 'leftfield', 'local', 'lounge', 'loungeelectronic',\n",
       "       'lovers', 'malaysian', 'mandopop', 'marschmusik', 'meditative',\n",
       "       'mediterranean', 'melodic', 'metal', 'metalcore', 'mexican',\n",
       "       'middle', 'minimal', 'miscellaneous', 'modern', 'mood', 'mpb',\n",
       "       'muslim', 'native', 'neoklassik', 'neue', 'new', 'newage',\n",
       "       'newwave', 'nu', 'nujazz', 'numetal', 'oceania', 'old', 'opera',\n",
       "       'orchestral', 'other', 'piano', 'podcasts', 'pop', 'popdance',\n",
       "       'popelectronic', 'popeurodance', 'poprussian', 'post',\n",
       "       'posthardcore', 'postrock', 'power', 'progmetal', 'progressive',\n",
       "       'psychedelic', 'punjabi', 'punk', 'quebecois', 'ragga', 'ram',\n",
       "       'rancheras', 'rap', 'rave', 'reggae', 'reggaeton', 'regional',\n",
       "       'relax', 'religious', 'retro', 'rhythm', 'rnb', 'rnr', 'rock',\n",
       "       'rockabilly', 'rockalternative', 'rockindie', 'rockother',\n",
       "       'romance', 'roots', 'ruspop', 'rusrap', 'rusrock', 'russian',\n",
       "       'salsa', 'samba', 'scenic', 'schlager', 'self', 'sertanejo',\n",
       "       'shanson', 'shoegazing', 'showtunes', 'singer', 'ska', 'skarock',\n",
       "       'slow', 'smooth', 'soft', 'soul', 'soulful', 'sound', 'soundtrack',\n",
       "       'southern', 'specialty', 'speech', 'spiritual', 'sport',\n",
       "       'stonerrock', 'surf', 'swing', 'synthpop', 'synthrock',\n",
       "       'sängerportrait', 'tango', 'tanzorchester', 'taraftar', 'tatar',\n",
       "       'tech', 'techno', 'teen', 'thrash', 'top', 'traditional',\n",
       "       'tradjazz', 'trance', 'tribal', 'trip', 'triphop', 'tropical',\n",
       "       'türk', 'türkçe', 'ukrrock', 'unknown', 'urban', 'uzbek',\n",
       "       'variété', 'vi', 'videogame', 'vocal', 'western', 'world',\n",
       "       'worldbeat', 'ïîï', 'электроника'], dtype=object)"
      ]
     },
     "execution_count": 16,
     "metadata": {},
     "output_type": "execute_result"
    }
   ],
   "source": [
    "df['genre'].sort_values().unique() # Просмотр уникальных названий жанров"
   ]
  },
  {
   "cell_type": "code",
   "execution_count": 17,
   "metadata": {
    "id": "ErNDkmns_Zct"
   },
   "outputs": [],
   "source": [
    "def replace_wrong_genres(wrong_genres, correct_genre): # Функция для замены неявных дубликатов\n",
    "    for wrong_genre in wrong_genres:\n",
    "        df['genre'] = df['genre'].replace(wrong_genre, correct_genre)"
   ]
  },
  {
   "cell_type": "markdown",
   "metadata": {
    "id": "aDoBJxbA_Zct"
   },
   "source": [
    "Вызовем `replace_wrong_genres()` и передим ей такие аргументы, чтобы она устранила неявные дубликаты: вместо `hip`, `hop` и `hip-hop` в таблице должно быть значение `hiphop`:"
   ]
  },
  {
   "cell_type": "code",
   "execution_count": 18,
   "metadata": {
    "id": "YN5i2hpmSo09"
   },
   "outputs": [],
   "source": [
    "wrong_names = ['hip', 'hop', 'hip-hop'] # Устранение неявных дубликатов\n",
    "correct_name = 'hiphop'\n",
    "replace_wrong_genres(wrong_names, correct_name)"
   ]
  },
  {
   "cell_type": "code",
   "execution_count": 19,
   "metadata": {
    "id": "wvixALnFG15m"
   },
   "outputs": [
    {
     "data": {
      "text/plain": [
       "array(['acid', 'acoustic', 'action', 'adult', 'africa', 'afrikaans',\n",
       "       'alternative', 'alternativepunk', 'ambient', 'americana',\n",
       "       'animated', 'anime', 'arabesk', 'arabic', 'arena',\n",
       "       'argentinetango', 'art', 'audiobook', 'author', 'avantgarde',\n",
       "       'axé', 'baile', 'balkan', 'beats', 'bigroom', 'black', 'bluegrass',\n",
       "       'blues', 'bollywood', 'bossa', 'brazilian', 'breakbeat', 'breaks',\n",
       "       'broadway', 'cantautori', 'cantopop', 'canzone', 'caribbean',\n",
       "       'caucasian', 'celtic', 'chamber', 'chanson', 'children', 'chill',\n",
       "       'chinese', 'choral', 'christian', 'christmas', 'classical',\n",
       "       'classicmetal', 'club', 'colombian', 'comedy', 'conjazz',\n",
       "       'contemporary', 'country', 'cuban', 'dance', 'dancehall',\n",
       "       'dancepop', 'dark', 'death', 'deep', 'deutschrock', 'deutschspr',\n",
       "       'dirty', 'disco', 'dnb', 'documentary', 'downbeat', 'downtempo',\n",
       "       'drum', 'dub', 'dubstep', 'eastern', 'easy', 'electronic',\n",
       "       'electropop', 'emo', 'entehno', 'epicmetal', 'estrada', 'ethnic',\n",
       "       'eurofolk', 'european', 'experimental', 'extrememetal', 'fado',\n",
       "       'fairytail', 'film', 'fitness', 'flamenco', 'folk', 'folklore',\n",
       "       'folkmetal', 'folkrock', 'folktronica', 'forró', 'frankreich',\n",
       "       'französisch', 'french', 'funk', 'future', 'gangsta', 'garage',\n",
       "       'german', 'ghazal', 'gitarre', 'glitch', 'gospel', 'gothic',\n",
       "       'grime', 'grunge', 'gypsy', 'handsup', \"hard'n'heavy\", 'hardcore',\n",
       "       'hardstyle', 'hardtechno', 'hiphop', 'historisch', 'holiday',\n",
       "       'horror', 'house', 'hymn', 'idm', 'independent', 'indian', 'indie',\n",
       "       'indipop', 'industrial', 'inspirational', 'instrumental',\n",
       "       'international', 'irish', 'jam', 'japanese', 'jazz', 'jewish',\n",
       "       'jpop', 'jungle', 'k-pop', 'karadeniz', 'karaoke', 'kayokyoku',\n",
       "       'korean', 'laiko', 'latin', 'latino', 'leftfield', 'local',\n",
       "       'lounge', 'loungeelectronic', 'lovers', 'malaysian', 'mandopop',\n",
       "       'marschmusik', 'meditative', 'mediterranean', 'melodic', 'metal',\n",
       "       'metalcore', 'mexican', 'middle', 'minimal', 'miscellaneous',\n",
       "       'modern', 'mood', 'mpb', 'muslim', 'native', 'neoklassik', 'neue',\n",
       "       'new', 'newage', 'newwave', 'nu', 'nujazz', 'numetal', 'oceania',\n",
       "       'old', 'opera', 'orchestral', 'other', 'piano', 'podcasts', 'pop',\n",
       "       'popdance', 'popelectronic', 'popeurodance', 'poprussian', 'post',\n",
       "       'posthardcore', 'postrock', 'power', 'progmetal', 'progressive',\n",
       "       'psychedelic', 'punjabi', 'punk', 'quebecois', 'ragga', 'ram',\n",
       "       'rancheras', 'rap', 'rave', 'reggae', 'reggaeton', 'regional',\n",
       "       'relax', 'religious', 'retro', 'rhythm', 'rnb', 'rnr', 'rock',\n",
       "       'rockabilly', 'rockalternative', 'rockindie', 'rockother',\n",
       "       'romance', 'roots', 'ruspop', 'rusrap', 'rusrock', 'russian',\n",
       "       'salsa', 'samba', 'scenic', 'schlager', 'self', 'sertanejo',\n",
       "       'shanson', 'shoegazing', 'showtunes', 'singer', 'ska', 'skarock',\n",
       "       'slow', 'smooth', 'soft', 'soul', 'soulful', 'sound', 'soundtrack',\n",
       "       'southern', 'specialty', 'speech', 'spiritual', 'sport',\n",
       "       'stonerrock', 'surf', 'swing', 'synthpop', 'synthrock',\n",
       "       'sängerportrait', 'tango', 'tanzorchester', 'taraftar', 'tatar',\n",
       "       'tech', 'techno', 'teen', 'thrash', 'top', 'traditional',\n",
       "       'tradjazz', 'trance', 'tribal', 'trip', 'triphop', 'tropical',\n",
       "       'türk', 'türkçe', 'ukrrock', 'unknown', 'urban', 'uzbek',\n",
       "       'variété', 'vi', 'videogame', 'vocal', 'western', 'world',\n",
       "       'worldbeat', 'ïîï', 'электроника'], dtype=object)"
      ]
     },
     "execution_count": 19,
     "metadata": {},
     "output_type": "execute_result"
    }
   ],
   "source": [
    "df['genre'].sort_values().unique() # Проверка на неявные дубликаты"
   ]
  },
  {
   "cell_type": "markdown",
   "metadata": {
    "id": "jz6a9-7HQUDd"
   },
   "source": [
    "**Выводы**\n",
    "\n",
    "Предобработка обнаружила три проблемы в данных:\n",
    "\n",
    "- нарушения в стиле заголовков,\n",
    "- пропущенные значения,\n",
    "- дубликаты — явные и неявные.\n",
    "\n",
    "Мы исправили заголовки, чтобы упростить работу с таблицей. Без дубликатов исследование станет более точным.\n",
    "\n",
    "Пропущенные значения  заменили на `'unknown'`. Ещё предстоит увидеть, не повредят ли исследованию пропуски в колонке `genre`.\n",
    "\n",
    "Теперь можно перейти к проверке гипотез. "
   ]
  },
  {
   "cell_type": "markdown",
   "metadata": {
    "id": "WttZHXH0SqKk"
   },
   "source": [
    "## Проверка гипотез"
   ]
  },
  {
   "cell_type": "markdown",
   "metadata": {
    "id": "Im936VVi_Zcu"
   },
   "source": [
    "### Сравнение поведения пользователей двух столиц"
   ]
  },
  {
   "cell_type": "markdown",
   "metadata": {
    "id": "nwt_MuaL_Zcu"
   },
   "source": [
    "Первая гипотеза утверждает, что пользователи по-разному слушают музыку в Москве и Санкт-Петербурге. Проверим это предположение по данным о трёх днях недели — понедельнике, среде и пятнице. Для этого:\n",
    "\n",
    "* Разделим пользователей Москвы и Санкт-Петербурга\n",
    "* Сравним, сколько треков послушала каждая группа пользователей в понедельник, среду и пятницу.\n"
   ]
  },
  {
   "cell_type": "code",
   "execution_count": 20,
   "metadata": {
    "id": "0_Qs96oh_Zcu"
   },
   "outputs": [
    {
     "data": {
      "text/plain": [
       "city\n",
       "Moscow              42741\n",
       "Saint-Petersburg    18512\n",
       "Name: time, dtype: int64"
      ]
     },
     "execution_count": 20,
     "metadata": {},
     "output_type": "execute_result"
    }
   ],
   "source": [
    "df.groupby('city')['time'].count() # Подсчёт прослушиваний в каждом городе"
   ]
  },
  {
   "cell_type": "markdown",
   "metadata": {
    "id": "dzli3w8o_Zcu"
   },
   "source": [
    "В Москве прослушиваний больше, чем в Петербурге. Из этого не следует, что московские пользователи чаще слушают музыку. Просто самих пользователей в Москве больше.\n",
    "\n",
    "Теперь сгруппируем данные по дню недели и подсчитаем прослушивания в понедельник, среду и пятницу. "
   ]
  },
  {
   "cell_type": "code",
   "execution_count": 21,
   "metadata": {
    "id": "uZMKjiJz_Zcu"
   },
   "outputs": [
    {
     "data": {
      "text/plain": [
       "day\n",
       "Friday       21840\n",
       "Monday       21354\n",
       "Wednesday    18059\n",
       "Name: time, dtype: int64"
      ]
     },
     "execution_count": 21,
     "metadata": {},
     "output_type": "execute_result"
    }
   ],
   "source": [
    "df.groupby('day')['time'].count() # Подсчёт прослушиваний в каждый из трёх дней"
   ]
  },
  {
   "cell_type": "markdown",
   "metadata": {
    "id": "cC2tNrlL_Zcu"
   },
   "source": [
    "В среднем пользователи из двух городов менее активны по средам. Но картина может измениться, если рассмотреть каждый город в отдельности."
   ]
  },
  {
   "cell_type": "markdown",
   "metadata": {
    "id": "POzs8bGa_Zcu"
   },
   "source": [
    "Теперь напишим функцию, которая объединит два эти расчёта."
   ]
  },
  {
   "cell_type": "code",
   "execution_count": 1,
   "metadata": {
    "id": "Nz3GdQB1_Zcu"
   },
   "outputs": [],
   "source": [
    "def number_tracks(day, city): # <создание функции number_tracks()>\n",
    "        track_list = df[df['day'] == day]\n",
    "        track_list = track_list[track_list['city'] == city]\n",
    "        track_list_count = track_list['user_id'].count()\n",
    "        return track_list_count"
   ]
  },
  {
   "cell_type": "markdown",
   "metadata": {
    "id": "ytf7xFrFJQ2r"
   },
   "source": [
    "Вызовим `number_tracks()` шесть раз, меняя значение параметров — так, чтобы получить данные для каждого города в каждый из трёх дней."
   ]
  },
  {
   "cell_type": "code",
   "execution_count": 23,
   "metadata": {
    "id": "rJcRATNQ_Zcu"
   },
   "outputs": [],
   "source": [
    "data_mm = number_tracks('Monday', 'Moscow')# количество прослушиваний в Москве по понедельникам"
   ]
  },
  {
   "cell_type": "code",
   "execution_count": 24,
   "metadata": {
    "id": "hq_ncZ5T_Zcu"
   },
   "outputs": [],
   "source": [
    "data_sm = number_tracks('Monday', 'Saint-Petersburg')# количество прослушиваний в Санкт-Петербурге по понедельникам"
   ]
  },
  {
   "cell_type": "code",
   "execution_count": 25,
   "metadata": {
    "id": "_NTy2VPU_Zcu"
   },
   "outputs": [],
   "source": [
    "data_mw = number_tracks('Wednesday', 'Moscow')# количество прослушиваний в Москве по средам"
   ]
  },
  {
   "cell_type": "code",
   "execution_count": 26,
   "metadata": {
    "id": "j2y3TAwo_Zcu"
   },
   "outputs": [],
   "source": [
    "data_sw = number_tracks('Wednesday', 'Saint-Petersburg')# количество прослушиваний в Санкт-Петербурге по средам"
   ]
  },
  {
   "cell_type": "code",
   "execution_count": 27,
   "metadata": {
    "id": "vYDw5u_K_Zcu"
   },
   "outputs": [],
   "source": [
    "data_mf = number_tracks('Friday', 'Moscow')# количество прослушиваний в Москве по пятницам"
   ]
  },
  {
   "cell_type": "code",
   "execution_count": 28,
   "metadata": {
    "id": "8_yzFtW3_Zcu"
   },
   "outputs": [],
   "source": [
    "data_sf = number_tracks('Friday', 'Saint-Petersburg')# количество прослушиваний в Санкт-Петербурге по пятницам"
   ]
  },
  {
   "cell_type": "markdown",
   "metadata": {
    "id": "7QXffbO-_Zcu"
   },
   "source": [
    "Создим c помощью конструктора `pd.DataFrame` таблицу, где\n",
    "* названия колонок — `['city', 'monday', 'wednesday', 'friday']`;\n",
    "* данные — результаты, которые вы получили с помощью `number_tracks`."
   ]
  },
  {
   "cell_type": "code",
   "execution_count": 29,
   "metadata": {
    "id": "APAcLpOr_Zcu"
   },
   "outputs": [
    {
     "data": {
      "text/html": [
       "<div>\n",
       "<style scoped>\n",
       "    .dataframe tbody tr th:only-of-type {\n",
       "        vertical-align: middle;\n",
       "    }\n",
       "\n",
       "    .dataframe tbody tr th {\n",
       "        vertical-align: top;\n",
       "    }\n",
       "\n",
       "    .dataframe thead th {\n",
       "        text-align: right;\n",
       "    }\n",
       "</style>\n",
       "<table border=\"1\" class=\"dataframe\">\n",
       "  <thead>\n",
       "    <tr style=\"text-align: right;\">\n",
       "      <th></th>\n",
       "      <th>monday</th>\n",
       "      <th>wednesday</th>\n",
       "      <th>friday</th>\n",
       "    </tr>\n",
       "  </thead>\n",
       "  <tbody>\n",
       "    <tr>\n",
       "      <th>Moscow</th>\n",
       "      <td>15740</td>\n",
       "      <td>11056</td>\n",
       "      <td>15945</td>\n",
       "    </tr>\n",
       "    <tr>\n",
       "      <th>Saint-Petersburg</th>\n",
       "      <td>5614</td>\n",
       "      <td>7003</td>\n",
       "      <td>5895</td>\n",
       "    </tr>\n",
       "  </tbody>\n",
       "</table>\n",
       "</div>"
      ],
      "text/plain": [
       "                  monday  wednesday  friday\n",
       "Moscow             15740      11056   15945\n",
       "Saint-Petersburg    5614       7003    5895"
      ]
     },
     "execution_count": 29,
     "metadata": {},
     "output_type": "execute_result"
    }
   ],
   "source": [
    "data = {\n",
    "    'monday':{\n",
    "        'Moscow':data_mm,\n",
    "        'Saint-Petersburg':data_sm\n",
    "    },\n",
    "    'wednesday':{\n",
    "        'Moscow':data_mw,\n",
    "        'Saint-Petersburg':data_sw\n",
    "    },\n",
    "    'friday':{\n",
    "        'Moscow':data_mf,\n",
    "        'Saint-Petersburg':data_sf\n",
    "    }\n",
    "}\n",
    "pd.DataFrame(data)"
   ]
  },
  {
   "cell_type": "markdown",
   "metadata": {
    "id": "-EgPIHYu_Zcu"
   },
   "source": [
    "**Выводы**\n",
    "\n",
    "Данные показывают разницу поведения пользователей:\n",
    "\n",
    "- В Москве пик прослушиваний приходится на понедельник и пятницу, а в среду заметен спад.\n",
    "- В Петербурге, наоборот, больше слушают музыку по средам. Активность в понедельник и пятницу здесь почти в равной мере уступает среде.\n",
    "\n",
    "Значит, данные говорят в пользу первой гипотезы."
   ]
  },
  {
   "cell_type": "markdown",
   "metadata": {
    "id": "atZAxtq4_Zcu"
   },
   "source": [
    "### Музыка в начале и в конце недели"
   ]
  },
  {
   "cell_type": "markdown",
   "metadata": {
    "id": "eXrQqXFH_Zcu"
   },
   "source": [
    "Согласно второй гипотезе, утром в понедельник в Москве преобладают одни жанры, а в Петербурге — другие. Так же и вечером пятницы преобладают разные жанры — в зависимости от города."
   ]
  },
  {
   "cell_type": "markdown",
   "metadata": {
    "id": "S8UcW6Hw_Zcu"
   },
   "source": [
    "Сохраним таблицы с данными в две переменные:\n",
    "* по Москве — в `moscow_general`;\n",
    "* по Санкт-Петербургу — в `spb_general`."
   ]
  },
  {
   "cell_type": "code",
   "execution_count": 30,
   "metadata": {
    "id": "qeaFfM_P_Zcu"
   },
   "outputs": [],
   "source": [
    "moscow_general = df[df['city'] == 'Moscow'] # получение таблицы moscow_general из тех строк таблицы df, \n",
    "# для которых значение в столбце 'city' равно 'Moscow'"
   ]
  },
  {
   "cell_type": "code",
   "execution_count": 31,
   "metadata": {
    "id": "ORaVRKto_Zcu"
   },
   "outputs": [],
   "source": [
    "spb_general = df[df['city'] == 'Saint-Petersburg']# получение таблицы spb_general из тех строк таблицы df,\n",
    "# для которых значение в столбце 'city' равно 'Saint-Petersburg'\n"
   ]
  },
  {
   "cell_type": "markdown",
   "metadata": {
    "id": "MEJV-CX2_Zcu"
   },
   "source": [
    "Создайте функцию `genre_weekday()`, которая должна вернуть информацию о топ-10 жанров тех треков, которые прослушивали в указанный день, в промежутке между двумя отметками времени."
   ]
  },
  {
   "cell_type": "code",
   "execution_count": 2,
   "metadata": {
    "id": "laJT9BYl_Zcu"
   },
   "outputs": [],
   "source": [
    "def genre_weekday(table, day, time1, time2):# Объявление функции genre_weekday() с параметрами table, day, time1, time2,\n",
    "    genre_df = table[table['day']==day]\n",
    "    genre_df = genre_df[genre_df['time']>time1]\n",
    "    genre_df = genre_df[genre_df['time']<time2]\n",
    "    genre_df_count = genre_df.groupby('genre')['user_id'].count()\n",
    "    genre_df_sorted = genre_df_count.sort_values(ascending=False)\n",
    "    return genre_df_sorted[:10]"
   ]
  },
  {
   "cell_type": "markdown",
   "metadata": {
    "id": "la2s2_PF_Zcu"
   },
   "source": [
    "Cравним результаты функции `genre_weekday()` для Москвы и Санкт-Петербурга в понедельник утром (с 7:00 до 11:00) и в пятницу вечером (с 17:00 до 23:00):"
   ]
  },
  {
   "cell_type": "code",
   "execution_count": 33,
   "metadata": {
    "id": "yz7itPUQ_Zcu"
   },
   "outputs": [
    {
     "data": {
      "text/plain": [
       "genre\n",
       "pop            781\n",
       "dance          549\n",
       "electronic     480\n",
       "rock           474\n",
       "hiphop         286\n",
       "ruspop         186\n",
       "world          181\n",
       "rusrap         175\n",
       "alternative    164\n",
       "unknown        161\n",
       "Name: user_id, dtype: int64"
      ]
     },
     "execution_count": 33,
     "metadata": {},
     "output_type": "execute_result"
    }
   ],
   "source": [
    "genre_weekday(moscow_general, 'Monday', '07:00', '11:00') # вызов функции для утра понедельника в Москве"
   ]
  },
  {
   "cell_type": "code",
   "execution_count": 34,
   "metadata": {
    "id": "kwUcHPdy_Zcu"
   },
   "outputs": [
    {
     "data": {
      "text/plain": [
       "genre\n",
       "pop            218\n",
       "dance          182\n",
       "rock           162\n",
       "electronic     147\n",
       "hiphop          80\n",
       "ruspop          64\n",
       "alternative     58\n",
       "rusrap          55\n",
       "jazz            44\n",
       "classical       40\n",
       "Name: user_id, dtype: int64"
      ]
     },
     "execution_count": 34,
     "metadata": {},
     "output_type": "execute_result"
    }
   ],
   "source": [
    "genre_weekday(spb_general, 'Monday', '07:00', '11:00')# вызов функции для утра понедельника в Петербурге "
   ]
  },
  {
   "cell_type": "code",
   "execution_count": 35,
   "metadata": {
    "id": "EzXVRE1o_Zcu"
   },
   "outputs": [
    {
     "data": {
      "text/plain": [
       "genre\n",
       "pop            713\n",
       "rock           517\n",
       "dance          495\n",
       "electronic     482\n",
       "hiphop         273\n",
       "world          208\n",
       "ruspop         170\n",
       "alternative    163\n",
       "classical      163\n",
       "rusrap         142\n",
       "Name: user_id, dtype: int64"
      ]
     },
     "execution_count": 35,
     "metadata": {},
     "output_type": "execute_result"
    }
   ],
   "source": [
    "genre_weekday(moscow_general, 'Friday', '17:00', '23:00')# вызов функции для вечера пятницы в Москве"
   ]
  },
  {
   "cell_type": "code",
   "execution_count": 36,
   "metadata": {
    "id": "JZaEKu5v_Zcu"
   },
   "outputs": [
    {
     "data": {
      "text/plain": [
       "genre\n",
       "pop            256\n",
       "electronic     216\n",
       "rock           216\n",
       "dance          210\n",
       "hiphop          97\n",
       "alternative     63\n",
       "jazz            61\n",
       "classical       60\n",
       "rusrap          59\n",
       "world           54\n",
       "Name: user_id, dtype: int64"
      ]
     },
     "execution_count": 36,
     "metadata": {},
     "output_type": "execute_result"
    }
   ],
   "source": [
    "genre_weekday(spb_general, 'Friday', '17:00', '23:00')# вызов функции для вечера пятницы в Петербурге"
   ]
  },
  {
   "cell_type": "markdown",
   "metadata": {
    "id": "wrCe4MNX_Zcu"
   },
   "source": [
    "**Выводы**\n",
    "\n",
    "Если сравнить топ-10 жанров в понедельник утром, можно сделать такие выводы:\n",
    "\n",
    "1. В Москве и Петербурге слушают похожую музыку. Единственное отличие — в московский рейтинг вошёл жанр “world”, а в петербургский — джаз и классика.\n",
    "\n",
    "2. В Москве пропущенных значений оказалось так много, что значение `'unknown'` заняло десятое место среди самых популярных жанров. Значит, пропущенные значения занимают существенную долю в данных и угрожают достоверности исследования.\n",
    "\n",
    "Вечер пятницы не меняет эту картину. Некоторые жанры поднимаются немного выше, другие спускаются, но в целом топ-10 остаётся тем же самым.\n",
    "\n",
    "Таким образом, вторая гипотеза подтвердилась лишь частично:\n",
    "* Пользователи слушают похожую музыку в начале недели и в конце.\n",
    "* Разница между Москвой и Петербургом не слишком выражена. В Москве чаще слушают русскую популярную музыку, в Петербурге — джаз.\n",
    "\n",
    "Однако пропуски в данных ставят под сомнение этот результат. В Москве их так много, что рейтинг топ-10 мог бы выглядеть иначе, если бы не утерянные  данные о жанрах."
   ]
  },
  {
   "cell_type": "markdown",
   "metadata": {
    "id": "JolODAqr_Zcu"
   },
   "source": [
    "### Жанровые предпочтения в Москве и Петербурге\n",
    "\n",
    "Гипотеза: Петербург — столица рэпа, музыку этого жанра там слушают чаще, чем в Москве.  А Москва — город контрастов, в котором, тем не менее, преобладает поп-музыка."
   ]
  },
  {
   "cell_type": "markdown",
   "metadata": {
    "id": "DlegSvaT_Zcu"
   },
   "source": [
    "Сгруппируем таблицу `moscow_general` по жанру и посчитаем прослушивания треков каждого жанра методом `count()`. Затем отсортируем результат в порядке убывания и сохраните его в таблице `moscow_genres`."
   ]
  },
  {
   "cell_type": "code",
   "execution_count": 37,
   "metadata": {
    "id": "r19lIPke_Zcu"
   },
   "outputs": [],
   "source": [
    "moscow_general = moscow_general.groupby('genre')['genre'].count()# одной строкой: группировка таблицы moscow_general по столбцу 'genre', \n",
    "# подсчёт числа значений 'genre' в этой группировке методом count(), \n",
    "moscow_genres =  moscow_general.sort_values(ascending=False) # сортировка получившегося Series в порядке убывания и сохранение в moscow_genres"
   ]
  },
  {
   "cell_type": "markdown",
   "metadata": {
    "id": "6kMuomxTiIr8"
   },
   "source": [
    "Выведите на экран первые десять строк `moscow_genres`:"
   ]
  },
  {
   "cell_type": "code",
   "execution_count": 38,
   "metadata": {
    "id": "WhCSooF8_Zcv"
   },
   "outputs": [
    {
     "data": {
      "text/plain": [
       "genre\n",
       "pop            5892\n",
       "dance          4435\n",
       "rock           3965\n",
       "electronic     3786\n",
       "hiphop         2096\n",
       "classical      1616\n",
       "world          1432\n",
       "alternative    1379\n",
       "ruspop         1372\n",
       "rusrap         1161\n",
       "Name: genre, dtype: int64"
      ]
     },
     "execution_count": 38,
     "metadata": {},
     "output_type": "execute_result"
    }
   ],
   "source": [
    "moscow_genres[:10]# просмотр первых 10 строк moscow_genres"
   ]
  },
  {
   "cell_type": "markdown",
   "metadata": {
    "id": "cnPG2vnN_Zcv"
   },
   "source": [
    "Теперь повторим то же и для Петербурга."
   ]
  },
  {
   "cell_type": "code",
   "execution_count": 39,
   "metadata": {
    "id": "gluLIpE7_Zcv"
   },
   "outputs": [],
   "source": [
    "spb_general = spb_general.groupby('genre')['genre'].count()# одной строкой: группировка таблицы spb_general по столбцу 'genre', \n",
    "# подсчёт числа значений 'genre' в этой группировке методом count(), \n",
    "spb_genres = spb_general.sort_values(ascending=False)# сортировка получившегося Series в порядке убывания и сохранение в spb_genres"
   ]
  },
  {
   "cell_type": "code",
   "execution_count": 40,
   "metadata": {
    "id": "uaGJHjVU_Zcv"
   },
   "outputs": [
    {
     "data": {
      "text/plain": [
       "genre\n",
       "pop            2431\n",
       "dance          1932\n",
       "rock           1879\n",
       "electronic     1736\n",
       "hiphop          960\n",
       "alternative     649\n",
       "classical       646\n",
       "rusrap          564\n",
       "ruspop          538\n",
       "world           515\n",
       "Name: genre, dtype: int64"
      ]
     },
     "execution_count": 40,
     "metadata": {},
     "output_type": "execute_result"
    }
   ],
   "source": [
    "spb_genres[:10]# просмотр первых 10 строк spb_genres"
   ]
  },
  {
   "cell_type": "markdown",
   "metadata": {
    "id": "RY51YJYu_Zcv"
   },
   "source": [
    "**Выводы**"
   ]
  },
  {
   "cell_type": "markdown",
   "metadata": {
    "id": "nVhnJEm__Zcv"
   },
   "source": [
    "Гипотеза частично подтвердилась:\n",
    "* Поп-музыка — самый популярный жанр в Москве, как и предполагала гипотеза. Более того, в топ-10 жанров встречается близкий жанр — русская популярная музыка.\n",
    "* Вопреки ожиданиям, рэп одинаково популярен в Москве и Петербурге. \n"
   ]
  },
  {
   "cell_type": "markdown",
   "metadata": {
    "id": "ykKQ0N65_Zcv"
   },
   "source": [
    "## Итоги исследования"
   ]
  },
  {
   "cell_type": "markdown",
   "metadata": {
    "id": "tjUwbHb3_Zcv"
   },
   "source": [
    "Вы проверили три гипотезы и установили:\n",
    "\n",
    "1. День недели по-разному влияет на активность пользователей в Москве и Петербурге. \n",
    "\n",
    "Первая гипотеза полностью подтвердилась.\n",
    "\n",
    "2. Музыкальные предпочтения не сильно меняются в течение недели — будь то Москва или Петербург. Небольшие различия заметны в начале недели, по понедельникам:\n",
    "* в Москве слушают музыку жанра “world”,\n",
    "* в Петербурге — джаз и классику.\n",
    "\n",
    "Таким образом, вторая гипотеза подтвердилась лишь отчасти. Этот результат мог оказаться иным, если бы не пропуски в данных.\n",
    "\n",
    "3. Во вкусах пользователей Москвы и Петербурга больше общего чем различий. Вопреки ожиданиям, предпочтения жанров в Петербурге напоминают московские.\n",
    "\n",
    "Третья гипотеза не подтвердилась. Если различия в предпочтениях и существуют, на основной массе пользователей они незаметны.\n"
   ]
  }
 ],
 "metadata": {
  "ExecuteTimeLog": [
   {
    "duration": 115,
    "start_time": "2022-03-28T13:38:10.374Z"
   },
   {
    "duration": 392,
    "start_time": "2022-03-28T13:38:18.456Z"
   },
   {
    "duration": 116,
    "start_time": "2022-03-28T13:38:31.312Z"
   },
   {
    "duration": 0,
    "start_time": "2022-03-28T13:38:32.609Z"
   },
   {
    "duration": 148,
    "start_time": "2022-03-28T13:38:43.067Z"
   },
   {
    "duration": 162,
    "start_time": "2022-03-28T13:38:44.040Z"
   },
   {
    "duration": 153,
    "start_time": "2022-03-28T13:38:44.638Z"
   },
   {
    "duration": 139,
    "start_time": "2022-03-28T13:39:37.906Z"
   },
   {
    "duration": 17,
    "start_time": "2022-03-28T13:39:56.203Z"
   },
   {
    "duration": 8,
    "start_time": "2022-03-28T13:40:20.309Z"
   },
   {
    "duration": 11,
    "start_time": "2022-03-28T13:40:29.657Z"
   },
   {
    "duration": 68,
    "start_time": "2022-03-28T15:31:38.744Z"
   },
   {
    "duration": 8,
    "start_time": "2022-03-28T15:32:09.003Z"
   },
   {
    "duration": 8,
    "start_time": "2022-03-28T15:32:12.498Z"
   },
   {
    "duration": 7,
    "start_time": "2022-03-28T15:32:25.840Z"
   },
   {
    "duration": 8,
    "start_time": "2022-03-28T15:32:26.511Z"
   },
   {
    "duration": 9,
    "start_time": "2022-03-28T15:32:27.011Z"
   },
   {
    "duration": 8,
    "start_time": "2022-03-28T15:32:27.580Z"
   },
   {
    "duration": 8,
    "start_time": "2022-03-28T15:32:29.604Z"
   },
   {
    "duration": 8,
    "start_time": "2022-03-28T15:32:29.996Z"
   },
   {
    "duration": 7,
    "start_time": "2022-03-28T15:32:30.259Z"
   },
   {
    "duration": 8,
    "start_time": "2022-03-28T15:32:30.498Z"
   },
   {
    "duration": 8,
    "start_time": "2022-03-28T15:32:30.765Z"
   },
   {
    "duration": 8,
    "start_time": "2022-03-28T15:32:30.994Z"
   },
   {
    "duration": 8,
    "start_time": "2022-03-28T15:32:31.257Z"
   },
   {
    "duration": 8,
    "start_time": "2022-03-28T15:32:31.517Z"
   },
   {
    "duration": 8,
    "start_time": "2022-03-28T15:32:47.421Z"
   },
   {
    "duration": 9,
    "start_time": "2022-03-28T15:32:47.995Z"
   },
   {
    "duration": 8,
    "start_time": "2022-03-28T15:32:48.429Z"
   },
   {
    "duration": 8,
    "start_time": "2022-03-28T15:32:48.678Z"
   },
   {
    "duration": 7,
    "start_time": "2022-03-28T15:32:48.943Z"
   },
   {
    "duration": 7,
    "start_time": "2022-03-28T15:32:49.335Z"
   },
   {
    "duration": 8,
    "start_time": "2022-03-28T15:32:49.941Z"
   },
   {
    "duration": 7,
    "start_time": "2022-03-28T15:32:50.156Z"
   },
   {
    "duration": 9,
    "start_time": "2022-03-28T15:32:50.367Z"
   },
   {
    "duration": 8,
    "start_time": "2022-03-28T15:32:50.601Z"
   },
   {
    "duration": 8,
    "start_time": "2022-03-28T15:32:50.840Z"
   },
   {
    "duration": 8,
    "start_time": "2022-03-28T15:32:51.056Z"
   },
   {
    "duration": 10,
    "start_time": "2022-03-28T15:33:10.351Z"
   },
   {
    "duration": 8,
    "start_time": "2022-03-28T15:33:10.834Z"
   },
   {
    "duration": 8,
    "start_time": "2022-03-28T15:33:11.241Z"
   },
   {
    "duration": 9,
    "start_time": "2022-03-28T15:33:18.491Z"
   },
   {
    "duration": 7,
    "start_time": "2022-03-28T15:33:22.465Z"
   },
   {
    "duration": 8,
    "start_time": "2022-03-28T15:33:37.176Z"
   },
   {
    "duration": 8,
    "start_time": "2022-03-28T15:34:12.043Z"
   },
   {
    "duration": 8,
    "start_time": "2022-03-28T15:34:39.110Z"
   },
   {
    "duration": 8,
    "start_time": "2022-03-28T15:34:54.951Z"
   },
   {
    "duration": 507,
    "start_time": "2022-03-28T15:35:02.442Z"
   },
   {
    "duration": 40,
    "start_time": "2022-03-28T15:35:07.614Z"
   },
   {
    "duration": 190,
    "start_time": "2022-03-28T15:35:11.916Z"
   },
   {
    "duration": 24,
    "start_time": "2022-03-28T15:35:14.758Z"
   },
   {
    "duration": 39,
    "start_time": "2022-03-28T15:35:18.090Z"
   },
   {
    "duration": 6,
    "start_time": "2022-03-28T15:42:53.782Z"
   },
   {
    "duration": 13,
    "start_time": "2022-03-28T15:48:40.499Z"
   },
   {
    "duration": 6,
    "start_time": "2022-03-28T15:48:57.239Z"
   },
   {
    "duration": 6,
    "start_time": "2022-03-28T15:50:03.916Z"
   },
   {
    "duration": 35,
    "start_time": "2022-03-28T15:51:39.548Z"
   },
   {
    "duration": 94,
    "start_time": "2022-03-28T15:59:25.036Z"
   },
   {
    "duration": 15,
    "start_time": "2022-03-28T15:59:57.880Z"
   },
   {
    "duration": 22,
    "start_time": "2022-03-28T16:00:18.380Z"
   },
   {
    "duration": 34,
    "start_time": "2022-03-28T16:00:35.073Z"
   },
   {
    "duration": 148,
    "start_time": "2022-03-28T16:01:02.115Z"
   },
   {
    "duration": 38,
    "start_time": "2022-03-28T16:01:05.043Z"
   },
   {
    "duration": 151,
    "start_time": "2022-03-28T16:01:07.263Z"
   },
   {
    "duration": 37,
    "start_time": "2022-03-28T16:01:08.818Z"
   },
   {
    "duration": 104,
    "start_time": "2022-03-28T16:01:44.859Z"
   },
   {
    "duration": 11,
    "start_time": "2022-03-28T16:02:21.192Z"
   },
   {
    "duration": 109,
    "start_time": "2022-03-28T16:02:39.067Z"
   },
   {
    "duration": 85,
    "start_time": "2022-03-28T16:03:04.055Z"
   },
   {
    "duration": 104,
    "start_time": "2022-03-28T16:04:10.953Z"
   },
   {
    "duration": 85,
    "start_time": "2022-03-28T16:04:13.655Z"
   },
   {
    "duration": 14,
    "start_time": "2022-03-28T16:05:47.934Z"
   },
   {
    "duration": 11,
    "start_time": "2022-03-28T16:06:21.458Z"
   },
   {
    "duration": 10,
    "start_time": "2022-03-28T16:06:22.300Z"
   },
   {
    "duration": 17,
    "start_time": "2022-03-28T16:07:51.253Z"
   },
   {
    "duration": 13,
    "start_time": "2022-03-28T16:07:52.018Z"
   },
   {
    "duration": 46,
    "start_time": "2022-03-28T16:09:29.812Z"
   },
   {
    "duration": 56,
    "start_time": "2022-03-28T16:10:30.340Z"
   },
   {
    "duration": 4,
    "start_time": "2022-03-28T16:14:45.423Z"
   },
   {
    "duration": 3,
    "start_time": "2022-03-28T16:16:39.485Z"
   },
   {
    "duration": 17,
    "start_time": "2022-03-28T16:18:56.518Z"
   },
   {
    "duration": 18,
    "start_time": "2022-03-28T16:21:41.345Z"
   },
   {
    "duration": 53,
    "start_time": "2022-03-28T16:21:58.264Z"
   },
   {
    "duration": 19,
    "start_time": "2022-03-28T16:27:24.363Z"
   },
   {
    "duration": 18,
    "start_time": "2022-03-28T16:29:02.122Z"
   },
   {
    "duration": 17,
    "start_time": "2022-03-28T16:29:41.284Z"
   },
   {
    "duration": 18,
    "start_time": "2022-03-28T16:30:11.718Z"
   },
   {
    "duration": 8,
    "start_time": "2022-03-29T07:41:27.365Z"
   },
   {
    "duration": 45,
    "start_time": "2022-03-29T12:12:26.039Z"
   },
   {
    "duration": 5,
    "start_time": "2022-03-29T12:12:31.076Z"
   },
   {
    "duration": 8,
    "start_time": "2022-03-29T12:12:33.928Z"
   },
   {
    "duration": 7,
    "start_time": "2022-03-29T12:12:42.455Z"
   },
   {
    "duration": 398,
    "start_time": "2022-03-29T12:12:49.034Z"
   },
   {
    "duration": 145,
    "start_time": "2022-03-29T12:12:50.878Z"
   },
   {
    "duration": 145,
    "start_time": "2022-03-29T12:12:54.418Z"
   },
   {
    "duration": 16,
    "start_time": "2022-03-29T12:12:55.481Z"
   },
   {
    "duration": 29,
    "start_time": "2022-03-29T12:12:56.248Z"
   },
   {
    "duration": 4,
    "start_time": "2022-03-29T12:12:57.207Z"
   },
   {
    "duration": 8,
    "start_time": "2022-03-29T12:12:58.347Z"
   },
   {
    "duration": 4,
    "start_time": "2022-03-29T12:12:59.107Z"
   },
   {
    "duration": 25,
    "start_time": "2022-03-29T12:13:00.175Z"
   },
   {
    "duration": 114,
    "start_time": "2022-03-29T12:13:00.830Z"
   },
   {
    "duration": 27,
    "start_time": "2022-03-29T12:13:01.425Z"
   },
   {
    "duration": 63,
    "start_time": "2022-03-29T12:13:02.416Z"
   },
   {
    "duration": 90,
    "start_time": "2022-03-29T12:13:03.692Z"
   },
   {
    "duration": 53,
    "start_time": "2022-03-29T12:13:04.420Z"
   },
   {
    "duration": 37,
    "start_time": "2022-03-29T12:13:06.431Z"
   },
   {
    "duration": 3,
    "start_time": "2022-03-29T12:13:08.613Z"
   },
   {
    "duration": 9,
    "start_time": "2022-03-29T12:13:09.541Z"
   },
   {
    "duration": 39,
    "start_time": "2022-03-29T12:13:10.723Z"
   },
   {
    "duration": 12,
    "start_time": "2022-03-29T12:13:14.374Z"
   },
   {
    "duration": 12,
    "start_time": "2022-03-29T12:13:15.963Z"
   },
   {
    "duration": 3,
    "start_time": "2022-03-29T12:13:18.047Z"
   },
   {
    "duration": 11,
    "start_time": "2022-03-29T12:13:20.005Z"
   },
   {
    "duration": 10,
    "start_time": "2022-03-29T12:13:49.835Z"
   },
   {
    "duration": 11,
    "start_time": "2022-03-29T12:14:28.475Z"
   },
   {
    "duration": 11,
    "start_time": "2022-03-29T12:15:30.028Z"
   },
   {
    "duration": 11,
    "start_time": "2022-03-29T12:15:30.524Z"
   },
   {
    "duration": 10,
    "start_time": "2022-03-29T12:15:31.028Z"
   },
   {
    "duration": 4,
    "start_time": "2022-03-29T12:20:11.087Z"
   },
   {
    "duration": 10,
    "start_time": "2022-03-29T12:20:14.181Z"
   },
   {
    "duration": 10,
    "start_time": "2022-03-29T12:21:00.013Z"
   },
   {
    "duration": 9,
    "start_time": "2022-03-29T12:21:25.152Z"
   },
   {
    "duration": 27,
    "start_time": "2022-03-29T12:21:49.403Z"
   },
   {
    "duration": 9,
    "start_time": "2022-03-29T12:21:56.916Z"
   },
   {
    "duration": 9,
    "start_time": "2022-03-29T12:22:18.961Z"
   },
   {
    "duration": 10,
    "start_time": "2022-03-29T12:22:36.110Z"
   },
   {
    "duration": 10,
    "start_time": "2022-03-29T12:22:58.907Z"
   },
   {
    "duration": 14,
    "start_time": "2022-03-29T12:28:27.494Z"
   },
   {
    "duration": 137,
    "start_time": "2022-03-29T12:33:43.554Z"
   },
   {
    "duration": 15,
    "start_time": "2022-03-29T12:34:18.128Z"
   },
   {
    "duration": 3,
    "start_time": "2022-03-29T12:43:26.399Z"
   },
   {
    "duration": 3,
    "start_time": "2022-03-29T12:44:48.989Z"
   },
   {
    "duration": 6,
    "start_time": "2022-03-29T12:44:53.199Z"
   },
   {
    "duration": 6,
    "start_time": "2022-03-29T12:44:56.168Z"
   },
   {
    "duration": 7,
    "start_time": "2022-03-29T12:44:56.679Z"
   },
   {
    "duration": 7,
    "start_time": "2022-03-29T12:44:57.051Z"
   },
   {
    "duration": 7,
    "start_time": "2022-03-29T12:44:57.387Z"
   },
   {
    "duration": 6,
    "start_time": "2022-03-29T12:44:57.739Z"
   },
   {
    "duration": 6,
    "start_time": "2022-03-29T12:44:58.232Z"
   },
   {
    "duration": 4,
    "start_time": "2022-03-29T12:45:00.200Z"
   },
   {
    "duration": 3,
    "start_time": "2022-03-29T12:45:02.817Z"
   },
   {
    "duration": 6,
    "start_time": "2022-03-29T12:51:36.947Z"
   },
   {
    "duration": 7,
    "start_time": "2022-03-29T12:54:10.828Z"
   },
   {
    "duration": 7,
    "start_time": "2022-03-29T12:54:11.280Z"
   },
   {
    "duration": 7,
    "start_time": "2022-03-29T12:54:11.645Z"
   },
   {
    "duration": 7,
    "start_time": "2022-03-29T12:54:11.932Z"
   },
   {
    "duration": 7,
    "start_time": "2022-03-29T12:54:12.268Z"
   },
   {
    "duration": 7,
    "start_time": "2022-03-29T12:54:12.738Z"
   },
   {
    "duration": 7,
    "start_time": "2022-03-29T12:54:14.047Z"
   },
   {
    "duration": 3,
    "start_time": "2022-03-29T12:54:27.340Z"
   },
   {
    "duration": 4,
    "start_time": "2022-03-29T12:54:41.656Z"
   },
   {
    "duration": 7,
    "start_time": "2022-03-29T12:54:43.051Z"
   },
   {
    "duration": 7,
    "start_time": "2022-03-29T12:54:43.269Z"
   },
   {
    "duration": 7,
    "start_time": "2022-03-29T12:54:43.452Z"
   },
   {
    "duration": 8,
    "start_time": "2022-03-29T12:54:43.630Z"
   },
   {
    "duration": 6,
    "start_time": "2022-03-29T12:54:43.789Z"
   },
   {
    "duration": 7,
    "start_time": "2022-03-29T12:54:44.172Z"
   },
   {
    "duration": 4,
    "start_time": "2022-03-29T12:54:45.571Z"
   },
   {
    "duration": 14,
    "start_time": "2022-03-29T12:55:43.420Z"
   },
   {
    "duration": 13,
    "start_time": "2022-03-29T12:57:38.840Z"
   },
   {
    "duration": 4,
    "start_time": "2022-03-29T12:58:58.058Z"
   },
   {
    "duration": 16,
    "start_time": "2022-03-29T12:59:02.549Z"
   },
   {
    "duration": 14,
    "start_time": "2022-03-29T12:59:02.925Z"
   },
   {
    "duration": 14,
    "start_time": "2022-03-29T12:59:03.165Z"
   },
   {
    "duration": 13,
    "start_time": "2022-03-29T12:59:03.371Z"
   },
   {
    "duration": 16,
    "start_time": "2022-03-29T12:59:03.601Z"
   },
   {
    "duration": 14,
    "start_time": "2022-03-29T12:59:04.001Z"
   },
   {
    "duration": 13,
    "start_time": "2022-03-29T12:59:06.214Z"
   },
   {
    "duration": 4,
    "start_time": "2022-03-29T12:59:21.092Z"
   },
   {
    "duration": 14,
    "start_time": "2022-03-29T13:04:56.561Z"
   },
   {
    "duration": 7,
    "start_time": "2022-03-29T13:05:05.127Z"
   },
   {
    "duration": 4,
    "start_time": "2022-03-29T13:05:22.607Z"
   },
   {
    "duration": 13,
    "start_time": "2022-03-29T13:06:07.180Z"
   },
   {
    "duration": 127,
    "start_time": "2022-03-29T13:12:04.489Z"
   },
   {
    "duration": 4,
    "start_time": "2022-03-29T13:13:55.388Z"
   },
   {
    "duration": 16,
    "start_time": "2022-03-29T13:13:59.758Z"
   },
   {
    "duration": 15,
    "start_time": "2022-03-29T13:14:00.015Z"
   },
   {
    "duration": 14,
    "start_time": "2022-03-29T13:14:00.212Z"
   },
   {
    "duration": 13,
    "start_time": "2022-03-29T13:14:00.404Z"
   },
   {
    "duration": 16,
    "start_time": "2022-03-29T13:14:00.595Z"
   },
   {
    "duration": 15,
    "start_time": "2022-03-29T13:14:00.788Z"
   },
   {
    "duration": 108,
    "start_time": "2022-03-29T13:14:14.823Z"
   },
   {
    "duration": 113,
    "start_time": "2022-03-29T13:14:59.591Z"
   },
   {
    "duration": 233,
    "start_time": "2022-03-29T13:15:19.929Z"
   },
   {
    "duration": 10,
    "start_time": "2022-03-29T13:15:24.968Z"
   },
   {
    "duration": 13,
    "start_time": "2022-03-29T13:16:16.591Z"
   },
   {
    "duration": 17,
    "start_time": "2022-03-29T13:16:16.991Z"
   },
   {
    "duration": 3,
    "start_time": "2022-03-29T13:16:17.502Z"
   },
   {
    "duration": 15,
    "start_time": "2022-03-29T13:16:18.474Z"
   },
   {
    "duration": 14,
    "start_time": "2022-03-29T13:16:18.730Z"
   },
   {
    "duration": 15,
    "start_time": "2022-03-29T13:16:18.905Z"
   },
   {
    "duration": 13,
    "start_time": "2022-03-29T13:16:19.082Z"
   },
   {
    "duration": 16,
    "start_time": "2022-03-29T13:16:19.242Z"
   },
   {
    "duration": 15,
    "start_time": "2022-03-29T13:16:19.699Z"
   },
   {
    "duration": 8,
    "start_time": "2022-03-29T13:16:20.685Z"
   },
   {
    "duration": 4,
    "start_time": "2022-03-29T13:16:31.440Z"
   },
   {
    "duration": 4,
    "start_time": "2022-03-29T13:16:45.163Z"
   },
   {
    "duration": 17,
    "start_time": "2022-03-29T13:16:48.147Z"
   },
   {
    "duration": 16,
    "start_time": "2022-03-29T13:16:48.318Z"
   },
   {
    "duration": 15,
    "start_time": "2022-03-29T13:16:48.494Z"
   },
   {
    "duration": 14,
    "start_time": "2022-03-29T13:16:48.686Z"
   },
   {
    "duration": 19,
    "start_time": "2022-03-29T13:16:48.879Z"
   },
   {
    "duration": 16,
    "start_time": "2022-03-29T13:16:49.090Z"
   },
   {
    "duration": 9,
    "start_time": "2022-03-29T13:16:50.402Z"
   },
   {
    "duration": 8,
    "start_time": "2022-03-29T13:16:54.030Z"
   },
   {
    "duration": 9,
    "start_time": "2022-03-29T13:17:37.816Z"
   },
   {
    "duration": 7,
    "start_time": "2022-03-29T13:17:47.752Z"
   },
   {
    "duration": 9,
    "start_time": "2022-03-29T13:18:07.203Z"
   },
   {
    "duration": 104,
    "start_time": "2022-03-29T13:19:14.777Z"
   },
   {
    "duration": 9,
    "start_time": "2022-03-29T13:19:25.218Z"
   },
   {
    "duration": 8,
    "start_time": "2022-03-29T13:22:25.820Z"
   },
   {
    "duration": 115,
    "start_time": "2022-03-29T13:42:16.629Z"
   },
   {
    "duration": 121,
    "start_time": "2022-03-29T13:42:39.649Z"
   },
   {
    "duration": 3,
    "start_time": "2022-03-29T13:43:27.322Z"
   },
   {
    "duration": 154,
    "start_time": "2022-03-29T13:43:27.674Z"
   },
   {
    "duration": 10,
    "start_time": "2022-03-29T13:43:28.019Z"
   },
   {
    "duration": 27,
    "start_time": "2022-03-29T13:43:28.361Z"
   },
   {
    "duration": 4,
    "start_time": "2022-03-29T13:43:29.258Z"
   },
   {
    "duration": 6,
    "start_time": "2022-03-29T13:43:29.789Z"
   },
   {
    "duration": 4,
    "start_time": "2022-03-29T13:43:30.156Z"
   },
   {
    "duration": 25,
    "start_time": "2022-03-29T13:43:30.540Z"
   },
   {
    "duration": 88,
    "start_time": "2022-03-29T13:43:31.212Z"
   },
   {
    "duration": 26,
    "start_time": "2022-03-29T13:43:31.675Z"
   },
   {
    "duration": 62,
    "start_time": "2022-03-29T13:43:32.140Z"
   },
   {
    "duration": 73,
    "start_time": "2022-03-29T13:43:32.555Z"
   },
   {
    "duration": 60,
    "start_time": "2022-03-29T13:43:32.976Z"
   },
   {
    "duration": 40,
    "start_time": "2022-03-29T13:43:33.586Z"
   },
   {
    "duration": 4,
    "start_time": "2022-03-29T13:43:34.063Z"
   },
   {
    "duration": 10,
    "start_time": "2022-03-29T13:43:34.545Z"
   },
   {
    "duration": 39,
    "start_time": "2022-03-29T13:43:35.089Z"
   },
   {
    "duration": 11,
    "start_time": "2022-03-29T13:43:37.182Z"
   },
   {
    "duration": 12,
    "start_time": "2022-03-29T13:43:38.479Z"
   },
   {
    "duration": 4,
    "start_time": "2022-03-29T13:43:39.487Z"
   },
   {
    "duration": 16,
    "start_time": "2022-03-29T13:43:40.487Z"
   },
   {
    "duration": 15,
    "start_time": "2022-03-29T13:43:41.007Z"
   },
   {
    "duration": 13,
    "start_time": "2022-03-29T13:43:41.233Z"
   },
   {
    "duration": 14,
    "start_time": "2022-03-29T13:43:41.428Z"
   },
   {
    "duration": 16,
    "start_time": "2022-03-29T13:43:41.620Z"
   },
   {
    "duration": 13,
    "start_time": "2022-03-29T13:43:42.405Z"
   },
   {
    "duration": 8,
    "start_time": "2022-03-29T13:43:43.029Z"
   },
   {
    "duration": 122,
    "start_time": "2022-03-29T13:43:45.992Z"
   },
   {
    "duration": 3,
    "start_time": "2022-03-29T13:43:51.470Z"
   },
   {
    "duration": 6,
    "start_time": "2022-03-29T13:44:09.103Z"
   },
   {
    "duration": 6,
    "start_time": "2022-03-29T13:44:12.798Z"
   },
   {
    "duration": 8,
    "start_time": "2022-03-29T13:44:20.570Z"
   },
   {
    "duration": 18,
    "start_time": "2022-03-29T13:44:42.769Z"
   },
   {
    "duration": 10,
    "start_time": "2022-03-29T13:44:49.039Z"
   },
   {
    "duration": 12,
    "start_time": "2022-03-29T13:45:21.960Z"
   },
   {
    "duration": 12,
    "start_time": "2022-03-29T13:45:31.741Z"
   },
   {
    "duration": 15,
    "start_time": "2022-03-29T13:45:34.037Z"
   },
   {
    "duration": 16,
    "start_time": "2022-03-29T13:45:34.290Z"
   },
   {
    "duration": 15,
    "start_time": "2022-03-29T13:45:36.650Z"
   },
   {
    "duration": 14,
    "start_time": "2022-03-29T13:45:37.099Z"
   },
   {
    "duration": 14,
    "start_time": "2022-03-29T13:45:37.408Z"
   },
   {
    "duration": 14,
    "start_time": "2022-03-29T13:45:37.674Z"
   },
   {
    "duration": 15,
    "start_time": "2022-03-29T13:45:38.007Z"
   },
   {
    "duration": 15,
    "start_time": "2022-03-29T13:45:39.062Z"
   },
   {
    "duration": 13,
    "start_time": "2022-03-29T13:45:46.277Z"
   },
   {
    "duration": 14,
    "start_time": "2022-03-29T13:45:48.464Z"
   },
   {
    "duration": 17,
    "start_time": "2022-03-29T13:45:49.971Z"
   },
   {
    "duration": 15,
    "start_time": "2022-03-29T13:45:51.970Z"
   },
   {
    "duration": 8,
    "start_time": "2022-03-29T13:45:54.827Z"
   },
   {
    "duration": 9,
    "start_time": "2022-03-29T13:46:02.962Z"
   },
   {
    "duration": 12,
    "start_time": "2022-03-29T13:46:04.771Z"
   },
   {
    "duration": 12,
    "start_time": "2022-03-29T13:46:05.920Z"
   },
   {
    "duration": 10,
    "start_time": "2022-03-29T13:46:06.467Z"
   },
   {
    "duration": 3,
    "start_time": "2022-03-29T13:58:10.554Z"
   },
   {
    "duration": 4,
    "start_time": "2022-03-29T13:58:13.978Z"
   },
   {
    "duration": 4,
    "start_time": "2022-03-29T13:59:25.534Z"
   },
   {
    "duration": 124,
    "start_time": "2022-03-29T14:00:18.502Z"
   },
   {
    "duration": 22,
    "start_time": "2022-03-29T14:00:28.511Z"
   },
   {
    "duration": 4,
    "start_time": "2022-03-29T14:02:14.575Z"
   },
   {
    "duration": 20,
    "start_time": "2022-03-29T14:02:17.255Z"
   },
   {
    "duration": 4,
    "start_time": "2022-03-29T14:02:40.635Z"
   },
   {
    "duration": 21,
    "start_time": "2022-03-29T14:02:42.972Z"
   },
   {
    "duration": 5,
    "start_time": "2022-03-29T14:03:06.470Z"
   },
   {
    "duration": 20,
    "start_time": "2022-03-29T14:03:09.184Z"
   },
   {
    "duration": 4,
    "start_time": "2022-03-29T14:03:27.017Z"
   },
   {
    "duration": 21,
    "start_time": "2022-03-29T14:03:43.307Z"
   },
   {
    "duration": 57,
    "start_time": "2022-03-29T14:08:41.168Z"
   },
   {
    "duration": 456,
    "start_time": "2022-03-29T14:08:56.131Z"
   },
   {
    "duration": 181,
    "start_time": "2022-03-29T14:08:56.589Z"
   },
   {
    "duration": 21,
    "start_time": "2022-03-29T14:08:56.787Z"
   },
   {
    "duration": 32,
    "start_time": "2022-03-29T14:08:57.140Z"
   },
   {
    "duration": 6,
    "start_time": "2022-03-29T14:08:58.838Z"
   },
   {
    "duration": 12,
    "start_time": "2022-03-29T14:09:00.782Z"
   },
   {
    "duration": 4,
    "start_time": "2022-03-29T14:09:01.253Z"
   },
   {
    "duration": 27,
    "start_time": "2022-03-29T14:09:01.811Z"
   },
   {
    "duration": 120,
    "start_time": "2022-03-29T14:09:02.564Z"
   },
   {
    "duration": 28,
    "start_time": "2022-03-29T14:09:03.316Z"
   },
   {
    "duration": 78,
    "start_time": "2022-03-29T14:09:04.359Z"
   },
   {
    "duration": 102,
    "start_time": "2022-03-29T14:09:05.078Z"
   },
   {
    "duration": 77,
    "start_time": "2022-03-29T14:09:05.832Z"
   },
   {
    "duration": 45,
    "start_time": "2022-03-29T14:09:07.058Z"
   },
   {
    "duration": 4,
    "start_time": "2022-03-29T14:09:07.523Z"
   },
   {
    "duration": 11,
    "start_time": "2022-03-29T14:09:08.035Z"
   },
   {
    "duration": 43,
    "start_time": "2022-03-29T14:09:08.531Z"
   },
   {
    "duration": 13,
    "start_time": "2022-03-29T14:09:10.262Z"
   },
   {
    "duration": 13,
    "start_time": "2022-03-29T14:09:10.918Z"
   },
   {
    "duration": 4,
    "start_time": "2022-03-29T14:09:12.031Z"
   },
   {
    "duration": 19,
    "start_time": "2022-03-29T14:09:12.987Z"
   },
   {
    "duration": 18,
    "start_time": "2022-03-29T14:09:13.530Z"
   },
   {
    "duration": 24,
    "start_time": "2022-03-29T14:09:14.002Z"
   },
   {
    "duration": 18,
    "start_time": "2022-03-29T14:09:14.242Z"
   },
   {
    "duration": 27,
    "start_time": "2022-03-29T14:09:14.875Z"
   },
   {
    "duration": 16,
    "start_time": "2022-03-29T14:09:15.339Z"
   },
   {
    "duration": 12,
    "start_time": "2022-03-29T14:09:16.127Z"
   },
   {
    "duration": 13,
    "start_time": "2022-03-29T14:09:18.962Z"
   },
   {
    "duration": 11,
    "start_time": "2022-03-29T14:09:19.460Z"
   },
   {
    "duration": 4,
    "start_time": "2022-03-29T14:09:22.449Z"
   },
   {
    "duration": 45,
    "start_time": "2022-03-29T14:09:24.244Z"
   },
   {
    "duration": 4,
    "start_time": "2022-03-29T14:09:34.147Z"
   },
   {
    "duration": 23,
    "start_time": "2022-03-29T14:09:37.153Z"
   },
   {
    "duration": 6,
    "start_time": "2022-03-29T14:11:05.191Z"
   },
   {
    "duration": 24,
    "start_time": "2022-03-29T14:11:08.189Z"
   },
   {
    "duration": 23,
    "start_time": "2022-03-29T14:11:16.365Z"
   },
   {
    "duration": 4,
    "start_time": "2022-03-29T14:12:10.307Z"
   },
   {
    "duration": 25,
    "start_time": "2022-03-29T14:12:14.481Z"
   },
   {
    "duration": 4,
    "start_time": "2022-03-29T14:14:55.853Z"
   },
   {
    "duration": 28,
    "start_time": "2022-03-29T14:14:58.461Z"
   },
   {
    "duration": 4,
    "start_time": "2022-03-29T14:15:11.477Z"
   },
   {
    "duration": 27,
    "start_time": "2022-03-29T14:15:14.229Z"
   },
   {
    "duration": 4,
    "start_time": "2022-03-29T14:15:41.221Z"
   },
   {
    "duration": 22,
    "start_time": "2022-03-29T14:15:43.459Z"
   },
   {
    "duration": 5,
    "start_time": "2022-03-29T14:18:00.901Z"
   },
   {
    "duration": 22,
    "start_time": "2022-03-29T14:18:03.445Z"
   },
   {
    "duration": 4,
    "start_time": "2022-03-29T14:18:19.868Z"
   },
   {
    "duration": 25,
    "start_time": "2022-03-29T14:18:22.420Z"
   },
   {
    "duration": 5,
    "start_time": "2022-03-29T14:18:28.204Z"
   },
   {
    "duration": 24,
    "start_time": "2022-03-29T14:18:30.336Z"
   },
   {
    "duration": 6,
    "start_time": "2022-03-29T14:22:49.974Z"
   },
   {
    "duration": 20,
    "start_time": "2022-03-29T14:22:52.477Z"
   },
   {
    "duration": 14,
    "start_time": "2022-03-29T14:23:36.078Z"
   },
   {
    "duration": 4,
    "start_time": "2022-03-29T14:29:41.238Z"
   },
   {
    "duration": 22,
    "start_time": "2022-03-29T14:29:41.822Z"
   },
   {
    "duration": 165,
    "start_time": "2022-03-29T14:30:27.164Z"
   },
   {
    "duration": 214,
    "start_time": "2022-03-29T14:30:33.395Z"
   },
   {
    "duration": 5,
    "start_time": "2022-03-29T14:30:40.032Z"
   },
   {
    "duration": 25,
    "start_time": "2022-03-29T14:30:42.992Z"
   },
   {
    "duration": 4,
    "start_time": "2022-03-29T14:31:03.698Z"
   },
   {
    "duration": 20,
    "start_time": "2022-03-29T14:31:06.556Z"
   },
   {
    "duration": 12,
    "start_time": "2022-03-29T14:31:16.545Z"
   },
   {
    "duration": 5,
    "start_time": "2022-03-29T14:38:25.317Z"
   },
   {
    "duration": 18,
    "start_time": "2022-03-29T14:38:29.581Z"
   },
   {
    "duration": 13,
    "start_time": "2022-03-29T14:38:33.598Z"
   },
   {
    "duration": 11,
    "start_time": "2022-03-29T14:39:45.123Z"
   },
   {
    "duration": 5,
    "start_time": "2022-03-29T14:43:42.092Z"
   },
   {
    "duration": 22,
    "start_time": "2022-03-29T14:43:45.547Z"
   },
   {
    "duration": 5,
    "start_time": "2022-03-29T14:44:27.448Z"
   },
   {
    "duration": 20,
    "start_time": "2022-03-29T14:44:30.542Z"
   },
   {
    "duration": 4,
    "start_time": "2022-03-29T14:48:32.053Z"
   },
   {
    "duration": 29,
    "start_time": "2022-03-29T14:48:34.838Z"
   },
   {
    "duration": 5,
    "start_time": "2022-03-29T14:49:32.758Z"
   },
   {
    "duration": 1406,
    "start_time": "2022-03-29T14:49:35.542Z"
   },
   {
    "duration": 5,
    "start_time": "2022-03-29T14:50:03.961Z"
   },
   {
    "duration": 20,
    "start_time": "2022-03-29T14:50:06.538Z"
   },
   {
    "duration": 5,
    "start_time": "2022-03-29T14:51:03.174Z"
   },
   {
    "duration": 4,
    "start_time": "2022-03-29T14:52:56.400Z"
   },
   {
    "duration": 21,
    "start_time": "2022-03-29T14:52:58.864Z"
   },
   {
    "duration": 16,
    "start_time": "2022-03-29T14:53:05.152Z"
   },
   {
    "duration": 5,
    "start_time": "2022-03-29T14:55:31.869Z"
   },
   {
    "duration": 22,
    "start_time": "2022-03-29T14:55:34.470Z"
   },
   {
    "duration": 14,
    "start_time": "2022-03-29T14:55:38.361Z"
   },
   {
    "duration": 15,
    "start_time": "2022-03-29T14:57:02.958Z"
   },
   {
    "duration": 14,
    "start_time": "2022-03-29T14:57:07.740Z"
   },
   {
    "duration": 22,
    "start_time": "2022-03-29T14:57:09.568Z"
   },
   {
    "duration": 18,
    "start_time": "2022-03-29T14:57:13.426Z"
   },
   {
    "duration": 14,
    "start_time": "2022-03-29T14:57:33.751Z"
   },
   {
    "duration": 19,
    "start_time": "2022-03-29T14:59:43.811Z"
   },
   {
    "duration": 14,
    "start_time": "2022-03-29T15:00:08.646Z"
   },
   {
    "duration": 213,
    "start_time": "2022-03-29T15:00:43.869Z"
   },
   {
    "duration": 10,
    "start_time": "2022-03-29T15:01:30.188Z"
   },
   {
    "duration": 10,
    "start_time": "2022-03-29T15:01:32.940Z"
   },
   {
    "duration": 9,
    "start_time": "2022-03-29T15:02:22.892Z"
   },
   {
    "duration": 8,
    "start_time": "2022-03-29T15:02:26.517Z"
   },
   {
    "duration": 4,
    "start_time": "2022-03-29T15:02:37.263Z"
   },
   {
    "duration": 5,
    "start_time": "2022-03-29T15:02:38.274Z"
   },
   {
    "duration": 4,
    "start_time": "2022-03-29T15:02:40.186Z"
   },
   {
    "duration": 4,
    "start_time": "2022-03-29T15:02:40.626Z"
   },
   {
    "duration": 4,
    "start_time": "2022-03-29T15:02:51.223Z"
   },
   {
    "duration": 6,
    "start_time": "2022-03-29T15:03:09.350Z"
   },
   {
    "duration": 10,
    "start_time": "2022-03-29T15:03:57.405Z"
   },
   {
    "duration": 12,
    "start_time": "2022-03-29T15:04:17.888Z"
   },
   {
    "duration": 2,
    "start_time": "2022-03-29T15:05:31.133Z"
   },
   {
    "duration": 209,
    "start_time": "2022-03-29T15:05:31.137Z"
   },
   {
    "duration": 13,
    "start_time": "2022-03-29T15:05:31.348Z"
   },
   {
    "duration": 48,
    "start_time": "2022-03-29T15:05:31.363Z"
   },
   {
    "duration": 14,
    "start_time": "2022-03-29T15:05:31.414Z"
   },
   {
    "duration": 19,
    "start_time": "2022-03-29T15:05:31.430Z"
   },
   {
    "duration": 24,
    "start_time": "2022-03-29T15:05:31.451Z"
   },
   {
    "duration": 37,
    "start_time": "2022-03-29T15:05:31.477Z"
   },
   {
    "duration": 130,
    "start_time": "2022-03-29T15:05:31.516Z"
   },
   {
    "duration": 28,
    "start_time": "2022-03-29T15:05:31.648Z"
   },
   {
    "duration": 86,
    "start_time": "2022-03-29T15:05:31.679Z"
   },
   {
    "duration": 97,
    "start_time": "2022-03-29T15:05:31.767Z"
   },
   {
    "duration": 69,
    "start_time": "2022-03-29T15:05:31.866Z"
   },
   {
    "duration": 41,
    "start_time": "2022-03-29T15:05:31.937Z"
   },
   {
    "duration": 3,
    "start_time": "2022-03-29T15:05:31.980Z"
   },
   {
    "duration": 17,
    "start_time": "2022-03-29T15:05:31.984Z"
   },
   {
    "duration": 57,
    "start_time": "2022-03-29T15:05:32.003Z"
   },
   {
    "duration": 14,
    "start_time": "2022-03-29T15:05:32.061Z"
   },
   {
    "duration": 20,
    "start_time": "2022-03-29T15:05:32.076Z"
   },
   {
    "duration": 4,
    "start_time": "2022-03-29T15:05:32.098Z"
   },
   {
    "duration": 40,
    "start_time": "2022-03-29T15:05:32.104Z"
   },
   {
    "duration": 16,
    "start_time": "2022-03-29T15:05:32.146Z"
   },
   {
    "duration": 20,
    "start_time": "2022-03-29T15:05:32.163Z"
   },
   {
    "duration": 15,
    "start_time": "2022-03-29T15:05:32.185Z"
   },
   {
    "duration": 38,
    "start_time": "2022-03-29T15:05:32.201Z"
   },
   {
    "duration": 16,
    "start_time": "2022-03-29T15:05:32.241Z"
   },
   {
    "duration": 8,
    "start_time": "2022-03-29T15:05:32.259Z"
   },
   {
    "duration": 17,
    "start_time": "2022-03-29T15:05:32.268Z"
   },
   {
    "duration": 10,
    "start_time": "2022-03-29T15:05:32.289Z"
   },
   {
    "duration": 34,
    "start_time": "2022-03-29T15:05:32.301Z"
   },
   {
    "duration": 26,
    "start_time": "2022-03-29T15:05:32.337Z"
   },
   {
    "duration": 13,
    "start_time": "2022-03-29T15:05:32.364Z"
   },
   {
    "duration": 18,
    "start_time": "2022-03-29T15:05:32.379Z"
   },
   {
    "duration": 38,
    "start_time": "2022-03-29T15:05:32.399Z"
   },
   {
    "duration": 11,
    "start_time": "2022-03-29T15:05:32.439Z"
   },
   {
    "duration": 7,
    "start_time": "2022-03-29T15:05:32.452Z"
   },
   {
    "duration": 8,
    "start_time": "2022-03-29T15:05:32.460Z"
   },
   {
    "duration": 6,
    "start_time": "2022-03-29T15:05:32.470Z"
   },
   {
    "duration": 8,
    "start_time": "2022-03-29T15:06:41.270Z"
   },
   {
    "duration": 8,
    "start_time": "2022-03-29T15:07:00.242Z"
   },
   {
    "duration": 6,
    "start_time": "2022-03-29T15:07:18.803Z"
   },
   {
    "duration": 9,
    "start_time": "2022-03-29T15:07:24.973Z"
   },
   {
    "duration": 3,
    "start_time": "2022-03-29T15:07:28.432Z"
   },
   {
    "duration": 197,
    "start_time": "2022-03-29T15:07:28.437Z"
   },
   {
    "duration": 11,
    "start_time": "2022-03-29T15:07:28.637Z"
   },
   {
    "duration": 34,
    "start_time": "2022-03-29T15:07:28.650Z"
   },
   {
    "duration": 5,
    "start_time": "2022-03-29T15:07:28.686Z"
   },
   {
    "duration": 10,
    "start_time": "2022-03-29T15:07:28.693Z"
   },
   {
    "duration": 31,
    "start_time": "2022-03-29T15:07:28.705Z"
   },
   {
    "duration": 28,
    "start_time": "2022-03-29T15:07:28.738Z"
   },
   {
    "duration": 124,
    "start_time": "2022-03-29T15:07:28.768Z"
   },
   {
    "duration": 40,
    "start_time": "2022-03-29T15:07:28.894Z"
   },
   {
    "duration": 67,
    "start_time": "2022-03-29T15:07:28.938Z"
   },
   {
    "duration": 105,
    "start_time": "2022-03-29T15:07:29.007Z"
   },
   {
    "duration": 72,
    "start_time": "2022-03-29T15:07:29.114Z"
   },
   {
    "duration": 62,
    "start_time": "2022-03-29T15:07:29.188Z"
   },
   {
    "duration": 3,
    "start_time": "2022-03-29T15:07:29.252Z"
   },
   {
    "duration": 14,
    "start_time": "2022-03-29T15:07:29.257Z"
   },
   {
    "duration": 60,
    "start_time": "2022-03-29T15:07:29.273Z"
   },
   {
    "duration": 15,
    "start_time": "2022-03-29T15:07:29.335Z"
   },
   {
    "duration": 14,
    "start_time": "2022-03-29T15:07:29.352Z"
   },
   {
    "duration": 4,
    "start_time": "2022-03-29T15:07:29.367Z"
   },
   {
    "duration": 26,
    "start_time": "2022-03-29T15:07:29.372Z"
   },
   {
    "duration": 40,
    "start_time": "2022-03-29T15:07:29.400Z"
   },
   {
    "duration": 15,
    "start_time": "2022-03-29T15:07:29.442Z"
   },
   {
    "duration": 14,
    "start_time": "2022-03-29T15:07:29.459Z"
   },
   {
    "duration": 21,
    "start_time": "2022-03-29T15:07:29.475Z"
   },
   {
    "duration": 41,
    "start_time": "2022-03-29T15:07:29.497Z"
   },
   {
    "duration": 8,
    "start_time": "2022-03-29T15:07:29.540Z"
   },
   {
    "duration": 15,
    "start_time": "2022-03-29T15:07:29.549Z"
   },
   {
    "duration": 10,
    "start_time": "2022-03-29T15:07:29.567Z"
   },
   {
    "duration": 5,
    "start_time": "2022-03-29T15:07:29.578Z"
   },
   {
    "duration": 48,
    "start_time": "2022-03-29T15:07:29.585Z"
   },
   {
    "duration": 13,
    "start_time": "2022-03-29T15:07:29.634Z"
   },
   {
    "duration": 18,
    "start_time": "2022-03-29T15:07:29.648Z"
   },
   {
    "duration": 12,
    "start_time": "2022-03-29T15:07:29.668Z"
   },
   {
    "duration": 12,
    "start_time": "2022-03-29T15:07:29.682Z"
   },
   {
    "duration": 38,
    "start_time": "2022-03-29T15:07:29.695Z"
   },
   {
    "duration": 9,
    "start_time": "2022-03-29T15:07:29.735Z"
   },
   {
    "duration": 6,
    "start_time": "2022-03-29T15:07:29.746Z"
   },
   {
    "duration": 3,
    "start_time": "2022-03-29T16:15:08.829Z"
   },
   {
    "duration": 202,
    "start_time": "2022-03-29T16:15:08.835Z"
   },
   {
    "duration": 12,
    "start_time": "2022-03-29T16:15:09.039Z"
   },
   {
    "duration": 32,
    "start_time": "2022-03-29T16:15:09.053Z"
   },
   {
    "duration": 4,
    "start_time": "2022-03-29T16:15:09.088Z"
   },
   {
    "duration": 37,
    "start_time": "2022-03-29T16:15:09.094Z"
   },
   {
    "duration": 5,
    "start_time": "2022-03-29T16:15:09.133Z"
   },
   {
    "duration": 30,
    "start_time": "2022-03-29T16:15:09.139Z"
   },
   {
    "duration": 146,
    "start_time": "2022-03-29T16:15:09.171Z"
   },
   {
    "duration": 39,
    "start_time": "2022-03-29T16:15:09.319Z"
   },
   {
    "duration": 83,
    "start_time": "2022-03-29T16:15:09.362Z"
   },
   {
    "duration": 109,
    "start_time": "2022-03-29T16:15:09.448Z"
   },
   {
    "duration": 74,
    "start_time": "2022-03-29T16:15:09.558Z"
   },
   {
    "duration": 44,
    "start_time": "2022-03-29T16:15:09.634Z"
   },
   {
    "duration": 4,
    "start_time": "2022-03-29T16:15:09.680Z"
   },
   {
    "duration": 12,
    "start_time": "2022-03-29T16:15:09.687Z"
   },
   {
    "duration": 69,
    "start_time": "2022-03-29T16:15:09.701Z"
   },
   {
    "duration": 14,
    "start_time": "2022-03-29T16:15:09.771Z"
   },
   {
    "duration": 12,
    "start_time": "2022-03-29T16:15:09.787Z"
   },
   {
    "duration": 33,
    "start_time": "2022-03-29T16:15:09.801Z"
   },
   {
    "duration": 27,
    "start_time": "2022-03-29T16:15:09.836Z"
   },
   {
    "duration": 16,
    "start_time": "2022-03-29T16:15:09.865Z"
   },
   {
    "duration": 15,
    "start_time": "2022-03-29T16:15:09.883Z"
   },
   {
    "duration": 36,
    "start_time": "2022-03-29T16:15:09.900Z"
   },
   {
    "duration": 17,
    "start_time": "2022-03-29T16:15:09.938Z"
   },
   {
    "duration": 16,
    "start_time": "2022-03-29T16:15:09.957Z"
   },
   {
    "duration": 9,
    "start_time": "2022-03-29T16:15:09.974Z"
   },
   {
    "duration": 14,
    "start_time": "2022-03-29T16:15:09.984Z"
   },
   {
    "duration": 10,
    "start_time": "2022-03-29T16:15:10.031Z"
   },
   {
    "duration": 4,
    "start_time": "2022-03-29T16:15:10.044Z"
   },
   {
    "duration": 27,
    "start_time": "2022-03-29T16:15:10.050Z"
   },
   {
    "duration": 14,
    "start_time": "2022-03-29T16:15:10.079Z"
   },
   {
    "duration": 45,
    "start_time": "2022-03-29T16:15:10.094Z"
   },
   {
    "duration": 14,
    "start_time": "2022-03-29T16:15:10.141Z"
   },
   {
    "duration": 12,
    "start_time": "2022-03-29T16:15:10.156Z"
   },
   {
    "duration": 5,
    "start_time": "2022-03-29T16:15:10.170Z"
   },
   {
    "duration": 11,
    "start_time": "2022-03-29T16:15:10.177Z"
   },
   {
    "duration": 10,
    "start_time": "2022-03-29T16:15:10.190Z"
   },
   {
    "duration": 8,
    "start_time": "2022-03-29T16:15:40.233Z"
   },
   {
    "duration": 10,
    "start_time": "2022-03-29T16:17:05.247Z"
   },
   {
    "duration": 4,
    "start_time": "2022-03-29T16:22:33.525Z"
   },
   {
    "duration": 512,
    "start_time": "2022-03-29T16:44:44.791Z"
   },
   {
    "duration": 218,
    "start_time": "2022-03-29T16:44:45.306Z"
   },
   {
    "duration": 27,
    "start_time": "2022-03-29T16:44:45.526Z"
   },
   {
    "duration": 53,
    "start_time": "2022-03-29T16:44:45.555Z"
   },
   {
    "duration": 11,
    "start_time": "2022-03-29T16:44:45.610Z"
   },
   {
    "duration": 16,
    "start_time": "2022-03-29T16:44:45.623Z"
   },
   {
    "duration": 9,
    "start_time": "2022-03-29T16:44:45.641Z"
   },
   {
    "duration": 61,
    "start_time": "2022-03-29T16:44:45.652Z"
   },
   {
    "duration": 170,
    "start_time": "2022-03-29T16:44:45.715Z"
   },
   {
    "duration": 36,
    "start_time": "2022-03-29T16:44:45.889Z"
   },
   {
    "duration": 119,
    "start_time": "2022-03-29T16:44:45.927Z"
   },
   {
    "duration": 151,
    "start_time": "2022-03-29T16:44:46.048Z"
   },
   {
    "duration": 103,
    "start_time": "2022-03-29T16:44:46.202Z"
   },
   {
    "duration": 54,
    "start_time": "2022-03-29T16:44:46.308Z"
   },
   {
    "duration": 21,
    "start_time": "2022-03-29T16:44:46.364Z"
   },
   {
    "duration": 14,
    "start_time": "2022-03-29T16:44:46.388Z"
   },
   {
    "duration": 53,
    "start_time": "2022-03-29T16:44:46.405Z"
   },
   {
    "duration": 40,
    "start_time": "2022-03-29T16:44:46.460Z"
   },
   {
    "duration": 18,
    "start_time": "2022-03-29T16:44:46.503Z"
   },
   {
    "duration": 5,
    "start_time": "2022-03-29T16:44:46.524Z"
   },
   {
    "duration": 59,
    "start_time": "2022-03-29T16:44:46.531Z"
   },
   {
    "duration": 19,
    "start_time": "2022-03-29T16:44:46.592Z"
   },
   {
    "duration": 20,
    "start_time": "2022-03-29T16:44:46.613Z"
   },
   {
    "duration": 49,
    "start_time": "2022-03-29T16:44:46.635Z"
   },
   {
    "duration": 22,
    "start_time": "2022-03-29T16:44:46.686Z"
   },
   {
    "duration": 19,
    "start_time": "2022-03-29T16:44:46.710Z"
   },
   {
    "duration": 11,
    "start_time": "2022-03-29T16:44:46.731Z"
   },
   {
    "duration": 44,
    "start_time": "2022-03-29T16:44:46.747Z"
   },
   {
    "duration": 13,
    "start_time": "2022-03-29T16:44:46.793Z"
   },
   {
    "duration": 9,
    "start_time": "2022-03-29T16:44:46.808Z"
   },
   {
    "duration": 39,
    "start_time": "2022-03-29T16:44:46.819Z"
   },
   {
    "duration": 38,
    "start_time": "2022-03-29T16:44:46.860Z"
   },
   {
    "duration": 24,
    "start_time": "2022-03-29T16:44:46.901Z"
   },
   {
    "duration": 19,
    "start_time": "2022-03-29T16:44:46.927Z"
   },
   {
    "duration": 48,
    "start_time": "2022-03-29T16:44:46.948Z"
   },
   {
    "duration": 10,
    "start_time": "2022-03-29T16:44:46.998Z"
   },
   {
    "duration": 13,
    "start_time": "2022-03-29T16:44:47.010Z"
   },
   {
    "duration": 10,
    "start_time": "2022-03-29T16:44:47.025Z"
   },
   {
    "duration": 12,
    "start_time": "2022-03-29T16:50:28.700Z"
   },
   {
    "duration": 115,
    "start_time": "2022-03-29T16:52:33.440Z"
   },
   {
    "duration": 178,
    "start_time": "2022-03-29T16:53:03.430Z"
   },
   {
    "duration": 15,
    "start_time": "2022-03-29T16:53:17.330Z"
   },
   {
    "duration": 12,
    "start_time": "2022-03-29T16:53:41.513Z"
   },
   {
    "duration": 12,
    "start_time": "2022-03-29T16:53:45.257Z"
   },
   {
    "duration": 498,
    "start_time": "2022-04-02T21:02:14.011Z"
   },
   {
    "duration": 215,
    "start_time": "2022-04-02T21:02:14.511Z"
   },
   {
    "duration": 26,
    "start_time": "2022-04-02T21:02:14.729Z"
   },
   {
    "duration": 63,
    "start_time": "2022-04-02T21:02:14.757Z"
   },
   {
    "duration": 6,
    "start_time": "2022-04-02T21:02:14.822Z"
   },
   {
    "duration": 15,
    "start_time": "2022-04-02T21:02:14.830Z"
   },
   {
    "duration": 8,
    "start_time": "2022-04-02T21:02:14.847Z"
   },
   {
    "duration": 58,
    "start_time": "2022-04-02T21:02:14.857Z"
   },
   {
    "duration": 169,
    "start_time": "2022-04-02T21:02:14.918Z"
   },
   {
    "duration": 35,
    "start_time": "2022-04-02T21:02:15.091Z"
   },
   {
    "duration": 120,
    "start_time": "2022-04-02T21:02:15.128Z"
   },
   {
    "duration": 134,
    "start_time": "2022-04-02T21:02:15.250Z"
   },
   {
    "duration": 99,
    "start_time": "2022-04-02T21:02:15.386Z"
   },
   {
    "duration": 54,
    "start_time": "2022-04-02T21:02:15.487Z"
   },
   {
    "duration": 4,
    "start_time": "2022-04-02T21:02:15.544Z"
   },
   {
    "duration": 43,
    "start_time": "2022-04-02T21:02:15.550Z"
   },
   {
    "duration": 53,
    "start_time": "2022-04-02T21:02:15.596Z"
   },
   {
    "duration": 33,
    "start_time": "2022-04-02T21:02:15.652Z"
   },
   {
    "duration": 17,
    "start_time": "2022-04-02T21:02:15.687Z"
   },
   {
    "duration": 5,
    "start_time": "2022-04-02T21:02:15.706Z"
   },
   {
    "duration": 29,
    "start_time": "2022-04-02T21:02:15.713Z"
   },
   {
    "duration": 48,
    "start_time": "2022-04-02T21:02:15.744Z"
   },
   {
    "duration": 20,
    "start_time": "2022-04-02T21:02:15.794Z"
   },
   {
    "duration": 17,
    "start_time": "2022-04-02T21:02:15.816Z"
   },
   {
    "duration": 47,
    "start_time": "2022-04-02T21:02:15.836Z"
   },
   {
    "duration": 18,
    "start_time": "2022-04-02T21:02:15.886Z"
   },
   {
    "duration": 11,
    "start_time": "2022-04-02T21:02:15.906Z"
   },
   {
    "duration": 14,
    "start_time": "2022-04-02T21:02:15.922Z"
   },
   {
    "duration": 45,
    "start_time": "2022-04-02T21:02:15.939Z"
   },
   {
    "duration": 6,
    "start_time": "2022-04-02T21:02:15.986Z"
   },
   {
    "duration": 29,
    "start_time": "2022-04-02T21:02:15.994Z"
   },
   {
    "duration": 16,
    "start_time": "2022-04-02T21:02:16.025Z"
   },
   {
    "duration": 51,
    "start_time": "2022-04-02T21:02:16.043Z"
   },
   {
    "duration": 14,
    "start_time": "2022-04-02T21:02:16.096Z"
   },
   {
    "duration": 15,
    "start_time": "2022-04-02T21:02:16.112Z"
   },
   {
    "duration": 6,
    "start_time": "2022-04-02T21:02:16.129Z"
   },
   {
    "duration": 47,
    "start_time": "2022-04-02T21:02:16.137Z"
   },
   {
    "duration": 7,
    "start_time": "2022-04-02T21:02:16.186Z"
   },
   {
    "duration": 112,
    "start_time": "2022-04-03T09:12:44.185Z"
   },
   {
    "duration": 71,
    "start_time": "2022-04-03T09:13:10.773Z"
   },
   {
    "duration": 517,
    "start_time": "2022-04-03T09:13:22.717Z"
   },
   {
    "duration": 213,
    "start_time": "2022-04-03T09:13:23.236Z"
   },
   {
    "duration": 41,
    "start_time": "2022-04-03T09:13:23.451Z"
   },
   {
    "duration": 44,
    "start_time": "2022-04-03T09:13:23.496Z"
   },
   {
    "duration": 5,
    "start_time": "2022-04-03T09:13:23.542Z"
   },
   {
    "duration": 35,
    "start_time": "2022-04-03T09:13:23.551Z"
   },
   {
    "duration": 11,
    "start_time": "2022-04-03T09:13:23.590Z"
   },
   {
    "duration": 42,
    "start_time": "2022-04-03T09:13:23.603Z"
   },
   {
    "duration": 51,
    "start_time": "2022-04-03T09:13:23.647Z"
   },
   {
    "duration": 34,
    "start_time": "2022-04-03T09:13:23.702Z"
   },
   {
    "duration": 121,
    "start_time": "2022-04-03T09:13:23.738Z"
   },
   {
    "duration": 135,
    "start_time": "2022-04-03T09:13:23.862Z"
   },
   {
    "duration": 105,
    "start_time": "2022-04-03T09:13:23.999Z"
   },
   {
    "duration": 74,
    "start_time": "2022-04-03T09:13:24.107Z"
   },
   {
    "duration": 6,
    "start_time": "2022-04-03T09:13:24.183Z"
   },
   {
    "duration": 17,
    "start_time": "2022-04-03T09:13:24.191Z"
   },
   {
    "duration": 81,
    "start_time": "2022-04-03T09:13:24.210Z"
   },
   {
    "duration": 20,
    "start_time": "2022-04-03T09:13:24.292Z"
   },
   {
    "duration": 17,
    "start_time": "2022-04-03T09:13:24.313Z"
   },
   {
    "duration": 5,
    "start_time": "2022-04-03T09:13:24.332Z"
   },
   {
    "duration": 59,
    "start_time": "2022-04-03T09:13:24.339Z"
   },
   {
    "duration": 16,
    "start_time": "2022-04-03T09:13:24.401Z"
   },
   {
    "duration": 19,
    "start_time": "2022-04-03T09:13:24.420Z"
   },
   {
    "duration": 51,
    "start_time": "2022-04-03T09:13:24.442Z"
   },
   {
    "duration": 22,
    "start_time": "2022-04-03T09:13:24.496Z"
   },
   {
    "duration": 20,
    "start_time": "2022-04-03T09:13:24.521Z"
   },
   {
    "duration": 47,
    "start_time": "2022-04-03T09:13:24.543Z"
   },
   {
    "duration": 22,
    "start_time": "2022-04-03T09:13:24.595Z"
   },
   {
    "duration": 13,
    "start_time": "2022-04-03T09:13:24.620Z"
   },
   {
    "duration": 6,
    "start_time": "2022-04-03T09:13:24.636Z"
   },
   {
    "duration": 59,
    "start_time": "2022-04-03T09:13:24.644Z"
   },
   {
    "duration": 18,
    "start_time": "2022-04-03T09:13:24.705Z"
   },
   {
    "duration": 31,
    "start_time": "2022-04-03T09:13:24.725Z"
   },
   {
    "duration": 34,
    "start_time": "2022-04-03T09:13:24.759Z"
   },
   {
    "duration": 19,
    "start_time": "2022-04-03T09:13:24.796Z"
   },
   {
    "duration": 9,
    "start_time": "2022-04-03T09:13:24.817Z"
   },
   {
    "duration": 19,
    "start_time": "2022-04-03T09:13:24.829Z"
   },
   {
    "duration": 33,
    "start_time": "2022-04-03T09:13:24.851Z"
   },
   {
    "duration": 22,
    "start_time": "2022-04-03T09:13:49.601Z"
   },
   {
    "duration": 56,
    "start_time": "2022-04-03T09:13:52.884Z"
   },
   {
    "duration": 5,
    "start_time": "2022-04-03T09:16:48.564Z"
   },
   {
    "duration": 6,
    "start_time": "2022-04-03T09:17:35.133Z"
   },
   {
    "duration": 5,
    "start_time": "2022-04-03T09:23:18.529Z"
   }
  ],
  "colab": {
   "collapsed_sections": [
    "E0vqbgi9ay0H",
    "VUC88oWjTJw2"
   ],
   "name": "yandex_music_project.ipynb",
   "provenance": []
  },
  "kernelspec": {
   "display_name": "Python 3 (ipykernel)",
   "language": "python",
   "name": "python3"
  },
  "language_info": {
   "codemirror_mode": {
    "name": "ipython",
    "version": 3
   },
   "file_extension": ".py",
   "mimetype": "text/x-python",
   "name": "python",
   "nbconvert_exporter": "python",
   "pygments_lexer": "ipython3",
   "version": "3.7.12"
  },
  "toc": {
   "base_numbering": 1,
   "nav_menu": {},
   "number_sections": true,
   "sideBar": true,
   "skip_h1_title": true,
   "title_cell": "Table of Contents",
   "title_sidebar": "Contents",
   "toc_cell": false,
   "toc_position": {},
   "toc_section_display": true,
   "toc_window_display": true
  }
 },
 "nbformat": 4,
 "nbformat_minor": 1
}
