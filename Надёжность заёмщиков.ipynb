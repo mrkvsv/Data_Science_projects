{
 "cells": [
  {
   "cell_type": "markdown",
   "id": "5f6a53fe",
   "metadata": {},
   "source": [
    "# Исследование надежности заемщиков."
   ]
  },
  {
   "cell_type": "markdown",
   "id": "66d39935",
   "metadata": {},
   "source": [
    "От банка представлены данные со статистикой платежеспособности клиентов.\n",
    "Необходимо проанализировать как те или иные характеристики клиента банка влияют на возврат кредита в срок, а именно:\n",
    "- Есть ли зависимость между количеством детей и возвратом кредита в срок?\n",
    "- Есть ли зависимость между семейным положением и возвратом кредита в срок?\n",
    "- Есть ли зависимость между уровнем дохода и возвратом кредита в срок?\n",
    "- Как разные цели кредита влияют на его возврат в срок?\n",
    "\n",
    "Задание будем выполнять в несколько этапов:\n",
    "1. [Обзор данных](#start)\n",
    "2. [Предобработка данных:](#fiilna)\n",
    "    - [заполнение пропусков](#fillna)\n",
    "    - [проверка данных на аномалии и их исправление](#median)\n",
    "    - [изменение типов данных](#int)\n",
    "    - [удаление дупликатов](#duplicate)\n",
    "    - [формирование дополнительных датафреймов словарей, декомпозиция исходного датафрейма](#df)\n",
    "    - [категоризация дохода](#def_inccome)\n",
    "    - [катекоризация целей кредита](#def_purpose)\n",
    "3. [Анализ данных, ответы на поставленные вопросы](#agg)\n",
    "4. [Общий вывод](#answer)"
   ]
  },
  {
   "cell_type": "markdown",
   "id": "152ab3ea",
   "metadata": {},
   "source": [
    "**Наименование колонок:**\n",
    "- `children` — количество детей в семье\n",
    "- `days_employed` — общий трудовой стаж в днях\n",
    "- `dob_years` — возраст клиента в годах\n",
    "- `education` — уровень образования клиента\n",
    "- `education_id` — идентификатор уровня образования\n",
    "- `family_status` — семейное положение\n",
    "- `family_status_id` — идентификатор семейного положения\n",
    "- `gender` — пол клиента\n",
    "- `income_type` — тип занятости\n",
    "- `debt` — имел ли задолженность по возврату кредитов\n",
    "- `total_income` — ежемесячный доход\n",
    "- `purpose` — цель получения кредита"
   ]
  },
  {
   "cell_type": "markdown",
   "id": "d120eb6d",
   "metadata": {},
   "source": [
    " # Шаг 1. Обзор данных "
   ]
  },
  {
   "cell_type": "code",
   "execution_count": 177,
   "id": "944a4e49",
   "metadata": {},
   "outputs": [],
   "source": [
    "import pandas as pd\n",
    "import seaborn as sb"
   ]
  },
  {
   "cell_type": "code",
   "execution_count": 178,
   "id": "9b67006d",
   "metadata": {},
   "outputs": [
    {
     "data": {
      "text/html": [
       "<div>\n",
       "<style scoped>\n",
       "    .dataframe tbody tr th:only-of-type {\n",
       "        vertical-align: middle;\n",
       "    }\n",
       "\n",
       "    .dataframe tbody tr th {\n",
       "        vertical-align: top;\n",
       "    }\n",
       "\n",
       "    .dataframe thead th {\n",
       "        text-align: right;\n",
       "    }\n",
       "</style>\n",
       "<table border=\"1\" class=\"dataframe\">\n",
       "  <thead>\n",
       "    <tr style=\"text-align: right;\">\n",
       "      <th></th>\n",
       "      <th>children</th>\n",
       "      <th>days_employed</th>\n",
       "      <th>dob_years</th>\n",
       "      <th>education</th>\n",
       "      <th>education_id</th>\n",
       "      <th>family_status</th>\n",
       "      <th>family_status_id</th>\n",
       "      <th>gender</th>\n",
       "      <th>income_type</th>\n",
       "      <th>debt</th>\n",
       "      <th>total_income</th>\n",
       "      <th>purpose</th>\n",
       "    </tr>\n",
       "  </thead>\n",
       "  <tbody>\n",
       "    <tr>\n",
       "      <th>0</th>\n",
       "      <td>1</td>\n",
       "      <td>-8437.673028</td>\n",
       "      <td>42</td>\n",
       "      <td>высшее</td>\n",
       "      <td>0</td>\n",
       "      <td>женат / замужем</td>\n",
       "      <td>0</td>\n",
       "      <td>F</td>\n",
       "      <td>сотрудник</td>\n",
       "      <td>0</td>\n",
       "      <td>253875.639453</td>\n",
       "      <td>покупка жилья</td>\n",
       "    </tr>\n",
       "    <tr>\n",
       "      <th>1</th>\n",
       "      <td>1</td>\n",
       "      <td>-4024.803754</td>\n",
       "      <td>36</td>\n",
       "      <td>среднее</td>\n",
       "      <td>1</td>\n",
       "      <td>женат / замужем</td>\n",
       "      <td>0</td>\n",
       "      <td>F</td>\n",
       "      <td>сотрудник</td>\n",
       "      <td>0</td>\n",
       "      <td>112080.014102</td>\n",
       "      <td>приобретение автомобиля</td>\n",
       "    </tr>\n",
       "    <tr>\n",
       "      <th>2</th>\n",
       "      <td>0</td>\n",
       "      <td>-5623.422610</td>\n",
       "      <td>33</td>\n",
       "      <td>Среднее</td>\n",
       "      <td>1</td>\n",
       "      <td>женат / замужем</td>\n",
       "      <td>0</td>\n",
       "      <td>M</td>\n",
       "      <td>сотрудник</td>\n",
       "      <td>0</td>\n",
       "      <td>145885.952297</td>\n",
       "      <td>покупка жилья</td>\n",
       "    </tr>\n",
       "    <tr>\n",
       "      <th>3</th>\n",
       "      <td>3</td>\n",
       "      <td>-4124.747207</td>\n",
       "      <td>32</td>\n",
       "      <td>среднее</td>\n",
       "      <td>1</td>\n",
       "      <td>женат / замужем</td>\n",
       "      <td>0</td>\n",
       "      <td>M</td>\n",
       "      <td>сотрудник</td>\n",
       "      <td>0</td>\n",
       "      <td>267628.550329</td>\n",
       "      <td>дополнительное образование</td>\n",
       "    </tr>\n",
       "    <tr>\n",
       "      <th>4</th>\n",
       "      <td>0</td>\n",
       "      <td>340266.072047</td>\n",
       "      <td>53</td>\n",
       "      <td>среднее</td>\n",
       "      <td>1</td>\n",
       "      <td>гражданский брак</td>\n",
       "      <td>1</td>\n",
       "      <td>F</td>\n",
       "      <td>пенсионер</td>\n",
       "      <td>0</td>\n",
       "      <td>158616.077870</td>\n",
       "      <td>сыграть свадьбу</td>\n",
       "    </tr>\n",
       "    <tr>\n",
       "      <th>5</th>\n",
       "      <td>0</td>\n",
       "      <td>-926.185831</td>\n",
       "      <td>27</td>\n",
       "      <td>высшее</td>\n",
       "      <td>0</td>\n",
       "      <td>гражданский брак</td>\n",
       "      <td>1</td>\n",
       "      <td>M</td>\n",
       "      <td>компаньон</td>\n",
       "      <td>0</td>\n",
       "      <td>255763.565419</td>\n",
       "      <td>покупка жилья</td>\n",
       "    </tr>\n",
       "    <tr>\n",
       "      <th>6</th>\n",
       "      <td>0</td>\n",
       "      <td>-2879.202052</td>\n",
       "      <td>43</td>\n",
       "      <td>высшее</td>\n",
       "      <td>0</td>\n",
       "      <td>женат / замужем</td>\n",
       "      <td>0</td>\n",
       "      <td>F</td>\n",
       "      <td>компаньон</td>\n",
       "      <td>0</td>\n",
       "      <td>240525.971920</td>\n",
       "      <td>операции с жильем</td>\n",
       "    </tr>\n",
       "    <tr>\n",
       "      <th>7</th>\n",
       "      <td>0</td>\n",
       "      <td>-152.779569</td>\n",
       "      <td>50</td>\n",
       "      <td>СРЕДНЕЕ</td>\n",
       "      <td>1</td>\n",
       "      <td>женат / замужем</td>\n",
       "      <td>0</td>\n",
       "      <td>M</td>\n",
       "      <td>сотрудник</td>\n",
       "      <td>0</td>\n",
       "      <td>135823.934197</td>\n",
       "      <td>образование</td>\n",
       "    </tr>\n",
       "    <tr>\n",
       "      <th>8</th>\n",
       "      <td>2</td>\n",
       "      <td>-6929.865299</td>\n",
       "      <td>35</td>\n",
       "      <td>ВЫСШЕЕ</td>\n",
       "      <td>0</td>\n",
       "      <td>гражданский брак</td>\n",
       "      <td>1</td>\n",
       "      <td>F</td>\n",
       "      <td>сотрудник</td>\n",
       "      <td>0</td>\n",
       "      <td>95856.832424</td>\n",
       "      <td>на проведение свадьбы</td>\n",
       "    </tr>\n",
       "    <tr>\n",
       "      <th>9</th>\n",
       "      <td>0</td>\n",
       "      <td>-2188.756445</td>\n",
       "      <td>41</td>\n",
       "      <td>среднее</td>\n",
       "      <td>1</td>\n",
       "      <td>женат / замужем</td>\n",
       "      <td>0</td>\n",
       "      <td>M</td>\n",
       "      <td>сотрудник</td>\n",
       "      <td>0</td>\n",
       "      <td>144425.938277</td>\n",
       "      <td>покупка жилья для семьи</td>\n",
       "    </tr>\n",
       "  </tbody>\n",
       "</table>\n",
       "</div>"
      ],
      "text/plain": [
       "   children  days_employed  dob_years education  education_id  \\\n",
       "0         1   -8437.673028         42    высшее             0   \n",
       "1         1   -4024.803754         36   среднее             1   \n",
       "2         0   -5623.422610         33   Среднее             1   \n",
       "3         3   -4124.747207         32   среднее             1   \n",
       "4         0  340266.072047         53   среднее             1   \n",
       "5         0    -926.185831         27    высшее             0   \n",
       "6         0   -2879.202052         43    высшее             0   \n",
       "7         0    -152.779569         50   СРЕДНЕЕ             1   \n",
       "8         2   -6929.865299         35    ВЫСШЕЕ             0   \n",
       "9         0   -2188.756445         41   среднее             1   \n",
       "\n",
       "      family_status  family_status_id gender income_type  debt   total_income  \\\n",
       "0   женат / замужем                 0      F   сотрудник     0  253875.639453   \n",
       "1   женат / замужем                 0      F   сотрудник     0  112080.014102   \n",
       "2   женат / замужем                 0      M   сотрудник     0  145885.952297   \n",
       "3   женат / замужем                 0      M   сотрудник     0  267628.550329   \n",
       "4  гражданский брак                 1      F   пенсионер     0  158616.077870   \n",
       "5  гражданский брак                 1      M   компаньон     0  255763.565419   \n",
       "6   женат / замужем                 0      F   компаньон     0  240525.971920   \n",
       "7   женат / замужем                 0      M   сотрудник     0  135823.934197   \n",
       "8  гражданский брак                 1      F   сотрудник     0   95856.832424   \n",
       "9   женат / замужем                 0      M   сотрудник     0  144425.938277   \n",
       "\n",
       "                      purpose  \n",
       "0               покупка жилья  \n",
       "1     приобретение автомобиля  \n",
       "2               покупка жилья  \n",
       "3  дополнительное образование  \n",
       "4             сыграть свадьбу  \n",
       "5               покупка жилья  \n",
       "6           операции с жильем  \n",
       "7                 образование  \n",
       "8       на проведение свадьбы  \n",
       "9     покупка жилья для семьи  "
      ]
     },
     "execution_count": 178,
     "metadata": {},
     "output_type": "execute_result"
    }
   ],
   "source": [
    "data = pd.read_csv('/datasets/data.csv')\n",
    "data.head(10)"
   ]
  },
  {
   "cell_type": "code",
   "execution_count": 179,
   "id": "9da14ae2",
   "metadata": {},
   "outputs": [
    {
     "name": "stdout",
     "output_type": "stream",
     "text": [
      "<class 'pandas.core.frame.DataFrame'>\n",
      "RangeIndex: 21525 entries, 0 to 21524\n",
      "Data columns (total 12 columns):\n",
      " #   Column            Non-Null Count  Dtype  \n",
      "---  ------            --------------  -----  \n",
      " 0   children          21525 non-null  int64  \n",
      " 1   days_employed     19351 non-null  float64\n",
      " 2   dob_years         21525 non-null  int64  \n",
      " 3   education         21525 non-null  object \n",
      " 4   education_id      21525 non-null  int64  \n",
      " 5   family_status     21525 non-null  object \n",
      " 6   family_status_id  21525 non-null  int64  \n",
      " 7   gender            21525 non-null  object \n",
      " 8   income_type       21525 non-null  object \n",
      " 9   debt              21525 non-null  int64  \n",
      " 10  total_income      19351 non-null  float64\n",
      " 11  purpose           21525 non-null  object \n",
      "dtypes: float64(2), int64(5), object(5)\n",
      "memory usage: 2.0+ MB\n"
     ]
    }
   ],
   "source": [
    "data.info()"
   ]
  },
  {
   "cell_type": "markdown",
   "id": "ac0e6173",
   "metadata": {},
   "source": [
    "Наименование столбцов написано корректно"
   ]
  },
  {
   "cell_type": "code",
   "execution_count": 180,
   "id": "92c26bfc",
   "metadata": {},
   "outputs": [
    {
     "data": {
      "text/html": [
       "<div>\n",
       "<style scoped>\n",
       "    .dataframe tbody tr th:only-of-type {\n",
       "        vertical-align: middle;\n",
       "    }\n",
       "\n",
       "    .dataframe tbody tr th {\n",
       "        vertical-align: top;\n",
       "    }\n",
       "\n",
       "    .dataframe thead th {\n",
       "        text-align: right;\n",
       "    }\n",
       "</style>\n",
       "<table border=\"1\" class=\"dataframe\">\n",
       "  <thead>\n",
       "    <tr style=\"text-align: right;\">\n",
       "      <th></th>\n",
       "      <th>count</th>\n",
       "      <th>mean</th>\n",
       "      <th>std</th>\n",
       "      <th>min</th>\n",
       "      <th>25%</th>\n",
       "      <th>50%</th>\n",
       "      <th>75%</th>\n",
       "      <th>max</th>\n",
       "    </tr>\n",
       "  </thead>\n",
       "  <tbody>\n",
       "    <tr>\n",
       "      <th>children</th>\n",
       "      <td>21525.0</td>\n",
       "      <td>0.538908</td>\n",
       "      <td>1.381587</td>\n",
       "      <td>-1.000000</td>\n",
       "      <td>0.000000</td>\n",
       "      <td>0.000000</td>\n",
       "      <td>1.000000</td>\n",
       "      <td>2.000000e+01</td>\n",
       "    </tr>\n",
       "    <tr>\n",
       "      <th>days_employed</th>\n",
       "      <td>19351.0</td>\n",
       "      <td>63046.497661</td>\n",
       "      <td>140827.311974</td>\n",
       "      <td>-18388.949901</td>\n",
       "      <td>-2747.423625</td>\n",
       "      <td>-1203.369529</td>\n",
       "      <td>-291.095954</td>\n",
       "      <td>4.017554e+05</td>\n",
       "    </tr>\n",
       "    <tr>\n",
       "      <th>dob_years</th>\n",
       "      <td>21525.0</td>\n",
       "      <td>43.293380</td>\n",
       "      <td>12.574584</td>\n",
       "      <td>0.000000</td>\n",
       "      <td>33.000000</td>\n",
       "      <td>42.000000</td>\n",
       "      <td>53.000000</td>\n",
       "      <td>7.500000e+01</td>\n",
       "    </tr>\n",
       "    <tr>\n",
       "      <th>education_id</th>\n",
       "      <td>21525.0</td>\n",
       "      <td>0.817236</td>\n",
       "      <td>0.548138</td>\n",
       "      <td>0.000000</td>\n",
       "      <td>1.000000</td>\n",
       "      <td>1.000000</td>\n",
       "      <td>1.000000</td>\n",
       "      <td>4.000000e+00</td>\n",
       "    </tr>\n",
       "    <tr>\n",
       "      <th>family_status_id</th>\n",
       "      <td>21525.0</td>\n",
       "      <td>0.972544</td>\n",
       "      <td>1.420324</td>\n",
       "      <td>0.000000</td>\n",
       "      <td>0.000000</td>\n",
       "      <td>0.000000</td>\n",
       "      <td>1.000000</td>\n",
       "      <td>4.000000e+00</td>\n",
       "    </tr>\n",
       "    <tr>\n",
       "      <th>debt</th>\n",
       "      <td>21525.0</td>\n",
       "      <td>0.080883</td>\n",
       "      <td>0.272661</td>\n",
       "      <td>0.000000</td>\n",
       "      <td>0.000000</td>\n",
       "      <td>0.000000</td>\n",
       "      <td>0.000000</td>\n",
       "      <td>1.000000e+00</td>\n",
       "    </tr>\n",
       "    <tr>\n",
       "      <th>total_income</th>\n",
       "      <td>19351.0</td>\n",
       "      <td>167422.302208</td>\n",
       "      <td>102971.566448</td>\n",
       "      <td>20667.263793</td>\n",
       "      <td>103053.152913</td>\n",
       "      <td>145017.937533</td>\n",
       "      <td>203435.067663</td>\n",
       "      <td>2.265604e+06</td>\n",
       "    </tr>\n",
       "  </tbody>\n",
       "</table>\n",
       "</div>"
      ],
      "text/plain": [
       "                    count           mean            std           min  \\\n",
       "children          21525.0       0.538908       1.381587     -1.000000   \n",
       "days_employed     19351.0   63046.497661  140827.311974 -18388.949901   \n",
       "dob_years         21525.0      43.293380      12.574584      0.000000   \n",
       "education_id      21525.0       0.817236       0.548138      0.000000   \n",
       "family_status_id  21525.0       0.972544       1.420324      0.000000   \n",
       "debt              21525.0       0.080883       0.272661      0.000000   \n",
       "total_income      19351.0  167422.302208  102971.566448  20667.263793   \n",
       "\n",
       "                            25%            50%            75%           max  \n",
       "children               0.000000       0.000000       1.000000  2.000000e+01  \n",
       "days_employed      -2747.423625   -1203.369529    -291.095954  4.017554e+05  \n",
       "dob_years             33.000000      42.000000      53.000000  7.500000e+01  \n",
       "education_id           1.000000       1.000000       1.000000  4.000000e+00  \n",
       "family_status_id       0.000000       0.000000       1.000000  4.000000e+00  \n",
       "debt                   0.000000       0.000000       0.000000  1.000000e+00  \n",
       "total_income      103053.152913  145017.937533  203435.067663  2.265604e+06  "
      ]
     },
     "execution_count": 180,
     "metadata": {},
     "output_type": "execute_result"
    }
   ],
   "source": [
    "data.describe().T"
   ]
  },
  {
   "cell_type": "markdown",
   "id": "dcfc3d39",
   "metadata": {},
   "source": [
    "Таблица содержит 21525 строк и 12 столбцов, название колонок написано верно, при этом содержит пропуски в столбцах `days_employed` и `total_income`.\n",
    "\n",
    "Сразу можем заметить, что столбец трудого стажа содержит отрицательные значения, которые необходимо исправить. Стандартное отклонение в столбце `days_employed` крайне большое и составляет 385 лет (140827 дней), что странно."
   ]
  },
  {
   "cell_type": "markdown",
   "id": "7c821661",
   "metadata": {},
   "source": [
    "## Шаг 2.1 Заполнение пропусков  <a id=\"fillna\"></a>"
   ]
  },
  {
   "cell_type": "code",
   "execution_count": 181,
   "id": "00f8fb43",
   "metadata": {
    "scrolled": true
   },
   "outputs": [
    {
     "data": {
      "text/plain": [
       "children               0\n",
       "days_employed       2174\n",
       "dob_years              0\n",
       "education              0\n",
       "education_id           0\n",
       "family_status          0\n",
       "family_status_id       0\n",
       "gender                 0\n",
       "income_type            0\n",
       "debt                   0\n",
       "total_income        2174\n",
       "purpose                0\n",
       "dtype: int64"
      ]
     },
     "execution_count": 181,
     "metadata": {},
     "output_type": "execute_result"
    }
   ],
   "source": [
    "data.isna().sum()"
   ]
  },
  {
   "cell_type": "markdown",
   "id": "a01a9e01",
   "metadata": {},
   "source": [
    "В столбцах `days_employed` и `total_income` есть пропуски"
   ]
  },
  {
   "cell_type": "code",
   "execution_count": 182,
   "id": "c090680a",
   "metadata": {},
   "outputs": [
    {
     "data": {
      "text/plain": [
       "'10.1%'"
      ]
     },
     "execution_count": 182,
     "metadata": {},
     "output_type": "execute_result"
    }
   ],
   "source": [
    "'{:.1%}'.format(data['days_employed'].isna().sum()/data['children'].count())"
   ]
  },
  {
   "cell_type": "code",
   "execution_count": 183,
   "id": "5b2463b1",
   "metadata": {},
   "outputs": [
    {
     "data": {
      "text/plain": [
       "'10.1%'"
      ]
     },
     "execution_count": 183,
     "metadata": {},
     "output_type": "execute_result"
    }
   ],
   "source": [
    "'{:.1%}'.format(data['total_income'].isna().sum()/data['children'].count())"
   ]
  },
  {
   "cell_type": "markdown",
   "id": "d9a59df1",
   "metadata": {},
   "source": [
    "- Пропуски в обоих столбцах составляют 10,1% от общего количества значений\n",
    "- Пропуски могут быть, как технологическими (возникшими при копировании, считывании, смене формата), так и связанные с человеческим фактором\n",
    "- Заполнить пропуски следует медианными значениями, так как среднее значение для таких показателей, как трудовой стаж и ежемесячный доход не отражают действительных данных, ввиду большого разброса значений"
   ]
  },
  {
   "cell_type": "code",
   "execution_count": 184,
   "id": "8d7e9a19",
   "metadata": {},
   "outputs": [
    {
     "data": {
      "text/plain": [
       "children               0\n",
       "days_employed       2174\n",
       "dob_years              0\n",
       "education              0\n",
       "education_id           0\n",
       "family_status          0\n",
       "family_status_id       0\n",
       "gender                 0\n",
       "income_type            0\n",
       "debt                   0\n",
       "total_income           0\n",
       "purpose                0\n",
       "dtype: int64"
      ]
     },
     "execution_count": 184,
     "metadata": {},
     "output_type": "execute_result"
    }
   ],
   "source": [
    "data['total_income'] = data['total_income'].fillna(data['total_income'].median())\n",
    "data.isna().sum()"
   ]
  },
  {
   "cell_type": "markdown",
   "id": "c8c12cf2",
   "metadata": {},
   "source": [
    "Пропуски в столбце `total_income` заполненны медианным значением"
   ]
  },
  {
   "cell_type": "markdown",
   "id": "daa593e6",
   "metadata": {},
   "source": [
    "## Шаг 2.2 Проверка данных на аномалии и исправления. <a id=\"median\"></a>"
   ]
  },
  {
   "cell_type": "code",
   "execution_count": 185,
   "id": "9bd9e437",
   "metadata": {},
   "outputs": [
    {
     "data": {
      "text/plain": [
       "array(['высшее', 'среднее', 'Среднее', 'СРЕДНЕЕ', 'ВЫСШЕЕ',\n",
       "       'неоконченное высшее', 'начальное', 'Высшее',\n",
       "       'НЕОКОНЧЕННОЕ ВЫСШЕЕ', 'Неоконченное высшее', 'НАЧАЛЬНОЕ',\n",
       "       'Начальное', 'Ученая степень', 'УЧЕНАЯ СТЕПЕНЬ', 'ученая степень'],\n",
       "      dtype=object)"
      ]
     },
     "execution_count": 185,
     "metadata": {},
     "output_type": "execute_result"
    }
   ],
   "source": [
    "data['education'].unique()"
   ]
  },
  {
   "cell_type": "markdown",
   "id": "924f22b4",
   "metadata": {},
   "source": [
    "В колонке встречаются значения с верхним регистром и повторы, приведем все значения к одной форме"
   ]
  },
  {
   "cell_type": "code",
   "execution_count": 186,
   "id": "45f783a1",
   "metadata": {},
   "outputs": [
    {
     "data": {
      "text/plain": [
       "array(['высшее', 'среднее', 'неоконченное высшее', 'начальное',\n",
       "       'ученая степень'], dtype=object)"
      ]
     },
     "execution_count": 186,
     "metadata": {},
     "output_type": "execute_result"
    }
   ],
   "source": [
    "data['education'] = data['education'].str.lower()\n",
    "data['education'].unique()"
   ]
  },
  {
   "cell_type": "code",
   "execution_count": 187,
   "id": "fa4a0838",
   "metadata": {},
   "outputs": [
    {
     "data": {
      "text/plain": [
       "array([ 1,  0,  3,  2, -1,  4, 20,  5])"
      ]
     },
     "execution_count": 187,
     "metadata": {},
     "output_type": "execute_result"
    }
   ],
   "source": [
    "data['children'].unique()"
   ]
  },
  {
   "cell_type": "code",
   "execution_count": 188,
   "id": "df51604e",
   "metadata": {},
   "outputs": [
    {
     "data": {
      "text/plain": [
       "47"
      ]
     },
     "execution_count": 188,
     "metadata": {},
     "output_type": "execute_result"
    }
   ],
   "source": [
    "data[data['children'] == -1]['children'].count()"
   ]
  },
  {
   "cell_type": "markdown",
   "id": "6a0257be",
   "metadata": {},
   "source": [
    "В столбце `children` 47 раз встречается отрицательное значение (-1). Такого быть не может, видимо, опечатка. Стоит заменить на занчение по модулю."
   ]
  },
  {
   "cell_type": "code",
   "execution_count": 189,
   "id": "7488c355",
   "metadata": {},
   "outputs": [
    {
     "data": {
      "text/plain": [
       "array([ 1,  0,  3,  2,  4, 20,  5])"
      ]
     },
     "execution_count": 189,
     "metadata": {},
     "output_type": "execute_result"
    }
   ],
   "source": [
    "data['children'] = abs(data['children'])\n",
    "data['children'].unique()"
   ]
  },
  {
   "cell_type": "code",
   "execution_count": 190,
   "id": "7462f4c4",
   "metadata": {},
   "outputs": [
    {
     "data": {
      "text/plain": [
       "array([0, 1, 2, 3, 4])"
      ]
     },
     "execution_count": 190,
     "metadata": {},
     "output_type": "execute_result"
    }
   ],
   "source": [
    "data['family_status_id'].unique()"
   ]
  },
  {
   "cell_type": "code",
   "execution_count": 191,
   "id": "7cf8f037",
   "metadata": {},
   "outputs": [
    {
     "data": {
      "text/plain": [
       "array([42, 36, 33, 32, 53, 27, 43, 50, 35, 41, 40, 65, 54, 56, 26, 48, 24,\n",
       "       21, 57, 67, 28, 63, 62, 47, 34, 68, 25, 31, 30, 20, 49, 37, 45, 61,\n",
       "       64, 44, 52, 46, 23, 38, 39, 51,  0, 59, 29, 60, 55, 58, 71, 22, 73,\n",
       "       66, 69, 19, 72, 70, 74, 75])"
      ]
     },
     "execution_count": 191,
     "metadata": {},
     "output_type": "execute_result"
    }
   ],
   "source": [
    "data['dob_years'].unique()"
   ]
  },
  {
   "cell_type": "code",
   "execution_count": 192,
   "id": "b5b16d18",
   "metadata": {},
   "outputs": [
    {
     "data": {
      "text/plain": [
       "array([0, 1, 2, 3, 4])"
      ]
     },
     "execution_count": 192,
     "metadata": {},
     "output_type": "execute_result"
    }
   ],
   "source": [
    "data['education_id'].unique()"
   ]
  },
  {
   "cell_type": "code",
   "execution_count": 193,
   "id": "2c2f1857",
   "metadata": {},
   "outputs": [
    {
     "data": {
      "text/plain": [
       "array(['женат / замужем', 'гражданский брак', 'вдовец / вдова',\n",
       "       'в разводе', 'Не женат / не замужем'], dtype=object)"
      ]
     },
     "execution_count": 193,
     "metadata": {},
     "output_type": "execute_result"
    }
   ],
   "source": [
    "data['family_status'].unique()"
   ]
  },
  {
   "cell_type": "code",
   "execution_count": 194,
   "id": "d125ead0",
   "metadata": {},
   "outputs": [
    {
     "data": {
      "text/plain": [
       "array([0, 1, 2, 3, 4])"
      ]
     },
     "execution_count": 194,
     "metadata": {},
     "output_type": "execute_result"
    }
   ],
   "source": [
    "data['family_status_id'].unique()"
   ]
  },
  {
   "cell_type": "code",
   "execution_count": 195,
   "id": "c241b2f8",
   "metadata": {},
   "outputs": [
    {
     "data": {
      "text/plain": [
       "array(['F', 'M', 'XNA'], dtype=object)"
      ]
     },
     "execution_count": 195,
     "metadata": {},
     "output_type": "execute_result"
    }
   ],
   "source": [
    "data['gender'].unique()"
   ]
  },
  {
   "cell_type": "markdown",
   "id": "36a1184a",
   "metadata": {},
   "source": [
    "Есть неопределенное значение пола `XNA` "
   ]
  },
  {
   "cell_type": "code",
   "execution_count": 196,
   "id": "c6d21e89",
   "metadata": {},
   "outputs": [
    {
     "data": {
      "text/html": [
       "<div>\n",
       "<style scoped>\n",
       "    .dataframe tbody tr th:only-of-type {\n",
       "        vertical-align: middle;\n",
       "    }\n",
       "\n",
       "    .dataframe tbody tr th {\n",
       "        vertical-align: top;\n",
       "    }\n",
       "\n",
       "    .dataframe thead th {\n",
       "        text-align: right;\n",
       "    }\n",
       "</style>\n",
       "<table border=\"1\" class=\"dataframe\">\n",
       "  <thead>\n",
       "    <tr style=\"text-align: right;\">\n",
       "      <th></th>\n",
       "      <th>children</th>\n",
       "      <th>days_employed</th>\n",
       "      <th>dob_years</th>\n",
       "      <th>education</th>\n",
       "      <th>education_id</th>\n",
       "      <th>family_status</th>\n",
       "      <th>family_status_id</th>\n",
       "      <th>gender</th>\n",
       "      <th>income_type</th>\n",
       "      <th>debt</th>\n",
       "      <th>total_income</th>\n",
       "      <th>purpose</th>\n",
       "    </tr>\n",
       "  </thead>\n",
       "  <tbody>\n",
       "    <tr>\n",
       "      <th>10701</th>\n",
       "      <td>0</td>\n",
       "      <td>-2358.600502</td>\n",
       "      <td>24</td>\n",
       "      <td>неоконченное высшее</td>\n",
       "      <td>2</td>\n",
       "      <td>гражданский брак</td>\n",
       "      <td>1</td>\n",
       "      <td>XNA</td>\n",
       "      <td>компаньон</td>\n",
       "      <td>0</td>\n",
       "      <td>203905.157261</td>\n",
       "      <td>покупка недвижимости</td>\n",
       "    </tr>\n",
       "  </tbody>\n",
       "</table>\n",
       "</div>"
      ],
      "text/plain": [
       "       children  days_employed  dob_years            education  education_id  \\\n",
       "10701         0   -2358.600502         24  неоконченное высшее             2   \n",
       "\n",
       "          family_status  family_status_id gender income_type  debt  \\\n",
       "10701  гражданский брак                 1    XNA   компаньон     0   \n",
       "\n",
       "        total_income               purpose  \n",
       "10701  203905.157261  покупка недвижимости  "
      ]
     },
     "execution_count": 196,
     "metadata": {},
     "output_type": "execute_result"
    }
   ],
   "source": [
    "data[data['gender'] == 'XNA']"
   ]
  },
  {
   "cell_type": "markdown",
   "id": "c4540508",
   "metadata": {},
   "source": [
    "К категории пола `XNA` относиться одна строка, по представленным данным определить пол не представляется возможным. Оставим без изменения."
   ]
  },
  {
   "cell_type": "code",
   "execution_count": 197,
   "id": "03ffcf6a",
   "metadata": {},
   "outputs": [
    {
     "data": {
      "text/plain": [
       "array(['сотрудник', 'пенсионер', 'компаньон', 'госслужащий',\n",
       "       'безработный', 'предприниматель', 'студент', 'в декрете'],\n",
       "      dtype=object)"
      ]
     },
     "execution_count": 197,
     "metadata": {},
     "output_type": "execute_result"
    }
   ],
   "source": [
    "data['income_type'].unique()"
   ]
  },
  {
   "cell_type": "code",
   "execution_count": 198,
   "id": "fffbd364",
   "metadata": {},
   "outputs": [
    {
     "data": {
      "text/plain": [
       "array([0, 1])"
      ]
     },
     "execution_count": 198,
     "metadata": {},
     "output_type": "execute_result"
    }
   ],
   "source": [
    "data['debt'].unique()"
   ]
  },
  {
   "cell_type": "code",
   "execution_count": 199,
   "id": "8337d8ad",
   "metadata": {},
   "outputs": [
    {
     "data": {
      "text/plain": [
       "array(['покупка жилья', 'приобретение автомобиля',\n",
       "       'дополнительное образование', 'сыграть свадьбу',\n",
       "       'операции с жильем', 'образование', 'на проведение свадьбы',\n",
       "       'покупка жилья для семьи', 'покупка недвижимости',\n",
       "       'покупка коммерческой недвижимости', 'покупка жилой недвижимости',\n",
       "       'строительство собственной недвижимости', 'недвижимость',\n",
       "       'строительство недвижимости', 'на покупку подержанного автомобиля',\n",
       "       'на покупку своего автомобиля',\n",
       "       'операции с коммерческой недвижимостью',\n",
       "       'строительство жилой недвижимости', 'жилье',\n",
       "       'операции со своей недвижимостью', 'автомобили',\n",
       "       'заняться образованием', 'сделка с подержанным автомобилем',\n",
       "       'получение образования', 'автомобиль', 'свадьба',\n",
       "       'получение дополнительного образования', 'покупка своего жилья',\n",
       "       'операции с недвижимостью', 'получение высшего образования',\n",
       "       'свой автомобиль', 'сделка с автомобилем',\n",
       "       'профильное образование', 'высшее образование',\n",
       "       'покупка жилья для сдачи', 'на покупку автомобиля', 'ремонт жилью',\n",
       "       'заняться высшим образованием'], dtype=object)"
      ]
     },
     "execution_count": 199,
     "metadata": {},
     "output_type": "execute_result"
    }
   ],
   "source": [
    "data['purpose'].unique()"
   ]
  },
  {
   "cell_type": "markdown",
   "id": "57210a98",
   "metadata": {},
   "source": [
    "Цель `ремонт жилью` стоит переименовать "
   ]
  },
  {
   "cell_type": "code",
   "execution_count": 200,
   "id": "27eaabb0",
   "metadata": {},
   "outputs": [],
   "source": [
    "data['purpose'] = data['purpose'].replace('ремонт жилью', 'ремонт жилья')"
   ]
  },
  {
   "cell_type": "markdown",
   "id": "a565e844",
   "metadata": {},
   "source": [
    "Отрицательные значения могут находиться не только в столбце `days_employed`, но и в столбце `total_income`, поэтому стоит заменить данные значения по модулю"
   ]
  },
  {
   "cell_type": "code",
   "execution_count": 201,
   "id": "bc33951b",
   "metadata": {
    "scrolled": true
   },
   "outputs": [
    {
     "data": {
      "text/html": [
       "<div>\n",
       "<style scoped>\n",
       "    .dataframe tbody tr th:only-of-type {\n",
       "        vertical-align: middle;\n",
       "    }\n",
       "\n",
       "    .dataframe tbody tr th {\n",
       "        vertical-align: top;\n",
       "    }\n",
       "\n",
       "    .dataframe thead th {\n",
       "        text-align: right;\n",
       "    }\n",
       "</style>\n",
       "<table border=\"1\" class=\"dataframe\">\n",
       "  <thead>\n",
       "    <tr style=\"text-align: right;\">\n",
       "      <th></th>\n",
       "      <th>children</th>\n",
       "      <th>days_employed</th>\n",
       "      <th>dob_years</th>\n",
       "      <th>education</th>\n",
       "      <th>education_id</th>\n",
       "      <th>family_status</th>\n",
       "      <th>family_status_id</th>\n",
       "      <th>gender</th>\n",
       "      <th>income_type</th>\n",
       "      <th>debt</th>\n",
       "      <th>total_income</th>\n",
       "      <th>purpose</th>\n",
       "    </tr>\n",
       "  </thead>\n",
       "  <tbody>\n",
       "    <tr>\n",
       "      <th>0</th>\n",
       "      <td>1</td>\n",
       "      <td>8437.673028</td>\n",
       "      <td>42</td>\n",
       "      <td>высшее</td>\n",
       "      <td>0</td>\n",
       "      <td>женат / замужем</td>\n",
       "      <td>0</td>\n",
       "      <td>F</td>\n",
       "      <td>сотрудник</td>\n",
       "      <td>0</td>\n",
       "      <td>253875.639453</td>\n",
       "      <td>покупка жилья</td>\n",
       "    </tr>\n",
       "    <tr>\n",
       "      <th>1</th>\n",
       "      <td>1</td>\n",
       "      <td>4024.803754</td>\n",
       "      <td>36</td>\n",
       "      <td>среднее</td>\n",
       "      <td>1</td>\n",
       "      <td>женат / замужем</td>\n",
       "      <td>0</td>\n",
       "      <td>F</td>\n",
       "      <td>сотрудник</td>\n",
       "      <td>0</td>\n",
       "      <td>112080.014102</td>\n",
       "      <td>приобретение автомобиля</td>\n",
       "    </tr>\n",
       "    <tr>\n",
       "      <th>2</th>\n",
       "      <td>0</td>\n",
       "      <td>5623.422610</td>\n",
       "      <td>33</td>\n",
       "      <td>среднее</td>\n",
       "      <td>1</td>\n",
       "      <td>женат / замужем</td>\n",
       "      <td>0</td>\n",
       "      <td>M</td>\n",
       "      <td>сотрудник</td>\n",
       "      <td>0</td>\n",
       "      <td>145885.952297</td>\n",
       "      <td>покупка жилья</td>\n",
       "    </tr>\n",
       "    <tr>\n",
       "      <th>3</th>\n",
       "      <td>3</td>\n",
       "      <td>4124.747207</td>\n",
       "      <td>32</td>\n",
       "      <td>среднее</td>\n",
       "      <td>1</td>\n",
       "      <td>женат / замужем</td>\n",
       "      <td>0</td>\n",
       "      <td>M</td>\n",
       "      <td>сотрудник</td>\n",
       "      <td>0</td>\n",
       "      <td>267628.550329</td>\n",
       "      <td>дополнительное образование</td>\n",
       "    </tr>\n",
       "    <tr>\n",
       "      <th>4</th>\n",
       "      <td>0</td>\n",
       "      <td>340266.072047</td>\n",
       "      <td>53</td>\n",
       "      <td>среднее</td>\n",
       "      <td>1</td>\n",
       "      <td>гражданский брак</td>\n",
       "      <td>1</td>\n",
       "      <td>F</td>\n",
       "      <td>пенсионер</td>\n",
       "      <td>0</td>\n",
       "      <td>158616.077870</td>\n",
       "      <td>сыграть свадьбу</td>\n",
       "    </tr>\n",
       "    <tr>\n",
       "      <th>5</th>\n",
       "      <td>0</td>\n",
       "      <td>926.185831</td>\n",
       "      <td>27</td>\n",
       "      <td>высшее</td>\n",
       "      <td>0</td>\n",
       "      <td>гражданский брак</td>\n",
       "      <td>1</td>\n",
       "      <td>M</td>\n",
       "      <td>компаньон</td>\n",
       "      <td>0</td>\n",
       "      <td>255763.565419</td>\n",
       "      <td>покупка жилья</td>\n",
       "    </tr>\n",
       "    <tr>\n",
       "      <th>6</th>\n",
       "      <td>0</td>\n",
       "      <td>2879.202052</td>\n",
       "      <td>43</td>\n",
       "      <td>высшее</td>\n",
       "      <td>0</td>\n",
       "      <td>женат / замужем</td>\n",
       "      <td>0</td>\n",
       "      <td>F</td>\n",
       "      <td>компаньон</td>\n",
       "      <td>0</td>\n",
       "      <td>240525.971920</td>\n",
       "      <td>операции с жильем</td>\n",
       "    </tr>\n",
       "    <tr>\n",
       "      <th>7</th>\n",
       "      <td>0</td>\n",
       "      <td>152.779569</td>\n",
       "      <td>50</td>\n",
       "      <td>среднее</td>\n",
       "      <td>1</td>\n",
       "      <td>женат / замужем</td>\n",
       "      <td>0</td>\n",
       "      <td>M</td>\n",
       "      <td>сотрудник</td>\n",
       "      <td>0</td>\n",
       "      <td>135823.934197</td>\n",
       "      <td>образование</td>\n",
       "    </tr>\n",
       "    <tr>\n",
       "      <th>8</th>\n",
       "      <td>2</td>\n",
       "      <td>6929.865299</td>\n",
       "      <td>35</td>\n",
       "      <td>высшее</td>\n",
       "      <td>0</td>\n",
       "      <td>гражданский брак</td>\n",
       "      <td>1</td>\n",
       "      <td>F</td>\n",
       "      <td>сотрудник</td>\n",
       "      <td>0</td>\n",
       "      <td>95856.832424</td>\n",
       "      <td>на проведение свадьбы</td>\n",
       "    </tr>\n",
       "    <tr>\n",
       "      <th>9</th>\n",
       "      <td>0</td>\n",
       "      <td>2188.756445</td>\n",
       "      <td>41</td>\n",
       "      <td>среднее</td>\n",
       "      <td>1</td>\n",
       "      <td>женат / замужем</td>\n",
       "      <td>0</td>\n",
       "      <td>M</td>\n",
       "      <td>сотрудник</td>\n",
       "      <td>0</td>\n",
       "      <td>144425.938277</td>\n",
       "      <td>покупка жилья для семьи</td>\n",
       "    </tr>\n",
       "  </tbody>\n",
       "</table>\n",
       "</div>"
      ],
      "text/plain": [
       "   children  days_employed  dob_years education  education_id  \\\n",
       "0         1    8437.673028         42    высшее             0   \n",
       "1         1    4024.803754         36   среднее             1   \n",
       "2         0    5623.422610         33   среднее             1   \n",
       "3         3    4124.747207         32   среднее             1   \n",
       "4         0  340266.072047         53   среднее             1   \n",
       "5         0     926.185831         27    высшее             0   \n",
       "6         0    2879.202052         43    высшее             0   \n",
       "7         0     152.779569         50   среднее             1   \n",
       "8         2    6929.865299         35    высшее             0   \n",
       "9         0    2188.756445         41   среднее             1   \n",
       "\n",
       "      family_status  family_status_id gender income_type  debt   total_income  \\\n",
       "0   женат / замужем                 0      F   сотрудник     0  253875.639453   \n",
       "1   женат / замужем                 0      F   сотрудник     0  112080.014102   \n",
       "2   женат / замужем                 0      M   сотрудник     0  145885.952297   \n",
       "3   женат / замужем                 0      M   сотрудник     0  267628.550329   \n",
       "4  гражданский брак                 1      F   пенсионер     0  158616.077870   \n",
       "5  гражданский брак                 1      M   компаньон     0  255763.565419   \n",
       "6   женат / замужем                 0      F   компаньон     0  240525.971920   \n",
       "7   женат / замужем                 0      M   сотрудник     0  135823.934197   \n",
       "8  гражданский брак                 1      F   сотрудник     0   95856.832424   \n",
       "9   женат / замужем                 0      M   сотрудник     0  144425.938277   \n",
       "\n",
       "                      purpose  \n",
       "0               покупка жилья  \n",
       "1     приобретение автомобиля  \n",
       "2               покупка жилья  \n",
       "3  дополнительное образование  \n",
       "4             сыграть свадьбу  \n",
       "5               покупка жилья  \n",
       "6           операции с жильем  \n",
       "7                 образование  \n",
       "8       на проведение свадьбы  \n",
       "9     покупка жилья для семьи  "
      ]
     },
     "execution_count": 201,
     "metadata": {},
     "output_type": "execute_result"
    }
   ],
   "source": [
    "data['days_employed'] = abs(data['days_employed'])\n",
    "data['total_income'] = abs(data['total_income'])\n",
    "data.head(10)"
   ]
  },
  {
   "cell_type": "markdown",
   "id": "5fc8b30c",
   "metadata": {},
   "source": [
    "Аномальные значения - значения, не соответсвующие действительности. Непроверенными остались 2 столбца, в которых могут находиться аномалии\n",
    "\n",
    "Например, в представленных данных столбец `days_employed` отражает общий трудовой стаж в днях. Соотвественно, трудовой стаж не может быть больше возраста клиента, что стоит проверить. \n",
    "\n",
    "Также необходимо проверить столбец `total_income` на наличие аномальных значений (к примеру, сумма дохода более 10 млн. в месяц)."
   ]
  },
  {
   "cell_type": "code",
   "execution_count": 202,
   "id": "87a34cb0",
   "metadata": {},
   "outputs": [
    {
     "data": {
      "text/plain": [
       "3519"
      ]
     },
     "execution_count": 202,
     "metadata": {},
     "output_type": "execute_result"
    }
   ],
   "source": [
    "data[(data['days_employed'])>((data['dob_years'])*365)]['days_employed'].count()"
   ]
  },
  {
   "cell_type": "markdown",
   "id": "dfffe496",
   "metadata": {},
   "source": [
    "У 3529 клиентов трудовой стаж больше их возраста, что не может быть в действительности. Если в дальнейшем анализе данный столбец будет необходим, эти показатели стоит заменить."
   ]
  },
  {
   "cell_type": "code",
   "execution_count": 203,
   "id": "f3bfc5f2",
   "metadata": {},
   "outputs": [
    {
     "data": {
      "text/plain": [
       "0"
      ]
     },
     "execution_count": 203,
     "metadata": {},
     "output_type": "execute_result"
    }
   ],
   "source": [
    "data[data['total_income']>3000000]['total_income'].count()"
   ]
  },
  {
   "cell_type": "code",
   "execution_count": 204,
   "id": "1f3e7523",
   "metadata": {},
   "outputs": [
    {
     "data": {
      "text/plain": [
       "2"
      ]
     },
     "execution_count": 204,
     "metadata": {},
     "output_type": "execute_result"
    }
   ],
   "source": [
    "data[data['total_income']>2000000]['total_income'].count()"
   ]
  },
  {
   "cell_type": "markdown",
   "id": "838222ba",
   "metadata": {},
   "source": [
    "У двух клиентов ежемесячный доход от 2 до 3 млн., что вполне может соответсвовать действительности, поэтому аномальных значений в данном столбце нет."
   ]
  },
  {
   "cell_type": "markdown",
   "id": "991fb330",
   "metadata": {},
   "source": [
    "**Причины появления аномалий такие же, как и с пропусками, вызванные технологическим или человеческим факторами**"
   ]
  },
  {
   "cell_type": "markdown",
   "id": "0e485719",
   "metadata": {},
   "source": [
    "Заполним пропуски в столбце `days_employed` медианными значениями"
   ]
  },
  {
   "cell_type": "code",
   "execution_count": 205,
   "id": "ba68e1a8",
   "metadata": {},
   "outputs": [
    {
     "data": {
      "text/plain": [
       "children            0\n",
       "days_employed       0\n",
       "dob_years           0\n",
       "education           0\n",
       "education_id        0\n",
       "family_status       0\n",
       "family_status_id    0\n",
       "gender              0\n",
       "income_type         0\n",
       "debt                0\n",
       "total_income        0\n",
       "purpose             0\n",
       "dtype: int64"
      ]
     },
     "execution_count": 205,
     "metadata": {},
     "output_type": "execute_result"
    }
   ],
   "source": [
    "data['days_employed'] = data['days_employed'].fillna(data['days_employed'].median())\n",
    "data.isna().sum()"
   ]
  },
  {
   "cell_type": "markdown",
   "id": "fe918b96",
   "metadata": {},
   "source": [
    "## Шаг 2.3. Изменение типов данных. <a id=\"int\"></a>\n"
   ]
  },
  {
   "cell_type": "code",
   "execution_count": 206,
   "id": "2d3b9671",
   "metadata": {},
   "outputs": [
    {
     "name": "stdout",
     "output_type": "stream",
     "text": [
      "<class 'pandas.core.frame.DataFrame'>\n",
      "RangeIndex: 21525 entries, 0 to 21524\n",
      "Data columns (total 12 columns):\n",
      " #   Column            Non-Null Count  Dtype  \n",
      "---  ------            --------------  -----  \n",
      " 0   children          21525 non-null  int64  \n",
      " 1   days_employed     21525 non-null  float64\n",
      " 2   dob_years         21525 non-null  int64  \n",
      " 3   education         21525 non-null  object \n",
      " 4   education_id      21525 non-null  int64  \n",
      " 5   family_status     21525 non-null  object \n",
      " 6   family_status_id  21525 non-null  int64  \n",
      " 7   gender            21525 non-null  object \n",
      " 8   income_type       21525 non-null  object \n",
      " 9   debt              21525 non-null  int64  \n",
      " 10  total_income      21525 non-null  float64\n",
      " 11  purpose           21525 non-null  object \n",
      "dtypes: float64(2), int64(5), object(5)\n",
      "memory usage: 13.5 MB\n"
     ]
    }
   ],
   "source": [
    "data.info(memory_usage='deep')"
   ]
  },
  {
   "cell_type": "code",
   "execution_count": 207,
   "id": "f99ef139",
   "metadata": {},
   "outputs": [
    {
     "name": "stdout",
     "output_type": "stream",
     "text": [
      "<class 'pandas.core.frame.DataFrame'>\n",
      "RangeIndex: 21525 entries, 0 to 21524\n",
      "Data columns (total 12 columns):\n",
      " #   Column            Non-Null Count  Dtype   \n",
      "---  ------            --------------  -----   \n",
      " 0   children          21525 non-null  int8    \n",
      " 1   days_employed     21525 non-null  float32 \n",
      " 2   dob_years         21525 non-null  int8    \n",
      " 3   education         21525 non-null  category\n",
      " 4   education_id      21525 non-null  int8    \n",
      " 5   family_status     21525 non-null  category\n",
      " 6   family_status_id  21525 non-null  int8    \n",
      " 7   gender            21525 non-null  category\n",
      " 8   income_type       21525 non-null  category\n",
      " 9   debt              21525 non-null  int8    \n",
      " 10  total_income      21525 non-null  int32   \n",
      " 11  purpose           21525 non-null  object  \n",
      "dtypes: category(4), float32(1), int32(1), int8(5), object(1)\n",
      "memory usage: 3.8 MB\n"
     ]
    }
   ],
   "source": [
    "data['total_income'] = data['total_income'].astype('int32')\n",
    "data['children'] = data['children'].astype('int8')\n",
    "data['days_employed'] = data['days_employed'].astype('float32')\n",
    "data['dob_years'] = data['dob_years'].astype('int8')\n",
    "data['education_id'] = data['education_id'].astype('int8')\n",
    "data['family_status_id'] = data['family_status_id'].astype('int8')\n",
    "data['debt'] = data['debt'].astype('int8')\n",
    "data['education'] = data['education'].astype('category')\n",
    "data['family_status'] = data['family_status'].astype('category')\n",
    "data['gender'] = data['gender'].astype('category')\n",
    "data['income_type'] = data['income_type'].astype('category')\n",
    "\n",
    "data.info(memory_usage='deep')"
   ]
  },
  {
   "cell_type": "markdown",
   "id": "658a4027",
   "metadata": {},
   "source": [
    "Изменение типов данных позволлило сэкономить память на 71.85% (было 13.5 Мб, стало 3.8 Мб).\n",
    "\n",
    "Так, мы изменили данные типа `int64` на данные типа `int32`, `int8` в соотвествии с их диапозоном данных.\n",
    "\n",
    "Также изменили данные `object` на `category`, в столбцах, содержащих категориальные значения.\n",
    "\n"
   ]
  },
  {
   "cell_type": "markdown",
   "id": "2c6eb470",
   "metadata": {},
   "source": [
    "## Шаг 2.4. Удаление дубликатов. <a id=\"duplicate\"></a>"
   ]
  },
  {
   "cell_type": "code",
   "execution_count": 208,
   "id": "41686737",
   "metadata": {
    "scrolled": true
   },
   "outputs": [
    {
     "data": {
      "text/plain": [
       "71"
      ]
     },
     "execution_count": 208,
     "metadata": {},
     "output_type": "execute_result"
    }
   ],
   "source": [
    "data.duplicated().sum()"
   ]
  },
  {
   "cell_type": "markdown",
   "id": "67f4bb00",
   "metadata": {},
   "source": [
    "В таблице присутсвует 71 дубликат строк, удалим их "
   ]
  },
  {
   "cell_type": "code",
   "execution_count": 209,
   "id": "2b4d0c18",
   "metadata": {},
   "outputs": [
    {
     "data": {
      "text/plain": [
       "0"
      ]
     },
     "execution_count": 209,
     "metadata": {},
     "output_type": "execute_result"
    }
   ],
   "source": [
    "data = data.drop_duplicates().reset_index(drop=True)\n",
    "data.duplicated().sum()"
   ]
  },
  {
   "cell_type": "markdown",
   "id": "db5f89e6",
   "metadata": {},
   "source": [
    "В таблице находились явные и неявные дубликаты. Неявные дубликаты находили с помщью метода `unique()` (например, в столбце `education`, где присутсвовали одни и теже названия, записанные с верхним и нижним регистром), которые обработали путем приведения всех наименований к нижнему регистру. Явные дубликаты исправили методом `drop_duplicates()`, удалив повторы строк."
   ]
  },
  {
   "cell_type": "markdown",
   "id": "b0c21a62",
   "metadata": {},
   "source": [
    "Возможные причины появления дубликатов:\n",
    "- ошибки в записи (использовались разные регистры, как в столбце `education`) \n",
    "- возможны и технические причины ошибок (неудачно написанный код мог испортить)"
   ]
  },
  {
   "cell_type": "markdown",
   "id": "6046cbc3",
   "metadata": {},
   "source": [
    "## Шаг 2.5. Формирование дополнительных датафреймов словарей, декомпозиция исходного датафрейма. <a id=\"df\"></a>"
   ]
  },
  {
   "cell_type": "code",
   "execution_count": 210,
   "id": "5bd73bc0",
   "metadata": {},
   "outputs": [
    {
     "data": {
      "text/html": [
       "<div>\n",
       "<style scoped>\n",
       "    .dataframe tbody tr th:only-of-type {\n",
       "        vertical-align: middle;\n",
       "    }\n",
       "\n",
       "    .dataframe tbody tr th {\n",
       "        vertical-align: top;\n",
       "    }\n",
       "\n",
       "    .dataframe thead th {\n",
       "        text-align: right;\n",
       "    }\n",
       "</style>\n",
       "<table border=\"1\" class=\"dataframe\">\n",
       "  <thead>\n",
       "    <tr style=\"text-align: right;\">\n",
       "      <th></th>\n",
       "      <th>education</th>\n",
       "      <th>education_id</th>\n",
       "    </tr>\n",
       "  </thead>\n",
       "  <tbody>\n",
       "    <tr>\n",
       "      <th>0</th>\n",
       "      <td>высшее</td>\n",
       "      <td>0</td>\n",
       "    </tr>\n",
       "    <tr>\n",
       "      <th>1</th>\n",
       "      <td>среднее</td>\n",
       "      <td>1</td>\n",
       "    </tr>\n",
       "    <tr>\n",
       "      <th>2</th>\n",
       "      <td>неоконченное высшее</td>\n",
       "      <td>2</td>\n",
       "    </tr>\n",
       "    <tr>\n",
       "      <th>3</th>\n",
       "      <td>начальное</td>\n",
       "      <td>3</td>\n",
       "    </tr>\n",
       "    <tr>\n",
       "      <th>4</th>\n",
       "      <td>ученая степень</td>\n",
       "      <td>4</td>\n",
       "    </tr>\n",
       "  </tbody>\n",
       "</table>\n",
       "</div>"
      ],
      "text/plain": [
       "             education  education_id\n",
       "0               высшее             0\n",
       "1              среднее             1\n",
       "2  неоконченное высшее             2\n",
       "3            начальное             3\n",
       "4       ученая степень             4"
      ]
     },
     "execution_count": 210,
     "metadata": {},
     "output_type": "execute_result"
    }
   ],
   "source": [
    "education = data[['education', 'education_id']]\n",
    "education.drop_duplicates().reset_index(drop=True)"
   ]
  },
  {
   "cell_type": "code",
   "execution_count": 211,
   "id": "870b0532",
   "metadata": {},
   "outputs": [
    {
     "data": {
      "text/html": [
       "<div>\n",
       "<style scoped>\n",
       "    .dataframe tbody tr th:only-of-type {\n",
       "        vertical-align: middle;\n",
       "    }\n",
       "\n",
       "    .dataframe tbody tr th {\n",
       "        vertical-align: top;\n",
       "    }\n",
       "\n",
       "    .dataframe thead th {\n",
       "        text-align: right;\n",
       "    }\n",
       "</style>\n",
       "<table border=\"1\" class=\"dataframe\">\n",
       "  <thead>\n",
       "    <tr style=\"text-align: right;\">\n",
       "      <th></th>\n",
       "      <th>family_status</th>\n",
       "      <th>family_status_id</th>\n",
       "    </tr>\n",
       "  </thead>\n",
       "  <tbody>\n",
       "    <tr>\n",
       "      <th>0</th>\n",
       "      <td>женат / замужем</td>\n",
       "      <td>0</td>\n",
       "    </tr>\n",
       "    <tr>\n",
       "      <th>1</th>\n",
       "      <td>гражданский брак</td>\n",
       "      <td>1</td>\n",
       "    </tr>\n",
       "    <tr>\n",
       "      <th>2</th>\n",
       "      <td>вдовец / вдова</td>\n",
       "      <td>2</td>\n",
       "    </tr>\n",
       "    <tr>\n",
       "      <th>3</th>\n",
       "      <td>в разводе</td>\n",
       "      <td>3</td>\n",
       "    </tr>\n",
       "    <tr>\n",
       "      <th>4</th>\n",
       "      <td>Не женат / не замужем</td>\n",
       "      <td>4</td>\n",
       "    </tr>\n",
       "  </tbody>\n",
       "</table>\n",
       "</div>"
      ],
      "text/plain": [
       "           family_status  family_status_id\n",
       "0        женат / замужем                 0\n",
       "1       гражданский брак                 1\n",
       "2         вдовец / вдова                 2\n",
       "3              в разводе                 3\n",
       "4  Не женат / не замужем                 4"
      ]
     },
     "execution_count": 211,
     "metadata": {},
     "output_type": "execute_result"
    }
   ],
   "source": [
    "family = data[['family_status', 'family_status_id']]\n",
    "family.drop_duplicates().reset_index(drop=True)"
   ]
  },
  {
   "cell_type": "code",
   "execution_count": 212,
   "id": "f88783cb",
   "metadata": {},
   "outputs": [
    {
     "data": {
      "text/html": [
       "<div>\n",
       "<style scoped>\n",
       "    .dataframe tbody tr th:only-of-type {\n",
       "        vertical-align: middle;\n",
       "    }\n",
       "\n",
       "    .dataframe tbody tr th {\n",
       "        vertical-align: top;\n",
       "    }\n",
       "\n",
       "    .dataframe thead th {\n",
       "        text-align: right;\n",
       "    }\n",
       "</style>\n",
       "<table border=\"1\" class=\"dataframe\">\n",
       "  <thead>\n",
       "    <tr style=\"text-align: right;\">\n",
       "      <th></th>\n",
       "      <th>children</th>\n",
       "      <th>days_employed</th>\n",
       "      <th>dob_years</th>\n",
       "      <th>education_id</th>\n",
       "      <th>family_status_id</th>\n",
       "      <th>gender</th>\n",
       "      <th>income_type</th>\n",
       "      <th>debt</th>\n",
       "      <th>total_income</th>\n",
       "      <th>purpose</th>\n",
       "    </tr>\n",
       "  </thead>\n",
       "  <tbody>\n",
       "    <tr>\n",
       "      <th>0</th>\n",
       "      <td>1</td>\n",
       "      <td>8437.672852</td>\n",
       "      <td>42</td>\n",
       "      <td>0</td>\n",
       "      <td>0</td>\n",
       "      <td>F</td>\n",
       "      <td>сотрудник</td>\n",
       "      <td>0</td>\n",
       "      <td>253875</td>\n",
       "      <td>покупка жилья</td>\n",
       "    </tr>\n",
       "    <tr>\n",
       "      <th>1</th>\n",
       "      <td>1</td>\n",
       "      <td>4024.803711</td>\n",
       "      <td>36</td>\n",
       "      <td>1</td>\n",
       "      <td>0</td>\n",
       "      <td>F</td>\n",
       "      <td>сотрудник</td>\n",
       "      <td>0</td>\n",
       "      <td>112080</td>\n",
       "      <td>приобретение автомобиля</td>\n",
       "    </tr>\n",
       "    <tr>\n",
       "      <th>2</th>\n",
       "      <td>0</td>\n",
       "      <td>5623.422852</td>\n",
       "      <td>33</td>\n",
       "      <td>1</td>\n",
       "      <td>0</td>\n",
       "      <td>M</td>\n",
       "      <td>сотрудник</td>\n",
       "      <td>0</td>\n",
       "      <td>145885</td>\n",
       "      <td>покупка жилья</td>\n",
       "    </tr>\n",
       "    <tr>\n",
       "      <th>3</th>\n",
       "      <td>3</td>\n",
       "      <td>4124.747070</td>\n",
       "      <td>32</td>\n",
       "      <td>1</td>\n",
       "      <td>0</td>\n",
       "      <td>M</td>\n",
       "      <td>сотрудник</td>\n",
       "      <td>0</td>\n",
       "      <td>267628</td>\n",
       "      <td>дополнительное образование</td>\n",
       "    </tr>\n",
       "    <tr>\n",
       "      <th>4</th>\n",
       "      <td>0</td>\n",
       "      <td>340266.062500</td>\n",
       "      <td>53</td>\n",
       "      <td>1</td>\n",
       "      <td>1</td>\n",
       "      <td>F</td>\n",
       "      <td>пенсионер</td>\n",
       "      <td>0</td>\n",
       "      <td>158616</td>\n",
       "      <td>сыграть свадьбу</td>\n",
       "    </tr>\n",
       "  </tbody>\n",
       "</table>\n",
       "</div>"
      ],
      "text/plain": [
       "   children  days_employed  dob_years  education_id  family_status_id gender  \\\n",
       "0         1    8437.672852         42             0                 0      F   \n",
       "1         1    4024.803711         36             1                 0      F   \n",
       "2         0    5623.422852         33             1                 0      M   \n",
       "3         3    4124.747070         32             1                 0      M   \n",
       "4         0  340266.062500         53             1                 1      F   \n",
       "\n",
       "  income_type  debt  total_income                     purpose  \n",
       "0   сотрудник     0        253875               покупка жилья  \n",
       "1   сотрудник     0        112080     приобретение автомобиля  \n",
       "2   сотрудник     0        145885               покупка жилья  \n",
       "3   сотрудник     0        267628  дополнительное образование  \n",
       "4   пенсионер     0        158616             сыграть свадьбу  "
      ]
     },
     "execution_count": 212,
     "metadata": {},
     "output_type": "execute_result"
    }
   ],
   "source": [
    "data = data.drop(['family_status', 'education'], axis=1)\n",
    "data.head()"
   ]
  },
  {
   "cell_type": "markdown",
   "id": "1588f4a3",
   "metadata": {},
   "source": [
    "Создали отдельные Датафреймы, удалили дупликаты. Из исходной таблицы удалили столбцы `family_status` и `education`. "
   ]
  },
  {
   "cell_type": "markdown",
   "id": "96301549",
   "metadata": {},
   "source": [
    "### Шаг 2.6. Категоризация дохода. <a id=\"def_income\"></a>"
   ]
  },
  {
   "cell_type": "code",
   "execution_count": 213,
   "id": "60652e0a",
   "metadata": {},
   "outputs": [],
   "source": [
    "def income_category(income):\n",
    "    if income <= 30000:\n",
    "        return 'E'\n",
    "    if income <= 50000:\n",
    "        return 'D'\n",
    "    if income <= 200000:\n",
    "        return 'C'\n",
    "    if income <= 1000000:\n",
    "        return 'B'\n",
    "    return 'A'\n",
    "\n",
    "data['total_income_category'] = data['total_income'].apply(income_category)"
   ]
  },
  {
   "cell_type": "markdown",
   "id": "9417f535",
   "metadata": {},
   "source": [
    "Добавили столбец `total_income_category`, в котором хранятся значения по категории доходов"
   ]
  },
  {
   "cell_type": "markdown",
   "id": "149e3a75",
   "metadata": {},
   "source": [
    "## Шаг 2.7. Категоризация целей кредита. <a id=\"def_purpose\"></a>"
   ]
  },
  {
   "cell_type": "code",
   "execution_count": 214,
   "id": "4f4f19ab",
   "metadata": {},
   "outputs": [
    {
     "data": {
      "text/plain": [
       "array(['покупка жилья', 'приобретение автомобиля',\n",
       "       'дополнительное образование', 'сыграть свадьбу',\n",
       "       'операции с жильем', 'образование', 'на проведение свадьбы',\n",
       "       'покупка жилья для семьи', 'покупка недвижимости',\n",
       "       'покупка коммерческой недвижимости', 'покупка жилой недвижимости',\n",
       "       'строительство собственной недвижимости', 'недвижимость',\n",
       "       'строительство недвижимости', 'на покупку подержанного автомобиля',\n",
       "       'на покупку своего автомобиля',\n",
       "       'операции с коммерческой недвижимостью',\n",
       "       'строительство жилой недвижимости', 'жилье',\n",
       "       'операции со своей недвижимостью', 'автомобили',\n",
       "       'заняться образованием', 'сделка с подержанным автомобилем',\n",
       "       'получение образования', 'автомобиль', 'свадьба',\n",
       "       'получение дополнительного образования', 'покупка своего жилья',\n",
       "       'операции с недвижимостью', 'получение высшего образования',\n",
       "       'свой автомобиль', 'сделка с автомобилем',\n",
       "       'профильное образование', 'высшее образование',\n",
       "       'покупка жилья для сдачи', 'на покупку автомобиля', 'ремонт жилья',\n",
       "       'заняться высшим образованием'], dtype=object)"
      ]
     },
     "execution_count": 214,
     "metadata": {},
     "output_type": "execute_result"
    }
   ],
   "source": [
    "data['purpose'].unique()"
   ]
  },
  {
   "cell_type": "code",
   "execution_count": 215,
   "id": "cb17fb13",
   "metadata": {},
   "outputs": [
    {
     "data": {
      "text/plain": [
       "array(['операции с недвижимостью', 'операции с автомобилем',\n",
       "       'получение образования', 'проведение свадьбы'], dtype=object)"
      ]
     },
     "execution_count": 215,
     "metadata": {},
     "output_type": "execute_result"
    }
   ],
   "source": [
    "def purpose_category(purpose):\n",
    "    if 'авто' in purpose:\n",
    "        return 'операции с автомобилем'\n",
    "    elif 'недвиж' in purpose or 'жил'in purpose:\n",
    "        return 'операции с недвижимостью'\n",
    "    elif 'свадь' in purpose:\n",
    "        return 'проведение свадьбы'\n",
    "    return 'получение образования'\n",
    "data['purpose_category'] = data['purpose'].apply(purpose_category)\n",
    "data['purpose_category'].unique()"
   ]
  },
  {
   "cell_type": "markdown",
   "id": "ce1748b7",
   "metadata": {},
   "source": [
    "Добавили столбец `purpose_category`, в котором хранятся значения по целям кредита"
   ]
  },
  {
   "cell_type": "markdown",
   "id": "6fe822d9",
   "metadata": {},
   "source": [
    "## Ответы на вопросы. <a id=\"agg\"></a>"
   ]
  },
  {
   "cell_type": "markdown",
   "id": "b0fc5c88",
   "metadata": {},
   "source": [
    "##### Вопрос 1: Есть ли зависимость между количеством детей и возвратом кредита в срок?"
   ]
  },
  {
   "cell_type": "code",
   "execution_count": 216,
   "id": "21d582bb",
   "metadata": {},
   "outputs": [
    {
     "data": {
      "text/html": [
       "<div>\n",
       "<style scoped>\n",
       "    .dataframe tbody tr th:only-of-type {\n",
       "        vertical-align: middle;\n",
       "    }\n",
       "\n",
       "    .dataframe tbody tr th {\n",
       "        vertical-align: top;\n",
       "    }\n",
       "\n",
       "    .dataframe thead tr th {\n",
       "        text-align: left;\n",
       "    }\n",
       "\n",
       "    .dataframe thead tr:last-of-type th {\n",
       "        text-align: right;\n",
       "    }\n",
       "</style>\n",
       "<table border=\"1\" class=\"dataframe\">\n",
       "  <thead>\n",
       "    <tr>\n",
       "      <th></th>\n",
       "      <th colspan=\"3\" halign=\"left\">debt</th>\n",
       "    </tr>\n",
       "    <tr>\n",
       "      <th></th>\n",
       "      <th>count</th>\n",
       "      <th>sum</th>\n",
       "      <th>mean</th>\n",
       "    </tr>\n",
       "    <tr>\n",
       "      <th>children</th>\n",
       "      <th></th>\n",
       "      <th></th>\n",
       "      <th></th>\n",
       "    </tr>\n",
       "  </thead>\n",
       "  <tbody>\n",
       "    <tr>\n",
       "      <th>0</th>\n",
       "      <td>14091</td>\n",
       "      <td>1063.0</td>\n",
       "      <td>0.075438</td>\n",
       "    </tr>\n",
       "    <tr>\n",
       "      <th>1</th>\n",
       "      <td>4855</td>\n",
       "      <td>445.0</td>\n",
       "      <td>0.091658</td>\n",
       "    </tr>\n",
       "    <tr>\n",
       "      <th>2</th>\n",
       "      <td>2052</td>\n",
       "      <td>194.0</td>\n",
       "      <td>0.094542</td>\n",
       "    </tr>\n",
       "    <tr>\n",
       "      <th>3</th>\n",
       "      <td>330</td>\n",
       "      <td>27.0</td>\n",
       "      <td>0.081818</td>\n",
       "    </tr>\n",
       "    <tr>\n",
       "      <th>4</th>\n",
       "      <td>41</td>\n",
       "      <td>4.0</td>\n",
       "      <td>0.097561</td>\n",
       "    </tr>\n",
       "    <tr>\n",
       "      <th>5</th>\n",
       "      <td>9</td>\n",
       "      <td>0.0</td>\n",
       "      <td>0.000000</td>\n",
       "    </tr>\n",
       "    <tr>\n",
       "      <th>20</th>\n",
       "      <td>76</td>\n",
       "      <td>8.0</td>\n",
       "      <td>0.105263</td>\n",
       "    </tr>\n",
       "  </tbody>\n",
       "</table>\n",
       "</div>"
      ],
      "text/plain": [
       "           debt                  \n",
       "          count     sum      mean\n",
       "children                         \n",
       "0         14091  1063.0  0.075438\n",
       "1          4855   445.0  0.091658\n",
       "2          2052   194.0  0.094542\n",
       "3           330    27.0  0.081818\n",
       "4            41     4.0  0.097561\n",
       "5             9     0.0  0.000000\n",
       "20           76     8.0  0.105263"
      ]
     },
     "execution_count": 216,
     "metadata": {},
     "output_type": "execute_result"
    }
   ],
   "source": [
    "data.groupby('children').agg({'debt': ['count', 'sum', 'mean']})"
   ]
  },
  {
   "cell_type": "code",
   "execution_count": 217,
   "id": "e6b4cbea",
   "metadata": {},
   "outputs": [
    {
     "data": {
      "text/plain": [
       "0.09208203178052424"
      ]
     },
     "execution_count": 217,
     "metadata": {},
     "output_type": "execute_result"
    }
   ],
   "source": [
    "data[data['children'] != 0]['debt'].mean()"
   ]
  },
  {
   "cell_type": "markdown",
   "id": "2b0c0104",
   "metadata": {},
   "source": [
    "##### Вывод 1:"
   ]
  },
  {
   "cell_type": "markdown",
   "id": "9f97ed2b",
   "metadata": {},
   "source": [
    "Столбец `mean` отражает процент клиетов, имеющих задолжности по возврату кредита(посокльку 1 - есть задолжность, 0 - нет задолженности, а среднее отражает отношение тех, у кого есть задолженность ко всему количеству клиентов данной категории). \n",
    "\n",
    "**Как видим, количество детей не влияет на возврат кредита:** \n",
    "- 7,5% имеют задолжность от всего количества клиентов, не имеющих детей\n",
    "- 9% имеют задолжность от всего количества клиентов, у которых 1 ребенок\n",
    "- 9,5% имеют задолжность от всего количества клиентов, у которых 2 ребенока\n",
    "- 8,2% имеют задолжность от всего количества клиентов, у которых 3 ребенока\n",
    "- 9,8% имеют задолжность от всего количества клиентов, у которых 4 ребенока\n",
    "- 10,5% имеют задолжность от всего количества клиентов, у которых 20 детей\n",
    "\n",
    "Удивитильно, что клиенты, у которых 5 детей, не имеют задолжностей. Однако таких клиентов всего 9, что крайне мало по сравнению со всей выборкой, поэтому выводы по данной категории не является репрезентативными \n",
    "\n",
    "При этом, зависимости между наличием детей (неважно сколько) и возвратом кредита в срок также нет, так как процент клиентов, у которых есть дети и задолжность составляет 9,2%, против 7,5%, у которых детей нет.\n"
   ]
  },
  {
   "cell_type": "markdown",
   "id": "110327d7",
   "metadata": {},
   "source": [
    "##### Вопрос 2: Есть ли зависимость между семейным положением и возвратом кредита в срок?"
   ]
  },
  {
   "cell_type": "code",
   "execution_count": 218,
   "id": "0a04603e",
   "metadata": {},
   "outputs": [
    {
     "data": {
      "text/html": [
       "<div>\n",
       "<style scoped>\n",
       "    .dataframe tbody tr th:only-of-type {\n",
       "        vertical-align: middle;\n",
       "    }\n",
       "\n",
       "    .dataframe tbody tr th {\n",
       "        vertical-align: top;\n",
       "    }\n",
       "\n",
       "    .dataframe thead tr th {\n",
       "        text-align: left;\n",
       "    }\n",
       "\n",
       "    .dataframe thead tr:last-of-type th {\n",
       "        text-align: right;\n",
       "    }\n",
       "</style>\n",
       "<table border=\"1\" class=\"dataframe\">\n",
       "  <thead>\n",
       "    <tr>\n",
       "      <th></th>\n",
       "      <th colspan=\"3\" halign=\"left\">debt</th>\n",
       "    </tr>\n",
       "    <tr>\n",
       "      <th></th>\n",
       "      <th>count</th>\n",
       "      <th>sum</th>\n",
       "      <th>mean</th>\n",
       "    </tr>\n",
       "    <tr>\n",
       "      <th>family_status_id</th>\n",
       "      <th></th>\n",
       "      <th></th>\n",
       "      <th></th>\n",
       "    </tr>\n",
       "  </thead>\n",
       "  <tbody>\n",
       "    <tr>\n",
       "      <th>0</th>\n",
       "      <td>12339</td>\n",
       "      <td>931.0</td>\n",
       "      <td>0.075452</td>\n",
       "    </tr>\n",
       "    <tr>\n",
       "      <th>1</th>\n",
       "      <td>4151</td>\n",
       "      <td>388.0</td>\n",
       "      <td>0.093471</td>\n",
       "    </tr>\n",
       "    <tr>\n",
       "      <th>2</th>\n",
       "      <td>959</td>\n",
       "      <td>63.0</td>\n",
       "      <td>0.065693</td>\n",
       "    </tr>\n",
       "    <tr>\n",
       "      <th>3</th>\n",
       "      <td>1195</td>\n",
       "      <td>85.0</td>\n",
       "      <td>0.071130</td>\n",
       "    </tr>\n",
       "    <tr>\n",
       "      <th>4</th>\n",
       "      <td>2810</td>\n",
       "      <td>274.0</td>\n",
       "      <td>0.097509</td>\n",
       "    </tr>\n",
       "  </tbody>\n",
       "</table>\n",
       "</div>"
      ],
      "text/plain": [
       "                   debt                 \n",
       "                  count    sum      mean\n",
       "family_status_id                        \n",
       "0                 12339  931.0  0.075452\n",
       "1                  4151  388.0  0.093471\n",
       "2                   959   63.0  0.065693\n",
       "3                  1195   85.0  0.071130\n",
       "4                  2810  274.0  0.097509"
      ]
     },
     "execution_count": 218,
     "metadata": {},
     "output_type": "execute_result"
    }
   ],
   "source": [
    "data.groupby('family_status_id').agg({'debt': ['count', 'sum', 'mean']})"
   ]
  },
  {
   "cell_type": "markdown",
   "id": "545581cf",
   "metadata": {},
   "source": [
    "##### Вывод 2:"
   ]
  },
  {
   "cell_type": "markdown",
   "id": "f36c3258",
   "metadata": {},
   "source": [
    "Столбец `mean` отражает процент клиетов, имеющих задолжности по возврату кредита(посокльку 1 - есть задолжность, 0 - нет задолженности, а среднее отражает отношение тех, у кого есть задолженность ко всему количеству клиентов данной категории). \n",
    "\n",
    "**Как видим, семейное положение не влияет на возврат кредита:** \n",
    "- 7,5% имеют задолжность от всего количества клиентов, которые женаты/замужем\n",
    "- 9,3% имеют задолжность от всего количества клиентов, которые состоят в гражданском браке\n",
    "- 6,5% имеют задолжность от всего количества клиентов, являющихся вдовцом/вдовой\n",
    "- 7,1% имеют задолжность от всего количества клиентов, которые находятся в разводе\n",
    "- 9,8% имеют задолжность от всего количества клиентов, которые не замужем/не женаты\n",
    "\n",
    "\n",
    "Максимальная разница показателей составляет 3,3%, что является несущественным. \n"
   ]
  },
  {
   "cell_type": "markdown",
   "id": "b0d9d96d",
   "metadata": {},
   "source": [
    "##### Вопрос 3: Есть ли зависимость между уровнем дохода и возвратом кредита в срок?"
   ]
  },
  {
   "cell_type": "code",
   "execution_count": 219,
   "id": "35a9c4e1",
   "metadata": {},
   "outputs": [
    {
     "data": {
      "text/html": [
       "<div>\n",
       "<style scoped>\n",
       "    .dataframe tbody tr th:only-of-type {\n",
       "        vertical-align: middle;\n",
       "    }\n",
       "\n",
       "    .dataframe tbody tr th {\n",
       "        vertical-align: top;\n",
       "    }\n",
       "\n",
       "    .dataframe thead tr th {\n",
       "        text-align: left;\n",
       "    }\n",
       "\n",
       "    .dataframe thead tr:last-of-type th {\n",
       "        text-align: right;\n",
       "    }\n",
       "</style>\n",
       "<table border=\"1\" class=\"dataframe\">\n",
       "  <thead>\n",
       "    <tr>\n",
       "      <th></th>\n",
       "      <th colspan=\"3\" halign=\"left\">debt</th>\n",
       "    </tr>\n",
       "    <tr>\n",
       "      <th></th>\n",
       "      <th>count</th>\n",
       "      <th>sum</th>\n",
       "      <th>mean</th>\n",
       "    </tr>\n",
       "    <tr>\n",
       "      <th>total_income_category</th>\n",
       "      <th></th>\n",
       "      <th></th>\n",
       "      <th></th>\n",
       "    </tr>\n",
       "  </thead>\n",
       "  <tbody>\n",
       "    <tr>\n",
       "      <th>A</th>\n",
       "      <td>25</td>\n",
       "      <td>2.0</td>\n",
       "      <td>0.080000</td>\n",
       "    </tr>\n",
       "    <tr>\n",
       "      <th>B</th>\n",
       "      <td>5041</td>\n",
       "      <td>356.0</td>\n",
       "      <td>0.070621</td>\n",
       "    </tr>\n",
       "    <tr>\n",
       "      <th>C</th>\n",
       "      <td>16016</td>\n",
       "      <td>1360.0</td>\n",
       "      <td>0.084915</td>\n",
       "    </tr>\n",
       "    <tr>\n",
       "      <th>D</th>\n",
       "      <td>350</td>\n",
       "      <td>21.0</td>\n",
       "      <td>0.060000</td>\n",
       "    </tr>\n",
       "    <tr>\n",
       "      <th>E</th>\n",
       "      <td>22</td>\n",
       "      <td>2.0</td>\n",
       "      <td>0.090909</td>\n",
       "    </tr>\n",
       "  </tbody>\n",
       "</table>\n",
       "</div>"
      ],
      "text/plain": [
       "                        debt                  \n",
       "                       count     sum      mean\n",
       "total_income_category                         \n",
       "A                         25     2.0  0.080000\n",
       "B                       5041   356.0  0.070621\n",
       "C                      16016  1360.0  0.084915\n",
       "D                        350    21.0  0.060000\n",
       "E                         22     2.0  0.090909"
      ]
     },
     "execution_count": 219,
     "metadata": {},
     "output_type": "execute_result"
    }
   ],
   "source": [
    "data.groupby('total_income_category').agg({'debt': ['count', 'sum', 'mean']})"
   ]
  },
  {
   "cell_type": "markdown",
   "id": "a09a9081",
   "metadata": {},
   "source": [
    "##### Вывод 3:"
   ]
  },
  {
   "cell_type": "markdown",
   "id": "34779d77",
   "metadata": {},
   "source": [
    "Столбец `mean` отражает процент клиетов, имеющих задолжности по возврату кредита(посокльку 1 - есть задолжность, 0 - нет задолженности, а среднее отражает отношение тех, у кого есть задолженность ко всему количеству клиентов данной категории). \n",
    "\n",
    "**Уровень дохода не влияет на возврат кредита:** \n",
    "- 8% имеют задолжность от всего количества клиентов с доходом до 30 тыс.\n",
    "- 7,1% имеют задолжность от всего количества клиентов с доходом от 30001 до 50000\n",
    "- 8,5% имеют задолжность от всего количества клиентов с доходом от 50001 до 200000\n",
    "- 6% имеют задолжность от всего количества клиентов с доходом от 200001 до 1 млн.\n",
    "- 9,1% имеют задолжность от всего количества клиентов с доходом свыше 1 млн.\n",
    "\n",
    "\n",
    "Максимальная разница показателей составляет 3,1%, что также является несущественным. "
   ]
  },
  {
   "cell_type": "markdown",
   "id": "525375f1",
   "metadata": {},
   "source": [
    "##### Вопрос 4: Как разные цели кредита влияют на его возврат в срок?"
   ]
  },
  {
   "cell_type": "code",
   "execution_count": 220,
   "id": "075517bc",
   "metadata": {},
   "outputs": [
    {
     "data": {
      "text/html": [
       "<div>\n",
       "<style scoped>\n",
       "    .dataframe tbody tr th:only-of-type {\n",
       "        vertical-align: middle;\n",
       "    }\n",
       "\n",
       "    .dataframe tbody tr th {\n",
       "        vertical-align: top;\n",
       "    }\n",
       "\n",
       "    .dataframe thead tr th {\n",
       "        text-align: left;\n",
       "    }\n",
       "\n",
       "    .dataframe thead tr:last-of-type th {\n",
       "        text-align: right;\n",
       "    }\n",
       "</style>\n",
       "<table border=\"1\" class=\"dataframe\">\n",
       "  <thead>\n",
       "    <tr>\n",
       "      <th></th>\n",
       "      <th colspan=\"3\" halign=\"left\">debt</th>\n",
       "    </tr>\n",
       "    <tr>\n",
       "      <th></th>\n",
       "      <th>count</th>\n",
       "      <th>sum</th>\n",
       "      <th>mean</th>\n",
       "    </tr>\n",
       "    <tr>\n",
       "      <th>purpose_category</th>\n",
       "      <th></th>\n",
       "      <th></th>\n",
       "      <th></th>\n",
       "    </tr>\n",
       "  </thead>\n",
       "  <tbody>\n",
       "    <tr>\n",
       "      <th>операции с автомобилем</th>\n",
       "      <td>4306</td>\n",
       "      <td>403.0</td>\n",
       "      <td>0.093590</td>\n",
       "    </tr>\n",
       "    <tr>\n",
       "      <th>операции с недвижимостью</th>\n",
       "      <td>10811</td>\n",
       "      <td>782.0</td>\n",
       "      <td>0.072334</td>\n",
       "    </tr>\n",
       "    <tr>\n",
       "      <th>получение образования</th>\n",
       "      <td>4013</td>\n",
       "      <td>370.0</td>\n",
       "      <td>0.092200</td>\n",
       "    </tr>\n",
       "    <tr>\n",
       "      <th>проведение свадьбы</th>\n",
       "      <td>2324</td>\n",
       "      <td>186.0</td>\n",
       "      <td>0.080034</td>\n",
       "    </tr>\n",
       "  </tbody>\n",
       "</table>\n",
       "</div>"
      ],
      "text/plain": [
       "                           debt                 \n",
       "                          count    sum      mean\n",
       "purpose_category                                \n",
       "операции с автомобилем     4306  403.0  0.093590\n",
       "операции с недвижимостью  10811  782.0  0.072334\n",
       "получение образования      4013  370.0  0.092200\n",
       "проведение свадьбы         2324  186.0  0.080034"
      ]
     },
     "execution_count": 220,
     "metadata": {},
     "output_type": "execute_result"
    }
   ],
   "source": [
    "data.groupby('purpose_category').agg({'debt': ['count', 'sum', 'mean']})"
   ]
  },
  {
   "cell_type": "markdown",
   "id": "489e33f5",
   "metadata": {},
   "source": [
    "##### Вывод 4:"
   ]
  },
  {
   "cell_type": "markdown",
   "id": "b7ee18c5",
   "metadata": {},
   "source": [
    "Столбец `mean` отражает процент клиетов, имеющих задолжности по возврату кредита(посокльку 1 - есть задолжность, 0 - нет задолженности, а среднее отражает отношение тех, у кого есть задолженность ко всему количеству клиентов данной категории). \n",
    "\n",
    "**Цель кредита не влияет на его возврат:** \n",
    "- 9,3% имеют задолжность от всего количества клиентов с целью \"операции с автомобилем\"\n",
    "- 7,2% имеют задолжность от всего количества клиентов с целью \"операции с недвижимостью\"\n",
    "- 9,2% имеют задолжность от всего количества клиентов с целью \"проведение свадьбы\"\n",
    "- 8% имеют задолжность от всего количества клиентов с целью \"получение образования\"\n",
    "\n",
    "\n",
    "Максимальная разница показателей составляет 2,3%, что также является несущественным. "
   ]
  },
  {
   "cell_type": "markdown",
   "id": "797e20b3",
   "metadata": {},
   "source": [
    "## Общий вывод: <a id=\"answer\"></a>"
   ]
  },
  {
   "cell_type": "markdown",
   "id": "b4334882",
   "metadata": {},
   "source": [
    "Зависимости между количеством детей, семейным положением, уровнем дохода, а также целью кредита и возвратом кредита в срок нет.\n",
    "Разница между всеми группами не критическая и составляет несколько процентов."
   ]
  }
 ],
 "metadata": {
  "ExecuteTimeLog": [
   {
    "duration": 445,
    "start_time": "2022-04-06T13:08:56.275Z"
   },
   {
    "duration": 61,
    "start_time": "2022-04-06T13:09:12.618Z"
   },
   {
    "duration": 19,
    "start_time": "2022-04-06T13:11:30.973Z"
   },
   {
    "duration": 9,
    "start_time": "2022-04-06T13:11:44.574Z"
   },
   {
    "duration": 15,
    "start_time": "2022-04-06T13:17:48.511Z"
   },
   {
    "duration": 5,
    "start_time": "2022-04-06T13:19:56.514Z"
   },
   {
    "duration": 6,
    "start_time": "2022-04-06T13:20:14.632Z"
   },
   {
    "duration": 6,
    "start_time": "2022-04-06T13:20:38.833Z"
   },
   {
    "duration": 5,
    "start_time": "2022-04-06T13:21:34.413Z"
   },
   {
    "duration": 5,
    "start_time": "2022-04-06T13:21:59.853Z"
   },
   {
    "duration": 6,
    "start_time": "2022-04-06T13:22:18.791Z"
   },
   {
    "duration": 5,
    "start_time": "2022-04-06T13:22:33.809Z"
   },
   {
    "duration": 5,
    "start_time": "2022-04-06T13:22:43.394Z"
   },
   {
    "duration": 6,
    "start_time": "2022-04-06T13:24:54.587Z"
   },
   {
    "duration": 181,
    "start_time": "2022-04-06T13:25:03.809Z"
   },
   {
    "duration": 5,
    "start_time": "2022-04-06T13:25:21.123Z"
   },
   {
    "duration": 5,
    "start_time": "2022-04-06T13:25:23.214Z"
   },
   {
    "duration": 5,
    "start_time": "2022-04-06T13:25:33.859Z"
   },
   {
    "duration": 6,
    "start_time": "2022-04-06T13:25:37.756Z"
   },
   {
    "duration": 6,
    "start_time": "2022-04-06T13:25:41.905Z"
   },
   {
    "duration": 71,
    "start_time": "2022-04-06T13:56:23.725Z"
   },
   {
    "duration": 5,
    "start_time": "2022-04-06T13:57:51.524Z"
   },
   {
    "duration": 4,
    "start_time": "2022-04-06T13:57:53.677Z"
   },
   {
    "duration": 5,
    "start_time": "2022-04-06T13:58:00.753Z"
   },
   {
    "duration": 5,
    "start_time": "2022-04-06T13:59:08.263Z"
   },
   {
    "duration": 13,
    "start_time": "2022-04-06T13:59:22.363Z"
   },
   {
    "duration": 13,
    "start_time": "2022-04-06T14:00:03.330Z"
   },
   {
    "duration": 13,
    "start_time": "2022-04-06T14:00:11.059Z"
   },
   {
    "duration": 11,
    "start_time": "2022-04-06T14:02:00.550Z"
   },
   {
    "duration": 2,
    "start_time": "2022-04-06T14:02:19.283Z"
   },
   {
    "duration": 12,
    "start_time": "2022-04-06T14:02:23.164Z"
   },
   {
    "duration": 10,
    "start_time": "2022-04-06T14:02:35.127Z"
   },
   {
    "duration": 62,
    "start_time": "2022-04-06T14:02:47.092Z"
   },
   {
    "duration": 15,
    "start_time": "2022-04-06T14:02:49.774Z"
   },
   {
    "duration": 10,
    "start_time": "2022-04-06T14:02:52.803Z"
   },
   {
    "duration": 12,
    "start_time": "2022-04-06T14:03:01.019Z"
   },
   {
    "duration": 20,
    "start_time": "2022-04-06T15:49:14.209Z"
   },
   {
    "duration": 6,
    "start_time": "2022-04-06T15:54:45.987Z"
   },
   {
    "duration": 4,
    "start_time": "2022-04-06T15:55:32.531Z"
   },
   {
    "duration": 5,
    "start_time": "2022-04-06T15:55:44.516Z"
   },
   {
    "duration": 5,
    "start_time": "2022-04-06T15:55:59.570Z"
   },
   {
    "duration": 11,
    "start_time": "2022-04-06T15:56:19.366Z"
   },
   {
    "duration": 5,
    "start_time": "2022-04-06T15:56:42.286Z"
   },
   {
    "duration": 4,
    "start_time": "2022-04-06T15:57:33.153Z"
   },
   {
    "duration": 6,
    "start_time": "2022-04-06T15:58:01.518Z"
   },
   {
    "duration": 10,
    "start_time": "2022-04-06T15:58:45.570Z"
   },
   {
    "duration": 4,
    "start_time": "2022-04-06T15:58:51.939Z"
   },
   {
    "duration": 4,
    "start_time": "2022-04-06T15:59:11.749Z"
   },
   {
    "duration": 5,
    "start_time": "2022-04-06T15:59:27.449Z"
   },
   {
    "duration": 5,
    "start_time": "2022-04-06T15:59:57.240Z"
   },
   {
    "duration": 4,
    "start_time": "2022-04-06T16:00:26.631Z"
   },
   {
    "duration": 6,
    "start_time": "2022-04-06T16:00:40.375Z"
   },
   {
    "duration": 14,
    "start_time": "2022-04-06T16:01:56.708Z"
   },
   {
    "duration": 8,
    "start_time": "2022-04-06T16:04:21.453Z"
   },
   {
    "duration": 14,
    "start_time": "2022-04-06T16:04:55.038Z"
   },
   {
    "duration": 7,
    "start_time": "2022-04-06T16:06:32.507Z"
   },
   {
    "duration": 6,
    "start_time": "2022-04-06T16:11:07.291Z"
   },
   {
    "duration": 7,
    "start_time": "2022-04-06T16:11:56.484Z"
   },
   {
    "duration": 4,
    "start_time": "2022-04-06T16:12:23.605Z"
   },
   {
    "duration": 6,
    "start_time": "2022-04-06T16:12:30.628Z"
   },
   {
    "duration": 5,
    "start_time": "2022-04-06T16:12:48.921Z"
   },
   {
    "duration": 5,
    "start_time": "2022-04-06T16:13:30.168Z"
   },
   {
    "duration": 7,
    "start_time": "2022-04-06T16:13:40.597Z"
   },
   {
    "duration": 6,
    "start_time": "2022-04-06T16:13:50.140Z"
   },
   {
    "duration": 7,
    "start_time": "2022-04-06T16:14:03.165Z"
   },
   {
    "duration": 8,
    "start_time": "2022-04-06T16:14:04.096Z"
   },
   {
    "duration": 67,
    "start_time": "2022-04-06T16:14:07.315Z"
   },
   {
    "duration": 16,
    "start_time": "2022-04-06T16:14:07.385Z"
   },
   {
    "duration": 9,
    "start_time": "2022-04-06T16:14:07.403Z"
   },
   {
    "duration": 5,
    "start_time": "2022-04-06T16:14:07.437Z"
   },
   {
    "duration": 7,
    "start_time": "2022-04-06T16:14:07.444Z"
   },
   {
    "duration": 16,
    "start_time": "2022-04-06T16:14:07.453Z"
   },
   {
    "duration": 5,
    "start_time": "2022-04-06T16:14:07.471Z"
   },
   {
    "duration": 16,
    "start_time": "2022-04-06T16:14:07.478Z"
   },
   {
    "duration": 44,
    "start_time": "2022-04-06T16:14:07.495Z"
   },
   {
    "duration": 6,
    "start_time": "2022-04-06T16:14:07.542Z"
   },
   {
    "duration": 7,
    "start_time": "2022-04-06T16:14:07.550Z"
   },
   {
    "duration": 7,
    "start_time": "2022-04-06T16:14:07.559Z"
   },
   {
    "duration": 6,
    "start_time": "2022-04-06T16:14:07.568Z"
   },
   {
    "duration": 7,
    "start_time": "2022-04-06T16:14:07.575Z"
   },
   {
    "duration": 8,
    "start_time": "2022-04-06T16:14:07.584Z"
   },
   {
    "duration": 7,
    "start_time": "2022-04-06T16:14:07.639Z"
   },
   {
    "duration": 8,
    "start_time": "2022-04-06T16:14:07.648Z"
   },
   {
    "duration": 3,
    "start_time": "2022-04-06T16:14:07.658Z"
   },
   {
    "duration": 109,
    "start_time": "2022-04-06T16:14:07.663Z"
   },
   {
    "duration": 5,
    "start_time": "2022-04-06T16:14:16.947Z"
   },
   {
    "duration": 94,
    "start_time": "2022-04-06T16:14:46.472Z"
   },
   {
    "duration": 14,
    "start_time": "2022-04-06T16:14:58.498Z"
   },
   {
    "duration": 15,
    "start_time": "2022-04-06T16:15:21.175Z"
   },
   {
    "duration": 5,
    "start_time": "2022-04-06T16:15:33.465Z"
   },
   {
    "duration": 11,
    "start_time": "2022-04-06T16:22:36.725Z"
   },
   {
    "duration": 4,
    "start_time": "2022-04-06T16:24:03.074Z"
   },
   {
    "duration": 15,
    "start_time": "2022-04-06T16:24:23.425Z"
   },
   {
    "duration": 13,
    "start_time": "2022-04-06T16:24:49.025Z"
   },
   {
    "duration": 835,
    "start_time": "2022-04-07T07:51:24.119Z"
   },
   {
    "duration": 38,
    "start_time": "2022-04-07T07:51:24.968Z"
   },
   {
    "duration": 21,
    "start_time": "2022-04-07T07:51:25.009Z"
   },
   {
    "duration": 28,
    "start_time": "2022-04-07T07:51:25.033Z"
   },
   {
    "duration": 41,
    "start_time": "2022-04-07T07:51:25.065Z"
   },
   {
    "duration": 30,
    "start_time": "2022-04-07T07:51:25.109Z"
   },
   {
    "duration": 45,
    "start_time": "2022-04-07T07:51:25.146Z"
   },
   {
    "duration": 32,
    "start_time": "2022-04-07T07:51:25.194Z"
   },
   {
    "duration": 22,
    "start_time": "2022-04-07T07:51:25.229Z"
   },
   {
    "duration": 29,
    "start_time": "2022-04-07T07:51:25.259Z"
   },
   {
    "duration": 14,
    "start_time": "2022-04-07T07:51:25.291Z"
   },
   {
    "duration": 9,
    "start_time": "2022-04-07T07:51:25.307Z"
   },
   {
    "duration": 11,
    "start_time": "2022-04-07T07:51:25.320Z"
   },
   {
    "duration": 25,
    "start_time": "2022-04-07T07:51:25.350Z"
   },
   {
    "duration": 12,
    "start_time": "2022-04-07T07:51:25.378Z"
   },
   {
    "duration": 8,
    "start_time": "2022-04-07T07:51:25.392Z"
   },
   {
    "duration": 14,
    "start_time": "2022-04-07T07:51:25.402Z"
   },
   {
    "duration": 55,
    "start_time": "2022-04-07T07:51:25.419Z"
   },
   {
    "duration": 35,
    "start_time": "2022-04-07T07:51:25.477Z"
   },
   {
    "duration": 32,
    "start_time": "2022-04-07T07:51:25.516Z"
   },
   {
    "duration": 37,
    "start_time": "2022-04-07T07:51:25.556Z"
   },
   {
    "duration": 33,
    "start_time": "2022-04-07T08:15:11.134Z"
   },
   {
    "duration": 54,
    "start_time": "2022-04-07T08:15:51.371Z"
   },
   {
    "duration": 19,
    "start_time": "2022-04-07T08:16:17.509Z"
   },
   {
    "duration": 22,
    "start_time": "2022-04-07T08:16:22.287Z"
   },
   {
    "duration": 118,
    "start_time": "2022-04-07T08:16:30.105Z"
   },
   {
    "duration": 38,
    "start_time": "2022-04-07T08:16:30.227Z"
   },
   {
    "duration": 14,
    "start_time": "2022-04-07T08:16:30.267Z"
   },
   {
    "duration": 7,
    "start_time": "2022-04-07T08:16:30.284Z"
   },
   {
    "duration": 12,
    "start_time": "2022-04-07T08:16:30.293Z"
   },
   {
    "duration": 58,
    "start_time": "2022-04-07T08:16:30.307Z"
   },
   {
    "duration": 9,
    "start_time": "2022-04-07T08:16:30.368Z"
   },
   {
    "duration": 20,
    "start_time": "2022-04-07T08:16:30.380Z"
   },
   {
    "duration": 40,
    "start_time": "2022-04-07T08:16:30.403Z"
   },
   {
    "duration": 8,
    "start_time": "2022-04-07T08:16:30.449Z"
   },
   {
    "duration": 12,
    "start_time": "2022-04-07T08:16:30.460Z"
   },
   {
    "duration": 20,
    "start_time": "2022-04-07T08:16:30.475Z"
   },
   {
    "duration": 7,
    "start_time": "2022-04-07T08:16:30.498Z"
   },
   {
    "duration": 48,
    "start_time": "2022-04-07T08:16:30.508Z"
   },
   {
    "duration": 34,
    "start_time": "2022-04-07T08:16:30.562Z"
   },
   {
    "duration": 19,
    "start_time": "2022-04-07T08:16:30.600Z"
   },
   {
    "duration": 20,
    "start_time": "2022-04-07T08:16:30.622Z"
   },
   {
    "duration": 12,
    "start_time": "2022-04-07T08:16:30.656Z"
   },
   {
    "duration": 47,
    "start_time": "2022-04-07T08:16:30.673Z"
   },
   {
    "duration": 28,
    "start_time": "2022-04-07T08:16:30.724Z"
   },
   {
    "duration": 28,
    "start_time": "2022-04-07T08:16:30.755Z"
   },
   {
    "duration": 28,
    "start_time": "2022-04-07T08:16:30.785Z"
   },
   {
    "duration": 92,
    "start_time": "2022-04-07T08:16:30.815Z"
   },
   {
    "duration": 90,
    "start_time": "2022-04-07T08:16:35.957Z"
   },
   {
    "duration": 21,
    "start_time": "2022-04-07T08:16:49.057Z"
   },
   {
    "duration": 8,
    "start_time": "2022-04-07T08:16:54.617Z"
   },
   {
    "duration": 9,
    "start_time": "2022-04-07T08:16:58.239Z"
   },
   {
    "duration": 26,
    "start_time": "2022-04-07T08:17:02.735Z"
   },
   {
    "duration": 7,
    "start_time": "2022-04-07T08:17:05.485Z"
   },
   {
    "duration": 13,
    "start_time": "2022-04-07T08:17:20.009Z"
   },
   {
    "duration": 9,
    "start_time": "2022-04-07T08:17:22.770Z"
   },
   {
    "duration": 33,
    "start_time": "2022-04-07T08:17:47.732Z"
   },
   {
    "duration": 48,
    "start_time": "2022-04-07T08:17:57.285Z"
   },
   {
    "duration": 26,
    "start_time": "2022-04-07T08:18:02.262Z"
   },
   {
    "duration": 135,
    "start_time": "2022-04-07T08:20:02.383Z"
   },
   {
    "duration": 35,
    "start_time": "2022-04-07T08:20:10.368Z"
   },
   {
    "duration": 29,
    "start_time": "2022-04-07T08:20:16.889Z"
   },
   {
    "duration": 26,
    "start_time": "2022-04-07T08:20:22.960Z"
   },
   {
    "duration": 4,
    "start_time": "2022-04-07T08:20:32.140Z"
   },
   {
    "duration": 34,
    "start_time": "2022-04-07T08:20:34.137Z"
   },
   {
    "duration": 27,
    "start_time": "2022-04-07T08:20:35.001Z"
   },
   {
    "duration": 28,
    "start_time": "2022-04-07T08:20:35.457Z"
   },
   {
    "duration": 25,
    "start_time": "2022-04-07T08:20:35.669Z"
   },
   {
    "duration": 144,
    "start_time": "2022-04-07T08:20:37.559Z"
   },
   {
    "duration": 21,
    "start_time": "2022-04-07T08:20:37.706Z"
   },
   {
    "duration": 38,
    "start_time": "2022-04-07T08:20:37.729Z"
   },
   {
    "duration": 9,
    "start_time": "2022-04-07T08:20:37.770Z"
   },
   {
    "duration": 9,
    "start_time": "2022-04-07T08:20:37.782Z"
   },
   {
    "duration": 20,
    "start_time": "2022-04-07T08:20:37.794Z"
   },
   {
    "duration": 16,
    "start_time": "2022-04-07T08:20:37.846Z"
   },
   {
    "duration": 22,
    "start_time": "2022-04-07T08:20:37.865Z"
   },
   {
    "duration": 13,
    "start_time": "2022-04-07T08:20:37.890Z"
   },
   {
    "duration": 42,
    "start_time": "2022-04-07T08:20:37.909Z"
   },
   {
    "duration": 17,
    "start_time": "2022-04-07T08:20:37.954Z"
   },
   {
    "duration": 9,
    "start_time": "2022-04-07T08:20:37.974Z"
   },
   {
    "duration": 12,
    "start_time": "2022-04-07T08:20:37.986Z"
   },
   {
    "duration": 7,
    "start_time": "2022-04-07T08:20:38.001Z"
   },
   {
    "duration": 43,
    "start_time": "2022-04-07T08:20:38.010Z"
   },
   {
    "duration": 22,
    "start_time": "2022-04-07T08:20:38.056Z"
   },
   {
    "duration": 7,
    "start_time": "2022-04-07T08:20:38.081Z"
   },
   {
    "duration": 12,
    "start_time": "2022-04-07T08:20:38.091Z"
   },
   {
    "duration": 44,
    "start_time": "2022-04-07T08:20:38.106Z"
   },
   {
    "duration": 29,
    "start_time": "2022-04-07T08:20:38.152Z"
   },
   {
    "duration": 25,
    "start_time": "2022-04-07T08:20:38.184Z"
   },
   {
    "duration": 49,
    "start_time": "2022-04-07T08:20:38.212Z"
   },
   {
    "duration": 27,
    "start_time": "2022-04-07T08:20:38.263Z"
   },
   {
    "duration": 3,
    "start_time": "2022-04-07T08:20:38.292Z"
   },
   {
    "duration": 31,
    "start_time": "2022-04-07T08:21:04.681Z"
   },
   {
    "duration": 28,
    "start_time": "2022-04-07T08:21:17.328Z"
   },
   {
    "duration": 84,
    "start_time": "2022-04-07T08:30:04.685Z"
   },
   {
    "duration": 1894,
    "start_time": "2022-04-07T08:42:20.025Z"
   },
   {
    "duration": 5,
    "start_time": "2022-04-07T08:42:40.708Z"
   },
   {
    "duration": 19,
    "start_time": "2022-04-07T08:42:46.752Z"
   },
   {
    "duration": 24,
    "start_time": "2022-04-07T08:44:20.929Z"
   },
   {
    "duration": 27,
    "start_time": "2022-04-07T08:45:13.925Z"
   },
   {
    "duration": 16,
    "start_time": "2022-04-07T08:45:23.698Z"
   },
   {
    "duration": 26,
    "start_time": "2022-04-07T08:45:26.641Z"
   },
   {
    "duration": 16,
    "start_time": "2022-04-07T08:45:28.220Z"
   },
   {
    "duration": 5,
    "start_time": "2022-04-07T08:52:03.376Z"
   },
   {
    "duration": 20,
    "start_time": "2022-04-07T08:52:25.478Z"
   },
   {
    "duration": 6,
    "start_time": "2022-04-07T08:52:36.917Z"
   },
   {
    "duration": 17,
    "start_time": "2022-04-07T08:52:49.702Z"
   },
   {
    "duration": 23,
    "start_time": "2022-04-07T08:54:42.884Z"
   },
   {
    "duration": 3732,
    "start_time": "2022-04-07T08:55:25.493Z"
   },
   {
    "duration": 3749,
    "start_time": "2022-04-07T08:55:29.487Z"
   },
   {
    "duration": 3508,
    "start_time": "2022-04-07T08:55:47.188Z"
   },
   {
    "duration": 116,
    "start_time": "2022-04-07T08:55:58.296Z"
   },
   {
    "duration": 35,
    "start_time": "2022-04-07T08:55:58.416Z"
   },
   {
    "duration": 28,
    "start_time": "2022-04-07T08:55:58.453Z"
   },
   {
    "duration": 8,
    "start_time": "2022-04-07T08:55:58.484Z"
   },
   {
    "duration": 14,
    "start_time": "2022-04-07T08:55:58.494Z"
   },
   {
    "duration": 52,
    "start_time": "2022-04-07T08:55:58.510Z"
   },
   {
    "duration": 12,
    "start_time": "2022-04-07T08:55:58.570Z"
   },
   {
    "duration": 17,
    "start_time": "2022-04-07T08:55:58.586Z"
   },
   {
    "duration": 42,
    "start_time": "2022-04-07T08:55:58.605Z"
   },
   {
    "duration": 9,
    "start_time": "2022-04-07T08:55:58.654Z"
   },
   {
    "duration": 11,
    "start_time": "2022-04-07T08:55:58.666Z"
   },
   {
    "duration": 10,
    "start_time": "2022-04-07T08:55:58.680Z"
   },
   {
    "duration": 12,
    "start_time": "2022-04-07T08:55:58.692Z"
   },
   {
    "duration": 55,
    "start_time": "2022-04-07T08:55:58.706Z"
   },
   {
    "duration": 12,
    "start_time": "2022-04-07T08:55:58.763Z"
   },
   {
    "duration": 12,
    "start_time": "2022-04-07T08:55:58.777Z"
   },
   {
    "duration": 9,
    "start_time": "2022-04-07T08:55:58.792Z"
   },
   {
    "duration": 49,
    "start_time": "2022-04-07T08:55:58.804Z"
   },
   {
    "duration": 6,
    "start_time": "2022-04-07T08:55:58.859Z"
   },
   {
    "duration": 28,
    "start_time": "2022-04-07T08:55:58.868Z"
   },
   {
    "duration": 25,
    "start_time": "2022-04-07T08:55:58.899Z"
   },
   {
    "duration": 30,
    "start_time": "2022-04-07T08:55:58.952Z"
   },
   {
    "duration": 29,
    "start_time": "2022-04-07T08:55:58.984Z"
   },
   {
    "duration": 80,
    "start_time": "2022-04-07T08:55:59.015Z"
   },
   {
    "duration": 16,
    "start_time": "2022-04-07T08:55:59.098Z"
   },
   {
    "duration": 46,
    "start_time": "2022-04-07T08:55:59.116Z"
   },
   {
    "duration": 26,
    "start_time": "2022-04-07T08:55:59.164Z"
   },
   {
    "duration": 3549,
    "start_time": "2022-04-07T08:56:16.626Z"
   },
   {
    "duration": 122,
    "start_time": "2022-04-07T08:56:25.292Z"
   },
   {
    "duration": 31,
    "start_time": "2022-04-07T08:56:25.417Z"
   },
   {
    "duration": 23,
    "start_time": "2022-04-07T08:56:25.451Z"
   },
   {
    "duration": 13,
    "start_time": "2022-04-07T08:56:25.477Z"
   },
   {
    "duration": 13,
    "start_time": "2022-04-07T08:56:25.493Z"
   },
   {
    "duration": 37,
    "start_time": "2022-04-07T08:56:25.509Z"
   },
   {
    "duration": 10,
    "start_time": "2022-04-07T08:56:25.549Z"
   },
   {
    "duration": 25,
    "start_time": "2022-04-07T08:56:25.568Z"
   },
   {
    "duration": 16,
    "start_time": "2022-04-07T08:56:25.596Z"
   },
   {
    "duration": 36,
    "start_time": "2022-04-07T08:56:25.617Z"
   },
   {
    "duration": 20,
    "start_time": "2022-04-07T08:56:25.656Z"
   },
   {
    "duration": 10,
    "start_time": "2022-04-07T08:56:25.679Z"
   },
   {
    "duration": 10,
    "start_time": "2022-04-07T08:56:25.692Z"
   },
   {
    "duration": 45,
    "start_time": "2022-04-07T08:56:25.705Z"
   },
   {
    "duration": 9,
    "start_time": "2022-04-07T08:56:25.753Z"
   },
   {
    "duration": 19,
    "start_time": "2022-04-07T08:56:25.765Z"
   },
   {
    "duration": 10,
    "start_time": "2022-04-07T08:56:25.787Z"
   },
   {
    "duration": 23,
    "start_time": "2022-04-07T08:56:25.800Z"
   },
   {
    "duration": 28,
    "start_time": "2022-04-07T08:56:25.826Z"
   },
   {
    "duration": 40,
    "start_time": "2022-04-07T08:56:25.857Z"
   },
   {
    "duration": 19,
    "start_time": "2022-04-07T08:56:25.900Z"
   },
   {
    "duration": 33,
    "start_time": "2022-04-07T08:56:25.922Z"
   },
   {
    "duration": 28,
    "start_time": "2022-04-07T08:56:25.961Z"
   },
   {
    "duration": 84,
    "start_time": "2022-04-07T08:56:25.992Z"
   },
   {
    "duration": 22,
    "start_time": "2022-04-07T08:56:26.080Z"
   },
   {
    "duration": 48,
    "start_time": "2022-04-07T08:56:26.105Z"
   },
   {
    "duration": 3527,
    "start_time": "2022-04-07T08:56:26.167Z"
   },
   {
    "duration": 21,
    "start_time": "2022-04-07T08:56:38.928Z"
   },
   {
    "duration": 16,
    "start_time": "2022-04-07T08:57:12.516Z"
   },
   {
    "duration": 110,
    "start_time": "2022-04-07T08:57:22.412Z"
   },
   {
    "duration": 31,
    "start_time": "2022-04-07T08:57:22.526Z"
   },
   {
    "duration": 17,
    "start_time": "2022-04-07T08:57:22.563Z"
   },
   {
    "duration": 7,
    "start_time": "2022-04-07T08:57:22.583Z"
   },
   {
    "duration": 19,
    "start_time": "2022-04-07T08:57:22.592Z"
   },
   {
    "duration": 61,
    "start_time": "2022-04-07T08:57:22.613Z"
   },
   {
    "duration": 20,
    "start_time": "2022-04-07T08:57:22.676Z"
   },
   {
    "duration": 24,
    "start_time": "2022-04-07T08:57:22.698Z"
   },
   {
    "duration": 36,
    "start_time": "2022-04-07T08:57:22.724Z"
   },
   {
    "duration": 22,
    "start_time": "2022-04-07T08:57:22.766Z"
   },
   {
    "duration": 20,
    "start_time": "2022-04-07T08:57:22.790Z"
   },
   {
    "duration": 11,
    "start_time": "2022-04-07T08:57:22.812Z"
   },
   {
    "duration": 14,
    "start_time": "2022-04-07T08:57:22.826Z"
   },
   {
    "duration": 29,
    "start_time": "2022-04-07T08:57:22.845Z"
   },
   {
    "duration": 11,
    "start_time": "2022-04-07T08:57:22.877Z"
   },
   {
    "duration": 12,
    "start_time": "2022-04-07T08:57:22.890Z"
   },
   {
    "duration": 11,
    "start_time": "2022-04-07T08:57:22.904Z"
   },
   {
    "duration": 11,
    "start_time": "2022-04-07T08:57:22.918Z"
   },
   {
    "duration": 23,
    "start_time": "2022-04-07T08:57:22.950Z"
   },
   {
    "duration": 38,
    "start_time": "2022-04-07T08:57:22.975Z"
   },
   {
    "duration": 19,
    "start_time": "2022-04-07T08:57:23.016Z"
   },
   {
    "duration": 50,
    "start_time": "2022-04-07T08:57:23.037Z"
   },
   {
    "duration": 28,
    "start_time": "2022-04-07T08:57:23.089Z"
   },
   {
    "duration": 58,
    "start_time": "2022-04-07T08:57:23.119Z"
   },
   {
    "duration": 17,
    "start_time": "2022-04-07T08:57:23.179Z"
   },
   {
    "duration": 20,
    "start_time": "2022-04-07T08:57:23.199Z"
   },
   {
    "duration": 48,
    "start_time": "2022-04-07T08:57:23.221Z"
   },
   {
    "duration": 24,
    "start_time": "2022-04-07T08:59:04.818Z"
   },
   {
    "duration": 102,
    "start_time": "2022-04-07T08:59:10.542Z"
   },
   {
    "duration": 20,
    "start_time": "2022-04-07T08:59:10.647Z"
   },
   {
    "duration": 18,
    "start_time": "2022-04-07T08:59:10.670Z"
   },
   {
    "duration": 9,
    "start_time": "2022-04-07T08:59:10.693Z"
   },
   {
    "duration": 9,
    "start_time": "2022-04-07T08:59:10.748Z"
   },
   {
    "duration": 30,
    "start_time": "2022-04-07T08:59:10.760Z"
   },
   {
    "duration": 7,
    "start_time": "2022-04-07T08:59:10.793Z"
   },
   {
    "duration": 144,
    "start_time": "2022-04-07T08:59:10.802Z"
   },
   {
    "duration": 21,
    "start_time": "2022-04-07T08:59:10.959Z"
   },
   {
    "duration": 6,
    "start_time": "2022-04-07T08:59:10.987Z"
   },
   {
    "duration": 8,
    "start_time": "2022-04-07T08:59:10.996Z"
   },
   {
    "duration": 8,
    "start_time": "2022-04-07T08:59:11.007Z"
   },
   {
    "duration": 12,
    "start_time": "2022-04-07T08:59:11.050Z"
   },
   {
    "duration": 8,
    "start_time": "2022-04-07T08:59:11.064Z"
   },
   {
    "duration": 14,
    "start_time": "2022-04-07T08:59:11.074Z"
   },
   {
    "duration": 13,
    "start_time": "2022-04-07T08:59:11.091Z"
   },
   {
    "duration": 43,
    "start_time": "2022-04-07T08:59:11.106Z"
   },
   {
    "duration": 20,
    "start_time": "2022-04-07T08:59:11.152Z"
   },
   {
    "duration": 6,
    "start_time": "2022-04-07T08:59:11.175Z"
   },
   {
    "duration": 33,
    "start_time": "2022-04-07T08:59:11.183Z"
   },
   {
    "duration": 37,
    "start_time": "2022-04-07T08:59:11.220Z"
   },
   {
    "duration": 45,
    "start_time": "2022-04-07T08:59:11.260Z"
   },
   {
    "duration": 56,
    "start_time": "2022-04-07T08:59:11.307Z"
   },
   {
    "duration": 80,
    "start_time": "2022-04-07T08:59:11.367Z"
   },
   {
    "duration": 22,
    "start_time": "2022-04-07T08:59:11.450Z"
   },
   {
    "duration": 24,
    "start_time": "2022-04-07T08:59:11.475Z"
   },
   {
    "duration": 59,
    "start_time": "2022-04-07T08:59:11.501Z"
   },
   {
    "duration": 26,
    "start_time": "2022-04-07T09:00:48.825Z"
   },
   {
    "duration": 159,
    "start_time": "2022-04-07T09:02:58.721Z"
   },
   {
    "duration": 20,
    "start_time": "2022-04-07T09:02:58.883Z"
   },
   {
    "duration": 39,
    "start_time": "2022-04-07T09:02:58.905Z"
   },
   {
    "duration": 10,
    "start_time": "2022-04-07T09:02:58.950Z"
   },
   {
    "duration": 17,
    "start_time": "2022-04-07T09:02:58.962Z"
   },
   {
    "duration": 17,
    "start_time": "2022-04-07T09:02:58.981Z"
   },
   {
    "duration": 44,
    "start_time": "2022-04-07T09:02:59.000Z"
   },
   {
    "duration": 25,
    "start_time": "2022-04-07T09:02:59.047Z"
   },
   {
    "duration": 12,
    "start_time": "2022-04-07T09:02:59.074Z"
   },
   {
    "duration": 13,
    "start_time": "2022-04-07T09:02:59.092Z"
   },
   {
    "duration": 57,
    "start_time": "2022-04-07T09:02:59.108Z"
   },
   {
    "duration": 9,
    "start_time": "2022-04-07T09:02:59.167Z"
   },
   {
    "duration": 12,
    "start_time": "2022-04-07T09:02:59.179Z"
   },
   {
    "duration": 11,
    "start_time": "2022-04-07T09:02:59.193Z"
   },
   {
    "duration": 13,
    "start_time": "2022-04-07T09:02:59.206Z"
   },
   {
    "duration": 28,
    "start_time": "2022-04-07T09:02:59.244Z"
   },
   {
    "duration": 10,
    "start_time": "2022-04-07T09:02:59.275Z"
   },
   {
    "duration": 9,
    "start_time": "2022-04-07T09:02:59.288Z"
   },
   {
    "duration": 59,
    "start_time": "2022-04-07T09:02:59.300Z"
   },
   {
    "duration": 11,
    "start_time": "2022-04-07T09:02:59.363Z"
   },
   {
    "duration": 34,
    "start_time": "2022-04-07T09:02:59.377Z"
   },
   {
    "duration": 50,
    "start_time": "2022-04-07T09:02:59.414Z"
   },
   {
    "duration": 24,
    "start_time": "2022-04-07T09:02:59.466Z"
   },
   {
    "duration": 97,
    "start_time": "2022-04-07T09:02:59.492Z"
   },
   {
    "duration": 59,
    "start_time": "2022-04-07T09:02:59.591Z"
   },
   {
    "duration": 19,
    "start_time": "2022-04-07T09:02:59.654Z"
   },
   {
    "duration": 22,
    "start_time": "2022-04-07T09:02:59.675Z"
   },
   {
    "duration": 58,
    "start_time": "2022-04-07T09:02:59.703Z"
   },
   {
    "duration": 28,
    "start_time": "2022-04-07T09:10:28.164Z"
   },
   {
    "duration": 66,
    "start_time": "2022-04-07T09:11:22.910Z"
   },
   {
    "duration": 24,
    "start_time": "2022-04-07T09:11:37.465Z"
   },
   {
    "duration": 13,
    "start_time": "2022-04-07T09:13:09.412Z"
   },
   {
    "duration": 16,
    "start_time": "2022-04-07T09:14:16.465Z"
   },
   {
    "duration": 13,
    "start_time": "2022-04-07T09:14:48.905Z"
   },
   {
    "duration": 217,
    "start_time": "2022-04-07T09:23:39.663Z"
   },
   {
    "duration": 23,
    "start_time": "2022-04-07T09:27:20.268Z"
   },
   {
    "duration": 18,
    "start_time": "2022-04-07T09:27:50.099Z"
   },
   {
    "duration": 24,
    "start_time": "2022-04-07T09:28:42.963Z"
   },
   {
    "duration": 20,
    "start_time": "2022-04-07T09:28:45.319Z"
   },
   {
    "duration": 871,
    "start_time": "2022-04-07T09:30:21.651Z"
   },
   {
    "duration": 845,
    "start_time": "2022-04-07T09:30:51.572Z"
   },
   {
    "duration": 24,
    "start_time": "2022-04-07T09:31:08.859Z"
   },
   {
    "duration": 29,
    "start_time": "2022-04-07T09:31:11.806Z"
   },
   {
    "duration": 28,
    "start_time": "2022-04-07T09:31:36.030Z"
   },
   {
    "duration": 18,
    "start_time": "2022-04-07T09:31:38.798Z"
   },
   {
    "duration": 23,
    "start_time": "2022-04-07T09:32:46.536Z"
   },
   {
    "duration": 20,
    "start_time": "2022-04-07T09:32:50.589Z"
   },
   {
    "duration": 147,
    "start_time": "2022-04-07T09:33:10.844Z"
   },
   {
    "duration": 21,
    "start_time": "2022-04-07T09:33:10.994Z"
   },
   {
    "duration": 35,
    "start_time": "2022-04-07T09:33:11.017Z"
   },
   {
    "duration": 9,
    "start_time": "2022-04-07T09:33:11.055Z"
   },
   {
    "duration": 11,
    "start_time": "2022-04-07T09:33:11.069Z"
   },
   {
    "duration": 23,
    "start_time": "2022-04-07T09:33:11.082Z"
   },
   {
    "duration": 36,
    "start_time": "2022-04-07T09:33:11.108Z"
   },
   {
    "duration": 19,
    "start_time": "2022-04-07T09:33:11.147Z"
   },
   {
    "duration": 22,
    "start_time": "2022-04-07T09:33:11.169Z"
   },
   {
    "duration": 22,
    "start_time": "2022-04-07T09:33:11.193Z"
   },
   {
    "duration": 11,
    "start_time": "2022-04-07T09:33:11.218Z"
   },
   {
    "duration": 19,
    "start_time": "2022-04-07T09:33:11.231Z"
   },
   {
    "duration": 22,
    "start_time": "2022-04-07T09:33:11.253Z"
   },
   {
    "duration": 11,
    "start_time": "2022-04-07T09:33:11.283Z"
   },
   {
    "duration": 15,
    "start_time": "2022-04-07T09:33:11.296Z"
   },
   {
    "duration": 51,
    "start_time": "2022-04-07T09:33:11.313Z"
   },
   {
    "duration": 18,
    "start_time": "2022-04-07T09:33:11.367Z"
   },
   {
    "duration": 11,
    "start_time": "2022-04-07T09:33:11.388Z"
   },
   {
    "duration": 16,
    "start_time": "2022-04-07T09:33:11.401Z"
   },
   {
    "duration": 25,
    "start_time": "2022-04-07T09:33:11.420Z"
   },
   {
    "duration": 37,
    "start_time": "2022-04-07T09:33:11.447Z"
   },
   {
    "duration": 18,
    "start_time": "2022-04-07T09:33:11.487Z"
   },
   {
    "duration": 54,
    "start_time": "2022-04-07T09:33:11.507Z"
   },
   {
    "duration": 29,
    "start_time": "2022-04-07T09:33:11.564Z"
   },
   {
    "duration": 81,
    "start_time": "2022-04-07T09:33:11.595Z"
   },
   {
    "duration": 20,
    "start_time": "2022-04-07T09:33:11.679Z"
   },
   {
    "duration": 41,
    "start_time": "2022-04-07T09:33:11.701Z"
   },
   {
    "duration": 20,
    "start_time": "2022-04-07T09:33:11.745Z"
   },
   {
    "duration": 20,
    "start_time": "2022-04-07T09:33:11.768Z"
   },
   {
    "duration": 21,
    "start_time": "2022-04-07T09:33:11.791Z"
   },
   {
    "duration": 52,
    "start_time": "2022-04-07T09:33:11.814Z"
   },
   {
    "duration": 52,
    "start_time": "2022-04-07T09:33:11.869Z"
   },
   {
    "duration": 24,
    "start_time": "2022-04-07T09:40:53.134Z"
   },
   {
    "duration": 20,
    "start_time": "2022-04-07T09:40:55.838Z"
   },
   {
    "duration": 15,
    "start_time": "2022-04-07T09:41:33.691Z"
   },
   {
    "duration": 26,
    "start_time": "2022-04-07T09:41:36.077Z"
   },
   {
    "duration": 875,
    "start_time": "2022-04-07T09:43:11.658Z"
   },
   {
    "duration": 987,
    "start_time": "2022-04-07T09:43:34.357Z"
   },
   {
    "duration": 20,
    "start_time": "2022-04-07T09:43:40.452Z"
   },
   {
    "duration": 18,
    "start_time": "2022-04-07T09:43:42.851Z"
   },
   {
    "duration": 22,
    "start_time": "2022-04-07T10:18:55.080Z"
   },
   {
    "duration": 28,
    "start_time": "2022-04-07T10:18:57.551Z"
   },
   {
    "duration": 13,
    "start_time": "2022-04-07T10:23:40.419Z"
   },
   {
    "duration": 28,
    "start_time": "2022-04-07T10:23:42.689Z"
   },
   {
    "duration": 22,
    "start_time": "2022-04-07T10:24:34.881Z"
   },
   {
    "duration": 19,
    "start_time": "2022-04-07T10:24:38.113Z"
   },
   {
    "duration": 19,
    "start_time": "2022-04-07T10:24:40.019Z"
   },
   {
    "duration": 15,
    "start_time": "2022-04-07T10:27:12.413Z"
   },
   {
    "duration": 30,
    "start_time": "2022-04-07T10:27:16.119Z"
   },
   {
    "duration": 14,
    "start_time": "2022-04-07T10:28:24.952Z"
   },
   {
    "duration": 19,
    "start_time": "2022-04-07T10:28:28.098Z"
   },
   {
    "duration": 102,
    "start_time": "2022-04-07T10:28:37.382Z"
   },
   {
    "duration": 21,
    "start_time": "2022-04-07T10:28:37.487Z"
   },
   {
    "duration": 39,
    "start_time": "2022-04-07T10:28:37.510Z"
   },
   {
    "duration": 7,
    "start_time": "2022-04-07T10:28:37.552Z"
   },
   {
    "duration": 11,
    "start_time": "2022-04-07T10:28:37.561Z"
   },
   {
    "duration": 16,
    "start_time": "2022-04-07T10:28:37.575Z"
   },
   {
    "duration": 52,
    "start_time": "2022-04-07T10:28:37.593Z"
   },
   {
    "duration": 20,
    "start_time": "2022-04-07T10:28:37.648Z"
   },
   {
    "duration": 10,
    "start_time": "2022-04-07T10:28:37.670Z"
   },
   {
    "duration": 7,
    "start_time": "2022-04-07T10:28:37.685Z"
   },
   {
    "duration": 12,
    "start_time": "2022-04-07T10:28:37.695Z"
   },
   {
    "duration": 40,
    "start_time": "2022-04-07T10:28:37.709Z"
   },
   {
    "duration": 11,
    "start_time": "2022-04-07T10:28:37.752Z"
   },
   {
    "duration": 8,
    "start_time": "2022-04-07T10:28:37.766Z"
   },
   {
    "duration": 9,
    "start_time": "2022-04-07T10:28:37.777Z"
   },
   {
    "duration": 75,
    "start_time": "2022-04-07T10:28:37.788Z"
   },
   {
    "duration": 8,
    "start_time": "2022-04-07T10:28:37.868Z"
   },
   {
    "duration": 6,
    "start_time": "2022-04-07T10:28:37.879Z"
   },
   {
    "duration": 9,
    "start_time": "2022-04-07T10:28:37.887Z"
   },
   {
    "duration": 6,
    "start_time": "2022-04-07T10:28:37.898Z"
   },
   {
    "duration": 58,
    "start_time": "2022-04-07T10:28:37.906Z"
   },
   {
    "duration": 16,
    "start_time": "2022-04-07T10:28:37.966Z"
   },
   {
    "duration": 22,
    "start_time": "2022-04-07T10:28:37.983Z"
   },
   {
    "duration": 28,
    "start_time": "2022-04-07T10:28:38.043Z"
   },
   {
    "duration": 76,
    "start_time": "2022-04-07T10:28:38.073Z"
   },
   {
    "duration": 16,
    "start_time": "2022-04-07T10:28:38.151Z"
   },
   {
    "duration": 16,
    "start_time": "2022-04-07T10:28:38.169Z"
   },
   {
    "duration": 55,
    "start_time": "2022-04-07T10:28:38.190Z"
   },
   {
    "duration": 14,
    "start_time": "2022-04-07T10:28:38.247Z"
   },
   {
    "duration": 12,
    "start_time": "2022-04-07T10:28:38.263Z"
   },
   {
    "duration": 15,
    "start_time": "2022-04-07T10:28:38.277Z"
   },
   {
    "duration": 59,
    "start_time": "2022-04-07T10:28:38.294Z"
   },
   {
    "duration": 28,
    "start_time": "2022-04-07T10:29:10.058Z"
   },
   {
    "duration": 20,
    "start_time": "2022-04-07T10:29:37.128Z"
   },
   {
    "duration": 6,
    "start_time": "2022-04-07T10:33:26.968Z"
   },
   {
    "duration": 9,
    "start_time": "2022-04-07T10:33:53.243Z"
   },
   {
    "duration": 27,
    "start_time": "2022-04-07T10:34:39.333Z"
   },
   {
    "duration": 31,
    "start_time": "2022-04-07T10:39:44.683Z"
   },
   {
    "duration": 51,
    "start_time": "2022-04-07T10:40:23.302Z"
   },
   {
    "duration": 25,
    "start_time": "2022-04-07T10:40:51.153Z"
   },
   {
    "duration": 21,
    "start_time": "2022-04-07T10:43:18.472Z"
   },
   {
    "duration": 21,
    "start_time": "2022-04-07T10:43:43.059Z"
   },
   {
    "duration": 14,
    "start_time": "2022-04-07T10:45:06.148Z"
   },
   {
    "duration": 14,
    "start_time": "2022-04-07T10:45:16.088Z"
   },
   {
    "duration": 15,
    "start_time": "2022-04-07T10:45:25.906Z"
   },
   {
    "duration": 8,
    "start_time": "2022-04-07T10:45:32.292Z"
   },
   {
    "duration": 7,
    "start_time": "2022-04-07T10:45:44.031Z"
   },
   {
    "duration": 8,
    "start_time": "2022-04-07T10:46:11.973Z"
   },
   {
    "duration": 95,
    "start_time": "2022-04-07T10:46:22.785Z"
   },
   {
    "duration": 20,
    "start_time": "2022-04-07T10:46:22.883Z"
   },
   {
    "duration": 46,
    "start_time": "2022-04-07T10:46:22.906Z"
   },
   {
    "duration": 8,
    "start_time": "2022-04-07T10:46:22.954Z"
   },
   {
    "duration": 8,
    "start_time": "2022-04-07T10:46:22.965Z"
   },
   {
    "duration": 16,
    "start_time": "2022-04-07T10:46:22.976Z"
   },
   {
    "duration": 55,
    "start_time": "2022-04-07T10:46:22.995Z"
   },
   {
    "duration": 16,
    "start_time": "2022-04-07T10:46:23.052Z"
   },
   {
    "duration": 9,
    "start_time": "2022-04-07T10:46:23.071Z"
   },
   {
    "duration": 9,
    "start_time": "2022-04-07T10:46:23.084Z"
   },
   {
    "duration": 7,
    "start_time": "2022-04-07T10:46:23.095Z"
   },
   {
    "duration": 44,
    "start_time": "2022-04-07T10:46:23.104Z"
   },
   {
    "duration": 9,
    "start_time": "2022-04-07T10:46:23.150Z"
   },
   {
    "duration": 6,
    "start_time": "2022-04-07T10:46:23.162Z"
   },
   {
    "duration": 8,
    "start_time": "2022-04-07T10:46:23.170Z"
   },
   {
    "duration": 64,
    "start_time": "2022-04-07T10:46:23.180Z"
   },
   {
    "duration": 8,
    "start_time": "2022-04-07T10:46:23.246Z"
   },
   {
    "duration": 11,
    "start_time": "2022-04-07T10:46:23.256Z"
   },
   {
    "duration": 19,
    "start_time": "2022-04-07T10:46:23.270Z"
   },
   {
    "duration": 6,
    "start_time": "2022-04-07T10:46:23.291Z"
   },
   {
    "duration": 55,
    "start_time": "2022-04-07T10:46:23.300Z"
   },
   {
    "duration": 16,
    "start_time": "2022-04-07T10:46:23.357Z"
   },
   {
    "duration": 21,
    "start_time": "2022-04-07T10:46:23.375Z"
   },
   {
    "duration": 59,
    "start_time": "2022-04-07T10:46:23.398Z"
   },
   {
    "duration": 49,
    "start_time": "2022-04-07T10:46:23.459Z"
   },
   {
    "duration": 33,
    "start_time": "2022-04-07T10:46:23.511Z"
   },
   {
    "duration": 15,
    "start_time": "2022-04-07T10:46:23.547Z"
   },
   {
    "duration": 17,
    "start_time": "2022-04-07T10:46:23.567Z"
   },
   {
    "duration": 14,
    "start_time": "2022-04-07T10:46:23.586Z"
   },
   {
    "duration": 47,
    "start_time": "2022-04-07T10:46:23.602Z"
   },
   {
    "duration": 19,
    "start_time": "2022-04-07T10:46:23.652Z"
   },
   {
    "duration": 20,
    "start_time": "2022-04-07T10:46:23.673Z"
   },
   {
    "duration": 53,
    "start_time": "2022-04-07T10:46:23.695Z"
   },
   {
    "duration": 1,
    "start_time": "2022-04-07T10:46:23.750Z"
   },
   {
    "duration": 9,
    "start_time": "2022-04-07T10:46:28.785Z"
   },
   {
    "duration": 6,
    "start_time": "2022-04-07T10:47:46.486Z"
   },
   {
    "duration": 3198,
    "start_time": "2022-04-07T10:47:51.816Z"
   },
   {
    "duration": 92,
    "start_time": "2022-04-07T10:48:04.713Z"
   },
   {
    "duration": 44,
    "start_time": "2022-04-07T10:48:04.808Z"
   },
   {
    "duration": 13,
    "start_time": "2022-04-07T10:48:04.854Z"
   },
   {
    "duration": 14,
    "start_time": "2022-04-07T10:48:04.869Z"
   },
   {
    "duration": 18,
    "start_time": "2022-04-07T10:48:04.885Z"
   },
   {
    "duration": 40,
    "start_time": "2022-04-07T10:48:04.905Z"
   },
   {
    "duration": 8,
    "start_time": "2022-04-07T10:48:04.947Z"
   },
   {
    "duration": 29,
    "start_time": "2022-04-07T10:48:04.957Z"
   },
   {
    "duration": 19,
    "start_time": "2022-04-07T10:48:04.988Z"
   },
   {
    "duration": 37,
    "start_time": "2022-04-07T10:48:05.012Z"
   },
   {
    "duration": 27,
    "start_time": "2022-04-07T10:48:05.051Z"
   },
   {
    "duration": 22,
    "start_time": "2022-04-07T10:48:05.080Z"
   },
   {
    "duration": 19,
    "start_time": "2022-04-07T10:48:05.104Z"
   },
   {
    "duration": 21,
    "start_time": "2022-04-07T10:48:05.125Z"
   },
   {
    "duration": 14,
    "start_time": "2022-04-07T10:48:05.148Z"
   },
   {
    "duration": 19,
    "start_time": "2022-04-07T10:48:05.164Z"
   },
   {
    "duration": 24,
    "start_time": "2022-04-07T10:48:05.185Z"
   },
   {
    "duration": 22,
    "start_time": "2022-04-07T10:48:05.211Z"
   },
   {
    "duration": 22,
    "start_time": "2022-04-07T10:48:05.235Z"
   },
   {
    "duration": 19,
    "start_time": "2022-04-07T10:48:05.259Z"
   },
   {
    "duration": 20,
    "start_time": "2022-04-07T10:48:05.281Z"
   },
   {
    "duration": 31,
    "start_time": "2022-04-07T10:48:05.303Z"
   },
   {
    "duration": 16,
    "start_time": "2022-04-07T10:48:05.337Z"
   },
   {
    "duration": 23,
    "start_time": "2022-04-07T10:48:05.355Z"
   },
   {
    "duration": 27,
    "start_time": "2022-04-07T10:48:05.381Z"
   },
   {
    "duration": 80,
    "start_time": "2022-04-07T10:48:05.411Z"
   },
   {
    "duration": 17,
    "start_time": "2022-04-07T10:48:05.494Z"
   },
   {
    "duration": 42,
    "start_time": "2022-04-07T10:48:05.516Z"
   },
   {
    "duration": 22,
    "start_time": "2022-04-07T10:48:05.560Z"
   },
   {
    "duration": 35,
    "start_time": "2022-04-07T10:48:05.585Z"
   },
   {
    "duration": 38,
    "start_time": "2022-04-07T10:48:05.622Z"
   },
   {
    "duration": 64,
    "start_time": "2022-04-07T10:48:05.663Z"
   },
   {
    "duration": 25,
    "start_time": "2022-04-07T10:48:05.729Z"
   },
   {
    "duration": 30,
    "start_time": "2022-04-07T10:48:05.757Z"
   },
   {
    "duration": 0,
    "start_time": "2022-04-07T10:48:05.790Z"
   },
   {
    "duration": 0,
    "start_time": "2022-04-07T10:48:21.143Z"
   },
   {
    "duration": 11,
    "start_time": "2022-04-07T10:49:57.763Z"
   },
   {
    "duration": 12,
    "start_time": "2022-04-07T10:50:20.121Z"
   },
   {
    "duration": 93,
    "start_time": "2022-04-07T10:50:24.767Z"
   },
   {
    "duration": 22,
    "start_time": "2022-04-07T10:50:24.863Z"
   },
   {
    "duration": 15,
    "start_time": "2022-04-07T10:50:24.887Z"
   },
   {
    "duration": 8,
    "start_time": "2022-04-07T10:50:24.944Z"
   },
   {
    "duration": 12,
    "start_time": "2022-04-07T10:50:24.954Z"
   },
   {
    "duration": 17,
    "start_time": "2022-04-07T10:50:24.969Z"
   },
   {
    "duration": 9,
    "start_time": "2022-04-07T10:50:24.989Z"
   },
   {
    "duration": 30,
    "start_time": "2022-04-07T10:50:25.044Z"
   },
   {
    "duration": 13,
    "start_time": "2022-04-07T10:50:25.076Z"
   },
   {
    "duration": 6,
    "start_time": "2022-04-07T10:50:25.096Z"
   },
   {
    "duration": 38,
    "start_time": "2022-04-07T10:50:25.105Z"
   },
   {
    "duration": 7,
    "start_time": "2022-04-07T10:50:25.146Z"
   },
   {
    "duration": 9,
    "start_time": "2022-04-07T10:50:25.156Z"
   },
   {
    "duration": 7,
    "start_time": "2022-04-07T10:50:25.167Z"
   },
   {
    "duration": 11,
    "start_time": "2022-04-07T10:50:25.176Z"
   },
   {
    "duration": 6,
    "start_time": "2022-04-07T10:50:25.189Z"
   },
   {
    "duration": 9,
    "start_time": "2022-04-07T10:50:25.244Z"
   },
   {
    "duration": 20,
    "start_time": "2022-04-07T10:50:25.256Z"
   },
   {
    "duration": 17,
    "start_time": "2022-04-07T10:50:25.279Z"
   },
   {
    "duration": 10,
    "start_time": "2022-04-07T10:50:25.299Z"
   },
   {
    "duration": 9,
    "start_time": "2022-04-07T10:50:25.343Z"
   },
   {
    "duration": 9,
    "start_time": "2022-04-07T10:50:25.355Z"
   },
   {
    "duration": 39,
    "start_time": "2022-04-07T10:50:25.366Z"
   },
   {
    "duration": 44,
    "start_time": "2022-04-07T10:50:25.407Z"
   },
   {
    "duration": 24,
    "start_time": "2022-04-07T10:50:25.453Z"
   },
   {
    "duration": 27,
    "start_time": "2022-04-07T10:50:25.479Z"
   },
   {
    "duration": 86,
    "start_time": "2022-04-07T10:50:25.508Z"
   },
   {
    "duration": 17,
    "start_time": "2022-04-07T10:50:25.599Z"
   },
   {
    "duration": 44,
    "start_time": "2022-04-07T10:50:25.618Z"
   },
   {
    "duration": 27,
    "start_time": "2022-04-07T10:50:25.665Z"
   },
   {
    "duration": 51,
    "start_time": "2022-04-07T10:50:25.693Z"
   },
   {
    "duration": 8,
    "start_time": "2022-04-07T10:50:25.746Z"
   },
   {
    "duration": 30,
    "start_time": "2022-04-07T10:50:25.758Z"
   },
   {
    "duration": 59,
    "start_time": "2022-04-07T10:50:25.791Z"
   },
   {
    "duration": 42,
    "start_time": "2022-04-07T10:50:25.854Z"
   },
   {
    "duration": 0,
    "start_time": "2022-04-07T10:50:25.899Z"
   },
   {
    "duration": 22,
    "start_time": "2022-04-07T10:50:51.429Z"
   },
   {
    "duration": 13,
    "start_time": "2022-04-07T10:51:03.043Z"
   },
   {
    "duration": 11,
    "start_time": "2022-04-07T10:51:18.952Z"
   },
   {
    "duration": 0,
    "start_time": "2022-04-07T10:51:53.731Z"
   },
   {
    "duration": 3327,
    "start_time": "2022-04-07T10:52:00.787Z"
   },
   {
    "duration": 92,
    "start_time": "2022-04-07T10:52:11.676Z"
   },
   {
    "duration": 24,
    "start_time": "2022-04-07T10:52:11.773Z"
   },
   {
    "duration": 45,
    "start_time": "2022-04-07T10:52:11.800Z"
   },
   {
    "duration": 8,
    "start_time": "2022-04-07T10:52:11.848Z"
   },
   {
    "duration": 10,
    "start_time": "2022-04-07T10:52:11.859Z"
   },
   {
    "duration": 24,
    "start_time": "2022-04-07T10:52:11.872Z"
   },
   {
    "duration": 8,
    "start_time": "2022-04-07T10:52:11.899Z"
   },
   {
    "duration": 22,
    "start_time": "2022-04-07T10:52:11.942Z"
   },
   {
    "duration": 8,
    "start_time": "2022-04-07T10:52:11.966Z"
   },
   {
    "duration": 12,
    "start_time": "2022-04-07T10:52:11.979Z"
   },
   {
    "duration": 8,
    "start_time": "2022-04-07T10:52:11.994Z"
   },
   {
    "duration": 7,
    "start_time": "2022-04-07T10:52:12.044Z"
   },
   {
    "duration": 17,
    "start_time": "2022-04-07T10:52:12.053Z"
   },
   {
    "duration": 10,
    "start_time": "2022-04-07T10:52:12.073Z"
   },
   {
    "duration": 7,
    "start_time": "2022-04-07T10:52:12.086Z"
   },
   {
    "duration": 8,
    "start_time": "2022-04-07T10:52:12.095Z"
   },
   {
    "duration": 31,
    "start_time": "2022-04-07T10:52:12.144Z"
   },
   {
    "duration": 15,
    "start_time": "2022-04-07T10:52:12.178Z"
   },
   {
    "duration": 7,
    "start_time": "2022-04-07T10:52:12.195Z"
   },
   {
    "duration": 44,
    "start_time": "2022-04-07T10:52:12.204Z"
   },
   {
    "duration": 8,
    "start_time": "2022-04-07T10:52:12.250Z"
   },
   {
    "duration": 39,
    "start_time": "2022-04-07T10:52:12.261Z"
   },
   {
    "duration": 50,
    "start_time": "2022-04-07T10:52:12.303Z"
   },
   {
    "duration": 34,
    "start_time": "2022-04-07T10:52:12.356Z"
   },
   {
    "duration": 57,
    "start_time": "2022-04-07T10:52:12.394Z"
   },
   {
    "duration": 55,
    "start_time": "2022-04-07T10:52:12.454Z"
   },
   {
    "duration": 45,
    "start_time": "2022-04-07T10:52:12.511Z"
   },
   {
    "duration": 16,
    "start_time": "2022-04-07T10:52:12.560Z"
   },
   {
    "duration": 18,
    "start_time": "2022-04-07T10:52:12.579Z"
   },
   {
    "duration": 16,
    "start_time": "2022-04-07T10:52:12.599Z"
   },
   {
    "duration": 12,
    "start_time": "2022-04-07T10:52:12.642Z"
   },
   {
    "duration": 31,
    "start_time": "2022-04-07T10:52:12.657Z"
   },
   {
    "duration": 19,
    "start_time": "2022-04-07T10:52:12.690Z"
   },
   {
    "duration": 23,
    "start_time": "2022-04-07T10:52:12.743Z"
   },
   {
    "duration": 0,
    "start_time": "2022-04-07T10:52:12.768Z"
   },
   {
    "duration": 86,
    "start_time": "2022-04-07T10:52:21.875Z"
   },
   {
    "duration": 13,
    "start_time": "2022-04-07T10:52:43.113Z"
   },
   {
    "duration": 11,
    "start_time": "2022-04-07T10:53:25.357Z"
   },
   {
    "duration": 10,
    "start_time": "2022-04-07T10:53:35.125Z"
   },
   {
    "duration": 18,
    "start_time": "2022-04-07T10:53:56.739Z"
   },
   {
    "duration": 5,
    "start_time": "2022-04-07T10:55:50.383Z"
   },
   {
    "duration": 8,
    "start_time": "2022-04-07T10:55:58.092Z"
   },
   {
    "duration": 9,
    "start_time": "2022-04-07T10:56:06.706Z"
   },
   {
    "duration": 13,
    "start_time": "2022-04-07T10:56:55.636Z"
   },
   {
    "duration": 10,
    "start_time": "2022-04-07T10:57:00.937Z"
   },
   {
    "duration": 6,
    "start_time": "2022-04-07T10:58:35.884Z"
   },
   {
    "duration": 114,
    "start_time": "2022-04-07T10:58:38.030Z"
   },
   {
    "duration": 26,
    "start_time": "2022-04-07T10:58:38.147Z"
   },
   {
    "duration": 16,
    "start_time": "2022-04-07T10:58:38.176Z"
   },
   {
    "duration": 8,
    "start_time": "2022-04-07T10:58:38.196Z"
   },
   {
    "duration": 12,
    "start_time": "2022-04-07T10:58:38.242Z"
   },
   {
    "duration": 27,
    "start_time": "2022-04-07T10:58:38.257Z"
   },
   {
    "duration": 8,
    "start_time": "2022-04-07T10:58:38.286Z"
   },
   {
    "duration": 55,
    "start_time": "2022-04-07T10:58:38.296Z"
   },
   {
    "duration": 19,
    "start_time": "2022-04-07T10:58:38.354Z"
   },
   {
    "duration": 16,
    "start_time": "2022-04-07T10:58:38.378Z"
   },
   {
    "duration": 6,
    "start_time": "2022-04-07T10:58:38.397Z"
   },
   {
    "duration": 26,
    "start_time": "2022-04-07T10:58:38.405Z"
   },
   {
    "duration": 25,
    "start_time": "2022-04-07T10:58:38.434Z"
   },
   {
    "duration": 14,
    "start_time": "2022-04-07T10:58:38.461Z"
   },
   {
    "duration": 16,
    "start_time": "2022-04-07T10:58:38.477Z"
   },
   {
    "duration": 15,
    "start_time": "2022-04-07T10:58:38.496Z"
   },
   {
    "duration": 31,
    "start_time": "2022-04-07T10:58:38.513Z"
   },
   {
    "duration": 16,
    "start_time": "2022-04-07T10:58:38.546Z"
   },
   {
    "duration": 8,
    "start_time": "2022-04-07T10:58:38.565Z"
   },
   {
    "duration": 13,
    "start_time": "2022-04-07T10:58:38.576Z"
   },
   {
    "duration": 9,
    "start_time": "2022-04-07T10:58:38.591Z"
   },
   {
    "duration": 43,
    "start_time": "2022-04-07T10:58:38.602Z"
   },
   {
    "duration": 16,
    "start_time": "2022-04-07T10:58:38.647Z"
   },
   {
    "duration": 24,
    "start_time": "2022-04-07T10:58:38.665Z"
   },
   {
    "duration": 58,
    "start_time": "2022-04-07T10:58:38.691Z"
   },
   {
    "duration": 52,
    "start_time": "2022-04-07T10:58:38.751Z"
   },
   {
    "duration": 38,
    "start_time": "2022-04-07T10:58:38.806Z"
   },
   {
    "duration": 16,
    "start_time": "2022-04-07T10:58:38.849Z"
   },
   {
    "duration": 18,
    "start_time": "2022-04-07T10:58:38.867Z"
   },
   {
    "duration": 15,
    "start_time": "2022-04-07T10:58:38.888Z"
   },
   {
    "duration": 53,
    "start_time": "2022-04-07T10:58:38.905Z"
   },
   {
    "duration": 26,
    "start_time": "2022-04-07T10:58:38.961Z"
   },
   {
    "duration": 18,
    "start_time": "2022-04-07T10:58:38.990Z"
   },
   {
    "duration": 50,
    "start_time": "2022-04-07T10:58:39.010Z"
   },
   {
    "duration": 0,
    "start_time": "2022-04-07T10:58:39.062Z"
   },
   {
    "duration": 9,
    "start_time": "2022-04-07T10:58:40.999Z"
   },
   {
    "duration": 23,
    "start_time": "2022-04-07T11:00:10.146Z"
   },
   {
    "duration": 10,
    "start_time": "2022-04-07T11:04:08.032Z"
   },
   {
    "duration": 9,
    "start_time": "2022-04-07T11:04:17.967Z"
   },
   {
    "duration": 11,
    "start_time": "2022-04-07T11:04:38.227Z"
   },
   {
    "duration": 11,
    "start_time": "2022-04-07T11:06:14.288Z"
   },
   {
    "duration": 11,
    "start_time": "2022-04-07T11:07:00.600Z"
   },
   {
    "duration": 92,
    "start_time": "2022-04-07T11:07:08.018Z"
   },
   {
    "duration": 45,
    "start_time": "2022-04-07T11:07:08.112Z"
   },
   {
    "duration": 13,
    "start_time": "2022-04-07T11:07:08.159Z"
   },
   {
    "duration": 6,
    "start_time": "2022-04-07T11:07:08.176Z"
   },
   {
    "duration": 7,
    "start_time": "2022-04-07T11:07:08.184Z"
   },
   {
    "duration": 53,
    "start_time": "2022-04-07T11:07:08.193Z"
   },
   {
    "duration": 7,
    "start_time": "2022-04-07T11:07:08.248Z"
   },
   {
    "duration": 25,
    "start_time": "2022-04-07T11:07:08.258Z"
   },
   {
    "duration": 6,
    "start_time": "2022-04-07T11:07:08.285Z"
   },
   {
    "duration": 55,
    "start_time": "2022-04-07T11:07:08.295Z"
   },
   {
    "duration": 23,
    "start_time": "2022-04-07T11:07:08.353Z"
   },
   {
    "duration": 11,
    "start_time": "2022-04-07T11:07:08.378Z"
   },
   {
    "duration": 9,
    "start_time": "2022-04-07T11:07:08.391Z"
   },
   {
    "duration": 10,
    "start_time": "2022-04-07T11:07:08.402Z"
   },
   {
    "duration": 30,
    "start_time": "2022-04-07T11:07:08.415Z"
   },
   {
    "duration": 7,
    "start_time": "2022-04-07T11:07:08.447Z"
   },
   {
    "duration": 18,
    "start_time": "2022-04-07T11:07:08.457Z"
   },
   {
    "duration": 18,
    "start_time": "2022-04-07T11:07:08.477Z"
   },
   {
    "duration": 6,
    "start_time": "2022-04-07T11:07:08.497Z"
   },
   {
    "duration": 41,
    "start_time": "2022-04-07T11:07:08.505Z"
   },
   {
    "duration": 7,
    "start_time": "2022-04-07T11:07:08.548Z"
   },
   {
    "duration": 24,
    "start_time": "2022-04-07T11:07:08.557Z"
   },
   {
    "duration": 14,
    "start_time": "2022-04-07T11:07:08.583Z"
   },
   {
    "duration": 63,
    "start_time": "2022-04-07T11:07:08.599Z"
   },
   {
    "duration": 25,
    "start_time": "2022-04-07T11:07:08.664Z"
   },
   {
    "duration": 87,
    "start_time": "2022-04-07T11:07:08.692Z"
   },
   {
    "duration": 18,
    "start_time": "2022-04-07T11:07:08.782Z"
   },
   {
    "duration": 40,
    "start_time": "2022-04-07T11:07:08.805Z"
   },
   {
    "duration": 18,
    "start_time": "2022-04-07T11:07:08.848Z"
   },
   {
    "duration": 17,
    "start_time": "2022-04-07T11:07:08.868Z"
   },
   {
    "duration": 9,
    "start_time": "2022-04-07T11:07:08.887Z"
   },
   {
    "duration": 58,
    "start_time": "2022-04-07T11:07:08.898Z"
   },
   {
    "duration": 23,
    "start_time": "2022-04-07T11:07:08.958Z"
   },
   {
    "duration": 0,
    "start_time": "2022-04-07T11:07:08.983Z"
   },
   {
    "duration": 0,
    "start_time": "2022-04-07T11:07:08.985Z"
   },
   {
    "duration": 12,
    "start_time": "2022-04-07T11:07:12.312Z"
   },
   {
    "duration": 7,
    "start_time": "2022-04-07T11:07:21.934Z"
   },
   {
    "duration": 12,
    "start_time": "2022-04-07T11:07:37.165Z"
   },
   {
    "duration": 12,
    "start_time": "2022-04-07T11:07:44.640Z"
   },
   {
    "duration": 9,
    "start_time": "2022-04-07T11:07:47.600Z"
   },
   {
    "duration": 6,
    "start_time": "2022-04-07T11:08:08.858Z"
   },
   {
    "duration": 11,
    "start_time": "2022-04-07T11:08:22.568Z"
   },
   {
    "duration": 13,
    "start_time": "2022-04-07T11:08:27.844Z"
   },
   {
    "duration": 27,
    "start_time": "2022-04-07T11:28:21.737Z"
   },
   {
    "duration": 26,
    "start_time": "2022-04-07T11:28:34.156Z"
   },
   {
    "duration": 20,
    "start_time": "2022-04-07T11:28:50.934Z"
   },
   {
    "duration": 105,
    "start_time": "2022-04-07T11:29:10.365Z"
   },
   {
    "duration": 21,
    "start_time": "2022-04-07T11:29:10.473Z"
   },
   {
    "duration": 13,
    "start_time": "2022-04-07T11:29:10.496Z"
   },
   {
    "duration": 44,
    "start_time": "2022-04-07T11:29:10.512Z"
   },
   {
    "duration": 12,
    "start_time": "2022-04-07T11:29:10.559Z"
   },
   {
    "duration": 23,
    "start_time": "2022-04-07T11:29:10.573Z"
   },
   {
    "duration": 7,
    "start_time": "2022-04-07T11:29:10.598Z"
   },
   {
    "duration": 45,
    "start_time": "2022-04-07T11:29:10.607Z"
   },
   {
    "duration": 10,
    "start_time": "2022-04-07T11:29:10.655Z"
   },
   {
    "duration": 21,
    "start_time": "2022-04-07T11:29:10.669Z"
   },
   {
    "duration": 11,
    "start_time": "2022-04-07T11:29:10.692Z"
   },
   {
    "duration": 20,
    "start_time": "2022-04-07T11:29:10.705Z"
   },
   {
    "duration": 15,
    "start_time": "2022-04-07T11:29:10.727Z"
   },
   {
    "duration": 24,
    "start_time": "2022-04-07T11:29:10.744Z"
   },
   {
    "duration": 16,
    "start_time": "2022-04-07T11:29:10.771Z"
   },
   {
    "duration": 13,
    "start_time": "2022-04-07T11:29:10.789Z"
   },
   {
    "duration": 22,
    "start_time": "2022-04-07T11:29:10.804Z"
   },
   {
    "duration": 19,
    "start_time": "2022-04-07T11:29:10.828Z"
   },
   {
    "duration": 12,
    "start_time": "2022-04-07T11:29:10.850Z"
   },
   {
    "duration": 11,
    "start_time": "2022-04-07T11:29:10.864Z"
   },
   {
    "duration": 6,
    "start_time": "2022-04-07T11:29:10.877Z"
   },
   {
    "duration": 27,
    "start_time": "2022-04-07T11:29:10.885Z"
   },
   {
    "duration": 42,
    "start_time": "2022-04-07T11:29:10.914Z"
   },
   {
    "duration": 21,
    "start_time": "2022-04-07T11:29:10.958Z"
   },
   {
    "duration": 26,
    "start_time": "2022-04-07T11:29:10.981Z"
   },
   {
    "duration": 89,
    "start_time": "2022-04-07T11:29:11.009Z"
   },
   {
    "duration": 16,
    "start_time": "2022-04-07T11:29:11.100Z"
   },
   {
    "duration": 38,
    "start_time": "2022-04-07T11:29:11.120Z"
   },
   {
    "duration": 18,
    "start_time": "2022-04-07T11:29:11.161Z"
   },
   {
    "duration": 17,
    "start_time": "2022-04-07T11:29:11.181Z"
   },
   {
    "duration": 9,
    "start_time": "2022-04-07T11:29:11.201Z"
   },
   {
    "duration": 28,
    "start_time": "2022-04-07T11:29:11.243Z"
   },
   {
    "duration": 23,
    "start_time": "2022-04-07T11:29:11.273Z"
   },
   {
    "duration": 0,
    "start_time": "2022-04-07T11:29:11.298Z"
   },
   {
    "duration": 0,
    "start_time": "2022-04-07T11:29:11.300Z"
   },
   {
    "duration": 16,
    "start_time": "2022-04-07T11:40:49.704Z"
   },
   {
    "duration": 12,
    "start_time": "2022-04-07T11:40:51.689Z"
   },
   {
    "duration": 10,
    "start_time": "2022-04-07T12:52:04.774Z"
   },
   {
    "duration": 12,
    "start_time": "2022-04-07T12:52:20.391Z"
   },
   {
    "duration": 244,
    "start_time": "2022-04-07T12:52:48.755Z"
   },
   {
    "duration": 12,
    "start_time": "2022-04-07T12:52:52.456Z"
   },
   {
    "duration": 4,
    "start_time": "2022-04-07T12:54:54.971Z"
   },
   {
    "duration": 4,
    "start_time": "2022-04-07T12:54:57.258Z"
   },
   {
    "duration": 8,
    "start_time": "2022-04-07T12:55:00.998Z"
   },
   {
    "duration": 11,
    "start_time": "2022-04-07T12:56:19.326Z"
   },
   {
    "duration": 11,
    "start_time": "2022-04-07T12:58:49.252Z"
   },
   {
    "duration": 12,
    "start_time": "2022-04-07T12:59:05.809Z"
   },
   {
    "duration": 9,
    "start_time": "2022-04-07T12:59:12.567Z"
   },
   {
    "duration": 7,
    "start_time": "2022-04-07T12:59:36.449Z"
   },
   {
    "duration": 12,
    "start_time": "2022-04-07T13:00:12.990Z"
   },
   {
    "duration": 13,
    "start_time": "2022-04-07T13:00:20.538Z"
   },
   {
    "duration": 3284,
    "start_time": "2022-04-07T13:00:52.477Z"
   },
   {
    "duration": 19,
    "start_time": "2022-04-07T13:01:06.608Z"
   },
   {
    "duration": 11,
    "start_time": "2022-04-07T13:01:23.848Z"
   },
   {
    "duration": 3267,
    "start_time": "2022-04-07T13:01:39.369Z"
   },
   {
    "duration": 7,
    "start_time": "2022-04-07T13:01:42.845Z"
   },
   {
    "duration": 10,
    "start_time": "2022-04-07T13:03:36.725Z"
   },
   {
    "duration": 9,
    "start_time": "2022-04-07T13:03:45.327Z"
   },
   {
    "duration": 9,
    "start_time": "2022-04-07T13:04:34.739Z"
   },
   {
    "duration": 16,
    "start_time": "2022-04-07T13:07:29.576Z"
   },
   {
    "duration": 23,
    "start_time": "2022-04-07T13:07:55.037Z"
   },
   {
    "duration": 10,
    "start_time": "2022-04-07T13:08:05.289Z"
   },
   {
    "duration": 16,
    "start_time": "2022-04-07T13:08:12.717Z"
   },
   {
    "duration": 3537,
    "start_time": "2022-04-07T13:10:21.947Z"
   },
   {
    "duration": 11,
    "start_time": "2022-04-07T13:12:26.703Z"
   },
   {
    "duration": 19,
    "start_time": "2022-04-07T13:13:28.892Z"
   },
   {
    "duration": 10,
    "start_time": "2022-04-07T13:17:00.016Z"
   },
   {
    "duration": 197,
    "start_time": "2022-04-07T13:17:16.481Z"
   },
   {
    "duration": 10,
    "start_time": "2022-04-07T13:17:55.210Z"
   },
   {
    "duration": 23,
    "start_time": "2022-04-07T13:18:04.730Z"
   },
   {
    "duration": 18,
    "start_time": "2022-04-07T13:32:34.991Z"
   },
   {
    "duration": 429,
    "start_time": "2022-04-07T15:46:58.650Z"
   },
   {
    "duration": 13,
    "start_time": "2022-04-07T15:46:59.081Z"
   },
   {
    "duration": 9,
    "start_time": "2022-04-07T15:46:59.096Z"
   },
   {
    "duration": 4,
    "start_time": "2022-04-07T15:46:59.107Z"
   },
   {
    "duration": 5,
    "start_time": "2022-04-07T15:46:59.112Z"
   },
   {
    "duration": 10,
    "start_time": "2022-04-07T15:46:59.118Z"
   },
   {
    "duration": 4,
    "start_time": "2022-04-07T15:46:59.130Z"
   },
   {
    "duration": 20,
    "start_time": "2022-04-07T15:46:59.135Z"
   },
   {
    "duration": 4,
    "start_time": "2022-04-07T15:46:59.156Z"
   },
   {
    "duration": 7,
    "start_time": "2022-04-07T15:46:59.162Z"
   },
   {
    "duration": 33,
    "start_time": "2022-04-07T15:46:59.171Z"
   },
   {
    "duration": 6,
    "start_time": "2022-04-07T15:46:59.205Z"
   },
   {
    "duration": 6,
    "start_time": "2022-04-07T15:46:59.213Z"
   },
   {
    "duration": 13,
    "start_time": "2022-04-07T15:46:59.220Z"
   },
   {
    "duration": 5,
    "start_time": "2022-04-07T15:46:59.235Z"
   },
   {
    "duration": 6,
    "start_time": "2022-04-07T15:46:59.242Z"
   },
   {
    "duration": 15,
    "start_time": "2022-04-07T15:46:59.250Z"
   },
   {
    "duration": 36,
    "start_time": "2022-04-07T15:46:59.266Z"
   },
   {
    "duration": 5,
    "start_time": "2022-04-07T15:46:59.303Z"
   },
   {
    "duration": 13,
    "start_time": "2022-04-07T15:46:59.309Z"
   },
   {
    "duration": 5,
    "start_time": "2022-04-07T15:46:59.323Z"
   },
   {
    "duration": 19,
    "start_time": "2022-04-07T15:46:59.330Z"
   },
   {
    "duration": 12,
    "start_time": "2022-04-07T15:46:59.350Z"
   },
   {
    "duration": 45,
    "start_time": "2022-04-07T15:46:59.363Z"
   },
   {
    "duration": 17,
    "start_time": "2022-04-07T15:46:59.409Z"
   },
   {
    "duration": 33,
    "start_time": "2022-04-07T15:46:59.428Z"
   },
   {
    "duration": 11,
    "start_time": "2022-04-07T15:46:59.462Z"
   },
   {
    "duration": 11,
    "start_time": "2022-04-07T15:46:59.501Z"
   },
   {
    "duration": 12,
    "start_time": "2022-04-07T15:46:59.513Z"
   },
   {
    "duration": 13,
    "start_time": "2022-04-07T15:46:59.527Z"
   },
   {
    "duration": 7,
    "start_time": "2022-04-07T15:46:59.541Z"
   },
   {
    "duration": 15,
    "start_time": "2022-04-07T15:46:59.550Z"
   },
   {
    "duration": 43,
    "start_time": "2022-04-07T15:46:59.567Z"
   },
   {
    "duration": 10,
    "start_time": "2022-04-07T15:46:59.611Z"
   },
   {
    "duration": 2,
    "start_time": "2022-04-07T15:46:59.622Z"
   },
   {
    "duration": 13,
    "start_time": "2022-04-07T15:48:35.831Z"
   },
   {
    "duration": 7,
    "start_time": "2022-04-07T15:48:57.558Z"
   },
   {
    "duration": 7,
    "start_time": "2022-04-07T15:54:10.311Z"
   },
   {
    "duration": 12,
    "start_time": "2022-04-07T15:54:46.690Z"
   },
   {
    "duration": 12,
    "start_time": "2022-04-07T15:54:58.672Z"
   },
   {
    "duration": 8,
    "start_time": "2022-04-07T15:55:03.979Z"
   },
   {
    "duration": 14,
    "start_time": "2022-04-07T15:55:07.092Z"
   },
   {
    "duration": 14,
    "start_time": "2022-04-07T16:00:40.119Z"
   },
   {
    "duration": 12,
    "start_time": "2022-04-07T16:01:20.597Z"
   },
   {
    "duration": 76,
    "start_time": "2022-04-07T16:01:26.015Z"
   },
   {
    "duration": 14,
    "start_time": "2022-04-07T16:01:30.807Z"
   },
   {
    "duration": 24,
    "start_time": "2022-04-07T16:01:52.460Z"
   },
   {
    "duration": 16,
    "start_time": "2022-04-07T16:02:15.505Z"
   },
   {
    "duration": 11,
    "start_time": "2022-04-07T16:05:17.621Z"
   },
   {
    "duration": 8,
    "start_time": "2022-04-07T16:05:33.685Z"
   },
   {
    "duration": 11,
    "start_time": "2022-04-07T16:05:42.075Z"
   },
   {
    "duration": 84,
    "start_time": "2022-04-07T16:06:19.844Z"
   },
   {
    "duration": 15,
    "start_time": "2022-04-07T16:06:19.930Z"
   },
   {
    "duration": 9,
    "start_time": "2022-04-07T16:06:19.947Z"
   },
   {
    "duration": 4,
    "start_time": "2022-04-07T16:06:19.959Z"
   },
   {
    "duration": 37,
    "start_time": "2022-04-07T16:06:19.965Z"
   },
   {
    "duration": 15,
    "start_time": "2022-04-07T16:06:20.004Z"
   },
   {
    "duration": 5,
    "start_time": "2022-04-07T16:06:20.020Z"
   },
   {
    "duration": 16,
    "start_time": "2022-04-07T16:06:20.027Z"
   },
   {
    "duration": 5,
    "start_time": "2022-04-07T16:06:20.045Z"
   },
   {
    "duration": 6,
    "start_time": "2022-04-07T16:06:20.053Z"
   },
   {
    "duration": 43,
    "start_time": "2022-04-07T16:06:20.061Z"
   },
   {
    "duration": 9,
    "start_time": "2022-04-07T16:06:20.105Z"
   },
   {
    "duration": 12,
    "start_time": "2022-04-07T16:06:20.116Z"
   },
   {
    "duration": 7,
    "start_time": "2022-04-07T16:06:20.130Z"
   },
   {
    "duration": 15,
    "start_time": "2022-04-07T16:06:20.139Z"
   },
   {
    "duration": 9,
    "start_time": "2022-04-07T16:06:20.156Z"
   },
   {
    "duration": 17,
    "start_time": "2022-04-07T16:06:20.166Z"
   },
   {
    "duration": 17,
    "start_time": "2022-04-07T16:06:20.185Z"
   },
   {
    "duration": 4,
    "start_time": "2022-04-07T16:06:20.204Z"
   },
   {
    "duration": 13,
    "start_time": "2022-04-07T16:06:20.210Z"
   },
   {
    "duration": 7,
    "start_time": "2022-04-07T16:06:20.225Z"
   },
   {
    "duration": 16,
    "start_time": "2022-04-07T16:06:20.234Z"
   },
   {
    "duration": 12,
    "start_time": "2022-04-07T16:06:20.251Z"
   },
   {
    "duration": 41,
    "start_time": "2022-04-07T16:06:20.264Z"
   },
   {
    "duration": 17,
    "start_time": "2022-04-07T16:06:20.307Z"
   },
   {
    "duration": 32,
    "start_time": "2022-04-07T16:06:20.326Z"
   },
   {
    "duration": 11,
    "start_time": "2022-04-07T16:06:20.359Z"
   },
   {
    "duration": 12,
    "start_time": "2022-04-07T16:06:20.400Z"
   },
   {
    "duration": 12,
    "start_time": "2022-04-07T16:06:20.414Z"
   },
   {
    "duration": 13,
    "start_time": "2022-04-07T16:06:20.427Z"
   },
   {
    "duration": 8,
    "start_time": "2022-04-07T16:06:20.442Z"
   },
   {
    "duration": 16,
    "start_time": "2022-04-07T16:06:20.452Z"
   },
   {
    "duration": 37,
    "start_time": "2022-04-07T16:06:20.469Z"
   },
   {
    "duration": 11,
    "start_time": "2022-04-07T16:06:20.507Z"
   },
   {
    "duration": 11,
    "start_time": "2022-04-07T16:06:20.520Z"
   },
   {
    "duration": 16,
    "start_time": "2022-04-07T16:06:20.533Z"
   },
   {
    "duration": 11,
    "start_time": "2022-04-07T16:06:20.550Z"
   },
   {
    "duration": 13,
    "start_time": "2022-04-07T16:09:07.881Z"
   },
   {
    "duration": 15,
    "start_time": "2022-04-07T16:09:19.851Z"
   },
   {
    "duration": 13,
    "start_time": "2022-04-07T16:09:24.642Z"
   },
   {
    "duration": 12,
    "start_time": "2022-04-07T16:27:52.332Z"
   },
   {
    "duration": 13,
    "start_time": "2022-04-07T16:28:05.774Z"
   },
   {
    "duration": 15,
    "start_time": "2022-04-07T16:28:29.107Z"
   },
   {
    "duration": 13,
    "start_time": "2022-04-07T16:28:45.818Z"
   },
   {
    "duration": 20,
    "start_time": "2022-04-07T16:28:59.999Z"
   },
   {
    "duration": 13,
    "start_time": "2022-04-07T16:29:07.965Z"
   },
   {
    "duration": 11,
    "start_time": "2022-04-07T16:29:22.741Z"
   },
   {
    "duration": 11,
    "start_time": "2022-04-07T16:29:31.268Z"
   },
   {
    "duration": 12,
    "start_time": "2022-04-07T16:35:36.502Z"
   },
   {
    "duration": 46,
    "start_time": "2022-04-08T07:57:21.530Z"
   },
   {
    "duration": 484,
    "start_time": "2022-04-08T07:57:25.407Z"
   },
   {
    "duration": 15,
    "start_time": "2022-04-08T07:57:25.893Z"
   },
   {
    "duration": 10,
    "start_time": "2022-04-08T07:57:25.909Z"
   },
   {
    "duration": 6,
    "start_time": "2022-04-08T07:57:25.921Z"
   },
   {
    "duration": 8,
    "start_time": "2022-04-08T07:57:25.928Z"
   },
   {
    "duration": 12,
    "start_time": "2022-04-08T07:57:25.938Z"
   },
   {
    "duration": 4,
    "start_time": "2022-04-08T07:57:25.952Z"
   },
   {
    "duration": 43,
    "start_time": "2022-04-08T07:57:25.958Z"
   },
   {
    "duration": 29,
    "start_time": "2022-04-08T07:57:26.003Z"
   },
   {
    "duration": 0,
    "start_time": "2022-04-08T07:57:26.036Z"
   },
   {
    "duration": 0,
    "start_time": "2022-04-08T07:57:26.037Z"
   },
   {
    "duration": 0,
    "start_time": "2022-04-08T07:57:26.038Z"
   },
   {
    "duration": 0,
    "start_time": "2022-04-08T07:57:26.039Z"
   },
   {
    "duration": 0,
    "start_time": "2022-04-08T07:57:26.040Z"
   },
   {
    "duration": 0,
    "start_time": "2022-04-08T07:57:26.041Z"
   },
   {
    "duration": 0,
    "start_time": "2022-04-08T07:57:26.042Z"
   },
   {
    "duration": 0,
    "start_time": "2022-04-08T07:57:26.043Z"
   },
   {
    "duration": 0,
    "start_time": "2022-04-08T07:57:26.044Z"
   },
   {
    "duration": 0,
    "start_time": "2022-04-08T07:57:26.045Z"
   },
   {
    "duration": 0,
    "start_time": "2022-04-08T07:57:26.046Z"
   },
   {
    "duration": 0,
    "start_time": "2022-04-08T07:57:26.047Z"
   },
   {
    "duration": 0,
    "start_time": "2022-04-08T07:57:26.048Z"
   },
   {
    "duration": 0,
    "start_time": "2022-04-08T07:57:26.049Z"
   },
   {
    "duration": 0,
    "start_time": "2022-04-08T07:57:26.050Z"
   },
   {
    "duration": 0,
    "start_time": "2022-04-08T07:57:26.051Z"
   },
   {
    "duration": 0,
    "start_time": "2022-04-08T07:57:26.053Z"
   },
   {
    "duration": 0,
    "start_time": "2022-04-08T07:57:26.054Z"
   },
   {
    "duration": 0,
    "start_time": "2022-04-08T07:57:26.055Z"
   },
   {
    "duration": 0,
    "start_time": "2022-04-08T07:57:26.056Z"
   },
   {
    "duration": 0,
    "start_time": "2022-04-08T07:57:26.057Z"
   },
   {
    "duration": 0,
    "start_time": "2022-04-08T07:57:26.058Z"
   },
   {
    "duration": 0,
    "start_time": "2022-04-08T07:57:26.059Z"
   },
   {
    "duration": 0,
    "start_time": "2022-04-08T07:57:26.060Z"
   },
   {
    "duration": 0,
    "start_time": "2022-04-08T07:57:26.061Z"
   },
   {
    "duration": 0,
    "start_time": "2022-04-08T07:57:26.100Z"
   },
   {
    "duration": 0,
    "start_time": "2022-04-08T07:57:26.102Z"
   },
   {
    "duration": 0,
    "start_time": "2022-04-08T07:57:26.103Z"
   },
   {
    "duration": 7,
    "start_time": "2022-04-08T07:57:48.779Z"
   },
   {
    "duration": 5,
    "start_time": "2022-04-08T07:57:54.852Z"
   },
   {
    "duration": 4,
    "start_time": "2022-04-08T07:58:05.873Z"
   },
   {
    "duration": 6,
    "start_time": "2022-04-08T07:58:18.620Z"
   },
   {
    "duration": 4,
    "start_time": "2022-04-08T07:58:31.134Z"
   },
   {
    "duration": 5,
    "start_time": "2022-04-08T07:58:34.272Z"
   },
   {
    "duration": 4,
    "start_time": "2022-04-08T07:58:36.274Z"
   },
   {
    "duration": 5,
    "start_time": "2022-04-08T07:58:37.444Z"
   },
   {
    "duration": 12,
    "start_time": "2022-04-08T07:58:42.315Z"
   },
   {
    "duration": 5,
    "start_time": "2022-04-08T07:58:43.569Z"
   },
   {
    "duration": 5,
    "start_time": "2022-04-08T07:58:45.072Z"
   },
   {
    "duration": 6,
    "start_time": "2022-04-08T07:58:45.965Z"
   },
   {
    "duration": 4,
    "start_time": "2022-04-08T07:58:48.858Z"
   },
   {
    "duration": 14,
    "start_time": "2022-04-08T07:58:51.963Z"
   },
   {
    "duration": 12,
    "start_time": "2022-04-08T08:01:07.546Z"
   },
   {
    "duration": 46,
    "start_time": "2022-04-08T08:29:20.390Z"
   },
   {
    "duration": 484,
    "start_time": "2022-04-08T08:29:23.012Z"
   },
   {
    "duration": 15,
    "start_time": "2022-04-08T08:29:23.498Z"
   },
   {
    "duration": 9,
    "start_time": "2022-04-08T08:29:23.515Z"
   },
   {
    "duration": 4,
    "start_time": "2022-04-08T08:29:23.526Z"
   },
   {
    "duration": 30,
    "start_time": "2022-04-08T08:29:23.531Z"
   },
   {
    "duration": 20,
    "start_time": "2022-04-08T08:29:23.563Z"
   },
   {
    "duration": 4,
    "start_time": "2022-04-08T08:29:23.584Z"
   },
   {
    "duration": 21,
    "start_time": "2022-04-08T08:29:23.590Z"
   },
   {
    "duration": 8,
    "start_time": "2022-04-08T08:29:23.613Z"
   },
   {
    "duration": 11,
    "start_time": "2022-04-08T08:29:23.625Z"
   },
   {
    "duration": 7,
    "start_time": "2022-04-08T08:29:23.637Z"
   },
   {
    "duration": 12,
    "start_time": "2022-04-08T08:29:23.646Z"
   },
   {
    "duration": 9,
    "start_time": "2022-04-08T08:29:23.660Z"
   },
   {
    "duration": 22,
    "start_time": "2022-04-08T08:29:23.671Z"
   },
   {
    "duration": 34,
    "start_time": "2022-04-08T08:29:23.695Z"
   },
   {
    "duration": 39,
    "start_time": "2022-04-08T08:29:23.731Z"
   },
   {
    "duration": 22,
    "start_time": "2022-04-08T08:29:23.772Z"
   },
   {
    "duration": 13,
    "start_time": "2022-04-08T08:29:23.796Z"
   },
   {
    "duration": 9,
    "start_time": "2022-04-08T08:29:23.811Z"
   },
   {
    "duration": 20,
    "start_time": "2022-04-08T08:29:23.822Z"
   },
   {
    "duration": 7,
    "start_time": "2022-04-08T08:29:23.844Z"
   },
   {
    "duration": 26,
    "start_time": "2022-04-08T08:29:23.853Z"
   },
   {
    "duration": 23,
    "start_time": "2022-04-08T08:29:23.882Z"
   },
   {
    "duration": 19,
    "start_time": "2022-04-08T08:29:23.906Z"
   },
   {
    "duration": 22,
    "start_time": "2022-04-08T08:29:23.927Z"
   },
   {
    "duration": 83,
    "start_time": "2022-04-08T08:29:23.951Z"
   },
   {
    "duration": 11,
    "start_time": "2022-04-08T08:29:24.036Z"
   },
   {
    "duration": 56,
    "start_time": "2022-04-08T08:29:24.051Z"
   },
   {
    "duration": 12,
    "start_time": "2022-04-08T08:29:24.108Z"
   },
   {
    "duration": 11,
    "start_time": "2022-04-08T08:29:24.122Z"
   },
   {
    "duration": 8,
    "start_time": "2022-04-08T08:29:24.134Z"
   },
   {
    "duration": 13,
    "start_time": "2022-04-08T08:29:24.144Z"
   },
   {
    "duration": 13,
    "start_time": "2022-04-08T08:29:24.158Z"
   },
   {
    "duration": 13,
    "start_time": "2022-04-08T08:29:24.200Z"
   },
   {
    "duration": 12,
    "start_time": "2022-04-08T08:29:24.214Z"
   },
   {
    "duration": 13,
    "start_time": "2022-04-08T08:29:24.227Z"
   },
   {
    "duration": 12,
    "start_time": "2022-04-08T08:29:24.241Z"
   },
   {
    "duration": 67,
    "start_time": "2022-04-08T08:29:33.843Z"
   },
   {
    "duration": 890,
    "start_time": "2022-04-08T08:29:44.165Z"
   },
   {
    "duration": 11,
    "start_time": "2022-04-08T08:30:41.018Z"
   },
   {
    "duration": 309,
    "start_time": "2022-04-08T08:30:42.727Z"
   },
   {
    "duration": 284,
    "start_time": "2022-04-08T08:30:58.529Z"
   },
   {
    "duration": 16,
    "start_time": "2022-04-08T08:32:26.581Z"
   },
   {
    "duration": 24,
    "start_time": "2022-04-08T08:33:16.068Z"
   },
   {
    "duration": 9,
    "start_time": "2022-04-08T08:33:28.003Z"
   },
   {
    "duration": 10,
    "start_time": "2022-04-08T08:34:04.618Z"
   },
   {
    "duration": 9,
    "start_time": "2022-04-08T08:34:51.225Z"
   },
   {
    "duration": 15,
    "start_time": "2022-04-08T08:35:24.369Z"
   },
   {
    "duration": 21,
    "start_time": "2022-04-08T08:37:15.926Z"
   },
   {
    "duration": 22,
    "start_time": "2022-04-08T08:41:15.431Z"
   },
   {
    "duration": 9,
    "start_time": "2022-04-08T08:41:34.705Z"
   },
   {
    "duration": 11,
    "start_time": "2022-04-08T08:43:14.467Z"
   },
   {
    "duration": 13,
    "start_time": "2022-04-08T08:43:35.916Z"
   },
   {
    "duration": 10,
    "start_time": "2022-04-08T08:46:58.409Z"
   },
   {
    "duration": 83,
    "start_time": "2022-04-08T08:47:57.297Z"
   },
   {
    "duration": 14,
    "start_time": "2022-04-08T08:47:57.382Z"
   },
   {
    "duration": 14,
    "start_time": "2022-04-08T08:47:57.398Z"
   },
   {
    "duration": 13,
    "start_time": "2022-04-08T08:47:57.414Z"
   },
   {
    "duration": 4,
    "start_time": "2022-04-08T08:47:57.429Z"
   },
   {
    "duration": 11,
    "start_time": "2022-04-08T08:47:57.435Z"
   },
   {
    "duration": 5,
    "start_time": "2022-04-08T08:47:57.448Z"
   },
   {
    "duration": 15,
    "start_time": "2022-04-08T08:47:57.454Z"
   },
   {
    "duration": 34,
    "start_time": "2022-04-08T08:47:57.470Z"
   },
   {
    "duration": 5,
    "start_time": "2022-04-08T08:47:57.506Z"
   },
   {
    "duration": 5,
    "start_time": "2022-04-08T08:47:57.513Z"
   },
   {
    "duration": 9,
    "start_time": "2022-04-08T08:47:57.519Z"
   },
   {
    "duration": 10,
    "start_time": "2022-04-08T08:47:57.529Z"
   },
   {
    "duration": 10,
    "start_time": "2022-04-08T08:47:57.540Z"
   },
   {
    "duration": 6,
    "start_time": "2022-04-08T08:47:57.552Z"
   },
   {
    "duration": 12,
    "start_time": "2022-04-08T08:47:57.560Z"
   },
   {
    "duration": 32,
    "start_time": "2022-04-08T08:47:57.573Z"
   },
   {
    "duration": 8,
    "start_time": "2022-04-08T08:47:57.607Z"
   },
   {
    "duration": 7,
    "start_time": "2022-04-08T08:47:57.617Z"
   },
   {
    "duration": 11,
    "start_time": "2022-04-08T08:47:57.626Z"
   },
   {
    "duration": 6,
    "start_time": "2022-04-08T08:47:57.639Z"
   },
   {
    "duration": 18,
    "start_time": "2022-04-08T08:47:57.647Z"
   },
   {
    "duration": 9,
    "start_time": "2022-04-08T08:47:57.666Z"
   },
   {
    "duration": 31,
    "start_time": "2022-04-08T08:47:57.677Z"
   },
   {
    "duration": 14,
    "start_time": "2022-04-08T08:47:57.710Z"
   },
   {
    "duration": 16,
    "start_time": "2022-04-08T08:47:57.725Z"
   },
   {
    "duration": 31,
    "start_time": "2022-04-08T08:47:57.743Z"
   },
   {
    "duration": 12,
    "start_time": "2022-04-08T08:47:57.800Z"
   },
   {
    "duration": 11,
    "start_time": "2022-04-08T08:47:57.814Z"
   },
   {
    "duration": 15,
    "start_time": "2022-04-08T08:47:57.826Z"
   },
   {
    "duration": 10,
    "start_time": "2022-04-08T08:47:57.842Z"
   },
   {
    "duration": 9,
    "start_time": "2022-04-08T08:47:57.853Z"
   },
   {
    "duration": 44,
    "start_time": "2022-04-08T08:47:57.863Z"
   },
   {
    "duration": 12,
    "start_time": "2022-04-08T08:47:57.909Z"
   },
   {
    "duration": 7,
    "start_time": "2022-04-08T08:47:57.923Z"
   },
   {
    "duration": 13,
    "start_time": "2022-04-08T08:47:57.932Z"
   },
   {
    "duration": 14,
    "start_time": "2022-04-08T08:47:57.946Z"
   },
   {
    "duration": 47,
    "start_time": "2022-04-08T08:47:57.962Z"
   },
   {
    "duration": 7,
    "start_time": "2022-04-08T08:49:01.597Z"
   },
   {
    "duration": 11,
    "start_time": "2022-04-08T08:49:16.557Z"
   },
   {
    "duration": 8,
    "start_time": "2022-04-08T08:49:22.097Z"
   },
   {
    "duration": 4,
    "start_time": "2022-04-08T08:50:15.541Z"
   },
   {
    "duration": 6,
    "start_time": "2022-04-08T08:50:34.234Z"
   },
   {
    "duration": 5,
    "start_time": "2022-04-08T08:50:48.943Z"
   },
   {
    "duration": 6,
    "start_time": "2022-04-08T08:51:02.080Z"
   },
   {
    "duration": 6,
    "start_time": "2022-04-08T08:51:23.508Z"
   },
   {
    "duration": 5,
    "start_time": "2022-04-08T08:51:31.877Z"
   },
   {
    "duration": 5,
    "start_time": "2022-04-08T08:51:39.168Z"
   },
   {
    "duration": 5,
    "start_time": "2022-04-08T08:51:42.550Z"
   },
   {
    "duration": 5,
    "start_time": "2022-04-08T08:52:03.805Z"
   },
   {
    "duration": 6,
    "start_time": "2022-04-08T08:57:00.919Z"
   },
   {
    "duration": 7,
    "start_time": "2022-04-08T08:57:05.287Z"
   },
   {
    "duration": 7,
    "start_time": "2022-04-08T08:57:10.608Z"
   },
   {
    "duration": 5,
    "start_time": "2022-04-08T09:16:35.124Z"
   },
   {
    "duration": 6,
    "start_time": "2022-04-08T09:16:38.509Z"
   },
   {
    "duration": 8,
    "start_time": "2022-04-08T09:17:07.016Z"
   },
   {
    "duration": 5,
    "start_time": "2022-04-08T09:17:21.597Z"
   },
   {
    "duration": 8,
    "start_time": "2022-04-08T12:15:51.695Z"
   },
   {
    "duration": 71,
    "start_time": "2022-04-08T12:16:04.400Z"
   },
   {
    "duration": 28,
    "start_time": "2022-04-08T12:16:04.473Z"
   },
   {
    "duration": 11,
    "start_time": "2022-04-08T12:16:04.503Z"
   },
   {
    "duration": 6,
    "start_time": "2022-04-08T12:16:04.516Z"
   },
   {
    "duration": 5,
    "start_time": "2022-04-08T12:16:04.524Z"
   },
   {
    "duration": 13,
    "start_time": "2022-04-08T12:16:04.530Z"
   },
   {
    "duration": 10,
    "start_time": "2022-04-08T12:16:04.544Z"
   },
   {
    "duration": 58,
    "start_time": "2022-04-08T12:16:04.556Z"
   },
   {
    "duration": 5,
    "start_time": "2022-04-08T12:16:04.615Z"
   },
   {
    "duration": 31,
    "start_time": "2022-04-08T12:16:04.622Z"
   },
   {
    "duration": 10,
    "start_time": "2022-04-08T12:16:04.655Z"
   },
   {
    "duration": 7,
    "start_time": "2022-04-08T12:16:04.666Z"
   },
   {
    "duration": 10,
    "start_time": "2022-04-08T12:16:04.675Z"
   },
   {
    "duration": 16,
    "start_time": "2022-04-08T12:16:04.686Z"
   },
   {
    "duration": 12,
    "start_time": "2022-04-08T12:16:04.704Z"
   },
   {
    "duration": 10,
    "start_time": "2022-04-08T12:16:04.717Z"
   },
   {
    "duration": 10,
    "start_time": "2022-04-08T12:16:04.728Z"
   },
   {
    "duration": 17,
    "start_time": "2022-04-08T12:16:04.740Z"
   },
   {
    "duration": 9,
    "start_time": "2022-04-08T12:16:04.759Z"
   },
   {
    "duration": 8,
    "start_time": "2022-04-08T12:16:04.769Z"
   },
   {
    "duration": 23,
    "start_time": "2022-04-08T12:16:04.779Z"
   },
   {
    "duration": 5,
    "start_time": "2022-04-08T12:16:04.804Z"
   },
   {
    "duration": 18,
    "start_time": "2022-04-08T12:16:04.810Z"
   },
   {
    "duration": 8,
    "start_time": "2022-04-08T12:16:04.830Z"
   },
   {
    "duration": 8,
    "start_time": "2022-04-08T12:16:04.840Z"
   },
   {
    "duration": 10,
    "start_time": "2022-04-08T12:16:04.850Z"
   },
   {
    "duration": 44,
    "start_time": "2022-04-08T12:16:04.862Z"
   },
   {
    "duration": 16,
    "start_time": "2022-04-08T12:16:04.910Z"
   },
   {
    "duration": 18,
    "start_time": "2022-04-08T12:16:04.928Z"
   },
   {
    "duration": 60,
    "start_time": "2022-04-08T12:16:04.948Z"
   },
   {
    "duration": 11,
    "start_time": "2022-04-08T12:16:05.010Z"
   },
   {
    "duration": 10,
    "start_time": "2022-04-08T12:16:05.022Z"
   },
   {
    "duration": 11,
    "start_time": "2022-04-08T12:16:05.034Z"
   },
   {
    "duration": 11,
    "start_time": "2022-04-08T12:16:05.047Z"
   },
   {
    "duration": 5,
    "start_time": "2022-04-08T12:16:05.060Z"
   },
   {
    "duration": 46,
    "start_time": "2022-04-08T12:16:05.066Z"
   },
   {
    "duration": 12,
    "start_time": "2022-04-08T12:16:05.113Z"
   },
   {
    "duration": 16,
    "start_time": "2022-04-08T12:16:05.126Z"
   },
   {
    "duration": 14,
    "start_time": "2022-04-08T12:16:05.144Z"
   },
   {
    "duration": 13,
    "start_time": "2022-04-08T12:16:05.160Z"
   },
   {
    "duration": 37,
    "start_time": "2022-04-08T12:16:05.175Z"
   },
   {
    "duration": 8,
    "start_time": "2022-04-08T12:17:12.559Z"
   },
   {
    "duration": 6,
    "start_time": "2022-04-08T12:17:30.030Z"
   },
   {
    "duration": 106,
    "start_time": "2022-04-08T12:17:35.899Z"
   },
   {
    "duration": 23,
    "start_time": "2022-04-08T12:17:36.007Z"
   },
   {
    "duration": 39,
    "start_time": "2022-04-08T12:17:36.032Z"
   },
   {
    "duration": 6,
    "start_time": "2022-04-08T12:17:36.073Z"
   },
   {
    "duration": 25,
    "start_time": "2022-04-08T12:17:36.081Z"
   },
   {
    "duration": 30,
    "start_time": "2022-04-08T12:17:36.108Z"
   },
   {
    "duration": 8,
    "start_time": "2022-04-08T12:17:36.139Z"
   },
   {
    "duration": 34,
    "start_time": "2022-04-08T12:17:36.149Z"
   },
   {
    "duration": 10,
    "start_time": "2022-04-08T12:17:36.185Z"
   },
   {
    "duration": 27,
    "start_time": "2022-04-08T12:17:36.198Z"
   },
   {
    "duration": 18,
    "start_time": "2022-04-08T12:17:36.227Z"
   },
   {
    "duration": 26,
    "start_time": "2022-04-08T12:17:36.247Z"
   },
   {
    "duration": 13,
    "start_time": "2022-04-08T12:17:36.275Z"
   },
   {
    "duration": 15,
    "start_time": "2022-04-08T12:17:36.289Z"
   },
   {
    "duration": 16,
    "start_time": "2022-04-08T12:17:36.306Z"
   },
   {
    "duration": 24,
    "start_time": "2022-04-08T12:17:36.324Z"
   },
   {
    "duration": 11,
    "start_time": "2022-04-08T12:17:36.350Z"
   },
   {
    "duration": 23,
    "start_time": "2022-04-08T12:17:36.362Z"
   },
   {
    "duration": 21,
    "start_time": "2022-04-08T12:17:36.387Z"
   },
   {
    "duration": 17,
    "start_time": "2022-04-08T12:17:36.410Z"
   },
   {
    "duration": 21,
    "start_time": "2022-04-08T12:17:36.429Z"
   },
   {
    "duration": 19,
    "start_time": "2022-04-08T12:17:36.452Z"
   },
   {
    "duration": 23,
    "start_time": "2022-04-08T12:17:36.473Z"
   },
   {
    "duration": 6,
    "start_time": "2022-04-08T12:17:36.498Z"
   },
   {
    "duration": 20,
    "start_time": "2022-04-08T12:17:36.506Z"
   },
   {
    "duration": 14,
    "start_time": "2022-04-08T12:17:36.528Z"
   },
   {
    "duration": 17,
    "start_time": "2022-04-08T12:17:36.544Z"
   },
   {
    "duration": 20,
    "start_time": "2022-04-08T12:17:36.565Z"
   },
   {
    "duration": 26,
    "start_time": "2022-04-08T12:17:36.587Z"
   },
   {
    "duration": 32,
    "start_time": "2022-04-08T12:17:36.615Z"
   },
   {
    "duration": 11,
    "start_time": "2022-04-08T12:17:36.649Z"
   },
   {
    "duration": 26,
    "start_time": "2022-04-08T12:17:36.662Z"
   },
   {
    "duration": 25,
    "start_time": "2022-04-08T12:17:36.689Z"
   },
   {
    "duration": 24,
    "start_time": "2022-04-08T12:17:36.717Z"
   },
   {
    "duration": 17,
    "start_time": "2022-04-08T12:17:36.743Z"
   },
   {
    "duration": 21,
    "start_time": "2022-04-08T12:17:36.762Z"
   },
   {
    "duration": 26,
    "start_time": "2022-04-08T12:17:36.785Z"
   },
   {
    "duration": 8,
    "start_time": "2022-04-08T12:17:36.813Z"
   },
   {
    "duration": 22,
    "start_time": "2022-04-08T12:17:36.822Z"
   },
   {
    "duration": 12,
    "start_time": "2022-04-08T12:17:36.846Z"
   },
   {
    "duration": 19,
    "start_time": "2022-04-08T12:17:36.859Z"
   },
   {
    "duration": 15,
    "start_time": "2022-04-08T12:21:41.645Z"
   },
   {
    "duration": 7,
    "start_time": "2022-04-08T12:21:56.931Z"
   },
   {
    "duration": 179,
    "start_time": "2022-04-08T12:32:21.301Z"
   },
   {
    "duration": 200,
    "start_time": "2022-04-08T12:33:10.030Z"
   },
   {
    "duration": 36,
    "start_time": "2022-04-08T12:33:31.266Z"
   },
   {
    "duration": 21,
    "start_time": "2022-04-08T12:35:11.715Z"
   },
   {
    "duration": 19,
    "start_time": "2022-04-08T12:35:50.539Z"
   },
   {
    "duration": 19,
    "start_time": "2022-04-08T12:36:25.050Z"
   },
   {
    "duration": 27,
    "start_time": "2022-04-08T12:39:11.285Z"
   },
   {
    "duration": 23,
    "start_time": "2022-04-08T12:39:27.328Z"
   },
   {
    "duration": 23,
    "start_time": "2022-04-08T12:39:49.599Z"
   },
   {
    "duration": 20,
    "start_time": "2022-04-08T12:40:43.972Z"
   },
   {
    "duration": 192,
    "start_time": "2022-04-08T12:41:36.003Z"
   },
   {
    "duration": 66,
    "start_time": "2022-04-08T12:41:43.469Z"
   },
   {
    "duration": 16,
    "start_time": "2022-04-08T12:42:14.841Z"
   },
   {
    "duration": 199,
    "start_time": "2022-04-08T12:43:54.663Z"
   },
   {
    "duration": 10,
    "start_time": "2022-04-08T12:44:24.058Z"
   },
   {
    "duration": 9,
    "start_time": "2022-04-08T12:44:31.990Z"
   },
   {
    "duration": 19,
    "start_time": "2022-04-08T12:44:53.590Z"
   },
   {
    "duration": 14,
    "start_time": "2022-04-08T12:51:04.665Z"
   },
   {
    "duration": 1238,
    "start_time": "2022-04-18T16:43:39.879Z"
   },
   {
    "duration": 65,
    "start_time": "2022-04-18T16:43:44.776Z"
   },
   {
    "duration": 30,
    "start_time": "2022-04-18T16:44:09.485Z"
   },
   {
    "duration": 29,
    "start_time": "2022-04-18T16:44:29.576Z"
   },
   {
    "duration": 86,
    "start_time": "2022-04-19T08:51:51.752Z"
   },
   {
    "duration": 8,
    "start_time": "2022-04-19T08:51:59.139Z"
   },
   {
    "duration": 1856,
    "start_time": "2022-04-19T08:52:01.145Z"
   },
   {
    "duration": 4,
    "start_time": "2022-04-19T08:52:04.394Z"
   },
   {
    "duration": 99,
    "start_time": "2022-04-19T08:52:05.831Z"
   },
   {
    "duration": 47,
    "start_time": "2022-04-19T08:52:10.406Z"
   },
   {
    "duration": 46,
    "start_time": "2022-04-19T08:52:22.514Z"
   },
   {
    "duration": 34,
    "start_time": "2022-04-19T08:57:31.327Z"
   },
   {
    "duration": 119,
    "start_time": "2022-04-19T09:00:35.756Z"
   },
   {
    "duration": 18,
    "start_time": "2022-04-19T09:00:47.660Z"
   },
   {
    "duration": 19,
    "start_time": "2022-04-19T09:01:23.509Z"
   },
   {
    "duration": 18,
    "start_time": "2022-04-19T09:01:32.624Z"
   },
   {
    "duration": 3,
    "start_time": "2022-04-19T09:01:36.084Z"
   },
   {
    "duration": 102,
    "start_time": "2022-04-19T09:01:36.090Z"
   },
   {
    "duration": 21,
    "start_time": "2022-04-19T09:01:36.194Z"
   },
   {
    "duration": 69,
    "start_time": "2022-04-19T09:01:36.217Z"
   },
   {
    "duration": 12,
    "start_time": "2022-04-19T09:01:36.289Z"
   },
   {
    "duration": 15,
    "start_time": "2022-04-19T09:01:36.303Z"
   },
   {
    "duration": 35,
    "start_time": "2022-04-19T09:01:36.321Z"
   },
   {
    "duration": 18,
    "start_time": "2022-04-19T09:01:36.358Z"
   },
   {
    "duration": 7,
    "start_time": "2022-04-19T09:01:36.378Z"
   },
   {
    "duration": 20,
    "start_time": "2022-04-19T09:01:36.387Z"
   },
   {
    "duration": 43,
    "start_time": "2022-04-19T09:01:36.410Z"
   },
   {
    "duration": 22,
    "start_time": "2022-04-19T09:01:36.456Z"
   },
   {
    "duration": 13,
    "start_time": "2022-04-19T09:01:36.481Z"
   },
   {
    "duration": 12,
    "start_time": "2022-04-19T09:01:36.497Z"
   },
   {
    "duration": 12,
    "start_time": "2022-04-19T09:01:36.511Z"
   },
   {
    "duration": 26,
    "start_time": "2022-04-19T09:01:36.525Z"
   },
   {
    "duration": 8,
    "start_time": "2022-04-19T09:01:36.553Z"
   },
   {
    "duration": 10,
    "start_time": "2022-04-19T09:01:36.563Z"
   },
   {
    "duration": 12,
    "start_time": "2022-04-19T09:01:36.575Z"
   },
   {
    "duration": 27,
    "start_time": "2022-04-19T09:01:36.589Z"
   },
   {
    "duration": 38,
    "start_time": "2022-04-19T09:01:36.618Z"
   },
   {
    "duration": 33,
    "start_time": "2022-04-19T09:01:36.658Z"
   },
   {
    "duration": 15,
    "start_time": "2022-04-19T09:01:36.693Z"
   },
   {
    "duration": 18,
    "start_time": "2022-04-19T09:01:36.711Z"
   },
   {
    "duration": 33,
    "start_time": "2022-04-19T09:01:36.731Z"
   },
   {
    "duration": 11,
    "start_time": "2022-04-19T09:01:36.767Z"
   },
   {
    "duration": 18,
    "start_time": "2022-04-19T09:01:36.780Z"
   },
   {
    "duration": 25,
    "start_time": "2022-04-19T09:01:36.800Z"
   },
   {
    "duration": 54,
    "start_time": "2022-04-19T09:01:36.830Z"
   },
   {
    "duration": 33,
    "start_time": "2022-04-19T09:01:36.886Z"
   },
   {
    "duration": 35,
    "start_time": "2022-04-19T09:01:36.921Z"
   },
   {
    "duration": 30,
    "start_time": "2022-04-19T09:01:36.959Z"
   },
   {
    "duration": 77,
    "start_time": "2022-04-19T09:01:36.991Z"
   },
   {
    "duration": 18,
    "start_time": "2022-04-19T09:01:37.070Z"
   },
   {
    "duration": 65,
    "start_time": "2022-04-19T09:01:37.090Z"
   },
   {
    "duration": 30,
    "start_time": "2022-04-19T09:01:37.158Z"
   },
   {
    "duration": 36,
    "start_time": "2022-04-19T09:01:37.191Z"
   },
   {
    "duration": 16,
    "start_time": "2022-04-19T09:01:37.229Z"
   },
   {
    "duration": 26,
    "start_time": "2022-04-19T09:01:37.248Z"
   },
   {
    "duration": 27,
    "start_time": "2022-04-19T09:01:37.277Z"
   },
   {
    "duration": 16,
    "start_time": "2022-04-19T09:01:37.306Z"
   },
   {
    "duration": 36,
    "start_time": "2022-04-19T09:01:37.324Z"
   },
   {
    "duration": 19,
    "start_time": "2022-04-19T09:01:37.362Z"
   },
   {
    "duration": 20,
    "start_time": "2022-04-19T09:01:37.384Z"
   },
   {
    "duration": 21,
    "start_time": "2022-04-19T09:01:55.824Z"
   },
   {
    "duration": 21,
    "start_time": "2022-04-19T09:02:05.649Z"
   },
   {
    "duration": 4,
    "start_time": "2022-04-19T09:02:33.931Z"
   },
   {
    "duration": 119,
    "start_time": "2022-04-19T09:02:33.938Z"
   },
   {
    "duration": 21,
    "start_time": "2022-04-19T09:02:34.060Z"
   },
   {
    "duration": 69,
    "start_time": "2022-04-19T09:02:34.084Z"
   },
   {
    "duration": 14,
    "start_time": "2022-04-19T09:02:34.156Z"
   },
   {
    "duration": 8,
    "start_time": "2022-04-19T09:02:34.173Z"
   },
   {
    "duration": 8,
    "start_time": "2022-04-19T09:02:34.184Z"
   },
   {
    "duration": 16,
    "start_time": "2022-04-19T09:02:34.195Z"
   },
   {
    "duration": 7,
    "start_time": "2022-04-19T09:02:34.252Z"
   },
   {
    "duration": 23,
    "start_time": "2022-04-19T09:02:34.266Z"
   },
   {
    "duration": 7,
    "start_time": "2022-04-19T09:02:34.294Z"
   },
   {
    "duration": 8,
    "start_time": "2022-04-19T09:02:34.303Z"
   },
   {
    "duration": 8,
    "start_time": "2022-04-19T09:02:34.352Z"
   },
   {
    "duration": 8,
    "start_time": "2022-04-19T09:02:34.362Z"
   },
   {
    "duration": 7,
    "start_time": "2022-04-19T09:02:34.372Z"
   },
   {
    "duration": 13,
    "start_time": "2022-04-19T09:02:34.381Z"
   },
   {
    "duration": 14,
    "start_time": "2022-04-19T09:02:34.396Z"
   },
   {
    "duration": 48,
    "start_time": "2022-04-19T09:02:34.412Z"
   },
   {
    "duration": 10,
    "start_time": "2022-04-19T09:02:34.462Z"
   },
   {
    "duration": 22,
    "start_time": "2022-04-19T09:02:34.474Z"
   },
   {
    "duration": 14,
    "start_time": "2022-04-19T09:02:34.499Z"
   },
   {
    "duration": 38,
    "start_time": "2022-04-19T09:02:34.515Z"
   },
   {
    "duration": 16,
    "start_time": "2022-04-19T09:02:34.556Z"
   },
   {
    "duration": 7,
    "start_time": "2022-04-19T09:02:34.574Z"
   },
   {
    "duration": 24,
    "start_time": "2022-04-19T09:02:34.584Z"
   },
   {
    "duration": 44,
    "start_time": "2022-04-19T09:02:34.610Z"
   },
   {
    "duration": 10,
    "start_time": "2022-04-19T09:02:34.657Z"
   },
   {
    "duration": 9,
    "start_time": "2022-04-19T09:02:34.669Z"
   },
   {
    "duration": 17,
    "start_time": "2022-04-19T09:02:34.684Z"
   },
   {
    "duration": 22,
    "start_time": "2022-04-19T09:02:37.557Z"
   },
   {
    "duration": 33,
    "start_time": "2022-04-19T09:02:40.545Z"
   },
   {
    "duration": 21,
    "start_time": "2022-04-19T09:02:54.572Z"
   },
   {
    "duration": 33,
    "start_time": "2022-04-19T09:02:59.576Z"
   },
   {
    "duration": 22,
    "start_time": "2022-04-19T09:03:03.673Z"
   },
   {
    "duration": 33,
    "start_time": "2022-04-19T09:03:07.223Z"
   },
   {
    "duration": 53,
    "start_time": "2022-04-19T09:48:36.377Z"
   },
   {
    "duration": 4,
    "start_time": "2022-04-19T09:48:46.174Z"
   },
   {
    "duration": 152,
    "start_time": "2022-04-19T09:48:46.183Z"
   },
   {
    "duration": 26,
    "start_time": "2022-04-19T09:48:46.353Z"
   },
   {
    "duration": 91,
    "start_time": "2022-04-19T09:48:46.381Z"
   },
   {
    "duration": 20,
    "start_time": "2022-04-19T09:48:46.476Z"
   },
   {
    "duration": 22,
    "start_time": "2022-04-19T09:48:46.499Z"
   },
   {
    "duration": 14,
    "start_time": "2022-04-19T09:48:46.524Z"
   },
   {
    "duration": 36,
    "start_time": "2022-04-19T09:48:46.558Z"
   },
   {
    "duration": 10,
    "start_time": "2022-04-19T09:48:46.597Z"
   },
   {
    "duration": 44,
    "start_time": "2022-04-19T09:48:46.609Z"
   },
   {
    "duration": 9,
    "start_time": "2022-04-19T09:48:46.659Z"
   },
   {
    "duration": 31,
    "start_time": "2022-04-19T09:48:46.671Z"
   },
   {
    "duration": 16,
    "start_time": "2022-04-19T09:48:46.704Z"
   },
   {
    "duration": 24,
    "start_time": "2022-04-19T09:48:46.723Z"
   },
   {
    "duration": 25,
    "start_time": "2022-04-19T09:48:46.750Z"
   },
   {
    "duration": 13,
    "start_time": "2022-04-19T09:48:46.777Z"
   },
   {
    "duration": 20,
    "start_time": "2022-04-19T09:48:46.792Z"
   },
   {
    "duration": 10,
    "start_time": "2022-04-19T09:48:46.814Z"
   },
   {
    "duration": 21,
    "start_time": "2022-04-19T09:48:46.827Z"
   },
   {
    "duration": 35,
    "start_time": "2022-04-19T09:48:46.853Z"
   },
   {
    "duration": 11,
    "start_time": "2022-04-19T09:48:46.891Z"
   },
   {
    "duration": 17,
    "start_time": "2022-04-19T09:48:46.904Z"
   },
   {
    "duration": 18,
    "start_time": "2022-04-19T09:48:46.923Z"
   },
   {
    "duration": 21,
    "start_time": "2022-04-19T09:48:46.943Z"
   },
   {
    "duration": 36,
    "start_time": "2022-04-19T09:48:46.967Z"
   },
   {
    "duration": 10,
    "start_time": "2022-04-19T09:48:47.005Z"
   },
   {
    "duration": 28,
    "start_time": "2022-04-19T09:48:47.017Z"
   },
   {
    "duration": 10,
    "start_time": "2022-04-19T09:48:47.058Z"
   },
   {
    "duration": 34,
    "start_time": "2022-04-19T09:48:47.072Z"
   },
   {
    "duration": 44,
    "start_time": "2022-04-19T09:48:50.250Z"
   },
   {
    "duration": 47,
    "start_time": "2022-04-19T09:49:33.087Z"
   },
   {
    "duration": 7,
    "start_time": "2022-04-19T09:50:08.317Z"
   },
   {
    "duration": 25,
    "start_time": "2022-04-19T09:50:36.070Z"
   },
   {
    "duration": 23,
    "start_time": "2022-04-19T09:51:32.419Z"
   },
   {
    "duration": 25,
    "start_time": "2022-04-19T09:52:10.286Z"
   },
   {
    "duration": 5,
    "start_time": "2022-04-19T09:53:02.967Z"
   },
   {
    "duration": 38,
    "start_time": "2022-04-19T09:53:22.081Z"
   },
   {
    "duration": 26,
    "start_time": "2022-04-19T09:53:48.125Z"
   },
   {
    "duration": 5,
    "start_time": "2022-04-19T09:54:02.244Z"
   },
   {
    "duration": 6,
    "start_time": "2022-04-19T09:54:30.636Z"
   },
   {
    "duration": 54,
    "start_time": "2022-04-19T09:55:05.730Z"
   },
   {
    "duration": 50,
    "start_time": "2022-04-19T09:55:53.346Z"
   },
   {
    "duration": 56,
    "start_time": "2022-04-19T09:56:01.956Z"
   },
   {
    "duration": 4,
    "start_time": "2022-04-19T09:56:10.431Z"
   },
   {
    "duration": 135,
    "start_time": "2022-04-19T09:56:10.437Z"
   },
   {
    "duration": 25,
    "start_time": "2022-04-19T09:56:10.576Z"
   },
   {
    "duration": 84,
    "start_time": "2022-04-19T09:56:10.604Z"
   },
   {
    "duration": 16,
    "start_time": "2022-04-19T09:56:10.690Z"
   },
   {
    "duration": 8,
    "start_time": "2022-04-19T09:56:10.708Z"
   },
   {
    "duration": 44,
    "start_time": "2022-04-19T09:56:10.718Z"
   },
   {
    "duration": 33,
    "start_time": "2022-04-19T09:56:10.768Z"
   },
   {
    "duration": 8,
    "start_time": "2022-04-19T09:56:10.803Z"
   },
   {
    "duration": 28,
    "start_time": "2022-04-19T09:56:10.814Z"
   },
   {
    "duration": 10,
    "start_time": "2022-04-19T09:56:10.856Z"
   },
   {
    "duration": 14,
    "start_time": "2022-04-19T09:56:10.870Z"
   },
   {
    "duration": 13,
    "start_time": "2022-04-19T09:56:10.889Z"
   },
   {
    "duration": 7,
    "start_time": "2022-04-19T09:56:10.904Z"
   },
   {
    "duration": 41,
    "start_time": "2022-04-19T09:56:10.913Z"
   },
   {
    "duration": 12,
    "start_time": "2022-04-19T09:56:10.963Z"
   },
   {
    "duration": 18,
    "start_time": "2022-04-19T09:56:10.982Z"
   },
   {
    "duration": 13,
    "start_time": "2022-04-19T09:56:11.002Z"
   },
   {
    "duration": 10,
    "start_time": "2022-04-19T09:56:11.018Z"
   },
   {
    "duration": 44,
    "start_time": "2022-04-19T09:56:11.031Z"
   },
   {
    "duration": 20,
    "start_time": "2022-04-19T09:56:11.078Z"
   },
   {
    "duration": 12,
    "start_time": "2022-04-19T09:56:11.100Z"
   },
   {
    "duration": 13,
    "start_time": "2022-04-19T09:56:11.115Z"
   },
   {
    "duration": 37,
    "start_time": "2022-04-19T09:56:11.131Z"
   },
   {
    "duration": 36,
    "start_time": "2022-04-19T09:56:11.170Z"
   },
   {
    "duration": 10,
    "start_time": "2022-04-19T09:56:11.208Z"
   },
   {
    "duration": 12,
    "start_time": "2022-04-19T09:56:11.220Z"
   },
   {
    "duration": 24,
    "start_time": "2022-04-19T09:56:11.234Z"
   },
   {
    "duration": 21,
    "start_time": "2022-04-19T09:56:11.264Z"
   },
   {
    "duration": 45,
    "start_time": "2022-04-19T09:56:11.287Z"
   },
   {
    "duration": 53,
    "start_time": "2022-04-19T09:56:11.363Z"
   },
   {
    "duration": 6,
    "start_time": "2022-04-19T09:56:11.418Z"
   },
   {
    "duration": 60,
    "start_time": "2022-04-19T09:56:13.642Z"
   },
   {
    "duration": 40,
    "start_time": "2022-04-19T09:58:11.587Z"
   },
   {
    "duration": 40,
    "start_time": "2022-04-19T10:01:36.925Z"
   },
   {
    "duration": 39,
    "start_time": "2022-04-19T10:06:11.093Z"
   },
   {
    "duration": 38,
    "start_time": "2022-04-19T10:07:11.132Z"
   },
   {
    "duration": 32,
    "start_time": "2022-04-19T10:13:24.142Z"
   },
   {
    "duration": 4,
    "start_time": "2022-04-19T10:16:17.135Z"
   },
   {
    "duration": 126,
    "start_time": "2022-04-19T10:16:17.142Z"
   },
   {
    "duration": 36,
    "start_time": "2022-04-19T10:16:17.271Z"
   },
   {
    "duration": 81,
    "start_time": "2022-04-19T10:16:17.353Z"
   },
   {
    "duration": 22,
    "start_time": "2022-04-19T10:16:17.453Z"
   },
   {
    "duration": 10,
    "start_time": "2022-04-19T10:16:17.478Z"
   },
   {
    "duration": 16,
    "start_time": "2022-04-19T10:16:17.491Z"
   },
   {
    "duration": 22,
    "start_time": "2022-04-19T10:16:17.554Z"
   },
   {
    "duration": 11,
    "start_time": "2022-04-19T10:16:17.582Z"
   },
   {
    "duration": 69,
    "start_time": "2022-04-19T10:16:17.597Z"
   },
   {
    "duration": 8,
    "start_time": "2022-04-19T10:16:17.669Z"
   },
   {
    "duration": 17,
    "start_time": "2022-04-19T10:16:17.679Z"
   },
   {
    "duration": 16,
    "start_time": "2022-04-19T10:16:17.699Z"
   },
   {
    "duration": 41,
    "start_time": "2022-04-19T10:16:17.718Z"
   },
   {
    "duration": 12,
    "start_time": "2022-04-19T10:16:17.761Z"
   },
   {
    "duration": 9,
    "start_time": "2022-04-19T10:16:17.776Z"
   },
   {
    "duration": 65,
    "start_time": "2022-04-19T10:16:17.787Z"
   },
   {
    "duration": 6,
    "start_time": "2022-04-19T10:16:17.855Z"
   },
   {
    "duration": 11,
    "start_time": "2022-04-19T10:16:17.863Z"
   },
   {
    "duration": 35,
    "start_time": "2022-04-19T10:16:17.877Z"
   },
   {
    "duration": 47,
    "start_time": "2022-04-19T10:16:17.915Z"
   },
   {
    "duration": 9,
    "start_time": "2022-04-19T10:16:17.965Z"
   },
   {
    "duration": 15,
    "start_time": "2022-04-19T10:16:17.977Z"
   },
   {
    "duration": 8,
    "start_time": "2022-04-19T10:16:18.000Z"
   },
   {
    "duration": 36,
    "start_time": "2022-04-19T10:16:18.057Z"
   },
   {
    "duration": 13,
    "start_time": "2022-04-19T10:16:18.096Z"
   },
   {
    "duration": 43,
    "start_time": "2022-04-19T10:16:18.112Z"
   },
   {
    "duration": 9,
    "start_time": "2022-04-19T10:16:18.158Z"
   },
   {
    "duration": 23,
    "start_time": "2022-04-19T10:16:18.169Z"
   },
   {
    "duration": 85,
    "start_time": "2022-04-19T10:16:18.194Z"
   },
   {
    "duration": 70,
    "start_time": "2022-04-19T10:16:18.282Z"
   },
   {
    "duration": 28,
    "start_time": "2022-04-19T10:16:18.355Z"
   },
   {
    "duration": 80,
    "start_time": "2022-04-19T10:16:18.386Z"
   },
   {
    "duration": 22,
    "start_time": "2022-04-19T10:16:18.469Z"
   },
   {
    "duration": 17,
    "start_time": "2022-04-19T10:16:18.495Z"
   },
   {
    "duration": 29,
    "start_time": "2022-04-19T10:16:18.553Z"
   },
   {
    "duration": 30,
    "start_time": "2022-04-19T10:16:18.585Z"
   },
   {
    "duration": 40,
    "start_time": "2022-04-19T10:16:18.617Z"
   },
   {
    "duration": 20,
    "start_time": "2022-04-19T10:16:18.660Z"
   },
   {
    "duration": 21,
    "start_time": "2022-04-19T10:16:18.682Z"
   },
   {
    "duration": 55,
    "start_time": "2022-04-19T10:16:18.705Z"
   },
   {
    "duration": 28,
    "start_time": "2022-04-19T10:16:18.762Z"
   },
   {
    "duration": 76,
    "start_time": "2022-04-19T10:16:18.793Z"
   },
   {
    "duration": 24,
    "start_time": "2022-04-19T10:16:18.871Z"
   }
  ],
  "kernelspec": {
   "display_name": "Python 3 (ipykernel)",
   "language": "python",
   "name": "python3"
  },
  "language_info": {
   "codemirror_mode": {
    "name": "ipython",
    "version": 3
   },
   "file_extension": ".py",
   "mimetype": "text/x-python",
   "name": "python",
   "nbconvert_exporter": "python",
   "pygments_lexer": "ipython3",
   "version": "3.7.12"
  },
  "toc": {
   "base_numbering": 1,
   "nav_menu": {},
   "number_sections": true,
   "sideBar": true,
   "skip_h1_title": true,
   "title_cell": "Table of Contents",
   "title_sidebar": "Contents",
   "toc_cell": false,
   "toc_position": {},
   "toc_section_display": true,
   "toc_window_display": false
  }
 },
 "nbformat": 4,
 "nbformat_minor": 5
}
