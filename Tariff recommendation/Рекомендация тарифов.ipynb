{
  "metadata": {
    "ExecuteTimeLog": [
      {
        "duration": 816,
        "start_time": "2022-06-01T13:30:47.489Z"
      },
      {
        "duration": 3,
        "start_time": "2022-06-01T13:30:56.379Z"
      },
      {
        "duration": 110,
        "start_time": "2022-06-01T13:31:13.726Z"
      },
      {
        "duration": 19,
        "start_time": "2022-06-01T13:31:21.148Z"
      },
      {
        "duration": 805,
        "start_time": "2022-06-01T13:36:41.470Z"
      },
      {
        "duration": 3,
        "start_time": "2022-06-01T13:37:13.217Z"
      },
      {
        "duration": 10,
        "start_time": "2022-06-01T13:39:30.981Z"
      },
      {
        "duration": 12,
        "start_time": "2022-06-01T13:39:38.980Z"
      },
      {
        "duration": 4,
        "start_time": "2022-06-01T13:44:20.984Z"
      },
      {
        "duration": 32,
        "start_time": "2022-06-01T13:47:30.879Z"
      },
      {
        "duration": 9,
        "start_time": "2022-06-01T13:48:21.172Z"
      },
      {
        "duration": 3,
        "start_time": "2022-06-01T13:48:25.580Z"
      },
      {
        "duration": 26,
        "start_time": "2022-06-01T13:48:28.964Z"
      },
      {
        "duration": 35,
        "start_time": "2022-06-01T13:48:37.147Z"
      },
      {
        "duration": 25,
        "start_time": "2022-06-01T13:48:41.105Z"
      },
      {
        "duration": 57,
        "start_time": "2022-06-01T13:50:07.371Z"
      },
      {
        "duration": 24,
        "start_time": "2022-06-01T13:50:15.172Z"
      },
      {
        "duration": 5,
        "start_time": "2022-06-01T13:50:18.767Z"
      },
      {
        "duration": 6,
        "start_time": "2022-06-01T13:51:08.772Z"
      },
      {
        "duration": 4,
        "start_time": "2022-06-01T14:01:24.757Z"
      },
      {
        "duration": 6,
        "start_time": "2022-06-01T14:02:13.907Z"
      },
      {
        "duration": 14,
        "start_time": "2022-06-01T14:02:19.995Z"
      },
      {
        "duration": 3,
        "start_time": "2022-06-01T14:02:31.747Z"
      },
      {
        "duration": 4,
        "start_time": "2022-06-01T14:02:41.586Z"
      },
      {
        "duration": 11,
        "start_time": "2022-06-01T14:02:52.329Z"
      },
      {
        "duration": 4,
        "start_time": "2022-06-01T14:02:57.400Z"
      },
      {
        "duration": 5,
        "start_time": "2022-06-01T14:04:10.357Z"
      },
      {
        "duration": 5,
        "start_time": "2022-06-01T14:04:10.748Z"
      },
      {
        "duration": 4,
        "start_time": "2022-06-01T14:04:11.169Z"
      },
      {
        "duration": 4,
        "start_time": "2022-06-01T14:04:11.609Z"
      },
      {
        "duration": 3,
        "start_time": "2022-06-01T14:04:11.993Z"
      },
      {
        "duration": 32,
        "start_time": "2022-06-01T14:06:27.639Z"
      },
      {
        "duration": 6,
        "start_time": "2022-06-01T14:07:05.009Z"
      },
      {
        "duration": 6,
        "start_time": "2022-06-01T14:07:26.857Z"
      },
      {
        "duration": 5,
        "start_time": "2022-06-01T14:07:27.944Z"
      },
      {
        "duration": 4,
        "start_time": "2022-06-01T14:07:30.038Z"
      },
      {
        "duration": 4,
        "start_time": "2022-06-01T14:07:30.648Z"
      },
      {
        "duration": 30,
        "start_time": "2022-06-01T14:07:39.951Z"
      },
      {
        "duration": 13,
        "start_time": "2022-06-01T14:08:11.336Z"
      },
      {
        "duration": 13,
        "start_time": "2022-06-01T14:08:30.456Z"
      },
      {
        "duration": 18,
        "start_time": "2022-06-01T14:08:34.719Z"
      },
      {
        "duration": 8,
        "start_time": "2022-06-01T14:08:37.349Z"
      },
      {
        "duration": 20,
        "start_time": "2022-06-01T14:08:44.879Z"
      },
      {
        "duration": 13,
        "start_time": "2022-06-01T14:08:49.166Z"
      },
      {
        "duration": 12,
        "start_time": "2022-06-01T14:08:53.048Z"
      },
      {
        "duration": 5,
        "start_time": "2022-06-01T14:11:09.238Z"
      },
      {
        "duration": 4,
        "start_time": "2022-06-01T14:11:09.804Z"
      },
      {
        "duration": 4,
        "start_time": "2022-06-01T14:11:10.241Z"
      },
      {
        "duration": 4,
        "start_time": "2022-06-01T14:11:11.242Z"
      },
      {
        "duration": 4,
        "start_time": "2022-06-01T14:11:49.078Z"
      },
      {
        "duration": 7,
        "start_time": "2022-06-01T14:11:49.738Z"
      },
      {
        "duration": 6,
        "start_time": "2022-06-01T14:11:50.013Z"
      },
      {
        "duration": 3,
        "start_time": "2022-06-01T14:11:50.364Z"
      },
      {
        "duration": 4,
        "start_time": "2022-06-01T14:11:50.794Z"
      },
      {
        "duration": 5,
        "start_time": "2022-06-01T14:11:51.774Z"
      },
      {
        "duration": 5,
        "start_time": "2022-06-01T14:13:30.869Z"
      },
      {
        "duration": 4,
        "start_time": "2022-06-01T14:13:31.283Z"
      },
      {
        "duration": 4,
        "start_time": "2022-06-01T14:13:31.738Z"
      },
      {
        "duration": 3,
        "start_time": "2022-06-01T14:13:32.197Z"
      },
      {
        "duration": 5,
        "start_time": "2022-06-01T14:13:38.146Z"
      },
      {
        "duration": 5,
        "start_time": "2022-06-01T14:14:09.548Z"
      },
      {
        "duration": 4,
        "start_time": "2022-06-01T14:14:22.131Z"
      },
      {
        "duration": 4,
        "start_time": "2022-06-01T14:14:25.328Z"
      },
      {
        "duration": 5,
        "start_time": "2022-06-01T14:14:30.041Z"
      },
      {
        "duration": 5,
        "start_time": "2022-06-01T14:14:30.453Z"
      },
      {
        "duration": 4,
        "start_time": "2022-06-01T14:14:31.840Z"
      },
      {
        "duration": 4,
        "start_time": "2022-06-01T14:14:33.212Z"
      },
      {
        "duration": 6,
        "start_time": "2022-06-01T14:14:36.625Z"
      },
      {
        "duration": 4,
        "start_time": "2022-06-01T14:14:38.503Z"
      },
      {
        "duration": 9,
        "start_time": "2022-06-01T14:15:14.600Z"
      },
      {
        "duration": 5,
        "start_time": "2022-06-01T14:17:06.910Z"
      },
      {
        "duration": 6,
        "start_time": "2022-06-01T14:17:09.643Z"
      },
      {
        "duration": 5,
        "start_time": "2022-06-01T14:17:10.002Z"
      },
      {
        "duration": 4,
        "start_time": "2022-06-01T14:17:11.963Z"
      },
      {
        "duration": 4,
        "start_time": "2022-06-01T14:17:12.769Z"
      },
      {
        "duration": 5,
        "start_time": "2022-06-01T14:17:13.290Z"
      },
      {
        "duration": 4,
        "start_time": "2022-06-01T14:17:13.804Z"
      },
      {
        "duration": 905,
        "start_time": "2022-06-01T16:21:52.149Z"
      },
      {
        "duration": 175,
        "start_time": "2022-06-01T16:21:53.056Z"
      },
      {
        "duration": 17,
        "start_time": "2022-06-01T16:21:53.232Z"
      },
      {
        "duration": 11,
        "start_time": "2022-06-01T16:21:53.251Z"
      },
      {
        "duration": 6,
        "start_time": "2022-06-01T16:21:53.263Z"
      },
      {
        "duration": 8,
        "start_time": "2022-06-01T16:21:53.271Z"
      },
      {
        "duration": 6,
        "start_time": "2022-06-01T16:21:53.280Z"
      },
      {
        "duration": 4,
        "start_time": "2022-06-01T16:21:53.287Z"
      },
      {
        "duration": 12,
        "start_time": "2022-06-01T16:21:53.293Z"
      },
      {
        "duration": 6,
        "start_time": "2022-06-01T16:21:53.308Z"
      },
      {
        "duration": 96,
        "start_time": "2022-06-01T16:26:41.700Z"
      },
      {
        "duration": 22,
        "start_time": "2022-06-01T16:26:56.288Z"
      },
      {
        "duration": 14,
        "start_time": "2022-06-01T16:27:09.386Z"
      },
      {
        "duration": 14,
        "start_time": "2022-06-01T16:28:00.568Z"
      },
      {
        "duration": 4,
        "start_time": "2022-06-01T16:28:36.951Z"
      },
      {
        "duration": 13,
        "start_time": "2022-06-01T16:28:44.010Z"
      },
      {
        "duration": 56,
        "start_time": "2022-06-01T16:28:47.729Z"
      },
      {
        "duration": 53,
        "start_time": "2022-06-01T16:31:18.238Z"
      },
      {
        "duration": 54,
        "start_time": "2022-06-01T16:31:31.056Z"
      },
      {
        "duration": 60,
        "start_time": "2022-06-01T16:31:50.516Z"
      },
      {
        "duration": 52,
        "start_time": "2022-06-01T16:31:54.207Z"
      },
      {
        "duration": 53,
        "start_time": "2022-06-01T16:32:09.211Z"
      },
      {
        "duration": 52,
        "start_time": "2022-06-01T16:32:09.821Z"
      },
      {
        "duration": 51,
        "start_time": "2022-06-01T16:32:10.310Z"
      },
      {
        "duration": 854,
        "start_time": "2022-06-01T16:32:15.279Z"
      },
      {
        "duration": 9105,
        "start_time": "2022-06-01T16:32:21.972Z"
      },
      {
        "duration": 869,
        "start_time": "2022-06-01T16:32:40.514Z"
      },
      {
        "duration": 852,
        "start_time": "2022-06-01T16:36:27.181Z"
      },
      {
        "duration": 3,
        "start_time": "2022-06-01T16:37:35.854Z"
      },
      {
        "duration": 15,
        "start_time": "2022-06-01T16:38:43.133Z"
      },
      {
        "duration": 17525,
        "start_time": "2022-06-01T16:39:04.041Z"
      },
      {
        "duration": 33527,
        "start_time": "2022-06-01T16:39:51.624Z"
      },
      {
        "duration": 870,
        "start_time": "2022-06-01T16:40:25.154Z"
      },
      {
        "duration": 24,
        "start_time": "2022-06-01T16:41:02.555Z"
      },
      {
        "duration": 53,
        "start_time": "2022-06-01T16:41:08.381Z"
      },
      {
        "duration": 29,
        "start_time": "2022-06-01T16:41:10.460Z"
      },
      {
        "duration": 17660,
        "start_time": "2022-06-01T16:41:22.186Z"
      },
      {
        "duration": 4600,
        "start_time": "2022-06-01T16:42:05.921Z"
      },
      {
        "duration": 17757,
        "start_time": "2022-06-01T16:42:19.047Z"
      },
      {
        "duration": 11,
        "start_time": "2022-06-01T16:47:11.049Z"
      },
      {
        "duration": 4,
        "start_time": "2022-06-01T16:48:04.745Z"
      },
      {
        "duration": 517,
        "start_time": "2022-06-01T16:48:10.057Z"
      },
      {
        "duration": 2765,
        "start_time": "2022-06-01T16:48:32.506Z"
      },
      {
        "duration": 282195,
        "start_time": "2022-06-01T16:48:42.619Z"
      },
      {
        "duration": 55,
        "start_time": "2022-06-01T17:02:41.492Z"
      },
      {
        "duration": 920,
        "start_time": "2022-06-01T17:04:34.278Z"
      },
      {
        "duration": 1170,
        "start_time": "2022-06-01T17:04:37.488Z"
      },
      {
        "duration": 4,
        "start_time": "2022-06-01T17:04:57.547Z"
      },
      {
        "duration": 49,
        "start_time": "2022-06-01T17:04:57.552Z"
      },
      {
        "duration": 9,
        "start_time": "2022-06-01T17:04:57.603Z"
      },
      {
        "duration": 14,
        "start_time": "2022-06-01T17:04:57.614Z"
      },
      {
        "duration": 15,
        "start_time": "2022-06-01T17:04:57.630Z"
      },
      {
        "duration": 21,
        "start_time": "2022-06-01T17:04:57.647Z"
      },
      {
        "duration": 13,
        "start_time": "2022-06-01T17:04:57.670Z"
      },
      {
        "duration": 10,
        "start_time": "2022-06-01T17:04:57.684Z"
      },
      {
        "duration": 8,
        "start_time": "2022-06-01T17:04:57.696Z"
      },
      {
        "duration": 16,
        "start_time": "2022-06-01T17:04:57.705Z"
      },
      {
        "duration": 904,
        "start_time": "2022-06-01T17:04:57.724Z"
      },
      {
        "duration": 18731,
        "start_time": "2022-06-01T17:04:58.630Z"
      },
      {
        "duration": 34,
        "start_time": "2022-06-01T17:05:17.363Z"
      },
      {
        "duration": 877,
        "start_time": "2022-06-01T17:05:17.399Z"
      },
      {
        "duration": 854,
        "start_time": "2022-06-01T17:05:27.924Z"
      },
      {
        "duration": 872,
        "start_time": "2022-06-01T17:05:36.397Z"
      },
      {
        "duration": 873,
        "start_time": "2022-06-01T17:05:42.725Z"
      },
      {
        "duration": 862,
        "start_time": "2022-06-01T17:05:47.634Z"
      },
      {
        "duration": 16,
        "start_time": "2022-06-01T17:07:32.651Z"
      },
      {
        "duration": 435,
        "start_time": "2022-06-01T17:08:34.468Z"
      },
      {
        "duration": 350,
        "start_time": "2022-06-01T17:08:50.944Z"
      },
      {
        "duration": 34,
        "start_time": "2022-06-01T17:08:57.963Z"
      },
      {
        "duration": 39,
        "start_time": "2022-06-01T17:09:22.886Z"
      },
      {
        "duration": 36,
        "start_time": "2022-06-01T17:09:25.998Z"
      },
      {
        "duration": 50,
        "start_time": "2022-06-01T17:09:30.929Z"
      },
      {
        "duration": 37,
        "start_time": "2022-06-01T17:09:53.578Z"
      },
      {
        "duration": 1084,
        "start_time": "2022-06-02T08:25:40.954Z"
      },
      {
        "duration": 166,
        "start_time": "2022-06-02T08:25:42.040Z"
      },
      {
        "duration": 22,
        "start_time": "2022-06-02T08:25:42.208Z"
      },
      {
        "duration": 13,
        "start_time": "2022-06-02T08:25:42.232Z"
      },
      {
        "duration": 18,
        "start_time": "2022-06-02T08:25:42.247Z"
      },
      {
        "duration": 12,
        "start_time": "2022-06-02T08:25:42.267Z"
      },
      {
        "duration": 53,
        "start_time": "2022-06-02T08:25:42.282Z"
      },
      {
        "duration": 12,
        "start_time": "2022-06-02T08:25:42.337Z"
      },
      {
        "duration": 15,
        "start_time": "2022-06-02T08:25:42.350Z"
      },
      {
        "duration": 14,
        "start_time": "2022-06-02T08:25:42.367Z"
      },
      {
        "duration": 1251,
        "start_time": "2022-06-02T08:25:42.391Z"
      },
      {
        "duration": 21833,
        "start_time": "2022-06-02T08:25:43.644Z"
      },
      {
        "duration": 54,
        "start_time": "2022-06-02T08:26:05.488Z"
      },
      {
        "duration": 11,
        "start_time": "2022-06-02T08:26:05.544Z"
      },
      {
        "duration": 470,
        "start_time": "2022-06-02T08:26:05.557Z"
      },
      {
        "duration": 38,
        "start_time": "2022-06-02T08:26:06.028Z"
      },
      {
        "duration": 5,
        "start_time": "2022-06-02T08:30:55.238Z"
      },
      {
        "duration": 12,
        "start_time": "2022-06-02T08:31:02.315Z"
      },
      {
        "duration": 10,
        "start_time": "2022-06-02T08:31:15.634Z"
      },
      {
        "duration": 9,
        "start_time": "2022-06-02T08:31:20.349Z"
      },
      {
        "duration": 11,
        "start_time": "2022-06-02T08:31:23.391Z"
      },
      {
        "duration": 112,
        "start_time": "2022-06-02T08:31:26.707Z"
      },
      {
        "duration": 10,
        "start_time": "2022-06-02T08:31:30.545Z"
      },
      {
        "duration": 9,
        "start_time": "2022-06-02T08:32:57.420Z"
      },
      {
        "duration": 14,
        "start_time": "2022-06-02T08:33:03.044Z"
      },
      {
        "duration": 11,
        "start_time": "2022-06-02T08:33:06.673Z"
      },
      {
        "duration": 11,
        "start_time": "2022-06-02T08:39:29.056Z"
      },
      {
        "duration": 11,
        "start_time": "2022-06-02T08:39:40.834Z"
      },
      {
        "duration": 974,
        "start_time": "2022-06-02T08:41:08.467Z"
      },
      {
        "duration": 974,
        "start_time": "2022-06-02T08:41:13.687Z"
      },
      {
        "duration": 970,
        "start_time": "2022-06-02T08:41:19.167Z"
      },
      {
        "duration": 1003,
        "start_time": "2022-06-02T08:41:25.337Z"
      },
      {
        "duration": 1144,
        "start_time": "2022-06-02T08:42:42.070Z"
      },
      {
        "duration": 14,
        "start_time": "2022-06-02T08:43:05.806Z"
      },
      {
        "duration": 15,
        "start_time": "2022-06-02T08:43:15.757Z"
      },
      {
        "duration": 13,
        "start_time": "2022-06-02T08:43:35.624Z"
      },
      {
        "duration": 13,
        "start_time": "2022-06-02T08:44:12.002Z"
      },
      {
        "duration": 12,
        "start_time": "2022-06-02T08:45:25.347Z"
      },
      {
        "duration": 13,
        "start_time": "2022-06-02T08:50:44.607Z"
      },
      {
        "duration": 19783,
        "start_time": "2022-06-02T08:51:22.113Z"
      },
      {
        "duration": 40,
        "start_time": "2022-06-02T08:52:27.304Z"
      },
      {
        "duration": 37,
        "start_time": "2022-06-02T08:52:41.990Z"
      },
      {
        "duration": 370,
        "start_time": "2022-06-02T08:52:54.211Z"
      },
      {
        "duration": 8,
        "start_time": "2022-06-02T08:54:45.809Z"
      },
      {
        "duration": 7,
        "start_time": "2022-06-02T08:54:50.871Z"
      },
      {
        "duration": 3,
        "start_time": "2022-06-02T09:00:38.431Z"
      },
      {
        "duration": 68,
        "start_time": "2022-06-02T09:00:38.436Z"
      },
      {
        "duration": 33,
        "start_time": "2022-06-02T09:00:38.506Z"
      },
      {
        "duration": 51,
        "start_time": "2022-06-02T09:00:38.542Z"
      },
      {
        "duration": 24,
        "start_time": "2022-06-02T09:00:38.595Z"
      },
      {
        "duration": 36,
        "start_time": "2022-06-02T09:00:38.621Z"
      },
      {
        "duration": 44,
        "start_time": "2022-06-02T09:00:38.659Z"
      },
      {
        "duration": 29,
        "start_time": "2022-06-02T09:00:38.705Z"
      },
      {
        "duration": 39,
        "start_time": "2022-06-02T09:00:38.738Z"
      },
      {
        "duration": 31,
        "start_time": "2022-06-02T09:00:38.780Z"
      },
      {
        "duration": 1011,
        "start_time": "2022-06-02T09:00:38.813Z"
      },
      {
        "duration": 20014,
        "start_time": "2022-06-02T09:00:39.826Z"
      },
      {
        "duration": 56,
        "start_time": "2022-06-02T09:00:59.842Z"
      },
      {
        "duration": 14,
        "start_time": "2022-06-02T09:00:59.900Z"
      },
      {
        "duration": 404,
        "start_time": "2022-06-02T09:00:59.916Z"
      },
      {
        "duration": 8,
        "start_time": "2022-06-02T09:01:00.323Z"
      },
      {
        "duration": 3,
        "start_time": "2022-06-02T09:04:46.461Z"
      },
      {
        "duration": 28,
        "start_time": "2022-06-02T09:06:59.704Z"
      },
      {
        "duration": 6,
        "start_time": "2022-06-02T09:07:04.747Z"
      },
      {
        "duration": 6,
        "start_time": "2022-06-02T09:08:01.131Z"
      },
      {
        "duration": 7,
        "start_time": "2022-06-02T09:18:13.290Z"
      },
      {
        "duration": 6,
        "start_time": "2022-06-02T09:20:11.030Z"
      },
      {
        "duration": 18989,
        "start_time": "2022-06-02T10:27:28.705Z"
      },
      {
        "duration": 124391,
        "start_time": "2022-06-02T10:28:21.268Z"
      },
      {
        "duration": 11482,
        "start_time": "2022-06-02T10:30:53.667Z"
      },
      {
        "duration": 285,
        "start_time": "2022-06-02T10:32:18.970Z"
      },
      {
        "duration": 418,
        "start_time": "2022-06-02T10:35:13.581Z"
      },
      {
        "duration": 64,
        "start_time": "2022-06-02T10:35:17.919Z"
      },
      {
        "duration": 331,
        "start_time": "2022-06-02T10:35:20.973Z"
      },
      {
        "duration": 258,
        "start_time": "2022-06-02T10:35:24.735Z"
      },
      {
        "duration": 202,
        "start_time": "2022-06-02T10:35:28.282Z"
      },
      {
        "duration": 283,
        "start_time": "2022-06-02T10:35:34.432Z"
      },
      {
        "duration": 41,
        "start_time": "2022-06-02T10:36:08.633Z"
      },
      {
        "duration": 296,
        "start_time": "2022-06-02T10:36:25.181Z"
      },
      {
        "duration": 286,
        "start_time": "2022-06-02T10:36:28.615Z"
      },
      {
        "duration": 284,
        "start_time": "2022-06-02T10:36:31.634Z"
      },
      {
        "duration": 289,
        "start_time": "2022-06-02T10:37:39.156Z"
      },
      {
        "duration": 14,
        "start_time": "2022-06-02T10:43:54.894Z"
      },
      {
        "duration": 15,
        "start_time": "2022-06-02T10:44:02.270Z"
      },
      {
        "duration": 270,
        "start_time": "2022-06-02T10:44:58.893Z"
      },
      {
        "duration": 264,
        "start_time": "2022-06-02T10:45:04.533Z"
      },
      {
        "duration": 258,
        "start_time": "2022-06-02T10:45:08.915Z"
      },
      {
        "duration": 273,
        "start_time": "2022-06-02T10:45:43.278Z"
      },
      {
        "duration": 243,
        "start_time": "2022-06-02T10:45:46.472Z"
      },
      {
        "duration": 3,
        "start_time": "2022-06-02T10:53:47.412Z"
      },
      {
        "duration": 3,
        "start_time": "2022-06-02T10:53:51.167Z"
      },
      {
        "duration": 3,
        "start_time": "2022-06-02T10:54:32.971Z"
      },
      {
        "duration": 20,
        "start_time": "2022-06-02T10:54:41.320Z"
      },
      {
        "duration": 27,
        "start_time": "2022-06-02T10:55:11.204Z"
      },
      {
        "duration": 33,
        "start_time": "2022-06-02T10:55:31.806Z"
      },
      {
        "duration": 3,
        "start_time": "2022-06-02T10:57:43.620Z"
      },
      {
        "duration": 28,
        "start_time": "2022-06-02T10:57:45.411Z"
      },
      {
        "duration": 2,
        "start_time": "2022-06-02T10:57:58.720Z"
      },
      {
        "duration": 2,
        "start_time": "2022-06-02T10:58:00.308Z"
      },
      {
        "duration": 1680,
        "start_time": "2022-06-02T10:58:00.702Z"
      },
      {
        "duration": 5,
        "start_time": "2022-06-02T10:58:02.385Z"
      },
      {
        "duration": 4,
        "start_time": "2022-06-02T10:58:10.382Z"
      },
      {
        "duration": 5,
        "start_time": "2022-06-02T10:58:14.370Z"
      },
      {
        "duration": 8,
        "start_time": "2022-06-02T11:02:58.524Z"
      },
      {
        "duration": 25,
        "start_time": "2022-06-02T11:03:19.667Z"
      },
      {
        "duration": 35,
        "start_time": "2022-06-02T11:03:34.869Z"
      },
      {
        "duration": 11,
        "start_time": "2022-06-02T11:04:21.931Z"
      },
      {
        "duration": 16,
        "start_time": "2022-06-02T11:05:39.469Z"
      },
      {
        "duration": 40,
        "start_time": "2022-06-02T11:05:46.453Z"
      },
      {
        "duration": 36,
        "start_time": "2022-06-02T11:05:59.693Z"
      },
      {
        "duration": 36,
        "start_time": "2022-06-02T11:06:02.795Z"
      },
      {
        "duration": 14,
        "start_time": "2022-06-02T11:06:05.949Z"
      },
      {
        "duration": 18,
        "start_time": "2022-06-02T11:06:10.927Z"
      },
      {
        "duration": 38,
        "start_time": "2022-06-02T11:06:20.817Z"
      },
      {
        "duration": 57,
        "start_time": "2022-06-02T11:06:24.424Z"
      },
      {
        "duration": 37,
        "start_time": "2022-06-02T11:06:30.497Z"
      },
      {
        "duration": 41,
        "start_time": "2022-06-02T11:06:35.800Z"
      },
      {
        "duration": 949,
        "start_time": "2022-06-02T13:03:10.743Z"
      },
      {
        "duration": 127,
        "start_time": "2022-06-02T13:03:11.694Z"
      },
      {
        "duration": 16,
        "start_time": "2022-06-02T13:03:11.823Z"
      },
      {
        "duration": 11,
        "start_time": "2022-06-02T13:03:11.842Z"
      },
      {
        "duration": 6,
        "start_time": "2022-06-02T13:03:11.855Z"
      },
      {
        "duration": 12,
        "start_time": "2022-06-02T13:03:11.863Z"
      },
      {
        "duration": 24,
        "start_time": "2022-06-02T13:03:11.877Z"
      },
      {
        "duration": 14,
        "start_time": "2022-06-02T13:03:11.903Z"
      },
      {
        "duration": 15,
        "start_time": "2022-06-02T13:03:11.918Z"
      },
      {
        "duration": 6,
        "start_time": "2022-06-02T13:03:11.936Z"
      },
      {
        "duration": 1043,
        "start_time": "2022-06-02T13:03:11.945Z"
      },
      {
        "duration": 11647,
        "start_time": "2022-06-02T13:03:12.993Z"
      },
      {
        "duration": 52,
        "start_time": "2022-06-02T13:03:24.642Z"
      },
      {
        "duration": 17,
        "start_time": "2022-06-02T13:03:24.696Z"
      },
      {
        "duration": 270,
        "start_time": "2022-06-02T13:03:24.715Z"
      },
      {
        "duration": 10,
        "start_time": "2022-06-02T13:03:24.992Z"
      },
      {
        "duration": 7,
        "start_time": "2022-06-02T13:03:25.003Z"
      },
      {
        "duration": 994,
        "start_time": "2022-06-03T07:52:09.379Z"
      },
      {
        "duration": 120,
        "start_time": "2022-06-03T07:52:10.374Z"
      },
      {
        "duration": 17,
        "start_time": "2022-06-03T07:52:10.496Z"
      },
      {
        "duration": 11,
        "start_time": "2022-06-03T07:52:10.515Z"
      },
      {
        "duration": 8,
        "start_time": "2022-06-03T07:52:10.528Z"
      },
      {
        "duration": 9,
        "start_time": "2022-06-03T07:52:10.538Z"
      },
      {
        "duration": 4,
        "start_time": "2022-06-03T07:52:10.548Z"
      },
      {
        "duration": 6,
        "start_time": "2022-06-03T07:52:10.554Z"
      },
      {
        "duration": 12,
        "start_time": "2022-06-03T07:52:10.561Z"
      },
      {
        "duration": 15,
        "start_time": "2022-06-03T07:52:10.575Z"
      },
      {
        "duration": 944,
        "start_time": "2022-06-03T07:52:10.592Z"
      },
      {
        "duration": 11221,
        "start_time": "2022-06-03T07:52:11.538Z"
      },
      {
        "duration": 40,
        "start_time": "2022-06-03T07:52:22.764Z"
      },
      {
        "duration": 6,
        "start_time": "2022-06-03T07:52:22.806Z"
      },
      {
        "duration": 0,
        "start_time": "2022-06-03T07:52:22.813Z"
      },
      {
        "duration": 1,
        "start_time": "2022-06-03T07:52:22.814Z"
      },
      {
        "duration": 0,
        "start_time": "2022-06-03T07:52:22.816Z"
      },
      {
        "duration": 108,
        "start_time": "2022-06-03T07:53:49.537Z"
      },
      {
        "duration": 37,
        "start_time": "2022-06-03T07:55:04.289Z"
      },
      {
        "duration": 94,
        "start_time": "2022-06-03T07:55:16.087Z"
      },
      {
        "duration": 17,
        "start_time": "2022-06-03T07:56:06.950Z"
      },
      {
        "duration": 933,
        "start_time": "2022-06-03T07:56:33.752Z"
      },
      {
        "duration": 400,
        "start_time": "2022-06-03T08:02:32.028Z"
      },
      {
        "duration": 1131,
        "start_time": "2022-06-03T08:02:37.114Z"
      },
      {
        "duration": 114,
        "start_time": "2022-06-03T08:03:26.802Z"
      },
      {
        "duration": 128,
        "start_time": "2022-06-03T08:03:44.601Z"
      },
      {
        "duration": 115,
        "start_time": "2022-06-03T08:03:53.768Z"
      },
      {
        "duration": 121,
        "start_time": "2022-06-03T08:05:51.505Z"
      },
      {
        "duration": 1113,
        "start_time": "2022-06-03T08:06:00.499Z"
      },
      {
        "duration": 17,
        "start_time": "2022-06-03T08:06:23.022Z"
      },
      {
        "duration": 14,
        "start_time": "2022-06-03T08:06:27.183Z"
      },
      {
        "duration": 14,
        "start_time": "2022-06-03T08:06:56.278Z"
      },
      {
        "duration": 993,
        "start_time": "2022-06-03T08:07:02.433Z"
      },
      {
        "duration": 1007,
        "start_time": "2022-06-03T08:07:10.496Z"
      },
      {
        "duration": 1155,
        "start_time": "2022-06-03T08:08:20.311Z"
      },
      {
        "duration": 1227,
        "start_time": "2022-06-03T08:08:47.254Z"
      },
      {
        "duration": 1344,
        "start_time": "2022-06-03T08:08:58.087Z"
      },
      {
        "duration": 1196,
        "start_time": "2022-06-03T08:09:04.759Z"
      },
      {
        "duration": 1187,
        "start_time": "2022-06-03T08:09:19.622Z"
      },
      {
        "duration": 1202,
        "start_time": "2022-06-03T08:11:05.264Z"
      },
      {
        "duration": 1189,
        "start_time": "2022-06-03T08:11:28.464Z"
      },
      {
        "duration": 1186,
        "start_time": "2022-06-03T08:11:34.884Z"
      },
      {
        "duration": 1380,
        "start_time": "2022-06-03T08:12:34.351Z"
      },
      {
        "duration": 18,
        "start_time": "2022-06-03T08:14:11.676Z"
      },
      {
        "duration": 1363,
        "start_time": "2022-06-03T08:14:29.222Z"
      },
      {
        "duration": 1372,
        "start_time": "2022-06-03T08:14:59.705Z"
      },
      {
        "duration": 1341,
        "start_time": "2022-06-03T08:15:25.679Z"
      },
      {
        "duration": 1412,
        "start_time": "2022-06-03T08:15:47.510Z"
      },
      {
        "duration": 122,
        "start_time": "2022-06-03T08:16:00.606Z"
      },
      {
        "duration": 1526,
        "start_time": "2022-06-03T08:16:09.904Z"
      },
      {
        "duration": 1495,
        "start_time": "2022-06-03T08:18:05.242Z"
      },
      {
        "duration": 1478,
        "start_time": "2022-06-03T08:20:04.106Z"
      },
      {
        "duration": 1496,
        "start_time": "2022-06-03T08:20:43.954Z"
      },
      {
        "duration": 1680,
        "start_time": "2022-06-03T08:20:51.556Z"
      },
      {
        "duration": 1587,
        "start_time": "2022-06-03T08:21:00.340Z"
      },
      {
        "duration": 1531,
        "start_time": "2022-06-03T08:22:25.811Z"
      },
      {
        "duration": 243,
        "start_time": "2022-06-03T08:23:32.409Z"
      },
      {
        "duration": 1725,
        "start_time": "2022-06-03T08:23:45.162Z"
      },
      {
        "duration": 1626,
        "start_time": "2022-06-03T08:24:27.490Z"
      },
      {
        "duration": 1580,
        "start_time": "2022-06-03T08:24:39.209Z"
      },
      {
        "duration": 355,
        "start_time": "2022-06-03T08:25:00.210Z"
      },
      {
        "duration": 253,
        "start_time": "2022-06-03T08:25:13.747Z"
      },
      {
        "duration": 1591,
        "start_time": "2022-06-03T08:26:30.673Z"
      },
      {
        "duration": 1575,
        "start_time": "2022-06-03T08:27:02.532Z"
      },
      {
        "duration": 1717,
        "start_time": "2022-06-03T08:27:17.534Z"
      },
      {
        "duration": 1627,
        "start_time": "2022-06-03T08:28:26.405Z"
      },
      {
        "duration": 1167,
        "start_time": "2022-06-03T08:36:14.470Z"
      },
      {
        "duration": 96,
        "start_time": "2022-06-03T08:36:15.640Z"
      },
      {
        "duration": 16,
        "start_time": "2022-06-03T08:36:15.737Z"
      },
      {
        "duration": 25,
        "start_time": "2022-06-03T08:36:15.755Z"
      },
      {
        "duration": 15,
        "start_time": "2022-06-03T08:36:15.782Z"
      },
      {
        "duration": 28,
        "start_time": "2022-06-03T08:36:15.799Z"
      },
      {
        "duration": 10,
        "start_time": "2022-06-03T08:36:15.828Z"
      },
      {
        "duration": 20,
        "start_time": "2022-06-03T08:36:15.840Z"
      },
      {
        "duration": 19,
        "start_time": "2022-06-03T08:36:15.861Z"
      },
      {
        "duration": 14,
        "start_time": "2022-06-03T08:36:15.882Z"
      },
      {
        "duration": 1640,
        "start_time": "2022-06-03T08:36:15.897Z"
      },
      {
        "duration": 11271,
        "start_time": "2022-06-03T08:36:17.539Z"
      },
      {
        "duration": 53,
        "start_time": "2022-06-03T08:36:28.812Z"
      },
      {
        "duration": 7,
        "start_time": "2022-06-03T08:36:28.869Z"
      },
      {
        "duration": 0,
        "start_time": "2022-06-03T08:36:28.878Z"
      },
      {
        "duration": 0,
        "start_time": "2022-06-03T08:36:28.880Z"
      },
      {
        "duration": 0,
        "start_time": "2022-06-03T08:36:28.882Z"
      },
      {
        "duration": 0,
        "start_time": "2022-06-03T08:36:28.883Z"
      },
      {
        "duration": 3,
        "start_time": "2022-06-03T08:36:56.526Z"
      },
      {
        "duration": 4,
        "start_time": "2022-06-03T08:36:59.734Z"
      },
      {
        "duration": 3,
        "start_time": "2022-06-03T08:37:00.907Z"
      },
      {
        "duration": 46,
        "start_time": "2022-06-03T08:37:27.135Z"
      },
      {
        "duration": 13,
        "start_time": "2022-06-03T08:38:32.016Z"
      },
      {
        "duration": 11,
        "start_time": "2022-06-03T08:38:43.086Z"
      },
      {
        "duration": 256,
        "start_time": "2022-06-03T08:38:44.394Z"
      },
      {
        "duration": 7,
        "start_time": "2022-06-03T08:38:47.213Z"
      },
      {
        "duration": 5,
        "start_time": "2022-06-03T08:38:54.646Z"
      },
      {
        "duration": 13,
        "start_time": "2022-06-03T08:43:33.621Z"
      },
      {
        "duration": 12,
        "start_time": "2022-06-03T08:43:37.951Z"
      },
      {
        "duration": 130,
        "start_time": "2022-06-03T08:43:47.808Z"
      },
      {
        "duration": 249,
        "start_time": "2022-06-03T08:44:00.153Z"
      },
      {
        "duration": 1634,
        "start_time": "2022-06-03T08:44:31.102Z"
      },
      {
        "duration": 144,
        "start_time": "2022-06-03T08:45:44.095Z"
      },
      {
        "duration": 280,
        "start_time": "2022-06-03T08:45:49.346Z"
      },
      {
        "duration": 28190,
        "start_time": "2022-06-03T08:46:29.408Z"
      },
      {
        "duration": 151,
        "start_time": "2022-06-03T08:52:45.685Z"
      },
      {
        "duration": 264,
        "start_time": "2022-06-03T08:52:48.270Z"
      },
      {
        "duration": 265,
        "start_time": "2022-06-03T08:57:58.317Z"
      },
      {
        "duration": 138,
        "start_time": "2022-06-03T08:58:03.509Z"
      },
      {
        "duration": 1151,
        "start_time": "2022-06-03T08:59:59.983Z"
      },
      {
        "duration": 103,
        "start_time": "2022-06-03T09:00:01.138Z"
      },
      {
        "duration": 23,
        "start_time": "2022-06-03T09:00:01.242Z"
      },
      {
        "duration": 25,
        "start_time": "2022-06-03T09:00:01.267Z"
      },
      {
        "duration": 27,
        "start_time": "2022-06-03T09:00:01.293Z"
      },
      {
        "duration": 69,
        "start_time": "2022-06-03T09:00:01.322Z"
      },
      {
        "duration": 59,
        "start_time": "2022-06-03T09:00:01.392Z"
      },
      {
        "duration": 27,
        "start_time": "2022-06-03T09:00:01.453Z"
      },
      {
        "duration": 31,
        "start_time": "2022-06-03T09:00:01.482Z"
      },
      {
        "duration": 31,
        "start_time": "2022-06-03T09:00:01.515Z"
      },
      {
        "duration": 1696,
        "start_time": "2022-06-03T09:00:01.548Z"
      },
      {
        "duration": 1214,
        "start_time": "2022-06-03T09:00:19.224Z"
      },
      {
        "duration": 100,
        "start_time": "2022-06-03T09:00:20.441Z"
      },
      {
        "duration": 21,
        "start_time": "2022-06-03T09:00:20.543Z"
      },
      {
        "duration": 13,
        "start_time": "2022-06-03T09:00:20.566Z"
      },
      {
        "duration": 8,
        "start_time": "2022-06-03T09:00:20.581Z"
      },
      {
        "duration": 10,
        "start_time": "2022-06-03T09:00:20.591Z"
      },
      {
        "duration": 8,
        "start_time": "2022-06-03T09:00:20.603Z"
      },
      {
        "duration": 7,
        "start_time": "2022-06-03T09:00:20.612Z"
      },
      {
        "duration": 8,
        "start_time": "2022-06-03T09:00:20.620Z"
      },
      {
        "duration": 10,
        "start_time": "2022-06-03T09:00:20.630Z"
      },
      {
        "duration": 1698,
        "start_time": "2022-06-03T09:00:20.641Z"
      },
      {
        "duration": 28395,
        "start_time": "2022-06-03T09:00:22.341Z"
      },
      {
        "duration": 43,
        "start_time": "2022-06-03T09:00:50.737Z"
      },
      {
        "duration": 134,
        "start_time": "2022-06-03T09:00:50.782Z"
      },
      {
        "duration": 5,
        "start_time": "2022-06-03T09:00:50.918Z"
      },
      {
        "duration": 7,
        "start_time": "2022-06-03T09:00:52.154Z"
      },
      {
        "duration": 1213,
        "start_time": "2022-06-03T09:00:58.830Z"
      },
      {
        "duration": 104,
        "start_time": "2022-06-03T09:01:00.046Z"
      },
      {
        "duration": 14,
        "start_time": "2022-06-03T09:01:00.152Z"
      },
      {
        "duration": 12,
        "start_time": "2022-06-03T09:01:00.168Z"
      },
      {
        "duration": 12,
        "start_time": "2022-06-03T09:01:00.182Z"
      },
      {
        "duration": 17,
        "start_time": "2022-06-03T09:01:00.196Z"
      },
      {
        "duration": 11,
        "start_time": "2022-06-03T09:01:00.214Z"
      },
      {
        "duration": 9,
        "start_time": "2022-06-03T09:01:00.226Z"
      },
      {
        "duration": 8,
        "start_time": "2022-06-03T09:01:00.237Z"
      },
      {
        "duration": 9,
        "start_time": "2022-06-03T09:01:00.247Z"
      },
      {
        "duration": 1659,
        "start_time": "2022-06-03T09:01:00.257Z"
      },
      {
        "duration": 30013,
        "start_time": "2022-06-03T09:01:01.918Z"
      },
      {
        "duration": 50,
        "start_time": "2022-06-03T09:01:31.933Z"
      },
      {
        "duration": 156,
        "start_time": "2022-06-03T09:01:31.985Z"
      },
      {
        "duration": 5,
        "start_time": "2022-06-03T09:01:32.143Z"
      }
    ],
    "kernelspec": {
      "name": "python",
      "display_name": "Pyolite",
      "language": "python"
    },
    "language_info": {
      "codemirror_mode": {
        "name": "python",
        "version": 3
      },
      "file_extension": ".py",
      "mimetype": "text/x-python",
      "name": "python",
      "nbconvert_exporter": "python",
      "pygments_lexer": "ipython3",
      "version": "3.8"
    },
    "toc": {
      "base_numbering": 1,
      "nav_menu": {},
      "number_sections": true,
      "sideBar": true,
      "skip_h1_title": true,
      "title_cell": "Table of Contents",
      "title_sidebar": "Contents",
      "toc_cell": false,
      "toc_position": {},
      "toc_section_display": true,
      "toc_window_display": false
    }
  },
  "nbformat_minor": 4,
  "nbformat": 4,
  "cells": [
    {
      "cell_type": "markdown",
      "source": "# Рекомендация тарифов",
      "metadata": {}
    },
    {
      "cell_type": "markdown",
      "source": "В нашем распоряжении данные о поведении клиентов, которые уже перешли на эти тарифы. Нужно построить модель для задачи классификации, которая выберет подходящий тариф. Предобработка данных не понадобится.\n\nПостроим модель с максимально большим значением *accuracy*. Необходимо довести долю правильных ответов по крайней мере до 0.75. Проверим *accuracy* на тестовой выборке.",
      "metadata": {}
    },
    {
      "cell_type": "markdown",
      "source": "# Описание данных\nКаждый объект в наборе данных — это информация о поведении одного пользователя за месяц. Известно:\n- сalls — количество звонков,\n- minutes — суммарная длительность звонков в минутах,\n- messages — количество sms-сообщений,\n- mb_used — израсходованный интернет-трафик в Мб,\n- is_ultra — каким тарифом пользовался в течение месяца («Ультра» — 1, «Смарт» — 0).",
      "metadata": {}
    },
    {
      "cell_type": "markdown",
      "source": "## Изучение данных",
      "metadata": {}
    },
    {
      "cell_type": "code",
      "source": "import pandas as pd\nimport numpy as np\nimport matplotlib.pyplot as plt \nfrom sklearn.tree import DecisionTreeClassifier\nfrom sklearn.ensemble import RandomForestClassifier\nfrom sklearn.linear_model import LogisticRegression\nfrom sklearn.metrics import mean_squared_error\nfrom sklearn.model_selection import train_test_split\nfrom sklearn.metrics import accuracy_score\nfrom sklearn.dummy import DummyClassifier",
      "metadata": {},
      "execution_count": 1,
      "outputs": []
    },
    {
      "cell_type": "code",
      "source": "df = pd.read_csv('/datasets/users_behavior.csv')",
      "metadata": {},
      "execution_count": 2,
      "outputs": []
    },
    {
      "cell_type": "code",
      "source": "df.head()",
      "metadata": {},
      "execution_count": 3,
      "outputs": [
        {
          "execution_count": 3,
          "output_type": "execute_result",
          "data": {
            "text/html": [
              "<div>\n",
              "<style scoped>\n",
              "    .dataframe tbody tr th:only-of-type {\n",
              "        vertical-align: middle;\n",
              "    }\n",
              "\n",
              "    .dataframe tbody tr th {\n",
              "        vertical-align: top;\n",
              "    }\n",
              "\n",
              "    .dataframe thead th {\n",
              "        text-align: right;\n",
              "    }\n",
              "</style>\n",
              "<table border=\"1\" class=\"dataframe\">\n",
              "  <thead>\n",
              "    <tr style=\"text-align: right;\">\n",
              "      <th></th>\n",
              "      <th>calls</th>\n",
              "      <th>minutes</th>\n",
              "      <th>messages</th>\n",
              "      <th>mb_used</th>\n",
              "      <th>is_ultra</th>\n",
              "    </tr>\n",
              "  </thead>\n",
              "  <tbody>\n",
              "    <tr>\n",
              "      <th>0</th>\n",
              "      <td>40.0</td>\n",
              "      <td>311.90</td>\n",
              "      <td>83.0</td>\n",
              "      <td>19915.42</td>\n",
              "      <td>0</td>\n",
              "    </tr>\n",
              "    <tr>\n",
              "      <th>1</th>\n",
              "      <td>85.0</td>\n",
              "      <td>516.75</td>\n",
              "      <td>56.0</td>\n",
              "      <td>22696.96</td>\n",
              "      <td>0</td>\n",
              "    </tr>\n",
              "    <tr>\n",
              "      <th>2</th>\n",
              "      <td>77.0</td>\n",
              "      <td>467.66</td>\n",
              "      <td>86.0</td>\n",
              "      <td>21060.45</td>\n",
              "      <td>0</td>\n",
              "    </tr>\n",
              "    <tr>\n",
              "      <th>3</th>\n",
              "      <td>106.0</td>\n",
              "      <td>745.53</td>\n",
              "      <td>81.0</td>\n",
              "      <td>8437.39</td>\n",
              "      <td>1</td>\n",
              "    </tr>\n",
              "    <tr>\n",
              "      <th>4</th>\n",
              "      <td>66.0</td>\n",
              "      <td>418.74</td>\n",
              "      <td>1.0</td>\n",
              "      <td>14502.75</td>\n",
              "      <td>0</td>\n",
              "    </tr>\n",
              "  </tbody>\n",
              "</table>\n",
              "</div>"
            ],
            "text/plain": [
              "   calls  minutes  messages   mb_used  is_ultra\n",
              "0   40.0   311.90      83.0  19915.42         0\n",
              "1   85.0   516.75      56.0  22696.96         0\n",
              "2   77.0   467.66      86.0  21060.45         0\n",
              "3  106.0   745.53      81.0   8437.39         1\n",
              "4   66.0   418.74       1.0  14502.75         0"
            ]
          },
          "metadata": {}
        }
      ]
    },
    {
      "cell_type": "code",
      "source": "df.info()",
      "metadata": {},
      "execution_count": 4,
      "outputs": [
        {
          "name": "stdout",
          "output_type": "stream",
          "text": "<class 'pandas.core.frame.DataFrame'>\n\nRangeIndex: 3214 entries, 0 to 3213\n\nData columns (total 5 columns):\n\n #   Column    Non-Null Count  Dtype  \n\n---  ------    --------------  -----  \n\n 0   calls     3214 non-null   float64\n\n 1   minutes   3214 non-null   float64\n\n 2   messages  3214 non-null   float64\n\n 3   mb_used   3214 non-null   float64\n\n 4   is_ultra  3214 non-null   int64  \n\ndtypes: float64(4), int64(1)\n\nmemory usage: 125.7 KB\n"
        }
      ]
    },
    {
      "cell_type": "markdown",
      "source": "Обрабатывать данные не требуется, пропусков нет, тип данных в столбцах указан верно.  \nУ нас есть целевой признак - тип тарифа (`is_ultra`), и четыре признака.",
      "metadata": {}
    },
    {
      "cell_type": "markdown",
      "source": "## Разбиение данных на выборки",
      "metadata": {}
    },
    {
      "cell_type": "code",
      "source": "features = df.drop(['is_ultra'], axis = 1)\ntarget = df['is_ultra']",
      "metadata": {},
      "execution_count": 5,
      "outputs": []
    },
    {
      "cell_type": "markdown",
      "source": "Разделили целевой признак и объясняющие. ",
      "metadata": {}
    },
    {
      "cell_type": "code",
      "source": "features_train, features_valid, target_train, target_valid = train_test_split(\n    features, target, test_size=0.4, random_state=12345, stratify=target)",
      "metadata": {},
      "execution_count": 6,
      "outputs": []
    },
    {
      "cell_type": "code",
      "source": "features_valid, features_test, target_valid, target_test = train_test_split(\n    features_valid, target_valid, test_size=0.5, random_state=12345, stratify=target_valid)",
      "metadata": {},
      "execution_count": 7,
      "outputs": []
    },
    {
      "cell_type": "code",
      "source": "features_train.shape",
      "metadata": {
        "scrolled": true
      },
      "execution_count": 8,
      "outputs": [
        {
          "execution_count": 8,
          "output_type": "execute_result",
          "data": {
            "text/plain": [
              "(1928, 4)"
            ]
          },
          "metadata": {}
        }
      ]
    },
    {
      "cell_type": "code",
      "source": "features_valid.shape",
      "metadata": {
        "scrolled": true
      },
      "execution_count": 9,
      "outputs": [
        {
          "execution_count": 9,
          "output_type": "execute_result",
          "data": {
            "text/plain": [
              "(643, 4)"
            ]
          },
          "metadata": {}
        }
      ]
    },
    {
      "cell_type": "code",
      "source": "features_test.shape",
      "metadata": {},
      "execution_count": 10,
      "outputs": [
        {
          "execution_count": 10,
          "output_type": "execute_result",
          "data": {
            "text/plain": [
              "(643, 4)"
            ]
          },
          "metadata": {}
        }
      ]
    },
    {
      "cell_type": "markdown",
      "source": "Исходные данные разделены на обучающую, валидационную и тестовую выборки в соотношении 3/1/1.",
      "metadata": {}
    },
    {
      "cell_type": "markdown",
      "source": "## Исследование моделей",
      "metadata": {}
    },
    {
      "cell_type": "code",
      "source": "best_model=None\nbest_result=0\nx = []\ny_train = []\ny_valid = []\nfig,ax=plt.subplots(1, 2, figsize=(15,5))\nfor depth in range(1,101):\n    tree = DecisionTreeClassifier(random_state=12345, max_depth=depth)\n    tree.fit(features_train, target_train)\n    predictions_valid=tree.predict(features_valid)\n    predictions_train=tree.predict(features_train)\n    result_valid = accuracy_score(target_valid, predictions_valid)\n    result_train = accuracy_score(target_train, predictions_train)\n    x.append(depth)\n    y_train.append(result_train)\n    y_valid.append(result_valid)\n    ax[0].plot(x, y_train)\n    ax[0].set_title('Точность на обучающей выборке')\n    ax[1].plot(x, y_valid)\n    ax[1].set_title('Точность на валидационной выборке')\n    ax[0].set_xlabel('Глубина дерева')\n    ax[0].set_ylabel('Точность прогноза')\n    ax[1].set_ylabel('Точность прогноза')\n    ax[1].set_xlabel('Глубина дерева') \n    if result_valid > best_result:\n        best_model=tree\n        best_result=result_valid\nprint(best_model)\nprint(best_result)",
      "metadata": {},
      "execution_count": 11,
      "outputs": [
        {
          "name": "stdout",
          "output_type": "stream",
          "text": "DecisionTreeClassifier(max_depth=8, random_state=12345)\n\n0.80248833592535\n"
        },
        {
          "output_type": "display_data",
          "data": {
            "image/png": "[encoded data removed]",
            "text/plain": [
              "<Figure size 1080x360 with 2 Axes>"
            ]
          },
          "metadata": {
            "needs_background": "light"
          }
        }
      ]
    },
    {
      "cell_type": "markdown",
      "source": "Для модели \"Дерево решений\" наилучший результат на валидационный выборке по доле правильных ответов составляет 0.802 (лучшее значение параметра max_depth = 8).",
      "metadata": {}
    },
    {
      "cell_type": "code",
      "source": "best_model=None\nbest_result=0\nfor est in range(1,101, 10):\n    for depth in range(1,21):\n        forest = RandomForestClassifier(random_state=12345, n_estimators=est, max_depth=depth)\n        forest.fit(features_train, target_train)\n        predictions_valid = forest.predict(features_valid)\n        result = accuracy_score(target_valid, predictions_valid)\n        if result > best_result:\n            best_model=forest\n            best_result=result\nprint(best_model)\nprint(best_result)",
      "metadata": {},
      "execution_count": 12,
      "outputs": [
        {
          "name": "stdout",
          "output_type": "stream",
          "text": "RandomForestClassifier(max_depth=9, n_estimators=41, random_state=12345)\n\n0.8195956454121306\n"
        }
      ]
    },
    {
      "cell_type": "markdown",
      "source": "Для модели \"Случайный лес\" наилучший результат на валидационный выборке по доле правильных ответов составляет 0.819 (лучшее значение параметра n_estimators = 41, max_depth = 9).  \nПробовал перебирать и большие значения, результат получался на немного лучше, но обучалась модель слишком долго.",
      "metadata": {}
    },
    {
      "cell_type": "code",
      "source": "regression = LogisticRegression(random_state=12345, solver='lbfgs')\nregression.fit(features_train, target_train)\npredictions_valid = regression.predict(features_valid)\nresult = accuracy_score(target_valid, predictions_valid)\nresult",
      "metadata": {},
      "execution_count": 13,
      "outputs": [
        {
          "execution_count": 13,
          "output_type": "execute_result",
          "data": {
            "text/plain": [
              "0.7387247278382582"
            ]
          },
          "metadata": {}
        }
      ]
    },
    {
      "cell_type": "markdown",
      "source": "Для модели \"Логистическая регрессия\" наилучший результат на валидационный выборке по доле правильных ответов составляет 0.739.",
      "metadata": {}
    },
    {
      "cell_type": "markdown",
      "source": "Таким образом, лучшие результаты на валидационной выборке по доле правильных ответов показала модель \"Случайный лес\" (лучшее значение параметра n_estimators = 41, max_depth = 9).",
      "metadata": {}
    },
    {
      "cell_type": "markdown",
      "source": "## Проверка модели на тестовой выборке",
      "metadata": {}
    },
    {
      "cell_type": "code",
      "source": "forest = RandomForestClassifier(random_state=12345, n_estimators=41, max_depth=9, n_jobs=1)\nforest.fit(features_train, target_train)\npredictions_test = forest.predict(features_test)\nresult = accuracy_score(target_test, predictions_test)\nresult",
      "metadata": {},
      "execution_count": 14,
      "outputs": [
        {
          "execution_count": 14,
          "output_type": "execute_result",
          "data": {
            "text/plain": [
              "0.8102643856920684"
            ]
          },
          "metadata": {}
        }
      ]
    },
    {
      "cell_type": "markdown",
      "source": "Таким образом, лучшей моделью является \"Случайный лес\", точность прогноза которой на тестовой выборке составляет 0.81",
      "metadata": {}
    },
    {
      "cell_type": "markdown",
      "source": "## Проверка модели на адекватность",
      "metadata": {}
    },
    {
      "cell_type": "code",
      "source": "dummy_clf = DummyClassifier(strategy=\"most_frequent\")\ndummy_clf.fit(features_train, target_train)\ndummy_clf.score(features_test, target_test)",
      "metadata": {},
      "execution_count": 15,
      "outputs": [
        {
          "execution_count": 15,
          "output_type": "execute_result",
          "data": {
            "text/plain": [
              "0.6936236391912908"
            ]
          },
          "metadata": {}
        }
      ]
    },
    {
      "cell_type": "markdown",
      "source": "DummyClassifier c параметром `strategy=\"most_frequent\"` генерирует случайные прогнозы. Как видим точность предсказания с помощью этого метода составляет 0.695, что значительно меньше полученной лучшей модели, поэтому модель \"Случайный лес\" можем считать адекватной.",
      "metadata": {}
    },
    {
      "cell_type": "markdown",
      "source": "## Вывод",
      "metadata": {}
    },
    {
      "cell_type": "markdown",
      "source": "Таким образом, наиболее подходящей моделью для задачи классификации, которая выберет подходящий тариф является \"Случайный лес\", так как доля правильных ответов на тестовой выборке составляет 0.807, что больше, чем по остальным моделям.",
      "metadata": {}
    }
  ]
}