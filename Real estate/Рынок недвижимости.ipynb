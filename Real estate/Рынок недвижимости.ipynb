{
  "metadata": {
    "ExecuteTimeLog": [
      {
        "duration": 611,
        "start_time": "2022-04-23T17:26:09.295Z"
      },
      {
        "duration": 1375,
        "start_time": "2022-04-23T17:26:27.087Z"
      },
      {
        "duration": 127,
        "start_time": "2022-04-23T17:27:00.939Z"
      },
      {
        "duration": 120,
        "start_time": "2022-04-23T17:27:06.491Z"
      },
      {
        "duration": 111,
        "start_time": "2022-04-24T12:52:24.911Z"
      },
      {
        "duration": 1821,
        "start_time": "2022-04-24T12:52:29.385Z"
      },
      {
        "duration": 105,
        "start_time": "2022-04-24T12:52:31.209Z"
      },
      {
        "duration": 668,
        "start_time": "2022-04-24T12:52:44.725Z"
      },
      {
        "duration": 101,
        "start_time": "2022-04-24T12:53:47.264Z"
      },
      {
        "duration": 99,
        "start_time": "2022-04-24T12:53:56.850Z"
      },
      {
        "duration": 109,
        "start_time": "2022-04-24T12:54:21.767Z"
      },
      {
        "duration": 97,
        "start_time": "2022-04-24T12:56:44.687Z"
      },
      {
        "duration": 100,
        "start_time": "2022-04-24T12:57:14.210Z"
      },
      {
        "duration": 97,
        "start_time": "2022-04-24T12:57:51.112Z"
      },
      {
        "duration": 102,
        "start_time": "2022-04-24T12:58:17.030Z"
      },
      {
        "duration": 211,
        "start_time": "2022-04-24T12:59:16.168Z"
      },
      {
        "duration": 94,
        "start_time": "2022-04-24T12:59:38.698Z"
      },
      {
        "duration": 216,
        "start_time": "2022-04-24T12:59:41.634Z"
      },
      {
        "duration": 731,
        "start_time": "2022-04-24T13:00:01.698Z"
      },
      {
        "duration": 204,
        "start_time": "2022-04-24T13:00:07.032Z"
      },
      {
        "duration": 215,
        "start_time": "2022-04-24T13:00:13.269Z"
      },
      {
        "duration": 223,
        "start_time": "2022-04-24T13:00:57.234Z"
      },
      {
        "duration": 31,
        "start_time": "2022-04-24T13:03:32.697Z"
      },
      {
        "duration": 52,
        "start_time": "2022-04-24T13:08:34.174Z"
      },
      {
        "duration": 12,
        "start_time": "2022-04-24T13:08:44.553Z"
      },
      {
        "duration": 32,
        "start_time": "2022-04-24T13:09:23.446Z"
      },
      {
        "duration": 32,
        "start_time": "2022-04-24T13:09:32.433Z"
      },
      {
        "duration": 69,
        "start_time": "2022-04-24T13:13:48.322Z"
      },
      {
        "duration": 13,
        "start_time": "2022-04-24T13:13:55.390Z"
      },
      {
        "duration": 13,
        "start_time": "2022-04-24T13:13:58.863Z"
      },
      {
        "duration": 72,
        "start_time": "2022-04-24T13:14:02.293Z"
      },
      {
        "duration": 15,
        "start_time": "2022-04-24T13:14:04.638Z"
      },
      {
        "duration": 11,
        "start_time": "2022-04-24T13:14:09.011Z"
      },
      {
        "duration": 4,
        "start_time": "2022-04-24T13:14:32.799Z"
      },
      {
        "duration": 105,
        "start_time": "2022-04-24T13:14:32.806Z"
      },
      {
        "duration": 157,
        "start_time": "2022-04-24T13:14:32.913Z"
      },
      {
        "duration": 28,
        "start_time": "2022-04-24T13:14:33.072Z"
      },
      {
        "duration": 97,
        "start_time": "2022-04-24T13:14:33.103Z"
      },
      {
        "duration": 13,
        "start_time": "2022-04-24T13:14:35.044Z"
      },
      {
        "duration": 14,
        "start_time": "2022-04-24T13:15:40.231Z"
      },
      {
        "duration": 8,
        "start_time": "2022-04-24T13:20:09.488Z"
      },
      {
        "duration": 17,
        "start_time": "2022-04-24T13:20:44.639Z"
      },
      {
        "duration": 13,
        "start_time": "2022-04-24T13:20:59.833Z"
      },
      {
        "duration": 5,
        "start_time": "2022-04-24T13:21:03.957Z"
      },
      {
        "duration": 8,
        "start_time": "2022-04-24T13:21:05.700Z"
      },
      {
        "duration": 5,
        "start_time": "2022-04-24T13:21:13.938Z"
      },
      {
        "duration": 82,
        "start_time": "2022-04-24T13:21:30.126Z"
      },
      {
        "duration": 8,
        "start_time": "2022-04-24T13:21:37.592Z"
      },
      {
        "duration": 115,
        "start_time": "2022-04-24T13:25:26.871Z"
      },
      {
        "duration": 11,
        "start_time": "2022-04-24T13:25:37.503Z"
      },
      {
        "duration": 68,
        "start_time": "2022-04-24T13:26:15.078Z"
      },
      {
        "duration": 96,
        "start_time": "2022-04-24T13:27:23.860Z"
      },
      {
        "duration": 73,
        "start_time": "2022-04-24T13:27:31.318Z"
      },
      {
        "duration": 4607,
        "start_time": "2022-04-24T13:27:39.339Z"
      },
      {
        "duration": 3080,
        "start_time": "2022-04-24T13:28:07.535Z"
      },
      {
        "duration": 282,
        "start_time": "2022-04-24T13:28:25.067Z"
      },
      {
        "duration": 201,
        "start_time": "2022-04-24T13:28:36.235Z"
      },
      {
        "duration": 201,
        "start_time": "2022-04-24T13:30:31.442Z"
      },
      {
        "duration": 2853,
        "start_time": "2022-04-24T13:31:08.280Z"
      },
      {
        "duration": 11,
        "start_time": "2022-04-24T13:31:22.553Z"
      },
      {
        "duration": 107,
        "start_time": "2022-04-24T13:31:28.478Z"
      },
      {
        "duration": 7,
        "start_time": "2022-04-24T13:34:29.752Z"
      },
      {
        "duration": 5,
        "start_time": "2022-04-24T13:34:32.303Z"
      },
      {
        "duration": 5,
        "start_time": "2022-04-24T13:34:34.360Z"
      },
      {
        "duration": 90,
        "start_time": "2022-04-24T13:34:40.034Z"
      },
      {
        "duration": 120,
        "start_time": "2022-04-24T13:38:50.290Z"
      },
      {
        "duration": 23,
        "start_time": "2022-04-24T13:39:32.463Z"
      },
      {
        "duration": 6,
        "start_time": "2022-04-24T13:39:58.620Z"
      },
      {
        "duration": 5,
        "start_time": "2022-04-24T13:40:16.442Z"
      },
      {
        "duration": 104,
        "start_time": "2022-04-24T13:40:17.884Z"
      },
      {
        "duration": 18,
        "start_time": "2022-04-24T13:40:21.343Z"
      },
      {
        "duration": 14,
        "start_time": "2022-04-24T13:40:24.611Z"
      },
      {
        "duration": 13,
        "start_time": "2022-04-24T13:40:43.619Z"
      },
      {
        "duration": 100,
        "start_time": "2022-04-24T13:42:09.514Z"
      },
      {
        "duration": 16,
        "start_time": "2022-04-24T13:42:13.184Z"
      },
      {
        "duration": 110,
        "start_time": "2022-04-24T13:42:34.945Z"
      },
      {
        "duration": 99,
        "start_time": "2022-04-24T13:42:44.119Z"
      },
      {
        "duration": 97,
        "start_time": "2022-04-24T13:42:46.630Z"
      },
      {
        "duration": 101,
        "start_time": "2022-04-24T13:43:26.933Z"
      },
      {
        "duration": 18,
        "start_time": "2022-04-24T13:43:32.606Z"
      },
      {
        "duration": 18,
        "start_time": "2022-04-24T13:44:30.133Z"
      },
      {
        "duration": 8,
        "start_time": "2022-04-24T13:45:52.936Z"
      },
      {
        "duration": 98,
        "start_time": "2022-04-24T13:47:02.418Z"
      },
      {
        "duration": 182,
        "start_time": "2022-04-24T13:47:44.572Z"
      },
      {
        "duration": 19,
        "start_time": "2022-04-24T13:47:51.242Z"
      },
      {
        "duration": 19,
        "start_time": "2022-04-24T13:48:11.206Z"
      },
      {
        "duration": 15,
        "start_time": "2022-04-24T13:48:28.720Z"
      },
      {
        "duration": 15,
        "start_time": "2022-04-24T13:48:39.434Z"
      },
      {
        "duration": 5,
        "start_time": "2022-04-24T13:49:08.547Z"
      },
      {
        "duration": 7,
        "start_time": "2022-04-24T13:50:32.345Z"
      },
      {
        "duration": 9,
        "start_time": "2022-04-24T13:50:48.046Z"
      },
      {
        "duration": 133,
        "start_time": "2022-04-24T13:50:59.182Z"
      },
      {
        "duration": 44,
        "start_time": "2022-04-24T13:51:20.186Z"
      },
      {
        "duration": 58,
        "start_time": "2022-04-24T13:51:25.611Z"
      },
      {
        "duration": 98,
        "start_time": "2022-04-24T13:52:17.670Z"
      },
      {
        "duration": 102,
        "start_time": "2022-04-24T13:52:21.536Z"
      },
      {
        "duration": 8,
        "start_time": "2022-04-24T13:52:26.116Z"
      },
      {
        "duration": 5,
        "start_time": "2022-04-24T13:52:28.155Z"
      },
      {
        "duration": 6,
        "start_time": "2022-04-24T13:52:33.383Z"
      },
      {
        "duration": 23,
        "start_time": "2022-04-24T13:59:50.225Z"
      },
      {
        "duration": 6,
        "start_time": "2022-04-24T14:02:37.810Z"
      },
      {
        "duration": 6,
        "start_time": "2022-04-24T14:02:39.983Z"
      },
      {
        "duration": 16,
        "start_time": "2022-04-24T14:02:50.227Z"
      },
      {
        "duration": 8,
        "start_time": "2022-04-24T14:03:02.398Z"
      },
      {
        "duration": 6,
        "start_time": "2022-04-24T14:03:09.020Z"
      },
      {
        "duration": 66,
        "start_time": "2022-04-24T14:03:33.376Z"
      },
      {
        "duration": 70,
        "start_time": "2022-04-24T14:05:17.196Z"
      },
      {
        "duration": 67,
        "start_time": "2022-04-24T14:05:34.263Z"
      },
      {
        "duration": 67,
        "start_time": "2022-04-24T14:05:58.126Z"
      },
      {
        "duration": 4,
        "start_time": "2022-04-24T14:06:10.994Z"
      },
      {
        "duration": 110,
        "start_time": "2022-04-24T14:06:11.001Z"
      },
      {
        "duration": 171,
        "start_time": "2022-04-24T14:06:11.113Z"
      },
      {
        "duration": 25,
        "start_time": "2022-04-24T14:06:11.289Z"
      },
      {
        "duration": 91,
        "start_time": "2022-04-24T14:06:11.317Z"
      },
      {
        "duration": 14,
        "start_time": "2022-04-24T14:06:11.410Z"
      },
      {
        "duration": 32,
        "start_time": "2022-04-24T14:06:11.426Z"
      },
      {
        "duration": 26,
        "start_time": "2022-04-24T14:06:11.460Z"
      },
      {
        "duration": 8,
        "start_time": "2022-04-24T14:06:11.489Z"
      },
      {
        "duration": 86,
        "start_time": "2022-04-24T14:06:11.499Z"
      },
      {
        "duration": 6,
        "start_time": "2022-04-24T14:06:11.587Z"
      },
      {
        "duration": 13,
        "start_time": "2022-04-24T14:06:11.595Z"
      },
      {
        "duration": 58,
        "start_time": "2022-04-24T14:06:15.386Z"
      },
      {
        "duration": 59,
        "start_time": "2022-04-24T14:06:28.672Z"
      },
      {
        "duration": 6,
        "start_time": "2022-04-24T14:07:31.932Z"
      },
      {
        "duration": 17,
        "start_time": "2022-04-24T14:08:11.502Z"
      },
      {
        "duration": 11410,
        "start_time": "2022-04-24T14:09:48.369Z"
      },
      {
        "duration": 4,
        "start_time": "2022-04-24T14:12:15.049Z"
      },
      {
        "duration": 127,
        "start_time": "2022-04-24T14:12:15.055Z"
      },
      {
        "duration": 175,
        "start_time": "2022-04-24T14:12:15.184Z"
      },
      {
        "duration": 28,
        "start_time": "2022-04-24T14:12:15.362Z"
      },
      {
        "duration": 65,
        "start_time": "2022-04-24T14:12:15.394Z"
      },
      {
        "duration": 31,
        "start_time": "2022-04-24T14:12:15.461Z"
      },
      {
        "duration": 46,
        "start_time": "2022-04-24T14:12:15.495Z"
      },
      {
        "duration": 39,
        "start_time": "2022-04-24T14:12:15.544Z"
      },
      {
        "duration": 5,
        "start_time": "2022-04-24T14:12:15.586Z"
      },
      {
        "duration": 94,
        "start_time": "2022-04-24T14:12:15.594Z"
      },
      {
        "duration": 74,
        "start_time": "2022-04-24T14:12:31.510Z"
      },
      {
        "duration": 10,
        "start_time": "2022-04-24T14:12:31.587Z"
      },
      {
        "duration": 81,
        "start_time": "2022-04-24T14:12:31.600Z"
      },
      {
        "duration": 15981,
        "start_time": "2022-04-24T14:12:31.686Z"
      },
      {
        "duration": 66,
        "start_time": "2022-04-24T14:12:47.670Z"
      },
      {
        "duration": 8,
        "start_time": "2022-04-24T14:19:25.377Z"
      },
      {
        "duration": 6,
        "start_time": "2022-04-24T14:20:13.776Z"
      },
      {
        "duration": 7,
        "start_time": "2022-04-24T14:20:47.967Z"
      },
      {
        "duration": 7,
        "start_time": "2022-04-24T14:21:02.226Z"
      },
      {
        "duration": 66,
        "start_time": "2022-04-24T14:21:06.359Z"
      },
      {
        "duration": 59,
        "start_time": "2022-04-24T14:21:58.950Z"
      },
      {
        "duration": 3,
        "start_time": "2022-04-24T14:22:03.854Z"
      },
      {
        "duration": 130,
        "start_time": "2022-04-24T14:22:03.861Z"
      },
      {
        "duration": 245,
        "start_time": "2022-04-24T14:22:03.994Z"
      },
      {
        "duration": 20,
        "start_time": "2022-04-24T14:22:04.242Z"
      },
      {
        "duration": 92,
        "start_time": "2022-04-24T14:22:04.264Z"
      },
      {
        "duration": 26,
        "start_time": "2022-04-24T14:22:04.358Z"
      },
      {
        "duration": 39,
        "start_time": "2022-04-24T14:22:04.387Z"
      },
      {
        "duration": 6,
        "start_time": "2022-04-24T14:22:04.428Z"
      },
      {
        "duration": 8,
        "start_time": "2022-04-24T14:22:04.439Z"
      },
      {
        "duration": 101,
        "start_time": "2022-04-24T14:22:04.485Z"
      },
      {
        "duration": 15200,
        "start_time": "2022-04-24T14:22:04.589Z"
      },
      {
        "duration": 8,
        "start_time": "2022-04-24T14:22:19.791Z"
      },
      {
        "duration": 9,
        "start_time": "2022-04-24T14:22:19.802Z"
      },
      {
        "duration": 5,
        "start_time": "2022-04-24T14:22:19.813Z"
      },
      {
        "duration": 5,
        "start_time": "2022-04-24T14:22:21.217Z"
      },
      {
        "duration": 62,
        "start_time": "2022-04-24T14:22:23.741Z"
      },
      {
        "duration": 8,
        "start_time": "2022-04-24T14:22:34.754Z"
      },
      {
        "duration": 76,
        "start_time": "2022-04-24T14:22:36.905Z"
      },
      {
        "duration": 5,
        "start_time": "2022-04-24T14:22:59.206Z"
      },
      {
        "duration": 108,
        "start_time": "2022-04-24T14:22:59.214Z"
      },
      {
        "duration": 207,
        "start_time": "2022-04-24T14:22:59.325Z"
      },
      {
        "duration": 21,
        "start_time": "2022-04-24T14:22:59.534Z"
      },
      {
        "duration": 94,
        "start_time": "2022-04-24T14:22:59.557Z"
      },
      {
        "duration": 30,
        "start_time": "2022-04-24T14:22:59.653Z"
      },
      {
        "duration": 34,
        "start_time": "2022-04-24T14:22:59.688Z"
      },
      {
        "duration": 6,
        "start_time": "2022-04-24T14:22:59.725Z"
      },
      {
        "duration": 7,
        "start_time": "2022-04-24T14:22:59.733Z"
      },
      {
        "duration": 130,
        "start_time": "2022-04-24T14:22:59.742Z"
      },
      {
        "duration": 15412,
        "start_time": "2022-04-24T14:22:59.883Z"
      },
      {
        "duration": 11,
        "start_time": "2022-04-24T14:23:15.298Z"
      },
      {
        "duration": 13,
        "start_time": "2022-04-24T14:23:15.312Z"
      },
      {
        "duration": 7,
        "start_time": "2022-04-24T14:24:57.192Z"
      },
      {
        "duration": 15,
        "start_time": "2022-04-24T14:29:03.308Z"
      },
      {
        "duration": 13,
        "start_time": "2022-04-24T14:29:41.971Z"
      },
      {
        "duration": 18,
        "start_time": "2022-04-24T14:30:08.100Z"
      },
      {
        "duration": 13,
        "start_time": "2022-04-24T14:31:52.660Z"
      },
      {
        "duration": 7,
        "start_time": "2022-04-24T14:31:57.259Z"
      },
      {
        "duration": 11,
        "start_time": "2022-04-24T14:32:14.890Z"
      },
      {
        "duration": 16688,
        "start_time": "2022-04-24T14:43:00.445Z"
      },
      {
        "duration": 16178,
        "start_time": "2022-04-24T14:43:57.113Z"
      },
      {
        "duration": 102,
        "start_time": "2022-04-24T14:44:13.294Z"
      },
      {
        "duration": 49,
        "start_time": "2022-04-24T14:46:11.869Z"
      },
      {
        "duration": 36,
        "start_time": "2022-04-24T14:46:35.998Z"
      },
      {
        "duration": 15,
        "start_time": "2022-04-24T14:47:36.390Z"
      },
      {
        "duration": 4,
        "start_time": "2022-04-24T14:47:43.124Z"
      },
      {
        "duration": 114,
        "start_time": "2022-04-24T14:47:43.130Z"
      },
      {
        "duration": 178,
        "start_time": "2022-04-24T14:47:43.246Z"
      },
      {
        "duration": 20,
        "start_time": "2022-04-24T14:47:43.427Z"
      },
      {
        "duration": 116,
        "start_time": "2022-04-24T14:47:43.449Z"
      },
      {
        "duration": 27,
        "start_time": "2022-04-24T14:47:43.567Z"
      },
      {
        "duration": 38,
        "start_time": "2022-04-24T14:47:43.597Z"
      },
      {
        "duration": 5,
        "start_time": "2022-04-24T14:47:43.638Z"
      },
      {
        "duration": 37,
        "start_time": "2022-04-24T14:47:43.647Z"
      },
      {
        "duration": 78,
        "start_time": "2022-04-24T14:47:43.687Z"
      },
      {
        "duration": 16026,
        "start_time": "2022-04-24T14:47:43.768Z"
      },
      {
        "duration": 10,
        "start_time": "2022-04-24T14:47:59.797Z"
      },
      {
        "duration": 15,
        "start_time": "2022-04-24T14:47:59.810Z"
      },
      {
        "duration": 12,
        "start_time": "2022-04-24T14:47:59.828Z"
      },
      {
        "duration": 11,
        "start_time": "2022-04-24T14:48:22.223Z"
      },
      {
        "duration": 16157,
        "start_time": "2022-04-24T15:02:16.230Z"
      },
      {
        "duration": 15,
        "start_time": "2022-04-24T15:12:41.765Z"
      },
      {
        "duration": 20,
        "start_time": "2022-04-24T17:48:08.860Z"
      },
      {
        "duration": 23,
        "start_time": "2022-04-24T17:48:21.193Z"
      },
      {
        "duration": 31,
        "start_time": "2022-04-24T17:50:47.279Z"
      },
      {
        "duration": 9,
        "start_time": "2022-04-24T17:51:41.665Z"
      },
      {
        "duration": 11,
        "start_time": "2022-04-24T17:51:45.702Z"
      },
      {
        "duration": 59,
        "start_time": "2022-04-24T17:51:51.093Z"
      },
      {
        "duration": 74,
        "start_time": "2022-04-24T17:52:17.049Z"
      },
      {
        "duration": 63,
        "start_time": "2022-04-24T17:53:11.773Z"
      },
      {
        "duration": 90,
        "start_time": "2022-04-24T17:53:41.696Z"
      },
      {
        "duration": 56,
        "start_time": "2022-04-24T17:54:07.065Z"
      },
      {
        "duration": 29,
        "start_time": "2022-04-24T17:54:07.125Z"
      },
      {
        "duration": 0,
        "start_time": "2022-04-24T17:54:07.158Z"
      },
      {
        "duration": 0,
        "start_time": "2022-04-24T17:54:07.160Z"
      },
      {
        "duration": 3,
        "start_time": "2022-04-24T17:54:20.675Z"
      },
      {
        "duration": 110,
        "start_time": "2022-04-24T17:54:20.684Z"
      },
      {
        "duration": 161,
        "start_time": "2022-04-24T17:54:20.797Z"
      },
      {
        "duration": 35,
        "start_time": "2022-04-24T17:54:20.960Z"
      },
      {
        "duration": 87,
        "start_time": "2022-04-24T17:54:20.999Z"
      },
      {
        "duration": 15,
        "start_time": "2022-04-24T17:54:21.088Z"
      },
      {
        "duration": 35,
        "start_time": "2022-04-24T17:54:21.105Z"
      },
      {
        "duration": 6,
        "start_time": "2022-04-24T17:54:21.143Z"
      },
      {
        "duration": 7,
        "start_time": "2022-04-24T17:54:21.183Z"
      },
      {
        "duration": 96,
        "start_time": "2022-04-24T17:54:21.192Z"
      },
      {
        "duration": 14663,
        "start_time": "2022-04-24T17:54:21.292Z"
      },
      {
        "duration": 7,
        "start_time": "2022-04-24T17:54:35.958Z"
      },
      {
        "duration": 26,
        "start_time": "2022-04-24T17:54:35.967Z"
      },
      {
        "duration": 20,
        "start_time": "2022-04-24T17:54:35.995Z"
      },
      {
        "duration": 22,
        "start_time": "2022-04-24T17:54:36.018Z"
      },
      {
        "duration": 9,
        "start_time": "2022-04-24T17:54:36.042Z"
      },
      {
        "duration": 81,
        "start_time": "2022-04-24T17:54:36.138Z"
      },
      {
        "duration": 90,
        "start_time": "2022-04-24T17:54:59.307Z"
      },
      {
        "duration": 22,
        "start_time": "2022-04-24T17:55:35.014Z"
      },
      {
        "duration": 39,
        "start_time": "2022-04-24T17:56:32.738Z"
      },
      {
        "duration": 22,
        "start_time": "2022-04-24T17:56:48.264Z"
      },
      {
        "duration": 21,
        "start_time": "2022-04-24T17:56:55.454Z"
      },
      {
        "duration": 27,
        "start_time": "2022-04-24T17:57:04.031Z"
      },
      {
        "duration": 29,
        "start_time": "2022-04-24T17:57:10.920Z"
      },
      {
        "duration": 33,
        "start_time": "2022-04-24T17:57:24.610Z"
      },
      {
        "duration": 10,
        "start_time": "2022-04-24T17:58:01.954Z"
      },
      {
        "duration": 14,
        "start_time": "2022-04-24T17:58:40.550Z"
      },
      {
        "duration": 7,
        "start_time": "2022-04-24T18:04:49.718Z"
      },
      {
        "duration": 24,
        "start_time": "2022-04-24T18:05:10.596Z"
      },
      {
        "duration": 29,
        "start_time": "2022-04-24T18:05:17.734Z"
      },
      {
        "duration": 103,
        "start_time": "2022-04-24T18:06:45.459Z"
      },
      {
        "duration": 16,
        "start_time": "2022-04-24T18:08:13.945Z"
      },
      {
        "duration": 12,
        "start_time": "2022-04-24T18:08:16.786Z"
      },
      {
        "duration": 11,
        "start_time": "2022-04-24T18:08:23.203Z"
      },
      {
        "duration": 7,
        "start_time": "2022-04-24T18:08:43.263Z"
      },
      {
        "duration": 17,
        "start_time": "2022-04-24T18:08:47.872Z"
      },
      {
        "duration": 57,
        "start_time": "2022-04-24T18:08:54.250Z"
      },
      {
        "duration": 2073,
        "start_time": "2022-04-25T07:05:58.116Z"
      },
      {
        "duration": 271,
        "start_time": "2022-04-25T07:06:00.192Z"
      },
      {
        "duration": 38,
        "start_time": "2022-04-25T07:06:00.467Z"
      },
      {
        "duration": 125,
        "start_time": "2022-04-25T07:06:00.510Z"
      },
      {
        "duration": 19,
        "start_time": "2022-04-25T07:06:00.638Z"
      },
      {
        "duration": 113,
        "start_time": "2022-04-25T07:06:00.661Z"
      },
      {
        "duration": 6,
        "start_time": "2022-04-25T07:06:00.776Z"
      },
      {
        "duration": 18,
        "start_time": "2022-04-25T07:06:00.785Z"
      },
      {
        "duration": 86,
        "start_time": "2022-04-25T07:06:00.806Z"
      },
      {
        "duration": 17306,
        "start_time": "2022-04-25T07:06:00.895Z"
      },
      {
        "duration": 9,
        "start_time": "2022-04-25T07:06:18.204Z"
      },
      {
        "duration": 10,
        "start_time": "2022-04-25T07:06:18.215Z"
      },
      {
        "duration": 10,
        "start_time": "2022-04-25T07:06:18.227Z"
      },
      {
        "duration": 50,
        "start_time": "2022-04-25T07:06:18.239Z"
      },
      {
        "duration": 12,
        "start_time": "2022-04-25T07:06:18.291Z"
      },
      {
        "duration": 16,
        "start_time": "2022-04-25T07:06:18.305Z"
      },
      {
        "duration": 112,
        "start_time": "2022-04-25T07:06:18.324Z"
      },
      {
        "duration": 7,
        "start_time": "2022-04-25T07:06:18.439Z"
      },
      {
        "duration": 11,
        "start_time": "2022-04-25T07:09:30.245Z"
      },
      {
        "duration": 1036,
        "start_time": "2022-04-25T07:14:05.735Z"
      },
      {
        "duration": 873,
        "start_time": "2022-04-25T07:14:56.010Z"
      },
      {
        "duration": 80,
        "start_time": "2022-04-25T07:18:21.368Z"
      },
      {
        "duration": 4,
        "start_time": "2022-04-25T07:18:44.760Z"
      },
      {
        "duration": 181,
        "start_time": "2022-04-25T07:18:44.767Z"
      },
      {
        "duration": 36,
        "start_time": "2022-04-25T07:18:44.951Z"
      },
      {
        "duration": 70,
        "start_time": "2022-04-25T07:18:44.990Z"
      },
      {
        "duration": 39,
        "start_time": "2022-04-25T07:18:45.063Z"
      },
      {
        "duration": 68,
        "start_time": "2022-04-25T07:18:45.104Z"
      },
      {
        "duration": 5,
        "start_time": "2022-04-25T07:18:45.174Z"
      },
      {
        "duration": 45,
        "start_time": "2022-04-25T07:18:45.181Z"
      },
      {
        "duration": 74,
        "start_time": "2022-04-25T07:18:45.229Z"
      },
      {
        "duration": 13355,
        "start_time": "2022-04-25T07:18:45.308Z"
      },
      {
        "duration": 8,
        "start_time": "2022-04-25T07:18:58.667Z"
      },
      {
        "duration": 11,
        "start_time": "2022-04-25T07:18:58.681Z"
      },
      {
        "duration": 48,
        "start_time": "2022-04-25T07:18:58.696Z"
      },
      {
        "duration": 22,
        "start_time": "2022-04-25T07:18:58.746Z"
      },
      {
        "duration": 62,
        "start_time": "2022-04-25T07:18:58.771Z"
      },
      {
        "duration": 35,
        "start_time": "2022-04-25T07:19:23.221Z"
      },
      {
        "duration": 76,
        "start_time": "2022-04-25T07:19:38.837Z"
      },
      {
        "duration": 1768,
        "start_time": "2022-04-25T07:21:03.075Z"
      },
      {
        "duration": 19,
        "start_time": "2022-04-25T07:22:45.386Z"
      },
      {
        "duration": 1486,
        "start_time": "2022-04-25T07:23:28.247Z"
      },
      {
        "duration": 91,
        "start_time": "2022-04-25T07:29:51.286Z"
      },
      {
        "duration": 1702,
        "start_time": "2022-04-25T07:29:57.256Z"
      },
      {
        "duration": 177,
        "start_time": "2022-04-25T07:29:58.961Z"
      },
      {
        "duration": 22,
        "start_time": "2022-04-25T07:29:59.140Z"
      },
      {
        "duration": 77,
        "start_time": "2022-04-25T07:29:59.181Z"
      },
      {
        "duration": 39,
        "start_time": "2022-04-25T07:29:59.260Z"
      },
      {
        "duration": 42,
        "start_time": "2022-04-25T07:29:59.302Z"
      },
      {
        "duration": 6,
        "start_time": "2022-04-25T07:29:59.346Z"
      },
      {
        "duration": 6,
        "start_time": "2022-04-25T07:29:59.354Z"
      },
      {
        "duration": 76,
        "start_time": "2022-04-25T07:29:59.382Z"
      },
      {
        "duration": 16212,
        "start_time": "2022-04-25T07:29:59.462Z"
      },
      {
        "duration": 13,
        "start_time": "2022-04-25T07:30:15.677Z"
      },
      {
        "duration": 30,
        "start_time": "2022-04-25T07:30:15.693Z"
      },
      {
        "duration": 12,
        "start_time": "2022-04-25T07:30:15.726Z"
      },
      {
        "duration": 23,
        "start_time": "2022-04-25T07:30:15.740Z"
      },
      {
        "duration": 94,
        "start_time": "2022-04-25T07:30:15.765Z"
      },
      {
        "duration": 116,
        "start_time": "2022-04-25T07:32:16.303Z"
      },
      {
        "duration": 9,
        "start_time": "2022-04-25T07:32:21.246Z"
      },
      {
        "duration": 10,
        "start_time": "2022-04-25T07:32:23.610Z"
      },
      {
        "duration": 1604,
        "start_time": "2022-04-25T07:32:26.432Z"
      },
      {
        "duration": 184,
        "start_time": "2022-04-25T07:32:28.040Z"
      },
      {
        "duration": 21,
        "start_time": "2022-04-25T07:32:28.227Z"
      },
      {
        "duration": 89,
        "start_time": "2022-04-25T07:32:28.251Z"
      },
      {
        "duration": 12,
        "start_time": "2022-04-25T07:32:28.342Z"
      },
      {
        "duration": 51,
        "start_time": "2022-04-25T07:32:28.357Z"
      },
      {
        "duration": 9,
        "start_time": "2022-04-25T07:32:28.411Z"
      },
      {
        "duration": 6,
        "start_time": "2022-04-25T07:32:28.423Z"
      },
      {
        "duration": 84,
        "start_time": "2022-04-25T07:32:28.431Z"
      },
      {
        "duration": 15652,
        "start_time": "2022-04-25T07:32:28.519Z"
      },
      {
        "duration": 13,
        "start_time": "2022-04-25T07:32:44.173Z"
      },
      {
        "duration": 39,
        "start_time": "2022-04-25T07:32:44.188Z"
      },
      {
        "duration": 16,
        "start_time": "2022-04-25T07:32:44.229Z"
      },
      {
        "duration": 46,
        "start_time": "2022-04-25T07:32:44.247Z"
      },
      {
        "duration": 80,
        "start_time": "2022-04-25T07:32:44.296Z"
      },
      {
        "duration": 85,
        "start_time": "2022-04-25T07:33:04.232Z"
      },
      {
        "duration": 8,
        "start_time": "2022-04-25T07:33:10.732Z"
      },
      {
        "duration": 1844,
        "start_time": "2022-04-25T07:33:16.657Z"
      },
      {
        "duration": 255,
        "start_time": "2022-04-25T07:33:18.504Z"
      },
      {
        "duration": 33,
        "start_time": "2022-04-25T07:33:18.762Z"
      },
      {
        "duration": 96,
        "start_time": "2022-04-25T07:33:18.798Z"
      },
      {
        "duration": 16,
        "start_time": "2022-04-25T07:33:18.896Z"
      },
      {
        "duration": 50,
        "start_time": "2022-04-25T07:33:18.915Z"
      },
      {
        "duration": 20,
        "start_time": "2022-04-25T07:33:18.968Z"
      },
      {
        "duration": 24,
        "start_time": "2022-04-25T07:33:18.990Z"
      },
      {
        "duration": 73,
        "start_time": "2022-04-25T07:33:19.017Z"
      },
      {
        "duration": 13424,
        "start_time": "2022-04-25T07:33:19.094Z"
      },
      {
        "duration": 9,
        "start_time": "2022-04-25T07:33:32.521Z"
      },
      {
        "duration": 11,
        "start_time": "2022-04-25T07:33:32.532Z"
      },
      {
        "duration": 12,
        "start_time": "2022-04-25T07:33:32.545Z"
      },
      {
        "duration": 57,
        "start_time": "2022-04-25T07:33:32.559Z"
      },
      {
        "duration": 82,
        "start_time": "2022-04-25T07:33:32.618Z"
      },
      {
        "duration": 75,
        "start_time": "2022-04-25T07:35:45.097Z"
      },
      {
        "duration": 1628,
        "start_time": "2022-04-25T07:35:51.811Z"
      },
      {
        "duration": 189,
        "start_time": "2022-04-25T07:35:53.442Z"
      },
      {
        "duration": 20,
        "start_time": "2022-04-25T07:35:53.633Z"
      },
      {
        "duration": 105,
        "start_time": "2022-04-25T07:35:53.656Z"
      },
      {
        "duration": 29,
        "start_time": "2022-04-25T07:35:53.763Z"
      },
      {
        "duration": 47,
        "start_time": "2022-04-25T07:35:53.795Z"
      },
      {
        "duration": 6,
        "start_time": "2022-04-25T07:35:53.844Z"
      },
      {
        "duration": 34,
        "start_time": "2022-04-25T07:35:53.852Z"
      },
      {
        "duration": 98,
        "start_time": "2022-04-25T07:35:53.890Z"
      },
      {
        "duration": 13440,
        "start_time": "2022-04-25T07:35:53.993Z"
      },
      {
        "duration": 10,
        "start_time": "2022-04-25T07:36:07.435Z"
      },
      {
        "duration": 9,
        "start_time": "2022-04-25T07:36:07.447Z"
      },
      {
        "duration": 33,
        "start_time": "2022-04-25T07:36:07.458Z"
      },
      {
        "duration": 45,
        "start_time": "2022-04-25T07:36:07.495Z"
      },
      {
        "duration": 68,
        "start_time": "2022-04-25T07:36:07.542Z"
      },
      {
        "duration": 4,
        "start_time": "2022-04-25T07:36:07.612Z"
      },
      {
        "duration": 8,
        "start_time": "2022-04-25T07:36:07.619Z"
      },
      {
        "duration": 15,
        "start_time": "2022-04-25T07:36:07.629Z"
      },
      {
        "duration": 88,
        "start_time": "2022-04-25T07:36:07.646Z"
      },
      {
        "duration": 6,
        "start_time": "2022-04-25T07:36:07.737Z"
      },
      {
        "duration": 16,
        "start_time": "2022-04-25T07:39:36.962Z"
      },
      {
        "duration": 70,
        "start_time": "2022-04-25T07:39:56.718Z"
      },
      {
        "duration": 5,
        "start_time": "2022-04-25T07:40:17.418Z"
      },
      {
        "duration": 11,
        "start_time": "2022-04-25T07:40:22.024Z"
      },
      {
        "duration": 67,
        "start_time": "2022-04-25T07:40:29.867Z"
      },
      {
        "duration": 17,
        "start_time": "2022-04-25T07:40:37.982Z"
      },
      {
        "duration": 139,
        "start_time": "2022-04-25T07:46:49.943Z"
      },
      {
        "duration": 26,
        "start_time": "2022-04-25T07:47:03.210Z"
      },
      {
        "duration": 6,
        "start_time": "2022-04-25T07:50:21.574Z"
      },
      {
        "duration": 6,
        "start_time": "2022-04-25T07:58:19.369Z"
      },
      {
        "duration": 118,
        "start_time": "2022-04-25T07:58:37.016Z"
      },
      {
        "duration": 35,
        "start_time": "2022-04-25T07:58:54.260Z"
      },
      {
        "duration": 17,
        "start_time": "2022-04-25T08:00:30.537Z"
      },
      {
        "duration": 21,
        "start_time": "2022-04-25T08:00:37.225Z"
      },
      {
        "duration": 78,
        "start_time": "2022-04-25T15:10:38.942Z"
      },
      {
        "duration": 2083,
        "start_time": "2022-04-25T15:10:43.346Z"
      },
      {
        "duration": 455,
        "start_time": "2022-04-25T15:10:45.432Z"
      },
      {
        "duration": 22,
        "start_time": "2022-04-25T15:10:45.897Z"
      },
      {
        "duration": 5,
        "start_time": "2022-04-25T15:10:45.922Z"
      },
      {
        "duration": 14,
        "start_time": "2022-04-25T15:10:45.930Z"
      },
      {
        "duration": 73,
        "start_time": "2022-04-25T15:10:45.946Z"
      },
      {
        "duration": 5,
        "start_time": "2022-04-25T15:10:46.022Z"
      },
      {
        "duration": 7,
        "start_time": "2022-04-25T15:10:46.029Z"
      },
      {
        "duration": 94,
        "start_time": "2022-04-25T15:10:46.038Z"
      },
      {
        "duration": 13227,
        "start_time": "2022-04-25T15:10:46.136Z"
      },
      {
        "duration": 8,
        "start_time": "2022-04-25T15:10:59.365Z"
      },
      {
        "duration": 8,
        "start_time": "2022-04-25T15:10:59.381Z"
      },
      {
        "duration": 19,
        "start_time": "2022-04-25T15:10:59.391Z"
      },
      {
        "duration": 26,
        "start_time": "2022-04-25T15:10:59.413Z"
      },
      {
        "duration": 84,
        "start_time": "2022-04-25T15:10:59.441Z"
      },
      {
        "duration": 3,
        "start_time": "2022-04-25T15:10:59.527Z"
      },
      {
        "duration": 29,
        "start_time": "2022-04-25T15:10:59.532Z"
      },
      {
        "duration": 36,
        "start_time": "2022-04-25T15:10:59.563Z"
      },
      {
        "duration": 75,
        "start_time": "2022-04-25T15:10:59.601Z"
      },
      {
        "duration": 25,
        "start_time": "2022-04-25T15:10:59.678Z"
      },
      {
        "duration": 13,
        "start_time": "2022-04-25T15:10:59.705Z"
      },
      {
        "duration": 6,
        "start_time": "2022-04-25T15:11:22.370Z"
      },
      {
        "duration": 68,
        "start_time": "2022-04-25T15:11:27.293Z"
      },
      {
        "duration": 939,
        "start_time": "2022-04-25T15:18:30.779Z"
      },
      {
        "duration": 11,
        "start_time": "2022-04-25T15:18:56.435Z"
      },
      {
        "duration": 26,
        "start_time": "2022-04-25T15:19:00.581Z"
      },
      {
        "duration": 27,
        "start_time": "2022-04-25T15:19:15.650Z"
      },
      {
        "duration": 13,
        "start_time": "2022-04-25T15:21:44.361Z"
      },
      {
        "duration": 10,
        "start_time": "2022-04-25T15:25:38.436Z"
      },
      {
        "duration": 68,
        "start_time": "2022-04-25T15:25:41.453Z"
      },
      {
        "duration": 11,
        "start_time": "2022-04-25T15:26:08.329Z"
      },
      {
        "duration": 62,
        "start_time": "2022-04-25T15:26:12.407Z"
      },
      {
        "duration": 3,
        "start_time": "2022-04-25T15:26:31.778Z"
      },
      {
        "duration": 185,
        "start_time": "2022-04-25T15:26:31.783Z"
      },
      {
        "duration": 31,
        "start_time": "2022-04-25T15:26:31.971Z"
      },
      {
        "duration": 6,
        "start_time": "2022-04-25T15:26:32.005Z"
      },
      {
        "duration": 15,
        "start_time": "2022-04-25T15:26:32.013Z"
      },
      {
        "duration": 74,
        "start_time": "2022-04-25T15:26:32.030Z"
      },
      {
        "duration": 5,
        "start_time": "2022-04-25T15:26:32.106Z"
      },
      {
        "duration": 9,
        "start_time": "2022-04-25T15:26:32.114Z"
      },
      {
        "duration": 85,
        "start_time": "2022-04-25T15:26:32.126Z"
      },
      {
        "duration": 13418,
        "start_time": "2022-04-25T15:26:32.213Z"
      },
      {
        "duration": 8,
        "start_time": "2022-04-25T15:26:45.633Z"
      },
      {
        "duration": 9,
        "start_time": "2022-04-25T15:26:45.643Z"
      },
      {
        "duration": 34,
        "start_time": "2022-04-25T15:26:45.654Z"
      },
      {
        "duration": 29,
        "start_time": "2022-04-25T15:26:45.693Z"
      },
      {
        "duration": 91,
        "start_time": "2022-04-25T15:26:45.724Z"
      },
      {
        "duration": 3,
        "start_time": "2022-04-25T15:26:45.817Z"
      },
      {
        "duration": 13,
        "start_time": "2022-04-25T15:26:45.823Z"
      },
      {
        "duration": 18,
        "start_time": "2022-04-25T15:26:45.838Z"
      },
      {
        "duration": 90,
        "start_time": "2022-04-25T15:26:45.858Z"
      },
      {
        "duration": 32,
        "start_time": "2022-04-25T15:26:45.951Z"
      },
      {
        "duration": 27,
        "start_time": "2022-04-25T15:26:45.986Z"
      },
      {
        "duration": 12,
        "start_time": "2022-04-25T15:26:46.015Z"
      },
      {
        "duration": 14,
        "start_time": "2022-04-25T15:27:14.634Z"
      },
      {
        "duration": 79,
        "start_time": "2022-04-25T15:27:16.729Z"
      },
      {
        "duration": 26,
        "start_time": "2022-04-25T15:27:40.088Z"
      },
      {
        "duration": 66,
        "start_time": "2022-04-25T15:27:42.447Z"
      },
      {
        "duration": 18,
        "start_time": "2022-04-25T15:28:08.042Z"
      },
      {
        "duration": 64,
        "start_time": "2022-04-25T15:28:09.866Z"
      },
      {
        "duration": 17,
        "start_time": "2022-04-25T15:28:18.604Z"
      },
      {
        "duration": 16,
        "start_time": "2022-04-25T15:30:06.607Z"
      },
      {
        "duration": 565,
        "start_time": "2022-04-25T15:38:59.873Z"
      },
      {
        "duration": 65,
        "start_time": "2022-04-25T15:39:02.534Z"
      },
      {
        "duration": 22,
        "start_time": "2022-04-25T15:43:04.144Z"
      },
      {
        "duration": 520,
        "start_time": "2022-04-25T15:43:06.031Z"
      },
      {
        "duration": 61,
        "start_time": "2022-04-25T15:43:08.229Z"
      },
      {
        "duration": 169,
        "start_time": "2022-04-25T15:44:27.295Z"
      },
      {
        "duration": 71,
        "start_time": "2022-04-25T15:44:40.439Z"
      },
      {
        "duration": 20,
        "start_time": "2022-04-25T15:44:58.524Z"
      },
      {
        "duration": 3,
        "start_time": "2022-04-25T15:45:06.151Z"
      },
      {
        "duration": 167,
        "start_time": "2022-04-25T15:45:06.156Z"
      },
      {
        "duration": 30,
        "start_time": "2022-04-25T15:45:06.325Z"
      },
      {
        "duration": 8,
        "start_time": "2022-04-25T15:45:06.358Z"
      },
      {
        "duration": 36,
        "start_time": "2022-04-25T15:45:06.367Z"
      },
      {
        "duration": 42,
        "start_time": "2022-04-25T15:45:06.406Z"
      },
      {
        "duration": 6,
        "start_time": "2022-04-25T15:45:06.450Z"
      },
      {
        "duration": 26,
        "start_time": "2022-04-25T15:45:06.458Z"
      },
      {
        "duration": 77,
        "start_time": "2022-04-25T15:45:06.496Z"
      },
      {
        "duration": 13812,
        "start_time": "2022-04-25T15:45:06.575Z"
      },
      {
        "duration": 10,
        "start_time": "2022-04-25T15:45:20.397Z"
      },
      {
        "duration": 17,
        "start_time": "2022-04-25T15:45:20.409Z"
      },
      {
        "duration": 21,
        "start_time": "2022-04-25T15:45:20.428Z"
      },
      {
        "duration": 24,
        "start_time": "2022-04-25T15:45:20.452Z"
      },
      {
        "duration": 76,
        "start_time": "2022-04-25T15:45:20.484Z"
      },
      {
        "duration": 4,
        "start_time": "2022-04-25T15:45:20.562Z"
      },
      {
        "duration": 11,
        "start_time": "2022-04-25T15:45:20.569Z"
      },
      {
        "duration": 42,
        "start_time": "2022-04-25T15:45:20.582Z"
      },
      {
        "duration": 61,
        "start_time": "2022-04-25T15:45:20.627Z"
      },
      {
        "duration": 49,
        "start_time": "2022-04-25T15:45:20.691Z"
      },
      {
        "duration": 22,
        "start_time": "2022-04-25T15:45:20.742Z"
      },
      {
        "duration": 27,
        "start_time": "2022-04-25T15:45:20.767Z"
      },
      {
        "duration": 627,
        "start_time": "2022-04-25T15:45:20.797Z"
      },
      {
        "duration": 80,
        "start_time": "2022-04-25T15:45:21.428Z"
      },
      {
        "duration": 29,
        "start_time": "2022-04-25T15:52:51.774Z"
      },
      {
        "duration": 4,
        "start_time": "2022-04-25T15:52:58.285Z"
      },
      {
        "duration": 173,
        "start_time": "2022-04-25T15:52:58.292Z"
      },
      {
        "duration": 31,
        "start_time": "2022-04-25T15:52:58.467Z"
      },
      {
        "duration": 11,
        "start_time": "2022-04-25T15:52:58.505Z"
      },
      {
        "duration": 16,
        "start_time": "2022-04-25T15:52:58.519Z"
      },
      {
        "duration": 58,
        "start_time": "2022-04-25T15:52:58.537Z"
      },
      {
        "duration": 6,
        "start_time": "2022-04-25T15:52:58.597Z"
      },
      {
        "duration": 30,
        "start_time": "2022-04-25T15:52:58.608Z"
      },
      {
        "duration": 78,
        "start_time": "2022-04-25T15:52:58.640Z"
      },
      {
        "duration": 8,
        "start_time": "2022-04-25T15:52:58.722Z"
      },
      {
        "duration": 12,
        "start_time": "2022-04-25T15:52:58.732Z"
      },
      {
        "duration": 47,
        "start_time": "2022-04-25T15:52:58.746Z"
      },
      {
        "duration": 23,
        "start_time": "2022-04-25T15:52:58.796Z"
      },
      {
        "duration": 21,
        "start_time": "2022-04-25T15:52:58.822Z"
      },
      {
        "duration": 795,
        "start_time": "2022-04-25T15:52:58.845Z"
      },
      {
        "duration": 118,
        "start_time": "2022-04-25T15:52:59.643Z"
      },
      {
        "duration": 52,
        "start_time": "2022-04-26T10:48:13.122Z"
      },
      {
        "duration": 1328,
        "start_time": "2022-04-26T10:48:17.205Z"
      },
      {
        "duration": 117,
        "start_time": "2022-04-26T10:48:18.535Z"
      },
      {
        "duration": 15,
        "start_time": "2022-04-26T10:48:18.654Z"
      },
      {
        "duration": 4,
        "start_time": "2022-04-26T10:48:18.671Z"
      },
      {
        "duration": 9,
        "start_time": "2022-04-26T10:48:18.677Z"
      },
      {
        "duration": 29,
        "start_time": "2022-04-26T10:48:18.708Z"
      },
      {
        "duration": 5,
        "start_time": "2022-04-26T10:48:18.739Z"
      },
      {
        "duration": 4,
        "start_time": "2022-04-26T10:48:18.746Z"
      },
      {
        "duration": 76,
        "start_time": "2022-04-26T10:48:18.752Z"
      },
      {
        "duration": 6,
        "start_time": "2022-04-26T10:48:18.831Z"
      },
      {
        "duration": 7,
        "start_time": "2022-04-26T10:48:18.839Z"
      },
      {
        "duration": 14,
        "start_time": "2022-04-26T10:48:18.847Z"
      },
      {
        "duration": 44,
        "start_time": "2022-04-26T10:48:18.863Z"
      },
      {
        "duration": 18,
        "start_time": "2022-04-26T10:48:18.909Z"
      },
      {
        "duration": 310,
        "start_time": "2022-04-26T10:48:18.929Z"
      },
      {
        "duration": 42,
        "start_time": "2022-04-26T10:48:19.241Z"
      },
      {
        "duration": 133,
        "start_time": "2022-04-26T10:49:02.992Z"
      },
      {
        "duration": 129,
        "start_time": "2022-04-26T10:49:15.276Z"
      },
      {
        "duration": 134,
        "start_time": "2022-04-26T10:49:20.302Z"
      },
      {
        "duration": 166,
        "start_time": "2022-04-26T10:49:55.103Z"
      },
      {
        "duration": 163,
        "start_time": "2022-04-26T10:50:18.435Z"
      },
      {
        "duration": 168,
        "start_time": "2022-04-26T10:50:26.959Z"
      },
      {
        "duration": 204,
        "start_time": "2022-04-26T10:50:36.803Z"
      },
      {
        "duration": 169,
        "start_time": "2022-04-26T10:51:05.113Z"
      },
      {
        "duration": 119,
        "start_time": "2022-04-26T10:51:37.575Z"
      },
      {
        "duration": 169,
        "start_time": "2022-04-26T10:53:08.673Z"
      },
      {
        "duration": 152,
        "start_time": "2022-04-26T10:53:14.439Z"
      },
      {
        "duration": 138,
        "start_time": "2022-04-26T10:53:30.212Z"
      },
      {
        "duration": 147,
        "start_time": "2022-04-26T10:53:41.381Z"
      },
      {
        "duration": 132,
        "start_time": "2022-04-26T10:54:08.303Z"
      },
      {
        "duration": 140,
        "start_time": "2022-04-26T10:54:35.976Z"
      },
      {
        "duration": 143,
        "start_time": "2022-04-26T10:55:19.198Z"
      },
      {
        "duration": 139,
        "start_time": "2022-04-26T10:55:27.742Z"
      },
      {
        "duration": 212,
        "start_time": "2022-04-26T10:56:08.800Z"
      },
      {
        "duration": 144,
        "start_time": "2022-04-26T10:57:01.005Z"
      },
      {
        "duration": 122,
        "start_time": "2022-04-26T10:57:09.616Z"
      },
      {
        "duration": 140,
        "start_time": "2022-04-26T10:57:41.569Z"
      },
      {
        "duration": 161,
        "start_time": "2022-04-26T10:58:42.467Z"
      },
      {
        "duration": 142,
        "start_time": "2022-04-26T10:58:54.411Z"
      },
      {
        "duration": 137,
        "start_time": "2022-04-26T11:00:00.115Z"
      },
      {
        "duration": 112,
        "start_time": "2022-04-26T11:01:41.828Z"
      },
      {
        "duration": 165,
        "start_time": "2022-04-26T11:01:49.659Z"
      },
      {
        "duration": 133,
        "start_time": "2022-04-26T11:03:35.126Z"
      },
      {
        "duration": 133,
        "start_time": "2022-04-26T11:03:50.321Z"
      },
      {
        "duration": 151,
        "start_time": "2022-04-26T11:04:15.204Z"
      },
      {
        "duration": 154,
        "start_time": "2022-04-26T11:04:49.103Z"
      },
      {
        "duration": 146,
        "start_time": "2022-04-26T11:05:06.271Z"
      },
      {
        "duration": 222,
        "start_time": "2022-04-26T11:05:15.272Z"
      },
      {
        "duration": 1808,
        "start_time": "2022-04-26T11:07:25.439Z"
      },
      {
        "duration": 154,
        "start_time": "2022-04-26T11:07:31.666Z"
      },
      {
        "duration": 151,
        "start_time": "2022-04-26T11:07:37.799Z"
      },
      {
        "duration": 142,
        "start_time": "2022-04-26T11:07:42.955Z"
      },
      {
        "duration": 159,
        "start_time": "2022-04-26T11:08:21.845Z"
      },
      {
        "duration": 168,
        "start_time": "2022-04-26T11:09:02.434Z"
      },
      {
        "duration": 150,
        "start_time": "2022-04-26T11:10:49.889Z"
      },
      {
        "duration": 6,
        "start_time": "2022-04-26T11:11:40.347Z"
      },
      {
        "duration": 5,
        "start_time": "2022-04-26T11:11:47.193Z"
      },
      {
        "duration": 5,
        "start_time": "2022-04-26T11:11:53.249Z"
      },
      {
        "duration": 160,
        "start_time": "2022-04-26T11:12:39.803Z"
      },
      {
        "duration": 160,
        "start_time": "2022-04-26T11:13:12.949Z"
      },
      {
        "duration": 151,
        "start_time": "2022-04-26T11:13:28.965Z"
      },
      {
        "duration": 193,
        "start_time": "2022-04-26T11:13:35.451Z"
      },
      {
        "duration": 188,
        "start_time": "2022-04-26T11:13:38.812Z"
      },
      {
        "duration": 149,
        "start_time": "2022-04-26T11:13:58.628Z"
      },
      {
        "duration": 13,
        "start_time": "2022-04-26T12:27:46.274Z"
      },
      {
        "duration": 911,
        "start_time": "2022-04-26T12:27:55.390Z"
      },
      {
        "duration": 141,
        "start_time": "2022-04-26T12:29:17.313Z"
      },
      {
        "duration": 164,
        "start_time": "2022-04-26T12:29:21.012Z"
      },
      {
        "duration": 137,
        "start_time": "2022-04-26T12:29:27.263Z"
      },
      {
        "duration": 11,
        "start_time": "2022-04-26T12:33:34.290Z"
      },
      {
        "duration": 38,
        "start_time": "2022-04-26T12:33:43.343Z"
      },
      {
        "duration": 9,
        "start_time": "2022-04-26T12:40:00.397Z"
      },
      {
        "duration": 12,
        "start_time": "2022-04-26T12:40:21.980Z"
      },
      {
        "duration": 8,
        "start_time": "2022-04-26T12:40:42.156Z"
      },
      {
        "duration": 17,
        "start_time": "2022-04-26T12:41:15.089Z"
      },
      {
        "duration": 16,
        "start_time": "2022-04-26T12:41:20.179Z"
      },
      {
        "duration": 3,
        "start_time": "2022-04-26T12:41:47.939Z"
      },
      {
        "duration": 118,
        "start_time": "2022-04-26T12:41:47.944Z"
      },
      {
        "duration": 15,
        "start_time": "2022-04-26T12:41:48.064Z"
      },
      {
        "duration": 4,
        "start_time": "2022-04-26T12:41:48.081Z"
      },
      {
        "duration": 27,
        "start_time": "2022-04-26T12:41:48.087Z"
      },
      {
        "duration": 25,
        "start_time": "2022-04-26T12:41:48.116Z"
      },
      {
        "duration": 3,
        "start_time": "2022-04-26T12:41:48.143Z"
      },
      {
        "duration": 4,
        "start_time": "2022-04-26T12:41:48.148Z"
      },
      {
        "duration": 71,
        "start_time": "2022-04-26T12:41:48.154Z"
      },
      {
        "duration": 5,
        "start_time": "2022-04-26T12:41:48.227Z"
      },
      {
        "duration": 10,
        "start_time": "2022-04-26T12:41:48.235Z"
      },
      {
        "duration": 13,
        "start_time": "2022-04-26T12:41:48.247Z"
      },
      {
        "duration": 13,
        "start_time": "2022-04-26T12:41:48.262Z"
      },
      {
        "duration": 45,
        "start_time": "2022-04-26T12:41:48.276Z"
      },
      {
        "duration": 297,
        "start_time": "2022-04-26T12:41:48.323Z"
      },
      {
        "duration": 38,
        "start_time": "2022-04-26T12:41:48.621Z"
      },
      {
        "duration": 159,
        "start_time": "2022-04-26T12:41:48.661Z"
      },
      {
        "duration": 164,
        "start_time": "2022-04-26T12:41:48.821Z"
      },
      {
        "duration": 167,
        "start_time": "2022-04-26T12:41:48.987Z"
      },
      {
        "duration": 9,
        "start_time": "2022-04-26T12:41:49.156Z"
      },
      {
        "duration": 167,
        "start_time": "2022-04-26T12:41:49.167Z"
      },
      {
        "duration": 149,
        "start_time": "2022-04-26T12:41:49.336Z"
      },
      {
        "duration": 166,
        "start_time": "2022-04-26T12:41:49.487Z"
      },
      {
        "duration": 158,
        "start_time": "2022-04-26T12:41:49.654Z"
      },
      {
        "duration": 5,
        "start_time": "2022-04-26T12:41:49.814Z"
      },
      {
        "duration": 6,
        "start_time": "2022-04-26T12:41:49.821Z"
      },
      {
        "duration": 2,
        "start_time": "2022-04-26T12:42:59.672Z"
      },
      {
        "duration": 5,
        "start_time": "2022-04-26T12:43:04.922Z"
      },
      {
        "duration": 5,
        "start_time": "2022-04-26T12:43:07.022Z"
      },
      {
        "duration": 10,
        "start_time": "2022-04-26T12:43:25.771Z"
      },
      {
        "duration": 5,
        "start_time": "2022-04-26T12:43:32.131Z"
      },
      {
        "duration": 5,
        "start_time": "2022-04-26T12:43:34.303Z"
      },
      {
        "duration": 9,
        "start_time": "2022-04-26T12:46:50.575Z"
      },
      {
        "duration": 3,
        "start_time": "2022-04-26T12:46:54.776Z"
      },
      {
        "duration": 112,
        "start_time": "2022-04-26T12:46:54.781Z"
      },
      {
        "duration": 15,
        "start_time": "2022-04-26T12:46:54.907Z"
      },
      {
        "duration": 5,
        "start_time": "2022-04-26T12:46:54.923Z"
      },
      {
        "duration": 10,
        "start_time": "2022-04-26T12:46:54.930Z"
      },
      {
        "duration": 26,
        "start_time": "2022-04-26T12:46:54.942Z"
      },
      {
        "duration": 40,
        "start_time": "2022-04-26T12:46:54.970Z"
      },
      {
        "duration": 5,
        "start_time": "2022-04-26T12:46:55.012Z"
      },
      {
        "duration": 53,
        "start_time": "2022-04-26T12:46:55.018Z"
      },
      {
        "duration": 7,
        "start_time": "2022-04-26T12:46:55.073Z"
      },
      {
        "duration": 149,
        "start_time": "2022-04-26T12:46:55.083Z"
      },
      {
        "duration": 15,
        "start_time": "2022-04-26T12:46:55.234Z"
      },
      {
        "duration": 14,
        "start_time": "2022-04-26T12:46:55.250Z"
      },
      {
        "duration": 16,
        "start_time": "2022-04-26T12:46:55.266Z"
      },
      {
        "duration": 312,
        "start_time": "2022-04-26T12:46:55.283Z"
      },
      {
        "duration": 46,
        "start_time": "2022-04-26T12:46:55.597Z"
      },
      {
        "duration": 155,
        "start_time": "2022-04-26T12:46:55.645Z"
      },
      {
        "duration": 147,
        "start_time": "2022-04-26T12:46:55.807Z"
      },
      {
        "duration": 165,
        "start_time": "2022-04-26T12:46:55.956Z"
      },
      {
        "duration": 9,
        "start_time": "2022-04-26T12:46:56.123Z"
      },
      {
        "duration": 160,
        "start_time": "2022-04-26T12:46:56.134Z"
      },
      {
        "duration": 151,
        "start_time": "2022-04-26T12:46:56.296Z"
      },
      {
        "duration": 9,
        "start_time": "2022-04-26T12:46:56.449Z"
      },
      {
        "duration": 163,
        "start_time": "2022-04-26T12:46:56.460Z"
      },
      {
        "duration": 168,
        "start_time": "2022-04-26T12:46:56.625Z"
      },
      {
        "duration": 12,
        "start_time": "2022-04-26T12:46:56.796Z"
      },
      {
        "duration": 8,
        "start_time": "2022-04-26T12:46:56.810Z"
      },
      {
        "duration": 11,
        "start_time": "2022-04-26T12:47:51.923Z"
      },
      {
        "duration": 10,
        "start_time": "2022-04-26T12:48:35.911Z"
      },
      {
        "duration": 3,
        "start_time": "2022-04-26T12:48:38.697Z"
      },
      {
        "duration": 113,
        "start_time": "2022-04-26T12:48:38.702Z"
      },
      {
        "duration": 14,
        "start_time": "2022-04-26T12:48:38.816Z"
      },
      {
        "duration": 3,
        "start_time": "2022-04-26T12:48:38.832Z"
      },
      {
        "duration": 9,
        "start_time": "2022-04-26T12:48:38.837Z"
      },
      {
        "duration": 23,
        "start_time": "2022-04-26T12:48:38.847Z"
      },
      {
        "duration": 37,
        "start_time": "2022-04-26T12:48:38.872Z"
      },
      {
        "duration": 4,
        "start_time": "2022-04-26T12:48:38.911Z"
      },
      {
        "duration": 51,
        "start_time": "2022-04-26T12:48:38.918Z"
      },
      {
        "duration": 6,
        "start_time": "2022-04-26T12:48:38.972Z"
      },
      {
        "duration": 31,
        "start_time": "2022-04-26T12:48:38.980Z"
      },
      {
        "duration": 15,
        "start_time": "2022-04-26T12:48:39.012Z"
      },
      {
        "duration": 15,
        "start_time": "2022-04-26T12:48:39.028Z"
      },
      {
        "duration": 16,
        "start_time": "2022-04-26T12:48:39.044Z"
      },
      {
        "duration": 319,
        "start_time": "2022-04-26T12:48:39.062Z"
      },
      {
        "duration": 50,
        "start_time": "2022-04-26T12:48:39.383Z"
      },
      {
        "duration": 152,
        "start_time": "2022-04-26T12:48:39.435Z"
      },
      {
        "duration": 151,
        "start_time": "2022-04-26T12:48:39.589Z"
      },
      {
        "duration": 152,
        "start_time": "2022-04-26T12:48:39.742Z"
      },
      {
        "duration": 162,
        "start_time": "2022-04-26T12:48:39.896Z"
      },
      {
        "duration": 153,
        "start_time": "2022-04-26T12:48:40.060Z"
      },
      {
        "duration": 158,
        "start_time": "2022-04-26T12:48:40.215Z"
      },
      {
        "duration": 160,
        "start_time": "2022-04-26T12:48:40.375Z"
      },
      {
        "duration": 5,
        "start_time": "2022-04-26T12:48:40.538Z"
      },
      {
        "duration": 12,
        "start_time": "2022-04-26T12:48:40.544Z"
      },
      {
        "duration": 10,
        "start_time": "2022-04-26T12:48:40.557Z"
      },
      {
        "duration": 8,
        "start_time": "2022-04-26T12:48:40.568Z"
      },
      {
        "duration": 261,
        "start_time": "2022-04-26T12:49:45.794Z"
      },
      {
        "duration": 117,
        "start_time": "2022-04-26T12:49:57.620Z"
      },
      {
        "duration": 140,
        "start_time": "2022-04-26T12:50:07.202Z"
      },
      {
        "duration": 137,
        "start_time": "2022-04-26T12:50:32.950Z"
      },
      {
        "duration": 119,
        "start_time": "2022-04-26T12:50:38.533Z"
      },
      {
        "duration": 143,
        "start_time": "2022-04-26T12:50:41.313Z"
      },
      {
        "duration": 145,
        "start_time": "2022-04-26T12:51:23.513Z"
      },
      {
        "duration": 11,
        "start_time": "2022-04-26T12:52:33.109Z"
      },
      {
        "duration": 149,
        "start_time": "2022-04-26T12:53:02.379Z"
      },
      {
        "duration": 132,
        "start_time": "2022-04-26T12:53:14.116Z"
      },
      {
        "duration": 152,
        "start_time": "2022-04-26T12:53:58.405Z"
      },
      {
        "duration": 141,
        "start_time": "2022-04-26T12:54:49.320Z"
      },
      {
        "duration": 128,
        "start_time": "2022-04-26T12:54:58.038Z"
      },
      {
        "duration": 121,
        "start_time": "2022-04-26T12:55:04.355Z"
      },
      {
        "duration": 153,
        "start_time": "2022-04-26T12:55:45.225Z"
      },
      {
        "duration": 146,
        "start_time": "2022-04-26T12:56:11.430Z"
      },
      {
        "duration": 8,
        "start_time": "2022-04-26T12:56:38.053Z"
      },
      {
        "duration": 7,
        "start_time": "2022-04-26T12:56:47.930Z"
      },
      {
        "duration": 3,
        "start_time": "2022-04-26T12:56:51.005Z"
      },
      {
        "duration": 124,
        "start_time": "2022-04-26T12:56:51.010Z"
      },
      {
        "duration": 15,
        "start_time": "2022-04-26T12:56:51.136Z"
      },
      {
        "duration": 4,
        "start_time": "2022-04-26T12:56:51.153Z"
      },
      {
        "duration": 11,
        "start_time": "2022-04-26T12:56:51.159Z"
      },
      {
        "duration": 54,
        "start_time": "2022-04-26T12:56:51.172Z"
      },
      {
        "duration": 4,
        "start_time": "2022-04-26T12:56:51.228Z"
      },
      {
        "duration": 5,
        "start_time": "2022-04-26T12:56:51.233Z"
      },
      {
        "duration": 50,
        "start_time": "2022-04-26T12:56:51.240Z"
      },
      {
        "duration": 6,
        "start_time": "2022-04-26T12:56:51.307Z"
      },
      {
        "duration": 9,
        "start_time": "2022-04-26T12:56:51.316Z"
      },
      {
        "duration": 14,
        "start_time": "2022-04-26T12:56:51.326Z"
      },
      {
        "duration": 14,
        "start_time": "2022-04-26T12:56:51.341Z"
      },
      {
        "duration": 16,
        "start_time": "2022-04-26T12:56:51.356Z"
      },
      {
        "duration": 321,
        "start_time": "2022-04-26T12:56:51.374Z"
      },
      {
        "duration": 44,
        "start_time": "2022-04-26T12:56:51.696Z"
      },
      {
        "duration": 161,
        "start_time": "2022-04-26T12:56:51.741Z"
      },
      {
        "duration": 152,
        "start_time": "2022-04-26T12:56:51.906Z"
      },
      {
        "duration": 161,
        "start_time": "2022-04-26T12:56:52.060Z"
      },
      {
        "duration": 167,
        "start_time": "2022-04-26T12:56:52.222Z"
      },
      {
        "duration": 153,
        "start_time": "2022-04-26T12:56:52.391Z"
      },
      {
        "duration": 163,
        "start_time": "2022-04-26T12:56:52.546Z"
      },
      {
        "duration": 334,
        "start_time": "2022-04-26T12:56:52.711Z"
      },
      {
        "duration": 3,
        "start_time": "2022-04-26T12:57:00.089Z"
      },
      {
        "duration": 161,
        "start_time": "2022-04-26T12:57:00.097Z"
      },
      {
        "duration": 16,
        "start_time": "2022-04-26T12:57:00.260Z"
      },
      {
        "duration": 7,
        "start_time": "2022-04-26T12:57:00.279Z"
      },
      {
        "duration": 18,
        "start_time": "2022-04-26T12:57:00.307Z"
      },
      {
        "duration": 36,
        "start_time": "2022-04-26T12:57:00.328Z"
      },
      {
        "duration": 4,
        "start_time": "2022-04-26T12:57:00.366Z"
      },
      {
        "duration": 8,
        "start_time": "2022-04-26T12:57:00.372Z"
      },
      {
        "duration": 83,
        "start_time": "2022-04-26T12:57:00.382Z"
      },
      {
        "duration": 7,
        "start_time": "2022-04-26T12:57:00.467Z"
      },
      {
        "duration": 10,
        "start_time": "2022-04-26T12:57:00.477Z"
      },
      {
        "duration": 36,
        "start_time": "2022-04-26T12:57:00.489Z"
      },
      {
        "duration": 21,
        "start_time": "2022-04-26T12:57:00.527Z"
      },
      {
        "duration": 18,
        "start_time": "2022-04-26T12:57:00.550Z"
      },
      {
        "duration": 341,
        "start_time": "2022-04-26T12:57:00.570Z"
      },
      {
        "duration": 42,
        "start_time": "2022-04-26T12:57:00.914Z"
      },
      {
        "duration": 167,
        "start_time": "2022-04-26T12:57:00.958Z"
      },
      {
        "duration": 143,
        "start_time": "2022-04-26T12:57:01.127Z"
      },
      {
        "duration": 183,
        "start_time": "2022-04-26T12:57:01.271Z"
      },
      {
        "duration": 194,
        "start_time": "2022-04-26T12:57:01.456Z"
      },
      {
        "duration": 176,
        "start_time": "2022-04-26T12:57:01.652Z"
      },
      {
        "duration": 162,
        "start_time": "2022-04-26T12:57:01.830Z"
      },
      {
        "duration": 146,
        "start_time": "2022-04-26T12:57:01.994Z"
      },
      {
        "duration": 8,
        "start_time": "2022-04-26T12:57:02.141Z"
      },
      {
        "duration": 166,
        "start_time": "2022-04-26T12:57:02.150Z"
      },
      {
        "duration": 147,
        "start_time": "2022-04-26T12:57:02.317Z"
      },
      {
        "duration": 5,
        "start_time": "2022-04-26T12:57:02.465Z"
      },
      {
        "duration": 28,
        "start_time": "2022-04-26T12:57:02.472Z"
      },
      {
        "duration": 10,
        "start_time": "2022-04-26T12:57:02.503Z"
      },
      {
        "duration": 10,
        "start_time": "2022-04-26T12:57:02.514Z"
      },
      {
        "duration": 9,
        "start_time": "2022-04-26T12:57:02.526Z"
      },
      {
        "duration": 8,
        "start_time": "2022-04-26T12:58:09.974Z"
      },
      {
        "duration": 7,
        "start_time": "2022-04-26T12:58:17.832Z"
      },
      {
        "duration": 7,
        "start_time": "2022-04-26T12:58:38.175Z"
      },
      {
        "duration": 5,
        "start_time": "2022-04-26T12:59:03.561Z"
      },
      {
        "duration": 9,
        "start_time": "2022-04-26T12:59:39.214Z"
      },
      {
        "duration": 6,
        "start_time": "2022-04-26T12:59:55.556Z"
      },
      {
        "duration": 8,
        "start_time": "2022-04-26T13:00:56.403Z"
      },
      {
        "duration": 8,
        "start_time": "2022-04-26T13:01:11.088Z"
      },
      {
        "duration": 9,
        "start_time": "2022-04-26T13:01:19.745Z"
      },
      {
        "duration": 8,
        "start_time": "2022-04-26T13:02:52.950Z"
      },
      {
        "duration": 149,
        "start_time": "2022-04-26T13:04:02.088Z"
      },
      {
        "duration": 8,
        "start_time": "2022-04-26T13:04:31.669Z"
      },
      {
        "duration": 8,
        "start_time": "2022-04-26T13:04:38.504Z"
      },
      {
        "duration": 1342,
        "start_time": "2022-04-26T13:04:45.202Z"
      },
      {
        "duration": 6,
        "start_time": "2022-04-26T13:04:50.616Z"
      },
      {
        "duration": 3,
        "start_time": "2022-04-26T13:04:58.094Z"
      },
      {
        "duration": 138,
        "start_time": "2022-04-26T13:04:58.099Z"
      },
      {
        "duration": 16,
        "start_time": "2022-04-26T13:04:58.239Z"
      },
      {
        "duration": 5,
        "start_time": "2022-04-26T13:04:58.258Z"
      },
      {
        "duration": 10,
        "start_time": "2022-04-26T13:04:58.266Z"
      },
      {
        "duration": 24,
        "start_time": "2022-04-26T13:04:58.307Z"
      },
      {
        "duration": 4,
        "start_time": "2022-04-26T13:04:58.334Z"
      },
      {
        "duration": 5,
        "start_time": "2022-04-26T13:04:58.340Z"
      },
      {
        "duration": 75,
        "start_time": "2022-04-26T13:04:58.346Z"
      },
      {
        "duration": 6,
        "start_time": "2022-04-26T13:04:58.422Z"
      },
      {
        "duration": 9,
        "start_time": "2022-04-26T13:04:58.431Z"
      },
      {
        "duration": 13,
        "start_time": "2022-04-26T13:04:58.441Z"
      },
      {
        "duration": 14,
        "start_time": "2022-04-26T13:04:58.455Z"
      },
      {
        "duration": 45,
        "start_time": "2022-04-26T13:04:58.470Z"
      },
      {
        "duration": 291,
        "start_time": "2022-04-26T13:04:58.516Z"
      },
      {
        "duration": 39,
        "start_time": "2022-04-26T13:04:58.808Z"
      },
      {
        "duration": 158,
        "start_time": "2022-04-26T13:04:58.849Z"
      },
      {
        "duration": 167,
        "start_time": "2022-04-26T13:04:59.009Z"
      },
      {
        "duration": 151,
        "start_time": "2022-04-26T13:04:59.177Z"
      },
      {
        "duration": 8,
        "start_time": "2022-04-26T13:04:59.330Z"
      },
      {
        "duration": 170,
        "start_time": "2022-04-26T13:04:59.339Z"
      },
      {
        "duration": 156,
        "start_time": "2022-04-26T13:04:59.510Z"
      },
      {
        "duration": 6,
        "start_time": "2022-04-26T13:04:59.668Z"
      },
      {
        "duration": 165,
        "start_time": "2022-04-26T13:04:59.676Z"
      },
      {
        "duration": 147,
        "start_time": "2022-04-26T13:04:59.842Z"
      },
      {
        "duration": 17,
        "start_time": "2022-04-26T13:04:59.991Z"
      },
      {
        "duration": 7,
        "start_time": "2022-04-26T13:05:00.010Z"
      },
      {
        "duration": 356,
        "start_time": "2022-04-26T13:05:00.019Z"
      },
      {
        "duration": 143,
        "start_time": "2022-04-26T13:05:00.378Z"
      },
      {
        "duration": 5,
        "start_time": "2022-04-26T13:05:00.522Z"
      },
      {
        "duration": 10,
        "start_time": "2022-04-26T13:05:00.528Z"
      },
      {
        "duration": 9,
        "start_time": "2022-04-26T13:05:00.539Z"
      },
      {
        "duration": 11,
        "start_time": "2022-04-26T13:05:00.549Z"
      },
      {
        "duration": 9,
        "start_time": "2022-04-26T13:05:00.562Z"
      },
      {
        "duration": 9,
        "start_time": "2022-04-26T13:05:32.721Z"
      },
      {
        "duration": 9,
        "start_time": "2022-04-26T13:07:10.505Z"
      },
      {
        "duration": 7,
        "start_time": "2022-04-26T13:09:15.436Z"
      },
      {
        "duration": 9,
        "start_time": "2022-04-26T13:09:25.905Z"
      },
      {
        "duration": 31,
        "start_time": "2022-04-26T13:11:53.041Z"
      },
      {
        "duration": 12,
        "start_time": "2022-04-26T13:12:31.940Z"
      },
      {
        "duration": 9,
        "start_time": "2022-04-26T13:12:45.357Z"
      },
      {
        "duration": 136,
        "start_time": "2022-04-26T13:13:43.297Z"
      },
      {
        "duration": 10,
        "start_time": "2022-04-26T13:15:26.164Z"
      },
      {
        "duration": 2,
        "start_time": "2022-04-26T13:15:37.376Z"
      },
      {
        "duration": 149,
        "start_time": "2022-04-26T13:15:37.383Z"
      },
      {
        "duration": 14,
        "start_time": "2022-04-26T13:15:37.535Z"
      },
      {
        "duration": 4,
        "start_time": "2022-04-26T13:15:37.551Z"
      },
      {
        "duration": 14,
        "start_time": "2022-04-26T13:15:37.557Z"
      },
      {
        "duration": 44,
        "start_time": "2022-04-26T13:15:37.573Z"
      },
      {
        "duration": 6,
        "start_time": "2022-04-26T13:15:37.618Z"
      },
      {
        "duration": 9,
        "start_time": "2022-04-26T13:15:37.626Z"
      },
      {
        "duration": 71,
        "start_time": "2022-04-26T13:15:37.636Z"
      },
      {
        "duration": 7,
        "start_time": "2022-04-26T13:15:37.710Z"
      },
      {
        "duration": 12,
        "start_time": "2022-04-26T13:15:37.721Z"
      },
      {
        "duration": 14,
        "start_time": "2022-04-26T13:15:37.735Z"
      },
      {
        "duration": 14,
        "start_time": "2022-04-26T13:15:37.751Z"
      },
      {
        "duration": 51,
        "start_time": "2022-04-26T13:15:37.767Z"
      },
      {
        "duration": 299,
        "start_time": "2022-04-26T13:15:37.820Z"
      },
      {
        "duration": 42,
        "start_time": "2022-04-26T13:15:38.120Z"
      },
      {
        "duration": 149,
        "start_time": "2022-04-26T13:15:38.164Z"
      },
      {
        "duration": 13,
        "start_time": "2022-04-26T13:15:38.315Z"
      },
      {
        "duration": 183,
        "start_time": "2022-04-26T13:15:38.330Z"
      },
      {
        "duration": 167,
        "start_time": "2022-04-26T13:15:38.515Z"
      },
      {
        "duration": 8,
        "start_time": "2022-04-26T13:15:38.684Z"
      },
      {
        "duration": 38,
        "start_time": "2022-04-26T13:15:38.694Z"
      },
      {
        "duration": 169,
        "start_time": "2022-04-26T13:15:38.734Z"
      },
      {
        "duration": 157,
        "start_time": "2022-04-26T13:15:38.908Z"
      },
      {
        "duration": 6,
        "start_time": "2022-04-26T13:15:39.067Z"
      },
      {
        "duration": 175,
        "start_time": "2022-04-26T13:15:39.075Z"
      },
      {
        "duration": 148,
        "start_time": "2022-04-26T13:15:39.252Z"
      },
      {
        "duration": 13,
        "start_time": "2022-04-26T13:15:39.401Z"
      },
      {
        "duration": 6,
        "start_time": "2022-04-26T13:15:39.417Z"
      },
      {
        "duration": 176,
        "start_time": "2022-04-26T13:15:39.424Z"
      },
      {
        "duration": 145,
        "start_time": "2022-04-26T13:15:39.601Z"
      },
      {
        "duration": 5,
        "start_time": "2022-04-26T13:15:39.748Z"
      },
      {
        "duration": 9,
        "start_time": "2022-04-26T13:15:39.755Z"
      },
      {
        "duration": 12,
        "start_time": "2022-04-26T13:15:39.765Z"
      },
      {
        "duration": 33,
        "start_time": "2022-04-26T13:15:39.779Z"
      },
      {
        "duration": 9,
        "start_time": "2022-04-26T13:15:39.814Z"
      },
      {
        "duration": 10,
        "start_time": "2022-04-26T13:15:39.825Z"
      },
      {
        "duration": 20,
        "start_time": "2022-04-26T13:17:45.163Z"
      },
      {
        "duration": 13,
        "start_time": "2022-04-26T13:19:01.248Z"
      },
      {
        "duration": 7,
        "start_time": "2022-04-26T13:19:11.960Z"
      },
      {
        "duration": 207,
        "start_time": "2022-04-26T13:19:11.969Z"
      },
      {
        "duration": 32,
        "start_time": "2022-04-26T13:19:12.179Z"
      },
      {
        "duration": 7,
        "start_time": "2022-04-26T13:19:12.213Z"
      },
      {
        "duration": 13,
        "start_time": "2022-04-26T13:19:12.224Z"
      },
      {
        "duration": 26,
        "start_time": "2022-04-26T13:19:12.239Z"
      },
      {
        "duration": 4,
        "start_time": "2022-04-26T13:19:12.267Z"
      },
      {
        "duration": 35,
        "start_time": "2022-04-26T13:19:12.273Z"
      },
      {
        "duration": 61,
        "start_time": "2022-04-26T13:19:12.310Z"
      },
      {
        "duration": 9,
        "start_time": "2022-04-26T13:19:12.373Z"
      },
      {
        "duration": 10,
        "start_time": "2022-04-26T13:19:12.408Z"
      },
      {
        "duration": 17,
        "start_time": "2022-04-26T13:19:12.420Z"
      },
      {
        "duration": 16,
        "start_time": "2022-04-26T13:19:12.439Z"
      },
      {
        "duration": 51,
        "start_time": "2022-04-26T13:19:12.457Z"
      },
      {
        "duration": 421,
        "start_time": "2022-04-26T13:19:12.510Z"
      },
      {
        "duration": 46,
        "start_time": "2022-04-26T13:19:12.933Z"
      },
      {
        "duration": 168,
        "start_time": "2022-04-26T13:19:12.981Z"
      },
      {
        "duration": 12,
        "start_time": "2022-04-26T13:19:13.152Z"
      },
      {
        "duration": 209,
        "start_time": "2022-04-26T13:19:13.166Z"
      },
      {
        "duration": 203,
        "start_time": "2022-04-26T13:19:13.377Z"
      },
      {
        "duration": 9,
        "start_time": "2022-04-26T13:19:13.581Z"
      },
      {
        "duration": 48,
        "start_time": "2022-04-26T13:19:13.612Z"
      },
      {
        "duration": 185,
        "start_time": "2022-04-26T13:19:13.662Z"
      },
      {
        "duration": 162,
        "start_time": "2022-04-26T13:19:13.848Z"
      },
      {
        "duration": 12,
        "start_time": "2022-04-26T13:19:14.013Z"
      },
      {
        "duration": 218,
        "start_time": "2022-04-26T13:19:14.028Z"
      },
      {
        "duration": 217,
        "start_time": "2022-04-26T13:19:14.248Z"
      },
      {
        "duration": 10,
        "start_time": "2022-04-26T13:19:14.467Z"
      },
      {
        "duration": 9,
        "start_time": "2022-04-26T13:19:14.482Z"
      },
      {
        "duration": 203,
        "start_time": "2022-04-26T13:19:14.509Z"
      },
      {
        "duration": 160,
        "start_time": "2022-04-26T13:19:14.714Z"
      },
      {
        "duration": 5,
        "start_time": "2022-04-26T13:19:14.876Z"
      },
      {
        "duration": 8,
        "start_time": "2022-04-26T13:19:14.883Z"
      },
      {
        "duration": 24,
        "start_time": "2022-04-26T13:19:14.893Z"
      },
      {
        "duration": 27,
        "start_time": "2022-04-26T13:19:14.920Z"
      },
      {
        "duration": 10,
        "start_time": "2022-04-26T13:19:14.950Z"
      },
      {
        "duration": 14,
        "start_time": "2022-04-26T13:19:14.962Z"
      },
      {
        "duration": 5,
        "start_time": "2022-04-26T13:20:56.836Z"
      },
      {
        "duration": 6,
        "start_time": "2022-04-26T13:21:33.965Z"
      },
      {
        "duration": 5,
        "start_time": "2022-04-26T13:21:45.655Z"
      },
      {
        "duration": 6,
        "start_time": "2022-04-26T13:22:32.803Z"
      },
      {
        "duration": 5,
        "start_time": "2022-04-26T13:24:12.351Z"
      },
      {
        "duration": 162,
        "start_time": "2022-04-26T13:35:48.364Z"
      },
      {
        "duration": 167,
        "start_time": "2022-04-26T13:42:30.884Z"
      },
      {
        "duration": 11,
        "start_time": "2022-04-26T13:43:41.611Z"
      },
      {
        "duration": 16,
        "start_time": "2022-04-26T13:44:11.915Z"
      },
      {
        "duration": 157,
        "start_time": "2022-04-26T13:45:49.925Z"
      },
      {
        "duration": 9,
        "start_time": "2022-04-26T13:46:00.950Z"
      },
      {
        "duration": 4,
        "start_time": "2022-04-26T13:47:22.510Z"
      },
      {
        "duration": 26,
        "start_time": "2022-04-26T13:47:54.432Z"
      },
      {
        "duration": 123,
        "start_time": "2022-04-26T13:49:22.363Z"
      },
      {
        "duration": 6,
        "start_time": "2022-04-26T13:50:02.358Z"
      },
      {
        "duration": 122,
        "start_time": "2022-04-26T13:50:27.739Z"
      },
      {
        "duration": 439,
        "start_time": "2022-04-26T13:52:36.360Z"
      },
      {
        "duration": 1162,
        "start_time": "2022-04-26T13:52:50.150Z"
      },
      {
        "duration": 15,
        "start_time": "2022-04-26T13:53:15.597Z"
      },
      {
        "duration": 169,
        "start_time": "2022-04-26T13:53:25.481Z"
      },
      {
        "duration": 174,
        "start_time": "2022-04-26T13:53:34.145Z"
      },
      {
        "duration": 5,
        "start_time": "2022-04-26T13:54:03.359Z"
      },
      {
        "duration": 3,
        "start_time": "2022-04-26T15:54:58.870Z"
      },
      {
        "duration": 112,
        "start_time": "2022-04-26T15:54:58.876Z"
      },
      {
        "duration": 15,
        "start_time": "2022-04-26T15:54:59.007Z"
      },
      {
        "duration": 3,
        "start_time": "2022-04-26T15:54:59.024Z"
      },
      {
        "duration": 9,
        "start_time": "2022-04-26T15:54:59.030Z"
      },
      {
        "duration": 26,
        "start_time": "2022-04-26T15:54:59.040Z"
      },
      {
        "duration": 4,
        "start_time": "2022-04-26T15:54:59.068Z"
      },
      {
        "duration": 4,
        "start_time": "2022-04-26T15:54:59.107Z"
      },
      {
        "duration": 53,
        "start_time": "2022-04-26T15:54:59.112Z"
      },
      {
        "duration": 6,
        "start_time": "2022-04-26T15:54:59.167Z"
      },
      {
        "duration": 32,
        "start_time": "2022-04-26T15:54:59.176Z"
      },
      {
        "duration": 15,
        "start_time": "2022-04-26T15:54:59.210Z"
      },
      {
        "duration": 14,
        "start_time": "2022-04-26T15:54:59.226Z"
      },
      {
        "duration": 16,
        "start_time": "2022-04-26T15:54:59.241Z"
      },
      {
        "duration": 308,
        "start_time": "2022-04-26T15:54:59.258Z"
      },
      {
        "duration": 45,
        "start_time": "2022-04-26T15:54:59.567Z"
      },
      {
        "duration": 128,
        "start_time": "2022-04-26T15:54:59.614Z"
      },
      {
        "duration": 8,
        "start_time": "2022-04-26T15:54:59.743Z"
      },
      {
        "duration": 174,
        "start_time": "2022-04-26T15:54:59.753Z"
      },
      {
        "duration": 158,
        "start_time": "2022-04-26T15:54:59.929Z"
      },
      {
        "duration": 8,
        "start_time": "2022-04-26T15:55:00.089Z"
      },
      {
        "duration": 31,
        "start_time": "2022-04-26T15:55:00.108Z"
      },
      {
        "duration": 159,
        "start_time": "2022-04-26T15:55:00.140Z"
      },
      {
        "duration": 146,
        "start_time": "2022-04-26T15:55:00.306Z"
      },
      {
        "duration": 6,
        "start_time": "2022-04-26T15:55:00.453Z"
      },
      {
        "duration": 163,
        "start_time": "2022-04-26T15:55:00.461Z"
      },
      {
        "duration": 148,
        "start_time": "2022-04-26T15:55:00.626Z"
      },
      {
        "duration": 7,
        "start_time": "2022-04-26T15:55:00.776Z"
      },
      {
        "duration": 22,
        "start_time": "2022-04-26T15:55:00.786Z"
      },
      {
        "duration": 157,
        "start_time": "2022-04-26T15:55:00.810Z"
      },
      {
        "duration": 141,
        "start_time": "2022-04-26T15:55:00.969Z"
      },
      {
        "duration": 5,
        "start_time": "2022-04-26T15:55:01.111Z"
      },
      {
        "duration": 16,
        "start_time": "2022-04-26T15:55:01.118Z"
      },
      {
        "duration": 24,
        "start_time": "2022-04-26T15:55:01.135Z"
      },
      {
        "duration": 19,
        "start_time": "2022-04-26T15:55:01.161Z"
      },
      {
        "duration": 35,
        "start_time": "2022-04-26T15:55:01.182Z"
      },
      {
        "duration": 9,
        "start_time": "2022-04-26T15:55:01.219Z"
      },
      {
        "duration": 18,
        "start_time": "2022-04-26T15:55:01.230Z"
      },
      {
        "duration": 8,
        "start_time": "2022-04-26T15:55:01.250Z"
      },
      {
        "duration": 12,
        "start_time": "2022-04-26T15:55:01.259Z"
      },
      {
        "duration": 15,
        "start_time": "2022-04-26T15:55:01.273Z"
      },
      {
        "duration": 218,
        "start_time": "2022-04-26T15:55:01.290Z"
      },
      {
        "duration": 183,
        "start_time": "2022-04-26T15:55:01.509Z"
      },
      {
        "duration": 189,
        "start_time": "2022-04-26T15:55:01.693Z"
      },
      {
        "duration": 185,
        "start_time": "2022-04-26T15:55:01.884Z"
      },
      {
        "duration": 255,
        "start_time": "2022-04-26T15:56:23.370Z"
      },
      {
        "duration": 439368,
        "start_time": "2022-04-26T15:56:37.294Z"
      },
      {
        "duration": 7,
        "start_time": "2022-04-26T16:03:56.664Z"
      },
      {
        "duration": 15,
        "start_time": "2022-04-26T16:05:12.617Z"
      },
      {
        "duration": 14,
        "start_time": "2022-04-26T16:08:41.698Z"
      },
      {
        "duration": 15,
        "start_time": "2022-04-26T16:09:29.116Z"
      },
      {
        "duration": 14,
        "start_time": "2022-04-26T16:10:10.688Z"
      },
      {
        "duration": 13,
        "start_time": "2022-04-26T16:11:14.540Z"
      },
      {
        "duration": 14,
        "start_time": "2022-04-26T16:11:26.598Z"
      },
      {
        "duration": 4,
        "start_time": "2022-04-26T16:12:30.868Z"
      },
      {
        "duration": 14,
        "start_time": "2022-04-26T16:15:08.425Z"
      },
      {
        "duration": 13,
        "start_time": "2022-04-26T16:15:22.475Z"
      },
      {
        "duration": 18,
        "start_time": "2022-04-26T16:21:21.825Z"
      },
      {
        "duration": 7,
        "start_time": "2022-04-26T16:21:52.874Z"
      },
      {
        "duration": 12,
        "start_time": "2022-04-26T16:23:17.454Z"
      },
      {
        "duration": 16,
        "start_time": "2022-04-26T16:23:51.401Z"
      },
      {
        "duration": 48,
        "start_time": "2022-04-26T16:25:33.910Z"
      },
      {
        "duration": 12,
        "start_time": "2022-04-26T16:26:52.093Z"
      },
      {
        "duration": 13,
        "start_time": "2022-04-26T16:27:21.075Z"
      },
      {
        "duration": 12,
        "start_time": "2022-04-26T16:27:32.491Z"
      },
      {
        "duration": 12,
        "start_time": "2022-04-26T16:27:48.054Z"
      },
      {
        "duration": 12,
        "start_time": "2022-04-26T16:28:04.187Z"
      },
      {
        "duration": 11,
        "start_time": "2022-04-26T16:28:16.393Z"
      },
      {
        "duration": 25,
        "start_time": "2022-04-26T16:28:54.768Z"
      },
      {
        "duration": 25,
        "start_time": "2022-04-26T16:29:09.361Z"
      },
      {
        "duration": 12,
        "start_time": "2022-04-26T16:29:30.151Z"
      },
      {
        "duration": 12,
        "start_time": "2022-04-26T16:29:40.038Z"
      },
      {
        "duration": 20,
        "start_time": "2022-04-26T16:32:34.998Z"
      },
      {
        "duration": 7,
        "start_time": "2022-04-26T16:33:00.958Z"
      },
      {
        "duration": 12,
        "start_time": "2022-04-26T16:33:11.068Z"
      },
      {
        "duration": 329,
        "start_time": "2022-04-26T16:35:22.009Z"
      },
      {
        "duration": 12,
        "start_time": "2022-04-26T16:35:42.828Z"
      },
      {
        "duration": 65,
        "start_time": "2022-04-26T16:37:27.515Z"
      },
      {
        "duration": 22,
        "start_time": "2022-04-26T16:37:45.740Z"
      },
      {
        "duration": 17,
        "start_time": "2022-04-26T16:37:59.964Z"
      },
      {
        "duration": 62,
        "start_time": "2022-04-26T16:39:14.119Z"
      },
      {
        "duration": 63,
        "start_time": "2022-04-26T16:39:23.731Z"
      },
      {
        "duration": 64,
        "start_time": "2022-04-26T16:39:42.539Z"
      },
      {
        "duration": 8,
        "start_time": "2022-04-26T16:39:52.116Z"
      },
      {
        "duration": 60,
        "start_time": "2022-04-26T16:40:18.983Z"
      },
      {
        "duration": 61,
        "start_time": "2022-04-26T16:40:33.222Z"
      },
      {
        "duration": 65,
        "start_time": "2022-04-26T16:40:54.367Z"
      },
      {
        "duration": 4,
        "start_time": "2022-04-26T16:40:59.479Z"
      },
      {
        "duration": 161,
        "start_time": "2022-04-26T16:40:59.484Z"
      },
      {
        "duration": 17,
        "start_time": "2022-04-26T16:40:59.647Z"
      },
      {
        "duration": 5,
        "start_time": "2022-04-26T16:40:59.666Z"
      },
      {
        "duration": 11,
        "start_time": "2022-04-26T16:40:59.710Z"
      },
      {
        "duration": 28,
        "start_time": "2022-04-26T16:40:59.723Z"
      },
      {
        "duration": 5,
        "start_time": "2022-04-26T16:40:59.752Z"
      },
      {
        "duration": 6,
        "start_time": "2022-04-26T16:40:59.759Z"
      },
      {
        "duration": 81,
        "start_time": "2022-04-26T16:40:59.767Z"
      },
      {
        "duration": 7,
        "start_time": "2022-04-26T16:40:59.850Z"
      },
      {
        "duration": 10,
        "start_time": "2022-04-26T16:40:59.859Z"
      },
      {
        "duration": 44,
        "start_time": "2022-04-26T16:40:59.871Z"
      },
      {
        "duration": 14,
        "start_time": "2022-04-26T16:40:59.917Z"
      },
      {
        "duration": 17,
        "start_time": "2022-04-26T16:40:59.933Z"
      },
      {
        "duration": 335,
        "start_time": "2022-04-26T16:40:59.952Z"
      },
      {
        "duration": 45,
        "start_time": "2022-04-26T16:41:00.289Z"
      },
      {
        "duration": 142,
        "start_time": "2022-04-26T16:41:00.335Z"
      },
      {
        "duration": 8,
        "start_time": "2022-04-26T16:41:00.479Z"
      },
      {
        "duration": 186,
        "start_time": "2022-04-26T16:41:00.489Z"
      },
      {
        "duration": 152,
        "start_time": "2022-04-26T16:41:00.677Z"
      },
      {
        "duration": 9,
        "start_time": "2022-04-26T16:41:00.830Z"
      },
      {
        "duration": 31,
        "start_time": "2022-04-26T16:41:00.840Z"
      },
      {
        "duration": 214,
        "start_time": "2022-04-26T16:41:00.873Z"
      },
      {
        "duration": 163,
        "start_time": "2022-04-26T16:41:01.089Z"
      },
      {
        "duration": 6,
        "start_time": "2022-04-26T16:41:01.253Z"
      },
      {
        "duration": 173,
        "start_time": "2022-04-26T16:41:01.261Z"
      },
      {
        "duration": 147,
        "start_time": "2022-04-26T16:41:01.436Z"
      },
      {
        "duration": 8,
        "start_time": "2022-04-26T16:41:01.585Z"
      },
      {
        "duration": 6,
        "start_time": "2022-04-26T16:41:01.607Z"
      },
      {
        "duration": 174,
        "start_time": "2022-04-26T16:41:01.615Z"
      },
      {
        "duration": 146,
        "start_time": "2022-04-26T16:41:01.791Z"
      },
      {
        "duration": 5,
        "start_time": "2022-04-26T16:41:01.938Z"
      },
      {
        "duration": 9,
        "start_time": "2022-04-26T16:41:01.944Z"
      },
      {
        "duration": 32,
        "start_time": "2022-04-26T16:41:01.955Z"
      },
      {
        "duration": 20,
        "start_time": "2022-04-26T16:41:01.989Z"
      },
      {
        "duration": 13,
        "start_time": "2022-04-26T16:41:02.011Z"
      },
      {
        "duration": 11,
        "start_time": "2022-04-26T16:41:02.026Z"
      },
      {
        "duration": 6,
        "start_time": "2022-04-26T16:41:02.039Z"
      },
      {
        "duration": 5,
        "start_time": "2022-04-26T16:41:02.047Z"
      },
      {
        "duration": 9,
        "start_time": "2022-04-26T16:41:02.055Z"
      },
      {
        "duration": 14,
        "start_time": "2022-04-26T16:41:02.066Z"
      },
      {
        "duration": 195,
        "start_time": "2022-04-26T16:41:02.082Z"
      },
      {
        "duration": 15,
        "start_time": "2022-04-26T16:41:02.279Z"
      },
      {
        "duration": 191,
        "start_time": "2022-04-26T16:41:02.308Z"
      },
      {
        "duration": 17,
        "start_time": "2022-04-26T16:41:02.501Z"
      },
      {
        "duration": 210,
        "start_time": "2022-04-26T16:41:02.519Z"
      },
      {
        "duration": 13,
        "start_time": "2022-04-26T16:41:02.730Z"
      },
      {
        "duration": 202,
        "start_time": "2022-04-26T16:41:02.745Z"
      },
      {
        "duration": 14,
        "start_time": "2022-04-26T16:41:02.948Z"
      },
      {
        "duration": 83,
        "start_time": "2022-04-26T16:41:02.964Z"
      },
      {
        "duration": 0,
        "start_time": "2022-04-26T16:41:03.049Z"
      },
      {
        "duration": 0,
        "start_time": "2022-04-26T16:41:03.051Z"
      },
      {
        "duration": 38,
        "start_time": "2022-04-26T16:41:34.098Z"
      },
      {
        "duration": 36,
        "start_time": "2022-04-26T16:41:55.974Z"
      },
      {
        "duration": 28,
        "start_time": "2022-04-26T16:42:16.673Z"
      },
      {
        "duration": 27,
        "start_time": "2022-04-26T16:42:21.884Z"
      },
      {
        "duration": 7,
        "start_time": "2022-04-26T16:45:00.176Z"
      },
      {
        "duration": 18,
        "start_time": "2022-04-26T16:45:05.915Z"
      },
      {
        "duration": 26,
        "start_time": "2022-04-26T16:45:58.034Z"
      },
      {
        "duration": 27,
        "start_time": "2022-04-26T16:46:12.166Z"
      },
      {
        "duration": 24,
        "start_time": "2022-04-26T16:47:03.651Z"
      },
      {
        "duration": 24,
        "start_time": "2022-04-26T16:48:57.913Z"
      },
      {
        "duration": 23,
        "start_time": "2022-04-26T16:49:25.561Z"
      },
      {
        "duration": 25,
        "start_time": "2022-04-26T16:50:19.491Z"
      },
      {
        "duration": 13,
        "start_time": "2022-04-26T16:52:55.301Z"
      },
      {
        "duration": 11,
        "start_time": "2022-04-26T16:53:54.857Z"
      },
      {
        "duration": 15,
        "start_time": "2022-04-26T16:53:58.832Z"
      },
      {
        "duration": 19,
        "start_time": "2022-04-26T16:56:20.357Z"
      },
      {
        "duration": 23,
        "start_time": "2022-04-26T16:56:31.118Z"
      },
      {
        "duration": 39,
        "start_time": "2022-04-26T16:57:16.803Z"
      },
      {
        "duration": 9,
        "start_time": "2022-04-26T16:59:27.709Z"
      },
      {
        "duration": 10,
        "start_time": "2022-04-26T16:59:37.010Z"
      },
      {
        "duration": 13,
        "start_time": "2022-04-26T16:59:40.958Z"
      },
      {
        "duration": 36,
        "start_time": "2022-04-26T16:59:48.049Z"
      },
      {
        "duration": 25,
        "start_time": "2022-04-26T17:00:25.649Z"
      },
      {
        "duration": 13,
        "start_time": "2022-04-26T17:00:33.911Z"
      },
      {
        "duration": 17,
        "start_time": "2022-04-26T17:01:19.170Z"
      },
      {
        "duration": 10,
        "start_time": "2022-04-26T17:01:27.544Z"
      },
      {
        "duration": 5,
        "start_time": "2022-04-26T17:02:37.352Z"
      },
      {
        "duration": 13,
        "start_time": "2022-04-26T17:02:40.829Z"
      },
      {
        "duration": 14,
        "start_time": "2022-04-26T17:02:58.783Z"
      },
      {
        "duration": 12,
        "start_time": "2022-04-26T17:03:07.541Z"
      },
      {
        "duration": 12,
        "start_time": "2022-04-26T17:03:10.223Z"
      },
      {
        "duration": 13,
        "start_time": "2022-04-26T17:03:14.578Z"
      },
      {
        "duration": 4,
        "start_time": "2022-04-26T17:03:27.023Z"
      },
      {
        "duration": 112,
        "start_time": "2022-04-26T17:03:27.028Z"
      },
      {
        "duration": 15,
        "start_time": "2022-04-26T17:03:27.142Z"
      },
      {
        "duration": 4,
        "start_time": "2022-04-26T17:03:27.158Z"
      },
      {
        "duration": 10,
        "start_time": "2022-04-26T17:03:27.164Z"
      },
      {
        "duration": 25,
        "start_time": "2022-04-26T17:03:27.208Z"
      },
      {
        "duration": 4,
        "start_time": "2022-04-26T17:03:27.234Z"
      },
      {
        "duration": 4,
        "start_time": "2022-04-26T17:03:27.240Z"
      },
      {
        "duration": 75,
        "start_time": "2022-04-26T17:03:27.246Z"
      },
      {
        "duration": 6,
        "start_time": "2022-04-26T17:03:27.323Z"
      },
      {
        "duration": 9,
        "start_time": "2022-04-26T17:03:27.331Z"
      },
      {
        "duration": 13,
        "start_time": "2022-04-26T17:03:27.342Z"
      },
      {
        "duration": 13,
        "start_time": "2022-04-26T17:03:27.357Z"
      },
      {
        "duration": 44,
        "start_time": "2022-04-26T17:03:27.372Z"
      },
      {
        "duration": 291,
        "start_time": "2022-04-26T17:03:27.418Z"
      },
      {
        "duration": 38,
        "start_time": "2022-04-26T17:03:27.710Z"
      },
      {
        "duration": 135,
        "start_time": "2022-04-26T17:03:27.750Z"
      },
      {
        "duration": 8,
        "start_time": "2022-04-26T17:03:27.887Z"
      },
      {
        "duration": 155,
        "start_time": "2022-04-26T17:03:27.906Z"
      },
      {
        "duration": 156,
        "start_time": "2022-04-26T17:03:28.063Z"
      },
      {
        "duration": 8,
        "start_time": "2022-04-26T17:03:28.221Z"
      },
      {
        "duration": 27,
        "start_time": "2022-04-26T17:03:28.231Z"
      },
      {
        "duration": 166,
        "start_time": "2022-04-26T17:03:28.260Z"
      },
      {
        "duration": 141,
        "start_time": "2022-04-26T17:03:28.428Z"
      },
      {
        "duration": 6,
        "start_time": "2022-04-26T17:03:28.571Z"
      },
      {
        "duration": 162,
        "start_time": "2022-04-26T17:03:28.579Z"
      },
      {
        "duration": 148,
        "start_time": "2022-04-26T17:03:28.743Z"
      },
      {
        "duration": 6,
        "start_time": "2022-04-26T17:03:28.893Z"
      },
      {
        "duration": 5,
        "start_time": "2022-04-26T17:03:28.910Z"
      },
      {
        "duration": 156,
        "start_time": "2022-04-26T17:03:28.917Z"
      },
      {
        "duration": 145,
        "start_time": "2022-04-26T17:03:29.075Z"
      },
      {
        "duration": 6,
        "start_time": "2022-04-26T17:03:29.222Z"
      },
      {
        "duration": 5,
        "start_time": "2022-04-26T17:03:29.230Z"
      },
      {
        "duration": 10,
        "start_time": "2022-04-26T17:03:29.237Z"
      },
      {
        "duration": 11,
        "start_time": "2022-04-26T17:03:29.249Z"
      },
      {
        "duration": 9,
        "start_time": "2022-04-26T17:03:29.262Z"
      },
      {
        "duration": 11,
        "start_time": "2022-04-26T17:03:29.308Z"
      },
      {
        "duration": 7,
        "start_time": "2022-04-26T17:03:29.320Z"
      },
      {
        "duration": 6,
        "start_time": "2022-04-26T17:03:29.328Z"
      },
      {
        "duration": 6,
        "start_time": "2022-04-26T17:03:29.336Z"
      },
      {
        "duration": 5,
        "start_time": "2022-04-26T17:03:29.344Z"
      },
      {
        "duration": 211,
        "start_time": "2022-04-26T17:03:29.351Z"
      },
      {
        "duration": 15,
        "start_time": "2022-04-26T17:03:29.565Z"
      },
      {
        "duration": 200,
        "start_time": "2022-04-26T17:03:29.582Z"
      },
      {
        "duration": 24,
        "start_time": "2022-04-26T17:03:29.784Z"
      },
      {
        "duration": 178,
        "start_time": "2022-04-26T17:03:29.810Z"
      },
      {
        "duration": 24,
        "start_time": "2022-04-26T17:03:29.991Z"
      },
      {
        "duration": 184,
        "start_time": "2022-04-26T17:03:30.017Z"
      },
      {
        "duration": 16,
        "start_time": "2022-04-26T17:03:30.203Z"
      },
      {
        "duration": 24,
        "start_time": "2022-04-26T17:03:30.221Z"
      },
      {
        "duration": 16,
        "start_time": "2022-04-26T17:03:30.247Z"
      },
      {
        "duration": 69,
        "start_time": "2022-04-26T17:03:30.265Z"
      },
      {
        "duration": 14,
        "start_time": "2022-04-26T17:03:30.336Z"
      },
      {
        "duration": 0,
        "start_time": "2022-04-26T17:03:30.352Z"
      },
      {
        "duration": 16,
        "start_time": "2022-04-26T17:03:58.316Z"
      },
      {
        "duration": 13,
        "start_time": "2022-04-26T17:04:01.636Z"
      },
      {
        "duration": 14,
        "start_time": "2022-04-26T17:04:14.822Z"
      },
      {
        "duration": 14,
        "start_time": "2022-04-26T17:04:27.299Z"
      },
      {
        "duration": 22,
        "start_time": "2022-04-26T17:04:59.427Z"
      },
      {
        "duration": 14,
        "start_time": "2022-04-26T17:05:13.274Z"
      },
      {
        "duration": 25,
        "start_time": "2022-04-26T17:06:42.445Z"
      },
      {
        "duration": 19,
        "start_time": "2022-04-26T17:06:59.418Z"
      },
      {
        "duration": 13,
        "start_time": "2022-04-26T17:07:02.347Z"
      },
      {
        "duration": 16,
        "start_time": "2022-04-26T17:07:06.946Z"
      },
      {
        "duration": 27,
        "start_time": "2022-04-26T17:07:13.468Z"
      },
      {
        "duration": 17,
        "start_time": "2022-04-26T17:07:50.162Z"
      },
      {
        "duration": 14,
        "start_time": "2022-04-26T17:08:03.735Z"
      },
      {
        "duration": 18,
        "start_time": "2022-04-26T17:08:07.611Z"
      },
      {
        "duration": 34,
        "start_time": "2022-04-26T17:08:22.477Z"
      },
      {
        "duration": 15,
        "start_time": "2022-04-26T17:09:12.282Z"
      },
      {
        "duration": 6,
        "start_time": "2022-04-26T17:09:47.398Z"
      },
      {
        "duration": 14,
        "start_time": "2022-04-26T17:09:50.879Z"
      },
      {
        "duration": 12,
        "start_time": "2022-04-26T17:12:52.372Z"
      },
      {
        "duration": 21,
        "start_time": "2022-04-26T17:12:58.036Z"
      },
      {
        "duration": 20,
        "start_time": "2022-04-26T17:14:16.781Z"
      },
      {
        "duration": 18,
        "start_time": "2022-04-26T17:15:04.431Z"
      },
      {
        "duration": 4,
        "start_time": "2022-04-26T17:16:05.341Z"
      },
      {
        "duration": 11,
        "start_time": "2022-04-26T17:16:11.023Z"
      },
      {
        "duration": 17,
        "start_time": "2022-04-26T17:16:48.111Z"
      },
      {
        "duration": 11,
        "start_time": "2022-04-26T17:16:51.544Z"
      },
      {
        "duration": 4,
        "start_time": "2022-04-26T17:21:17.891Z"
      },
      {
        "duration": 18,
        "start_time": "2022-04-26T17:21:20.789Z"
      },
      {
        "duration": 3,
        "start_time": "2022-04-26T17:21:23.920Z"
      },
      {
        "duration": 17,
        "start_time": "2022-04-26T17:21:26.124Z"
      },
      {
        "duration": 3,
        "start_time": "2022-04-26T17:21:31.960Z"
      },
      {
        "duration": 113,
        "start_time": "2022-04-26T17:21:31.966Z"
      },
      {
        "duration": 36,
        "start_time": "2022-04-26T17:21:32.081Z"
      },
      {
        "duration": 3,
        "start_time": "2022-04-26T17:21:32.119Z"
      },
      {
        "duration": 11,
        "start_time": "2022-04-26T17:21:32.124Z"
      },
      {
        "duration": 24,
        "start_time": "2022-04-26T17:21:32.138Z"
      },
      {
        "duration": 5,
        "start_time": "2022-04-26T17:21:32.164Z"
      },
      {
        "duration": 39,
        "start_time": "2022-04-26T17:21:32.170Z"
      },
      {
        "duration": 52,
        "start_time": "2022-04-26T17:21:32.211Z"
      },
      {
        "duration": 6,
        "start_time": "2022-04-26T17:21:32.266Z"
      },
      {
        "duration": 33,
        "start_time": "2022-04-26T17:21:32.274Z"
      },
      {
        "duration": 16,
        "start_time": "2022-04-26T17:21:32.309Z"
      },
      {
        "duration": 15,
        "start_time": "2022-04-26T17:21:32.327Z"
      },
      {
        "duration": 17,
        "start_time": "2022-04-26T17:21:32.343Z"
      },
      {
        "duration": 311,
        "start_time": "2022-04-26T17:21:32.364Z"
      },
      {
        "duration": 47,
        "start_time": "2022-04-26T17:21:32.677Z"
      },
      {
        "duration": 135,
        "start_time": "2022-04-26T17:21:32.727Z"
      },
      {
        "duration": 9,
        "start_time": "2022-04-26T17:21:32.864Z"
      },
      {
        "duration": 180,
        "start_time": "2022-04-26T17:21:32.875Z"
      },
      {
        "duration": 160,
        "start_time": "2022-04-26T17:21:33.057Z"
      },
      {
        "duration": 9,
        "start_time": "2022-04-26T17:21:33.219Z"
      },
      {
        "duration": 28,
        "start_time": "2022-04-26T17:21:33.230Z"
      },
      {
        "duration": 173,
        "start_time": "2022-04-26T17:21:33.260Z"
      },
      {
        "duration": 143,
        "start_time": "2022-04-26T17:21:33.435Z"
      },
      {
        "duration": 7,
        "start_time": "2022-04-26T17:21:33.579Z"
      },
      {
        "duration": 166,
        "start_time": "2022-04-26T17:21:33.588Z"
      },
      {
        "duration": 142,
        "start_time": "2022-04-26T17:21:33.755Z"
      },
      {
        "duration": 7,
        "start_time": "2022-04-26T17:21:33.907Z"
      },
      {
        "duration": 7,
        "start_time": "2022-04-26T17:21:33.915Z"
      },
      {
        "duration": 162,
        "start_time": "2022-04-26T17:21:33.924Z"
      },
      {
        "duration": 144,
        "start_time": "2022-04-26T17:21:34.087Z"
      },
      {
        "duration": 5,
        "start_time": "2022-04-26T17:21:34.232Z"
      },
      {
        "duration": 12,
        "start_time": "2022-04-26T17:21:34.239Z"
      },
      {
        "duration": 11,
        "start_time": "2022-04-26T17:21:34.252Z"
      },
      {
        "duration": 12,
        "start_time": "2022-04-26T17:21:34.265Z"
      },
      {
        "duration": 28,
        "start_time": "2022-04-26T17:21:34.279Z"
      },
      {
        "duration": 9,
        "start_time": "2022-04-26T17:21:34.309Z"
      },
      {
        "duration": 5,
        "start_time": "2022-04-26T17:21:34.320Z"
      },
      {
        "duration": 5,
        "start_time": "2022-04-26T17:21:34.326Z"
      },
      {
        "duration": 5,
        "start_time": "2022-04-26T17:21:34.332Z"
      },
      {
        "duration": 4,
        "start_time": "2022-04-26T17:21:34.339Z"
      },
      {
        "duration": 206,
        "start_time": "2022-04-26T17:21:34.347Z"
      },
      {
        "duration": 14,
        "start_time": "2022-04-26T17:21:34.554Z"
      },
      {
        "duration": 189,
        "start_time": "2022-04-26T17:21:34.569Z"
      },
      {
        "duration": 13,
        "start_time": "2022-04-26T17:21:34.760Z"
      },
      {
        "duration": 183,
        "start_time": "2022-04-26T17:21:34.774Z"
      },
      {
        "duration": 14,
        "start_time": "2022-04-26T17:21:34.958Z"
      },
      {
        "duration": 197,
        "start_time": "2022-04-26T17:21:34.974Z"
      },
      {
        "duration": 14,
        "start_time": "2022-04-26T17:21:35.173Z"
      },
      {
        "duration": 4,
        "start_time": "2022-04-26T17:21:35.188Z"
      },
      {
        "duration": 18,
        "start_time": "2022-04-26T17:21:35.208Z"
      },
      {
        "duration": 10,
        "start_time": "2022-04-26T17:21:35.228Z"
      },
      {
        "duration": 19,
        "start_time": "2022-04-26T17:28:59.721Z"
      },
      {
        "duration": 18,
        "start_time": "2022-04-26T17:29:23.401Z"
      },
      {
        "duration": 19,
        "start_time": "2022-04-26T17:29:31.134Z"
      },
      {
        "duration": 1378,
        "start_time": "2022-04-27T07:24:33.695Z"
      },
      {
        "duration": 117,
        "start_time": "2022-04-27T07:24:35.075Z"
      },
      {
        "duration": 29,
        "start_time": "2022-04-27T07:24:35.194Z"
      },
      {
        "duration": 6,
        "start_time": "2022-04-27T07:24:35.231Z"
      },
      {
        "duration": 19,
        "start_time": "2022-04-27T07:24:35.239Z"
      },
      {
        "duration": 27,
        "start_time": "2022-04-27T07:24:35.259Z"
      },
      {
        "duration": 4,
        "start_time": "2022-04-27T07:24:35.287Z"
      },
      {
        "duration": 6,
        "start_time": "2022-04-27T07:24:35.293Z"
      },
      {
        "duration": 75,
        "start_time": "2022-04-27T07:24:35.300Z"
      },
      {
        "duration": 6,
        "start_time": "2022-04-27T07:24:35.378Z"
      },
      {
        "duration": 10,
        "start_time": "2022-04-27T07:24:35.386Z"
      },
      {
        "duration": 38,
        "start_time": "2022-04-27T07:24:35.397Z"
      },
      {
        "duration": 19,
        "start_time": "2022-04-27T07:24:35.437Z"
      },
      {
        "duration": 17,
        "start_time": "2022-04-27T07:24:35.459Z"
      },
      {
        "duration": 477,
        "start_time": "2022-04-27T07:24:35.477Z"
      },
      {
        "duration": 56,
        "start_time": "2022-04-27T07:24:35.956Z"
      },
      {
        "duration": 152,
        "start_time": "2022-04-27T07:24:36.013Z"
      },
      {
        "duration": 7,
        "start_time": "2022-04-27T07:24:36.167Z"
      },
      {
        "duration": 169,
        "start_time": "2022-04-27T07:24:36.176Z"
      },
      {
        "duration": 143,
        "start_time": "2022-04-27T07:24:36.347Z"
      },
      {
        "duration": 7,
        "start_time": "2022-04-27T07:24:36.492Z"
      },
      {
        "duration": 46,
        "start_time": "2022-04-27T07:24:36.500Z"
      },
      {
        "duration": 144,
        "start_time": "2022-04-27T07:24:36.548Z"
      },
      {
        "duration": 140,
        "start_time": "2022-04-27T07:24:36.694Z"
      },
      {
        "duration": 7,
        "start_time": "2022-04-27T07:24:36.837Z"
      },
      {
        "duration": 140,
        "start_time": "2022-04-27T07:24:36.845Z"
      },
      {
        "duration": 210,
        "start_time": "2022-04-27T07:24:36.987Z"
      },
      {
        "duration": 8,
        "start_time": "2022-04-27T07:24:37.201Z"
      },
      {
        "duration": 17,
        "start_time": "2022-04-27T07:24:37.210Z"
      },
      {
        "duration": 147,
        "start_time": "2022-04-27T07:24:37.229Z"
      },
      {
        "duration": 124,
        "start_time": "2022-04-27T07:24:37.379Z"
      },
      {
        "duration": 19,
        "start_time": "2022-04-27T07:24:37.505Z"
      },
      {
        "duration": 6,
        "start_time": "2022-04-27T07:24:37.526Z"
      },
      {
        "duration": 16,
        "start_time": "2022-04-27T07:24:37.534Z"
      },
      {
        "duration": 11,
        "start_time": "2022-04-27T07:24:37.552Z"
      },
      {
        "duration": 9,
        "start_time": "2022-04-27T07:24:37.564Z"
      },
      {
        "duration": 9,
        "start_time": "2022-04-27T07:24:37.574Z"
      },
      {
        "duration": 6,
        "start_time": "2022-04-27T07:24:37.584Z"
      },
      {
        "duration": 7,
        "start_time": "2022-04-27T07:24:37.627Z"
      },
      {
        "duration": 11,
        "start_time": "2022-04-27T07:24:37.636Z"
      },
      {
        "duration": 11,
        "start_time": "2022-04-27T07:24:37.649Z"
      },
      {
        "duration": 162,
        "start_time": "2022-04-27T07:24:37.661Z"
      },
      {
        "duration": 20,
        "start_time": "2022-04-27T07:24:37.827Z"
      },
      {
        "duration": 167,
        "start_time": "2022-04-27T07:24:37.849Z"
      },
      {
        "duration": 17,
        "start_time": "2022-04-27T07:24:38.018Z"
      },
      {
        "duration": 165,
        "start_time": "2022-04-27T07:24:38.037Z"
      },
      {
        "duration": 23,
        "start_time": "2022-04-27T07:24:38.204Z"
      },
      {
        "duration": 174,
        "start_time": "2022-04-27T07:24:38.229Z"
      },
      {
        "duration": 12,
        "start_time": "2022-04-27T07:24:38.405Z"
      },
      {
        "duration": 128,
        "start_time": "2022-04-27T07:24:38.424Z"
      },
      {
        "duration": 0,
        "start_time": "2022-04-27T07:24:38.553Z"
      },
      {
        "duration": 0,
        "start_time": "2022-04-27T07:24:38.555Z"
      },
      {
        "duration": 4,
        "start_time": "2022-04-27T07:25:01.066Z"
      },
      {
        "duration": 126,
        "start_time": "2022-04-27T07:25:21.702Z"
      },
      {
        "duration": 5,
        "start_time": "2022-04-27T07:25:30.726Z"
      },
      {
        "duration": 93,
        "start_time": "2022-04-27T07:25:54.730Z"
      },
      {
        "duration": 17,
        "start_time": "2022-04-27T07:26:04.145Z"
      },
      {
        "duration": 17,
        "start_time": "2022-04-27T07:26:25.314Z"
      },
      {
        "duration": 10,
        "start_time": "2022-04-27T07:26:28.847Z"
      },
      {
        "duration": 8,
        "start_time": "2022-04-27T07:28:03.852Z"
      },
      {
        "duration": 4,
        "start_time": "2022-04-27T07:30:44.582Z"
      },
      {
        "duration": 5,
        "start_time": "2022-04-27T07:31:39.282Z"
      },
      {
        "duration": 5,
        "start_time": "2022-04-27T07:31:48.294Z"
      },
      {
        "duration": 7,
        "start_time": "2022-04-27T07:32:14.076Z"
      },
      {
        "duration": 9,
        "start_time": "2022-04-27T07:35:32.670Z"
      },
      {
        "duration": 3,
        "start_time": "2022-04-27T07:36:18.627Z"
      },
      {
        "duration": 38,
        "start_time": "2022-04-27T07:36:27.997Z"
      },
      {
        "duration": 4,
        "start_time": "2022-04-27T07:36:41.905Z"
      },
      {
        "duration": 6,
        "start_time": "2022-04-27T07:37:39.532Z"
      },
      {
        "duration": 5,
        "start_time": "2022-04-27T07:37:48.009Z"
      },
      {
        "duration": 2,
        "start_time": "2022-04-27T07:38:00.278Z"
      },
      {
        "duration": 11,
        "start_time": "2022-04-27T07:38:19.814Z"
      },
      {
        "duration": 7,
        "start_time": "2022-04-27T07:38:31.204Z"
      },
      {
        "duration": 3,
        "start_time": "2022-04-27T07:39:02.803Z"
      },
      {
        "duration": 120,
        "start_time": "2022-04-27T07:39:02.808Z"
      },
      {
        "duration": 13,
        "start_time": "2022-04-27T07:39:02.930Z"
      },
      {
        "duration": 3,
        "start_time": "2022-04-27T07:39:02.945Z"
      },
      {
        "duration": 9,
        "start_time": "2022-04-27T07:39:02.950Z"
      },
      {
        "duration": 21,
        "start_time": "2022-04-27T07:39:02.960Z"
      },
      {
        "duration": 43,
        "start_time": "2022-04-27T07:39:02.983Z"
      },
      {
        "duration": 5,
        "start_time": "2022-04-27T07:39:03.027Z"
      },
      {
        "duration": 47,
        "start_time": "2022-04-27T07:39:03.033Z"
      },
      {
        "duration": 6,
        "start_time": "2022-04-27T07:39:03.082Z"
      },
      {
        "duration": 13,
        "start_time": "2022-04-27T07:39:03.090Z"
      },
      {
        "duration": 13,
        "start_time": "2022-04-27T07:39:03.124Z"
      },
      {
        "duration": 13,
        "start_time": "2022-04-27T07:39:03.139Z"
      },
      {
        "duration": 16,
        "start_time": "2022-04-27T07:39:03.154Z"
      },
      {
        "duration": 365,
        "start_time": "2022-04-27T07:39:03.172Z"
      },
      {
        "duration": 37,
        "start_time": "2022-04-27T07:39:03.539Z"
      },
      {
        "duration": 124,
        "start_time": "2022-04-27T07:39:03.578Z"
      },
      {
        "duration": 7,
        "start_time": "2022-04-27T07:39:03.704Z"
      },
      {
        "duration": 150,
        "start_time": "2022-04-27T07:39:03.713Z"
      },
      {
        "duration": 137,
        "start_time": "2022-04-27T07:39:03.865Z"
      },
      {
        "duration": 20,
        "start_time": "2022-04-27T07:39:04.004Z"
      },
      {
        "duration": 27,
        "start_time": "2022-04-27T07:39:04.026Z"
      },
      {
        "duration": 142,
        "start_time": "2022-04-27T07:39:04.055Z"
      },
      {
        "duration": 134,
        "start_time": "2022-04-27T07:39:04.198Z"
      },
      {
        "duration": 6,
        "start_time": "2022-04-27T07:39:04.333Z"
      },
      {
        "duration": 143,
        "start_time": "2022-04-27T07:39:04.341Z"
      },
      {
        "duration": 128,
        "start_time": "2022-04-27T07:39:04.485Z"
      },
      {
        "duration": 14,
        "start_time": "2022-04-27T07:39:04.615Z"
      },
      {
        "duration": 6,
        "start_time": "2022-04-27T07:39:04.632Z"
      },
      {
        "duration": 145,
        "start_time": "2022-04-27T07:39:04.639Z"
      },
      {
        "duration": 115,
        "start_time": "2022-04-27T07:39:04.785Z"
      },
      {
        "duration": 5,
        "start_time": "2022-04-27T07:39:04.902Z"
      },
      {
        "duration": 18,
        "start_time": "2022-04-27T07:39:04.908Z"
      },
      {
        "duration": 4,
        "start_time": "2022-04-27T07:39:04.928Z"
      },
      {
        "duration": 7,
        "start_time": "2022-04-27T07:39:04.934Z"
      },
      {
        "duration": 4,
        "start_time": "2022-04-27T07:39:04.943Z"
      },
      {
        "duration": 22,
        "start_time": "2022-04-27T07:39:04.948Z"
      },
      {
        "duration": 9,
        "start_time": "2022-04-27T07:39:04.971Z"
      },
      {
        "duration": 11,
        "start_time": "2022-04-27T07:39:04.982Z"
      },
      {
        "duration": 9,
        "start_time": "2022-04-27T07:39:04.995Z"
      },
      {
        "duration": 6,
        "start_time": "2022-04-27T07:39:05.023Z"
      },
      {
        "duration": 6,
        "start_time": "2022-04-27T07:39:05.030Z"
      },
      {
        "duration": 7,
        "start_time": "2022-04-27T07:39:05.037Z"
      },
      {
        "duration": 23,
        "start_time": "2022-04-27T07:39:05.045Z"
      },
      {
        "duration": 148,
        "start_time": "2022-04-27T07:39:05.069Z"
      },
      {
        "duration": 12,
        "start_time": "2022-04-27T07:39:05.223Z"
      },
      {
        "duration": 172,
        "start_time": "2022-04-27T07:39:05.237Z"
      },
      {
        "duration": 22,
        "start_time": "2022-04-27T07:39:05.411Z"
      },
      {
        "duration": 166,
        "start_time": "2022-04-27T07:39:05.434Z"
      },
      {
        "duration": 22,
        "start_time": "2022-04-27T07:39:05.602Z"
      },
      {
        "duration": 170,
        "start_time": "2022-04-27T07:39:05.626Z"
      },
      {
        "duration": 14,
        "start_time": "2022-04-27T07:39:05.797Z"
      },
      {
        "duration": 5,
        "start_time": "2022-04-27T07:39:05.824Z"
      },
      {
        "duration": 15,
        "start_time": "2022-04-27T07:39:05.830Z"
      },
      {
        "duration": 0,
        "start_time": "2022-04-27T07:39:05.846Z"
      },
      {
        "duration": 0,
        "start_time": "2022-04-27T07:39:05.848Z"
      },
      {
        "duration": 16,
        "start_time": "2022-04-27T07:39:24.581Z"
      },
      {
        "duration": 10,
        "start_time": "2022-04-27T07:39:24.903Z"
      },
      {
        "duration": 2,
        "start_time": "2022-04-27T07:39:47.521Z"
      },
      {
        "duration": 18,
        "start_time": "2022-04-27T07:39:47.933Z"
      },
      {
        "duration": 11,
        "start_time": "2022-04-27T07:39:51.037Z"
      },
      {
        "duration": 5,
        "start_time": "2022-04-27T07:40:27.269Z"
      },
      {
        "duration": 2,
        "start_time": "2022-04-27T07:41:11.704Z"
      },
      {
        "duration": 126,
        "start_time": "2022-04-27T07:41:11.709Z"
      },
      {
        "duration": 14,
        "start_time": "2022-04-27T07:41:11.837Z"
      },
      {
        "duration": 4,
        "start_time": "2022-04-27T07:41:11.852Z"
      },
      {
        "duration": 10,
        "start_time": "2022-04-27T07:41:11.858Z"
      },
      {
        "duration": 55,
        "start_time": "2022-04-27T07:41:11.870Z"
      },
      {
        "duration": 5,
        "start_time": "2022-04-27T07:41:11.926Z"
      },
      {
        "duration": 6,
        "start_time": "2022-04-27T07:41:11.933Z"
      },
      {
        "duration": 56,
        "start_time": "2022-04-27T07:41:11.941Z"
      },
      {
        "duration": 6,
        "start_time": "2022-04-27T07:41:11.998Z"
      },
      {
        "duration": 9,
        "start_time": "2022-04-27T07:41:12.023Z"
      },
      {
        "duration": 17,
        "start_time": "2022-04-27T07:41:12.033Z"
      },
      {
        "duration": 14,
        "start_time": "2022-04-27T07:41:12.052Z"
      },
      {
        "duration": 16,
        "start_time": "2022-04-27T07:41:12.067Z"
      },
      {
        "duration": 552,
        "start_time": "2022-04-27T07:41:12.085Z"
      },
      {
        "duration": 63,
        "start_time": "2022-04-27T07:41:12.640Z"
      },
      {
        "duration": 128,
        "start_time": "2022-04-27T07:41:12.705Z"
      },
      {
        "duration": 9,
        "start_time": "2022-04-27T07:41:12.834Z"
      },
      {
        "duration": 168,
        "start_time": "2022-04-27T07:41:12.845Z"
      },
      {
        "duration": 153,
        "start_time": "2022-04-27T07:41:13.014Z"
      },
      {
        "duration": 8,
        "start_time": "2022-04-27T07:41:13.169Z"
      },
      {
        "duration": 48,
        "start_time": "2022-04-27T07:41:13.180Z"
      },
      {
        "duration": 138,
        "start_time": "2022-04-27T07:41:13.230Z"
      },
      {
        "duration": 134,
        "start_time": "2022-04-27T07:41:13.370Z"
      },
      {
        "duration": 6,
        "start_time": "2022-04-27T07:41:13.506Z"
      },
      {
        "duration": 135,
        "start_time": "2022-04-27T07:41:13.524Z"
      },
      {
        "duration": 136,
        "start_time": "2022-04-27T07:41:13.660Z"
      },
      {
        "duration": 7,
        "start_time": "2022-04-27T07:41:13.797Z"
      },
      {
        "duration": 19,
        "start_time": "2022-04-27T07:41:13.809Z"
      },
      {
        "duration": 148,
        "start_time": "2022-04-27T07:41:13.829Z"
      },
      {
        "duration": 145,
        "start_time": "2022-04-27T07:41:13.979Z"
      },
      {
        "duration": 6,
        "start_time": "2022-04-27T07:41:14.125Z"
      },
      {
        "duration": 14,
        "start_time": "2022-04-27T07:41:14.134Z"
      },
      {
        "duration": 17,
        "start_time": "2022-04-27T07:41:14.150Z"
      },
      {
        "duration": 16,
        "start_time": "2022-04-27T07:41:14.169Z"
      },
      {
        "duration": 12,
        "start_time": "2022-04-27T07:41:14.186Z"
      },
      {
        "duration": 16,
        "start_time": "2022-04-27T07:41:14.199Z"
      },
      {
        "duration": 9,
        "start_time": "2022-04-27T07:41:14.217Z"
      },
      {
        "duration": 15,
        "start_time": "2022-04-27T07:41:14.228Z"
      },
      {
        "duration": 12,
        "start_time": "2022-04-27T07:41:14.246Z"
      },
      {
        "duration": 12,
        "start_time": "2022-04-27T07:41:14.260Z"
      },
      {
        "duration": 16,
        "start_time": "2022-04-27T07:41:14.274Z"
      },
      {
        "duration": 22,
        "start_time": "2022-04-27T07:41:14.291Z"
      },
      {
        "duration": 6,
        "start_time": "2022-04-27T07:41:14.314Z"
      },
      {
        "duration": 179,
        "start_time": "2022-04-27T07:41:14.321Z"
      },
      {
        "duration": 14,
        "start_time": "2022-04-27T07:41:14.501Z"
      },
      {
        "duration": 174,
        "start_time": "2022-04-27T07:41:14.524Z"
      },
      {
        "duration": 12,
        "start_time": "2022-04-27T07:41:14.700Z"
      },
      {
        "duration": 175,
        "start_time": "2022-04-27T07:41:14.724Z"
      },
      {
        "duration": 23,
        "start_time": "2022-04-27T07:41:14.901Z"
      },
      {
        "duration": 194,
        "start_time": "2022-04-27T07:41:14.926Z"
      },
      {
        "duration": 17,
        "start_time": "2022-04-27T07:41:15.124Z"
      },
      {
        "duration": 2,
        "start_time": "2022-04-27T07:41:15.143Z"
      },
      {
        "duration": 20,
        "start_time": "2022-04-27T07:41:15.147Z"
      },
      {
        "duration": 11,
        "start_time": "2022-04-27T07:41:15.169Z"
      },
      {
        "duration": 5,
        "start_time": "2022-04-27T07:41:31.841Z"
      },
      {
        "duration": 26,
        "start_time": "2022-04-27T07:41:32.279Z"
      },
      {
        "duration": 9,
        "start_time": "2022-04-27T07:41:37.546Z"
      },
      {
        "duration": 2,
        "start_time": "2022-04-27T07:42:02.902Z"
      },
      {
        "duration": 19,
        "start_time": "2022-04-27T07:42:03.528Z"
      },
      {
        "duration": 12,
        "start_time": "2022-04-27T07:42:05.373Z"
      },
      {
        "duration": 2,
        "start_time": "2022-04-27T07:42:10.499Z"
      },
      {
        "duration": 101,
        "start_time": "2022-04-27T07:42:10.503Z"
      },
      {
        "duration": 14,
        "start_time": "2022-04-27T07:42:10.623Z"
      },
      {
        "duration": 4,
        "start_time": "2022-04-27T07:42:10.639Z"
      },
      {
        "duration": 9,
        "start_time": "2022-04-27T07:42:10.646Z"
      },
      {
        "duration": 23,
        "start_time": "2022-04-27T07:42:10.657Z"
      },
      {
        "duration": 5,
        "start_time": "2022-04-27T07:42:10.681Z"
      },
      {
        "duration": 39,
        "start_time": "2022-04-27T07:42:10.687Z"
      },
      {
        "duration": 48,
        "start_time": "2022-04-27T07:42:10.728Z"
      },
      {
        "duration": 7,
        "start_time": "2022-04-27T07:42:10.778Z"
      },
      {
        "duration": 9,
        "start_time": "2022-04-27T07:42:10.787Z"
      },
      {
        "duration": 38,
        "start_time": "2022-04-27T07:42:10.798Z"
      },
      {
        "duration": 13,
        "start_time": "2022-04-27T07:42:10.839Z"
      },
      {
        "duration": 15,
        "start_time": "2022-04-27T07:42:10.857Z"
      },
      {
        "duration": 407,
        "start_time": "2022-04-27T07:42:10.874Z"
      },
      {
        "duration": 46,
        "start_time": "2022-04-27T07:42:11.283Z"
      },
      {
        "duration": 121,
        "start_time": "2022-04-27T07:42:11.332Z"
      },
      {
        "duration": 8,
        "start_time": "2022-04-27T07:42:11.455Z"
      },
      {
        "duration": 161,
        "start_time": "2022-04-27T07:42:11.465Z"
      },
      {
        "duration": 142,
        "start_time": "2022-04-27T07:42:11.627Z"
      },
      {
        "duration": 8,
        "start_time": "2022-04-27T07:42:11.771Z"
      },
      {
        "duration": 27,
        "start_time": "2022-04-27T07:42:11.781Z"
      },
      {
        "duration": 216,
        "start_time": "2022-04-27T07:42:11.824Z"
      },
      {
        "duration": 158,
        "start_time": "2022-04-27T07:42:12.042Z"
      },
      {
        "duration": 7,
        "start_time": "2022-04-27T07:42:12.202Z"
      },
      {
        "duration": 178,
        "start_time": "2022-04-27T07:42:12.210Z"
      },
      {
        "duration": 133,
        "start_time": "2022-04-27T07:42:12.390Z"
      },
      {
        "duration": 7,
        "start_time": "2022-04-27T07:42:12.525Z"
      },
      {
        "duration": 8,
        "start_time": "2022-04-27T07:42:12.534Z"
      },
      {
        "duration": 143,
        "start_time": "2022-04-27T07:42:12.544Z"
      },
      {
        "duration": 124,
        "start_time": "2022-04-27T07:42:12.688Z"
      },
      {
        "duration": 12,
        "start_time": "2022-04-27T07:42:12.814Z"
      },
      {
        "duration": 12,
        "start_time": "2022-04-27T07:42:12.827Z"
      },
      {
        "duration": 10,
        "start_time": "2022-04-27T07:42:12.840Z"
      },
      {
        "duration": 4,
        "start_time": "2022-04-27T07:42:12.852Z"
      },
      {
        "duration": 4,
        "start_time": "2022-04-27T07:42:12.857Z"
      },
      {
        "duration": 12,
        "start_time": "2022-04-27T07:42:12.863Z"
      },
      {
        "duration": 11,
        "start_time": "2022-04-27T07:42:12.877Z"
      },
      {
        "duration": 9,
        "start_time": "2022-04-27T07:42:12.890Z"
      },
      {
        "duration": 9,
        "start_time": "2022-04-27T07:42:12.923Z"
      },
      {
        "duration": 6,
        "start_time": "2022-04-27T07:42:12.937Z"
      },
      {
        "duration": 6,
        "start_time": "2022-04-27T07:42:12.945Z"
      },
      {
        "duration": 6,
        "start_time": "2022-04-27T07:42:12.953Z"
      },
      {
        "duration": 6,
        "start_time": "2022-04-27T07:42:12.961Z"
      },
      {
        "duration": 191,
        "start_time": "2022-04-27T07:42:12.969Z"
      },
      {
        "duration": 14,
        "start_time": "2022-04-27T07:42:13.163Z"
      },
      {
        "duration": 174,
        "start_time": "2022-04-27T07:42:13.178Z"
      },
      {
        "duration": 14,
        "start_time": "2022-04-27T07:42:13.354Z"
      },
      {
        "duration": 175,
        "start_time": "2022-04-27T07:42:13.370Z"
      },
      {
        "duration": 14,
        "start_time": "2022-04-27T07:42:13.547Z"
      },
      {
        "duration": 177,
        "start_time": "2022-04-27T07:42:13.563Z"
      },
      {
        "duration": 13,
        "start_time": "2022-04-27T07:42:13.742Z"
      },
      {
        "duration": 2,
        "start_time": "2022-04-27T07:42:13.756Z"
      },
      {
        "duration": 20,
        "start_time": "2022-04-27T07:42:13.760Z"
      },
      {
        "duration": 10,
        "start_time": "2022-04-27T07:42:13.782Z"
      },
      {
        "duration": 16,
        "start_time": "2022-04-27T07:44:13.240Z"
      },
      {
        "duration": 134,
        "start_time": "2022-04-27T07:45:04.618Z"
      },
      {
        "duration": 4,
        "start_time": "2022-04-27T07:46:17.649Z"
      },
      {
        "duration": 18,
        "start_time": "2022-04-27T07:46:45.275Z"
      },
      {
        "duration": 3,
        "start_time": "2022-04-27T07:46:50.904Z"
      },
      {
        "duration": 130,
        "start_time": "2022-04-27T07:46:50.910Z"
      },
      {
        "duration": 16,
        "start_time": "2022-04-27T07:46:51.043Z"
      },
      {
        "duration": 5,
        "start_time": "2022-04-27T07:46:51.061Z"
      },
      {
        "duration": 10,
        "start_time": "2022-04-27T07:46:51.068Z"
      },
      {
        "duration": 65,
        "start_time": "2022-04-27T07:46:51.080Z"
      },
      {
        "duration": 4,
        "start_time": "2022-04-27T07:46:51.147Z"
      },
      {
        "duration": 4,
        "start_time": "2022-04-27T07:46:51.153Z"
      },
      {
        "duration": 72,
        "start_time": "2022-04-27T07:46:51.159Z"
      },
      {
        "duration": 6,
        "start_time": "2022-04-27T07:46:51.232Z"
      },
      {
        "duration": 9,
        "start_time": "2022-04-27T07:46:51.241Z"
      },
      {
        "duration": 13,
        "start_time": "2022-04-27T07:46:51.252Z"
      },
      {
        "duration": 13,
        "start_time": "2022-04-27T07:46:51.267Z"
      },
      {
        "duration": 46,
        "start_time": "2022-04-27T07:46:51.282Z"
      },
      {
        "duration": 281,
        "start_time": "2022-04-27T07:46:51.329Z"
      },
      {
        "duration": 40,
        "start_time": "2022-04-27T07:46:51.611Z"
      },
      {
        "duration": 120,
        "start_time": "2022-04-27T07:46:51.653Z"
      },
      {
        "duration": 8,
        "start_time": "2022-04-27T07:46:51.775Z"
      },
      {
        "duration": 158,
        "start_time": "2022-04-27T07:46:51.785Z"
      },
      {
        "duration": 133,
        "start_time": "2022-04-27T07:46:51.945Z"
      },
      {
        "duration": 8,
        "start_time": "2022-04-27T07:46:52.079Z"
      },
      {
        "duration": 41,
        "start_time": "2022-04-27T07:46:52.089Z"
      },
      {
        "duration": 149,
        "start_time": "2022-04-27T07:46:52.132Z"
      },
      {
        "duration": 136,
        "start_time": "2022-04-27T07:46:52.283Z"
      },
      {
        "duration": 7,
        "start_time": "2022-04-27T07:46:52.424Z"
      },
      {
        "duration": 144,
        "start_time": "2022-04-27T07:46:52.433Z"
      },
      {
        "duration": 136,
        "start_time": "2022-04-27T07:46:52.579Z"
      },
      {
        "duration": 11,
        "start_time": "2022-04-27T07:46:52.717Z"
      },
      {
        "duration": 6,
        "start_time": "2022-04-27T07:46:52.732Z"
      },
      {
        "duration": 174,
        "start_time": "2022-04-27T07:46:52.740Z"
      },
      {
        "duration": 123,
        "start_time": "2022-04-27T07:46:52.916Z"
      },
      {
        "duration": 5,
        "start_time": "2022-04-27T07:46:53.040Z"
      },
      {
        "duration": 5,
        "start_time": "2022-04-27T07:46:53.046Z"
      },
      {
        "duration": 13,
        "start_time": "2022-04-27T07:46:53.053Z"
      },
      {
        "duration": 15,
        "start_time": "2022-04-27T07:46:53.068Z"
      },
      {
        "duration": 40,
        "start_time": "2022-04-27T07:46:53.085Z"
      },
      {
        "duration": 13,
        "start_time": "2022-04-27T07:46:53.127Z"
      },
      {
        "duration": 7,
        "start_time": "2022-04-27T07:46:53.142Z"
      },
      {
        "duration": 6,
        "start_time": "2022-04-27T07:46:53.151Z"
      },
      {
        "duration": 6,
        "start_time": "2022-04-27T07:46:53.159Z"
      },
      {
        "duration": 7,
        "start_time": "2022-04-27T07:46:53.167Z"
      },
      {
        "duration": 251,
        "start_time": "2022-04-27T07:46:53.175Z"
      },
      {
        "duration": 13,
        "start_time": "2022-04-27T07:46:53.428Z"
      },
      {
        "duration": 179,
        "start_time": "2022-04-27T07:46:53.442Z"
      },
      {
        "duration": 13,
        "start_time": "2022-04-27T07:46:53.623Z"
      },
      {
        "duration": 168,
        "start_time": "2022-04-27T07:46:53.637Z"
      },
      {
        "duration": 22,
        "start_time": "2022-04-27T07:46:53.806Z"
      },
      {
        "duration": 178,
        "start_time": "2022-04-27T07:46:53.829Z"
      },
      {
        "duration": 21,
        "start_time": "2022-04-27T07:46:54.009Z"
      },
      {
        "duration": 16,
        "start_time": "2022-04-27T07:46:54.032Z"
      },
      {
        "duration": 9,
        "start_time": "2022-04-27T07:46:54.049Z"
      },
      {
        "duration": 11,
        "start_time": "2022-04-27T07:49:28.370Z"
      },
      {
        "duration": 10,
        "start_time": "2022-04-27T07:49:40.183Z"
      },
      {
        "duration": 105,
        "start_time": "2022-04-27T07:50:06.066Z"
      },
      {
        "duration": 88,
        "start_time": "2022-04-27T07:51:48.188Z"
      },
      {
        "duration": 112,
        "start_time": "2022-04-27T07:51:56.361Z"
      },
      {
        "duration": 10,
        "start_time": "2022-04-27T07:52:20.479Z"
      },
      {
        "duration": 107,
        "start_time": "2022-04-27T07:52:21.938Z"
      },
      {
        "duration": 253,
        "start_time": "2022-04-27T07:56:20.964Z"
      },
      {
        "duration": 135,
        "start_time": "2022-04-27T07:59:01.155Z"
      },
      {
        "duration": 156,
        "start_time": "2022-04-27T08:00:24.208Z"
      },
      {
        "duration": 148,
        "start_time": "2022-04-27T08:00:29.892Z"
      },
      {
        "duration": 183,
        "start_time": "2022-04-27T08:00:36.004Z"
      },
      {
        "duration": 139,
        "start_time": "2022-04-27T08:01:45.360Z"
      },
      {
        "duration": 2125,
        "start_time": "2022-04-27T08:01:52.071Z"
      },
      {
        "duration": 136,
        "start_time": "2022-04-27T08:02:02.775Z"
      },
      {
        "duration": 141,
        "start_time": "2022-04-27T08:06:25.301Z"
      },
      {
        "duration": 130,
        "start_time": "2022-04-27T08:06:40.366Z"
      },
      {
        "duration": 136,
        "start_time": "2022-04-27T08:06:50.104Z"
      },
      {
        "duration": 144,
        "start_time": "2022-04-27T08:06:56.892Z"
      },
      {
        "duration": 126,
        "start_time": "2022-04-27T08:07:22.461Z"
      },
      {
        "duration": 124,
        "start_time": "2022-04-27T08:07:28.813Z"
      },
      {
        "duration": 34,
        "start_time": "2022-04-27T08:13:24.083Z"
      },
      {
        "duration": 10,
        "start_time": "2022-04-27T08:14:53.841Z"
      },
      {
        "duration": 41,
        "start_time": "2022-04-27T08:15:00.286Z"
      },
      {
        "duration": 2,
        "start_time": "2022-04-27T08:28:04.964Z"
      },
      {
        "duration": 6,
        "start_time": "2022-04-27T08:28:13.829Z"
      },
      {
        "duration": 2438,
        "start_time": "2022-04-27T08:43:12.927Z"
      },
      {
        "duration": 2315,
        "start_time": "2022-04-27T08:43:25.369Z"
      },
      {
        "duration": 11,
        "start_time": "2022-04-27T08:43:37.607Z"
      },
      {
        "duration": 13,
        "start_time": "2022-04-27T08:44:18.885Z"
      },
      {
        "duration": 20,
        "start_time": "2022-04-27T08:44:56.727Z"
      },
      {
        "duration": 17,
        "start_time": "2022-04-27T08:46:50.641Z"
      },
      {
        "duration": 16,
        "start_time": "2022-04-27T08:47:05.284Z"
      },
      {
        "duration": 3,
        "start_time": "2022-04-27T08:48:36.539Z"
      },
      {
        "duration": 12,
        "start_time": "2022-04-27T08:48:45.768Z"
      },
      {
        "duration": 11,
        "start_time": "2022-04-27T08:49:25.969Z"
      },
      {
        "duration": 17,
        "start_time": "2022-04-27T08:49:31.428Z"
      },
      {
        "duration": 13,
        "start_time": "2022-04-27T08:49:33.764Z"
      },
      {
        "duration": 11,
        "start_time": "2022-04-27T08:49:36.463Z"
      },
      {
        "duration": 16,
        "start_time": "2022-04-27T08:50:21.650Z"
      },
      {
        "duration": 16,
        "start_time": "2022-04-27T08:50:58.448Z"
      },
      {
        "duration": 13,
        "start_time": "2022-04-27T08:51:06.083Z"
      },
      {
        "duration": 14,
        "start_time": "2022-04-27T08:51:27.796Z"
      },
      {
        "duration": 13,
        "start_time": "2022-04-27T08:51:31.885Z"
      },
      {
        "duration": 13,
        "start_time": "2022-04-27T08:52:18.449Z"
      },
      {
        "duration": 17,
        "start_time": "2022-04-27T08:52:52.453Z"
      },
      {
        "duration": 11,
        "start_time": "2022-04-27T08:54:03.562Z"
      },
      {
        "duration": 11,
        "start_time": "2022-04-27T08:55:40.238Z"
      },
      {
        "duration": 7,
        "start_time": "2022-04-27T08:55:46.177Z"
      },
      {
        "duration": 12,
        "start_time": "2022-04-27T09:02:01.452Z"
      },
      {
        "duration": 13,
        "start_time": "2022-04-27T09:02:22.769Z"
      },
      {
        "duration": 13,
        "start_time": "2022-04-27T09:02:26.759Z"
      },
      {
        "duration": 7,
        "start_time": "2022-04-27T09:02:36.551Z"
      },
      {
        "duration": 15,
        "start_time": "2022-04-27T09:02:41.855Z"
      },
      {
        "duration": 13,
        "start_time": "2022-04-27T09:02:51.579Z"
      },
      {
        "duration": 13,
        "start_time": "2022-04-27T09:02:55.471Z"
      },
      {
        "duration": 2,
        "start_time": "2022-04-27T09:03:38.520Z"
      },
      {
        "duration": 14,
        "start_time": "2022-04-27T09:03:40.544Z"
      },
      {
        "duration": 3,
        "start_time": "2022-04-27T09:03:44.656Z"
      },
      {
        "duration": 104,
        "start_time": "2022-04-27T09:03:44.663Z"
      },
      {
        "duration": 13,
        "start_time": "2022-04-27T09:03:44.769Z"
      },
      {
        "duration": 4,
        "start_time": "2022-04-27T09:03:44.784Z"
      },
      {
        "duration": 14,
        "start_time": "2022-04-27T09:03:44.789Z"
      },
      {
        "duration": 26,
        "start_time": "2022-04-27T09:03:44.826Z"
      },
      {
        "duration": 4,
        "start_time": "2022-04-27T09:03:44.854Z"
      },
      {
        "duration": 6,
        "start_time": "2022-04-27T09:03:44.859Z"
      },
      {
        "duration": 79,
        "start_time": "2022-04-27T09:03:44.866Z"
      },
      {
        "duration": 6,
        "start_time": "2022-04-27T09:03:44.947Z"
      },
      {
        "duration": 10,
        "start_time": "2022-04-27T09:03:44.955Z"
      },
      {
        "duration": 14,
        "start_time": "2022-04-27T09:03:44.967Z"
      },
      {
        "duration": 41,
        "start_time": "2022-04-27T09:03:44.983Z"
      },
      {
        "duration": 19,
        "start_time": "2022-04-27T09:03:45.026Z"
      },
      {
        "duration": 287,
        "start_time": "2022-04-27T09:03:45.050Z"
      },
      {
        "duration": 38,
        "start_time": "2022-04-27T09:03:45.339Z"
      },
      {
        "duration": 122,
        "start_time": "2022-04-27T09:03:45.379Z"
      },
      {
        "duration": 8,
        "start_time": "2022-04-27T09:03:45.503Z"
      },
      {
        "duration": 150,
        "start_time": "2022-04-27T09:03:45.524Z"
      },
      {
        "duration": 128,
        "start_time": "2022-04-27T09:03:45.676Z"
      },
      {
        "duration": 20,
        "start_time": "2022-04-27T09:03:45.806Z"
      },
      {
        "duration": 26,
        "start_time": "2022-04-27T09:03:45.827Z"
      },
      {
        "duration": 140,
        "start_time": "2022-04-27T09:03:45.855Z"
      },
      {
        "duration": 134,
        "start_time": "2022-04-27T09:03:45.997Z"
      },
      {
        "duration": 6,
        "start_time": "2022-04-27T09:03:46.133Z"
      },
      {
        "duration": 138,
        "start_time": "2022-04-27T09:03:46.141Z"
      },
      {
        "duration": 136,
        "start_time": "2022-04-27T09:03:46.281Z"
      },
      {
        "duration": 9,
        "start_time": "2022-04-27T09:03:46.419Z"
      },
      {
        "duration": 7,
        "start_time": "2022-04-27T09:03:46.430Z"
      },
      {
        "duration": 154,
        "start_time": "2022-04-27T09:03:46.438Z"
      },
      {
        "duration": 125,
        "start_time": "2022-04-27T09:03:46.593Z"
      },
      {
        "duration": 5,
        "start_time": "2022-04-27T09:03:46.724Z"
      },
      {
        "duration": 6,
        "start_time": "2022-04-27T09:03:46.730Z"
      },
      {
        "duration": 8,
        "start_time": "2022-04-27T09:03:46.738Z"
      },
      {
        "duration": 11,
        "start_time": "2022-04-27T09:03:46.748Z"
      },
      {
        "duration": 7,
        "start_time": "2022-04-27T09:03:46.761Z"
      },
      {
        "duration": 9,
        "start_time": "2022-04-27T09:03:46.770Z"
      },
      {
        "duration": 46,
        "start_time": "2022-04-27T09:03:46.781Z"
      },
      {
        "duration": 6,
        "start_time": "2022-04-27T09:03:46.828Z"
      },
      {
        "duration": 7,
        "start_time": "2022-04-27T09:03:46.835Z"
      },
      {
        "duration": 5,
        "start_time": "2022-04-27T09:03:46.843Z"
      },
      {
        "duration": 173,
        "start_time": "2022-04-27T09:03:46.852Z"
      },
      {
        "duration": 12,
        "start_time": "2022-04-27T09:03:47.027Z"
      },
      {
        "duration": 170,
        "start_time": "2022-04-27T09:03:47.041Z"
      },
      {
        "duration": 19,
        "start_time": "2022-04-27T09:03:47.213Z"
      },
      {
        "duration": 308,
        "start_time": "2022-04-27T09:03:47.234Z"
      },
      {
        "duration": 13,
        "start_time": "2022-04-27T09:03:47.543Z"
      },
      {
        "duration": 159,
        "start_time": "2022-04-27T09:03:47.557Z"
      },
      {
        "duration": 14,
        "start_time": "2022-04-27T09:03:47.718Z"
      },
      {
        "duration": 15,
        "start_time": "2022-04-27T09:03:47.733Z"
      },
      {
        "duration": 9,
        "start_time": "2022-04-27T09:03:47.750Z"
      },
      {
        "duration": 144,
        "start_time": "2022-04-27T09:03:47.761Z"
      },
      {
        "duration": 48,
        "start_time": "2022-04-27T09:03:47.906Z"
      },
      {
        "duration": 15,
        "start_time": "2022-04-27T09:03:47.956Z"
      },
      {
        "duration": 6,
        "start_time": "2022-04-27T09:03:47.972Z"
      },
      {
        "duration": 9,
        "start_time": "2022-04-27T09:03:47.979Z"
      },
      {
        "duration": 12,
        "start_time": "2022-04-27T09:03:47.990Z"
      },
      {
        "duration": 14,
        "start_time": "2022-04-27T09:05:07.646Z"
      },
      {
        "duration": 6,
        "start_time": "2022-04-27T09:05:14.409Z"
      },
      {
        "duration": 13,
        "start_time": "2022-04-27T09:05:16.859Z"
      },
      {
        "duration": 2,
        "start_time": "2022-04-27T09:05:53.178Z"
      },
      {
        "duration": 13,
        "start_time": "2022-04-27T09:05:53.737Z"
      },
      {
        "duration": 3,
        "start_time": "2022-04-27T09:06:00.173Z"
      },
      {
        "duration": 125,
        "start_time": "2022-04-27T09:06:00.177Z"
      },
      {
        "duration": 31,
        "start_time": "2022-04-27T09:06:00.303Z"
      },
      {
        "duration": 4,
        "start_time": "2022-04-27T09:06:00.336Z"
      },
      {
        "duration": 19,
        "start_time": "2022-04-27T09:06:00.342Z"
      },
      {
        "duration": 23,
        "start_time": "2022-04-27T09:06:00.363Z"
      },
      {
        "duration": 3,
        "start_time": "2022-04-27T09:06:00.388Z"
      },
      {
        "duration": 31,
        "start_time": "2022-04-27T09:06:00.393Z"
      },
      {
        "duration": 46,
        "start_time": "2022-04-27T09:06:00.426Z"
      },
      {
        "duration": 6,
        "start_time": "2022-04-27T09:06:00.474Z"
      },
      {
        "duration": 14,
        "start_time": "2022-04-27T09:06:00.484Z"
      },
      {
        "duration": 34,
        "start_time": "2022-04-27T09:06:00.500Z"
      },
      {
        "duration": 23,
        "start_time": "2022-04-27T09:06:00.535Z"
      },
      {
        "duration": 24,
        "start_time": "2022-04-27T09:06:00.560Z"
      },
      {
        "duration": 272,
        "start_time": "2022-04-27T09:06:00.585Z"
      },
      {
        "duration": 35,
        "start_time": "2022-04-27T09:06:00.859Z"
      },
      {
        "duration": 130,
        "start_time": "2022-04-27T09:06:00.896Z"
      },
      {
        "duration": 6,
        "start_time": "2022-04-27T09:06:01.028Z"
      },
      {
        "duration": 159,
        "start_time": "2022-04-27T09:06:01.036Z"
      },
      {
        "duration": 146,
        "start_time": "2022-04-27T09:06:01.196Z"
      },
      {
        "duration": 8,
        "start_time": "2022-04-27T09:06:01.343Z"
      },
      {
        "duration": 44,
        "start_time": "2022-04-27T09:06:01.352Z"
      },
      {
        "duration": 141,
        "start_time": "2022-04-27T09:06:01.398Z"
      },
      {
        "duration": 137,
        "start_time": "2022-04-27T09:06:01.540Z"
      },
      {
        "duration": 6,
        "start_time": "2022-04-27T09:06:01.678Z"
      },
      {
        "duration": 150,
        "start_time": "2022-04-27T09:06:01.686Z"
      },
      {
        "duration": 134,
        "start_time": "2022-04-27T09:06:01.838Z"
      },
      {
        "duration": 7,
        "start_time": "2022-04-27T09:06:01.974Z"
      },
      {
        "duration": 87,
        "start_time": "2022-04-27T09:06:01.985Z"
      },
      {
        "duration": 233,
        "start_time": "2022-04-27T09:06:02.074Z"
      },
      {
        "duration": 124,
        "start_time": "2022-04-27T09:06:02.309Z"
      },
      {
        "duration": 5,
        "start_time": "2022-04-27T09:06:02.436Z"
      },
      {
        "duration": 20,
        "start_time": "2022-04-27T09:06:02.443Z"
      },
      {
        "duration": 52,
        "start_time": "2022-04-27T09:06:02.465Z"
      },
      {
        "duration": 10,
        "start_time": "2022-04-27T09:06:02.519Z"
      },
      {
        "duration": 11,
        "start_time": "2022-04-27T09:06:02.530Z"
      },
      {
        "duration": 13,
        "start_time": "2022-04-27T09:06:02.543Z"
      },
      {
        "duration": 6,
        "start_time": "2022-04-27T09:06:02.557Z"
      },
      {
        "duration": 8,
        "start_time": "2022-04-27T09:06:02.565Z"
      },
      {
        "duration": 11,
        "start_time": "2022-04-27T09:06:02.574Z"
      },
      {
        "duration": 6,
        "start_time": "2022-04-27T09:06:02.587Z"
      },
      {
        "duration": 168,
        "start_time": "2022-04-27T09:06:02.594Z"
      },
      {
        "duration": 13,
        "start_time": "2022-04-27T09:06:02.764Z"
      },
      {
        "duration": 235,
        "start_time": "2022-04-27T09:06:02.778Z"
      },
      {
        "duration": 22,
        "start_time": "2022-04-27T09:06:03.015Z"
      },
      {
        "duration": 247,
        "start_time": "2022-04-27T09:06:03.039Z"
      },
      {
        "duration": 14,
        "start_time": "2022-04-27T09:06:03.288Z"
      },
      {
        "duration": 171,
        "start_time": "2022-04-27T09:06:03.304Z"
      },
      {
        "duration": 13,
        "start_time": "2022-04-27T09:06:03.476Z"
      },
      {
        "duration": 34,
        "start_time": "2022-04-27T09:06:03.491Z"
      },
      {
        "duration": 11,
        "start_time": "2022-04-27T09:06:03.526Z"
      },
      {
        "duration": 139,
        "start_time": "2022-04-27T09:06:03.538Z"
      },
      {
        "duration": 46,
        "start_time": "2022-04-27T09:06:03.679Z"
      },
      {
        "duration": 17,
        "start_time": "2022-04-27T09:06:03.726Z"
      },
      {
        "duration": 6,
        "start_time": "2022-04-27T09:06:03.745Z"
      },
      {
        "duration": 7,
        "start_time": "2022-04-27T09:06:03.752Z"
      },
      {
        "duration": 12,
        "start_time": "2022-04-27T09:06:03.760Z"
      },
      {
        "duration": 6316,
        "start_time": "2022-04-27T09:08:13.351Z"
      },
      {
        "duration": 14,
        "start_time": "2022-04-27T09:08:23.858Z"
      },
      {
        "duration": 18,
        "start_time": "2022-04-27T09:08:50.676Z"
      },
      {
        "duration": 16,
        "start_time": "2022-04-27T09:08:56.659Z"
      },
      {
        "duration": 16,
        "start_time": "2022-04-27T09:10:10.469Z"
      },
      {
        "duration": 3,
        "start_time": "2022-04-27T09:10:19.539Z"
      },
      {
        "duration": 105,
        "start_time": "2022-04-27T09:10:19.544Z"
      },
      {
        "duration": 16,
        "start_time": "2022-04-27T09:10:19.652Z"
      },
      {
        "duration": 5,
        "start_time": "2022-04-27T09:10:19.670Z"
      },
      {
        "duration": 12,
        "start_time": "2022-04-27T09:10:19.677Z"
      },
      {
        "duration": 24,
        "start_time": "2022-04-27T09:10:19.724Z"
      },
      {
        "duration": 5,
        "start_time": "2022-04-27T09:10:19.750Z"
      },
      {
        "duration": 4,
        "start_time": "2022-04-27T09:10:19.756Z"
      },
      {
        "duration": 74,
        "start_time": "2022-04-27T09:10:19.762Z"
      },
      {
        "duration": 8,
        "start_time": "2022-04-27T09:10:19.838Z"
      },
      {
        "duration": 8,
        "start_time": "2022-04-27T09:10:19.849Z"
      },
      {
        "duration": 13,
        "start_time": "2022-04-27T09:10:19.859Z"
      },
      {
        "duration": 14,
        "start_time": "2022-04-27T09:10:19.873Z"
      },
      {
        "duration": 44,
        "start_time": "2022-04-27T09:10:19.888Z"
      },
      {
        "duration": 451,
        "start_time": "2022-04-27T09:10:19.933Z"
      },
      {
        "duration": 50,
        "start_time": "2022-04-27T09:10:20.385Z"
      },
      {
        "duration": 119,
        "start_time": "2022-04-27T09:10:20.438Z"
      },
      {
        "duration": 6,
        "start_time": "2022-04-27T09:10:20.559Z"
      },
      {
        "duration": 148,
        "start_time": "2022-04-27T09:10:20.567Z"
      },
      {
        "duration": 136,
        "start_time": "2022-04-27T09:10:20.717Z"
      },
      {
        "duration": 8,
        "start_time": "2022-04-27T09:10:20.854Z"
      },
      {
        "duration": 29,
        "start_time": "2022-04-27T09:10:20.864Z"
      },
      {
        "duration": 151,
        "start_time": "2022-04-27T09:10:20.895Z"
      },
      {
        "duration": 124,
        "start_time": "2022-04-27T09:10:21.048Z"
      },
      {
        "duration": 6,
        "start_time": "2022-04-27T09:10:21.174Z"
      },
      {
        "duration": 143,
        "start_time": "2022-04-27T09:10:21.182Z"
      },
      {
        "duration": 132,
        "start_time": "2022-04-27T09:10:21.327Z"
      },
      {
        "duration": 7,
        "start_time": "2022-04-27T09:10:21.461Z"
      },
      {
        "duration": 6,
        "start_time": "2022-04-27T09:10:21.471Z"
      },
      {
        "duration": 146,
        "start_time": "2022-04-27T09:10:21.478Z"
      },
      {
        "duration": 120,
        "start_time": "2022-04-27T09:10:21.625Z"
      },
      {
        "duration": 5,
        "start_time": "2022-04-27T09:10:21.746Z"
      },
      {
        "duration": 7,
        "start_time": "2022-04-27T09:10:21.753Z"
      },
      {
        "duration": 9,
        "start_time": "2022-04-27T09:10:21.761Z"
      },
      {
        "duration": 9,
        "start_time": "2022-04-27T09:10:21.771Z"
      },
      {
        "duration": 7,
        "start_time": "2022-04-27T09:10:21.781Z"
      },
      {
        "duration": 34,
        "start_time": "2022-04-27T09:10:21.790Z"
      },
      {
        "duration": 6,
        "start_time": "2022-04-27T09:10:21.826Z"
      },
      {
        "duration": 6,
        "start_time": "2022-04-27T09:10:21.833Z"
      },
      {
        "duration": 5,
        "start_time": "2022-04-27T09:10:21.840Z"
      },
      {
        "duration": 5,
        "start_time": "2022-04-27T09:10:21.847Z"
      },
      {
        "duration": 186,
        "start_time": "2022-04-27T09:10:21.853Z"
      },
      {
        "duration": 14,
        "start_time": "2022-04-27T09:10:22.041Z"
      },
      {
        "duration": 170,
        "start_time": "2022-04-27T09:10:22.056Z"
      },
      {
        "duration": 14,
        "start_time": "2022-04-27T09:10:22.227Z"
      },
      {
        "duration": 166,
        "start_time": "2022-04-27T09:10:22.243Z"
      },
      {
        "duration": 23,
        "start_time": "2022-04-27T09:10:22.411Z"
      },
      {
        "duration": 172,
        "start_time": "2022-04-27T09:10:22.436Z"
      },
      {
        "duration": 22,
        "start_time": "2022-04-27T09:10:22.609Z"
      },
      {
        "duration": 16,
        "start_time": "2022-04-27T09:10:22.632Z"
      },
      {
        "duration": 11,
        "start_time": "2022-04-27T09:10:22.650Z"
      },
      {
        "duration": 141,
        "start_time": "2022-04-27T09:10:22.663Z"
      },
      {
        "duration": 53,
        "start_time": "2022-04-27T09:10:22.806Z"
      },
      {
        "duration": 17,
        "start_time": "2022-04-27T09:10:22.861Z"
      },
      {
        "duration": 7,
        "start_time": "2022-04-27T09:10:22.881Z"
      },
      {
        "duration": 33,
        "start_time": "2022-04-27T09:10:22.890Z"
      },
      {
        "duration": 15,
        "start_time": "2022-04-27T09:10:22.925Z"
      },
      {
        "duration": 14,
        "start_time": "2022-04-27T09:11:17.687Z"
      },
      {
        "duration": 3,
        "start_time": "2022-04-27T09:11:28.554Z"
      },
      {
        "duration": 107,
        "start_time": "2022-04-27T09:11:28.559Z"
      },
      {
        "duration": 12,
        "start_time": "2022-04-27T09:11:28.668Z"
      },
      {
        "duration": 4,
        "start_time": "2022-04-27T09:11:28.681Z"
      },
      {
        "duration": 10,
        "start_time": "2022-04-27T09:11:28.687Z"
      },
      {
        "duration": 49,
        "start_time": "2022-04-27T09:11:28.698Z"
      },
      {
        "duration": 3,
        "start_time": "2022-04-27T09:11:28.749Z"
      },
      {
        "duration": 9,
        "start_time": "2022-04-27T09:11:28.754Z"
      },
      {
        "duration": 66,
        "start_time": "2022-04-27T09:11:28.765Z"
      },
      {
        "duration": 6,
        "start_time": "2022-04-27T09:11:28.833Z"
      },
      {
        "duration": 9,
        "start_time": "2022-04-27T09:11:28.841Z"
      },
      {
        "duration": 14,
        "start_time": "2022-04-27T09:11:28.852Z"
      },
      {
        "duration": 15,
        "start_time": "2022-04-27T09:11:28.868Z"
      },
      {
        "duration": 45,
        "start_time": "2022-04-27T09:11:28.884Z"
      },
      {
        "duration": 294,
        "start_time": "2022-04-27T09:11:28.931Z"
      },
      {
        "duration": 57,
        "start_time": "2022-04-27T09:11:29.228Z"
      },
      {
        "duration": 188,
        "start_time": "2022-04-27T09:11:29.287Z"
      },
      {
        "duration": 9,
        "start_time": "2022-04-27T09:11:29.477Z"
      },
      {
        "duration": 246,
        "start_time": "2022-04-27T09:11:29.488Z"
      },
      {
        "duration": 150,
        "start_time": "2022-04-27T09:11:29.736Z"
      },
      {
        "duration": 10,
        "start_time": "2022-04-27T09:11:29.888Z"
      },
      {
        "duration": 42,
        "start_time": "2022-04-27T09:11:29.900Z"
      },
      {
        "duration": 157,
        "start_time": "2022-04-27T09:11:29.943Z"
      },
      {
        "duration": 148,
        "start_time": "2022-04-27T09:11:30.102Z"
      },
      {
        "duration": 7,
        "start_time": "2022-04-27T09:11:30.252Z"
      },
      {
        "duration": 149,
        "start_time": "2022-04-27T09:11:30.262Z"
      },
      {
        "duration": 131,
        "start_time": "2022-04-27T09:11:30.413Z"
      },
      {
        "duration": 8,
        "start_time": "2022-04-27T09:11:30.545Z"
      },
      {
        "duration": 6,
        "start_time": "2022-04-27T09:11:30.556Z"
      },
      {
        "duration": 156,
        "start_time": "2022-04-27T09:11:30.563Z"
      },
      {
        "duration": 128,
        "start_time": "2022-04-27T09:11:30.721Z"
      },
      {
        "duration": 4,
        "start_time": "2022-04-27T09:11:30.851Z"
      },
      {
        "duration": 8,
        "start_time": "2022-04-27T09:11:30.857Z"
      },
      {
        "duration": 11,
        "start_time": "2022-04-27T09:11:30.867Z"
      },
      {
        "duration": 15,
        "start_time": "2022-04-27T09:11:30.879Z"
      },
      {
        "duration": 10,
        "start_time": "2022-04-27T09:11:30.896Z"
      },
      {
        "duration": 24,
        "start_time": "2022-04-27T09:11:30.908Z"
      },
      {
        "duration": 17,
        "start_time": "2022-04-27T09:11:30.933Z"
      },
      {
        "duration": 24,
        "start_time": "2022-04-27T09:11:30.951Z"
      },
      {
        "duration": 10,
        "start_time": "2022-04-27T09:11:30.976Z"
      },
      {
        "duration": 8,
        "start_time": "2022-04-27T09:11:30.988Z"
      },
      {
        "duration": 186,
        "start_time": "2022-04-27T09:11:30.998Z"
      },
      {
        "duration": 14,
        "start_time": "2022-04-27T09:11:31.186Z"
      },
      {
        "duration": 175,
        "start_time": "2022-04-27T09:11:31.201Z"
      },
      {
        "duration": 13,
        "start_time": "2022-04-27T09:11:31.377Z"
      },
      {
        "duration": 178,
        "start_time": "2022-04-27T09:11:31.392Z"
      },
      {
        "duration": 14,
        "start_time": "2022-04-27T09:11:31.572Z"
      },
      {
        "duration": 169,
        "start_time": "2022-04-27T09:11:31.588Z"
      },
      {
        "duration": 12,
        "start_time": "2022-04-27T09:11:31.759Z"
      },
      {
        "duration": 29,
        "start_time": "2022-04-27T09:11:31.772Z"
      },
      {
        "duration": 15,
        "start_time": "2022-04-27T09:11:31.803Z"
      },
      {
        "duration": 144,
        "start_time": "2022-04-27T09:11:31.819Z"
      },
      {
        "duration": 248,
        "start_time": "2022-04-27T09:11:31.965Z"
      },
      {
        "duration": 23,
        "start_time": "2022-04-27T09:11:32.214Z"
      },
      {
        "duration": 6,
        "start_time": "2022-04-27T09:11:32.238Z"
      },
      {
        "duration": 6,
        "start_time": "2022-04-27T09:11:32.245Z"
      },
      {
        "duration": 15,
        "start_time": "2022-04-27T09:11:32.252Z"
      },
      {
        "duration": 4,
        "start_time": "2022-04-27T09:14:35.714Z"
      },
      {
        "duration": 14,
        "start_time": "2022-04-27T09:15:11.034Z"
      },
      {
        "duration": 13,
        "start_time": "2022-04-27T09:15:26.997Z"
      },
      {
        "duration": 3,
        "start_time": "2022-04-27T09:15:30.892Z"
      },
      {
        "duration": 104,
        "start_time": "2022-04-27T09:15:30.897Z"
      },
      {
        "duration": 37,
        "start_time": "2022-04-27T09:15:31.004Z"
      },
      {
        "duration": 10,
        "start_time": "2022-04-27T09:15:31.043Z"
      },
      {
        "duration": 16,
        "start_time": "2022-04-27T09:15:31.056Z"
      },
      {
        "duration": 67,
        "start_time": "2022-04-27T09:15:31.074Z"
      },
      {
        "duration": 5,
        "start_time": "2022-04-27T09:15:31.143Z"
      },
      {
        "duration": 8,
        "start_time": "2022-04-27T09:15:31.150Z"
      },
      {
        "duration": 47,
        "start_time": "2022-04-27T09:15:31.160Z"
      },
      {
        "duration": 7,
        "start_time": "2022-04-27T09:15:31.223Z"
      },
      {
        "duration": 22,
        "start_time": "2022-04-27T09:15:31.234Z"
      },
      {
        "duration": 14,
        "start_time": "2022-04-27T09:15:31.258Z"
      },
      {
        "duration": 30,
        "start_time": "2022-04-27T09:15:31.274Z"
      },
      {
        "duration": 22,
        "start_time": "2022-04-27T09:15:31.306Z"
      },
      {
        "duration": 388,
        "start_time": "2022-04-27T09:15:31.330Z"
      },
      {
        "duration": 35,
        "start_time": "2022-04-27T09:15:31.720Z"
      },
      {
        "duration": 123,
        "start_time": "2022-04-27T09:15:31.757Z"
      },
      {
        "duration": 7,
        "start_time": "2022-04-27T09:15:31.882Z"
      },
      {
        "duration": 148,
        "start_time": "2022-04-27T09:15:31.891Z"
      },
      {
        "duration": 128,
        "start_time": "2022-04-27T09:15:32.041Z"
      },
      {
        "duration": 7,
        "start_time": "2022-04-27T09:15:32.171Z"
      },
      {
        "duration": 26,
        "start_time": "2022-04-27T09:15:32.180Z"
      },
      {
        "duration": 149,
        "start_time": "2022-04-27T09:15:32.207Z"
      },
      {
        "duration": 124,
        "start_time": "2022-04-27T09:15:32.357Z"
      },
      {
        "duration": 7,
        "start_time": "2022-04-27T09:15:32.482Z"
      },
      {
        "duration": 140,
        "start_time": "2022-04-27T09:15:32.490Z"
      },
      {
        "duration": 135,
        "start_time": "2022-04-27T09:15:32.631Z"
      },
      {
        "duration": 7,
        "start_time": "2022-04-27T09:15:32.768Z"
      },
      {
        "duration": 6,
        "start_time": "2022-04-27T09:15:32.779Z"
      },
      {
        "duration": 169,
        "start_time": "2022-04-27T09:15:32.787Z"
      },
      {
        "duration": 133,
        "start_time": "2022-04-27T09:15:32.957Z"
      },
      {
        "duration": 4,
        "start_time": "2022-04-27T09:15:33.092Z"
      },
      {
        "duration": 7,
        "start_time": "2022-04-27T09:15:33.097Z"
      },
      {
        "duration": 21,
        "start_time": "2022-04-27T09:15:33.106Z"
      },
      {
        "duration": 11,
        "start_time": "2022-04-27T09:15:33.129Z"
      },
      {
        "duration": 9,
        "start_time": "2022-04-27T09:15:33.141Z"
      },
      {
        "duration": 10,
        "start_time": "2022-04-27T09:15:33.151Z"
      },
      {
        "duration": 5,
        "start_time": "2022-04-27T09:15:33.163Z"
      },
      {
        "duration": 5,
        "start_time": "2022-04-27T09:15:33.170Z"
      },
      {
        "duration": 5,
        "start_time": "2022-04-27T09:15:33.177Z"
      },
      {
        "duration": 42,
        "start_time": "2022-04-27T09:15:33.183Z"
      },
      {
        "duration": 165,
        "start_time": "2022-04-27T09:15:33.227Z"
      },
      {
        "duration": 15,
        "start_time": "2022-04-27T09:15:33.393Z"
      },
      {
        "duration": 230,
        "start_time": "2022-04-27T09:15:33.410Z"
      },
      {
        "duration": 13,
        "start_time": "2022-04-27T09:15:33.642Z"
      },
      {
        "duration": 167,
        "start_time": "2022-04-27T09:15:33.656Z"
      },
      {
        "duration": 14,
        "start_time": "2022-04-27T09:15:33.825Z"
      },
      {
        "duration": 163,
        "start_time": "2022-04-27T09:15:33.840Z"
      },
      {
        "duration": 22,
        "start_time": "2022-04-27T09:15:34.005Z"
      },
      {
        "duration": 17,
        "start_time": "2022-04-27T09:15:34.029Z"
      },
      {
        "duration": 10,
        "start_time": "2022-04-27T09:15:34.048Z"
      },
      {
        "duration": 147,
        "start_time": "2022-04-27T09:15:34.060Z"
      },
      {
        "duration": 52,
        "start_time": "2022-04-27T09:15:34.209Z"
      },
      {
        "duration": 16,
        "start_time": "2022-04-27T09:15:34.262Z"
      },
      {
        "duration": 6,
        "start_time": "2022-04-27T09:15:34.279Z"
      },
      {
        "duration": 6,
        "start_time": "2022-04-27T09:15:34.286Z"
      },
      {
        "duration": 40,
        "start_time": "2022-04-27T09:15:34.293Z"
      },
      {
        "duration": 5,
        "start_time": "2022-04-27T09:15:34.336Z"
      },
      {
        "duration": 4,
        "start_time": "2022-04-27T09:16:59.797Z"
      },
      {
        "duration": 3,
        "start_time": "2022-04-27T09:17:15.703Z"
      },
      {
        "duration": 10,
        "start_time": "2022-04-27T09:17:19.066Z"
      },
      {
        "duration": 11,
        "start_time": "2022-04-27T09:18:05.865Z"
      },
      {
        "duration": 10,
        "start_time": "2022-04-27T09:19:57.593Z"
      },
      {
        "duration": 3,
        "start_time": "2022-04-27T09:20:03.629Z"
      },
      {
        "duration": 103,
        "start_time": "2022-04-27T09:20:03.634Z"
      },
      {
        "duration": 14,
        "start_time": "2022-04-27T09:20:03.739Z"
      },
      {
        "duration": 4,
        "start_time": "2022-04-27T09:20:03.755Z"
      },
      {
        "duration": 11,
        "start_time": "2022-04-27T09:20:03.761Z"
      },
      {
        "duration": 58,
        "start_time": "2022-04-27T09:20:03.774Z"
      },
      {
        "duration": 5,
        "start_time": "2022-04-27T09:20:03.833Z"
      },
      {
        "duration": 8,
        "start_time": "2022-04-27T09:20:03.839Z"
      },
      {
        "duration": 47,
        "start_time": "2022-04-27T09:20:03.848Z"
      },
      {
        "duration": 6,
        "start_time": "2022-04-27T09:20:03.896Z"
      },
      {
        "duration": 9,
        "start_time": "2022-04-27T09:20:03.923Z"
      },
      {
        "duration": 13,
        "start_time": "2022-04-27T09:20:03.934Z"
      },
      {
        "duration": 13,
        "start_time": "2022-04-27T09:20:03.949Z"
      },
      {
        "duration": 13,
        "start_time": "2022-04-27T09:20:03.964Z"
      },
      {
        "duration": 290,
        "start_time": "2022-04-27T09:20:03.978Z"
      },
      {
        "duration": 34,
        "start_time": "2022-04-27T09:20:04.270Z"
      },
      {
        "duration": 120,
        "start_time": "2022-04-27T09:20:04.306Z"
      },
      {
        "duration": 7,
        "start_time": "2022-04-27T09:20:04.427Z"
      },
      {
        "duration": 157,
        "start_time": "2022-04-27T09:20:04.436Z"
      },
      {
        "duration": 134,
        "start_time": "2022-04-27T09:20:04.595Z"
      },
      {
        "duration": 7,
        "start_time": "2022-04-27T09:20:04.731Z"
      },
      {
        "duration": 25,
        "start_time": "2022-04-27T09:20:04.740Z"
      },
      {
        "duration": 144,
        "start_time": "2022-04-27T09:20:04.767Z"
      },
      {
        "duration": 139,
        "start_time": "2022-04-27T09:20:04.913Z"
      },
      {
        "duration": 5,
        "start_time": "2022-04-27T09:20:05.054Z"
      },
      {
        "duration": 137,
        "start_time": "2022-04-27T09:20:05.061Z"
      },
      {
        "duration": 127,
        "start_time": "2022-04-27T09:20:05.200Z"
      },
      {
        "duration": 6,
        "start_time": "2022-04-27T09:20:05.329Z"
      },
      {
        "duration": 5,
        "start_time": "2022-04-27T09:20:05.339Z"
      },
      {
        "duration": 150,
        "start_time": "2022-04-27T09:20:05.346Z"
      },
      {
        "duration": 125,
        "start_time": "2022-04-27T09:20:05.498Z"
      },
      {
        "duration": 5,
        "start_time": "2022-04-27T09:20:05.625Z"
      },
      {
        "duration": 9,
        "start_time": "2022-04-27T09:20:05.631Z"
      },
      {
        "duration": 8,
        "start_time": "2022-04-27T09:20:05.642Z"
      },
      {
        "duration": 12,
        "start_time": "2022-04-27T09:20:05.652Z"
      },
      {
        "duration": 9,
        "start_time": "2022-04-27T09:20:05.666Z"
      },
      {
        "duration": 9,
        "start_time": "2022-04-27T09:20:05.676Z"
      },
      {
        "duration": 7,
        "start_time": "2022-04-27T09:20:05.687Z"
      },
      {
        "duration": 5,
        "start_time": "2022-04-27T09:20:05.724Z"
      },
      {
        "duration": 7,
        "start_time": "2022-04-27T09:20:05.731Z"
      },
      {
        "duration": 5,
        "start_time": "2022-04-27T09:20:05.740Z"
      },
      {
        "duration": 160,
        "start_time": "2022-04-27T09:20:05.747Z"
      },
      {
        "duration": 22,
        "start_time": "2022-04-27T09:20:05.908Z"
      },
      {
        "duration": 161,
        "start_time": "2022-04-27T09:20:05.932Z"
      },
      {
        "duration": 13,
        "start_time": "2022-04-27T09:20:06.095Z"
      },
      {
        "duration": 171,
        "start_time": "2022-04-27T09:20:06.110Z"
      },
      {
        "duration": 14,
        "start_time": "2022-04-27T09:20:06.283Z"
      },
      {
        "duration": 171,
        "start_time": "2022-04-27T09:20:06.299Z"
      },
      {
        "duration": 14,
        "start_time": "2022-04-27T09:20:06.472Z"
      },
      {
        "duration": 38,
        "start_time": "2022-04-27T09:20:06.488Z"
      },
      {
        "duration": 11,
        "start_time": "2022-04-27T09:20:06.528Z"
      },
      {
        "duration": 129,
        "start_time": "2022-04-27T09:20:06.540Z"
      },
      {
        "duration": 277,
        "start_time": "2022-04-27T09:20:06.670Z"
      },
      {
        "duration": 16,
        "start_time": "2022-04-27T09:20:06.949Z"
      },
      {
        "duration": 7,
        "start_time": "2022-04-27T09:20:06.967Z"
      },
      {
        "duration": 12,
        "start_time": "2022-04-27T09:20:06.975Z"
      },
      {
        "duration": 36,
        "start_time": "2022-04-27T09:20:06.989Z"
      },
      {
        "duration": 11,
        "start_time": "2022-04-27T09:20:07.027Z"
      },
      {
        "duration": 18,
        "start_time": "2022-04-27T09:20:21.964Z"
      },
      {
        "duration": 18,
        "start_time": "2022-04-27T09:22:00.978Z"
      },
      {
        "duration": 2962,
        "start_time": "2022-04-27T09:24:07.288Z"
      },
      {
        "duration": 119,
        "start_time": "2022-04-27T09:24:24.932Z"
      },
      {
        "duration": 132,
        "start_time": "2022-04-27T09:26:02.761Z"
      },
      {
        "duration": 22,
        "start_time": "2022-04-27T10:14:39.412Z"
      },
      {
        "duration": 134,
        "start_time": "2022-04-27T10:14:46.781Z"
      },
      {
        "duration": 11,
        "start_time": "2022-04-27T10:14:52.856Z"
      },
      {
        "duration": 3,
        "start_time": "2022-04-27T10:14:57.998Z"
      },
      {
        "duration": 122,
        "start_time": "2022-04-27T10:14:58.003Z"
      },
      {
        "duration": 15,
        "start_time": "2022-04-27T10:14:58.127Z"
      },
      {
        "duration": 5,
        "start_time": "2022-04-27T10:14:58.143Z"
      },
      {
        "duration": 10,
        "start_time": "2022-04-27T10:14:58.150Z"
      },
      {
        "duration": 24,
        "start_time": "2022-04-27T10:14:58.161Z"
      },
      {
        "duration": 5,
        "start_time": "2022-04-27T10:14:58.224Z"
      },
      {
        "duration": 6,
        "start_time": "2022-04-27T10:14:58.230Z"
      },
      {
        "duration": 56,
        "start_time": "2022-04-27T10:14:58.237Z"
      },
      {
        "duration": 29,
        "start_time": "2022-04-27T10:14:58.295Z"
      },
      {
        "duration": 14,
        "start_time": "2022-04-27T10:14:58.327Z"
      },
      {
        "duration": 16,
        "start_time": "2022-04-27T10:14:58.343Z"
      },
      {
        "duration": 19,
        "start_time": "2022-04-27T10:14:58.361Z"
      },
      {
        "duration": 15,
        "start_time": "2022-04-27T10:14:58.382Z"
      },
      {
        "duration": 363,
        "start_time": "2022-04-27T10:14:58.399Z"
      },
      {
        "duration": 36,
        "start_time": "2022-04-27T10:14:58.763Z"
      },
      {
        "duration": 146,
        "start_time": "2022-04-27T10:14:58.801Z"
      },
      {
        "duration": 7,
        "start_time": "2022-04-27T10:14:58.949Z"
      },
      {
        "duration": 196,
        "start_time": "2022-04-27T10:14:58.957Z"
      },
      {
        "duration": 143,
        "start_time": "2022-04-27T10:14:59.156Z"
      },
      {
        "duration": 22,
        "start_time": "2022-04-27T10:14:59.301Z"
      },
      {
        "duration": 39,
        "start_time": "2022-04-27T10:14:59.325Z"
      },
      {
        "duration": 151,
        "start_time": "2022-04-27T10:14:59.365Z"
      },
      {
        "duration": 139,
        "start_time": "2022-04-27T10:14:59.518Z"
      },
      {
        "duration": 7,
        "start_time": "2022-04-27T10:14:59.659Z"
      },
      {
        "duration": 203,
        "start_time": "2022-04-27T10:14:59.667Z"
      },
      {
        "duration": 199,
        "start_time": "2022-04-27T10:14:59.872Z"
      },
      {
        "duration": 8,
        "start_time": "2022-04-27T10:15:00.074Z"
      },
      {
        "duration": 12,
        "start_time": "2022-04-27T10:15:00.085Z"
      },
      {
        "duration": 233,
        "start_time": "2022-04-27T10:15:00.099Z"
      },
      {
        "duration": 197,
        "start_time": "2022-04-27T10:15:00.335Z"
      },
      {
        "duration": 5,
        "start_time": "2022-04-27T10:15:00.534Z"
      },
      {
        "duration": 15,
        "start_time": "2022-04-27T10:15:00.541Z"
      },
      {
        "duration": 19,
        "start_time": "2022-04-27T10:15:00.558Z"
      },
      {
        "duration": 12,
        "start_time": "2022-04-27T10:15:00.579Z"
      },
      {
        "duration": 17,
        "start_time": "2022-04-27T10:15:00.593Z"
      },
      {
        "duration": 23,
        "start_time": "2022-04-27T10:15:00.624Z"
      },
      {
        "duration": 12,
        "start_time": "2022-04-27T10:15:00.648Z"
      },
      {
        "duration": 13,
        "start_time": "2022-04-27T10:15:00.662Z"
      },
      {
        "duration": 9,
        "start_time": "2022-04-27T10:15:00.677Z"
      },
      {
        "duration": 15,
        "start_time": "2022-04-27T10:15:00.688Z"
      },
      {
        "duration": 171,
        "start_time": "2022-04-27T10:15:00.704Z"
      },
      {
        "duration": 14,
        "start_time": "2022-04-27T10:15:00.877Z"
      },
      {
        "duration": 193,
        "start_time": "2022-04-27T10:15:00.893Z"
      },
      {
        "duration": 16,
        "start_time": "2022-04-27T10:15:01.088Z"
      },
      {
        "duration": 221,
        "start_time": "2022-04-27T10:15:01.106Z"
      },
      {
        "duration": 16,
        "start_time": "2022-04-27T10:15:01.329Z"
      },
      {
        "duration": 228,
        "start_time": "2022-04-27T10:15:01.347Z"
      },
      {
        "duration": 12,
        "start_time": "2022-04-27T10:15:01.577Z"
      },
      {
        "duration": 55,
        "start_time": "2022-04-27T10:15:01.591Z"
      },
      {
        "duration": 12,
        "start_time": "2022-04-27T10:15:01.648Z"
      },
      {
        "duration": 175,
        "start_time": "2022-04-27T10:15:01.662Z"
      },
      {
        "duration": 19,
        "start_time": "2022-04-27T10:15:01.839Z"
      },
      {
        "duration": 13,
        "start_time": "2022-04-27T10:15:01.860Z"
      },
      {
        "duration": 13,
        "start_time": "2022-04-27T10:15:01.875Z"
      },
      {
        "duration": 40,
        "start_time": "2022-04-27T10:15:01.890Z"
      },
      {
        "duration": 30,
        "start_time": "2022-04-27T10:15:01.933Z"
      },
      {
        "duration": 158,
        "start_time": "2022-04-27T10:15:01.965Z"
      },
      {
        "duration": 12,
        "start_time": "2022-04-27T10:15:02.125Z"
      },
      {
        "duration": 21,
        "start_time": "2022-04-27T10:15:27.918Z"
      },
      {
        "duration": 21,
        "start_time": "2022-04-27T10:15:55.101Z"
      },
      {
        "duration": 2,
        "start_time": "2022-04-27T10:15:58.076Z"
      },
      {
        "duration": 105,
        "start_time": "2022-04-27T10:15:58.084Z"
      },
      {
        "duration": 39,
        "start_time": "2022-04-27T10:15:58.191Z"
      },
      {
        "duration": 5,
        "start_time": "2022-04-27T10:15:58.233Z"
      },
      {
        "duration": 11,
        "start_time": "2022-04-27T10:15:58.239Z"
      },
      {
        "duration": 26,
        "start_time": "2022-04-27T10:15:58.253Z"
      },
      {
        "duration": 4,
        "start_time": "2022-04-27T10:15:58.281Z"
      },
      {
        "duration": 4,
        "start_time": "2022-04-27T10:15:58.323Z"
      },
      {
        "duration": 64,
        "start_time": "2022-04-27T10:15:58.329Z"
      },
      {
        "duration": 7,
        "start_time": "2022-04-27T10:15:58.395Z"
      },
      {
        "duration": 25,
        "start_time": "2022-04-27T10:15:58.404Z"
      },
      {
        "duration": 17,
        "start_time": "2022-04-27T10:15:58.431Z"
      },
      {
        "duration": 17,
        "start_time": "2022-04-27T10:15:58.450Z"
      },
      {
        "duration": 17,
        "start_time": "2022-04-27T10:15:58.469Z"
      },
      {
        "duration": 317,
        "start_time": "2022-04-27T10:15:58.489Z"
      },
      {
        "duration": 46,
        "start_time": "2022-04-27T10:15:58.808Z"
      },
      {
        "duration": 120,
        "start_time": "2022-04-27T10:15:58.857Z"
      },
      {
        "duration": 7,
        "start_time": "2022-04-27T10:15:58.978Z"
      },
      {
        "duration": 168,
        "start_time": "2022-04-27T10:15:58.986Z"
      },
      {
        "duration": 174,
        "start_time": "2022-04-27T10:15:59.155Z"
      },
      {
        "duration": 10,
        "start_time": "2022-04-27T10:15:59.331Z"
      },
      {
        "duration": 40,
        "start_time": "2022-04-27T10:15:59.343Z"
      },
      {
        "duration": 163,
        "start_time": "2022-04-27T10:15:59.385Z"
      },
      {
        "duration": 132,
        "start_time": "2022-04-27T10:15:59.550Z"
      },
      {
        "duration": 6,
        "start_time": "2022-04-27T10:15:59.684Z"
      },
      {
        "duration": 153,
        "start_time": "2022-04-27T10:15:59.692Z"
      },
      {
        "duration": 139,
        "start_time": "2022-04-27T10:15:59.847Z"
      },
      {
        "duration": 8,
        "start_time": "2022-04-27T10:15:59.988Z"
      },
      {
        "duration": 10,
        "start_time": "2022-04-27T10:15:59.997Z"
      },
      {
        "duration": 156,
        "start_time": "2022-04-27T10:16:00.009Z"
      },
      {
        "duration": 121,
        "start_time": "2022-04-27T10:16:00.167Z"
      },
      {
        "duration": 5,
        "start_time": "2022-04-27T10:16:00.290Z"
      },
      {
        "duration": 28,
        "start_time": "2022-04-27T10:16:00.297Z"
      },
      {
        "duration": 11,
        "start_time": "2022-04-27T10:16:00.326Z"
      },
      {
        "duration": 23,
        "start_time": "2022-04-27T10:16:00.339Z"
      },
      {
        "duration": 10,
        "start_time": "2022-04-27T10:16:00.364Z"
      },
      {
        "duration": 18,
        "start_time": "2022-04-27T10:16:00.375Z"
      },
      {
        "duration": 6,
        "start_time": "2022-04-27T10:16:00.395Z"
      },
      {
        "duration": 21,
        "start_time": "2022-04-27T10:16:00.403Z"
      },
      {
        "duration": 4,
        "start_time": "2022-04-27T10:16:00.426Z"
      },
      {
        "duration": 7,
        "start_time": "2022-04-27T10:16:00.432Z"
      },
      {
        "duration": 173,
        "start_time": "2022-04-27T10:16:00.443Z"
      },
      {
        "duration": 22,
        "start_time": "2022-04-27T10:16:00.618Z"
      },
      {
        "duration": 174,
        "start_time": "2022-04-27T10:16:00.642Z"
      },
      {
        "duration": 12,
        "start_time": "2022-04-27T10:16:00.823Z"
      },
      {
        "duration": 175,
        "start_time": "2022-04-27T10:16:00.837Z"
      },
      {
        "duration": 18,
        "start_time": "2022-04-27T10:16:01.013Z"
      },
      {
        "duration": 192,
        "start_time": "2022-04-27T10:16:01.033Z"
      },
      {
        "duration": 13,
        "start_time": "2022-04-27T10:16:01.227Z"
      },
      {
        "duration": 21,
        "start_time": "2022-04-27T10:16:01.242Z"
      },
      {
        "duration": 18,
        "start_time": "2022-04-27T10:16:01.265Z"
      },
      {
        "duration": 153,
        "start_time": "2022-04-27T10:16:01.284Z"
      },
      {
        "duration": 17,
        "start_time": "2022-04-27T10:16:01.439Z"
      },
      {
        "duration": 6,
        "start_time": "2022-04-27T10:16:01.458Z"
      },
      {
        "duration": 7,
        "start_time": "2022-04-27T10:16:01.466Z"
      },
      {
        "duration": 15,
        "start_time": "2022-04-27T10:16:01.475Z"
      },
      {
        "duration": 50,
        "start_time": "2022-04-27T10:16:01.491Z"
      },
      {
        "duration": 142,
        "start_time": "2022-04-27T10:16:01.543Z"
      },
      {
        "duration": 11,
        "start_time": "2022-04-27T10:16:01.687Z"
      },
      {
        "duration": 21,
        "start_time": "2022-04-27T10:17:00.983Z"
      },
      {
        "duration": 135,
        "start_time": "2022-04-27T10:17:20.911Z"
      },
      {
        "duration": 11,
        "start_time": "2022-04-27T10:17:25.360Z"
      },
      {
        "duration": 306,
        "start_time": "2022-04-27T10:18:24.635Z"
      },
      {
        "duration": 22,
        "start_time": "2022-04-27T10:18:32.633Z"
      },
      {
        "duration": 142,
        "start_time": "2022-04-27T10:18:36.925Z"
      },
      {
        "duration": 405,
        "start_time": "2022-04-27T10:18:44.642Z"
      },
      {
        "duration": 11,
        "start_time": "2022-04-27T10:18:48.597Z"
      },
      {
        "duration": 31,
        "start_time": "2022-04-27T10:19:30.700Z"
      },
      {
        "duration": 17,
        "start_time": "2022-04-27T10:19:42.968Z"
      },
      {
        "duration": 39,
        "start_time": "2022-04-27T10:20:29.055Z"
      },
      {
        "duration": 20,
        "start_time": "2022-04-27T10:21:50.368Z"
      },
      {
        "duration": 40,
        "start_time": "2022-04-27T10:22:09.277Z"
      },
      {
        "duration": 39,
        "start_time": "2022-04-27T10:22:28.809Z"
      },
      {
        "duration": 5,
        "start_time": "2022-04-27T10:29:26.626Z"
      },
      {
        "duration": 6,
        "start_time": "2022-04-27T10:29:53.253Z"
      },
      {
        "duration": 33,
        "start_time": "2022-04-27T10:30:12.874Z"
      },
      {
        "duration": 6,
        "start_time": "2022-04-27T10:30:43.345Z"
      },
      {
        "duration": 4,
        "start_time": "2022-04-27T10:35:47.855Z"
      },
      {
        "duration": 4,
        "start_time": "2022-04-27T10:36:00.403Z"
      },
      {
        "duration": 5,
        "start_time": "2022-04-27T10:37:13.948Z"
      },
      {
        "duration": 4,
        "start_time": "2022-04-27T10:37:20.175Z"
      },
      {
        "duration": 5,
        "start_time": "2022-04-27T10:37:42.228Z"
      },
      {
        "duration": 4,
        "start_time": "2022-04-27T10:38:04.017Z"
      },
      {
        "duration": 4,
        "start_time": "2022-04-27T10:38:16.484Z"
      },
      {
        "duration": 5,
        "start_time": "2022-04-27T10:39:02.192Z"
      },
      {
        "duration": 5,
        "start_time": "2022-04-27T10:39:14.560Z"
      },
      {
        "duration": 5,
        "start_time": "2022-04-27T10:40:02.453Z"
      },
      {
        "duration": 6,
        "start_time": "2022-04-27T10:40:16.261Z"
      },
      {
        "duration": 4,
        "start_time": "2022-04-27T10:40:29.903Z"
      },
      {
        "duration": 5,
        "start_time": "2022-04-27T10:42:39.148Z"
      },
      {
        "duration": 5,
        "start_time": "2022-04-27T10:43:55.228Z"
      },
      {
        "duration": 5,
        "start_time": "2022-04-27T10:46:03.778Z"
      },
      {
        "duration": 5,
        "start_time": "2022-04-27T10:46:18.767Z"
      },
      {
        "duration": 5,
        "start_time": "2022-04-27T10:48:10.870Z"
      },
      {
        "duration": 5,
        "start_time": "2022-04-27T10:51:21.674Z"
      },
      {
        "duration": 173,
        "start_time": "2022-04-27T10:53:03.379Z"
      },
      {
        "duration": 12,
        "start_time": "2022-04-27T10:53:23.255Z"
      },
      {
        "duration": 12,
        "start_time": "2022-04-27T10:56:04.353Z"
      },
      {
        "duration": 124,
        "start_time": "2022-04-27T10:56:12.265Z"
      },
      {
        "duration": 12,
        "start_time": "2022-04-27T10:56:17.706Z"
      },
      {
        "duration": 122,
        "start_time": "2022-04-27T10:58:38.895Z"
      },
      {
        "duration": 14,
        "start_time": "2022-04-27T10:58:48.044Z"
      },
      {
        "duration": 217,
        "start_time": "2022-04-27T11:01:50.332Z"
      },
      {
        "duration": 13,
        "start_time": "2022-04-27T11:02:04.248Z"
      },
      {
        "duration": 12,
        "start_time": "2022-04-27T11:02:08.598Z"
      },
      {
        "duration": 9,
        "start_time": "2022-04-27T11:20:08.623Z"
      },
      {
        "duration": 3,
        "start_time": "2022-04-27T11:24:45.847Z"
      },
      {
        "duration": 98,
        "start_time": "2022-04-27T11:24:45.853Z"
      },
      {
        "duration": 13,
        "start_time": "2022-04-27T11:24:45.953Z"
      },
      {
        "duration": 4,
        "start_time": "2022-04-27T11:24:45.968Z"
      },
      {
        "duration": 12,
        "start_time": "2022-04-27T11:24:45.974Z"
      },
      {
        "duration": 51,
        "start_time": "2022-04-27T11:24:45.987Z"
      },
      {
        "duration": 4,
        "start_time": "2022-04-27T11:24:46.039Z"
      },
      {
        "duration": 7,
        "start_time": "2022-04-27T11:24:46.045Z"
      },
      {
        "duration": 71,
        "start_time": "2022-04-27T11:24:46.054Z"
      },
      {
        "duration": 6,
        "start_time": "2022-04-27T11:24:46.126Z"
      },
      {
        "duration": 12,
        "start_time": "2022-04-27T11:24:46.134Z"
      },
      {
        "duration": 14,
        "start_time": "2022-04-27T11:24:46.147Z"
      },
      {
        "duration": 14,
        "start_time": "2022-04-27T11:24:46.162Z"
      },
      {
        "duration": 49,
        "start_time": "2022-04-27T11:24:46.177Z"
      },
      {
        "duration": 283,
        "start_time": "2022-04-27T11:24:46.227Z"
      },
      {
        "duration": 53,
        "start_time": "2022-04-27T11:24:46.512Z"
      },
      {
        "duration": 123,
        "start_time": "2022-04-27T11:24:46.566Z"
      },
      {
        "duration": 7,
        "start_time": "2022-04-27T11:24:46.690Z"
      },
      {
        "duration": 161,
        "start_time": "2022-04-27T11:24:46.699Z"
      },
      {
        "duration": 144,
        "start_time": "2022-04-27T11:24:46.862Z"
      },
      {
        "duration": 17,
        "start_time": "2022-04-27T11:24:47.008Z"
      },
      {
        "duration": 27,
        "start_time": "2022-04-27T11:24:47.027Z"
      },
      {
        "duration": 151,
        "start_time": "2022-04-27T11:24:47.056Z"
      },
      {
        "duration": 145,
        "start_time": "2022-04-27T11:24:47.209Z"
      },
      {
        "duration": 7,
        "start_time": "2022-04-27T11:24:47.356Z"
      },
      {
        "duration": 144,
        "start_time": "2022-04-27T11:24:47.364Z"
      },
      {
        "duration": 137,
        "start_time": "2022-04-27T11:24:47.510Z"
      },
      {
        "duration": 7,
        "start_time": "2022-04-27T11:24:47.649Z"
      },
      {
        "duration": 5,
        "start_time": "2022-04-27T11:24:47.660Z"
      },
      {
        "duration": 147,
        "start_time": "2022-04-27T11:24:47.667Z"
      },
      {
        "duration": 129,
        "start_time": "2022-04-27T11:24:47.816Z"
      },
      {
        "duration": 5,
        "start_time": "2022-04-27T11:24:47.946Z"
      },
      {
        "duration": 16,
        "start_time": "2022-04-27T11:24:47.953Z"
      },
      {
        "duration": 10,
        "start_time": "2022-04-27T11:24:47.971Z"
      },
      {
        "duration": 11,
        "start_time": "2022-04-27T11:24:47.982Z"
      },
      {
        "duration": 31,
        "start_time": "2022-04-27T11:24:47.995Z"
      },
      {
        "duration": 9,
        "start_time": "2022-04-27T11:24:48.028Z"
      },
      {
        "duration": 6,
        "start_time": "2022-04-27T11:24:48.038Z"
      },
      {
        "duration": 13,
        "start_time": "2022-04-27T11:24:48.046Z"
      },
      {
        "duration": 5,
        "start_time": "2022-04-27T11:24:48.061Z"
      },
      {
        "duration": 5,
        "start_time": "2022-04-27T11:24:48.068Z"
      },
      {
        "duration": 182,
        "start_time": "2022-04-27T11:24:48.074Z"
      },
      {
        "duration": 13,
        "start_time": "2022-04-27T11:24:48.258Z"
      },
      {
        "duration": 165,
        "start_time": "2022-04-27T11:24:48.273Z"
      },
      {
        "duration": 13,
        "start_time": "2022-04-27T11:24:48.439Z"
      },
      {
        "duration": 173,
        "start_time": "2022-04-27T11:24:48.453Z"
      },
      {
        "duration": 13,
        "start_time": "2022-04-27T11:24:48.628Z"
      },
      {
        "duration": 169,
        "start_time": "2022-04-27T11:24:48.642Z"
      },
      {
        "duration": 20,
        "start_time": "2022-04-27T11:24:48.813Z"
      },
      {
        "duration": 16,
        "start_time": "2022-04-27T11:24:48.835Z"
      },
      {
        "duration": 11,
        "start_time": "2022-04-27T11:24:48.852Z"
      },
      {
        "duration": 136,
        "start_time": "2022-04-27T11:24:48.864Z"
      },
      {
        "duration": 30,
        "start_time": "2022-04-27T11:24:49.002Z"
      },
      {
        "duration": 6,
        "start_time": "2022-04-27T11:24:49.033Z"
      },
      {
        "duration": 6,
        "start_time": "2022-04-27T11:24:49.041Z"
      },
      {
        "duration": 13,
        "start_time": "2022-04-27T11:24:49.048Z"
      },
      {
        "duration": 17,
        "start_time": "2022-04-27T11:24:49.063Z"
      },
      {
        "duration": 169,
        "start_time": "2022-04-27T11:24:49.082Z"
      },
      {
        "duration": 39,
        "start_time": "2022-04-27T11:24:49.253Z"
      },
      {
        "duration": 4,
        "start_time": "2022-04-27T11:24:49.293Z"
      },
      {
        "duration": 26,
        "start_time": "2022-04-27T11:24:49.299Z"
      },
      {
        "duration": 6,
        "start_time": "2022-04-27T11:24:49.326Z"
      },
      {
        "duration": 6,
        "start_time": "2022-04-27T11:24:49.334Z"
      },
      {
        "duration": 7,
        "start_time": "2022-04-27T11:24:49.341Z"
      },
      {
        "duration": 14,
        "start_time": "2022-04-27T11:24:49.350Z"
      },
      {
        "duration": 6,
        "start_time": "2022-04-27T11:24:49.366Z"
      },
      {
        "duration": 5,
        "start_time": "2022-04-27T11:24:49.374Z"
      },
      {
        "duration": 7,
        "start_time": "2022-04-27T11:24:49.381Z"
      },
      {
        "duration": 177,
        "start_time": "2022-04-27T11:24:49.390Z"
      },
      {
        "duration": 13,
        "start_time": "2022-04-27T11:24:49.569Z"
      },
      {
        "duration": 149,
        "start_time": "2022-04-27T11:24:49.584Z"
      },
      {
        "duration": 12,
        "start_time": "2022-04-27T11:24:49.735Z"
      },
      {
        "duration": 375,
        "start_time": "2022-04-27T11:24:49.749Z"
      },
      {
        "duration": 19,
        "start_time": "2022-04-27T11:24:50.126Z"
      },
      {
        "duration": 409,
        "start_time": "2022-04-27T11:24:50.147Z"
      },
      {
        "duration": 68,
        "start_time": "2022-04-27T11:24:50.558Z"
      },
      {
        "duration": 222,
        "start_time": "2022-05-02T12:31:09.093Z"
      },
      {
        "duration": 55,
        "start_time": "2022-05-03T15:13:38.247Z"
      },
      {
        "duration": 1350,
        "start_time": "2022-05-03T15:13:43.757Z"
      },
      {
        "duration": 109,
        "start_time": "2022-05-03T15:13:45.108Z"
      },
      {
        "duration": 15,
        "start_time": "2022-05-03T15:13:45.218Z"
      },
      {
        "duration": 7,
        "start_time": "2022-05-03T15:13:45.248Z"
      },
      {
        "duration": 13,
        "start_time": "2022-05-03T15:13:45.262Z"
      },
      {
        "duration": 38,
        "start_time": "2022-05-03T15:13:45.277Z"
      },
      {
        "duration": 5,
        "start_time": "2022-05-03T15:13:45.317Z"
      },
      {
        "duration": 5,
        "start_time": "2022-05-03T15:13:45.323Z"
      },
      {
        "duration": 50,
        "start_time": "2022-05-03T15:13:45.347Z"
      },
      {
        "duration": 5,
        "start_time": "2022-05-03T15:13:45.400Z"
      },
      {
        "duration": 14,
        "start_time": "2022-05-03T15:13:45.407Z"
      },
      {
        "duration": 38,
        "start_time": "2022-05-03T15:13:45.423Z"
      },
      {
        "duration": 16,
        "start_time": "2022-05-03T15:13:45.462Z"
      },
      {
        "duration": 15,
        "start_time": "2022-05-03T15:13:45.479Z"
      },
      {
        "duration": 299,
        "start_time": "2022-05-03T15:13:45.495Z"
      },
      {
        "duration": 30,
        "start_time": "2022-05-03T15:13:45.796Z"
      },
      {
        "duration": 129,
        "start_time": "2022-05-03T15:13:45.828Z"
      },
      {
        "duration": 7,
        "start_time": "2022-05-03T15:13:45.959Z"
      },
      {
        "duration": 154,
        "start_time": "2022-05-03T15:13:45.968Z"
      },
      {
        "duration": 141,
        "start_time": "2022-05-03T15:13:46.124Z"
      },
      {
        "duration": 10,
        "start_time": "2022-05-03T15:13:46.267Z"
      },
      {
        "duration": 40,
        "start_time": "2022-05-03T15:13:46.278Z"
      },
      {
        "duration": 155,
        "start_time": "2022-05-03T15:13:46.319Z"
      },
      {
        "duration": 131,
        "start_time": "2022-05-03T15:13:46.475Z"
      },
      {
        "duration": 6,
        "start_time": "2022-05-03T15:13:46.608Z"
      },
      {
        "duration": 137,
        "start_time": "2022-05-03T15:13:46.615Z"
      },
      {
        "duration": 306,
        "start_time": "2022-05-03T15:13:46.753Z"
      },
      {
        "duration": 6,
        "start_time": "2022-05-03T15:13:47.064Z"
      },
      {
        "duration": 7,
        "start_time": "2022-05-03T15:13:47.072Z"
      },
      {
        "duration": 284,
        "start_time": "2022-05-03T15:13:47.080Z"
      },
      {
        "duration": 283,
        "start_time": "2022-05-03T15:13:47.365Z"
      },
      {
        "duration": 6,
        "start_time": "2022-05-03T15:13:47.649Z"
      },
      {
        "duration": 14,
        "start_time": "2022-05-03T15:13:47.662Z"
      },
      {
        "duration": 10,
        "start_time": "2022-05-03T15:13:47.678Z"
      },
      {
        "duration": 58,
        "start_time": "2022-05-03T15:13:47.690Z"
      },
      {
        "duration": 11,
        "start_time": "2022-05-03T15:13:47.749Z"
      },
      {
        "duration": 13,
        "start_time": "2022-05-03T15:13:47.761Z"
      },
      {
        "duration": 5,
        "start_time": "2022-05-03T15:13:47.776Z"
      },
      {
        "duration": 5,
        "start_time": "2022-05-03T15:13:47.782Z"
      },
      {
        "duration": 5,
        "start_time": "2022-05-03T15:13:47.788Z"
      },
      {
        "duration": 61,
        "start_time": "2022-05-03T15:13:47.794Z"
      },
      {
        "duration": 333,
        "start_time": "2022-05-03T15:13:47.856Z"
      },
      {
        "duration": 76,
        "start_time": "2022-05-03T15:13:48.190Z"
      },
      {
        "duration": 284,
        "start_time": "2022-05-03T15:13:48.275Z"
      },
      {
        "duration": 13,
        "start_time": "2022-05-03T15:13:48.562Z"
      },
      {
        "duration": 167,
        "start_time": "2022-05-03T15:13:48.577Z"
      },
      {
        "duration": 15,
        "start_time": "2022-05-03T15:13:48.745Z"
      },
      {
        "duration": 167,
        "start_time": "2022-05-03T15:13:48.761Z"
      },
      {
        "duration": 20,
        "start_time": "2022-05-03T15:13:48.930Z"
      },
      {
        "duration": 20,
        "start_time": "2022-05-03T15:13:48.952Z"
      },
      {
        "duration": 10,
        "start_time": "2022-05-03T15:13:48.973Z"
      },
      {
        "duration": 144,
        "start_time": "2022-05-03T15:13:48.984Z"
      },
      {
        "duration": 23,
        "start_time": "2022-05-03T15:13:49.129Z"
      },
      {
        "duration": 13,
        "start_time": "2022-05-03T15:13:49.154Z"
      },
      {
        "duration": 11,
        "start_time": "2022-05-03T15:13:49.169Z"
      },
      {
        "duration": 17,
        "start_time": "2022-05-03T15:13:49.181Z"
      },
      {
        "duration": 19,
        "start_time": "2022-05-03T15:13:49.200Z"
      },
      {
        "duration": 202,
        "start_time": "2022-05-03T15:13:49.220Z"
      },
      {
        "duration": 69,
        "start_time": "2022-05-03T15:13:49.424Z"
      },
      {
        "duration": 5,
        "start_time": "2022-05-03T15:13:49.495Z"
      },
      {
        "duration": 6,
        "start_time": "2022-05-03T15:13:49.501Z"
      },
      {
        "duration": 6,
        "start_time": "2022-05-03T15:13:49.508Z"
      },
      {
        "duration": 34,
        "start_time": "2022-05-03T15:13:49.516Z"
      },
      {
        "duration": 6,
        "start_time": "2022-05-03T15:13:49.551Z"
      },
      {
        "duration": 16,
        "start_time": "2022-05-03T15:13:49.559Z"
      },
      {
        "duration": 8,
        "start_time": "2022-05-03T15:13:49.577Z"
      },
      {
        "duration": 8,
        "start_time": "2022-05-03T15:13:49.586Z"
      },
      {
        "duration": 5,
        "start_time": "2022-05-03T15:13:49.596Z"
      },
      {
        "duration": 132,
        "start_time": "2022-05-03T15:13:49.603Z"
      },
      {
        "duration": 20,
        "start_time": "2022-05-03T15:13:49.737Z"
      },
      {
        "duration": 139,
        "start_time": "2022-05-03T15:13:49.758Z"
      },
      {
        "duration": 15,
        "start_time": "2022-05-03T15:13:49.899Z"
      },
      {
        "duration": 146,
        "start_time": "2022-05-03T15:13:49.916Z"
      },
      {
        "duration": 14,
        "start_time": "2022-05-03T15:13:50.064Z"
      },
      {
        "duration": 228,
        "start_time": "2022-05-03T15:13:50.079Z"
      },
      {
        "duration": 12,
        "start_time": "2022-05-03T15:13:50.308Z"
      },
      {
        "duration": 5,
        "start_time": "2022-05-03T15:14:07.569Z"
      },
      {
        "duration": 6,
        "start_time": "2022-05-03T15:14:19.443Z"
      },
      {
        "duration": 114,
        "start_time": "2022-05-03T16:30:09.308Z"
      },
      {
        "duration": 114,
        "start_time": "2022-05-03T16:30:14.284Z"
      },
      {
        "duration": 109,
        "start_time": "2022-05-03T16:30:28.234Z"
      },
      {
        "duration": 120,
        "start_time": "2022-05-03T16:31:20.668Z"
      },
      {
        "duration": 3,
        "start_time": "2022-05-03T16:31:25.497Z"
      },
      {
        "duration": 138,
        "start_time": "2022-05-03T16:31:25.502Z"
      },
      {
        "duration": 23,
        "start_time": "2022-05-03T16:31:25.642Z"
      },
      {
        "duration": 8,
        "start_time": "2022-05-03T16:31:25.668Z"
      },
      {
        "duration": 9,
        "start_time": "2022-05-03T16:31:25.678Z"
      },
      {
        "duration": 25,
        "start_time": "2022-05-03T16:31:25.689Z"
      },
      {
        "duration": 34,
        "start_time": "2022-05-03T16:31:25.715Z"
      },
      {
        "duration": 24,
        "start_time": "2022-05-03T16:31:25.751Z"
      },
      {
        "duration": 7,
        "start_time": "2022-05-03T16:31:25.777Z"
      },
      {
        "duration": 115,
        "start_time": "2022-05-03T16:31:25.786Z"
      },
      {
        "duration": 0,
        "start_time": "2022-05-03T16:31:25.905Z"
      },
      {
        "duration": 0,
        "start_time": "2022-05-03T16:31:25.907Z"
      },
      {
        "duration": 0,
        "start_time": "2022-05-03T16:31:25.908Z"
      },
      {
        "duration": 0,
        "start_time": "2022-05-03T16:31:25.909Z"
      },
      {
        "duration": 0,
        "start_time": "2022-05-03T16:31:25.910Z"
      },
      {
        "duration": 0,
        "start_time": "2022-05-03T16:31:25.911Z"
      },
      {
        "duration": 0,
        "start_time": "2022-05-03T16:31:25.913Z"
      },
      {
        "duration": 0,
        "start_time": "2022-05-03T16:31:25.914Z"
      },
      {
        "duration": 0,
        "start_time": "2022-05-03T16:31:25.915Z"
      },
      {
        "duration": 0,
        "start_time": "2022-05-03T16:31:25.916Z"
      },
      {
        "duration": 0,
        "start_time": "2022-05-03T16:31:25.917Z"
      },
      {
        "duration": 0,
        "start_time": "2022-05-03T16:31:25.918Z"
      },
      {
        "duration": 0,
        "start_time": "2022-05-03T16:31:25.919Z"
      },
      {
        "duration": 0,
        "start_time": "2022-05-03T16:31:25.920Z"
      },
      {
        "duration": 0,
        "start_time": "2022-05-03T16:31:25.921Z"
      },
      {
        "duration": 0,
        "start_time": "2022-05-03T16:31:25.922Z"
      },
      {
        "duration": 0,
        "start_time": "2022-05-03T16:31:25.923Z"
      },
      {
        "duration": 0,
        "start_time": "2022-05-03T16:31:25.924Z"
      },
      {
        "duration": 0,
        "start_time": "2022-05-03T16:31:25.925Z"
      },
      {
        "duration": 0,
        "start_time": "2022-05-03T16:31:25.926Z"
      },
      {
        "duration": 0,
        "start_time": "2022-05-03T16:31:25.927Z"
      },
      {
        "duration": 0,
        "start_time": "2022-05-03T16:31:25.929Z"
      },
      {
        "duration": 0,
        "start_time": "2022-05-03T16:31:25.930Z"
      },
      {
        "duration": 0,
        "start_time": "2022-05-03T16:31:25.931Z"
      },
      {
        "duration": 0,
        "start_time": "2022-05-03T16:31:25.932Z"
      },
      {
        "duration": 0,
        "start_time": "2022-05-03T16:31:25.933Z"
      },
      {
        "duration": 0,
        "start_time": "2022-05-03T16:31:25.934Z"
      },
      {
        "duration": 0,
        "start_time": "2022-05-03T16:31:25.935Z"
      },
      {
        "duration": 0,
        "start_time": "2022-05-03T16:31:25.937Z"
      },
      {
        "duration": 0,
        "start_time": "2022-05-03T16:31:25.937Z"
      },
      {
        "duration": 0,
        "start_time": "2022-05-03T16:31:25.939Z"
      },
      {
        "duration": 0,
        "start_time": "2022-05-03T16:31:25.939Z"
      },
      {
        "duration": 0,
        "start_time": "2022-05-03T16:31:25.951Z"
      },
      {
        "duration": 0,
        "start_time": "2022-05-03T16:31:25.957Z"
      },
      {
        "duration": 0,
        "start_time": "2022-05-03T16:31:25.958Z"
      },
      {
        "duration": 0,
        "start_time": "2022-05-03T16:31:25.960Z"
      },
      {
        "duration": 0,
        "start_time": "2022-05-03T16:31:25.961Z"
      },
      {
        "duration": 0,
        "start_time": "2022-05-03T16:31:25.963Z"
      },
      {
        "duration": 0,
        "start_time": "2022-05-03T16:31:25.964Z"
      },
      {
        "duration": 1,
        "start_time": "2022-05-03T16:31:25.965Z"
      },
      {
        "duration": 0,
        "start_time": "2022-05-03T16:31:25.967Z"
      },
      {
        "duration": 0,
        "start_time": "2022-05-03T16:31:25.969Z"
      },
      {
        "duration": 0,
        "start_time": "2022-05-03T16:31:25.971Z"
      },
      {
        "duration": 0,
        "start_time": "2022-05-03T16:31:25.973Z"
      },
      {
        "duration": 0,
        "start_time": "2022-05-03T16:31:25.974Z"
      },
      {
        "duration": 16,
        "start_time": "2022-05-03T16:31:25.978Z"
      },
      {
        "duration": 9,
        "start_time": "2022-05-03T16:31:26.047Z"
      },
      {
        "duration": 25,
        "start_time": "2022-05-03T16:31:26.058Z"
      },
      {
        "duration": 19,
        "start_time": "2022-05-03T16:31:26.085Z"
      },
      {
        "duration": 56,
        "start_time": "2022-05-03T16:31:26.106Z"
      },
      {
        "duration": 169,
        "start_time": "2022-05-03T16:31:26.164Z"
      },
      {
        "duration": 50,
        "start_time": "2022-05-03T16:31:26.335Z"
      },
      {
        "duration": 5,
        "start_time": "2022-05-03T16:31:26.386Z"
      },
      {
        "duration": 11,
        "start_time": "2022-05-03T16:31:26.392Z"
      },
      {
        "duration": 11,
        "start_time": "2022-05-03T16:31:26.404Z"
      },
      {
        "duration": 8,
        "start_time": "2022-05-03T16:31:26.417Z"
      },
      {
        "duration": 23,
        "start_time": "2022-05-03T16:31:26.426Z"
      },
      {
        "duration": 28,
        "start_time": "2022-05-03T16:31:26.451Z"
      },
      {
        "duration": 11,
        "start_time": "2022-05-03T16:31:26.480Z"
      },
      {
        "duration": 10,
        "start_time": "2022-05-03T16:31:26.494Z"
      },
      {
        "duration": 11,
        "start_time": "2022-05-03T16:31:26.506Z"
      },
      {
        "duration": 2102,
        "start_time": "2022-05-03T16:31:26.518Z"
      },
      {
        "duration": 0,
        "start_time": "2022-05-03T16:31:28.622Z"
      },
      {
        "duration": 0,
        "start_time": "2022-05-03T16:31:28.623Z"
      },
      {
        "duration": 0,
        "start_time": "2022-05-03T16:31:28.624Z"
      },
      {
        "duration": 0,
        "start_time": "2022-05-03T16:31:28.625Z"
      },
      {
        "duration": 0,
        "start_time": "2022-05-03T16:31:28.626Z"
      },
      {
        "duration": 0,
        "start_time": "2022-05-03T16:31:28.627Z"
      },
      {
        "duration": 0,
        "start_time": "2022-05-03T16:31:28.628Z"
      },
      {
        "duration": 4,
        "start_time": "2022-05-03T16:35:38.219Z"
      },
      {
        "duration": 60,
        "start_time": "2022-05-03T16:35:48.155Z"
      },
      {
        "duration": 3,
        "start_time": "2022-05-03T16:35:52.599Z"
      },
      {
        "duration": 116,
        "start_time": "2022-05-03T16:35:52.604Z"
      },
      {
        "duration": 30,
        "start_time": "2022-05-03T16:35:52.722Z"
      },
      {
        "duration": 5,
        "start_time": "2022-05-03T16:35:52.756Z"
      },
      {
        "duration": 18,
        "start_time": "2022-05-03T16:35:52.764Z"
      },
      {
        "duration": 28,
        "start_time": "2022-05-03T16:35:52.784Z"
      },
      {
        "duration": 39,
        "start_time": "2022-05-03T16:35:52.814Z"
      },
      {
        "duration": 15,
        "start_time": "2022-05-03T16:35:52.855Z"
      },
      {
        "duration": 6,
        "start_time": "2022-05-03T16:35:52.872Z"
      },
      {
        "duration": 4,
        "start_time": "2022-05-03T16:35:52.879Z"
      },
      {
        "duration": 63,
        "start_time": "2022-05-03T16:35:52.886Z"
      },
      {
        "duration": 9,
        "start_time": "2022-05-03T16:35:52.952Z"
      },
      {
        "duration": 12,
        "start_time": "2022-05-03T16:35:52.963Z"
      },
      {
        "duration": 12,
        "start_time": "2022-05-03T16:35:52.977Z"
      },
      {
        "duration": 12,
        "start_time": "2022-05-03T16:35:52.991Z"
      },
      {
        "duration": 42,
        "start_time": "2022-05-03T16:35:53.005Z"
      },
      {
        "duration": 281,
        "start_time": "2022-05-03T16:35:53.049Z"
      },
      {
        "duration": 49,
        "start_time": "2022-05-03T16:35:53.332Z"
      },
      {
        "duration": 117,
        "start_time": "2022-05-03T16:35:53.382Z"
      },
      {
        "duration": 7,
        "start_time": "2022-05-03T16:35:53.501Z"
      },
      {
        "duration": 163,
        "start_time": "2022-05-03T16:35:53.509Z"
      },
      {
        "duration": 142,
        "start_time": "2022-05-03T16:35:53.673Z"
      },
      {
        "duration": 9,
        "start_time": "2022-05-03T16:35:53.817Z"
      },
      {
        "duration": 51,
        "start_time": "2022-05-03T16:35:53.828Z"
      },
      {
        "duration": 142,
        "start_time": "2022-05-03T16:35:53.881Z"
      },
      {
        "duration": 143,
        "start_time": "2022-05-03T16:35:54.024Z"
      },
      {
        "duration": 7,
        "start_time": "2022-05-03T16:35:54.169Z"
      },
      {
        "duration": 240,
        "start_time": "2022-05-03T16:35:54.177Z"
      },
      {
        "duration": 149,
        "start_time": "2022-05-03T16:35:54.422Z"
      },
      {
        "duration": 7,
        "start_time": "2022-05-03T16:35:54.573Z"
      },
      {
        "duration": 6,
        "start_time": "2022-05-03T16:35:54.581Z"
      },
      {
        "duration": 146,
        "start_time": "2022-05-03T16:35:54.588Z"
      },
      {
        "duration": 129,
        "start_time": "2022-05-03T16:35:54.735Z"
      },
      {
        "duration": 5,
        "start_time": "2022-05-03T16:35:54.865Z"
      },
      {
        "duration": 9,
        "start_time": "2022-05-03T16:35:54.871Z"
      },
      {
        "duration": 8,
        "start_time": "2022-05-03T16:35:54.881Z"
      },
      {
        "duration": 10,
        "start_time": "2022-05-03T16:35:54.891Z"
      },
      {
        "duration": 9,
        "start_time": "2022-05-03T16:35:54.903Z"
      },
      {
        "duration": 42,
        "start_time": "2022-05-03T16:35:54.914Z"
      },
      {
        "duration": 14,
        "start_time": "2022-05-03T16:35:54.958Z"
      },
      {
        "duration": 5,
        "start_time": "2022-05-03T16:35:54.974Z"
      },
      {
        "duration": 5,
        "start_time": "2022-05-03T16:35:54.981Z"
      },
      {
        "duration": 6,
        "start_time": "2022-05-03T16:35:54.987Z"
      },
      {
        "duration": 175,
        "start_time": "2022-05-03T16:35:54.994Z"
      },
      {
        "duration": 12,
        "start_time": "2022-05-03T16:35:55.171Z"
      },
      {
        "duration": 172,
        "start_time": "2022-05-03T16:35:55.184Z"
      },
      {
        "duration": 14,
        "start_time": "2022-05-03T16:35:55.358Z"
      },
      {
        "duration": 175,
        "start_time": "2022-05-03T16:35:55.373Z"
      },
      {
        "duration": 19,
        "start_time": "2022-05-03T16:35:55.550Z"
      },
      {
        "duration": 169,
        "start_time": "2022-05-03T16:35:55.571Z"
      },
      {
        "duration": 19,
        "start_time": "2022-05-03T16:35:55.742Z"
      },
      {
        "duration": 24,
        "start_time": "2022-05-03T16:35:55.764Z"
      },
      {
        "duration": 12,
        "start_time": "2022-05-03T16:35:55.790Z"
      },
      {
        "duration": 155,
        "start_time": "2022-05-03T16:35:55.804Z"
      },
      {
        "duration": 17,
        "start_time": "2022-05-03T16:35:55.962Z"
      },
      {
        "duration": 8,
        "start_time": "2022-05-03T16:35:55.981Z"
      },
      {
        "duration": 61,
        "start_time": "2022-05-03T16:35:55.991Z"
      },
      {
        "duration": 22,
        "start_time": "2022-05-03T16:35:56.054Z"
      },
      {
        "duration": 72,
        "start_time": "2022-05-03T16:35:56.077Z"
      },
      {
        "duration": 325,
        "start_time": "2022-05-03T16:35:56.151Z"
      },
      {
        "duration": 102,
        "start_time": "2022-05-03T16:35:56.478Z"
      },
      {
        "duration": 4,
        "start_time": "2022-05-03T16:35:56.581Z"
      },
      {
        "duration": 61,
        "start_time": "2022-05-03T16:35:56.587Z"
      },
      {
        "duration": 7,
        "start_time": "2022-05-03T16:35:56.650Z"
      },
      {
        "duration": 15,
        "start_time": "2022-05-03T16:35:56.658Z"
      },
      {
        "duration": 5,
        "start_time": "2022-05-03T16:35:56.675Z"
      },
      {
        "duration": 5,
        "start_time": "2022-05-03T16:35:56.682Z"
      },
      {
        "duration": 5,
        "start_time": "2022-05-03T16:35:56.689Z"
      },
      {
        "duration": 53,
        "start_time": "2022-05-03T16:35:56.696Z"
      },
      {
        "duration": 6,
        "start_time": "2022-05-03T16:35:56.751Z"
      },
      {
        "duration": 291,
        "start_time": "2022-05-03T16:35:56.759Z"
      },
      {
        "duration": 15,
        "start_time": "2022-05-03T16:35:57.052Z"
      },
      {
        "duration": 323,
        "start_time": "2022-05-03T16:35:57.069Z"
      },
      {
        "duration": 66,
        "start_time": "2022-05-03T16:35:57.394Z"
      },
      {
        "duration": 315,
        "start_time": "2022-05-03T16:35:57.462Z"
      },
      {
        "duration": 12,
        "start_time": "2022-05-03T16:35:57.779Z"
      },
      {
        "duration": 159,
        "start_time": "2022-05-03T16:35:57.793Z"
      },
      {
        "duration": 14,
        "start_time": "2022-05-03T16:35:57.954Z"
      },
      {
        "duration": 128,
        "start_time": "2022-05-03T16:44:34.892Z"
      },
      {
        "duration": 135,
        "start_time": "2022-05-03T16:44:44.712Z"
      },
      {
        "duration": 160,
        "start_time": "2022-05-03T16:44:48.864Z"
      },
      {
        "duration": 15,
        "start_time": "2022-05-03T16:50:08.940Z"
      },
      {
        "duration": 3,
        "start_time": "2022-05-03T16:50:14.092Z"
      },
      {
        "duration": 104,
        "start_time": "2022-05-03T16:50:14.099Z"
      },
      {
        "duration": 16,
        "start_time": "2022-05-03T16:50:14.205Z"
      },
      {
        "duration": 5,
        "start_time": "2022-05-03T16:50:14.248Z"
      },
      {
        "duration": 14,
        "start_time": "2022-05-03T16:50:14.255Z"
      },
      {
        "duration": 178,
        "start_time": "2022-05-03T16:50:14.271Z"
      },
      {
        "duration": 5,
        "start_time": "2022-05-03T16:50:14.450Z"
      },
      {
        "duration": 9,
        "start_time": "2022-05-03T16:50:14.457Z"
      },
      {
        "duration": 8,
        "start_time": "2022-05-03T16:50:14.468Z"
      },
      {
        "duration": 4,
        "start_time": "2022-05-03T16:50:14.478Z"
      },
      {
        "duration": 88,
        "start_time": "2022-05-03T16:50:14.485Z"
      },
      {
        "duration": 8,
        "start_time": "2022-05-03T16:50:14.575Z"
      },
      {
        "duration": 13,
        "start_time": "2022-05-03T16:50:14.585Z"
      },
      {
        "duration": 15,
        "start_time": "2022-05-03T16:50:14.600Z"
      },
      {
        "duration": 40,
        "start_time": "2022-05-03T16:50:14.617Z"
      },
      {
        "duration": 15,
        "start_time": "2022-05-03T16:50:14.658Z"
      },
      {
        "duration": 273,
        "start_time": "2022-05-03T16:50:14.674Z"
      },
      {
        "duration": 35,
        "start_time": "2022-05-03T16:50:14.949Z"
      },
      {
        "duration": 125,
        "start_time": "2022-05-03T16:50:14.986Z"
      },
      {
        "duration": 7,
        "start_time": "2022-05-03T16:50:15.112Z"
      },
      {
        "duration": 153,
        "start_time": "2022-05-03T16:50:15.121Z"
      },
      {
        "duration": 130,
        "start_time": "2022-05-03T16:50:15.276Z"
      },
      {
        "duration": 7,
        "start_time": "2022-05-03T16:50:15.408Z"
      },
      {
        "duration": 41,
        "start_time": "2022-05-03T16:50:15.416Z"
      },
      {
        "duration": 140,
        "start_time": "2022-05-03T16:50:15.459Z"
      },
      {
        "duration": 149,
        "start_time": "2022-05-03T16:50:15.601Z"
      },
      {
        "duration": 7,
        "start_time": "2022-05-03T16:50:15.751Z"
      },
      {
        "duration": 35,
        "start_time": "2022-05-03T16:50:15.759Z"
      },
      {
        "duration": 138,
        "start_time": "2022-05-03T16:50:15.798Z"
      },
      {
        "duration": 138,
        "start_time": "2022-05-03T16:50:15.938Z"
      },
      {
        "duration": 9,
        "start_time": "2022-05-03T16:50:16.077Z"
      },
      {
        "duration": 12,
        "start_time": "2022-05-03T16:50:16.088Z"
      },
      {
        "duration": 146,
        "start_time": "2022-05-03T16:50:16.103Z"
      },
      {
        "duration": 122,
        "start_time": "2022-05-03T16:50:16.251Z"
      },
      {
        "duration": 5,
        "start_time": "2022-05-03T16:50:16.375Z"
      },
      {
        "duration": 7,
        "start_time": "2022-05-03T16:50:16.382Z"
      },
      {
        "duration": 17,
        "start_time": "2022-05-03T16:50:16.391Z"
      },
      {
        "duration": 11,
        "start_time": "2022-05-03T16:50:16.409Z"
      },
      {
        "duration": 26,
        "start_time": "2022-05-03T16:50:16.422Z"
      },
      {
        "duration": 8,
        "start_time": "2022-05-03T16:50:16.450Z"
      },
      {
        "duration": 6,
        "start_time": "2022-05-03T16:50:16.460Z"
      },
      {
        "duration": 7,
        "start_time": "2022-05-03T16:50:16.468Z"
      },
      {
        "duration": 7,
        "start_time": "2022-05-03T16:50:16.477Z"
      },
      {
        "duration": 8,
        "start_time": "2022-05-03T16:50:16.486Z"
      },
      {
        "duration": 169,
        "start_time": "2022-05-03T16:50:16.496Z"
      },
      {
        "duration": 13,
        "start_time": "2022-05-03T16:50:16.667Z"
      },
      {
        "duration": 175,
        "start_time": "2022-05-03T16:50:16.682Z"
      },
      {
        "duration": 13,
        "start_time": "2022-05-03T16:50:16.859Z"
      },
      {
        "duration": 166,
        "start_time": "2022-05-03T16:50:16.874Z"
      },
      {
        "duration": 14,
        "start_time": "2022-05-03T16:50:17.042Z"
      },
      {
        "duration": 292,
        "start_time": "2022-05-03T16:50:17.058Z"
      },
      {
        "duration": 17,
        "start_time": "2022-05-03T16:50:17.352Z"
      },
      {
        "duration": 24,
        "start_time": "2022-05-03T16:50:17.371Z"
      },
      {
        "duration": 16,
        "start_time": "2022-05-03T16:50:17.448Z"
      },
      {
        "duration": 281,
        "start_time": "2022-05-03T16:50:17.466Z"
      },
      {
        "duration": 23,
        "start_time": "2022-05-03T16:50:17.750Z"
      },
      {
        "duration": 8,
        "start_time": "2022-05-03T16:50:17.774Z"
      },
      {
        "duration": 11,
        "start_time": "2022-05-03T16:50:17.784Z"
      },
      {
        "duration": 19,
        "start_time": "2022-05-03T16:50:17.847Z"
      },
      {
        "duration": 80,
        "start_time": "2022-05-03T16:50:17.868Z"
      },
      {
        "duration": 515,
        "start_time": "2022-05-03T16:50:17.950Z"
      },
      {
        "duration": 97,
        "start_time": "2022-05-03T16:50:18.467Z"
      },
      {
        "duration": 5,
        "start_time": "2022-05-03T16:50:18.566Z"
      },
      {
        "duration": 10,
        "start_time": "2022-05-03T16:50:18.573Z"
      },
      {
        "duration": 66,
        "start_time": "2022-05-03T16:50:18.585Z"
      },
      {
        "duration": 5,
        "start_time": "2022-05-03T16:50:18.653Z"
      },
      {
        "duration": 6,
        "start_time": "2022-05-03T16:50:18.660Z"
      },
      {
        "duration": 6,
        "start_time": "2022-05-03T16:50:18.668Z"
      },
      {
        "duration": 10,
        "start_time": "2022-05-03T16:50:18.676Z"
      },
      {
        "duration": 7,
        "start_time": "2022-05-03T16:50:18.687Z"
      },
      {
        "duration": 6,
        "start_time": "2022-05-03T16:50:18.748Z"
      },
      {
        "duration": 168,
        "start_time": "2022-05-03T16:50:18.756Z"
      },
      {
        "duration": 22,
        "start_time": "2022-05-03T16:50:18.925Z"
      },
      {
        "duration": 139,
        "start_time": "2022-05-03T16:50:18.949Z"
      },
      {
        "duration": 12,
        "start_time": "2022-05-03T16:50:19.090Z"
      },
      {
        "duration": 145,
        "start_time": "2022-05-03T16:50:19.104Z"
      },
      {
        "duration": 12,
        "start_time": "2022-05-03T16:50:19.251Z"
      },
      {
        "duration": 141,
        "start_time": "2022-05-03T16:50:19.265Z"
      },
      {
        "duration": 12,
        "start_time": "2022-05-03T16:50:19.407Z"
      },
      {
        "duration": 12,
        "start_time": "2022-05-03T16:54:20.025Z"
      },
      {
        "duration": 44,
        "start_time": "2022-05-03T16:54:49.419Z"
      },
      {
        "duration": 12,
        "start_time": "2022-05-03T16:55:08.533Z"
      },
      {
        "duration": 9,
        "start_time": "2022-05-03T16:56:24.527Z"
      },
      {
        "duration": 11,
        "start_time": "2022-05-03T16:56:54.951Z"
      },
      {
        "duration": 12,
        "start_time": "2022-05-03T16:56:59.213Z"
      },
      {
        "duration": 14,
        "start_time": "2022-05-03T16:57:18.385Z"
      },
      {
        "duration": 3,
        "start_time": "2022-05-03T16:57:24.638Z"
      },
      {
        "duration": 124,
        "start_time": "2022-05-03T16:57:24.644Z"
      },
      {
        "duration": 16,
        "start_time": "2022-05-03T16:57:24.772Z"
      },
      {
        "duration": 5,
        "start_time": "2022-05-03T16:57:24.790Z"
      },
      {
        "duration": 19,
        "start_time": "2022-05-03T16:57:24.798Z"
      },
      {
        "duration": 62,
        "start_time": "2022-05-03T16:57:24.819Z"
      },
      {
        "duration": 4,
        "start_time": "2022-05-03T16:57:24.886Z"
      },
      {
        "duration": 8,
        "start_time": "2022-05-03T16:57:24.893Z"
      },
      {
        "duration": 6,
        "start_time": "2022-05-03T16:57:24.903Z"
      },
      {
        "duration": 36,
        "start_time": "2022-05-03T16:57:24.911Z"
      },
      {
        "duration": 66,
        "start_time": "2022-05-03T16:57:24.951Z"
      },
      {
        "duration": 7,
        "start_time": "2022-05-03T16:57:25.019Z"
      },
      {
        "duration": 26,
        "start_time": "2022-05-03T16:57:25.027Z"
      },
      {
        "duration": 20,
        "start_time": "2022-05-03T16:57:25.055Z"
      },
      {
        "duration": 16,
        "start_time": "2022-05-03T16:57:25.077Z"
      },
      {
        "duration": 18,
        "start_time": "2022-05-03T16:57:25.095Z"
      },
      {
        "duration": 437,
        "start_time": "2022-05-03T16:57:25.116Z"
      },
      {
        "duration": 49,
        "start_time": "2022-05-03T16:57:25.555Z"
      },
      {
        "duration": 158,
        "start_time": "2022-05-03T16:57:25.606Z"
      },
      {
        "duration": 8,
        "start_time": "2022-05-03T16:57:25.766Z"
      },
      {
        "duration": 191,
        "start_time": "2022-05-03T16:57:25.776Z"
      },
      {
        "duration": 173,
        "start_time": "2022-05-03T16:57:25.969Z"
      },
      {
        "duration": 15,
        "start_time": "2022-05-03T16:57:26.144Z"
      },
      {
        "duration": 29,
        "start_time": "2022-05-03T16:57:26.160Z"
      },
      {
        "duration": 160,
        "start_time": "2022-05-03T16:57:26.190Z"
      },
      {
        "duration": 232,
        "start_time": "2022-05-03T16:57:26.352Z"
      },
      {
        "duration": 7,
        "start_time": "2022-05-03T16:57:26.586Z"
      },
      {
        "duration": 118,
        "start_time": "2022-05-03T16:57:26.648Z"
      },
      {
        "duration": 99,
        "start_time": "2022-05-03T16:57:26.772Z"
      },
      {
        "duration": 481,
        "start_time": "2022-05-03T16:57:26.876Z"
      },
      {
        "duration": 337,
        "start_time": "2022-05-03T16:57:27.359Z"
      },
      {
        "duration": 59,
        "start_time": "2022-05-03T16:57:27.698Z"
      },
      {
        "duration": 26,
        "start_time": "2022-05-03T16:57:27.759Z"
      },
      {
        "duration": 384,
        "start_time": "2022-05-03T16:57:27.787Z"
      },
      {
        "duration": 265,
        "start_time": "2022-05-03T16:57:28.176Z"
      },
      {
        "duration": 7,
        "start_time": "2022-05-03T16:57:28.442Z"
      },
      {
        "duration": 38,
        "start_time": "2022-05-03T16:57:28.451Z"
      },
      {
        "duration": 12,
        "start_time": "2022-05-03T16:57:28.490Z"
      },
      {
        "duration": 14,
        "start_time": "2022-05-03T16:57:28.504Z"
      },
      {
        "duration": 8,
        "start_time": "2022-05-03T16:57:28.520Z"
      },
      {
        "duration": 11,
        "start_time": "2022-05-03T16:57:28.530Z"
      },
      {
        "duration": 15,
        "start_time": "2022-05-03T16:57:28.543Z"
      },
      {
        "duration": 39,
        "start_time": "2022-05-03T16:57:28.560Z"
      },
      {
        "duration": 8,
        "start_time": "2022-05-03T16:57:28.601Z"
      },
      {
        "duration": 6,
        "start_time": "2022-05-03T16:57:28.611Z"
      },
      {
        "duration": 224,
        "start_time": "2022-05-03T16:57:28.618Z"
      },
      {
        "duration": 16,
        "start_time": "2022-05-03T16:57:28.848Z"
      },
      {
        "duration": 219,
        "start_time": "2022-05-03T16:57:28.868Z"
      },
      {
        "duration": 16,
        "start_time": "2022-05-03T16:57:29.089Z"
      },
      {
        "duration": 319,
        "start_time": "2022-05-03T16:57:29.106Z"
      },
      {
        "duration": 22,
        "start_time": "2022-05-03T16:57:29.426Z"
      },
      {
        "duration": 164,
        "start_time": "2022-05-03T16:57:29.450Z"
      },
      {
        "duration": 12,
        "start_time": "2022-05-03T16:57:29.615Z"
      },
      {
        "duration": 38,
        "start_time": "2022-05-03T16:57:29.628Z"
      },
      {
        "duration": 20,
        "start_time": "2022-05-03T16:57:29.667Z"
      },
      {
        "duration": 172,
        "start_time": "2022-05-03T16:57:29.688Z"
      },
      {
        "duration": 27,
        "start_time": "2022-05-03T16:57:29.861Z"
      },
      {
        "duration": 6,
        "start_time": "2022-05-03T16:57:29.890Z"
      },
      {
        "duration": 7,
        "start_time": "2022-05-03T16:57:29.898Z"
      },
      {
        "duration": 13,
        "start_time": "2022-05-03T16:57:29.906Z"
      },
      {
        "duration": 53,
        "start_time": "2022-05-03T16:57:29.921Z"
      },
      {
        "duration": 193,
        "start_time": "2022-05-03T16:57:29.976Z"
      },
      {
        "duration": 51,
        "start_time": "2022-05-03T16:57:30.170Z"
      },
      {
        "duration": 5,
        "start_time": "2022-05-03T16:57:30.223Z"
      },
      {
        "duration": 22,
        "start_time": "2022-05-03T16:57:30.230Z"
      },
      {
        "duration": 43,
        "start_time": "2022-05-03T16:57:30.253Z"
      },
      {
        "duration": 10,
        "start_time": "2022-05-03T16:57:30.298Z"
      },
      {
        "duration": 19,
        "start_time": "2022-05-03T16:57:30.310Z"
      },
      {
        "duration": 11,
        "start_time": "2022-05-03T16:57:30.331Z"
      },
      {
        "duration": 30,
        "start_time": "2022-05-03T16:57:30.344Z"
      },
      {
        "duration": 16,
        "start_time": "2022-05-03T16:57:30.375Z"
      },
      {
        "duration": 6,
        "start_time": "2022-05-03T16:57:30.393Z"
      },
      {
        "duration": 131,
        "start_time": "2022-05-03T16:57:30.401Z"
      },
      {
        "duration": 12,
        "start_time": "2022-05-03T16:57:30.533Z"
      },
      {
        "duration": 164,
        "start_time": "2022-05-03T16:57:30.546Z"
      },
      {
        "duration": 13,
        "start_time": "2022-05-03T16:57:30.712Z"
      },
      {
        "duration": 161,
        "start_time": "2022-05-03T16:57:30.727Z"
      },
      {
        "duration": 13,
        "start_time": "2022-05-03T16:57:30.890Z"
      },
      {
        "duration": 154,
        "start_time": "2022-05-03T16:57:30.905Z"
      },
      {
        "duration": 14,
        "start_time": "2022-05-03T16:57:31.061Z"
      },
      {
        "duration": 19,
        "start_time": "2022-05-03T16:58:22.479Z"
      },
      {
        "duration": 3,
        "start_time": "2022-05-03T16:58:26.342Z"
      },
      {
        "duration": 164,
        "start_time": "2022-05-03T16:58:26.349Z"
      },
      {
        "duration": 40,
        "start_time": "2022-05-03T16:58:26.515Z"
      },
      {
        "duration": 5,
        "start_time": "2022-05-03T16:58:26.559Z"
      },
      {
        "duration": 24,
        "start_time": "2022-05-03T16:58:26.566Z"
      },
      {
        "duration": 23,
        "start_time": "2022-05-03T16:58:26.592Z"
      },
      {
        "duration": 5,
        "start_time": "2022-05-03T16:58:26.617Z"
      },
      {
        "duration": 32,
        "start_time": "2022-05-03T16:58:26.623Z"
      },
      {
        "duration": 16,
        "start_time": "2022-05-03T16:58:26.660Z"
      },
      {
        "duration": 4,
        "start_time": "2022-05-03T16:58:26.678Z"
      },
      {
        "duration": 82,
        "start_time": "2022-05-03T16:58:26.685Z"
      },
      {
        "duration": 10,
        "start_time": "2022-05-03T16:58:26.769Z"
      },
      {
        "duration": 10,
        "start_time": "2022-05-03T16:58:26.780Z"
      },
      {
        "duration": 18,
        "start_time": "2022-05-03T16:58:26.792Z"
      },
      {
        "duration": 46,
        "start_time": "2022-05-03T16:58:26.812Z"
      },
      {
        "duration": 19,
        "start_time": "2022-05-03T16:58:26.860Z"
      },
      {
        "duration": 433,
        "start_time": "2022-05-03T16:58:26.881Z"
      },
      {
        "duration": 61,
        "start_time": "2022-05-03T16:58:27.317Z"
      },
      {
        "duration": 145,
        "start_time": "2022-05-03T16:58:27.380Z"
      },
      {
        "duration": 9,
        "start_time": "2022-05-03T16:58:27.527Z"
      },
      {
        "duration": 167,
        "start_time": "2022-05-03T16:58:27.538Z"
      },
      {
        "duration": 196,
        "start_time": "2022-05-03T16:58:27.706Z"
      },
      {
        "duration": 9,
        "start_time": "2022-05-03T16:58:27.904Z"
      },
      {
        "duration": 44,
        "start_time": "2022-05-03T16:58:27.916Z"
      },
      {
        "duration": 200,
        "start_time": "2022-05-03T16:58:27.962Z"
      },
      {
        "duration": 195,
        "start_time": "2022-05-03T16:58:28.164Z"
      },
      {
        "duration": 10,
        "start_time": "2022-05-03T16:58:28.362Z"
      },
      {
        "duration": 53,
        "start_time": "2022-05-03T16:58:28.374Z"
      },
      {
        "duration": 50,
        "start_time": "2022-05-03T16:58:28.432Z"
      },
      {
        "duration": 143,
        "start_time": "2022-05-03T16:58:28.485Z"
      },
      {
        "duration": 142,
        "start_time": "2022-05-03T16:58:28.630Z"
      },
      {
        "duration": 8,
        "start_time": "2022-05-03T16:58:28.774Z"
      },
      {
        "duration": 6,
        "start_time": "2022-05-03T16:58:28.784Z"
      },
      {
        "duration": 178,
        "start_time": "2022-05-03T16:58:28.792Z"
      },
      {
        "duration": 276,
        "start_time": "2022-05-03T16:58:28.973Z"
      },
      {
        "duration": 7,
        "start_time": "2022-05-03T16:58:29.251Z"
      },
      {
        "duration": 22,
        "start_time": "2022-05-03T16:58:29.260Z"
      },
      {
        "duration": 11,
        "start_time": "2022-05-03T16:58:29.284Z"
      },
      {
        "duration": 60,
        "start_time": "2022-05-03T16:58:29.297Z"
      },
      {
        "duration": 19,
        "start_time": "2022-05-03T16:58:29.365Z"
      },
      {
        "duration": 11,
        "start_time": "2022-05-03T16:58:29.387Z"
      },
      {
        "duration": 8,
        "start_time": "2022-05-03T16:58:29.448Z"
      },
      {
        "duration": 27,
        "start_time": "2022-05-03T16:58:29.457Z"
      },
      {
        "duration": 7,
        "start_time": "2022-05-03T16:58:29.486Z"
      },
      {
        "duration": 9,
        "start_time": "2022-05-03T16:58:29.495Z"
      },
      {
        "duration": 456,
        "start_time": "2022-05-03T16:58:29.506Z"
      },
      {
        "duration": 20,
        "start_time": "2022-05-03T16:58:29.967Z"
      },
      {
        "duration": 478,
        "start_time": "2022-05-03T16:58:29.989Z"
      },
      {
        "duration": 18,
        "start_time": "2022-05-03T16:58:30.471Z"
      },
      {
        "duration": 467,
        "start_time": "2022-05-03T16:58:30.491Z"
      },
      {
        "duration": 19,
        "start_time": "2022-05-03T16:58:30.960Z"
      },
      {
        "duration": 493,
        "start_time": "2022-05-03T16:58:30.981Z"
      },
      {
        "duration": 17,
        "start_time": "2022-05-03T16:58:31.477Z"
      },
      {
        "duration": 19,
        "start_time": "2022-05-03T16:58:31.496Z"
      },
      {
        "duration": 36,
        "start_time": "2022-05-03T16:58:31.516Z"
      },
      {
        "duration": 189,
        "start_time": "2022-05-03T16:58:31.554Z"
      },
      {
        "duration": 24,
        "start_time": "2022-05-03T16:58:31.747Z"
      },
      {
        "duration": 15,
        "start_time": "2022-05-03T16:58:31.773Z"
      },
      {
        "duration": 8,
        "start_time": "2022-05-03T16:58:31.790Z"
      },
      {
        "duration": 15,
        "start_time": "2022-05-03T16:58:31.800Z"
      },
      {
        "duration": 46,
        "start_time": "2022-05-03T16:58:31.817Z"
      },
      {
        "duration": 214,
        "start_time": "2022-05-03T16:58:31.865Z"
      },
      {
        "duration": 38,
        "start_time": "2022-05-03T16:58:32.081Z"
      },
      {
        "duration": 4,
        "start_time": "2022-05-03T16:58:32.122Z"
      },
      {
        "duration": 11,
        "start_time": "2022-05-03T16:58:32.150Z"
      },
      {
        "duration": 19,
        "start_time": "2022-05-03T16:58:32.163Z"
      },
      {
        "duration": 4,
        "start_time": "2022-05-03T16:58:32.184Z"
      },
      {
        "duration": 10,
        "start_time": "2022-05-03T16:58:32.189Z"
      },
      {
        "duration": 6,
        "start_time": "2022-05-03T16:58:32.201Z"
      },
      {
        "duration": 6,
        "start_time": "2022-05-03T16:58:32.209Z"
      },
      {
        "duration": 5,
        "start_time": "2022-05-03T16:58:32.217Z"
      },
      {
        "duration": 25,
        "start_time": "2022-05-03T16:58:32.249Z"
      },
      {
        "duration": 148,
        "start_time": "2022-05-03T16:58:32.276Z"
      },
      {
        "duration": 15,
        "start_time": "2022-05-03T16:58:32.426Z"
      },
      {
        "duration": 150,
        "start_time": "2022-05-03T16:58:32.443Z"
      },
      {
        "duration": 15,
        "start_time": "2022-05-03T16:58:32.595Z"
      },
      {
        "duration": 190,
        "start_time": "2022-05-03T16:58:32.612Z"
      },
      {
        "duration": 30,
        "start_time": "2022-05-03T16:58:32.804Z"
      },
      {
        "duration": 193,
        "start_time": "2022-05-03T16:58:32.835Z"
      },
      {
        "duration": 26,
        "start_time": "2022-05-03T16:58:33.030Z"
      },
      {
        "duration": 10,
        "start_time": "2022-05-03T16:59:57.617Z"
      },
      {
        "duration": 15,
        "start_time": "2022-05-03T17:08:57.993Z"
      },
      {
        "duration": 144,
        "start_time": "2022-05-03T17:09:04.451Z"
      },
      {
        "duration": 159,
        "start_time": "2022-05-03T17:11:40.401Z"
      },
      {
        "duration": 189,
        "start_time": "2022-05-03T17:11:49.430Z"
      },
      {
        "duration": 129,
        "start_time": "2022-05-03T17:11:55.684Z"
      },
      {
        "duration": 150,
        "start_time": "2022-05-03T17:12:02.742Z"
      },
      {
        "duration": 13,
        "start_time": "2022-05-03T17:17:14.864Z"
      },
      {
        "duration": 130,
        "start_time": "2022-05-03T17:17:24.115Z"
      },
      {
        "duration": 234,
        "start_time": "2022-05-03T17:21:34.187Z"
      },
      {
        "duration": 15,
        "start_time": "2022-05-03T17:29:38.988Z"
      },
      {
        "duration": 15,
        "start_time": "2022-05-03T17:29:55.900Z"
      },
      {
        "duration": 16,
        "start_time": "2022-05-03T17:30:02.979Z"
      },
      {
        "duration": 14,
        "start_time": "2022-05-03T17:30:09.620Z"
      },
      {
        "duration": 21,
        "start_time": "2022-05-03T17:35:22.311Z"
      },
      {
        "duration": 21,
        "start_time": "2022-05-03T17:35:38.204Z"
      },
      {
        "duration": 20,
        "start_time": "2022-05-03T17:35:41.806Z"
      },
      {
        "duration": 9,
        "start_time": "2022-05-03T17:37:30.716Z"
      },
      {
        "duration": 14,
        "start_time": "2022-05-03T17:39:50.267Z"
      },
      {
        "duration": 159,
        "start_time": "2022-05-03T17:40:00.332Z"
      },
      {
        "duration": 14,
        "start_time": "2022-05-03T17:40:12.961Z"
      },
      {
        "duration": 152,
        "start_time": "2022-05-03T17:40:20.529Z"
      },
      {
        "duration": 17,
        "start_time": "2022-05-03T17:40:33.745Z"
      },
      {
        "duration": 181,
        "start_time": "2022-05-03T17:40:44.026Z"
      },
      {
        "duration": 17,
        "start_time": "2022-05-03T17:41:09.102Z"
      },
      {
        "duration": 153,
        "start_time": "2022-05-03T17:41:19.561Z"
      },
      {
        "duration": 105,
        "start_time": "2022-05-03T18:13:45.806Z"
      },
      {
        "duration": 9,
        "start_time": "2022-05-03T18:14:07.373Z"
      },
      {
        "duration": 106,
        "start_time": "2022-05-03T18:14:30.607Z"
      },
      {
        "duration": 15,
        "start_time": "2022-05-03T18:14:44.697Z"
      },
      {
        "duration": 4,
        "start_time": "2022-05-03T18:15:46.980Z"
      },
      {
        "duration": 5,
        "start_time": "2022-05-03T18:16:29.203Z"
      },
      {
        "duration": 3,
        "start_time": "2022-05-03T18:16:57.891Z"
      },
      {
        "duration": 106,
        "start_time": "2022-05-03T18:16:57.897Z"
      },
      {
        "duration": 14,
        "start_time": "2022-05-03T18:16:58.005Z"
      },
      {
        "duration": 28,
        "start_time": "2022-05-03T18:16:58.021Z"
      },
      {
        "duration": 9,
        "start_time": "2022-05-03T18:16:58.051Z"
      },
      {
        "duration": 26,
        "start_time": "2022-05-03T18:16:58.062Z"
      },
      {
        "duration": 4,
        "start_time": "2022-05-03T18:16:58.090Z"
      },
      {
        "duration": 52,
        "start_time": "2022-05-03T18:16:58.096Z"
      },
      {
        "duration": 4,
        "start_time": "2022-05-03T18:16:58.150Z"
      },
      {
        "duration": 5,
        "start_time": "2022-05-03T18:16:58.156Z"
      },
      {
        "duration": 47,
        "start_time": "2022-05-03T18:16:58.163Z"
      },
      {
        "duration": 35,
        "start_time": "2022-05-03T18:16:58.212Z"
      },
      {
        "duration": 8,
        "start_time": "2022-05-03T18:16:58.249Z"
      },
      {
        "duration": 14,
        "start_time": "2022-05-03T18:16:58.258Z"
      },
      {
        "duration": 13,
        "start_time": "2022-05-03T18:16:58.273Z"
      },
      {
        "duration": 14,
        "start_time": "2022-05-03T18:16:58.288Z"
      },
      {
        "duration": 298,
        "start_time": "2022-05-03T18:16:58.303Z"
      },
      {
        "duration": 46,
        "start_time": "2022-05-03T18:16:58.602Z"
      },
      {
        "duration": 113,
        "start_time": "2022-05-03T18:16:58.650Z"
      },
      {
        "duration": 8,
        "start_time": "2022-05-03T18:16:58.765Z"
      },
      {
        "duration": 161,
        "start_time": "2022-05-03T18:16:58.775Z"
      },
      {
        "duration": 150,
        "start_time": "2022-05-03T18:16:58.938Z"
      },
      {
        "duration": 7,
        "start_time": "2022-05-03T18:16:59.089Z"
      },
      {
        "duration": 25,
        "start_time": "2022-05-03T18:16:59.098Z"
      },
      {
        "duration": 152,
        "start_time": "2022-05-03T18:16:59.124Z"
      },
      {
        "duration": 321,
        "start_time": "2022-05-03T18:16:59.277Z"
      },
      {
        "duration": 6,
        "start_time": "2022-05-03T18:16:59.600Z"
      },
      {
        "duration": 55,
        "start_time": "2022-05-03T18:16:59.607Z"
      },
      {
        "duration": 33,
        "start_time": "2022-05-03T18:16:59.666Z"
      },
      {
        "duration": 147,
        "start_time": "2022-05-03T18:16:59.701Z"
      },
      {
        "duration": 138,
        "start_time": "2022-05-03T18:16:59.850Z"
      },
      {
        "duration": 8,
        "start_time": "2022-05-03T18:16:59.989Z"
      },
      {
        "duration": 25,
        "start_time": "2022-05-03T18:16:59.998Z"
      },
      {
        "duration": 145,
        "start_time": "2022-05-03T18:17:00.024Z"
      },
      {
        "duration": 121,
        "start_time": "2022-05-03T18:17:00.170Z"
      },
      {
        "duration": 4,
        "start_time": "2022-05-03T18:17:00.293Z"
      },
      {
        "duration": 8,
        "start_time": "2022-05-03T18:17:00.298Z"
      },
      {
        "duration": 13,
        "start_time": "2022-05-03T18:17:00.307Z"
      },
      {
        "duration": 32,
        "start_time": "2022-05-03T18:17:00.322Z"
      },
      {
        "duration": 11,
        "start_time": "2022-05-03T18:17:00.356Z"
      },
      {
        "duration": 17,
        "start_time": "2022-05-03T18:17:00.369Z"
      },
      {
        "duration": 13,
        "start_time": "2022-05-03T18:17:00.388Z"
      },
      {
        "duration": 7,
        "start_time": "2022-05-03T18:17:00.403Z"
      },
      {
        "duration": 9,
        "start_time": "2022-05-03T18:17:00.411Z"
      },
      {
        "duration": 30,
        "start_time": "2022-05-03T18:17:00.421Z"
      },
      {
        "duration": 18,
        "start_time": "2022-05-03T18:17:00.453Z"
      },
      {
        "duration": 153,
        "start_time": "2022-05-03T18:17:00.473Z"
      },
      {
        "duration": 23,
        "start_time": "2022-05-03T18:17:00.628Z"
      },
      {
        "duration": 149,
        "start_time": "2022-05-03T18:17:00.653Z"
      },
      {
        "duration": 15,
        "start_time": "2022-05-03T18:17:00.803Z"
      },
      {
        "duration": 158,
        "start_time": "2022-05-03T18:17:00.820Z"
      },
      {
        "duration": 15,
        "start_time": "2022-05-03T18:17:00.979Z"
      },
      {
        "duration": 176,
        "start_time": "2022-05-03T18:17:00.996Z"
      },
      {
        "duration": 17,
        "start_time": "2022-05-03T18:17:01.173Z"
      },
      {
        "duration": 25,
        "start_time": "2022-05-03T18:17:01.192Z"
      },
      {
        "duration": 147,
        "start_time": "2022-05-03T18:17:01.219Z"
      },
      {
        "duration": 17,
        "start_time": "2022-05-03T18:17:01.368Z"
      },
      {
        "duration": 18,
        "start_time": "2022-05-03T18:17:01.386Z"
      },
      {
        "duration": 4,
        "start_time": "2022-05-03T18:17:04.585Z"
      },
      {
        "duration": 5,
        "start_time": "2022-05-03T18:17:15.355Z"
      },
      {
        "duration": 8,
        "start_time": "2022-05-03T18:17:15.361Z"
      },
      {
        "duration": 6,
        "start_time": "2022-05-03T18:17:15.370Z"
      },
      {
        "duration": 14,
        "start_time": "2022-05-03T18:17:15.377Z"
      },
      {
        "duration": 19,
        "start_time": "2022-05-03T18:17:15.393Z"
      },
      {
        "duration": 175,
        "start_time": "2022-05-03T18:17:15.414Z"
      },
      {
        "duration": 40,
        "start_time": "2022-05-03T18:17:15.591Z"
      },
      {
        "duration": 5,
        "start_time": "2022-05-03T18:17:15.648Z"
      },
      {
        "duration": 8,
        "start_time": "2022-05-03T18:17:15.654Z"
      },
      {
        "duration": 6,
        "start_time": "2022-05-03T18:17:15.664Z"
      },
      {
        "duration": 5,
        "start_time": "2022-05-03T18:17:15.671Z"
      },
      {
        "duration": 7,
        "start_time": "2022-05-03T18:17:15.677Z"
      },
      {
        "duration": 6,
        "start_time": "2022-05-03T18:17:15.686Z"
      },
      {
        "duration": 54,
        "start_time": "2022-05-03T18:17:15.694Z"
      },
      {
        "duration": 7,
        "start_time": "2022-05-03T18:17:15.750Z"
      },
      {
        "duration": 5,
        "start_time": "2022-05-03T18:17:15.760Z"
      },
      {
        "duration": 14,
        "start_time": "2022-05-03T18:17:15.766Z"
      },
      {
        "duration": 157,
        "start_time": "2022-05-03T18:17:15.781Z"
      },
      {
        "duration": 14,
        "start_time": "2022-05-03T18:17:15.948Z"
      },
      {
        "duration": 177,
        "start_time": "2022-05-03T18:17:15.963Z"
      },
      {
        "duration": 18,
        "start_time": "2022-05-03T18:17:16.141Z"
      },
      {
        "duration": 156,
        "start_time": "2022-05-03T18:17:16.161Z"
      },
      {
        "duration": 14,
        "start_time": "2022-05-03T18:17:16.319Z"
      },
      {
        "duration": 156,
        "start_time": "2022-05-03T18:17:16.347Z"
      },
      {
        "duration": 20,
        "start_time": "2022-05-03T18:17:49.070Z"
      },
      {
        "duration": 18,
        "start_time": "2022-05-03T18:18:03.686Z"
      },
      {
        "duration": 2,
        "start_time": "2022-05-03T18:18:36.618Z"
      },
      {
        "duration": 100,
        "start_time": "2022-05-03T18:18:36.625Z"
      },
      {
        "duration": 29,
        "start_time": "2022-05-03T18:18:36.727Z"
      },
      {
        "duration": 4,
        "start_time": "2022-05-03T18:18:36.757Z"
      },
      {
        "duration": 15,
        "start_time": "2022-05-03T18:18:36.762Z"
      },
      {
        "duration": 22,
        "start_time": "2022-05-03T18:18:36.779Z"
      },
      {
        "duration": 3,
        "start_time": "2022-05-03T18:18:36.803Z"
      },
      {
        "duration": 5,
        "start_time": "2022-05-03T18:18:36.808Z"
      },
      {
        "duration": 4,
        "start_time": "2022-05-03T18:18:36.848Z"
      },
      {
        "duration": 4,
        "start_time": "2022-05-03T18:18:36.853Z"
      },
      {
        "duration": 44,
        "start_time": "2022-05-03T18:18:36.859Z"
      },
      {
        "duration": 5,
        "start_time": "2022-05-03T18:18:36.905Z"
      },
      {
        "duration": 12,
        "start_time": "2022-05-03T18:18:36.947Z"
      },
      {
        "duration": 12,
        "start_time": "2022-05-03T18:18:36.961Z"
      },
      {
        "duration": 12,
        "start_time": "2022-05-03T18:18:36.975Z"
      },
      {
        "duration": 14,
        "start_time": "2022-05-03T18:18:36.989Z"
      },
      {
        "duration": 304,
        "start_time": "2022-05-03T18:18:37.005Z"
      },
      {
        "duration": 43,
        "start_time": "2022-05-03T18:18:37.311Z"
      },
      {
        "duration": 108,
        "start_time": "2022-05-03T18:18:37.356Z"
      },
      {
        "duration": 7,
        "start_time": "2022-05-03T18:18:37.466Z"
      },
      {
        "duration": 150,
        "start_time": "2022-05-03T18:18:37.474Z"
      },
      {
        "duration": 124,
        "start_time": "2022-05-03T18:18:37.626Z"
      },
      {
        "duration": 7,
        "start_time": "2022-05-03T18:18:37.751Z"
      },
      {
        "duration": 24,
        "start_time": "2022-05-03T18:18:37.759Z"
      },
      {
        "duration": 147,
        "start_time": "2022-05-03T18:18:37.785Z"
      },
      {
        "duration": 138,
        "start_time": "2022-05-03T18:18:37.934Z"
      },
      {
        "duration": 6,
        "start_time": "2022-05-03T18:18:38.073Z"
      },
      {
        "duration": 31,
        "start_time": "2022-05-03T18:18:38.081Z"
      },
      {
        "duration": 57,
        "start_time": "2022-05-03T18:18:38.117Z"
      },
      {
        "duration": 139,
        "start_time": "2022-05-03T18:18:38.176Z"
      },
      {
        "duration": 121,
        "start_time": "2022-05-03T18:18:38.316Z"
      },
      {
        "duration": 10,
        "start_time": "2022-05-03T18:18:38.439Z"
      },
      {
        "duration": 5,
        "start_time": "2022-05-03T18:18:38.451Z"
      },
      {
        "duration": 149,
        "start_time": "2022-05-03T18:18:38.458Z"
      },
      {
        "duration": 122,
        "start_time": "2022-05-03T18:18:38.609Z"
      },
      {
        "duration": 17,
        "start_time": "2022-05-03T18:18:38.733Z"
      },
      {
        "duration": 7,
        "start_time": "2022-05-03T18:18:38.751Z"
      },
      {
        "duration": 9,
        "start_time": "2022-05-03T18:18:38.760Z"
      },
      {
        "duration": 11,
        "start_time": "2022-05-03T18:18:38.771Z"
      },
      {
        "duration": 9,
        "start_time": "2022-05-03T18:18:38.784Z"
      },
      {
        "duration": 10,
        "start_time": "2022-05-03T18:18:38.794Z"
      },
      {
        "duration": 6,
        "start_time": "2022-05-03T18:18:38.847Z"
      },
      {
        "duration": 5,
        "start_time": "2022-05-03T18:18:38.855Z"
      },
      {
        "duration": 6,
        "start_time": "2022-05-03T18:18:38.862Z"
      },
      {
        "duration": 7,
        "start_time": "2022-05-03T18:18:38.870Z"
      },
      {
        "duration": 14,
        "start_time": "2022-05-03T18:18:38.879Z"
      },
      {
        "duration": 174,
        "start_time": "2022-05-03T18:18:38.894Z"
      },
      {
        "duration": 14,
        "start_time": "2022-05-03T18:18:39.070Z"
      },
      {
        "duration": 147,
        "start_time": "2022-05-03T18:18:39.085Z"
      },
      {
        "duration": 24,
        "start_time": "2022-05-03T18:18:39.233Z"
      },
      {
        "duration": 143,
        "start_time": "2022-05-03T18:18:39.259Z"
      },
      {
        "duration": 15,
        "start_time": "2022-05-03T18:18:39.404Z"
      },
      {
        "duration": 172,
        "start_time": "2022-05-03T18:18:39.421Z"
      },
      {
        "duration": 18,
        "start_time": "2022-05-03T18:18:39.595Z"
      },
      {
        "duration": 10,
        "start_time": "2022-05-03T18:18:39.615Z"
      },
      {
        "duration": 148,
        "start_time": "2022-05-03T18:18:39.627Z"
      },
      {
        "duration": 17,
        "start_time": "2022-05-03T18:18:39.777Z"
      },
      {
        "duration": 19,
        "start_time": "2022-05-03T18:18:39.796Z"
      },
      {
        "duration": 36,
        "start_time": "2022-05-03T18:18:39.817Z"
      },
      {
        "duration": 7,
        "start_time": "2022-05-03T18:18:39.855Z"
      },
      {
        "duration": 14,
        "start_time": "2022-05-03T18:18:39.863Z"
      },
      {
        "duration": 19,
        "start_time": "2022-05-03T18:18:39.879Z"
      },
      {
        "duration": 172,
        "start_time": "2022-05-03T18:18:39.900Z"
      },
      {
        "duration": 267,
        "start_time": "2022-05-03T18:18:40.074Z"
      },
      {
        "duration": 5,
        "start_time": "2022-05-03T18:18:40.346Z"
      },
      {
        "duration": 6,
        "start_time": "2022-05-03T18:18:40.353Z"
      },
      {
        "duration": 6,
        "start_time": "2022-05-03T18:18:40.360Z"
      },
      {
        "duration": 4,
        "start_time": "2022-05-03T18:18:40.368Z"
      },
      {
        "duration": 5,
        "start_time": "2022-05-03T18:18:40.374Z"
      },
      {
        "duration": 6,
        "start_time": "2022-05-03T18:18:40.380Z"
      },
      {
        "duration": 6,
        "start_time": "2022-05-03T18:18:40.387Z"
      },
      {
        "duration": 5,
        "start_time": "2022-05-03T18:18:40.394Z"
      },
      {
        "duration": 53,
        "start_time": "2022-05-03T18:18:40.400Z"
      },
      {
        "duration": 15,
        "start_time": "2022-05-03T18:18:40.454Z"
      },
      {
        "duration": 286,
        "start_time": "2022-05-03T18:18:40.470Z"
      },
      {
        "duration": 14,
        "start_time": "2022-05-03T18:18:40.757Z"
      },
      {
        "duration": 296,
        "start_time": "2022-05-03T18:18:40.773Z"
      },
      {
        "duration": 14,
        "start_time": "2022-05-03T18:18:41.071Z"
      },
      {
        "duration": 367,
        "start_time": "2022-05-03T18:18:41.087Z"
      },
      {
        "duration": 19,
        "start_time": "2022-05-03T18:18:41.456Z"
      },
      {
        "duration": 371,
        "start_time": "2022-05-03T18:18:41.477Z"
      },
      {
        "duration": 123,
        "start_time": "2022-05-03T18:22:09.534Z"
      },
      {
        "duration": 120,
        "start_time": "2022-05-03T18:22:59.060Z"
      },
      {
        "duration": 21,
        "start_time": "2022-05-03T18:24:32.888Z"
      },
      {
        "duration": 20,
        "start_time": "2022-05-03T18:24:43.234Z"
      },
      {
        "duration": 108,
        "start_time": "2022-05-03T18:24:58.765Z"
      },
      {
        "duration": 160,
        "start_time": "2022-05-03T18:25:05.554Z"
      },
      {
        "duration": 125,
        "start_time": "2022-05-03T18:26:14.912Z"
      },
      {
        "duration": 119,
        "start_time": "2022-05-03T18:26:19.328Z"
      },
      {
        "duration": 117,
        "start_time": "2022-05-03T18:26:36.872Z"
      },
      {
        "duration": 129,
        "start_time": "2022-05-03T18:29:50.573Z"
      },
      {
        "duration": 116,
        "start_time": "2022-05-03T18:29:56.904Z"
      },
      {
        "duration": 36,
        "start_time": "2022-05-03T18:30:03.360Z"
      },
      {
        "duration": 43,
        "start_time": "2022-05-03T18:30:06.638Z"
      },
      {
        "duration": 5,
        "start_time": "2022-05-03T18:30:06.683Z"
      },
      {
        "duration": 6,
        "start_time": "2022-05-03T18:30:06.689Z"
      },
      {
        "duration": 5,
        "start_time": "2022-05-03T18:30:06.697Z"
      },
      {
        "duration": 9,
        "start_time": "2022-05-03T18:30:06.704Z"
      },
      {
        "duration": 11,
        "start_time": "2022-05-03T18:30:06.748Z"
      },
      {
        "duration": 7,
        "start_time": "2022-05-03T18:30:06.762Z"
      },
      {
        "duration": 7,
        "start_time": "2022-05-03T18:30:06.771Z"
      },
      {
        "duration": 5,
        "start_time": "2022-05-03T18:30:06.779Z"
      },
      {
        "duration": 4,
        "start_time": "2022-05-03T18:30:06.787Z"
      },
      {
        "duration": 14,
        "start_time": "2022-05-03T18:30:06.793Z"
      },
      {
        "duration": 193,
        "start_time": "2022-05-03T18:30:06.809Z"
      },
      {
        "duration": 13,
        "start_time": "2022-05-03T18:30:07.004Z"
      },
      {
        "duration": 168,
        "start_time": "2022-05-03T18:30:07.019Z"
      },
      {
        "duration": 14,
        "start_time": "2022-05-03T18:30:07.189Z"
      },
      {
        "duration": 167,
        "start_time": "2022-05-03T18:30:07.205Z"
      },
      {
        "duration": 15,
        "start_time": "2022-05-03T18:30:07.373Z"
      },
      {
        "duration": 172,
        "start_time": "2022-05-03T18:30:07.390Z"
      },
      {
        "duration": 126,
        "start_time": "2022-05-03T18:30:51.041Z"
      },
      {
        "duration": 3,
        "start_time": "2022-05-03T18:33:20.138Z"
      },
      {
        "duration": 133,
        "start_time": "2022-05-03T18:33:20.146Z"
      },
      {
        "duration": 18,
        "start_time": "2022-05-03T18:33:20.281Z"
      },
      {
        "duration": 5,
        "start_time": "2022-05-03T18:33:20.301Z"
      },
      {
        "duration": 48,
        "start_time": "2022-05-03T18:33:20.309Z"
      },
      {
        "duration": 29,
        "start_time": "2022-05-03T18:33:20.359Z"
      },
      {
        "duration": 6,
        "start_time": "2022-05-03T18:33:20.390Z"
      },
      {
        "duration": 11,
        "start_time": "2022-05-03T18:33:20.398Z"
      },
      {
        "duration": 7,
        "start_time": "2022-05-03T18:33:20.448Z"
      },
      {
        "duration": 20,
        "start_time": "2022-05-03T18:33:20.456Z"
      },
      {
        "duration": 47,
        "start_time": "2022-05-03T18:33:20.479Z"
      },
      {
        "duration": 9,
        "start_time": "2022-05-03T18:33:20.547Z"
      },
      {
        "duration": 20,
        "start_time": "2022-05-03T18:33:20.558Z"
      },
      {
        "duration": 14,
        "start_time": "2022-05-03T18:33:20.580Z"
      },
      {
        "duration": 14,
        "start_time": "2022-05-03T18:33:20.596Z"
      },
      {
        "duration": 52,
        "start_time": "2022-05-03T18:33:20.611Z"
      },
      {
        "duration": 467,
        "start_time": "2022-05-03T18:33:20.666Z"
      },
      {
        "duration": 55,
        "start_time": "2022-05-03T18:33:21.135Z"
      },
      {
        "duration": 177,
        "start_time": "2022-05-03T18:33:21.192Z"
      },
      {
        "duration": 8,
        "start_time": "2022-05-03T18:33:21.372Z"
      },
      {
        "duration": 245,
        "start_time": "2022-05-03T18:33:21.382Z"
      },
      {
        "duration": 165,
        "start_time": "2022-05-03T18:33:21.629Z"
      },
      {
        "duration": 8,
        "start_time": "2022-05-03T18:33:21.796Z"
      },
      {
        "duration": 25,
        "start_time": "2022-05-03T18:33:21.805Z"
      },
      {
        "duration": 162,
        "start_time": "2022-05-03T18:33:21.850Z"
      },
      {
        "duration": 160,
        "start_time": "2022-05-03T18:33:22.014Z"
      },
      {
        "duration": 10,
        "start_time": "2022-05-03T18:33:22.176Z"
      },
      {
        "duration": 74,
        "start_time": "2022-05-03T18:33:22.188Z"
      },
      {
        "duration": 51,
        "start_time": "2022-05-03T18:33:22.271Z"
      },
      {
        "duration": 229,
        "start_time": "2022-05-03T18:33:22.325Z"
      },
      {
        "duration": 141,
        "start_time": "2022-05-03T18:33:22.556Z"
      },
      {
        "duration": 9,
        "start_time": "2022-05-03T18:33:22.699Z"
      },
      {
        "duration": 7,
        "start_time": "2022-05-03T18:33:22.709Z"
      },
      {
        "duration": 195,
        "start_time": "2022-05-03T18:33:22.718Z"
      },
      {
        "duration": 154,
        "start_time": "2022-05-03T18:33:22.915Z"
      },
      {
        "duration": 5,
        "start_time": "2022-05-03T18:33:23.071Z"
      },
      {
        "duration": 6,
        "start_time": "2022-05-03T18:33:23.078Z"
      },
      {
        "duration": 11,
        "start_time": "2022-05-03T18:33:23.086Z"
      },
      {
        "duration": 13,
        "start_time": "2022-05-03T18:33:23.099Z"
      },
      {
        "duration": 8,
        "start_time": "2022-05-03T18:33:23.114Z"
      },
      {
        "duration": 9,
        "start_time": "2022-05-03T18:33:23.123Z"
      },
      {
        "duration": 5,
        "start_time": "2022-05-03T18:33:23.133Z"
      },
      {
        "duration": 16,
        "start_time": "2022-05-03T18:33:23.140Z"
      },
      {
        "duration": 20,
        "start_time": "2022-05-03T18:33:23.159Z"
      },
      {
        "duration": 6,
        "start_time": "2022-05-03T18:33:23.181Z"
      },
      {
        "duration": 19,
        "start_time": "2022-05-03T18:33:23.189Z"
      },
      {
        "duration": 295,
        "start_time": "2022-05-03T18:33:23.209Z"
      },
      {
        "duration": 44,
        "start_time": "2022-05-03T18:33:23.505Z"
      },
      {
        "duration": 305,
        "start_time": "2022-05-03T18:33:23.551Z"
      },
      {
        "duration": 20,
        "start_time": "2022-05-03T18:33:23.858Z"
      },
      {
        "duration": 253,
        "start_time": "2022-05-03T18:33:23.880Z"
      },
      {
        "duration": 29,
        "start_time": "2022-05-03T18:33:24.134Z"
      },
      {
        "duration": 217,
        "start_time": "2022-05-03T18:33:24.166Z"
      },
      {
        "duration": 22,
        "start_time": "2022-05-03T18:33:24.385Z"
      },
      {
        "duration": 40,
        "start_time": "2022-05-03T18:33:24.409Z"
      },
      {
        "duration": 164,
        "start_time": "2022-05-03T18:33:24.451Z"
      },
      {
        "duration": 16,
        "start_time": "2022-05-03T18:33:24.617Z"
      },
      {
        "duration": 10,
        "start_time": "2022-05-03T18:33:24.648Z"
      },
      {
        "duration": 8,
        "start_time": "2022-05-03T18:33:24.660Z"
      },
      {
        "duration": 15,
        "start_time": "2022-05-03T18:33:24.670Z"
      },
      {
        "duration": 19,
        "start_time": "2022-05-03T18:33:24.686Z"
      },
      {
        "duration": 196,
        "start_time": "2022-05-03T18:33:24.706Z"
      },
      {
        "duration": 136,
        "start_time": "2022-05-03T18:33:24.904Z"
      },
      {
        "duration": 60,
        "start_time": "2022-05-03T18:33:25.042Z"
      },
      {
        "duration": 6,
        "start_time": "2022-05-03T18:33:25.104Z"
      },
      {
        "duration": 36,
        "start_time": "2022-05-03T18:33:25.112Z"
      },
      {
        "duration": 6,
        "start_time": "2022-05-03T18:33:25.149Z"
      },
      {
        "duration": 22,
        "start_time": "2022-05-03T18:33:25.157Z"
      },
      {
        "duration": 8,
        "start_time": "2022-05-03T18:33:25.181Z"
      },
      {
        "duration": 6,
        "start_time": "2022-05-03T18:33:25.191Z"
      },
      {
        "duration": 7,
        "start_time": "2022-05-03T18:33:25.199Z"
      },
      {
        "duration": 7,
        "start_time": "2022-05-03T18:33:25.208Z"
      },
      {
        "duration": 36,
        "start_time": "2022-05-03T18:33:25.216Z"
      },
      {
        "duration": 28,
        "start_time": "2022-05-03T18:33:25.253Z"
      },
      {
        "duration": 188,
        "start_time": "2022-05-03T18:33:25.284Z"
      },
      {
        "duration": 20,
        "start_time": "2022-05-03T18:33:25.474Z"
      },
      {
        "duration": 262,
        "start_time": "2022-05-03T18:33:25.496Z"
      },
      {
        "duration": 18,
        "start_time": "2022-05-03T18:33:25.759Z"
      },
      {
        "duration": 178,
        "start_time": "2022-05-03T18:33:25.779Z"
      },
      {
        "duration": 16,
        "start_time": "2022-05-03T18:33:25.960Z"
      },
      {
        "duration": 174,
        "start_time": "2022-05-03T18:33:25.978Z"
      }
    ],
    "kernelspec": {
      "name": "python",
      "display_name": "Pyolite",
      "language": "python"
    },
    "language_info": {
      "codemirror_mode": {
        "name": "python",
        "version": 3
      },
      "file_extension": ".py",
      "mimetype": "text/x-python",
      "name": "python",
      "nbconvert_exporter": "python",
      "pygments_lexer": "ipython3",
      "version": "3.8"
    },
    "toc": {
      "base_numbering": 1,
      "nav_menu": {},
      "number_sections": true,
      "sideBar": true,
      "skip_h1_title": true,
      "title_cell": "Содержание",
      "title_sidebar": "Contents",
      "toc_cell": true,
      "toc_position": {
        "height": "calc(100% - 180px)",
        "left": "10px",
        "top": "150px",
        "width": "213.6px"
      },
      "toc_section_display": true,
      "toc_window_display": true
    }
  },
  "nbformat_minor": 4,
  "nbformat": 4,
  "cells": [
    {
      "cell_type": "markdown",
      "source": "<h1>Содержание<span class=\"tocSkip\"></span></h1>\n<div class=\"toc\"><ul class=\"toc-item\"><li><span><a href=\"#Изучение-данных-из-файла\" data-toc-modified-id=\"Изучение-данных-из-файла-1\"><span class=\"toc-item-num\">1&nbsp;&nbsp;</span>Изучение данных из файла</a></span><ul class=\"toc-item\"><li><span><a href=\"#Вывод\" data-toc-modified-id=\"Вывод-1.1\"><span class=\"toc-item-num\">1.1&nbsp;&nbsp;</span>Вывод</a></span></li></ul></li><li><span><a href=\"#Предобработка-данных\" data-toc-modified-id=\"Предобработка-данных-2\"><span class=\"toc-item-num\">2&nbsp;&nbsp;</span>Предобработка данных</a></span></li><li><span><a href=\"#Расчёты-и-добавление-результатов-в-таблицу\" data-toc-modified-id=\"Расчёты-и-добавление-результатов-в-таблицу-3\"><span class=\"toc-item-num\">3&nbsp;&nbsp;</span>Расчёты и добавление результатов в таблицу</a></span></li><li><span><a href=\"#Исследовательский-анализ-данных\" data-toc-modified-id=\"Исследовательский-анализ-данных-4\"><span class=\"toc-item-num\">4&nbsp;&nbsp;</span>Исследовательский анализ данных</a></span><ul class=\"toc-item\"><li><span><a href=\"#Изучение-площади,-цены,-числа-комнат-и-высоты-потолков\" data-toc-modified-id=\"Изучение-площади,-цены,-числа-комнат-и-высоты-потолков-4.1\"><span class=\"toc-item-num\">4.1&nbsp;&nbsp;</span>Изучение площади, цены, числа комнат и высоты потолков</a></span></li><li><span><a href=\"#Изучение-время-продажи-квартиры\" data-toc-modified-id=\"Изучение-время-продажи-квартиры-4.2\"><span class=\"toc-item-num\">4.2&nbsp;&nbsp;</span>Изучение время продажи квартиры</a></span></li><li><span><a href=\"#Определение-факторов,-влияющих-на-стоимость-квартиры\" data-toc-modified-id=\"Определение-факторов,-влияющих-на-стоимость-квартиры-4.3\"><span class=\"toc-item-num\">4.3&nbsp;&nbsp;</span>Определение факторов, влияющих на стоимость квартиры</a></span></li><li><span><a href=\"#Расчет-среденей-цены-квадратного-метра-в-населенных-пунктах-с-наибольшим-числом-объявлений\" data-toc-modified-id=\"Расчет-среденей-цены-квадратного-метра-в-населенных-пунктах-с-наибольшим-числом-объявлений-4.4\"><span class=\"toc-item-num\">4.4&nbsp;&nbsp;</span>Расчет среденей цены квадратного метра в населенных пунктах с наибольшим числом объявлений</a></span></li><li><span><a href=\"#Определение-центра-в-Санкт-Петербурге\" data-toc-modified-id=\"Определение-центра-в-Санкт-Петербурге-4.5\"><span class=\"toc-item-num\">4.5&nbsp;&nbsp;</span>Определение центра в Санкт-Петербурге</a></span></li><li><span><a href=\"#Анализ-квартир-в-центре-Санкт-Петербурга\" data-toc-modified-id=\"Анализ-квартир-в-центре-Санкт-Петербурга-4.6\"><span class=\"toc-item-num\">4.6&nbsp;&nbsp;</span>Анализ квартир в центре Санкт-Петербурга</a></span></li></ul></li><li><span><a href=\"#Общий-вывод\" data-toc-modified-id=\"Общий-вывод-5\"><span class=\"toc-item-num\">5&nbsp;&nbsp;</span>Общий вывод</a></span></li><li><span><a href=\"#Чек-лист-готовности-проекта\" data-toc-modified-id=\"Чек-лист-готовности-проекта-6\"><span class=\"toc-item-num\">6&nbsp;&nbsp;</span>Чек-лист готовности проекта</a></span></li></ul></div>",
      "metadata": {
        "toc": true
      }
    },
    {
      "cell_type": "markdown",
      "source": "# Исследование объявлений о продаже квартир\n\nВ вашем распоряжении данные сервиса Яндекc Недвижимость — архив объявлений о продаже квартир в Санкт-Петербурге и соседних населённых пунктах за несколько лет. Нужно научиться определять рыночную стоимость объектов недвижимости. Ваша задача — установить параметры. Это позволит построить автоматизированную систему: она отследит аномалии и мошенническую деятельность. \n\nПо каждой квартире на продажу доступны два вида данных. Первые вписаны пользователем, вторые получены автоматически на основе картографических данных. Например, расстояние до центра, аэропорта, ближайшего парка и водоёма. ",
      "metadata": {}
    },
    {
      "cell_type": "markdown",
      "source": "Наименование столбцов:\n- `airports_nearest` — расстояние до ближайшего аэропорта в метрах (м)\n- `balcony` — число балконов\n- `ceiling_height` — высота потолков (м)\n- `cityCenters_nearest` — расстояние до центра города (м)\n- `days_exposition` — сколько дней было размещено объявление (от публикации до снятия)\n- `first_day_exposition` — дата публикации\n- `floor` — этаж\n- `floors_total` — всего этажей в доме\n- `is_apartment` — апартаменты (булев тип)\n- `kitchen_area` — площадь кухни в квадратных метрах (м²)\n- `last_price` — цена на момент снятия с публикации\n- `living_area` — жилая площадь в квадратных метрах (м²)\n- `locality_name` — название населённого пункта\n- `open_plan` — свободная планировка (булев тип)\n- `parks_around3000` — число парков в радиусе 3 км\n- `parks_nearest` — расстояние до ближайшего парка (м)\n- `ponds_around3000` — число водоёмов в радиусе 3 км\n- `ponds_nearest` — расстояние до ближайшего водоёма (м)\n- `rooms` — число комнат\n- `studio` — квартира-студия (булев тип)\n- `total_area` — площадь квартиры в квадратных метрах (м²)\n- `total_images` — число фотографий квартиры в объявлении",
      "metadata": {}
    },
    {
      "cell_type": "markdown",
      "source": "## Изучение данных из файла",
      "metadata": {}
    },
    {
      "cell_type": "code",
      "source": "import pandas as pd\nimport seaborn as sns\nimport numpy as np",
      "metadata": {},
      "execution_count": 671,
      "outputs": []
    },
    {
      "cell_type": "code",
      "source": "df = pd.read_csv('/datasets/real_estate_data.csv', sep='\\t')\npd.options.display.max_columns=30\ndf",
      "metadata": {},
      "execution_count": 672,
      "outputs": [
        {
          "execution_count": 672,
          "output_type": "execute_result",
          "data": {
            "text/html": [
              "<div>\n",
              "<style scoped>\n",
              "    .dataframe tbody tr th:only-of-type {\n",
              "        vertical-align: middle;\n",
              "    }\n",
              "\n",
              "    .dataframe tbody tr th {\n",
              "        vertical-align: top;\n",
              "    }\n",
              "\n",
              "    .dataframe thead th {\n",
              "        text-align: right;\n",
              "    }\n",
              "</style>\n",
              "<table border=\"1\" class=\"dataframe\">\n",
              "  <thead>\n",
              "    <tr style=\"text-align: right;\">\n",
              "      <th></th>\n",
              "      <th>total_images</th>\n",
              "      <th>last_price</th>\n",
              "      <th>total_area</th>\n",
              "      <th>first_day_exposition</th>\n",
              "      <th>rooms</th>\n",
              "      <th>ceiling_height</th>\n",
              "      <th>floors_total</th>\n",
              "      <th>living_area</th>\n",
              "      <th>floor</th>\n",
              "      <th>is_apartment</th>\n",
              "      <th>studio</th>\n",
              "      <th>open_plan</th>\n",
              "      <th>kitchen_area</th>\n",
              "      <th>balcony</th>\n",
              "      <th>locality_name</th>\n",
              "      <th>airports_nearest</th>\n",
              "      <th>cityCenters_nearest</th>\n",
              "      <th>parks_around3000</th>\n",
              "      <th>parks_nearest</th>\n",
              "      <th>ponds_around3000</th>\n",
              "      <th>ponds_nearest</th>\n",
              "      <th>days_exposition</th>\n",
              "    </tr>\n",
              "  </thead>\n",
              "  <tbody>\n",
              "    <tr>\n",
              "      <th>0</th>\n",
              "      <td>20</td>\n",
              "      <td>13000000.0</td>\n",
              "      <td>108.00</td>\n",
              "      <td>2019-03-07T00:00:00</td>\n",
              "      <td>3</td>\n",
              "      <td>2.70</td>\n",
              "      <td>16.0</td>\n",
              "      <td>51.0</td>\n",
              "      <td>8</td>\n",
              "      <td>NaN</td>\n",
              "      <td>False</td>\n",
              "      <td>False</td>\n",
              "      <td>25.00</td>\n",
              "      <td>NaN</td>\n",
              "      <td>Санкт-Петербург</td>\n",
              "      <td>18863.0</td>\n",
              "      <td>16028.0</td>\n",
              "      <td>1.0</td>\n",
              "      <td>482.0</td>\n",
              "      <td>2.0</td>\n",
              "      <td>755.0</td>\n",
              "      <td>NaN</td>\n",
              "    </tr>\n",
              "    <tr>\n",
              "      <th>1</th>\n",
              "      <td>7</td>\n",
              "      <td>3350000.0</td>\n",
              "      <td>40.40</td>\n",
              "      <td>2018-12-04T00:00:00</td>\n",
              "      <td>1</td>\n",
              "      <td>NaN</td>\n",
              "      <td>11.0</td>\n",
              "      <td>18.6</td>\n",
              "      <td>1</td>\n",
              "      <td>NaN</td>\n",
              "      <td>False</td>\n",
              "      <td>False</td>\n",
              "      <td>11.00</td>\n",
              "      <td>2.0</td>\n",
              "      <td>посёлок Шушары</td>\n",
              "      <td>12817.0</td>\n",
              "      <td>18603.0</td>\n",
              "      <td>0.0</td>\n",
              "      <td>NaN</td>\n",
              "      <td>0.0</td>\n",
              "      <td>NaN</td>\n",
              "      <td>81.0</td>\n",
              "    </tr>\n",
              "    <tr>\n",
              "      <th>2</th>\n",
              "      <td>10</td>\n",
              "      <td>5196000.0</td>\n",
              "      <td>56.00</td>\n",
              "      <td>2015-08-20T00:00:00</td>\n",
              "      <td>2</td>\n",
              "      <td>NaN</td>\n",
              "      <td>5.0</td>\n",
              "      <td>34.3</td>\n",
              "      <td>4</td>\n",
              "      <td>NaN</td>\n",
              "      <td>False</td>\n",
              "      <td>False</td>\n",
              "      <td>8.30</td>\n",
              "      <td>0.0</td>\n",
              "      <td>Санкт-Петербург</td>\n",
              "      <td>21741.0</td>\n",
              "      <td>13933.0</td>\n",
              "      <td>1.0</td>\n",
              "      <td>90.0</td>\n",
              "      <td>2.0</td>\n",
              "      <td>574.0</td>\n",
              "      <td>558.0</td>\n",
              "    </tr>\n",
              "    <tr>\n",
              "      <th>3</th>\n",
              "      <td>0</td>\n",
              "      <td>64900000.0</td>\n",
              "      <td>159.00</td>\n",
              "      <td>2015-07-24T00:00:00</td>\n",
              "      <td>3</td>\n",
              "      <td>NaN</td>\n",
              "      <td>14.0</td>\n",
              "      <td>NaN</td>\n",
              "      <td>9</td>\n",
              "      <td>NaN</td>\n",
              "      <td>False</td>\n",
              "      <td>False</td>\n",
              "      <td>NaN</td>\n",
              "      <td>0.0</td>\n",
              "      <td>Санкт-Петербург</td>\n",
              "      <td>28098.0</td>\n",
              "      <td>6800.0</td>\n",
              "      <td>2.0</td>\n",
              "      <td>84.0</td>\n",
              "      <td>3.0</td>\n",
              "      <td>234.0</td>\n",
              "      <td>424.0</td>\n",
              "    </tr>\n",
              "    <tr>\n",
              "      <th>4</th>\n",
              "      <td>2</td>\n",
              "      <td>10000000.0</td>\n",
              "      <td>100.00</td>\n",
              "      <td>2018-06-19T00:00:00</td>\n",
              "      <td>2</td>\n",
              "      <td>3.03</td>\n",
              "      <td>14.0</td>\n",
              "      <td>32.0</td>\n",
              "      <td>13</td>\n",
              "      <td>NaN</td>\n",
              "      <td>False</td>\n",
              "      <td>False</td>\n",
              "      <td>41.00</td>\n",
              "      <td>NaN</td>\n",
              "      <td>Санкт-Петербург</td>\n",
              "      <td>31856.0</td>\n",
              "      <td>8098.0</td>\n",
              "      <td>2.0</td>\n",
              "      <td>112.0</td>\n",
              "      <td>1.0</td>\n",
              "      <td>48.0</td>\n",
              "      <td>121.0</td>\n",
              "    </tr>\n",
              "    <tr>\n",
              "      <th>...</th>\n",
              "      <td>...</td>\n",
              "      <td>...</td>\n",
              "      <td>...</td>\n",
              "      <td>...</td>\n",
              "      <td>...</td>\n",
              "      <td>...</td>\n",
              "      <td>...</td>\n",
              "      <td>...</td>\n",
              "      <td>...</td>\n",
              "      <td>...</td>\n",
              "      <td>...</td>\n",
              "      <td>...</td>\n",
              "      <td>...</td>\n",
              "      <td>...</td>\n",
              "      <td>...</td>\n",
              "      <td>...</td>\n",
              "      <td>...</td>\n",
              "      <td>...</td>\n",
              "      <td>...</td>\n",
              "      <td>...</td>\n",
              "      <td>...</td>\n",
              "      <td>...</td>\n",
              "    </tr>\n",
              "    <tr>\n",
              "      <th>23694</th>\n",
              "      <td>9</td>\n",
              "      <td>9700000.0</td>\n",
              "      <td>133.81</td>\n",
              "      <td>2017-03-21T00:00:00</td>\n",
              "      <td>3</td>\n",
              "      <td>3.70</td>\n",
              "      <td>5.0</td>\n",
              "      <td>73.3</td>\n",
              "      <td>3</td>\n",
              "      <td>NaN</td>\n",
              "      <td>False</td>\n",
              "      <td>False</td>\n",
              "      <td>13.83</td>\n",
              "      <td>NaN</td>\n",
              "      <td>Санкт-Петербург</td>\n",
              "      <td>24665.0</td>\n",
              "      <td>4232.0</td>\n",
              "      <td>1.0</td>\n",
              "      <td>796.0</td>\n",
              "      <td>3.0</td>\n",
              "      <td>381.0</td>\n",
              "      <td>NaN</td>\n",
              "    </tr>\n",
              "    <tr>\n",
              "      <th>23695</th>\n",
              "      <td>14</td>\n",
              "      <td>3100000.0</td>\n",
              "      <td>59.00</td>\n",
              "      <td>2018-01-15T00:00:00</td>\n",
              "      <td>3</td>\n",
              "      <td>NaN</td>\n",
              "      <td>5.0</td>\n",
              "      <td>38.0</td>\n",
              "      <td>4</td>\n",
              "      <td>NaN</td>\n",
              "      <td>False</td>\n",
              "      <td>False</td>\n",
              "      <td>8.50</td>\n",
              "      <td>NaN</td>\n",
              "      <td>Тосно</td>\n",
              "      <td>NaN</td>\n",
              "      <td>NaN</td>\n",
              "      <td>NaN</td>\n",
              "      <td>NaN</td>\n",
              "      <td>NaN</td>\n",
              "      <td>NaN</td>\n",
              "      <td>45.0</td>\n",
              "    </tr>\n",
              "    <tr>\n",
              "      <th>23696</th>\n",
              "      <td>18</td>\n",
              "      <td>2500000.0</td>\n",
              "      <td>56.70</td>\n",
              "      <td>2018-02-11T00:00:00</td>\n",
              "      <td>2</td>\n",
              "      <td>NaN</td>\n",
              "      <td>3.0</td>\n",
              "      <td>29.7</td>\n",
              "      <td>1</td>\n",
              "      <td>NaN</td>\n",
              "      <td>False</td>\n",
              "      <td>False</td>\n",
              "      <td>NaN</td>\n",
              "      <td>NaN</td>\n",
              "      <td>село Рождествено</td>\n",
              "      <td>NaN</td>\n",
              "      <td>NaN</td>\n",
              "      <td>NaN</td>\n",
              "      <td>NaN</td>\n",
              "      <td>NaN</td>\n",
              "      <td>NaN</td>\n",
              "      <td>NaN</td>\n",
              "    </tr>\n",
              "    <tr>\n",
              "      <th>23697</th>\n",
              "      <td>13</td>\n",
              "      <td>11475000.0</td>\n",
              "      <td>76.75</td>\n",
              "      <td>2017-03-28T00:00:00</td>\n",
              "      <td>2</td>\n",
              "      <td>3.00</td>\n",
              "      <td>17.0</td>\n",
              "      <td>NaN</td>\n",
              "      <td>12</td>\n",
              "      <td>NaN</td>\n",
              "      <td>False</td>\n",
              "      <td>False</td>\n",
              "      <td>23.30</td>\n",
              "      <td>2.0</td>\n",
              "      <td>Санкт-Петербург</td>\n",
              "      <td>39140.0</td>\n",
              "      <td>10364.0</td>\n",
              "      <td>2.0</td>\n",
              "      <td>173.0</td>\n",
              "      <td>3.0</td>\n",
              "      <td>196.0</td>\n",
              "      <td>602.0</td>\n",
              "    </tr>\n",
              "    <tr>\n",
              "      <th>23698</th>\n",
              "      <td>4</td>\n",
              "      <td>1350000.0</td>\n",
              "      <td>32.30</td>\n",
              "      <td>2017-07-21T00:00:00</td>\n",
              "      <td>1</td>\n",
              "      <td>2.50</td>\n",
              "      <td>5.0</td>\n",
              "      <td>12.3</td>\n",
              "      <td>1</td>\n",
              "      <td>NaN</td>\n",
              "      <td>False</td>\n",
              "      <td>False</td>\n",
              "      <td>9.00</td>\n",
              "      <td>NaN</td>\n",
              "      <td>поселок Новый Учхоз</td>\n",
              "      <td>NaN</td>\n",
              "      <td>NaN</td>\n",
              "      <td>NaN</td>\n",
              "      <td>NaN</td>\n",
              "      <td>NaN</td>\n",
              "      <td>NaN</td>\n",
              "      <td>NaN</td>\n",
              "    </tr>\n",
              "  </tbody>\n",
              "</table>\n",
              "<p>23699 rows × 22 columns</p>\n",
              "</div>"
            ],
            "text/plain": [
              "       total_images  last_price  total_area first_day_exposition  rooms  \\\n",
              "0                20  13000000.0      108.00  2019-03-07T00:00:00      3   \n",
              "1                 7   3350000.0       40.40  2018-12-04T00:00:00      1   \n",
              "2                10   5196000.0       56.00  2015-08-20T00:00:00      2   \n",
              "3                 0  64900000.0      159.00  2015-07-24T00:00:00      3   \n",
              "4                 2  10000000.0      100.00  2018-06-19T00:00:00      2   \n",
              "...             ...         ...         ...                  ...    ...   \n",
              "23694             9   9700000.0      133.81  2017-03-21T00:00:00      3   \n",
              "23695            14   3100000.0       59.00  2018-01-15T00:00:00      3   \n",
              "23696            18   2500000.0       56.70  2018-02-11T00:00:00      2   \n",
              "23697            13  11475000.0       76.75  2017-03-28T00:00:00      2   \n",
              "23698             4   1350000.0       32.30  2017-07-21T00:00:00      1   \n",
              "\n",
              "       ceiling_height  floors_total  living_area  floor is_apartment  studio  \\\n",
              "0                2.70          16.0         51.0      8          NaN   False   \n",
              "1                 NaN          11.0         18.6      1          NaN   False   \n",
              "2                 NaN           5.0         34.3      4          NaN   False   \n",
              "3                 NaN          14.0          NaN      9          NaN   False   \n",
              "4                3.03          14.0         32.0     13          NaN   False   \n",
              "...               ...           ...          ...    ...          ...     ...   \n",
              "23694            3.70           5.0         73.3      3          NaN   False   \n",
              "23695             NaN           5.0         38.0      4          NaN   False   \n",
              "23696             NaN           3.0         29.7      1          NaN   False   \n",
              "23697            3.00          17.0          NaN     12          NaN   False   \n",
              "23698            2.50           5.0         12.3      1          NaN   False   \n",
              "\n",
              "       open_plan  kitchen_area  balcony        locality_name  \\\n",
              "0          False         25.00      NaN      Санкт-Петербург   \n",
              "1          False         11.00      2.0       посёлок Шушары   \n",
              "2          False          8.30      0.0      Санкт-Петербург   \n",
              "3          False           NaN      0.0      Санкт-Петербург   \n",
              "4          False         41.00      NaN      Санкт-Петербург   \n",
              "...          ...           ...      ...                  ...   \n",
              "23694      False         13.83      NaN      Санкт-Петербург   \n",
              "23695      False          8.50      NaN                Тосно   \n",
              "23696      False           NaN      NaN     село Рождествено   \n",
              "23697      False         23.30      2.0      Санкт-Петербург   \n",
              "23698      False          9.00      NaN  поселок Новый Учхоз   \n",
              "\n",
              "       airports_nearest  cityCenters_nearest  parks_around3000  parks_nearest  \\\n",
              "0               18863.0              16028.0               1.0          482.0   \n",
              "1               12817.0              18603.0               0.0            NaN   \n",
              "2               21741.0              13933.0               1.0           90.0   \n",
              "3               28098.0               6800.0               2.0           84.0   \n",
              "4               31856.0               8098.0               2.0          112.0   \n",
              "...                 ...                  ...               ...            ...   \n",
              "23694           24665.0               4232.0               1.0          796.0   \n",
              "23695               NaN                  NaN               NaN            NaN   \n",
              "23696               NaN                  NaN               NaN            NaN   \n",
              "23697           39140.0              10364.0               2.0          173.0   \n",
              "23698               NaN                  NaN               NaN            NaN   \n",
              "\n",
              "       ponds_around3000  ponds_nearest  days_exposition  \n",
              "0                   2.0          755.0              NaN  \n",
              "1                   0.0            NaN             81.0  \n",
              "2                   2.0          574.0            558.0  \n",
              "3                   3.0          234.0            424.0  \n",
              "4                   1.0           48.0            121.0  \n",
              "...                 ...            ...              ...  \n",
              "23694               3.0          381.0              NaN  \n",
              "23695               NaN            NaN             45.0  \n",
              "23696               NaN            NaN              NaN  \n",
              "23697               3.0          196.0            602.0  \n",
              "23698               NaN            NaN              NaN  \n",
              "\n",
              "[23699 rows x 22 columns]"
            ]
          },
          "metadata": {}
        }
      ]
    },
    {
      "cell_type": "code",
      "source": "df.info()",
      "metadata": {},
      "execution_count": 673,
      "outputs": [
        {
          "name": "stdout",
          "output_type": "stream",
          "text": "<class 'pandas.core.frame.DataFrame'>\n\nRangeIndex: 23699 entries, 0 to 23698\n\nData columns (total 22 columns):\n\n #   Column                Non-Null Count  Dtype  \n\n---  ------                --------------  -----  \n\n 0   total_images          23699 non-null  int64  \n\n 1   last_price            23699 non-null  float64\n\n 2   total_area            23699 non-null  float64\n\n 3   first_day_exposition  23699 non-null  object \n\n 4   rooms                 23699 non-null  int64  \n\n 5   ceiling_height        14504 non-null  float64\n\n 6   floors_total          23613 non-null  float64\n\n 7   living_area           21796 non-null  float64\n\n 8   floor                 23699 non-null  int64  \n\n 9   is_apartment          2775 non-null   object \n\n 10  studio                23699 non-null  bool   \n\n 11  open_plan             23699 non-null  bool   \n\n 12  kitchen_area          21421 non-null  float64\n\n 13  balcony               12180 non-null  float64\n\n 14  locality_name         23650 non-null  object \n\n 15  airports_nearest      18157 non-null  float64\n\n 16  cityCenters_nearest   18180 non-null  float64\n\n 17  parks_around3000      18181 non-null  float64\n\n 18  parks_nearest         8079 non-null   float64\n\n 19  ponds_around3000      18181 non-null  float64\n\n 20  ponds_nearest         9110 non-null   float64\n\n 21  days_exposition       20518 non-null  float64\n\ndtypes: bool(2), float64(14), int64(3), object(3)\n\nmemory usage: 3.7+ MB\n"
        }
      ]
    },
    {
      "cell_type": "code",
      "source": "df = df.rename(columns={'cityCenters_nearest':'city_centers_nearest'})",
      "metadata": {},
      "execution_count": 674,
      "outputs": []
    },
    {
      "cell_type": "markdown",
      "source": "### Вывод",
      "metadata": {}
    },
    {
      "cell_type": "markdown",
      "source": "Отрыв файл, заметили, что данные склеились в одну строку вместо того, чтобы разбиться по колонкам. Поэтому применили парметр - `sep`. Кроме того, во многих колонках присутсвуют пропуски. Название столбца `cityCenters_nearest` приведено к нижнему регистру.",
      "metadata": {}
    },
    {
      "cell_type": "markdown",
      "source": "## Предобработка данных",
      "metadata": {}
    },
    {
      "cell_type": "code",
      "source": "df.isna().sum()",
      "metadata": {},
      "execution_count": 675,
      "outputs": [
        {
          "execution_count": 675,
          "output_type": "execute_result",
          "data": {
            "text/plain": [
              "total_images                0\n",
              "last_price                  0\n",
              "total_area                  0\n",
              "first_day_exposition        0\n",
              "rooms                       0\n",
              "ceiling_height           9195\n",
              "floors_total               86\n",
              "living_area              1903\n",
              "floor                       0\n",
              "is_apartment            20924\n",
              "studio                      0\n",
              "open_plan                   0\n",
              "kitchen_area             2278\n",
              "balcony                 11519\n",
              "locality_name              49\n",
              "airports_nearest         5542\n",
              "city_centers_nearest     5519\n",
              "parks_around3000         5518\n",
              "parks_nearest           15620\n",
              "ponds_around3000         5518\n",
              "ponds_nearest           14589\n",
              "days_exposition          3181\n",
              "dtype: int64"
            ]
          },
          "metadata": {}
        }
      ]
    },
    {
      "cell_type": "code",
      "source": "df.duplicated().sum()",
      "metadata": {},
      "execution_count": 676,
      "outputs": [
        {
          "execution_count": 676,
          "output_type": "execute_result",
          "data": {
            "text/plain": [
              "0"
            ]
          },
          "metadata": {}
        }
      ]
    },
    {
      "cell_type": "code",
      "source": "df['ceiling_height'].mean()",
      "metadata": {},
      "execution_count": 677,
      "outputs": [
        {
          "execution_count": 677,
          "output_type": "execute_result",
          "data": {
            "text/plain": [
              "2.77149889685604"
            ]
          },
          "metadata": {}
        }
      ]
    },
    {
      "cell_type": "code",
      "source": "df['ceiling_height'].median()",
      "metadata": {},
      "execution_count": 678,
      "outputs": [
        {
          "execution_count": 678,
          "output_type": "execute_result",
          "data": {
            "text/plain": [
              "2.65"
            ]
          },
          "metadata": {}
        }
      ]
    },
    {
      "cell_type": "code",
      "source": "df['ceiling_height'] = df['ceiling_height'].fillna(df['ceiling_height'].median())",
      "metadata": {},
      "execution_count": 679,
      "outputs": []
    },
    {
      "cell_type": "markdown",
      "source": "В колонке `ceiling_height` пропуски заполнены средним значением, так как раз в объявлении не указана высота потолка, значит можем предположмить, что она является стандартной.",
      "metadata": {}
    },
    {
      "cell_type": "code",
      "source": "df['balcony'] = df['balcony'].fillna(0)",
      "metadata": {},
      "execution_count": 680,
      "outputs": []
    },
    {
      "cell_type": "code",
      "source": "df.corr()",
      "metadata": {
        "scrolled": true
      },
      "execution_count": 681,
      "outputs": [
        {
          "execution_count": 681,
          "output_type": "execute_result",
          "data": {
            "text/html": [
              "<div>\n",
              "<style scoped>\n",
              "    .dataframe tbody tr th:only-of-type {\n",
              "        vertical-align: middle;\n",
              "    }\n",
              "\n",
              "    .dataframe tbody tr th {\n",
              "        vertical-align: top;\n",
              "    }\n",
              "\n",
              "    .dataframe thead th {\n",
              "        text-align: right;\n",
              "    }\n",
              "</style>\n",
              "<table border=\"1\" class=\"dataframe\">\n",
              "  <thead>\n",
              "    <tr style=\"text-align: right;\">\n",
              "      <th></th>\n",
              "      <th>total_images</th>\n",
              "      <th>last_price</th>\n",
              "      <th>total_area</th>\n",
              "      <th>rooms</th>\n",
              "      <th>ceiling_height</th>\n",
              "      <th>floors_total</th>\n",
              "      <th>living_area</th>\n",
              "      <th>floor</th>\n",
              "      <th>studio</th>\n",
              "      <th>open_plan</th>\n",
              "      <th>kitchen_area</th>\n",
              "      <th>balcony</th>\n",
              "      <th>airports_nearest</th>\n",
              "      <th>city_centers_nearest</th>\n",
              "      <th>parks_around3000</th>\n",
              "      <th>parks_nearest</th>\n",
              "      <th>ponds_around3000</th>\n",
              "      <th>ponds_nearest</th>\n",
              "      <th>days_exposition</th>\n",
              "    </tr>\n",
              "  </thead>\n",
              "  <tbody>\n",
              "    <tr>\n",
              "      <th>total_images</th>\n",
              "      <td>1.000000</td>\n",
              "      <td>0.104473</td>\n",
              "      <td>0.115352</td>\n",
              "      <td>0.099288</td>\n",
              "      <td>0.004588</td>\n",
              "      <td>0.010427</td>\n",
              "      <td>0.104780</td>\n",
              "      <td>0.031340</td>\n",
              "      <td>-0.029303</td>\n",
              "      <td>-0.024407</td>\n",
              "      <td>0.104756</td>\n",
              "      <td>0.048903</td>\n",
              "      <td>-0.002298</td>\n",
              "      <td>-0.047666</td>\n",
              "      <td>0.021120</td>\n",
              "      <td>-0.008347</td>\n",
              "      <td>-0.011553</td>\n",
              "      <td>-0.003034</td>\n",
              "      <td>-0.026657</td>\n",
              "    </tr>\n",
              "    <tr>\n",
              "      <th>last_price</th>\n",
              "      <td>0.104473</td>\n",
              "      <td>1.000000</td>\n",
              "      <td>0.653675</td>\n",
              "      <td>0.363343</td>\n",
              "      <td>0.064425</td>\n",
              "      <td>-0.006984</td>\n",
              "      <td>0.566492</td>\n",
              "      <td>0.026576</td>\n",
              "      <td>-0.025362</td>\n",
              "      <td>-0.008802</td>\n",
              "      <td>0.519869</td>\n",
              "      <td>0.008559</td>\n",
              "      <td>-0.026239</td>\n",
              "      <td>-0.206747</td>\n",
              "      <td>0.151058</td>\n",
              "      <td>-0.016414</td>\n",
              "      <td>0.159996</td>\n",
              "      <td>-0.084809</td>\n",
              "      <td>0.081146</td>\n",
              "    </tr>\n",
              "    <tr>\n",
              "      <th>total_area</th>\n",
              "      <td>0.115352</td>\n",
              "      <td>0.653675</td>\n",
              "      <td>1.000000</td>\n",
              "      <td>0.758344</td>\n",
              "      <td>0.080613</td>\n",
              "      <td>-0.075774</td>\n",
              "      <td>0.939537</td>\n",
              "      <td>-0.024754</td>\n",
              "      <td>-0.072653</td>\n",
              "      <td>-0.034885</td>\n",
              "      <td>0.609121</td>\n",
              "      <td>0.009941</td>\n",
              "      <td>-0.030753</td>\n",
              "      <td>-0.231446</td>\n",
              "      <td>0.164689</td>\n",
              "      <td>-0.021497</td>\n",
              "      <td>0.162346</td>\n",
              "      <td>-0.097969</td>\n",
              "      <td>0.149675</td>\n",
              "    </tr>\n",
              "    <tr>\n",
              "      <th>rooms</th>\n",
              "      <td>0.099288</td>\n",
              "      <td>0.363343</td>\n",
              "      <td>0.758344</td>\n",
              "      <td>1.000000</td>\n",
              "      <td>0.047991</td>\n",
              "      <td>-0.228215</td>\n",
              "      <td>0.845977</td>\n",
              "      <td>-0.150862</td>\n",
              "      <td>-0.147286</td>\n",
              "      <td>-0.087500</td>\n",
              "      <td>0.269945</td>\n",
              "      <td>-0.015519</td>\n",
              "      <td>-0.061199</td>\n",
              "      <td>-0.184864</td>\n",
              "      <td>0.137257</td>\n",
              "      <td>-0.054549</td>\n",
              "      <td>0.092693</td>\n",
              "      <td>-0.057689</td>\n",
              "      <td>0.126961</td>\n",
              "    </tr>\n",
              "    <tr>\n",
              "      <th>ceiling_height</th>\n",
              "      <td>0.004588</td>\n",
              "      <td>0.064425</td>\n",
              "      <td>0.080613</td>\n",
              "      <td>0.047991</td>\n",
              "      <td>1.000000</td>\n",
              "      <td>-0.026843</td>\n",
              "      <td>0.078623</td>\n",
              "      <td>-0.012831</td>\n",
              "      <td>0.000270</td>\n",
              "      <td>0.017681</td>\n",
              "      <td>0.071350</td>\n",
              "      <td>0.032804</td>\n",
              "      <td>-0.018862</td>\n",
              "      <td>-0.075508</td>\n",
              "      <td>0.056665</td>\n",
              "      <td>-0.018934</td>\n",
              "      <td>0.063558</td>\n",
              "      <td>-0.047003</td>\n",
              "      <td>0.018142</td>\n",
              "    </tr>\n",
              "    <tr>\n",
              "      <th>floors_total</th>\n",
              "      <td>0.010427</td>\n",
              "      <td>-0.006984</td>\n",
              "      <td>-0.075774</td>\n",
              "      <td>-0.228215</td>\n",
              "      <td>-0.026843</td>\n",
              "      <td>1.000000</td>\n",
              "      <td>-0.169311</td>\n",
              "      <td>0.678059</td>\n",
              "      <td>0.070151</td>\n",
              "      <td>0.050791</td>\n",
              "      <td>0.163944</td>\n",
              "      <td>0.172812</td>\n",
              "      <td>0.108288</td>\n",
              "      <td>0.019774</td>\n",
              "      <td>-0.252833</td>\n",
              "      <td>0.097527</td>\n",
              "      <td>-0.122735</td>\n",
              "      <td>0.038864</td>\n",
              "      <td>-0.052234</td>\n",
              "    </tr>\n",
              "    <tr>\n",
              "      <th>living_area</th>\n",
              "      <td>0.104780</td>\n",
              "      <td>0.566492</td>\n",
              "      <td>0.939537</td>\n",
              "      <td>0.845977</td>\n",
              "      <td>0.078623</td>\n",
              "      <td>-0.169311</td>\n",
              "      <td>1.000000</td>\n",
              "      <td>-0.097210</td>\n",
              "      <td>-0.056231</td>\n",
              "      <td>-0.033711</td>\n",
              "      <td>0.428674</td>\n",
              "      <td>-0.014772</td>\n",
              "      <td>-0.057912</td>\n",
              "      <td>-0.231368</td>\n",
              "      <td>0.184453</td>\n",
              "      <td>-0.050167</td>\n",
              "      <td>0.148933</td>\n",
              "      <td>-0.081674</td>\n",
              "      <td>0.142454</td>\n",
              "    </tr>\n",
              "    <tr>\n",
              "      <th>floor</th>\n",
              "      <td>0.031340</td>\n",
              "      <td>0.026576</td>\n",
              "      <td>-0.024754</td>\n",
              "      <td>-0.150862</td>\n",
              "      <td>-0.012831</td>\n",
              "      <td>0.678059</td>\n",
              "      <td>-0.097210</td>\n",
              "      <td>1.000000</td>\n",
              "      <td>0.036940</td>\n",
              "      <td>0.035824</td>\n",
              "      <td>0.135531</td>\n",
              "      <td>0.168567</td>\n",
              "      <td>0.071597</td>\n",
              "      <td>0.009084</td>\n",
              "      <td>-0.163784</td>\n",
              "      <td>0.073045</td>\n",
              "      <td>-0.076312</td>\n",
              "      <td>0.024850</td>\n",
              "      <td>-0.039463</td>\n",
              "    </tr>\n",
              "    <tr>\n",
              "      <th>studio</th>\n",
              "      <td>-0.029303</td>\n",
              "      <td>-0.025362</td>\n",
              "      <td>-0.072653</td>\n",
              "      <td>-0.147286</td>\n",
              "      <td>0.000270</td>\n",
              "      <td>0.070151</td>\n",
              "      <td>-0.056231</td>\n",
              "      <td>0.036940</td>\n",
              "      <td>1.000000</td>\n",
              "      <td>-0.004235</td>\n",
              "      <td>NaN</td>\n",
              "      <td>0.028899</td>\n",
              "      <td>-0.021876</td>\n",
              "      <td>-0.007029</td>\n",
              "      <td>-0.030202</td>\n",
              "      <td>0.009134</td>\n",
              "      <td>0.000939</td>\n",
              "      <td>0.002606</td>\n",
              "      <td>-0.022476</td>\n",
              "    </tr>\n",
              "    <tr>\n",
              "      <th>open_plan</th>\n",
              "      <td>-0.024407</td>\n",
              "      <td>-0.008802</td>\n",
              "      <td>-0.034885</td>\n",
              "      <td>-0.087500</td>\n",
              "      <td>0.017681</td>\n",
              "      <td>0.050791</td>\n",
              "      <td>-0.033711</td>\n",
              "      <td>0.035824</td>\n",
              "      <td>-0.004235</td>\n",
              "      <td>1.000000</td>\n",
              "      <td>NaN</td>\n",
              "      <td>0.032639</td>\n",
              "      <td>-0.013583</td>\n",
              "      <td>-0.004204</td>\n",
              "      <td>-0.010077</td>\n",
              "      <td>0.010612</td>\n",
              "      <td>0.008455</td>\n",
              "      <td>-0.003328</td>\n",
              "      <td>-0.024112</td>\n",
              "    </tr>\n",
              "    <tr>\n",
              "      <th>kitchen_area</th>\n",
              "      <td>0.104756</td>\n",
              "      <td>0.519869</td>\n",
              "      <td>0.609121</td>\n",
              "      <td>0.269945</td>\n",
              "      <td>0.071350</td>\n",
              "      <td>0.163944</td>\n",
              "      <td>0.428674</td>\n",
              "      <td>0.135531</td>\n",
              "      <td>NaN</td>\n",
              "      <td>NaN</td>\n",
              "      <td>1.000000</td>\n",
              "      <td>0.045271</td>\n",
              "      <td>0.008200</td>\n",
              "      <td>-0.190049</td>\n",
              "      <td>0.087503</td>\n",
              "      <td>0.029641</td>\n",
              "      <td>0.150148</td>\n",
              "      <td>-0.105223</td>\n",
              "      <td>0.100586</td>\n",
              "    </tr>\n",
              "    <tr>\n",
              "      <th>balcony</th>\n",
              "      <td>0.048903</td>\n",
              "      <td>0.008559</td>\n",
              "      <td>0.009941</td>\n",
              "      <td>-0.015519</td>\n",
              "      <td>0.032804</td>\n",
              "      <td>0.172812</td>\n",
              "      <td>-0.014772</td>\n",
              "      <td>0.168567</td>\n",
              "      <td>0.028899</td>\n",
              "      <td>0.032639</td>\n",
              "      <td>0.045271</td>\n",
              "      <td>1.000000</td>\n",
              "      <td>0.048984</td>\n",
              "      <td>0.065050</td>\n",
              "      <td>-0.077777</td>\n",
              "      <td>0.033256</td>\n",
              "      <td>-0.039604</td>\n",
              "      <td>0.020077</td>\n",
              "      <td>-0.027834</td>\n",
              "    </tr>\n",
              "    <tr>\n",
              "      <th>airports_nearest</th>\n",
              "      <td>-0.002298</td>\n",
              "      <td>-0.026239</td>\n",
              "      <td>-0.030753</td>\n",
              "      <td>-0.061199</td>\n",
              "      <td>-0.018862</td>\n",
              "      <td>0.108288</td>\n",
              "      <td>-0.057912</td>\n",
              "      <td>0.071597</td>\n",
              "      <td>-0.021876</td>\n",
              "      <td>-0.013583</td>\n",
              "      <td>0.008200</td>\n",
              "      <td>0.048984</td>\n",
              "      <td>1.000000</td>\n",
              "      <td>0.272184</td>\n",
              "      <td>0.000759</td>\n",
              "      <td>-0.070058</td>\n",
              "      <td>-0.049583</td>\n",
              "      <td>0.014049</td>\n",
              "      <td>-0.018271</td>\n",
              "    </tr>\n",
              "    <tr>\n",
              "      <th>city_centers_nearest</th>\n",
              "      <td>-0.047666</td>\n",
              "      <td>-0.206747</td>\n",
              "      <td>-0.231446</td>\n",
              "      <td>-0.184864</td>\n",
              "      <td>-0.075508</td>\n",
              "      <td>0.019774</td>\n",
              "      <td>-0.231368</td>\n",
              "      <td>0.009084</td>\n",
              "      <td>-0.007029</td>\n",
              "      <td>-0.004204</td>\n",
              "      <td>-0.190049</td>\n",
              "      <td>0.065050</td>\n",
              "      <td>0.272184</td>\n",
              "      <td>1.000000</td>\n",
              "      <td>-0.161738</td>\n",
              "      <td>-0.040650</td>\n",
              "      <td>-0.074577</td>\n",
              "      <td>0.028903</td>\n",
              "      <td>-0.060714</td>\n",
              "    </tr>\n",
              "    <tr>\n",
              "      <th>parks_around3000</th>\n",
              "      <td>0.021120</td>\n",
              "      <td>0.151058</td>\n",
              "      <td>0.164689</td>\n",
              "      <td>0.137257</td>\n",
              "      <td>0.056665</td>\n",
              "      <td>-0.252833</td>\n",
              "      <td>0.184453</td>\n",
              "      <td>-0.163784</td>\n",
              "      <td>-0.030202</td>\n",
              "      <td>-0.010077</td>\n",
              "      <td>0.087503</td>\n",
              "      <td>-0.077777</td>\n",
              "      <td>0.000759</td>\n",
              "      <td>-0.161738</td>\n",
              "      <td>1.000000</td>\n",
              "      <td>-0.259514</td>\n",
              "      <td>0.304316</td>\n",
              "      <td>-0.167103</td>\n",
              "      <td>0.060491</td>\n",
              "    </tr>\n",
              "    <tr>\n",
              "      <th>parks_nearest</th>\n",
              "      <td>-0.008347</td>\n",
              "      <td>-0.016414</td>\n",
              "      <td>-0.021497</td>\n",
              "      <td>-0.054549</td>\n",
              "      <td>-0.018934</td>\n",
              "      <td>0.097527</td>\n",
              "      <td>-0.050167</td>\n",
              "      <td>0.073045</td>\n",
              "      <td>0.009134</td>\n",
              "      <td>0.010612</td>\n",
              "      <td>0.029641</td>\n",
              "      <td>0.033256</td>\n",
              "      <td>-0.070058</td>\n",
              "      <td>-0.040650</td>\n",
              "      <td>-0.259514</td>\n",
              "      <td>1.000000</td>\n",
              "      <td>0.077280</td>\n",
              "      <td>0.000692</td>\n",
              "      <td>0.023254</td>\n",
              "    </tr>\n",
              "    <tr>\n",
              "      <th>ponds_around3000</th>\n",
              "      <td>-0.011553</td>\n",
              "      <td>0.159996</td>\n",
              "      <td>0.162346</td>\n",
              "      <td>0.092693</td>\n",
              "      <td>0.063558</td>\n",
              "      <td>-0.122735</td>\n",
              "      <td>0.148933</td>\n",
              "      <td>-0.076312</td>\n",
              "      <td>0.000939</td>\n",
              "      <td>0.008455</td>\n",
              "      <td>0.150148</td>\n",
              "      <td>-0.039604</td>\n",
              "      <td>-0.049583</td>\n",
              "      <td>-0.074577</td>\n",
              "      <td>0.304316</td>\n",
              "      <td>0.077280</td>\n",
              "      <td>1.000000</td>\n",
              "      <td>-0.341840</td>\n",
              "      <td>0.073162</td>\n",
              "    </tr>\n",
              "    <tr>\n",
              "      <th>ponds_nearest</th>\n",
              "      <td>-0.003034</td>\n",
              "      <td>-0.084809</td>\n",
              "      <td>-0.097969</td>\n",
              "      <td>-0.057689</td>\n",
              "      <td>-0.047003</td>\n",
              "      <td>0.038864</td>\n",
              "      <td>-0.081674</td>\n",
              "      <td>0.024850</td>\n",
              "      <td>0.002606</td>\n",
              "      <td>-0.003328</td>\n",
              "      <td>-0.105223</td>\n",
              "      <td>0.020077</td>\n",
              "      <td>0.014049</td>\n",
              "      <td>0.028903</td>\n",
              "      <td>-0.167103</td>\n",
              "      <td>0.000692</td>\n",
              "      <td>-0.341840</td>\n",
              "      <td>1.000000</td>\n",
              "      <td>-0.077879</td>\n",
              "    </tr>\n",
              "    <tr>\n",
              "      <th>days_exposition</th>\n",
              "      <td>-0.026657</td>\n",
              "      <td>0.081146</td>\n",
              "      <td>0.149675</td>\n",
              "      <td>0.126961</td>\n",
              "      <td>0.018142</td>\n",
              "      <td>-0.052234</td>\n",
              "      <td>0.142454</td>\n",
              "      <td>-0.039463</td>\n",
              "      <td>-0.022476</td>\n",
              "      <td>-0.024112</td>\n",
              "      <td>0.100586</td>\n",
              "      <td>-0.027834</td>\n",
              "      <td>-0.018271</td>\n",
              "      <td>-0.060714</td>\n",
              "      <td>0.060491</td>\n",
              "      <td>0.023254</td>\n",
              "      <td>0.073162</td>\n",
              "      <td>-0.077879</td>\n",
              "      <td>1.000000</td>\n",
              "    </tr>\n",
              "  </tbody>\n",
              "</table>\n",
              "</div>"
            ],
            "text/plain": [
              "                      total_images  last_price  total_area     rooms  \\\n",
              "total_images              1.000000    0.104473    0.115352  0.099288   \n",
              "last_price                0.104473    1.000000    0.653675  0.363343   \n",
              "total_area                0.115352    0.653675    1.000000  0.758344   \n",
              "rooms                     0.099288    0.363343    0.758344  1.000000   \n",
              "ceiling_height            0.004588    0.064425    0.080613  0.047991   \n",
              "floors_total              0.010427   -0.006984   -0.075774 -0.228215   \n",
              "living_area               0.104780    0.566492    0.939537  0.845977   \n",
              "floor                     0.031340    0.026576   -0.024754 -0.150862   \n",
              "studio                   -0.029303   -0.025362   -0.072653 -0.147286   \n",
              "open_plan                -0.024407   -0.008802   -0.034885 -0.087500   \n",
              "kitchen_area              0.104756    0.519869    0.609121  0.269945   \n",
              "balcony                   0.048903    0.008559    0.009941 -0.015519   \n",
              "airports_nearest         -0.002298   -0.026239   -0.030753 -0.061199   \n",
              "city_centers_nearest     -0.047666   -0.206747   -0.231446 -0.184864   \n",
              "parks_around3000          0.021120    0.151058    0.164689  0.137257   \n",
              "parks_nearest            -0.008347   -0.016414   -0.021497 -0.054549   \n",
              "ponds_around3000         -0.011553    0.159996    0.162346  0.092693   \n",
              "ponds_nearest            -0.003034   -0.084809   -0.097969 -0.057689   \n",
              "days_exposition          -0.026657    0.081146    0.149675  0.126961   \n",
              "\n",
              "                      ceiling_height  floors_total  living_area     floor  \\\n",
              "total_images                0.004588      0.010427     0.104780  0.031340   \n",
              "last_price                  0.064425     -0.006984     0.566492  0.026576   \n",
              "total_area                  0.080613     -0.075774     0.939537 -0.024754   \n",
              "rooms                       0.047991     -0.228215     0.845977 -0.150862   \n",
              "ceiling_height              1.000000     -0.026843     0.078623 -0.012831   \n",
              "floors_total               -0.026843      1.000000    -0.169311  0.678059   \n",
              "living_area                 0.078623     -0.169311     1.000000 -0.097210   \n",
              "floor                      -0.012831      0.678059    -0.097210  1.000000   \n",
              "studio                      0.000270      0.070151    -0.056231  0.036940   \n",
              "open_plan                   0.017681      0.050791    -0.033711  0.035824   \n",
              "kitchen_area                0.071350      0.163944     0.428674  0.135531   \n",
              "balcony                     0.032804      0.172812    -0.014772  0.168567   \n",
              "airports_nearest           -0.018862      0.108288    -0.057912  0.071597   \n",
              "city_centers_nearest       -0.075508      0.019774    -0.231368  0.009084   \n",
              "parks_around3000            0.056665     -0.252833     0.184453 -0.163784   \n",
              "parks_nearest              -0.018934      0.097527    -0.050167  0.073045   \n",
              "ponds_around3000            0.063558     -0.122735     0.148933 -0.076312   \n",
              "ponds_nearest              -0.047003      0.038864    -0.081674  0.024850   \n",
              "days_exposition             0.018142     -0.052234     0.142454 -0.039463   \n",
              "\n",
              "                        studio  open_plan  kitchen_area   balcony  \\\n",
              "total_images         -0.029303  -0.024407      0.104756  0.048903   \n",
              "last_price           -0.025362  -0.008802      0.519869  0.008559   \n",
              "total_area           -0.072653  -0.034885      0.609121  0.009941   \n",
              "rooms                -0.147286  -0.087500      0.269945 -0.015519   \n",
              "ceiling_height        0.000270   0.017681      0.071350  0.032804   \n",
              "floors_total          0.070151   0.050791      0.163944  0.172812   \n",
              "living_area          -0.056231  -0.033711      0.428674 -0.014772   \n",
              "floor                 0.036940   0.035824      0.135531  0.168567   \n",
              "studio                1.000000  -0.004235           NaN  0.028899   \n",
              "open_plan            -0.004235   1.000000           NaN  0.032639   \n",
              "kitchen_area               NaN        NaN      1.000000  0.045271   \n",
              "balcony               0.028899   0.032639      0.045271  1.000000   \n",
              "airports_nearest     -0.021876  -0.013583      0.008200  0.048984   \n",
              "city_centers_nearest -0.007029  -0.004204     -0.190049  0.065050   \n",
              "parks_around3000     -0.030202  -0.010077      0.087503 -0.077777   \n",
              "parks_nearest         0.009134   0.010612      0.029641  0.033256   \n",
              "ponds_around3000      0.000939   0.008455      0.150148 -0.039604   \n",
              "ponds_nearest         0.002606  -0.003328     -0.105223  0.020077   \n",
              "days_exposition      -0.022476  -0.024112      0.100586 -0.027834   \n",
              "\n",
              "                      airports_nearest  city_centers_nearest  \\\n",
              "total_images                 -0.002298             -0.047666   \n",
              "last_price                   -0.026239             -0.206747   \n",
              "total_area                   -0.030753             -0.231446   \n",
              "rooms                        -0.061199             -0.184864   \n",
              "ceiling_height               -0.018862             -0.075508   \n",
              "floors_total                  0.108288              0.019774   \n",
              "living_area                  -0.057912             -0.231368   \n",
              "floor                         0.071597              0.009084   \n",
              "studio                       -0.021876             -0.007029   \n",
              "open_plan                    -0.013583             -0.004204   \n",
              "kitchen_area                  0.008200             -0.190049   \n",
              "balcony                       0.048984              0.065050   \n",
              "airports_nearest              1.000000              0.272184   \n",
              "city_centers_nearest          0.272184              1.000000   \n",
              "parks_around3000              0.000759             -0.161738   \n",
              "parks_nearest                -0.070058             -0.040650   \n",
              "ponds_around3000             -0.049583             -0.074577   \n",
              "ponds_nearest                 0.014049              0.028903   \n",
              "days_exposition              -0.018271             -0.060714   \n",
              "\n",
              "                      parks_around3000  parks_nearest  ponds_around3000  \\\n",
              "total_images                  0.021120      -0.008347         -0.011553   \n",
              "last_price                    0.151058      -0.016414          0.159996   \n",
              "total_area                    0.164689      -0.021497          0.162346   \n",
              "rooms                         0.137257      -0.054549          0.092693   \n",
              "ceiling_height                0.056665      -0.018934          0.063558   \n",
              "floors_total                 -0.252833       0.097527         -0.122735   \n",
              "living_area                   0.184453      -0.050167          0.148933   \n",
              "floor                        -0.163784       0.073045         -0.076312   \n",
              "studio                       -0.030202       0.009134          0.000939   \n",
              "open_plan                    -0.010077       0.010612          0.008455   \n",
              "kitchen_area                  0.087503       0.029641          0.150148   \n",
              "balcony                      -0.077777       0.033256         -0.039604   \n",
              "airports_nearest              0.000759      -0.070058         -0.049583   \n",
              "city_centers_nearest         -0.161738      -0.040650         -0.074577   \n",
              "parks_around3000              1.000000      -0.259514          0.304316   \n",
              "parks_nearest                -0.259514       1.000000          0.077280   \n",
              "ponds_around3000              0.304316       0.077280          1.000000   \n",
              "ponds_nearest                -0.167103       0.000692         -0.341840   \n",
              "days_exposition               0.060491       0.023254          0.073162   \n",
              "\n",
              "                      ponds_nearest  days_exposition  \n",
              "total_images              -0.003034        -0.026657  \n",
              "last_price                -0.084809         0.081146  \n",
              "total_area                -0.097969         0.149675  \n",
              "rooms                     -0.057689         0.126961  \n",
              "ceiling_height            -0.047003         0.018142  \n",
              "floors_total               0.038864        -0.052234  \n",
              "living_area               -0.081674         0.142454  \n",
              "floor                      0.024850        -0.039463  \n",
              "studio                     0.002606        -0.022476  \n",
              "open_plan                 -0.003328        -0.024112  \n",
              "kitchen_area              -0.105223         0.100586  \n",
              "balcony                    0.020077        -0.027834  \n",
              "airports_nearest           0.014049        -0.018271  \n",
              "city_centers_nearest       0.028903        -0.060714  \n",
              "parks_around3000          -0.167103         0.060491  \n",
              "parks_nearest              0.000692         0.023254  \n",
              "ponds_around3000          -0.341840         0.073162  \n",
              "ponds_nearest              1.000000        -0.077879  \n",
              "days_exposition           -0.077879         1.000000  "
            ]
          },
          "metadata": {}
        }
      ]
    },
    {
      "cell_type": "markdown",
      "source": "<div class=\"alert alert-block alert-info\">\nСтарый код. Искал связь с другими показателями, чтобы заполнить пропуски\n\nP.S. Не удалил, чтобы было видно к чему относиться замечание\n</div>\n",
      "metadata": {}
    },
    {
      "cell_type": "code",
      "source": "df['is_apartment'] = df['is_apartment'].fillna(False)",
      "metadata": {},
      "execution_count": 682,
      "outputs": []
    },
    {
      "cell_type": "markdown",
      "source": "Поскольку в объявлении не указано аппартаменты это или нет, логично предположить, что нет.",
      "metadata": {}
    },
    {
      "cell_type": "code",
      "source": "(df['kitchen_area']/df['living_area']).sort_values()",
      "metadata": {},
      "execution_count": 683,
      "outputs": [
        {
          "execution_count": 683,
          "output_type": "execute_result",
          "data": {
            "text/plain": [
              "4435     0.043178\n",
              "3365     0.046468\n",
              "20820    0.053476\n",
              "12859    0.060503\n",
              "21676    0.064967\n",
              "           ...   \n",
              "23663         NaN\n",
              "23670         NaN\n",
              "23679         NaN\n",
              "23696         NaN\n",
              "23697         NaN\n",
              "Length: 23699, dtype: float64"
            ]
          },
          "metadata": {}
        }
      ]
    },
    {
      "cell_type": "code",
      "source": "df.info()",
      "metadata": {},
      "execution_count": 684,
      "outputs": [
        {
          "name": "stdout",
          "output_type": "stream",
          "text": "<class 'pandas.core.frame.DataFrame'>\n\nRangeIndex: 23699 entries, 0 to 23698\n\nData columns (total 22 columns):\n\n #   Column                Non-Null Count  Dtype  \n\n---  ------                --------------  -----  \n\n 0   total_images          23699 non-null  int64  \n\n 1   last_price            23699 non-null  float64\n\n 2   total_area            23699 non-null  float64\n\n 3   first_day_exposition  23699 non-null  object \n\n 4   rooms                 23699 non-null  int64  \n\n 5   ceiling_height        23699 non-null  float64\n\n 6   floors_total          23613 non-null  float64\n\n 7   living_area           21796 non-null  float64\n\n 8   floor                 23699 non-null  int64  \n\n 9   is_apartment          23699 non-null  bool   \n\n 10  studio                23699 non-null  bool   \n\n 11  open_plan             23699 non-null  bool   \n\n 12  kitchen_area          21421 non-null  float64\n\n 13  balcony               23699 non-null  float64\n\n 14  locality_name         23650 non-null  object \n\n 15  airports_nearest      18157 non-null  float64\n\n 16  city_centers_nearest  18180 non-null  float64\n\n 17  parks_around3000      18181 non-null  float64\n\n 18  parks_nearest         8079 non-null   float64\n\n 19  ponds_around3000      18181 non-null  float64\n\n 20  ponds_nearest         9110 non-null   float64\n\n 21  days_exposition       20518 non-null  float64\n\ndtypes: bool(3), float64(14), int64(3), object(2)\n\nmemory usage: 3.5+ MB\n"
        }
      ]
    },
    {
      "cell_type": "code",
      "source": "df['total_images'] = df['total_images'].astype('int8')\ndf['total_area'] = df['total_area'].astype('float16')\ndf['rooms'] = df['rooms'].astype('int8')\ndf['ceiling_height'] = df['ceiling_height'].astype('float16')\ndf['floor'] = df['floor'].astype('int8')\ndf['balcony'] = df['balcony'].astype('int8')\ndf['total_area'] = df['total_area'].astype('int32')\ndf['first_day_exposition'] = pd.to_datetime(df['first_day_exposition'], format = '%Y-%m-%dT%H:%M:%S')",
      "metadata": {},
      "execution_count": 685,
      "outputs": []
    },
    {
      "cell_type": "markdown",
      "source": "Дубликатов строк в таблице нет. Пропуски в столбце `floors_total` не стоит заполнять средним или медианным значением, так как количество этажей в доме может сильно отличаться.\n\nПропуски в столбце `locality_name` также нет возможности заполнить, нет возможности предположить в каком населенном пункте находиться квартира.\n\nПропуски в столбце `living_area` предпологалось заполнить общей площадью, если нет балкона, и общей площадью, уменьшенной на коэффициент корреляции, если балкон есть. Однако, анализируя данные выяснилось, что жилая блощадь существенно меньше общей (у всех объявлений по-разному), не только на площадь балкона, поэтому оставили пропуски в данном столбце.\n\nСтолбец `kitchen_area` содержит площадь кухни. Анализируя данные установленно, что в некоторых объявлениях площадь кухни включают в жилую площадь, а в некоторых нет. Поэтому заполнить пропуски не представляется возможным.\n\nВ столбце `airports_nearest` пропуски заполнить не удалось. Предполагалось заполнить пропуски средним значением расстояния до аэропорта для каждого отдельно взятого населенного пункта, то есть посчитать среднее значение в каждом населенного пункте. Однако это некорректно, так как, например, г. Санкт-Петербург достаточно большой по площади, поэтому неуместно заполнять средним значением. \n\nПропуски в столбцах `city_centers_nearest`, `parks_around3000`, `parks_nearest`, `ponds_around3000`, `ponds_nearest` не заполнить, так как не известно местонахождение квартиры в населенном пункте, поэтому заполнять средними или медианными значениями неккоректно.\nПропуски в `days_exposition` также не заполнить.\n\nОсновная причина появления пропусков - человеческий фактор. Люди, заполняя данные о квартире, могли не указать определенные параметры.\n\nТипы данных в столбцах изменены (кроме тех, где есть пропуски). Изменение позволили преобразовать вещественный тип данных в целочисленный(где присутсвуют только целые числа) и  сэкономить память. Также приведен столбец даты публикации к формату `datetime64`. Данные в столбце `total_area` приведены к формату `int`, так как в дальнейшем, при суммировании значений этого столбца получался `inf`.",
      "metadata": {}
    },
    {
      "cell_type": "markdown",
      "source": "## Расчёты и добавление результатов в таблицу",
      "metadata": {}
    },
    {
      "cell_type": "code",
      "source": "df['price_meter'] = df['last_price']/df['total_area']\ndf['weekday'] = df['first_day_exposition'].dt.weekday\ndf['month'] = df['first_day_exposition'].dt.month\ndf['year'] = df['first_day_exposition'].dt.year\ndf['kitchen_share'] = df['kitchen_area']/df['total_area']\ndf['living_share'] = df['living_area']/df['total_area']",
      "metadata": {},
      "execution_count": 686,
      "outputs": []
    },
    {
      "cell_type": "code",
      "source": "def floor_category (row):\n    floor = row['floor']\n    floors_total = row['floors_total']\n    if floor == 1:\n        return 'первый'\n    if floor == floors_total:\n        return 'последний'\n    return 'другой'\ndf['floor_category'] = df.apply(floor_category, axis=1)",
      "metadata": {},
      "execution_count": 687,
      "outputs": []
    },
    {
      "cell_type": "markdown",
      "source": "В таблицу добавлены дополнительные столбцы, необходимые для дальнейшего анализа.",
      "metadata": {}
    },
    {
      "cell_type": "markdown",
      "source": "## Исследовательский анализ данных",
      "metadata": {}
    },
    {
      "cell_type": "code",
      "source": "df",
      "metadata": {},
      "execution_count": 688,
      "outputs": [
        {
          "execution_count": 688,
          "output_type": "execute_result",
          "data": {
            "text/html": [
              "<div>\n",
              "<style scoped>\n",
              "    .dataframe tbody tr th:only-of-type {\n",
              "        vertical-align: middle;\n",
              "    }\n",
              "\n",
              "    .dataframe tbody tr th {\n",
              "        vertical-align: top;\n",
              "    }\n",
              "\n",
              "    .dataframe thead th {\n",
              "        text-align: right;\n",
              "    }\n",
              "</style>\n",
              "<table border=\"1\" class=\"dataframe\">\n",
              "  <thead>\n",
              "    <tr style=\"text-align: right;\">\n",
              "      <th></th>\n",
              "      <th>total_images</th>\n",
              "      <th>last_price</th>\n",
              "      <th>total_area</th>\n",
              "      <th>first_day_exposition</th>\n",
              "      <th>rooms</th>\n",
              "      <th>ceiling_height</th>\n",
              "      <th>floors_total</th>\n",
              "      <th>living_area</th>\n",
              "      <th>floor</th>\n",
              "      <th>is_apartment</th>\n",
              "      <th>studio</th>\n",
              "      <th>open_plan</th>\n",
              "      <th>kitchen_area</th>\n",
              "      <th>balcony</th>\n",
              "      <th>locality_name</th>\n",
              "      <th>airports_nearest</th>\n",
              "      <th>city_centers_nearest</th>\n",
              "      <th>parks_around3000</th>\n",
              "      <th>parks_nearest</th>\n",
              "      <th>ponds_around3000</th>\n",
              "      <th>ponds_nearest</th>\n",
              "      <th>days_exposition</th>\n",
              "      <th>price_meter</th>\n",
              "      <th>weekday</th>\n",
              "      <th>month</th>\n",
              "      <th>year</th>\n",
              "      <th>kitchen_share</th>\n",
              "      <th>living_share</th>\n",
              "      <th>floor_category</th>\n",
              "    </tr>\n",
              "  </thead>\n",
              "  <tbody>\n",
              "    <tr>\n",
              "      <th>0</th>\n",
              "      <td>20</td>\n",
              "      <td>13000000.0</td>\n",
              "      <td>108</td>\n",
              "      <td>2019-03-07</td>\n",
              "      <td>3</td>\n",
              "      <td>2.699219</td>\n",
              "      <td>16.0</td>\n",
              "      <td>51.0</td>\n",
              "      <td>8</td>\n",
              "      <td>False</td>\n",
              "      <td>False</td>\n",
              "      <td>False</td>\n",
              "      <td>25.00</td>\n",
              "      <td>0</td>\n",
              "      <td>Санкт-Петербург</td>\n",
              "      <td>18863.0</td>\n",
              "      <td>16028.0</td>\n",
              "      <td>1.0</td>\n",
              "      <td>482.0</td>\n",
              "      <td>2.0</td>\n",
              "      <td>755.0</td>\n",
              "      <td>NaN</td>\n",
              "      <td>120370.370370</td>\n",
              "      <td>3</td>\n",
              "      <td>3</td>\n",
              "      <td>2019</td>\n",
              "      <td>0.231481</td>\n",
              "      <td>0.472222</td>\n",
              "      <td>другой</td>\n",
              "    </tr>\n",
              "    <tr>\n",
              "      <th>1</th>\n",
              "      <td>7</td>\n",
              "      <td>3350000.0</td>\n",
              "      <td>40</td>\n",
              "      <td>2018-12-04</td>\n",
              "      <td>1</td>\n",
              "      <td>2.650391</td>\n",
              "      <td>11.0</td>\n",
              "      <td>18.6</td>\n",
              "      <td>1</td>\n",
              "      <td>False</td>\n",
              "      <td>False</td>\n",
              "      <td>False</td>\n",
              "      <td>11.00</td>\n",
              "      <td>2</td>\n",
              "      <td>посёлок Шушары</td>\n",
              "      <td>12817.0</td>\n",
              "      <td>18603.0</td>\n",
              "      <td>0.0</td>\n",
              "      <td>NaN</td>\n",
              "      <td>0.0</td>\n",
              "      <td>NaN</td>\n",
              "      <td>81.0</td>\n",
              "      <td>83750.000000</td>\n",
              "      <td>1</td>\n",
              "      <td>12</td>\n",
              "      <td>2018</td>\n",
              "      <td>0.275000</td>\n",
              "      <td>0.465000</td>\n",
              "      <td>первый</td>\n",
              "    </tr>\n",
              "    <tr>\n",
              "      <th>2</th>\n",
              "      <td>10</td>\n",
              "      <td>5196000.0</td>\n",
              "      <td>56</td>\n",
              "      <td>2015-08-20</td>\n",
              "      <td>2</td>\n",
              "      <td>2.650391</td>\n",
              "      <td>5.0</td>\n",
              "      <td>34.3</td>\n",
              "      <td>4</td>\n",
              "      <td>False</td>\n",
              "      <td>False</td>\n",
              "      <td>False</td>\n",
              "      <td>8.30</td>\n",
              "      <td>0</td>\n",
              "      <td>Санкт-Петербург</td>\n",
              "      <td>21741.0</td>\n",
              "      <td>13933.0</td>\n",
              "      <td>1.0</td>\n",
              "      <td>90.0</td>\n",
              "      <td>2.0</td>\n",
              "      <td>574.0</td>\n",
              "      <td>558.0</td>\n",
              "      <td>92785.714286</td>\n",
              "      <td>3</td>\n",
              "      <td>8</td>\n",
              "      <td>2015</td>\n",
              "      <td>0.148214</td>\n",
              "      <td>0.612500</td>\n",
              "      <td>другой</td>\n",
              "    </tr>\n",
              "    <tr>\n",
              "      <th>3</th>\n",
              "      <td>0</td>\n",
              "      <td>64900000.0</td>\n",
              "      <td>159</td>\n",
              "      <td>2015-07-24</td>\n",
              "      <td>3</td>\n",
              "      <td>2.650391</td>\n",
              "      <td>14.0</td>\n",
              "      <td>NaN</td>\n",
              "      <td>9</td>\n",
              "      <td>False</td>\n",
              "      <td>False</td>\n",
              "      <td>False</td>\n",
              "      <td>NaN</td>\n",
              "      <td>0</td>\n",
              "      <td>Санкт-Петербург</td>\n",
              "      <td>28098.0</td>\n",
              "      <td>6800.0</td>\n",
              "      <td>2.0</td>\n",
              "      <td>84.0</td>\n",
              "      <td>3.0</td>\n",
              "      <td>234.0</td>\n",
              "      <td>424.0</td>\n",
              "      <td>408176.100629</td>\n",
              "      <td>4</td>\n",
              "      <td>7</td>\n",
              "      <td>2015</td>\n",
              "      <td>NaN</td>\n",
              "      <td>NaN</td>\n",
              "      <td>другой</td>\n",
              "    </tr>\n",
              "    <tr>\n",
              "      <th>4</th>\n",
              "      <td>2</td>\n",
              "      <td>10000000.0</td>\n",
              "      <td>100</td>\n",
              "      <td>2018-06-19</td>\n",
              "      <td>2</td>\n",
              "      <td>3.029297</td>\n",
              "      <td>14.0</td>\n",
              "      <td>32.0</td>\n",
              "      <td>13</td>\n",
              "      <td>False</td>\n",
              "      <td>False</td>\n",
              "      <td>False</td>\n",
              "      <td>41.00</td>\n",
              "      <td>0</td>\n",
              "      <td>Санкт-Петербург</td>\n",
              "      <td>31856.0</td>\n",
              "      <td>8098.0</td>\n",
              "      <td>2.0</td>\n",
              "      <td>112.0</td>\n",
              "      <td>1.0</td>\n",
              "      <td>48.0</td>\n",
              "      <td>121.0</td>\n",
              "      <td>100000.000000</td>\n",
              "      <td>1</td>\n",
              "      <td>6</td>\n",
              "      <td>2018</td>\n",
              "      <td>0.410000</td>\n",
              "      <td>0.320000</td>\n",
              "      <td>другой</td>\n",
              "    </tr>\n",
              "    <tr>\n",
              "      <th>...</th>\n",
              "      <td>...</td>\n",
              "      <td>...</td>\n",
              "      <td>...</td>\n",
              "      <td>...</td>\n",
              "      <td>...</td>\n",
              "      <td>...</td>\n",
              "      <td>...</td>\n",
              "      <td>...</td>\n",
              "      <td>...</td>\n",
              "      <td>...</td>\n",
              "      <td>...</td>\n",
              "      <td>...</td>\n",
              "      <td>...</td>\n",
              "      <td>...</td>\n",
              "      <td>...</td>\n",
              "      <td>...</td>\n",
              "      <td>...</td>\n",
              "      <td>...</td>\n",
              "      <td>...</td>\n",
              "      <td>...</td>\n",
              "      <td>...</td>\n",
              "      <td>...</td>\n",
              "      <td>...</td>\n",
              "      <td>...</td>\n",
              "      <td>...</td>\n",
              "      <td>...</td>\n",
              "      <td>...</td>\n",
              "      <td>...</td>\n",
              "      <td>...</td>\n",
              "    </tr>\n",
              "    <tr>\n",
              "      <th>23694</th>\n",
              "      <td>9</td>\n",
              "      <td>9700000.0</td>\n",
              "      <td>133</td>\n",
              "      <td>2017-03-21</td>\n",
              "      <td>3</td>\n",
              "      <td>3.699219</td>\n",
              "      <td>5.0</td>\n",
              "      <td>73.3</td>\n",
              "      <td>3</td>\n",
              "      <td>False</td>\n",
              "      <td>False</td>\n",
              "      <td>False</td>\n",
              "      <td>13.83</td>\n",
              "      <td>0</td>\n",
              "      <td>Санкт-Петербург</td>\n",
              "      <td>24665.0</td>\n",
              "      <td>4232.0</td>\n",
              "      <td>1.0</td>\n",
              "      <td>796.0</td>\n",
              "      <td>3.0</td>\n",
              "      <td>381.0</td>\n",
              "      <td>NaN</td>\n",
              "      <td>72932.330827</td>\n",
              "      <td>1</td>\n",
              "      <td>3</td>\n",
              "      <td>2017</td>\n",
              "      <td>0.103985</td>\n",
              "      <td>0.551128</td>\n",
              "      <td>другой</td>\n",
              "    </tr>\n",
              "    <tr>\n",
              "      <th>23695</th>\n",
              "      <td>14</td>\n",
              "      <td>3100000.0</td>\n",
              "      <td>59</td>\n",
              "      <td>2018-01-15</td>\n",
              "      <td>3</td>\n",
              "      <td>2.650391</td>\n",
              "      <td>5.0</td>\n",
              "      <td>38.0</td>\n",
              "      <td>4</td>\n",
              "      <td>False</td>\n",
              "      <td>False</td>\n",
              "      <td>False</td>\n",
              "      <td>8.50</td>\n",
              "      <td>0</td>\n",
              "      <td>Тосно</td>\n",
              "      <td>NaN</td>\n",
              "      <td>NaN</td>\n",
              "      <td>NaN</td>\n",
              "      <td>NaN</td>\n",
              "      <td>NaN</td>\n",
              "      <td>NaN</td>\n",
              "      <td>45.0</td>\n",
              "      <td>52542.372881</td>\n",
              "      <td>0</td>\n",
              "      <td>1</td>\n",
              "      <td>2018</td>\n",
              "      <td>0.144068</td>\n",
              "      <td>0.644068</td>\n",
              "      <td>другой</td>\n",
              "    </tr>\n",
              "    <tr>\n",
              "      <th>23696</th>\n",
              "      <td>18</td>\n",
              "      <td>2500000.0</td>\n",
              "      <td>56</td>\n",
              "      <td>2018-02-11</td>\n",
              "      <td>2</td>\n",
              "      <td>2.650391</td>\n",
              "      <td>3.0</td>\n",
              "      <td>29.7</td>\n",
              "      <td>1</td>\n",
              "      <td>False</td>\n",
              "      <td>False</td>\n",
              "      <td>False</td>\n",
              "      <td>NaN</td>\n",
              "      <td>0</td>\n",
              "      <td>село Рождествено</td>\n",
              "      <td>NaN</td>\n",
              "      <td>NaN</td>\n",
              "      <td>NaN</td>\n",
              "      <td>NaN</td>\n",
              "      <td>NaN</td>\n",
              "      <td>NaN</td>\n",
              "      <td>NaN</td>\n",
              "      <td>44642.857143</td>\n",
              "      <td>6</td>\n",
              "      <td>2</td>\n",
              "      <td>2018</td>\n",
              "      <td>NaN</td>\n",
              "      <td>0.530357</td>\n",
              "      <td>первый</td>\n",
              "    </tr>\n",
              "    <tr>\n",
              "      <th>23697</th>\n",
              "      <td>13</td>\n",
              "      <td>11475000.0</td>\n",
              "      <td>76</td>\n",
              "      <td>2017-03-28</td>\n",
              "      <td>2</td>\n",
              "      <td>3.000000</td>\n",
              "      <td>17.0</td>\n",
              "      <td>NaN</td>\n",
              "      <td>12</td>\n",
              "      <td>False</td>\n",
              "      <td>False</td>\n",
              "      <td>False</td>\n",
              "      <td>23.30</td>\n",
              "      <td>2</td>\n",
              "      <td>Санкт-Петербург</td>\n",
              "      <td>39140.0</td>\n",
              "      <td>10364.0</td>\n",
              "      <td>2.0</td>\n",
              "      <td>173.0</td>\n",
              "      <td>3.0</td>\n",
              "      <td>196.0</td>\n",
              "      <td>602.0</td>\n",
              "      <td>150986.842105</td>\n",
              "      <td>1</td>\n",
              "      <td>3</td>\n",
              "      <td>2017</td>\n",
              "      <td>0.306579</td>\n",
              "      <td>NaN</td>\n",
              "      <td>другой</td>\n",
              "    </tr>\n",
              "    <tr>\n",
              "      <th>23698</th>\n",
              "      <td>4</td>\n",
              "      <td>1350000.0</td>\n",
              "      <td>32</td>\n",
              "      <td>2017-07-21</td>\n",
              "      <td>1</td>\n",
              "      <td>2.500000</td>\n",
              "      <td>5.0</td>\n",
              "      <td>12.3</td>\n",
              "      <td>1</td>\n",
              "      <td>False</td>\n",
              "      <td>False</td>\n",
              "      <td>False</td>\n",
              "      <td>9.00</td>\n",
              "      <td>0</td>\n",
              "      <td>поселок Новый Учхоз</td>\n",
              "      <td>NaN</td>\n",
              "      <td>NaN</td>\n",
              "      <td>NaN</td>\n",
              "      <td>NaN</td>\n",
              "      <td>NaN</td>\n",
              "      <td>NaN</td>\n",
              "      <td>NaN</td>\n",
              "      <td>42187.500000</td>\n",
              "      <td>4</td>\n",
              "      <td>7</td>\n",
              "      <td>2017</td>\n",
              "      <td>0.281250</td>\n",
              "      <td>0.384375</td>\n",
              "      <td>первый</td>\n",
              "    </tr>\n",
              "  </tbody>\n",
              "</table>\n",
              "<p>23699 rows × 29 columns</p>\n",
              "</div>"
            ],
            "text/plain": [
              "       total_images  last_price  total_area first_day_exposition  rooms  \\\n",
              "0                20  13000000.0         108           2019-03-07      3   \n",
              "1                 7   3350000.0          40           2018-12-04      1   \n",
              "2                10   5196000.0          56           2015-08-20      2   \n",
              "3                 0  64900000.0         159           2015-07-24      3   \n",
              "4                 2  10000000.0         100           2018-06-19      2   \n",
              "...             ...         ...         ...                  ...    ...   \n",
              "23694             9   9700000.0         133           2017-03-21      3   \n",
              "23695            14   3100000.0          59           2018-01-15      3   \n",
              "23696            18   2500000.0          56           2018-02-11      2   \n",
              "23697            13  11475000.0          76           2017-03-28      2   \n",
              "23698             4   1350000.0          32           2017-07-21      1   \n",
              "\n",
              "       ceiling_height  floors_total  living_area  floor  is_apartment  studio  \\\n",
              "0            2.699219          16.0         51.0      8         False   False   \n",
              "1            2.650391          11.0         18.6      1         False   False   \n",
              "2            2.650391           5.0         34.3      4         False   False   \n",
              "3            2.650391          14.0          NaN      9         False   False   \n",
              "4            3.029297          14.0         32.0     13         False   False   \n",
              "...               ...           ...          ...    ...           ...     ...   \n",
              "23694        3.699219           5.0         73.3      3         False   False   \n",
              "23695        2.650391           5.0         38.0      4         False   False   \n",
              "23696        2.650391           3.0         29.7      1         False   False   \n",
              "23697        3.000000          17.0          NaN     12         False   False   \n",
              "23698        2.500000           5.0         12.3      1         False   False   \n",
              "\n",
              "       open_plan  kitchen_area  balcony        locality_name  \\\n",
              "0          False         25.00        0      Санкт-Петербург   \n",
              "1          False         11.00        2       посёлок Шушары   \n",
              "2          False          8.30        0      Санкт-Петербург   \n",
              "3          False           NaN        0      Санкт-Петербург   \n",
              "4          False         41.00        0      Санкт-Петербург   \n",
              "...          ...           ...      ...                  ...   \n",
              "23694      False         13.83        0      Санкт-Петербург   \n",
              "23695      False          8.50        0                Тосно   \n",
              "23696      False           NaN        0     село Рождествено   \n",
              "23697      False         23.30        2      Санкт-Петербург   \n",
              "23698      False          9.00        0  поселок Новый Учхоз   \n",
              "\n",
              "       airports_nearest  city_centers_nearest  parks_around3000  \\\n",
              "0               18863.0               16028.0               1.0   \n",
              "1               12817.0               18603.0               0.0   \n",
              "2               21741.0               13933.0               1.0   \n",
              "3               28098.0                6800.0               2.0   \n",
              "4               31856.0                8098.0               2.0   \n",
              "...                 ...                   ...               ...   \n",
              "23694           24665.0                4232.0               1.0   \n",
              "23695               NaN                   NaN               NaN   \n",
              "23696               NaN                   NaN               NaN   \n",
              "23697           39140.0               10364.0               2.0   \n",
              "23698               NaN                   NaN               NaN   \n",
              "\n",
              "       parks_nearest  ponds_around3000  ponds_nearest  days_exposition  \\\n",
              "0              482.0               2.0          755.0              NaN   \n",
              "1                NaN               0.0            NaN             81.0   \n",
              "2               90.0               2.0          574.0            558.0   \n",
              "3               84.0               3.0          234.0            424.0   \n",
              "4              112.0               1.0           48.0            121.0   \n",
              "...              ...               ...            ...              ...   \n",
              "23694          796.0               3.0          381.0              NaN   \n",
              "23695            NaN               NaN            NaN             45.0   \n",
              "23696            NaN               NaN            NaN              NaN   \n",
              "23697          173.0               3.0          196.0            602.0   \n",
              "23698            NaN               NaN            NaN              NaN   \n",
              "\n",
              "         price_meter  weekday  month  year  kitchen_share  living_share  \\\n",
              "0      120370.370370        3      3  2019       0.231481      0.472222   \n",
              "1       83750.000000        1     12  2018       0.275000      0.465000   \n",
              "2       92785.714286        3      8  2015       0.148214      0.612500   \n",
              "3      408176.100629        4      7  2015            NaN           NaN   \n",
              "4      100000.000000        1      6  2018       0.410000      0.320000   \n",
              "...              ...      ...    ...   ...            ...           ...   \n",
              "23694   72932.330827        1      3  2017       0.103985      0.551128   \n",
              "23695   52542.372881        0      1  2018       0.144068      0.644068   \n",
              "23696   44642.857143        6      2  2018            NaN      0.530357   \n",
              "23697  150986.842105        1      3  2017       0.306579           NaN   \n",
              "23698   42187.500000        4      7  2017       0.281250      0.384375   \n",
              "\n",
              "      floor_category  \n",
              "0             другой  \n",
              "1             первый  \n",
              "2             другой  \n",
              "3             другой  \n",
              "4             другой  \n",
              "...              ...  \n",
              "23694         другой  \n",
              "23695         другой  \n",
              "23696         первый  \n",
              "23697         другой  \n",
              "23698         первый  \n",
              "\n",
              "[23699 rows x 29 columns]"
            ]
          },
          "metadata": {}
        }
      ]
    },
    {
      "cell_type": "markdown",
      "source": "### Изучение площади, цены, числа комнат и высоты потолков",
      "metadata": {}
    },
    {
      "cell_type": "code",
      "source": "df['total_area'].hist()",
      "metadata": {},
      "execution_count": 689,
      "outputs": [
        {
          "execution_count": 689,
          "output_type": "execute_result",
          "data": {
            "text/plain": [
              "<AxesSubplot:>"
            ]
          },
          "metadata": {}
        },
        {
          "output_type": "display_data",
          "data": {
            "image/png": "[encoded data removed]",
            "text/plain": [
              "<Figure size 432x288 with 1 Axes>"
            ]
          },
          "metadata": {
            "needs_background": "light"
          }
        }
      ]
    },
    {
      "cell_type": "code",
      "source": "df['total_area'].sort_values()",
      "metadata": {},
      "execution_count": 690,
      "outputs": [
        {
          "execution_count": 690,
          "output_type": "execute_result",
          "data": {
            "text/plain": [
              "19904     12\n",
              "19807     13\n",
              "19558     13\n",
              "17961     13\n",
              "19546     13\n",
              "        ... \n",
              "5358     590\n",
              "15651    618\n",
              "3117     631\n",
              "12859    631\n",
              "19540    900\n",
              "Name: total_area, Length: 23699, dtype: int32"
            ]
          },
          "metadata": {}
        }
      ]
    },
    {
      "cell_type": "markdown",
      "source": "В столбце `total_area` данные находятся в диапозоне от примерно 12 до 900 м². Чаще всего встречаются объявления с общей площадью порядка 50 м². Есть квартиры с площадью более 500 м².",
      "metadata": {}
    },
    {
      "cell_type": "code",
      "source": "df['living_area'].hist()",
      "metadata": {},
      "execution_count": 691,
      "outputs": [
        {
          "execution_count": 691,
          "output_type": "execute_result",
          "data": {
            "text/plain": [
              "<AxesSubplot:>"
            ]
          },
          "metadata": {}
        },
        {
          "output_type": "display_data",
          "data": {
            "image/png": "[encoded data removed]",
            "text/plain": [
              "<Figure size 432x288 with 1 Axes>"
            ]
          },
          "metadata": {
            "needs_background": "light"
          }
        }
      ]
    },
    {
      "cell_type": "code",
      "source": "df['living_area'].hist(range=(0,5))",
      "metadata": {},
      "execution_count": 692,
      "outputs": [
        {
          "execution_count": 692,
          "output_type": "execute_result",
          "data": {
            "text/plain": [
              "<AxesSubplot:>"
            ]
          },
          "metadata": {}
        },
        {
          "output_type": "display_data",
          "data": {
            "image/png": "[encoded data removed]",
            "text/plain": [
              "<Figure size 432x288 with 1 Axes>"
            ]
          },
          "metadata": {
            "needs_background": "light"
          }
        }
      ]
    },
    {
      "cell_type": "code",
      "source": "df['living_area'].sort_values()",
      "metadata": {},
      "execution_count": 693,
      "outputs": [
        {
          "execution_count": 693,
          "output_type": "execute_result",
          "data": {
            "text/plain": [
              "21758    2.0\n",
              "13915    2.0\n",
              "23574    3.0\n",
              "3242     3.0\n",
              "17582    5.0\n",
              "        ... \n",
              "23642    NaN\n",
              "23663    NaN\n",
              "23670    NaN\n",
              "23679    NaN\n",
              "23697    NaN\n",
              "Name: living_area, Length: 23699, dtype: float64"
            ]
          },
          "metadata": {}
        }
      ]
    },
    {
      "cell_type": "code",
      "source": "df[df['living_area']>300]",
      "metadata": {},
      "execution_count": 694,
      "outputs": [
        {
          "execution_count": 694,
          "output_type": "execute_result",
          "data": {
            "text/html": [
              "<div>\n",
              "<style scoped>\n",
              "    .dataframe tbody tr th:only-of-type {\n",
              "        vertical-align: middle;\n",
              "    }\n",
              "\n",
              "    .dataframe tbody tr th {\n",
              "        vertical-align: top;\n",
              "    }\n",
              "\n",
              "    .dataframe thead th {\n",
              "        text-align: right;\n",
              "    }\n",
              "</style>\n",
              "<table border=\"1\" class=\"dataframe\">\n",
              "  <thead>\n",
              "    <tr style=\"text-align: right;\">\n",
              "      <th></th>\n",
              "      <th>total_images</th>\n",
              "      <th>last_price</th>\n",
              "      <th>total_area</th>\n",
              "      <th>first_day_exposition</th>\n",
              "      <th>rooms</th>\n",
              "      <th>ceiling_height</th>\n",
              "      <th>floors_total</th>\n",
              "      <th>living_area</th>\n",
              "      <th>floor</th>\n",
              "      <th>is_apartment</th>\n",
              "      <th>studio</th>\n",
              "      <th>open_plan</th>\n",
              "      <th>kitchen_area</th>\n",
              "      <th>balcony</th>\n",
              "      <th>locality_name</th>\n",
              "      <th>airports_nearest</th>\n",
              "      <th>city_centers_nearest</th>\n",
              "      <th>parks_around3000</th>\n",
              "      <th>parks_nearest</th>\n",
              "      <th>ponds_around3000</th>\n",
              "      <th>ponds_nearest</th>\n",
              "      <th>days_exposition</th>\n",
              "      <th>price_meter</th>\n",
              "      <th>weekday</th>\n",
              "      <th>month</th>\n",
              "      <th>year</th>\n",
              "      <th>kitchen_share</th>\n",
              "      <th>living_share</th>\n",
              "      <th>floor_category</th>\n",
              "    </tr>\n",
              "  </thead>\n",
              "  <tbody>\n",
              "    <tr>\n",
              "      <th>660</th>\n",
              "      <td>3</td>\n",
              "      <td>49950000.0</td>\n",
              "      <td>484</td>\n",
              "      <td>2017-10-04</td>\n",
              "      <td>7</td>\n",
              "      <td>3.199219</td>\n",
              "      <td>6.0</td>\n",
              "      <td>312.5</td>\n",
              "      <td>4</td>\n",
              "      <td>False</td>\n",
              "      <td>False</td>\n",
              "      <td>False</td>\n",
              "      <td>26.4</td>\n",
              "      <td>0</td>\n",
              "      <td>Санкт-Петербург</td>\n",
              "      <td>23079.0</td>\n",
              "      <td>945.0</td>\n",
              "      <td>3.0</td>\n",
              "      <td>461.0</td>\n",
              "      <td>3.0</td>\n",
              "      <td>22.0</td>\n",
              "      <td>391.0</td>\n",
              "      <td>103202.479339</td>\n",
              "      <td>2</td>\n",
              "      <td>10</td>\n",
              "      <td>2017</td>\n",
              "      <td>0.054545</td>\n",
              "      <td>0.645661</td>\n",
              "      <td>другой</td>\n",
              "    </tr>\n",
              "    <tr>\n",
              "      <th>4237</th>\n",
              "      <td>1</td>\n",
              "      <td>50000000.0</td>\n",
              "      <td>517</td>\n",
              "      <td>2017-10-14</td>\n",
              "      <td>7</td>\n",
              "      <td>2.650391</td>\n",
              "      <td>4.0</td>\n",
              "      <td>332.0</td>\n",
              "      <td>3</td>\n",
              "      <td>False</td>\n",
              "      <td>False</td>\n",
              "      <td>False</td>\n",
              "      <td>22.0</td>\n",
              "      <td>0</td>\n",
              "      <td>Санкт-Петербург</td>\n",
              "      <td>22835.0</td>\n",
              "      <td>1847.0</td>\n",
              "      <td>2.0</td>\n",
              "      <td>477.0</td>\n",
              "      <td>2.0</td>\n",
              "      <td>540.0</td>\n",
              "      <td>NaN</td>\n",
              "      <td>96711.798839</td>\n",
              "      <td>5</td>\n",
              "      <td>10</td>\n",
              "      <td>2017</td>\n",
              "      <td>0.042553</td>\n",
              "      <td>0.642166</td>\n",
              "      <td>другой</td>\n",
              "    </tr>\n",
              "    <tr>\n",
              "      <th>5358</th>\n",
              "      <td>20</td>\n",
              "      <td>65000000.0</td>\n",
              "      <td>590</td>\n",
              "      <td>2019-02-14</td>\n",
              "      <td>15</td>\n",
              "      <td>3.500000</td>\n",
              "      <td>6.0</td>\n",
              "      <td>409.0</td>\n",
              "      <td>3</td>\n",
              "      <td>False</td>\n",
              "      <td>False</td>\n",
              "      <td>False</td>\n",
              "      <td>100.0</td>\n",
              "      <td>0</td>\n",
              "      <td>Санкт-Петербург</td>\n",
              "      <td>24447.0</td>\n",
              "      <td>4666.0</td>\n",
              "      <td>1.0</td>\n",
              "      <td>767.0</td>\n",
              "      <td>0.0</td>\n",
              "      <td>NaN</td>\n",
              "      <td>14.0</td>\n",
              "      <td>110169.491525</td>\n",
              "      <td>3</td>\n",
              "      <td>2</td>\n",
              "      <td>2019</td>\n",
              "      <td>0.169492</td>\n",
              "      <td>0.693220</td>\n",
              "      <td>другой</td>\n",
              "    </tr>\n",
              "    <tr>\n",
              "      <th>8018</th>\n",
              "      <td>20</td>\n",
              "      <td>84000000.0</td>\n",
              "      <td>507</td>\n",
              "      <td>2015-12-17</td>\n",
              "      <td>5</td>\n",
              "      <td>4.449219</td>\n",
              "      <td>7.0</td>\n",
              "      <td>301.5</td>\n",
              "      <td>7</td>\n",
              "      <td>True</td>\n",
              "      <td>False</td>\n",
              "      <td>False</td>\n",
              "      <td>45.5</td>\n",
              "      <td>1</td>\n",
              "      <td>Санкт-Петербург</td>\n",
              "      <td>NaN</td>\n",
              "      <td>5735.0</td>\n",
              "      <td>2.0</td>\n",
              "      <td>110.0</td>\n",
              "      <td>0.0</td>\n",
              "      <td>NaN</td>\n",
              "      <td>1078.0</td>\n",
              "      <td>165680.473373</td>\n",
              "      <td>3</td>\n",
              "      <td>12</td>\n",
              "      <td>2015</td>\n",
              "      <td>0.089744</td>\n",
              "      <td>0.594675</td>\n",
              "      <td>последний</td>\n",
              "    </tr>\n",
              "    <tr>\n",
              "      <th>12401</th>\n",
              "      <td>20</td>\n",
              "      <td>91500000.0</td>\n",
              "      <td>495</td>\n",
              "      <td>2017-06-19</td>\n",
              "      <td>7</td>\n",
              "      <td>4.648438</td>\n",
              "      <td>7.0</td>\n",
              "      <td>347.5</td>\n",
              "      <td>7</td>\n",
              "      <td>False</td>\n",
              "      <td>False</td>\n",
              "      <td>False</td>\n",
              "      <td>25.0</td>\n",
              "      <td>0</td>\n",
              "      <td>Санкт-Петербург</td>\n",
              "      <td>NaN</td>\n",
              "      <td>5735.0</td>\n",
              "      <td>2.0</td>\n",
              "      <td>110.0</td>\n",
              "      <td>0.0</td>\n",
              "      <td>NaN</td>\n",
              "      <td>14.0</td>\n",
              "      <td>184848.484848</td>\n",
              "      <td>0</td>\n",
              "      <td>6</td>\n",
              "      <td>2017</td>\n",
              "      <td>0.050505</td>\n",
              "      <td>0.702020</td>\n",
              "      <td>последний</td>\n",
              "    </tr>\n",
              "    <tr>\n",
              "      <th>12859</th>\n",
              "      <td>20</td>\n",
              "      <td>140000000.0</td>\n",
              "      <td>631</td>\n",
              "      <td>2019-04-09</td>\n",
              "      <td>7</td>\n",
              "      <td>3.900391</td>\n",
              "      <td>4.0</td>\n",
              "      <td>322.3</td>\n",
              "      <td>4</td>\n",
              "      <td>False</td>\n",
              "      <td>False</td>\n",
              "      <td>False</td>\n",
              "      <td>19.5</td>\n",
              "      <td>1</td>\n",
              "      <td>Санкт-Петербург</td>\n",
              "      <td>25707.0</td>\n",
              "      <td>4972.0</td>\n",
              "      <td>0.0</td>\n",
              "      <td>NaN</td>\n",
              "      <td>2.0</td>\n",
              "      <td>210.0</td>\n",
              "      <td>NaN</td>\n",
              "      <td>221870.047544</td>\n",
              "      <td>1</td>\n",
              "      <td>4</td>\n",
              "      <td>2019</td>\n",
              "      <td>0.030903</td>\n",
              "      <td>0.510777</td>\n",
              "      <td>последний</td>\n",
              "    </tr>\n",
              "    <tr>\n",
              "      <th>19540</th>\n",
              "      <td>8</td>\n",
              "      <td>420000000.0</td>\n",
              "      <td>900</td>\n",
              "      <td>2017-12-06</td>\n",
              "      <td>12</td>\n",
              "      <td>2.800781</td>\n",
              "      <td>25.0</td>\n",
              "      <td>409.7</td>\n",
              "      <td>25</td>\n",
              "      <td>False</td>\n",
              "      <td>False</td>\n",
              "      <td>False</td>\n",
              "      <td>112.0</td>\n",
              "      <td>0</td>\n",
              "      <td>Санкт-Петербург</td>\n",
              "      <td>30706.0</td>\n",
              "      <td>7877.0</td>\n",
              "      <td>0.0</td>\n",
              "      <td>NaN</td>\n",
              "      <td>2.0</td>\n",
              "      <td>318.0</td>\n",
              "      <td>106.0</td>\n",
              "      <td>466666.666667</td>\n",
              "      <td>2</td>\n",
              "      <td>12</td>\n",
              "      <td>2017</td>\n",
              "      <td>0.124444</td>\n",
              "      <td>0.455222</td>\n",
              "      <td>последний</td>\n",
              "    </tr>\n",
              "  </tbody>\n",
              "</table>\n",
              "</div>"
            ],
            "text/plain": [
              "       total_images   last_price  total_area first_day_exposition  rooms  \\\n",
              "660               3   49950000.0         484           2017-10-04      7   \n",
              "4237              1   50000000.0         517           2017-10-14      7   \n",
              "5358             20   65000000.0         590           2019-02-14     15   \n",
              "8018             20   84000000.0         507           2015-12-17      5   \n",
              "12401            20   91500000.0         495           2017-06-19      7   \n",
              "12859            20  140000000.0         631           2019-04-09      7   \n",
              "19540             8  420000000.0         900           2017-12-06     12   \n",
              "\n",
              "       ceiling_height  floors_total  living_area  floor  is_apartment  studio  \\\n",
              "660          3.199219           6.0        312.5      4         False   False   \n",
              "4237         2.650391           4.0        332.0      3         False   False   \n",
              "5358         3.500000           6.0        409.0      3         False   False   \n",
              "8018         4.449219           7.0        301.5      7          True   False   \n",
              "12401        4.648438           7.0        347.5      7         False   False   \n",
              "12859        3.900391           4.0        322.3      4         False   False   \n",
              "19540        2.800781          25.0        409.7     25         False   False   \n",
              "\n",
              "       open_plan  kitchen_area  balcony    locality_name  airports_nearest  \\\n",
              "660        False          26.4        0  Санкт-Петербург           23079.0   \n",
              "4237       False          22.0        0  Санкт-Петербург           22835.0   \n",
              "5358       False         100.0        0  Санкт-Петербург           24447.0   \n",
              "8018       False          45.5        1  Санкт-Петербург               NaN   \n",
              "12401      False          25.0        0  Санкт-Петербург               NaN   \n",
              "12859      False          19.5        1  Санкт-Петербург           25707.0   \n",
              "19540      False         112.0        0  Санкт-Петербург           30706.0   \n",
              "\n",
              "       city_centers_nearest  parks_around3000  parks_nearest  \\\n",
              "660                   945.0               3.0          461.0   \n",
              "4237                 1847.0               2.0          477.0   \n",
              "5358                 4666.0               1.0          767.0   \n",
              "8018                 5735.0               2.0          110.0   \n",
              "12401                5735.0               2.0          110.0   \n",
              "12859                4972.0               0.0            NaN   \n",
              "19540                7877.0               0.0            NaN   \n",
              "\n",
              "       ponds_around3000  ponds_nearest  days_exposition    price_meter  \\\n",
              "660                 3.0           22.0            391.0  103202.479339   \n",
              "4237                2.0          540.0              NaN   96711.798839   \n",
              "5358                0.0            NaN             14.0  110169.491525   \n",
              "8018                0.0            NaN           1078.0  165680.473373   \n",
              "12401               0.0            NaN             14.0  184848.484848   \n",
              "12859               2.0          210.0              NaN  221870.047544   \n",
              "19540               2.0          318.0            106.0  466666.666667   \n",
              "\n",
              "       weekday  month  year  kitchen_share  living_share floor_category  \n",
              "660          2     10  2017       0.054545      0.645661         другой  \n",
              "4237         5     10  2017       0.042553      0.642166         другой  \n",
              "5358         3      2  2019       0.169492      0.693220         другой  \n",
              "8018         3     12  2015       0.089744      0.594675      последний  \n",
              "12401        0      6  2017       0.050505      0.702020      последний  \n",
              "12859        1      4  2019       0.030903      0.510777      последний  \n",
              "19540        2     12  2017       0.124444      0.455222      последний  "
            ]
          },
          "metadata": {}
        }
      ]
    },
    {
      "cell_type": "markdown",
      "source": "В столбце `living_area` находятся аномально низкие значения: 2 кваритры по 2 м², 2 кваритры по 3 м² и 1 квартира 5 м²(их следует убрать, так как такие данные существовать не могут). Также присутсвуют квартиры с крайне высоким значением. Наибольшее количество объявлений с жилой площадью примерно от 15 до 40 м². ",
      "metadata": {}
    },
    {
      "cell_type": "code",
      "source": "df['rooms'].hist()",
      "metadata": {
        "scrolled": true
      },
      "execution_count": 695,
      "outputs": [
        {
          "execution_count": 695,
          "output_type": "execute_result",
          "data": {
            "text/plain": [
              "<AxesSubplot:>"
            ]
          },
          "metadata": {}
        },
        {
          "output_type": "display_data",
          "data": {
            "image/png": "[encoded data removed]",
            "text/plain": [
              "<Figure size 432x288 with 1 Axes>"
            ]
          },
          "metadata": {
            "needs_background": "light"
          }
        }
      ]
    },
    {
      "cell_type": "code",
      "source": "df['rooms'].hist(range=(0,10))",
      "metadata": {
        "scrolled": true
      },
      "execution_count": 696,
      "outputs": [
        {
          "execution_count": 696,
          "output_type": "execute_result",
          "data": {
            "text/plain": [
              "<AxesSubplot:>"
            ]
          },
          "metadata": {}
        },
        {
          "output_type": "display_data",
          "data": {
            "image/png": "[encoded data removed]",
            "text/plain": [
              "<Figure size 432x288 with 1 Axes>"
            ]
          },
          "metadata": {
            "needs_background": "light"
          }
        }
      ]
    },
    {
      "cell_type": "code",
      "source": "df['rooms'].sort_values()",
      "metadata": {},
      "execution_count": 697,
      "outputs": [
        {
          "execution_count": 697,
          "output_type": "execute_result",
          "data": {
            "text/plain": [
              "9412      0\n",
              "8886      0\n",
              "18132     0\n",
              "20002     0\n",
              "21425     0\n",
              "         ..\n",
              "866      14\n",
              "20829    14\n",
              "5358     15\n",
              "18848    16\n",
              "14498    19\n",
              "Name: rooms, Length: 23699, dtype: int8"
            ]
          },
          "metadata": {}
        }
      ]
    },
    {
      "cell_type": "code",
      "source": "df[df['rooms'] == 0]",
      "metadata": {
        "scrolled": true
      },
      "execution_count": 698,
      "outputs": [
        {
          "execution_count": 698,
          "output_type": "execute_result",
          "data": {
            "text/html": [
              "<div>\n",
              "<style scoped>\n",
              "    .dataframe tbody tr th:only-of-type {\n",
              "        vertical-align: middle;\n",
              "    }\n",
              "\n",
              "    .dataframe tbody tr th {\n",
              "        vertical-align: top;\n",
              "    }\n",
              "\n",
              "    .dataframe thead th {\n",
              "        text-align: right;\n",
              "    }\n",
              "</style>\n",
              "<table border=\"1\" class=\"dataframe\">\n",
              "  <thead>\n",
              "    <tr style=\"text-align: right;\">\n",
              "      <th></th>\n",
              "      <th>total_images</th>\n",
              "      <th>last_price</th>\n",
              "      <th>total_area</th>\n",
              "      <th>first_day_exposition</th>\n",
              "      <th>rooms</th>\n",
              "      <th>ceiling_height</th>\n",
              "      <th>floors_total</th>\n",
              "      <th>living_area</th>\n",
              "      <th>floor</th>\n",
              "      <th>is_apartment</th>\n",
              "      <th>studio</th>\n",
              "      <th>open_plan</th>\n",
              "      <th>kitchen_area</th>\n",
              "      <th>balcony</th>\n",
              "      <th>locality_name</th>\n",
              "      <th>airports_nearest</th>\n",
              "      <th>city_centers_nearest</th>\n",
              "      <th>parks_around3000</th>\n",
              "      <th>parks_nearest</th>\n",
              "      <th>ponds_around3000</th>\n",
              "      <th>ponds_nearest</th>\n",
              "      <th>days_exposition</th>\n",
              "      <th>price_meter</th>\n",
              "      <th>weekday</th>\n",
              "      <th>month</th>\n",
              "      <th>year</th>\n",
              "      <th>kitchen_share</th>\n",
              "      <th>living_share</th>\n",
              "      <th>floor_category</th>\n",
              "    </tr>\n",
              "  </thead>\n",
              "  <tbody>\n",
              "    <tr>\n",
              "      <th>144</th>\n",
              "      <td>1</td>\n",
              "      <td>2450000.0</td>\n",
              "      <td>27</td>\n",
              "      <td>2017-03-30</td>\n",
              "      <td>0</td>\n",
              "      <td>2.650391</td>\n",
              "      <td>24.0</td>\n",
              "      <td>15.50</td>\n",
              "      <td>2</td>\n",
              "      <td>False</td>\n",
              "      <td>True</td>\n",
              "      <td>False</td>\n",
              "      <td>NaN</td>\n",
              "      <td>2</td>\n",
              "      <td>посёлок Мурино</td>\n",
              "      <td>NaN</td>\n",
              "      <td>NaN</td>\n",
              "      <td>NaN</td>\n",
              "      <td>NaN</td>\n",
              "      <td>NaN</td>\n",
              "      <td>NaN</td>\n",
              "      <td>181.0</td>\n",
              "      <td>90740.740741</td>\n",
              "      <td>3</td>\n",
              "      <td>3</td>\n",
              "      <td>2017</td>\n",
              "      <td>NaN</td>\n",
              "      <td>0.574074</td>\n",
              "      <td>другой</td>\n",
              "    </tr>\n",
              "    <tr>\n",
              "      <th>349</th>\n",
              "      <td>4</td>\n",
              "      <td>2320000.0</td>\n",
              "      <td>25</td>\n",
              "      <td>2017-09-27</td>\n",
              "      <td>0</td>\n",
              "      <td>2.650391</td>\n",
              "      <td>14.0</td>\n",
              "      <td>17.00</td>\n",
              "      <td>1</td>\n",
              "      <td>False</td>\n",
              "      <td>False</td>\n",
              "      <td>True</td>\n",
              "      <td>NaN</td>\n",
              "      <td>0</td>\n",
              "      <td>деревня Кудрово</td>\n",
              "      <td>NaN</td>\n",
              "      <td>NaN</td>\n",
              "      <td>NaN</td>\n",
              "      <td>NaN</td>\n",
              "      <td>NaN</td>\n",
              "      <td>NaN</td>\n",
              "      <td>45.0</td>\n",
              "      <td>92800.000000</td>\n",
              "      <td>2</td>\n",
              "      <td>9</td>\n",
              "      <td>2017</td>\n",
              "      <td>NaN</td>\n",
              "      <td>0.680000</td>\n",
              "      <td>первый</td>\n",
              "    </tr>\n",
              "    <tr>\n",
              "      <th>440</th>\n",
              "      <td>8</td>\n",
              "      <td>2480000.0</td>\n",
              "      <td>27</td>\n",
              "      <td>2018-03-12</td>\n",
              "      <td>0</td>\n",
              "      <td>2.650391</td>\n",
              "      <td>17.0</td>\n",
              "      <td>24.75</td>\n",
              "      <td>4</td>\n",
              "      <td>False</td>\n",
              "      <td>True</td>\n",
              "      <td>False</td>\n",
              "      <td>NaN</td>\n",
              "      <td>2</td>\n",
              "      <td>Санкт-Петербург</td>\n",
              "      <td>38171.0</td>\n",
              "      <td>15015.0</td>\n",
              "      <td>0.0</td>\n",
              "      <td>NaN</td>\n",
              "      <td>2.0</td>\n",
              "      <td>982.0</td>\n",
              "      <td>64.0</td>\n",
              "      <td>91851.851852</td>\n",
              "      <td>0</td>\n",
              "      <td>3</td>\n",
              "      <td>2018</td>\n",
              "      <td>NaN</td>\n",
              "      <td>0.916667</td>\n",
              "      <td>другой</td>\n",
              "    </tr>\n",
              "    <tr>\n",
              "      <th>508</th>\n",
              "      <td>0</td>\n",
              "      <td>3375000.0</td>\n",
              "      <td>34</td>\n",
              "      <td>2017-03-28</td>\n",
              "      <td>0</td>\n",
              "      <td>2.650391</td>\n",
              "      <td>26.0</td>\n",
              "      <td>24.30</td>\n",
              "      <td>19</td>\n",
              "      <td>False</td>\n",
              "      <td>False</td>\n",
              "      <td>True</td>\n",
              "      <td>NaN</td>\n",
              "      <td>1</td>\n",
              "      <td>посёлок Парголово</td>\n",
              "      <td>53115.0</td>\n",
              "      <td>19292.0</td>\n",
              "      <td>0.0</td>\n",
              "      <td>NaN</td>\n",
              "      <td>1.0</td>\n",
              "      <td>593.0</td>\n",
              "      <td>430.0</td>\n",
              "      <td>99264.705882</td>\n",
              "      <td>1</td>\n",
              "      <td>3</td>\n",
              "      <td>2017</td>\n",
              "      <td>NaN</td>\n",
              "      <td>0.714706</td>\n",
              "      <td>другой</td>\n",
              "    </tr>\n",
              "    <tr>\n",
              "      <th>608</th>\n",
              "      <td>2</td>\n",
              "      <td>1850000.0</td>\n",
              "      <td>25</td>\n",
              "      <td>2019-02-20</td>\n",
              "      <td>0</td>\n",
              "      <td>2.650391</td>\n",
              "      <td>10.0</td>\n",
              "      <td>NaN</td>\n",
              "      <td>7</td>\n",
              "      <td>False</td>\n",
              "      <td>True</td>\n",
              "      <td>False</td>\n",
              "      <td>NaN</td>\n",
              "      <td>0</td>\n",
              "      <td>посёлок Шушары</td>\n",
              "      <td>NaN</td>\n",
              "      <td>NaN</td>\n",
              "      <td>NaN</td>\n",
              "      <td>NaN</td>\n",
              "      <td>NaN</td>\n",
              "      <td>NaN</td>\n",
              "      <td>29.0</td>\n",
              "      <td>74000.000000</td>\n",
              "      <td>2</td>\n",
              "      <td>2</td>\n",
              "      <td>2019</td>\n",
              "      <td>NaN</td>\n",
              "      <td>NaN</td>\n",
              "      <td>другой</td>\n",
              "    </tr>\n",
              "    <tr>\n",
              "      <th>...</th>\n",
              "      <td>...</td>\n",
              "      <td>...</td>\n",
              "      <td>...</td>\n",
              "      <td>...</td>\n",
              "      <td>...</td>\n",
              "      <td>...</td>\n",
              "      <td>...</td>\n",
              "      <td>...</td>\n",
              "      <td>...</td>\n",
              "      <td>...</td>\n",
              "      <td>...</td>\n",
              "      <td>...</td>\n",
              "      <td>...</td>\n",
              "      <td>...</td>\n",
              "      <td>...</td>\n",
              "      <td>...</td>\n",
              "      <td>...</td>\n",
              "      <td>...</td>\n",
              "      <td>...</td>\n",
              "      <td>...</td>\n",
              "      <td>...</td>\n",
              "      <td>...</td>\n",
              "      <td>...</td>\n",
              "      <td>...</td>\n",
              "      <td>...</td>\n",
              "      <td>...</td>\n",
              "      <td>...</td>\n",
              "      <td>...</td>\n",
              "      <td>...</td>\n",
              "    </tr>\n",
              "    <tr>\n",
              "      <th>23210</th>\n",
              "      <td>7</td>\n",
              "      <td>3200000.0</td>\n",
              "      <td>26</td>\n",
              "      <td>2017-09-01</td>\n",
              "      <td>0</td>\n",
              "      <td>2.650391</td>\n",
              "      <td>25.0</td>\n",
              "      <td>18.00</td>\n",
              "      <td>16</td>\n",
              "      <td>False</td>\n",
              "      <td>True</td>\n",
              "      <td>False</td>\n",
              "      <td>NaN</td>\n",
              "      <td>0</td>\n",
              "      <td>Санкт-Петербург</td>\n",
              "      <td>11405.0</td>\n",
              "      <td>13222.0</td>\n",
              "      <td>0.0</td>\n",
              "      <td>NaN</td>\n",
              "      <td>1.0</td>\n",
              "      <td>623.0</td>\n",
              "      <td>14.0</td>\n",
              "      <td>123076.923077</td>\n",
              "      <td>4</td>\n",
              "      <td>9</td>\n",
              "      <td>2017</td>\n",
              "      <td>NaN</td>\n",
              "      <td>0.692308</td>\n",
              "      <td>другой</td>\n",
              "    </tr>\n",
              "    <tr>\n",
              "      <th>23442</th>\n",
              "      <td>0</td>\n",
              "      <td>2500000.0</td>\n",
              "      <td>27</td>\n",
              "      <td>2017-09-28</td>\n",
              "      <td>0</td>\n",
              "      <td>2.650391</td>\n",
              "      <td>24.0</td>\n",
              "      <td>18.00</td>\n",
              "      <td>4</td>\n",
              "      <td>False</td>\n",
              "      <td>False</td>\n",
              "      <td>True</td>\n",
              "      <td>NaN</td>\n",
              "      <td>2</td>\n",
              "      <td>посёлок Мурино</td>\n",
              "      <td>NaN</td>\n",
              "      <td>NaN</td>\n",
              "      <td>NaN</td>\n",
              "      <td>NaN</td>\n",
              "      <td>NaN</td>\n",
              "      <td>NaN</td>\n",
              "      <td>4.0</td>\n",
              "      <td>92592.592593</td>\n",
              "      <td>3</td>\n",
              "      <td>9</td>\n",
              "      <td>2017</td>\n",
              "      <td>NaN</td>\n",
              "      <td>0.666667</td>\n",
              "      <td>другой</td>\n",
              "    </tr>\n",
              "    <tr>\n",
              "      <th>23554</th>\n",
              "      <td>15</td>\n",
              "      <td>3350000.0</td>\n",
              "      <td>26</td>\n",
              "      <td>2018-09-07</td>\n",
              "      <td>0</td>\n",
              "      <td>2.650391</td>\n",
              "      <td>19.0</td>\n",
              "      <td>NaN</td>\n",
              "      <td>8</td>\n",
              "      <td>False</td>\n",
              "      <td>True</td>\n",
              "      <td>False</td>\n",
              "      <td>NaN</td>\n",
              "      <td>0</td>\n",
              "      <td>Санкт-Петербург</td>\n",
              "      <td>18090.0</td>\n",
              "      <td>17092.0</td>\n",
              "      <td>0.0</td>\n",
              "      <td>NaN</td>\n",
              "      <td>2.0</td>\n",
              "      <td>112.0</td>\n",
              "      <td>31.0</td>\n",
              "      <td>128846.153846</td>\n",
              "      <td>4</td>\n",
              "      <td>9</td>\n",
              "      <td>2018</td>\n",
              "      <td>NaN</td>\n",
              "      <td>NaN</td>\n",
              "      <td>другой</td>\n",
              "    </tr>\n",
              "    <tr>\n",
              "      <th>23592</th>\n",
              "      <td>10</td>\n",
              "      <td>1450000.0</td>\n",
              "      <td>29</td>\n",
              "      <td>2017-11-11</td>\n",
              "      <td>0</td>\n",
              "      <td>2.650391</td>\n",
              "      <td>9.0</td>\n",
              "      <td>18.00</td>\n",
              "      <td>8</td>\n",
              "      <td>False</td>\n",
              "      <td>False</td>\n",
              "      <td>True</td>\n",
              "      <td>NaN</td>\n",
              "      <td>2</td>\n",
              "      <td>Никольское</td>\n",
              "      <td>NaN</td>\n",
              "      <td>NaN</td>\n",
              "      <td>NaN</td>\n",
              "      <td>NaN</td>\n",
              "      <td>NaN</td>\n",
              "      <td>NaN</td>\n",
              "      <td>82.0</td>\n",
              "      <td>50000.000000</td>\n",
              "      <td>5</td>\n",
              "      <td>11</td>\n",
              "      <td>2017</td>\n",
              "      <td>NaN</td>\n",
              "      <td>0.620690</td>\n",
              "      <td>другой</td>\n",
              "    </tr>\n",
              "    <tr>\n",
              "      <th>23637</th>\n",
              "      <td>8</td>\n",
              "      <td>2350000.0</td>\n",
              "      <td>26</td>\n",
              "      <td>2018-06-26</td>\n",
              "      <td>0</td>\n",
              "      <td>2.650391</td>\n",
              "      <td>25.0</td>\n",
              "      <td>17.00</td>\n",
              "      <td>4</td>\n",
              "      <td>False</td>\n",
              "      <td>True</td>\n",
              "      <td>False</td>\n",
              "      <td>NaN</td>\n",
              "      <td>2</td>\n",
              "      <td>посёлок Бугры</td>\n",
              "      <td>NaN</td>\n",
              "      <td>NaN</td>\n",
              "      <td>NaN</td>\n",
              "      <td>NaN</td>\n",
              "      <td>NaN</td>\n",
              "      <td>NaN</td>\n",
              "      <td>207.0</td>\n",
              "      <td>90384.615385</td>\n",
              "      <td>1</td>\n",
              "      <td>6</td>\n",
              "      <td>2018</td>\n",
              "      <td>NaN</td>\n",
              "      <td>0.653846</td>\n",
              "      <td>другой</td>\n",
              "    </tr>\n",
              "  </tbody>\n",
              "</table>\n",
              "<p>197 rows × 29 columns</p>\n",
              "</div>"
            ],
            "text/plain": [
              "       total_images  last_price  total_area first_day_exposition  rooms  \\\n",
              "144               1   2450000.0          27           2017-03-30      0   \n",
              "349               4   2320000.0          25           2017-09-27      0   \n",
              "440               8   2480000.0          27           2018-03-12      0   \n",
              "508               0   3375000.0          34           2017-03-28      0   \n",
              "608               2   1850000.0          25           2019-02-20      0   \n",
              "...             ...         ...         ...                  ...    ...   \n",
              "23210             7   3200000.0          26           2017-09-01      0   \n",
              "23442             0   2500000.0          27           2017-09-28      0   \n",
              "23554            15   3350000.0          26           2018-09-07      0   \n",
              "23592            10   1450000.0          29           2017-11-11      0   \n",
              "23637             8   2350000.0          26           2018-06-26      0   \n",
              "\n",
              "       ceiling_height  floors_total  living_area  floor  is_apartment  studio  \\\n",
              "144          2.650391          24.0        15.50      2         False    True   \n",
              "349          2.650391          14.0        17.00      1         False   False   \n",
              "440          2.650391          17.0        24.75      4         False    True   \n",
              "508          2.650391          26.0        24.30     19         False   False   \n",
              "608          2.650391          10.0          NaN      7         False    True   \n",
              "...               ...           ...          ...    ...           ...     ...   \n",
              "23210        2.650391          25.0        18.00     16         False    True   \n",
              "23442        2.650391          24.0        18.00      4         False   False   \n",
              "23554        2.650391          19.0          NaN      8         False    True   \n",
              "23592        2.650391           9.0        18.00      8         False   False   \n",
              "23637        2.650391          25.0        17.00      4         False    True   \n",
              "\n",
              "       open_plan  kitchen_area  balcony      locality_name  airports_nearest  \\\n",
              "144        False           NaN        2     посёлок Мурино               NaN   \n",
              "349         True           NaN        0    деревня Кудрово               NaN   \n",
              "440        False           NaN        2    Санкт-Петербург           38171.0   \n",
              "508         True           NaN        1  посёлок Парголово           53115.0   \n",
              "608        False           NaN        0     посёлок Шушары               NaN   \n",
              "...          ...           ...      ...                ...               ...   \n",
              "23210      False           NaN        0    Санкт-Петербург           11405.0   \n",
              "23442       True           NaN        2     посёлок Мурино               NaN   \n",
              "23554      False           NaN        0    Санкт-Петербург           18090.0   \n",
              "23592       True           NaN        2         Никольское               NaN   \n",
              "23637      False           NaN        2      посёлок Бугры               NaN   \n",
              "\n",
              "       city_centers_nearest  parks_around3000  parks_nearest  \\\n",
              "144                     NaN               NaN            NaN   \n",
              "349                     NaN               NaN            NaN   \n",
              "440                 15015.0               0.0            NaN   \n",
              "508                 19292.0               0.0            NaN   \n",
              "608                     NaN               NaN            NaN   \n",
              "...                     ...               ...            ...   \n",
              "23210               13222.0               0.0            NaN   \n",
              "23442                   NaN               NaN            NaN   \n",
              "23554               17092.0               0.0            NaN   \n",
              "23592                   NaN               NaN            NaN   \n",
              "23637                   NaN               NaN            NaN   \n",
              "\n",
              "       ponds_around3000  ponds_nearest  days_exposition    price_meter  \\\n",
              "144                 NaN            NaN            181.0   90740.740741   \n",
              "349                 NaN            NaN             45.0   92800.000000   \n",
              "440                 2.0          982.0             64.0   91851.851852   \n",
              "508                 1.0          593.0            430.0   99264.705882   \n",
              "608                 NaN            NaN             29.0   74000.000000   \n",
              "...                 ...            ...              ...            ...   \n",
              "23210               1.0          623.0             14.0  123076.923077   \n",
              "23442               NaN            NaN              4.0   92592.592593   \n",
              "23554               2.0          112.0             31.0  128846.153846   \n",
              "23592               NaN            NaN             82.0   50000.000000   \n",
              "23637               NaN            NaN            207.0   90384.615385   \n",
              "\n",
              "       weekday  month  year  kitchen_share  living_share floor_category  \n",
              "144          3      3  2017            NaN      0.574074         другой  \n",
              "349          2      9  2017            NaN      0.680000         первый  \n",
              "440          0      3  2018            NaN      0.916667         другой  \n",
              "508          1      3  2017            NaN      0.714706         другой  \n",
              "608          2      2  2019            NaN           NaN         другой  \n",
              "...        ...    ...   ...            ...           ...            ...  \n",
              "23210        4      9  2017            NaN      0.692308         другой  \n",
              "23442        3      9  2017            NaN      0.666667         другой  \n",
              "23554        4      9  2018            NaN           NaN         другой  \n",
              "23592        5     11  2017            NaN      0.620690         другой  \n",
              "23637        1      6  2018            NaN      0.653846         другой  \n",
              "\n",
              "[197 rows x 29 columns]"
            ]
          },
          "metadata": {}
        }
      ]
    },
    {
      "cell_type": "code",
      "source": "df.loc[(df['rooms'] == 0) & ((df['studio'] == True) | (df['open_plan'] == True))]",
      "metadata": {},
      "execution_count": 699,
      "outputs": [
        {
          "execution_count": 699,
          "output_type": "execute_result",
          "data": {
            "text/html": [
              "<div>\n",
              "<style scoped>\n",
              "    .dataframe tbody tr th:only-of-type {\n",
              "        vertical-align: middle;\n",
              "    }\n",
              "\n",
              "    .dataframe tbody tr th {\n",
              "        vertical-align: top;\n",
              "    }\n",
              "\n",
              "    .dataframe thead th {\n",
              "        text-align: right;\n",
              "    }\n",
              "</style>\n",
              "<table border=\"1\" class=\"dataframe\">\n",
              "  <thead>\n",
              "    <tr style=\"text-align: right;\">\n",
              "      <th></th>\n",
              "      <th>total_images</th>\n",
              "      <th>last_price</th>\n",
              "      <th>total_area</th>\n",
              "      <th>first_day_exposition</th>\n",
              "      <th>rooms</th>\n",
              "      <th>ceiling_height</th>\n",
              "      <th>floors_total</th>\n",
              "      <th>living_area</th>\n",
              "      <th>floor</th>\n",
              "      <th>is_apartment</th>\n",
              "      <th>studio</th>\n",
              "      <th>open_plan</th>\n",
              "      <th>kitchen_area</th>\n",
              "      <th>balcony</th>\n",
              "      <th>locality_name</th>\n",
              "      <th>airports_nearest</th>\n",
              "      <th>city_centers_nearest</th>\n",
              "      <th>parks_around3000</th>\n",
              "      <th>parks_nearest</th>\n",
              "      <th>ponds_around3000</th>\n",
              "      <th>ponds_nearest</th>\n",
              "      <th>days_exposition</th>\n",
              "      <th>price_meter</th>\n",
              "      <th>weekday</th>\n",
              "      <th>month</th>\n",
              "      <th>year</th>\n",
              "      <th>kitchen_share</th>\n",
              "      <th>living_share</th>\n",
              "      <th>floor_category</th>\n",
              "    </tr>\n",
              "  </thead>\n",
              "  <tbody>\n",
              "    <tr>\n",
              "      <th>144</th>\n",
              "      <td>1</td>\n",
              "      <td>2450000.0</td>\n",
              "      <td>27</td>\n",
              "      <td>2017-03-30</td>\n",
              "      <td>0</td>\n",
              "      <td>2.650391</td>\n",
              "      <td>24.0</td>\n",
              "      <td>15.50</td>\n",
              "      <td>2</td>\n",
              "      <td>False</td>\n",
              "      <td>True</td>\n",
              "      <td>False</td>\n",
              "      <td>NaN</td>\n",
              "      <td>2</td>\n",
              "      <td>посёлок Мурино</td>\n",
              "      <td>NaN</td>\n",
              "      <td>NaN</td>\n",
              "      <td>NaN</td>\n",
              "      <td>NaN</td>\n",
              "      <td>NaN</td>\n",
              "      <td>NaN</td>\n",
              "      <td>181.0</td>\n",
              "      <td>90740.740741</td>\n",
              "      <td>3</td>\n",
              "      <td>3</td>\n",
              "      <td>2017</td>\n",
              "      <td>NaN</td>\n",
              "      <td>0.574074</td>\n",
              "      <td>другой</td>\n",
              "    </tr>\n",
              "    <tr>\n",
              "      <th>349</th>\n",
              "      <td>4</td>\n",
              "      <td>2320000.0</td>\n",
              "      <td>25</td>\n",
              "      <td>2017-09-27</td>\n",
              "      <td>0</td>\n",
              "      <td>2.650391</td>\n",
              "      <td>14.0</td>\n",
              "      <td>17.00</td>\n",
              "      <td>1</td>\n",
              "      <td>False</td>\n",
              "      <td>False</td>\n",
              "      <td>True</td>\n",
              "      <td>NaN</td>\n",
              "      <td>0</td>\n",
              "      <td>деревня Кудрово</td>\n",
              "      <td>NaN</td>\n",
              "      <td>NaN</td>\n",
              "      <td>NaN</td>\n",
              "      <td>NaN</td>\n",
              "      <td>NaN</td>\n",
              "      <td>NaN</td>\n",
              "      <td>45.0</td>\n",
              "      <td>92800.000000</td>\n",
              "      <td>2</td>\n",
              "      <td>9</td>\n",
              "      <td>2017</td>\n",
              "      <td>NaN</td>\n",
              "      <td>0.680000</td>\n",
              "      <td>первый</td>\n",
              "    </tr>\n",
              "    <tr>\n",
              "      <th>440</th>\n",
              "      <td>8</td>\n",
              "      <td>2480000.0</td>\n",
              "      <td>27</td>\n",
              "      <td>2018-03-12</td>\n",
              "      <td>0</td>\n",
              "      <td>2.650391</td>\n",
              "      <td>17.0</td>\n",
              "      <td>24.75</td>\n",
              "      <td>4</td>\n",
              "      <td>False</td>\n",
              "      <td>True</td>\n",
              "      <td>False</td>\n",
              "      <td>NaN</td>\n",
              "      <td>2</td>\n",
              "      <td>Санкт-Петербург</td>\n",
              "      <td>38171.0</td>\n",
              "      <td>15015.0</td>\n",
              "      <td>0.0</td>\n",
              "      <td>NaN</td>\n",
              "      <td>2.0</td>\n",
              "      <td>982.0</td>\n",
              "      <td>64.0</td>\n",
              "      <td>91851.851852</td>\n",
              "      <td>0</td>\n",
              "      <td>3</td>\n",
              "      <td>2018</td>\n",
              "      <td>NaN</td>\n",
              "      <td>0.916667</td>\n",
              "      <td>другой</td>\n",
              "    </tr>\n",
              "    <tr>\n",
              "      <th>508</th>\n",
              "      <td>0</td>\n",
              "      <td>3375000.0</td>\n",
              "      <td>34</td>\n",
              "      <td>2017-03-28</td>\n",
              "      <td>0</td>\n",
              "      <td>2.650391</td>\n",
              "      <td>26.0</td>\n",
              "      <td>24.30</td>\n",
              "      <td>19</td>\n",
              "      <td>False</td>\n",
              "      <td>False</td>\n",
              "      <td>True</td>\n",
              "      <td>NaN</td>\n",
              "      <td>1</td>\n",
              "      <td>посёлок Парголово</td>\n",
              "      <td>53115.0</td>\n",
              "      <td>19292.0</td>\n",
              "      <td>0.0</td>\n",
              "      <td>NaN</td>\n",
              "      <td>1.0</td>\n",
              "      <td>593.0</td>\n",
              "      <td>430.0</td>\n",
              "      <td>99264.705882</td>\n",
              "      <td>1</td>\n",
              "      <td>3</td>\n",
              "      <td>2017</td>\n",
              "      <td>NaN</td>\n",
              "      <td>0.714706</td>\n",
              "      <td>другой</td>\n",
              "    </tr>\n",
              "    <tr>\n",
              "      <th>608</th>\n",
              "      <td>2</td>\n",
              "      <td>1850000.0</td>\n",
              "      <td>25</td>\n",
              "      <td>2019-02-20</td>\n",
              "      <td>0</td>\n",
              "      <td>2.650391</td>\n",
              "      <td>10.0</td>\n",
              "      <td>NaN</td>\n",
              "      <td>7</td>\n",
              "      <td>False</td>\n",
              "      <td>True</td>\n",
              "      <td>False</td>\n",
              "      <td>NaN</td>\n",
              "      <td>0</td>\n",
              "      <td>посёлок Шушары</td>\n",
              "      <td>NaN</td>\n",
              "      <td>NaN</td>\n",
              "      <td>NaN</td>\n",
              "      <td>NaN</td>\n",
              "      <td>NaN</td>\n",
              "      <td>NaN</td>\n",
              "      <td>29.0</td>\n",
              "      <td>74000.000000</td>\n",
              "      <td>2</td>\n",
              "      <td>2</td>\n",
              "      <td>2019</td>\n",
              "      <td>NaN</td>\n",
              "      <td>NaN</td>\n",
              "      <td>другой</td>\n",
              "    </tr>\n",
              "    <tr>\n",
              "      <th>...</th>\n",
              "      <td>...</td>\n",
              "      <td>...</td>\n",
              "      <td>...</td>\n",
              "      <td>...</td>\n",
              "      <td>...</td>\n",
              "      <td>...</td>\n",
              "      <td>...</td>\n",
              "      <td>...</td>\n",
              "      <td>...</td>\n",
              "      <td>...</td>\n",
              "      <td>...</td>\n",
              "      <td>...</td>\n",
              "      <td>...</td>\n",
              "      <td>...</td>\n",
              "      <td>...</td>\n",
              "      <td>...</td>\n",
              "      <td>...</td>\n",
              "      <td>...</td>\n",
              "      <td>...</td>\n",
              "      <td>...</td>\n",
              "      <td>...</td>\n",
              "      <td>...</td>\n",
              "      <td>...</td>\n",
              "      <td>...</td>\n",
              "      <td>...</td>\n",
              "      <td>...</td>\n",
              "      <td>...</td>\n",
              "      <td>...</td>\n",
              "      <td>...</td>\n",
              "    </tr>\n",
              "    <tr>\n",
              "      <th>23210</th>\n",
              "      <td>7</td>\n",
              "      <td>3200000.0</td>\n",
              "      <td>26</td>\n",
              "      <td>2017-09-01</td>\n",
              "      <td>0</td>\n",
              "      <td>2.650391</td>\n",
              "      <td>25.0</td>\n",
              "      <td>18.00</td>\n",
              "      <td>16</td>\n",
              "      <td>False</td>\n",
              "      <td>True</td>\n",
              "      <td>False</td>\n",
              "      <td>NaN</td>\n",
              "      <td>0</td>\n",
              "      <td>Санкт-Петербург</td>\n",
              "      <td>11405.0</td>\n",
              "      <td>13222.0</td>\n",
              "      <td>0.0</td>\n",
              "      <td>NaN</td>\n",
              "      <td>1.0</td>\n",
              "      <td>623.0</td>\n",
              "      <td>14.0</td>\n",
              "      <td>123076.923077</td>\n",
              "      <td>4</td>\n",
              "      <td>9</td>\n",
              "      <td>2017</td>\n",
              "      <td>NaN</td>\n",
              "      <td>0.692308</td>\n",
              "      <td>другой</td>\n",
              "    </tr>\n",
              "    <tr>\n",
              "      <th>23442</th>\n",
              "      <td>0</td>\n",
              "      <td>2500000.0</td>\n",
              "      <td>27</td>\n",
              "      <td>2017-09-28</td>\n",
              "      <td>0</td>\n",
              "      <td>2.650391</td>\n",
              "      <td>24.0</td>\n",
              "      <td>18.00</td>\n",
              "      <td>4</td>\n",
              "      <td>False</td>\n",
              "      <td>False</td>\n",
              "      <td>True</td>\n",
              "      <td>NaN</td>\n",
              "      <td>2</td>\n",
              "      <td>посёлок Мурино</td>\n",
              "      <td>NaN</td>\n",
              "      <td>NaN</td>\n",
              "      <td>NaN</td>\n",
              "      <td>NaN</td>\n",
              "      <td>NaN</td>\n",
              "      <td>NaN</td>\n",
              "      <td>4.0</td>\n",
              "      <td>92592.592593</td>\n",
              "      <td>3</td>\n",
              "      <td>9</td>\n",
              "      <td>2017</td>\n",
              "      <td>NaN</td>\n",
              "      <td>0.666667</td>\n",
              "      <td>другой</td>\n",
              "    </tr>\n",
              "    <tr>\n",
              "      <th>23554</th>\n",
              "      <td>15</td>\n",
              "      <td>3350000.0</td>\n",
              "      <td>26</td>\n",
              "      <td>2018-09-07</td>\n",
              "      <td>0</td>\n",
              "      <td>2.650391</td>\n",
              "      <td>19.0</td>\n",
              "      <td>NaN</td>\n",
              "      <td>8</td>\n",
              "      <td>False</td>\n",
              "      <td>True</td>\n",
              "      <td>False</td>\n",
              "      <td>NaN</td>\n",
              "      <td>0</td>\n",
              "      <td>Санкт-Петербург</td>\n",
              "      <td>18090.0</td>\n",
              "      <td>17092.0</td>\n",
              "      <td>0.0</td>\n",
              "      <td>NaN</td>\n",
              "      <td>2.0</td>\n",
              "      <td>112.0</td>\n",
              "      <td>31.0</td>\n",
              "      <td>128846.153846</td>\n",
              "      <td>4</td>\n",
              "      <td>9</td>\n",
              "      <td>2018</td>\n",
              "      <td>NaN</td>\n",
              "      <td>NaN</td>\n",
              "      <td>другой</td>\n",
              "    </tr>\n",
              "    <tr>\n",
              "      <th>23592</th>\n",
              "      <td>10</td>\n",
              "      <td>1450000.0</td>\n",
              "      <td>29</td>\n",
              "      <td>2017-11-11</td>\n",
              "      <td>0</td>\n",
              "      <td>2.650391</td>\n",
              "      <td>9.0</td>\n",
              "      <td>18.00</td>\n",
              "      <td>8</td>\n",
              "      <td>False</td>\n",
              "      <td>False</td>\n",
              "      <td>True</td>\n",
              "      <td>NaN</td>\n",
              "      <td>2</td>\n",
              "      <td>Никольское</td>\n",
              "      <td>NaN</td>\n",
              "      <td>NaN</td>\n",
              "      <td>NaN</td>\n",
              "      <td>NaN</td>\n",
              "      <td>NaN</td>\n",
              "      <td>NaN</td>\n",
              "      <td>82.0</td>\n",
              "      <td>50000.000000</td>\n",
              "      <td>5</td>\n",
              "      <td>11</td>\n",
              "      <td>2017</td>\n",
              "      <td>NaN</td>\n",
              "      <td>0.620690</td>\n",
              "      <td>другой</td>\n",
              "    </tr>\n",
              "    <tr>\n",
              "      <th>23637</th>\n",
              "      <td>8</td>\n",
              "      <td>2350000.0</td>\n",
              "      <td>26</td>\n",
              "      <td>2018-06-26</td>\n",
              "      <td>0</td>\n",
              "      <td>2.650391</td>\n",
              "      <td>25.0</td>\n",
              "      <td>17.00</td>\n",
              "      <td>4</td>\n",
              "      <td>False</td>\n",
              "      <td>True</td>\n",
              "      <td>False</td>\n",
              "      <td>NaN</td>\n",
              "      <td>2</td>\n",
              "      <td>посёлок Бугры</td>\n",
              "      <td>NaN</td>\n",
              "      <td>NaN</td>\n",
              "      <td>NaN</td>\n",
              "      <td>NaN</td>\n",
              "      <td>NaN</td>\n",
              "      <td>NaN</td>\n",
              "      <td>207.0</td>\n",
              "      <td>90384.615385</td>\n",
              "      <td>1</td>\n",
              "      <td>6</td>\n",
              "      <td>2018</td>\n",
              "      <td>NaN</td>\n",
              "      <td>0.653846</td>\n",
              "      <td>другой</td>\n",
              "    </tr>\n",
              "  </tbody>\n",
              "</table>\n",
              "<p>197 rows × 29 columns</p>\n",
              "</div>"
            ],
            "text/plain": [
              "       total_images  last_price  total_area first_day_exposition  rooms  \\\n",
              "144               1   2450000.0          27           2017-03-30      0   \n",
              "349               4   2320000.0          25           2017-09-27      0   \n",
              "440               8   2480000.0          27           2018-03-12      0   \n",
              "508               0   3375000.0          34           2017-03-28      0   \n",
              "608               2   1850000.0          25           2019-02-20      0   \n",
              "...             ...         ...         ...                  ...    ...   \n",
              "23210             7   3200000.0          26           2017-09-01      0   \n",
              "23442             0   2500000.0          27           2017-09-28      0   \n",
              "23554            15   3350000.0          26           2018-09-07      0   \n",
              "23592            10   1450000.0          29           2017-11-11      0   \n",
              "23637             8   2350000.0          26           2018-06-26      0   \n",
              "\n",
              "       ceiling_height  floors_total  living_area  floor  is_apartment  studio  \\\n",
              "144          2.650391          24.0        15.50      2         False    True   \n",
              "349          2.650391          14.0        17.00      1         False   False   \n",
              "440          2.650391          17.0        24.75      4         False    True   \n",
              "508          2.650391          26.0        24.30     19         False   False   \n",
              "608          2.650391          10.0          NaN      7         False    True   \n",
              "...               ...           ...          ...    ...           ...     ...   \n",
              "23210        2.650391          25.0        18.00     16         False    True   \n",
              "23442        2.650391          24.0        18.00      4         False   False   \n",
              "23554        2.650391          19.0          NaN      8         False    True   \n",
              "23592        2.650391           9.0        18.00      8         False   False   \n",
              "23637        2.650391          25.0        17.00      4         False    True   \n",
              "\n",
              "       open_plan  kitchen_area  balcony      locality_name  airports_nearest  \\\n",
              "144        False           NaN        2     посёлок Мурино               NaN   \n",
              "349         True           NaN        0    деревня Кудрово               NaN   \n",
              "440        False           NaN        2    Санкт-Петербург           38171.0   \n",
              "508         True           NaN        1  посёлок Парголово           53115.0   \n",
              "608        False           NaN        0     посёлок Шушары               NaN   \n",
              "...          ...           ...      ...                ...               ...   \n",
              "23210      False           NaN        0    Санкт-Петербург           11405.0   \n",
              "23442       True           NaN        2     посёлок Мурино               NaN   \n",
              "23554      False           NaN        0    Санкт-Петербург           18090.0   \n",
              "23592       True           NaN        2         Никольское               NaN   \n",
              "23637      False           NaN        2      посёлок Бугры               NaN   \n",
              "\n",
              "       city_centers_nearest  parks_around3000  parks_nearest  \\\n",
              "144                     NaN               NaN            NaN   \n",
              "349                     NaN               NaN            NaN   \n",
              "440                 15015.0               0.0            NaN   \n",
              "508                 19292.0               0.0            NaN   \n",
              "608                     NaN               NaN            NaN   \n",
              "...                     ...               ...            ...   \n",
              "23210               13222.0               0.0            NaN   \n",
              "23442                   NaN               NaN            NaN   \n",
              "23554               17092.0               0.0            NaN   \n",
              "23592                   NaN               NaN            NaN   \n",
              "23637                   NaN               NaN            NaN   \n",
              "\n",
              "       ponds_around3000  ponds_nearest  days_exposition    price_meter  \\\n",
              "144                 NaN            NaN            181.0   90740.740741   \n",
              "349                 NaN            NaN             45.0   92800.000000   \n",
              "440                 2.0          982.0             64.0   91851.851852   \n",
              "508                 1.0          593.0            430.0   99264.705882   \n",
              "608                 NaN            NaN             29.0   74000.000000   \n",
              "...                 ...            ...              ...            ...   \n",
              "23210               1.0          623.0             14.0  123076.923077   \n",
              "23442               NaN            NaN              4.0   92592.592593   \n",
              "23554               2.0          112.0             31.0  128846.153846   \n",
              "23592               NaN            NaN             82.0   50000.000000   \n",
              "23637               NaN            NaN            207.0   90384.615385   \n",
              "\n",
              "       weekday  month  year  kitchen_share  living_share floor_category  \n",
              "144          3      3  2017            NaN      0.574074         другой  \n",
              "349          2      9  2017            NaN      0.680000         первый  \n",
              "440          0      3  2018            NaN      0.916667         другой  \n",
              "508          1      3  2017            NaN      0.714706         другой  \n",
              "608          2      2  2019            NaN           NaN         другой  \n",
              "...        ...    ...   ...            ...           ...            ...  \n",
              "23210        4      9  2017            NaN      0.692308         другой  \n",
              "23442        3      9  2017            NaN      0.666667         другой  \n",
              "23554        4      9  2018            NaN           NaN         другой  \n",
              "23592        5     11  2017            NaN      0.620690         другой  \n",
              "23637        1      6  2018            NaN      0.653846         другой  \n",
              "\n",
              "[197 rows x 29 columns]"
            ]
          },
          "metadata": {}
        }
      ]
    },
    {
      "cell_type": "markdown",
      "source": "197 объявлений, в которых значение количество комнат указано 0. При этом, данные объявления являются либо студией, либо квартиры с свободной планировкой.",
      "metadata": {}
    },
    {
      "cell_type": "markdown",
      "source": "В столбце `rooms` наибольшее число объявлений с сзначением количесва комнат в диапозоне от 1 до 4. \nВстречаются и квартиры, в которых количество комнат более 10 или нет вообще.",
      "metadata": {}
    },
    {
      "cell_type": "code",
      "source": "df['ceiling_height'].hist(range=(0, 10))",
      "metadata": {},
      "execution_count": 700,
      "outputs": [
        {
          "execution_count": 700,
          "output_type": "execute_result",
          "data": {
            "text/plain": [
              "<AxesSubplot:>"
            ]
          },
          "metadata": {}
        },
        {
          "output_type": "display_data",
          "data": {
            "image/png": "[encoded data removed]",
            "text/plain": [
              "<Figure size 432x288 with 1 Axes>"
            ]
          },
          "metadata": {
            "needs_background": "light"
          }
        }
      ]
    },
    {
      "cell_type": "code",
      "source": "df['ceiling_height'].hist(range=(0, 1.5))",
      "metadata": {},
      "execution_count": 701,
      "outputs": [
        {
          "execution_count": 701,
          "output_type": "execute_result",
          "data": {
            "text/plain": [
              "<AxesSubplot:>"
            ]
          },
          "metadata": {}
        },
        {
          "output_type": "display_data",
          "data": {
            "image/png": "[encoded data removed]",
            "text/plain": [
              "<Figure size 432x288 with 1 Axes>"
            ]
          },
          "metadata": {
            "needs_background": "light"
          }
        }
      ]
    },
    {
      "cell_type": "code",
      "source": "df['ceiling_height'].sort_values()",
      "metadata": {},
      "execution_count": 702,
      "outputs": [
        {
          "execution_count": 702,
          "output_type": "execute_result",
          "data": {
            "text/plain": [
              "22590      1.000000\n",
              "5712       1.200195\n",
              "16934      1.750000\n",
              "20520      2.000000\n",
              "552        2.000000\n",
              "            ...    \n",
              "20478     27.000000\n",
              "21377     27.500000\n",
              "3148      32.000000\n",
              "22336     32.000000\n",
              "22869    100.000000\n",
              "Name: ceiling_height, Length: 23699, dtype: float16"
            ]
          },
          "metadata": {}
        }
      ]
    },
    {
      "cell_type": "code",
      "source": "df[df['ceiling_height'] > 5]['ceiling_height'].count()",
      "metadata": {},
      "execution_count": 703,
      "outputs": [
        {
          "execution_count": 703,
          "output_type": "execute_result",
          "data": {
            "text/plain": [
              "36"
            ]
          },
          "metadata": {}
        }
      ]
    },
    {
      "cell_type": "markdown",
      "source": "В столбце `ceiling_height` данные находятся в диапозоне от 2.3 до 4.5 м., при этом есть 2 аномально низких значения (до 1,5 м.) и аномально высокие значения (до 5 метров - 36 квартиры)",
      "metadata": {}
    },
    {
      "cell_type": "markdown",
      "source": "### Изучение время продажи квартиры",
      "metadata": {}
    },
    {
      "cell_type": "code",
      "source": "df['days_exposition'].hist()",
      "metadata": {},
      "execution_count": 704,
      "outputs": [
        {
          "execution_count": 704,
          "output_type": "execute_result",
          "data": {
            "text/plain": [
              "<AxesSubplot:>"
            ]
          },
          "metadata": {}
        },
        {
          "output_type": "display_data",
          "data": {
            "image/png": "[encoded data removed]",
            "text/plain": [
              "<Figure size 432x288 with 1 Axes>"
            ]
          },
          "metadata": {
            "needs_background": "light"
          }
        }
      ]
    },
    {
      "cell_type": "code",
      "source": "df['days_exposition'].hist(range=(0, 1))",
      "metadata": {},
      "execution_count": 705,
      "outputs": [
        {
          "execution_count": 705,
          "output_type": "execute_result",
          "data": {
            "text/plain": [
              "<AxesSubplot:>"
            ]
          },
          "metadata": {}
        },
        {
          "output_type": "display_data",
          "data": {
            "image/png": "[encoded data removed]",
            "text/plain": [
              "<Figure size 432x288 with 1 Axes>"
            ]
          },
          "metadata": {
            "needs_background": "light"
          }
        }
      ]
    },
    {
      "cell_type": "code",
      "source": "df['days_exposition'].mean()",
      "metadata": {},
      "execution_count": 706,
      "outputs": [
        {
          "execution_count": 706,
          "output_type": "execute_result",
          "data": {
            "text/plain": [
              "180.88863436982163"
            ]
          },
          "metadata": {}
        }
      ]
    },
    {
      "cell_type": "code",
      "source": "df['days_exposition'].median()",
      "metadata": {},
      "execution_count": 707,
      "outputs": [
        {
          "execution_count": 707,
          "output_type": "execute_result",
          "data": {
            "text/plain": [
              "95.0"
            ]
          },
          "metadata": {}
        }
      ]
    },
    {
      "cell_type": "markdown",
      "source": "Время продажи квартиры находятся в диапозоне от 1 до 1650 дней (есть 1 кваритра, которая была продана меньче, чем за день). При этом, среднее время продажи составляет 180 дней, а медианное - 95 день. Данные имеют очень большой разброс, подавляющее количество продаж происходит до 170-180 дней, поэтому уместнее использовать медианное значени. В связи с эти, можно заключить, что быстрая продажа - до 95 дня, медленная - от 180 дней.",
      "metadata": {}
    },
    {
      "cell_type": "code",
      "source": "df = df.query('total_area < 400')",
      "metadata": {},
      "execution_count": 708,
      "outputs": []
    },
    {
      "cell_type": "code",
      "source": "df = df.query('rooms < 10')",
      "metadata": {},
      "execution_count": 709,
      "outputs": []
    },
    {
      "cell_type": "code",
      "source": "df = df.query('living_area > 5')",
      "metadata": {},
      "execution_count": 710,
      "outputs": []
    },
    {
      "cell_type": "code",
      "source": "df = df.query('5 > ceiling_height > 1.5')",
      "metadata": {},
      "execution_count": 711,
      "outputs": []
    },
    {
      "cell_type": "markdown",
      "source": "Аномальные значения исключены из таблицы.",
      "metadata": {}
    },
    {
      "cell_type": "markdown",
      "source": " <div class=\"alert alert-block alert-info\">\nИсправил. В анализе столбца `rooms` обнаружил, что 0-комнатные квартиры являются либо студией, либо квартирами с свободной планировкой.\n</div> ",
      "metadata": {}
    },
    {
      "cell_type": "markdown",
      "source": "### Определение факторов, влияющих на стоимость квартиры",
      "metadata": {}
    },
    {
      "cell_type": "code",
      "source": "df['last_price'].corr(df['total_area'])",
      "metadata": {},
      "execution_count": 712,
      "outputs": [
        {
          "execution_count": 712,
          "output_type": "execute_result",
          "data": {
            "text/plain": [
              "0.6807350026020648"
            ]
          },
          "metadata": {}
        }
      ]
    },
    {
      "cell_type": "code",
      "source": "df['last_price'].corr(df['living_area'])",
      "metadata": {},
      "execution_count": 713,
      "outputs": [
        {
          "execution_count": 713,
          "output_type": "execute_result",
          "data": {
            "text/plain": [
              "0.603129003974335"
            ]
          },
          "metadata": {}
        }
      ]
    },
    {
      "cell_type": "markdown",
      "source": "Цена квартиры имеет заметую связь с площадью квартиры, то есть цена зависит от площади.",
      "metadata": {}
    },
    {
      "cell_type": "code",
      "source": "df['last_price'].corr(df['rooms'])",
      "metadata": {
        "scrolled": true
      },
      "execution_count": 714,
      "outputs": [
        {
          "execution_count": 714,
          "output_type": "execute_result",
          "data": {
            "text/plain": [
              "0.402312329074071"
            ]
          },
          "metadata": {}
        }
      ]
    },
    {
      "cell_type": "markdown",
      "source": "Корреляционная связь умеренная, то есть цена квартиры зависит от количество комнат, но не так существенно как от площади.",
      "metadata": {}
    },
    {
      "cell_type": "code",
      "source": "df['last_price'].corr(df['city_centers_nearest'])",
      "metadata": {},
      "execution_count": 715,
      "outputs": [
        {
          "execution_count": 715,
          "output_type": "execute_result",
          "data": {
            "text/plain": [
              "-0.2522490483870226"
            ]
          },
          "metadata": {}
        }
      ]
    },
    {
      "cell_type": "markdown",
      "source": "Наблюдается отрицательная слабая корреляционная связь между ценой квартиры и удаленностью центра города. Связь обратная, что логично, так как чем меньше удаленность, тем дороже квартира. При этом зависимость слабая. Поскольку в исходных данных присутсвует не только г. Санкт-Петербург, но и его пригород, связь может исказиться, так как в небольших населенных пунктах удаленность от центра не так сущетсвенно влияет на цену.",
      "metadata": {}
    },
    {
      "cell_type": "code",
      "source": "df.groupby('floor_category').agg({'last_price':['mean', 'median']}).round()",
      "metadata": {},
      "execution_count": 716,
      "outputs": [
        {
          "execution_count": 716,
          "output_type": "execute_result",
          "data": {
            "text/html": [
              "<div>\n",
              "<style scoped>\n",
              "    .dataframe tbody tr th:only-of-type {\n",
              "        vertical-align: middle;\n",
              "    }\n",
              "\n",
              "    .dataframe tbody tr th {\n",
              "        vertical-align: top;\n",
              "    }\n",
              "\n",
              "    .dataframe thead tr th {\n",
              "        text-align: left;\n",
              "    }\n",
              "\n",
              "    .dataframe thead tr:last-of-type th {\n",
              "        text-align: right;\n",
              "    }\n",
              "</style>\n",
              "<table border=\"1\" class=\"dataframe\">\n",
              "  <thead>\n",
              "    <tr>\n",
              "      <th></th>\n",
              "      <th colspan=\"2\" halign=\"left\">last_price</th>\n",
              "    </tr>\n",
              "    <tr>\n",
              "      <th></th>\n",
              "      <th>mean</th>\n",
              "      <th>median</th>\n",
              "    </tr>\n",
              "    <tr>\n",
              "      <th>floor_category</th>\n",
              "      <th></th>\n",
              "      <th></th>\n",
              "    </tr>\n",
              "  </thead>\n",
              "  <tbody>\n",
              "    <tr>\n",
              "      <th>другой</th>\n",
              "      <td>6573045.0</td>\n",
              "      <td>4850000.0</td>\n",
              "    </tr>\n",
              "    <tr>\n",
              "      <th>первый</th>\n",
              "      <td>4776051.0</td>\n",
              "      <td>3950000.0</td>\n",
              "    </tr>\n",
              "    <tr>\n",
              "      <th>последний</th>\n",
              "      <td>6458894.0</td>\n",
              "      <td>4350000.0</td>\n",
              "    </tr>\n",
              "  </tbody>\n",
              "</table>\n",
              "</div>"
            ],
            "text/plain": [
              "               last_price           \n",
              "                     mean     median\n",
              "floor_category                      \n",
              "другой          6573045.0  4850000.0\n",
              "первый          4776051.0  3950000.0\n",
              "последний       6458894.0  4350000.0"
            ]
          },
          "metadata": {}
        }
      ]
    },
    {
      "cell_type": "code",
      "source": "df.groupby('floor_category').agg({'last_price':['mean', 'median']}).plot()",
      "metadata": {},
      "execution_count": 717,
      "outputs": [
        {
          "execution_count": 717,
          "output_type": "execute_result",
          "data": {
            "text/plain": [
              "<AxesSubplot:xlabel='floor_category'>"
            ]
          },
          "metadata": {}
        },
        {
          "output_type": "display_data",
          "data": {
            "image/png": "[encoded data removed]",
            "text/plain": [
              "<Figure size 432x288 with 1 Axes>"
            ]
          },
          "metadata": {
            "needs_background": "light"
          }
        }
      ]
    },
    {
      "cell_type": "markdown",
      "source": "Можем заметить, что цена квартиры зависит от этажа. Так, на первом этаже цена ниже, чем на других. Также цена ниже на последнем этаже, чем на этажах со второго до предпоследнего (данная зависимость хорошо прослеживается по медианным значениям). Проверил несколько разных населенных пунктов - тенденция для всех одинаковая.\n",
      "metadata": {}
    },
    {
      "cell_type": "code",
      "source": "df.groupby('weekday').agg({'last_price':['mean', 'median']}).round()",
      "metadata": {},
      "execution_count": 718,
      "outputs": [
        {
          "execution_count": 718,
          "output_type": "execute_result",
          "data": {
            "text/html": [
              "<div>\n",
              "<style scoped>\n",
              "    .dataframe tbody tr th:only-of-type {\n",
              "        vertical-align: middle;\n",
              "    }\n",
              "\n",
              "    .dataframe tbody tr th {\n",
              "        vertical-align: top;\n",
              "    }\n",
              "\n",
              "    .dataframe thead tr th {\n",
              "        text-align: left;\n",
              "    }\n",
              "\n",
              "    .dataframe thead tr:last-of-type th {\n",
              "        text-align: right;\n",
              "    }\n",
              "</style>\n",
              "<table border=\"1\" class=\"dataframe\">\n",
              "  <thead>\n",
              "    <tr>\n",
              "      <th></th>\n",
              "      <th colspan=\"2\" halign=\"left\">last_price</th>\n",
              "    </tr>\n",
              "    <tr>\n",
              "      <th></th>\n",
              "      <th>mean</th>\n",
              "      <th>median</th>\n",
              "    </tr>\n",
              "    <tr>\n",
              "      <th>weekday</th>\n",
              "      <th></th>\n",
              "      <th></th>\n",
              "    </tr>\n",
              "  </thead>\n",
              "  <tbody>\n",
              "    <tr>\n",
              "      <th>0</th>\n",
              "      <td>6382852.0</td>\n",
              "      <td>4650000.0</td>\n",
              "    </tr>\n",
              "    <tr>\n",
              "      <th>1</th>\n",
              "      <td>6315057.0</td>\n",
              "      <td>4700000.0</td>\n",
              "    </tr>\n",
              "    <tr>\n",
              "      <th>2</th>\n",
              "      <td>6317039.0</td>\n",
              "      <td>4700000.0</td>\n",
              "    </tr>\n",
              "    <tr>\n",
              "      <th>3</th>\n",
              "      <td>6637457.0</td>\n",
              "      <td>4658000.0</td>\n",
              "    </tr>\n",
              "    <tr>\n",
              "      <th>4</th>\n",
              "      <td>6225375.0</td>\n",
              "      <td>4585000.0</td>\n",
              "    </tr>\n",
              "    <tr>\n",
              "      <th>5</th>\n",
              "      <td>5991545.0</td>\n",
              "      <td>4550000.0</td>\n",
              "    </tr>\n",
              "    <tr>\n",
              "      <th>6</th>\n",
              "      <td>6217369.0</td>\n",
              "      <td>4550000.0</td>\n",
              "    </tr>\n",
              "  </tbody>\n",
              "</table>\n",
              "</div>"
            ],
            "text/plain": [
              "        last_price           \n",
              "              mean     median\n",
              "weekday                      \n",
              "0        6382852.0  4650000.0\n",
              "1        6315057.0  4700000.0\n",
              "2        6317039.0  4700000.0\n",
              "3        6637457.0  4658000.0\n",
              "4        6225375.0  4585000.0\n",
              "5        5991545.0  4550000.0\n",
              "6        6217369.0  4550000.0"
            ]
          },
          "metadata": {}
        }
      ]
    },
    {
      "cell_type": "code",
      "source": "df.groupby('weekday').agg({'last_price':['mean', 'median']}).plot()",
      "metadata": {},
      "execution_count": 719,
      "outputs": [
        {
          "execution_count": 719,
          "output_type": "execute_result",
          "data": {
            "text/plain": [
              "<AxesSubplot:xlabel='weekday'>"
            ]
          },
          "metadata": {}
        },
        {
          "output_type": "display_data",
          "data": {
            "image/png": "[encoded data removed]",
            "text/plain": [
              "<Figure size 432x288 with 1 Axes>"
            ]
          },
          "metadata": {
            "needs_background": "light"
          }
        }
      ]
    },
    {
      "cell_type": "markdown",
      "source": "Зависимость цены от дня недели прослеживается слабо. Средняя цена в четверг самая большая, но медианное значение находится на уровне понедельника и среды и меньше, чем во вторник. К концу недели цены меньше, чем в первой половине.",
      "metadata": {}
    },
    {
      "cell_type": "code",
      "source": "df.groupby('month').agg({'last_price':['mean', 'median']}).round()",
      "metadata": {},
      "execution_count": 720,
      "outputs": [
        {
          "execution_count": 720,
          "output_type": "execute_result",
          "data": {
            "text/html": [
              "<div>\n",
              "<style scoped>\n",
              "    .dataframe tbody tr th:only-of-type {\n",
              "        vertical-align: middle;\n",
              "    }\n",
              "\n",
              "    .dataframe tbody tr th {\n",
              "        vertical-align: top;\n",
              "    }\n",
              "\n",
              "    .dataframe thead tr th {\n",
              "        text-align: left;\n",
              "    }\n",
              "\n",
              "    .dataframe thead tr:last-of-type th {\n",
              "        text-align: right;\n",
              "    }\n",
              "</style>\n",
              "<table border=\"1\" class=\"dataframe\">\n",
              "  <thead>\n",
              "    <tr>\n",
              "      <th></th>\n",
              "      <th colspan=\"2\" halign=\"left\">last_price</th>\n",
              "    </tr>\n",
              "    <tr>\n",
              "      <th></th>\n",
              "      <th>mean</th>\n",
              "      <th>median</th>\n",
              "    </tr>\n",
              "    <tr>\n",
              "      <th>month</th>\n",
              "      <th></th>\n",
              "      <th></th>\n",
              "    </tr>\n",
              "  </thead>\n",
              "  <tbody>\n",
              "    <tr>\n",
              "      <th>1</th>\n",
              "      <td>6585657.0</td>\n",
              "      <td>4650000.0</td>\n",
              "    </tr>\n",
              "    <tr>\n",
              "      <th>2</th>\n",
              "      <td>6309803.0</td>\n",
              "      <td>4695000.0</td>\n",
              "    </tr>\n",
              "    <tr>\n",
              "      <th>3</th>\n",
              "      <td>6282281.0</td>\n",
              "      <td>4696000.0</td>\n",
              "    </tr>\n",
              "    <tr>\n",
              "      <th>4</th>\n",
              "      <td>6551732.0</td>\n",
              "      <td>4800000.0</td>\n",
              "    </tr>\n",
              "    <tr>\n",
              "      <th>5</th>\n",
              "      <td>6311642.0</td>\n",
              "      <td>4500000.0</td>\n",
              "    </tr>\n",
              "    <tr>\n",
              "      <th>6</th>\n",
              "      <td>6231447.0</td>\n",
              "      <td>4400000.0</td>\n",
              "    </tr>\n",
              "    <tr>\n",
              "      <th>7</th>\n",
              "      <td>6307759.0</td>\n",
              "      <td>4600000.0</td>\n",
              "    </tr>\n",
              "    <tr>\n",
              "      <th>8</th>\n",
              "      <td>6291050.0</td>\n",
              "      <td>4550000.0</td>\n",
              "    </tr>\n",
              "    <tr>\n",
              "      <th>9</th>\n",
              "      <td>6400210.0</td>\n",
              "      <td>4699000.0</td>\n",
              "    </tr>\n",
              "    <tr>\n",
              "      <th>10</th>\n",
              "      <td>5917992.0</td>\n",
              "      <td>4545000.0</td>\n",
              "    </tr>\n",
              "    <tr>\n",
              "      <th>11</th>\n",
              "      <td>6376083.0</td>\n",
              "      <td>4690000.0</td>\n",
              "    </tr>\n",
              "    <tr>\n",
              "      <th>12</th>\n",
              "      <td>6590904.0</td>\n",
              "      <td>4800000.0</td>\n",
              "    </tr>\n",
              "  </tbody>\n",
              "</table>\n",
              "</div>"
            ],
            "text/plain": [
              "      last_price           \n",
              "            mean     median\n",
              "month                      \n",
              "1      6585657.0  4650000.0\n",
              "2      6309803.0  4695000.0\n",
              "3      6282281.0  4696000.0\n",
              "4      6551732.0  4800000.0\n",
              "5      6311642.0  4500000.0\n",
              "6      6231447.0  4400000.0\n",
              "7      6307759.0  4600000.0\n",
              "8      6291050.0  4550000.0\n",
              "9      6400210.0  4699000.0\n",
              "10     5917992.0  4545000.0\n",
              "11     6376083.0  4690000.0\n",
              "12     6590904.0  4800000.0"
            ]
          },
          "metadata": {}
        }
      ]
    },
    {
      "cell_type": "code",
      "source": "df.groupby('month').agg({'last_price':['mean', 'median']}).plot()",
      "metadata": {},
      "execution_count": 721,
      "outputs": [
        {
          "execution_count": 721,
          "output_type": "execute_result",
          "data": {
            "text/plain": [
              "<AxesSubplot:xlabel='month'>"
            ]
          },
          "metadata": {}
        },
        {
          "output_type": "display_data",
          "data": {
            "image/png": "[encoded data removed]",
            "text/plain": [
              "<Figure size 432x288 with 1 Axes>"
            ]
          },
          "metadata": {
            "needs_background": "light"
          }
        }
      ]
    },
    {
      "cell_type": "markdown",
      "source": "Некоторые цены на квартиры, опубликованные в марте и апреле выше, чем в другие месяцы. Особенно заметен спад цен в октябре.",
      "metadata": {}
    },
    {
      "cell_type": "code",
      "source": "df.groupby('year').agg({'last_price':['mean', 'median']}).round()",
      "metadata": {},
      "execution_count": 722,
      "outputs": [
        {
          "execution_count": 722,
          "output_type": "execute_result",
          "data": {
            "text/html": [
              "<div>\n",
              "<style scoped>\n",
              "    .dataframe tbody tr th:only-of-type {\n",
              "        vertical-align: middle;\n",
              "    }\n",
              "\n",
              "    .dataframe tbody tr th {\n",
              "        vertical-align: top;\n",
              "    }\n",
              "\n",
              "    .dataframe thead tr th {\n",
              "        text-align: left;\n",
              "    }\n",
              "\n",
              "    .dataframe thead tr:last-of-type th {\n",
              "        text-align: right;\n",
              "    }\n",
              "</style>\n",
              "<table border=\"1\" class=\"dataframe\">\n",
              "  <thead>\n",
              "    <tr>\n",
              "      <th></th>\n",
              "      <th colspan=\"2\" halign=\"left\">last_price</th>\n",
              "    </tr>\n",
              "    <tr>\n",
              "      <th></th>\n",
              "      <th>mean</th>\n",
              "      <th>median</th>\n",
              "    </tr>\n",
              "    <tr>\n",
              "      <th>year</th>\n",
              "      <th></th>\n",
              "      <th></th>\n",
              "    </tr>\n",
              "  </thead>\n",
              "  <tbody>\n",
              "    <tr>\n",
              "      <th>2014</th>\n",
              "      <td>11934759.0</td>\n",
              "      <td>7540000.0</td>\n",
              "    </tr>\n",
              "    <tr>\n",
              "      <th>2015</th>\n",
              "      <td>8133064.0</td>\n",
              "      <td>5300000.0</td>\n",
              "    </tr>\n",
              "    <tr>\n",
              "      <th>2016</th>\n",
              "      <td>6535984.0</td>\n",
              "      <td>4500000.0</td>\n",
              "    </tr>\n",
              "    <tr>\n",
              "      <th>2017</th>\n",
              "      <td>6221547.0</td>\n",
              "      <td>4500000.0</td>\n",
              "    </tr>\n",
              "    <tr>\n",
              "      <th>2018</th>\n",
              "      <td>5928650.0</td>\n",
              "      <td>4600000.0</td>\n",
              "    </tr>\n",
              "    <tr>\n",
              "      <th>2019</th>\n",
              "      <td>6592479.0</td>\n",
              "      <td>5048500.0</td>\n",
              "    </tr>\n",
              "  </tbody>\n",
              "</table>\n",
              "</div>"
            ],
            "text/plain": [
              "      last_price           \n",
              "            mean     median\n",
              "year                       \n",
              "2014  11934759.0  7540000.0\n",
              "2015   8133064.0  5300000.0\n",
              "2016   6535984.0  4500000.0\n",
              "2017   6221547.0  4500000.0\n",
              "2018   5928650.0  4600000.0\n",
              "2019   6592479.0  5048500.0"
            ]
          },
          "metadata": {}
        }
      ]
    },
    {
      "cell_type": "code",
      "source": "df.groupby('year').agg({'last_price':['mean', 'median']}).plot()",
      "metadata": {},
      "execution_count": 723,
      "outputs": [
        {
          "execution_count": 723,
          "output_type": "execute_result",
          "data": {
            "text/plain": [
              "<AxesSubplot:xlabel='year'>"
            ]
          },
          "metadata": {}
        },
        {
          "output_type": "display_data",
          "data": {
            "image/png": "[encoded data removed]",
            "text/plain": [
              "<Figure size 432x288 with 1 Axes>"
            ]
          },
          "metadata": {
            "needs_background": "light"
          }
        }
      ]
    },
    {
      "cell_type": "markdown",
      "source": "Зависимость цены квартиры от года публикации также есть. В 2014 и 2015 годах цены были выше (особенно в 2014), чем в последующих. В 2019 году наблюдается рост.",
      "metadata": {}
    },
    {
      "cell_type": "markdown",
      "source": "### Расчет среденей цены квадратного метра в населенных пунктах с наибольшим числом объявлений",
      "metadata": {}
    },
    {
      "cell_type": "code",
      "source": "df_locality = df.groupby('locality_name').agg({'last_price':['count', 'sum'], 'total_area':'sum'}).copy()\ndf_locality.columns = ['count', 'sum_price', 'sum_area']\ndf_locality = df_locality.sort_values(by='count', ascending=False).head(10)\ndf_locality",
      "metadata": {},
      "execution_count": 724,
      "outputs": [
        {
          "execution_count": 724,
          "output_type": "execute_result",
          "data": {
            "text/html": [
              "<div>\n",
              "<style scoped>\n",
              "    .dataframe tbody tr th:only-of-type {\n",
              "        vertical-align: middle;\n",
              "    }\n",
              "\n",
              "    .dataframe tbody tr th {\n",
              "        vertical-align: top;\n",
              "    }\n",
              "\n",
              "    .dataframe thead th {\n",
              "        text-align: right;\n",
              "    }\n",
              "</style>\n",
              "<table border=\"1\" class=\"dataframe\">\n",
              "  <thead>\n",
              "    <tr style=\"text-align: right;\">\n",
              "      <th></th>\n",
              "      <th>count</th>\n",
              "      <th>sum_price</th>\n",
              "      <th>sum_area</th>\n",
              "    </tr>\n",
              "    <tr>\n",
              "      <th>locality_name</th>\n",
              "      <th></th>\n",
              "      <th></th>\n",
              "      <th></th>\n",
              "    </tr>\n",
              "  </thead>\n",
              "  <tbody>\n",
              "    <tr>\n",
              "      <th>Санкт-Петербург</th>\n",
              "      <td>14526</td>\n",
              "      <td>1.119430e+11</td>\n",
              "      <td>920190</td>\n",
              "    </tr>\n",
              "    <tr>\n",
              "      <th>посёлок Мурино</th>\n",
              "      <td>458</td>\n",
              "      <td>1.691992e+09</td>\n",
              "      <td>20070</td>\n",
              "    </tr>\n",
              "    <tr>\n",
              "      <th>посёлок Шушары</th>\n",
              "      <td>404</td>\n",
              "      <td>1.656461e+09</td>\n",
              "      <td>21563</td>\n",
              "    </tr>\n",
              "    <tr>\n",
              "      <th>Всеволожск</th>\n",
              "      <td>371</td>\n",
              "      <td>1.406759e+09</td>\n",
              "      <td>20632</td>\n",
              "    </tr>\n",
              "    <tr>\n",
              "      <th>Пушкин</th>\n",
              "      <td>345</td>\n",
              "      <td>2.239914e+09</td>\n",
              "      <td>21206</td>\n",
              "    </tr>\n",
              "    <tr>\n",
              "      <th>Колпино</th>\n",
              "      <td>328</td>\n",
              "      <td>1.295769e+09</td>\n",
              "      <td>17369</td>\n",
              "    </tr>\n",
              "    <tr>\n",
              "      <th>посёлок Парголово</th>\n",
              "      <td>301</td>\n",
              "      <td>1.340595e+09</td>\n",
              "      <td>15178</td>\n",
              "    </tr>\n",
              "    <tr>\n",
              "      <th>Гатчина</th>\n",
              "      <td>291</td>\n",
              "      <td>1.017069e+09</td>\n",
              "      <td>14810</td>\n",
              "    </tr>\n",
              "    <tr>\n",
              "      <th>деревня Кудрово</th>\n",
              "      <td>262</td>\n",
              "      <td>1.100115e+09</td>\n",
              "      <td>12005</td>\n",
              "    </tr>\n",
              "    <tr>\n",
              "      <th>Петергоф</th>\n",
              "      <td>197</td>\n",
              "      <td>8.676020e+08</td>\n",
              "      <td>10127</td>\n",
              "    </tr>\n",
              "  </tbody>\n",
              "</table>\n",
              "</div>"
            ],
            "text/plain": [
              "                   count     sum_price  sum_area\n",
              "locality_name                                   \n",
              "Санкт-Петербург    14526  1.119430e+11    920190\n",
              "посёлок Мурино       458  1.691992e+09     20070\n",
              "посёлок Шушары       404  1.656461e+09     21563\n",
              "Всеволожск           371  1.406759e+09     20632\n",
              "Пушкин               345  2.239914e+09     21206\n",
              "Колпино              328  1.295769e+09     17369\n",
              "посёлок Парголово    301  1.340595e+09     15178\n",
              "Гатчина              291  1.017069e+09     14810\n",
              "деревня Кудрово      262  1.100115e+09     12005\n",
              "Петергоф             197  8.676020e+08     10127"
            ]
          },
          "metadata": {}
        }
      ]
    },
    {
      "cell_type": "markdown",
      "source": "Создали таблицу - топ 10 населенных пунктов по количеству объявлений, добавили цену и площадь, чтобы посчитать среднюю цену за м².",
      "metadata": {}
    },
    {
      "cell_type": "code",
      "source": "df_locality['price_meter'] = df_locality['sum_price']/df_locality['sum_area']\ndf_locality.sort_values(by='price_meter', ascending=False)",
      "metadata": {
        "scrolled": true
      },
      "execution_count": 725,
      "outputs": [
        {
          "execution_count": 725,
          "output_type": "execute_result",
          "data": {
            "text/html": [
              "<div>\n",
              "<style scoped>\n",
              "    .dataframe tbody tr th:only-of-type {\n",
              "        vertical-align: middle;\n",
              "    }\n",
              "\n",
              "    .dataframe tbody tr th {\n",
              "        vertical-align: top;\n",
              "    }\n",
              "\n",
              "    .dataframe thead th {\n",
              "        text-align: right;\n",
              "    }\n",
              "</style>\n",
              "<table border=\"1\" class=\"dataframe\">\n",
              "  <thead>\n",
              "    <tr style=\"text-align: right;\">\n",
              "      <th></th>\n",
              "      <th>count</th>\n",
              "      <th>sum_price</th>\n",
              "      <th>sum_area</th>\n",
              "      <th>price_meter</th>\n",
              "    </tr>\n",
              "    <tr>\n",
              "      <th>locality_name</th>\n",
              "      <th></th>\n",
              "      <th></th>\n",
              "      <th></th>\n",
              "      <th></th>\n",
              "    </tr>\n",
              "  </thead>\n",
              "  <tbody>\n",
              "    <tr>\n",
              "      <th>Санкт-Петербург</th>\n",
              "      <td>14526</td>\n",
              "      <td>1.119430e+11</td>\n",
              "      <td>920190</td>\n",
              "      <td>121652.006845</td>\n",
              "    </tr>\n",
              "    <tr>\n",
              "      <th>Пушкин</th>\n",
              "      <td>345</td>\n",
              "      <td>2.239914e+09</td>\n",
              "      <td>21206</td>\n",
              "      <td>105626.438932</td>\n",
              "    </tr>\n",
              "    <tr>\n",
              "      <th>деревня Кудрово</th>\n",
              "      <td>262</td>\n",
              "      <td>1.100115e+09</td>\n",
              "      <td>12005</td>\n",
              "      <td>91638.077884</td>\n",
              "    </tr>\n",
              "    <tr>\n",
              "      <th>посёлок Парголово</th>\n",
              "      <td>301</td>\n",
              "      <td>1.340595e+09</td>\n",
              "      <td>15178</td>\n",
              "      <td>88324.908354</td>\n",
              "    </tr>\n",
              "    <tr>\n",
              "      <th>Петергоф</th>\n",
              "      <td>197</td>\n",
              "      <td>8.676020e+08</td>\n",
              "      <td>10127</td>\n",
              "      <td>85672.163523</td>\n",
              "    </tr>\n",
              "    <tr>\n",
              "      <th>посёлок Мурино</th>\n",
              "      <td>458</td>\n",
              "      <td>1.691992e+09</td>\n",
              "      <td>20070</td>\n",
              "      <td>84304.536024</td>\n",
              "    </tr>\n",
              "    <tr>\n",
              "      <th>посёлок Шушары</th>\n",
              "      <td>404</td>\n",
              "      <td>1.656461e+09</td>\n",
              "      <td>21563</td>\n",
              "      <td>76819.621528</td>\n",
              "    </tr>\n",
              "    <tr>\n",
              "      <th>Колпино</th>\n",
              "      <td>328</td>\n",
              "      <td>1.295769e+09</td>\n",
              "      <td>17369</td>\n",
              "      <td>74602.409235</td>\n",
              "    </tr>\n",
              "    <tr>\n",
              "      <th>Гатчина</th>\n",
              "      <td>291</td>\n",
              "      <td>1.017069e+09</td>\n",
              "      <td>14810</td>\n",
              "      <td>68674.501013</td>\n",
              "    </tr>\n",
              "    <tr>\n",
              "      <th>Всеволожск</th>\n",
              "      <td>371</td>\n",
              "      <td>1.406759e+09</td>\n",
              "      <td>20632</td>\n",
              "      <td>68183.364919</td>\n",
              "    </tr>\n",
              "  </tbody>\n",
              "</table>\n",
              "</div>"
            ],
            "text/plain": [
              "                   count     sum_price  sum_area    price_meter\n",
              "locality_name                                                  \n",
              "Санкт-Петербург    14526  1.119430e+11    920190  121652.006845\n",
              "Пушкин               345  2.239914e+09     21206  105626.438932\n",
              "деревня Кудрово      262  1.100115e+09     12005   91638.077884\n",
              "посёлок Парголово    301  1.340595e+09     15178   88324.908354\n",
              "Петергоф             197  8.676020e+08     10127   85672.163523\n",
              "посёлок Мурино       458  1.691992e+09     20070   84304.536024\n",
              "посёлок Шушары       404  1.656461e+09     21563   76819.621528\n",
              "Колпино              328  1.295769e+09     17369   74602.409235\n",
              "Гатчина              291  1.017069e+09     14810   68674.501013\n",
              "Всеволожск           371  1.406759e+09     20632   68183.364919"
            ]
          },
          "metadata": {}
        }
      ]
    },
    {
      "cell_type": "code",
      "source": "df_locality['price_meter'].plot(figsize=(10,5))",
      "metadata": {},
      "execution_count": 726,
      "outputs": [
        {
          "execution_count": 726,
          "output_type": "execute_result",
          "data": {
            "text/plain": [
              "<AxesSubplot:xlabel='locality_name'>"
            ]
          },
          "metadata": {}
        },
        {
          "output_type": "display_data",
          "data": {
            "image/png": "[encoded data removed]",
            "text/plain": [
              "<Figure size 720x360 with 1 Axes>"
            ]
          },
          "metadata": {
            "needs_background": "light"
          }
        }
      ]
    },
    {
      "cell_type": "markdown",
      "source": "Самая высокая цена за квадратный метр жилья в Санкт-Петербурге, самая низкая - в Всеволожске (из 10 населенных пунктов с наибольшим числом объявлений).",
      "metadata": {}
    },
    {
      "cell_type": "markdown",
      "source": "### Определение центра в Санкт-Петербурге",
      "metadata": {}
    },
    {
      "cell_type": "code",
      "source": "df_spb = df[['locality_name', 'total_area', 'last_price', 'city_centers_nearest']].copy()\ndf_spb = df_spb.query('locality_name == \"Санкт-Петербург\"')\ndf_spb",
      "metadata": {},
      "execution_count": 727,
      "outputs": [
        {
          "execution_count": 727,
          "output_type": "execute_result",
          "data": {
            "text/html": [
              "<div>\n",
              "<style scoped>\n",
              "    .dataframe tbody tr th:only-of-type {\n",
              "        vertical-align: middle;\n",
              "    }\n",
              "\n",
              "    .dataframe tbody tr th {\n",
              "        vertical-align: top;\n",
              "    }\n",
              "\n",
              "    .dataframe thead th {\n",
              "        text-align: right;\n",
              "    }\n",
              "</style>\n",
              "<table border=\"1\" class=\"dataframe\">\n",
              "  <thead>\n",
              "    <tr style=\"text-align: right;\">\n",
              "      <th></th>\n",
              "      <th>locality_name</th>\n",
              "      <th>total_area</th>\n",
              "      <th>last_price</th>\n",
              "      <th>city_centers_nearest</th>\n",
              "    </tr>\n",
              "  </thead>\n",
              "  <tbody>\n",
              "    <tr>\n",
              "      <th>0</th>\n",
              "      <td>Санкт-Петербург</td>\n",
              "      <td>108</td>\n",
              "      <td>13000000.0</td>\n",
              "      <td>16028.0</td>\n",
              "    </tr>\n",
              "    <tr>\n",
              "      <th>2</th>\n",
              "      <td>Санкт-Петербург</td>\n",
              "      <td>56</td>\n",
              "      <td>5196000.0</td>\n",
              "      <td>13933.0</td>\n",
              "    </tr>\n",
              "    <tr>\n",
              "      <th>4</th>\n",
              "      <td>Санкт-Петербург</td>\n",
              "      <td>100</td>\n",
              "      <td>10000000.0</td>\n",
              "      <td>8098.0</td>\n",
              "    </tr>\n",
              "    <tr>\n",
              "      <th>9</th>\n",
              "      <td>Санкт-Петербург</td>\n",
              "      <td>61</td>\n",
              "      <td>5400000.0</td>\n",
              "      <td>15008.0</td>\n",
              "    </tr>\n",
              "    <tr>\n",
              "      <th>10</th>\n",
              "      <td>Санкт-Петербург</td>\n",
              "      <td>39</td>\n",
              "      <td>5050000.0</td>\n",
              "      <td>13878.0</td>\n",
              "    </tr>\n",
              "    <tr>\n",
              "      <th>...</th>\n",
              "      <td>...</td>\n",
              "      <td>...</td>\n",
              "      <td>...</td>\n",
              "      <td>...</td>\n",
              "    </tr>\n",
              "    <tr>\n",
              "      <th>23688</th>\n",
              "      <td>Санкт-Петербург</td>\n",
              "      <td>101</td>\n",
              "      <td>9200000.0</td>\n",
              "      <td>14428.0</td>\n",
              "    </tr>\n",
              "    <tr>\n",
              "      <th>23689</th>\n",
              "      <td>Санкт-Петербург</td>\n",
              "      <td>35</td>\n",
              "      <td>3550000.0</td>\n",
              "      <td>16081.0</td>\n",
              "    </tr>\n",
              "    <tr>\n",
              "      <th>23690</th>\n",
              "      <td>Санкт-Петербург</td>\n",
              "      <td>52</td>\n",
              "      <td>5500000.0</td>\n",
              "      <td>6263.0</td>\n",
              "    </tr>\n",
              "    <tr>\n",
              "      <th>23691</th>\n",
              "      <td>Санкт-Петербург</td>\n",
              "      <td>72</td>\n",
              "      <td>9470000.0</td>\n",
              "      <td>4489.0</td>\n",
              "    </tr>\n",
              "    <tr>\n",
              "      <th>23694</th>\n",
              "      <td>Санкт-Петербург</td>\n",
              "      <td>133</td>\n",
              "      <td>9700000.0</td>\n",
              "      <td>4232.0</td>\n",
              "    </tr>\n",
              "  </tbody>\n",
              "</table>\n",
              "<p>14526 rows × 4 columns</p>\n",
              "</div>"
            ],
            "text/plain": [
              "         locality_name  total_area  last_price  city_centers_nearest\n",
              "0      Санкт-Петербург         108  13000000.0               16028.0\n",
              "2      Санкт-Петербург          56   5196000.0               13933.0\n",
              "4      Санкт-Петербург         100  10000000.0                8098.0\n",
              "9      Санкт-Петербург          61   5400000.0               15008.0\n",
              "10     Санкт-Петербург          39   5050000.0               13878.0\n",
              "...                ...         ...         ...                   ...\n",
              "23688  Санкт-Петербург         101   9200000.0               14428.0\n",
              "23689  Санкт-Петербург          35   3550000.0               16081.0\n",
              "23690  Санкт-Петербург          52   5500000.0                6263.0\n",
              "23691  Санкт-Петербург          72   9470000.0                4489.0\n",
              "23694  Санкт-Петербург         133   9700000.0                4232.0\n",
              "\n",
              "[14526 rows x 4 columns]"
            ]
          },
          "metadata": {}
        }
      ]
    },
    {
      "cell_type": "markdown",
      "source": "Создали таблицу с объявлениями в Санкт-Петербурге и необходимыми для анализа колонками",
      "metadata": {}
    },
    {
      "cell_type": "code",
      "source": "df_spb.isna().sum()",
      "metadata": {},
      "execution_count": 728,
      "outputs": [
        {
          "execution_count": 728,
          "output_type": "execute_result",
          "data": {
            "text/plain": [
              "locality_name            0\n",
              "total_area               0\n",
              "last_price               0\n",
              "city_centers_nearest    44\n",
              "dtype: int64"
            ]
          },
          "metadata": {}
        }
      ]
    },
    {
      "cell_type": "markdown",
      "source": "В столбце `city_centers_nearest` присутсвует 44 пропущенных значения. Их стоит удалить, для дальнейшего анализа они не понадобятся (заполнять средним значением неккоректно, так как они могут исказить результаты анализа).",
      "metadata": {}
    },
    {
      "cell_type": "code",
      "source": "df_spb = df_spb.dropna()",
      "metadata": {},
      "execution_count": 729,
      "outputs": []
    },
    {
      "cell_type": "code",
      "source": "df_spb.loc[:, 'city_centers_nearest'] = df_spb.loc[:, 'city_centers_nearest']/1000\ndf_spb.loc[:, 'city_centers_nearest'] = df_spb.loc[:, 'city_centers_nearest'].astype('int')\ndf_spb",
      "metadata": {},
      "execution_count": 730,
      "outputs": [
        {
          "name": "stderr",
          "output_type": "stream",
          "text": "/opt/conda/lib/python3.9/site-packages/pandas/core/indexing.py:1676: SettingWithCopyWarning: \n\nA value is trying to be set on a copy of a slice from a DataFrame.\n\nTry using .loc[row_indexer,col_indexer] = value instead\n\n\n\nSee the caveats in the documentation: https://pandas.pydata.org/pandas-docs/stable/user_guide/indexing.html#returning-a-view-versus-a-copy\n\n  self._setitem_single_column(ilocs[0], value, pi)\n"
        },
        {
          "execution_count": 730,
          "output_type": "execute_result",
          "data": {
            "text/html": [
              "<div>\n",
              "<style scoped>\n",
              "    .dataframe tbody tr th:only-of-type {\n",
              "        vertical-align: middle;\n",
              "    }\n",
              "\n",
              "    .dataframe tbody tr th {\n",
              "        vertical-align: top;\n",
              "    }\n",
              "\n",
              "    .dataframe thead th {\n",
              "        text-align: right;\n",
              "    }\n",
              "</style>\n",
              "<table border=\"1\" class=\"dataframe\">\n",
              "  <thead>\n",
              "    <tr style=\"text-align: right;\">\n",
              "      <th></th>\n",
              "      <th>locality_name</th>\n",
              "      <th>total_area</th>\n",
              "      <th>last_price</th>\n",
              "      <th>city_centers_nearest</th>\n",
              "    </tr>\n",
              "  </thead>\n",
              "  <tbody>\n",
              "    <tr>\n",
              "      <th>0</th>\n",
              "      <td>Санкт-Петербург</td>\n",
              "      <td>108</td>\n",
              "      <td>13000000.0</td>\n",
              "      <td>16</td>\n",
              "    </tr>\n",
              "    <tr>\n",
              "      <th>2</th>\n",
              "      <td>Санкт-Петербург</td>\n",
              "      <td>56</td>\n",
              "      <td>5196000.0</td>\n",
              "      <td>13</td>\n",
              "    </tr>\n",
              "    <tr>\n",
              "      <th>4</th>\n",
              "      <td>Санкт-Петербург</td>\n",
              "      <td>100</td>\n",
              "      <td>10000000.0</td>\n",
              "      <td>8</td>\n",
              "    </tr>\n",
              "    <tr>\n",
              "      <th>9</th>\n",
              "      <td>Санкт-Петербург</td>\n",
              "      <td>61</td>\n",
              "      <td>5400000.0</td>\n",
              "      <td>15</td>\n",
              "    </tr>\n",
              "    <tr>\n",
              "      <th>10</th>\n",
              "      <td>Санкт-Петербург</td>\n",
              "      <td>39</td>\n",
              "      <td>5050000.0</td>\n",
              "      <td>13</td>\n",
              "    </tr>\n",
              "    <tr>\n",
              "      <th>...</th>\n",
              "      <td>...</td>\n",
              "      <td>...</td>\n",
              "      <td>...</td>\n",
              "      <td>...</td>\n",
              "    </tr>\n",
              "    <tr>\n",
              "      <th>23688</th>\n",
              "      <td>Санкт-Петербург</td>\n",
              "      <td>101</td>\n",
              "      <td>9200000.0</td>\n",
              "      <td>14</td>\n",
              "    </tr>\n",
              "    <tr>\n",
              "      <th>23689</th>\n",
              "      <td>Санкт-Петербург</td>\n",
              "      <td>35</td>\n",
              "      <td>3550000.0</td>\n",
              "      <td>16</td>\n",
              "    </tr>\n",
              "    <tr>\n",
              "      <th>23690</th>\n",
              "      <td>Санкт-Петербург</td>\n",
              "      <td>52</td>\n",
              "      <td>5500000.0</td>\n",
              "      <td>6</td>\n",
              "    </tr>\n",
              "    <tr>\n",
              "      <th>23691</th>\n",
              "      <td>Санкт-Петербург</td>\n",
              "      <td>72</td>\n",
              "      <td>9470000.0</td>\n",
              "      <td>4</td>\n",
              "    </tr>\n",
              "    <tr>\n",
              "      <th>23694</th>\n",
              "      <td>Санкт-Петербург</td>\n",
              "      <td>133</td>\n",
              "      <td>9700000.0</td>\n",
              "      <td>4</td>\n",
              "    </tr>\n",
              "  </tbody>\n",
              "</table>\n",
              "<p>14482 rows × 4 columns</p>\n",
              "</div>"
            ],
            "text/plain": [
              "         locality_name  total_area  last_price  city_centers_nearest\n",
              "0      Санкт-Петербург         108  13000000.0                    16\n",
              "2      Санкт-Петербург          56   5196000.0                    13\n",
              "4      Санкт-Петербург         100  10000000.0                     8\n",
              "9      Санкт-Петербург          61   5400000.0                    15\n",
              "10     Санкт-Петербург          39   5050000.0                    13\n",
              "...                ...         ...         ...                   ...\n",
              "23688  Санкт-Петербург         101   9200000.0                    14\n",
              "23689  Санкт-Петербург          35   3550000.0                    16\n",
              "23690  Санкт-Петербург          52   5500000.0                     6\n",
              "23691  Санкт-Петербург          72   9470000.0                     4\n",
              "23694  Санкт-Петербург         133   9700000.0                     4\n",
              "\n",
              "[14482 rows x 4 columns]"
            ]
          },
          "metadata": {}
        }
      ]
    },
    {
      "cell_type": "markdown",
      "source": "Перевели расстояние до центра в километры и округлили до целого цисла.",
      "metadata": {}
    },
    {
      "cell_type": "code",
      "source": "df_spb = df_spb.pivot_table(index='city_centers_nearest', values=['total_area', 'last_price'], aggfunc='sum')\ndf_spb['price_km'] = df_spb['last_price']/df_spb['total_area']\ndf_spb",
      "metadata": {},
      "execution_count": 731,
      "outputs": [
        {
          "execution_count": 731,
          "output_type": "execute_result",
          "data": {
            "text/html": [
              "<div>\n",
              "<style scoped>\n",
              "    .dataframe tbody tr th:only-of-type {\n",
              "        vertical-align: middle;\n",
              "    }\n",
              "\n",
              "    .dataframe tbody tr th {\n",
              "        vertical-align: top;\n",
              "    }\n",
              "\n",
              "    .dataframe thead th {\n",
              "        text-align: right;\n",
              "    }\n",
              "</style>\n",
              "<table border=\"1\" class=\"dataframe\">\n",
              "  <thead>\n",
              "    <tr style=\"text-align: right;\">\n",
              "      <th></th>\n",
              "      <th>last_price</th>\n",
              "      <th>total_area</th>\n",
              "      <th>price_km</th>\n",
              "    </tr>\n",
              "    <tr>\n",
              "      <th>city_centers_nearest</th>\n",
              "      <th></th>\n",
              "      <th></th>\n",
              "      <th></th>\n",
              "    </tr>\n",
              "  </thead>\n",
              "  <tbody>\n",
              "    <tr>\n",
              "      <th>0</th>\n",
              "      <td>1.856289e+09</td>\n",
              "      <td>8453</td>\n",
              "      <td>219601.221815</td>\n",
              "    </tr>\n",
              "    <tr>\n",
              "      <th>1</th>\n",
              "      <td>4.195434e+09</td>\n",
              "      <td>22464</td>\n",
              "      <td>186762.571181</td>\n",
              "    </tr>\n",
              "    <tr>\n",
              "      <th>2</th>\n",
              "      <td>4.306707e+09</td>\n",
              "      <td>27958</td>\n",
              "      <td>154042.044495</td>\n",
              "    </tr>\n",
              "    <tr>\n",
              "      <th>3</th>\n",
              "      <td>5.744796e+09</td>\n",
              "      <td>44162</td>\n",
              "      <td>130084.591232</td>\n",
              "    </tr>\n",
              "    <tr>\n",
              "      <th>4</th>\n",
              "      <td>1.025191e+10</td>\n",
              "      <td>74523</td>\n",
              "      <td>137567.032997</td>\n",
              "    </tr>\n",
              "    <tr>\n",
              "      <th>5</th>\n",
              "      <td>9.181262e+09</td>\n",
              "      <td>60109</td>\n",
              "      <td>152743.544860</td>\n",
              "    </tr>\n",
              "    <tr>\n",
              "      <th>6</th>\n",
              "      <td>5.421387e+09</td>\n",
              "      <td>31768</td>\n",
              "      <td>170655.584236</td>\n",
              "    </tr>\n",
              "    <tr>\n",
              "      <th>7</th>\n",
              "      <td>4.578958e+09</td>\n",
              "      <td>28851</td>\n",
              "      <td>158710.561263</td>\n",
              "    </tr>\n",
              "    <tr>\n",
              "      <th>8</th>\n",
              "      <td>5.202271e+09</td>\n",
              "      <td>41951</td>\n",
              "      <td>124008.276966</td>\n",
              "    </tr>\n",
              "    <tr>\n",
              "      <th>9</th>\n",
              "      <td>4.110227e+09</td>\n",
              "      <td>36766</td>\n",
              "      <td>111794.246070</td>\n",
              "    </tr>\n",
              "    <tr>\n",
              "      <th>10</th>\n",
              "      <td>5.305861e+09</td>\n",
              "      <td>46283</td>\n",
              "      <td>114639.523281</td>\n",
              "    </tr>\n",
              "    <tr>\n",
              "      <th>11</th>\n",
              "      <td>7.951486e+09</td>\n",
              "      <td>73893</td>\n",
              "      <td>107608.114287</td>\n",
              "    </tr>\n",
              "    <tr>\n",
              "      <th>12</th>\n",
              "      <td>8.508394e+09</td>\n",
              "      <td>77907</td>\n",
              "      <td>109212.188430</td>\n",
              "    </tr>\n",
              "    <tr>\n",
              "      <th>13</th>\n",
              "      <td>7.941212e+09</td>\n",
              "      <td>74115</td>\n",
              "      <td>107147.166282</td>\n",
              "    </tr>\n",
              "    <tr>\n",
              "      <th>14</th>\n",
              "      <td>8.005987e+09</td>\n",
              "      <td>76336</td>\n",
              "      <td>104878.268078</td>\n",
              "    </tr>\n",
              "    <tr>\n",
              "      <th>15</th>\n",
              "      <td>7.117668e+09</td>\n",
              "      <td>69521</td>\n",
              "      <td>102381.552466</td>\n",
              "    </tr>\n",
              "    <tr>\n",
              "      <th>16</th>\n",
              "      <td>5.590140e+09</td>\n",
              "      <td>55325</td>\n",
              "      <td>101041.845838</td>\n",
              "    </tr>\n",
              "    <tr>\n",
              "      <th>17</th>\n",
              "      <td>2.386192e+09</td>\n",
              "      <td>25794</td>\n",
              "      <td>92509.572769</td>\n",
              "    </tr>\n",
              "    <tr>\n",
              "      <th>18</th>\n",
              "      <td>8.848386e+08</td>\n",
              "      <td>9218</td>\n",
              "      <td>95990.302669</td>\n",
              "    </tr>\n",
              "    <tr>\n",
              "      <th>19</th>\n",
              "      <td>3.791330e+08</td>\n",
              "      <td>4118</td>\n",
              "      <td>92067.257164</td>\n",
              "    </tr>\n",
              "    <tr>\n",
              "      <th>20</th>\n",
              "      <td>4.113074e+08</td>\n",
              "      <td>3938</td>\n",
              "      <td>104445.755967</td>\n",
              "    </tr>\n",
              "    <tr>\n",
              "      <th>21</th>\n",
              "      <td>8.354086e+08</td>\n",
              "      <td>9446</td>\n",
              "      <td>88440.464112</td>\n",
              "    </tr>\n",
              "    <tr>\n",
              "      <th>22</th>\n",
              "      <td>6.498580e+08</td>\n",
              "      <td>7581</td>\n",
              "      <td>85721.936420</td>\n",
              "    </tr>\n",
              "    <tr>\n",
              "      <th>23</th>\n",
              "      <td>1.175060e+08</td>\n",
              "      <td>1281</td>\n",
              "      <td>91729.898517</td>\n",
              "    </tr>\n",
              "    <tr>\n",
              "      <th>24</th>\n",
              "      <td>7.379000e+07</td>\n",
              "      <td>915</td>\n",
              "      <td>80644.808743</td>\n",
              "    </tr>\n",
              "    <tr>\n",
              "      <th>25</th>\n",
              "      <td>2.769685e+08</td>\n",
              "      <td>3094</td>\n",
              "      <td>89517.938268</td>\n",
              "    </tr>\n",
              "    <tr>\n",
              "      <th>26</th>\n",
              "      <td>1.072500e+07</td>\n",
              "      <td>156</td>\n",
              "      <td>68750.000000</td>\n",
              "    </tr>\n",
              "    <tr>\n",
              "      <th>27</th>\n",
              "      <td>1.660000e+07</td>\n",
              "      <td>106</td>\n",
              "      <td>156603.773585</td>\n",
              "    </tr>\n",
              "    <tr>\n",
              "      <th>28</th>\n",
              "      <td>4.910500e+07</td>\n",
              "      <td>625</td>\n",
              "      <td>78568.000000</td>\n",
              "    </tr>\n",
              "    <tr>\n",
              "      <th>29</th>\n",
              "      <td>1.150000e+07</td>\n",
              "      <td>184</td>\n",
              "      <td>62500.000000</td>\n",
              "    </tr>\n",
              "  </tbody>\n",
              "</table>\n",
              "</div>"
            ],
            "text/plain": [
              "                        last_price  total_area       price_km\n",
              "city_centers_nearest                                         \n",
              "0                     1.856289e+09        8453  219601.221815\n",
              "1                     4.195434e+09       22464  186762.571181\n",
              "2                     4.306707e+09       27958  154042.044495\n",
              "3                     5.744796e+09       44162  130084.591232\n",
              "4                     1.025191e+10       74523  137567.032997\n",
              "5                     9.181262e+09       60109  152743.544860\n",
              "6                     5.421387e+09       31768  170655.584236\n",
              "7                     4.578958e+09       28851  158710.561263\n",
              "8                     5.202271e+09       41951  124008.276966\n",
              "9                     4.110227e+09       36766  111794.246070\n",
              "10                    5.305861e+09       46283  114639.523281\n",
              "11                    7.951486e+09       73893  107608.114287\n",
              "12                    8.508394e+09       77907  109212.188430\n",
              "13                    7.941212e+09       74115  107147.166282\n",
              "14                    8.005987e+09       76336  104878.268078\n",
              "15                    7.117668e+09       69521  102381.552466\n",
              "16                    5.590140e+09       55325  101041.845838\n",
              "17                    2.386192e+09       25794   92509.572769\n",
              "18                    8.848386e+08        9218   95990.302669\n",
              "19                    3.791330e+08        4118   92067.257164\n",
              "20                    4.113074e+08        3938  104445.755967\n",
              "21                    8.354086e+08        9446   88440.464112\n",
              "22                    6.498580e+08        7581   85721.936420\n",
              "23                    1.175060e+08        1281   91729.898517\n",
              "24                    7.379000e+07         915   80644.808743\n",
              "25                    2.769685e+08        3094   89517.938268\n",
              "26                    1.072500e+07         156   68750.000000\n",
              "27                    1.660000e+07         106  156603.773585\n",
              "28                    4.910500e+07         625   78568.000000\n",
              "29                    1.150000e+07         184   62500.000000"
            ]
          },
          "metadata": {}
        }
      ]
    },
    {
      "cell_type": "markdown",
      "source": "Построили сводную таблицу по удаленности от центра в километрах, посчитали среднюю цену для каждого километра.",
      "metadata": {}
    },
    {
      "cell_type": "code",
      "source": "df_spb['price_km'].plot(figsize=(10,4))",
      "metadata": {},
      "execution_count": 732,
      "outputs": [
        {
          "execution_count": 732,
          "output_type": "execute_result",
          "data": {
            "text/plain": [
              "<AxesSubplot:xlabel='city_centers_nearest'>"
            ]
          },
          "metadata": {}
        },
        {
          "output_type": "display_data",
          "data": {
            "image/png": "[encoded data removed]",
            "text/plain": [
              "<Figure size 720x288 with 1 Axes>"
            ]
          },
          "metadata": {
            "needs_background": "light"
          }
        }
      ]
    },
    {
      "cell_type": "code",
      "source": "df_spb['last_price'].plot(figsize=(10,4), xlim=(0,10))",
      "metadata": {},
      "execution_count": 733,
      "outputs": [
        {
          "execution_count": 733,
          "output_type": "execute_result",
          "data": {
            "text/plain": [
              "<AxesSubplot:xlabel='city_centers_nearest'>"
            ]
          },
          "metadata": {}
        },
        {
          "output_type": "display_data",
          "data": {
            "image/png": "[encoded data removed]",
            "text/plain": [
              "<Figure size 720x288 with 1 Axes>"
            ]
          },
          "metadata": {
            "needs_background": "light"
          }
        }
      ]
    },
    {
      "cell_type": "markdown",
      "source": "Как видно на графике, цена сильно меняется. Макимальная цена за м² на 0 километре, затем спад до 3 км. и рост до 6 км. Выделяется цена квартир, находящиеся на 27 км. от центра. На значениях от 3 км. и дальше цена ниже, чем на отметке 2 км. (за исключением 6 км.). На отметках с резким ростом средней цены (6 км. и 27 км.) могут находится элитные районы, на цены которых существенное влияние  оказывают другие факторы, помимо удаленности от центра.\n\nНа графике зависимости средней цены от удаленности от центра можем заметить, что цена растет с промежутке с 0 до 4 км., а затем происходит спад. Соотвественно, можем предположить, что центральная зона г. Санкт-Петербурга расположена в радиусе 4 км. от центра города.",
      "metadata": {}
    },
    {
      "cell_type": "markdown",
      "source": "### Анализ квартир в центре Санкт-Петербурга",
      "metadata": {}
    },
    {
      "cell_type": "code",
      "source": "df_spb_center = df.query('locality_name == \"Санкт-Петербург\" and city_centers_nearest <= 4000')\ndf_spb_center",
      "metadata": {
        "scrolled": true
      },
      "execution_count": 734,
      "outputs": [
        {
          "execution_count": 734,
          "output_type": "execute_result",
          "data": {
            "text/html": [
              "<div>\n",
              "<style scoped>\n",
              "    .dataframe tbody tr th:only-of-type {\n",
              "        vertical-align: middle;\n",
              "    }\n",
              "\n",
              "    .dataframe tbody tr th {\n",
              "        vertical-align: top;\n",
              "    }\n",
              "\n",
              "    .dataframe thead th {\n",
              "        text-align: right;\n",
              "    }\n",
              "</style>\n",
              "<table border=\"1\" class=\"dataframe\">\n",
              "  <thead>\n",
              "    <tr style=\"text-align: right;\">\n",
              "      <th></th>\n",
              "      <th>total_images</th>\n",
              "      <th>last_price</th>\n",
              "      <th>total_area</th>\n",
              "      <th>first_day_exposition</th>\n",
              "      <th>rooms</th>\n",
              "      <th>ceiling_height</th>\n",
              "      <th>floors_total</th>\n",
              "      <th>living_area</th>\n",
              "      <th>floor</th>\n",
              "      <th>is_apartment</th>\n",
              "      <th>studio</th>\n",
              "      <th>open_plan</th>\n",
              "      <th>kitchen_area</th>\n",
              "      <th>balcony</th>\n",
              "      <th>locality_name</th>\n",
              "      <th>airports_nearest</th>\n",
              "      <th>city_centers_nearest</th>\n",
              "      <th>parks_around3000</th>\n",
              "      <th>parks_nearest</th>\n",
              "      <th>ponds_around3000</th>\n",
              "      <th>ponds_nearest</th>\n",
              "      <th>days_exposition</th>\n",
              "      <th>price_meter</th>\n",
              "      <th>weekday</th>\n",
              "      <th>month</th>\n",
              "      <th>year</th>\n",
              "      <th>kitchen_share</th>\n",
              "      <th>living_share</th>\n",
              "      <th>floor_category</th>\n",
              "    </tr>\n",
              "  </thead>\n",
              "  <tbody>\n",
              "    <tr>\n",
              "      <th>24</th>\n",
              "      <td>8</td>\n",
              "      <td>6500000.0</td>\n",
              "      <td>97</td>\n",
              "      <td>2015-10-31</td>\n",
              "      <td>2</td>\n",
              "      <td>2.650391</td>\n",
              "      <td>3.0</td>\n",
              "      <td>46.5</td>\n",
              "      <td>1</td>\n",
              "      <td>False</td>\n",
              "      <td>False</td>\n",
              "      <td>False</td>\n",
              "      <td>19.6</td>\n",
              "      <td>0</td>\n",
              "      <td>Санкт-Петербург</td>\n",
              "      <td>20052.0</td>\n",
              "      <td>2336.0</td>\n",
              "      <td>3.0</td>\n",
              "      <td>411.0</td>\n",
              "      <td>3.0</td>\n",
              "      <td>124.0</td>\n",
              "      <td>265.0</td>\n",
              "      <td>67010.309278</td>\n",
              "      <td>5</td>\n",
              "      <td>10</td>\n",
              "      <td>2015</td>\n",
              "      <td>0.202062</td>\n",
              "      <td>0.479381</td>\n",
              "      <td>первый</td>\n",
              "    </tr>\n",
              "    <tr>\n",
              "      <th>35</th>\n",
              "      <td>6</td>\n",
              "      <td>15500000.0</td>\n",
              "      <td>149</td>\n",
              "      <td>2017-06-26</td>\n",
              "      <td>5</td>\n",
              "      <td>2.650391</td>\n",
              "      <td>5.0</td>\n",
              "      <td>104.0</td>\n",
              "      <td>4</td>\n",
              "      <td>False</td>\n",
              "      <td>False</td>\n",
              "      <td>False</td>\n",
              "      <td>17.0</td>\n",
              "      <td>0</td>\n",
              "      <td>Санкт-Петербург</td>\n",
              "      <td>23670.0</td>\n",
              "      <td>3502.0</td>\n",
              "      <td>0.0</td>\n",
              "      <td>NaN</td>\n",
              "      <td>1.0</td>\n",
              "      <td>779.0</td>\n",
              "      <td>644.0</td>\n",
              "      <td>104026.845638</td>\n",
              "      <td>0</td>\n",
              "      <td>6</td>\n",
              "      <td>2017</td>\n",
              "      <td>0.114094</td>\n",
              "      <td>0.697987</td>\n",
              "      <td>другой</td>\n",
              "    </tr>\n",
              "    <tr>\n",
              "      <th>99</th>\n",
              "      <td>32</td>\n",
              "      <td>9600000.0</td>\n",
              "      <td>90</td>\n",
              "      <td>2017-09-26</td>\n",
              "      <td>4</td>\n",
              "      <td>2.650391</td>\n",
              "      <td>5.0</td>\n",
              "      <td>67.0</td>\n",
              "      <td>2</td>\n",
              "      <td>False</td>\n",
              "      <td>False</td>\n",
              "      <td>False</td>\n",
              "      <td>8.0</td>\n",
              "      <td>0</td>\n",
              "      <td>Санкт-Петербург</td>\n",
              "      <td>23277.0</td>\n",
              "      <td>2818.0</td>\n",
              "      <td>0.0</td>\n",
              "      <td>NaN</td>\n",
              "      <td>0.0</td>\n",
              "      <td>NaN</td>\n",
              "      <td>104.0</td>\n",
              "      <td>106666.666667</td>\n",
              "      <td>1</td>\n",
              "      <td>9</td>\n",
              "      <td>2017</td>\n",
              "      <td>0.088889</td>\n",
              "      <td>0.744444</td>\n",
              "      <td>другой</td>\n",
              "    </tr>\n",
              "    <tr>\n",
              "      <th>136</th>\n",
              "      <td>16</td>\n",
              "      <td>6500000.0</td>\n",
              "      <td>51</td>\n",
              "      <td>2018-08-01</td>\n",
              "      <td>2</td>\n",
              "      <td>3.449219</td>\n",
              "      <td>6.0</td>\n",
              "      <td>25.6</td>\n",
              "      <td>2</td>\n",
              "      <td>False</td>\n",
              "      <td>False</td>\n",
              "      <td>False</td>\n",
              "      <td>7.3</td>\n",
              "      <td>1</td>\n",
              "      <td>Санкт-Петербург</td>\n",
              "      <td>20502.0</td>\n",
              "      <td>3618.0</td>\n",
              "      <td>2.0</td>\n",
              "      <td>533.0</td>\n",
              "      <td>1.0</td>\n",
              "      <td>812.0</td>\n",
              "      <td>163.0</td>\n",
              "      <td>127450.980392</td>\n",
              "      <td>2</td>\n",
              "      <td>8</td>\n",
              "      <td>2018</td>\n",
              "      <td>0.143137</td>\n",
              "      <td>0.501961</td>\n",
              "      <td>другой</td>\n",
              "    </tr>\n",
              "    <tr>\n",
              "      <th>138</th>\n",
              "      <td>8</td>\n",
              "      <td>4800000.0</td>\n",
              "      <td>40</td>\n",
              "      <td>2017-11-18</td>\n",
              "      <td>2</td>\n",
              "      <td>2.650391</td>\n",
              "      <td>3.0</td>\n",
              "      <td>29.0</td>\n",
              "      <td>2</td>\n",
              "      <td>False</td>\n",
              "      <td>False</td>\n",
              "      <td>False</td>\n",
              "      <td>6.0</td>\n",
              "      <td>0</td>\n",
              "      <td>Санкт-Петербург</td>\n",
              "      <td>23371.0</td>\n",
              "      <td>2913.0</td>\n",
              "      <td>0.0</td>\n",
              "      <td>NaN</td>\n",
              "      <td>2.0</td>\n",
              "      <td>729.0</td>\n",
              "      <td>80.0</td>\n",
              "      <td>120000.000000</td>\n",
              "      <td>5</td>\n",
              "      <td>11</td>\n",
              "      <td>2017</td>\n",
              "      <td>0.150000</td>\n",
              "      <td>0.725000</td>\n",
              "      <td>другой</td>\n",
              "    </tr>\n",
              "    <tr>\n",
              "      <th>...</th>\n",
              "      <td>...</td>\n",
              "      <td>...</td>\n",
              "      <td>...</td>\n",
              "      <td>...</td>\n",
              "      <td>...</td>\n",
              "      <td>...</td>\n",
              "      <td>...</td>\n",
              "      <td>...</td>\n",
              "      <td>...</td>\n",
              "      <td>...</td>\n",
              "      <td>...</td>\n",
              "      <td>...</td>\n",
              "      <td>...</td>\n",
              "      <td>...</td>\n",
              "      <td>...</td>\n",
              "      <td>...</td>\n",
              "      <td>...</td>\n",
              "      <td>...</td>\n",
              "      <td>...</td>\n",
              "      <td>...</td>\n",
              "      <td>...</td>\n",
              "      <td>...</td>\n",
              "      <td>...</td>\n",
              "      <td>...</td>\n",
              "      <td>...</td>\n",
              "      <td>...</td>\n",
              "      <td>...</td>\n",
              "      <td>...</td>\n",
              "      <td>...</td>\n",
              "    </tr>\n",
              "    <tr>\n",
              "      <th>23449</th>\n",
              "      <td>4</td>\n",
              "      <td>6300000.0</td>\n",
              "      <td>52</td>\n",
              "      <td>2015-05-28</td>\n",
              "      <td>3</td>\n",
              "      <td>3.250000</td>\n",
              "      <td>5.0</td>\n",
              "      <td>29.8</td>\n",
              "      <td>2</td>\n",
              "      <td>False</td>\n",
              "      <td>False</td>\n",
              "      <td>False</td>\n",
              "      <td>8.7</td>\n",
              "      <td>0</td>\n",
              "      <td>Санкт-Петербург</td>\n",
              "      <td>22460.0</td>\n",
              "      <td>3400.0</td>\n",
              "      <td>2.0</td>\n",
              "      <td>218.0</td>\n",
              "      <td>3.0</td>\n",
              "      <td>69.0</td>\n",
              "      <td>505.0</td>\n",
              "      <td>121153.846154</td>\n",
              "      <td>3</td>\n",
              "      <td>5</td>\n",
              "      <td>2015</td>\n",
              "      <td>0.167308</td>\n",
              "      <td>0.573077</td>\n",
              "      <td>другой</td>\n",
              "    </tr>\n",
              "    <tr>\n",
              "      <th>23521</th>\n",
              "      <td>13</td>\n",
              "      <td>8500000.0</td>\n",
              "      <td>65</td>\n",
              "      <td>2018-11-01</td>\n",
              "      <td>2</td>\n",
              "      <td>2.650391</td>\n",
              "      <td>4.0</td>\n",
              "      <td>44.0</td>\n",
              "      <td>2</td>\n",
              "      <td>False</td>\n",
              "      <td>False</td>\n",
              "      <td>False</td>\n",
              "      <td>15.3</td>\n",
              "      <td>0</td>\n",
              "      <td>Санкт-Петербург</td>\n",
              "      <td>22276.0</td>\n",
              "      <td>3996.0</td>\n",
              "      <td>1.0</td>\n",
              "      <td>627.0</td>\n",
              "      <td>0.0</td>\n",
              "      <td>NaN</td>\n",
              "      <td>NaN</td>\n",
              "      <td>130769.230769</td>\n",
              "      <td>3</td>\n",
              "      <td>11</td>\n",
              "      <td>2018</td>\n",
              "      <td>0.235385</td>\n",
              "      <td>0.676923</td>\n",
              "      <td>другой</td>\n",
              "    </tr>\n",
              "    <tr>\n",
              "      <th>23555</th>\n",
              "      <td>5</td>\n",
              "      <td>15350000.0</td>\n",
              "      <td>158</td>\n",
              "      <td>2019-03-07</td>\n",
              "      <td>7</td>\n",
              "      <td>2.949219</td>\n",
              "      <td>7.0</td>\n",
              "      <td>57.4</td>\n",
              "      <td>7</td>\n",
              "      <td>False</td>\n",
              "      <td>False</td>\n",
              "      <td>False</td>\n",
              "      <td>12.4</td>\n",
              "      <td>1</td>\n",
              "      <td>Санкт-Петербург</td>\n",
              "      <td>23546.0</td>\n",
              "      <td>3088.0</td>\n",
              "      <td>1.0</td>\n",
              "      <td>347.0</td>\n",
              "      <td>0.0</td>\n",
              "      <td>NaN</td>\n",
              "      <td>NaN</td>\n",
              "      <td>97151.898734</td>\n",
              "      <td>3</td>\n",
              "      <td>3</td>\n",
              "      <td>2019</td>\n",
              "      <td>0.078481</td>\n",
              "      <td>0.363291</td>\n",
              "      <td>последний</td>\n",
              "    </tr>\n",
              "    <tr>\n",
              "      <th>23568</th>\n",
              "      <td>1</td>\n",
              "      <td>8725246.0</td>\n",
              "      <td>48</td>\n",
              "      <td>2019-04-09</td>\n",
              "      <td>1</td>\n",
              "      <td>2.900391</td>\n",
              "      <td>8.0</td>\n",
              "      <td>17.7</td>\n",
              "      <td>2</td>\n",
              "      <td>False</td>\n",
              "      <td>False</td>\n",
              "      <td>False</td>\n",
              "      <td>11.4</td>\n",
              "      <td>0</td>\n",
              "      <td>Санкт-Петербург</td>\n",
              "      <td>18871.0</td>\n",
              "      <td>3539.0</td>\n",
              "      <td>0.0</td>\n",
              "      <td>NaN</td>\n",
              "      <td>3.0</td>\n",
              "      <td>671.0</td>\n",
              "      <td>NaN</td>\n",
              "      <td>181775.958333</td>\n",
              "      <td>1</td>\n",
              "      <td>4</td>\n",
              "      <td>2019</td>\n",
              "      <td>0.237500</td>\n",
              "      <td>0.368750</td>\n",
              "      <td>другой</td>\n",
              "    </tr>\n",
              "    <tr>\n",
              "      <th>23648</th>\n",
              "      <td>14</td>\n",
              "      <td>10100000.0</td>\n",
              "      <td>78</td>\n",
              "      <td>2017-05-12</td>\n",
              "      <td>3</td>\n",
              "      <td>3.269531</td>\n",
              "      <td>5.0</td>\n",
              "      <td>48.6</td>\n",
              "      <td>5</td>\n",
              "      <td>False</td>\n",
              "      <td>False</td>\n",
              "      <td>False</td>\n",
              "      <td>8.2</td>\n",
              "      <td>0</td>\n",
              "      <td>Санкт-Петербург</td>\n",
              "      <td>20933.0</td>\n",
              "      <td>1113.0</td>\n",
              "      <td>1.0</td>\n",
              "      <td>621.0</td>\n",
              "      <td>2.0</td>\n",
              "      <td>117.0</td>\n",
              "      <td>621.0</td>\n",
              "      <td>129487.179487</td>\n",
              "      <td>4</td>\n",
              "      <td>5</td>\n",
              "      <td>2017</td>\n",
              "      <td>0.105128</td>\n",
              "      <td>0.623077</td>\n",
              "      <td>последний</td>\n",
              "    </tr>\n",
              "  </tbody>\n",
              "</table>\n",
              "<p>1082 rows × 29 columns</p>\n",
              "</div>"
            ],
            "text/plain": [
              "       total_images  last_price  total_area first_day_exposition  rooms  \\\n",
              "24                8   6500000.0          97           2015-10-31      2   \n",
              "35                6  15500000.0         149           2017-06-26      5   \n",
              "99               32   9600000.0          90           2017-09-26      4   \n",
              "136              16   6500000.0          51           2018-08-01      2   \n",
              "138               8   4800000.0          40           2017-11-18      2   \n",
              "...             ...         ...         ...                  ...    ...   \n",
              "23449             4   6300000.0          52           2015-05-28      3   \n",
              "23521            13   8500000.0          65           2018-11-01      2   \n",
              "23555             5  15350000.0         158           2019-03-07      7   \n",
              "23568             1   8725246.0          48           2019-04-09      1   \n",
              "23648            14  10100000.0          78           2017-05-12      3   \n",
              "\n",
              "       ceiling_height  floors_total  living_area  floor  is_apartment  studio  \\\n",
              "24           2.650391           3.0         46.5      1         False   False   \n",
              "35           2.650391           5.0        104.0      4         False   False   \n",
              "99           2.650391           5.0         67.0      2         False   False   \n",
              "136          3.449219           6.0         25.6      2         False   False   \n",
              "138          2.650391           3.0         29.0      2         False   False   \n",
              "...               ...           ...          ...    ...           ...     ...   \n",
              "23449        3.250000           5.0         29.8      2         False   False   \n",
              "23521        2.650391           4.0         44.0      2         False   False   \n",
              "23555        2.949219           7.0         57.4      7         False   False   \n",
              "23568        2.900391           8.0         17.7      2         False   False   \n",
              "23648        3.269531           5.0         48.6      5         False   False   \n",
              "\n",
              "       open_plan  kitchen_area  balcony    locality_name  airports_nearest  \\\n",
              "24         False          19.6        0  Санкт-Петербург           20052.0   \n",
              "35         False          17.0        0  Санкт-Петербург           23670.0   \n",
              "99         False           8.0        0  Санкт-Петербург           23277.0   \n",
              "136        False           7.3        1  Санкт-Петербург           20502.0   \n",
              "138        False           6.0        0  Санкт-Петербург           23371.0   \n",
              "...          ...           ...      ...              ...               ...   \n",
              "23449      False           8.7        0  Санкт-Петербург           22460.0   \n",
              "23521      False          15.3        0  Санкт-Петербург           22276.0   \n",
              "23555      False          12.4        1  Санкт-Петербург           23546.0   \n",
              "23568      False          11.4        0  Санкт-Петербург           18871.0   \n",
              "23648      False           8.2        0  Санкт-Петербург           20933.0   \n",
              "\n",
              "       city_centers_nearest  parks_around3000  parks_nearest  \\\n",
              "24                   2336.0               3.0          411.0   \n",
              "35                   3502.0               0.0            NaN   \n",
              "99                   2818.0               0.0            NaN   \n",
              "136                  3618.0               2.0          533.0   \n",
              "138                  2913.0               0.0            NaN   \n",
              "...                     ...               ...            ...   \n",
              "23449                3400.0               2.0          218.0   \n",
              "23521                3996.0               1.0          627.0   \n",
              "23555                3088.0               1.0          347.0   \n",
              "23568                3539.0               0.0            NaN   \n",
              "23648                1113.0               1.0          621.0   \n",
              "\n",
              "       ponds_around3000  ponds_nearest  days_exposition    price_meter  \\\n",
              "24                  3.0          124.0            265.0   67010.309278   \n",
              "35                  1.0          779.0            644.0  104026.845638   \n",
              "99                  0.0            NaN            104.0  106666.666667   \n",
              "136                 1.0          812.0            163.0  127450.980392   \n",
              "138                 2.0          729.0             80.0  120000.000000   \n",
              "...                 ...            ...              ...            ...   \n",
              "23449               3.0           69.0            505.0  121153.846154   \n",
              "23521               0.0            NaN              NaN  130769.230769   \n",
              "23555               0.0            NaN              NaN   97151.898734   \n",
              "23568               3.0          671.0              NaN  181775.958333   \n",
              "23648               2.0          117.0            621.0  129487.179487   \n",
              "\n",
              "       weekday  month  year  kitchen_share  living_share floor_category  \n",
              "24           5     10  2015       0.202062      0.479381         первый  \n",
              "35           0      6  2017       0.114094      0.697987         другой  \n",
              "99           1      9  2017       0.088889      0.744444         другой  \n",
              "136          2      8  2018       0.143137      0.501961         другой  \n",
              "138          5     11  2017       0.150000      0.725000         другой  \n",
              "...        ...    ...   ...            ...           ...            ...  \n",
              "23449        3      5  2015       0.167308      0.573077         другой  \n",
              "23521        3     11  2018       0.235385      0.676923         другой  \n",
              "23555        3      3  2019       0.078481      0.363291      последний  \n",
              "23568        1      4  2019       0.237500      0.368750         другой  \n",
              "23648        4      5  2017       0.105128      0.623077      последний  \n",
              "\n",
              "[1082 rows x 29 columns]"
            ]
          },
          "metadata": {}
        }
      ]
    },
    {
      "cell_type": "markdown",
      "source": "Отобрали объявления квартир, находящиеся в центральном районе г. Санкт-Петербург.",
      "metadata": {}
    },
    {
      "cell_type": "code",
      "source": "df_spb_center['total_area'].mean()/df['total_area'].mean()",
      "metadata": {},
      "execution_count": 735,
      "outputs": [
        {
          "execution_count": 735,
          "output_type": "execute_result",
          "data": {
            "text/plain": [
              "1.6040730565044208"
            ]
          },
          "metadata": {}
        }
      ]
    },
    {
      "cell_type": "markdown",
      "source": "Средняя площадь квартир в центре Санк-Петербурга существенно выше площади квартир во всем Санкт-Петербурге и его окрестностях (1,6 раза).",
      "metadata": {}
    },
    {
      "cell_type": "code",
      "source": "df_spb_center['last_price'].mean()/df['last_price'].mean()",
      "metadata": {},
      "execution_count": 736,
      "outputs": [
        {
          "execution_count": 736,
          "output_type": "execute_result",
          "data": {
            "text/plain": [
              "2.3485437063278547"
            ]
          },
          "metadata": {}
        }
      ]
    },
    {
      "cell_type": "code",
      "source": "df_spb_center['last_price'].median()/df['last_price'].median()",
      "metadata": {},
      "execution_count": 737,
      "outputs": [
        {
          "execution_count": 737,
          "output_type": "execute_result",
          "data": {
            "text/plain": [
              "2.021505376344086"
            ]
          },
          "metadata": {}
        }
      ]
    },
    {
      "cell_type": "markdown",
      "source": "Средняя цена квартир таже сильно выше (более чем в 2 раза).",
      "metadata": {}
    },
    {
      "cell_type": "code",
      "source": "df_spb_center['rooms'].mean()/df['rooms'].mean()",
      "metadata": {},
      "execution_count": 738,
      "outputs": [
        {
          "execution_count": 738,
          "output_type": "execute_result",
          "data": {
            "text/plain": [
              "1.482211640215567"
            ]
          },
          "metadata": {}
        }
      ]
    },
    {
      "cell_type": "markdown",
      "source": "Число комнат в центре города в среднем в 1,5 раза больше.",
      "metadata": {}
    },
    {
      "cell_type": "code",
      "source": "df_spb_center['ceiling_height'].mean()/df['ceiling_height'].mean()",
      "metadata": {},
      "execution_count": 739,
      "outputs": [
        {
          "execution_count": 739,
          "output_type": "execute_result",
          "data": {
            "text/plain": [
              "1.123"
            ]
          },
          "metadata": {}
        }
      ]
    },
    {
      "cell_type": "markdown",
      "source": "Высота потолков в центре Санкт-Петербурга немногим выше, чем во всем городе и его крестностях.",
      "metadata": {}
    },
    {
      "cell_type": "code",
      "source": "df_spb_center['last_price'].corr(df_spb_center['total_area'])",
      "metadata": {},
      "execution_count": 740,
      "outputs": [
        {
          "execution_count": 740,
          "output_type": "execute_result",
          "data": {
            "text/plain": [
              "0.5834613322258156"
            ]
          },
          "metadata": {}
        }
      ]
    },
    {
      "cell_type": "code",
      "source": "df_spb_center['last_price'].corr(df_spb_center['living_area'])",
      "metadata": {},
      "execution_count": 741,
      "outputs": [
        {
          "execution_count": 741,
          "output_type": "execute_result",
          "data": {
            "text/plain": [
              "0.5065603441413883"
            ]
          },
          "metadata": {}
        }
      ]
    },
    {
      "cell_type": "markdown",
      "source": "Зависимость цены квартиры от площади изменилась. В объявлениях в Санкт-Петербурге и соседних населённых пунктах коэффициент корреляции составлял 0.68 (от общей площади) и 0.6 (от жилой площади).\n\nВ квартирах в центре Санкт-Петербурга зависимость уменьшилась, коэффициент корреляции равен 0.58 и 0.51 соотвественно.",
      "metadata": {}
    },
    {
      "cell_type": "code",
      "source": "df_spb_center['last_price'].corr(df_spb_center['rooms'])",
      "metadata": {},
      "execution_count": 742,
      "outputs": [
        {
          "execution_count": 742,
          "output_type": "execute_result",
          "data": {
            "text/plain": [
              "0.2724893374237039"
            ]
          },
          "metadata": {}
        }
      ]
    },
    {
      "cell_type": "markdown",
      "source": "Влияние числа комнат в квартире сильно уменьшилось. Коэффициент корреляции для всего города составлял 0.4, а для центра города 0.27.",
      "metadata": {}
    },
    {
      "cell_type": "code",
      "source": "df_spb_center['last_price'].corr(df_spb_center['ceiling_height'])",
      "metadata": {},
      "execution_count": 743,
      "outputs": [
        {
          "execution_count": 743,
          "output_type": "execute_result",
          "data": {
            "text/plain": [
              "0.1397401473070917"
            ]
          },
          "metadata": {}
        }
      ]
    },
    {
      "cell_type": "markdown",
      "source": "Влияние цены от удаленности от центра для всех объявлений составляет -0.25, а для объявлений в центре города 0.13. Изменилось направление и значение влияния.",
      "metadata": {}
    },
    {
      "cell_type": "code",
      "source": "df_spb_center.groupby('floor_category').agg({'last_price':['mean', 'median']}).round()",
      "metadata": {},
      "execution_count": 744,
      "outputs": [
        {
          "execution_count": 744,
          "output_type": "execute_result",
          "data": {
            "text/html": [
              "<div>\n",
              "<style scoped>\n",
              "    .dataframe tbody tr th:only-of-type {\n",
              "        vertical-align: middle;\n",
              "    }\n",
              "\n",
              "    .dataframe tbody tr th {\n",
              "        vertical-align: top;\n",
              "    }\n",
              "\n",
              "    .dataframe thead tr th {\n",
              "        text-align: left;\n",
              "    }\n",
              "\n",
              "    .dataframe thead tr:last-of-type th {\n",
              "        text-align: right;\n",
              "    }\n",
              "</style>\n",
              "<table border=\"1\" class=\"dataframe\">\n",
              "  <thead>\n",
              "    <tr>\n",
              "      <th></th>\n",
              "      <th colspan=\"2\" halign=\"left\">last_price</th>\n",
              "    </tr>\n",
              "    <tr>\n",
              "      <th></th>\n",
              "      <th>mean</th>\n",
              "      <th>median</th>\n",
              "    </tr>\n",
              "    <tr>\n",
              "      <th>floor_category</th>\n",
              "      <th></th>\n",
              "      <th></th>\n",
              "    </tr>\n",
              "  </thead>\n",
              "  <tbody>\n",
              "    <tr>\n",
              "      <th>другой</th>\n",
              "      <td>16185405.0</td>\n",
              "      <td>9992000.0</td>\n",
              "    </tr>\n",
              "    <tr>\n",
              "      <th>первый</th>\n",
              "      <td>9140960.0</td>\n",
              "      <td>6925000.0</td>\n",
              "    </tr>\n",
              "    <tr>\n",
              "      <th>последний</th>\n",
              "      <td>14887257.0</td>\n",
              "      <td>9400000.0</td>\n",
              "    </tr>\n",
              "  </tbody>\n",
              "</table>\n",
              "</div>"
            ],
            "text/plain": [
              "                last_price           \n",
              "                      mean     median\n",
              "floor_category                       \n",
              "другой          16185405.0  9992000.0\n",
              "первый           9140960.0  6925000.0\n",
              "последний       14887257.0  9400000.0"
            ]
          },
          "metadata": {}
        }
      ]
    },
    {
      "cell_type": "code",
      "source": "df_spb_center.groupby('floor_category').agg({'last_price':['mean', 'median']}).plot()",
      "metadata": {},
      "execution_count": 745,
      "outputs": [
        {
          "execution_count": 745,
          "output_type": "execute_result",
          "data": {
            "text/plain": [
              "<AxesSubplot:xlabel='floor_category'>"
            ]
          },
          "metadata": {}
        },
        {
          "output_type": "display_data",
          "data": {
            "image/png": "[encoded data removed]",
            "text/plain": [
              "<Figure size 432x288 with 1 Axes>"
            ]
          },
          "metadata": {
            "needs_background": "light"
          }
        }
      ]
    },
    {
      "cell_type": "markdown",
      "source": "Как и для всех объявлений, так и для объявлений в центре Санкт-Петербурга, этаж квартиры влияет на ее цену. На первом этаже цена ниже, чем на остальных. На этаж со второго до предпоследнего средняя цена самая высокая.",
      "metadata": {}
    },
    {
      "cell_type": "code",
      "source": "df_spb_center.groupby('weekday').agg({'last_price':['mean', 'median']}).round()",
      "metadata": {},
      "execution_count": 746,
      "outputs": [
        {
          "execution_count": 746,
          "output_type": "execute_result",
          "data": {
            "text/html": [
              "<div>\n",
              "<style scoped>\n",
              "    .dataframe tbody tr th:only-of-type {\n",
              "        vertical-align: middle;\n",
              "    }\n",
              "\n",
              "    .dataframe tbody tr th {\n",
              "        vertical-align: top;\n",
              "    }\n",
              "\n",
              "    .dataframe thead tr th {\n",
              "        text-align: left;\n",
              "    }\n",
              "\n",
              "    .dataframe thead tr:last-of-type th {\n",
              "        text-align: right;\n",
              "    }\n",
              "</style>\n",
              "<table border=\"1\" class=\"dataframe\">\n",
              "  <thead>\n",
              "    <tr>\n",
              "      <th></th>\n",
              "      <th colspan=\"2\" halign=\"left\">last_price</th>\n",
              "    </tr>\n",
              "    <tr>\n",
              "      <th></th>\n",
              "      <th>mean</th>\n",
              "      <th>median</th>\n",
              "    </tr>\n",
              "    <tr>\n",
              "      <th>weekday</th>\n",
              "      <th></th>\n",
              "      <th></th>\n",
              "    </tr>\n",
              "  </thead>\n",
              "  <tbody>\n",
              "    <tr>\n",
              "      <th>0</th>\n",
              "      <td>14264453.0</td>\n",
              "      <td>9500000.0</td>\n",
              "    </tr>\n",
              "    <tr>\n",
              "      <th>1</th>\n",
              "      <td>16254174.0</td>\n",
              "      <td>9595000.0</td>\n",
              "    </tr>\n",
              "    <tr>\n",
              "      <th>2</th>\n",
              "      <td>15451404.0</td>\n",
              "      <td>10000000.0</td>\n",
              "    </tr>\n",
              "    <tr>\n",
              "      <th>3</th>\n",
              "      <td>16178282.0</td>\n",
              "      <td>9500000.0</td>\n",
              "    </tr>\n",
              "    <tr>\n",
              "      <th>4</th>\n",
              "      <td>13594550.0</td>\n",
              "      <td>9200000.0</td>\n",
              "    </tr>\n",
              "    <tr>\n",
              "      <th>5</th>\n",
              "      <td>9989998.0</td>\n",
              "      <td>8250000.0</td>\n",
              "    </tr>\n",
              "    <tr>\n",
              "      <th>6</th>\n",
              "      <td>15205831.0</td>\n",
              "      <td>9290000.0</td>\n",
              "    </tr>\n",
              "  </tbody>\n",
              "</table>\n",
              "</div>"
            ],
            "text/plain": [
              "         last_price            \n",
              "               mean      median\n",
              "weekday                        \n",
              "0        14264453.0   9500000.0\n",
              "1        16254174.0   9595000.0\n",
              "2        15451404.0  10000000.0\n",
              "3        16178282.0   9500000.0\n",
              "4        13594550.0   9200000.0\n",
              "5         9989998.0   8250000.0\n",
              "6        15205831.0   9290000.0"
            ]
          },
          "metadata": {}
        }
      ]
    },
    {
      "cell_type": "code",
      "source": "df_spb_center.groupby('weekday').agg({'last_price':['mean', 'median']}).plot()",
      "metadata": {},
      "execution_count": 747,
      "outputs": [
        {
          "execution_count": 747,
          "output_type": "execute_result",
          "data": {
            "text/plain": [
              "<AxesSubplot:xlabel='weekday'>"
            ]
          },
          "metadata": {}
        },
        {
          "output_type": "display_data",
          "data": {
            "image/png": "[encoded data removed]",
            "text/plain": [
              "<Figure size 432x288 with 1 Axes>"
            ]
          },
          "metadata": {
            "needs_background": "light"
          }
        }
      ]
    },
    {
      "cell_type": "markdown",
      "source": "Общая зависимость цены от дня недели не изменилась. Однако спад цены квартиры, если объявление публиковалось в субботу более заметен. В начале недели цены выше, чем в конце\n",
      "metadata": {}
    },
    {
      "cell_type": "code",
      "source": "df_spb_center.groupby('month').agg({'last_price':['mean', 'median']}).round()",
      "metadata": {},
      "execution_count": 748,
      "outputs": [
        {
          "execution_count": 748,
          "output_type": "execute_result",
          "data": {
            "text/html": [
              "<div>\n",
              "<style scoped>\n",
              "    .dataframe tbody tr th:only-of-type {\n",
              "        vertical-align: middle;\n",
              "    }\n",
              "\n",
              "    .dataframe tbody tr th {\n",
              "        vertical-align: top;\n",
              "    }\n",
              "\n",
              "    .dataframe thead tr th {\n",
              "        text-align: left;\n",
              "    }\n",
              "\n",
              "    .dataframe thead tr:last-of-type th {\n",
              "        text-align: right;\n",
              "    }\n",
              "</style>\n",
              "<table border=\"1\" class=\"dataframe\">\n",
              "  <thead>\n",
              "    <tr>\n",
              "      <th></th>\n",
              "      <th colspan=\"2\" halign=\"left\">last_price</th>\n",
              "    </tr>\n",
              "    <tr>\n",
              "      <th></th>\n",
              "      <th>mean</th>\n",
              "      <th>median</th>\n",
              "    </tr>\n",
              "    <tr>\n",
              "      <th>month</th>\n",
              "      <th></th>\n",
              "      <th></th>\n",
              "    </tr>\n",
              "  </thead>\n",
              "  <tbody>\n",
              "    <tr>\n",
              "      <th>1</th>\n",
              "      <td>18043363.0</td>\n",
              "      <td>11000000.0</td>\n",
              "    </tr>\n",
              "    <tr>\n",
              "      <th>2</th>\n",
              "      <td>14203344.0</td>\n",
              "      <td>9500000.0</td>\n",
              "    </tr>\n",
              "    <tr>\n",
              "      <th>3</th>\n",
              "      <td>15649546.0</td>\n",
              "      <td>9650000.0</td>\n",
              "    </tr>\n",
              "    <tr>\n",
              "      <th>4</th>\n",
              "      <td>17631837.0</td>\n",
              "      <td>9175000.0</td>\n",
              "    </tr>\n",
              "    <tr>\n",
              "      <th>5</th>\n",
              "      <td>11803138.0</td>\n",
              "      <td>9270000.0</td>\n",
              "    </tr>\n",
              "    <tr>\n",
              "      <th>6</th>\n",
              "      <td>12773413.0</td>\n",
              "      <td>9440000.0</td>\n",
              "    </tr>\n",
              "    <tr>\n",
              "      <th>7</th>\n",
              "      <td>13804464.0</td>\n",
              "      <td>9725000.0</td>\n",
              "    </tr>\n",
              "    <tr>\n",
              "      <th>8</th>\n",
              "      <td>16285556.0</td>\n",
              "      <td>8700000.0</td>\n",
              "    </tr>\n",
              "    <tr>\n",
              "      <th>9</th>\n",
              "      <td>14377207.0</td>\n",
              "      <td>10175000.0</td>\n",
              "    </tr>\n",
              "    <tr>\n",
              "      <th>10</th>\n",
              "      <td>12592059.0</td>\n",
              "      <td>8990000.0</td>\n",
              "    </tr>\n",
              "    <tr>\n",
              "      <th>11</th>\n",
              "      <td>14053664.0</td>\n",
              "      <td>8580000.0</td>\n",
              "    </tr>\n",
              "    <tr>\n",
              "      <th>12</th>\n",
              "      <td>16851059.0</td>\n",
              "      <td>9300000.0</td>\n",
              "    </tr>\n",
              "  </tbody>\n",
              "</table>\n",
              "</div>"
            ],
            "text/plain": [
              "       last_price            \n",
              "             mean      median\n",
              "month                        \n",
              "1      18043363.0  11000000.0\n",
              "2      14203344.0   9500000.0\n",
              "3      15649546.0   9650000.0\n",
              "4      17631837.0   9175000.0\n",
              "5      11803138.0   9270000.0\n",
              "6      12773413.0   9440000.0\n",
              "7      13804464.0   9725000.0\n",
              "8      16285556.0   8700000.0\n",
              "9      14377207.0  10175000.0\n",
              "10     12592059.0   8990000.0\n",
              "11     14053664.0   8580000.0\n",
              "12     16851059.0   9300000.0"
            ]
          },
          "metadata": {}
        }
      ]
    },
    {
      "cell_type": "code",
      "source": "df_spb_center.groupby('month').agg({'last_price':['mean', 'median']}).plot()",
      "metadata": {},
      "execution_count": 749,
      "outputs": [
        {
          "execution_count": 749,
          "output_type": "execute_result",
          "data": {
            "text/plain": [
              "<AxesSubplot:xlabel='month'>"
            ]
          },
          "metadata": {}
        },
        {
          "output_type": "display_data",
          "data": {
            "image/png": "[encoded data removed]",
            "text/plain": [
              "<Figure size 432x288 with 1 Axes>"
            ]
          },
          "metadata": {
            "needs_background": "light"
          }
        }
      ]
    },
    {
      "cell_type": "markdown",
      "source": "Цена квартиры в центре Санкт-Петербурга отличается в зависимости от месяца публикации объвления. Самые высокие цены в январе и сентябре.\nДля всех объвлений самие высокие цены на квартиры в марте и апреле.",
      "metadata": {}
    },
    {
      "cell_type": "code",
      "source": "df_spb_center.groupby('year').agg({'last_price':['mean', 'median']}).round()",
      "metadata": {},
      "execution_count": 750,
      "outputs": [
        {
          "execution_count": 750,
          "output_type": "execute_result",
          "data": {
            "text/html": [
              "<div>\n",
              "<style scoped>\n",
              "    .dataframe tbody tr th:only-of-type {\n",
              "        vertical-align: middle;\n",
              "    }\n",
              "\n",
              "    .dataframe tbody tr th {\n",
              "        vertical-align: top;\n",
              "    }\n",
              "\n",
              "    .dataframe thead tr th {\n",
              "        text-align: left;\n",
              "    }\n",
              "\n",
              "    .dataframe thead tr:last-of-type th {\n",
              "        text-align: right;\n",
              "    }\n",
              "</style>\n",
              "<table border=\"1\" class=\"dataframe\">\n",
              "  <thead>\n",
              "    <tr>\n",
              "      <th></th>\n",
              "      <th colspan=\"2\" halign=\"left\">last_price</th>\n",
              "    </tr>\n",
              "    <tr>\n",
              "      <th></th>\n",
              "      <th>mean</th>\n",
              "      <th>median</th>\n",
              "    </tr>\n",
              "    <tr>\n",
              "      <th>year</th>\n",
              "      <th></th>\n",
              "      <th></th>\n",
              "    </tr>\n",
              "  </thead>\n",
              "  <tbody>\n",
              "    <tr>\n",
              "      <th>2014</th>\n",
              "      <td>34399070.0</td>\n",
              "      <td>27250000.0</td>\n",
              "    </tr>\n",
              "    <tr>\n",
              "      <th>2015</th>\n",
              "      <td>19395646.0</td>\n",
              "      <td>10770000.0</td>\n",
              "    </tr>\n",
              "    <tr>\n",
              "      <th>2016</th>\n",
              "      <td>13065351.0</td>\n",
              "      <td>9775000.0</td>\n",
              "    </tr>\n",
              "    <tr>\n",
              "      <th>2017</th>\n",
              "      <td>14146116.0</td>\n",
              "      <td>8900000.0</td>\n",
              "    </tr>\n",
              "    <tr>\n",
              "      <th>2018</th>\n",
              "      <td>13673994.0</td>\n",
              "      <td>9350000.0</td>\n",
              "    </tr>\n",
              "    <tr>\n",
              "      <th>2019</th>\n",
              "      <td>16961992.0</td>\n",
              "      <td>10424000.0</td>\n",
              "    </tr>\n",
              "  </tbody>\n",
              "</table>\n",
              "</div>"
            ],
            "text/plain": [
              "      last_price            \n",
              "            mean      median\n",
              "year                        \n",
              "2014  34399070.0  27250000.0\n",
              "2015  19395646.0  10770000.0\n",
              "2016  13065351.0   9775000.0\n",
              "2017  14146116.0   8900000.0\n",
              "2018  13673994.0   9350000.0\n",
              "2019  16961992.0  10424000.0"
            ]
          },
          "metadata": {}
        }
      ]
    },
    {
      "cell_type": "code",
      "source": "df_spb_center.groupby('year').agg({'last_price':['mean', 'median']}).plot()",
      "metadata": {},
      "execution_count": 751,
      "outputs": [
        {
          "execution_count": 751,
          "output_type": "execute_result",
          "data": {
            "text/plain": [
              "<AxesSubplot:xlabel='year'>"
            ]
          },
          "metadata": {}
        },
        {
          "output_type": "display_data",
          "data": {
            "image/png": "[encoded data removed]",
            "text/plain": [
              "<Figure size 432x288 with 1 Axes>"
            ]
          },
          "metadata": {
            "needs_background": "light"
          }
        }
      ]
    },
    {
      "cell_type": "markdown",
      "source": "Зависимость цены квартиры в центре Санкт-Петербурга от года публикации также есть. В 2014 году средняя цена была выше, чем в последующих. В 2019 году цены увеличились. Такая же зависимость прослеживается и для цен на квартиры во всех объявлениях (во всем Санкт-Петербурге и близлежащих населенных пунктах). ",
      "metadata": {}
    },
    {
      "cell_type": "markdown",
      "source": "## Общий вывод",
      "metadata": {}
    },
    {
      "cell_type": "markdown",
      "source": "Цена на картиры в Санкт-Петербурге и соседних населённых пунктах зависит от многих факторов. Установленно, что на стоимость квартиры влияют следующие факторы:\n- площадь квартиры;\n- количество комнат в квартире;\n- этаж;\n- удаленность от центра;\n- дата публикации (день недели, месяц, год).\n\nНаибольшее влияние на цену квартиры оказывает ее площадь (чем больше площадь квартиры, тем выше ее цена).\nЦена квартиры выше, если в ней больше комнат.\n\nНа первом этаже квартиры дешевле. Самые дорогие - со второго до предпоследнего.\n\nЧем ближе к центру, тем квартиры дороже.\n\nЗависимость цены квартиры от дня публикации прослеживается, однако несильно. Если объявление о квартире публикуется в начале недели, то ее стоимость выше, чем в объявлениях, публикуемых в конце недели. В субботу цены ниже всего. В марте и апреле средняя цена на квартиры выше, чем в остальные месяцы.\n\nВ период с 2014 по 2018 годы наблюдается спад стоимости квартир. Однако в 2019 году цены заметно подорожали, по сравнению с периодом 2016-2018 годов.\n",
      "metadata": {}
    }
  ]
}